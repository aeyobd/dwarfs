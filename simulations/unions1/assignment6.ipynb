{
 "cells": [
  {
   "cell_type": "markdown",
   "id": "0",
   "metadata": {
    "tags": []
   },
   "source": [
    "# Assignment 7\n",
    "Daniel Boyea | Astronomy 507 | 22 March 2024\n",
    "\n",
    "Here is my assignment. Since this is very similar to the procedure for my thesis, I did not use Sangiovese but instead COSMA (in Durham) for the simulation so others could use that resource. Also, my code / setup is slightly different than Rapha's so hopefully this is okay but I understand if you would like any additional files or have any questions.\n",
    "\n",
    "I keep each model in a seperate directory structured as follows. The output of the shrinking spheres model is in \"centres.csv\" as a table with positions, velocities, and times for each snapshot. The snapshots are instead in \"out\".\n",
    "\n",
    "For this assignment, I did run simulations with different initial masses attempting to create models with different survivale times. I also calculated the circular orbit and run that model."
   ]
  },
  {
   "cell_type": "code",
   "execution_count": null,
   "id": "1",
   "metadata": {},
   "outputs": [],
   "source": [
    "import h5py\n",
    "import numpy as np\n",
    "import pandas as pd\n",
    "import matplotlib.pyplot as plt\n",
    "import matplotlib as mpl\n",
    "\n",
    "from glob import glob as glob"
   ]
  },
  {
   "cell_type": "code",
   "execution_count": null,
   "id": "2",
   "metadata": {
    "tags": []
   },
   "outputs": [],
   "source": [
    "# all of these are just figure aesthetics...\n",
    "COLORS = [\"#0173b2\", \"#de8f05\", \"#029e73\", \"#d55e00\", \"#cc78bc\", \"#ca9161\", \"#fbafe4\", \"#949494\", \"#ece133\", \"#56b4e9\"]\n",
    "plt.style.use(\"journal.mplstyle\")\n",
    "plt.rcParams['axes.prop_cycle'] = mpl.cycler(color=COLORS)\n",
    "rcParams = plt.rcParams\n",
    "rcParams[\"figure.dpi\"] = 200\n",
    "rcParams[\"pdf.fonttype\"] = 42\n",
    "\n",
    "rcParams[\"text.usetex\"] = True\n",
    "rcParams[\"mathtext.fontset\"] = \"custom\"\n",
    "rcParams[\"text.latex.preamble\"] = \"\\\\usepackage{amsmath} \\\\usepackage{txfonts} \\\\usepackage[T1]{fontenc}\"\n",
    "rcParams[\"axes.formatter.use_mathtext\"] = True\n",
    "rcParams[\"font.family\"] = \"serif\"\n",
    "rcParams[\"text.antialiased\"] = True\n",
    "\n",
    "lw= 1\n",
    "ms = 2\n",
    "L = 10/3\n",
    "l = L/2\n",
    "rcParams[\"lines.linewidth\"] = lw\n",
    "rcParams[\"lines.markersize\"] = ms\n",
    "rcParams[\"axes.linewidth\"] = lw\n",
    "rcParams[\"xtick.major.width\"] = lw\n",
    "rcParams[\"ytick.major.width\"] = lw\n",
    "rcParams[\"xtick.minor.width\"] = lw/2\n",
    "rcParams[\"ytick.minor.width\"] = lw/2\n",
    "\n",
    "rcParams[\"xtick.major.size\"] = L\n",
    "rcParams[\"ytick.major.size\"] = L\n",
    "rcParams[\"xtick.minor.size\"] = l\n",
    "rcParams[\"ytick.minor.size\"] = l\n",
    "rcParams[\"xtick.direction\"] = \"in\"\n",
    "rcParams[\"ytick.direction\"] = \"in\"\n",
    "rcParams[\"xtick.top\"] = True\n",
    "rcParams[\"ytick.right\"] = True\n",
    "rcParams[\"xtick.minor.visible\"] = True\n",
    "rcParams[\"ytick.minor.visible\"] = True\n",
    "rcParams[\"xtick.minor.top\"] = True"
   ]
  },
  {
   "cell_type": "code",
   "execution_count": null,
   "id": "3",
   "metadata": {},
   "outputs": [],
   "source": [
    "# unit system\n",
    "R0 = 1 # kpc\n",
    "V0 = 207.4 # u.km/u.s\n",
    "T0 = 4.718e-3 # u.Gyr\n",
    "M0 = 1e10 # u.Msun"
   ]
  },
  {
   "cell_type": "code",
   "execution_count": null,
   "id": "4",
   "metadata": {},
   "outputs": [],
   "source": [
    "def get_N_snapshots(directory):\n",
    "    \"\"\"returns the number of snapshots in directory/out\"\"\"\n",
    "    return len(glob(directory + \"/out/snapshot*.hdf5\"))"
   ]
  },
  {
   "cell_type": "code",
   "execution_count": null,
   "id": "5",
   "metadata": {},
   "outputs": [],
   "source": [
    "def get_radii(snap, centre=np.zeros(3)):\n",
    "    \"\"\"returns the radius of each particle in a snapshot optionally with a given centre\"\"\"\n",
    "    dx = get_positions(snap) - centre.reshape((-1, 1))\n",
    "    return np.sqrt(np.sum(dx**2, axis=0))\n",
    "\n",
    "def get_positions(snap):\n",
    "    \"\"\"returns the positions of each particle in the snapshot as a np.array\"\"\"\n",
    "    return np.array(snap[\"PartType1/Coordinates\"]).transpose()\n",
    "\n",
    "def get_snap_name(directory, i):\n",
    "    \"\"\"returns the name of the ith snapshot in the given model directory\"\"\"\n",
    "    return directory + f\"/out/snapshot_{str(i).zfill(3)}.hdf5\"\n",
    "\n",
    "def get_snap(filename):\n",
    "    \"\"\"Returns the hdf5 file from a given filename\"\"\"\n",
    "    F = h5py.File(filename, \"r\")\n",
    "    return F\n",
    "\n",
    "def get_part_mass(directory):\n",
    "    \"\"\"Returns the mass of a particle from the given model directory (assuming equal, constant masses)\"\"\"\n",
    "    F = get_snap(get_snap_name(directory, 0))\n",
    "    m = F[\"PartType1/Masses\"][0]\n",
    "    return m"
   ]
  },
  {
   "cell_type": "code",
   "execution_count": null,
   "id": "6",
   "metadata": {},
   "outputs": [],
   "source": [
    "def get_centres(directory):\n",
    "    \"\"\" returns the file containing the centres from the directory \"\"\"\n",
    "    return pd.read_csv(directory + \"/centres.csv\")\n",
    "\n",
    "def get_x_cen(directory):\n",
    "    \"\"\"Returns a np array of the centres of the snapshots\"\"\"\n",
    "    cens = get_centres(directory)\n",
    "    return np.array([cens.x, cens.y, cens.z])"
   ]
  },
  {
   "cell_type": "code",
   "execution_count": null,
   "id": "7",
   "metadata": {},
   "outputs": [],
   "source": [
    "def calc_M_inside(directory, radius=0.010):\n",
    "    \"\"\"Calculates the total inside the given radius for each snapshot in the directory\"\"\"\n",
    "    centres = get_x_cen(directory)\n",
    "    N = get_N_snapshots(directory)\n",
    "    Mins = np.zeros(N)\n",
    "    m = get_part_mass(directory)\n",
    "    \n",
    "    for i in range(N):\n",
    "        filename = get_snap_name(directory, i)\n",
    "        snap = get_snap(filename)\n",
    "\n",
    "        rs = get_radii(snap, centres[:, i])\n",
    "        count = np.sum(rs < radius)\n",
    "        Mins[i] = count * m\n",
    "        \n",
    "    return Mins"
   ]
  },
  {
   "cell_type": "markdown",
   "id": "8",
   "metadata": {},
   "source": [
    "## The circular model\n",
    "Since we can determine the acceleration of the initial snapshot, and $v_{\\rm circ} = \\sqrt{G M /r} = \\sqrt{a_{\\rm G}*r}$, we can get the magnitude of the circular velocity, then project this onto the current tangent vector of the present velocity."
   ]
  },
  {
   "cell_type": "code",
   "execution_count": null,
   "id": "9",
   "metadata": {},
   "outputs": [],
   "source": [
    "snap_i = get_snap(\"orbit1/out/snapshot_000.hdf5\")"
   ]
  },
  {
   "cell_type": "code",
   "execution_count": null,
   "id": "10",
   "metadata": {},
   "outputs": [],
   "source": [
    "acceleration = np.mean(snap_i[\"PartType1/Acceleration\"], axis=0)\n",
    "x = np.mean(snap_i[\"PartType1/Coordinates\"], axis=0)\n",
    "v = np.mean(snap_i[\"PartType1/Velocities\"], axis=0)\n",
    "\n",
    "a = np.sqrt(np.sum(acceleration**2))\n",
    "r = np.sqrt(np.sum(x**2))"
   ]
  },
  {
   "cell_type": "code",
   "execution_count": null,
   "id": "11",
   "metadata": {},
   "outputs": [],
   "source": [
    "v_circ = np.sqrt(r * a)\n",
    "print(v_circ * V0)\n",
    "\n",
    "v_t = v - np.dot(v, x) * x/ r**2\n",
    "v_ini = v_t / np.sqrt(np.sum(v_t**2)) * v_circ"
   ]
  },
  {
   "cell_type": "code",
   "execution_count": null,
   "id": "12",
   "metadata": {},
   "outputs": [],
   "source": [
    "print(\"initial velocity: \", v_ini * V0)"
   ]
  },
  {
   "cell_type": "markdown",
   "id": "13",
   "metadata": {},
   "source": [
    "Unsurprizingly, the circular velocity is about that at the local standard of rest for the Milky Way. "
   ]
  },
  {
   "cell_type": "markdown",
   "id": "14",
   "metadata": {},
   "source": [
    "## Orbital planes"
   ]
  },
  {
   "cell_type": "code",
   "execution_count": null,
   "id": "15",
   "metadata": {},
   "outputs": [],
   "source": [
    "cen1 = get_centres(\"orbit1\")\n",
    "cenc = get_centres(\"orbitc\")\n",
    "\n",
    "r = np.sqrt(cen1.x**2 + cen1.y**2 + cen1.z**2)\n",
    "plt.plot(cen1.t, r, label=\"normal\")\n",
    "\n",
    "r = np.sqrt(cenc.x**2 + cenc.y**2 + cenc.z**2)\n",
    "plt.plot(cenc.t, r, label=\"circular\")\n",
    "\n",
    "\n",
    "plt.xlabel(\"t / Gyr\")\n",
    "plt.ylabel(\"radius / kpc\")\n",
    "plt.legend(loc=\"upper left\", bbox_to_anchor=(1, 1)) # outside legend\n"
   ]
  },
  {
   "cell_type": "markdown",
   "id": "16",
   "metadata": {},
   "source": [
    "the orbit Rapha gave has a pericentre of about 14 and apocentre of 30 kpc. The circular orbit is not perfect but is close to the same radius throughout."
   ]
  },
  {
   "cell_type": "code",
   "execution_count": null,
   "id": "17",
   "metadata": {},
   "outputs": [],
   "source": [
    "x_1 = get_x_cen(\"orbit1\")\n",
    "x_c = get_x_cen(\"orbitc\")\n",
    "\n",
    "plt.plot(x_1[0, :], x_1[1, :], label=\"normal\")\n",
    "plt.plot(x_c[0, :], x_c[1, :], label=\"circular orbit\")\n",
    "plt.xlabel(\"x / kpc\")\n",
    "plt.ylabel(\"y / kpc\")\n",
    "plt.legend(loc=\"upper left\", bbox_to_anchor=(1, 1)) # outside legend\n",
    "\n",
    "plt.show()\n",
    "\n",
    "plt.plot(x_1[1, :], x_1[2, :], label=\"normal\")\n",
    "plt.plot(x_c[1, :], x_c[2, :], label=\"circular orbit\")\n",
    "plt.xlabel(\"y / kpc\")\n",
    "plt.ylabel(\"z / kpc\")\n",
    "plt.show()\n",
    "\n",
    "plt.plot(x_1[2, :], x_1[0, :], label=\"normal\")\n",
    "plt.plot(x_c[2, :], x_c[0, :], label=\"circular orbit\")\n",
    "plt.xlabel(\"z / kpc\")\n",
    "plt.ylabel(\"x / kpc\")\n",
    "\n"
   ]
  },
  {
   "cell_type": "markdown",
   "id": "18",
   "metadata": {},
   "source": [
    "the circular orbit processes and moves quite a bit in z (especially as z is fairly high initially). However, plotting the orbit in the R-z (polar) coordinates reveals that the orbit is quite circular in this projection."
   ]
  },
  {
   "cell_type": "code",
   "execution_count": null,
   "id": "19",
   "metadata": {},
   "outputs": [],
   "source": [
    "plt.subplot(aspect=1)\n",
    "R = np.sqrt(x_1[0, :]**2 + x_1[1, :]**2)\n",
    "plt.plot(R, x_1[2, :], label=\"normal\")\n",
    "R = np.sqrt(x_c[0, :]**2 + x_c[1, :]**2)\n",
    "plt.plot(R, x_c[2, :], label=\"circular orbit\")\n",
    "plt.xlabel(\"R / kpc\")\n",
    "plt.ylabel(\"z / kpc\")\n",
    "plt.legend(loc=\"upper left\", bbox_to_anchor=(1, 1)) # outside legend\n",
    "plt.xlim(0, 40)"
   ]
  },
  {
   "cell_type": "markdown",
   "id": "20",
   "metadata": {},
   "source": [
    "# Mass Evoltuion"
   ]
  },
  {
   "cell_type": "code",
   "execution_count": null,
   "id": "21",
   "metadata": {},
   "outputs": [],
   "source": [
    "directories = [\"orbit1\", \"orbit2\", \"orbit4\", \"orbit5\"]\n",
    "labels = [16, 80, 120, 140]\n",
    "directory_c = \"orbitc\""
   ]
  },
  {
   "cell_type": "code",
   "execution_count": null,
   "id": "22",
   "metadata": {},
   "outputs": [],
   "source": [
    "for i in range(len(directories)):\n",
    "    Ms = calc_M_inside(directories[i])\n",
    "    cen = get_centres(directories[i])\n",
    "    plt.plot(cen.t * T0, Ms * M0, label=f\"M0 = {labels[i]}\")\n",
    "    \n",
    "Ms = calc_M_inside(\"orbitc\")\n",
    "cen = get_centres(\"orbitc\")\n",
    "plt.plot(cen.t * T0, Ms * M0, label=\"circular\", ls=\"--\")\n",
    "plt.legend(loc=\"upper left\", bbox_to_anchor=(1, 1)) # outside legend\n",
    "plt.xlabel(\"time / Gyr\")\n",
    "plt.ylabel(r\"mass ($M_\\odot$) within 10 pc \")\n",
    "plt.yscale(\"log\")\n",
    "plt.ylim(10**-1)"
   ]
  },
  {
   "cell_type": "code",
   "execution_count": null,
   "id": "23",
   "metadata": {},
   "outputs": [],
   "source": [
    "for i in range(len(directories)):\n",
    "    Ms = calc_M_inside(directories[i])\n",
    "    cen = get_centres(directories[i])\n",
    "    plt.plot(cen.t * T0, Ms / Ms[0], label=f\"M0 = {labels[i]}\")\n",
    "    \n",
    "Ms = calc_M_inside(\"orbitc\")\n",
    "cen = get_centres(\"orbitc\")\n",
    "plt.plot(cen.t * T0, Ms / Ms[0], label=\"circular\", ls=\"--\")\n",
    "\n",
    "\n",
    "plt.legend(loc=\"upper left\", bbox_to_anchor=(1, 1)) # outside legend\n",
    "plt.xlabel(\"time / Gyr\")\n",
    "plt.ylabel(\"fraction within 10pc\")\n",
    "plt.axhline(1/np.exp(1), color=\"k\", ls=\":\")"
   ]
  },
  {
   "cell_type": "markdown",
   "id": "24",
   "metadata": {},
   "source": [
    "To spare computer resources, I did not tune the initial masses very well. As we discussed in class, a remaining fraction of 1/e to characterize the disruption timescale. The 16 solar mass model disrupts rapidly in < 500Myr, irregardless of if the orbit is circular or not. However, the circular orbit has a much more continuous mass loss rate. The 80, 120, and 140 solar mass models instead has disruption timescales around 3, 7, and 10Gyrs. The 10Gyr model's mass drops to zero as the shirnking sphere's centres stop working as well (see last plot)."
   ]
  },
  {
   "cell_type": "code",
   "execution_count": null,
   "id": "25",
   "metadata": {},
   "outputs": [],
   "source": [
    "def plot_snap(directory, i, s=1, alpha=0.05):\n",
    "    pos = get_positions(get_snap(get_snap_name(directory, i)))\n",
    "    cen = get_x_cen(directory)\n",
    "    plt.scatter(pos[0, :], pos[1, :], s=s, alpha=alpha)\n",
    "    plt.scatter(cen[0, i], cen[1, i])\n",
    "    radius = 0.01\n",
    "    t = np.linspace(0, 2*np.pi, 1000)\n",
    "    plt.plot(cen[0, i] + radius * np.cos(t), cen[1, i]  + radius* np.sin(t), color=\"k\")\n",
    "    plt.xlabel(\"x / kpc\")\n",
    "    plt.ylabel(\"y / kpc\")"
   ]
  },
  {
   "cell_type": "markdown",
   "id": "26",
   "metadata": {},
   "source": [
    "# Some orbit plots\n",
    "the circles represent the 10 pc region used to characterized the remaining mass. The orange dot is the circle."
   ]
  },
  {
   "cell_type": "code",
   "execution_count": null,
   "id": "27",
   "metadata": {},
   "outputs": [],
   "source": [
    "plot_snap(\"orbit1/\", 0)"
   ]
  },
  {
   "cell_type": "markdown",
   "id": "28",
   "metadata": {},
   "source": [
    "Initially a smooth, exponential, spherical profile."
   ]
  },
  {
   "cell_type": "code",
   "execution_count": null,
   "id": "29",
   "metadata": {},
   "outputs": [],
   "source": [
    "plot_snap(\"orbit1/\", 100)\n"
   ]
  },
  {
   "cell_type": "markdown",
   "id": "30",
   "metadata": {},
   "source": [
    "Some development of tidal tales"
   ]
  },
  {
   "cell_type": "code",
   "execution_count": null,
   "id": "31",
   "metadata": {},
   "outputs": [],
   "source": [
    "plot_snap(\"orbit1/\", 200)"
   ]
  },
  {
   "cell_type": "code",
   "execution_count": null,
   "id": "32",
   "metadata": {},
   "outputs": [],
   "source": [
    "plot_snap(\"orbit1/\", 300)"
   ]
  },
  {
   "cell_type": "markdown",
   "id": "33",
   "metadata": {},
   "source": [
    "Bifurcation!"
   ]
  },
  {
   "cell_type": "code",
   "execution_count": null,
   "id": "34",
   "metadata": {},
   "outputs": [],
   "source": [
    "plot_snap(\"orbit5/\", 2300, s=0.1)"
   ]
  },
  {
   "cell_type": "markdown",
   "id": "35",
   "metadata": {},
   "source": [
    "A plot of the 140 initial mass model. At the end of the simulation, the centre is slightly off from the true centre. "
   ]
  }
 ],
 "metadata": {
  "kernelspec": {
   "display_name": "Python 3 (ipykernel)",
   "language": "python",
   "name": "python3"
  },
  "language_info": {
   "codemirror_mode": {
    "name": "ipython",
    "version": 3
   },
   "file_extension": ".py",
   "mimetype": "text/x-python",
   "name": "python",
   "nbconvert_exporter": "python",
   "pygments_lexer": "ipython3",
   "version": "3.6.5"
  }
 },
 "nbformat": 4,
 "nbformat_minor": 5
}
