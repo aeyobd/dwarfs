{
 "cells": [
  {
   "cell_type": "code",
   "execution_count": null,
   "id": "0",
   "metadata": {},
   "outputs": [],
   "source": [
    "import h5py\n",
    "import numpy as np\n",
    "import pandas as pd\n",
    "import matplotlib.pyplot as plt\n",
    "\n",
    "from glob import glob as glob"
   ]
  },
  {
   "cell_type": "code",
   "execution_count": null,
   "id": "1",
   "metadata": {},
   "outputs": [],
   "source": [
    "import astropy.units as u"
   ]
  },
  {
   "cell_type": "code",
   "execution_count": null,
   "id": "2",
   "metadata": {},
   "outputs": [],
   "source": [
    "# unit system\n",
    "R0 = 1 * u.kpc\n",
    "V0 = 207.4 * u.km/u.s\n",
    "T0 = 4.718e-3 * u.Gyr\n",
    "M0 = 1e10 * u.Msun"
   ]
  },
  {
   "cell_type": "code",
   "execution_count": null,
   "id": "3",
   "metadata": {},
   "outputs": [],
   "source": [
    "def get_N_snapshots(directory):\n",
    "    \"\"\"returns the number of snapshots in the directory\"\"\"\n",
    "    return len(glob(directory + \"/out/snapshot*.hdf5\"))"
   ]
  },
  {
   "cell_type": "code",
   "execution_count": null,
   "id": "4",
   "metadata": {},
   "outputs": [],
   "source": [
    "def get_radii(filename, centre=np.zeros(3)):\n",
    "    snap = get_snap(filename)\n",
    "    dx = get_positions(snap) - centre.reshape((-1, 1))\n",
    "    return np.sqrt(np.sum(dx**2, axis=0))\n",
    "\n",
    "def get_positions(snap):\n",
    "    return np.array(snap[\"PartType1/Coordinates\"]).transpose()\n",
    "\n",
    "def get_snap_name(directory, i):\n",
    "    return directory + f\"/out/snapshot_{str(i).zfill(3)}.hdf5\"\n",
    "\n",
    "def get_snap(filename):\n",
    "    F = h5py.File(filename, \"r\")\n",
    "    return F\n",
    "\n",
    "def get_part_mass(directory):\n",
    "    F = get_snap(get_snap_name(directory, 0))\n",
    "    m = F[\"PartType1/Masses\"][0]\n",
    "    return m"
   ]
  },
  {
   "cell_type": "code",
   "execution_count": null,
   "id": "5",
   "metadata": {},
   "outputs": [],
   "source": [
    "def get_centres(directory):\n",
    "    \"\"\" returns the file containing the centres from the directory \"\"\"\n",
    "    return pd.read_csv(directory + \"/centres.csv\")\n",
    "\n",
    "def get_x_cen(directory):\n",
    "    cens = get_centres(directory)\n",
    "    return np.array([cens.x, cens.y, cens.z])"
   ]
  },
  {
   "cell_type": "code",
   "execution_count": null,
   "id": "6",
   "metadata": {},
   "outputs": [],
   "source": [
    "def calc_M_inside(directory, radius=0.010):\n",
    "    \"\"\"Calculates the M inside the given radius for each snapshot in the directory\"\"\"\n",
    "    centres = get_x_cen(directory)\n",
    "    N = get_N_snapshots(directory)\n",
    "    Mins = np.zeros(N)\n",
    "    m = get_part_mass(directory)\n",
    "    \n",
    "    for i in range(N):\n",
    "        filename = get_snap_name(directory, i)\n",
    "\n",
    "        rs = get_radii(filename, centres[:, i])\n",
    "        count = np.sum(rs < radius)\n",
    "        Mins[i] = count * m\n",
    "        \n",
    "    return Mins"
   ]
  },
  {
   "cell_type": "code",
   "execution_count": null,
   "id": "7",
   "metadata": {},
   "outputs": [],
   "source": [
    "x_c = get_x_cen(\"orbitc\")"
   ]
  },
  {
   "cell_type": "code",
   "execution_count": null,
   "id": "8",
   "metadata": {},
   "outputs": [],
   "source": [
    "plt.plot(x_c[0, :], x_c[1, :])\n",
    "plt.xlabel(\"x / kpc\")\n",
    "plt.ylabel(\"y / kpc\")"
   ]
  },
  {
   "cell_type": "code",
   "execution_count": null,
   "id": "9",
   "metadata": {},
   "outputs": [],
   "source": [
    "directories = [\"orbit1\", \"orbit2\", \"orbit4\", \"orbit5\"]\n",
    "labels = [16, 80, 120, 140]\n",
    "directory_c = \"orbitc\""
   ]
  },
  {
   "cell_type": "code",
   "execution_count": null,
   "id": "10",
   "metadata": {},
   "outputs": [],
   "source": [
    "for i in range(len(directories)):\n",
    "    Ms = calc_M_inside(directories[i])\n",
    "    cen = get_centres(directories[i])\n",
    "    plt.plot(cen.t * T0, Ms * M0, label=labels[i])\n",
    "    \n",
    "plt.legend(loc=\"upper left\", bbox_to_anchor=(1, 1)) # outside legend\n",
    "plt.xlabel(\"time / Gyr\")\n",
    "plt.ylabel(\"Mass\")\n",
    "plt.yscale(\"log\")"
   ]
  },
  {
   "cell_type": "code",
   "execution_count": null,
   "id": "11",
   "metadata": {},
   "outputs": [],
   "source": [
    "def plot_snap(directory, i):\n",
    "    pos = get_positions(get_snap_name(directory, i))\n",
    "    cen = get_x_cen(directory)\n",
    "    plt.scatter(pos[0, :], pos[1, :], s=1, alpha=0.1)\n",
    "    plt.scatter(cen[0, i], cen[1, i])\n",
    "    plt.xlabel(\"x / kpc\")\n",
    "    plt.ylabel(\"y / kpc\")"
   ]
  },
  {
   "cell_type": "code",
   "execution_count": null,
   "id": "12",
   "metadata": {},
   "outputs": [],
   "source": [
    "plot_snap(\"orbit1/\", 300)"
   ]
  },
  {
   "cell_type": "code",
   "execution_count": null,
   "id": "13",
   "metadata": {},
   "outputs": [],
   "source": []
  }
 ],
 "metadata": {
  "kernelspec": {
   "display_name": "Python 3 (ipykernel)",
   "language": "python",
   "name": "python3"
  },
  "language_info": {
   "codemirror_mode": {
    "name": "ipython",
    "version": 3
   },
   "file_extension": ".py",
   "mimetype": "text/x-python",
   "name": "python",
   "nbconvert_exporter": "python",
   "pygments_lexer": "ipython3",
   "version": "3.6.5"
  }
 },
 "nbformat": 4,
 "nbformat_minor": 5
}
