{
 "cells": [
  {
   "cell_type": "code",
   "execution_count": 1,
   "id": "5e5723ef-fac1-444a-8423-f37b9b6f8a79",
   "metadata": {},
   "outputs": [],
   "source": [
    "import Agama"
   ]
  },
  {
   "cell_type": "code",
   "execution_count": 2,
   "id": "7e097811-586f-42a5-bd08-1f3c7aefa4a4",
   "metadata": {},
   "outputs": [],
   "source": [
    "using LilGuys\n",
    "#using Arya\n",
    "using CairoMakie\n",
    "\n",
    "#import Agama\n",
    "using CSV, DataFrames"
   ]
  },
  {
   "cell_type": "code",
   "execution_count": 3,
   "id": "a6d3db54-0d57-4cce-ad9e-073e57656e81",
   "metadata": {},
   "outputs": [
    {
     "data": {
      "text/plain": [
       "acceleration (generic function with 1 method)"
      ]
     },
     "execution_count": 3,
     "metadata": {},
     "output_type": "execute_result"
    }
   ],
   "source": [
    "struct Keplerian\n",
    "\tmass::Float64\n",
    "end\n",
    "\n",
    "function acceleration(h::Keplerian, pos::AbstractVector)\n",
    "\tr = radii(pos)\n",
    "\treturn -pos /r * h.mass / r^3\n",
    "end"
   ]
  },
  {
   "cell_type": "code",
   "execution_count": null,
   "id": "b3177277-579a-41b1-bebd-970db4f37c3e",
   "metadata": {},
   "outputs": [],
   "source": []
  }
 ],
 "metadata": {
  "kernelspec": {
   "display_name": "Julia 1.11.6",
   "language": "julia",
   "name": "julia-1.11"
  },
  "language_info": {
   "file_extension": ".jl",
   "mimetype": "application/julia",
   "name": "julia",
   "version": "1.11.6"
  }
 },
 "nbformat": 4,
 "nbformat_minor": 5
}
