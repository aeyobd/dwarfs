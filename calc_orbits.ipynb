{
 "cells": [
  {
   "cell_type": "code",
   "execution_count": 60,
   "id": "46c28c6a-dec3-4cff-b56f-bac6588756a5",
   "metadata": {},
   "outputs": [],
   "source": [
    "import numpy as np\n",
    "import matplotlib.pyplot as plt\n",
    "import matplotlib as mpl\n",
    "import multiprocessing as mp\n",
    "from dataclasses import dataclass\n",
    "from astropy import units as u\n",
    "from astropy.coordinates import SkyCoord, Galactocentric\n",
    "\n",
    "from orbits.integrator import getPeriApoTime, getInjectionCoords, leapfrog"
   ]
  },
  {
   "cell_type": "code",
   "execution_count": 4,
   "id": "868250b8-6fbb-41ed-b77a-84051517b269",
   "metadata": {},
   "outputs": [],
   "source": [
    "gc_frame = Galactocentric(\n",
    "    galcen_distance = 8.29*u.kpc,\n",
    "    z_sun=0*u.pc,\n",
    "    galcen_v_sun = [11.1, 240.3+12.24, 7.25] * (u.km/u.s)\n",
    ")"
   ]
  },
  {
   "cell_type": "code",
   "execution_count": 38,
   "id": "af07bfd2-a819-4be1-8ca6-ed3efee5fe9d",
   "metadata": {},
   "outputs": [],
   "source": [
    "@dataclass\n",
    "class dwarf_obs:\n",
    "    ra: float\n",
    "    dec: float\n",
    "    \n",
    "    distance: float\n",
    "    pm_ra: float\n",
    "    pm_dec: float\n",
    "    radial_velocity: float\n",
    "    \n",
    "    distance_err: float = 0\n",
    "    pm_ra_err: float = 0\n",
    "    pm_dec_err: float = 0\n",
    "    radial_velocity_err: float = 0"
   ]
  },
  {
   "cell_type": "code",
   "execution_count": 102,
   "id": "f675416c-6231-4692-8c72-4b5c3fd5c04b",
   "metadata": {},
   "outputs": [],
   "source": [
    "@dataclass\n",
    "class dwarf_phase:\n",
    "    x: float\n",
    "    y: float\n",
    "    z: float\n",
    "    v_x: float\n",
    "    v_y: float\n",
    "    v_z: float"
   ]
  },
  {
   "cell_type": "code",
   "execution_count": 92,
   "id": "f852abb2-1609-45d4-a14f-16e1de8883c3",
   "metadata": {},
   "outputs": [],
   "source": [
    "fornax_radec = SkyCoord(ra=\"2h39m59.3s\", dec=\"-34d26m57s\")\n",
    "\n",
    "fornax_obs = dwarf_obs(\n",
    "    ra = fornax_radec.ra/u.deg,\n",
    "    dec = fornax_radec.dec/u.deg,\n",
    "    distance = 143,\n",
    "    distance_err = 3,\n",
    "    pm_ra = 0.476 ,\n",
    "    pm_ra_err = 0.046 ,\n",
    "    pm_dec = -0.360,\n",
    "    pm_dec_err = 0.041,\n",
    "    radial_velocity = 55.3,\n",
    "    radial_velocity_err = 0.1 \n",
    ")\n",
    "\n",
    "craterii_obs = dwarf_obs(\n",
    "    ra = 177.3,\n",
    "    dec = -18.4,\n",
    "    distance=117.5,\n",
    "    distance_err = 1.1,\n",
    "    pm_ra = -0.246, \n",
    "    pm_ra_err = 0.052,\n",
    "    pm_dec = -0.227,\n",
    "    pm_dec_err = 0.026,\n",
    "    radial_velocity = 87.5,\n",
    "    radial_velocity_err = 0.4\n",
    ")"
   ]
  },
  {
   "cell_type": "code",
   "execution_count": 93,
   "id": "74751b19-d1b6-4857-ab3b-6a1d70867ca2",
   "metadata": {},
   "outputs": [],
   "source": [
    "np.random.seed(123)"
   ]
  },
  {
   "cell_type": "code",
   "execution_count": 106,
   "id": "769cdcc2-4dd5-4bd6-8e59-a672c6377270",
   "metadata": {},
   "outputs": [],
   "source": [
    "def to_galcen(obs):\n",
    "    sc = SkyCoord(ra = obs.ra * u.deg,\n",
    "                  dec=obs.dec * u.deg,\n",
    "                  distance = obs.distance * u.kpc,\n",
    "                  radial_velocity = obs.radial_velocity * u.km/u.s,\n",
    "                  pm_ra_cosdec = obs.pm_ra * u.mas/u.yr,\n",
    "                  pm_dec = obs.pm_dec * u.mas/u.yr\n",
    "                 )\n",
    "    tc = sc.transform_to(gc_frame)\n",
    "    x, y, z = [tc.x, tc.y, tc.z]\n",
    "    vx, vy, vz = [tc.v_x, tc.v_y, tc.v_z]\n",
    "    x /= u.kpc\n",
    "    y /= u.kpc\n",
    "    z /= u.kpc\n",
    "    vx /= u.km/u.s\n",
    "    vy /= u.km/u.s\n",
    "    vz /= u.km/u.s\n",
    " \n",
    "    return dwarf_phase(x, y, z, vx, vy, vz)"
   ]
  },
  {
   "cell_type": "code",
   "execution_count": 107,
   "id": "5609d736-f8c2-4285-9249-7e593a630ef5",
   "metadata": {},
   "outputs": [],
   "source": [
    "def rand_coords(obs, N):\n",
    "    ra = np.full(N, obs.ra)\n",
    "    dec = np.full(N, obs.dec)\n",
    "    distance = np.random.normal(obs.distance,obs.distance_err, N)\n",
    "    pm_ra = np.random.normal(obs.pm_ra,obs.pm_ra_err, N)\n",
    "    pm_dec = np.random.normal(obs.pm_dec,obs.pm_dec_err, N)\n",
    "    radial_velocity = np.random.normal(obs.radial_velocity,obs.radial_velocity_err, N)\n",
    "    X = np.array([ra, dec, distance, pm_ra, pm_dec, radial_velocity])\n",
    "    rand_obs = [dwarf_obs(*x) for x in X.transpose()]\n",
    "    return rand_obs"
   ]
  },
  {
   "cell_type": "code",
   "execution_count": 126,
   "id": "1184d323-e4a7-412d-b47c-651aaddf6061",
   "metadata": {},
   "outputs": [],
   "source": [
    "def periApoHist(coords):\n",
    "    periSet = np.array([])\n",
    "    apoSet = np.array([])\n",
    "    coordSet = []\n",
    "\n",
    "    # print('multiprocessing...',end='\\r')\n",
    "    # pool = mp.Pool(nCores)\n",
    "    # results = np.array(pool.map(helper, coords))\n",
    "    # pool.close()\n",
    "    # print('done multiprocessing')\n",
    "    N = len(coords)\n",
    "    peris = np.empty(N)\n",
    "    apos = np.empty(N)\n",
    "    filt = np.full(N, False)\n",
    "    for i  in range(N):\n",
    "        pc = to_galcen(coords[i])\n",
    "        x = [pc.x, pc.y, pc.z]\n",
    "        v = [pc.v_x, pc.v_y, pc.v_z]\n",
    "        peri, apo, _ = getPeriApoTime(-4e9, -1e6, x, v)\n",
    "        peris[i] = peri\n",
    "        apos[i] = apo\n",
    "        if peri is None or apo is None:\n",
    "            continue\n",
    "        if peri > 0 and apo > 0:\n",
    "            filt[i] = True\n",
    "            coordSet.append(pc)\n",
    "\n",
    "    periSet = peris[filt]\n",
    "    apoSet = apos[filt]\n",
    "    return periSet,apoSet,coordSet\n"
   ]
  },
  {
   "cell_type": "code",
   "execution_count": 127,
   "id": "7d6b815a-f898-4c2a-b1fe-c05a0cd6ef1a",
   "metadata": {},
   "outputs": [],
   "source": [
    "robs = rand_coords(fornax_obs, 100)\n",
    "peris, apos, coords = periApoHist(robs)"
   ]
  },
  {
   "cell_type": "code",
   "execution_count": 132,
   "id": "0d28b972-c33f-4b5f-8370-af6dd2a4230b",
   "metadata": {},
   "outputs": [],
   "source": [
    "percentiles = [16, 84]\n",
    "\n",
    "present = {}\n",
    "\n",
    "present[\"50\"] = to_galcen(fornax_obs)\n",
    "\n",
    "for per in percentiles:\n",
    "    idx = np.argsort(peris)[int((len(peris) - 1) * per/100)]\n",
    "    present[str(per)] = coords[idx]\n"
   ]
  },
  {
   "cell_type": "code",
   "execution_count": 134,
   "id": "087c0456-4f92-4934-878d-86166bcfa65c",
   "metadata": {},
   "outputs": [],
   "source": [
    "past = {}\n",
    "for per, coord in present.items():\n",
    "    x = [coord.x, coord.y, coord.z]\n",
    "    v = [coord.v_x, coord.v_y, coord.v_z]\n",
    "    x2, v2, apo_time = getInjectionCoords(x, v, 10)\n",
    "    past[per] = dwarf_phase(*x2, *v2)"
   ]
  },
  {
   "cell_type": "code",
   "execution_count": 135,
   "id": "ec790625-5704-4593-85a6-100674c67e7b",
   "metadata": {},
   "outputs": [
    {
     "data": {
      "text/plain": [
       "{'50': dwarf_phase(x=<Quantity -40.31041437>, y=<Quantity -49.50327895>, z=<Quantity -130.28092123>, v_x=<Quantity -25.13923059>, v_y=<Quantity -142.14921861>, v_z=<Quantity 105.42942296>),\n",
       " '16': dwarf_phase(x=<Quantity -40.29196902>, y=<Quantity -49.4747626>, z=<Quantity -130.20587292>, v_x=<Quantity -18.24078157>, v_y=<Quantity -107.53645173>, v_z=<Quantity 90.72666675>),\n",
       " '84': dwarf_phase(x=<Quantity -40.44520913>, y=<Quantity -49.71167046>, z=<Quantity -130.82935838>, v_x=<Quantity 37.9237254>, v_y=<Quantity -156.01623741>, v_z=<Quantity 95.39501626>)}"
      ]
     },
     "execution_count": 135,
     "metadata": {},
     "output_type": "execute_result"
    }
   ],
   "source": [
    "present"
   ]
  },
  {
   "cell_type": "code",
   "execution_count": 136,
   "id": "5b42dc6b-42d8-4540-85e4-88c22fa7744a",
   "metadata": {},
   "outputs": [
    {
     "data": {
      "text/plain": [
       "{'50': dwarf_phase(x=-40.02779611239312, y=-158.44245376389176, z=51.63540309800509, v_x=0.17997999805496304, v_y=0.17209555502053023, v_z=0.6678257469733514),\n",
       " '16': dwarf_phase(x=53.22874592899056, y=127.55323659641137, z=66.97931169761925, v_x=-0.008066300267039002, v_y=0.2914049928276567, v_z=-0.5482836493116453),\n",
       " '84': dwarf_phase(x=6.5822759700013, y=-185.77659779273645, z=-7.320005564816616, v_x=0.21334658077810273, v_y=-0.01823724502063192, v_z=0.6531576083796462)}"
      ]
     },
     "execution_count": 136,
     "metadata": {},
     "output_type": "execute_result"
    }
   ],
   "source": [
    "past"
   ]
  },
  {
   "cell_type": "code",
   "execution_count": 138,
   "id": "21f25fc1-11fb-4b38-a6a3-5d1ac7c45a1c",
   "metadata": {},
   "outputs": [
    {
     "data": {
      "text/plain": [
       "Text(0, 0.5, 'density')"
      ]
     },
     "execution_count": 138,
     "metadata": {},
     "output_type": "execute_result"
    },
    {
     "data": {
      "image/png": "[encoded data removed]",
      "text/plain": [
       "<Figure size 432x288 with 1 Axes>"
      ]
     },
     "metadata": {
      "needs_background": "light"
     },
     "output_type": "display_data"
    }
   ],
   "source": [
    "plt.hist(peris, density=True)\n",
    "plt.xlabel(\"pericenter\")\n",
    "plt.ylabel(\"density\")"
   ]
  },
  {
   "cell_type": "code",
   "execution_count": 139,
   "id": "671e0e4a-9066-4947-a8db-99d95ee848f2",
   "metadata": {},
   "outputs": [
    {
     "data": {
      "text/plain": [
       "Text(0, 0.5, 'density')"
      ]
     },
     "execution_count": 139,
     "metadata": {},
     "output_type": "execute_result"
    },
    {
     "data": {
      "image/png": "[encoded data removed]",
      "text/plain": [
       "<Figure size 432x288 with 1 Axes>"
      ]
     },
     "metadata": {
      "needs_background": "light"
     },
     "output_type": "display_data"
    }
   ],
   "source": [
    "plt.hist(apos, density=True)\n",
    "plt.xlabel(\"apocenter\")\n",
    "plt.ylabel(\"density\")"
   ]
  },
  {
   "cell_type": "code",
   "execution_count": null,
   "id": "331bd23a-9cff-4424-8c74-b19f2d14ce93",
   "metadata": {},
   "outputs": [],
   "source": [
    "for key, val in present.items():\n",
    "    x = "
   ]
  }
 ],
 "metadata": {
  "kernelspec": {
   "display_name": "Python 3",
   "language": "python",
   "name": "python3"
  },
  "language_info": {
   "codemirror_mode": {
    "name": "ipython",
    "version": 3
   },
   "file_extension": ".py",
   "mimetype": "text/x-python",
   "name": "python",
   "nbconvert_exporter": "python",
   "pygments_lexer": "ipython3",
   "version": "3.6.5"
  }
 },
 "nbformat": 4,
 "nbformat_minor": 5
}
