{
 "cells": [
  {
   "cell_type": "markdown",
   "id": "0",
   "metadata": {},
   "source": [
    "This notebook explores a number of different potentials of the Milky Way to determine how much they may influence an orbit."
   ]
  },
  {
   "cell_type": "code",
   "execution_count": null,
   "id": "1",
   "metadata": {},
   "outputs": [],
   "source": [
    "using CairoMakie\n",
    "using Revise\n",
    "using LilGuys, Arya"
   ]
  },
  {
   "cell_type": "code",
   "execution_count": null,
   "id": "2",
   "metadata": {},
   "outputs": [],
   "source": [
    "# use natural units (G=1) for everything. if the potential uses different units\n",
    "# we are best off to change the inputs rather than Agama's units\n",
    "using PythonCall\n",
    "agama = pyimport(\"agama\")"
   ]
  },
  {
   "cell_type": "markdown",
   "id": "3",
   "metadata": {},
   "source": [
    "## Setup\n",
    "Here I use Sculptor."
   ]
  },
  {
   "cell_type": "code",
   "execution_count": null,
   "id": "4",
   "metadata": {},
   "outputs": [],
   "source": [
    "include(\"agama_utils.jl\")"
   ]
  },
  {
   "cell_type": "code",
   "execution_count": null,
   "id": "5",
   "metadata": {},
   "outputs": [],
   "source": [
    "obs_props_filename = ENV[\"DWARFS_ROOT\"] * \"/observations/sculptor/observed_properties.toml\""
   ]
  },
  {
   "cell_type": "code",
   "execution_count": null,
   "id": "6",
   "metadata": {},
   "outputs": [],
   "source": [
    "# sculptor's adpoted mean orbit for this project\n",
    "icrs = LilGuys.coord_from_file(obs_props_filename)\n",
    "icrs_err = LilGuys.coord_err_from_file(obs_props_filename)"
   ]
  },
  {
   "cell_type": "code",
   "execution_count": null,
   "id": "7",
   "metadata": {},
   "outputs": [],
   "source": [
    "gc = LilGuys.transform(Galactocentric, icrs)"
   ]
  },
  {
   "cell_type": "code",
   "execution_count": null,
   "id": "8",
   "metadata": {},
   "outputs": [],
   "source": [
    "ep20 = load_agama_potential(\"EP2020.ini\")\n"
   ]
  },
  {
   "cell_type": "code",
   "execution_count": null,
   "id": "9",
   "metadata": {},
   "outputs": [],
   "source": [
    "orbit = calc_orbit(gc, ep20, units=:code, time=-10/T2GYR)"
   ]
  },
  {
   "cell_type": "code",
   "execution_count": null,
   "id": "10",
   "metadata": {},
   "outputs": [],
   "source": [
    "plot_r_t(orbit)"
   ]
  },
  {
   "cell_type": "code",
   "execution_count": null,
   "id": "11",
   "metadata": {},
   "outputs": [],
   "source": [
    "plot_y_z(orbit)"
   ]
  },
  {
   "cell_type": "markdown",
   "id": "12",
   "metadata": {},
   "source": [
    "# Potentials\n",
    "See each file for a definition of the parameters and attributes.\n",
    "Note that Agama does combine potentials together so they are not simply a list of their components."
   ]
  },
  {
   "cell_type": "code",
   "execution_count": null,
   "id": "13",
   "metadata": {
    "tags": []
   },
   "outputs": [],
   "source": [
    "mm11 = load_agama_potential(\"mcmillan11.ini\")\n",
    "mm17 = load_agama_potential(\"mcmillan17.ini\")\n",
    "bt08 = load_agama_potential(\"BT08.ini\")\n",
    "piffl14 = load_agama_potential(\"piffl_14.ini\")\n",
    "J95 = load_agama_potential(\"J95.ini\")\n",
    "galpy14 = load_agama_potential(\"galpy_2014.ini\")\n",
    "pouliasis17 = load_agama_potential(\"pouliasis+2017.ini\")\n",
    "ablimit20 = load_agama_potential(\"ablimit+2020.ini\")\n",
    "nitschai20 = load_agama_potential(\"nitschai+2020.ini\")\n",
    "pouliasis17b = load_agama_potential(\"pouliasis+2017b.ini\")\n",
    "AS91 = load_agama_potential(\"AS1991.ini\")"
   ]
  },
  {
   "cell_type": "code",
   "execution_count": null,
   "id": "14",
   "metadata": {},
   "outputs": [],
   "source": [
    "potentials_mcmillan = [\n",
    "    \"EP20\" => ep20,\n",
    "    \"mcmillan 11\" => mm11,\n",
    "    \"mcmillan 17\" => mm17,\n",
    "    ]"
   ]
  },
  {
   "cell_type": "code",
   "execution_count": null,
   "id": "15",
   "metadata": {},
   "outputs": [],
   "source": [
    "potentials_light = [\n",
    "    \"EP20\" => ep20,\n",
    "    \"bt08\" => bt08,\n",
    "    \"galpy14\" => galpy14,\n",
    "    \"AS1991\" => AS91,\n",
    "    \"ablimit + 2020\" => ablimit20,\n",
    "    ]\n"
   ]
  },
  {
   "cell_type": "code",
   "execution_count": null,
   "id": "16",
   "metadata": {},
   "outputs": [],
   "source": [
    "potentials_heavy = [\n",
    "    \"EP20\" => ep20,\n",
    "    \"piffl14\" => piffl14,\n",
    "    \"J95\" => J95,\n",
    "    \"nitschai+20\" => nitschai20,\n",
    "    \"pouliasis+17\" => pouliasis17,\n",
    "    \"pouliasis+17b\" => pouliasis17,\n",
    "]"
   ]
  },
  {
   "cell_type": "markdown",
   "id": "17",
   "metadata": {},
   "source": [
    "# Potential comparisons"
   ]
  },
  {
   "cell_type": "code",
   "execution_count": null,
   "id": "18",
   "metadata": {},
   "outputs": [],
   "source": [
    "function compare_v_circ(potentials)\n",
    "    fig = Figure()\n",
    "    ax = Axis(fig[1, 1],\n",
    "        xlabel = \"log r / kpc\",\n",
    "        ylabel = L\"$v_\\textrm{circ}$ / km\\,s$^{-1}$\",\n",
    "    )\n",
    "\n",
    "    for (label, pot) in potentials\n",
    "        plot_v_circ!(pot, label=label)\n",
    "    end\n",
    "\n",
    "    axislegend(position=:rb)\n",
    "    fig\n",
    "end"
   ]
  },
  {
   "cell_type": "code",
   "execution_count": null,
   "id": "19",
   "metadata": {},
   "outputs": [],
   "source": [
    "function plot_all(gc, pot)\n",
    "    orbit = calc_orbit(gc, pot)\n",
    "    plot_r_t(orbit) |> display\n",
    "    plot_y_z(orbit) |> display\n",
    "end"
   ]
  },
  {
   "cell_type": "code",
   "execution_count": null,
   "id": "20",
   "metadata": {},
   "outputs": [],
   "source": [
    "function plot_all(gc, pots)\n",
    "\n",
    "    \n",
    "    orbits = [calc_orbit(gc, pot, units=:code, time=-10 / T2GYR) for (name, pot) in pots]\n",
    "\n",
    "    display(compare_v_circ(pots))\n",
    "    \n",
    "    fig = Figure()\n",
    "    ax = axis_r_t(fig[1, 1])\n",
    "    \n",
    "    for i in 1:length(pots)\n",
    "        plot_r_t!(ax, orbits[i], label=pots[i].first)\n",
    "    end\n",
    "\n",
    "    axislegend()\n",
    "    \n",
    "    display(fig)\n",
    "\n",
    "\n",
    "    fig = Figure()\n",
    "    ax = axis_y_z(fig[1,1])\n",
    "\n",
    "\n",
    "    for i in 1:length(pots)\n",
    "        plot_y_z!(ax, orbits[i], label=pots[i].first)\n",
    "    end\n",
    "\n",
    "    axislegend()\n",
    "    display(fig)\n",
    "end"
   ]
  },
  {
   "cell_type": "code",
   "execution_count": null,
   "id": "21",
   "metadata": {},
   "outputs": [],
   "source": [
    "plot_all(gc, potentials_mcmillan)"
   ]
  },
  {
   "cell_type": "code",
   "execution_count": null,
   "id": "22",
   "metadata": {},
   "outputs": [],
   "source": [
    "plot_all(gc, potentials_light)"
   ]
  },
  {
   "cell_type": "code",
   "execution_count": null,
   "id": "23",
   "metadata": {},
   "outputs": [],
   "source": [
    "plot_all(gc, potentials_heavy)"
   ]
  },
  {
   "cell_type": "code",
   "execution_count": null,
   "id": "24",
   "metadata": {},
   "outputs": [],
   "source": []
  }
 ],
 "metadata": {
  "kernelspec": {
   "display_name": "Julia 1.11.5",
   "language": "julia",
   "name": "julia-1.11"
  },
  "language_info": {
   "file_extension": ".jl",
   "mimetype": "application/julia",
   "name": "julia",
   "version": "1.11.5"
  }
 },
 "nbformat": 4,
 "nbformat_minor": 5
}
