{
 "cells": [
  {
   "cell_type": "markdown",
   "id": "0",
   "metadata": {},
   "source": [
    "This notebook explores a few different potential models of the Milky Way"
   ]
  },
  {
   "cell_type": "code",
   "execution_count": null,
   "id": "1",
   "metadata": {},
   "outputs": [],
   "source": [
    "using CairoMakie\n",
    "using Revise\n",
    "using LilGuys, Arya"
   ]
  },
  {
   "cell_type": "code",
   "execution_count": null,
   "id": "2",
   "metadata": {},
   "outputs": [],
   "source": [
    "# use natural units (G=1) for everything. if the potential uses different units\n",
    "# we are best off to change the inputs rather than Agama's units\n",
    "using PythonCall\n",
    "agama = pyimport(\"agama\")"
   ]
  },
  {
   "cell_type": "code",
   "execution_count": null,
   "id": "3",
   "metadata": {},
   "outputs": [],
   "source": [
    "include(\"agama_utils.jl\")"
   ]
  },
  {
   "cell_type": "code",
   "execution_count": null,
   "id": "4",
   "metadata": {},
   "outputs": [],
   "source": [
    "obs_props_filename = ENV[\"DWARFS_ROOT\"] * \"/observations/sculptor/observed_properties.toml\""
   ]
  },
  {
   "cell_type": "code",
   "execution_count": null,
   "id": "5",
   "metadata": {},
   "outputs": [],
   "source": [
    "# sculptor's adpoted mean orbit for this project\n",
    "icrs = LilGuys.coord_from_file(obs_props_filename)\n",
    "icrs_err = LilGuys.coord_err_from_file(obs_props_filename)"
   ]
  },
  {
   "cell_type": "code",
   "execution_count": null,
   "id": "6",
   "metadata": {},
   "outputs": [],
   "source": [
    "gc = LilGuys.transform(Galactocentric, icrs)"
   ]
  },
  {
   "cell_type": "code",
   "execution_count": null,
   "id": "7",
   "metadata": {},
   "outputs": [],
   "source": [
    "ep20 = load_agama_potential(\"EP2020.ini\")\n"
   ]
  },
  {
   "cell_type": "code",
   "execution_count": null,
   "id": "8",
   "metadata": {},
   "outputs": [],
   "source": [
    "orbit = calc_orbit(gc, ep20, units=:code, time=-10)"
   ]
  },
  {
   "cell_type": "code",
   "execution_count": null,
   "id": "9",
   "metadata": {},
   "outputs": [],
   "source": [
    "plot_r_t(orbit)"
   ]
  },
  {
   "cell_type": "code",
   "execution_count": null,
   "id": "10",
   "metadata": {},
   "outputs": [],
   "source": [
    "plot_y_z(orbit)"
   ]
  },
  {
   "cell_type": "code",
   "execution_count": null,
   "id": "11",
   "metadata": {
    "tags": []
   },
   "outputs": [],
   "source": [
    "mm11 = load_agama_potential(\"mcmillan11.ini\")\n",
    "mm17 = load_agama_potential(\"mcmillan17.ini\")\n",
    "bt08 = load_agama_potential(\"BT08.ini\")\n",
    "piffl14 = load_agama_potential(\"piffl_14.ini\")\n",
    "J95 = load_agama_potential(\"J95.ini\")\n",
    "galpy14 = load_agama_potential(\"galpy_2014.ini\")\n",
    "pouliasis17 = load_agama_potential(\"pouliasis+2017.ini\")\n",
    "ablimit20 = load_agama_potential(\"ablimit+2020.ini\")\n",
    "nitschai20 = load_agama_potential(\"nitschai+2020.ini\")"
   ]
  },
  {
   "cell_type": "code",
   "execution_count": null,
   "id": "12",
   "metadata": {},
   "outputs": [],
   "source": [
    "pouliasis17b = load_agama_potential(\"pouliasis+2017b.ini\")\n",
    "AS91 = load_agama_potential(\"AS1991.ini\")"
   ]
  },
  {
   "cell_type": "code",
   "execution_count": null,
   "id": "13",
   "metadata": {},
   "outputs": [],
   "source": [
    "potentials_light = [\n",
    "    \"EP20\" => ep20,\n",
    "    \"bt08\" => bt08,\n",
    "    \"galpy14\" => galpy14,\n",
    "    \"pouliasis+17\" => pouliasis17,\n",
    "    \"AS1991\" => AS91,\n",
    "    ]\n"
   ]
  },
  {
   "cell_type": "code",
   "execution_count": null,
   "id": "14",
   "metadata": {},
   "outputs": [],
   "source": [
    "potentials_heavy = [\n",
    "    \"EP20\" => ep20,\n",
    "    \"mcmillan 11\" => mm11,\n",
    "    \"piffl14\" => piffl14,\n",
    "    \"J95\" => J95,\n",
    "    \"pouliasis+17b\" => pouliasis17,\n",
    "\n",
    "\n",
    "]"
   ]
  },
  {
   "cell_type": "code",
   "execution_count": null,
   "id": "15",
   "metadata": {},
   "outputs": [],
   "source": [
    "potentials = [\n",
    "    \"EP20\" => ep20,\n",
    "    \"mcmillan 17\" => mm17,\n",
    "    \"ablimit + 2020\" => ablimit20,\n",
    "    \"nitschai+20\" => nitschai20,\n",
    "\n",
    "]"
   ]
  },
  {
   "cell_type": "markdown",
   "id": "16",
   "metadata": {},
   "source": [
    "# Potential comparisons"
   ]
  },
  {
   "cell_type": "code",
   "execution_count": null,
   "id": "17",
   "metadata": {},
   "outputs": [],
   "source": [
    "function compare_v_circ(potentials)\n",
    "    fig = Figure()\n",
    "    ax = Axis(fig[1, 1])\n",
    "\n",
    "    for (label, pot) in potentials\n",
    "        plot_v_circ!(pot, label=label)\n",
    "    end\n",
    "\n",
    "    axislegend(position=:rb)\n",
    "    fig\n",
    "end"
   ]
  },
  {
   "cell_type": "code",
   "execution_count": null,
   "id": "18",
   "metadata": {},
   "outputs": [],
   "source": [
    "function plot_all(gc, pot)\n",
    "    orbit = calc_orbit(gc, pot)\n",
    "    plot_r_t(orbit) |> display\n",
    "    plot_y_z(orbit) |> display\n",
    "end"
   ]
  },
  {
   "cell_type": "code",
   "execution_count": null,
   "id": "19",
   "metadata": {},
   "outputs": [],
   "source": [
    "function plot_all(gc, pots)\n",
    "\n",
    "    \n",
    "    orbits = [calc_orbit(gc, pot, units=:code, time=10 / T2GYR) for (name, pot) in pots]\n",
    "\n",
    "    display(compare_v_circ(pots))\n",
    "    \n",
    "    fig = Figure()\n",
    "    ax = axis_r_t(fig[1, 1])\n",
    "    \n",
    "    for i in 1:length(pots)\n",
    "        plot_r_t!(ax, orbits[i], label=pots[i].first)\n",
    "    end\n",
    "\n",
    "    axislegend()\n",
    "    \n",
    "    display(fig)\n",
    "\n",
    "\n",
    "    fig = Figure()\n",
    "    ax = axis_y_z(fig[1,1])\n",
    "\n",
    "\n",
    "    for i in 1:length(pots)\n",
    "        plot_y_z!(ax, orbits[i], label=pots[i].first)\n",
    "    end\n",
    "\n",
    "    axislegend()\n",
    "    display(fig)\n",
    "end"
   ]
  },
  {
   "cell_type": "code",
   "execution_count": null,
   "id": "20",
   "metadata": {},
   "outputs": [],
   "source": [
    "plot_all(gc, potentials)"
   ]
  },
  {
   "cell_type": "code",
   "execution_count": null,
   "id": "21",
   "metadata": {},
   "outputs": [],
   "source": [
    "plot_all(gc, potentials_light)"
   ]
  },
  {
   "cell_type": "code",
   "execution_count": null,
   "id": "22",
   "metadata": {},
   "outputs": [],
   "source": [
    "plot_all(gc, potentials_heavy)"
   ]
  },
  {
   "cell_type": "markdown",
   "id": "23",
   "metadata": {},
   "source": [
    "# Old Cord"
   ]
  },
  {
   "cell_type": "code",
   "execution_count": null,
   "id": "24",
   "metadata": {
    "tags": []
   },
   "outputs": [],
   "source": [
    "R200_NFW(M200) / c"
   ]
  },
  {
   "cell_type": "code",
   "execution_count": null,
   "id": "25",
   "metadata": {
    "tags": []
   },
   "outputs": [],
   "source": [
    "M200 = 66.3*M0\n",
    "c = 12.36\n",
    "Ms = Ms_NFW( M200, c)\n",
    "\n",
    "Rs = 14.45*u.kpc\n",
    "Ms"
   ]
  },
  {
   "cell_type": "code",
   "execution_count": null,
   "id": "26",
   "metadata": {
    "tags": []
   },
   "outputs": [],
   "source": [
    "find_M_c(Ms, Rs)"
   ]
  },
  {
   "cell_type": "code",
   "execution_count": null,
   "id": "27",
   "metadata": {
    "tags": []
   },
   "outputs": [],
   "source": [
    "M200 = 6.749*M0\n",
    "c = 12.7988\n",
    "Ms = Ms_NFW(M200, c)"
   ]
  },
  {
   "cell_type": "code",
   "execution_count": null,
   "id": "28",
   "metadata": {
    "tags": []
   },
   "outputs": [],
   "source": [
    "Ms"
   ]
  },
  {
   "cell_type": "code",
   "execution_count": null,
   "id": "29",
   "metadata": {
    "tags": []
   },
   "outputs": [],
   "source": [
    "ablimit_c = {\n",
    "    \"halo\": NFW(amp=Ms, a=Rs),\n",
    "    \"disk\": pouliasis17_thick + pouliasis17_thin,\n",
    "    \"bulge\": pouliasis17_bulge,\n",
    "}\n",
    "\n",
    "ablimit20a = [val for key, val in ablimit_c.items()]\n",
    "\n",
    "\n"
   ]
  },
  {
   "cell_type": "code",
   "execution_count": null,
   "id": "30",
   "metadata": {
    "tags": []
   },
   "outputs": [],
   "source": [
    "M200 = 82.2*M0\n",
    "c = 13.04\n",
    "Ms = Ms_NFW(M200, c)\n",
    "ablimit_b_comp = {\n",
    "    \"halo\": NFW(amp=Ms, a=14.71*u.kpc),\n",
    "    \"disk\": pouliasis17_thick + pouliasis17_thin,\n",
    "    \"bulge\": pouliasis17_bulge,\n",
    "}\n",
    "\n",
    "ablimit20b = [val for key, val in ablimit_b_comp.items()]\n"
   ]
  },
  {
   "cell_type": "code",
   "execution_count": null,
   "id": "31",
   "metadata": {
    "tags": []
   },
   "outputs": [],
   "source": [
    "R200_NFW(M200) / c"
   ]
  },
  {
   "cell_type": "code",
   "execution_count": null,
   "id": "32",
   "metadata": {
    "tags": []
   },
   "outputs": [],
   "source": [
    "shen22_halo = gp.PowerSphericalPotential(amp=0.2275*M0, r1=1*u.kpc, alpha=2+0.43)\n",
    "\n",
    "\n",
    "c=12\n",
    "R200=207*u.kpc\n",
    "Ms = Ms_NFW(105*M0, c) # is 95 in paper but not described well...\n",
    "shen22_halo_b = NFW(amp=Ms, a=R200/c)"
   ]
  },
  {
   "cell_type": "code",
   "execution_count": null,
   "id": "33",
   "metadata": {},
   "outputs": [],
   "source": [
    "shen22_halo.mass(100*u.kpc) / M0"
   ]
  },
  {
   "cell_type": "code",
   "execution_count": null,
   "id": "34",
   "metadata": {
    "tags": []
   },
   "outputs": [],
   "source": [
    "shen22_halo.mass(250*u.kpc) / M0"
   ]
  },
  {
   "cell_type": "code",
   "execution_count": null,
   "id": "35",
   "metadata": {
    "tags": []
   },
   "outputs": [],
   "source": [
    "Rs = np.linspace(10, 250, 1000) * u.kpc"
   ]
  },
  {
   "cell_type": "code",
   "execution_count": null,
   "id": "36",
   "metadata": {
    "tags": []
   },
   "outputs": [],
   "source": [
    "plt.plot(Rs, [shen22_halo.mass(R) / M0 for R in Rs])\n",
    "plt.plot(Rs, [shen22_halo_b.mass(R) / M0 for R in Rs])"
   ]
  },
  {
   "cell_type": "code",
   "execution_count": null,
   "id": "37",
   "metadata": {
    "tags": []
   },
   "outputs": [],
   "source": [
    "plot_Vc(shen22_halo, R_min=10)\n",
    "plot_Vc(galpy14)\n",
    "plot_Vc(shen22_halo_b, R_min=10)"
   ]
  },
  {
   "cell_type": "code",
   "execution_count": null,
   "id": "38",
   "metadata": {
    "tags": []
   },
   "outputs": [],
   "source": [
    "nitschai_halo = gp.TwoPowerTriaxialPotential(amp=41.1*M0, alpha=1.53, beta=3, a=16.8*u.kpc, c=1.14)\n",
    "nitschai_halo_b = gp.TwoPowerSphericalPotential(amp=44.1*M0, alpha=1.53, beta=3, a=16.8*u.kpc)"
   ]
  },
  {
   "cell_type": "code",
   "execution_count": null,
   "id": "39",
   "metadata": {
    "tags": []
   },
   "outputs": [],
   "source": [
    "Mh = nitschai_halo.mass(8.2*u.kpc)"
   ]
  },
  {
   "cell_type": "code",
   "execution_count": null,
   "id": "40",
   "metadata": {
    "tags": []
   },
   "outputs": [],
   "source": [
    "nitschai_halo.dens(8.2*u.kpc, 0*u.kpc)"
   ]
  },
  {
   "cell_type": "code",
   "execution_count": null,
   "id": "41",
   "metadata": {
    "tags": []
   },
   "outputs": [],
   "source": [
    "Mh / (Mh + mcmillan2017_halo.mass(8.2*u.kpc) + mcmillan2017_thick.mass(8.2*u.kpc) +  mcmillan2017_thin.mass(8.2*u.kpc))"
   ]
  },
  {
   "cell_type": "code",
   "execution_count": null,
   "id": "42",
   "metadata": {
    "tags": []
   },
   "outputs": [],
   "source": [
    "nitschai = nitschai_halo + mcmillan2017_bulge + mcmillan2017_thick + mcmillan2017_thick + mcmillan2017_h1 + mcmillan2017_h2\n",
    "nitschai_b = nitschai_halo_b + mcmillan2017_bulge + mcmillan2017_thick + mcmillan2017_thick + mcmillan2017_h1 + mcmillan2017_h2"
   ]
  },
  {
   "cell_type": "code",
   "execution_count": null,
   "id": "43",
   "metadata": {
    "tags": []
   },
   "outputs": [],
   "source": [
    "A_disk = 0.056 / 0.2"
   ]
  },
  {
   "cell_type": "code",
   "execution_count": null,
   "id": "44",
   "metadata": {
    "tags": []
   },
   "outputs": [],
   "source": [
    "Ms = 105*M0\n",
    "r_s = 20.2*u.kpc\n",
    "heavy_halo = NFW(amp=Ms, a=r_s)\n",
    "find_M_c(Ms, r_s)"
   ]
  },
  {
   "cell_type": "code",
   "execution_count": null,
   "id": "45",
   "metadata": {
    "tags": []
   },
   "outputs": [],
   "source": [
    "Ms = 60*M0\n",
    "r_s = 20.2*u.kpc\n",
    "light_halo = NFW(amp=Ms, a=r_s)\n",
    "find_M_c(Ms, r_s)"
   ]
  },
  {
   "cell_type": "code",
   "execution_count": null,
   "id": "46",
   "metadata": {
    "tags": []
   },
   "outputs": [],
   "source": [
    "Ms = 130*M0\n",
    "r_s = 33*u.kpc\n",
    "me_flat_halo =  NFW(amp=Ms, a=r_s)\n",
    "me_flat = EP2020_thin + EP2020_thick + EP2020_bulge + me_flat_halo\n",
    "\n",
    "find_M_c(Ms, r_s)"
   ]
  },
  {
   "cell_type": "code",
   "execution_count": null,
   "id": "47",
   "metadata": {
    "tags": []
   },
   "outputs": [],
   "source": [
    "Ms = 45*M0\n",
    "r_s = 10*u.kpc\n",
    "me_steep_halo =  NFW(amp=Ms, a=r_s)\n",
    "\n",
    "me_steep = EP2020_thin + EP2020_thick + EP2020_bulge + me_steep_halo\n",
    "\n",
    "find_M_c(Ms, r_s)"
   ]
  },
  {
   "cell_type": "code",
   "execution_count": null,
   "id": "48",
   "metadata": {
    "tags": []
   },
   "outputs": [],
   "source": [
    "heavy_mw = EP2020_bulge + EP2020_thin + EP2020_thick + heavy_halo\n",
    "light_mw = EP2020_bulge + EP2020_thin + EP2020_thick + light_halo"
   ]
  },
  {
   "cell_type": "code",
   "execution_count": null,
   "id": "49",
   "metadata": {
    "tags": []
   },
   "outputs": [],
   "source": [
    "potentials = {\n",
    "    \"EP20\": EP2020,\n",
    "    #\"mcmillan11\": mcmillan2011, # mcmillan is very close to EP2020\n",
    "    #\"mcmillan17\": mcmillan2017,\n",
    "    #\"mcmillan17b\": mcmillan2017_nogas,\n",
    "    \"galpy14\": galpy14,\n",
    "    # \"galpy14_heavy\": galpy14_heavy,\n",
    "    # \"pouliaris17\": pouliasis17,\n",
    "    # #\"pouliaris17b\": pouliasis17b,\n",
    "    # \"ablimit\": ablimit20a,\n",
    "    # \"flat\": me_flat,\n",
    "\n",
    "}"
   ]
  }
 ],
 "metadata": {
  "kernelspec": {
   "display_name": "Julia 1.11.1",
   "language": "julia",
   "name": "julia-1.11"
  },
  "language_info": {
   "file_extension": ".jl",
   "mimetype": "application/julia",
   "name": "julia",
   "version": "1.11.1"
  }
 },
 "nbformat": 4,
 "nbformat_minor": 5
}
