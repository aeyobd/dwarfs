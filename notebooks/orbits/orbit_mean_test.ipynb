{
 "cells": [
  {
   "cell_type": "markdown",
   "id": "0",
   "metadata": {},
   "source": [
    "In this notebook, I want to check that the mean orbit as calculated with galpy, agama, and gadget gives the same result."
   ]
  },
  {
   "cell_type": "code",
   "execution_count": null,
   "id": "2",
   "metadata": {},
   "outputs": [],
   "source": [
    "using CairoMakie\n",
    "using Arya\n",
    "using PythonCall\n",
    "\n",
    "using DataFrames"
   ]
  },
  {
   "cell_type": "code",
   "execution_count": null,
   "id": "3",
   "metadata": {},
   "outputs": [],
   "source": [
    "using CSV"
   ]
  },
  {
   "cell_type": "code",
   "execution_count": null,
   "id": "4",
   "metadata": {},
   "outputs": [],
   "source": [
    "import TOML"
   ]
  },
  {
   "cell_type": "code",
   "execution_count": null,
   "id": "5",
   "metadata": {},
   "outputs": [],
   "source": [
    "agama = pyimport(\"agama\")\n",
    "galpy = pyimport(\"galpy\")\n",
    "gp = pyimport(\"galpy.potential\")\n",
    "go = pyimport(\"galpy.orbit\")\n",
    "u = pyimport(\"astropy.units\")\n",
    "ac = pyimport(\"astropy.coordinates\")\n",
    "np = pyimport(\"numpy\")"
   ]
  },
  {
   "cell_type": "code",
   "execution_count": null,
   "id": "6",
   "metadata": {},
   "outputs": [],
   "source": [
    "conversion = galpy.util.conversion"
   ]
  },
  {
   "cell_type": "code",
   "execution_count": null,
   "id": "7",
   "metadata": {},
   "outputs": [],
   "source": [
    "conversion.mass_in_1010msol(207.4, 1)"
   ]
  },
  {
   "cell_type": "code",
   "execution_count": null,
   "id": "8",
   "metadata": {},
   "outputs": [],
   "source": [
    "conversion.velocity_in_kpcGyr(207.4, 1)"
   ]
  },
  {
   "cell_type": "code",
   "execution_count": null,
   "id": "9",
   "metadata": {},
   "outputs": [],
   "source": [
    "MN75 = gp.MiyamotoNagaiPotential\n",
    "ExpDisk = gp.DoubleExponentialDiskPotential\n",
    "NFW = gp.NFWPotential\n",
    "#plaw = gp.PowerSphericalPotentialawCutoff\n",
    "Plummer = gp.PlummerPotential\n",
    "\n",
    "\n",
    "EP2020_thin = MN75(amp=5.9, a=3.944, b=0.311)\n",
    "EP2020_thick =  MN75(amp=2, a=4.4, b=0.92)\n",
    "\n",
    "M200 = 126.38\n",
    "c = 11.2849\n",
    "Ms = LilGuys.NFW(M200=M200, c=c).M_s\n",
    "\n",
    "EP2020_halo =  NFW(amp=Ms, a=20.2)\n",
    "EP2020_bulge = gp.HernquistPotential(amp=2.1 * (2), a=1.3) # instead of 1.3\n",
    "\n",
    "EP2020 = EP2020_thin + EP2020_thick + EP2020_halo + EP2020_bulge"
   ]
  },
  {
   "cell_type": "code",
   "execution_count": null,
   "id": "10",
   "metadata": {},
   "outputs": [],
   "source": [
    "# agama potential\n",
    "pot_file = \"/astro/dboyea/dwarfs/agama/potentials/EP2020.ini\"\n",
    "Φ_mw_agama = agama.Potential(pot_file)"
   ]
  },
  {
   "cell_type": "code",
   "execution_count": null,
   "id": "11",
   "metadata": {},
   "outputs": [],
   "source": [
    "obs_props = TOML.parsefile(\"/astro/dboyea/dwarfs/observations/sculptor/observed_properties.toml\")\n",
    "\n",
    "obs = ICRS(\n",
    "\tdistance = obs_props[\"distance\"],\n",
    "\tpmra = obs_props[\"pmra\"] ,\n",
    "\tpmdec = obs_props[\"pmdec\"],\n",
    "\tradial_velocity = obs_props[\"radial_velocity\"],\n",
    "\tra = obs_props[\"ra\"],\n",
    "\tdec = obs_props[\"dec\"],\n",
    "\n",
    ")"
   ]
  },
  {
   "cell_type": "code",
   "execution_count": null,
   "id": "12",
   "metadata": {},
   "outputs": [],
   "source": [
    "obs_gc = LilGuys.transform(LilGuys.Galactocentric, obs)"
   ]
  },
  {
   "cell_type": "code",
   "execution_count": null,
   "id": "13",
   "metadata": {},
   "outputs": [],
   "source": [
    "# astropy galactocentric\n",
    "\n",
    "\n",
    "kms = u.km/u.s\n",
    "sculptor = ac.SkyCoord(ra=obs.ra*u.degree, dec=obs.dec*u.degree, \n",
    "                         distance=obs.distance*u.kpc, radial_velocity=obs.radial_velocity*kms,\n",
    "                         pm_ra_cosdec=obs.pmra*u.mas/u.year, pm_dec=obs.pmdec*u.mas/u.year)  \n",
    "\n",
    "dwarf_galaxy = sculptor\n",
    "ac.galactocentric_frame_defaults.set(\"v4.0\")\n",
    "\n",
    "gc_frame = ac.Galactocentric()\n",
    "dwarf_galaxy_gc = dwarf_galaxy.transform_to(gc_frame)\n",
    "\n",
    "print(dwarf_galaxy_gc.cartesian.xyz)\n",
    "print(dwarf_galaxy_gc.velocity.d_xyz)\n"
   ]
  },
  {
   "cell_type": "code",
   "execution_count": null,
   "id": "14",
   "metadata": {},
   "outputs": [],
   "source": [
    "orbit1 = CSV.read(\"/astro/dboyea/dwarfs/analysis/sculptor/mc_orbits/orbit1.csv\", DataFrame)"
   ]
  },
  {
   "cell_type": "code",
   "execution_count": null,
   "id": "15",
   "metadata": {},
   "outputs": [],
   "source": [
    "T_end = (orbit1.t[1] - orbit1.t[end]) * T2GYR"
   ]
  },
  {
   "cell_type": "code",
   "execution_count": null,
   "id": "16",
   "metadata": {},
   "outputs": [],
   "source": [
    "np2jl(x) = pyconvert(Vector{Float64}, x)"
   ]
  },
  {
   "cell_type": "code",
   "execution_count": null,
   "id": "17",
   "metadata": {},
   "outputs": [],
   "source": [
    "o = go.Orbit(dwarf_galaxy_gc, ro=1., vo=207.4, )\n",
    "\n",
    "o.vxvv"
   ]
  },
  {
   "cell_type": "code",
   "execution_count": null,
   "id": "18",
   "metadata": {},
   "outputs": [],
   "source": [
    "# have to transform into galpy's coordinates since galpy uses a different frame\n",
    "# than I do..... :("
   ]
  },
  {
   "cell_type": "code",
   "execution_count": null,
   "id": "19",
   "metadata": {},
   "outputs": [],
   "source": [
    "# galpy orbit\n",
    "o = go.Orbit(np.array(vxvv) )\n",
    "\n",
    "ts = np.linspace(0, T_end/T2GYR, 100_000)\n",
    "\n",
    "o.integrate(ts, EP2020,)\n",
    "\n",
    "df_galpy = DataFrame(\n",
    "    t = np2jl(ts),\n",
    "    x = np2jl(o.x(ts)),\n",
    "    y = np2jl(o.y(ts)),\n",
    "    z = np2jl(o.z(ts)),\n",
    "    vx = np2jl(o.vx(ts)) * V2KMS,\n",
    "    vy = np2jl(o.vy(ts))* V2KMS,\n",
    "    vz = np2jl(o.vz(ts))* V2KMS,\n",
    "    \n",
    "    )"
   ]
  },
  {
   "cell_type": "code",
   "execution_count": null,
   "id": "20",
   "metadata": {},
   "outputs": [],
   "source": [
    "# agama orbit\n",
    "phase = obs_gc\n",
    "posvel = [phase.x, phase.y, phase.z, \n",
    "\t((phase.v_x, phase.v_y, phase.v_z) ./ V2KMS )...]\n",
    "\n",
    "orbit_agama = agama.orbit(potential=Φ_mw_agama, ic=posvel, time=T_end/T2GYR, \n",
    "    trajsize=1_000, accuracy=1e-12)\n",
    "t_agama = pyconvert(Vector{Float64}, orbit_agama[0])\n",
    "posvel_orbit = pyconvert(Matrix{Float64}, orbit_agama[1])'\n",
    "\n",
    "\n",
    "df_agama = DataFrame(t = t_agama , \n",
    "    x=posvel_orbit[1, :], \n",
    "    y=posvel_orbit[2, :], \n",
    "    z=posvel_orbit[3, :], \n",
    "    vx=posvel_orbit[4, :]*V2KMS, \n",
    "    vy=posvel_orbit[5, :]*V2KMS,\n",
    "    vz=posvel_orbit[6, :]*V2KMS\n",
    ")"
   ]
  },
  {
   "cell_type": "code",
   "execution_count": null,
   "id": "21",
   "metadata": {},
   "outputs": [],
   "source": [
    "fig = Figure()\n",
    "ax = Axis(fig[1, 1], xlabel=\"x\", ylabel=\"y\")\n",
    "\n",
    "lines!(df_agama.z, df_agama.y)\n",
    "lines!(orbit1.z, orbit1.y, linestyle=:dash)\n",
    "lines!(df_galpy.z, df_galpy.y, linestyle=:dot)\n",
    "fig"
   ]
  },
  {
   "cell_type": "code",
   "execution_count": null,
   "id": "22",
   "metadata": {},
   "outputs": [],
   "source": [
    "fig = Figure()\n",
    "ax = Axis(fig[1, 1], xlabel = \"R / kpc\", ylabel = \"vcirc / km / s\")\n",
    "\n",
    "\n",
    "r = np.logspace(-2, 2, 100)\n",
    "M = np2jl([gp.mass(EP2020, x) for x in r])\n",
    "r = np2jl(r)\n",
    "\n",
    "v = @. sqrt(M / r) * V2KMS\n",
    "\n",
    "lines!(log10.(r), v)\n",
    "\n",
    "M = np2jl(Φ_mw_agama.enclosedMass(r))\n",
    "v = @. sqrt(M / r) * V2KMS\n",
    "lines!(log10.(r), v, label=\"agama\", linestyle=:dot)\n",
    "\n",
    "\n",
    "axislegend()\n",
    "fig\n"
   ]
  },
  {
   "cell_type": "code",
   "execution_count": null,
   "id": "23",
   "metadata": {},
   "outputs": [],
   "source": []
  }
 ],
 "metadata": {
  "kernelspec": {
   "display_name": "pyjulia",
   "language": "python",
   "name": "pyjulia"
  },
  "language_info": {
   "codemirror_mode": {
    "name": "ipython",
    "version": 3
   },
   "file_extension": ".py",
   "mimetype": "text/x-python",
   "name": "python",
   "nbconvert_exporter": "python",
   "pygments_lexer": "ipython3",
   "version": "3.12.4"
  }
 },
 "nbformat": 4,
 "nbformat_minor": 5
}
