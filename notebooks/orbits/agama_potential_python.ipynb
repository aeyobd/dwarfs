{
 "cells": [
  {
   "cell_type": "markdown",
   "id": "0",
   "metadata": {},
   "source": [
    "This notebook explores a few different potential models of the Milky Way"
   ]
  },
  {
   "cell_type": "code",
   "execution_count": null,
   "id": "1",
   "metadata": {
    "tags": []
   },
   "outputs": [],
   "source": [
    "import agama\n",
    "\n",
    "import arya\n",
    "import matplotlib.pyplot as plt\n",
    "import astropy.units as u\n",
    "import astropy.constants as c\n",
    "import numpy as np\n",
    "\n",
    "from astropy import coordinates as coord\n"
   ]
  },
  {
   "cell_type": "code",
   "execution_count": null,
   "id": "2",
   "metadata": {
    "tags": []
   },
   "outputs": [],
   "source": [
    "from astropy.constants import G\n",
    "# galpy_to_standard_force = 1/((2*np.pi*G *u.Msun / u.pc**2).to(\"km/Myr s\"))\n",
    "# print(galpy_to_standard_force)\n",
    "# galpy_to_standard_force = galpy_to_standard_force.value\n",
    "\n",
    "H0 = 67.74*u.km/u.s/u.Mpc\n",
    "Ωm = 0.3\n",
    "ρ_c = 3* H0**2 / (8*np.pi * G )\n",
    "ρ200 = 200*ρ_c.to(\"Msun / kpc^3\")\n",
    "\n",
    "\n",
    "kms = u.km/u.s\n",
    "Σ0 = u.Msun / u.pc**2"
   ]
  },
  {
   "cell_type": "code",
   "execution_count": null,
   "id": "3",
   "metadata": {
    "tags": []
   },
   "outputs": [],
   "source": [
    "V0 = 207.4 # km / s\n",
    "M0 = 1 # 1e10 Msun\n",
    "R0 = 1 # kpc\n",
    "T0 = 4.715e-3 # Gyr"
   ]
  },
  {
   "cell_type": "code",
   "execution_count": null,
   "id": "4",
   "metadata": {
    "tags": []
   },
   "outputs": [],
   "source": [
    "#agama.setUnits(mass=M0*1e10, length=R0, time=T0 * 1e3)\n",
    "agama.G"
   ]
  },
  {
   "cell_type": "code",
   "execution_count": null,
   "id": "5",
   "metadata": {
    "tags": []
   },
   "outputs": [],
   "source": [
    "T_END = 10 / T0\n",
    "times = np.linspace(0, T_END, 10_000)"
   ]
  },
  {
   "cell_type": "code",
   "execution_count": null,
   "id": "6",
   "metadata": {
    "tags": []
   },
   "outputs": [],
   "source": [
    "def plot_orbit_x_y(o, **kwargs):\n",
    "    times, pos = o\n",
    "    plt.scatter(pos[:, 0], pos[:, 1], s=2, c=times, **kwargs)\n",
    "    plt.gca().set_aspect(1)\n",
    "    plt.xlabel(\"x / kpc\")\n",
    "    plt.ylabel(\"y / kpc\")\n",
    "    plt.show()\n"
   ]
  },
  {
   "cell_type": "code",
   "execution_count": null,
   "id": "7",
   "metadata": {
    "tags": []
   },
   "outputs": [],
   "source": [
    "def plot_orbit_r_t(o, **kwargs):\n",
    "    times, pos = o\n",
    "    r = np.sqrt(np.sum(pos[:, 0:3] ** 2, axis=1) )\n",
    "    plt.scatter(times * T0, r, c=times, s=2, **kwargs)\n",
    "    \n",
    "    print(\"peri : \", np.min(r))\n",
    "    print(\"apo : \", np.max(r))\n",
    "    plt.xlabel(\"time / Gyr\")\n",
    "    plt.ylabel(\"r / kpc\")\n",
    "    \n",
    "    plt.show()\n"
   ]
  },
  {
   "cell_type": "code",
   "execution_count": null,
   "id": "8",
   "metadata": {
    "tags": []
   },
   "outputs": [],
   "source": [
    "def plot_orbit_R_z(o, **kwargs):\n",
    "    times, pos = o\n",
    "    R = np.sqrt(np.sum(pos[:, 0:2] ** 2, axis=1) )\n",
    "    z = pos[:, 2]\n",
    "    plt.scatter(R, z, c=times, s=2, **kwargs)\n",
    "    \n",
    "    plt.xlim(0)\n",
    "    plt.gca().set_aspect(1)\n",
    "    plt.xlabel(\"R / kpc\")\n",
    "    plt.ylabel(\"z / kpc\")\n",
    "    plt.show()\n"
   ]
  },
  {
   "cell_type": "code",
   "execution_count": null,
   "id": "9",
   "metadata": {
    "tags": []
   },
   "outputs": [],
   "source": [
    "def A_NFW(c):\n",
    "    return (np.log(1+c) - c/(1+c))\n",
    "\n",
    "def R200_NFW(M200):\n",
    "    r = ( 3*M200 / (4*np.pi * 200*ρ_c))**(1/3)\n",
    "    return r.to(\"kpc\")"
   ]
  },
  {
   "cell_type": "code",
   "execution_count": null,
   "id": "10",
   "metadata": {
    "tags": []
   },
   "outputs": [],
   "source": [
    "def Ms_NFW(M200, c):\n",
    "    return M200 / A_NFW(c)  "
   ]
  },
  {
   "cell_type": "code",
   "execution_count": null,
   "id": "11",
   "metadata": {
    "tags": []
   },
   "outputs": [],
   "source": [
    "R200_NFW(1.04*M0 * 1e10*u.Msun) / 12.5"
   ]
  },
  {
   "cell_type": "code",
   "execution_count": null,
   "id": "12",
   "metadata": {
    "tags": []
   },
   "outputs": [],
   "source": [
    "def find_M_c(Ms, Rs, c_i=13):\n",
    "    c = c_i\n",
    "    for i in range(100):\n",
    "        M200 = Ms * A_NFW(c)\n",
    "        Rv = R200_NFW(M200)\n",
    "        c = (Rv/Rs).decompose()\n",
    "    return c, M200"
   ]
  },
  {
   "cell_type": "markdown",
   "id": "13",
   "metadata": {
    "tags": []
   },
   "source": [
    "# Sky Positions"
   ]
  },
  {
   "cell_type": "code",
   "execution_count": null,
   "id": "14",
   "metadata": {
    "tags": []
   },
   "outputs": [],
   "source": [
    "sculptor = coord.SkyCoord(\n",
    "    ra=15.0183*u.degree, \n",
    "    dec= -33.7186*u.degree, \n",
    "    distance=83.2*u.kpc, \n",
    "    radial_velocity=111.4*kms,\n",
    "    pm_ra_cosdec=0.099*u.mas/u.year, \n",
    "    pm_dec=-0.160*u.mas/u.year\n",
    ")                 "
   ]
  },
  {
   "cell_type": "code",
   "execution_count": null,
   "id": "15",
   "metadata": {
    "tags": []
   },
   "outputs": [],
   "source": [
    "dwarf_galaxy = sculptor\n",
    "coord.galactocentric_frame_defaults.set(\"v4.0\")\n",
    "\n",
    "gc_frame = coord.Galactocentric()\n",
    "dwarf_galaxy_gc = dwarf_galaxy.transform_to(gc_frame)\n",
    "dwarf_galaxy_gc\n",
    "\n",
    "print(dwarf_galaxy_gc.cartesian.xyz)\n",
    "print(dwarf_galaxy_gc.velocity.d_xyz)\n",
    "\n",
    "x = dwarf_galaxy_gc.cartesian\n",
    "v = dwarf_galaxy_gc.velocity\n",
    "\n",
    "dwarf_galaxy_gc = coord.Galactocentric(x=x.x, y=x.y, z=x.z,\n",
    "    v_x=-v.d_x, v_y=-v.d_y, v_z=-v.d_z)\n",
    "dwarf_galaxy_gc"
   ]
  },
  {
   "cell_type": "code",
   "execution_count": null,
   "id": "16",
   "metadata": {
    "tags": []
   },
   "outputs": [],
   "source": [
    "ic = np.concatenate([dwarf_galaxy_gc.cartesian.xyz.value / R0, dwarf_galaxy_gc.velocity.d_xyz.value / V0])\n",
    "ic"
   ]
  },
  {
   "cell_type": "code",
   "execution_count": null,
   "id": "17",
   "metadata": {
    "tags": []
   },
   "outputs": [],
   "source": [
    "gc_frame.galcen_v_sun"
   ]
  },
  {
   "cell_type": "markdown",
   "id": "18",
   "metadata": {},
   "source": [
    "in the case of sculptor, this results in a reversal in the sign of both proper motions."
   ]
  },
  {
   "cell_type": "code",
   "execution_count": null,
   "id": "19",
   "metadata": {
    "tags": []
   },
   "outputs": [],
   "source": [
    "def plot_pot(pot, z=0, **kwargs):\n",
    "    Rs = np.linspace(0.1, 20, 100) * u.kpc\n",
    "    z = z * u.kpc\n",
    "    phis = pot(Rs, z)\n",
    "    plt.plot(Rs, phis)\n",
    "\n",
    "def plot_pot_2d(pot, R_max=20, z_max=5, R_min=0.001, res=500, **kwargs):\n",
    "    plt.figure(figsize=(20, 7))\n",
    "    Rs = np.linspace(R_min, R_max, res) * u.kpc\n",
    "    zs = np.linspace(0, z_max, res) * u.kpc\n",
    "    phis = [gp.evaluatePotentials(pot, Rs, z) for z in zs]\n",
    "    plt.contourf(Rs, zs, phis, levels=round(np.sqrt(res)))\n",
    "    plt.colorbar()\n",
    "    plt.gca().set_aspect(1)\n",
    "    plt.xlabel(\"R / kpc\")\n",
    "    plt.ylabel(\"z / kpc\")\n",
    "    \n",
    "def plot_Vc(pot, R_max=60, R_min=0.01, res=300, **kwargs):\n",
    "    Rs = np.logspace(np.log10(R_min), np.log10(R_max), res)  * u.kpc\n",
    "    Vc = gp.calcRotcurve(pot, Rs, 0)\n",
    "    plt.plot(Rs, Vc, **kwargs)\n",
    "    plt.xlabel(r\"$R$ / kpc\")\n",
    "    plt.ylabel(r\"$V_{\\rm circ} / \\rm km\\,s^{-1}$\")\n",
    "    \n",
    "def plot_Kz(pot, R_max=9, R_min=4, z = 1.1*u.kpc, res=1000, **kwargs):\n",
    "    Rs = np.linspace(R_min, R_max, res) * u.kpc\n",
    "    Kz = [ -galpy_to_standard_force * gp.evaluatezforces(pot, r, z).value for r in Rs]\n",
    "    plt.plot(Rs,Kz, **kwargs)\n",
    "    plt.yscale(\"log\")\n",
    "    plt.ylabel(r\"Kz / ($2\\pi\\ G\\rm\\ M_\\odot / pc^2$)\")\n",
    "    plt.xlabel(r\"$R$ / kpc\")"
   ]
  },
  {
   "cell_type": "markdown",
   "id": "20",
   "metadata": {},
   "source": [
    "## Agama setup"
   ]
  },
  {
   "cell_type": "markdown",
   "id": "21",
   "metadata": {},
   "source": [
    "# loading potentials"
   ]
  },
  {
   "cell_type": "code",
   "execution_count": null,
   "id": "22",
   "metadata": {
    "tags": []
   },
   "outputs": [],
   "source": [
    "EP2020 = agama.Potential(file=\"../potentials/EP2020.ini\")"
   ]
  },
  {
   "cell_type": "code",
   "execution_count": null,
   "id": "23",
   "metadata": {
    "tags": []
   },
   "outputs": [],
   "source": [
    "n = EP2020[3]"
   ]
  },
  {
   "cell_type": "code",
   "execution_count": null,
   "id": "24",
   "metadata": {
    "tags": []
   },
   "outputs": [],
   "source": [
    "EP2020.Rperiapo([-5.31809, -9.4504, -82.5932, -0.0938908, -0.767999, 0.45474])"
   ]
  },
  {
   "cell_type": "code",
   "execution_count": null,
   "id": "25",
   "metadata": {
    "tags": []
   },
   "outputs": [],
   "source": [
    "gp_MW14 = agama.Potential(file=\"../potentials/galpy_2014.ini\")"
   ]
  },
  {
   "cell_type": "code",
   "execution_count": null,
   "id": "26",
   "metadata": {
    "tags": []
   },
   "outputs": [],
   "source": [
    "mm11 = agama.Potential(file=\"../potentials/mcmillan11.ini\")\n",
    "mm17 = agama.Potential(file=\"../potentials/mcmillan17.ini\")\n",
    "bt08 = agama.Potential(file=\"../potentials/BT08.ini\")\n",
    "piffl14 = agama.Potential(file=\"../potentials/piffl_14.ini\")\n"
   ]
  },
  {
   "cell_type": "code",
   "execution_count": null,
   "id": "27",
   "metadata": {
    "tags": []
   },
   "outputs": [],
   "source": [
    "def plot_orbit_in_pot(pot):\n",
    "    o = agama.orbit(ic=ic, time=T_END, potential=pot, trajsize=1000)\n",
    "    \n",
    "    \n",
    "    plot_orbit_r_t(o)\n",
    "    plot_orbit_R_z(o)\n",
    "    #plot_orbit_x_y(o)"
   ]
  },
  {
   "cell_type": "code",
   "execution_count": null,
   "id": "28",
   "metadata": {
    "tags": []
   },
   "outputs": [],
   "source": [
    "plot_orbit_in_pot(EP2020)"
   ]
  },
  {
   "cell_type": "code",
   "execution_count": null,
   "id": "29",
   "metadata": {
    "tags": []
   },
   "outputs": [],
   "source": [
    "plot_orbit_in_pot(mm11)"
   ]
  },
  {
   "cell_type": "code",
   "execution_count": null,
   "id": "30",
   "metadata": {
    "tags": []
   },
   "outputs": [],
   "source": [
    "plot_orbit_in_pot(mm17)"
   ]
  },
  {
   "cell_type": "code",
   "execution_count": null,
   "id": "31",
   "metadata": {
    "tags": []
   },
   "outputs": [],
   "source": [
    "plot_orbit_in_pot(gp_MW14)"
   ]
  },
  {
   "cell_type": "code",
   "execution_count": null,
   "id": "32",
   "metadata": {
    "tags": []
   },
   "outputs": [],
   "source": [
    "plot_orbit_in_pot(bt08)"
   ]
  },
  {
   "cell_type": "code",
   "execution_count": null,
   "id": "33",
   "metadata": {
    "tags": []
   },
   "outputs": [],
   "source": [
    "plot_orbit_in_pot(piffl14)"
   ]
  },
  {
   "cell_type": "code",
   "execution_count": null,
   "id": "34",
   "metadata": {
    "tags": []
   },
   "outputs": [],
   "source": [
    "EP2020.enclosedMass(100)"
   ]
  },
  {
   "cell_type": "code",
   "execution_count": null,
   "id": "35",
   "metadata": {
    "tags": []
   },
   "outputs": [],
   "source": [
    "R200_NFW(M200) / c"
   ]
  },
  {
   "cell_type": "code",
   "execution_count": null,
   "id": "36",
   "metadata": {
    "tags": []
   },
   "outputs": [],
   "source": [
    "galpy14_bulge = gp.PowerSphericalPotentialwCutoff(amp=1*M0/u.kpc**3, alpha=1.8, rc=1.9*u.kpc)\n",
    "galpy14_bulge *= (0.5*M0 / galpy14_bulge.mass(60)).value\n",
    "galpy14_disk = MN75(amp=6.8*M0, a=3*u.kpc, b=0.28*u.kpc)\n",
    "\n",
    "galpy14_halo = NFW(amp=Ms, a=16*u.kpc)\n",
    "galpy14 = galpy14_bulge + galpy14_disk + galpy14_halo\n",
    "galpy14_heavy = galpy14_bulge + galpy14_disk + 2*galpy14_halo"
   ]
  },
  {
   "cell_type": "code",
   "execution_count": null,
   "id": "37",
   "metadata": {
    "tags": []
   },
   "outputs": [],
   "source": [
    "galpy14_halo.mass(60*u.kpc) + galpy14_disk.mass(60*u.kpc) + galpy14_bulge.mass(60*u.kpc)"
   ]
  },
  {
   "cell_type": "code",
   "execution_count": null,
   "id": "38",
   "metadata": {
    "tags": []
   },
   "outputs": [],
   "source": [
    "galpy14_halo.mass(16*u.kpc * c)"
   ]
  },
  {
   "cell_type": "code",
   "execution_count": null,
   "id": "39",
   "metadata": {
    "tags": []
   },
   "outputs": [],
   "source": [
    "galpy14_bulge.mass(10)"
   ]
  },
  {
   "cell_type": "code",
   "execution_count": null,
   "id": "40",
   "metadata": {
    "tags": []
   },
   "outputs": [],
   "source": [
    "plot_Vc(galpy14, R_max=32)\n",
    "#plot_Vc(galpy14_heavy, R_max=32)\n",
    "\n",
    "plot_Vc(galpy14_bulge, R_max=32)\n",
    "plot_Vc(galpy14_disk, R_max=32)\n",
    "plot_Vc(galpy14_halo, R_max=32)"
   ]
  },
  {
   "cell_type": "code",
   "execution_count": null,
   "id": "41",
   "metadata": {
    "tags": []
   },
   "outputs": [],
   "source": [
    "def mcmillan_bulge_rho(R, z):\n",
    "    α=1.8\n",
    "    r_0 = 0.075/Rgp # kpc\n",
    "    r_c = 2.1/Rgp # kpc\n",
    "    q = 0.5\n",
    "    \n",
    "    x = np.sqrt(R**2 + (z/q)**2)\n",
    "    return  1*u.Msun/u.pc**3 / (1 + x/r_0)**α * np.exp(-(x/r_c)**2) \n",
    "\n",
    "mcmillan_bulge_unnorm = gp.SCFPotential.from_density(mcmillan_bulge_rho, N=40, symmetry=\"axisymmetric\", a=0.5/Rgp, L=20)\n"
   ]
  },
  {
   "cell_type": "code",
   "execution_count": null,
   "id": "42",
   "metadata": {
    "tags": []
   },
   "outputs": [],
   "source": [
    "A_mcmillan_bulge = (mcmillan_bulge_rho(0.5/Rgp, 0) / mcmillan_bulge_unnorm.dens(0.5*u.kpc, 0*u.kpc)).value\n"
   ]
  },
  {
   "cell_type": "code",
   "execution_count": null,
   "id": "43",
   "metadata": {
    "tags": []
   },
   "outputs": [],
   "source": [
    "thetas = [0, np.pi/3, np.pi/2, np.pi*2/3, np.pi]\n",
    "Rs = np.linspace(0.01, 10, 1000) * u.kpc\n",
    "# test approximation\n",
    "for theta in thetas:\n",
    "    rs = Rs * np.cos(theta)\n",
    "    zs = Rs*np.sin(theta)\n",
    "    plt.plot(Rs,  A_mcmillan_bulge * mcmillan_bulge_unnorm.dens(rs, zs))\n",
    "    plt.plot(Rs,  mcmillan_bulge_rho(rs/u.kpc/Rgp, zs/u.kpc/Rgp))\n",
    "\n",
    "    plt.xscale(\"log\")\n",
    "    plt.yscale(\"log\")\n",
    "    plt.ylim(1e-10)\n",
    "    plt.show()"
   ]
  },
  {
   "cell_type": "code",
   "execution_count": null,
   "id": "44",
   "metadata": {
    "tags": []
   },
   "outputs": [],
   "source": [
    "def mcmillan_disk(sigma, r, z):\n",
    "    return ExpDisk(amp=sigma / z / 2, hr=r, hz=z, )"
   ]
  },
  {
   "cell_type": "code",
   "execution_count": null,
   "id": "45",
   "metadata": {
    "tags": []
   },
   "outputs": [],
   "source": [
    "mcmillan2011_thin = mcmillan_disk(816.6*Σ0, 2.90*u.kpc, 0.3*u.kpc)\n",
    "mcmillan2011_thick = mcmillan_disk(208*Σ0, 3.31*u.kpc, 0.9*u.kpc)\n",
    "mcmillan2011_bulge = A_mcmillan_bulge * 95.6 * mcmillan_bulge_unnorm \n",
    "\n",
    "\n",
    "rh = 20.2 * u.kpc\n",
    "rho_h = 0.00846*u.Msun/u.pc**3\n",
    "Ms = rho_h * 4*np.pi * rh**3 \n",
    "mcmillan2011_halo = NFW(amp=Ms, a=rh)\n",
    "\n",
    "mcmillan2011 = mcmillan2011_bulge + mcmillan2011_halo + mcmillan2011_thick + mcmillan2011_thin"
   ]
  },
  {
   "cell_type": "code",
   "execution_count": null,
   "id": "46",
   "metadata": {
    "tags": []
   },
   "outputs": [],
   "source": [
    "for theta in thetas:\n",
    "    rs = Rs * np.cos(theta)\n",
    "    zs = Rs*np.sin(theta)\n",
    "    plt.plot(Rs, mcmillan2011_bulge(rs, zs))\n",
    "    plt.plot(Rs, (EP2020_bulge)(rs, zs))\n",
    "    plt.show()"
   ]
  },
  {
   "cell_type": "markdown",
   "id": "47",
   "metadata": {
    "jp-MarkdownHeadingCollapsed": true,
    "tags": []
   },
   "source": [
    "## Chaos"
   ]
  },
  {
   "cell_type": "code",
   "execution_count": null,
   "id": "48",
   "metadata": {},
   "outputs": [],
   "source": [
    "def mcmillan_gas_rho_model(z_d, R_m, R_d):\n",
    "    def inner(R, z, phi=0):\n",
    "        return  1 /(4*z_d) * np.exp(-R_m/R - R / R_d) * np.cosh(z/(2*z_d))**-2\n",
    "    return inner\n",
    "\n",
    "\n",
    "h1_rho = mcmillan_gas_rho_model(0.085, 4, 7)\n",
    "h2_rho = mcmillan_gas_rho_model(0.045, 12, 1.5)\n",
    "\n",
    "# h1_rho = mcmillan_gas_rho_model(1, 4/7, 1)\n",
    "# h2_rho = mcmillan_gas_rho_model(1, 7/1.5, 1)\n"
   ]
  },
  {
   "cell_type": "code",
   "execution_count": null,
   "id": "49",
   "metadata": {
    "tags": []
   },
   "outputs": [],
   "source": [
    "rh = 4\n",
    "rd = 7\n",
    "r_z = 0.085\n",
    "\n",
    "\n",
    "def S(x):\n",
    "    x = np.array(x)\n",
    "    return np.where(x<=0, np.nan, np.exp( -rd/x - x/rh))\n",
    "\n",
    "def hz(z):\n",
    "    x = z / r_z\n",
    "    return np.cosh(x)**-2\n",
    "\n",
    "    \n",
    "def Hz(z):\n",
    "\n",
    "    x = z / r_z\n",
    "    return r_z**2 * (2*x + np.log(np.exp(-2*x) + 1))\n",
    "\n",
    "def dHz(z):\n",
    "\n",
    "    x = z/r_z\n",
    "    return r_z*(-2*np.exp(-2*x)/(np.exp(-2*x) + 1) + 2)\n",
    "\n",
    "def dSdz(x):\n",
    "    x = np.array(x)\n",
    "\n",
    "    return np.where(x<=0, np.nan, -(1/rh - rd/x**2)*np.exp(-rd/x - x/rh))\n",
    "\n",
    "def dS2dz2(x):\n",
    "    x = np.array(x)\n",
    "\n",
    "    return np.where(x<=0, np.nan,\n",
    "                    (1/rh - rd/x**2)**2*np.exp(-rd/x - x/rh) - 2*rd*np.exp(-rd/x - x/rh)/x**3\n",
    "\n",
    "                   )"
   ]
  },
  {
   "cell_type": "code",
   "execution_count": null,
   "id": "50",
   "metadata": {
    "tags": []
   },
   "outputs": [],
   "source": [
    "mcmillan_h1_unnorm = gp.DiskSCFPotential(dens=h1_rho, N=20,  L=20, a=7,  \n",
    "      Sigma={'type':'exp','h':1, 'Rhole':4/7},\n",
    "      hz={'type':'sech2','h':0.085},\n",
    "        )"
   ]
  },
  {
   "cell_type": "code",
   "execution_count": null,
   "id": "51",
   "metadata": {
    "tags": []
   },
   "outputs": [],
   "source": [
    "mcmillan_h2_unnorm = gp.DiskSCFPotential(dens=h2_rho, N=20,  L=20, a=1, \n",
    "      Sigma={'type':'exp','h':1, 'Rhole':12/1.5},\n",
    "      hz={'type':'sech2','h':0.045},\n",
    "        )"
   ]
  },
  {
   "cell_type": "code",
   "execution_count": null,
   "id": "52",
   "metadata": {
    "tags": []
   },
   "outputs": [],
   "source": [
    "h1_rho(8, 0, 0)"
   ]
  },
  {
   "cell_type": "code",
   "execution_count": null,
   "id": "53",
   "metadata": {},
   "outputs": [],
   "source": [
    "A_mcmillan_h1 = (h1_rho(3, 0, 0) / mcmillan_h1_unnorm.dens(3*u.kpc, 0, 0*u.kpc))\n",
    "A_mcmillan_h2 = (h2_rho(3, 0, 0) / mcmillan_h2_unnorm.dens(3*u.kpc, 0, 0*u.kpc))"
   ]
  },
  {
   "cell_type": "code",
   "execution_count": null,
   "id": "54",
   "metadata": {
    "tags": []
   },
   "outputs": [],
   "source": [
    "zs = [0, 0.5, 1, 3, 10, 100] *u.kpc* 0.085\n",
    "# test approximation\n",
    "for z in zs:\n",
    "    plt.plot(Rs,  A_mcmillan_h1 * mcmillan_h1_unnorm.dens(Rs, z))\n",
    "    plt.plot(Rs,  h1_rho(Rs.value, z.value, 3))\n",
    "    plt.xscale(\"log\")\n",
    "    plt.yscale(\"log\")\n",
    "    plt.ylim(1e-10)\n",
    "    plt.show()"
   ]
  },
  {
   "cell_type": "code",
   "execution_count": null,
   "id": "55",
   "metadata": {
    "tags": []
   },
   "outputs": [],
   "source": [
    "zs = [0, 0.5, 1, 3, 10, 100] * u.kpc\n",
    "# test approximation\n",
    "for z in zs:\n",
    "    plt.plot(Rs,  A_mcmillan_h2 * mcmillan_h2_unnorm.dens(Rs, z))\n",
    "    plt.plot(Rs,  h2_rho(Rs.value, z.value, 3))\n",
    "    plt.xscale(\"log\")\n",
    "    plt.yscale(\"log\")\n",
    "    plt.ylim(1e-10)\n",
    "    plt.show()"
   ]
  },
  {
   "cell_type": "code",
   "execution_count": null,
   "id": "56",
   "metadata": {},
   "outputs": [],
   "source": [
    "A_mcmillan_h1 = (h1_rho(3, 0, 0) / mcmillan_h1_unnorm.dens(3*u.kpc, 0, 0*u.kpc))\n",
    "A_mcmillan_h2 = (h2_rho(3, 0, 0) / mcmillan_h2_unnorm.dens(3*u.kpc, 0, 0*u.kpc))"
   ]
  },
  {
   "cell_type": "markdown",
   "id": "57",
   "metadata": {},
   "source": [
    "## normal"
   ]
  },
  {
   "cell_type": "code",
   "execution_count": null,
   "id": "58",
   "metadata": {
    "tags": []
   },
   "outputs": [],
   "source": [
    "mcmillan2017_bulge = A_mcmillan_bulge * 95.6 * mcmillan_bulge_unnorm \n",
    "# mcmillan2017_h1 = 53.1*A_mcmillan_h1 * mcmillan_h1_unnorm\n",
    "# mcmillan2017_h2 = 2380*A_mcmillan_h2 * mcmillan_h2_unnorm\n",
    "\n",
    "mcmillan2017_h1 = gp.MN3ExponentialDiskPotential(amp=1/3 *53.1*Σ0/(0.085*u.kpc), hr=7*u.kpc, hz=0.085*u.kpc)\n",
    "mcmillan2017_h2 = gp.MN3ExponentialDiskPotential(amp=1/56 *2380*Σ0/(0.045*u.kpc), hr=1.5*u.kpc, hz=0.045*u.kpc)\n",
    "\n",
    "mcmillan2017_h1b = gp.RazorThinExponentialDiskPotential(amp=35.7*Σ0, hr=7*u.kpc)\n",
    "mcmillan2017_h2b = gp.RazorThinExponentialDiskPotential(amp=11.9*Σ0, hr=1.5*u.kpc)\n",
    "\n",
    "\n",
    "mcmillan2017_thin = mcmillan_disk(886.7*Σ0, 2.53*u.kpc, 0.3*u.kpc)\n",
    "mcmillan2017_thick = mcmillan_disk(156*Σ0, 3.38*u.kpc, 0.9*u.kpc)\n",
    "\n",
    "\n",
    "rh = 18.6 * u.kpc\n",
    "rho_h = 0.0093*u.Msun/u.pc**3\n",
    "Ms = rho_h * 4*np.pi * rh**3 \n",
    "mcmillan2017_halo = NFW(amp=Ms, a=rh)\n",
    "\n",
    "mcmillan2017 = (\n",
    "    mcmillan2017_bulge \n",
    "    + mcmillan2017_halo \n",
    "    + mcmillan2017_thick \n",
    "    + mcmillan2017_thin \n",
    "    + mcmillan2017_h1\n",
    "    + mcmillan2017_h2\n",
    ")\n",
    "\n",
    "mcmillan2017_nogas = (\n",
    "    mcmillan2017_bulge \n",
    "    + mcmillan2017_halo \n",
    "    + mcmillan2017_thick \n",
    "    + mcmillan2017_thin \n",
    ")\n",
    "\n"
   ]
  },
  {
   "cell_type": "code",
   "execution_count": null,
   "id": "59",
   "metadata": {
    "tags": []
   },
   "outputs": [],
   "source": [
    "mcmillan2017_bulge.mass(100*u.kpc)"
   ]
  },
  {
   "cell_type": "code",
   "execution_count": null,
   "id": "60",
   "metadata": {
    "tags": []
   },
   "outputs": [],
   "source": [
    "(2*np.pi * 886.7*Σ0 * ( 2.53*u.kpc)**2).to(\"Msun\")"
   ]
  },
  {
   "cell_type": "code",
   "execution_count": null,
   "id": "61",
   "metadata": {
    "tags": []
   },
   "outputs": [],
   "source": [
    "0.862 + 3.566 + 1.119 # stellar mass is correct"
   ]
  },
  {
   "cell_type": "code",
   "execution_count": null,
   "id": "62",
   "metadata": {
    "tags": []
   },
   "outputs": [],
   "source": [
    "mcmillan2017_halo.dens(8.2*u.kpc, 0)"
   ]
  },
  {
   "cell_type": "code",
   "execution_count": null,
   "id": "63",
   "metadata": {
    "tags": []
   },
   "outputs": [],
   "source": [
    "gp.evaluatezforces(mcmillan2017, 8.2*u.kpc, z=1.1*u.kpc) * galpy_to_standard_force"
   ]
  },
  {
   "cell_type": "code",
   "execution_count": null,
   "id": "64",
   "metadata": {
    "tags": []
   },
   "outputs": [],
   "source": [
    "sum([a.mass(100*u.kpc) for a in mcmillan2017])"
   ]
  },
  {
   "cell_type": "code",
   "execution_count": null,
   "id": "65",
   "metadata": {
    "tags": []
   },
   "outputs": [],
   "source": [
    "(np.pi * 2 * (156*Σ0) * (3.38*u.kpc)**2).to(\"Msun\")"
   ]
  },
  {
   "cell_type": "code",
   "execution_count": null,
   "id": "66",
   "metadata": {
    "tags": []
   },
   "outputs": [],
   "source": [
    "mcmillan2017_thick.mass(1000)"
   ]
  },
  {
   "cell_type": "code",
   "execution_count": null,
   "id": "67",
   "metadata": {
    "tags": []
   },
   "outputs": [],
   "source": [
    "(2*np.pi * 53.1*Σ0 * (7*u.kpc)**2).to(\"Msun\")"
   ]
  },
  {
   "cell_type": "code",
   "execution_count": null,
   "id": "68",
   "metadata": {},
   "outputs": [],
   "source": [
    "mcmillan2017_h1.mass(50*u.kpc)"
   ]
  },
  {
   "cell_type": "code",
   "execution_count": null,
   "id": "69",
   "metadata": {
    "tags": []
   },
   "outputs": [],
   "source": [
    "mcmillan2017_h2.mass(10*u.kpc)"
   ]
  },
  {
   "cell_type": "code",
   "execution_count": null,
   "id": "70",
   "metadata": {
    "tags": []
   },
   "outputs": [],
   "source": [
    "mcmillan2017_bulge.mass(10000*u.kpc)"
   ]
  },
  {
   "cell_type": "code",
   "execution_count": null,
   "id": "71",
   "metadata": {
    "tags": []
   },
   "outputs": [],
   "source": [
    "mcmillan2017_h1b.mass(1000)"
   ]
  },
  {
   "cell_type": "code",
   "execution_count": null,
   "id": "72",
   "metadata": {
    "tags": []
   },
   "outputs": [],
   "source": [
    "mcmillan2017_h2b.mass(10000)"
   ]
  },
  {
   "cell_type": "code",
   "execution_count": null,
   "id": "73",
   "metadata": {
    "tags": []
   },
   "outputs": [],
   "source": [
    "Rs = np.linspace(0, 20, 1000)*u.kpc\n",
    "plt.plot(Rs, mcmillan2017_h1.dens(Rs, 0*u.kpc))\n",
    "plt.plot(Rs, mcmillan2017_h2.dens(Rs, 0*u.kpc))\n",
    "\n",
    "plt.yscale(\"log\")"
   ]
  },
  {
   "cell_type": "code",
   "execution_count": null,
   "id": "74",
   "metadata": {
    "tags": []
   },
   "outputs": [],
   "source": [
    "plot_Vc(mcmillan2017, label=\"thick\")\n",
    "plot_Vc(mcmillan2017_nogas, label=\"thick\")\n"
   ]
  },
  {
   "cell_type": "code",
   "execution_count": null,
   "id": "75",
   "metadata": {},
   "outputs": [],
   "source": [
    "plot_Vc(mcmillan2017_thick, label=\"thick\")\n",
    "plot_Vc(mcmillan2017_thin, label=\"thin\")\n",
    "\n",
    "\n",
    "plot_Vc(mcmillan2017_h1, label=\"h1\")\n",
    "plot_Vc(mcmillan2017_h1b, )\n",
    "\n",
    "plot_Vc(mcmillan2017_h2,label=\"h2\")\n",
    "arya.Legend(loc=-1)\n"
   ]
  },
  {
   "cell_type": "code",
   "execution_count": null,
   "id": "76",
   "metadata": {
    "tags": []
   },
   "outputs": [],
   "source": [
    "Mp = 2.32e7*u.Msun\n",
    "pouliasis17_bulge = Plummer(amp=460*Mp, b=0.3*u.kpc)\n",
    "pouliasis17_thin = MN75(amp=1700*Mp, a=5.3*u.kpc, b=0.25*u.kpc)\n",
    "pouliasis17_thick = MN75(amp=1700*Mp, a=2.6*u.kpc, b=0.8*u.kpc)\n",
    "ah = 14*u.kpc\n",
    "Mh = 6000*Mp\n",
    "pouliasis17_halo = 2*NFW(amp=Mh, a=ah) + gp.TwoPowerSphericalPotential(alpha=0, beta=2, amp=Mh, a=ah)\n",
    "\n",
    "pouliasis17 = pouliasis17_bulge + pouliasis17_thin + pouliasis17_thick + pouliasis17_halo"
   ]
  },
  {
   "cell_type": "code",
   "execution_count": null,
   "id": "77",
   "metadata": {
    "tags": []
   },
   "outputs": [],
   "source": [
    "pouliasis17b_thin = MN75(amp=1600*Mp, a=4.8*u.kpc, b=0.25*u.kpc)\n",
    "pouliasis17b_thick = MN75(amp=1700*Mp, a=2.0*u.kpc, b=0.8*u.kpc)\n",
    "ah = 14*u.kpc\n",
    "Mh = 9000*Mp\n",
    "pouliasis17b_halo = 2*NFW(amp=Mh, a=ah) + gp.TwoPowerSphericalPotential(alpha=0, beta=2, amp=Mh, a=ah)\n",
    "\n",
    "pouliasis17b = pouliasis17b_thin + pouliasis17b_thick + pouliasis17b_halo"
   ]
  },
  {
   "cell_type": "markdown",
   "id": "78",
   "metadata": {
    "tags": []
   },
   "source": [
    "builds on pouliasis but with NFW halo and more recent (cephied) data. Very close to galpy."
   ]
  },
  {
   "cell_type": "code",
   "execution_count": null,
   "id": "79",
   "metadata": {
    "tags": []
   },
   "outputs": [],
   "source": [
    "R200_NFW(M200) / c"
   ]
  },
  {
   "cell_type": "code",
   "execution_count": null,
   "id": "80",
   "metadata": {
    "tags": []
   },
   "outputs": [],
   "source": [
    "M200 = 66.3*M0\n",
    "c = 12.36\n",
    "Ms = Ms_NFW( M200, c)\n",
    "\n",
    "Rs = 14.45*u.kpc\n",
    "Ms"
   ]
  },
  {
   "cell_type": "code",
   "execution_count": null,
   "id": "81",
   "metadata": {
    "tags": []
   },
   "outputs": [],
   "source": [
    "find_M_c(Ms, Rs)"
   ]
  },
  {
   "cell_type": "code",
   "execution_count": null,
   "id": "82",
   "metadata": {
    "tags": []
   },
   "outputs": [],
   "source": [
    "M200 = 6.749*M0\n",
    "c = 12.7988\n",
    "Ms = Ms_NFW(M200, c)"
   ]
  },
  {
   "cell_type": "code",
   "execution_count": null,
   "id": "83",
   "metadata": {
    "tags": []
   },
   "outputs": [],
   "source": [
    "Ms"
   ]
  },
  {
   "cell_type": "code",
   "execution_count": null,
   "id": "84",
   "metadata": {
    "tags": []
   },
   "outputs": [],
   "source": [
    "ablimit_c = {\n",
    "    \"halo\": NFW(amp=Ms, a=Rs),\n",
    "    \"disk\": pouliasis17_thick + pouliasis17_thin,\n",
    "    \"bulge\": pouliasis17_bulge,\n",
    "}\n",
    "\n",
    "ablimit20a = [val for key, val in ablimit_c.items()]\n",
    "\n",
    "\n"
   ]
  },
  {
   "cell_type": "code",
   "execution_count": null,
   "id": "85",
   "metadata": {
    "tags": []
   },
   "outputs": [],
   "source": [
    "M200 = 82.2*M0\n",
    "c = 13.04\n",
    "Ms = Ms_NFW(M200, c)\n",
    "ablimit_b_comp = {\n",
    "    \"halo\": NFW(amp=Ms, a=14.71*u.kpc),\n",
    "    \"disk\": pouliasis17_thick + pouliasis17_thin,\n",
    "    \"bulge\": pouliasis17_bulge,\n",
    "}\n",
    "\n",
    "ablimit20b = [val for key, val in ablimit_b_comp.items()]\n"
   ]
  },
  {
   "cell_type": "code",
   "execution_count": null,
   "id": "86",
   "metadata": {
    "tags": []
   },
   "outputs": [],
   "source": [
    "R200_NFW(M200) / c"
   ]
  },
  {
   "cell_type": "code",
   "execution_count": null,
   "id": "87",
   "metadata": {
    "tags": []
   },
   "outputs": [],
   "source": [
    "plot_Vc(ablimit_c[\"halo\"])\n",
    "plot_Vc(galpy14_halo)"
   ]
  },
  {
   "cell_type": "code",
   "execution_count": null,
   "id": "88",
   "metadata": {
    "tags": []
   },
   "outputs": [],
   "source": [
    "plot_Vc(ablimit_b_comp[\"halo\"])\n",
    "plot_Vc(1.2*galpy14_halo)"
   ]
  },
  {
   "cell_type": "code",
   "execution_count": null,
   "id": "89",
   "metadata": {
    "tags": []
   },
   "outputs": [],
   "source": [
    "4*np.pi * M0 / (207.0*u.kpc)**3"
   ]
  },
  {
   "cell_type": "code",
   "execution_count": null,
   "id": "90",
   "metadata": {
    "tags": []
   },
   "outputs": [],
   "source": [
    "shen22_halo = gp.PowerSphericalPotential(amp=0.2275*M0, r1=1*u.kpc, alpha=2+0.43)\n",
    "\n",
    "\n",
    "c=12\n",
    "R200=207*u.kpc\n",
    "Ms = Ms_NFW(105*M0, c) # is 95 in paper but not described well...\n",
    "shen22_halo_b = NFW(amp=Ms, a=R200/c)"
   ]
  },
  {
   "cell_type": "code",
   "execution_count": null,
   "id": "91",
   "metadata": {},
   "outputs": [],
   "source": [
    "conv.mass_in_1010msol(vo=Vgp, ro=Rgp)"
   ]
  },
  {
   "cell_type": "code",
   "execution_count": null,
   "id": "92",
   "metadata": {
    "tags": []
   },
   "outputs": [],
   "source": [
    "shen22_halo.mass(250*u.kpc) / M0"
   ]
  },
  {
   "cell_type": "code",
   "execution_count": null,
   "id": "93",
   "metadata": {
    "tags": []
   },
   "outputs": [],
   "source": [
    "shen22_halo_b.mass(R200) "
   ]
  },
  {
   "cell_type": "code",
   "execution_count": null,
   "id": "94",
   "metadata": {},
   "outputs": [],
   "source": [
    "shen22_halo.mass(10*u.kpc) / M0"
   ]
  },
  {
   "cell_type": "code",
   "execution_count": null,
   "id": "95",
   "metadata": {},
   "outputs": [],
   "source": [
    "shen22_halo.mass(100*u.kpc) / M0"
   ]
  },
  {
   "cell_type": "code",
   "execution_count": null,
   "id": "96",
   "metadata": {
    "tags": []
   },
   "outputs": [],
   "source": [
    "shen22_halo.mass(250*u.kpc) / M0"
   ]
  },
  {
   "cell_type": "code",
   "execution_count": null,
   "id": "97",
   "metadata": {
    "tags": []
   },
   "outputs": [],
   "source": [
    "Rs = np.linspace(10, 250, 1000) * u.kpc"
   ]
  },
  {
   "cell_type": "code",
   "execution_count": null,
   "id": "98",
   "metadata": {
    "tags": []
   },
   "outputs": [],
   "source": [
    "plt.plot(Rs, [shen22_halo.mass(R) / M0 for R in Rs])\n",
    "plt.plot(Rs, [shen22_halo_b.mass(R) / M0 for R in Rs])"
   ]
  },
  {
   "cell_type": "code",
   "execution_count": null,
   "id": "99",
   "metadata": {
    "tags": []
   },
   "outputs": [],
   "source": [
    "plot_Vc(shen22_halo, R_min=10)\n",
    "plot_Vc(galpy14)\n",
    "plot_Vc(shen22_halo_b, R_min=10)"
   ]
  },
  {
   "cell_type": "code",
   "execution_count": null,
   "id": "100",
   "metadata": {
    "tags": []
   },
   "outputs": [],
   "source": [
    "nitschai_halo = gp.TwoPowerTriaxialPotential(amp=41.1*M0, alpha=1.53, beta=3, a=16.8*u.kpc, c=1.14)\n",
    "nitschai_halo_b = gp.TwoPowerSphericalPotential(amp=44.1*M0, alpha=1.53, beta=3, a=16.8*u.kpc)"
   ]
  },
  {
   "cell_type": "code",
   "execution_count": null,
   "id": "101",
   "metadata": {
    "tags": []
   },
   "outputs": [],
   "source": [
    "Mh = nitschai_halo.mass(8.2*u.kpc)"
   ]
  },
  {
   "cell_type": "code",
   "execution_count": null,
   "id": "102",
   "metadata": {
    "tags": []
   },
   "outputs": [],
   "source": [
    "nitschai_halo.dens(8.2*u.kpc, 0*u.kpc)"
   ]
  },
  {
   "cell_type": "code",
   "execution_count": null,
   "id": "103",
   "metadata": {
    "tags": []
   },
   "outputs": [],
   "source": [
    "Mh / (Mh + mcmillan2017_halo.mass(8.2*u.kpc) + mcmillan2017_thick.mass(8.2*u.kpc) +  mcmillan2017_thin.mass(8.2*u.kpc))"
   ]
  },
  {
   "cell_type": "code",
   "execution_count": null,
   "id": "104",
   "metadata": {
    "tags": []
   },
   "outputs": [],
   "source": [
    "plot_Vc(nitschai_halo)\n",
    "plot_Vc(nitschai_halo_b)\n",
    "\n",
    "plot_Vc(EP2020_halo)"
   ]
  },
  {
   "cell_type": "code",
   "execution_count": null,
   "id": "105",
   "metadata": {
    "tags": []
   },
   "outputs": [],
   "source": [
    "nitschai = nitschai_halo + mcmillan2017_bulge + mcmillan2017_thick + mcmillan2017_thick + mcmillan2017_h1 + mcmillan2017_h2\n",
    "nitschai_b = nitschai_halo_b + mcmillan2017_bulge + mcmillan2017_thick + mcmillan2017_thick + mcmillan2017_h1 + mcmillan2017_h2"
   ]
  },
  {
   "cell_type": "code",
   "execution_count": null,
   "id": "106",
   "metadata": {
    "tags": []
   },
   "outputs": [],
   "source": [
    "mcmillan2017_thin.mass(100)"
   ]
  },
  {
   "cell_type": "code",
   "execution_count": null,
   "id": "107",
   "metadata": {
    "tags": []
   },
   "outputs": [],
   "source": [
    "mcmillan2017_h2b.surfdens(1, 0)"
   ]
  },
  {
   "cell_type": "code",
   "execution_count": null,
   "id": "108",
   "metadata": {
    "tags": []
   },
   "outputs": [],
   "source": [
    "(mcmillan2017_thick.dens(1, 0) + mcmillan2017_thin.dens(1, 0)) / (0.3*u.Msun/u.Lsun) / (1.12)"
   ]
  },
  {
   "cell_type": "code",
   "execution_count": null,
   "id": "109",
   "metadata": {
    "tags": []
   },
   "outputs": [],
   "source": [
    "A_disk = 0.056 / 0.2"
   ]
  },
  {
   "cell_type": "code",
   "execution_count": null,
   "id": "110",
   "metadata": {
    "tags": []
   },
   "outputs": [],
   "source": [
    "plot_Vc(nitschai, R_min=4, R_max=12)\n",
    "plot_Vc(mcmillan2017, R_min=4, R_max=12)\n",
    "\n",
    "plt.ylim(200, 250)"
   ]
  },
  {
   "cell_type": "code",
   "execution_count": null,
   "id": "111",
   "metadata": {
    "tags": []
   },
   "outputs": [],
   "source": [
    "plot_Vc(nitschai)\n",
    "plot_Vc(mcmillan2017) #only difference is halo\n"
   ]
  },
  {
   "cell_type": "code",
   "execution_count": null,
   "id": "112",
   "metadata": {
    "tags": []
   },
   "outputs": [],
   "source": [
    "Ms = 105*M0\n",
    "r_s = 20.2*u.kpc\n",
    "heavy_halo = NFW(amp=Ms, a=r_s)\n",
    "find_M_c(Ms, r_s)"
   ]
  },
  {
   "cell_type": "code",
   "execution_count": null,
   "id": "113",
   "metadata": {
    "tags": []
   },
   "outputs": [],
   "source": [
    "plot_Vc(2*galpy14_halo)\n",
    "plot_Vc(heavy_halo)"
   ]
  },
  {
   "cell_type": "code",
   "execution_count": null,
   "id": "114",
   "metadata": {
    "tags": []
   },
   "outputs": [],
   "source": [
    "Ms = 60*M0\n",
    "r_s = 20.2*u.kpc\n",
    "light_halo = NFW(amp=Ms, a=r_s)\n",
    "find_M_c(Ms, r_s)"
   ]
  },
  {
   "cell_type": "code",
   "execution_count": null,
   "id": "115",
   "metadata": {
    "tags": []
   },
   "outputs": [],
   "source": [
    "plot_Vc(galpy14_halo)\n",
    "plot_Vc(light_halo)"
   ]
  },
  {
   "cell_type": "code",
   "execution_count": null,
   "id": "116",
   "metadata": {
    "tags": []
   },
   "outputs": [],
   "source": [
    "Ms = 130*M0\n",
    "r_s = 33*u.kpc\n",
    "me_flat_halo =  NFW(amp=Ms, a=r_s)\n",
    "me_flat = EP2020_thin + EP2020_thick + EP2020_bulge + me_flat_halo\n",
    "\n",
    "find_M_c(Ms, r_s)"
   ]
  },
  {
   "cell_type": "code",
   "execution_count": null,
   "id": "117",
   "metadata": {
    "tags": []
   },
   "outputs": [],
   "source": [
    "plot_Vc(me_flat_halo)\n",
    "#plot_Vc(EP2020_halo)\n",
    "plot_Vc(pouliasis17_halo)"
   ]
  },
  {
   "cell_type": "code",
   "execution_count": null,
   "id": "118",
   "metadata": {
    "tags": []
   },
   "outputs": [],
   "source": [
    "Ms = 45*M0\n",
    "r_s = 10*u.kpc\n",
    "me_steep_halo =  NFW(amp=Ms, a=r_s)\n",
    "\n",
    "me_steep = EP2020_thin + EP2020_thick + EP2020_bulge + me_steep_halo\n",
    "\n",
    "find_M_c(Ms, r_s)"
   ]
  },
  {
   "cell_type": "code",
   "execution_count": null,
   "id": "119",
   "metadata": {
    "tags": []
   },
   "outputs": [],
   "source": [
    "plot_Vc(me_steep_halo)\n",
    "#plot_Vc(EP2020_halo)\n",
    "plot_Vc(nitschai_halo)"
   ]
  },
  {
   "cell_type": "code",
   "execution_count": null,
   "id": "120",
   "metadata": {
    "tags": []
   },
   "outputs": [],
   "source": [
    "plot_Vc(EP2020_halo)\n",
    "plot_Vc(me_flat_halo)\n",
    "plot_Vc(me_steep_halo)\n"
   ]
  },
  {
   "cell_type": "code",
   "execution_count": null,
   "id": "121",
   "metadata": {
    "tags": []
   },
   "outputs": [],
   "source": [
    "plot_Vc(EP2020_halo)\n",
    "plot_Vc(heavy_halo)\n",
    "plot_Vc(light_halo)"
   ]
  },
  {
   "cell_type": "code",
   "execution_count": null,
   "id": "122",
   "metadata": {
    "tags": []
   },
   "outputs": [],
   "source": [
    "plot_Vc(EP2020)\n",
    "plot_Vc(me_flat)\n",
    "plot_Vc(me_steep)\n"
   ]
  },
  {
   "cell_type": "code",
   "execution_count": null,
   "id": "123",
   "metadata": {
    "tags": []
   },
   "outputs": [],
   "source": [
    "heavy_mw = EP2020_bulge + EP2020_thin + EP2020_thick + heavy_halo\n",
    "light_mw = EP2020_bulge + EP2020_thin + EP2020_thick + light_halo"
   ]
  },
  {
   "cell_type": "code",
   "execution_count": null,
   "id": "124",
   "metadata": {
    "tags": []
   },
   "outputs": [],
   "source": [
    "plot_Vc(me_steep)\n",
    "plot_Vc(nitschai)"
   ]
  },
  {
   "cell_type": "code",
   "execution_count": null,
   "id": "125",
   "metadata": {
    "tags": []
   },
   "outputs": [],
   "source": [
    "plot_Vc(me_flat)\n",
    "plot_Vc(pouliasis17)"
   ]
  },
  {
   "cell_type": "code",
   "execution_count": null,
   "id": "126",
   "metadata": {
    "tags": []
   },
   "outputs": [],
   "source": [
    "plot_Vc(EP2020)\n",
    "plot_Vc(heavy_mw)\n",
    "plot_Vc(light_mw)\n",
    "plot_Vc(me_steep)\n",
    "plot_Vc(me_flat)"
   ]
  },
  {
   "cell_type": "code",
   "execution_count": null,
   "id": "127",
   "metadata": {
    "tags": []
   },
   "outputs": [],
   "source": [
    "potentials = {\n",
    "    \"EP20\": EP2020,\n",
    "    #\"mcmillan11\": mcmillan2011, # mcmillan is very close to EP2020\n",
    "    #\"mcmillan17\": mcmillan2017,\n",
    "    #\"mcmillan17b\": mcmillan2017_nogas,\n",
    "    \"galpy14\": galpy14,\n",
    "    # \"galpy14_heavy\": galpy14_heavy,\n",
    "    # \"pouliaris17\": pouliasis17,\n",
    "    # #\"pouliaris17b\": pouliasis17b,\n",
    "    # \"ablimit\": ablimit20a,\n",
    "    # \"flat\": me_flat,\n",
    "\n",
    "}"
   ]
  },
  {
   "cell_type": "code",
   "execution_count": null,
   "id": "128",
   "metadata": {
    "tags": []
   },
   "outputs": [],
   "source": [
    "plot_Vc(me_flat)\n",
    "plot_Vc(EP2020)"
   ]
  },
  {
   "cell_type": "code",
   "execution_count": null,
   "id": "129",
   "metadata": {
    "tags": []
   },
   "outputs": [],
   "source": [
    "plt.figure(figsize=(7, 3))\n",
    "for label, model in potentials.items():\n",
    "    plot_Vc(model, label=label, R_max=60)\n",
    "arya.Legend(loc=-1)\n",
    "plt.xscale(\"asinh\")\n",
    "\n",
    "ticks = [0,1, 10]\n",
    "plt.xticks(ticks, labels=ticks);\n",
    "\n",
    "mticks = np.arange(0, 1, 0.1).tolist() + np.arange(1, 10, 1).tolist() + np.arange(10, 60, 10).tolist()\n",
    "plt.xticks(mticks, minor=True);\n",
    "plt.savefig(\"literature_vcirc.pdf\")"
   ]
  },
  {
   "cell_type": "code",
   "execution_count": null,
   "id": "130",
   "metadata": {
    "tags": []
   },
   "outputs": [],
   "source": [
    "plot_Vc(EP2020)\n",
    "plot_Vc(heavy_mw)\n",
    "plot_Vc(light_mw)\n",
    "plot_Vc(me_steep)\n",
    "plot_Vc(me_flat)\n",
    "plt.xscale(\"asinh\")\n"
   ]
  },
  {
   "cell_type": "code",
   "execution_count": null,
   "id": "131",
   "metadata": {
    "tags": []
   },
   "outputs": [],
   "source": [
    "# acceleration at 1.1 kpc above plane\n",
    "for label, model in potentials.items():\n",
    "    plot_Kz(model, label=label)\n",
    "arya.Legend(loc=-1)"
   ]
  },
  {
   "cell_type": "markdown",
   "id": "132",
   "metadata": {
    "tags": []
   },
   "source": [
    "## Components"
   ]
  },
  {
   "cell_type": "code",
   "execution_count": null,
   "id": "133",
   "metadata": {
    "tags": []
   },
   "outputs": [],
   "source": [
    "my_potentials = {\n",
    "    \"fiducial\": EP2020,\n",
    "    \"light\": light_mw,\n",
    "    \"heavy\": heavy_mw,\n",
    "    \"flat\": me_flat,\n",
    "    \"steep\": me_steep\n",
    "}"
   ]
  },
  {
   "cell_type": "code",
   "execution_count": null,
   "id": "134",
   "metadata": {
    "tags": []
   },
   "outputs": [],
   "source": [
    "for label, pot in my_potentials.items():\n",
    "    print(label, o.jr(pot))"
   ]
  },
  {
   "cell_type": "code",
   "execution_count": null,
   "id": "135",
   "metadata": {
    "tags": []
   },
   "outputs": [],
   "source": [
    "o.jr(galpy14)"
   ]
  },
  {
   "cell_type": "code",
   "execution_count": null,
   "id": "136",
   "metadata": {
    "tags": []
   },
   "outputs": [],
   "source": [
    "o.jr(galpy14_heavy)"
   ]
  },
  {
   "cell_type": "code",
   "execution_count": null,
   "id": "137",
   "metadata": {
    "tags": []
   },
   "outputs": [],
   "source": [
    "o.jr(EP2020)"
   ]
  },
  {
   "cell_type": "code",
   "execution_count": null,
   "id": "138",
   "metadata": {
    "tags": []
   },
   "outputs": [],
   "source": [
    "o.jr(ablimit20a)"
   ]
  },
  {
   "cell_type": "code",
   "execution_count": null,
   "id": "139",
   "metadata": {
    "tags": []
   },
   "outputs": [],
   "source": [
    "o.jr(mcmillan2017)"
   ]
  },
  {
   "cell_type": "code",
   "execution_count": null,
   "id": "140",
   "metadata": {
    "tags": []
   },
   "outputs": [],
   "source": [
    "for label, pot in my_potentials.items():\n",
    "    print(label, o.jz(pot))"
   ]
  },
  {
   "cell_type": "code",
   "execution_count": null,
   "id": "141",
   "metadata": {
    "tags": []
   },
   "outputs": [],
   "source": [
    "o.jz(galpy14)"
   ]
  },
  {
   "cell_type": "code",
   "execution_count": null,
   "id": "142",
   "metadata": {
    "tags": []
   },
   "outputs": [],
   "source": [
    "o.jz(galpy14_heavy)"
   ]
  },
  {
   "cell_type": "code",
   "execution_count": null,
   "id": "143",
   "metadata": {
    "tags": []
   },
   "outputs": [],
   "source": [
    "o.jz(EP2020)"
   ]
  },
  {
   "cell_type": "code",
   "execution_count": null,
   "id": "144",
   "metadata": {
    "tags": []
   },
   "outputs": [],
   "source": [
    "o.jz(mcmillan2017)"
   ]
  },
  {
   "cell_type": "code",
   "execution_count": null,
   "id": "145",
   "metadata": {},
   "outputs": [],
   "source": [
    "plot_Vc(EP2020_bulge)\n",
    "plot_Vc(mcmillan2011_bulge)\n",
    "plot_Vc(galpy14_bulge)\n",
    "plot_Vc(pouliasis17_bulge)"
   ]
  },
  {
   "cell_type": "code",
   "execution_count": null,
   "id": "146",
   "metadata": {
    "tags": []
   },
   "outputs": [],
   "source": [
    "plot_Vc(EP2020_thick + EP2020_thick)\n",
    "plot_Vc(galpy14_disk)\n",
    "# plot_Vc(galpy14_disk)\n",
    "\n",
    "plot_Vc(pouliasis17_thick + pouliasis17_thick)\n",
    "# plot_Vc(pouliasis17b_thick + pouliasis17b_thick)"
   ]
  },
  {
   "cell_type": "code",
   "execution_count": null,
   "id": "147",
   "metadata": {
    "tags": []
   },
   "outputs": [],
   "source": [
    "plot_Vc(EP2020_halo)\n",
    "plot_Vc(mcmillan2011_halo)\n",
    "plot_Vc(mcmillan2017_halo)\n",
    "plot_Vc(galpy14_halo)\n",
    "plot_Vc(2*galpy14_halo)\n",
    "\n",
    "plot_Vc(pouliasis17_halo)\n",
    "plot_Vc(pouliasis17b_halo)\n",
    "plot_Vc(ablimit_b_comp[\"halo\"]) # pretty much same as galpy\n"
   ]
  },
  {
   "cell_type": "code",
   "execution_count": null,
   "id": "148",
   "metadata": {
    "tags": []
   },
   "outputs": [],
   "source": [
    "dwarf_galaxy_gc.icrs"
   ]
  },
  {
   "cell_type": "code",
   "execution_count": null,
   "id": "149",
   "metadata": {
    "tags": []
   },
   "outputs": [],
   "source": [
    "o = Orbit(dwarf_galaxy_gc)"
   ]
  },
  {
   "cell_type": "code",
   "execution_count": null,
   "id": "150",
   "metadata": {
    "tags": []
   },
   "outputs": [],
   "source": [
    "pot = EP2020\n",
    "ts = np.linspace(0, -5, 10_000) * u.Gyr\n",
    "o.integrate(ts, pot)"
   ]
  },
  {
   "cell_type": "code",
   "execution_count": null,
   "id": "151",
   "metadata": {
    "tags": []
   },
   "outputs": [],
   "source": [
    "fig, ax = plt.subplots()\n",
    "\n",
    "plt.plot(o.R(ts), o.z(ts))\n",
    "ax.set_aspect(1)"
   ]
  },
  {
   "cell_type": "code",
   "execution_count": null,
   "id": "152",
   "metadata": {
    "tags": []
   },
   "outputs": [],
   "source": [
    "fig, ax = plt.subplots()\n",
    "\n",
    "plt.plot(o.y(ts), o.z(ts))\n",
    "\n",
    "ax.set_aspect(1)"
   ]
  },
  {
   "cell_type": "code",
   "execution_count": null,
   "id": "153",
   "metadata": {
    "tags": []
   },
   "outputs": [],
   "source": [
    "plt.plot(ts, o.r(ts))"
   ]
  },
  {
   "cell_type": "code",
   "execution_count": null,
   "id": "154",
   "metadata": {
    "tags": []
   },
   "outputs": [],
   "source": [
    "pos_gc = []\n",
    "\n",
    "ts = np.linspace(0, 0.1, 10_000) * u.Gyr\n",
    "o.integrate(ts, pot)\n",
    "\n",
    "# galpy uses left-handed frame :/\n",
    "pos_gc = coord.SkyCoord(\n",
    "    x=- o.x(ts), y=o.y(ts), z=o.z(ts), \n",
    "    v_x = -o.vx(ts), v_y=o.vy(ts), v_z=o.vz(ts),\n",
    "    frame=gc_frame)\n",
    "\n",
    "pos_icrs = pos_gc.transform_to(\"icrs\")"
   ]
  },
  {
   "cell_type": "code",
   "execution_count": null,
   "id": "155",
   "metadata": {
    "tags": []
   },
   "outputs": [],
   "source": [
    "plt.scatter(pos_icrs.ra, pos_icrs.dec, c=ts)\n",
    "plt.colorbar()\n",
    "\n",
    "plt.plot(o.ra(ts), o.dec(ts))\n",
    "\n",
    "plt.scatter(dwarf_galaxy.ra, dwarf_galaxy.dec)\n",
    "\n",
    "\n",
    "tpm = 3e7*u.yr\n",
    "plt.plot(sculptor.ra + sculptor.pm_ra_cosdec / np.cos(sculptor.dec) * tpm * np.array([0, 1]),\n",
    "        sculptor.dec + sculptor.pm_dec * tpm * np.array([0,1]),\n",
    "         zorder=5, color=arya.COLORS[2]\n",
    "        )\n",
    "\n",
    "plt.xlabel(\"RA\")\n",
    "plt.ylabel(\"dec\")"
   ]
  },
  {
   "cell_type": "code",
   "execution_count": null,
   "id": "156",
   "metadata": {
    "tags": []
   },
   "outputs": [],
   "source": [
    "sc2 = dwarf_galaxy_gc.transform_to(coord.ICRS)"
   ]
  }
 ],
 "metadata": {
  "kernelspec": {
   "display_name": "Python 3 (ipykernel)",
   "language": "python",
   "name": "python3"
  },
  "language_info": {
   "codemirror_mode": {
    "name": "ipython",
    "version": 3
   },
   "file_extension": ".py",
   "mimetype": "text/x-python",
   "name": "python",
   "nbconvert_exporter": "python",
   "pygments_lexer": "ipython3",
   "version": "3.11.9"
  }
 },
 "nbformat": 4,
 "nbformat_minor": 5
}
