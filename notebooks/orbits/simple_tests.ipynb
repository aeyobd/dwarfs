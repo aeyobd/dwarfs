{
 "cells": [
  {
   "cell_type": "markdown",
   "id": "0",
   "metadata": {},
   "source": [
    "# Setup"
   ]
  },
  {
   "cell_type": "code",
   "execution_count": null,
   "id": "1",
   "metadata": {},
   "outputs": [],
   "source": [
    "using CairoMakie"
   ]
  },
  {
   "cell_type": "code",
   "execution_count": null,
   "id": "2",
   "metadata": {},
   "outputs": [],
   "source": [
    "using Arya"
   ]
  },
  {
   "cell_type": "code",
   "execution_count": null,
   "id": "3",
   "metadata": {},
   "outputs": [],
   "source": [
    "import LilGuys as lguys"
   ]
  },
  {
   "cell_type": "code",
   "execution_count": null,
   "id": "4",
   "metadata": {},
   "outputs": [],
   "source": [
    "out = lguys.Output(\"../models/tests/twobody/out/combined.hdf5\")"
   ]
  },
  {
   "cell_type": "code",
   "execution_count": null,
   "id": "5",
   "metadata": {},
   "outputs": [],
   "source": [
    "pos = lguys.extract_vector(out, :positions)"
   ]
  },
  {
   "cell_type": "code",
   "execution_count": null,
   "id": "6",
   "metadata": {},
   "outputs": [],
   "source": [
    "acc = lguys.extract_vector(out, :accelerations)"
   ]
  },
  {
   "cell_type": "code",
   "execution_count": null,
   "id": "7",
   "metadata": {},
   "outputs": [],
   "source": [
    "a = dropdims(sqrt.(sum(acc .^ 2, dims=1)), dims=1)[1, :]"
   ]
  },
  {
   "cell_type": "code",
   "execution_count": null,
   "id": "8",
   "metadata": {},
   "outputs": [],
   "source": [
    "vec12 = pos[:, 1, :] .- pos[:, 2, :]"
   ]
  },
  {
   "cell_type": "code",
   "execution_count": null,
   "id": "9",
   "metadata": {},
   "outputs": [],
   "source": [
    "r12 = dropdims(sqrt.(sum(vec12 .^ 2, dims=1)), dims=1)"
   ]
  },
  {
   "cell_type": "code",
   "execution_count": null,
   "id": "10",
   "metadata": {},
   "outputs": [],
   "source": [
    "fig, ax = FigAxis(\n",
    "    ylabel=\"rel acceleration error\",\n",
    "    xlabel=\"snapshot\"\n",
    "    )\n",
    "\n",
    "scatter!(1 ./ r12 .^ 2 ./ a)\n",
    "\n",
    "fig"
   ]
  },
  {
   "cell_type": "code",
   "execution_count": null,
   "id": "11",
   "metadata": {},
   "outputs": [],
   "source": [
    "fig, ax = FigAxis(\n",
    "    aspect=DataAspect(),\n",
    "    xlabel=\"x\",\n",
    "    ylabel=\"y\"\n",
    ")\n",
    "\n",
    "for i in 1:2\n",
    "    scatter!(pos[1, i, :], pos[2, i, :])\n",
    "end\n",
    "\n",
    "\n",
    "fig"
   ]
  },
  {
   "cell_type": "code",
   "execution_count": null,
   "id": "12",
   "metadata": {},
   "outputs": [],
   "source": [
    "fig, ax = FigAxis(\n",
    "    aspect=DataAspect(),\n",
    "    xlabel=\"time\",\n",
    "    ylabel=\"x\"\n",
    ")\n",
    "\n",
    "for i in 1:2\n",
    "    scatter!(out.times, pos[1, i, :])\n",
    "end\n",
    "\n",
    "\n",
    "fig"
   ]
  },
  {
   "cell_type": "code",
   "execution_count": null,
   "id": "13",
   "metadata": {},
   "outputs": [],
   "source": [
    "ke = [sum(lguys.calc_E_spec_kin(s) .* s.masses) for s in out]\n",
    "te = [lguys.calc_E_tot(s) for s in out]\n",
    "pe = [sum(s.Φs .* s.masses)/2 for s in out];"
   ]
  },
  {
   "cell_type": "code",
   "execution_count": null,
   "id": "14",
   "metadata": {},
   "outputs": [],
   "source": [
    "fig, ax = FigAxis(\n",
    "    ylabel=\"Energy\",\n",
    "    xlabel=\"time\"\n",
    ")\n",
    "scatter!(out.times, ke)\n",
    "scatter!(out.times, pe)\n",
    "scatter!(out.times, te)\n",
    "scatter!(out.times, ke .+ pe)\n",
    "\n",
    "fig"
   ]
  },
  {
   "cell_type": "code",
   "execution_count": null,
   "id": "15",
   "metadata": {},
   "outputs": [],
   "source": [
    "fig, ax = FigAxis()\n",
    "scatter!(out.times, te)\n",
    "fig"
   ]
  },
  {
   "cell_type": "markdown",
   "id": "16",
   "metadata": {},
   "source": [
    "Kepler's third law is \n",
    "$$\n",
    "P^2 = \\frac{4\\pi^2}{\\mu} a^3\n",
    "$$ \n",
    "where $\\mu = G(m+m)$. "
   ]
  },
  {
   "cell_type": "code",
   "execution_count": null,
   "id": "17",
   "metadata": {},
   "outputs": [],
   "source": [
    "out.times[sortperm(ke)]"
   ]
  },
  {
   "cell_type": "code",
   "execution_count": null,
   "id": "18",
   "metadata": {},
   "outputs": [],
   "source": [
    "P = ans[end-1] - ans[end]"
   ]
  },
  {
   "cell_type": "code",
   "execution_count": null,
   "id": "19",
   "metadata": {},
   "outputs": [],
   "source": [
    "maximum(pos[1, 1, :])"
   ]
  },
  {
   "cell_type": "code",
   "execution_count": null,
   "id": "20",
   "metadata": {},
   "outputs": [],
   "source": [
    "minimum(pos[1, 1, :])"
   ]
  },
  {
   "cell_type": "code",
   "execution_count": null,
   "id": "21",
   "metadata": {},
   "outputs": [],
   "source": [
    "# reduced mass\n",
    "μ = out[1].masses[1]/2\n",
    "\n",
    "# M1 frame\n",
    "r12 = lguys.calc_r(pos[:, 1, :] .- pos[:, 2, :])\n",
    "a = (maximum(r12) - minimum(r12)) / 2"
   ]
  },
  {
   "cell_type": "code",
   "execution_count": null,
   "id": "22",
   "metadata": {},
   "outputs": [],
   "source": [
    "P, (out.times[2] - out.times[1])"
   ]
  },
  {
   "cell_type": "code",
   "execution_count": null,
   "id": "23",
   "metadata": {},
   "outputs": [],
   "source": [
    "2π /μ^(1/2)  * a^(3/2)"
   ]
  },
  {
   "cell_type": "markdown",
   "id": "24",
   "metadata": {},
   "source": [
    "# Threebody"
   ]
  },
  {
   "cell_type": "code",
   "execution_count": null,
   "id": "25",
   "metadata": {},
   "outputs": [],
   "source": [
    "out = lguys.Output(\"../models/tests/threebody/out/combined.hdf5\")"
   ]
  },
  {
   "cell_type": "code",
   "execution_count": null,
   "id": "26",
   "metadata": {},
   "outputs": [],
   "source": [
    "pos = lguys.extract_vector(out, :positions)"
   ]
  },
  {
   "cell_type": "code",
   "execution_count": null,
   "id": "27",
   "metadata": {},
   "outputs": [],
   "source": [
    "fig, ax = FigAxis()\n",
    "\n",
    "for i in 1:3\n",
    "    scatter!(pos[1, i, :], pos[2, i, :])\n",
    "end\n",
    "\n",
    "fig"
   ]
  },
  {
   "cell_type": "code",
   "execution_count": null,
   "id": "28",
   "metadata": {},
   "outputs": [],
   "source": [
    "ke = [sum(lguys.calc_E_spec_kin(s) .* s.masses) for s in out]\n",
    "te = [lguys.calc_E_tot(s) for s in out]\n",
    "pe = [sum(s.Φs .* s.masses)/2 for s in out];"
   ]
  },
  {
   "cell_type": "code",
   "execution_count": null,
   "id": "29",
   "metadata": {},
   "outputs": [],
   "source": [
    "fig, ax = FigAxis(\n",
    "    ylabel=\"Energy\",\n",
    "    xlabel=\"time\"\n",
    ")\n",
    "scatter!(out.times, ke)\n",
    "scatter!(out.times, pe)\n",
    "scatter!(out.times, te)\n",
    "scatter!(out.times, ke .+ pe)\n",
    "\n",
    "fig"
   ]
  },
  {
   "cell_type": "markdown",
   "id": "30",
   "metadata": {},
   "source": [
    "# Potential tests"
   ]
  },
  {
   "cell_type": "code",
   "execution_count": null,
   "id": "31",
   "metadata": {},
   "outputs": [],
   "source": [
    "import QuadGK: quadgk\n",
    "import Roots: find_zero"
   ]
  },
  {
   "cell_type": "code",
   "execution_count": null,
   "id": "32",
   "metadata": {},
   "outputs": [],
   "source": [
    "?lguys.calc_L_spec"
   ]
  },
  {
   "cell_type": "code",
   "execution_count": null,
   "id": "33",
   "metadata": {},
   "outputs": [],
   "source": [
    "function calc_peri_apo_theory(pos, vel, Φ::Function)\n",
    "    \n",
    "    L0 = lguys.calc_r(lguys.calc_L_spec(pos[:, 1], vel[:, 1]))\n",
    "    v0 = lguys.calc_r(vel)[1]\n",
    "    rs = lguys.calc_r(pos)\n",
    "    r0 = rs[1]\n",
    "    \n",
    "    E0 = 1/2 * v0^2 + Φ(r0)\n",
    "    println(\"E0 \", E0)\n",
    "    println(\"L0 \", L0)\n",
    "    peri_obs = minimum(rs)\n",
    "    apo_obs = maximum(rs)\n",
    "    \n",
    "    \n",
    "    f(r) = r^-2 + 2*(Φ(r) - E0) / (L0^2)\n",
    "    g(r) = 2 / sqrt(2 * (E0 - Φ(r)) - L0^2 / r^2)\n",
    "    \n",
    "    peri = find_zero(f, peri_obs)\n",
    "    apo = find_zero(f, apo_obs)\n",
    "    \n",
    "    println(\"rel peri error \", peri_obs / peri)\n",
    "    println(\"rel apo error \", apo_obs / apo)\n",
    "    \n",
    "    ϵ = 1e-5\n",
    "    T_exp = quadgk(g, peri + ϵ, apo - ϵ)[1]\n",
    "    \n",
    "    return peri, apo, T_exp\n",
    "end"
   ]
  },
  {
   "cell_type": "markdown",
   "id": "34",
   "metadata": {},
   "source": [
    "Functions to calculate if the zeros are "
   ]
  },
  {
   "cell_type": "markdown",
   "id": "35",
   "metadata": {},
   "source": [
    "# Hernquist potential"
   ]
  },
  {
   "cell_type": "code",
   "execution_count": null,
   "id": "36",
   "metadata": {},
   "outputs": [],
   "source": [
    "import TOML"
   ]
  },
  {
   "cell_type": "markdown",
   "id": "37",
   "metadata": {},
   "source": [
    "## Special Cases"
   ]
  },
  {
   "cell_type": "markdown",
   "id": "38",
   "metadata": {},
   "source": [
    "Input: a potential with total mass = 0.5 and scale radius 1"
   ]
  },
  {
   "cell_type": "code",
   "execution_count": null,
   "id": "39",
   "metadata": {},
   "outputs": [],
   "source": [
    "readdir(\"/home/j/jfncc/dboyea/dwarfs/models/tests/hernquist/special_cases/\")"
   ]
  },
  {
   "cell_type": "code",
   "execution_count": null,
   "id": "40",
   "metadata": {},
   "outputs": [],
   "source": [
    "out = lguys.Output(\"/home/j/jfncc/dboyea/dwarfs/models/tests/hernquist/special_cases/out/combined.hdf5\")"
   ]
  },
  {
   "cell_type": "code",
   "execution_count": null,
   "id": "41",
   "metadata": {},
   "outputs": [],
   "source": [
    "pos = lguys.extract_vector(out, :positions)\n",
    "vel = lguys.extract_vector(out, :velocities);"
   ]
  },
  {
   "cell_type": "code",
   "execution_count": null,
   "id": "42",
   "metadata": {},
   "outputs": [],
   "source": [
    "fig, ax = FigAxis(aspect=DataAspect())\n",
    "\n",
    "for i in 1:size(pos, 2)\n",
    "    lines!(pos[1, i, :], pos[2, i, :])\n",
    "end\n",
    "\n",
    "fig"
   ]
  },
  {
   "cell_type": "code",
   "execution_count": null,
   "id": "43",
   "metadata": {},
   "outputs": [],
   "source": [
    "function plot_E_tot(snap, idx=:)\n",
    "end"
   ]
  },
  {
   "cell_type": "code",
   "execution_count": null,
   "id": "44",
   "metadata": {},
   "outputs": [],
   "source": [
    "function plot_L(snap, idx=:)\n",
    "end"
   ]
  },
  {
   "cell_type": "markdown",
   "id": "45",
   "metadata": {},
   "source": [
    "## Random"
   ]
  },
  {
   "cell_type": "code",
   "execution_count": null,
   "id": "46",
   "metadata": {},
   "outputs": [],
   "source": [
    "out = lguys.Output(\"/home/j/jfncc/dboyea/dwarfs/models/tests/hernquist/random/out/combined.hdf5\")"
   ]
  },
  {
   "cell_type": "code",
   "execution_count": null,
   "id": "47",
   "metadata": {},
   "outputs": [],
   "source": [
    "M = 0.9\n",
    "r_s = 1.5\n",
    "\n",
    "calc_Φ(r) = -lguys.G * M * 1/(r + r_s)"
   ]
  },
  {
   "cell_type": "code",
   "execution_count": null,
   "id": "48",
   "metadata": {},
   "outputs": [],
   "source": [
    "idx = 102"
   ]
  },
  {
   "cell_type": "code",
   "execution_count": null,
   "id": "49",
   "metadata": {},
   "outputs": [],
   "source": [
    "pos = lguys.extract_vector(out, :positions, idx)\n",
    "vel = lguys.extract_vector(out, :velocities, idx);"
   ]
  },
  {
   "cell_type": "code",
   "execution_count": null,
   "id": "50",
   "metadata": {},
   "outputs": [],
   "source": [
    "r = lguys.calc_r(pos);"
   ]
  },
  {
   "cell_type": "code",
   "execution_count": null,
   "id": "51",
   "metadata": {},
   "outputs": [],
   "source": [
    "peri, apo, T = calc_peri_apo_theory(pos, vel, calc_Φ)"
   ]
  },
  {
   "cell_type": "code",
   "execution_count": null,
   "id": "52",
   "metadata": {},
   "outputs": [],
   "source": [
    "fig, ax = FigAxis(xlabel=\"time / Gyr\", ylabel = \"r / kpc\")\n",
    "\n",
    "lines!(out.times * lguys.T0, r)\n",
    "hlines!([peri, apo], color=COLORS[2], label=\"peri / apo\")\n",
    "\n",
    "t_first_peri = out.times[argmin(r[out.times .< T])]\n",
    "\n",
    "N_periods = floor(Int, (out.times[end] - t_first_peri) / T)\n",
    "vlines!((t_first_peri .+ collect(0:N_periods) * T) * lguys.T0, color=:black)\n",
    "fig"
   ]
  },
  {
   "cell_type": "code",
   "execution_count": null,
   "id": "53",
   "metadata": {},
   "outputs": [],
   "source": []
  }
 ],
 "metadata": {
  "kernelspec": {
   "display_name": "Julia 1.11.5",
   "language": "julia",
   "name": "julia-1.11"
  },
  "language_info": {
   "file_extension": ".jl",
   "mimetype": "application/julia",
   "name": "julia",
   "version": "1.11.5"
  }
 },
 "nbformat": 4,
 "nbformat_minor": 5
}
