{
 "cells": [
  {
   "cell_type": "code",
   "execution_count": null,
   "id": "0",
   "metadata": {},
   "outputs": [],
   "source": [
    "using CairoMakie\n",
    "using Revise\n",
    "using LilGuys, Arya"
   ]
  },
  {
   "cell_type": "code",
   "execution_count": null,
   "id": "1",
   "metadata": {},
   "outputs": [],
   "source": [
    "using PythonCall\n",
    "agama = pyimport(\"agama\")"
   ]
  },
  {
   "cell_type": "code",
   "execution_count": null,
   "id": "2",
   "metadata": {},
   "outputs": [],
   "source": [
    "using Printf"
   ]
  },
  {
   "cell_type": "code",
   "execution_count": null,
   "id": "3",
   "metadata": {},
   "outputs": [],
   "source": [
    "include(\"agama_utils.jl\")\n",
    "include(\"agama_plots.jl\")"
   ]
  },
  {
   "cell_type": "code",
   "execution_count": null,
   "id": "4",
   "metadata": {},
   "outputs": [],
   "source": [
    "⊕(a, b) = sqrt(a^2 + b^2)"
   ]
  },
  {
   "cell_type": "code",
   "execution_count": null,
   "id": "5",
   "metadata": {},
   "outputs": [],
   "source": [
    "using Distributions"
   ]
  },
  {
   "cell_type": "code",
   "execution_count": null,
   "id": "6",
   "metadata": {},
   "outputs": [],
   "source": [
    "# Nitschai+2021\n",
    "dist_α_dm = Normal(-1.602, 0.015 ⊕ 0.079)\n",
    "dist_f_dm = Normal(0.811, 0.006 ⊕ 0.014)\n",
    "q = 1.3\n",
    "dist_M_L = Normal(0.413, 0.012 ⊕ 0.031)"
   ]
  },
  {
   "cell_type": "code",
   "execution_count": null,
   "id": "7",
   "metadata": {},
   "outputs": [],
   "source": [
    "thick_to_thin = 0.12\n",
    "R_thin = 2.6\n",
    "R_thick = 3.6\n",
    "H_thin = 0.3\n",
    "H_thick = 0.9"
   ]
  },
  {
   "cell_type": "code",
   "execution_count": null,
   "id": "8",
   "metadata": {},
   "outputs": [],
   "source": [
    "function enc_mass_planar(pot, radius)\n",
    "    xs = [radius, 0, 0]\n",
    "\n",
    "    acc = pyconvert(Vector{Float64}, pot.force(xs))\n",
    "    print(acc)\n",
    "    a = calc_r(acc)\n",
    "\n",
    "    return  radius^2 * a\n",
    "end"
   ]
  },
  {
   "cell_type": "code",
   "execution_count": null,
   "id": "9",
   "metadata": {},
   "outputs": [],
   "source": [
    "function v_circ_planar(pot, radii)\n",
    "    xs = [radii zeros(length(radii)) zeros(length(radii))]\n",
    "\n",
    "    acc = pyconvert(Matrix{Float64}, pot.force(xs))\n",
    "    a = calc_r(acc')\n",
    "\n",
    "    return @. sqrt(a * radii)\n",
    "end"
   ]
  },
  {
   "cell_type": "code",
   "execution_count": null,
   "id": "10",
   "metadata": {},
   "outputs": [],
   "source": [
    "function plot_v_circ2!(pot; radii=LinRange(4, 30, 1000), kwargs...)\n",
    "    y = v_circ_planar(pot, radii)\n",
    "    lines!(radii, y * V2KMS; kwargs...)\n",
    "end"
   ]
  },
  {
   "cell_type": "code",
   "execution_count": null,
   "id": "11",
   "metadata": {},
   "outputs": [],
   "source": [
    "v_circ_planar(pots[1], [1,2,3])"
   ]
  },
  {
   "cell_type": "code",
   "execution_count": null,
   "id": "12",
   "metadata": {},
   "outputs": [],
   "source": [
    "function make_potential(M_L, f_dm, α, q=1.3; verbose=false, r_s=16.8,  Rsun = 8.122, combined=true)\n",
    "    Φ_thin_unscaled = agama.Potential(type=\"Disk\", surfaceDensity=1, scaleRadius=2.6, scaleHeight=0.3)\n",
    "    Φ_thick_unscaled = agama.Potential(type=\"Disk\", surfaceDensity=thick_to_thin, scaleRadius=3.6, scaleHeight=0.9)\n",
    "    Φ_HI = agama.Potential(type=\"Disk\", surfaceDensity=0.00531319, scaleRadius=7, scaleHeight=-0.085, innerCutoffRadius=4)\n",
    "    Φ_H2 = agama.Potential(type=\"Disk\", surfaceDensity=0.217995, scaleRadius=1.5, scaleHeight=-0.045, innerCutoffRadius=12)\n",
    "\n",
    "    \n",
    "    ΣL_disk_solar = 0.056 # lsun, v / kpc^3\n",
    "    Σ_disk_solar = M_L * ΣL_disk_solar / 10 # to convert to code units\n",
    "\n",
    "    x_sun = [Rsun, 0, 0]\n",
    "    \n",
    "    Σ_disk_unscaled = pyconvert(Float64, Φ_thin_unscaled.density(x_sun) + Φ_thick_unscaled.density(x_sun))\n",
    "    A_disk = Σ_disk_solar / Σ_disk_unscaled\n",
    "    ν_bulge = 80.81 # ksun / pc^3\n",
    "    ρ_bulge = ν_bulge * M_L / 10\n",
    "    \n",
    "    \n",
    "    Φ_bulge = agama.Potential(type=\"Spheroid\", densityNorm=ρ_bulge, axisRatioZ = 0.5, gamma=0, beta=1.8, scaleRadius=0.075, outerCutoffRadius=2.1)\n",
    "    Φ_thin = agama.Potential(type=\"Disk\", surfaceDensity=A_disk, scaleRadius=2.6, scaleHeight=0.3)\n",
    "    Φ_thick = agama.Potential(type=\"Disk\", surfaceDensity=A_disk *thick_to_thin, scaleRadius=3.6, scaleHeight=0.9)\n",
    "    Φ_bary = agama.Potential(Φ_bulge, Φ_thin, Φ_thick, Φ_H2, Φ_HI)\n",
    "    \n",
    "    Φ_halo_unscaled = agama.Potential(type=\"Spheroid\", densityNorm=1, alpha=1, beta=3, gamma=-α, scaleRadius=r_s, axisRatioZ=q)\n",
    "    \n",
    "    \n",
    "    Mstar = Φ_bary.enclosedMass(Rsun)\n",
    "    Mdm = Mstar * f_dm / (1-f_dm)\n",
    "    Mdm_unscaled = Φ_halo_unscaled.enclosedMass(Rsun)\n",
    "    A_dm = Mdm / Mdm_unscaled\n",
    "    Φ_halo = agama.Potential(type=\"Spheroid\", densityNorm=A_dm, alpha=1, beta=3, gamma=-α, scaleRadius=r_s, axisRatioZ=q)\n",
    "    \n",
    "    Φ = agama.Potential(Φ_bary, Φ_halo)\n",
    "\n",
    "    if verbose\n",
    "        println(\"Adm = \", A_dm)\n",
    "        println(\"A_disk = \", A_disk)\n",
    "        println(\"A_bulge = \", ρ_bulge)\n",
    "        println(\"Mdm =\", Mdm)\n",
    "        println(\"Mdm un = \", Mdm_unscaled)\n",
    "        println(\"Mstar un = \", Mstar)\n",
    "    end\n",
    "    \n",
    "    if combined\n",
    "        return Φ\n",
    "    else\n",
    "        return Φ_bulge, Φ_thin, Φ_thick, Φ_HI, Φ_H2, Φ_halo\n",
    "    end\n",
    "end"
   ]
  },
  {
   "cell_type": "code",
   "execution_count": null,
   "id": "13",
   "metadata": {},
   "outputs": [],
   "source": [
    "pots[5].enclosedMass(8)"
   ]
  },
  {
   "cell_type": "code",
   "execution_count": null,
   "id": "14",
   "metadata": {},
   "outputs": [],
   "source": [
    "enc_mass_planar(pots[5], 8)"
   ]
  },
  {
   "cell_type": "code",
   "execution_count": null,
   "id": "15",
   "metadata": {},
   "outputs": [],
   "source": [
    "pots = make_potential(0.30, 0.86, -1.53, 1.14, r_s=16.8, verbose=true, Rsun=8.122, combined=false)"
   ]
  },
  {
   "cell_type": "code",
   "execution_count": null,
   "id": "16",
   "metadata": {},
   "outputs": [],
   "source": [
    "pots = make_potential(0.413, 0.811, -1.602, verbose=true, Rsun=8.122, combined=false)"
   ]
  },
  {
   "cell_type": "code",
   "execution_count": null,
   "id": "17",
   "metadata": {},
   "outputs": [],
   "source": [
    "?plot_v_circ!"
   ]
  },
  {
   "cell_type": "code",
   "execution_count": null,
   "id": "18",
   "metadata": {},
   "outputs": [],
   "source": [
    "agama.Potential(type=\"Spheroid\", densityNorm=2.3, axisRatioZ = 0.5, gamma=0, beta=1.8, scaleRadius=0.075, outerCutoffRadius=2.1)"
   ]
  },
  {
   "cell_type": "code",
   "execution_count": null,
   "id": "19",
   "metadata": {},
   "outputs": [],
   "source": [
    "fig = Figure()\n",
    "ax = Axis(fig[1, 1], limits=(nothing, nothing, 0, nothing)\n",
    "    )\n",
    "\n",
    "kwargs = Dict(\n",
    "    :log_r =>  log10.(LinRange(1, 100, 1000)),\n",
    "    :log => true,\n",
    "    )\n",
    "\n",
    "plot_v_circ!(pots[1]; label=\"bulge\", kwargs...)\n",
    "plot_v_circ!(pots[2]; label=\"thin\", kwargs...)\n",
    "plot_v_circ!(pots[3]; label=\"thick\", kwargs...)\n",
    "plot_v_circ!(agama.Potential(pots[4], pots[5]); label=\"gas\", kwargs...)\n",
    "plot_v_circ!(agama.Potential(pots[1:5]...); label=\"bary\", kwargs...)\n",
    "\n",
    "plot_v_circ!(pots[6]; label=\"DM\", kwargs...)\n",
    "\n",
    "plot_v_circ!(agama.Potential(pots...); color=:black, label=\"total\", kwargs...)\n",
    "\n",
    "Legend(fig[1, 2], ax)\n",
    "fig"
   ]
  },
  {
   "cell_type": "code",
   "execution_count": null,
   "id": "20",
   "metadata": {},
   "outputs": [],
   "source": [
    "fig = Figure()\n",
    "ax = Axis(fig[1, 1], limits=(0, 20.5, 0, nothing)\n",
    "    )\n",
    "\n",
    "kwargs = Dict(\n",
    "    :radii =>  (LinRange(0.001, 20, 1000)),\n",
    "    )\n",
    "\n",
    "plot_v_circ2!(pots[1]; label=\"bulge\", kwargs...)\n",
    "plot_v_circ2!(pots[2]; label=\"thin\", kwargs...)\n",
    "plot_v_circ2!(pots[3]; label=\"thick\", kwargs...)\n",
    "plot_v_circ2!(agama.Potential(pots[5]); label=\"gas\", kwargs...)\n",
    "plot_v_circ2!(agama.Potential(pots[1:5]...); label=\"bary\", kwargs...)\n",
    "\n",
    "plot_v_circ2!(pots[6]; label=\"DM\", kwargs...)\n",
    "plot_v_circ2!(agama.Potential(pots...); color=:black, label=\"total\", kwargs...)\n",
    "\n",
    "Legend(fig[1, 2], ax)\n",
    "fig"
   ]
  },
  {
   "cell_type": "code",
   "execution_count": null,
   "id": "21",
   "metadata": {},
   "outputs": [],
   "source": [
    "pots[6].density([8.122, 0, 0])"
   ]
  },
  {
   "cell_type": "code",
   "execution_count": null,
   "id": "22",
   "metadata": {},
   "outputs": [],
   "source": [
    "N = 100\n",
    "αs = rand(dist_α_dm, N)\n",
    "fs = rand(dist_f_dm, N)\n",
    "M_L = rand(dist_M_L, N)\n",
    "\n",
    "pots = make_potential.(M_L, fs, αs)"
   ]
  },
  {
   "cell_type": "code",
   "execution_count": null,
   "id": "23",
   "metadata": {},
   "outputs": [],
   "source": [
    "fig = Figure()\n",
    "ax = Axis(fig[1, 1],\n",
    "    )\n",
    "\n",
    "kwargs = Dict(\n",
    "    :alpha=>0.3, \n",
    "    )\n",
    "\n",
    "for pot in pots\n",
    "    plot_v_circ!(pot, color=:black; kwargs...)\n",
    "\n",
    "\n",
    "end\n",
    "\n",
    "fig"
   ]
  },
  {
   "cell_type": "code",
   "execution_count": null,
   "id": "24",
   "metadata": {},
   "outputs": [],
   "source": []
  }
 ],
 "metadata": {
  "kernelspec": {
   "display_name": "Julia 1.11.1",
   "language": "julia",
   "name": "julia-1.11"
  },
  "language_info": {
   "file_extension": ".jl",
   "mimetype": "application/julia",
   "name": "julia",
   "version": "1.11.1"
  }
 },
 "nbformat": 4,
 "nbformat_minor": 5
}
