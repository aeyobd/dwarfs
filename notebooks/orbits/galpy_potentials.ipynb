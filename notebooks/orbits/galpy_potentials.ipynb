{
 "cells": [
  {
   "cell_type": "markdown",
   "id": "0",
   "metadata": {},
   "source": [
    "This notebook explores a few different potential models of the Milky Way"
   ]
  },
  {
   "cell_type": "code",
   "execution_count": null,
   "id": "1",
   "metadata": {
    "tags": []
   },
   "outputs": [],
   "source": [
    "import galpy.potential as gp\n",
    "import arya\n",
    "import matplotlib.pyplot as plt\n",
    "import astropy.units as u\n",
    "import astropy.constants as c\n",
    "import numpy as np\n",
    "from astropy import coordinates as coord\n",
    "from galpy.orbit import Orbit"
   ]
  },
  {
   "cell_type": "code",
   "execution_count": null,
   "id": "2",
   "metadata": {
    "tags": []
   },
   "outputs": [],
   "source": [
    "MN75 = gp.MiyamotoNagaiPotential\n",
    "ExpDisk = gp.DoubleExponentialDiskPotential\n",
    "NFW = gp.NFWPotential\n",
    "plaw = gp.PowerSphericalPotentialwCutoff\n",
    "Plummer = gp.PlummerPotential"
   ]
  },
  {
   "cell_type": "code",
   "execution_count": null,
   "id": "3",
   "metadata": {
    "tags": []
   },
   "outputs": [],
   "source": [
    "M0 = 1e10*u.Msun\n",
    "R0 = 1*u.kpc\n",
    "kms = u.km/u.s\n",
    "Σ0 = u.Msun / u.pc**2"
   ]
  },
  {
   "cell_type": "code",
   "execution_count": null,
   "id": "4",
   "metadata": {
    "tags": []
   },
   "outputs": [],
   "source": [
    "from astropy.constants import G\n",
    "galpy_to_standard_force = 1/((2*np.pi*G *u.Msun / u.pc**2).to(\"km/Myr s\"))\n",
    "print(galpy_to_standard_force)\n",
    "galpy_to_standard_force = galpy_to_standard_force.value\n",
    "\n",
    "H0 = 67.74*u.km/u.s/u.Mpc\n",
    "Ωm = 0.3\n",
    "ρ_c = 3* H0**2 / (8*np.pi * G )\n",
    "ρ200 = 200*ρ_c.to(\"Msun / kpc^3\")\n"
   ]
  },
  {
   "cell_type": "code",
   "execution_count": null,
   "id": "5",
   "metadata": {
    "tags": []
   },
   "outputs": [],
   "source": [
    "def plot_pot(pot, z=0, **kwargs):\n",
    "    Rs = np.linspace(0.1, 20, 100) * u.kpc\n",
    "    z = z * u.kpc\n",
    "    phis = pot(Rs, z)\n",
    "    plt.plot(Rs, phis)\n",
    "\n",
    "def plot_pot_2d(pot, R_max=20, z_max=5, R_min=0.001, res=500, **kwargs):\n",
    "    plt.figure(figsize=(20, 7))\n",
    "    Rs = np.linspace(R_min, R_max, res) * u.kpc\n",
    "    zs = np.linspace(0, z_max, res) * u.kpc\n",
    "    phis = [gp.evaluatePotentials(pot, Rs, z) for z in zs]\n",
    "    plt.contourf(Rs, zs, phis, levels=round(np.sqrt(res)))\n",
    "    plt.colorbar()\n",
    "    plt.gca().set_aspect(1)\n",
    "    plt.xlabel(\"R / kpc\")\n",
    "    plt.ylabel(\"z / kpc\")\n",
    "    \n",
    "def plot_Vc(pot, R_max=60, R_min=0.01, res=300, **kwargs):\n",
    "    Rs = np.logspace(np.log10(R_min), np.log10(R_max), res)  * u.kpc\n",
    "    Vc = gp.calcRotcurve(pot, Rs, 0)\n",
    "    plt.plot(Rs, Vc, **kwargs)\n",
    "    plt.xlabel(r\"$R$ / kpc\")\n",
    "    plt.ylabel(r\"$V_{\\rm circ} / \\rm km\\,s^{-1}$\")\n",
    "    \n",
    "def plot_Kz(pot, R_max=9, R_min=4, z = 1.1*u.kpc, res=1000, **kwargs):\n",
    "    Rs = np.linspace(R_min, R_max, res) * u.kpc\n",
    "    Kz = [ -galpy_to_standard_force * gp.evaluatezforces(pot, r, z).value for r in Rs]\n",
    "    plt.plot(Rs,Kz, **kwargs)\n",
    "    plt.yscale(\"log\")\n",
    "    plt.ylabel(r\"Kz / ($2\\pi\\ G\\rm\\ M_\\odot / pc^2$)\")\n",
    "    plt.xlabel(r\"$R$ / kpc\")"
   ]
  },
  {
   "cell_type": "code",
   "execution_count": null,
   "id": "6",
   "metadata": {
    "tags": []
   },
   "outputs": [],
   "source": [
    "ngp = coord.SkyCoord.from_name(\"north galactic pole\")\n",
    "sgp = coord.SkyCoord.from_name(\"south galactic pole\")\n",
    "sgr_a = coord.SkyCoord.from_name(\"Sgr A*\")"
   ]
  },
  {
   "cell_type": "markdown",
   "id": "7",
   "metadata": {},
   "source": [
    "# Sky Positions"
   ]
  },
  {
   "cell_type": "code",
   "execution_count": null,
   "id": "8",
   "metadata": {},
   "outputs": [],
   "source": [
    "0.01 / np.arctan(np.deg2rad(30))"
   ]
  },
  {
   "cell_type": "code",
   "execution_count": null,
   "id": "9",
   "metadata": {
    "tags": []
   },
   "outputs": [],
   "source": [
    "sculptor = coord.SkyCoord(ra=15.0183*u.degree, dec=-33.7186*u.degree, \n",
    "                         distance=83.2*u.kpc, radial_velocity=111.03*kms,\n",
    "                         pm_ra_cosdec=0.099*u.mas/u.year, pm_dec=-0.160*u.mas/u.year)                 "
   ]
  },
  {
   "cell_type": "code",
   "execution_count": null,
   "id": "10",
   "metadata": {
    "tags": []
   },
   "outputs": [],
   "source": [
    "dwarf_galaxy = sculptor"
   ]
  },
  {
   "cell_type": "code",
   "execution_count": null,
   "id": "11",
   "metadata": {
    "tags": []
   },
   "outputs": [],
   "source": [
    "\n",
    "coord.galactocentric_frame_defaults.set(\"v4.0\")\n",
    "\n",
    "gc_frame = coord.Galactocentric()\n",
    "dwarf_galaxy_gc = dwarf_galaxy.transform_to(gc_frame)\n",
    "\n",
    "print(dwarf_galaxy_gc.cartesian.xyz)\n",
    "print(dwarf_galaxy_gc.velocity.d_xyz)"
   ]
  },
  {
   "cell_type": "code",
   "execution_count": null,
   "id": "12",
   "metadata": {
    "tags": []
   },
   "outputs": [],
   "source": [
    "gc_frame.galcen_v_sun"
   ]
  },
  {
   "cell_type": "code",
   "execution_count": null,
   "id": "13",
   "metadata": {
    "tags": []
   },
   "outputs": [],
   "source": [
    "o = Orbit(dwarf_galaxy_gc)"
   ]
  },
  {
   "cell_type": "code",
   "execution_count": null,
   "id": "14",
   "metadata": {
    "tags": []
   },
   "outputs": [],
   "source": [
    "dwarf_galaxy_gc.icrs"
   ]
  },
  {
   "cell_type": "code",
   "execution_count": null,
   "id": "15",
   "metadata": {
    "tags": []
   },
   "outputs": [],
   "source": [
    "print(o.x(), o.y(), o.z())\n",
    "print(o.vx(), o.vy(), o.vz())"
   ]
  },
  {
   "cell_type": "markdown",
   "id": "16",
   "metadata": {},
   "source": [
    "note that galpy \"x\" is -x in astropy's frame"
   ]
  },
  {
   "cell_type": "code",
   "execution_count": null,
   "id": "17",
   "metadata": {
    "tags": []
   },
   "outputs": [],
   "source": [
    "from galpy.util.conversion import get_physical\n",
    "from galpy.util import conversion as conv"
   ]
  },
  {
   "cell_type": "code",
   "execution_count": null,
   "id": "18",
   "metadata": {
    "tags": []
   },
   "outputs": [],
   "source": [
    "Rgp =  get_physical(o)[\"ro\"]\n",
    "Vgp =  get_physical(o)[\"vo\"] \n",
    "\n",
    "Tgp =  conv.time_in_Gyr( Rgp, Vgp)\n",
    "Fgp = conv.force_in_2piGmsolpc2(Rgp, Vgp)"
   ]
  },
  {
   "cell_type": "code",
   "execution_count": null,
   "id": "19",
   "metadata": {
    "tags": []
   },
   "outputs": [],
   "source": [
    "def A_NFW(c):\n",
    "    return (np.log(1+c) - c/(1+c))\n",
    "\n",
    "def R200_NFW(M200):\n",
    "    r = ( 3*M200 / (4*np.pi * 200*ρ_c))**(1/3)\n",
    "    return r.to(\"kpc\")"
   ]
  },
  {
   "cell_type": "code",
   "execution_count": null,
   "id": "20",
   "metadata": {
    "tags": []
   },
   "outputs": [],
   "source": [
    "def Ms_NFW(M200, c):\n",
    "    return M200 / A_NFW(c)  "
   ]
  },
  {
   "cell_type": "code",
   "execution_count": null,
   "id": "21",
   "metadata": {
    "tags": []
   },
   "outputs": [],
   "source": [
    "R200_NFW(1.04*M0) / 12.5"
   ]
  },
  {
   "cell_type": "code",
   "execution_count": null,
   "id": "22",
   "metadata": {
    "tags": []
   },
   "outputs": [],
   "source": [
    "def find_M_c(Ms, Rs, c_i=13):\n",
    "    c = c_i\n",
    "    for i in range(100):\n",
    "        M200 = Ms * A_NFW(c)\n",
    "        Rv = R200_NFW(M200)\n",
    "        c = (Rv/Rs).decompose()\n",
    "    return c, M200"
   ]
  },
  {
   "cell_type": "markdown",
   "id": "23",
   "metadata": {
    "tags": []
   },
   "source": [
    "## note about proper motions.\n",
    "\n",
    "The proper motion of a galaxy on the sky is not directly related to its absolute motion in space.\n",
    "For example, if a point is not moving, and the reference frame is also stationary, then there is no proper motion:"
   ]
  },
  {
   "cell_type": "code",
   "execution_count": null,
   "id": "24",
   "metadata": {
    "tags": []
   },
   "outputs": [],
   "source": [
    "gc_rest_frame = coord.Galactocentric(galcen_v_sun=[0,0,0]*kms)"
   ]
  },
  {
   "cell_type": "code",
   "execution_count": null,
   "id": "25",
   "metadata": {
    "tags": []
   },
   "outputs": [],
   "source": [
    "dwarf_galaxy_gc = sculptor.transform_to(gc_frame)\n",
    "dwarf_galaxy_gc = coord.SkyCoord(x=dwarf_galaxy_gc.x, y=dwarf_galaxy_gc.y, z=dwarf_galaxy_gc.z, \n",
    "                                 v_x=0*dwarf_galaxy_gc.v_x, v_y=0*dwarf_galaxy_gc.v_y, v_z=0*dwarf_galaxy_gc.v_z, frame=gc_rest_frame)\n",
    "dwarf_galaxy_gc.icrs"
   ]
  },
  {
   "cell_type": "markdown",
   "id": "26",
   "metadata": {},
   "source": [
    "however in our moving frame of reference, the proper motion can be substantial:"
   ]
  },
  {
   "cell_type": "code",
   "execution_count": null,
   "id": "27",
   "metadata": {
    "tags": []
   },
   "outputs": [],
   "source": [
    "dwarf_galaxy_gc = sculptor.transform_to(gc_frame)\n",
    "dwarf_galaxy_gc = coord.SkyCoord(x=dwarf_galaxy_gc.x, y=dwarf_galaxy_gc.y, z=dwarf_galaxy_gc.z, \n",
    "                                 v_x=0*dwarf_galaxy_gc.v_x, v_y=0*dwarf_galaxy_gc.v_y, v_z=0*dwarf_galaxy_gc.v_z, frame=gc_frame)\n",
    "dwarf_galaxy_gc.icrs"
   ]
  },
  {
   "cell_type": "markdown",
   "id": "28",
   "metadata": {},
   "source": [
    "this means that a galaxy which has one proper motion may move across the sky in the opposite direction because we are not accounting for the movement of the sun through the milkyway"
   ]
  },
  {
   "cell_type": "code",
   "execution_count": null,
   "id": "29",
   "metadata": {
    "tags": []
   },
   "outputs": [],
   "source": [
    "dwarf_galaxy_gc = sculptor.transform_to(gc_frame)\n",
    "dwarf_galaxy_gc = coord.SkyCoord(x=dwarf_galaxy_gc.x, y=dwarf_galaxy_gc.y, z=dwarf_galaxy_gc.z, \n",
    "                                 v_x=dwarf_galaxy_gc.v_x, v_y=dwarf_galaxy_gc.v_y, v_z=dwarf_galaxy_gc.v_z, frame=gc_rest_frame)\n",
    "dwarf_galaxy_gc.icrs"
   ]
  },
  {
   "cell_type": "code",
   "execution_count": null,
   "id": "30",
   "metadata": {
    "tags": []
   },
   "outputs": [],
   "source": [
    "sculptor.icrs"
   ]
  },
  {
   "cell_type": "markdown",
   "id": "31",
   "metadata": {},
   "source": [
    "in the case of sculptor, this results in a reversal in the sign of both proper motions."
   ]
  },
  {
   "cell_type": "code",
   "execution_count": null,
   "id": "32",
   "metadata": {
    "tags": []
   },
   "outputs": [],
   "source": [
    "dwarf_galaxy_gc = dwarf_galaxy.transform_to(gc_frame)\n",
    "dwarf_galaxy_gc.icrs"
   ]
  },
  {
   "cell_type": "markdown",
   "id": "33",
   "metadata": {
    "tags": []
   },
   "source": [
    "# Rapha potential model\n",
    "based on McMillan 2011 (below)"
   ]
  },
  {
   "cell_type": "code",
   "execution_count": null,
   "id": "34",
   "metadata": {
    "tags": []
   },
   "outputs": [],
   "source": [
    "M200 = 126.38*M0\n",
    "c = 11.2849\n",
    "Ms = Ms_NFW(M200, c)\n",
    "\n",
    "Ms"
   ]
  },
  {
   "cell_type": "code",
   "execution_count": null,
   "id": "35",
   "metadata": {
    "tags": []
   },
   "outputs": [],
   "source": [
    "# Rv=R200_NFW(M200)\n",
    "# c = Rv/Rs\n",
    "# M200 = Ms * A_NFW(c)\n",
    "# M200.value, c.value"
   ]
  },
  {
   "cell_type": "code",
   "execution_count": null,
   "id": "36",
   "metadata": {
    "tags": []
   },
   "outputs": [],
   "source": [
    "EP2020_thin = MN75(amp=5.9*M0, a=3.944*u.kpc, b=0.311*u.kpc)\n",
    "EP2020_thick =  MN75(amp=2*M0, a=4.4*u.kpc, b=0.92*u.kpc)\n",
    "\n",
    "EP2020_halo =  NFW(amp=Ms, a=20.2*u.kpc)\n",
    "EP2020_bulge = gp.HernquistPotential(amp=2.1 * (2) *M0, a=1.3*u.kpc) # instead of 1.3\n",
    "\n",
    "EP2020 = EP2020_thin + EP2020_thick + EP2020_halo + EP2020_bulge"
   ]
  },
  {
   "cell_type": "markdown",
   "id": "37",
   "metadata": {
    "jp-MarkdownHeadingCollapsed": true,
    "tags": []
   },
   "source": [
    "# Galpy"
   ]
  },
  {
   "cell_type": "code",
   "execution_count": null,
   "id": "38",
   "metadata": {
    "tags": []
   },
   "outputs": [],
   "source": [
    "M200 = 80*M0\n",
    "c = 15.3\n",
    "Ms = Ms_NFW(M200, c)\n",
    "Ms"
   ]
  },
  {
   "cell_type": "code",
   "execution_count": null,
   "id": "39",
   "metadata": {
    "tags": []
   },
   "outputs": [],
   "source": [
    "Ms / 1e10"
   ]
  },
  {
   "cell_type": "code",
   "execution_count": null,
   "id": "40",
   "metadata": {
    "tags": []
   },
   "outputs": [],
   "source": [
    "R200_NFW(M200) / c"
   ]
  },
  {
   "cell_type": "code",
   "execution_count": null,
   "id": "41",
   "metadata": {
    "tags": []
   },
   "outputs": [],
   "source": [
    " gp.PowerSphericalPotentialwCutoff?"
   ]
  },
  {
   "cell_type": "code",
   "execution_count": null,
   "id": "42",
   "metadata": {
    "tags": []
   },
   "outputs": [],
   "source": [
    "galpy14_bulge = gp.PowerSphericalPotentialwCutoff(amp=1*M0/u.kpc**3, alpha=1.8, rc=1.9*u.kpc)\n",
    "galpy14_bulge *= (0.5*M0 / galpy14_bulge.mass(60)).value\n",
    "galpy14_disk = MN75(amp=6.8*M0, a=3*u.kpc, b=0.28*u.kpc)\n",
    "\n",
    "galpy14_halo = NFW(amp=Ms, a=16*u.kpc)\n",
    "galpy14 = galpy14_bulge + galpy14_disk + galpy14_halo\n",
    "galpy14_heavy = galpy14_bulge + galpy14_disk + 2*galpy14_halo"
   ]
  },
  {
   "cell_type": "code",
   "execution_count": null,
   "id": "43",
   "metadata": {
    "tags": []
   },
   "outputs": [],
   "source": [
    "galpy14_halo.mass(60*u.kpc) + galpy14_disk.mass(60*u.kpc) + galpy14_bulge.mass(60*u.kpc)"
   ]
  },
  {
   "cell_type": "code",
   "execution_count": null,
   "id": "44",
   "metadata": {
    "tags": []
   },
   "outputs": [],
   "source": [
    "galpy14_halo.mass(16*u.kpc * c)"
   ]
  },
  {
   "cell_type": "code",
   "execution_count": null,
   "id": "45",
   "metadata": {
    "tags": []
   },
   "outputs": [],
   "source": [
    "galpy14_bulge.mass(10)"
   ]
  },
  {
   "cell_type": "code",
   "execution_count": null,
   "id": "46",
   "metadata": {
    "tags": []
   },
   "outputs": [],
   "source": [
    "plot_Vc(galpy14, R_max=32)\n",
    "#plot_Vc(galpy14_heavy, R_max=32)\n",
    "\n",
    "plot_Vc(galpy14_bulge, R_max=32)\n",
    "plot_Vc(galpy14_disk, R_max=32)\n",
    "plot_Vc(galpy14_halo, R_max=32)"
   ]
  },
  {
   "cell_type": "markdown",
   "id": "47",
   "metadata": {
    "jp-MarkdownHeadingCollapsed": true,
    "tags": []
   },
   "source": [
    "# McMillan 2011"
   ]
  },
  {
   "cell_type": "code",
   "execution_count": null,
   "id": "48",
   "metadata": {
    "tags": []
   },
   "outputs": [],
   "source": [
    "def mcmillan_bulge_rho(R, z):\n",
    "    α=1.8\n",
    "    r_0 = 0.075/Rgp # kpc\n",
    "    r_c = 2.1/Rgp # kpc\n",
    "    q = 0.5\n",
    "    \n",
    "    x = np.sqrt(R**2 + (z/q)**2)\n",
    "    return  1*u.Msun/u.pc**3 / (1 + x/r_0)**α * np.exp(-(x/r_c)**2) \n",
    "\n",
    "mcmillan_bulge_unnorm = gp.SCFPotential.from_density(mcmillan_bulge_rho, N=40, symmetry=\"axisymmetric\", a=0.5/Rgp, L=20)\n"
   ]
  },
  {
   "cell_type": "code",
   "execution_count": null,
   "id": "49",
   "metadata": {
    "tags": []
   },
   "outputs": [],
   "source": [
    "A_mcmillan_bulge = (mcmillan_bulge_rho(0.5/Rgp, 0) / mcmillan_bulge_unnorm.dens(0.5*u.kpc, 0*u.kpc)).value\n"
   ]
  },
  {
   "cell_type": "code",
   "execution_count": null,
   "id": "50",
   "metadata": {
    "tags": []
   },
   "outputs": [],
   "source": [
    "thetas = [0, np.pi/3, np.pi/2, np.pi*2/3, np.pi]\n",
    "Rs = np.linspace(0.01, 10, 1000) * u.kpc\n",
    "# test approximation\n",
    "for theta in thetas:\n",
    "    rs = Rs * np.cos(theta)\n",
    "    zs = Rs*np.sin(theta)\n",
    "    plt.plot(Rs,  A_mcmillan_bulge * mcmillan_bulge_unnorm.dens(rs, zs))\n",
    "    plt.plot(Rs,  mcmillan_bulge_rho(rs/u.kpc/Rgp, zs/u.kpc/Rgp))\n",
    "\n",
    "    plt.xscale(\"log\")\n",
    "    plt.yscale(\"log\")\n",
    "    plt.ylim(1e-10)\n",
    "    plt.show()"
   ]
  },
  {
   "cell_type": "code",
   "execution_count": null,
   "id": "51",
   "metadata": {
    "tags": []
   },
   "outputs": [],
   "source": [
    "def mcmillan_disk(sigma, r, z):\n",
    "    return ExpDisk(amp=sigma / z / 2, hr=r, hz=z, )"
   ]
  },
  {
   "cell_type": "code",
   "execution_count": null,
   "id": "52",
   "metadata": {
    "tags": []
   },
   "outputs": [],
   "source": [
    "mcmillan2011_thin = mcmillan_disk(816.6*Σ0, 2.90*u.kpc, 0.3*u.kpc)\n",
    "mcmillan2011_thick = mcmillan_disk(208*Σ0, 3.31*u.kpc, 0.9*u.kpc)\n",
    "mcmillan2011_bulge = A_mcmillan_bulge * 95.6 * mcmillan_bulge_unnorm \n",
    "\n",
    "\n",
    "rh = 20.2 * u.kpc\n",
    "rho_h = 0.00846*u.Msun/u.pc**3\n",
    "Ms = rho_h * 4*np.pi * rh**3 \n",
    "mcmillan2011_halo = NFW(amp=Ms, a=rh)\n",
    "\n",
    "mcmillan2011 = mcmillan2011_bulge + mcmillan2011_halo + mcmillan2011_thick + mcmillan2011_thin"
   ]
  },
  {
   "cell_type": "code",
   "execution_count": null,
   "id": "53",
   "metadata": {
    "tags": []
   },
   "outputs": [],
   "source": [
    "for theta in thetas:\n",
    "    rs = Rs * np.cos(theta)\n",
    "    zs = Rs*np.sin(theta)\n",
    "    plt.plot(Rs, mcmillan2011_bulge(rs, zs))\n",
    "    plt.plot(Rs, (EP2020_bulge)(rs, zs))\n",
    "    plt.show()"
   ]
  },
  {
   "cell_type": "markdown",
   "id": "54",
   "metadata": {
    "jp-MarkdownHeadingCollapsed": true,
    "tags": []
   },
   "source": [
    "# McMillan 2017"
   ]
  },
  {
   "cell_type": "markdown",
   "id": "55",
   "metadata": {
    "jp-MarkdownHeadingCollapsed": true,
    "tags": []
   },
   "source": [
    "## Chaos"
   ]
  },
  {
   "cell_type": "code",
   "execution_count": null,
   "id": "56",
   "metadata": {},
   "outputs": [],
   "source": [
    "def mcmillan_gas_rho_model(z_d, R_m, R_d):\n",
    "    def inner(R, z, phi=0):\n",
    "        return  1 /(4*z_d) * np.exp(-R_m/R - R / R_d) * np.cosh(z/(2*z_d))**-2\n",
    "    return inner\n",
    "\n",
    "\n",
    "h1_rho = mcmillan_gas_rho_model(0.085, 4, 7)\n",
    "h2_rho = mcmillan_gas_rho_model(0.045, 12, 1.5)\n",
    "\n",
    "# h1_rho = mcmillan_gas_rho_model(1, 4/7, 1)\n",
    "# h2_rho = mcmillan_gas_rho_model(1, 7/1.5, 1)\n"
   ]
  },
  {
   "cell_type": "code",
   "execution_count": null,
   "id": "57",
   "metadata": {
    "tags": []
   },
   "outputs": [],
   "source": [
    "rh = 4\n",
    "rd = 7\n",
    "r_z = 0.085\n",
    "\n",
    "\n",
    "def S(x):\n",
    "    x = np.array(x)\n",
    "    return np.where(x<=0, np.nan, np.exp( -rd/x - x/rh))\n",
    "\n",
    "def hz(z):\n",
    "    x = z / r_z\n",
    "    return np.cosh(x)**-2\n",
    "\n",
    "    \n",
    "def Hz(z):\n",
    "\n",
    "    x = z / r_z\n",
    "    return r_z**2 * (2*x + np.log(np.exp(-2*x) + 1))\n",
    "\n",
    "def dHz(z):\n",
    "\n",
    "    x = z/r_z\n",
    "    return r_z*(-2*np.exp(-2*x)/(np.exp(-2*x) + 1) + 2)\n",
    "\n",
    "def dSdz(x):\n",
    "    x = np.array(x)\n",
    "\n",
    "    return np.where(x<=0, np.nan, -(1/rh - rd/x**2)*np.exp(-rd/x - x/rh))\n",
    "\n",
    "def dS2dz2(x):\n",
    "    x = np.array(x)\n",
    "\n",
    "    return np.where(x<=0, np.nan,\n",
    "                    (1/rh - rd/x**2)**2*np.exp(-rd/x - x/rh) - 2*rd*np.exp(-rd/x - x/rh)/x**3\n",
    "\n",
    "                   )"
   ]
  },
  {
   "cell_type": "code",
   "execution_count": null,
   "id": "58",
   "metadata": {
    "tags": []
   },
   "outputs": [],
   "source": [
    "mcmillan_h1_unnorm = gp.DiskSCFPotential(dens=h1_rho, N=20,  L=20, a=7,  \n",
    "      Sigma={'type':'exp','h':1, 'Rhole':4/7},\n",
    "      hz={'type':'sech2','h':0.085},\n",
    "        )"
   ]
  },
  {
   "cell_type": "code",
   "execution_count": null,
   "id": "59",
   "metadata": {
    "tags": []
   },
   "outputs": [],
   "source": [
    "mcmillan_h2_unnorm = gp.DiskSCFPotential(dens=h2_rho, N=20,  L=20, a=1, \n",
    "      Sigma={'type':'exp','h':1, 'Rhole':12/1.5},\n",
    "      hz={'type':'sech2','h':0.045},\n",
    "        )"
   ]
  },
  {
   "cell_type": "code",
   "execution_count": null,
   "id": "60",
   "metadata": {
    "tags": []
   },
   "outputs": [],
   "source": [
    "h1_rho(8, 0, 0)"
   ]
  },
  {
   "cell_type": "code",
   "execution_count": null,
   "id": "61",
   "metadata": {},
   "outputs": [],
   "source": [
    "A_mcmillan_h1 = (h1_rho(3, 0, 0) / mcmillan_h1_unnorm.dens(3*u.kpc, 0, 0*u.kpc))\n",
    "A_mcmillan_h2 = (h2_rho(3, 0, 0) / mcmillan_h2_unnorm.dens(3*u.kpc, 0, 0*u.kpc))"
   ]
  },
  {
   "cell_type": "code",
   "execution_count": null,
   "id": "62",
   "metadata": {
    "tags": []
   },
   "outputs": [],
   "source": [
    "zs = [0, 0.5, 1, 3, 10, 100] *u.kpc* 0.085\n",
    "# test approximation\n",
    "for z in zs:\n",
    "    plt.plot(Rs,  A_mcmillan_h1 * mcmillan_h1_unnorm.dens(Rs, z))\n",
    "    plt.plot(Rs,  h1_rho(Rs.value, z.value, 3))\n",
    "    plt.xscale(\"log\")\n",
    "    plt.yscale(\"log\")\n",
    "    plt.ylim(1e-10)\n",
    "    plt.show()"
   ]
  },
  {
   "cell_type": "code",
   "execution_count": null,
   "id": "63",
   "metadata": {
    "tags": []
   },
   "outputs": [],
   "source": [
    "zs = [0, 0.5, 1, 3, 10, 100] * u.kpc\n",
    "# test approximation\n",
    "for z in zs:\n",
    "    plt.plot(Rs,  A_mcmillan_h2 * mcmillan_h2_unnorm.dens(Rs, z))\n",
    "    plt.plot(Rs,  h2_rho(Rs.value, z.value, 3))\n",
    "    plt.xscale(\"log\")\n",
    "    plt.yscale(\"log\")\n",
    "    plt.ylim(1e-10)\n",
    "    plt.show()"
   ]
  },
  {
   "cell_type": "code",
   "execution_count": null,
   "id": "64",
   "metadata": {},
   "outputs": [],
   "source": [
    "A_mcmillan_h1 = (h1_rho(3, 0, 0) / mcmillan_h1_unnorm.dens(3*u.kpc, 0, 0*u.kpc))\n",
    "A_mcmillan_h2 = (h2_rho(3, 0, 0) / mcmillan_h2_unnorm.dens(3*u.kpc, 0, 0*u.kpc))"
   ]
  },
  {
   "cell_type": "markdown",
   "id": "65",
   "metadata": {},
   "source": [
    "## normal"
   ]
  },
  {
   "cell_type": "code",
   "execution_count": null,
   "id": "66",
   "metadata": {
    "tags": []
   },
   "outputs": [],
   "source": [
    "mcmillan2017_bulge = A_mcmillan_bulge * 95.6 * mcmillan_bulge_unnorm \n",
    "# mcmillan2017_h1 = 53.1*A_mcmillan_h1 * mcmillan_h1_unnorm\n",
    "# mcmillan2017_h2 = 2380*A_mcmillan_h2 * mcmillan_h2_unnorm\n",
    "\n",
    "mcmillan2017_h1 = gp.MN3ExponentialDiskPotential(amp=1/3 *53.1*Σ0/(0.085*u.kpc), hr=7*u.kpc, hz=0.085*u.kpc)\n",
    "mcmillan2017_h2 = gp.MN3ExponentialDiskPotential(amp=1/56 *2380*Σ0/(0.045*u.kpc), hr=1.5*u.kpc, hz=0.045*u.kpc)\n",
    "\n",
    "mcmillan2017_h1b = gp.RazorThinExponentialDiskPotential(amp=35.7*Σ0, hr=7*u.kpc)\n",
    "mcmillan2017_h2b = gp.RazorThinExponentialDiskPotential(amp=11.9*Σ0, hr=1.5*u.kpc)\n",
    "\n",
    "\n",
    "mcmillan2017_thin = mcmillan_disk(886.7*Σ0, 2.53*u.kpc, 0.3*u.kpc)\n",
    "mcmillan2017_thick = mcmillan_disk(156*Σ0, 3.38*u.kpc, 0.9*u.kpc)\n",
    "\n",
    "\n",
    "rh = 18.6 * u.kpc\n",
    "rho_h = 0.0093*u.Msun/u.pc**3\n",
    "Ms = rho_h * 4*np.pi * rh**3 \n",
    "mcmillan2017_halo = NFW(amp=Ms, a=rh)\n",
    "\n",
    "mcmillan2017 = (\n",
    "    mcmillan2017_bulge \n",
    "    + mcmillan2017_halo \n",
    "    + mcmillan2017_thick \n",
    "    + mcmillan2017_thin \n",
    "    + mcmillan2017_h1\n",
    "    + mcmillan2017_h2\n",
    ")\n",
    "\n",
    "mcmillan2017_nogas = (\n",
    "    mcmillan2017_bulge \n",
    "    + mcmillan2017_halo \n",
    "    + mcmillan2017_thick \n",
    "    + mcmillan2017_thin \n",
    ")\n",
    "\n"
   ]
  },
  {
   "cell_type": "code",
   "execution_count": null,
   "id": "67",
   "metadata": {
    "tags": []
   },
   "outputs": [],
   "source": [
    "mcmillan2017_bulge.mass(100*u.kpc)"
   ]
  },
  {
   "cell_type": "code",
   "execution_count": null,
   "id": "68",
   "metadata": {
    "tags": []
   },
   "outputs": [],
   "source": [
    "(2*np.pi * 886.7*Σ0 * ( 2.53*u.kpc)**2).to(\"Msun\")"
   ]
  },
  {
   "cell_type": "code",
   "execution_count": null,
   "id": "69",
   "metadata": {
    "tags": []
   },
   "outputs": [],
   "source": [
    "0.862 + 3.566 + 1.119 # stellar mass is correct"
   ]
  },
  {
   "cell_type": "code",
   "execution_count": null,
   "id": "70",
   "metadata": {
    "tags": []
   },
   "outputs": [],
   "source": [
    "mcmillan2017_halo.dens(8.2*u.kpc, 0)"
   ]
  },
  {
   "cell_type": "code",
   "execution_count": null,
   "id": "71",
   "metadata": {
    "tags": []
   },
   "outputs": [],
   "source": [
    "gp.evaluatezforces(mcmillan2017, 8.2*u.kpc, z=1.1*u.kpc) * galpy_to_standard_force"
   ]
  },
  {
   "cell_type": "code",
   "execution_count": null,
   "id": "72",
   "metadata": {
    "tags": []
   },
   "outputs": [],
   "source": [
    "sum([a.mass(100*u.kpc) for a in mcmillan2017])"
   ]
  },
  {
   "cell_type": "code",
   "execution_count": null,
   "id": "73",
   "metadata": {
    "tags": []
   },
   "outputs": [],
   "source": [
    "(np.pi * 2 * (156*Σ0) * (3.38*u.kpc)**2).to(\"Msun\")"
   ]
  },
  {
   "cell_type": "code",
   "execution_count": null,
   "id": "74",
   "metadata": {
    "tags": []
   },
   "outputs": [],
   "source": [
    "mcmillan2017_thick.mass(1000)"
   ]
  },
  {
   "cell_type": "code",
   "execution_count": null,
   "id": "75",
   "metadata": {
    "tags": []
   },
   "outputs": [],
   "source": [
    "(2*np.pi * 53.1*Σ0 * (7*u.kpc)**2).to(\"Msun\")"
   ]
  },
  {
   "cell_type": "code",
   "execution_count": null,
   "id": "76",
   "metadata": {},
   "outputs": [],
   "source": [
    "mcmillan2017_h1.mass(50*u.kpc)"
   ]
  },
  {
   "cell_type": "code",
   "execution_count": null,
   "id": "77",
   "metadata": {
    "tags": []
   },
   "outputs": [],
   "source": [
    "mcmillan2017_h2.mass(10*u.kpc)"
   ]
  },
  {
   "cell_type": "code",
   "execution_count": null,
   "id": "78",
   "metadata": {
    "tags": []
   },
   "outputs": [],
   "source": [
    "mcmillan2017_bulge.mass(10000*u.kpc)"
   ]
  },
  {
   "cell_type": "code",
   "execution_count": null,
   "id": "79",
   "metadata": {
    "tags": []
   },
   "outputs": [],
   "source": [
    "mcmillan2017_h1b.mass(1000)"
   ]
  },
  {
   "cell_type": "code",
   "execution_count": null,
   "id": "80",
   "metadata": {
    "tags": []
   },
   "outputs": [],
   "source": [
    "mcmillan2017_h2b.mass(10000)"
   ]
  },
  {
   "cell_type": "code",
   "execution_count": null,
   "id": "81",
   "metadata": {
    "tags": []
   },
   "outputs": [],
   "source": [
    "Rs = np.linspace(0, 20, 1000)*u.kpc\n",
    "plt.plot(Rs, mcmillan2017_h1.dens(Rs, 0*u.kpc))\n",
    "plt.plot(Rs, mcmillan2017_h2.dens(Rs, 0*u.kpc))\n",
    "\n",
    "plt.yscale(\"log\")"
   ]
  },
  {
   "cell_type": "code",
   "execution_count": null,
   "id": "82",
   "metadata": {
    "tags": []
   },
   "outputs": [],
   "source": [
    "plot_Vc(mcmillan2017, label=\"thick\")\n",
    "plot_Vc(mcmillan2017_nogas, label=\"thick\")\n"
   ]
  },
  {
   "cell_type": "code",
   "execution_count": null,
   "id": "83",
   "metadata": {},
   "outputs": [],
   "source": [
    "plot_Vc(mcmillan2017_thick, label=\"thick\")\n",
    "plot_Vc(mcmillan2017_thin, label=\"thin\")\n",
    "\n",
    "\n",
    "plot_Vc(mcmillan2017_h1, label=\"h1\")\n",
    "plot_Vc(mcmillan2017_h1b, )\n",
    "\n",
    "plot_Vc(mcmillan2017_h2,label=\"h2\")\n",
    "arya.Legend(loc=-1)\n"
   ]
  },
  {
   "cell_type": "markdown",
   "id": "84",
   "metadata": {
    "tags": []
   },
   "source": [
    "# Pouliasis 17 model"
   ]
  },
  {
   "cell_type": "code",
   "execution_count": null,
   "id": "85",
   "metadata": {
    "tags": []
   },
   "outputs": [],
   "source": [
    "Mp = 2.32e7*u.Msun\n",
    "pouliasis17_bulge = Plummer(amp=460*Mp, b=0.3*u.kpc)\n",
    "pouliasis17_thin = MN75(amp=1700*Mp, a=5.3*u.kpc, b=0.25*u.kpc)\n",
    "pouliasis17_thick = MN75(amp=1700*Mp, a=2.6*u.kpc, b=0.8*u.kpc)\n",
    "ah = 14*u.kpc\n",
    "Mh = 6000*Mp\n",
    "pouliasis17_halo = 2*NFW(amp=Mh, a=ah) + gp.TwoPowerSphericalPotential(alpha=0, beta=2, amp=Mh, a=ah)\n",
    "\n",
    "pouliasis17 = pouliasis17_bulge + pouliasis17_thin + pouliasis17_thick + pouliasis17_halo"
   ]
  },
  {
   "cell_type": "code",
   "execution_count": null,
   "id": "86",
   "metadata": {},
   "outputs": [],
   "source": [
    "plot_Vc(pouliasis17)"
   ]
  },
  {
   "cell_type": "code",
   "execution_count": null,
   "id": "87",
   "metadata": {
    "tags": []
   },
   "outputs": [],
   "source": [
    "pouliasis17b_thin = MN75(amp=1600*Mp, a=4.8*u.kpc, b=0.25*u.kpc)\n",
    "pouliasis17b_thick = MN75(amp=1700*Mp, a=2.0*u.kpc, b=0.8*u.kpc)\n",
    "ah = 14*u.kpc\n",
    "Mh = 9000*Mp\n",
    "pouliasis17b_halo = 2*NFW(amp=Mh, a=ah) + gp.TwoPowerSphericalPotential(alpha=0, beta=2, amp=Mh, a=ah)\n",
    "\n",
    "pouliasis17b = pouliasis17b_thin + pouliasis17b_thick + pouliasis17b_halo"
   ]
  },
  {
   "cell_type": "markdown",
   "id": "88",
   "metadata": {
    "jp-MarkdownHeadingCollapsed": true,
    "tags": []
   },
   "source": [
    "# Ablimit + 2020"
   ]
  },
  {
   "cell_type": "markdown",
   "id": "89",
   "metadata": {
    "tags": []
   },
   "source": [
    "builds on pouliasis but with NFW halo and more recent (cephied) data. Very close to galpy."
   ]
  },
  {
   "cell_type": "code",
   "execution_count": null,
   "id": "90",
   "metadata": {
    "tags": []
   },
   "outputs": [],
   "source": [
    "R200_NFW(M200) / c"
   ]
  },
  {
   "cell_type": "code",
   "execution_count": null,
   "id": "91",
   "metadata": {
    "tags": []
   },
   "outputs": [],
   "source": [
    "M200 = 66.3*M0\n",
    "c = 12.36\n",
    "Ms = Ms_NFW( M200, c)\n",
    "\n",
    "Rs = 14.45*u.kpc\n",
    "Ms"
   ]
  },
  {
   "cell_type": "code",
   "execution_count": null,
   "id": "92",
   "metadata": {
    "tags": []
   },
   "outputs": [],
   "source": [
    "find_M_c(Ms, Rs)"
   ]
  },
  {
   "cell_type": "code",
   "execution_count": null,
   "id": "93",
   "metadata": {
    "tags": []
   },
   "outputs": [],
   "source": [
    "M200 = 6.749*M0\n",
    "c = 12.7988\n",
    "Ms = Ms_NFW(M200, c)"
   ]
  },
  {
   "cell_type": "code",
   "execution_count": null,
   "id": "94",
   "metadata": {
    "tags": []
   },
   "outputs": [],
   "source": [
    "Ms"
   ]
  },
  {
   "cell_type": "code",
   "execution_count": null,
   "id": "95",
   "metadata": {
    "tags": []
   },
   "outputs": [],
   "source": [
    "ablimit_c = {\n",
    "    \"halo\": NFW(amp=Ms, a=Rs),\n",
    "    \"disk\": pouliasis17_thick + pouliasis17_thin,\n",
    "    \"bulge\": pouliasis17_bulge,\n",
    "}\n",
    "\n",
    "ablimit20a = [val for key, val in ablimit_c.items()]\n",
    "\n",
    "\n"
   ]
  },
  {
   "cell_type": "code",
   "execution_count": null,
   "id": "96",
   "metadata": {
    "tags": []
   },
   "outputs": [],
   "source": [
    "M200 = 82.2*M0\n",
    "c = 13.04\n",
    "Ms = Ms_NFW(M200, c)\n",
    "ablimit_b_comp = {\n",
    "    \"halo\": NFW(amp=Ms, a=14.71*u.kpc),\n",
    "    \"disk\": pouliasis17_thick + pouliasis17_thin,\n",
    "    \"bulge\": pouliasis17_bulge,\n",
    "}\n",
    "\n",
    "ablimit20b = [val for key, val in ablimit_b_comp.items()]\n"
   ]
  },
  {
   "cell_type": "code",
   "execution_count": null,
   "id": "97",
   "metadata": {
    "tags": []
   },
   "outputs": [],
   "source": [
    "R200_NFW(M200) / c"
   ]
  },
  {
   "cell_type": "code",
   "execution_count": null,
   "id": "98",
   "metadata": {
    "tags": []
   },
   "outputs": [],
   "source": [
    "plot_Vc(ablimit_c[\"halo\"])\n",
    "plot_Vc(galpy14_halo)"
   ]
  },
  {
   "cell_type": "code",
   "execution_count": null,
   "id": "99",
   "metadata": {
    "tags": []
   },
   "outputs": [],
   "source": [
    "plot_Vc(ablimit_b_comp[\"halo\"])\n",
    "plot_Vc(1.2*galpy14_halo)"
   ]
  },
  {
   "cell_type": "markdown",
   "id": "100",
   "metadata": {
    "tags": []
   },
   "source": [
    "# Shen 2022"
   ]
  },
  {
   "cell_type": "code",
   "execution_count": null,
   "id": "101",
   "metadata": {
    "tags": []
   },
   "outputs": [],
   "source": [
    "4*np.pi * M0 / (207.0*u.kpc)**3"
   ]
  },
  {
   "cell_type": "code",
   "execution_count": null,
   "id": "102",
   "metadata": {
    "tags": []
   },
   "outputs": [],
   "source": [
    "shen22_halo = gp.PowerSphericalPotential(amp=0.2275*M0, r1=1*u.kpc, alpha=2+0.43)\n",
    "\n",
    "\n",
    "c=12\n",
    "R200=207*u.kpc\n",
    "Ms = Ms_NFW(105*M0, c) # is 95 in paper but not described well...\n",
    "shen22_halo_b = NFW(amp=Ms, a=R200/c)"
   ]
  },
  {
   "cell_type": "code",
   "execution_count": null,
   "id": "103",
   "metadata": {},
   "outputs": [],
   "source": [
    "conv.mass_in_1010msol(vo=Vgp, ro=Rgp)"
   ]
  },
  {
   "cell_type": "code",
   "execution_count": null,
   "id": "104",
   "metadata": {
    "tags": []
   },
   "outputs": [],
   "source": [
    "shen22_halo.mass(250*u.kpc) / M0"
   ]
  },
  {
   "cell_type": "code",
   "execution_count": null,
   "id": "105",
   "metadata": {
    "tags": []
   },
   "outputs": [],
   "source": [
    "shen22_halo_b.mass(R200) "
   ]
  },
  {
   "cell_type": "code",
   "execution_count": null,
   "id": "106",
   "metadata": {},
   "outputs": [],
   "source": [
    "shen22_halo.mass(10*u.kpc) / M0"
   ]
  },
  {
   "cell_type": "code",
   "execution_count": null,
   "id": "107",
   "metadata": {},
   "outputs": [],
   "source": [
    "shen22_halo.mass(100*u.kpc) / M0"
   ]
  },
  {
   "cell_type": "code",
   "execution_count": null,
   "id": "108",
   "metadata": {
    "tags": []
   },
   "outputs": [],
   "source": [
    "shen22_halo.mass(250*u.kpc) / M0"
   ]
  },
  {
   "cell_type": "code",
   "execution_count": null,
   "id": "109",
   "metadata": {
    "tags": []
   },
   "outputs": [],
   "source": [
    "Rs = np.linspace(10, 250, 1000) * u.kpc"
   ]
  },
  {
   "cell_type": "code",
   "execution_count": null,
   "id": "110",
   "metadata": {
    "tags": []
   },
   "outputs": [],
   "source": [
    "plt.plot(Rs, [shen22_halo.mass(R) / M0 for R in Rs])\n",
    "plt.plot(Rs, [shen22_halo_b.mass(R) / M0 for R in Rs])"
   ]
  },
  {
   "cell_type": "code",
   "execution_count": null,
   "id": "111",
   "metadata": {
    "tags": []
   },
   "outputs": [],
   "source": [
    "plot_Vc(shen22_halo, R_min=10)\n",
    "plot_Vc(galpy14)\n",
    "plot_Vc(shen22_halo_b, R_min=10)"
   ]
  },
  {
   "cell_type": "markdown",
   "id": "112",
   "metadata": {
    "tags": []
   },
   "source": [
    "# Nitschai "
   ]
  },
  {
   "cell_type": "code",
   "execution_count": null,
   "id": "113",
   "metadata": {
    "tags": []
   },
   "outputs": [],
   "source": [
    "nitschai_halo = gp.TwoPowerTriaxialPotential(amp=41.1*M0, alpha=1.53, beta=3, a=16.8*u.kpc, c=1.14)\n",
    "nitschai_halo_b = gp.TwoPowerSphericalPotential(amp=44.1*M0, alpha=1.53, beta=3, a=16.8*u.kpc)"
   ]
  },
  {
   "cell_type": "code",
   "execution_count": null,
   "id": "114",
   "metadata": {
    "tags": []
   },
   "outputs": [],
   "source": [
    "Mh = nitschai_halo.mass(8.2*u.kpc)"
   ]
  },
  {
   "cell_type": "code",
   "execution_count": null,
   "id": "115",
   "metadata": {
    "tags": []
   },
   "outputs": [],
   "source": [
    "nitschai_halo.dens(8.2*u.kpc, 0*u.kpc)"
   ]
  },
  {
   "cell_type": "code",
   "execution_count": null,
   "id": "116",
   "metadata": {
    "tags": []
   },
   "outputs": [],
   "source": [
    "Mh / (Mh + mcmillan2017_halo.mass(8.2*u.kpc) + mcmillan2017_thick.mass(8.2*u.kpc) +  mcmillan2017_thin.mass(8.2*u.kpc))"
   ]
  },
  {
   "cell_type": "code",
   "execution_count": null,
   "id": "117",
   "metadata": {
    "tags": []
   },
   "outputs": [],
   "source": [
    "plot_Vc(nitschai_halo)\n",
    "plot_Vc(nitschai_halo_b)\n",
    "\n",
    "plot_Vc(EP2020_halo)"
   ]
  },
  {
   "cell_type": "code",
   "execution_count": null,
   "id": "118",
   "metadata": {
    "tags": []
   },
   "outputs": [],
   "source": [
    "nitschai = nitschai_halo + mcmillan2017_bulge + mcmillan2017_thick + mcmillan2017_thick + mcmillan2017_h1 + mcmillan2017_h2\n",
    "nitschai_b = nitschai_halo_b + mcmillan2017_bulge + mcmillan2017_thick + mcmillan2017_thick + mcmillan2017_h1 + mcmillan2017_h2"
   ]
  },
  {
   "cell_type": "code",
   "execution_count": null,
   "id": "119",
   "metadata": {
    "tags": []
   },
   "outputs": [],
   "source": [
    "mcmillan2017_thin.mass(100)"
   ]
  },
  {
   "cell_type": "code",
   "execution_count": null,
   "id": "120",
   "metadata": {
    "tags": []
   },
   "outputs": [],
   "source": [
    "mcmillan2017_h2b.surfdens(1, 0)"
   ]
  },
  {
   "cell_type": "code",
   "execution_count": null,
   "id": "121",
   "metadata": {
    "tags": []
   },
   "outputs": [],
   "source": [
    "(mcmillan2017_thick.dens(1, 0) + mcmillan2017_thin.dens(1, 0)) / (0.3*u.Msun/u.Lsun) / (1.12)"
   ]
  },
  {
   "cell_type": "code",
   "execution_count": null,
   "id": "122",
   "metadata": {
    "tags": []
   },
   "outputs": [],
   "source": [
    "A_disk = 0.056 / 0.2"
   ]
  },
  {
   "cell_type": "code",
   "execution_count": null,
   "id": "123",
   "metadata": {
    "tags": []
   },
   "outputs": [],
   "source": [
    "plot_Vc(nitschai, R_min=4, R_max=12)\n",
    "plot_Vc(mcmillan2017, R_min=4, R_max=12)\n",
    "\n",
    "plt.ylim(200, 250)"
   ]
  },
  {
   "cell_type": "code",
   "execution_count": null,
   "id": "124",
   "metadata": {
    "tags": []
   },
   "outputs": [],
   "source": [
    "plot_Vc(nitschai)\n",
    "plot_Vc(mcmillan2017) #only difference is halo\n"
   ]
  },
  {
   "cell_type": "markdown",
   "id": "125",
   "metadata": {
    "jp-MarkdownHeadingCollapsed": true,
    "tags": []
   },
   "source": [
    "# Extra pots"
   ]
  },
  {
   "cell_type": "code",
   "execution_count": null,
   "id": "126",
   "metadata": {
    "tags": []
   },
   "outputs": [],
   "source": [
    "Ms = 105*M0\n",
    "r_s = 20.2*u.kpc\n",
    "heavy_halo = NFW(amp=Ms, a=r_s)\n",
    "find_M_c(Ms, r_s)"
   ]
  },
  {
   "cell_type": "code",
   "execution_count": null,
   "id": "127",
   "metadata": {
    "tags": []
   },
   "outputs": [],
   "source": [
    "plot_Vc(2*galpy14_halo)\n",
    "plot_Vc(heavy_halo)"
   ]
  },
  {
   "cell_type": "code",
   "execution_count": null,
   "id": "128",
   "metadata": {
    "tags": []
   },
   "outputs": [],
   "source": [
    "Ms = 60*M0\n",
    "r_s = 20.2*u.kpc\n",
    "light_halo = NFW(amp=Ms, a=r_s)\n",
    "find_M_c(Ms, r_s)"
   ]
  },
  {
   "cell_type": "code",
   "execution_count": null,
   "id": "129",
   "metadata": {
    "tags": []
   },
   "outputs": [],
   "source": [
    "plot_Vc(galpy14_halo)\n",
    "plot_Vc(light_halo)"
   ]
  },
  {
   "cell_type": "code",
   "execution_count": null,
   "id": "130",
   "metadata": {
    "tags": []
   },
   "outputs": [],
   "source": [
    "Ms = 130*M0\n",
    "r_s = 33*u.kpc\n",
    "me_flat_halo =  NFW(amp=Ms, a=r_s)\n",
    "me_flat = EP2020_thin + EP2020_thick + EP2020_bulge + me_flat_halo\n",
    "\n",
    "find_M_c(Ms, r_s)"
   ]
  },
  {
   "cell_type": "code",
   "execution_count": null,
   "id": "131",
   "metadata": {
    "tags": []
   },
   "outputs": [],
   "source": [
    "plot_Vc(me_flat_halo)\n",
    "#plot_Vc(EP2020_halo)\n",
    "plot_Vc(pouliasis17_halo)"
   ]
  },
  {
   "cell_type": "code",
   "execution_count": null,
   "id": "132",
   "metadata": {
    "tags": []
   },
   "outputs": [],
   "source": [
    "Ms = 45*M0\n",
    "r_s = 10*u.kpc\n",
    "me_steep_halo =  NFW(amp=Ms, a=r_s)\n",
    "\n",
    "me_steep = EP2020_thin + EP2020_thick + EP2020_bulge + me_steep_halo\n",
    "\n",
    "find_M_c(Ms, r_s)"
   ]
  },
  {
   "cell_type": "code",
   "execution_count": null,
   "id": "133",
   "metadata": {
    "tags": []
   },
   "outputs": [],
   "source": [
    "plot_Vc(me_steep_halo)\n",
    "#plot_Vc(EP2020_halo)\n",
    "plot_Vc(nitschai_halo)"
   ]
  },
  {
   "cell_type": "code",
   "execution_count": null,
   "id": "134",
   "metadata": {
    "tags": []
   },
   "outputs": [],
   "source": [
    "plot_Vc(EP2020_halo)\n",
    "plot_Vc(me_flat_halo)\n",
    "plot_Vc(me_steep_halo)\n"
   ]
  },
  {
   "cell_type": "code",
   "execution_count": null,
   "id": "135",
   "metadata": {
    "tags": []
   },
   "outputs": [],
   "source": [
    "plot_Vc(EP2020_halo)\n",
    "plot_Vc(heavy_halo)\n",
    "plot_Vc(light_halo)"
   ]
  },
  {
   "cell_type": "code",
   "execution_count": null,
   "id": "136",
   "metadata": {
    "tags": []
   },
   "outputs": [],
   "source": [
    "plot_Vc(EP2020)\n",
    "plot_Vc(me_flat)\n",
    "plot_Vc(me_steep)\n"
   ]
  },
  {
   "cell_type": "code",
   "execution_count": null,
   "id": "137",
   "metadata": {
    "tags": []
   },
   "outputs": [],
   "source": [
    "heavy_mw = EP2020_bulge + EP2020_thin + EP2020_thick + heavy_halo\n",
    "light_mw = EP2020_bulge + EP2020_thin + EP2020_thick + light_halo"
   ]
  },
  {
   "cell_type": "code",
   "execution_count": null,
   "id": "138",
   "metadata": {
    "tags": []
   },
   "outputs": [],
   "source": [
    "plot_Vc(me_steep)\n",
    "plot_Vc(nitschai)"
   ]
  },
  {
   "cell_type": "code",
   "execution_count": null,
   "id": "139",
   "metadata": {
    "tags": []
   },
   "outputs": [],
   "source": [
    "plot_Vc(me_flat)\n",
    "plot_Vc(pouliasis17)"
   ]
  },
  {
   "cell_type": "code",
   "execution_count": null,
   "id": "140",
   "metadata": {
    "tags": []
   },
   "outputs": [],
   "source": [
    "plot_Vc(EP2020)\n",
    "plot_Vc(heavy_mw)\n",
    "plot_Vc(light_mw)\n",
    "plot_Vc(me_steep)\n",
    "plot_Vc(me_flat)"
   ]
  },
  {
   "cell_type": "code",
   "execution_count": null,
   "id": "141",
   "metadata": {
    "tags": []
   },
   "outputs": [],
   "source": [
    "gp.mass(EP2020, 100*u.kpc)"
   ]
  },
  {
   "cell_type": "markdown",
   "id": "142",
   "metadata": {
    "tags": []
   },
   "source": [
    "# Comparisons"
   ]
  },
  {
   "cell_type": "code",
   "execution_count": null,
   "id": "143",
   "metadata": {
    "tags": []
   },
   "outputs": [],
   "source": [
    "potentials = {\n",
    "    \"EP20\": EP2020,\n",
    "    #\"mcmillan11\": mcmillan2011, # mcmillan is very close to EP2020\n",
    "    #\"mcmillan17\": mcmillan2017,\n",
    "    #\"mcmillan17b\": mcmillan2017_nogas,\n",
    "    \"galpy14\": galpy14,\n",
    "    # \"galpy14_heavy\": galpy14_heavy,\n",
    "    # \"pouliaris17\": pouliasis17,\n",
    "    # #\"pouliaris17b\": pouliasis17b,\n",
    "    # \"ablimit\": ablimit20a,\n",
    "    # \"flat\": me_flat,\n",
    "\n",
    "}"
   ]
  },
  {
   "cell_type": "code",
   "execution_count": null,
   "id": "144",
   "metadata": {
    "tags": []
   },
   "outputs": [],
   "source": [
    "plot_Vc(me_flat)\n",
    "plot_Vc(EP2020)"
   ]
  },
  {
   "cell_type": "code",
   "execution_count": null,
   "id": "145",
   "metadata": {
    "tags": []
   },
   "outputs": [],
   "source": [
    "plt.figure(figsize=(7, 3))\n",
    "for label, model in potentials.items():\n",
    "    plot_Vc(model, label=label, R_max=60)\n",
    "arya.Legend(loc=-1)\n",
    "plt.xscale(\"asinh\")\n",
    "\n",
    "ticks = [0,1, 10]\n",
    "plt.xticks(ticks, labels=ticks);\n",
    "\n",
    "mticks = np.arange(0, 1, 0.1).tolist() + np.arange(1, 10, 1).tolist() + np.arange(10, 60, 10).tolist()\n",
    "plt.xticks(mticks, minor=True);\n",
    "plt.savefig(\"literature_vcirc.pdf\")"
   ]
  },
  {
   "cell_type": "code",
   "execution_count": null,
   "id": "146",
   "metadata": {
    "tags": []
   },
   "outputs": [],
   "source": [
    "plot_Vc(EP2020)\n",
    "plot_Vc(heavy_mw)\n",
    "plot_Vc(light_mw)\n",
    "plot_Vc(me_steep)\n",
    "plot_Vc(me_flat)\n",
    "plt.xscale(\"asinh\")\n"
   ]
  },
  {
   "cell_type": "code",
   "execution_count": null,
   "id": "147",
   "metadata": {
    "tags": []
   },
   "outputs": [],
   "source": [
    "# acceleration at 1.1 kpc above plane\n",
    "for label, model in potentials.items():\n",
    "    plot_Kz(model, label=label)\n",
    "arya.Legend(loc=-1)"
   ]
  },
  {
   "cell_type": "markdown",
   "id": "148",
   "metadata": {
    "tags": []
   },
   "source": [
    "## Components"
   ]
  },
  {
   "cell_type": "code",
   "execution_count": null,
   "id": "149",
   "metadata": {
    "tags": []
   },
   "outputs": [],
   "source": [
    "my_potentials = {\n",
    "    \"fiducial\": EP2020,\n",
    "    \"light\": light_mw,\n",
    "    \"heavy\": heavy_mw,\n",
    "    \"flat\": me_flat,\n",
    "    \"steep\": me_steep\n",
    "}"
   ]
  },
  {
   "cell_type": "code",
   "execution_count": null,
   "id": "150",
   "metadata": {
    "tags": []
   },
   "outputs": [],
   "source": [
    "for label, pot in my_potentials.items():\n",
    "    print(label, o.jr(pot))"
   ]
  },
  {
   "cell_type": "code",
   "execution_count": null,
   "id": "151",
   "metadata": {
    "tags": []
   },
   "outputs": [],
   "source": [
    "o.jr(galpy14)"
   ]
  },
  {
   "cell_type": "code",
   "execution_count": null,
   "id": "152",
   "metadata": {
    "tags": []
   },
   "outputs": [],
   "source": [
    "o.jr(galpy14_heavy)"
   ]
  },
  {
   "cell_type": "code",
   "execution_count": null,
   "id": "153",
   "metadata": {
    "tags": []
   },
   "outputs": [],
   "source": [
    "o.jr(EP2020)"
   ]
  },
  {
   "cell_type": "code",
   "execution_count": null,
   "id": "154",
   "metadata": {
    "tags": []
   },
   "outputs": [],
   "source": [
    "o.jr(ablimit20a)"
   ]
  },
  {
   "cell_type": "code",
   "execution_count": null,
   "id": "155",
   "metadata": {
    "tags": []
   },
   "outputs": [],
   "source": [
    "o.jr(mcmillan2017)"
   ]
  },
  {
   "cell_type": "code",
   "execution_count": null,
   "id": "156",
   "metadata": {
    "tags": []
   },
   "outputs": [],
   "source": [
    "for label, pot in my_potentials.items():\n",
    "    print(label, o.jz(pot))"
   ]
  },
  {
   "cell_type": "code",
   "execution_count": null,
   "id": "157",
   "metadata": {
    "tags": []
   },
   "outputs": [],
   "source": [
    "o.jz(galpy14)"
   ]
  },
  {
   "cell_type": "code",
   "execution_count": null,
   "id": "158",
   "metadata": {
    "tags": []
   },
   "outputs": [],
   "source": [
    "o.jz(galpy14_heavy)"
   ]
  },
  {
   "cell_type": "code",
   "execution_count": null,
   "id": "159",
   "metadata": {
    "tags": []
   },
   "outputs": [],
   "source": [
    "o.jz(EP2020)"
   ]
  },
  {
   "cell_type": "code",
   "execution_count": null,
   "id": "160",
   "metadata": {
    "tags": []
   },
   "outputs": [],
   "source": [
    "o.jz(mcmillan2017)"
   ]
  },
  {
   "cell_type": "code",
   "execution_count": null,
   "id": "161",
   "metadata": {},
   "outputs": [],
   "source": [
    "plot_Vc(EP2020_bulge)\n",
    "plot_Vc(mcmillan2011_bulge)\n",
    "plot_Vc(galpy14_bulge)\n",
    "plot_Vc(pouliasis17_bulge)"
   ]
  },
  {
   "cell_type": "code",
   "execution_count": null,
   "id": "162",
   "metadata": {
    "tags": []
   },
   "outputs": [],
   "source": [
    "plot_Vc(EP2020_thick + EP2020_thick)\n",
    "plot_Vc(galpy14_disk)\n",
    "# plot_Vc(galpy14_disk)\n",
    "\n",
    "plot_Vc(pouliasis17_thick + pouliasis17_thick)\n",
    "# plot_Vc(pouliasis17b_thick + pouliasis17b_thick)"
   ]
  },
  {
   "cell_type": "code",
   "execution_count": null,
   "id": "163",
   "metadata": {
    "tags": []
   },
   "outputs": [],
   "source": [
    "plot_Vc(EP2020_halo)\n",
    "plot_Vc(mcmillan2011_halo)\n",
    "plot_Vc(mcmillan2017_halo)\n",
    "plot_Vc(galpy14_halo)\n",
    "plot_Vc(2*galpy14_halo)\n",
    "\n",
    "plot_Vc(pouliasis17_halo)\n",
    "plot_Vc(pouliasis17b_halo)\n",
    "plot_Vc(ablimit_b_comp[\"halo\"]) # pretty much same as galpy\n"
   ]
  },
  {
   "cell_type": "markdown",
   "id": "164",
   "metadata": {
    "tags": []
   },
   "source": [
    "# Detailed orbit"
   ]
  },
  {
   "cell_type": "code",
   "execution_count": null,
   "id": "165",
   "metadata": {},
   "outputs": [],
   "source": [
    "import pandas as pd"
   ]
  },
  {
   "cell_type": "code",
   "execution_count": null,
   "id": "166",
   "metadata": {},
   "outputs": [],
   "source": [
    "oe = pd.read_csv(\"/astro/dboyea/dwarfs/models/sculptor/mc_orbits/orbit1.csv\")"
   ]
  },
  {
   "cell_type": "code",
   "execution_count": null,
   "id": "167",
   "metadata": {},
   "outputs": [],
   "source": [
    "oe"
   ]
  },
  {
   "cell_type": "code",
   "execution_count": null,
   "id": "168",
   "metadata": {},
   "outputs": [],
   "source": [
    "V0 = 207.4"
   ]
  },
  {
   "cell_type": "code",
   "execution_count": null,
   "id": "169",
   "metadata": {},
   "outputs": [],
   "source": [
    "oe.v_x *= V0\n",
    "oe.v_y *= V0\n",
    "oe.v_z *= V0"
   ]
  },
  {
   "cell_type": "code",
   "execution_count": null,
   "id": "170",
   "metadata": {},
   "outputs": [],
   "source": [
    "oe[\"R\"] = np.sqrt(oe.x**2 + oe.y**2)"
   ]
  },
  {
   "cell_type": "code",
   "execution_count": null,
   "id": "171",
   "metadata": {
    "tags": []
   },
   "outputs": [],
   "source": [
    "dwarf_galaxy_gc.icrs"
   ]
  },
  {
   "cell_type": "code",
   "execution_count": null,
   "id": "172",
   "metadata": {
    "tags": []
   },
   "outputs": [],
   "source": [
    "o = Orbit(dwarf_galaxy_gc)"
   ]
  },
  {
   "cell_type": "code",
   "execution_count": null,
   "id": "173",
   "metadata": {
    "tags": []
   },
   "outputs": [],
   "source": [
    "pot = EP2020\n",
    "ts = np.linspace(0, -5, 10_000) * u.Gyr\n",
    "o.integrate(ts, pot)"
   ]
  },
  {
   "cell_type": "code",
   "execution_count": null,
   "id": "174",
   "metadata": {
    "tags": []
   },
   "outputs": [],
   "source": [
    "fig, ax = plt.subplots()\n",
    "\n",
    "plt.plot(o.R(ts), o.z(ts))\n",
    "plt.plot(oe.R, oe.z, ls=\"--\")\n",
    "ax.set_aspect(1)"
   ]
  },
  {
   "cell_type": "code",
   "execution_count": null,
   "id": "175",
   "metadata": {
    "tags": []
   },
   "outputs": [],
   "source": [
    "fig, ax = plt.subplots()\n",
    "\n",
    "plt.plot(o.y(ts), o.z(ts))\n",
    "plt.plot(oe.y, oe.z, ls=\":\")\n",
    "ax.set_aspect(1)"
   ]
  },
  {
   "cell_type": "code",
   "execution_count": null,
   "id": "176",
   "metadata": {},
   "outputs": [],
   "source": [
    "oe[\"r\"] = np.sqrt(oe.z**2 + oe.R**2)"
   ]
  },
  {
   "cell_type": "code",
   "execution_count": null,
   "id": "177",
   "metadata": {},
   "outputs": [],
   "source": [
    "oe[\"t\"] *= 0.004718\n"
   ]
  },
  {
   "cell_type": "code",
   "execution_count": null,
   "id": "178",
   "metadata": {
    "tags": []
   },
   "outputs": [],
   "source": [
    "plt.plot(ts, o.r(ts))\n",
    "plt.plot(oe.t - 10, oe.r)"
   ]
  },
  {
   "cell_type": "code",
   "execution_count": null,
   "id": "179",
   "metadata": {
    "tags": []
   },
   "outputs": [],
   "source": [
    "pos_gc = []\n",
    "\n",
    "ts = np.linspace(0, 0.1, 10_000) * u.Gyr\n",
    "o.integrate(ts, pot)\n",
    "\n",
    "# galpy uses left-handed frame :/\n",
    "pos_gc = coord.SkyCoord(\n",
    "    x=- o.x(ts), y=o.y(ts), z=o.z(ts), \n",
    "    v_x = -o.vx(ts), v_y=o.vy(ts), v_z=o.vz(ts),\n",
    "    frame=gc_frame)\n",
    "\n",
    "pos_icrs = pos_gc.transform_to(\"icrs\")"
   ]
  },
  {
   "cell_type": "code",
   "execution_count": null,
   "id": "180",
   "metadata": {
    "tags": []
   },
   "outputs": [],
   "source": [
    "plt.scatter(pos_icrs.ra, pos_icrs.dec, c=ts)\n",
    "plt.colorbar()\n",
    "\n",
    "plt.plot(o.ra(ts), o.dec(ts))\n",
    "\n",
    "plt.scatter(dwarf_galaxy.ra, dwarf_galaxy.dec)\n",
    "\n",
    "\n",
    "tpm = 3e7*u.yr\n",
    "plt.plot(sculptor.ra + sculptor.pm_ra_cosdec / np.cos(sculptor.dec) * tpm * np.array([0, 1]),\n",
    "        sculptor.dec + sculptor.pm_dec * tpm * np.array([0,1]),\n",
    "         zorder=5, color=arya.COLORS[2]\n",
    "        )\n",
    "\n",
    "plt.xlabel(\"RA\")\n",
    "plt.ylabel(\"dec\")"
   ]
  },
  {
   "cell_type": "code",
   "execution_count": null,
   "id": "181",
   "metadata": {
    "tags": []
   },
   "outputs": [],
   "source": [
    "sc2 = dwarf_galaxy_gc.transform_to(coord.ICRS)"
   ]
  },
  {
   "cell_type": "code",
   "execution_count": null,
   "id": "182",
   "metadata": {
    "tags": []
   },
   "outputs": [],
   "source": [
    "plt.scatter(pos_icrs.pm_ra_cosdec, pos_icrs.pm_dec, c=ts)\n",
    "plt.colorbar()\n",
    "\n",
    "plt.scatter(sculptor.pm_ra_cosdec, sculptor.pm_dec)\n",
    "plt.plot(o.pmra(ts), o.pmdec(ts))\n",
    "plt.scatter(sc2.pm_ra_cosdec, sc2.pm_dec)\n",
    "\n",
    "plt.xlabel(r\"$\\mu_{\\alpha*}$\")\n",
    "plt.ylabel(r\"$\\mu_\\delta$\")"
   ]
  },
  {
   "cell_type": "code",
   "execution_count": null,
   "id": "183",
   "metadata": {
    "tags": []
   },
   "outputs": [],
   "source": [
    "plt.scatter(pos_icrs.distance, pos_icrs.radial_velocity, c=ts)\n",
    "plt.colorbar()\n",
    "\n",
    "plt.plot(o.dist(ts), o.vlos(ts))\n",
    "\n",
    "plt.scatter(sculptor.distance, sculptor.radial_velocity)\n",
    "plt.scatter(sc2.distance, sc2.radial_velocity)\n",
    "plt.xlabel(r\"distance\")\n",
    "plt.ylabel(\"radial velocity\")"
   ]
  },
  {
   "cell_type": "markdown",
   "id": "184",
   "metadata": {},
   "source": [
    "# Orbit plots"
   ]
  },
  {
   "cell_type": "code",
   "execution_count": null,
   "id": "185",
   "metadata": {
    "tags": []
   },
   "outputs": [],
   "source": [
    "ts"
   ]
  },
  {
   "cell_type": "code",
   "execution_count": null,
   "id": "186",
   "metadata": {
    "tags": []
   },
   "outputs": [],
   "source": [
    "def plot_orbit(pot, res=10_000, t_end=10):\n",
    "    ts = np.linspace(0, -t_end, res) * u.Gyr\n",
    "    dt = ts[1] - ts[0]\n",
    "\n",
    "    o.integrate(ts, pot, dt=dt)\n",
    "    \n",
    "    peri = np.min(o.r(ts))\n",
    "    apo = np.max(o.r(ts))\n",
    "    print(\"peri = \", peri)\n",
    "    print(\"apo = \", apo)\n",
    "    \n",
    "    fig, axs = plt.subplots(1, 3, figsize=(7, 3))\n",
    "\n",
    "    plt.sca(axs[0])\n",
    "    plt.plot(o.R(ts), o.z(ts))\n",
    "    plt.xlabel(\"R / kpc\")\n",
    "    plt.ylabel(\"z / kpc\")\n",
    "    plt.gca().set_aspect(1)\n",
    "    \n",
    "    ts2 =np.linspace(0, -min(1, t_end), res) * u.Gyr\n",
    "\n",
    "    plt.plot(o.R(ts2), o.z(ts2), lw=2)\n",
    "    plt.scatter(o.R(), o.z(), color=arya.COLORS[3], s=10, zorder=10)\n",
    "    plt.gca().set_aspect(1)\n",
    "    \n",
    "        \n",
    "    plt.sca(axs[1])\n",
    "    \n",
    "    plt.plot(ts, o.r(ts))\n",
    "    plt.xlabel(\"time / Gyr\")\n",
    "    plt.ylabel(\"r / kpc\")\n",
    "\n",
    "    plt.sca(axs[2])\n",
    "\n",
    "    plt.plot(o.x(ts2), o.y(ts2))\n",
    "    plt.scatter(o.x(), o.y())\n",
    "    \n",
    "    plt.xlabel(\"x / kpc\")\n",
    "    plt.ylabel(\"y / kpc\")\n",
    "    plt.gca().set_aspect(1)\n",
    "    plt.show()\n",
    "    \n"
   ]
  },
  {
   "cell_type": "code",
   "execution_count": null,
   "id": "187",
   "metadata": {
    "tags": []
   },
   "outputs": [],
   "source": [
    "plot_orbit(EP2020)"
   ]
  },
  {
   "cell_type": "code",
   "execution_count": null,
   "id": "188",
   "metadata": {
    "tags": []
   },
   "outputs": [],
   "source": [
    "plot_orbit(EP2020_halo)"
   ]
  },
  {
   "cell_type": "code",
   "execution_count": null,
   "id": "189",
   "metadata": {
    "tags": []
   },
   "outputs": [],
   "source": [
    "plot_orbit(galpy14)"
   ]
  },
  {
   "cell_type": "code",
   "execution_count": null,
   "id": "190",
   "metadata": {
    "tags": []
   },
   "outputs": [],
   "source": [
    "plot_orbit(galpy14_heavy)"
   ]
  },
  {
   "cell_type": "code",
   "execution_count": null,
   "id": "191",
   "metadata": {
    "tags": []
   },
   "outputs": [],
   "source": [
    "plot_orbit(nitschai, res=100, t_end=1)"
   ]
  },
  {
   "cell_type": "code",
   "execution_count": null,
   "id": "192",
   "metadata": {
    "tags": []
   },
   "outputs": [],
   "source": [
    "plot_orbit(pouliasis17, res=1000, t_end=10)"
   ]
  },
  {
   "cell_type": "code",
   "execution_count": null,
   "id": "193",
   "metadata": {
    "tags": []
   },
   "outputs": [],
   "source": [
    "plot_orbit(ablimit20a)"
   ]
  },
  {
   "cell_type": "code",
   "execution_count": null,
   "id": "194",
   "metadata": {
    "tags": []
   },
   "outputs": [],
   "source": [
    "plot_pot_2d(mcmillan2011, R_max=20, z_max=10, res=100)"
   ]
  },
  {
   "cell_type": "code",
   "execution_count": null,
   "id": "195",
   "metadata": {
    "tags": []
   },
   "outputs": [],
   "source": [
    "plot_pot_2d(mcmillan2017, R_max=20, z_max=10, res=100)"
   ]
  },
  {
   "cell_type": "code",
   "execution_count": null,
   "id": "196",
   "metadata": {
    "tags": []
   },
   "outputs": [],
   "source": [
    "plot_pot_2d(phi_gp, R_max=20, z_max=10, res=3_000)"
   ]
  },
  {
   "cell_type": "markdown",
   "id": "197",
   "metadata": {},
   "source": [
    "# LMC"
   ]
  },
  {
   "cell_type": "code",
   "execution_count": null,
   "id": "198",
   "metadata": {
    "tags": []
   },
   "outputs": [],
   "source": [
    "lmc = coord.SkyCoord(\n",
    "    ra=80.8942*u.degree, dec=-69.7561*u.degree,                      \n",
    "    distance=50*u.kpc, radial_velocity=262.2*kms,\n",
    "    pm_ra_cosdec=1.910*u.mas/u.year, pm_dec=0.229*u.mas/u.year\n",
    ")                 "
   ]
  },
  {
   "cell_type": "code",
   "execution_count": null,
   "id": "199",
   "metadata": {
    "tags": []
   },
   "outputs": [],
   "source": [
    "lmc_gc = lmc.transform_to(gc_frame)\n",
    "\n",
    "print(lmc_gc.cartesian.xyz)\n",
    "print(lmc_gc.velocity.d_xyz)"
   ]
  },
  {
   "cell_type": "code",
   "execution_count": null,
   "id": "200",
   "metadata": {
    "tags": []
   },
   "outputs": [],
   "source": [
    "M_lmc=1e11 * u.Msun\n",
    "r_lmc = 5*u.kpc"
   ]
  },
  {
   "cell_type": "code",
   "execution_count": null,
   "id": "201",
   "metadata": {
    "tags": []
   },
   "outputs": [],
   "source": [
    "friction = gp.ChandrasekharDynamicalFrictionForce(\n",
    "    GMs=M_lmc, rhm=r_lmc, dens=EP2020)"
   ]
  },
  {
   "cell_type": "code",
   "execution_count": null,
   "id": "202",
   "metadata": {
    "tags": []
   },
   "outputs": [],
   "source": [
    "o_lmc = Orbit(lmc_gc)\n",
    "times = np.linspace(0, -10, 100_000) * u.Gyr"
   ]
  },
  {
   "cell_type": "code",
   "execution_count": null,
   "id": "203",
   "metadata": {
    "tags": []
   },
   "outputs": [],
   "source": [
    "o_lmc.integrate(times, EP2020)\n",
    "plt.plot(times, o_lmc.r(times))\n",
    "\n",
    "o_lmc.integrate(times, EP2020 + friction)\n",
    "plt.plot(times, o_lmc.r(times))\n"
   ]
  },
  {
   "cell_type": "code",
   "execution_count": null,
   "id": "204",
   "metadata": {
    "tags": []
   },
   "outputs": [],
   "source": [
    "import pandas as pd\n",
    "\n",
    "lmc_orbit = pd.DataFrame({\n",
    "    \"t\": times,\n",
    "    \"x\": o_lmc.x(times),\n",
    "    \"y\": o_lmc.y(times),\n",
    "    \"z\": o_lmc.z(times),\n",
    "    \"vx\": o_lmc.vx(times),\n",
    "    \"vy\": o_lmc.vy(times),\n",
    "    \"vz\": o_lmc.vz(times)\n",
    "})\n",
    "lmc_orbit.to_csv(\"lmc_orbit.csv\", index=False)"
   ]
  },
  {
   "cell_type": "code",
   "execution_count": null,
   "id": "205",
   "metadata": {
    "tags": []
   },
   "outputs": [],
   "source": [
    "phi_lmc_s = gp.HernquistPotential(amp=M_lmc, a=r_lmc/(1.+np.sqrt(2.)))\n",
    "phi_lmc = gp.MovingObjectPotential(o_lmc,pot=phi_lmc_s)"
   ]
  },
  {
   "cell_type": "code",
   "execution_count": null,
   "id": "206",
   "metadata": {
    "tags": []
   },
   "outputs": [],
   "source": [
    "loc_origin= 1e-4 # Small offset in R to avoid numerical issues\n",
    "ax= lambda t: gp.evaluateRforces(phi_lmc,loc_origin,0.,phi=0.,t=t,)\n",
    "ay= lambda t: gp.evaluatephitorques(phi_lmc,loc_origin,0.,phi=0.,t=t,)/loc_origin\n",
    "az= lambda t: gp.evaluatezforces(phi_lmc,loc_origin,0.,phi=0.,t=t,)"
   ]
  },
  {
   "cell_type": "code",
   "execution_count": null,
   "id": "207",
   "metadata": {
    "tags": []
   },
   "outputs": [],
   "source": [
    "len(o.time(use_physical=False)[::-1])"
   ]
  },
  {
   "cell_type": "code",
   "execution_count": null,
   "id": "208",
   "metadata": {
    "tags": []
   },
   "outputs": [],
   "source": [
    "if o.time(use_physical=False)[0] > o.time(use_physical=False)[1]:\n",
    "    t_intunits= o.time(use_physical=False)[::-10] # need to reverse the order for interp\n",
    "else:\n",
    "    t_intunits= o.time(use_physical=False)[::10]\n",
    "print(t_intunits.shape)\n",
    "\n",
    "ax4int= np.array([ax(t) for t in t_intunits])\n",
    "ax_int= lambda t: np.interp(t,t_intunits,ax4int)\n",
    "ay4int= np.array([ay(t) for t in t_intunits])\n",
    "ay_int= lambda t: np.interp(t,t_intunits,ay4int)\n",
    "az4int= np.array([az(t) for t in t_intunits])\n",
    "az_int= lambda t: np.interp(t,t_intunits,az4int)"
   ]
  },
  {
   "cell_type": "code",
   "execution_count": null,
   "id": "209",
   "metadata": {
    "tags": []
   },
   "outputs": [],
   "source": [
    "nip = gp.NonInertialFrameForce(a0=[ax_int,ay_int,az_int])"
   ]
  },
  {
   "cell_type": "code",
   "execution_count": null,
   "id": "210",
   "metadata": {
    "tags": []
   },
   "outputs": [],
   "source": [
    "plot_orbit(EP2020)"
   ]
  },
  {
   "cell_type": "code",
   "execution_count": null,
   "id": "211",
   "metadata": {
    "tags": []
   },
   "outputs": [],
   "source": [
    "plot_orbit(EP2020 + phi_lmc)"
   ]
  },
  {
   "cell_type": "code",
   "execution_count": null,
   "id": "212",
   "metadata": {
    "tags": []
   },
   "outputs": [],
   "source": [
    "plot_orbit(EP2020 + phi_lmc + nip)"
   ]
  },
  {
   "cell_type": "code",
   "execution_count": null,
   "id": "213",
   "metadata": {
    "tags": []
   },
   "outputs": [],
   "source": [
    "plot_orbit(EP2020 + nip)"
   ]
  },
  {
   "cell_type": "code",
   "execution_count": null,
   "id": "214",
   "metadata": {},
   "outputs": [],
   "source": []
  },
  {
   "cell_type": "markdown",
   "id": "215",
   "metadata": {},
   "source": [
    "# Gadget4 versus galpy"
   ]
  },
  {
   "cell_type": "code",
   "execution_count": null,
   "id": "216",
   "metadata": {
    "tags": []
   },
   "outputs": [],
   "source": [
    "import pandas as pd"
   ]
  },
  {
   "cell_type": "code",
   "execution_count": null,
   "id": "217",
   "metadata": {
    "tags": []
   },
   "outputs": [],
   "source": [
    "g4_orbit = pd.read_csv(\"../data/orbit.csv\")"
   ]
  },
  {
   "cell_type": "code",
   "execution_count": null,
   "id": "218",
   "metadata": {
    "tags": []
   },
   "outputs": [],
   "source": [
    "ts"
   ]
  },
  {
   "cell_type": "code",
   "execution_count": null,
   "id": "219",
   "metadata": {
    "tags": []
   },
   "outputs": [],
   "source": [
    "ts = np.linspace(0, -10, 100) * u.Gyr \n",
    "\n",
    "\n",
    "o.integrate(ts, EP2020)\n",
    "\n",
    "t_orb = g4_orbit.t.values * 4.715e-3\n",
    "t_orb -= t_orb[-1]\n",
    "\n",
    "plt.plot(t_orb, -g4_orbit.x)\n",
    "plt.plot(ts, o.x(ts))\n",
    "plt.xlabel(\"time\")\n",
    "plt.ylabel(\"x\")\n",
    "plt.show()\n",
    "\n",
    "\n",
    "plt.plot(t_orb, g4_orbit.y)\n",
    "plt.plot(ts, o.y(ts))\n",
    "plt.xlabel(\"time\")\n",
    "plt.ylabel(\"y\")\n",
    "plt.show()\n",
    "\n",
    "plt.plot(t_orb, g4_orbit.z)\n",
    "plt.plot(ts, o.z(ts))\n",
    "plt.xlabel(\"time\")\n",
    "plt.ylabel(\"z\")\n",
    "plt.show()"
   ]
  }
 ],
 "metadata": {
  "kernelspec": {
   "display_name": "Python 3 (ipykernel)",
   "language": "python",
   "name": "python3"
  },
  "language_info": {
   "codemirror_mode": {
    "name": "ipython",
    "version": 3
   },
   "file_extension": ".py",
   "mimetype": "text/x-python",
   "name": "python",
   "nbconvert_exporter": "python",
   "pygments_lexer": "ipython3",
   "version": "3.11.9"
  }
 },
 "nbformat": 4,
 "nbformat_minor": 5
}
