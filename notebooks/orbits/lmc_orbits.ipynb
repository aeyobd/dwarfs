{
 "cells": [
  {
   "cell_type": "markdown",
   "id": "0",
   "metadata": {},
   "source": [
    "The goal of this notebook is to understand the orbit of the LMC in the vasiliev++ n-body models and how we may reasonably approximate this, even for short term evolution, for a galaxy like sculptor."
   ]
  },
  {
   "cell_type": "code",
   "execution_count": null,
   "id": "1",
   "metadata": {},
   "outputs": [],
   "source": [
    "using Printf\n",
    "using CairoMakie\n",
    "using Revise\n",
    "using LilGuys, Arya\n",
    "import NaNMath as nm"
   ]
  },
  {
   "cell_type": "code",
   "execution_count": null,
   "id": "2",
   "metadata": {},
   "outputs": [],
   "source": [
    "using OrderedCollections"
   ]
  },
  {
   "cell_type": "code",
   "execution_count": null,
   "id": "3",
   "metadata": {},
   "outputs": [],
   "source": [
    "using CSV, DataFrames"
   ]
  },
  {
   "cell_type": "code",
   "execution_count": null,
   "id": "4",
   "metadata": {},
   "outputs": [],
   "source": [
    "using PythonCall\n",
    "agama = pyimport(\"agama\")\n",
    "np = pyimport(\"numpy\")"
   ]
  },
  {
   "cell_type": "code",
   "execution_count": null,
   "id": "5",
   "metadata": {},
   "outputs": [],
   "source": [
    "figdir = \"figures\""
   ]
  },
  {
   "cell_type": "code",
   "execution_count": null,
   "id": "6",
   "metadata": {},
   "outputs": [],
   "source": [
    "include(\"agama_utils.jl\")\n",
    "include(\"agama_plots.jl\")"
   ]
  },
  {
   "cell_type": "code",
   "execution_count": null,
   "id": "7",
   "metadata": {},
   "outputs": [],
   "source": [
    "save = Makie.save"
   ]
  },
  {
   "cell_type": "markdown",
   "id": "8",
   "metadata": {
    "jp-MarkdownHeadingCollapsed": true
   },
   "source": [
    "## ICs"
   ]
  },
  {
   "cell_type": "markdown",
   "id": "9",
   "metadata": {},
   "source": [
    "Collect ICs"
   ]
  },
  {
   "cell_type": "code",
   "execution_count": null,
   "id": "10",
   "metadata": {},
   "outputs": [],
   "source": [
    "obs_props_filename = ENV[\"DWARFS_ROOT\"] * \"/observations/sculptor/observed_properties.toml\"\n",
    "icrs = LilGuys.coord_from_file(obs_props_filename)\n",
    "icrs_err = LilGuys.coord_err_from_file(obs_props_filename)\n",
    "gc_scl = LilGuys.transform(Galactocentric, icrs)"
   ]
  },
  {
   "cell_type": "code",
   "execution_count": null,
   "id": "11",
   "metadata": {},
   "outputs": [],
   "source": [
    "icrs_lmc_me = ICRS(ra = 80.8,\n",
    "    dec = -69.8, \n",
    "    pmra = 1.910,\n",
    "    pmdec = 0.229,\n",
    "    radial_velocity = 262,\n",
    "    distance = 49.59\n",
    "    )\n",
    "\n",
    "icrs_lmc_me_err = ICRS(\n",
    "    ra=0.3,\n",
    "    dec=0.3,\n",
    "    distance=0.54,\n",
    "    pmra=0.2,\n",
    "    pmdec=0.47,\n",
    "    radial_velocity=3,\n",
    "    )"
   ]
  },
  {
   "cell_type": "code",
   "execution_count": null,
   "id": "12",
   "metadata": {},
   "outputs": [],
   "source": [
    "icrs_lmc = ICRS(ra = 81,\n",
    "    dec = -69.75, \n",
    "    pmra = 1.8,\n",
    "    pmdec = 0.35,\n",
    "    radial_velocity = 260,\n",
    "    distance = 50.\n",
    "    )"
   ]
  },
  {
   "cell_type": "code",
   "execution_count": null,
   "id": "13",
   "metadata": {},
   "outputs": [],
   "source": [
    "gc_lmc = LilGuys.transform(Galactocentric, icrs_lmc)"
   ]
  },
  {
   "cell_type": "markdown",
   "id": "14",
   "metadata": {
    "jp-MarkdownHeadingCollapsed": true
   },
   "source": [
    "## Utilities"
   ]
  },
  {
   "cell_type": "code",
   "execution_count": null,
   "id": "15",
   "metadata": {},
   "outputs": [],
   "source": [
    "# some simple python utilities\n",
    "py2f(x) = pyconvert(Float64, x)\n",
    "py2vec(x) = pyconvert(Vector{Float64}, x)\n",
    "py2mat(x) = pyconvert(Matrix{Float64}, x)'"
   ]
  },
  {
   "cell_type": "code",
   "execution_count": null,
   "id": "16",
   "metadata": {},
   "outputs": [],
   "source": [
    "\"\"\"\n",
    "    make_lmc_pot(Mlmc, r_s; kwargs...)\n",
    "\n",
    "Creates a LMC agama potential as truncated NFW similar to vasiliev24. \n",
    "Mlmc is the mass (in our code units) and r_s is the scale radius (also in our code units).\n",
    "kwargs passed to agama.Potential.\n",
    "\"\"\"\n",
    "function make_lmc_pot(Mlmc, r_s; kwargs...)\n",
    "    Φ_lmc = agama.Potential(;\n",
    "            type=\"Spheroid\", alpha=1, beta=3, gamma=1, \n",
    "            scaleradius = r_s,\n",
    "            mass = Mlmc, \n",
    "            outercutoffradius = 10r_s, \n",
    "            cutoffStrength=4,\n",
    "            kwargs...\n",
    "        )\n",
    "    return Φ_lmc\n",
    "end\n"
   ]
  },
  {
   "cell_type": "code",
   "execution_count": null,
   "id": "17",
   "metadata": {},
   "outputs": [],
   "source": [
    "\"\"\"\n",
    "    calc_lmc_orbit(pot, gc_coord, kwargs...)\n",
    "\n",
    "Computes an LMC orbit in the given potential with the present-day position `gc_coord`.\n",
    "Returns an `Orbit` object.\n",
    "\n",
    "# Arguments\n",
    "- `Mlmc::function` a function which returns the mass of the LMC (our code units) given the time\n",
    "- `reflex_motion::Bool=true` whether to include reflex motion in the calculation\n",
    "- `dynamical_friction::Bool=true` whether to include (Chandrasakar dynamical friction) in the calculation\n",
    "- `Λ = nothing`. The value of the argument of the Coloumb logarithm, \n",
    "controlling the scaling of Dynamical friction\n",
    "- `σv`. A function returning the local halo velocity dispersion given distance from origin\n",
    "- `vasiliev_units::Bool = false` If true, assumes the potential `pot` is in the alternate unit system in vasiliev++\n",
    "- `time` Time to integrate to. If negative, integrates backwards in time. Code units.\n",
    "- `r_s`\n",
    "- `timestep`\n",
    "Additional kwargs passed to `leap_frog`\n",
    "\n",
    "\"\"\"\n",
    "function calc_lmc_orbit(pot, gc_coord; \n",
    "        Mlmc = t->15,\n",
    "        reflex_motion = true,\n",
    "        dynamical_friction = true,\n",
    "        Λ = nothing,\n",
    "        σv = nothing,\n",
    "        vasiliev_units = false,\n",
    "        time = -10 / T2GYR, \n",
    "        r_s = 8.5 * (Mlmc / 10)^0.6,\n",
    "        timestep = :adaptive,\n",
    "        kwargs...\n",
    "    )\n",
    "\n",
    "    \n",
    "    if vasiliev_units\n",
    "        acc_scale = (V_V2KMS/ V2KMS)^2  * (V_R2KPC / R2KPC)^-1\n",
    "        v_scale = V2KMS / V_V2KMS\n",
    "        m_scale = M2MSUN / V_M2MSUN\n",
    "    else\n",
    "        v_scale = m_scale = acc_scale = 1\n",
    "    end\n",
    "    \n",
    "\n",
    "    if σv === nothing\n",
    "        calc_σv_interp(pot, log_r=LinRange(2, -2.0, 1000))\n",
    "    end\n",
    "\n",
    "    ρ(x) = py2f(pot.density(x))\n",
    "    \n",
    "    Φ_lmc = make_lmc_pot(Mlmc(0) * m_scale, r_s)\n",
    "\n",
    "\n",
    "    f_fric(pos, vel, t) = dynamical_friction * a_dyn_friction(pos, vel, \n",
    "        r_s=r_s,\n",
    "        σv=σv, ρ=ρ, M=Mlmc(t) * m_scale, Λ = sqrt(calc_r(pos) / 0.8r_s )\n",
    "    )\n",
    "\n",
    "\n",
    "    f_grav(pos, vel, t) = py2vec(\n",
    "        pot.force(pos) - reflex_motion * Mlmc(t) / Mlmc(0) * Φ_lmc.force(-pos)\n",
    "    )\n",
    "\n",
    "    f_acc(pos, vel, t) = acc_scale * (f_grav(pos, vel*v_scale, t) .+ f_fric(pos, vel *v_scale, t) )\n",
    "\n",
    "    orbit = leap_frog(gc_coord, f_acc; time=time, timestep=timestep, kwargs...)\n",
    "\n",
    "    return orbit\n",
    "end\n"
   ]
  },
  {
   "cell_type": "code",
   "execution_count": null,
   "id": "18",
   "metadata": {},
   "outputs": [],
   "source": [
    "\"\"\"\n",
    "    make_lmc_mw_pot_from_orbit\n",
    "\n",
    "Given the MW potential and the orbit of the LMC,\n",
    "returns an agama.Potential object representing the combined potential.\n",
    "\"\"\"\n",
    "function make_lmc_mw_pot_from_orbit(pot, orbit;\n",
    "        reflex_motion=true,\n",
    "        Mlmc=t->15,\n",
    "        r_s=8.5 , \n",
    "        vasiliev_units=false,     \n",
    "    )\n",
    "    \n",
    "    time = orbit.time\n",
    "\n",
    "    if vasiliev_units\n",
    "        m_scale = M2MSUN / V_M2MSUN\n",
    "        time *= T2GYR / V_T2GYR\n",
    "    else\n",
    "        m_scale = 1\n",
    "    end\n",
    "    \n",
    "    if orbit.time[2] < orbit.time[1]\n",
    "        position = orbit.position[:, end:-1:1]\n",
    "        time = reverse(time)\n",
    "    end\n",
    "\n",
    "    centre = vcat(time', position)\n",
    "\n",
    "    centre = PyArray(centre')\n",
    "    scale = PyArray(vcat(time',  Mlmc.(time)' ./ Mlmc(0), ones(length(time))')')\n",
    "\n",
    "    pot_lmc = make_lmc_pot(m_scale * Mlmc(0), r_s, center=centre,scale=scale )\n",
    "\n",
    "    \n",
    "    if reflex_motion != 0\n",
    "        N = length(time)\n",
    "        a_reflex = pot_lmc.force(zeros(length(time), 3), t=time)\n",
    "        nptime = PyMatrix(reshape(time,(:, 1)))\n",
    "        mat_reflex = np.hstack([nptime, -a_reflex])        \n",
    "        pot_reflex = agama.Potential(type=\"UniformAcceleration\", file=mat_reflex)\n",
    "        \n",
    "        Φ = agama.Potential(pot, pot_lmc, pot_reflex)\n",
    "    else\n",
    "        Φ = agama.Potential(pot, pot_lmc)\n",
    "    end\n",
    "\n",
    "    return Φ\n",
    "end"
   ]
  },
  {
   "cell_type": "code",
   "execution_count": null,
   "id": "19",
   "metadata": {},
   "outputs": [],
   "source": [
    "\"\"\"\n",
    "    make_lmc_mw_pot(pot, lmc_gc; kwargs...)\n",
    "\n",
    "Given the MW potential and the LMC initial conditions, computes the orbit \n",
    "of the LMC and return the combined potential and the orbit.\n",
    "Arguments are as in `calc_lmc_orbit`\n",
    "\"\"\"\n",
    "function make_lmc_mw_pot(pot, lmc_gc;\n",
    "        reflex_motion=true,\n",
    "        Mlmc=t->15,\n",
    "        r_s=8.5 * (Mlmc / 10)^0.6, \n",
    "        vasiliev_units=false, \n",
    "        kwargs...\n",
    "    \n",
    "    )\n",
    "    orbit = calc_lmc_orbit(pot, lmc_gc; Mlmc=Mlmc, r_s=r_s, vasiliev_units=vasiliev_units, reflex_motion=reflex_motion, kwargs...)\n",
    "    Φ = make_lmc_mw_pot_from_orbit(pot, orbit; Mlmc=Mlmc, r_s=r_s, vasiliev_units=vasiliev_units, reflex_motion=reflex_motion)\n",
    "\n",
    "    return Φ, orbit\n",
    "end"
   ]
  },
  {
   "cell_type": "code",
   "execution_count": null,
   "id": "20",
   "metadata": {},
   "outputs": [],
   "source": [
    "function calc_σv_func(pot_halo)\n",
    "    gridr = np.logspace(1, 3, 16)\n",
    "\n",
    "    df = agama.DistributionFunction(type=\"quasispherical\", potential=pot_halo)\n",
    "    gm = agama.GalaxyModel(pot_halo, df)\n",
    "\n",
    "    x = np.column_stack((gridr, gridr*0, gridr*0))\n",
    "    \n",
    "    sigmas = py2mat(gm.moments(x, dens=false, vel=false))[1, :] .^ 0.5\n",
    "\n",
    "    println(\"sigmas = \", sigmas)\n",
    "    sigmafnc = agama.Spline(gridr, sigmas)\n",
    "    return sigmafnc\n",
    "end"
   ]
  },
  {
   "cell_type": "markdown",
   "id": "21",
   "metadata": {
    "jp-MarkdownHeadingCollapsed": true
   },
   "source": [
    "# Alla Vasiliev+21"
   ]
  },
  {
   "cell_type": "markdown",
   "id": "22",
   "metadata": {},
   "source": [
    "I have the potential from the Vasiliev et al. (V+21, 2021) paper \"Tango for Three...\", stored in agama/potentials/vasiliev+2021.\n",
    "The components of this potential are:\n",
    "\n",
    "- Multipole expansion of evolving N-body MW potential\n",
    "- Moving & Evolving multipole expansion of an LMC potential from their N-body simulation\n",
    "- The non-inertial acceleration of the MW\n",
    "\n",
    "My goal with the plots below is to investigate these effects and how each one in turn influences both the orbtits of the LMC and Scl. To 2st order, each effect is important but likely a full N-body simulation is required to capture the full nuance of interacting galaxies."
   ]
  },
  {
   "cell_type": "code",
   "execution_count": null,
   "id": "23",
   "metadata": {},
   "outputs": [],
   "source": [
    "vasiliev21_frozen = load_agama_potential(\"vasiliev+21/potential_nolmc.ini\")\n",
    "vasiliev21 = load_agama_potential(\"vasiliev+21/potential_evolving.ini\")\n",
    "vasiliev21_lmc = load_agama_potential(\"vasiliev+21/potential_lmc_only.ini\")"
   ]
  },
  {
   "cell_type": "code",
   "execution_count": null,
   "id": "24",
   "metadata": {},
   "outputs": [],
   "source": [
    "function read_lmc_traj(filename)\n",
    "    lmc_traj = CSV.read(filename, DataFrame, delim=\" \", header = [:time, :x, :y, :z, :v_x, :v_y, :v_z])\n",
    "    \n",
    "    lmc_traj = DataFrame(reverse(eachrow(lmc_traj)))\n",
    "    \n",
    "    \n",
    "    orbit_lmc_act = Orbit(time=lmc_traj.time  * V_T2GYR/ T2GYR, \n",
    "        position = [lmc_traj.x lmc_traj.y lmc_traj.z]',\n",
    "        velocity = [lmc_traj.v_x lmc_traj.v_y lmc_traj.v_z]' * V_V2KMS / V2KMS\n",
    "        )\n",
    "end\n"
   ]
  },
  {
   "cell_type": "code",
   "execution_count": null,
   "id": "25",
   "metadata": {},
   "outputs": [],
   "source": [
    "function read_lmc_acc(filename)\n",
    "    acc_v21 = CSV.read(filename, DataFrame, delim=\" \", header = [:time, :x, :y, :z])\n",
    "end"
   ]
  },
  {
   "cell_type": "code",
   "execution_count": null,
   "id": "26",
   "metadata": {},
   "outputs": [],
   "source": [
    "# loads in trajectory of lmc in Vasiliev 2021\n",
    "lmc_file = ENV[\"DWARFS_ROOT\"] * \"/agama/potentials/vasiliev+21/trajlmc.txt\"\n",
    "orbit_lmc_act = read_lmc_traj(lmc_file)"
   ]
  },
  {
   "cell_type": "code",
   "execution_count": null,
   "id": "27",
   "metadata": {},
   "outputs": [],
   "source": [
    "filename = ENV[\"DWARFS_ROOT\"] * \"/agama/potentials/vasiliev+21/accel.txt\"\n",
    "acc_lmc_act = read_lmc_acc(filename)"
   ]
  },
  {
   "cell_type": "code",
   "execution_count": null,
   "id": "28",
   "metadata": {},
   "outputs": [],
   "source": [
    "lmc_gc = LilGuys.transform(LilGuys.Galactocentric, lmc_coord)"
   ]
  },
  {
   "cell_type": "code",
   "execution_count": null,
   "id": "29",
   "metadata": {},
   "outputs": [],
   "source": [
    "lmc_traj[lmc_traj.time .== 0, :]"
   ]
  },
  {
   "cell_type": "code",
   "execution_count": null,
   "id": "30",
   "metadata": {},
   "outputs": [],
   "source": [
    "LilGuys.position_of(lmc_gc)"
   ]
  },
  {
   "cell_type": "code",
   "execution_count": null,
   "id": "31",
   "metadata": {},
   "outputs": [],
   "source": [
    "LilGuys.velocity_of(lmc_gc)"
   ]
  },
  {
   "cell_type": "markdown",
   "id": "32",
   "metadata": {
    "jp-MarkdownHeadingCollapsed": true
   },
   "source": [
    "## Orbits"
   ]
  },
  {
   "cell_type": "code",
   "execution_count": null,
   "id": "33",
   "metadata": {},
   "outputs": [],
   "source": [
    "Φ_v21_simple = make_lmc_mw_pot_from_orbit(vasiliev21_frozen, orbit_lmc_act,\n",
    "    Mlmc=15, \n",
    "    vasiliev_units=true,\n",
    "    reflex_motion=true,\n",
    ")"
   ]
  },
  {
   "cell_type": "code",
   "execution_count": null,
   "id": "34",
   "metadata": {},
   "outputs": [],
   "source": [
    "Φ_evolving, orbit_lmc = make_lmc_mw_pot(vasiliev21_frozen, lmc_gc,\n",
    "    Mlmc=15, \n",
    "    σv=x->120, \n",
    "    vasiliev_units=true, \n",
    "    reflex_motion=true, \n",
    "    dynamical_friction=true\n",
    ")"
   ]
  },
  {
   "cell_type": "markdown",
   "id": "35",
   "metadata": {},
   "source": [
    "### Reflex acceleration"
   ]
  },
  {
   "cell_type": "code",
   "execution_count": null,
   "id": "36",
   "metadata": {},
   "outputs": [],
   "source": [
    "times = acc_v21.time\n",
    "\n",
    "orbit_lmc_act_resamp = resample(orbit_lmc_act, times * V_T2GYR / T2GYR)"
   ]
  },
  {
   "cell_type": "code",
   "execution_count": null,
   "id": "37",
   "metadata": {},
   "outputs": [],
   "source": [
    "Φ_lmc_stat = make_lmc_pot(15 * M2MSUN / V_M2MSUN, 10.84)"
   ]
  },
  {
   "cell_type": "code",
   "execution_count": null,
   "id": "38",
   "metadata": {},
   "outputs": [],
   "source": [
    "Φ_lmc_stat.totalMass() * V_M2MSUN / M2MSUN"
   ]
  },
  {
   "cell_type": "code",
   "execution_count": null,
   "id": "39",
   "metadata": {},
   "outputs": [],
   "source": [
    "vasiliev21_frozen.totalMass() * V_M2MSUN / M2MSUN"
   ]
  },
  {
   "cell_type": "code",
   "execution_count": null,
   "id": "40",
   "metadata": {},
   "outputs": [],
   "source": []
  },
  {
   "cell_type": "code",
   "execution_count": null,
   "id": "41",
   "metadata": {},
   "outputs": [],
   "source": [
    "Φ_lmc_evolving = Φ_evolving[1]"
   ]
  },
  {
   "cell_type": "code",
   "execution_count": null,
   "id": "42",
   "metadata": {},
   "outputs": [],
   "source": [
    "\n",
    "acc_me = -Φ_lmc_evolving.force(zeros(length(times), 3),  t=times) |> py2mat\n",
    "acc_me_fmw = vasiliev21_frozen.force(orbit_lmc_act_resamp.position', t=times) *  15 / 80.19 |> py2mat\n",
    "\n",
    "acc_me_act_orbit = Φ_lmc_stat.force(orbit_lmc_act_resamp.position',  t=times) |>py2mat\n",
    "\n",
    "# the actual acceleration of the model\n",
    "acc_v21_mat = hcat(acc_v21.x, acc_v21.y, acc_v21.z)'\n"
   ]
  },
  {
   "cell_type": "code",
   "execution_count": null,
   "id": "43",
   "metadata": {},
   "outputs": [],
   "source": [
    "fig = LilGuys.Plots.plot_xyz(acc_me, acc_me_fmw, acc_me_act_orbit, acc_v21_mat, \n",
    "    labels = [\"my orbit\", \"rescaled mw-lmc force\", \"V+21 simple\", \"V+21 actual\"],\n",
    "    units=\"\",\n",
    "    xlabel=\"a_x\" ,\n",
    "    ylabel=\"a_y\",\n",
    "    zlabel=\"a_z\",\n",
    ")\n",
    "fig"
   ]
  },
  {
   "cell_type": "code",
   "execution_count": null,
   "id": "44",
   "metadata": {},
   "outputs": [],
   "source": [
    "vasiliev21"
   ]
  },
  {
   "cell_type": "code",
   "execution_count": null,
   "id": "45",
   "metadata": {},
   "outputs": [],
   "source": [
    "fig = Figure()\n",
    "ax = Axis(fig[1,1], xlabel=\"time / Gyr\", ylabel = L\"|a_\\textrm{MW}|\")\n",
    "\n",
    "lines!(times, calc_r(acc_me), label=\"my orbit\")\n",
    "lines!(times, calc_r(acc_me_fmw), label=\"rescaled mw-lmc force\")\n",
    "lines!(times, calc_r(acc_me_act_orbit), label=\"V+21 simple\")\n",
    "lines!(times, calc_r(acc_v21_mat), label=\"V+21 actual\")\n",
    "\n",
    "axislegend(position=:lt)\n",
    "fig"
   ]
  },
  {
   "cell_type": "markdown",
   "id": "46",
   "metadata": {},
   "source": [
    "In the plot above, I compare several different methods for calculating the reflex acceleration of the milkyway.\n",
    "- `my orbit` is the reflex motion calculated by the force at zero due to the LMC on my fiducial LMC orbit\n",
    "- `rescaled mw-lmc force` uses the V+21 orbit but instead calculates the force of the MW on the LMC and rescales by the mass ratio\n",
    "- `V+21 simple` uses the same method as `my orbit` except along the LMC orbit of V+21\n",
    "- `V+21` contains the actual N-body model's acceleration of the MW\n",
    "\n",
    "COmparing these models, all are similer except the rescaled mw-lmc force underestimates the acceleration. The actual acceleration deviates from both my orbit and the `V+21 simple` models especially past t=0, but for past times, the magnitude of acceleration is fairly close for each model."
   ]
  },
  {
   "cell_type": "markdown",
   "id": "47",
   "metadata": {
    "jp-MarkdownHeadingCollapsed": true
   },
   "source": [
    "### Orbits"
   ]
  },
  {
   "cell_type": "code",
   "execution_count": null,
   "id": "48",
   "metadata": {},
   "outputs": [],
   "source": []
  },
  {
   "cell_type": "code",
   "execution_count": null,
   "id": "49",
   "metadata": {},
   "outputs": [],
   "source": [
    "orbit_scl = calc_orbit(gc_scl, Φ_evolving, time=-5, units=:vasiliev, N=10_001)"
   ]
  },
  {
   "cell_type": "code",
   "execution_count": null,
   "id": "50",
   "metadata": {},
   "outputs": [],
   "source": [
    "orbit_scl_v21_simple = calc_orbit(gc_scl, Φ_v21_simple, time=-5, units=:vasiliev, N=10_001)"
   ]
  },
  {
   "cell_type": "code",
   "execution_count": null,
   "id": "51",
   "metadata": {},
   "outputs": [],
   "source": [
    "orbit_scl_nolmc = calc_orbit(gc_scl, vasiliev21_frozen, time=-5, units=:vasiliev)"
   ]
  },
  {
   "cell_type": "code",
   "execution_count": null,
   "id": "52",
   "metadata": {},
   "outputs": [],
   "source": [
    "v21_noref = agama.Potential(vasiliev21[0], vasiliev21[1], vasiliev21[3], vasiliev21[4])"
   ]
  },
  {
   "cell_type": "code",
   "execution_count": null,
   "id": "53",
   "metadata": {},
   "outputs": [],
   "source": [
    "orbit_scl_act = calc_orbit(gc_scl, vasiliev21, time=-5, units=:vasiliev, N=10001)"
   ]
  },
  {
   "cell_type": "code",
   "execution_count": null,
   "id": "54",
   "metadata": {},
   "outputs": [],
   "source": [
    "orbit_lmc_act = resample(orbit_lmc_act, orbit_scl.time)"
   ]
  },
  {
   "cell_type": "code",
   "execution_count": null,
   "id": "55",
   "metadata": {},
   "outputs": [],
   "source": [
    "orbit_scl_lmc  = orbit_scl - orbit_lmc \n",
    "orbit_scl_lmc_act = orbit_scl_act - orbit_lmc_act\n",
    "orbit_scl_lmc_simple = orbit_scl_v21_simple - orbit_lmc_act"
   ]
  },
  {
   "cell_type": "code",
   "execution_count": null,
   "id": "56",
   "metadata": {},
   "outputs": [],
   "source": [
    "plot_y_z([\n",
    "    \"vasiliev+21\" => orbit_scl_lmc_act,\n",
    "    \"vasiliev+21 simple\" => orbit_scl_lmc_simple,\n",
    "        \"approx\" => orbit_scl_lmc,\n",
    "\n",
    "        ])"
   ]
  },
  {
   "cell_type": "code",
   "execution_count": null,
   "id": "57",
   "metadata": {},
   "outputs": [],
   "source": []
  },
  {
   "cell_type": "code",
   "execution_count": null,
   "id": "58",
   "metadata": {},
   "outputs": [],
   "source": [
    "plot_y_z([\n",
    "    \"lmc me\" => orbit_lmc,\n",
    "    \"lmc vasiliev+21\" => orbit_lmc_act,\n",
    "    \"scl me\" => orbit_scl,\n",
    "    \"scl vasiliev+21\" => orbit_scl_act,\n",
    "    \"scl vasiliev+21 simple\" => orbit_scl_v21_simple,\n",
    "\n",
    "        ])"
   ]
  },
  {
   "cell_type": "code",
   "execution_count": null,
   "id": "59",
   "metadata": {},
   "outputs": [],
   "source": [
    "orbits = [\n",
    "    \"lmc me\" => orbit_lmc,\n",
    "    \"lmc vasiliev+21\" => orbit_lmc_act,\n",
    "    \"scl me\" => orbit_scl,\n",
    "    \"scl vasiliev+21\" => orbit_scl_act,\n",
    "    \"scl vasiliev+21 simple\" => orbit_scl_v21_simple,\n",
    "\n",
    "        ]"
   ]
  },
  {
   "cell_type": "code",
   "execution_count": null,
   "id": "60",
   "metadata": {},
   "outputs": [],
   "source": [
    "plot_xyz(orbits)"
   ]
  },
  {
   "cell_type": "code",
   "execution_count": null,
   "id": "61",
   "metadata": {},
   "outputs": [],
   "source": [
    "lmc_me = calc_lmc_orbit(vasiliev21_frozen, lmc_gc, \n",
    "    vasiliev_units=true, σv=x->120,\n",
    "    dynamical_friction=true, reflex_motion=true,\n",
    "    timestep=:adaptive\n",
    ")\n",
    "\n",
    "lmc_point = calc_lmc_orbit(vasiliev21_frozen, lmc_gc, \n",
    "    vasiliev_units=true, σv=x->120,\n",
    "    dynamical_friction=false, reflex_motion=false\n",
    ")\n",
    "\n",
    "lmc_dyf = calc_lmc_orbit(vasiliev21_frozen, lmc_gc, \n",
    "    vasiliev_units=true, σv=x->120,\n",
    "    dynamical_friction=true, reflex_motion=false\n",
    ")\n",
    "\n",
    "\n",
    "lmc_ref = calc_lmc_orbit(vasiliev21_frozen, lmc_gc, \n",
    "    vasiliev_units=true, σv=x->120,\n",
    "    dynamical_friction=false, reflex_motion=true\n",
    ")"
   ]
  },
  {
   "cell_type": "code",
   "execution_count": null,
   "id": "62",
   "metadata": {},
   "outputs": [],
   "source": [
    "orbits = [\n",
    "    \"point\" => lmc_point,\n",
    "    \"+reflex\" => lmc_ref,\n",
    "    \"+dyn fric\" => lmc_dyf,\n",
    "    \"reflex & dyn friction\" => lmc_me,\n",
    "    \"vasiliev+2021\" => orbit_lmc_act,\n",
    "    ];"
   ]
  },
  {
   "cell_type": "code",
   "execution_count": null,
   "id": "63",
   "metadata": {},
   "outputs": [],
   "source": [
    "plot_xyz(orbits)"
   ]
  },
  {
   "cell_type": "code",
   "execution_count": null,
   "id": "64",
   "metadata": {},
   "outputs": [],
   "source": [
    "fig = Figure()\n",
    "ax = Axis(fig[1, 1])\n",
    "plot_v_circ!(Φ_lmc_stat, vasiliev_units=true, log=false, log_r=log10.(LinRange(0.1, 50, 100)))\n",
    "\n",
    "fig"
   ]
  },
  {
   "cell_type": "code",
   "execution_count": null,
   "id": "65",
   "metadata": {},
   "outputs": [],
   "source": [
    "Φ_lmc_stat.density([30, 0, 0])"
   ]
  },
  {
   "cell_type": "code",
   "execution_count": null,
   "id": "66",
   "metadata": {},
   "outputs": [],
   "source": [
    "fig = plot_r_t(orbits, legend=false)\n",
    "\n",
    "lines!(lmc_orbit.time * T2GYR, r_scl_lmc, label=\"Scl-LMC \")\n",
    "axislegend()\n",
    "fig"
   ]
  },
  {
   "cell_type": "code",
   "execution_count": null,
   "id": "67",
   "metadata": {},
   "outputs": [],
   "source": [
    "log10(LilGuys.kpc_to_arcmin(LilGuys.calc_break_radius(8.0 / V2KMS, 0.1 / T2GYR), 83.2))"
   ]
  },
  {
   "cell_type": "code",
   "execution_count": null,
   "id": "68",
   "metadata": {},
   "outputs": [],
   "source": [
    "log10(20)"
   ]
  },
  {
   "cell_type": "code",
   "execution_count": null,
   "id": "69",
   "metadata": {},
   "outputs": [],
   "source": [
    "fig, ax = FigAxis(\n",
    "    xlabel = \"time / Gyr\",\n",
    "    ylabel = \"distance from Scl to LMC / kpc\",\n",
    "    limits=(nothing, nothing, 0, nothing),\n",
    "    )\n",
    "\n",
    "lines!(lmc_orbit.time * T2GYR, r_scl_lmc)\n",
    "\n",
    "fig"
   ]
  },
  {
   "cell_type": "code",
   "execution_count": null,
   "id": "70",
   "metadata": {},
   "outputs": [],
   "source": [
    "lmc_orbit.time[argmin(r_scl_lmc)] * T2GYR"
   ]
  },
  {
   "cell_type": "code",
   "execution_count": null,
   "id": "71",
   "metadata": {},
   "outputs": [],
   "source": [
    "minimum(r_scl_lmc)"
   ]
  },
  {
   "cell_type": "code",
   "execution_count": null,
   "id": "72",
   "metadata": {},
   "outputs": [],
   "source": [
    "lmc_orbit.time ./ scl_lmc_orbit.time"
   ]
  },
  {
   "cell_type": "code",
   "execution_count": null,
   "id": "73",
   "metadata": {},
   "outputs": [],
   "source": [
    "plot_v_circ(ep20)"
   ]
  },
  {
   "cell_type": "code",
   "execution_count": null,
   "id": "74",
   "metadata": {},
   "outputs": [],
   "source": [
    "plot_v_circ(vasiliev21, vasiliev_units=true)"
   ]
  },
  {
   "cell_type": "markdown",
   "id": "75",
   "metadata": {
    "jp-MarkdownHeadingCollapsed": true
   },
   "source": [
    "# Alla Vasiliev 2024"
   ]
  },
  {
   "cell_type": "markdown",
   "id": "76",
   "metadata": {},
   "source": [
    "Similar to above but for ...\n",
    "\n",
    "- Multipole expansion of evolving N-body MW potential\n",
    "- Moving & Evolving multipole expansion of an LMC potential from their N-body simulation\n",
    "- The non-inertial acceleration of the MW\n",
    "\n",
    "My goal with the plots below is to investigate these effects and how each one in turn influences both the orbtits of the LMC and Scl. To 2st order, each effect is important but likely a full N-body simulation is required to capture the full nuance of interacting galaxies."
   ]
  },
  {
   "cell_type": "code",
   "execution_count": null,
   "id": "77",
   "metadata": {},
   "outputs": [],
   "source": [
    "using CSV, DataFrames"
   ]
  },
  {
   "cell_type": "code",
   "execution_count": null,
   "id": "78",
   "metadata": {},
   "outputs": [],
   "source": [
    "\"\"\"\n",
    "    load_lmc_traj(modelname)\n",
    "\n",
    "Reads in the LMC trajectory as an `Orbit` object\n",
    "given the name of the `vasiliev24` model (e.g. \"L3M11\")\n",
    "\"\"\"\n",
    "function load_lmc_traj(modelname::String)\n",
    "    lmc_file = ENV[\"DWARFS_ROOT\"] * \"/agama/potentials/vasiliev24/$modelname/trajlmc.txt\"\n",
    "    lmc_traj = CSV.read(lmc_file, DataFrame, delim=\" \", ignorerepeated=true, header = [:time, :x, :y, :z, :v_x, :v_y, :v_z])\n",
    "    lmc_traj = lmc_traj\n",
    "    lmc_traj = DataFrame(reverse(eachrow(lmc_traj)))\n",
    "        \n",
    "    orbit_lmc_act = Orbit(time=lmc_traj.time  * V_T2GYR/ T2GYR, \n",
    "        position = [lmc_traj.x lmc_traj.y lmc_traj.z]',\n",
    "        velocity = [lmc_traj.v_x lmc_traj.v_y lmc_traj.v_z]' * V_V2KMS / V2KMS\n",
    "        )\n",
    "    return orbit_lmc_act\n",
    "end"
   ]
  },
  {
   "cell_type": "code",
   "execution_count": null,
   "id": "79",
   "metadata": {},
   "outputs": [],
   "source": [
    "\"\"\"\n",
    "    load_accel(modelname)\n",
    "\n",
    "Reads in the MW reflex acceleration \n",
    "given the name of the `vasiliev24` model (e.g. \"L3M11\")\n",
    "\"\"\"\n",
    "function load_accel(modelname)\n",
    "    filename = ENV[\"DWARFS_ROOT\"] * \"/agama/potentials/vasiliev24/$modelname/accel.txt\"\n",
    "    df =  CSV.read(filename, DataFrame, delim=\" \", ignorerepeated=true, comment=\"#\", header=[\"time\", \"x\", \"y\", \"z\"])\n",
    "    acc_scale = (V_V2KMS/ V2KMS)^2  * (V_R2KPC / R2KPC)^-1\n",
    "    df.x .*= acc_scale\n",
    "    df.y .*= acc_scale\n",
    "    df.z .*= acc_scale\n",
    "    df.time * V_T2GYR, [df.x df.y df.z]'\n",
    "end"
   ]
  },
  {
   "cell_type": "code",
   "execution_count": null,
   "id": "80",
   "metadata": {},
   "outputs": [],
   "source": [
    "\"\"\"\n",
    "    load_bound_mass(modelname)\n",
    "\n",
    "Reads in the LMC bound mass\n",
    "given the name of the `vasiliev24` model (e.g. \"L3M11\")\n",
    "\"\"\"\n",
    "function load_bound_mass(modelname)\n",
    "    filename = ENV[\"DWARFS_ROOT\"] * \"/agama/potentials/vasiliev24/$modelname/boundmass.txt\"\n",
    "    df =  CSV.read(filename, DataFrame, delim=\" \", ignorerepeated=true, comment=\"#\", header=[\"time\", \"mass\"])\n",
    "    df.mass ./= M2MSUN\n",
    "    df.time .*= V_T2GYR\n",
    "    df\n",
    "end"
   ]
  },
  {
   "cell_type": "code",
   "execution_count": null,
   "id": "81",
   "metadata": {},
   "outputs": [],
   "source": [
    "function get_acc(Φ, time)\n",
    "    return Φ[-1].force(np.zeros((length(time), 3)), t=time / V_T2GYR) .* (V_V2KMS / V2KMS)^2  |> py2mat\n",
    "end"
   ]
  },
  {
   "cell_type": "code",
   "execution_count": null,
   "id": "82",
   "metadata": {},
   "outputs": [],
   "source": [
    "function get_∇acc(Φ, time, position=nothing)\n",
    "    if position === nothing\n",
    "        position = np.zeros((length(time), 3))\n",
    "    else\n",
    "        position = np.array(position')\n",
    "    end\n",
    "\n",
    "    ∇acc =  Φ.eval(position, t=time, der=true)\n",
    "    return py2mat(∇acc)\n",
    "end"
   ]
  },
  {
   "cell_type": "code",
   "execution_count": null,
   "id": "83",
   "metadata": {},
   "outputs": [],
   "source": [
    "lmc_coord = ICRS(ra = 81,\n",
    "    dec = -69.75, \n",
    "    pmra = 1.8,\n",
    "    pmdec = 0.35,\n",
    "    radial_velocity = 260,\n",
    "    distance = 50.\n",
    "    )"
   ]
  },
  {
   "cell_type": "code",
   "execution_count": null,
   "id": "84",
   "metadata": {},
   "outputs": [],
   "source": [
    "# closer to what is actually used in the paper\n",
    "lmc_gc = LilGuys.Galactocentric( -0.61,  -41.02,  -26.83,  -69.84,  -221.66,  214.12)"
   ]
  },
  {
   "cell_type": "markdown",
   "id": "85",
   "metadata": {
    "jp-MarkdownHeadingCollapsed": true
   },
   "source": [
    "### other units"
   ]
  },
  {
   "cell_type": "code",
   "execution_count": null,
   "id": "86",
   "metadata": {},
   "outputs": [],
   "source": [
    "pot_frozen = agama.Potential( \n",
    "    pydict(type=\"Spheroid\", mass=1.2, scaleRadius=0.2, outerCutoffRadius=1.8, gamma=0, beta=1.8),\n",
    "    pydict(type=\"Disk\", surfaceDensity=0.088431375, scaleRadius=3.0, scaleHeight=-0.25),\n",
    "    pydict(type=\"Spheroid\", densityNorm=0.97e-3, scaleRadius=16.5, outerCutoffRadius=500, cutoffStrength=4, beta=3, gamma=1),\n",
    "    )"
   ]
  },
  {
   "cell_type": "code",
   "execution_count": null,
   "id": "87",
   "metadata": {},
   "outputs": [],
   "source": [
    "lmc_traj = CSV.read(\"/arc7/home/dboyea/dwarfs/agama/potentials/vasiliev24/scripts/lmc_orbit.csv\", DataFrame)\n",
    "\n",
    "orbit_lmc_agama = Orbit(time=lmc_traj.t * V_T2GYR /T2GYR ,\n",
    "        position = [lmc_traj.x lmc_traj.y lmc_traj.z]',\n",
    "        velocity = ([lmc_traj.vx lmc_traj.vy lmc_traj.vz] / V2KMS)' \n",
    "        )"
   ]
  },
  {
   "cell_type": "code",
   "execution_count": null,
   "id": "88",
   "metadata": {},
   "outputs": [],
   "source": [
    "pwd()"
   ]
  },
  {
   "cell_type": "code",
   "execution_count": null,
   "id": "89",
   "metadata": {},
   "outputs": [],
   "source": [
    "gridr = numpy.logspace(1, 3, 32)\n",
    "\n",
    "pot_halo = agama.Potential(type=\"Spheroid\", densityNorm=0.97e-3, scaleRadius=16.5, outerCutoffRadius=500, cutoffStrength=4, beta=3, gamma=1)\n",
    "\n",
    "df = agama.GalaxyModel(pot_halo, agama.DistributionFunction(type=\"quasispherical\", potential=pot_halo))\n",
    "sigmas = py2mat(df.moments(numpy.column_stack((gridr, gridr*0, gridr*0)), dens=false, vel=false))[1, :] .^ 0.5\n",
    "\n",
    "sigmafnc = agama.Spline(gridr, sigmas)"
   ]
  },
  {
   "cell_type": "code",
   "execution_count": null,
   "id": "90",
   "metadata": {},
   "outputs": [],
   "source": [
    "gridr"
   ]
  },
  {
   "cell_type": "code",
   "execution_count": null,
   "id": "91",
   "metadata": {},
   "outputs": [],
   "source": [
    "df.totalMass()"
   ]
  },
  {
   "cell_type": "code",
   "execution_count": null,
   "id": "92",
   "metadata": {},
   "outputs": [],
   "source": [
    "df.totalMass()"
   ]
  },
  {
   "cell_type": "code",
   "execution_count": null,
   "id": "93",
   "metadata": {},
   "outputs": [],
   "source": [
    "sigmas * V2KMS"
   ]
  },
  {
   "cell_type": "code",
   "execution_count": null,
   "id": "94",
   "metadata": {},
   "outputs": [],
   "source": [
    "Φ_evolving, orbit_lmc = make_lmc_mw_pot(pot_frozen, lmc_gc,\n",
    "    Mlmc=20, \n",
    "    r_s=9,\n",
    "    σv= x->py2f(sigmafnc(x)), \n",
    "    vasiliev_units=false, \n",
    "    reflex_motion=true, \n",
    "    dynamical_friction=true\n",
    ")"
   ]
  },
  {
   "cell_type": "code",
   "execution_count": null,
   "id": "95",
   "metadata": {},
   "outputs": [],
   "source": [
    "extrema(calc_r(orbit_lmc.position))"
   ]
  },
  {
   "cell_type": "code",
   "execution_count": null,
   "id": "96",
   "metadata": {},
   "outputs": [],
   "source": [
    "plot_r_t([\n",
    "    \"lmc me\" => orbit_lmc,\n",
    "    \"agama\" => orbit_lmc_agama,\n",
    "\n",
    "        ])"
   ]
  },
  {
   "cell_type": "code",
   "execution_count": null,
   "id": "97",
   "metadata": {},
   "outputs": [],
   "source": [
    "plot_y_z([\n",
    "    \"lmc me\" => orbit_lmc,\n",
    "    \"lmc vasiliev+21\" => orbit_lmc_agama,\n",
    "\n",
    "        ])"
   ]
  },
  {
   "cell_type": "markdown",
   "id": "98",
   "metadata": {},
   "source": [
    "almost exactly matches agama code. Slight differences are likely due to how agama internally grids data and that we use a different unit system than in the notebook. "
   ]
  },
  {
   "cell_type": "markdown",
   "id": "99",
   "metadata": {
    "jp-MarkdownHeadingCollapsed": true
   },
   "source": [
    "### Bound mass"
   ]
  },
  {
   "cell_type": "code",
   "execution_count": null,
   "id": "100",
   "metadata": {},
   "outputs": [],
   "source": [
    "boundmass = OrderedDict(\n",
    "    \"L2M10\" => load_bound_mass(\"L2M10\"),\n",
    "    \"L2M11\" => load_bound_mass(\"L2M11\"),\n",
    "    \"L3M10\" => load_bound_mass(\"L3M10\"),\n",
    "    \"L3M11\" => load_bound_mass(\"L3M11\"),\n",
    "    );"
   ]
  },
  {
   "cell_type": "code",
   "execution_count": null,
   "id": "101",
   "metadata": {},
   "outputs": [],
   "source": [
    "fig = Figure()\n",
    "ax = Axis(fig[1,1],\n",
    "    xlabel = \"time / Gyr\",\n",
    "    ylabel = L\"LMC bound mass / $10^{10}\\,$M$_\\odot$\"\n",
    ")\n",
    "\n",
    "for (label, df) in boundmass\n",
    "    plot!(df.time, df.mass, label = label)\n",
    "end\n",
    "\n",
    "axislegend()\n",
    "\n",
    "fig"
   ]
  },
  {
   "cell_type": "markdown",
   "id": "102",
   "metadata": {},
   "source": [
    "### L3M11"
   ]
  },
  {
   "cell_type": "code",
   "execution_count": null,
   "id": "103",
   "metadata": {},
   "outputs": [],
   "source": [
    "modelname = \"L3M11\""
   ]
  },
  {
   "cell_type": "code",
   "execution_count": null,
   "id": "104",
   "metadata": {},
   "outputs": [],
   "source": [
    "pot_halo = agama.Potential(ENV[\"DWARFS_ROOT\"] * \"/agama/potentials/vasiliev24/$modelname/potential_mw_halo.ini\")\n",
    "pot_frozen = agama.Potential(ENV[\"DWARFS_ROOT\"] * \"/agama/potentials/vasiliev24/$modelname/potential_mw_init.ini\")\n",
    "pot_evolving = agama.Potential(ENV[\"DWARFS_ROOT\"] * \"/agama/potentials/vasiliev24/$modelname/potential.ini\")\n"
   ]
  },
  {
   "cell_type": "code",
   "execution_count": null,
   "id": "105",
   "metadata": {},
   "outputs": [],
   "source": [
    "df = load_bound_mass(modelname)\n",
    "boundmass_f = LilGuys.lerp(df.time / T2GYR, df.mass)\n",
    "\n",
    "orbit_lmc_act = load_lmc_traj(modelname)"
   ]
  },
  {
   "cell_type": "code",
   "execution_count": null,
   "id": "106",
   "metadata": {},
   "outputs": [],
   "source": [
    "sigmafnc = calc_σv_func(pot_halo)"
   ]
  },
  {
   "cell_type": "code",
   "execution_count": null,
   "id": "107",
   "metadata": {},
   "outputs": [],
   "source": [
    "default_params = Dict(\n",
    "    :Mlmc => x->30, \n",
    "    :r_s => 11.7,\n",
    "    :σv => x->py2f(sigmafnc(x)), \n",
    "    :vasiliev_units => true, \n",
    "    :reflex_motion => true, \n",
    "    :dynamical_friction => true,\n",
    "    :dt_max => 5\n",
    ")"
   ]
  },
  {
   "cell_type": "code",
   "execution_count": null,
   "id": "108",
   "metadata": {},
   "outputs": [],
   "source": [
    "potential_parameters = OrderedDict(\n",
    "    \"m15\" => Dict(\n",
    "        :Mlmc => x->15, \n",
    "    ),\n",
    "    \"m20\" => Dict(\n",
    "        :Mlmc => x->20, \n",
    "    ),\n",
    "    \"m20s\" =>  Dict( \n",
    "        :Mlmc => x->20, \n",
    "        :r_s => 11.7,\n",
    "        :reflex_motion=>false,\n",
    "        :dynamical_friction => false,\n",
    "    ),\n",
    "    \"m30\" => Dict(\n",
    "        :Mlmc => x->30, \n",
    "    ),\n",
    "    # \"m_evol\" => Dict(\n",
    "    #     :Mlmc => boundmass_f, \n",
    "    # ),\n",
    "    # \"tuned\" => Dict(\n",
    "    #     :Mlmc => x->15, \n",
    "    #     :dynamical_friction => 1.15,\n",
    "    # ),    \n",
    ")\n"
   ]
  },
  {
   "cell_type": "code",
   "execution_count": null,
   "id": "109",
   "metadata": {},
   "outputs": [],
   "source": [
    "# Φ_evolving_tuned, orbit_lmc_tuned  = make_lmc_mw_pot(pot_frozen, lmc_gc,\n",
    "#     Mlmc=x->15, \n",
    "#     r_s=11.7,\n",
    "#     σv= x->py2f(sigmafnc(x)), \n",
    "#     vasiliev_units=true, \n",
    "#     reflex_motion=true, \n",
    "#     dynamical_friction=1.15,\n",
    "#     dt_max=5,\n",
    "# )"
   ]
  },
  {
   "cell_type": "code",
   "execution_count": null,
   "id": "110",
   "metadata": {},
   "outputs": [],
   "source": [
    "Φs = OrderedDict()\n",
    "orbits_lmc = OrderedDict()\n",
    "\n",
    "for (label, params) in potential_parameters\n",
    "    println(\"calculating $label\")\n",
    "    kwargs = merge(default_params, params)\n",
    "    Φ, orbit = make_lmc_mw_pot(pot_frozen, lmc_gc; kwargs...)\n",
    "    Φs[label] = Φ\n",
    "    orbits_lmc[label] = orbit\n",
    "\n",
    "end"
   ]
  },
  {
   "cell_type": "code",
   "execution_count": null,
   "id": "111",
   "metadata": {},
   "outputs": [],
   "source": [
    "mw_acc = OrderedDict()\n",
    "\n",
    "for label in keys(potential_parameters)\n",
    "    acc = get_acc(Φs[label], orbits_lmc[label].time .* T2GYR / V_T2GYR)\n",
    "    if (:reflex_motion ∈ keys(potential_parameters[label]) ) && !potential_parameters[label][:reflex_motion]\n",
    "       acc .*= 0\n",
    "    end\n",
    "    mw_acc[label] = acc\n",
    "end"
   ]
  },
  {
   "cell_type": "code",
   "execution_count": null,
   "id": "112",
   "metadata": {},
   "outputs": [],
   "source": [
    "lmc_traj = CSV.read(\"/arc7/home/dboyea/dwarfs/agama/potentials/vasiliev24/scripts/L3M11_orbit.csv\", DataFrame)\n",
    "t, acc = load_accel(modelname)\n",
    "\n",
    "orbits_lmc[\"vasiliev24\"] = orbit_lmc_act\n",
    "mw_acc[\"vasiliev24\"] = acc\n",
    "Φs[\"vasiliev24\"] = pot_evolving"
   ]
  },
  {
   "cell_type": "code",
   "execution_count": null,
   "id": "113",
   "metadata": {},
   "outputs": [],
   "source": [
    "plot_y_z(orbits_lmc)"
   ]
  },
  {
   "cell_type": "code",
   "execution_count": null,
   "id": "114",
   "metadata": {},
   "outputs": [],
   "source": [
    "plot_r_t(orbits_lmc)"
   ]
  },
  {
   "cell_type": "code",
   "execution_count": null,
   "id": "115",
   "metadata": {},
   "outputs": [],
   "source": [
    "LilGuys.plot_xyz(collect(values(mw_acc))..., labels = collect(keys(mw_acc)), units=\" / kpc T0^-2\")"
   ]
  },
  {
   "cell_type": "code",
   "execution_count": null,
   "id": "116",
   "metadata": {},
   "outputs": [],
   "source": [
    "orbits_scl = OrderedDict()\n",
    "\n",
    "for (key, Φ) in Φs\n",
    "    orbit = calc_orbit(gc_scl, Φ, time=-5, units=:vasiliev, N=10_001)\n",
    "    orbits_scl[key] = orbit\n",
    "end"
   ]
  },
  {
   "cell_type": "code",
   "execution_count": null,
   "id": "117",
   "metadata": {},
   "outputs": [],
   "source": [
    "plot_r_t(orbits_scl)"
   ]
  },
  {
   "cell_type": "code",
   "execution_count": null,
   "id": "118",
   "metadata": {},
   "outputs": [],
   "source": [
    "plot_y_z(orbits_scl)"
   ]
  },
  {
   "cell_type": "code",
   "execution_count": null,
   "id": "119",
   "metadata": {},
   "outputs": [],
   "source": [
    "orbits_lmc"
   ]
  },
  {
   "cell_type": "code",
   "execution_count": null,
   "id": "120",
   "metadata": {},
   "outputs": [],
   "source": [
    "fig = Figure()\n",
    "\n",
    "\n",
    "ax1 = Axis(fig[1,1], \n",
    "    ylabel = \"x Scl - x LMC\",\n",
    ")\n",
    "\n",
    "\n",
    "for (label, orbit) in orbits_scl\n",
    "    x = orbit.time\n",
    "    o_lmc = resample(orbits_lmc[label], x)\n",
    "    y = orbit.position[1, :] .- o_lmc.position[1, :]\n",
    "    lines!(x * T2GYR, y, label=label)\n",
    "end\n",
    "\n",
    "ax2 = Axis(fig[2,1],\n",
    "    ylabel = \"y Scl - y LMC\"\n",
    ")\n",
    "\n",
    "for (label, orbit) in orbits_scl\n",
    "    x = orbit.time\n",
    "    o_lmc = resample(orbits_lmc[label], x)\n",
    "    y = orbit.position[2, :] .- o_lmc.position[2, :]\n",
    "    lines!(x * T2GYR, y)\n",
    "end\n",
    "\n",
    "\n",
    "ax3 = Axis(fig[3,1],\n",
    "    ylabel = \"z Scl - z LMC\",\n",
    "    xlabel = \"time / Gyr\"\n",
    ")\n",
    "\n",
    "for (label, orbit) in orbits_scl\n",
    "    x = orbit.time\n",
    "    o_lmc = resample(orbits_lmc[label], x)\n",
    "    y = orbit.position[3, :] .- o_lmc.position[3, :]\n",
    "    lines!(x * T2GYR, y)\n",
    "end\n",
    "\n",
    "\n",
    "linkaxes!(ax1, ax2, ax3)\n",
    "xlims!(ax3, -2, 0)\n",
    "for ax in [ax1, ax2]\n",
    "    hidexdecorations!(ax, grid=false, ticks=false)\n",
    "end\n",
    "\n",
    "Legend(fig[1,2], ax1)\n",
    "fig"
   ]
  },
  {
   "cell_type": "code",
   "execution_count": null,
   "id": "121",
   "metadata": {},
   "outputs": [],
   "source": [
    "fig = Figure()\n",
    "\n",
    "\n",
    "ax1 = Axis(fig[1,1],\n",
    "    limits=(-5, 0, 0, 220),\n",
    "    xlabel = \"time / Gyr\",\n",
    "    ylabel = \"Scl—LMC distance\"\n",
    ")\n",
    "\n",
    "\n",
    "for (label, orbit) in orbits_scl\n",
    "    x = orbit.time\n",
    "    o_lmc = resample(orbits_lmc[label], x)\n",
    "    r = calc_r(orbit.position, o_lmc.position)\n",
    "    lines!(x * T2GYR, r, label=label)\n",
    "end\n",
    "\n",
    "\n",
    "axislegend(position=:lb)\n",
    "fig"
   ]
  },
  {
   "cell_type": "code",
   "execution_count": null,
   "id": "122",
   "metadata": {},
   "outputs": [],
   "source": [
    "fig = Figure()\n",
    "\n",
    "\n",
    "ax1 = Axis(fig[1,1],\n",
    "    xlabel = \"time / Gyr\",\n",
    "    ylabel = L\"Scl - LMC relative velocity / km\\,s$^{-1}$\"\n",
    ")\n",
    "\n",
    "\n",
    "for (label, orbit) in orbits_scl\n",
    "    x = orbit.time\n",
    "    o_lmc = resample(orbits_lmc[label], x)\n",
    "    r = calc_r(orbit.velocity, o_lmc.velocity)\n",
    "    lines!(x * T2GYR, r * V2KMS, label=label)\n",
    "end\n",
    "\n",
    "axislegend(position=:lt)\n",
    "\n",
    "\n",
    "fig"
   ]
  },
  {
   "cell_type": "code",
   "execution_count": null,
   "id": "123",
   "metadata": {},
   "outputs": [],
   "source": [
    "fig = Figure()\n",
    "\n",
    "\n",
    "ax1 = Axis(fig[1,1],\n",
    "    xlabel = \"time / Gyr\",\n",
    "    ylabel = L\"Scl - MW relative velocity / km\\,s$^{-1}$\"\n",
    ")\n",
    "\n",
    "\n",
    "for (label, orbit) in orbits_scl\n",
    "    x = orbit.time\n",
    "    o_lmc = resample(orbits_lmc[label], x)\n",
    "    r = calc_r(orbit.velocity)\n",
    "    lines!(x * T2GYR, r * V2KMS, label=label)\n",
    "end\n",
    "\n",
    "axislegend(position=:lt)\n",
    "\n",
    "\n",
    "fig"
   ]
  },
  {
   "cell_type": "code",
   "execution_count": null,
   "id": "124",
   "metadata": {},
   "outputs": [],
   "source": [
    "fig = Figure()\n",
    "\n",
    "\n",
    "ax1 = Axis(fig[1,1],\n",
    "    xlabel = \"time / Gyr\",\n",
    "    ylabel = L\"tidal stress ? ($-\\textrm{trace}(\\textbf{H} Φ)$)\",\n",
    "    limits=(-2, 0, nothing, nothing),\n",
    ")\n",
    "\n",
    "\n",
    "for (label, orbit) in orbits_scl\n",
    "    pot = Φs[label]\n",
    "    pos = orbit.position[:, 1:10:end]\n",
    "    t = orbit.time[1:10:end] * T2GYR / V_T2GYR\n",
    "    \n",
    "    df = get_∇acc(pot, t, pos)\n",
    "\n",
    "    ax, ay, az, axy, ayz, azx = eachrow(df)\n",
    "    da_tot = @. ax^2 + ay^2 + az^2 #+ 2ax^2 + 2ay^2 + 2az^2\n",
    "    da_tot = @. -(ax + ay + az)\n",
    "    lines!(t * V_T2GYR, da_tot, label=label)\n",
    "    \n",
    "end\n",
    "\n",
    "axislegend(position=:lt)\n",
    "\n",
    "\n",
    "fig"
   ]
  },
  {
   "cell_type": "code",
   "execution_count": null,
   "id": "125",
   "metadata": {},
   "outputs": [],
   "source": [
    "fig = Figure(size=(800, 600))\n",
    "\n",
    "\n",
    "ax1 = Axis(fig[1,1],\n",
    "    ylabel=L\"\\partial_x^2 \\Phi\",\n",
    ")\n",
    "ax2 = Axis(fig[2,1],\n",
    "    ylabel=L\"\\partial_y^2 \\Phi\"\n",
    ")\n",
    "ax3 = Axis(fig[3,1],\n",
    "    ylabel=L\"\\partial_z^2 \\Phi\",\n",
    "    xlabel = \"time / Gyr\"\n",
    ")\n",
    "ax4 = Axis(fig[1,2],\n",
    "    ylabel=L\"\\partial_x\\partial_y \\Phi\"\n",
    ")\n",
    "ax5 = Axis(fig[2,2],\n",
    "    ylabel=L\"\\partial_y\\partial_z \\Phi\"\n",
    ")\n",
    "ax6 = Axis(fig[3,2],\n",
    "    ylabel=L\"\\partial_z\\partial_x \\Phi\",\n",
    "    xlabel = \"time / Gyr\"\n",
    ")\n",
    "\n",
    "\n",
    "for (label, orbit) in orbits_scl\n",
    "    \n",
    "    pot = Φs[label]\n",
    "    pos = orbit.position[:, 1:10:end]\n",
    "    t = orbit.time[1:10:end] * T2GYR / V_T2GYR\n",
    "    filt = t .> -1\n",
    "\n",
    "    println(sum(filt))\n",
    "    t = t[filt]\n",
    "    pos = pos[:, filt]\n",
    "    println(pot)\n",
    "    df = get_∇acc(pot, t, pos)\n",
    "\n",
    "    ax, ay, az, axy, ayz, azx = eachrow(df)\n",
    "\n",
    "    if label == \"m20s\" \n",
    "        plot_kwargs = (; linestyle=:dot)\n",
    "    else\n",
    "        plot_kwargs = (;)\n",
    "    end\n",
    "    \n",
    "    lines!(ax1, t, ax, label=label; plot_kwargs...)\n",
    "    lines!(ax2, t, ay; plot_kwargs...)\n",
    "    lines!(ax3, t, az; plot_kwargs...)\n",
    "    \n",
    "    lines!(ax4, t, axy; plot_kwargs...)\n",
    "    lines!(ax5, t, ayz; plot_kwargs...)\n",
    "    lines!(ax6, t, azx; plot_kwargs...)\n",
    "end\n",
    "\n",
    "linkxaxes!(ax1, ax2, ax3, ax4, ax5, ax6)\n",
    "hidexdecorations!(ax1, grid=false, ticks=false)\n",
    "hidexdecorations!(ax2, grid=false, ticks=false)\n",
    "hidexdecorations!(ax4, grid=false, ticks=false)\n",
    "hidexdecorations!(ax5, grid=false, ticks=false)\n",
    "\n",
    "Legend(fig[2, 3], ax1)\n",
    "\n",
    "\n",
    "fig"
   ]
  },
  {
   "cell_type": "markdown",
   "id": "126",
   "metadata": {
    "jp-MarkdownHeadingCollapsed": true
   },
   "source": [
    "### L2M10"
   ]
  },
  {
   "cell_type": "code",
   "execution_count": null,
   "id": "127",
   "metadata": {},
   "outputs": [],
   "source": [
    "modelname = \"L2M10\""
   ]
  },
  {
   "cell_type": "code",
   "execution_count": null,
   "id": "128",
   "metadata": {},
   "outputs": [],
   "source": [
    "pot_frozen = agama.Potential(ENV[\"DWARFS_ROOT\"] * \"/agama/potentials/vasiliev24/$modelname/potential_mw_init.ini\")"
   ]
  },
  {
   "cell_type": "code",
   "execution_count": null,
   "id": "129",
   "metadata": {},
   "outputs": [],
   "source": [
    "orbit_lmc_act = load_lmc_traj(modelname)"
   ]
  },
  {
   "cell_type": "code",
   "execution_count": null,
   "id": "130",
   "metadata": {},
   "outputs": [],
   "source": [
    "gridr = numpy.logspace(1, 3, 16)\n",
    "\n",
    "df = agama.GalaxyModel(pot_frozen, agama.DistributionFunction(type=\"quasispherical\", potential=pot_frozen))\n",
    "sigmas = py2mat(df.moments(numpy.column_stack((gridr, gridr*0, gridr*0)), dens=false, vel=false))[1, :] .^ 0.5\n",
    "\n",
    "sigmafnc = agama.Spline(gridr, sigmas)"
   ]
  },
  {
   "cell_type": "code",
   "execution_count": null,
   "id": "131",
   "metadata": {},
   "outputs": [],
   "source": [
    "df = load_bound_mass(modelname)\n",
    "boundmass_L2M10 = LilGuys.lerp(df.time, df.mass)"
   ]
  },
  {
   "cell_type": "code",
   "execution_count": null,
   "id": "132",
   "metadata": {},
   "outputs": [],
   "source": [
    "Φ_evolving, orbit_lmc = make_lmc_mw_pot(pot_frozen, lmc_gc,\n",
    "    Mlmc=x->20, \n",
    "    r_s=9,\n",
    "    σv= x->py2f(sigmafnc(x)), \n",
    "    vasiliev_units=true, \n",
    "    reflex_motion=true, \n",
    "    dynamical_friction=true,\n",
    "    dt_max=10\n",
    ")"
   ]
  },
  {
   "cell_type": "code",
   "execution_count": null,
   "id": "133",
   "metadata": {},
   "outputs": [],
   "source": [
    "Φ_evolving_massevolv, orbit_lmc_massevolv = make_lmc_mw_pot(pot_frozen, lmc_gc,\n",
    "    Mlmc=boundmass_L2M10, \n",
    "    r_s=9,\n",
    "    σv= x->py2f(sigmafnc(x)), \n",
    "    vasiliev_units=true, \n",
    "    reflex_motion=true, \n",
    "    dynamical_friction=1.3,\n",
    "    dt_max=5,\n",
    "\n",
    ")"
   ]
  },
  {
   "cell_type": "code",
   "execution_count": null,
   "id": "134",
   "metadata": {},
   "outputs": [],
   "source": [
    "Φ_evolving_tuned, orbit_lmc_tuned  = make_lmc_mw_pot(pot_frozen, lmc_gc,\n",
    "    Mlmc=x->13, \n",
    "    r_s=9,\n",
    "    σv= x->py2f(sigmafnc(x)), \n",
    "    vasiliev_units=true, \n",
    "    reflex_motion=true, \n",
    "    dynamical_friction=1.2,\n",
    "    dt_max=5,\n",
    ")"
   ]
  },
  {
   "cell_type": "code",
   "execution_count": null,
   "id": "135",
   "metadata": {},
   "outputs": [],
   "source": [
    "orbits = [\n",
    "    \"lmc me\" => orbit_lmc,\n",
    "    \"lmc tuned\" => orbit_lmc_tuned,\n",
    "    \"lmc + mass evol\" => orbit_lmc_massevolv,\n",
    "    \"vasiliev24\" => orbit_lmc_act,\n",
    "        ]"
   ]
  },
  {
   "cell_type": "code",
   "execution_count": null,
   "id": "136",
   "metadata": {},
   "outputs": [],
   "source": [
    "plot_r_t(orbits)"
   ]
  },
  {
   "cell_type": "code",
   "execution_count": null,
   "id": "137",
   "metadata": {},
   "outputs": [],
   "source": [
    "plot_y_z(orbits)"
   ]
  },
  {
   "cell_type": "code",
   "execution_count": null,
   "id": "138",
   "metadata": {},
   "outputs": [],
   "source": [
    "time, acc = load_accel(modelname)"
   ]
  },
  {
   "cell_type": "code",
   "execution_count": null,
   "id": "139",
   "metadata": {},
   "outputs": [],
   "source": [
    "boundmass_L2M10(0)"
   ]
  },
  {
   "cell_type": "code",
   "execution_count": null,
   "id": "140",
   "metadata": {},
   "outputs": [],
   "source": [
    "acc_tuned = get_acc(Φ_evolving_tuned, time)\n",
    "acc_massevolv = get_acc(Φ_evolving_massevolv, time)\n",
    "acc_first = get_acc(Φ_evolving, time)\n"
   ]
  },
  {
   "cell_type": "code",
   "execution_count": null,
   "id": "141",
   "metadata": {},
   "outputs": [],
   "source": [
    "LP.plot_xyz(acc_first, acc_tuned, acc_massevolv, acc, labels = [\"me\", \"tuned\", \"mass evolv\", \"act\"])"
   ]
  },
  {
   "cell_type": "code",
   "execution_count": null,
   "id": "142",
   "metadata": {},
   "outputs": [],
   "source": [
    "accs = [\n",
    "    \"me\" => acc_first, \n",
    "    \"tuned\" => acc_tuned,\n",
    "    \"mass evolv\" => acc_massevolv, \n",
    "    \"act\" => acc\n",
    "    ]"
   ]
  },
  {
   "cell_type": "code",
   "execution_count": null,
   "id": "143",
   "metadata": {},
   "outputs": [],
   "source": [
    "fig = Figure()\n",
    "ax = Axis(fig[1,1], xlabel = \"time\", ylabel = \"MW acceleration\")\n",
    "\n",
    "for (label, a) in accs\n",
    "    lines!(time * V_T2GYR, calc_r(a), label=label)\n",
    "\n",
    "end\n",
    "axislegend(position=:lt)\n",
    "fig"
   ]
  },
  {
   "cell_type": "code",
   "execution_count": null,
   "id": "144",
   "metadata": {},
   "outputs": [],
   "source": [
    "orbit_scl_tuned = calc_orbit(gc_scl, Φ_evolving_tuned, time=-10, units=:vasiliev, N=10_001)"
   ]
  },
  {
   "cell_type": "code",
   "execution_count": null,
   "id": "145",
   "metadata": {},
   "outputs": [],
   "source": [
    "orbit_scl = calc_orbit(gc_scl, Φ_evolving, time=-10, units=:vasiliev)"
   ]
  },
  {
   "cell_type": "code",
   "execution_count": null,
   "id": "146",
   "metadata": {},
   "outputs": [],
   "source": [
    "orbit_scl_massevolv = calc_orbit(gc_scl, Φ_evolving_massevolv, time=-10, units=:vasiliev)"
   ]
  },
  {
   "cell_type": "code",
   "execution_count": null,
   "id": "147",
   "metadata": {},
   "outputs": [],
   "source": [
    "orbit_scl_act = calc_orbit(gc_scl, pot_evolving, time=-10, units=:vasiliev, N=10001)"
   ]
  },
  {
   "cell_type": "code",
   "execution_count": null,
   "id": "148",
   "metadata": {},
   "outputs": [],
   "source": [
    "orbits = [\n",
    "    \"lmc \" => orbit_scl,\n",
    "    \"lmc tuned\" => orbit_scl_tuned,\n",
    "    \"lmc + mass evol\" => orbit_scl_massevolv,\n",
    "    \"vasiliev24\" => orbit_scl_act,\n",
    "        ]"
   ]
  },
  {
   "cell_type": "code",
   "execution_count": null,
   "id": "149",
   "metadata": {},
   "outputs": [],
   "source": [
    "plot_r_t(orbits)"
   ]
  },
  {
   "cell_type": "code",
   "execution_count": null,
   "id": "150",
   "metadata": {},
   "outputs": [],
   "source": [
    "plot_y_z(orbits)"
   ]
  },
  {
   "cell_type": "markdown",
   "id": "151",
   "metadata": {
    "jp-MarkdownHeadingCollapsed": true
   },
   "source": [
    "### L2M11"
   ]
  },
  {
   "cell_type": "code",
   "execution_count": null,
   "id": "152",
   "metadata": {},
   "outputs": [],
   "source": [
    "modelname = \"L2M11\""
   ]
  },
  {
   "cell_type": "code",
   "execution_count": null,
   "id": "153",
   "metadata": {},
   "outputs": [],
   "source": [
    "pot_frozen = agama.Potential(ENV[\"DWARFS_ROOT\"] * \"/agama/potentials/vasiliev24/$modelname/potential_mw_init.ini\")"
   ]
  },
  {
   "cell_type": "code",
   "execution_count": null,
   "id": "154",
   "metadata": {},
   "outputs": [],
   "source": [
    "orbit_lmc_act = load_lmc_traj(modelname)"
   ]
  },
  {
   "cell_type": "code",
   "execution_count": null,
   "id": "155",
   "metadata": {},
   "outputs": [],
   "source": [
    "gridr = numpy.logspace(1, 3, 16)\n",
    "\n",
    "df = agama.GalaxyModel(pot_frozen, agama.DistributionFunction(type=\"quasispherical\", potential=pot_frozen))\n",
    "sigmas = py2mat(df.moments(numpy.column_stack((gridr, gridr*0, gridr*0)), dens=false, vel=false))[1, :] .^ 0.5\n",
    "\n",
    "sigmafnc = agama.Spline(gridr, sigmas)"
   ]
  },
  {
   "cell_type": "code",
   "execution_count": null,
   "id": "156",
   "metadata": {},
   "outputs": [],
   "source": [
    "Φ_evolving, orbit_lmc = make_lmc_mw_pot(pot_frozen, lmc_gc,\n",
    "    Mlmc=20, \n",
    "    r_s=9,\n",
    "    σv= x->py2f(sigmafnc(x)), \n",
    "    vasiliev_units=true, \n",
    "    reflex_motion=true, \n",
    "    dynamical_friction=true,\n",
    ")"
   ]
  },
  {
   "cell_type": "code",
   "execution_count": null,
   "id": "157",
   "metadata": {},
   "outputs": [],
   "source": [
    "plot_r_t([\n",
    "    \"lmc me\" => orbit_lmc,\n",
    "    \"vasiliev24\" => orbit_lmc_act,\n",
    "\n",
    "        ])"
   ]
  },
  {
   "cell_type": "code",
   "execution_count": null,
   "id": "158",
   "metadata": {},
   "outputs": [],
   "source": [
    "plot_y_z([\n",
    "    \"lmc me\" => orbit_lmc,\n",
    "    \"vasiliev24\" => orbit_lmc_act,\n",
    "\n",
    "        ])"
   ]
  },
  {
   "cell_type": "markdown",
   "id": "159",
   "metadata": {
    "jp-MarkdownHeadingCollapsed": true
   },
   "source": [
    "### L3M10"
   ]
  },
  {
   "cell_type": "code",
   "execution_count": null,
   "id": "160",
   "metadata": {},
   "outputs": [],
   "source": [
    "modelname = \"L3M10\""
   ]
  },
  {
   "cell_type": "code",
   "execution_count": null,
   "id": "161",
   "metadata": {},
   "outputs": [],
   "source": [
    "pot_frozen = agama.Potential(ENV[\"DWARFS_ROOT\"] * \"/agama/potentials/vasiliev24/$modelname/potential_mw_init.ini\")"
   ]
  },
  {
   "cell_type": "code",
   "execution_count": null,
   "id": "162",
   "metadata": {},
   "outputs": [],
   "source": [
    "orbit_lmc_act = load_lmc_traj(modelname)"
   ]
  },
  {
   "cell_type": "code",
   "execution_count": null,
   "id": "163",
   "metadata": {},
   "outputs": [],
   "source": [
    "gridr = numpy.logspace(1, 3, 16)\n",
    "\n",
    "df = agama.GalaxyModel(pot_frozen, agama.DistributionFunction(type=\"quasispherical\", potential=pot_frozen))\n",
    "sigmas = py2mat(df.moments(numpy.column_stack((gridr, gridr*0, gridr*0)), dens=false, vel=false))[1, :] .^ 0.5\n",
    "\n",
    "sigmafnc = agama.Spline(gridr, sigmas)"
   ]
  },
  {
   "cell_type": "code",
   "execution_count": null,
   "id": "164",
   "metadata": {},
   "outputs": [],
   "source": [
    "Φ_evolving, orbit_lmc = make_lmc_mw_pot(pot_frozen, lmc_gc,\n",
    "    Mlmc=30, \n",
    "    r_s=11.7,\n",
    "    σv= x->py2f(sigmafnc(x)), \n",
    "    vasiliev_units=true, \n",
    "    reflex_motion=true, \n",
    "    dynamical_friction=true,\n",
    ")"
   ]
  },
  {
   "cell_type": "code",
   "execution_count": null,
   "id": "165",
   "metadata": {},
   "outputs": [],
   "source": [
    "plot_r_t([\n",
    "    \"lmc me\" => orbit_lmc,\n",
    "    \"vasiliev24\" => orbit_lmc_act,\n",
    "\n",
    "        ])"
   ]
  },
  {
   "cell_type": "code",
   "execution_count": null,
   "id": "166",
   "metadata": {},
   "outputs": [],
   "source": [
    "plot_y_z([\n",
    "    \"lmc me\" => orbit_lmc,\n",
    "    \"vasiliev24\" => orbit_lmc_act,\n",
    "\n",
    "        ])"
   ]
  },
  {
   "cell_type": "markdown",
   "id": "167",
   "metadata": {
    "jp-MarkdownHeadingCollapsed": true
   },
   "source": [
    "## Visualizing models"
   ]
  },
  {
   "cell_type": "code",
   "execution_count": null,
   "id": "168",
   "metadata": {},
   "outputs": [],
   "source": [
    "log_r = LinRange(-1, 3, 100)\n",
    "a = [1,0, 0]\n",
    "\n",
    "\n",
    "fig = Figure()\n",
    "ax = Axis(fig[1,1],\n",
    "    xlabel = L\"$r$ / kpc\",\n",
    "    ylabel = L\"$\\langle \\rho_{DM} \\rangle$ / $10^{10}$\\,M$_\\odot$\\,kpc$^{-3}$\",\n",
    "    limits = (-1, 3, -12, 0),\n",
    ")\n",
    "\n",
    "sampled_points = LilGuys.rand_unit(100)\n",
    "\n",
    "for (i, t) in enumerate(times)\n",
    "    x0 = [0, 0, 0]\n",
    "    ρs = []\n",
    "    for a in eachcol(sampled_points)\n",
    "        xs = x0' .+ a' .* 10 .^ log_r\n",
    "        \n",
    "        ρ = vasiliev24_lmc.density(xs, t=t ./ V_T2GYR) |> py2vec\n",
    "        push!(ρs, ρ)\n",
    "    end\n",
    "\n",
    "    ρ = sum(ρs) ./ length(ρs)\n",
    "\n",
    "    ρ_err = [sqrt(sum(([x[j] for x in ρs] .- ρ[j]) .^ 2) ./ length(ρs)) for j in eachindex(ρs)]\n",
    "\n",
    "\n",
    "    if i == length(t)\n",
    "        println(\"std = \", ρ_err ./ ρ)\n",
    "        \n",
    "    end\n",
    "\n",
    "    \n",
    "    ρ .*= V_M2MSUN / M2MSUN\n",
    "\n",
    "    lines!(log_r, nm.log10.(ρ), color=t, colorrange=extrema(times))\n",
    "end\n",
    "\n",
    "lines!(log_r, log10.(calc_ρ.(nfw_model, 10 .^ log_r)), linestyle=:dot, color=COLORS[3])\n",
    "text!(2.5, -7, text=\"NFW\", rotation=-π/4, color=COLORS[3])\n",
    "\n",
    "Colorbar(fig[1,2], colorrange=extrema(times), label=\"time / Gyr\")\n",
    "\n",
    "save(\"$figdir/L3M11_rho_lmc.pdf\", fig)\n",
    "fig"
   ]
  },
  {
   "cell_type": "markdown",
   "id": "169",
   "metadata": {
    "jp-MarkdownHeadingCollapsed": true
   },
   "source": [
    "##  EP2021"
   ]
  },
  {
   "cell_type": "code",
   "execution_count": null,
   "id": "170",
   "metadata": {},
   "outputs": [],
   "source": [
    "V_T2GYR"
   ]
  },
  {
   "cell_type": "code",
   "execution_count": null,
   "id": "171",
   "metadata": {},
   "outputs": [],
   "source": [
    "ep20 = load_agama_potential(\"EP2020.ini\")\n",
    "galpy14 = load_agama_potential(\"galpy_2014.ini\") "
   ]
  },
  {
   "cell_type": "code",
   "execution_count": null,
   "id": "172",
   "metadata": {},
   "outputs": [],
   "source": [
    "pot = ep20"
   ]
  },
  {
   "cell_type": "code",
   "execution_count": null,
   "id": "173",
   "metadata": {},
   "outputs": [],
   "source": [
    "σv = calc_σv_interp(pot)"
   ]
  },
  {
   "cell_type": "code",
   "execution_count": null,
   "id": "174",
   "metadata": {},
   "outputs": [],
   "source": [
    "lines(log10.(σv.x), σv.y * V2KMS)"
   ]
  },
  {
   "cell_type": "code",
   "execution_count": null,
   "id": "175",
   "metadata": {},
   "outputs": [],
   "source": [
    "orbit_nofric = calc_orbit(gc, pot, time=-10/T2GYR)"
   ]
  },
  {
   "cell_type": "code",
   "execution_count": null,
   "id": "176",
   "metadata": {},
   "outputs": [],
   "source": [
    "Mmw = pyconvert(Float64, pot.enclosedMass(300))"
   ]
  },
  {
   "cell_type": "code",
   "execution_count": null,
   "id": "177",
   "metadata": {},
   "outputs": [],
   "source": [
    "Mlmc = 10."
   ]
  },
  {
   "cell_type": "code",
   "execution_count": null,
   "id": "178",
   "metadata": {},
   "outputs": [],
   "source": [
    "f_fric(pos, vel) = a_dyn_friction(pos, vel, r_s=10, σv=σv, ρ=x->pyconvert(Float64, pot.density(x)), M=Mlmc)"
   ]
  },
  {
   "cell_type": "code",
   "execution_count": null,
   "id": "179",
   "metadata": {},
   "outputs": [],
   "source": [
    "use_noninacc = 1"
   ]
  },
  {
   "cell_type": "code",
   "execution_count": null,
   "id": "180",
   "metadata": {},
   "outputs": [],
   "source": [
    "f_grav(pos, vel) = (1 + use_noninacc * Mlmc/Mmw) * pyconvert(Vector{Float64}, pot.force(pos)) "
   ]
  },
  {
   "cell_type": "code",
   "execution_count": null,
   "id": "181",
   "metadata": {},
   "outputs": [],
   "source": [
    "f_acc(pos, vel) =  f_grav(pos, vel) .+ f_fric(pos, vel)"
   ]
  },
  {
   "cell_type": "code",
   "execution_count": null,
   "id": "182",
   "metadata": {},
   "outputs": [],
   "source": [
    "orbit_2 = leap_frog(gc, f_acc, dt_max=1)"
   ]
  },
  {
   "cell_type": "code",
   "execution_count": null,
   "id": "183",
   "metadata": {},
   "outputs": [],
   "source": [
    "fig, ax, _ = plot_r_t(orbit_nofric)\n",
    "plot_r_t!(ax, orbit_2)\n",
    "\n",
    "fig"
   ]
  },
  {
   "cell_type": "code",
   "execution_count": null,
   "id": "184",
   "metadata": {},
   "outputs": [],
   "source": [
    "fig, ax, p = plot_y_z(orbit_nofric)\n",
    "lines!(orbit_2.position[2, :], orbit_2.position[3, :])\n",
    "\n",
    "fig\n"
   ]
  },
  {
   "cell_type": "markdown",
   "id": "185",
   "metadata": {},
   "source": [
    "# MC with LMC"
   ]
  },
  {
   "cell_type": "code",
   "execution_count": null,
   "id": "186",
   "metadata": {},
   "outputs": [],
   "source": [
    "obs_props_filename = ENV[\"DWARFS_ROOT\"] * \"/observations/sculptor/observed_properties.toml\"\n",
    "icrs = LilGuys.coord_from_file(obs_props_filename)\n",
    "icrs_err = LilGuys.coord_err_from_file(obs_props_filename)\n",
    "gc_scl = LilGuys.transform(Galactocentric, icrs)"
   ]
  },
  {
   "cell_type": "code",
   "execution_count": null,
   "id": "187",
   "metadata": {},
   "outputs": [],
   "source": [
    "modelname = \"L3M11\""
   ]
  },
  {
   "cell_type": "code",
   "execution_count": null,
   "id": "188",
   "metadata": {},
   "outputs": [],
   "source": [
    "pot_halo = agama.Potential(ENV[\"DWARFS_ROOT\"] * \"/agama/potentials/vasiliev24/$modelname/potential_mw_halo.ini\")\n",
    "pot_frozen = agama.Potential(ENV[\"DWARFS_ROOT\"] * \"/agama/potentials/vasiliev24/$modelname/potential_mw_init.ini\")\n",
    "pot_evolving = agama.Potential(ENV[\"DWARFS_ROOT\"] * \"/agama/potentials/vasiliev24/$modelname/potential.ini\")\n"
   ]
  },
  {
   "cell_type": "code",
   "execution_count": null,
   "id": "189",
   "metadata": {},
   "outputs": [],
   "source": [
    "icrs_err"
   ]
  },
  {
   "cell_type": "code",
   "execution_count": null,
   "id": "190",
   "metadata": {},
   "outputs": [],
   "source": [
    "function scl_lmc_sample_and_orbit(Φ, scl, scl_err, lmc, lmc_err; Mlmc=20, N=1000, Mlmc_err=0.2, a_fric=1.1, a_fric_err=0.2, kwargs...)\n",
    "    sigmafnc = calc_σv_func(pot_halo)\n",
    "    \n",
    "    icrs_samples = LilGuys.rand_coords(lmc, lmc_err, N)\n",
    "    gc_samples = LilGuys.transform.(Galactocentric, icrs_samples)\n",
    "    icrs_scl_samples = LilGuys.rand_coords(scl, scl_err, N);\n",
    "    gc_scl_samples = LilGuys.transform.(Galactocentric, icrs_scl_samples);\n",
    "    Mlmcs = Mlmc * 10 .^ (Mlmc_err * randn(N))\n",
    "\n",
    "    icrs_df = LilGuys.to_frame(icrs_samples)\n",
    "    icrs_scl_df = LilGuys.to_frame(icrs_scl_samples)\n",
    "    a_fric_samples = a_fric .* 10 .^ (a_fric_err .* randn(N))\n",
    "\n",
    "\n",
    "    orbits = Orbit[]\n",
    "    orbits_scl = Orbit[]\n",
    "    Φs = []\n",
    "    \n",
    "    for i in 1:N\n",
    "        print(\"orbit $i\")\n",
    "        gc = gc_samples[i]\n",
    "        m = Mlmcs[i]\n",
    "        \n",
    "        Φ_new, orbit = make_lmc_mw_pot(pot_frozen, gc, \n",
    "            time=-1 / T2GYR, vasiliev_units=true, Mlmc=t->m,  σv=x->py2f(sigmafnc(x)), \n",
    "            r_s=11.7, reflex_motion=true, dynamical_friction=a_fric_samples[i], dt_max=5) \n",
    "        \n",
    "        push!(orbits, orbit)\n",
    "        push!(Φs, Φ_new)\n",
    "\n",
    "        \n",
    "        gc = gc_scl_samples[i]\n",
    "        orbit = calc_orbit(gc, Φs[i], time=orbits[i].time * T2GYR , units=:vasiliev);\n",
    "        push!(orbits_scl, orbit)\n",
    "    end\n",
    "\n",
    "    orbits_scl_lmc = [orbits_scl[i] - orbits[i] for i in eachindex(orbits)]\n",
    "\n",
    "\n",
    "    # properties\n",
    "    peri_lmc = Vector{Float64}(undef, N)\n",
    "    peris = Vector{Float64}(undef, N)\n",
    "    t_peri = Vector{Float64}(undef, N)\n",
    "    t_peri_lmc = Vector{Float64}(undef, N)\n",
    "    \n",
    "    for i in 1:N\n",
    "        r = calc_r(orbits_scl[i].position)\n",
    "        idx = argmin(r)\n",
    "        t_peri[i] = orbits_scl[i].time[idx]\n",
    "        peris[i] = r[idx]\n",
    "    \n",
    "        r = calc_r(orbits_scl_lmc[i].position)\n",
    "        idx = argmin(r)\n",
    "        t_peri_lmc[i] = orbits_scl_lmc[i].time[idx]\n",
    "        peri_lmc[i] = r[idx]\n",
    "    end\n",
    "\n",
    "    # df all\n",
    "    df_all = copy(icrs_scl_df)\n",
    "    for symbol in names(df_all)\n",
    "        df_all[:, \"$(symbol)_lmc\"] = icrs_df[:, symbol]\n",
    "    end\n",
    "    \n",
    "    df_all[:, \"t_peri\"] = t_peri * T2GYR\n",
    "    df_all[:, \"t_peri_lmc\"] = t_peri_lmc * T2GYR\n",
    "    df_all[:, \"peri\"] = peris\n",
    "    df_all[:, \"peri_lmc\"] = peri_lmc\n",
    "    df_all[:, \"Mlmc\"] = Mlmcs\n",
    "    df_all[:, \"a_fric\"] = a_fric_samples\n",
    "        \n",
    "    return orbits, orbits_scl, orbits_scl_lmc, Φs, df_all\n",
    "end"
   ]
  },
  {
   "cell_type": "code",
   "execution_count": null,
   "id": "191",
   "metadata": {},
   "outputs": [],
   "source": [
    "orbits, orbits_scl, orbits_scl_lmc, Φs, df_all = scl_lmc_sample_and_orbit(pot_frozen, icrs, icrs_err, icrs_lmc_me, icrs_lmc_me_err, N=1000)"
   ]
  },
  {
   "cell_type": "code",
   "execution_count": null,
   "id": "192",
   "metadata": {},
   "outputs": [],
   "source": [
    "function plot_orbits(orbits, Nmax=length(orbits))\n",
    "    fig = plot_r_t([i=>o for (i, o) in enumerate(orbits[1:Nmax])], alpha=0.2, color=:black, legend=false)\n",
    "\n",
    "    display(fig)\n",
    "\n",
    "\n",
    "    fig = Figure()\n",
    "    ax = Axis(fig[1,1], \n",
    "    xlabel = \"y\", \n",
    "    ylabel = \"z\",\n",
    "    )\n",
    "\n",
    "    for orbit in orbits[1:Nmax]\n",
    "        lines!(orbit.position[2, :], orbit.position[3, :], color=:black, alpha=0.2)\n",
    "    end\n",
    "\n",
    "    fig\n",
    "\n",
    "end\n",
    "    "
   ]
  },
  {
   "cell_type": "code",
   "execution_count": null,
   "id": "193",
   "metadata": {},
   "outputs": [],
   "source": [
    "plot_orbits(orbits, 100)"
   ]
  },
  {
   "cell_type": "code",
   "execution_count": null,
   "id": "194",
   "metadata": {},
   "outputs": [],
   "source": [
    "plot_orbits(orbits_scl, 100)"
   ]
  },
  {
   "cell_type": "code",
   "execution_count": null,
   "id": "195",
   "metadata": {},
   "outputs": [],
   "source": [
    "plot_orbits(orbits_scl_lmc, 100)"
   ]
  },
  {
   "cell_type": "code",
   "execution_count": null,
   "id": "196",
   "metadata": {},
   "outputs": [],
   "source": [
    "plot_labels = OrderedDict(\n",
    "    :ra => \"RA  / degrees\",\n",
    "    :dec => \"Dec / degrees\",\n",
    "    :pmra => L\"$\\mu_{\\alpha *}$ / mas\\,yr$^{-1}$\",\n",
    "    :pmdec => L\"$\\mu_{\\delta}$ / mas\\,yr$^{-1}$\",\n",
    "    :radial_velocity => L\"$v_\\textrm{los}$ / km\\,s$^{-1}$\",\n",
    "    :distance => \"distance / kpc\",\n",
    "    :ra_lmc => \"RA LMC / degrees\",\n",
    "    :dec_lmc => \"Dec LMC / degrees\",\n",
    "    :pmra_lmc => L\"$\\mu_{\\alpha *, lmc}$ / mas\\,yr$^{-1}$\",\n",
    "    :pmdec_lmc => L\"$\\mu_{\\delta, lmc}$ / mas\\,yr$^{-1}$\",\n",
    "    :radial_velocity_lmc => L\"$v_\\textrm{los, lmc}$ / km\\,s$^{-1}$\",\n",
    "    :distance_lmc => \"distance lmc / kpc\",\n",
    "    :peri => \"MW pericentre / kpc\",\n",
    "    :t_peri => \"time of peri / Gyr\",\n",
    "    :peri_lmc => \"Scl—LMC pericentre / kpc\",\n",
    "    :t_peri_lmc => \"time of Scl-LMC peri / Gyr\",\n",
    "    :Mlmc => \"lmc Mass\",\n",
    "    :a_fric => \"dyn fric\"\n",
    "    )"
   ]
  },
  {
   "cell_type": "code",
   "execution_count": null,
   "id": "197",
   "metadata": {},
   "outputs": [],
   "source": [
    "function plot_hists(df_all)\n",
    "    \n",
    "    fig = Figure(size=(1000, 1000))\n",
    "\n",
    "    cols = collect(names(df_all))\n",
    "    for (i, col) in enumerate(cols)\n",
    "        ax = Axis(fig[(i-1) % 6 + 1, (i-1) ÷ 6 + 1], \n",
    "            xlabel = plot_labels[Symbol(col)],\n",
    "            ylabel = \"counts\"\n",
    "            )\n",
    "    \n",
    "        hist!(df_all[:, col])\n",
    "    end\n",
    "    \n",
    "    fig\n",
    "end"
   ]
  },
  {
   "cell_type": "code",
   "execution_count": null,
   "id": "198",
   "metadata": {},
   "outputs": [],
   "source": [
    "plot_hists(df_all)"
   ]
  },
  {
   "cell_type": "code",
   "execution_count": null,
   "id": "199",
   "metadata": {},
   "outputs": [],
   "source": [
    "function plot_scatters(df_all, y_col, ylabel)\n",
    "    fig = Figure(size=(1600, 1000))\n",
    "    plot_kwargs = (;\n",
    "        color=:black, alpha=0.1,markersize=5\n",
    "        )\n",
    "\n",
    "    cols = collect(names(df_all))\n",
    "\n",
    "    for (i, col) in enumerate(cols)\n",
    "        ax = Axis(fig[(i-1) ÷ 6 + 1, (i-1) % 6 + 1], \n",
    "            xlabel = plot_labels[Symbol(col)],\n",
    "            ylabel = ylabel\n",
    "            )\n",
    "    \n",
    "        scatter!(df_all[:, col], df_all[:, y_col]; plot_kwargs... )\n",
    "        LilGuys.hide_grid!(ax)\n",
    "    end\n",
    "    \n",
    "    fig\n",
    "end"
   ]
  },
  {
   "cell_type": "code",
   "execution_count": null,
   "id": "200",
   "metadata": {},
   "outputs": [],
   "source": [
    "function plot_all(df_all)\n",
    "\n",
    "        println(\"perilmc: \", LilGuys.quantile(df_all.peri_lmc, [0.001, 0.16, 0.5, 0.84, 0.999]))\n",
    "        println(\"peri: \", LilGuys.quantile(df_all.peri, [0.001, 0.16, 0.5, 0.84, 0.999]))\n",
    "    \n",
    "    plot_scatters(df_all, :peri, \"peri MW\") |> display\n",
    "    plot_scatters(df_all, :peri_lmc, \"peri lmc\") |> display\n",
    "    plot_scatters(df_all, :t_peri, \"t peri MW\") |> display\n",
    "    plot_scatters(df_all, :t_peri_lmc, \"t peri lmc\") |> display\n",
    "\n",
    "end"
   ]
  },
  {
   "cell_type": "code",
   "execution_count": null,
   "id": "201",
   "metadata": {},
   "outputs": [],
   "source": [
    "plot_all(df_all)"
   ]
  },
  {
   "cell_type": "markdown",
   "id": "202",
   "metadata": {},
   "source": [
    "### Looser errors"
   ]
  },
  {
   "cell_type": "code",
   "execution_count": null,
   "id": "203",
   "metadata": {},
   "outputs": [],
   "source": [
    "icrs_err.ra"
   ]
  },
  {
   "cell_type": "code",
   "execution_count": null,
   "id": "204",
   "metadata": {},
   "outputs": [],
   "source": [
    "icrs_lmc_me = ICRS(ra = 80.8,\n",
    "    dec = -69.8, \n",
    "    pmra = 1.910,\n",
    "    pmdec = 0.229,\n",
    "    radial_velocity = 262,\n",
    "    distance = 49.59\n",
    "    )\n",
    "\n",
    "err_scale = 3\n",
    "icrs_lmc_me_err = ICRS(\n",
    "    ra=err_scale * 0.3,\n",
    "    dec=err_scale * 0.3,\n",
    "    distance=err_scale * 0.54,\n",
    "    pmra=err_scale * 0.2,\n",
    "    pmdec=err_scale * 0.47,\n",
    "    radial_velocity=err_scale * 3,\n",
    "    )\n",
    "icrs_err = ICRS(\n",
    "    ra=err_scale * 0.01,\n",
    "    dec=err_scale * 0.01,\n",
    "    pmra=err_scale * 0.03,\n",
    "    pmdec=err_scale * 0.03,\n",
    "    radial_velocity=err_scale * 1,\n",
    "    distance=err_scale * 2\n",
    "    )\n"
   ]
  },
  {
   "cell_type": "code",
   "execution_count": null,
   "id": "205",
   "metadata": {},
   "outputs": [],
   "source": [
    "orbits, orbits_scl, orbits_scl_lmc, Φs, df_all = scl_lmc_sample_and_orbit(pot_frozen, icrs, icrs_err, icrs_lmc_me, icrs_lmc_me_err, N=1000)"
   ]
  },
  {
   "cell_type": "code",
   "execution_count": null,
   "id": "206",
   "metadata": {},
   "outputs": [],
   "source": [
    "plot_orbits(orbits, 100)"
   ]
  },
  {
   "cell_type": "code",
   "execution_count": null,
   "id": "207",
   "metadata": {},
   "outputs": [],
   "source": [
    "plot_orbits(orbits_scl, 100)"
   ]
  },
  {
   "cell_type": "code",
   "execution_count": null,
   "id": "208",
   "metadata": {},
   "outputs": [],
   "source": [
    "plot_orbits(orbits_scl_lmc, 100)"
   ]
  },
  {
   "cell_type": "code",
   "execution_count": null,
   "id": "209",
   "metadata": {},
   "outputs": [],
   "source": [
    "plot_hists(df_all)"
   ]
  },
  {
   "cell_type": "code",
   "execution_count": null,
   "id": "210",
   "metadata": {},
   "outputs": [],
   "source": [
    "x = df_all.Mlmc\n",
    "y = [minimum(calc_r(o.position)) for o in orbits]\n",
    "scatter(log10.(x), y, alpha=0.2, markersize=5)"
   ]
  },
  {
   "cell_type": "code",
   "execution_count": null,
   "id": "211",
   "metadata": {},
   "outputs": [],
   "source": [
    "plot_all(df_all)"
   ]
  },
  {
   "cell_type": "markdown",
   "id": "212",
   "metadata": {
    "jp-MarkdownHeadingCollapsed": true
   },
   "source": [
    "### Investigating close encounters"
   ]
  },
  {
   "cell_type": "code",
   "execution_count": null,
   "id": "213",
   "metadata": {},
   "outputs": [],
   "source": []
  },
  {
   "cell_type": "code",
   "execution_count": null,
   "id": "214",
   "metadata": {},
   "outputs": [],
   "source": [
    "icrs_lmc_me = ICRS(ra = 80.8,\n",
    "    dec = -69.8, \n",
    "    pmra = 1.910,\n",
    "    pmdec = -0.4,\n",
    "    radial_velocity = 262,\n",
    "    distance = 49.59\n",
    "    )\n",
    "\n",
    "err_scale = 1\n",
    "icrs_lmc_me_err = ICRS(\n",
    "    ra=err_scale * 0.3,\n",
    "    dec=err_scale * 0.3,\n",
    "    distance=err_scale * 0.54,\n",
    "    pmra=err_scale * 0.2,\n",
    "    pmdec=err_scale * 0.47,\n",
    "    radial_velocity=err_scale * 3,\n",
    "    )\n",
    "icrs_err = ICRS(\n",
    "    ra=err_scale * 0.01,\n",
    "    dec=err_scale * 0.01,\n",
    "    pmra=err_scale * 0.03,\n",
    "    pmdec=err_scale * 0.03,\n",
    "    radial_velocity=err_scale * 1,\n",
    "    distance=err_scale * 2\n",
    "    )\n"
   ]
  },
  {
   "cell_type": "code",
   "execution_count": null,
   "id": "215",
   "metadata": {},
   "outputs": [],
   "source": [
    "orbits, orbits_scl, orbits_scl_lmc, Φs, df_all = scl_lmc_sample_and_orbit(pot_frozen, icrs, icrs_err, icrs_lmc_me, icrs_lmc_me_err, N=1000)"
   ]
  },
  {
   "cell_type": "code",
   "execution_count": null,
   "id": "216",
   "metadata": {},
   "outputs": [],
   "source": [
    "plot_orbits(orbits, 100)"
   ]
  },
  {
   "cell_type": "code",
   "execution_count": null,
   "id": "217",
   "metadata": {},
   "outputs": [],
   "source": [
    "plot_orbits(orbits_scl, 100)"
   ]
  },
  {
   "cell_type": "code",
   "execution_count": null,
   "id": "218",
   "metadata": {},
   "outputs": [],
   "source": [
    "plot_orbits(orbits_scl_lmc, 100)"
   ]
  },
  {
   "cell_type": "code",
   "execution_count": null,
   "id": "219",
   "metadata": {},
   "outputs": [],
   "source": [
    "plot_hists(df_all)"
   ]
  },
  {
   "cell_type": "code",
   "execution_count": null,
   "id": "220",
   "metadata": {},
   "outputs": [],
   "source": [
    "x = df_all.Mlmc\n",
    "y = [minimum(calc_r(o.position)) for o in orbits]\n",
    "scatter(log10.(x), y, alpha=0.2, markersize=5)"
   ]
  },
  {
   "cell_type": "code",
   "execution_count": null,
   "id": "221",
   "metadata": {},
   "outputs": [],
   "source": [
    "plot_all(df_all[df_all.peri_lmc .< 20, :])"
   ]
  },
  {
   "cell_type": "code",
   "execution_count": null,
   "id": "222",
   "metadata": {},
   "outputs": [],
   "source": []
  }
 ],
 "metadata": {
  "kernelspec": {
   "display_name": "Julia 1.11.2",
   "language": "julia",
   "name": "julia-1.11"
  },
  "language_info": {
   "file_extension": ".jl",
   "mimetype": "application/julia",
   "name": "julia",
   "version": "1.11.2"
  }
 },
 "nbformat": 4,
 "nbformat_minor": 5
}
