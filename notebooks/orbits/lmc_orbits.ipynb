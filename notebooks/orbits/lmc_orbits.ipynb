{
 "cells": [
  {
   "cell_type": "markdown",
   "id": "0",
   "metadata": {},
   "source": [
    "This notebook explores a few different potential models of the Milky Way"
   ]
  },
  {
   "cell_type": "code",
   "execution_count": null,
   "id": "1",
   "metadata": {},
   "outputs": [],
   "source": [
    "using CairoMakie\n",
    "using Revise\n",
    "using LilGuys, Arya"
   ]
  },
  {
   "cell_type": "code",
   "execution_count": null,
   "id": "2",
   "metadata": {},
   "outputs": [],
   "source": [
    "using PythonCall\n",
    "agama = pyimport(\"agama\")"
   ]
  },
  {
   "cell_type": "code",
   "execution_count": null,
   "id": "3",
   "metadata": {},
   "outputs": [],
   "source": [
    "using Printf"
   ]
  },
  {
   "cell_type": "code",
   "execution_count": null,
   "id": "4",
   "metadata": {},
   "outputs": [],
   "source": [
    "include(\"agama_utils.jl\")"
   ]
  },
  {
   "cell_type": "code",
   "execution_count": null,
   "id": "5",
   "metadata": {},
   "outputs": [],
   "source": [
    "lmc_coord = ICRS(ra = 80.8,\n",
    "    dec = -69.8, \n",
    "    pmra = 1.910,\n",
    "    pmdec = 0.229,\n",
    "    radial_velocity = 262,\n",
    "    distance = 49.59\n",
    "    )\n",
    "\n",
    "lmc_coord_err = ICRS(\n",
    "    ra=0.3,\n",
    "    dec=0.3,\n",
    "    distance=0.54,\n",
    "    pmra=0.2,\n",
    "    pmdec=0.47,\n",
    "    radial_velocity=3,\n",
    "    )"
   ]
  },
  {
   "cell_type": "code",
   "execution_count": null,
   "id": "6",
   "metadata": {},
   "outputs": [],
   "source": []
  },
  {
   "cell_type": "code",
   "execution_count": null,
   "id": "7",
   "metadata": {},
   "outputs": [],
   "source": [
    "gc = LilGuys.transform(Galactocentric, lmc_coord)"
   ]
  },
  {
   "cell_type": "code",
   "execution_count": null,
   "id": "8",
   "metadata": {},
   "outputs": [],
   "source": [
    "ep20 = load_agama_potential(\"EP2020.ini\")\n"
   ]
  },
  {
   "cell_type": "code",
   "execution_count": null,
   "id": "9",
   "metadata": {},
   "outputs": [],
   "source": [
    "function leap_frog(gc, acceleration; dt_max=0.1, dt_min=0.001, time=-10/T2GYR, timestep=:adaptive, η=0.01)\n",
    "\n",
    "    Nt = round(Int, abs(time / dt_min))\n",
    "    positions = Vector{Vector{Float64}}()\n",
    "    velocities = Vector{Vector{Float64}}()\n",
    "    times = Float64[]\n",
    "\n",
    "    push!(positions, [gc.x, gc.y, gc.z])\n",
    "    push!(velocities, [gc.v_x, gc.v_y, gc.v_z] / V2KMS)\n",
    "    push!(times, 0.)\n",
    "    is_done = false\n",
    "    backwards = time < 0\n",
    "\n",
    "    t = 0.\n",
    "    for i in 1:Nt\n",
    "        pos = positions[i]\n",
    "        vel = velocities[i]\n",
    "        acc = acceleration(pos, vel)\n",
    "\n",
    "        dt = min(sqrt(η / calc_r(acc)), dt_max)\n",
    "        \n",
    "        if backwards\n",
    "            dt *= -1\n",
    "        end\n",
    "        if abs(dt) < dt_min\n",
    "            @warn \"timestep below minimum timestep\"\n",
    "            break\n",
    "        end\n",
    "\n",
    "        if (backwards && t + dt <= time ) || (!backwards && t + dt >= time)\n",
    "            dt = time - t\n",
    "            is_done = true\n",
    "        end\n",
    "\n",
    "        vel_h = vel + 1/2 * dt * acc\n",
    "        pos_new = pos + dt*vel_h\n",
    "        acc = acceleration(pos_new, vel_h)\n",
    "        vel_new = vel_h + 1/2 * dt * acc\n",
    "\n",
    "        push!(positions, pos_new)\n",
    "        push!(velocities, vel_new)\n",
    "        t = times[i] + dt\n",
    "        push!(times, t)\n",
    "\n",
    "        if is_done\n",
    "            break\n",
    "        end\n",
    "    end\n",
    "\n",
    "    positions_matrix = hcat(positions...)\n",
    "    velocities_matrix = hcat(velocities...)\n",
    "    return Orbit(time=times, position=positions_matrix, velocity=velocities_matrix)\n",
    "end"
   ]
  },
  {
   "cell_type": "code",
   "execution_count": null,
   "id": "10",
   "metadata": {},
   "outputs": [],
   "source": [
    "ep20.force"
   ]
  },
  {
   "cell_type": "code",
   "execution_count": null,
   "id": "11",
   "metadata": {},
   "outputs": [],
   "source": [
    "function calc_σv_interp(pot; log_r = LinRange(5, -3, 100000))\n",
    "    x0 = [1/√2, 0., 1/√2] # direction\n",
    "\n",
    "    radii = 10 .^ log_r\n",
    "    positions = x0' .* radii\n",
    "    acc = pyconvert(Matrix{Float64}, pot.force(positions))\n",
    "    rho = pyconvert(Array{Float64}, pot.density(positions))\n",
    "\n",
    "    a = calc_r(acc')\n",
    "    \n",
    "    dr = abs.(LilGuys.gradient(radii))\n",
    "\n",
    "    σ2 = 1 ./ rho .* cumsum(rho .* a .* dr)\n",
    "\n",
    "    return LilGuys.lerp(radii, sqrt.(σ2))\n",
    "end"
   ]
  },
  {
   "cell_type": "code",
   "execution_count": null,
   "id": "12",
   "metadata": {},
   "outputs": [],
   "source": [
    "using SpecialFunctions: erf"
   ]
  },
  {
   "cell_type": "code",
   "execution_count": null,
   "id": "13",
   "metadata": {},
   "outputs": [],
   "source": [
    "function a_dyn_friction(pos, vel; r_s, σv, ρ, M)\n",
    "    G = 1\n",
    "    v = calc_r(vel)\n",
    "    r = calc_r(pos)\n",
    "    \n",
    "    if r_s < 8\n",
    "        ϵ = 0.45r_s\n",
    "    else\n",
    "        ϵ = 2.2r_s - 14\n",
    "    end\n",
    "\n",
    "    Λ = r / ϵ\n",
    "    X = v / (√2 * σv(r))\n",
    "    return -4π * G^2 * M * ρ(pos) * log(Λ) * vel ./ v^3 * ( erf(X) - 2*X/√π * exp(-X^2) )\n",
    "end"
   ]
  },
  {
   "cell_type": "code",
   "execution_count": null,
   "id": "14",
   "metadata": {},
   "outputs": [],
   "source": [
    "σv = calc_σv_interp(ep20)"
   ]
  },
  {
   "cell_type": "code",
   "execution_count": null,
   "id": "15",
   "metadata": {},
   "outputs": [],
   "source": [
    "lines(log10.(σv.x), σv.y * V2KMS)"
   ]
  },
  {
   "cell_type": "code",
   "execution_count": null,
   "id": "16",
   "metadata": {},
   "outputs": [],
   "source": [
    "lines(log10.(σv.x), σv.y * V2KMS)"
   ]
  },
  {
   "cell_type": "code",
   "execution_count": null,
   "id": "17",
   "metadata": {},
   "outputs": [],
   "source": [
    "orbit_nofric = calc_orbit(gc, ep20, time=-10/T2GYR)"
   ]
  },
  {
   "cell_type": "code",
   "execution_count": null,
   "id": "18",
   "metadata": {},
   "outputs": [],
   "source": [
    "f_fric(pos, vel) = a_dyn_friction(pos, vel, r_s=10, σv=σv, ρ=x->pyconvert(Float64, ep20.density(x)), M=10)"
   ]
  },
  {
   "cell_type": "code",
   "execution_count": null,
   "id": "19",
   "metadata": {},
   "outputs": [],
   "source": [
    "f_acc(pos, vel) = pyconvert(Vector{Float64}, ep20.force(pos)) .+ f_fric(pos, vel)"
   ]
  },
  {
   "cell_type": "code",
   "execution_count": null,
   "id": "20",
   "metadata": {},
   "outputs": [],
   "source": [
    "orbit_2 = leap_frog(gc, f_acc, dt_max=1)"
   ]
  },
  {
   "cell_type": "code",
   "execution_count": null,
   "id": "21",
   "metadata": {},
   "outputs": [],
   "source": [
    "fig, ax, _ = plot_r_t(orbit_nofric)\n",
    "plot_r_t!(ax, orbit_2)\n",
    "\n",
    "fig"
   ]
  },
  {
   "cell_type": "code",
   "execution_count": null,
   "id": "22",
   "metadata": {},
   "outputs": [],
   "source": [
    "fig, ax, p = plot_y_z(orbit_nofric)\n",
    "lines!(orbit_2.position[2, :], orbit_2.position[3, :])\n",
    "\n",
    "fig\n"
   ]
  },
  {
   "cell_type": "markdown",
   "id": "23",
   "metadata": {},
   "source": [
    "## Adding a galaxy..."
   ]
  },
  {
   "cell_type": "code",
   "execution_count": null,
   "id": "24",
   "metadata": {},
   "outputs": [],
   "source": [
    "obs_props_filename = ENV[\"DWARFS_ROOT\"] * \"/observations/sculptor/observed_properties.toml\""
   ]
  },
  {
   "cell_type": "code",
   "execution_count": null,
   "id": "25",
   "metadata": {},
   "outputs": [],
   "source": [
    "icrs = LilGuys.coord_from_file(obs_props_filename)\n",
    "icrs_err = LilGuys.coord_err_from_file(obs_props_filename)"
   ]
  },
  {
   "cell_type": "code",
   "execution_count": null,
   "id": "26",
   "metadata": {},
   "outputs": [],
   "source": [
    "gc = LilGuys.transform(Galactocentric, icrs)"
   ]
  },
  {
   "cell_type": "code",
   "execution_count": null,
   "id": "27",
   "metadata": {},
   "outputs": [],
   "source": [
    "ep20 = load_agama_potential(\"EP2020.ini\")\n"
   ]
  },
  {
   "cell_type": "code",
   "execution_count": null,
   "id": "28",
   "metadata": {},
   "outputs": [],
   "source": [
    "pot = load_agama_potential(\"EP2020.ini\")"
   ]
  },
  {
   "cell_type": "code",
   "execution_count": null,
   "id": "29",
   "metadata": {},
   "outputs": [],
   "source": [
    "orbit = calc_orbit(gc, ep20, units=:code, time=-10)"
   ]
  },
  {
   "cell_type": "code",
   "execution_count": null,
   "id": "30",
   "metadata": {},
   "outputs": [],
   "source": [
    "plot_r_t(orbit)"
   ]
  },
  {
   "cell_type": "code",
   "execution_count": null,
   "id": "31",
   "metadata": {},
   "outputs": [],
   "source": [
    "plot_y_z(orbit)"
   ]
  },
  {
   "cell_type": "code",
   "execution_count": null,
   "id": "32",
   "metadata": {},
   "outputs": [],
   "source": [
    "plot_v_circ(ep20)"
   ]
  },
  {
   "cell_type": "code",
   "execution_count": null,
   "id": "33",
   "metadata": {
    "tags": []
   },
   "outputs": [],
   "source": [
    "mm11 = load_agama_potential(\"mcmillan11.ini\")\n",
    "mm17 = load_agama_potential(\"mcmillan17.ini\")\n",
    "bt08 = load_agama_potential(\"BT08.ini\")\n",
    "piffl14 = load_agama_potential(\"piffl_14.ini\")\n",
    "J95 = load_agama_potential(\"J95.ini\")\n",
    "galpy14 = load_agama_potential(\"galpy_2014.ini\")"
   ]
  },
  {
   "cell_type": "code",
   "execution_count": null,
   "id": "34",
   "metadata": {},
   "outputs": [],
   "source": [
    "potentials_light = [\n",
    "    \"EP20\" => ep20,\n",
    "    \"bt08\" => bt08,\n",
    "    \"galpy14\" => galpy14,\n",
    "    ]\n"
   ]
  },
  {
   "cell_type": "code",
   "execution_count": null,
   "id": "35",
   "metadata": {},
   "outputs": [],
   "source": [
    "potentials_heavy = [\n",
    "    \"EP20\" => ep20,\n",
    "    \"mcmillan 11\" => mm11,\n",
    "    \"piffl14\" => piffl14,\n",
    "    \"J95\" => J95,\n",
    "\n",
    "]"
   ]
  },
  {
   "cell_type": "code",
   "execution_count": null,
   "id": "36",
   "metadata": {},
   "outputs": [],
   "source": [
    "potentials = [\n",
    "    \"EP20\" => ep20,\n",
    "    \"mcmillan 17\" => mm17,\n",
    "\n",
    "]"
   ]
  },
  {
   "cell_type": "code",
   "execution_count": null,
   "id": "37",
   "metadata": {
    "tags": []
   },
   "outputs": [],
   "source": [
    "my_potentials = {\n",
    "    \"fiducial\": EP2020,\n",
    "    \"light\": light_mw,\n",
    "    \"heavy\": heavy_mw,\n",
    "    \"flat\": me_flat,\n",
    "    \"steep\": me_steep\n",
    "}"
   ]
  },
  {
   "cell_type": "code",
   "execution_count": null,
   "id": "38",
   "metadata": {
    "tags": []
   },
   "outputs": [],
   "source": [
    "for label, pot in my_potentials.items():\n",
    "    print(label, o.jr(pot))"
   ]
  },
  {
   "cell_type": "code",
   "execution_count": null,
   "id": "39",
   "metadata": {
    "tags": []
   },
   "outputs": [],
   "source": [
    "o.jr(galpy14)"
   ]
  },
  {
   "cell_type": "code",
   "execution_count": null,
   "id": "40",
   "metadata": {
    "tags": []
   },
   "outputs": [],
   "source": [
    "o.jr(galpy14_heavy)"
   ]
  },
  {
   "cell_type": "code",
   "execution_count": null,
   "id": "41",
   "metadata": {
    "tags": []
   },
   "outputs": [],
   "source": [
    "o.jr(EP2020)"
   ]
  },
  {
   "cell_type": "code",
   "execution_count": null,
   "id": "42",
   "metadata": {
    "tags": []
   },
   "outputs": [],
   "source": [
    "o.jr(ablimit20a)"
   ]
  },
  {
   "cell_type": "code",
   "execution_count": null,
   "id": "43",
   "metadata": {
    "tags": []
   },
   "outputs": [],
   "source": [
    "o.jr(mcmillan2017)"
   ]
  },
  {
   "cell_type": "code",
   "execution_count": null,
   "id": "44",
   "metadata": {
    "tags": []
   },
   "outputs": [],
   "source": [
    "for label, pot in my_potentials.items():\n",
    "    print(label, o.jz(pot))"
   ]
  },
  {
   "cell_type": "code",
   "execution_count": null,
   "id": "45",
   "metadata": {
    "tags": []
   },
   "outputs": [],
   "source": [
    "o.jz(galpy14)"
   ]
  },
  {
   "cell_type": "code",
   "execution_count": null,
   "id": "46",
   "metadata": {
    "tags": []
   },
   "outputs": [],
   "source": [
    "o.jz(galpy14_heavy)"
   ]
  },
  {
   "cell_type": "code",
   "execution_count": null,
   "id": "47",
   "metadata": {
    "tags": []
   },
   "outputs": [],
   "source": [
    "o.jz(EP2020)"
   ]
  },
  {
   "cell_type": "code",
   "execution_count": null,
   "id": "48",
   "metadata": {
    "tags": []
   },
   "outputs": [],
   "source": [
    "o.jz(mcmillan2017)"
   ]
  },
  {
   "cell_type": "code",
   "execution_count": null,
   "id": "49",
   "metadata": {},
   "outputs": [],
   "source": [
    "plot_Vc(EP2020_bulge)\n",
    "plot_Vc(mcmillan2011_bulge)\n",
    "plot_Vc(galpy14_bulge)\n",
    "plot_Vc(pouliasis17_bulge)"
   ]
  },
  {
   "cell_type": "code",
   "execution_count": null,
   "id": "50",
   "metadata": {
    "tags": []
   },
   "outputs": [],
   "source": [
    "plot_Vc(EP2020_thick + EP2020_thick)\n",
    "plot_Vc(galpy14_disk)\n",
    "# plot_Vc(galpy14_disk)\n",
    "\n",
    "plot_Vc(pouliasis17_thick + pouliasis17_thick)\n",
    "# plot_Vc(pouliasis17b_thick + pouliasis17b_thick)"
   ]
  },
  {
   "cell_type": "code",
   "execution_count": null,
   "id": "51",
   "metadata": {
    "tags": []
   },
   "outputs": [],
   "source": [
    "plot_Vc(EP2020_halo)\n",
    "plot_Vc(mcmillan2011_halo)\n",
    "plot_Vc(mcmillan2017_halo)\n",
    "plot_Vc(galpy14_halo)\n",
    "plot_Vc(2*galpy14_halo)\n",
    "\n",
    "plot_Vc(pouliasis17_halo)\n",
    "plot_Vc(pouliasis17b_halo)\n",
    "plot_Vc(ablimit_b_comp[\"halo\"]) # pretty much same as galpy\n"
   ]
  },
  {
   "cell_type": "code",
   "execution_count": null,
   "id": "52",
   "metadata": {
    "tags": []
   },
   "outputs": [],
   "source": [
    "dwarf_galaxy_gc.icrs"
   ]
  },
  {
   "cell_type": "code",
   "execution_count": null,
   "id": "53",
   "metadata": {
    "tags": []
   },
   "outputs": [],
   "source": [
    "o = Orbit(dwarf_galaxy_gc)"
   ]
  },
  {
   "cell_type": "code",
   "execution_count": null,
   "id": "54",
   "metadata": {
    "tags": []
   },
   "outputs": [],
   "source": [
    "pot = EP2020\n",
    "ts = np.linspace(0, -5, 10_000) * u.Gyr\n",
    "o.integrate(ts, pot)"
   ]
  },
  {
   "cell_type": "code",
   "execution_count": null,
   "id": "55",
   "metadata": {
    "tags": []
   },
   "outputs": [],
   "source": [
    "fig, ax = plt.subplots()\n",
    "\n",
    "plt.plot(o.R(ts), o.z(ts))\n",
    "ax.set_aspect(1)"
   ]
  },
  {
   "cell_type": "code",
   "execution_count": null,
   "id": "56",
   "metadata": {
    "tags": []
   },
   "outputs": [],
   "source": [
    "fig, ax = plt.subplots()\n",
    "\n",
    "plt.plot(o.y(ts), o.z(ts))\n",
    "\n",
    "ax.set_aspect(1)"
   ]
  },
  {
   "cell_type": "code",
   "execution_count": null,
   "id": "57",
   "metadata": {
    "tags": []
   },
   "outputs": [],
   "source": [
    "plt.plot(ts, o.r(ts))"
   ]
  },
  {
   "cell_type": "code",
   "execution_count": null,
   "id": "58",
   "metadata": {
    "tags": []
   },
   "outputs": [],
   "source": [
    "pos_gc = []\n",
    "\n",
    "ts = np.linspace(0, 0.1, 10_000) * u.Gyr\n",
    "o.integrate(ts, pot)\n",
    "\n",
    "# galpy uses left-handed frame :/\n",
    "pos_gc = coord.SkyCoord(\n",
    "    x=- o.x(ts), y=o.y(ts), z=o.z(ts), \n",
    "    v_x = -o.vx(ts), v_y=o.vy(ts), v_z=o.vz(ts),\n",
    "    frame=gc_frame)\n",
    "\n",
    "pos_icrs = pos_gc.transform_to(\"icrs\")"
   ]
  },
  {
   "cell_type": "code",
   "execution_count": null,
   "id": "59",
   "metadata": {
    "tags": []
   },
   "outputs": [],
   "source": [
    "plt.scatter(pos_icrs.ra, pos_icrs.dec, c=ts)\n",
    "plt.colorbar()\n",
    "\n",
    "plt.plot(o.ra(ts), o.dec(ts))\n",
    "\n",
    "plt.scatter(dwarf_galaxy.ra, dwarf_galaxy.dec)\n",
    "\n",
    "\n",
    "tpm = 3e7*u.yr\n",
    "plt.plot(sculptor.ra + sculptor.pm_ra_cosdec / np.cos(sculptor.dec) * tpm * np.array([0, 1]),\n",
    "        sculptor.dec + sculptor.pm_dec * tpm * np.array([0,1]),\n",
    "         zorder=5, color=arya.COLORS[2]\n",
    "        )\n",
    "\n",
    "plt.xlabel(\"RA\")\n",
    "plt.ylabel(\"dec\")"
   ]
  },
  {
   "cell_type": "code",
   "execution_count": null,
   "id": "60",
   "metadata": {
    "tags": []
   },
   "outputs": [],
   "source": [
    "sc2 = dwarf_galaxy_gc.transform_to(coord.ICRS)"
   ]
  },
  {
   "cell_type": "markdown",
   "id": "61",
   "metadata": {},
   "source": [
    "# LMC Orbit"
   ]
  },
  {
   "cell_type": "code",
   "execution_count": null,
   "id": "62",
   "metadata": {},
   "outputs": [],
   "source": [
    "lmc_coord = ICRS(ra = 81,\n",
    "    dec = -69.75, \n",
    "    pmra = 1.8,\n",
    "    pmdec = 0.35,\n",
    "    radial_velocity = 260,\n",
    "    distance = 50.\n",
    "    )"
   ]
  },
  {
   "cell_type": "code",
   "execution_count": null,
   "id": "63",
   "metadata": {},
   "outputs": [],
   "source": [
    "lmc_gc = LilGuys.transform(LilGuys.Galactocentric, lmc_coord)"
   ]
  },
  {
   "cell_type": "code",
   "execution_count": null,
   "id": "64",
   "metadata": {},
   "outputs": [],
   "source": [
    "vasiliev21_frozen = load_agama_potential(\"vasiliev+21/potential_nolmc.ini\")\n"
   ]
  },
  {
   "cell_type": "code",
   "execution_count": null,
   "id": "65",
   "metadata": {},
   "outputs": [],
   "source": [
    "vasiliev21 = load_agama_potential(\"vasiliev+21/potential_evolving.ini\")\n"
   ]
  },
  {
   "cell_type": "code",
   "execution_count": null,
   "id": "66",
   "metadata": {},
   "outputs": [],
   "source": [
    "orbit_lmc_me = calc_orbit(lmc_gc, vasiliev21_frozen, units=:vasiliev, time=LinRange(0, -10, 1000))\n"
   ]
  },
  {
   "cell_type": "code",
   "execution_count": null,
   "id": "67",
   "metadata": {},
   "outputs": [],
   "source": [
    "using CSV, DataFrames"
   ]
  },
  {
   "cell_type": "code",
   "execution_count": null,
   "id": "68",
   "metadata": {},
   "outputs": [],
   "source": [
    "# loads in trajectory of lmc in Vasiliev 2021\n",
    "lmc_file = ENV[\"DWARFS_ROOT\"] * \"/agama/potentials/vasiliev+21/trajlmc.txt\"\n",
    "lmc_traj = CSV.read(lmc_file, DataFrame, delim=\" \", header = [:time, :x, :y, :z, :v_x, :v_y, :v_z])\n",
    "\n",
    "filt = lmc_traj.time .<= 0\n",
    "lmc_traj = lmc_traj[filt, :]\n",
    "lmc_traj = DataFrame(reverse(eachrow(lmc_traj)))\n",
    "\n",
    "\n",
    "lmc_orbit = Orbit(time=lmc_traj.time  * V_T2GYR/ T2GYR, \n",
    "    position = [lmc_traj.x lmc_traj.y lmc_traj.z]',\n",
    "    velocity = [lmc_traj.v_x lmc_traj.v_y lmc_traj.v_z]' * V_V2KMS / V2KMS\n",
    "    )\n",
    "\n"
   ]
  },
  {
   "cell_type": "code",
   "execution_count": null,
   "id": "69",
   "metadata": {},
   "outputs": [],
   "source": [
    "scl_orbit = calc_orbit(gc, vasiliev21_frozen, units=:vasiliev, time=-5)"
   ]
  },
  {
   "cell_type": "code",
   "execution_count": null,
   "id": "70",
   "metadata": {},
   "outputs": [],
   "source": [
    "scl_lmc_orbit = calc_orbit(gc, vasiliev21, units=:vasiliev, time=lmc_traj.time) # need to pass vasiliev time to this class..."
   ]
  },
  {
   "cell_type": "code",
   "execution_count": null,
   "id": "71",
   "metadata": {},
   "outputs": [],
   "source": [
    "orbit_lmc_me = calc_orbit(lmc_gc, vasiliev21_frozen, units=:vasiliev, time=lmc_traj.time)\n"
   ]
  },
  {
   "cell_type": "code",
   "execution_count": null,
   "id": "72",
   "metadata": {},
   "outputs": [],
   "source": [
    "scl_m_lmc = deepcopy(scl_lmc_orbit)\n",
    "\n",
    "scl_m_lmc.position .-= lmc_orbit.position"
   ]
  },
  {
   "cell_type": "code",
   "execution_count": null,
   "id": "73",
   "metadata": {},
   "outputs": [],
   "source": [
    "r_scl_lmc = calc_r(lmc_orbit.position, scl_lmc_orbit.position)"
   ]
  },
  {
   "cell_type": "code",
   "execution_count": null,
   "id": "74",
   "metadata": {},
   "outputs": [],
   "source": [
    "LilGuys.Plots.plot_xyz(lmc_orbit.position, scl_lmc_orbit.position, scl_orbit.position, labels=[\"LMC\", \"Scl\", \"Scl (no lmc)\"])"
   ]
  },
  {
   "cell_type": "code",
   "execution_count": null,
   "id": "75",
   "metadata": {},
   "outputs": [],
   "source": [
    "fig, ax, p = plot_y_z(scl_m_lmc)\n",
    "Colorbar(fig[1, 2], p)\n",
    "fig"
   ]
  },
  {
   "cell_type": "code",
   "execution_count": null,
   "id": "76",
   "metadata": {},
   "outputs": [],
   "source": [
    "orbits = [\n",
    "    \"Scl-MW\" => scl_lmc_orbit,\n",
    "    \"Scl-MW (no LMC)\" => scl_orbit,\n",
    "    \"LMC-MW\" => lmc_orbit,\n",
    "   # \"lmc me\" => orbit_lmc_me,\n",
    "    ]"
   ]
  },
  {
   "cell_type": "code",
   "execution_count": null,
   "id": "77",
   "metadata": {},
   "outputs": [],
   "source": [
    "plot_y_z(orbits)"
   ]
  },
  {
   "cell_type": "code",
   "execution_count": null,
   "id": "78",
   "metadata": {},
   "outputs": [],
   "source": [
    "V_M2MSUN  / M2MSUN"
   ]
  },
  {
   "cell_type": "code",
   "execution_count": null,
   "id": "79",
   "metadata": {},
   "outputs": [],
   "source": [
    "T2GYR / V_T2GYR"
   ]
  },
  {
   "cell_type": "code",
   "execution_count": null,
   "id": "80",
   "metadata": {},
   "outputs": [],
   "source": [
    "V_V2KMS / V2KMS"
   ]
  },
  {
   "cell_type": "code",
   "execution_count": null,
   "id": "81",
   "metadata": {},
   "outputs": [],
   "source": [
    "fig = plot_r_t(orbits, legend=false)\n",
    "\n",
    "lines!(lmc_orbit.time * T2GYR, r_scl_lmc, label=\"Scl-LMC \")\n",
    "axislegend()\n",
    "fig"
   ]
  },
  {
   "cell_type": "code",
   "execution_count": null,
   "id": "82",
   "metadata": {},
   "outputs": [],
   "source": [
    "log10(LilGuys.kpc_to_arcmin(LilGuys.calc_break_radius(8.0 / V2KMS, 0.1 / T2GYR), 83.2))"
   ]
  },
  {
   "cell_type": "code",
   "execution_count": null,
   "id": "83",
   "metadata": {},
   "outputs": [],
   "source": [
    "log10(20)"
   ]
  },
  {
   "cell_type": "code",
   "execution_count": null,
   "id": "84",
   "metadata": {},
   "outputs": [],
   "source": [
    "fig, ax = FigAxis(\n",
    "    xlabel = \"time / Gyr\",\n",
    "    ylabel = \"distance from Scl to LMC / kpc\",\n",
    "    limits=(nothing, nothing, 0, nothing),\n",
    "    )\n",
    "\n",
    "lines!(lmc_orbit.time * T2GYR, r_scl_lmc)\n",
    "\n",
    "fig"
   ]
  },
  {
   "cell_type": "code",
   "execution_count": null,
   "id": "85",
   "metadata": {},
   "outputs": [],
   "source": [
    "lmc_orbit.time[argmin(r_scl_lmc)] * T2GYR"
   ]
  },
  {
   "cell_type": "code",
   "execution_count": null,
   "id": "86",
   "metadata": {},
   "outputs": [],
   "source": [
    "minimum(r_scl_lmc)"
   ]
  },
  {
   "cell_type": "code",
   "execution_count": null,
   "id": "87",
   "metadata": {},
   "outputs": [],
   "source": [
    "lmc_orbit.time ./ scl_lmc_orbit.time"
   ]
  },
  {
   "cell_type": "code",
   "execution_count": null,
   "id": "88",
   "metadata": {},
   "outputs": [],
   "source": [
    "plot_v_circ(ep20)"
   ]
  },
  {
   "cell_type": "code",
   "execution_count": null,
   "id": "89",
   "metadata": {},
   "outputs": [],
   "source": [
    "plot_v_circ(vasiliev21, vasiliev_units=true)"
   ]
  },
  {
   "cell_type": "markdown",
   "id": "90",
   "metadata": {},
   "source": [
    "# MC orbits"
   ]
  },
  {
   "cell_type": "code",
   "execution_count": null,
   "id": "91",
   "metadata": {},
   "outputs": [],
   "source": [
    "include(\"agama_utils.jl\")"
   ]
  },
  {
   "cell_type": "code",
   "execution_count": null,
   "id": "92",
   "metadata": {},
   "outputs": [],
   "source": [
    "icrs_samples = LilGuys.rand_coords(icrs, icrs_err, 1000);\n",
    "gc_samples = LilGuys.transform.(Galactocentric, icrs_samples);"
   ]
  },
  {
   "cell_type": "code",
   "execution_count": null,
   "id": "93",
   "metadata": {},
   "outputs": [],
   "source": [
    "icrs_df = LilGuys.to_frame(icrs_samples)"
   ]
  },
  {
   "cell_type": "code",
   "execution_count": null,
   "id": "94",
   "metadata": {},
   "outputs": [],
   "source": [
    "ic = make_agama_init(gc_samples)"
   ]
  },
  {
   "cell_type": "code",
   "execution_count": null,
   "id": "95",
   "metadata": {},
   "outputs": [],
   "source": [
    "lmc_orbit.time"
   ]
  },
  {
   "cell_type": "markdown",
   "id": "96",
   "metadata": {},
   "source": [
    "lmc.times"
   ]
  },
  {
   "cell_type": "code",
   "execution_count": null,
   "id": "97",
   "metadata": {},
   "outputs": [],
   "source": [
    "orbits = calc_orbits(gc_samples, ep20, time=-5 / T2GYR);"
   ]
  },
  {
   "cell_type": "code",
   "execution_count": null,
   "id": "98",
   "metadata": {},
   "outputs": [],
   "source": [
    "plot_y_z(orbits[1].second)"
   ]
  },
  {
   "cell_type": "code",
   "execution_count": null,
   "id": "99",
   "metadata": {},
   "outputs": [],
   "source": [
    "plot_r_t(orbits[1:100], alpha=0.2, color=:black, legend=false)"
   ]
  },
  {
   "cell_type": "code",
   "execution_count": null,
   "id": "100",
   "metadata": {},
   "outputs": [],
   "source": [
    "orbits = calc_orbits(gc_samples, vasiliev21_frozen, time=-5 / V_T2GYR, units=:vasiliev);"
   ]
  },
  {
   "cell_type": "code",
   "execution_count": null,
   "id": "101",
   "metadata": {},
   "outputs": [],
   "source": [
    "plot_y_z(orbits[1].second)"
   ]
  },
  {
   "cell_type": "code",
   "execution_count": null,
   "id": "102",
   "metadata": {},
   "outputs": [],
   "source": [
    "plot_r_t(orbits[1:100], alpha=0.2, color=:black, legend=false)"
   ]
  },
  {
   "cell_type": "code",
   "execution_count": null,
   "id": "103",
   "metadata": {},
   "outputs": [],
   "source": [
    "orbits = calc_orbits(gc_samples, vasiliev21, time=lmc_traj.time, units=:vasiliev);"
   ]
  },
  {
   "cell_type": "code",
   "execution_count": null,
   "id": "104",
   "metadata": {},
   "outputs": [],
   "source": [
    "plot_r_t(orbits[1:100], alpha=0.2, color=:black, legend=false)"
   ]
  },
  {
   "cell_type": "code",
   "execution_count": null,
   "id": "105",
   "metadata": {},
   "outputs": [],
   "source": [
    "rs = [calc_r(lmc_orbit.position, o.position) for (l, o) in orbits];"
   ]
  },
  {
   "cell_type": "code",
   "execution_count": null,
   "id": "106",
   "metadata": {},
   "outputs": [],
   "source": [
    "rs2 = [calc_r(orbit_lmc_me.position, o.position) for (l, o) in orbits];"
   ]
  },
  {
   "cell_type": "code",
   "execution_count": null,
   "id": "107",
   "metadata": {},
   "outputs": [],
   "source": [
    "scl_lmc_times = lmc_orbit.time[argmin.(rs)] * T2GYR"
   ]
  },
  {
   "cell_type": "code",
   "execution_count": null,
   "id": "108",
   "metadata": {},
   "outputs": [],
   "source": [
    "scl_lmc_mins = minimum.(rs)"
   ]
  },
  {
   "cell_type": "code",
   "execution_count": null,
   "id": "109",
   "metadata": {},
   "outputs": [],
   "source": [
    "hist(scl_lmc_times)"
   ]
  },
  {
   "cell_type": "code",
   "execution_count": null,
   "id": "110",
   "metadata": {},
   "outputs": [],
   "source": [
    "hist(scl_lmc_mins)"
   ]
  },
  {
   "cell_type": "code",
   "execution_count": null,
   "id": "111",
   "metadata": {},
   "outputs": [],
   "source": [
    "scatter(icrs_df.pmra, scl_lmc_mins)"
   ]
  },
  {
   "cell_type": "code",
   "execution_count": null,
   "id": "112",
   "metadata": {},
   "outputs": [],
   "source": [
    "scatter(icrs_df.pmdec, scl_lmc_mins)"
   ]
  },
  {
   "cell_type": "code",
   "execution_count": null,
   "id": "113",
   "metadata": {},
   "outputs": [],
   "source": [
    "scatter(icrs_df.distance, scl_lmc_mins)"
   ]
  },
  {
   "cell_type": "code",
   "execution_count": null,
   "id": "114",
   "metadata": {},
   "outputs": [],
   "source": [
    "scatter(icrs_df.distance, scl_lmc_times)"
   ]
  },
  {
   "cell_type": "code",
   "execution_count": null,
   "id": "115",
   "metadata": {},
   "outputs": [],
   "source": [
    "fig, ax = FigAxis(\n",
    "    xlabel = \"time / Gyr\",\n",
    "    ylabel = \"distance from Scl to LMC / kpc\",\n",
    "    limits=(nothing, nothing, 0, nothing),\n",
    "    )\n",
    "\n",
    "\n",
    "for r in rs\n",
    "    lines!(lmc_orbit.time * T2GYR, r, alpha=0.05, color=:black)\n",
    "end\n",
    "\n",
    "fig"
   ]
  },
  {
   "cell_type": "code",
   "execution_count": null,
   "id": "116",
   "metadata": {},
   "outputs": [],
   "source": [
    "orbits[1].second.position"
   ]
  },
  {
   "cell_type": "code",
   "execution_count": null,
   "id": "117",
   "metadata": {},
   "outputs": [],
   "source": [
    "fig, ax = FigAxis(\n",
    "    xlabel = \"time / Gyr\",\n",
    "    ylabel = \"distance  / kpc\",\n",
    "    limits=(nothing, nothing, 0, nothing),\n",
    "    )\n",
    "\n",
    "\n",
    "lines!(lmc_orbit.time * T2GYR, rs[1], label=\"Scl - LMC\")\n",
    "lines!(lmc_orbit.time * T2GYR, rs2[1], label=\"Scl - LMC point particle\")\n",
    "\n",
    "lines!(orbits[1].second.time * T2GYR, calc_r(orbits[1].second.position), label=\"Scl - MW\")\n",
    "\n",
    "axislegend(position=:lb)\n",
    "\n",
    "fig"
   ]
  },
  {
   "cell_type": "code",
   "execution_count": null,
   "id": "118",
   "metadata": {},
   "outputs": [],
   "source": []
  }
 ],
 "metadata": {
  "kernelspec": {
   "display_name": "Julia 1.11.1",
   "language": "julia",
   "name": "julia-1.11"
  },
  "language_info": {
   "file_extension": ".jl",
   "mimetype": "application/julia",
   "name": "julia",
   "version": "1.11.1"
  }
 },
 "nbformat": 4,
 "nbformat_minor": 5
}
