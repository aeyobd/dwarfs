{
 "cells": [
  {
   "cell_type": "markdown",
   "id": "0",
   "metadata": {},
   "source": [
    "This notebook explores a few different potential models of the Milky Way"
   ]
  },
  {
   "cell_type": "code",
   "execution_count": null,
   "id": "1",
   "metadata": {},
   "outputs": [],
   "source": [
    "using Printf\n",
    "using CairoMakie\n",
    "using Revise\n",
    "using LilGuys, Arya"
   ]
  },
  {
   "cell_type": "code",
   "execution_count": null,
   "id": "2",
   "metadata": {},
   "outputs": [],
   "source": [
    "using PythonCall\n",
    "agama = pyimport(\"agama\")\n",
    "np = pyimport(\"numpy\")"
   ]
  },
  {
   "cell_type": "code",
   "execution_count": null,
   "id": "3",
   "metadata": {},
   "outputs": [],
   "source": [
    "include(\"agama_utils.jl\")\n",
    "include(\"agama_plots.jl\")"
   ]
  },
  {
   "cell_type": "code",
   "execution_count": null,
   "id": "4",
   "metadata": {},
   "outputs": [],
   "source": [
    "obs_props_filename = ENV[\"DWARFS_ROOT\"] * \"/observations/sculptor/observed_properties.toml\"\n",
    "icrs = LilGuys.coord_from_file(obs_props_filename)\n",
    "icrs_err = LilGuys.coord_err_from_file(obs_props_filename)\n",
    "gc_scl = LilGuys.transform(Galactocentric, icrs)"
   ]
  },
  {
   "cell_type": "markdown",
   "id": "5",
   "metadata": {
    "jp-MarkdownHeadingCollapsed": true
   },
   "source": [
    "##  EP2021"
   ]
  },
  {
   "cell_type": "code",
   "execution_count": null,
   "id": "6",
   "metadata": {},
   "outputs": [],
   "source": [
    "V_T2GYR"
   ]
  },
  {
   "cell_type": "code",
   "execution_count": null,
   "id": "7",
   "metadata": {},
   "outputs": [],
   "source": [
    "lmc_coord = ICRS(ra = 80.8,\n",
    "    dec = -69.8, \n",
    "    pmra = 1.910,\n",
    "    pmdec = 0.229,\n",
    "    radial_velocity = 262,\n",
    "    distance = 49.59\n",
    "    )\n",
    "\n",
    "lmc_coord_err = ICRS(\n",
    "    ra=0.3,\n",
    "    dec=0.3,\n",
    "    distance=0.54,\n",
    "    pmra=0.2,\n",
    "    pmdec=0.47,\n",
    "    radial_velocity=3,\n",
    "    )"
   ]
  },
  {
   "cell_type": "code",
   "execution_count": null,
   "id": "8",
   "metadata": {},
   "outputs": [],
   "source": [
    "gc = LilGuys.transform(Galactocentric, lmc_coord)"
   ]
  },
  {
   "cell_type": "code",
   "execution_count": null,
   "id": "9",
   "metadata": {},
   "outputs": [],
   "source": [
    "ep20 = load_agama_potential(\"EP2020.ini\")\n",
    "galpy14 = load_agama_potential(\"galpy_2014.ini\") "
   ]
  },
  {
   "cell_type": "code",
   "execution_count": null,
   "id": "10",
   "metadata": {},
   "outputs": [],
   "source": [
    "pot = ep20"
   ]
  },
  {
   "cell_type": "code",
   "execution_count": null,
   "id": "11",
   "metadata": {},
   "outputs": [],
   "source": [
    "σv = calc_σv_interp(pot)"
   ]
  },
  {
   "cell_type": "code",
   "execution_count": null,
   "id": "12",
   "metadata": {},
   "outputs": [],
   "source": [
    "lines(log10.(σv.x), σv.y * V2KMS)"
   ]
  },
  {
   "cell_type": "code",
   "execution_count": null,
   "id": "13",
   "metadata": {},
   "outputs": [],
   "source": [
    "orbit_nofric = calc_orbit(gc, pot, time=-10/T2GYR)"
   ]
  },
  {
   "cell_type": "code",
   "execution_count": null,
   "id": "14",
   "metadata": {},
   "outputs": [],
   "source": [
    "Mmw = pyconvert(Float64, pot.enclosedMass(300))"
   ]
  },
  {
   "cell_type": "code",
   "execution_count": null,
   "id": "15",
   "metadata": {},
   "outputs": [],
   "source": [
    "Mlmc = 10."
   ]
  },
  {
   "cell_type": "code",
   "execution_count": null,
   "id": "16",
   "metadata": {},
   "outputs": [],
   "source": [
    "f_fric(pos, vel) = a_dyn_friction(pos, vel, r_s=10, σv=σv, ρ=x->pyconvert(Float64, pot.density(x)), M=Mlmc)"
   ]
  },
  {
   "cell_type": "code",
   "execution_count": null,
   "id": "17",
   "metadata": {},
   "outputs": [],
   "source": [
    "use_noninacc = 1"
   ]
  },
  {
   "cell_type": "code",
   "execution_count": null,
   "id": "18",
   "metadata": {},
   "outputs": [],
   "source": [
    "f_grav(pos, vel) = (1 + use_noninacc * Mlmc/Mmw) * pyconvert(Vector{Float64}, pot.force(pos)) "
   ]
  },
  {
   "cell_type": "code",
   "execution_count": null,
   "id": "19",
   "metadata": {},
   "outputs": [],
   "source": [
    "f_acc(pos, vel) =  f_grav(pos, vel) .+ f_fric(pos, vel)"
   ]
  },
  {
   "cell_type": "code",
   "execution_count": null,
   "id": "20",
   "metadata": {},
   "outputs": [],
   "source": [
    "orbit_2 = leap_frog(gc, f_acc, dt_max=1)"
   ]
  },
  {
   "cell_type": "code",
   "execution_count": null,
   "id": "21",
   "metadata": {},
   "outputs": [],
   "source": [
    "fig, ax, _ = plot_r_t(orbit_nofric)\n",
    "plot_r_t!(ax, orbit_2)\n",
    "\n",
    "fig"
   ]
  },
  {
   "cell_type": "code",
   "execution_count": null,
   "id": "22",
   "metadata": {},
   "outputs": [],
   "source": [
    "fig, ax, p = plot_y_z(orbit_nofric)\n",
    "lines!(orbit_2.position[2, :], orbit_2.position[3, :])\n",
    "\n",
    "fig\n"
   ]
  },
  {
   "cell_type": "markdown",
   "id": "23",
   "metadata": {
    "jp-MarkdownHeadingCollapsed": true
   },
   "source": [
    "## Adding a galaxy..."
   ]
  },
  {
   "cell_type": "code",
   "execution_count": null,
   "id": "24",
   "metadata": {},
   "outputs": [],
   "source": [
    "ep20 = load_agama_potential(\"EP2020.ini\")\n"
   ]
  },
  {
   "cell_type": "code",
   "execution_count": null,
   "id": "25",
   "metadata": {},
   "outputs": [],
   "source": [
    "pot = load_agama_potential(\"EP2020.ini\")"
   ]
  },
  {
   "cell_type": "code",
   "execution_count": null,
   "id": "26",
   "metadata": {},
   "outputs": [],
   "source": [
    "orbit = calc_orbit(gc, ep20, units=:code, time=-10)"
   ]
  },
  {
   "cell_type": "code",
   "execution_count": null,
   "id": "27",
   "metadata": {},
   "outputs": [],
   "source": [
    "plot_r_t(orbit)"
   ]
  },
  {
   "cell_type": "code",
   "execution_count": null,
   "id": "28",
   "metadata": {},
   "outputs": [],
   "source": [
    "plot_y_z(orbit)"
   ]
  },
  {
   "cell_type": "code",
   "execution_count": null,
   "id": "29",
   "metadata": {},
   "outputs": [],
   "source": [
    "plot_v_circ(ep20)"
   ]
  },
  {
   "cell_type": "code",
   "execution_count": null,
   "id": "30",
   "metadata": {
    "tags": []
   },
   "outputs": [],
   "source": [
    "mm11 = load_agama_potential(\"mcmillan11.ini\")\n",
    "mm17 = load_agama_potential(\"mcmillan17.ini\")\n",
    "bt08 = load_agama_potential(\"BT08.ini\")\n",
    "piffl14 = load_agama_potential(\"piffl_14.ini\")\n",
    "J95 = load_agama_potential(\"J95.ini\")\n",
    "galpy14 = load_agama_potential(\"galpy_2014.ini\")"
   ]
  },
  {
   "cell_type": "code",
   "execution_count": null,
   "id": "31",
   "metadata": {},
   "outputs": [],
   "source": [
    "potentials_light = [\n",
    "    \"EP20\" => ep20,\n",
    "    \"bt08\" => bt08,\n",
    "    \"galpy14\" => galpy14,\n",
    "    ]\n"
   ]
  },
  {
   "cell_type": "code",
   "execution_count": null,
   "id": "32",
   "metadata": {},
   "outputs": [],
   "source": [
    "potentials_heavy = [\n",
    "    \"EP20\" => ep20,\n",
    "    \"mcmillan 11\" => mm11,\n",
    "    \"piffl14\" => piffl14,\n",
    "    \"J95\" => J95,\n",
    "\n",
    "]"
   ]
  },
  {
   "cell_type": "code",
   "execution_count": null,
   "id": "33",
   "metadata": {},
   "outputs": [],
   "source": [
    "potentials = [\n",
    "    \"EP20\" => ep20,\n",
    "    \"mcmillan 17\" => mm17,\n",
    "\n",
    "]"
   ]
  },
  {
   "cell_type": "code",
   "execution_count": null,
   "id": "34",
   "metadata": {
    "tags": []
   },
   "outputs": [],
   "source": [
    "my_potentials = {\n",
    "    \"fiducial\": EP2020,\n",
    "    \"light\": light_mw,\n",
    "    \"heavy\": heavy_mw,\n",
    "    \"flat\": me_flat,\n",
    "    \"steep\": me_steep\n",
    "}"
   ]
  },
  {
   "cell_type": "code",
   "execution_count": null,
   "id": "35",
   "metadata": {
    "tags": []
   },
   "outputs": [],
   "source": [
    "for label, pot in my_potentials.items():\n",
    "    print(label, o.jr(pot))"
   ]
  },
  {
   "cell_type": "code",
   "execution_count": null,
   "id": "36",
   "metadata": {
    "tags": []
   },
   "outputs": [],
   "source": [
    "o.jr(galpy14)"
   ]
  },
  {
   "cell_type": "code",
   "execution_count": null,
   "id": "37",
   "metadata": {
    "tags": []
   },
   "outputs": [],
   "source": [
    "o.jr(galpy14_heavy)"
   ]
  },
  {
   "cell_type": "code",
   "execution_count": null,
   "id": "38",
   "metadata": {
    "tags": []
   },
   "outputs": [],
   "source": [
    "o.jr(EP2020)"
   ]
  },
  {
   "cell_type": "code",
   "execution_count": null,
   "id": "39",
   "metadata": {
    "tags": []
   },
   "outputs": [],
   "source": [
    "o.jr(ablimit20a)"
   ]
  },
  {
   "cell_type": "code",
   "execution_count": null,
   "id": "40",
   "metadata": {
    "tags": []
   },
   "outputs": [],
   "source": [
    "o.jr(mcmillan2017)"
   ]
  },
  {
   "cell_type": "code",
   "execution_count": null,
   "id": "41",
   "metadata": {
    "tags": []
   },
   "outputs": [],
   "source": [
    "for label, pot in my_potentials.items():\n",
    "    print(label, o.jz(pot))"
   ]
  },
  {
   "cell_type": "code",
   "execution_count": null,
   "id": "42",
   "metadata": {
    "tags": []
   },
   "outputs": [],
   "source": [
    "o.jz(galpy14)"
   ]
  },
  {
   "cell_type": "code",
   "execution_count": null,
   "id": "43",
   "metadata": {
    "tags": []
   },
   "outputs": [],
   "source": [
    "o.jz(galpy14_heavy)"
   ]
  },
  {
   "cell_type": "code",
   "execution_count": null,
   "id": "44",
   "metadata": {
    "tags": []
   },
   "outputs": [],
   "source": [
    "o.jz(EP2020)"
   ]
  },
  {
   "cell_type": "code",
   "execution_count": null,
   "id": "45",
   "metadata": {
    "tags": []
   },
   "outputs": [],
   "source": [
    "o.jz(mcmillan2017)"
   ]
  },
  {
   "cell_type": "code",
   "execution_count": null,
   "id": "46",
   "metadata": {},
   "outputs": [],
   "source": [
    "plot_Vc(EP2020_bulge)\n",
    "plot_Vc(mcmillan2011_bulge)\n",
    "plot_Vc(galpy14_bulge)\n",
    "plot_Vc(pouliasis17_bulge)"
   ]
  },
  {
   "cell_type": "code",
   "execution_count": null,
   "id": "47",
   "metadata": {
    "tags": []
   },
   "outputs": [],
   "source": [
    "plot_Vc(EP2020_thick + EP2020_thick)\n",
    "plot_Vc(galpy14_disk)\n",
    "# plot_Vc(galpy14_disk)\n",
    "\n",
    "plot_Vc(pouliasis17_thick + pouliasis17_thick)\n",
    "# plot_Vc(pouliasis17b_thick + pouliasis17b_thick)"
   ]
  },
  {
   "cell_type": "code",
   "execution_count": null,
   "id": "48",
   "metadata": {
    "tags": []
   },
   "outputs": [],
   "source": [
    "plot_Vc(EP2020_halo)\n",
    "plot_Vc(mcmillan2011_halo)\n",
    "plot_Vc(mcmillan2017_halo)\n",
    "plot_Vc(galpy14_halo)\n",
    "plot_Vc(2*galpy14_halo)\n",
    "\n",
    "plot_Vc(pouliasis17_halo)\n",
    "plot_Vc(pouliasis17b_halo)\n",
    "plot_Vc(ablimit_b_comp[\"halo\"]) # pretty much same as galpy\n"
   ]
  },
  {
   "cell_type": "code",
   "execution_count": null,
   "id": "49",
   "metadata": {
    "tags": []
   },
   "outputs": [],
   "source": [
    "dwarf_galaxy_gc.icrs"
   ]
  },
  {
   "cell_type": "code",
   "execution_count": null,
   "id": "50",
   "metadata": {
    "tags": []
   },
   "outputs": [],
   "source": [
    "o = Orbit(dwarf_galaxy_gc)"
   ]
  },
  {
   "cell_type": "code",
   "execution_count": null,
   "id": "51",
   "metadata": {
    "tags": []
   },
   "outputs": [],
   "source": [
    "pot = EP2020\n",
    "ts = np.linspace(0, -5, 10_000) * u.Gyr\n",
    "o.integrate(ts, pot)"
   ]
  },
  {
   "cell_type": "code",
   "execution_count": null,
   "id": "52",
   "metadata": {
    "tags": []
   },
   "outputs": [],
   "source": [
    "fig, ax = plt.subplots()\n",
    "\n",
    "plt.plot(o.R(ts), o.z(ts))\n",
    "ax.set_aspect(1)"
   ]
  },
  {
   "cell_type": "code",
   "execution_count": null,
   "id": "53",
   "metadata": {
    "tags": []
   },
   "outputs": [],
   "source": [
    "fig, ax = plt.subplots()\n",
    "\n",
    "plt.plot(o.y(ts), o.z(ts))\n",
    "\n",
    "ax.set_aspect(1)"
   ]
  },
  {
   "cell_type": "code",
   "execution_count": null,
   "id": "54",
   "metadata": {
    "tags": []
   },
   "outputs": [],
   "source": [
    "plt.plot(ts, o.r(ts))"
   ]
  },
  {
   "cell_type": "code",
   "execution_count": null,
   "id": "55",
   "metadata": {
    "tags": []
   },
   "outputs": [],
   "source": [
    "pos_gc = []\n",
    "\n",
    "ts = np.linspace(0, 0.1, 10_000) * u.Gyr\n",
    "o.integrate(ts, pot)\n",
    "\n",
    "# galpy uses left-handed frame :/\n",
    "pos_gc = coord.SkyCoord(\n",
    "    x=- o.x(ts), y=o.y(ts), z=o.z(ts), \n",
    "    v_x = -o.vx(ts), v_y=o.vy(ts), v_z=o.vz(ts),\n",
    "    frame=gc_frame)\n",
    "\n",
    "pos_icrs = pos_gc.transform_to(\"icrs\")"
   ]
  },
  {
   "cell_type": "code",
   "execution_count": null,
   "id": "56",
   "metadata": {
    "tags": []
   },
   "outputs": [],
   "source": [
    "plt.scatter(pos_icrs.ra, pos_icrs.dec, c=ts)\n",
    "plt.colorbar()\n",
    "\n",
    "plt.plot(o.ra(ts), o.dec(ts))\n",
    "\n",
    "plt.scatter(dwarf_galaxy.ra, dwarf_galaxy.dec)\n",
    "\n",
    "\n",
    "tpm = 3e7*u.yr\n",
    "plt.plot(sculptor.ra + sculptor.pm_ra_cosdec / np.cos(sculptor.dec) * tpm * np.array([0, 1]),\n",
    "        sculptor.dec + sculptor.pm_dec * tpm * np.array([0,1]),\n",
    "         zorder=5, color=arya.COLORS[2]\n",
    "        )\n",
    "\n",
    "plt.xlabel(\"RA\")\n",
    "plt.ylabel(\"dec\")"
   ]
  },
  {
   "cell_type": "code",
   "execution_count": null,
   "id": "57",
   "metadata": {
    "tags": []
   },
   "outputs": [],
   "source": [
    "sc2 = dwarf_galaxy_gc.transform_to(coord.ICRS)"
   ]
  },
  {
   "cell_type": "markdown",
   "id": "58",
   "metadata": {},
   "source": [
    "# Alla Vasiliev+21"
   ]
  },
  {
   "cell_type": "markdown",
   "id": "59",
   "metadata": {},
   "source": [
    "I have the potential from the Vasiliev et al. (V+21, 2021) paper \"Tango for Three...\", stored in agama/potentials/vasiliev+2021.\n",
    "The components of this potential are:\n",
    "\n",
    "- Multipole expansion of evolving N-body MW potential\n",
    "- Moving & Evolving multipole expansion of an LMC potential from their N-body simulation\n",
    "- The non-inertial acceleration of the MW\n",
    "\n",
    "My goal with the plots below is to investigate these effects and how each one in turn influences both the orbtits of the LMC and Scl. To 2st order, each effect is important but likely a full N-body simulation is required to capture the full nuance of interacting galaxies."
   ]
  },
  {
   "cell_type": "code",
   "execution_count": null,
   "id": "60",
   "metadata": {},
   "outputs": [],
   "source": [
    "using CSV, DataFrames"
   ]
  },
  {
   "cell_type": "code",
   "execution_count": null,
   "id": "61",
   "metadata": {},
   "outputs": [],
   "source": [
    "vasiliev21_frozen = load_agama_potential(\"vasiliev+21/potential_nolmc.ini\")\n",
    "vasiliev21 = load_agama_potential(\"vasiliev+21/potential_evolving.ini\")\n",
    "vasiliev21_lmc = load_agama_potential(\"vasiliev+21/potential_lmc_only.ini\")"
   ]
  },
  {
   "cell_type": "code",
   "execution_count": null,
   "id": "62",
   "metadata": {},
   "outputs": [],
   "source": [
    "# loads in trajectory of lmc in Vasiliev 2021\n",
    "lmc_file = ENV[\"DWARFS_ROOT\"] * \"/agama/potentials/vasiliev+21/trajlmc.txt\"\n",
    "lmc_traj = CSV.read(lmc_file, DataFrame, delim=\" \", header = [:time, :x, :y, :z, :v_x, :v_y, :v_z])\n",
    "\n",
    "filt = lmc_traj.time .<= 15\n",
    "lmc_traj = lmc_traj[filt, :]\n",
    "lmc_traj = DataFrame(reverse(eachrow(lmc_traj)))\n",
    "\n",
    "\n",
    "orbit_lmc_act = Orbit(time=lmc_traj.time  * V_T2GYR/ T2GYR, \n",
    "    position = [lmc_traj.x lmc_traj.y lmc_traj.z]',\n",
    "    velocity = [lmc_traj.v_x lmc_traj.v_y lmc_traj.v_z]' * V_V2KMS / V2KMS\n",
    "    )\n",
    "\n"
   ]
  },
  {
   "cell_type": "code",
   "execution_count": null,
   "id": "63",
   "metadata": {},
   "outputs": [],
   "source": [
    "filename = ENV[\"DWARFS_ROOT\"] * \"/agama/potentials/vasiliev+21/accel.txt\"\n",
    "acc_v21 = CSV.read(filename, DataFrame, delim=\" \", header = [:time, :x, :y, :z])\n"
   ]
  },
  {
   "cell_type": "markdown",
   "id": "64",
   "metadata": {
    "jp-MarkdownHeadingCollapsed": true
   },
   "source": [
    "## Evolution of the potential"
   ]
  },
  {
   "cell_type": "code",
   "execution_count": null,
   "id": "65",
   "metadata": {},
   "outputs": [],
   "source": [
    "\n",
    "Ms = []\n",
    "for i in 1:3\n",
    "    for j in 1:2\n",
    "        x = zeros(3)\n",
    "        x[i] = 1\n",
    "        x *= (-1)^j\n",
    "\n",
    "        push!(Ms, [enclosedMass(vasiliev21[4], 100, direction=x, time=t) * V_M2MSUN / M2MSUN for t in times])\n",
    "    end\n",
    "end\n",
    "\n",
    "fig = Figure()\n",
    "ax = Axis(fig[1,1], xlabel=\"time / Gyr\", ylabel=\"M lmc\")\n",
    "\n",
    "for M in Ms\n",
    "    lines!(times, M)\n",
    "end\n",
    "\n",
    "fig"
   ]
  },
  {
   "cell_type": "code",
   "execution_count": null,
   "id": "66",
   "metadata": {},
   "outputs": [],
   "source": [
    "orbit_lmc_act.position[:, 1]"
   ]
  },
  {
   "cell_type": "code",
   "execution_count": null,
   "id": "67",
   "metadata": {},
   "outputs": [],
   "source": [
    "orbit_lmc_act_resamp"
   ]
  },
  {
   "cell_type": "code",
   "execution_count": null,
   "id": "68",
   "metadata": {},
   "outputs": [],
   "source": [
    "import NaNMath as nm"
   ]
  },
  {
   "cell_type": "code",
   "execution_count": null,
   "id": "69",
   "metadata": {},
   "outputs": [],
   "source": [
    "Φ_lmc_v21_evolv = vasiliev21[-1]"
   ]
  },
  {
   "cell_type": "code",
   "execution_count": null,
   "id": "70",
   "metadata": {},
   "outputs": [],
   "source": [
    "log_r = LinRange(-1, 3, 100)\n",
    "a = [0,1, 0]\n",
    "\n",
    "\n",
    "fig = Figure()\n",
    "ax = Axis(fig[1,1])\n",
    "\n",
    "N = length(orbit_lmc_act.time)\n",
    "skip = 10\n",
    "for i in 1:skip:N\n",
    "    xs = .+ a' .* 10 .^ log_r\n",
    "    \n",
    "    t = orbit_lmc_act.time[i] * T2GYR / V_T2GYR\n",
    "    ρ = vasiliev21_lmc.density(xs, t=t) |> py2vec\n",
    "    lines!(log_r, nm.log10.(ρ), color=i, colorrange=(1, N))\n",
    "end\n",
    "\n",
    "fig"
   ]
  },
  {
   "cell_type": "code",
   "execution_count": null,
   "id": "71",
   "metadata": {},
   "outputs": [],
   "source": [
    "log_r = LinRange(-1, 3, 100)\n",
    "a = [1,0, 0]\n",
    "\n",
    "\n",
    "fig = Figure()\n",
    "ax = Axis(fig[1,1])\n",
    "\n",
    "N = length(orbit_lmc_act.time)\n",
    "skip = 10\n",
    "for i in 1:skip:N\n",
    "    x0 = orbit_lmc_act.position[:, i]\n",
    "    xs = x0' .+ a' .* 10 .^ log_r\n",
    "    \n",
    "    t = orbit_lmc_act.time[i] * T2GYR / V_T2GYR\n",
    "    ρ = Φ_lmc_v21_evolv.density(xs, t=t) |> py2vec\n",
    "    lines!(log_r, nm.log10.(ρ), color=i, colorrange=(1, N))\n",
    "end\n",
    "\n",
    "fig"
   ]
  },
  {
   "cell_type": "code",
   "execution_count": null,
   "id": "72",
   "metadata": {},
   "outputs": [],
   "source": [
    "function enclosedMass(vasiliev21, r=60; time=0., direction=[1, 1, 1])\n",
    "    direction = direction / calc_r(direction)\n",
    "    a = pyconvert(Vector{Float64}, vasiliev21_lmc.force(r * direction, t=time))\n",
    "    a = calc_r(a)\n",
    "    return a * r^2\n",
    "end\n",
    "    "
   ]
  },
  {
   "cell_type": "code",
   "execution_count": null,
   "id": "73",
   "metadata": {},
   "outputs": [],
   "source": [
    "lmc_coord = ICRS(ra = 81,\n",
    "    dec = -69.75, \n",
    "    pmra = 1.8,\n",
    "    pmdec = 0.35,\n",
    "    radial_velocity = 260,\n",
    "    distance = 50.\n",
    "    )"
   ]
  },
  {
   "cell_type": "code",
   "execution_count": null,
   "id": "74",
   "metadata": {},
   "outputs": [],
   "source": [
    "lmc_gc = LilGuys.transform(LilGuys.Galactocentric, lmc_coord)"
   ]
  },
  {
   "cell_type": "code",
   "execution_count": null,
   "id": "75",
   "metadata": {},
   "outputs": [],
   "source": [
    "lmc_traj[lmc_traj.time .== 0, :]"
   ]
  },
  {
   "cell_type": "code",
   "execution_count": null,
   "id": "76",
   "metadata": {},
   "outputs": [],
   "source": [
    "lmc_gc_2 = LilGuys.Galactocentric(0.448402, -40.9952, -27.5557, -64.2291, -214.992, 205.846)\n"
   ]
  },
  {
   "cell_type": "code",
   "execution_count": null,
   "id": "77",
   "metadata": {},
   "outputs": [],
   "source": [
    "LilGuys.transform(LilGuys.ICRS, lmc_gc_2)"
   ]
  },
  {
   "cell_type": "code",
   "execution_count": null,
   "id": "78",
   "metadata": {},
   "outputs": [],
   "source": [
    "LilGuys.position_of(lmc_gc)"
   ]
  },
  {
   "cell_type": "code",
   "execution_count": null,
   "id": "79",
   "metadata": {},
   "outputs": [],
   "source": [
    "LilGuys.velocity_of(lmc_gc)"
   ]
  },
  {
   "cell_type": "markdown",
   "id": "80",
   "metadata": {},
   "source": [
    "## Utilities"
   ]
  },
  {
   "cell_type": "code",
   "execution_count": null,
   "id": "81",
   "metadata": {},
   "outputs": [],
   "source": [
    "# some simple python utilities\n",
    "py2f(x) = pyconvert(Float64, x)\n",
    "py2vec(x) = pyconvert(Vector{Float64}, x)\n",
    "py2mat(x) = pyconvert(Matrix{Float64}, x)'"
   ]
  },
  {
   "cell_type": "code",
   "execution_count": null,
   "id": "82",
   "metadata": {},
   "outputs": [],
   "source": [
    "function make_lmc_pot(Mlmc, r_s; kwargs...)\n",
    "    Φ_lmc = agama.Potential(;\n",
    "            type=\"Spheroid\", alpha=1, beta=3, gamma=1, \n",
    "            scaleradius = r_s,\n",
    "            mass = Mlmc, \n",
    "            outercutoffradius = 10r_s, \n",
    "            cutoffStrength=4,\n",
    "            kwargs...\n",
    "        )\n",
    "    return Φ_lmc\n",
    "end\n"
   ]
  },
  {
   "cell_type": "code",
   "execution_count": null,
   "id": "83",
   "metadata": {},
   "outputs": [],
   "source": [
    "function calc_lmc_orbit(pot, gc_coord; \n",
    "        Mlmc = t->15,\n",
    "        reflex_motion = true,\n",
    "        dynamical_friction = true,\n",
    "        Λ = nothing,\n",
    "        σv = nothing,\n",
    "        vasiliev_units = false,\n",
    "        time = -10 / T2GYR, \n",
    "        r_s = 8.5 * (Mlmc / 10)^0.6,\n",
    "        timestep = :adaptive,\n",
    "        kwargs...\n",
    "    )\n",
    "\n",
    "    \n",
    "    if vasiliev_units\n",
    "        acc_scale = (V_V2KMS/ V2KMS)^2  * (V_R2KPC / R2KPC)^-1\n",
    "        v_scale = V2KMS / V_V2KMS\n",
    "        m_scale = M2MSUN / V_M2MSUN\n",
    "    else\n",
    "        v_scale = m_scale = acc_scale = 1\n",
    "    end\n",
    "    \n",
    "\n",
    "    if σv === nothing\n",
    "        calc_σv_interp(pot, log_r=LinRange(2, -2.0, 1000))\n",
    "    end\n",
    "\n",
    "    ρ(x) = py2f(pot.density(x))\n",
    "    \n",
    "    Φ_lmc = make_lmc_pot(Mlmc(0) * m_scale, r_s)\n",
    "\n",
    "\n",
    "    f_fric(pos, vel, t) = dynamical_friction * a_dyn_friction(pos, vel, \n",
    "        r_s=r_s,\n",
    "        σv=σv, ρ=ρ, M=Mlmc(t) * m_scale, Λ = sqrt(calc_r(pos) / 0.8r_s )\n",
    "    )\n",
    "\n",
    "\n",
    "    f_grav(pos, vel, t) = py2vec(\n",
    "        pot.force(pos) - reflex_motion * Mlmc(t) / Mlmc(0) * Φ_lmc.force(-pos)\n",
    "    )\n",
    "\n",
    "    f_acc(pos, vel, t) = acc_scale * (f_grav(pos, vel*v_scale, t) .+ f_fric(pos, vel *v_scale, t) )\n",
    "\n",
    "    orbit = leap_frog(gc_coord, f_acc; time=time, timestep=timestep, kwargs...)\n",
    "\n",
    "    return orbit\n",
    "end\n"
   ]
  },
  {
   "cell_type": "code",
   "execution_count": null,
   "id": "84",
   "metadata": {},
   "outputs": [],
   "source": [
    "function make_lmc_mw_pot_from_orbit(pot, orbit;\n",
    "        reflex_motion=true,\n",
    "        Mlmc=t->15,\n",
    "        r_s=8.5 , \n",
    "        vasiliev_units=false,     \n",
    "    )\n",
    "    \n",
    "    time = orbit.time\n",
    "\n",
    "    if vasiliev_units\n",
    "        m_scale = M2MSUN / V_M2MSUN\n",
    "        time *= T2GYR / V_T2GYR\n",
    "    else\n",
    "        m_scale = 1\n",
    "    end\n",
    "    \n",
    "    if orbit.time[2] < orbit.time[1]\n",
    "        position = orbit.position[:, end:-1:1]\n",
    "        time = reverse(time)\n",
    "    end\n",
    "\n",
    "    centre = vcat(time', position)\n",
    "\n",
    "    centre = PyArray(centre')\n",
    "    scale = PyArray(vcat(time',  Mlmc.(time)' ./ Mlmc(0), ones(length(time))')')\n",
    "\n",
    "    pot_lmc = make_lmc_pot(m_scale * Mlmc(0), r_s, center=centre,scale=scale )\n",
    "\n",
    "    \n",
    "    if reflex_motion != 0\n",
    "        N = length(time)\n",
    "        a_reflex = pot_lmc.force(zeros(length(time), 3), t=time)\n",
    "        nptime = PyMatrix(reshape(time,(:, 1)))\n",
    "        mat_reflex = np.hstack([nptime, -a_reflex])        \n",
    "        pot_reflex = agama.Potential(type=\"UniformAcceleration\", file=mat_reflex)\n",
    "        \n",
    "        Φ = agama.Potential(pot, pot_lmc, pot_reflex)\n",
    "    else\n",
    "        Φ = agama.Potential(pot, pot_lmc)\n",
    "    end\n",
    "\n",
    "    return Φ\n",
    "end"
   ]
  },
  {
   "cell_type": "code",
   "execution_count": null,
   "id": "85",
   "metadata": {},
   "outputs": [],
   "source": [
    "function make_lmc_mw_pot(pot, lmc_gc;\n",
    "        reflex_motion=true,\n",
    "        Mlmc=t->15,\n",
    "        r_s=8.5 * (Mlmc / 10)^0.6, \n",
    "        vasiliev_units=false, \n",
    "        kwargs...\n",
    "    \n",
    "    )\n",
    "    orbit = calc_lmc_orbit(pot, lmc_gc; Mlmc=Mlmc, r_s=r_s, vasiliev_units=vasiliev_units, reflex_motion=reflex_motion, kwargs...)\n",
    "    Φ = make_lmc_mw_pot_from_orbit(pot, orbit; Mlmc=Mlmc, r_s=r_s, vasiliev_units=vasiliev_units, reflex_motion=reflex_motion)\n",
    "\n",
    "    return Φ, orbit\n",
    "end"
   ]
  },
  {
   "cell_type": "markdown",
   "id": "86",
   "metadata": {},
   "source": [
    "## Orbits"
   ]
  },
  {
   "cell_type": "code",
   "execution_count": null,
   "id": "87",
   "metadata": {},
   "outputs": [],
   "source": [
    "Φ_v21_simple = make_lmc_mw_pot_from_orbit(vasiliev21_frozen, orbit_lmc_act,\n",
    "    Mlmc=15, \n",
    "    vasiliev_units=true,\n",
    "    reflex_motion=true,\n",
    ")"
   ]
  },
  {
   "cell_type": "code",
   "execution_count": null,
   "id": "88",
   "metadata": {},
   "outputs": [],
   "source": [
    "Φ_evolving, orbit_lmc = make_lmc_mw_pot(vasiliev21_frozen, lmc_gc,\n",
    "    Mlmc=15, \n",
    "    σv=x->120, \n",
    "    vasiliev_units=true, \n",
    "    reflex_motion=true, \n",
    "    dynamical_friction=true\n",
    ")"
   ]
  },
  {
   "cell_type": "markdown",
   "id": "89",
   "metadata": {
    "jp-MarkdownHeadingCollapsed": true
   },
   "source": [
    "### Reflex acceleration"
   ]
  },
  {
   "cell_type": "code",
   "execution_count": null,
   "id": "90",
   "metadata": {},
   "outputs": [],
   "source": [
    "times = acc_v21.time\n",
    "\n",
    "orbit_lmc_act_resamp = resample(orbit_lmc_act, times * V_T2GYR / T2GYR)"
   ]
  },
  {
   "cell_type": "code",
   "execution_count": null,
   "id": "91",
   "metadata": {},
   "outputs": [],
   "source": [
    "Φ_lmc_stat = make_lmc_pot(15 * M2MSUN / V_M2MSUN, 10.84)"
   ]
  },
  {
   "cell_type": "code",
   "execution_count": null,
   "id": "92",
   "metadata": {},
   "outputs": [],
   "source": [
    "Φ_lmc_stat.totalMass() * V_M2MSUN / M2MSUN"
   ]
  },
  {
   "cell_type": "code",
   "execution_count": null,
   "id": "93",
   "metadata": {},
   "outputs": [],
   "source": [
    "vasiliev21_frozen.totalMass() * V_M2MSUN / M2MSUN"
   ]
  },
  {
   "cell_type": "code",
   "execution_count": null,
   "id": "94",
   "metadata": {},
   "outputs": [],
   "source": []
  },
  {
   "cell_type": "code",
   "execution_count": null,
   "id": "95",
   "metadata": {},
   "outputs": [],
   "source": [
    "Φ_lmc_evolving = Φ_evolving[1]"
   ]
  },
  {
   "cell_type": "code",
   "execution_count": null,
   "id": "96",
   "metadata": {},
   "outputs": [],
   "source": [
    "\n",
    "acc_me = -Φ_lmc_evolving.force(zeros(length(times), 3),  t=times) |> py2mat\n",
    "acc_me_fmw = vasiliev21_frozen.force(orbit_lmc_act_resamp.position', t=times) *  15 / 80.19 |> py2mat\n",
    "\n",
    "acc_me_act_orbit = Φ_lmc_stat.force(orbit_lmc_act_resamp.position',  t=times) |>py2mat\n",
    "\n",
    "# the actual acceleration of the model\n",
    "acc_v21_mat = hcat(acc_v21.x, acc_v21.y, acc_v21.z)'\n"
   ]
  },
  {
   "cell_type": "code",
   "execution_count": null,
   "id": "97",
   "metadata": {},
   "outputs": [],
   "source": [
    "fig = LilGuys.Plots.plot_xyz(acc_me, acc_me_fmw, acc_me_act_orbit, acc_v21_mat, \n",
    "    labels = [\"my orbit\", \"rescaled mw-lmc force\", \"V+21 simple\", \"V+21 actual\"],\n",
    "    units=\"\",\n",
    "    xlabel=\"a_x\" ,\n",
    "    ylabel=\"a_y\",\n",
    "    zlabel=\"a_z\",\n",
    ")\n",
    "fig"
   ]
  },
  {
   "cell_type": "code",
   "execution_count": null,
   "id": "98",
   "metadata": {},
   "outputs": [],
   "source": [
    "vasiliev21"
   ]
  },
  {
   "cell_type": "code",
   "execution_count": null,
   "id": "99",
   "metadata": {},
   "outputs": [],
   "source": [
    "fig = Figure()\n",
    "ax = Axis(fig[1,1], xlabel=\"time / Gyr\", ylabel = L\"|a_\\textrm{MW}|\")\n",
    "\n",
    "lines!(times, calc_r(acc_me), label=\"my orbit\")\n",
    "lines!(times, calc_r(acc_me_fmw), label=\"rescaled mw-lmc force\")\n",
    "lines!(times, calc_r(acc_me_act_orbit), label=\"V+21 simple\")\n",
    "lines!(times, calc_r(acc_v21_mat), label=\"V+21 actual\")\n",
    "\n",
    "axislegend(position=:lt)\n",
    "fig"
   ]
  },
  {
   "cell_type": "markdown",
   "id": "100",
   "metadata": {},
   "source": [
    "In the plot above, I compare several different methods for calculating the reflex acceleration of the milkyway.\n",
    "- `my orbit` is the reflex motion calculated by the force at zero due to the LMC on my fiducial LMC orbit\n",
    "- `rescaled mw-lmc force` uses the V+21 orbit but instead calculates the force of the MW on the LMC and rescales by the mass ratio\n",
    "- `V+21 simple` uses the same method as `my orbit` except along the LMC orbit of V+21\n",
    "- `V+21` contains the actual N-body model's acceleration of the MW\n",
    "\n",
    "COmparing these models, all are similer except the rescaled mw-lmc force underestimates the acceleration. The actual acceleration deviates from both my orbit and the `V+21 simple` models especially past t=0, but for past times, the magnitude of acceleration is fairly close for each model."
   ]
  },
  {
   "cell_type": "markdown",
   "id": "101",
   "metadata": {
    "jp-MarkdownHeadingCollapsed": true
   },
   "source": [
    "### Orbits"
   ]
  },
  {
   "cell_type": "code",
   "execution_count": null,
   "id": "102",
   "metadata": {},
   "outputs": [],
   "source": []
  },
  {
   "cell_type": "code",
   "execution_count": null,
   "id": "103",
   "metadata": {},
   "outputs": [],
   "source": [
    "orbit_scl = calc_orbit(gc_scl, Φ_evolving, time=-5, units=:vasiliev, N=10_001)"
   ]
  },
  {
   "cell_type": "code",
   "execution_count": null,
   "id": "104",
   "metadata": {},
   "outputs": [],
   "source": [
    "orbit_scl_v21_simple = calc_orbit(gc_scl, Φ_v21_simple, time=-5, units=:vasiliev, N=10_001)"
   ]
  },
  {
   "cell_type": "code",
   "execution_count": null,
   "id": "105",
   "metadata": {},
   "outputs": [],
   "source": [
    "orbit_scl_nolmc = calc_orbit(gc_scl, vasiliev21_frozen, time=-5, units=:vasiliev)"
   ]
  },
  {
   "cell_type": "code",
   "execution_count": null,
   "id": "106",
   "metadata": {},
   "outputs": [],
   "source": [
    "v21_noref = agama.Potential(vasiliev21[0], vasiliev21[1], vasiliev21[3], vasiliev21[4])"
   ]
  },
  {
   "cell_type": "code",
   "execution_count": null,
   "id": "107",
   "metadata": {},
   "outputs": [],
   "source": [
    "orbit_scl_act = calc_orbit(gc_scl, vasiliev21, time=-5, units=:vasiliev, N=10001)"
   ]
  },
  {
   "cell_type": "code",
   "execution_count": null,
   "id": "108",
   "metadata": {},
   "outputs": [],
   "source": [
    "orbit_lmc_act = resample(orbit_lmc_act, orbit_scl.time)"
   ]
  },
  {
   "cell_type": "code",
   "execution_count": null,
   "id": "109",
   "metadata": {},
   "outputs": [],
   "source": [
    "orbit_scl_lmc  = orbit_scl - orbit_lmc \n",
    "orbit_scl_lmc_act = orbit_scl_act - orbit_lmc_act\n",
    "orbit_scl_lmc_simple = orbit_scl_v21_simple - orbit_lmc_act"
   ]
  },
  {
   "cell_type": "code",
   "execution_count": null,
   "id": "110",
   "metadata": {},
   "outputs": [],
   "source": [
    "plot_y_z([\n",
    "    \"vasiliev+21\" => orbit_scl_lmc_act,\n",
    "    \"vasiliev+21 simple\" => orbit_scl_lmc_simple,\n",
    "        \"approx\" => orbit_scl_lmc,\n",
    "\n",
    "        ])"
   ]
  },
  {
   "cell_type": "code",
   "execution_count": null,
   "id": "111",
   "metadata": {},
   "outputs": [],
   "source": []
  },
  {
   "cell_type": "code",
   "execution_count": null,
   "id": "112",
   "metadata": {},
   "outputs": [],
   "source": [
    "plot_y_z([\n",
    "    \"lmc me\" => orbit_lmc,\n",
    "    \"lmc vasiliev+21\" => orbit_lmc_act,\n",
    "    \"scl me\" => orbit_scl,\n",
    "    \"scl vasiliev+21\" => orbit_scl_act,\n",
    "    \"scl vasiliev+21 simple\" => orbit_scl_v21_simple,\n",
    "\n",
    "        ])"
   ]
  },
  {
   "cell_type": "code",
   "execution_count": null,
   "id": "113",
   "metadata": {},
   "outputs": [],
   "source": [
    "orbits = [\n",
    "    \"lmc me\" => orbit_lmc,\n",
    "    \"lmc vasiliev+21\" => orbit_lmc_act,\n",
    "    \"scl me\" => orbit_scl,\n",
    "    \"scl vasiliev+21\" => orbit_scl_act,\n",
    "    \"scl vasiliev+21 simple\" => orbit_scl_v21_simple,\n",
    "\n",
    "        ]"
   ]
  },
  {
   "cell_type": "code",
   "execution_count": null,
   "id": "114",
   "metadata": {},
   "outputs": [],
   "source": [
    "plot_xyz(orbits)"
   ]
  },
  {
   "cell_type": "code",
   "execution_count": null,
   "id": "115",
   "metadata": {},
   "outputs": [],
   "source": [
    "lmc_me = calc_lmc_orbit(vasiliev21_frozen, lmc_gc, \n",
    "    vasiliev_units=true, σv=x->120,\n",
    "    dynamical_friction=true, reflex_motion=true,\n",
    "    timestep=:adaptive\n",
    ")\n",
    "\n",
    "lmc_point = calc_lmc_orbit(vasiliev21_frozen, lmc_gc, \n",
    "    vasiliev_units=true, σv=x->120,\n",
    "    dynamical_friction=false, reflex_motion=false\n",
    ")\n",
    "\n",
    "lmc_dyf = calc_lmc_orbit(vasiliev21_frozen, lmc_gc, \n",
    "    vasiliev_units=true, σv=x->120,\n",
    "    dynamical_friction=true, reflex_motion=false\n",
    ")\n",
    "\n",
    "\n",
    "lmc_ref = calc_lmc_orbit(vasiliev21_frozen, lmc_gc, \n",
    "    vasiliev_units=true, σv=x->120,\n",
    "    dynamical_friction=false, reflex_motion=true\n",
    ")"
   ]
  },
  {
   "cell_type": "code",
   "execution_count": null,
   "id": "116",
   "metadata": {},
   "outputs": [],
   "source": [
    "orbits = [\n",
    "    \"point\" => lmc_point,\n",
    "    \"+reflex\" => lmc_ref,\n",
    "    \"+dyn fric\" => lmc_dyf,\n",
    "    \"reflex & dyn friction\" => lmc_me,\n",
    "    \"vasiliev+2021\" => orbit_lmc_act,\n",
    "    ];"
   ]
  },
  {
   "cell_type": "code",
   "execution_count": null,
   "id": "117",
   "metadata": {},
   "outputs": [],
   "source": [
    "plot_xyz(orbits)"
   ]
  },
  {
   "cell_type": "code",
   "execution_count": null,
   "id": "118",
   "metadata": {},
   "outputs": [],
   "source": [
    "fig = Figure()\n",
    "ax = Axis(fig[1, 1])\n",
    "plot_v_circ!(Φ_lmc_stat, vasiliev_units=true, log=false, log_r=log10.(LinRange(0.1, 50, 100)))\n",
    "\n",
    "fig"
   ]
  },
  {
   "cell_type": "code",
   "execution_count": null,
   "id": "119",
   "metadata": {},
   "outputs": [],
   "source": [
    "Φ_lmc_stat.density([30, 0, 0])"
   ]
  },
  {
   "cell_type": "code",
   "execution_count": null,
   "id": "120",
   "metadata": {},
   "outputs": [],
   "source": [
    "fig = plot_r_t(orbits, legend=false)\n",
    "\n",
    "lines!(lmc_orbit.time * T2GYR, r_scl_lmc, label=\"Scl-LMC \")\n",
    "axislegend()\n",
    "fig"
   ]
  },
  {
   "cell_type": "code",
   "execution_count": null,
   "id": "121",
   "metadata": {},
   "outputs": [],
   "source": [
    "log10(LilGuys.kpc_to_arcmin(LilGuys.calc_break_radius(8.0 / V2KMS, 0.1 / T2GYR), 83.2))"
   ]
  },
  {
   "cell_type": "code",
   "execution_count": null,
   "id": "122",
   "metadata": {},
   "outputs": [],
   "source": [
    "log10(20)"
   ]
  },
  {
   "cell_type": "code",
   "execution_count": null,
   "id": "123",
   "metadata": {},
   "outputs": [],
   "source": [
    "fig, ax = FigAxis(\n",
    "    xlabel = \"time / Gyr\",\n",
    "    ylabel = \"distance from Scl to LMC / kpc\",\n",
    "    limits=(nothing, nothing, 0, nothing),\n",
    "    )\n",
    "\n",
    "lines!(lmc_orbit.time * T2GYR, r_scl_lmc)\n",
    "\n",
    "fig"
   ]
  },
  {
   "cell_type": "code",
   "execution_count": null,
   "id": "124",
   "metadata": {},
   "outputs": [],
   "source": [
    "lmc_orbit.time[argmin(r_scl_lmc)] * T2GYR"
   ]
  },
  {
   "cell_type": "code",
   "execution_count": null,
   "id": "125",
   "metadata": {},
   "outputs": [],
   "source": [
    "minimum(r_scl_lmc)"
   ]
  },
  {
   "cell_type": "code",
   "execution_count": null,
   "id": "126",
   "metadata": {},
   "outputs": [],
   "source": [
    "lmc_orbit.time ./ scl_lmc_orbit.time"
   ]
  },
  {
   "cell_type": "code",
   "execution_count": null,
   "id": "127",
   "metadata": {},
   "outputs": [],
   "source": [
    "plot_v_circ(ep20)"
   ]
  },
  {
   "cell_type": "code",
   "execution_count": null,
   "id": "128",
   "metadata": {},
   "outputs": [],
   "source": [
    "plot_v_circ(vasiliev21, vasiliev_units=true)"
   ]
  },
  {
   "cell_type": "markdown",
   "id": "129",
   "metadata": {},
   "source": [
    "# Alla Vasiliev 2024"
   ]
  },
  {
   "cell_type": "markdown",
   "id": "130",
   "metadata": {},
   "source": [
    "Similar to above but for ...\n",
    "\n",
    "- Multipole expansion of evolving N-body MW potential\n",
    "- Moving & Evolving multipole expansion of an LMC potential from their N-body simulation\n",
    "- The non-inertial acceleration of the MW\n",
    "\n",
    "My goal with the plots below is to investigate these effects and how each one in turn influences both the orbtits of the LMC and Scl. To 2st order, each effect is important but likely a full N-body simulation is required to capture the full nuance of interacting galaxies."
   ]
  },
  {
   "cell_type": "code",
   "execution_count": null,
   "id": "131",
   "metadata": {},
   "outputs": [],
   "source": [
    "using CSV, DataFrames"
   ]
  },
  {
   "cell_type": "code",
   "execution_count": null,
   "id": "132",
   "metadata": {},
   "outputs": [],
   "source": [
    "function load_lmc_traj(modelname)\n",
    "    lmc_file = ENV[\"DWARFS_ROOT\"] * \"/agama/potentials/vasiliev24/$modelname/trajlmc.txt\"\n",
    "    lmc_traj = CSV.read(lmc_file, DataFrame, delim=\" \", ignorerepeated=true, header = [:time, :x, :y, :z, :v_x, :v_y, :v_z])\n",
    "    lmc_traj = lmc_traj\n",
    "    lmc_traj = DataFrame(reverse(eachrow(lmc_traj)))\n",
    "        \n",
    "    orbit_lmc_act = Orbit(time=lmc_traj.time  * V_T2GYR/ T2GYR, \n",
    "        position = [lmc_traj.x lmc_traj.y lmc_traj.z]',\n",
    "        velocity = [lmc_traj.v_x lmc_traj.v_y lmc_traj.v_z]' * V_V2KMS / V2KMS\n",
    "        )\n",
    "    return orbit_lmc_act\n",
    "end"
   ]
  },
  {
   "cell_type": "code",
   "execution_count": null,
   "id": "133",
   "metadata": {},
   "outputs": [],
   "source": [
    "lmc_coord = ICRS(ra = 81,\n",
    "    dec = -69.75, \n",
    "    pmra = 1.8,\n",
    "    pmdec = 0.35,\n",
    "    radial_velocity = 260,\n",
    "    distance = 50.\n",
    "    )"
   ]
  },
  {
   "cell_type": "code",
   "execution_count": null,
   "id": "134",
   "metadata": {},
   "outputs": [],
   "source": [
    "lmc_gc = LilGuys.Galactocentric( -0.61,  -41.02,  -26.83,  -69.84,  -221.66,  214.12)"
   ]
  },
  {
   "cell_type": "code",
   "execution_count": null,
   "id": "135",
   "metadata": {},
   "outputs": [],
   "source": [
    "numpy = pyimport(\"numpy\")"
   ]
  },
  {
   "cell_type": "markdown",
   "id": "136",
   "metadata": {
    "jp-MarkdownHeadingCollapsed": true
   },
   "source": [
    "### other units"
   ]
  },
  {
   "cell_type": "code",
   "execution_count": null,
   "id": "137",
   "metadata": {},
   "outputs": [],
   "source": [
    "pot_frozen = agama.Potential( \n",
    "    pydict(type=\"Spheroid\", mass=1.2, scaleRadius=0.2, outerCutoffRadius=1.8, gamma=0, beta=1.8),\n",
    "    pydict(type=\"Disk\", surfaceDensity=0.088431375, scaleRadius=3.0, scaleHeight=-0.25),\n",
    "    pydict(type=\"Spheroid\", densityNorm=0.97e-3, scaleRadius=16.5, outerCutoffRadius=500, cutoffStrength=4, beta=3, gamma=1),\n",
    "    )"
   ]
  },
  {
   "cell_type": "code",
   "execution_count": null,
   "id": "138",
   "metadata": {},
   "outputs": [],
   "source": [
    "lmc_traj = CSV.read(\"/arc7/home/dboyea/dwarfs/agama/potentials/vasiliev24/scripts/lmc_orbit.csv\", DataFrame)\n",
    "\n",
    "orbit_lmc_agama = Orbit(time=lmc_traj.t * V_T2GYR /T2GYR ,\n",
    "        position = [lmc_traj.x lmc_traj.y lmc_traj.z]',\n",
    "        velocity = ([lmc_traj.vx lmc_traj.vy lmc_traj.vz] / V2KMS)' \n",
    "        )"
   ]
  },
  {
   "cell_type": "code",
   "execution_count": null,
   "id": "139",
   "metadata": {},
   "outputs": [],
   "source": [
    "pwd()"
   ]
  },
  {
   "cell_type": "code",
   "execution_count": null,
   "id": "140",
   "metadata": {},
   "outputs": [],
   "source": [
    "gridr = numpy.logspace(1, 3, 32)\n",
    "\n",
    "pot_halo = agama.Potential(type=\"Spheroid\", densityNorm=0.97e-3, scaleRadius=16.5, outerCutoffRadius=500, cutoffStrength=4, beta=3, gamma=1)\n",
    "\n",
    "df = agama.GalaxyModel(pot_halo, agama.DistributionFunction(type=\"quasispherical\", potential=pot_halo))\n",
    "sigmas = py2mat(df.moments(numpy.column_stack((gridr, gridr*0, gridr*0)), dens=false, vel=false))[1, :] .^ 0.5\n",
    "\n",
    "sigmafnc = agama.Spline(gridr, sigmas)"
   ]
  },
  {
   "cell_type": "code",
   "execution_count": null,
   "id": "141",
   "metadata": {},
   "outputs": [],
   "source": [
    "gridr"
   ]
  },
  {
   "cell_type": "code",
   "execution_count": null,
   "id": "142",
   "metadata": {},
   "outputs": [],
   "source": [
    "df.totalMass()"
   ]
  },
  {
   "cell_type": "code",
   "execution_count": null,
   "id": "143",
   "metadata": {},
   "outputs": [],
   "source": [
    "df.totalMass()"
   ]
  },
  {
   "cell_type": "code",
   "execution_count": null,
   "id": "144",
   "metadata": {},
   "outputs": [],
   "source": [
    "sigmas * V2KMS"
   ]
  },
  {
   "cell_type": "code",
   "execution_count": null,
   "id": "145",
   "metadata": {},
   "outputs": [],
   "source": [
    "Φ_evolving, orbit_lmc = make_lmc_mw_pot(pot_frozen, lmc_gc,\n",
    "    Mlmc=20, \n",
    "    r_s=9,\n",
    "    σv= x->py2f(sigmafnc(x)), \n",
    "    vasiliev_units=false, \n",
    "    reflex_motion=true, \n",
    "    dynamical_friction=true\n",
    ")"
   ]
  },
  {
   "cell_type": "code",
   "execution_count": null,
   "id": "146",
   "metadata": {},
   "outputs": [],
   "source": [
    "extrema(calc_r(orbit_lmc.position))"
   ]
  },
  {
   "cell_type": "code",
   "execution_count": null,
   "id": "147",
   "metadata": {},
   "outputs": [],
   "source": [
    "plot_r_t([\n",
    "    \"lmc me\" => orbit_lmc,\n",
    "    \"agama\" => orbit_lmc_agama,\n",
    "\n",
    "        ])"
   ]
  },
  {
   "cell_type": "code",
   "execution_count": null,
   "id": "148",
   "metadata": {},
   "outputs": [],
   "source": [
    "plot_y_z([\n",
    "    \"lmc me\" => orbit_lmc,\n",
    "    \"lmc vasiliev+21\" => orbit_lmc_agama,\n",
    "\n",
    "        ])"
   ]
  },
  {
   "cell_type": "markdown",
   "id": "149",
   "metadata": {},
   "source": [
    "almost exactly matches agama code. Slight differences are likely due to how agama internally grids data and that we use a different unit system than in the notebook. "
   ]
  },
  {
   "cell_type": "markdown",
   "id": "150",
   "metadata": {},
   "source": [
    "## Bound mass"
   ]
  },
  {
   "cell_type": "code",
   "execution_count": null,
   "id": "151",
   "metadata": {},
   "outputs": [],
   "source": [
    "function load_accel(modelname)\n",
    "    filename = ENV[\"DWARFS_ROOT\"] * \"/agama/potentials/vasiliev24/$modelname/accel.txt\"\n",
    "    df =  CSV.read(filename, DataFrame, delim=\" \", ignorerepeated=true, comment=\"#\", header=[\"time\", \"x\", \"y\", \"z\"])\n",
    "    acc_scale = (V_V2KMS/ V2KMS)^2  * (V_R2KPC / R2KPC)^-1\n",
    "    df.x .*= acc_scale\n",
    "    df.y .*= acc_scale\n",
    "    df.z .*= acc_scale\n",
    "    df.time * V_T2GYR, [df.x df.y df.z]'\n",
    "end"
   ]
  },
  {
   "cell_type": "code",
   "execution_count": null,
   "id": "152",
   "metadata": {},
   "outputs": [],
   "source": [
    "load_accel(\"L2M10\")"
   ]
  },
  {
   "cell_type": "code",
   "execution_count": null,
   "id": "153",
   "metadata": {},
   "outputs": [],
   "source": [
    "function load_bound_mass(modelname)\n",
    "    filename = ENV[\"DWARFS_ROOT\"] * \"/agama/potentials/vasiliev24/$modelname/boundmass.txt\"\n",
    "    df =  CSV.read(filename, DataFrame, delim=\" \", ignorerepeated=true, comment=\"#\", header=[\"time\", \"mass\"])\n",
    "    df.mass ./= M2MSUN\n",
    "    df.time .*= V_T2GYR\n",
    "    df\n",
    "end"
   ]
  },
  {
   "cell_type": "code",
   "execution_count": null,
   "id": "154",
   "metadata": {},
   "outputs": [],
   "source": [
    "boundmass = [\n",
    "    \"L2M10\" => load_bound_mass(\"L2M10\"),\n",
    "    \"L2M11\" => load_bound_mass(\"L2M11\"),\n",
    "    \"L3M10\" => load_bound_mass(\"L3M10\"),\n",
    "    \"L3M11\" => load_bound_mass(\"L3M11\"),\n",
    "    ];"
   ]
  },
  {
   "cell_type": "code",
   "execution_count": null,
   "id": "155",
   "metadata": {},
   "outputs": [],
   "source": [
    "fig = Figure()\n",
    "ax = Axis(fig[1,1],\n",
    "    xlabel = \"time / Gyr\"\n",
    ")\n",
    "\n",
    "for (label, df) in boundmass\n",
    "    plot!(df.time, df.mass, label = label)\n",
    "end\n",
    "\n",
    "axislegend()\n",
    "\n",
    "fig"
   ]
  },
  {
   "cell_type": "markdown",
   "id": "156",
   "metadata": {},
   "source": [
    "### L3M11"
   ]
  },
  {
   "cell_type": "code",
   "execution_count": null,
   "id": "157",
   "metadata": {},
   "outputs": [],
   "source": [
    "modelname = \"L3M11\""
   ]
  },
  {
   "cell_type": "code",
   "execution_count": null,
   "id": "158",
   "metadata": {},
   "outputs": [],
   "source": [
    "df = load_bound_mass(\"L3M11\")\n",
    "boundmass_L3M10 = LilGuys.lerp(df.time / T2GYR, df.mass)"
   ]
  },
  {
   "cell_type": "code",
   "execution_count": null,
   "id": "159",
   "metadata": {},
   "outputs": [],
   "source": [
    "pot_halo = agama.Potential(ENV[\"DWARFS_ROOT\"] * \"/agama/potentials/vasiliev24/$modelname/potential_mw_halo.ini\")\n",
    "pot_frozen = agama.Potential(ENV[\"DWARFS_ROOT\"] * \"/agama/potentials/vasiliev24/$modelname/potential_mw_init.ini\")\n",
    "pot_evolving = agama.Potential(ENV[\"DWARFS_ROOT\"] * \"/agama/potentials/vasiliev24/$modelname/potential.ini\")\n"
   ]
  },
  {
   "cell_type": "code",
   "execution_count": null,
   "id": "160",
   "metadata": {},
   "outputs": [],
   "source": [
    "orbit_lmc_act = load_lmc_traj(modelname)"
   ]
  },
  {
   "cell_type": "code",
   "execution_count": null,
   "id": "161",
   "metadata": {},
   "outputs": [],
   "source": [
    "gridr = numpy.logspace(1, 3, 16)\n",
    "\n",
    "df = agama.GalaxyModel(pot_halo, agama.DistributionFunction(type=\"quasispherical\", potential=pot_halo))\n",
    "sigmas = py2mat(df.moments(numpy.column_stack((gridr, gridr*0, gridr*0)), dens=false, vel=false))[1, :] .^ 0.5\n",
    "\n",
    "sigmafnc = agama.Spline(gridr, sigmas)"
   ]
  },
  {
   "cell_type": "code",
   "execution_count": null,
   "id": "162",
   "metadata": {},
   "outputs": [],
   "source": [
    "sigmas"
   ]
  },
  {
   "cell_type": "code",
   "execution_count": null,
   "id": "163",
   "metadata": {},
   "outputs": [],
   "source": [
    "Φ_evolving, orbit_lmc = make_lmc_mw_pot(pot_frozen, lmc_gc,\n",
    "    Mlmc=x->30, \n",
    "    r_s=11.7,\n",
    "    σv= x->py2f(sigmafnc(x)), \n",
    "    vasiliev_units=true, \n",
    "    reflex_motion=true, \n",
    "    dynamical_friction=true,\n",
    "    dt_max=5,\n",
    "\n",
    ")"
   ]
  },
  {
   "cell_type": "code",
   "execution_count": null,
   "id": "164",
   "metadata": {},
   "outputs": [],
   "source": [
    "Φ_evolving_massevolv, orbit_lmc_massevolv = make_lmc_mw_pot(pot_frozen, lmc_gc,\n",
    "    Mlmc=boundmass_L3M10, \n",
    "    r_s=11.7,\n",
    "    σv= x->py2f(sigmafnc(x)), \n",
    "    vasiliev_units=true, \n",
    "    reflex_motion=true, \n",
    "    dynamical_friction=1.25,\n",
    "    dt_max=5,\n",
    "\n",
    ")"
   ]
  },
  {
   "cell_type": "code",
   "execution_count": null,
   "id": "165",
   "metadata": {},
   "outputs": [],
   "source": [
    "Φ_evolving_tuned, orbit_lmc_tuned  = make_lmc_mw_pot(pot_frozen, lmc_gc,\n",
    "    Mlmc=x->15, \n",
    "    r_s=11.7,\n",
    "    σv= x->py2f(sigmafnc(x)), \n",
    "    vasiliev_units=true, \n",
    "    reflex_motion=true, \n",
    "    dynamical_friction=1.15,\n",
    "    dt_max=5,\n",
    ")"
   ]
  },
  {
   "cell_type": "code",
   "execution_count": null,
   "id": "166",
   "metadata": {},
   "outputs": [],
   "source": [
    "lmc_traj = CSV.read(\"/arc7/home/dboyea/dwarfs/agama/potentials/vasiliev24/scripts/L3M11_orbit.csv\", DataFrame)\n",
    "\n",
    "orbit_lmc_agama = Orbit(time=lmc_traj.t * V_T2GYR /T2GYR ,\n",
    "        position = [lmc_traj.x lmc_traj.y lmc_traj.z]',\n",
    "        velocity = ([lmc_traj.vx lmc_traj.vy lmc_traj.vz] / V2KMS)' \n",
    "        )"
   ]
  },
  {
   "cell_type": "code",
   "execution_count": null,
   "id": "167",
   "metadata": {},
   "outputs": [],
   "source": [
    "orbits = [\n",
    "    \"lmc me\" => orbit_lmc,\n",
    "    \"lmc tuned\" => orbit_lmc_tuned,\n",
    "    \"lmc + mass evol\" => orbit_lmc_massevolv,\n",
    "    \"vasiliev24\" => orbit_lmc_act,\n",
    "    \"agama\" => orbit_lmc_agama,\n",
    "\n",
    "        ]"
   ]
  },
  {
   "cell_type": "code",
   "execution_count": null,
   "id": "168",
   "metadata": {},
   "outputs": [],
   "source": [
    "LP = LilGuys.MakieExtension"
   ]
  },
  {
   "cell_type": "code",
   "execution_count": null,
   "id": "169",
   "metadata": {},
   "outputs": [],
   "source": [
    "function get_acc(Φ, time)\n",
    "    return Φ[-1].force(np.zeros((length(time), 3)), t=time / V_T2GYR) .* (V_V2KMS / V2KMS)^2  |> py2mat\n",
    "end"
   ]
  },
  {
   "cell_type": "code",
   "execution_count": null,
   "id": "170",
   "metadata": {},
   "outputs": [],
   "source": [
    "time, acc = load_accel(modelname)"
   ]
  },
  {
   "cell_type": "code",
   "execution_count": null,
   "id": "171",
   "metadata": {},
   "outputs": [],
   "source": [
    "acc_tuned = get_acc(Φ_evolving_tuned, time)\n",
    "acc_massevolv = get_acc(Φ_evolving_massevolv, time)\n",
    "acc_first = get_acc(Φ_evolving, time)\n"
   ]
  },
  {
   "cell_type": "code",
   "execution_count": null,
   "id": "172",
   "metadata": {},
   "outputs": [],
   "source": [
    "LP.plot_xyz(acc_first, acc_tuned, acc_massevolv, acc)"
   ]
  },
  {
   "cell_type": "code",
   "execution_count": null,
   "id": "173",
   "metadata": {},
   "outputs": [],
   "source": [
    "plot_r_t(orbits)"
   ]
  },
  {
   "cell_type": "code",
   "execution_count": null,
   "id": "174",
   "metadata": {},
   "outputs": [],
   "source": [
    "plot_y_z(orbits)"
   ]
  },
  {
   "cell_type": "code",
   "execution_count": null,
   "id": "175",
   "metadata": {},
   "outputs": [],
   "source": [
    "orbit_scl_tuned = calc_orbit(gc_scl, Φ_evolving_tuned, time=-5, units=:vasiliev, N=10_001)"
   ]
  },
  {
   "cell_type": "code",
   "execution_count": null,
   "id": "176",
   "metadata": {},
   "outputs": [],
   "source": [
    "orbit_scl_massevolv = calc_orbit(gc_scl, Φ_evolving_massevolv, time=-5, units=:vasiliev)"
   ]
  },
  {
   "cell_type": "code",
   "execution_count": null,
   "id": "177",
   "metadata": {},
   "outputs": [],
   "source": [
    "orbit_scl_act = calc_orbit(gc_scl, pot_evolving, time=-5, units=:vasiliev, N=10001)"
   ]
  },
  {
   "cell_type": "code",
   "execution_count": null,
   "id": "178",
   "metadata": {},
   "outputs": [],
   "source": [
    "orbits = [\n",
    "    \"lmc tuned\" => orbit_scl_tuned,\n",
    "    \"lmc + mass evol\" => orbit_scl_massevolv,\n",
    "    \"vasiliev24\" => orbit_scl_act,\n",
    "        ]"
   ]
  },
  {
   "cell_type": "code",
   "execution_count": null,
   "id": "179",
   "metadata": {},
   "outputs": [],
   "source": [
    "plot_r_t(orbits)"
   ]
  },
  {
   "cell_type": "code",
   "execution_count": null,
   "id": "180",
   "metadata": {},
   "outputs": [],
   "source": [
    "plot_y_z(orbits)"
   ]
  },
  {
   "cell_type": "markdown",
   "id": "181",
   "metadata": {},
   "source": [
    "### L2M10"
   ]
  },
  {
   "cell_type": "code",
   "execution_count": null,
   "id": "182",
   "metadata": {},
   "outputs": [],
   "source": [
    "modelname = \"L2M10\""
   ]
  },
  {
   "cell_type": "code",
   "execution_count": null,
   "id": "183",
   "metadata": {},
   "outputs": [],
   "source": [
    "pot_frozen = agama.Potential(ENV[\"DWARFS_ROOT\"] * \"/agama/potentials/vasiliev24/$modelname/potential_mw_init.ini\")"
   ]
  },
  {
   "cell_type": "code",
   "execution_count": null,
   "id": "184",
   "metadata": {},
   "outputs": [],
   "source": [
    "orbit_lmc_act = load_lmc_traj(modelname)"
   ]
  },
  {
   "cell_type": "code",
   "execution_count": null,
   "id": "185",
   "metadata": {},
   "outputs": [],
   "source": [
    "gridr = numpy.logspace(1, 3, 16)\n",
    "\n",
    "df = agama.GalaxyModel(pot_frozen, agama.DistributionFunction(type=\"quasispherical\", potential=pot_frozen))\n",
    "sigmas = py2mat(df.moments(numpy.column_stack((gridr, gridr*0, gridr*0)), dens=false, vel=false))[1, :] .^ 0.5\n",
    "\n",
    "sigmafnc = agama.Spline(gridr, sigmas)"
   ]
  },
  {
   "cell_type": "code",
   "execution_count": null,
   "id": "186",
   "metadata": {},
   "outputs": [],
   "source": [
    "df = load_bound_mass(modelname)\n",
    "boundmass_L2M10 = LilGuys.lerp(df.time, df.mass)"
   ]
  },
  {
   "cell_type": "code",
   "execution_count": null,
   "id": "187",
   "metadata": {},
   "outputs": [],
   "source": [
    "Φ_evolving, orbit_lmc = make_lmc_mw_pot(pot_frozen, lmc_gc,\n",
    "    Mlmc=x->20, \n",
    "    r_s=9,\n",
    "    σv= x->py2f(sigmafnc(x)), \n",
    "    vasiliev_units=true, \n",
    "    reflex_motion=true, \n",
    "    dynamical_friction=true,\n",
    "    dt_max=10\n",
    ")"
   ]
  },
  {
   "cell_type": "code",
   "execution_count": null,
   "id": "188",
   "metadata": {},
   "outputs": [],
   "source": [
    "Φ_evolving_massevolv, orbit_lmc_massevolv = make_lmc_mw_pot(pot_frozen, lmc_gc,\n",
    "    Mlmc=boundmass_L2M10, \n",
    "    r_s=9,\n",
    "    σv= x->py2f(sigmafnc(x)), \n",
    "    vasiliev_units=true, \n",
    "    reflex_motion=true, \n",
    "    dynamical_friction=1.3,\n",
    "    dt_max=5,\n",
    "\n",
    ")"
   ]
  },
  {
   "cell_type": "code",
   "execution_count": null,
   "id": "189",
   "metadata": {},
   "outputs": [],
   "source": [
    "Φ_evolving_tuned, orbit_lmc_tuned  = make_lmc_mw_pot(pot_frozen, lmc_gc,\n",
    "    Mlmc=x->13, \n",
    "    r_s=9,\n",
    "    σv= x->py2f(sigmafnc(x)), \n",
    "    vasiliev_units=true, \n",
    "    reflex_motion=true, \n",
    "    dynamical_friction=1.2,\n",
    "    dt_max=5,\n",
    ")"
   ]
  },
  {
   "cell_type": "code",
   "execution_count": null,
   "id": "190",
   "metadata": {},
   "outputs": [],
   "source": [
    "orbits = [\n",
    "    \"lmc me\" => orbit_lmc,\n",
    "    \"lmc tuned\" => orbit_lmc_tuned,\n",
    "    \"lmc + mass evol\" => orbit_lmc_massevolv,\n",
    "    \"vasiliev24\" => orbit_lmc_act,\n",
    "        ]"
   ]
  },
  {
   "cell_type": "code",
   "execution_count": null,
   "id": "191",
   "metadata": {},
   "outputs": [],
   "source": [
    "plot_r_t(orbits)"
   ]
  },
  {
   "cell_type": "code",
   "execution_count": null,
   "id": "192",
   "metadata": {},
   "outputs": [],
   "source": [
    "plot_y_z(orbits)"
   ]
  },
  {
   "cell_type": "code",
   "execution_count": null,
   "id": "193",
   "metadata": {},
   "outputs": [],
   "source": [
    "time, acc = load_accel(modelname)"
   ]
  },
  {
   "cell_type": "code",
   "execution_count": null,
   "id": "194",
   "metadata": {},
   "outputs": [],
   "source": [
    "boundmass_L2M10(0)"
   ]
  },
  {
   "cell_type": "code",
   "execution_count": null,
   "id": "195",
   "metadata": {},
   "outputs": [],
   "source": [
    "acc_tuned = get_acc(Φ_evolving_tuned, time)\n",
    "acc_massevolv = get_acc(Φ_evolving_massevolv, time)\n",
    "acc_first = get_acc(Φ_evolving, time)\n"
   ]
  },
  {
   "cell_type": "code",
   "execution_count": null,
   "id": "196",
   "metadata": {},
   "outputs": [],
   "source": [
    "LP.plot_xyz(acc_first, acc_tuned, acc_massevolv, acc, labels = [\"me\", \"tuned\", \"mass evolv\", \"act\"])"
   ]
  },
  {
   "cell_type": "code",
   "execution_count": null,
   "id": "197",
   "metadata": {},
   "outputs": [],
   "source": [
    "accs = [\n",
    "    \"me\" => acc_first, \n",
    "    \"tuned\" => acc_tuned,\n",
    "    \"mass evolv\" => acc_massevolv, \n",
    "    \"act\" => acc\n",
    "    ]"
   ]
  },
  {
   "cell_type": "code",
   "execution_count": null,
   "id": "198",
   "metadata": {},
   "outputs": [],
   "source": [
    "fig = Figure()\n",
    "ax = Axis(fig[1,1], xlabel = \"time\", ylabel = \"MW acceleration\")\n",
    "\n",
    "for (label, a) in accs\n",
    "    lines!(time * V_T2GYR, calc_r(a), label=label)\n",
    "\n",
    "end\n",
    "axislegend(position=:lt)\n",
    "fig"
   ]
  },
  {
   "cell_type": "code",
   "execution_count": null,
   "id": "199",
   "metadata": {},
   "outputs": [],
   "source": [
    "orbit_scl_tuned = calc_orbit(gc_scl, Φ_evolving_tuned, time=-10, units=:vasiliev, N=10_001)"
   ]
  },
  {
   "cell_type": "code",
   "execution_count": null,
   "id": "200",
   "metadata": {},
   "outputs": [],
   "source": [
    "orbit_scl = calc_orbit(gc_scl, Φ_evolving, time=-10, units=:vasiliev)"
   ]
  },
  {
   "cell_type": "code",
   "execution_count": null,
   "id": "201",
   "metadata": {},
   "outputs": [],
   "source": [
    "orbit_scl_massevolv = calc_orbit(gc_scl, Φ_evolving_massevolv, time=-10, units=:vasiliev)"
   ]
  },
  {
   "cell_type": "code",
   "execution_count": null,
   "id": "202",
   "metadata": {},
   "outputs": [],
   "source": [
    "orbit_scl_act = calc_orbit(gc_scl, pot_evolving, time=-10, units=:vasiliev, N=10001)"
   ]
  },
  {
   "cell_type": "code",
   "execution_count": null,
   "id": "203",
   "metadata": {},
   "outputs": [],
   "source": [
    "orbits = [\n",
    "    \"lmc \" => orbit_scl,\n",
    "    \"lmc tuned\" => orbit_scl_tuned,\n",
    "    \"lmc + mass evol\" => orbit_scl_massevolv,\n",
    "    \"vasiliev24\" => orbit_scl_act,\n",
    "        ]"
   ]
  },
  {
   "cell_type": "code",
   "execution_count": null,
   "id": "204",
   "metadata": {},
   "outputs": [],
   "source": [
    "plot_r_t(orbits)"
   ]
  },
  {
   "cell_type": "code",
   "execution_count": null,
   "id": "205",
   "metadata": {},
   "outputs": [],
   "source": [
    "plot_y_z(orbits)"
   ]
  },
  {
   "cell_type": "markdown",
   "id": "206",
   "metadata": {},
   "source": [
    "### L2M11"
   ]
  },
  {
   "cell_type": "code",
   "execution_count": null,
   "id": "207",
   "metadata": {},
   "outputs": [],
   "source": [
    "modelname = \"L2M11\""
   ]
  },
  {
   "cell_type": "code",
   "execution_count": null,
   "id": "208",
   "metadata": {},
   "outputs": [],
   "source": [
    "pot_frozen = agama.Potential(ENV[\"DWARFS_ROOT\"] * \"/agama/potentials/vasiliev24/$modelname/potential_mw_init.ini\")"
   ]
  },
  {
   "cell_type": "code",
   "execution_count": null,
   "id": "209",
   "metadata": {},
   "outputs": [],
   "source": [
    "orbit_lmc_act = load_lmc_traj(modelname)"
   ]
  },
  {
   "cell_type": "code",
   "execution_count": null,
   "id": "210",
   "metadata": {},
   "outputs": [],
   "source": [
    "gridr = numpy.logspace(1, 3, 16)\n",
    "\n",
    "df = agama.GalaxyModel(pot_frozen, agama.DistributionFunction(type=\"quasispherical\", potential=pot_frozen))\n",
    "sigmas = py2mat(df.moments(numpy.column_stack((gridr, gridr*0, gridr*0)), dens=false, vel=false))[1, :] .^ 0.5\n",
    "\n",
    "sigmafnc = agama.Spline(gridr, sigmas)"
   ]
  },
  {
   "cell_type": "code",
   "execution_count": null,
   "id": "211",
   "metadata": {},
   "outputs": [],
   "source": [
    "Φ_evolving, orbit_lmc = make_lmc_mw_pot(pot_frozen, lmc_gc,\n",
    "    Mlmc=20, \n",
    "    r_s=9,\n",
    "    σv= x->py2f(sigmafnc(x)), \n",
    "    vasiliev_units=true, \n",
    "    reflex_motion=true, \n",
    "    dynamical_friction=true,\n",
    ")"
   ]
  },
  {
   "cell_type": "code",
   "execution_count": null,
   "id": "212",
   "metadata": {},
   "outputs": [],
   "source": [
    "plot_r_t([\n",
    "    \"lmc me\" => orbit_lmc,\n",
    "    \"vasiliev24\" => orbit_lmc_act,\n",
    "\n",
    "        ])"
   ]
  },
  {
   "cell_type": "code",
   "execution_count": null,
   "id": "213",
   "metadata": {},
   "outputs": [],
   "source": [
    "plot_y_z([\n",
    "    \"lmc me\" => orbit_lmc,\n",
    "    \"vasiliev24\" => orbit_lmc_act,\n",
    "\n",
    "        ])"
   ]
  },
  {
   "cell_type": "markdown",
   "id": "214",
   "metadata": {
    "jp-MarkdownHeadingCollapsed": true
   },
   "source": [
    "### L3M10"
   ]
  },
  {
   "cell_type": "code",
   "execution_count": null,
   "id": "215",
   "metadata": {},
   "outputs": [],
   "source": [
    "modelname = \"L3M10\""
   ]
  },
  {
   "cell_type": "code",
   "execution_count": null,
   "id": "216",
   "metadata": {},
   "outputs": [],
   "source": [
    "pot_frozen = agama.Potential(ENV[\"DWARFS_ROOT\"] * \"/agama/potentials/vasiliev24/$modelname/potential_mw_init.ini\")"
   ]
  },
  {
   "cell_type": "code",
   "execution_count": null,
   "id": "217",
   "metadata": {},
   "outputs": [],
   "source": [
    "orbit_lmc_act = load_lmc_traj(modelname)"
   ]
  },
  {
   "cell_type": "code",
   "execution_count": null,
   "id": "218",
   "metadata": {},
   "outputs": [],
   "source": [
    "gridr = numpy.logspace(1, 3, 16)\n",
    "\n",
    "df = agama.GalaxyModel(pot_frozen, agama.DistributionFunction(type=\"quasispherical\", potential=pot_frozen))\n",
    "sigmas = py2mat(df.moments(numpy.column_stack((gridr, gridr*0, gridr*0)), dens=false, vel=false))[1, :] .^ 0.5\n",
    "\n",
    "sigmafnc = agama.Spline(gridr, sigmas)"
   ]
  },
  {
   "cell_type": "code",
   "execution_count": null,
   "id": "219",
   "metadata": {},
   "outputs": [],
   "source": [
    "Φ_evolving, orbit_lmc = make_lmc_mw_pot(pot_frozen, lmc_gc,\n",
    "    Mlmc=30, \n",
    "    r_s=11.7,\n",
    "    σv= x->py2f(sigmafnc(x)), \n",
    "    vasiliev_units=true, \n",
    "    reflex_motion=true, \n",
    "    dynamical_friction=true,\n",
    ")"
   ]
  },
  {
   "cell_type": "code",
   "execution_count": null,
   "id": "220",
   "metadata": {},
   "outputs": [],
   "source": [
    "plot_r_t([\n",
    "    \"lmc me\" => orbit_lmc,\n",
    "    \"vasiliev24\" => orbit_lmc_act,\n",
    "\n",
    "        ])"
   ]
  },
  {
   "cell_type": "code",
   "execution_count": null,
   "id": "221",
   "metadata": {},
   "outputs": [],
   "source": [
    "plot_y_z([\n",
    "    \"lmc me\" => orbit_lmc,\n",
    "    \"vasiliev24\" => orbit_lmc_act,\n",
    "\n",
    "        ])"
   ]
  },
  {
   "cell_type": "markdown",
   "id": "222",
   "metadata": {
    "jp-MarkdownHeadingCollapsed": true
   },
   "source": [
    "# MC with LMC"
   ]
  },
  {
   "cell_type": "code",
   "execution_count": null,
   "id": "223",
   "metadata": {},
   "outputs": [],
   "source": [
    "include(\"agama_utils.jl\")"
   ]
  },
  {
   "cell_type": "code",
   "execution_count": null,
   "id": "224",
   "metadata": {},
   "outputs": [],
   "source": [
    "icrs_samples = LilGuys.rand_coords(icrs, icrs_err, 1000);\n",
    "gc_samples = LilGuys.transform.(Galactocentric, icrs_samples);"
   ]
  },
  {
   "cell_type": "code",
   "execution_count": null,
   "id": "225",
   "metadata": {},
   "outputs": [],
   "source": [
    "icrs_df = LilGuys.to_frame(icrs_samples)"
   ]
  },
  {
   "cell_type": "code",
   "execution_count": null,
   "id": "226",
   "metadata": {},
   "outputs": [],
   "source": [
    "ic = make_agama_init(gc_samples)"
   ]
  },
  {
   "cell_type": "code",
   "execution_count": null,
   "id": "227",
   "metadata": {},
   "outputs": [],
   "source": [
    "lmc_orbit.time"
   ]
  },
  {
   "cell_type": "markdown",
   "id": "228",
   "metadata": {},
   "source": [
    "lmc.times"
   ]
  },
  {
   "cell_type": "code",
   "execution_count": null,
   "id": "229",
   "metadata": {},
   "outputs": [],
   "source": [
    "orbits = calc_orbits(gc_samples, ep20, time=-5 / T2GYR);"
   ]
  },
  {
   "cell_type": "code",
   "execution_count": null,
   "id": "230",
   "metadata": {},
   "outputs": [],
   "source": [
    "plot_y_z(orbits[1].second)"
   ]
  },
  {
   "cell_type": "code",
   "execution_count": null,
   "id": "231",
   "metadata": {},
   "outputs": [],
   "source": [
    "plot_r_t(orbits[1:100], alpha=0.2, color=:black, legend=false)"
   ]
  },
  {
   "cell_type": "code",
   "execution_count": null,
   "id": "232",
   "metadata": {},
   "outputs": [],
   "source": [
    "orbits = calc_orbits(gc_samples, vasiliev21_frozen, time=-5 / V_T2GYR, units=:vasiliev);"
   ]
  },
  {
   "cell_type": "code",
   "execution_count": null,
   "id": "233",
   "metadata": {},
   "outputs": [],
   "source": [
    "plot_y_z(orbits[1].second)"
   ]
  },
  {
   "cell_type": "code",
   "execution_count": null,
   "id": "234",
   "metadata": {},
   "outputs": [],
   "source": [
    "plot_r_t(orbits[1:100], alpha=0.2, color=:black, legend=false)"
   ]
  },
  {
   "cell_type": "code",
   "execution_count": null,
   "id": "235",
   "metadata": {},
   "outputs": [],
   "source": [
    "orbits = calc_orbits(gc_samples, vasiliev21, time=lmc_traj.time, units=:vasiliev);"
   ]
  },
  {
   "cell_type": "code",
   "execution_count": null,
   "id": "236",
   "metadata": {},
   "outputs": [],
   "source": [
    "plot_r_t(orbits[1:100], alpha=0.2, color=:black, legend=false)"
   ]
  },
  {
   "cell_type": "code",
   "execution_count": null,
   "id": "237",
   "metadata": {},
   "outputs": [],
   "source": [
    "rs = [calc_r(lmc_orbit.position, o.position) for (l, o) in orbits];"
   ]
  },
  {
   "cell_type": "code",
   "execution_count": null,
   "id": "238",
   "metadata": {},
   "outputs": [],
   "source": [
    "rs2 = [calc_r(orbit_lmc_me.position, o.position) for (l, o) in orbits];"
   ]
  },
  {
   "cell_type": "code",
   "execution_count": null,
   "id": "239",
   "metadata": {},
   "outputs": [],
   "source": [
    "scl_lmc_times = lmc_orbit.time[argmin.(rs)] * T2GYR"
   ]
  },
  {
   "cell_type": "code",
   "execution_count": null,
   "id": "240",
   "metadata": {},
   "outputs": [],
   "source": [
    "scl_lmc_mins = minimum.(rs)"
   ]
  },
  {
   "cell_type": "code",
   "execution_count": null,
   "id": "241",
   "metadata": {},
   "outputs": [],
   "source": [
    "hist(scl_lmc_times)"
   ]
  },
  {
   "cell_type": "code",
   "execution_count": null,
   "id": "242",
   "metadata": {},
   "outputs": [],
   "source": [
    "hist(scl_lmc_mins)"
   ]
  },
  {
   "cell_type": "code",
   "execution_count": null,
   "id": "243",
   "metadata": {},
   "outputs": [],
   "source": [
    "scatter(icrs_df.pmra, scl_lmc_mins)"
   ]
  },
  {
   "cell_type": "code",
   "execution_count": null,
   "id": "244",
   "metadata": {},
   "outputs": [],
   "source": [
    "scatter(icrs_df.pmdec, scl_lmc_mins)"
   ]
  },
  {
   "cell_type": "code",
   "execution_count": null,
   "id": "245",
   "metadata": {},
   "outputs": [],
   "source": [
    "scatter(icrs_df.distance, scl_lmc_mins)"
   ]
  },
  {
   "cell_type": "code",
   "execution_count": null,
   "id": "246",
   "metadata": {},
   "outputs": [],
   "source": [
    "scatter(icrs_df.distance, scl_lmc_times)"
   ]
  },
  {
   "cell_type": "code",
   "execution_count": null,
   "id": "247",
   "metadata": {},
   "outputs": [],
   "source": [
    "fig, ax = FigAxis(\n",
    "    xlabel = \"time / Gyr\",\n",
    "    ylabel = \"distance from Scl to LMC / kpc\",\n",
    "    limits=(nothing, nothing, 0, nothing),\n",
    "    )\n",
    "\n",
    "\n",
    "for r in rs\n",
    "    lines!(lmc_orbit.time * T2GYR, r, alpha=0.05, color=:black)\n",
    "end\n",
    "\n",
    "fig"
   ]
  },
  {
   "cell_type": "code",
   "execution_count": null,
   "id": "248",
   "metadata": {},
   "outputs": [],
   "source": [
    "orbits[1].second.position"
   ]
  },
  {
   "cell_type": "code",
   "execution_count": null,
   "id": "249",
   "metadata": {},
   "outputs": [],
   "source": [
    "fig, ax = FigAxis(\n",
    "    xlabel = \"time / Gyr\",\n",
    "    ylabel = \"distance  / kpc\",\n",
    "    limits=(nothing, nothing, 0, nothing),\n",
    "    )\n",
    "\n",
    "\n",
    "lines!(lmc_orbit.time * T2GYR, rs[1], label=\"Scl - LMC\")\n",
    "lines!(lmc_orbit.time * T2GYR, rs2[1], label=\"Scl - LMC point particle\")\n",
    "\n",
    "lines!(orbits[1].second.time * T2GYR, calc_r(orbits[1].second.position), label=\"Scl - MW\")\n",
    "\n",
    "axislegend(position=:lb)\n",
    "\n",
    "fig"
   ]
  },
  {
   "cell_type": "code",
   "execution_count": null,
   "id": "250",
   "metadata": {},
   "outputs": [],
   "source": []
  }
 ],
 "metadata": {
  "kernelspec": {
   "display_name": "Julia 1.11.1",
   "language": "julia",
   "name": "julia-1.11"
  },
  "language_info": {
   "file_extension": ".jl",
   "mimetype": "application/julia",
   "name": "julia",
   "version": "1.11.1"
  }
 },
 "nbformat": 4,
 "nbformat_minor": 5
}
