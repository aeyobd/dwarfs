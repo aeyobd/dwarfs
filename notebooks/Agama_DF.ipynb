{
 "cells": [
  {
   "cell_type": "code",
   "execution_count": null,
   "id": "27a5b772-343e-4a71-a17e-3b7d65d9081d",
   "metadata": {},
   "outputs": [],
   "source": [
    "using PythonCall"
   ]
  },
  {
   "cell_type": "code",
   "execution_count": null,
   "id": "a90f987d-709e-49d9-b325-1a95d512a92f",
   "metadata": {},
   "outputs": [],
   "source": [
    "agama = pyimport(\"agama\")"
   ]
  },
  {
   "cell_type": "code",
   "execution_count": null,
   "id": "3966cde6-80cd-4bf0-bd71-d7758f7f0877",
   "metadata": {
    "jupyter": {
     "source_hidden": true
    }
   },
   "outputs": [],
   "source": [
    "import LilGuys"
   ]
  },
  {
   "cell_type": "code",
   "execution_count": null,
   "id": "d6c2b109-82c7-4e6b-80bf-0f17e233f8d9",
   "metadata": {},
   "outputs": [],
   "source": [
    "using CairoMakie, Arya"
   ]
  },
  {
   "cell_type": "code",
   "execution_count": null,
   "id": "15dba911-7f23-4e06-bed4-e35c217eaf29",
   "metadata": {},
   "outputs": [],
   "source": [
    "plot(log10.(r), U,\n",
    "    axis=(;limits=(-3, 2, 0, 1))\n",
    ")"
   ]
  },
  {
   "cell_type": "code",
   "execution_count": null,
   "id": "e34716d2-6cf5-4293-a3b8-7bf3fd0c4af6",
   "metadata": {},
   "outputs": [],
   "source": [
    "U = LinRange(0, 0.999, 10000)"
   ]
  },
  {
   "cell_type": "code",
   "execution_count": null,
   "id": "e27104bd-7fcd-4ee3-9d2b-b494b11da9ee",
   "metadata": {},
   "outputs": [],
   "source": [
    "r = @. sqrt.(U / (1-U)^2)"
   ]
  },
  {
   "cell_type": "code",
   "execution_count": null,
   "id": "2c49b6cf-01d2-4c95-ba4d-0d5e934714b8",
   "metadata": {},
   "outputs": [],
   "source": [
    "Φ = U .- 1"
   ]
  },
  {
   "cell_type": "code",
   "execution_count": null,
   "id": "b51aed4e-1703-484d-974c-e2258d560b5b",
   "metadata": {},
   "outputs": [],
   "source": [
    "ρ = @. 1/4π * 2*(1 - U)^4 * (3 + U) / (1 + U)^3"
   ]
  },
  {
   "cell_type": "code",
   "execution_count": null,
   "id": "6c542d45-e0d6-4ead-8dd5-fe206a5cba3d",
   "metadata": {},
   "outputs": [],
   "source": [
    "vols = 4π/3 * LilGuys.gradient(r .^3)"
   ]
  },
  {
   "cell_type": "code",
   "execution_count": null,
   "id": "ddeffe34-dd4e-499c-a4c6-e2b405b604e3",
   "metadata": {},
   "outputs": [],
   "source": [
    "M = cumsum(ρ .* vols )"
   ]
  },
  {
   "cell_type": "code",
   "execution_count": null,
   "id": "b6b44ca3-d0bb-4a3b-b41f-0e0095526cb3",
   "metadata": {},
   "outputs": [],
   "source": [
    "plot(log10.(r), P2 ./ Φ,\n",
    "    axis=(; limits=(-4, 3, 0, 1))\n",
    ")"
   ]
  },
  {
   "cell_type": "code",
   "execution_count": null,
   "id": "635966f4-c809-46ca-83df-39d6646f5b83",
   "metadata": {},
   "outputs": [],
   "source": [
    "P2 = LilGuys.calc_radial_discrete_Φ(r, ρ .* vols)"
   ]
  },
  {
   "cell_type": "code",
   "execution_count": null,
   "id": "d1e97978-bd5b-4cca-9e47-3130bf3a751c",
   "metadata": {},
   "outputs": [],
   "source": [
    "1 .- U"
   ]
  },
  {
   "cell_type": "code",
   "execution_count": null,
   "id": "c0831ba2-cb79-489c-8269-0e036f016e23",
   "metadata": {},
   "outputs": [],
   "source": [
    "df = LilGuys.DistributionFunction(ρ, 1 .- U, r)"
   ]
  },
  {
   "cell_type": "code",
   "execution_count": null,
   "id": "26447c7d-28b0-4a63-8cb6-31434b92c504",
   "metadata": {},
   "outputs": [],
   "source": [
    "E = LinRange(0.99, 0.01, 100)"
   ]
  },
  {
   "cell_type": "code",
   "execution_count": null,
   "id": "93866c74-5b28-4108-b5e9-a7988971ff48",
   "metadata": {},
   "outputs": [],
   "source": [
    "act = df.(E)"
   ]
  },
  {
   "cell_type": "code",
   "execution_count": null,
   "id": "8dfaffc2-6eed-4a54-972d-9114f498592f",
   "metadata": {},
   "outputs": [],
   "source": [
    "function df_isochrone(E)\n",
    "    G = 1\n",
    "\n",
    "    return 1/(4√2 * π^3 * G) * (\n",
    "        (4E^4 + 14E^3 + 14E^2 - 53E + 48) / (E+1)^4 * √(1-E)\n",
    "        + 3*(4E^2 - 22E + 1) / (E+1)^(9/2) * acos(E)\n",
    "       )\n",
    "end\n"
   ]
  },
  {
   "cell_type": "code",
   "execution_count": null,
   "id": "b6e63e4b-a2e8-4568-bd9e-d058c67d7bf3",
   "metadata": {},
   "outputs": [],
   "source": [
    "function df_bt(E, M=1, b=1)\n",
    "    G = 1\n",
    "\n",
    "    Ec = -E*b/(G*M)\n",
    "    return 1/(√2 * (2π)^3 * (G*M*b)^(3/2)) * √Ec / (2*(1-Ec))^4 * (\n",
    "        27 - 66Ec + 320Ec^2 - 240Ec^3 + 64Ec^4 \n",
    "        + 3*(16Ec^2 + 28Ec - 9) * asin(√Ec) / sqrt(Ec*(1-Ec))\n",
    "       )\n",
    "end"
   ]
  },
  {
   "cell_type": "code",
   "execution_count": null,
   "id": "43b3ef56-7049-4d51-9a33-7bca51b84601",
   "metadata": {},
   "outputs": [],
   "source": [
    "function df_2(y)\n",
    "    return 1/(√8 * π^2) * 1/2*(6*(4*y^2 - 22*y + 9)*sqrt(y + 1)*atan(sqrt(-y + 1)/sqrt(y + 1)) + (4*y^5 + 18*y^4 + 28*y^3 - 39*y^2 - 5*y + 48)*sqrt(-y + 1))/(pi + pi*y^5 + 5*pi*y^4 + 10*pi*y^3 + 10*pi*y^2 + 5*pi*y)\n",
    "end"
   ]
  },
  {
   "cell_type": "code",
   "execution_count": null,
   "id": "1778c066-b6b2-4a53-b727-a4e720e7b95c",
   "metadata": {},
   "outputs": [],
   "source": [
    "df_isochrone(1)"
   ]
  },
  {
   "cell_type": "code",
   "execution_count": null,
   "id": "c55388fe-bee1-49cf-bafe-06aec084afd3",
   "metadata": {},
   "outputs": [],
   "source": [
    "df_isochrone(0.01)"
   ]
  },
  {
   "cell_type": "code",
   "execution_count": null,
   "id": "2f5aacb9-5dd9-4317-bb54-8a4e26d0f5e3",
   "metadata": {},
   "outputs": [],
   "source": [
    "f_bt = df_bt.(-E)"
   ]
  },
  {
   "cell_type": "code",
   "execution_count": null,
   "id": "ef4da3f5-40f0-4d9a-a09d-6b844cd8046d",
   "metadata": {},
   "outputs": [],
   "source": [
    "U2 = @. (2*r^2 + 1 - √(4r^2 + 1)) / (2r^2)"
   ]
  },
  {
   "cell_type": "code",
   "execution_count": null,
   "id": "40f645c5-3705-4ffc-8ede-b87d1b78ed32",
   "metadata": {},
   "outputs": [],
   "source": [
    "U ./ U2"
   ]
  },
  {
   "cell_type": "code",
   "execution_count": null,
   "id": "8395b426-d723-4f20-b9ce-7eec4c473a34",
   "metadata": {},
   "outputs": [],
   "source": [
    "E .+ 1"
   ]
  },
  {
   "cell_type": "code",
   "execution_count": null,
   "id": "afa07664-cbf8-4657-949d-3911521207c8",
   "metadata": {},
   "outputs": [],
   "source": [
    "expected2 = df_2.(1 .+ E)"
   ]
  },
  {
   "cell_type": "code",
   "execution_count": null,
   "id": "91d5304b-025b-4599-8ba9-0dfe34c7bb06",
   "metadata": {},
   "outputs": [],
   "source": [
    "expected = df_isochrone.(1 .+ E)"
   ]
  },
  {
   "cell_type": "code",
   "execution_count": null,
   "id": "7287c419-7769-40cf-b5eb-c346f6dbdeb0",
   "metadata": {},
   "outputs": [],
   "source": [
    "# repeating what the df does\n"
   ]
  },
  {
   "cell_type": "code",
   "execution_count": null,
   "id": "ff4e130a-fe8a-4e6c-93de-4f996e90f32c",
   "metadata": {},
   "outputs": [],
   "source": [
    "plot(E, expected)"
   ]
  },
  {
   "cell_type": "code",
   "execution_count": null,
   "id": "2f82bdcf-ffaa-4f54-be03-30d04ebd846f",
   "metadata": {},
   "outputs": [],
   "source": [
    "f, a, p = plot(E, log10.(act))\n",
    "\n",
    "plot!(E, asinh.(expected ./ 1e-4))\n",
    "plot!(E, log10.(expected2) .+ 1)\n",
    "plot!(E, log10.(f_bt) .+ 1)\n",
    "\n",
    "f"
   ]
  },
  {
   "cell_type": "code",
   "execution_count": null,
   "id": "caec94c4-7d7c-4775-961d-76a98ead2cca",
   "metadata": {},
   "outputs": [],
   "source": [
    "plot(E, log10.(act ./ expected))"
   ]
  }
 ],
 "metadata": {
  "kernelspec": {
   "display_name": "Julia 1.10.5",
   "language": "julia",
   "name": "julia-1.10"
  },
  "language_info": {
   "file_extension": ".jl",
   "mimetype": "application/julia",
   "name": "julia",
   "version": "1.10.5"
  }
 },
 "nbformat": 4,
 "nbformat_minor": 5
}
