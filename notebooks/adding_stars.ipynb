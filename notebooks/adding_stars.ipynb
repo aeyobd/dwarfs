{
 "cells": [
  {
   "cell_type": "code",
   "execution_count": 1,
   "id": "5a052260-dac9-46c9-a748-97b12f3557fd",
   "metadata": {},
   "outputs": [],
   "source": [
    "import numpy as np\n",
    "from scipy.integrate import quad\n",
    "from scipy.special import gammaincinv"
   ]
  },
  {
   "cell_type": "code",
   "execution_count": 2,
   "id": "beb4894d-a460-4cc6-a5df-f496b4c8b45e",
   "metadata": {},
   "outputs": [],
   "source": [
    "import h5py\n",
    "import sys"
   ]
  },
  {
   "cell_type": "code",
   "execution_count": 17,
   "id": "b3599a3b-bcce-4c12-9163-606afa6dbb2b",
   "metadata": {},
   "outputs": [],
   "source": [
    "\n",
    "import matplotlib.pyplot as plt\n",
    "from os import path"
   ]
  },
  {
   "cell_type": "code",
   "execution_count": 4,
   "id": "4ad267a9-f8f0-4a4b-a924-ee5a6f7ed900",
   "metadata": {},
   "outputs": [],
   "source": [
    "G = 1"
   ]
  },
  {
   "cell_type": "code",
   "execution_count": 5,
   "id": "e9e0e081-7b09-43f0-87c6-059b4c7888cd",
   "metadata": {},
   "outputs": [],
   "source": [
    "from glob import glob"
   ]
  },
  {
   "cell_type": "code",
   "execution_count": null,
   "id": "00efae2b-23ab-4df3-bd5c-69dd6e50f9dc",
   "metadata": {},
   "outputs": [],
   "source": [
    "path.split"
   ]
  },
  {
   "cell_type": "code",
   "execution_count": 30,
   "id": "5c0d0f53-5425-496c-8b9d-8095f1d05594",
   "metadata": {},
   "outputs": [],
   "source": [
    "f.close()"
   ]
  },
  {
   "cell_type": "code",
   "execution_count": 42,
   "id": "2d936ad3-99bb-4769-854a-18bd95ebe5d6",
   "metadata": {},
   "outputs": [],
   "source": [
    "f.close()"
   ]
  },
  {
   "cell_type": "code",
   "execution_count": 76,
   "id": "fec628cb-3acf-43d3-968a-92b4e5bfc901",
   "metadata": {},
   "outputs": [],
   "source": [
    "out_dir = \"orbits/out/\"\n",
    "fnames = glob(out_dir + \"snapshot*.hdf5\")\n",
    "\n",
    "\n",
    "\n",
    "with h5py.File(out_dir + 'model.hdf5','w') as f:\n",
    "    for filename in fnames:\n",
    "        file = path.split(filename)[1]\n",
    "        key = path.splitext(file)[0]\n",
    "        f[key] = h5py.ExternalLink(filename, \"/\")\n",
    "\n"
   ]
  },
  {
   "cell_type": "code",
   "execution_count": 77,
   "id": "e68d2d5e-8aea-442e-a1b4-39b20d085d59",
   "metadata": {},
   "outputs": [],
   "source": [
    "f = h5py.File(out_dir + 'model.hdf5', 'r')"
   ]
  },
  {
   "cell_type": "code",
   "execution_count": 80,
   "id": "fc53b7bc-dcf8-4d7d-8f0b-279d8ef7a927",
   "metadata": {},
   "outputs": [],
   "source": [
    "m = f[snapshot + \"/Header\"].attrs[\"MassTable\"][1]"
   ]
  },
  {
   "cell_type": "code",
   "execution_count": 49,
   "id": "7510495e-ea22-4896-b4d8-03dc9da6ea3b",
   "metadata": {},
   "outputs": [],
   "source": [
    "f.close()"
   ]
  },
  {
   "cell_type": "code",
   "execution_count": 62,
   "id": "cd84b077-9e4f-45c4-a37b-070aefcd753b",
   "metadata": {},
   "outputs": [],
   "source": [
    "f0 = h5py.File(out_dir + \"snapshot_000.hdf5\", \"r\")"
   ]
  },
  {
   "cell_type": "code",
   "execution_count": 63,
   "id": "157ac619-d105-47fb-8ed5-632d637b6d8d",
   "metadata": {},
   "outputs": [],
   "source": [
    "for k in f0.attrs.items():\n",
    "    print(k)"
   ]
  },
  {
   "cell_type": "code",
   "execution_count": 36,
   "id": "2d4cbec2-8a18-4692-9e3a-dbff4374aab3",
   "metadata": {},
   "outputs": [
    {
     "ename": "KeyError",
     "evalue": "\"Can't open attribute (can't locate attribute: 'mass')\"",
     "output_type": "error",
     "traceback": [
      "\u001b[0;31m---------------------------------------------------------------------------\u001b[0m",
      "\u001b[0;31mKeyError\u001b[0m                                  Traceback (most recent call last)",
      "\u001b[0;32m<ipython-input-36-823125d62ec4>\u001b[0m in \u001b[0;36m<module>\u001b[0;34m()\u001b[0m\n\u001b[1;32m      1\u001b[0m \u001b[0msnapshot\u001b[0m \u001b[0;34m=\u001b[0m \u001b[0;34m\"snapshot_121\"\u001b[0m\u001b[0;34m\u001b[0m\u001b[0m\n\u001b[0;32m----> 2\u001b[0;31m \u001b[0mpartmass\u001b[0m \u001b[0;34m=\u001b[0m \u001b[0mf\u001b[0m\u001b[0;34m[\u001b[0m\u001b[0msnapshot\u001b[0m\u001b[0;34m]\u001b[0m\u001b[0;34m.\u001b[0m\u001b[0mattrs\u001b[0m\u001b[0;34m[\u001b[0m\u001b[0;34m\"mass\"\u001b[0m\u001b[0;34m]\u001b[0m\u001b[0;34m\u001b[0m\u001b[0m\n\u001b[0m",
      "\u001b[0;32mh5py/_objects.pyx\u001b[0m in \u001b[0;36mh5py._objects.with_phil.wrapper\u001b[0;34m()\u001b[0m\n",
      "\u001b[0;32mh5py/_objects.pyx\u001b[0m in \u001b[0;36mh5py._objects.with_phil.wrapper\u001b[0;34m()\u001b[0m\n",
      "\u001b[0;32m/cosma/local/Python/3.6.5/lib/python3.6/site-packages/h5py-2.10.0-py3.6-linux-x86_64.egg/h5py/_hl/attrs.py\u001b[0m in \u001b[0;36m__getitem__\u001b[0;34m(self, name)\u001b[0m\n\u001b[1;32m     58\u001b[0m         \"\"\" Read the value of an attribute.\n\u001b[1;32m     59\u001b[0m         \"\"\"\n\u001b[0;32m---> 60\u001b[0;31m         \u001b[0mattr\u001b[0m \u001b[0;34m=\u001b[0m \u001b[0mh5a\u001b[0m\u001b[0;34m.\u001b[0m\u001b[0mopen\u001b[0m\u001b[0;34m(\u001b[0m\u001b[0mself\u001b[0m\u001b[0;34m.\u001b[0m\u001b[0m_id\u001b[0m\u001b[0;34m,\u001b[0m \u001b[0mself\u001b[0m\u001b[0;34m.\u001b[0m\u001b[0m_e\u001b[0m\u001b[0;34m(\u001b[0m\u001b[0mname\u001b[0m\u001b[0;34m)\u001b[0m\u001b[0;34m)\u001b[0m\u001b[0;34m\u001b[0m\u001b[0m\n\u001b[0m\u001b[1;32m     61\u001b[0m \u001b[0;34m\u001b[0m\u001b[0m\n\u001b[1;32m     62\u001b[0m         \u001b[0;32mif\u001b[0m \u001b[0mis_empty_dataspace\u001b[0m\u001b[0;34m(\u001b[0m\u001b[0mattr\u001b[0m\u001b[0;34m)\u001b[0m\u001b[0;34m:\u001b[0m\u001b[0;34m\u001b[0m\u001b[0m\n",
      "\u001b[0;32mh5py/_objects.pyx\u001b[0m in \u001b[0;36mh5py._objects.with_phil.wrapper\u001b[0;34m()\u001b[0m\n",
      "\u001b[0;32mh5py/_objects.pyx\u001b[0m in \u001b[0;36mh5py._objects.with_phil.wrapper\u001b[0;34m()\u001b[0m\n",
      "\u001b[0;32mh5py/h5a.pyx\u001b[0m in \u001b[0;36mh5py.h5a.open\u001b[0;34m()\u001b[0m\n",
      "\u001b[0;31mKeyError\u001b[0m: \"Can't open attribute (can't locate attribute: 'mass')\""
     ]
    }
   ],
   "source": [
    "snapshot = \"snapshot_121\"\n",
    "partmass = f[snapshot].attrs[\"mass\"]"
   ]
  },
  {
   "cell_type": "code",
   "execution_count": null,
   "id": "d0eb53ce-a421-4fe4-9707-fafb586fbedc",
   "metadata": {},
   "outputs": [],
   "source": []
  }
 ],
 "metadata": {
  "kernelspec": {
   "display_name": "Python 3",
   "language": "python",
   "name": "python3"
  },
  "language_info": {
   "codemirror_mode": {
    "name": "ipython",
    "version": 3
   },
   "file_extension": ".py",
   "mimetype": "text/x-python",
   "name": "python",
   "nbconvert_exporter": "python",
   "pygments_lexer": "ipython3",
   "version": "3.6.5"
  }
 },
 "nbformat": 4,
 "nbformat_minor": 5
}
