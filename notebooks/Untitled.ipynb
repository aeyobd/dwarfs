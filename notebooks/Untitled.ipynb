{
 "cells": [
  {
   "cell_type": "code",
   "execution_count": 1,
   "id": "4d3cc439-cf23-427e-994b-d00b3c0f048c",
   "metadata": {},
   "outputs": [],
   "source": [
    "import agama"
   ]
  },
  {
   "cell_type": "code",
   "execution_count": null,
   "id": "af1b639d-dfe6-4b65-baf8-e15e1a3b890f",
   "metadata": {},
   "outputs": [],
   "source": [
    "1+1"
   ]
  },
  {
   "cell_type": "code",
   "execution_count": 2,
   "id": "ba697cf1-9e99-48e4-bd5b-f30a3b974189",
   "metadata": {},
   "outputs": [
    {
     "data": {
      "text/plain": [
       "1"
      ]
     },
     "execution_count": 2,
     "metadata": {},
     "output_type": "execute_result"
    }
   ],
   "source": [
    "0**0"
   ]
  },
  {
   "cell_type": "code",
   "execution_count": null,
   "id": "d6c71ed3-ee65-41db-9831-43d572b8be00",
   "metadata": {},
   "outputs": [],
   "source": []
  }
 ],
 "metadata": {
  "kernelspec": {
   "display_name": "Julia 1.11.5",
   "language": "julia",
   "name": "julia-1.11"
  },
  "language_info": {
   "codemirror_mode": {
    "name": "ipython",
    "version": 3
   },
   "file_extension": ".py",
   "mimetype": "text/x-python",
   "name": "python",
   "nbconvert_exporter": "python",
   "pygments_lexer": "ipython3",
   "version": "3.12.4"
  }
 },
 "nbformat": 4,
 "nbformat_minor": 5
}
