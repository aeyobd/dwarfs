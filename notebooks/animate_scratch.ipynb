{
 "cells": [
  {
   "cell_type": "code",
   "execution_count": null,
   "id": "0",
   "metadata": {},
   "outputs": [],
   "source": [
    "#!/usr/bin/env julia\n",
    "using ArgParse\n",
    "\n",
    "using LilGuys\n",
    "using CairoMakie\n",
    "\n",
    "using StatsBase\n",
    "using PythonCall\n",
    "agama = pyimport(\"agama\")\n",
    "using Printf\n",
    "using LinearAlgebra: cross\n"
   ]
  },
  {
   "cell_type": "code",
   "execution_count": null,
   "id": "1",
   "metadata": {},
   "outputs": [],
   "source": []
  },
  {
   "cell_type": "code",
   "execution_count": null,
   "id": "2",
   "metadata": {},
   "outputs": [],
   "source": [
    "color_0 = Makie.RGBA{Float32}(1.0f0, 1.0f0, 1.0f0, 1.0f0)\n",
    "color_1 = Makie.RGBA{Float32}(0.9411765f0,0.89411765f0,0.25882354f0,1.0f0)\n",
    "color_0, color_1"
   ]
  },
  {
   "cell_type": "code",
   "execution_count": null,
   "id": "3",
   "metadata": {},
   "outputs": [],
   "source": [
    "cd(ENV[\"DWARFS_ROOT\"] * \"/analysis/sculptor/1e6_V31_r4.2/vasiliev+21_smallperi\")"
   ]
  },
  {
   "cell_type": "code",
   "execution_count": null,
   "id": "4",
   "metadata": {},
   "outputs": [],
   "source": [
    "out = Output(\".\")"
   ]
  },
  {
   "cell_type": "code",
   "execution_count": null,
   "id": "5",
   "metadata": {},
   "outputs": [],
   "source": [
    "args = Dict()\n",
    "args[\"limits\"] = 400 .* [-1, 1, -1, 1]\n",
    "args[\"n_bins\"] = 501\n",
    "args[\"skip\"] = 20"
   ]
  },
  {
   "cell_type": "code",
   "execution_count": null,
   "id": "6",
   "metadata": {},
   "outputs": [],
   "source": [
    "potential = agama.Potential(ENV[\"DWARFS_ROOT\"] * \"/simulations/sculptor/1e6_V31_r4.2/vasiliev+21_smallperi/agama_potential.ini\")\n"
   ]
  },
  {
   "cell_type": "code",
   "execution_count": null,
   "id": "7",
   "metadata": {},
   "outputs": [],
   "source": [
    "xbins = LinRange(args[\"limits\"][1], args[\"limits\"][2], args[\"n_bins\"])\n",
    "ybins = LinRange(args[\"limits\"][3], args[\"limits\"][4], args[\"n_bins\"])\n",
    "bins = (xbins, ybins)\n",
    "@assert issorted(xbins) && issorted(ybins)\n"
   ]
  },
  {
   "cell_type": "code",
   "execution_count": null,
   "id": "8",
   "metadata": {},
   "outputs": [],
   "source": [
    "function project_agama_potential(potential, bins; x_vec=[0,1,0], y_vec=[0,0,1], time=0)\n",
    "    xbins, ybins = bins\n",
    "    xm, ym = midpoints(xbins), midpoints(ybins)\n",
    "    Nx, Ny = length(xm), length(ym)\n",
    "    \n",
    "    x = repeat(xm, outer=Ny)\n",
    "    y = repeat(ym, inner=Nx)\n",
    "\n",
    "    println(size(x))\n",
    "    println(size(y))\n",
    "    alpha, beta, gamma = vectors_to_euler_angles(x_vec, y_vec)\n",
    "    pos = [x y]\n",
    "    \n",
    "    println(size(pos))\n",
    "    density = potential.projectedDensity(pos, alpha=alpha, beta=beta, gamma=gamma)\n",
    "\n",
    "    Σ_disk = pyconvert(Vector{Float64}, density)\n",
    "    \n",
    "    return reshape(Σ_disk, (Nx, Ny))\n",
    "end\n",
    "\n",
    "\n",
    "function vectors_to_euler_angles(xhat::Vector{<:Real}, yhat::Vector{<:Real})\n",
    "    # Compute the zhat vector\n",
    "    zhat = cross(xhat, yhat)\n",
    "\n",
    "    # Construct the rotation matrix\n",
    "    R = hcat(xhat, yhat, zhat)\n",
    "\n",
    "    # Extract Euler angles for ZYX convention\n",
    "    alpha = atan(-R[3,2], R[3,1])\n",
    "    beta = acos(R[3,3])\n",
    "    gamma = atan(R[2,3], R[1,3])\n",
    "\n",
    "    return alpha, beta, gamma\n",
    "end"
   ]
  },
  {
   "cell_type": "code",
   "execution_count": null,
   "id": "9",
   "metadata": {},
   "outputs": [],
   "source": [
    "function project_agama_potential(potential, bins; x_vec=[0,1,0], y_vec=[0,0,1], \n",
    "        time=0, cutoff=200, cutoffstrength=3)\n",
    "    # takes a matrix of positions, returns array of densities for each position\n",
    "    calc_ρ(x) = pyconvert(Vector{Float64}, potential.density(x, t=time))\n",
    "\n",
    "    xbins, ybins = bins\n",
    "    xm, ym = midpoints(xbins), midpoints(ybins)\n",
    "    Nx, Ny = length(xm), length(ym)\n",
    "\n",
    "    # TODO: cludge...\n",
    "    zbins = xbins\n",
    "    zm = midpoints(zbins)\n",
    "    Nz = length(zm)\n",
    "\n",
    "    z_vec = cross(x_vec, y_vec)\n",
    "\n",
    "    Σ_disk = Matrix{Float64}(undef, Nx, Ny)\n",
    "\n",
    "    for i in 1:Nx # iterate over each x coordinate\n",
    "        x = fill(xm[i], Ny*Nz)\n",
    "        # y and z are vectorized so less python calls\n",
    "        y = repeat(ym, outer=Nz)\n",
    "        z = repeat(zm, inner=Ny)\n",
    "        r = @. sqrt(x^2 + y^2 + z^2)\n",
    "        pos = @. x' * x_vec + y' * y_vec + z' * z_vec\n",
    "        ρ = calc_ρ(pos')\n",
    "\n",
    "        if cutoff !== nothing\n",
    "            ρ = @. ρ * exp(-(r/cutoff)^cutoffstrength)\n",
    "        end\n",
    "        ρ = reshape(ρ, Ny, Nz)\n",
    "        \n",
    "        Σ = sum(ρ, dims=2) # sum over Z dimension\n",
    "        Σ_disk[i, :] = Σ\n",
    "    end\n",
    "\n",
    "    return Σ_disk\n",
    "end\n"
   ]
  },
  {
   "cell_type": "code",
   "execution_count": null,
   "id": "10",
   "metadata": {},
   "outputs": [],
   "source": [
    "function project_points(x, y, xybins)\n",
    "    h1 = fit(Histogram, (x, y), xybins )\n",
    "end\n",
    "\n",
    "function I_to_SI(I)\n",
    "    if isnan(I)\n",
    "        return 0.\n",
    "    end\n",
    "    if I === Inf\n",
    "        return 1.\n",
    "    end\n",
    "    \n",
    "    @assert 0 <= I <= 1 \"$I is out of range\"\n",
    "\n",
    "    if I < 0.03928 / 12.92\n",
    "        return I * 12.92\n",
    "    else\n",
    "        return I^(1/2.4) * 1.055 - 0.055\n",
    "    end\n",
    "end\n",
    "\n",
    "function normalize_colors(colors)\n",
    "    if isnan(colors)\n",
    "        return 0.0\n",
    "    elseif colors === Inf\n",
    "        return 1.0\n",
    "    end\n",
    "    colors = min(colors, 1.0)\n",
    "    colors = max(colors, 0.0)\n",
    "    \n",
    "    return colors\n",
    "end\n",
    "\n",
    "function map_intensities(A, B, color_A, color_B)\n",
    "    R = @. A * Makie.red(color_A) + B * Makie.red(color_B)\n",
    "    G = @. A * Makie.green(color_A) + B * Makie.green(color_B)\n",
    "    B = @. A * Makie.blue(color_A) + B * Makie.blue(color_B)\n",
    "    R = normalize_colors.(R) \n",
    "    G = normalize_colors.(G) \n",
    "    B = normalize_colors.(B)\n",
    "    color_R = @. I_to_SI.(R)\n",
    "    color_G = @. I_to_SI.(G)\n",
    "    color_B = @. I_to_SI.(B)\n",
    "\n",
    "    \n",
    "    return RGBf.(color_R, color_G, color_B)\n",
    "end\n",
    "\n",
    "function map_intensities(A, color_A;)\n",
    "    color_R = I_to_SI.(normalize_colors.(A .* Makie.red.(color_A)))\n",
    "    color_G = I_to_SI.(normalize_colors.(A .* Makie.green.(color_A)))\n",
    "    color_B = I_to_SI.(normalize_colors.(A .* Makie.blue.(color_A)))\n",
    "\n",
    "    \n",
    "    return RGBf.(color_R, color_G, color_B)\n",
    "end"
   ]
  },
  {
   "cell_type": "code",
   "execution_count": null,
   "id": "11",
   "metadata": {},
   "outputs": [],
   "source": [
    "Sigma_mw = project_agama_potential(potential, bins)"
   ]
  },
  {
   "cell_type": "code",
   "execution_count": null,
   "id": "12",
   "metadata": {},
   "outputs": [],
   "source": [
    "map_intensities((max.(Sigma_mw ./ maximum(Sigma_mw[isfinite.(Sigma_mw)]), 0)) .^ (1),color_0)"
   ]
  },
  {
   "cell_type": "code",
   "execution_count": null,
   "id": "13",
   "metadata": {},
   "outputs": [],
   "source": [
    "Sigma_mw = project_agama_potential(potential, bins, time=-5)"
   ]
  },
  {
   "cell_type": "code",
   "execution_count": null,
   "id": "14",
   "metadata": {},
   "outputs": [],
   "source": [
    "map_intensities((max.(Sigma_mw ./ maximum(Sigma_mw[isfinite.(Sigma_mw)]), 0)) .^ 0.3,color_1, )"
   ]
  },
  {
   "cell_type": "code",
   "execution_count": null,
   "id": "15",
   "metadata": {},
   "outputs": [],
   "source": [
    "\n",
    "function get_xy(out, idx; x_vec=[0, 1, 0], y_vec = [0, 0, 1])\n",
    "    # shortcut for hdf5\n",
    "    # -1 since HDF5 is zero indexed\n",
    "    idx -= 1\n",
    "    pos = out.h5file[\"snap$idx/PartType1/Coordinates\"][:, :]\n",
    "    A = [x_vec y_vec]'\n",
    "    xy = A * pos\n",
    "    return xy[1, :], xy[2, :]\n",
    "end"
   ]
  },
  {
   "cell_type": "code",
   "execution_count": null,
   "id": "16",
   "metadata": {},
   "outputs": [],
   "source": [
    "\n",
    "function animate(out, bins, animation_dir; \n",
    "        idx=eachindex(out), \n",
    "        x_vec=[0, 1, 0], y_vec = [0, 0, 1], \n",
    "        colorrange=nothing,\n",
    "        potential=nothing, evolving_potential=false, potential_scale=1.0,\n",
    "        scalebar=50, font=\"Arial\"\n",
    "    )\n",
    "\n",
    "    if colorrange == nothing\n",
    "        x, y = get_xy(out, 1; x_vec=x_vec, y_vec=y_vec)\n",
    "        h = project_points(x, y, bins)\n",
    "        colorrange = maximum(h.weights)\n",
    "    end\n",
    "\n",
    "    @info \"using colorrange: $colorrange\"\n",
    "\n",
    "    if potential !== nothing\n",
    "        @info \"projecting potential\"\n",
    "        Sigma_mw = project_agama_potential(potential, bins; x_vec=x_vec, y_vec=y_vec)\n",
    "        potential_scale /= maximum(Sigma_mw[isfinite.(Sigma_mw)])\n",
    "        Sigma_mw .*= potential_scale\n",
    "    end\n",
    "\n",
    "    for (n, i) in enumerate(idx)\n",
    "        print(\"creating frame $n / $(length(idx))\\r\")\n",
    "        if evolving_potential && potential !== nothing\n",
    "            Sigma_mw = project_agama_potential(potential, bins; x_vec=x_vec, y_vec=y_vec, time=i)\n",
    "            Sigma_mw .*= potential_scale\n",
    "        end\n",
    "\n",
    "        x, y = get_xy(out, i; x_vec=x_vec, y_vec=y_vec)\n",
    "        h = project_points(x, y, bins)\n",
    "        fig, ax, p = make_frame(h, colorrange=colorrange, scalebar=scalebar,\n",
    "            font=font, Sigma_mw=Sigma_mw\n",
    "        )\n",
    "        Makie.save(joinpath(animation_dir, \"frame_$i.png\"), fig)\n",
    "    end\n",
    "end\n",
    "\n",
    "\n",
    "function make_frame(h; colorrange, font, scalebar=50, Sigma_mw=nothing,\n",
    "        color_A=color_0, color_B=color_1,\n",
    "        dm_power = 1/2\n",
    "    )\n",
    "    fig = Figure(figure_padding=(0,0,0,0), size=(200,200), backgroundcolor=:black) # px scale is x5 so this works for 1000 bins\n",
    "    ax = Axis(fig[1, 1],\n",
    "        aspect=DataAspect(),\n",
    "    )\n",
    "    \n",
    "    xrange, yrange = extrema.(h.edges)\n",
    "\n",
    "    Sigma_dm = (h.weights ./ colorrange) .^ dm_power\n",
    "\n",
    "    if Sigma_mw !== nothing\n",
    "        Sigma_mw = Sigma_mw \n",
    "        colors = map_intensities(Sigma_dm, Sigma_mw, color_A, color_B)\n",
    "    else\n",
    "        colors = map_intensities(Sigma_dm, color_A)\n",
    "    end\n",
    "\n",
    "    p = image!(xrange, yrange, colors)\n",
    "\n",
    "    hidespines!(ax)\n",
    "    resize_to_layout!(fig)\n",
    "    hidedecorations!(ax)\n",
    "\n",
    "    # create scalebar\n",
    "\n",
    "    x1 = xrange[1] + scalebar / 2\n",
    "    y1 = yrange[1] + scalebar / 2\n",
    "    x2 = x1 + scalebar\n",
    "    y2 = y1\n",
    "\n",
    "    lines!([x1, x2], [y1, y2], color=:grey)\n",
    "    text!(x1, y1, text=\"$scalebar kpc\", color=:grey, font=font, fontsize=7.5)\n",
    "\n",
    "    return Makie.FigureAxisPlot(fig, ax, p)\n",
    "end\n",
    "\n",
    "\n",
    "\n",
    "\n",
    "\n",
    "\n",
    "\n"
   ]
  },
  {
   "cell_type": "code",
   "execution_count": null,
   "id": "17",
   "metadata": {},
   "outputs": [],
   "source": [
    "x, y = get_xy(out, 200)"
   ]
  },
  {
   "cell_type": "code",
   "execution_count": null,
   "id": "18",
   "metadata": {},
   "outputs": [],
   "source": [
    "h = project_points(x, y, bins)"
   ]
  },
  {
   "cell_type": "code",
   "execution_count": null,
   "id": "19",
   "metadata": {},
   "outputs": [],
   "source": [
    "maximum(Sigma_mw[isfinite.(Sigma_mw)])"
   ]
  },
  {
   "cell_type": "code",
   "execution_count": null,
   "id": "20",
   "metadata": {},
   "outputs": [],
   "source": [
    "make_frame(h, colorrange=maximum(h.weights), font=\"areal\", Sigma_mw= (Sigma_mw) ./ maximum(Sigma_mw[isfinite.(Sigma_mw)]))\n",
    "\n"
   ]
  },
  {
   "cell_type": "code",
   "execution_count": null,
   "id": "21",
   "metadata": {},
   "outputs": [],
   "source": [
    "animate(out, bins, \"dm_animation\"; \n",
    "        idx=eachindex(out), \n",
    "        potential=potential,\n",
    "       )"
   ]
  },
  {
   "cell_type": "code",
   "execution_count": null,
   "id": "22",
   "metadata": {},
   "outputs": [],
   "source": []
  }
 ],
 "metadata": {
  "kernelspec": {
   "display_name": "Julia 1.11.1",
   "language": "julia",
   "name": "julia-1.11"
  },
  "language_info": {
   "file_extension": ".jl",
   "mimetype": "application/julia",
   "name": "julia",
   "version": "1.11.1"
  }
 },
 "nbformat": 4,
 "nbformat_minor": 5
}
