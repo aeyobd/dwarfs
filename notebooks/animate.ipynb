{
 "cells": [
  {
   "cell_type": "code",
   "execution_count": null,
   "id": "0",
   "metadata": {},
   "outputs": [],
   "source": [
    "using CairoMakie;\n",
    "using CSV, DataFrames\n",
    "\n",
    "using LilGuys\n",
    "using Arya\n",
    "import DensityEstimators as DE"
   ]
  },
  {
   "cell_type": "code",
   "execution_count": null,
   "id": "1",
   "metadata": {},
   "outputs": [],
   "source": [
    "using StatsBase"
   ]
  },
  {
   "cell_type": "code",
   "execution_count": null,
   "id": "2",
   "metadata": {},
   "outputs": [],
   "source": [
    "using PythonCall"
   ]
  },
  {
   "cell_type": "code",
   "execution_count": null,
   "id": "3",
   "metadata": {},
   "outputs": [],
   "source": [
    "agama = pyimport(\"agama\")"
   ]
  },
  {
   "cell_type": "markdown",
   "id": "4",
   "metadata": {},
   "source": [
    "## File loading"
   ]
  },
  {
   "cell_type": "code",
   "execution_count": null,
   "id": "5",
   "metadata": {},
   "outputs": [],
   "source": [
    "potential = agama.Potential(\"../agama/potentials/EP2020.ini\")"
   ]
  },
  {
   "cell_type": "code",
   "execution_count": null,
   "id": "6",
   "metadata": {},
   "outputs": [],
   "source": [
    "disk_poetntial = agama.Potential(potential[1], potential[2], potential[0])"
   ]
  },
  {
   "cell_type": "code",
   "execution_count": null,
   "id": "7",
   "metadata": {},
   "outputs": [],
   "source": [
    "model_dir = ENV[\"DWARFS_ROOT\"] * \"/analysis/sculptor/1e7_V31_r3.2/orbit_mean/\""
   ]
  },
  {
   "cell_type": "code",
   "execution_count": null,
   "id": "8",
   "metadata": {},
   "outputs": [],
   "source": [
    "starsfile = \"../stars/plummer_rs0.20/probabilities_stars.hdf5\""
   ]
  },
  {
   "cell_type": "code",
   "execution_count": null,
   "id": "9",
   "metadata": {},
   "outputs": [],
   "source": [
    "prob_df = LilGuys.read_hdf5_table(joinpath(model_dir, starsfile))"
   ]
  },
  {
   "cell_type": "code",
   "execution_count": null,
   "id": "10",
   "metadata": {},
   "outputs": [],
   "source": [
    "issorted(prob_df.index)"
   ]
  },
  {
   "cell_type": "code",
   "execution_count": null,
   "id": "11",
   "metadata": {},
   "outputs": [],
   "source": [
    "out = Output(model_dir, weights=prob_df.probability)"
   ]
  },
  {
   "cell_type": "code",
   "execution_count": null,
   "id": "12",
   "metadata": {},
   "outputs": [],
   "source": [
    "r_max = 200"
   ]
  },
  {
   "cell_type": "code",
   "execution_count": null,
   "id": "13",
   "metadata": {},
   "outputs": [],
   "source": [
    "bins = LinRange(-r_max, r_max, 1000 + 1)"
   ]
  },
  {
   "cell_type": "markdown",
   "id": "14",
   "metadata": {},
   "source": [
    "## Stellar disk image"
   ]
  },
  {
   "cell_type": "code",
   "execution_count": null,
   "id": "15",
   "metadata": {},
   "outputs": [],
   "source": [
    "Nb = length(bins)"
   ]
  },
  {
   "cell_type": "code",
   "execution_count": null,
   "id": "16",
   "metadata": {},
   "outputs": [],
   "source": [
    "ρ_min = pyconvert(Float64, potential[3].density([r_max, r_max, r_max]))"
   ]
  },
  {
   "cell_type": "code",
   "execution_count": null,
   "id": "17",
   "metadata": {},
   "outputs": [],
   "source": [
    "Σ_min = pyconvert(Float64, sum(potential[3].density([fill(r_max, Nb) fill(r_max, Nb) bins])))"
   ]
  },
  {
   "cell_type": "code",
   "execution_count": null,
   "id": "18",
   "metadata": {},
   "outputs": [],
   "source": [
    "ρ_min * length(bins)"
   ]
  },
  {
   "cell_type": "code",
   "execution_count": null,
   "id": "19",
   "metadata": {},
   "outputs": [],
   "source": [
    "function sum_density(disk_potential, bins; cutoff=40, cutoffstrength=3)\n",
    "    bin_mids = midpoints(bins)\n",
    "    Nb = length(bin_mids)\n",
    "    \n",
    "    Σ_disk = Matrix{Float64}(undef, Nb, Nb)\n",
    "    for i in 1:Nb\n",
    "        print(\"$i/$Nb\\r\")\n",
    "        \n",
    "        x = fill(bin_mids[i], Nb*Nb)\n",
    "        y = vcat([fill(a, Nb) for a in bin_mids]...)\n",
    "        z = repeat(bin_mids, Nb)\n",
    "        r = @. sqrt(x^2 + y^2 + z^2)\n",
    "\n",
    "        # NOTE--this should be more formalized\n",
    "        pos = [x z y]\n",
    "        rho = disk_poetntial.density(pos)\n",
    "        rho = pyconvert(Array{Float64}, rho)\n",
    "        if cutoff !== nothing\n",
    "            rho = @. rho * exp( -(r / cutoff)^cutoffstrength) \n",
    "        end\n",
    "        \n",
    "        for j in 0:(Nb-1)\n",
    "            Σ = sum(rho[1+j*Nb:Nb*(j+1)])\n",
    "            Σ_disk[i, j+1] = Σ\n",
    "\n",
    "        end\n",
    "    end\n",
    "\n",
    "    return Σ_disk\n",
    "end\n",
    "        "
   ]
  },
  {
   "cell_type": "code",
   "execution_count": null,
   "id": "20",
   "metadata": {},
   "outputs": [],
   "source": [
    "function normalized_density(x, h=0.03)\n",
    "    x = asinh.(x ./ h)\n",
    "    xm, xh = extrema(x[isfinite.(x)])\n",
    "    return (x .- xm) ./ (xh .- xm)\n",
    "end"
   ]
  },
  {
   "cell_type": "code",
   "execution_count": null,
   "id": "21",
   "metadata": {},
   "outputs": [],
   "source": [
    "function normalized_density2(x, h=0.03)\n",
    "    x = log10.(x .+ h)\n",
    "    xm, xh = extrema(x[isfinite.(x)])\n",
    "    return (x .- xm) ./ (xh .- xm)\n",
    "end"
   ]
  },
  {
   "cell_type": "code",
   "execution_count": null,
   "id": "22",
   "metadata": {},
   "outputs": [],
   "source": [
    "color_0 = Arya.COLORS[7] "
   ]
  },
  {
   "cell_type": "code",
   "execution_count": null,
   "id": "23",
   "metadata": {},
   "outputs": [],
   "source": [
    "function transparency_map(x) \n",
    "    x = x\n",
    "    Makie.RGBAf(color_0.r, color_0.g, color_0.b * x, x)\n",
    "end"
   ]
  },
  {
   "cell_type": "code",
   "execution_count": null,
   "id": "24",
   "metadata": {},
   "outputs": [],
   "source": [
    "Sigma_disk = sum_density(disk_poetntial, bins)"
   ]
  },
  {
   "cell_type": "code",
   "execution_count": null,
   "id": "25",
   "metadata": {},
   "outputs": [],
   "source": [
    "Sigma_disk_nocut = sum_density(disk_poetntial, bins, cutoff=nothing)"
   ]
  },
  {
   "cell_type": "code",
   "execution_count": null,
   "id": "26",
   "metadata": {},
   "outputs": [],
   "source": [
    "image(extrema(bins), extrema(bins), transparency_map.(normalized_density(Sigma_disk)),\n",
    "    axis=(; limits=200 .* (-1, 1, -1, 1), aspect=DataAspect(), backgroundcolor=:black))"
   ]
  },
  {
   "cell_type": "code",
   "execution_count": null,
   "id": "27",
   "metadata": {},
   "outputs": [],
   "source": [
    "image(extrema(bins), extrema(bins), transparency_map.(normalized_density(Sigma_disk_nocut)),\n",
    "    axis=(; limits=200 .* (-1, 1, -1, 1), aspect=DataAspect(), backgroundcolor=:black))"
   ]
  },
  {
   "cell_type": "code",
   "execution_count": null,
   "id": "28",
   "metadata": {},
   "outputs": [],
   "source": [
    "image(extrema(bins), extrema(bins), transparency_map.(normalized_density2(Sigma_disk, Σ_min)),\n",
    "    axis=(; limits=200 .* (-1, 1, -1, 1), aspect=DataAspect(), backgroundcolor=:black))"
   ]
  },
  {
   "cell_type": "code",
   "execution_count": null,
   "id": "29",
   "metadata": {},
   "outputs": [],
   "source": [
    "fig, ax = FigAxis(\n",
    "    yscale=log10,\n",
    "    limits=(nothing, nothing, 1, 1e6)\n",
    ")\n",
    "\n",
    "stephist!(vec(asinh.(Sigma_disk_nocut,)))\n",
    "stephist!(vec(asinh.(Sigma_disk,)))\n",
    "stephist!(vec(log10.(Sigma_disk .+ Σ_min)))\n",
    "stephist!(vec(log10.(Sigma_disk_nocut .+ Σ_min)))\n",
    "#\n",
    "fig"
   ]
  },
  {
   "cell_type": "code",
   "execution_count": null,
   "id": "30",
   "metadata": {},
   "outputs": [],
   "source": [
    "image(extrema(bins), extrema(bins), transparency_map.(normalized_density2(Sigma_disk_nocut, 10Σ_min)),\n",
    "    axis=(; limits=200 .* (-1, 1, -1, 1), aspect=DataAspect(), backgroundcolor=:black))"
   ]
  },
  {
   "cell_type": "markdown",
   "id": "31",
   "metadata": {},
   "source": [
    "## Animate dark matter"
   ]
  },
  {
   "cell_type": "code",
   "execution_count": null,
   "id": "32",
   "metadata": {},
   "outputs": [],
   "source": [
    "function get_xy(out, idx)\n",
    "    # shortcut for hdf5\n",
    "    idx -= 1\n",
    "    x = out.h5file[\"snap$idx/PartType1/Coordinates\"][2, :]\n",
    "\ty = out.h5file[\"snap$idx/PartType1/Coordinates\"][3, :]\n",
    "    return x, y\n",
    "end"
   ]
  },
  {
   "cell_type": "code",
   "execution_count": null,
   "id": "33",
   "metadata": {},
   "outputs": [],
   "source": [
    "function project_points(x, y, bins)\n",
    "    h1 = fit(Histogram, (x, y), (bins, bins) )\n",
    "end"
   ]
  },
  {
   "cell_type": "code",
   "execution_count": null,
   "id": "34",
   "metadata": {},
   "outputs": [],
   "source": [
    "@time x, y = get_xy(out, 1)"
   ]
  },
  {
   "cell_type": "code",
   "execution_count": null,
   "id": "35",
   "metadata": {},
   "outputs": [],
   "source": [
    "@time h1 = project_points(x, y, bins)"
   ]
  },
  {
   "cell_type": "code",
   "execution_count": null,
   "id": "36",
   "metadata": {},
   "outputs": [],
   "source": [
    "x, y = get_xy(out, 212)\n",
    "h_end = project_points(x, y, bins)"
   ]
  },
  {
   "cell_type": "code",
   "execution_count": null,
   "id": "37",
   "metadata": {},
   "outputs": [],
   "source": [
    "colormax = log10(maximum(h1.weights))\n",
    "colorrange=(0, colormax)"
   ]
  },
  {
   "cell_type": "code",
   "execution_count": null,
   "id": "38",
   "metadata": {},
   "outputs": [],
   "source": [
    "function make_frame(h, colorrange=colorrange)\n",
    "    fig = Figure(figure_padding=(0,0,0,0), size=(200,200)) # px scale is x5 so this works for 1000 bins\n",
    "    ax = Axis(fig[1, 1],\n",
    "        aspect=DataAspect(),\n",
    "    )\n",
    "    \n",
    "\n",
    "    p = image!(extrema(bins), extrema(bins), log10.(h.weights), colorrange=colorrange)\n",
    "\n",
    "    image!(extrema(bins), extrema(bins), transparency_map.(normalized_density(Sigma_disk)))\n",
    "    hidespines!(ax)\n",
    "    resize_to_layout!(fig)\n",
    "    hidedecorations!(ax)\n",
    "    lines!([-175, -125], [-175, -175], color=:grey)\n",
    "    text!(-175, -175, text=\"50 kpc\", color=:grey, font=font, fontsize=7.5)\n",
    "\n",
    "    return Makie.FigureAxisPlot(fig, ax, p)\n",
    "end"
   ]
  },
  {
   "cell_type": "code",
   "execution_count": null,
   "id": "39",
   "metadata": {},
   "outputs": [],
   "source": [
    "font = \"/astro/dboyea/fonts/Arev.ttf\""
   ]
  },
  {
   "cell_type": "code",
   "execution_count": null,
   "id": "40",
   "metadata": {},
   "outputs": [],
   "source": [
    "# example last frame\n",
    "\n",
    "make_frame(h1)"
   ]
  },
  {
   "cell_type": "code",
   "execution_count": null,
   "id": "41",
   "metadata": {},
   "outputs": [],
   "source": [
    "# example last frame\n",
    "\n",
    "make_frame(h_end)"
   ]
  },
  {
   "cell_type": "code",
   "execution_count": null,
   "id": "42",
   "metadata": {},
   "outputs": [],
   "source": [
    "h = project_points(x, y, bins)"
   ]
  },
  {
   "cell_type": "code",
   "execution_count": null,
   "id": "43",
   "metadata": {},
   "outputs": [],
   "source": [
    "idxs = eachindex(out)"
   ]
  },
  {
   "cell_type": "code",
   "execution_count": null,
   "id": "44",
   "metadata": {},
   "outputs": [],
   "source": [
    "animation_dir = \"./figures/sculptor_dm_ani/\""
   ]
  },
  {
   "cell_type": "code",
   "execution_count": null,
   "id": "45",
   "metadata": {},
   "outputs": [],
   "source": [
    "mkpath(animation_dir)"
   ]
  },
  {
   "cell_type": "code",
   "execution_count": null,
   "id": "46",
   "metadata": {},
   "outputs": [],
   "source": [
    "function animate(out, bins, animation_dir)\n",
    "    idx = eachindex(out)\n",
    "    for i in idx\n",
    "        print(\"animating $i / $(idx[end])\\r\")\n",
    "        x, y = get_xy(out, i)\n",
    "        h = project_points(x, y, bins)\n",
    "        fig, ax, p = make_frame(h)\n",
    "        Makie.save(joinpath(animation_dir, \"frame_$i.png\"), fig)\n",
    "    end\n",
    "end"
   ]
  },
  {
   "cell_type": "code",
   "execution_count": null,
   "id": "47",
   "metadata": {},
   "outputs": [],
   "source": [
    "animate(out, bins, animation_dir)"
   ]
  },
  {
   "cell_type": "markdown",
   "id": "48",
   "metadata": {},
   "source": [
    "## Animate stars"
   ]
  },
  {
   "cell_type": "code",
   "execution_count": null,
   "id": "49",
   "metadata": {},
   "outputs": [],
   "source": [
    "idxs = eachindex(out)"
   ]
  },
  {
   "cell_type": "code",
   "execution_count": null,
   "id": "50",
   "metadata": {},
   "outputs": [],
   "source": [
    "function get_xy(out, idx)\n",
    "    # shortcut for hdf5\n",
    "    snap = out[idx]\n",
    "    x = snap.positions[2, :]\n",
    "    y = snap.positions[3, :]\n",
    "    w = snap.weights\n",
    "    return x, y, w\n",
    "end"
   ]
  },
  {
   "cell_type": "code",
   "execution_count": null,
   "id": "51",
   "metadata": {},
   "outputs": [],
   "source": [
    "function project_points(x, y, w, bins)\n",
    "    h1 = fit(Histogram, (x, y), weights(w), (bins, bins), )\n",
    "end"
   ]
  },
  {
   "cell_type": "code",
   "execution_count": null,
   "id": "52",
   "metadata": {},
   "outputs": [],
   "source": [
    "@time x, y, w = get_xy(out, 1)"
   ]
  },
  {
   "cell_type": "code",
   "execution_count": null,
   "id": "53",
   "metadata": {},
   "outputs": [],
   "source": [
    "@time h = project_points(x, y, w, bins)"
   ]
  },
  {
   "cell_type": "code",
   "execution_count": null,
   "id": "54",
   "metadata": {},
   "outputs": [],
   "source": [
    "x, y, w = get_xy(out, 212)\n",
    "h_end = project_points(x, y, w, bins)"
   ]
  },
  {
   "cell_type": "code",
   "execution_count": null,
   "id": "55",
   "metadata": {},
   "outputs": [],
   "source": [
    "sum(out.weights)"
   ]
  },
  {
   "cell_type": "code",
   "execution_count": null,
   "id": "56",
   "metadata": {},
   "outputs": [],
   "source": [
    "Ntot = 5e6"
   ]
  },
  {
   "cell_type": "code",
   "execution_count": null,
   "id": "57",
   "metadata": {},
   "outputs": [],
   "source": [
    "log10(Ntot)"
   ]
  },
  {
   "cell_type": "code",
   "execution_count": null,
   "id": "58",
   "metadata": {},
   "outputs": [],
   "source": [
    "colormax = log10(maximum(h.weights))\n",
    "colorrange = (-log10(Ntot), colormax) # from a single star to the maximum"
   ]
  },
  {
   "cell_type": "code",
   "execution_count": null,
   "id": "59",
   "metadata": {},
   "outputs": [],
   "source": [
    "function make_frame(h, colorrange=colorrange)\n",
    "    fig = Figure(figure_padding=(0,0,0,0), size=(200,200)) # px scale is x5 so this works for 1000 bins\n",
    "    ax = Axis(fig[1, 1],\n",
    "        aspect=DataAspect(),\n",
    "    )\n",
    "    \n",
    "\n",
    "    p = image!(extrema(bins), extrema(bins), log10.(h.weights), colormap=Arya.get_arya_cmap(), colorrange=colorrange)\n",
    "    image!(extrema(bins), extrema(bins), transparency_map.(normalized_density(Sigma_disk)))\n",
    "    \n",
    "    hidespines!(ax)\n",
    "    resize_to_layout!(fig)\n",
    "    hidedecorations!(ax)\n",
    "    lines!([-175, -125], [-175, -175], color=:grey)\n",
    "    text!(-175, -175, text=\"50 kpc\", color=:grey, font=font, fontsize=7.5)\n",
    "\n",
    "    return Makie.FigureAxisPlot(fig, ax, p)\n",
    "end"
   ]
  },
  {
   "cell_type": "code",
   "execution_count": null,
   "id": "60",
   "metadata": {},
   "outputs": [],
   "source": [
    "@time make_frame(h)"
   ]
  },
  {
   "cell_type": "code",
   "execution_count": null,
   "id": "61",
   "metadata": {},
   "outputs": [],
   "source": [
    "@time make_frame(h_end)"
   ]
  },
  {
   "cell_type": "code",
   "execution_count": null,
   "id": "62",
   "metadata": {},
   "outputs": [],
   "source": [
    "animation_dir = \"./figures/sculptor_stars_ani/\""
   ]
  },
  {
   "cell_type": "code",
   "execution_count": null,
   "id": "63",
   "metadata": {},
   "outputs": [],
   "source": [
    "mkpath(animation_dir)"
   ]
  },
  {
   "cell_type": "code",
   "execution_count": null,
   "id": "64",
   "metadata": {},
   "outputs": [],
   "source": [
    "function animate(out, bins, animation_dir)\n",
    "    idx = eachindex(out)\n",
    "    for i in idx\n",
    "        print(\"animating $i / $(idx[end])\\r\")\n",
    "        x, y, w = get_xy(out, i)\n",
    "        h = project_points(x, y, w, bins)\n",
    "        fig, ax, p = make_frame(h)\n",
    "        Makie.save(joinpath(animation_dir, \"frame_$i.png\"), fig)\n",
    "    end\n",
    "end"
   ]
  },
  {
   "cell_type": "code",
   "execution_count": null,
   "id": "65",
   "metadata": {},
   "outputs": [],
   "source": [
    "animate(out, bins, animation_dir)"
   ]
  },
  {
   "cell_type": "code",
   "execution_count": null,
   "id": "66",
   "metadata": {},
   "outputs": [],
   "source": [
    "Ntot = 5e6 # conservatively large estimate for number of stars"
   ]
  },
  {
   "cell_type": "code",
   "execution_count": null,
   "id": "67",
   "metadata": {},
   "outputs": [],
   "source": [
    "sum(out.weights)"
   ]
  },
  {
   "cell_type": "code",
   "execution_count": null,
   "id": "68",
   "metadata": {},
   "outputs": [],
   "source": [
    "log10(maximum(h1.weights))"
   ]
  },
  {
   "cell_type": "code",
   "execution_count": null,
   "id": "69",
   "metadata": {},
   "outputs": [],
   "source": [
    "x, y, w = get_xy(out, 1)\n",
    "h1 = project_points(x, y, w*Ntot, bins)"
   ]
  },
  {
   "cell_type": "code",
   "execution_count": null,
   "id": "70",
   "metadata": {},
   "outputs": [],
   "source": [
    "log10(maximum(h1.weights))"
   ]
  },
  {
   "cell_type": "code",
   "execution_count": null,
   "id": "71",
   "metadata": {},
   "outputs": [],
   "source": [
    "x, y, w = get_xy(out, 213)\n",
    "h = project_points(x, y, w*Ntot, bins)\n",
    "\n",
    "fig, ax, p = make_frame(h, (0, log10(maximum(h1.weights))) )\n",
    "Makie.save(animation_dir * \"/test.png\", fig)"
   ]
  },
  {
   "cell_type": "code",
   "execution_count": null,
   "id": "72",
   "metadata": {},
   "outputs": [],
   "source": [
    "log10(maximum(h1.weights / Ntot))"
   ]
  },
  {
   "cell_type": "code",
   "execution_count": null,
   "id": "73",
   "metadata": {},
   "outputs": [],
   "source": [
    "x, y, w = get_xy(out, 213)\n",
    "h = project_points(x, y, w, bins)\n",
    "\n",
    "fig, ax, p = make_frame(h, (-6.7, log10(maximum(h1.weights / Ntot)) ))\n",
    "Makie.save(animation_dir * \"/test2.png\", fig)"
   ]
  },
  {
   "cell_type": "markdown",
   "id": "74",
   "metadata": {},
   "source": [
    "## Animate density profile"
   ]
  },
  {
   "cell_type": "code",
   "execution_count": null,
   "id": "75",
   "metadata": {},
   "outputs": [],
   "source": [
    "function density_axis(gs; kwargs...)\n",
    "    ax = Axis(gs;\n",
    "        xlabel=\"log r / kpc\",\n",
    "        ylabel=L\"\\log\\rho\",\n",
    "        limits=(-2, 2, -10, 1),\n",
    "        kwargs...\n",
    "    )\n",
    "\n",
    "    return ax\n",
    "end"
   ]
  },
  {
   "cell_type": "code",
   "execution_count": null,
   "id": "76",
   "metadata": {},
   "outputs": [],
   "source": [
    "function density_axis()\n",
    "    fig = Figure()\n",
    "    ax = density_axis(fig[1, 1])\n",
    "\n",
    "    return fig, ax\n",
    "end"
   ]
  },
  {
   "cell_type": "code",
   "execution_count": null,
   "id": "77",
   "metadata": {},
   "outputs": [],
   "source": [
    "times = out.times[profiles.snapshot_index] * lguys.T2GYR"
   ]
  },
  {
   "cell_type": "code",
   "execution_count": null,
   "id": "78",
   "metadata": {},
   "outputs": [],
   "source": [
    "fig, ax = density_axis()\n",
    "i = 1\n",
    "lines!(profiles[i].log_r, log10.(profiles[i].rho))\n",
    "fig"
   ]
  },
  {
   "cell_type": "code",
   "execution_count": null,
   "id": "79",
   "metadata": {},
   "outputs": [],
   "source": [
    "fig, ax = density_axis()\n",
    "i = length(times)\n",
    "p = lines!(profiles[i].log_r, log10.(profiles[i].rho))\n",
    "fig"
   ]
  },
  {
   "cell_type": "code",
   "execution_count": null,
   "id": "80",
   "metadata": {},
   "outputs": [],
   "source": [
    "\n",
    "\n",
    "fig, ax = density_axis()\n",
    "framerate=30\n",
    "i = 1\n",
    "\n",
    "p = lines!(profiles[i].log_r, log10.(profiles[i].rho))\n",
    "\n",
    "record(fig, \"sculptor_dm_density.mp4\", 2:length(times), framerate = framerate) do i\n",
    "    ax.title = string(times[i])\n",
    "    \n",
    "    prof = profiles[i]\n",
    "    p[1] = [Makie.Point2f(x, y) for (x,y) in zip(prof.log_r, log10.(prof.rho))]\n",
    "    println(i)\n",
    "end\n",
    "\n",
    "fig"
   ]
  },
  {
   "cell_type": "markdown",
   "id": "81",
   "metadata": {},
   "source": [
    "## Animate orbit"
   ]
  },
  {
   "cell_type": "code",
   "execution_count": null,
   "id": "82",
   "metadata": {},
   "outputs": [],
   "source": [
    "function r_t_axis()\n",
    "    fig = Figure()\n",
    "    ax = Axis(fig[1,1],\n",
    "        xlabel=\"time / Gyr\",\n",
    "        ylabel=L\"$r_\\textrm{mw}$ / kpc\",\n",
    "    )\n",
    "\n",
    "    return fig, ax\n",
    "end"
   ]
  },
  {
   "cell_type": "code",
   "execution_count": null,
   "id": "83",
   "metadata": {},
   "outputs": [],
   "source": [
    "function r_t_axis(gs)\n",
    "    ax = Axis(gs,\n",
    "        xlabel=\"time / Gyr\",\n",
    "        ylabel=L\"$r_\\textrm{mw}$ / kpc\",\n",
    "    )\n",
    "\n",
    "    return ax\n",
    "end"
   ]
  },
  {
   "cell_type": "code",
   "execution_count": null,
   "id": "84",
   "metadata": {},
   "outputs": [],
   "source": [
    "r_mean = lguys.calc_r(out.x_cen)"
   ]
  },
  {
   "cell_type": "code",
   "execution_count": null,
   "id": "85",
   "metadata": {},
   "outputs": [],
   "source": [
    "fig, ax = r_t_axis()\n",
    "lines!(out.times * lguys.T2GYR, r_mean)\n",
    "vlines!([NaN])\n",
    "fig"
   ]
  },
  {
   "cell_type": "code",
   "execution_count": null,
   "id": "86",
   "metadata": {},
   "outputs": [],
   "source": [
    "function rho_orbit_axis()\n",
    "    fig = Figure(size=(700, 300))\n",
    "    ax_rho = density_axis(fig[1, 1])\n",
    "    ax_r = r_t_axis(fig[1, 2])\n",
    "\n",
    "    ax_r.limits=(0, 10, 0.9minimum(r_mean), 1.1maximum(r_mean))\n",
    "\n",
    "    colsize!(fig.layout, 1, Auto(1))\n",
    "    colsize!(fig.layout, 2, Auto(0.5))\n",
    "\n",
    "    return fig, ax_rho, ax_r\n",
    "end"
   ]
  },
  {
   "cell_type": "code",
   "execution_count": null,
   "id": "87",
   "metadata": {},
   "outputs": [],
   "source": [
    "rho_orbit_axis()[1]"
   ]
  },
  {
   "cell_type": "code",
   "execution_count": null,
   "id": "88",
   "metadata": {},
   "outputs": [],
   "source": [
    "fig, ax, ax_r = rho_orbit_axis()\n",
    "framerate=30\n",
    "\n",
    "i = 1\n",
    "\n",
    "p_rho = lines!(ax, profiles[i].log_r, log10.(profiles[i].rho))\n",
    "orbit_points = Observable(Point2f[(out.times[1] * lguys.T2GYR, r_mean[1])])\n",
    "\n",
    "\n",
    "p_r_break = vlines!(ax, [NaN], color=:black, alpha=0.3, linestyle=:dash)\n",
    "p_r = lines!(ax_r, orbit_points)\n",
    "\n",
    "r_last = Observable(r_mean[1])\n",
    "r_last_last = Observable(r_last[])\n",
    "t_last_peri = Observable(NaN)\n",
    "\n",
    "record(fig, \"sculptor_dm_density.mp4\", 2:length(times), framerate = framerate) do i    \n",
    "    prof = profiles[i]\n",
    "    \n",
    "    p_rho[1] = [Makie.Point2f(x, y) for (x,y) in zip(prof.log_r, log10.(prof.rho))]\n",
    "\n",
    "    idx = profiles.snapshot_index[i]\n",
    "    r = r_mean[idx]\n",
    "    new_point = Point2f(times[i], r)\n",
    "    orbit_points[] = push!(orbit_points[], new_point)\n",
    "\n",
    "    if r_last_last[] > r_last[] && r_last[] < r_mean[idx]\n",
    "        t_last_peri[] = times[i-1]\n",
    "    end\n",
    "\n",
    "    #todo oom but could be better\n",
    "    σv = prof.v_circ_max * lguys.V2KMS / 3\n",
    "    \n",
    "    if !isnan(t_last_peri[])\n",
    "        dt = times[i] - t_last_peri[]\n",
    "        p_r_break[1] = [log10(σv * dt)] # approx\n",
    "    end\n",
    "\n",
    "    r_last_last[] = r_last[]\n",
    "    r_last[] = r_mean[idx]\n",
    "    println(i)\n",
    "\n",
    "end\n",
    "\n",
    "fig"
   ]
  },
  {
   "cell_type": "markdown",
   "id": "89",
   "metadata": {},
   "source": [
    "## Animate phase space"
   ]
  }
 ],
 "metadata": {
  "kernelspec": {
   "display_name": "Julia 1.11.1",
   "language": "julia",
   "name": "julia-1.11"
  },
  "language_info": {
   "file_extension": ".jl",
   "mimetype": "application/julia",
   "name": "julia",
   "version": "1.11.1"
  }
 },
 "nbformat": 4,
 "nbformat_minor": 5
}
