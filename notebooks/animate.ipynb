{
 "cells": [
  {
   "cell_type": "code",
   "execution_count": null,
   "id": "dbf8fc2c-f6fe-45d8-8c84-fec0ce4e4822",
   "metadata": {},
   "outputs": [],
   "source": [
    "using CairoMakie;\n",
    "using CSV, DataFrames\n",
    "\n",
    "import LilGuys as lguys\n",
    "\n",
    "using Arya"
   ]
  },
  {
   "cell_type": "code",
   "execution_count": null,
   "id": "7b09c95b-8f72-49a7-81d5-68acb2fbdc25",
   "metadata": {},
   "outputs": [],
   "source": []
  }
 ],
 "metadata": {
  "kernelspec": {
   "display_name": "Julia 1.10.2",
   "language": "julia",
   "name": "julia-1.10"
  },
  "language_info": {
   "name": ""
  }
 },
 "nbformat": 4,
 "nbformat_minor": 5
}
