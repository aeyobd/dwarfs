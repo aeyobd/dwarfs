{
 "cells": [
  {
   "cell_type": "code",
   "execution_count": null,
   "id": "0",
   "metadata": {},
   "outputs": [],
   "source": [
    "using CairoMakie;\n",
    "using CSV, DataFrames\n",
    "\n",
    "import LilGuys as lguys\n",
    "\n",
    "using Arya"
   ]
  },
  {
   "cell_type": "code",
   "execution_count": null,
   "id": "1",
   "metadata": {},
   "outputs": [],
   "source": [
    "model_dir = \"/astro/dboyea/sculptor/orbits/orbit1/1e6/V32_r5\""
   ]
  },
  {
   "cell_type": "code",
   "execution_count": null,
   "id": "2",
   "metadata": {},
   "outputs": [],
   "source": [
    "starsfile = \"/astro/dboyea/sculptor/isolation/1e6/stars/exp2d_rs0.13_stars.hdf5\""
   ]
  },
  {
   "cell_type": "code",
   "execution_count": null,
   "id": "3",
   "metadata": {},
   "outputs": [],
   "source": [
    "prob_df = lguys.load_hdf5_table(starsfile)"
   ]
  },
  {
   "cell_type": "code",
   "execution_count": null,
   "id": "4",
   "metadata": {},
   "outputs": [],
   "source": [
    "out = lguys.Output(model_dir * \"/out\", weights=prob_df.probability)"
   ]
  },
  {
   "cell_type": "code",
   "execution_count": null,
   "id": "5",
   "metadata": {},
   "outputs": [],
   "source": [
    "out[1].x_cen"
   ]
  },
  {
   "cell_type": "code",
   "execution_count": null,
   "id": "6",
   "metadata": {},
   "outputs": [],
   "source": [
    "function get_xy(snap, time)\n",
    "    x = snap.positions[2, :] #.- snap.x_cen[2]\n",
    "\ty = snap.positions[3, :] #.- snap.x_cen[3]\n",
    "    return x, y\n",
    "end"
   ]
  },
  {
   "cell_type": "code",
   "execution_count": null,
   "id": "7",
   "metadata": {},
   "outputs": [],
   "source": [
    "profiles = lguys.Profiles3D(\"$model_dir/out/profiles.hdf5\");"
   ]
  },
  {
   "cell_type": "code",
   "execution_count": null,
   "id": "8",
   "metadata": {},
   "outputs": [],
   "source": [
    "function calc_stars_hist(snap, bins)\n",
    "    x, y = get_xy(snap, 0)\n",
    "\tms = probabilities[snap.index]\n",
    "\th = Arya.histogram2d(x, y, bins, weights=ms)\n",
    "    return h.values\n",
    "end"
   ]
  },
  {
   "cell_type": "code",
   "execution_count": null,
   "id": "9",
   "metadata": {},
   "outputs": [],
   "source": [
    "r_max = 200"
   ]
  },
  {
   "cell_type": "code",
   "execution_count": null,
   "id": "10",
   "metadata": {},
   "outputs": [],
   "source": [
    "bins = LinRange(-r_max, r_max, 100)"
   ]
  },
  {
   "cell_type": "code",
   "execution_count": null,
   "id": "11",
   "metadata": {},
   "outputs": [],
   "source": [
    "function xy_axis()\n",
    "    fig = Figure()\n",
    "    ax = Axis(fig[1, 1],\n",
    "        xlabel=\"y / kpc\",\n",
    "        ylabel=\"z / kpc\",\n",
    "        aspect=DataAspect())\n",
    "\n",
    "    return fig, ax\n",
    "end"
   ]
  },
  {
   "cell_type": "markdown",
   "id": "12",
   "metadata": {},
   "source": [
    "## Animate dark matter"
   ]
  },
  {
   "cell_type": "code",
   "execution_count": null,
   "id": "13",
   "metadata": {},
   "outputs": [],
   "source": [
    "using KernelDensity"
   ]
  },
  {
   "cell_type": "code",
   "execution_count": null,
   "id": "14",
   "metadata": {},
   "outputs": [],
   "source": [
    "function calc_dm_hist(snap, bins)\n",
    "    x, y = get_xy(snap, 0)\n",
    "\th = Arya.histogram2d(x, y, bins)\n",
    "    return h.values\n",
    "end"
   ]
  },
  {
   "cell_type": "code",
   "execution_count": null,
   "id": "15",
   "metadata": {},
   "outputs": [],
   "source": [
    "h = calc_dm_hist(out[1], bins)"
   ]
  },
  {
   "cell_type": "code",
   "execution_count": null,
   "id": "16",
   "metadata": {},
   "outputs": [],
   "source": [
    "color_kwargs = (;\n",
    "    colorrange = (1e-5 * maximum(h), maximum(h)),\n",
    "    colorscale = log10,\n",
    "    colormap = :magma\n",
    "    )"
   ]
  },
  {
   "cell_type": "code",
   "execution_count": null,
   "id": "17",
   "metadata": {},
   "outputs": [],
   "source": [
    "fig, ax = xy_axis()\n",
    "\n",
    "h = calc_dm_hist(out[1], bins)\n",
    "image!((-r_max, r_max), (-r_max, r_max), h; color_kwargs...)\n",
    "\n",
    "fig"
   ]
  },
  {
   "cell_type": "code",
   "execution_count": null,
   "id": "18",
   "metadata": {},
   "outputs": [],
   "source": [
    "fig, ax = xy_axis()\n",
    "\n",
    "h = calc_dm_hist(out[end], bins)\n",
    "image!((-r_max, r_max), (-r_max, r_max), h; color_kwargs...)\n",
    "\n",
    "fig"
   ]
  },
  {
   "cell_type": "code",
   "execution_count": null,
   "id": "19",
   "metadata": {},
   "outputs": [],
   "source": [
    "framerate = 10"
   ]
  },
  {
   "cell_type": "code",
   "execution_count": null,
   "id": "20",
   "metadata": {},
   "outputs": [],
   "source": [
    "idxs = 1:10:length(out)"
   ]
  },
  {
   "cell_type": "code",
   "execution_count": null,
   "id": "21",
   "metadata": {},
   "outputs": [],
   "source": [
    "fig, ax = xy_axis()\n",
    "\n",
    "h = calc_dm_hist(out[1], bins)\n",
    "\n",
    "p = image!((-r_max, r_max), (-r_max, r_max), h; color_kwargs...)\n",
    "\n",
    "\n",
    "record(fig, \"sculptor_dm.mp4\", idxs, framerate = framerate) do i\n",
    "    snap = out[i]\n",
    "    h = calc_dm_hist(snap, bins)\n",
    "    p[3] = h\n",
    "    println(i)\n",
    "end\n",
    "\n",
    "fig"
   ]
  },
  {
   "cell_type": "code",
   "execution_count": null,
   "id": "22",
   "metadata": {},
   "outputs": [],
   "source": [
    "pwd()"
   ]
  },
  {
   "cell_type": "markdown",
   "id": "23",
   "metadata": {
    "jp-MarkdownHeadingCollapsed": true
   },
   "source": [
    "## Animate stars"
   ]
  },
  {
   "cell_type": "code",
   "execution_count": null,
   "id": "24",
   "metadata": {},
   "outputs": [],
   "source": [
    "function calc_stars_hist(snap, bins)\n",
    "    x, y = get_xy(snap, 0)\n",
    "\th = Arya.histogram2d(x, y, bins, weights=snap.weights)\n",
    "    return h.values\n",
    "end"
   ]
  },
  {
   "cell_type": "code",
   "execution_count": null,
   "id": "25",
   "metadata": {},
   "outputs": [],
   "source": [
    "h = calc_stars_hist(out[1], bins)"
   ]
  },
  {
   "cell_type": "code",
   "execution_count": null,
   "id": "26",
   "metadata": {},
   "outputs": [],
   "source": [
    "color_kwargs = (;\n",
    "    colorrange = (1e-10 * maximum(h), maximum(h)),\n",
    "    colorscale = log10,\n",
    "    colormap = :magma\n",
    "    )"
   ]
  },
  {
   "cell_type": "code",
   "execution_count": null,
   "id": "27",
   "metadata": {},
   "outputs": [],
   "source": [
    "fig, ax = xy_axis()\n",
    "\n",
    "h = calc_stars_hist(out[1], bins)\n",
    "image!((-r_max, r_max), (-r_max, r_max), h; color_kwargs...)\n",
    "\n",
    "fig"
   ]
  },
  {
   "cell_type": "code",
   "execution_count": null,
   "id": "28",
   "metadata": {},
   "outputs": [],
   "source": [
    "fig, ax = xy_axis()\n",
    "\n",
    "h = calc_stars_hist(out[end], bins)\n",
    "image!((-r_max, r_max), (-r_max, r_max), h; color_kwargs...)\n",
    "\n",
    "fig"
   ]
  },
  {
   "cell_type": "code",
   "execution_count": null,
   "id": "29",
   "metadata": {},
   "outputs": [],
   "source": [
    "framerate = 10"
   ]
  },
  {
   "cell_type": "code",
   "execution_count": null,
   "id": "30",
   "metadata": {},
   "outputs": [],
   "source": [
    "idxs = 1:10:length(out)"
   ]
  },
  {
   "cell_type": "code",
   "execution_count": null,
   "id": "31",
   "metadata": {},
   "outputs": [],
   "source": [
    "fig, ax = xy_axis()\n",
    "\n",
    "h = calc_stars_hist(out[1], bins)\n",
    "\n",
    "p = image!((-r_max, r_max), (-r_max, r_max), h; color_kwargs...)\n",
    "\n",
    "\n",
    "record(fig, \"sculptor_stars.mp4\", idxs, framerate = framerate) do i\n",
    "    snap = out[i]\n",
    "    h = calc_stars_hist(snap, bins)\n",
    "    p[3] = h\n",
    "    println(i)\n",
    "end\n",
    "\n",
    "fig"
   ]
  },
  {
   "cell_type": "markdown",
   "id": "32",
   "metadata": {},
   "source": [
    "## Animate density profile"
   ]
  },
  {
   "cell_type": "code",
   "execution_count": null,
   "id": "33",
   "metadata": {},
   "outputs": [],
   "source": [
    "function density_axis(gs; kwargs...)\n",
    "    ax = Axis(gs;\n",
    "        xlabel=\"log r / kpc\",\n",
    "        ylabel=L\"\\log\\rho\",\n",
    "        limits=(-2, 2, -10, 1),\n",
    "        kwargs...\n",
    "    )\n",
    "\n",
    "    return ax\n",
    "end"
   ]
  },
  {
   "cell_type": "code",
   "execution_count": null,
   "id": "34",
   "metadata": {},
   "outputs": [],
   "source": [
    "function density_axis()\n",
    "    fig = Figure()\n",
    "    ax = density_axis(fig[1, 1])\n",
    "\n",
    "    return fig, ax\n",
    "end"
   ]
  },
  {
   "cell_type": "code",
   "execution_count": null,
   "id": "35",
   "metadata": {},
   "outputs": [],
   "source": [
    "times = out.times[profiles.snapshot_index] * lguys.T2GYR"
   ]
  },
  {
   "cell_type": "code",
   "execution_count": null,
   "id": "36",
   "metadata": {},
   "outputs": [],
   "source": [
    "fig, ax = density_axis()\n",
    "i = 1\n",
    "lines!(profiles[i].log_r, log10.(profiles[i].rho))\n",
    "fig"
   ]
  },
  {
   "cell_type": "code",
   "execution_count": null,
   "id": "37",
   "metadata": {},
   "outputs": [],
   "source": [
    "fig, ax = density_axis()\n",
    "i = length(times)\n",
    "p = lines!(profiles[i].log_r, log10.(profiles[i].rho))\n",
    "fig"
   ]
  },
  {
   "cell_type": "code",
   "execution_count": null,
   "id": "38",
   "metadata": {},
   "outputs": [],
   "source": [
    "\n",
    "\n",
    "fig, ax = density_axis()\n",
    "framerate=30\n",
    "i = 1\n",
    "\n",
    "p = lines!(profiles[i].log_r, log10.(profiles[i].rho))\n",
    "\n",
    "record(fig, \"sculptor_dm_density.mp4\", 2:length(times), framerate = framerate) do i\n",
    "    ax.title = string(times[i])\n",
    "    \n",
    "    prof = profiles[i]\n",
    "    p[1] = [Makie.Point2f(x, y) for (x,y) in zip(prof.log_r, log10.(prof.rho))]\n",
    "    println(i)\n",
    "end\n",
    "\n",
    "fig"
   ]
  },
  {
   "cell_type": "markdown",
   "id": "39",
   "metadata": {},
   "source": [
    "## Animate orbit"
   ]
  },
  {
   "cell_type": "code",
   "execution_count": null,
   "id": "40",
   "metadata": {},
   "outputs": [],
   "source": [
    "function r_t_axis()\n",
    "    fig = Figure()\n",
    "    ax = Axis(fig[1,1],\n",
    "        xlabel=\"time / Gyr\",\n",
    "        ylabel=L\"$r_\\textrm{mw}$ / kpc\",\n",
    "    )\n",
    "\n",
    "    return fig, ax\n",
    "end"
   ]
  },
  {
   "cell_type": "code",
   "execution_count": null,
   "id": "41",
   "metadata": {},
   "outputs": [],
   "source": [
    "function r_t_axis(gs)\n",
    "    ax = Axis(gs,\n",
    "        xlabel=\"time / Gyr\",\n",
    "        ylabel=L\"$r_\\textrm{mw}$ / kpc\",\n",
    "    )\n",
    "\n",
    "    return ax\n",
    "end"
   ]
  },
  {
   "cell_type": "code",
   "execution_count": null,
   "id": "42",
   "metadata": {},
   "outputs": [],
   "source": [
    "r_mean = lguys.calc_r(out.x_cen)"
   ]
  },
  {
   "cell_type": "code",
   "execution_count": null,
   "id": "43",
   "metadata": {},
   "outputs": [],
   "source": [
    "fig, ax = r_t_axis()\n",
    "lines!(out.times * lguys.T2GYR, r_mean)\n",
    "vlines!([NaN])\n",
    "fig"
   ]
  },
  {
   "cell_type": "code",
   "execution_count": null,
   "id": "44",
   "metadata": {},
   "outputs": [],
   "source": [
    "function rho_orbit_axis()\n",
    "    fig = Figure(size=(700, 300))\n",
    "    ax_rho = density_axis(fig[1, 1])\n",
    "    ax_r = r_t_axis(fig[1, 2])\n",
    "\n",
    "    ax_r.limits=(0, 10, 0.9minimum(r_mean), 1.1maximum(r_mean))\n",
    "\n",
    "    colsize!(fig.layout, 1, Auto(1))\n",
    "    colsize!(fig.layout, 2, Auto(0.5))\n",
    "\n",
    "    return fig, ax_rho, ax_r\n",
    "end"
   ]
  },
  {
   "cell_type": "code",
   "execution_count": null,
   "id": "45",
   "metadata": {},
   "outputs": [],
   "source": [
    "rho_orbit_axis()[1]"
   ]
  },
  {
   "cell_type": "code",
   "execution_count": null,
   "id": "46",
   "metadata": {},
   "outputs": [],
   "source": [
    "fig, ax, ax_r = rho_orbit_axis()\n",
    "framerate=30\n",
    "\n",
    "i = 1\n",
    "\n",
    "p_rho = lines!(ax, profiles[i].log_r, log10.(profiles[i].rho))\n",
    "orbit_points = Observable(Point2f[(out.times[1] * lguys.T2GYR, r_mean[1])])\n",
    "\n",
    "\n",
    "p_r_break = vlines!(ax, [NaN], color=:black, alpha=0.3, linestyle=:dash)\n",
    "p_r = lines!(ax_r, orbit_points)\n",
    "\n",
    "r_last = Observable(r_mean[1])\n",
    "r_last_last = Observable(r_last[])\n",
    "t_last_peri = Observable(NaN)\n",
    "\n",
    "record(fig, \"sculptor_dm_density.mp4\", 2:length(times), framerate = framerate) do i    \n",
    "    prof = profiles[i]\n",
    "    \n",
    "    p_rho[1] = [Makie.Point2f(x, y) for (x,y) in zip(prof.log_r, log10.(prof.rho))]\n",
    "\n",
    "    idx = profiles.snapshot_index[i]\n",
    "    r = r_mean[idx]\n",
    "    new_point = Point2f(times[i], r)\n",
    "    orbit_points[] = push!(orbit_points[], new_point)\n",
    "\n",
    "    if r_last_last[] > r_last[] && r_last[] < r_mean[idx]\n",
    "        t_last_peri[] = times[i-1]\n",
    "    end\n",
    "\n",
    "    #todo oom but could be better\n",
    "    σv = prof.v_circ_max * lguys.V2KMS / 3\n",
    "    \n",
    "    if !isnan(t_last_peri[])\n",
    "        dt = times[i] - t_last_peri[]\n",
    "        p_r_break[1] = [log10(σv * dt)] # approx\n",
    "    end\n",
    "\n",
    "    r_last_last[] = r_last[]\n",
    "    r_last[] = r_mean[idx]\n",
    "    println(i)\n",
    "\n",
    "end\n",
    "\n",
    "fig"
   ]
  },
  {
   "cell_type": "markdown",
   "id": "47",
   "metadata": {},
   "source": [
    "## Animate phase space"
   ]
  }
 ],
 "metadata": {
  "kernelspec": {
   "display_name": "Julia 1.10.4",
   "language": "julia",
   "name": "julia-1.10"
  },
  "language_info": {
   "file_extension": ".jl",
   "mimetype": "application/julia",
   "name": "julia",
   "version": "1.10.4"
  }
 },
 "nbformat": 4,
 "nbformat_minor": 5
}
