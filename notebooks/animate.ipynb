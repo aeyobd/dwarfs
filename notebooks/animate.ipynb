{
 "cells": [
  {
   "cell_type": "code",
   "execution_count": null,
   "id": "0",
   "metadata": {},
   "outputs": [],
   "source": [
    "using CairoMakie;\n",
    "using CSV, DataFrames\n",
    "\n",
    "using LilGuys\n",
    "using Arya\n",
    "import DensityEstimators as DE"
   ]
  },
  {
   "cell_type": "code",
   "execution_count": null,
   "id": "1",
   "metadata": {},
   "outputs": [],
   "source": [
    "using StatsBase"
   ]
  },
  {
   "cell_type": "code",
   "execution_count": null,
   "id": "2",
   "metadata": {},
   "outputs": [],
   "source": [
    "using PythonCall"
   ]
  },
  {
   "cell_type": "code",
   "execution_count": null,
   "id": "3",
   "metadata": {},
   "outputs": [],
   "source": [
    "using Printf"
   ]
  },
  {
   "cell_type": "code",
   "execution_count": null,
   "id": "4",
   "metadata": {},
   "outputs": [],
   "source": [
    "agama = pyimport(\"agama\")"
   ]
  },
  {
   "cell_type": "markdown",
   "id": "5",
   "metadata": {},
   "source": [
    "## File loading"
   ]
  },
  {
   "cell_type": "code",
   "execution_count": null,
   "id": "6",
   "metadata": {},
   "outputs": [],
   "source": [
    "potential = agama.Potential(\"../agama/potentials/EP2020.ini\")"
   ]
  },
  {
   "cell_type": "code",
   "execution_count": null,
   "id": "7",
   "metadata": {},
   "outputs": [],
   "source": [
    "disk_poetntial = agama.Potential(potential[1], potential[2], potential[0])"
   ]
  },
  {
   "cell_type": "code",
   "execution_count": null,
   "id": "8",
   "metadata": {},
   "outputs": [],
   "source": [
    "model_dir = ENV[\"DWARFS_ROOT\"] * \"/analysis/sculptor/1e7_V31_r3.2/orbit_mean/\""
   ]
  },
  {
   "cell_type": "code",
   "execution_count": null,
   "id": "9",
   "metadata": {},
   "outputs": [],
   "source": [
    "starsname = \"plummer_rs0.20\""
   ]
  },
  {
   "cell_type": "code",
   "execution_count": null,
   "id": "10",
   "metadata": {},
   "outputs": [],
   "source": [
    "starsfile = \"../stars/$starsname/probabilities_stars.hdf5\""
   ]
  },
  {
   "cell_type": "code",
   "execution_count": null,
   "id": "11",
   "metadata": {},
   "outputs": [],
   "source": [
    "prob_df = LilGuys.read_hdf5_table(joinpath(model_dir, starsfile))"
   ]
  },
  {
   "cell_type": "code",
   "execution_count": null,
   "id": "12",
   "metadata": {},
   "outputs": [],
   "source": [
    "issorted(prob_df.index)"
   ]
  },
  {
   "cell_type": "code",
   "execution_count": null,
   "id": "13",
   "metadata": {},
   "outputs": [],
   "source": [
    "out = Output(model_dir, weights=prob_df.probability)"
   ]
  },
  {
   "cell_type": "code",
   "execution_count": null,
   "id": "14",
   "metadata": {},
   "outputs": [],
   "source": [
    "# for DM & stellar animations.\n",
    "r_max = 200\n",
    "\n",
    "bins = LinRange(-r_max, r_max, 1000 + 1)"
   ]
  },
  {
   "cell_type": "markdown",
   "id": "15",
   "metadata": {},
   "source": [
    "## Stellar disk image"
   ]
  },
  {
   "cell_type": "code",
   "execution_count": null,
   "id": "16",
   "metadata": {},
   "outputs": [],
   "source": [
    "Nb = length(bins)"
   ]
  },
  {
   "cell_type": "code",
   "execution_count": null,
   "id": "17",
   "metadata": {},
   "outputs": [],
   "source": [
    "ρ_min = pyconvert(Float64, potential[3].density([r_max, r_max, r_max]))"
   ]
  },
  {
   "cell_type": "code",
   "execution_count": null,
   "id": "18",
   "metadata": {},
   "outputs": [],
   "source": [
    "Σ_min = pyconvert(Float64, sum(potential[3].density([fill(r_max, Nb) fill(r_max, Nb) bins])))"
   ]
  },
  {
   "cell_type": "code",
   "execution_count": null,
   "id": "19",
   "metadata": {},
   "outputs": [],
   "source": [
    "ρ_min * length(bins)"
   ]
  },
  {
   "cell_type": "code",
   "execution_count": null,
   "id": "20",
   "metadata": {},
   "outputs": [],
   "source": [
    "ay = [1,2]\n",
    "az = [3,5,6]"
   ]
  },
  {
   "cell_type": "code",
   "execution_count": null,
   "id": "21",
   "metadata": {},
   "outputs": [],
   "source": [
    "y = repeat(ay, outer=3)"
   ]
  },
  {
   "cell_type": "code",
   "execution_count": null,
   "id": "22",
   "metadata": {},
   "outputs": [],
   "source": [
    "z = repeat(az, inner=2)"
   ]
  },
  {
   "cell_type": "code",
   "execution_count": null,
   "id": "23",
   "metadata": {},
   "outputs": [],
   "source": [
    "reshape(y, 2, 3)"
   ]
  },
  {
   "cell_type": "code",
   "execution_count": null,
   "id": "24",
   "metadata": {},
   "outputs": [],
   "source": [
    "reshape(z, 2, 3)"
   ]
  },
  {
   "cell_type": "code",
   "execution_count": null,
   "id": "25",
   "metadata": {},
   "outputs": [],
   "source": [
    "sum(reshape(z, 2, 3), dims=2)"
   ]
  },
  {
   "cell_type": "code",
   "execution_count": null,
   "id": "26",
   "metadata": {},
   "outputs": [],
   "source": [
    "function sum_density(disk_potential, bins; cutoff=40, cutoffstrength=3)\n",
    "    bin_mids = midpoints(bins)\n",
    "    Nb = length(bin_mids)\n",
    "    \n",
    "    Σ_disk = Matrix{Float64}(undef, Nb, Nb)\n",
    "    for i in 1:Nb\n",
    "        print(\"$i/$Nb\\r\")\n",
    "        \n",
    "        x = fill(bin_mids[i], Nb*Nb)\n",
    "        y = vcat([fill(a, Nb) for a in bin_mids]...)\n",
    "        z = repeat(bin_mids, Nb)\n",
    "        r = @. sqrt(x^2 + y^2 + z^2)\n",
    "\n",
    "        # NOTE--this should be more formalized\n",
    "        pos = [x z y]\n",
    "        rho = disk_poetntial.density(pos)\n",
    "        rho = pyconvert(Array{Float64}, rho)\n",
    "        if cutoff !== nothing\n",
    "            rho = @. rho * exp( -(r / cutoff)^cutoffstrength) \n",
    "        end\n",
    "        \n",
    "        for j in 0:(Nb-1)\n",
    "            Σ = sum(rho[1+j*Nb:Nb*(j+1)])\n",
    "            Σ_disk[i, j+1] = Σ\n",
    "\n",
    "        end\n",
    "    end\n",
    "\n",
    "    return Σ_disk\n",
    "end\n",
    "        "
   ]
  },
  {
   "cell_type": "code",
   "execution_count": null,
   "id": "27",
   "metadata": {},
   "outputs": [],
   "source": [
    "function normalized_density(x, h=0.03)\n",
    "    x = asinh.(x ./ h)\n",
    "    xm, xh = extrema(x[isfinite.(x)])\n",
    "    return (x .- xm) ./ (xh .- xm)\n",
    "end"
   ]
  },
  {
   "cell_type": "code",
   "execution_count": null,
   "id": "28",
   "metadata": {},
   "outputs": [],
   "source": [
    "function normalized_density2(x, h=0.03)\n",
    "    x = log10.(x .+ h)\n",
    "    xm, xh = extrema(x[isfinite.(x)])\n",
    "    return (x .- xm) ./ (xh .- xm)\n",
    "end"
   ]
  },
  {
   "cell_type": "code",
   "execution_count": null,
   "id": "29",
   "metadata": {},
   "outputs": [],
   "source": [
    "color_0 = Arya.COLORS[7] "
   ]
  },
  {
   "cell_type": "code",
   "execution_count": null,
   "id": "30",
   "metadata": {},
   "outputs": [],
   "source": [
    "print(color_0)"
   ]
  },
  {
   "cell_type": "code",
   "execution_count": null,
   "id": "31",
   "metadata": {},
   "outputs": [],
   "source": [
    "Makie.RGBAf(0., 0., 0.)"
   ]
  },
  {
   "cell_type": "code",
   "execution_count": null,
   "id": "32",
   "metadata": {},
   "outputs": [],
   "source": [
    "Makie.RGBA{Float32}(0.9411765f0,0.89411765f0,0.25882354f0,1.0f0)\n"
   ]
  },
  {
   "cell_type": "code",
   "execution_count": null,
   "id": "33",
   "metadata": {},
   "outputs": [],
   "source": []
  },
  {
   "cell_type": "code",
   "execution_count": null,
   "id": "34",
   "metadata": {},
   "outputs": [],
   "source": [
    "function transparency_map(x) \n",
    "    x = x\n",
    "    Makie.RGBAf(color_0.r, color_0.g, color_0.b * x, x)\n",
    "end"
   ]
  },
  {
   "cell_type": "code",
   "execution_count": null,
   "id": "35",
   "metadata": {},
   "outputs": [],
   "source": [
    "Sigma_disk = sum_density(disk_poetntial, bins)"
   ]
  },
  {
   "cell_type": "code",
   "execution_count": null,
   "id": "36",
   "metadata": {},
   "outputs": [],
   "source": [
    "Sigma_disk_nocut = sum_density(disk_poetntial, bins, cutoff=nothing)"
   ]
  },
  {
   "cell_type": "code",
   "execution_count": null,
   "id": "37",
   "metadata": {},
   "outputs": [],
   "source": [
    "image(extrema(bins), extrema(bins), transparency_map.(normalized_density(Sigma_disk)),\n",
    "    axis=(; limits=200 .* (-1, 1, -1, 1), aspect=DataAspect(), backgroundcolor=:black))"
   ]
  },
  {
   "cell_type": "code",
   "execution_count": null,
   "id": "38",
   "metadata": {},
   "outputs": [],
   "source": [
    "image(extrema(bins), extrema(bins), transparency_map.(normalized_density(Sigma_disk_nocut)),\n",
    "    axis=(; limits=200 .* (-1, 1, -1, 1), aspect=DataAspect(), backgroundcolor=:black))"
   ]
  },
  {
   "cell_type": "code",
   "execution_count": null,
   "id": "39",
   "metadata": {},
   "outputs": [],
   "source": [
    "image(extrema(bins), extrema(bins), transparency_map.(normalized_density2(Sigma_disk, Σ_min)),\n",
    "    axis=(; limits=200 .* (-1, 1, -1, 1), aspect=DataAspect(), backgroundcolor=:black))"
   ]
  },
  {
   "cell_type": "code",
   "execution_count": null,
   "id": "40",
   "metadata": {},
   "outputs": [],
   "source": [
    "fig, ax = FigAxis(\n",
    "    yscale=log10,\n",
    "    limits=(nothing, nothing, 1, 1e6)\n",
    ")\n",
    "\n",
    "stephist!(vec(asinh.(Sigma_disk_nocut,)))\n",
    "stephist!(vec(asinh.(Sigma_disk,)))\n",
    "stephist!(vec(log10.(Sigma_disk .+ Σ_min)))\n",
    "stephist!(vec(log10.(Sigma_disk_nocut .+ Σ_min)))\n",
    "#\n",
    "fig"
   ]
  },
  {
   "cell_type": "code",
   "execution_count": null,
   "id": "41",
   "metadata": {},
   "outputs": [],
   "source": [
    "image(extrema(bins), extrema(bins), transparency_map.(normalized_density2(Sigma_disk_nocut, 10Σ_min)),\n",
    "    axis=(; limits=200 .* (-1, 1, -1, 1), aspect=DataAspect(), backgroundcolor=:black))"
   ]
  },
  {
   "cell_type": "markdown",
   "id": "42",
   "metadata": {},
   "source": [
    "## Animate dark matter"
   ]
  },
  {
   "cell_type": "code",
   "execution_count": null,
   "id": "43",
   "metadata": {},
   "outputs": [],
   "source": [
    "function get_xy2(out, idx)\n",
    "    # shortcut for hdf5\n",
    "    idx -= 1\n",
    "    pos = out.h5file[\"snap$idx/PartType1/Coordinates\"][:, :]\n",
    "    xy = [ [0, 1, 0] [0, 0, 1]]' * pos\n",
    "    return xy[1, :], xy[2, :]\n",
    "end"
   ]
  },
  {
   "cell_type": "code",
   "execution_count": null,
   "id": "44",
   "metadata": {},
   "outputs": [],
   "source": [
    "function get_xy(out, idx)\n",
    "    # shortcut for hdf5\n",
    "    idx -= 1\n",
    "    x = out.h5file[\"snap$idx/PartType1/Coordinates\"][2, :]\n",
    "\ty = out.h5file[\"snap$idx/PartType1/Coordinates\"][3, :]\n",
    "    return x, y\n",
    "end"
   ]
  },
  {
   "cell_type": "code",
   "execution_count": null,
   "id": "45",
   "metadata": {},
   "outputs": [],
   "source": [
    "function project_points(x, y, bins)\n",
    "    h1 = fit(Histogram, (x, y), (bins, bins) )\n",
    "end"
   ]
  },
  {
   "cell_type": "code",
   "execution_count": null,
   "id": "46",
   "metadata": {},
   "outputs": [],
   "source": []
  },
  {
   "cell_type": "code",
   "execution_count": null,
   "id": "47",
   "metadata": {},
   "outputs": [],
   "source": [
    "@time x, y = get_xy(out, 7)"
   ]
  },
  {
   "cell_type": "code",
   "execution_count": null,
   "id": "48",
   "metadata": {},
   "outputs": [],
   "source": [
    "@time x, y = get_xy2(out, 7)"
   ]
  },
  {
   "cell_type": "code",
   "execution_count": null,
   "id": "49",
   "metadata": {},
   "outputs": [],
   "source": [
    "@time h1 = project_points(x, y, bins)"
   ]
  },
  {
   "cell_type": "code",
   "execution_count": null,
   "id": "50",
   "metadata": {},
   "outputs": [],
   "source": [
    "extrema.(h1.edges)"
   ]
  },
  {
   "cell_type": "code",
   "execution_count": null,
   "id": "51",
   "metadata": {},
   "outputs": [],
   "source": [
    "x, y = get_xy(out, 212)\n",
    "h_end = project_points(x, y, bins)"
   ]
  },
  {
   "cell_type": "code",
   "execution_count": null,
   "id": "52",
   "metadata": {},
   "outputs": [],
   "source": [
    "colormax = log10(maximum(h1.weights))\n",
    "colorrange=(0, colormax)"
   ]
  },
  {
   "cell_type": "code",
   "execution_count": null,
   "id": "53",
   "metadata": {},
   "outputs": [],
   "source": [
    "function make_frame(h, colorrange=colorrange)\n",
    "    fig = Figure(figure_padding=(0,0,0,0), size=(200,200)) # px scale is x5 so this works for 1000 bins\n",
    "    ax = Axis(fig[1, 1],\n",
    "        aspect=DataAspect(),\n",
    "    )\n",
    "    \n",
    "\n",
    "    p = image!(extrema(bins), extrema(bins), log10.(h.weights), colorrange=colorrange)\n",
    "\n",
    "    image!(extrema(bins), extrema(bins), transparency_map.(normalized_density(Sigma_disk)))\n",
    "    hidespines!(ax)\n",
    "    resize_to_layout!(fig)\n",
    "    hidedecorations!(ax)\n",
    "    lines!([-175, -125], [-175, -175], color=:grey)\n",
    "    text!(-175, -175, text=\"50 kpc\", color=:grey, font=font, fontsize=7.5)\n",
    "\n",
    "    return Makie.FigureAxisPlot(fig, ax, p)\n",
    "end"
   ]
  },
  {
   "cell_type": "code",
   "execution_count": null,
   "id": "54",
   "metadata": {},
   "outputs": [],
   "source": [
    "font = \"/astro/dboyea/fonts/Arev.ttf\""
   ]
  },
  {
   "cell_type": "code",
   "execution_count": null,
   "id": "55",
   "metadata": {},
   "outputs": [],
   "source": [
    "# example last frame\n",
    "\n",
    "make_frame(h1)"
   ]
  },
  {
   "cell_type": "code",
   "execution_count": null,
   "id": "56",
   "metadata": {},
   "outputs": [],
   "source": [
    "# example last frame\n",
    "\n",
    "make_frame(h_end)"
   ]
  },
  {
   "cell_type": "code",
   "execution_count": null,
   "id": "57",
   "metadata": {},
   "outputs": [],
   "source": [
    "h = project_points(x, y, bins)"
   ]
  },
  {
   "cell_type": "code",
   "execution_count": null,
   "id": "58",
   "metadata": {},
   "outputs": [],
   "source": [
    "idxs = eachindex(out)"
   ]
  },
  {
   "cell_type": "code",
   "execution_count": null,
   "id": "59",
   "metadata": {},
   "outputs": [],
   "source": [
    "animation_dir = \"./figures/sculptor_dm_ani/\""
   ]
  },
  {
   "cell_type": "code",
   "execution_count": null,
   "id": "60",
   "metadata": {},
   "outputs": [],
   "source": [
    "mkpath(animation_dir)"
   ]
  },
  {
   "cell_type": "code",
   "execution_count": null,
   "id": "61",
   "metadata": {},
   "outputs": [],
   "source": [
    "h"
   ]
  },
  {
   "cell_type": "code",
   "execution_count": null,
   "id": "62",
   "metadata": {},
   "outputs": [],
   "source": [
    "function animate(out, bins, animation_dir)\n",
    "    idx = eachindex(out)\n",
    "    for i in idx\n",
    "        print(\"animating $i / $(idx[end])\\r\")\n",
    "        x, y = get_xy(out, i)\n",
    "        h = project_points(x, y, bins)\n",
    "        fig, ax, p = make_frame(h)\n",
    "        Makie.save(joinpath(animation_dir, \"frame_$i.png\"), fig)\n",
    "    end\n",
    "end"
   ]
  },
  {
   "cell_type": "code",
   "execution_count": null,
   "id": "63",
   "metadata": {},
   "outputs": [],
   "source": [
    "animate(out, bins, animation_dir)"
   ]
  },
  {
   "cell_type": "markdown",
   "id": "64",
   "metadata": {},
   "source": [
    "## Animate stars"
   ]
  },
  {
   "cell_type": "code",
   "execution_count": null,
   "id": "65",
   "metadata": {},
   "outputs": [],
   "source": [
    "idxs = eachindex(out)"
   ]
  },
  {
   "cell_type": "code",
   "execution_count": null,
   "id": "66",
   "metadata": {},
   "outputs": [],
   "source": [
    "function get_xy(out, idx)\n",
    "    # shortcut for hdf5\n",
    "    snap = out[idx]\n",
    "    x = snap.positions[2, :]\n",
    "    y = snap.positions[3, :]\n",
    "    w = snap.weights\n",
    "    return x, y, w\n",
    "end"
   ]
  },
  {
   "cell_type": "code",
   "execution_count": null,
   "id": "67",
   "metadata": {},
   "outputs": [],
   "source": [
    "function project_points(x, y, w, bins)\n",
    "    h1 = fit(Histogram, (x, y), weights(w), (bins, bins), )\n",
    "end"
   ]
  },
  {
   "cell_type": "code",
   "execution_count": null,
   "id": "68",
   "metadata": {},
   "outputs": [],
   "source": [
    "@time x, y, w = get_xy(out, 1)"
   ]
  },
  {
   "cell_type": "code",
   "execution_count": null,
   "id": "69",
   "metadata": {},
   "outputs": [],
   "source": [
    "@time h = project_points(x, y, w, bins)"
   ]
  },
  {
   "cell_type": "code",
   "execution_count": null,
   "id": "70",
   "metadata": {},
   "outputs": [],
   "source": [
    "x, y, w = get_xy(out, 212)\n",
    "h_end = project_points(x, y, w, bins)"
   ]
  },
  {
   "cell_type": "code",
   "execution_count": null,
   "id": "71",
   "metadata": {},
   "outputs": [],
   "source": [
    "sum(out.weights)"
   ]
  },
  {
   "cell_type": "code",
   "execution_count": null,
   "id": "72",
   "metadata": {},
   "outputs": [],
   "source": [
    "Ntot = 5e6"
   ]
  },
  {
   "cell_type": "code",
   "execution_count": null,
   "id": "73",
   "metadata": {},
   "outputs": [],
   "source": [
    "log10(Ntot)"
   ]
  },
  {
   "cell_type": "code",
   "execution_count": null,
   "id": "74",
   "metadata": {},
   "outputs": [],
   "source": [
    "colormax = log10(maximum(h.weights))\n",
    "colorrange = (-log10(Ntot), colormax) # from a single star to the maximum"
   ]
  },
  {
   "cell_type": "code",
   "execution_count": null,
   "id": "75",
   "metadata": {},
   "outputs": [],
   "source": [
    "function make_frame(h, colorrange=colorrange)\n",
    "    fig = Figure(figure_padding=(0,0,0,0), size=(200,200)) # px scale is x5 so this works for 1000 bins\n",
    "    ax = Axis(fig[1, 1],\n",
    "        aspect=DataAspect(),\n",
    "    )\n",
    "    \n",
    "\n",
    "    p = image!(extrema(bins), extrema(bins), log10.(h.weights), colormap=Arya.get_arya_cmap(), colorrange=colorrange)\n",
    "    image!(extrema(bins), extrema(bins), transparency_map.(normalized_density(Sigma_disk)))\n",
    "    \n",
    "    hidespines!(ax)\n",
    "    resize_to_layout!(fig)\n",
    "    hidedecorations!(ax)\n",
    "    lines!([-175, -125], [-175, -175], color=:grey)\n",
    "    text!(-175, -175, text=\"50 kpc\", color=:grey, font=font, fontsize=7.5)\n",
    "\n",
    "    return Makie.FigureAxisPlot(fig, ax, p)\n",
    "end"
   ]
  },
  {
   "cell_type": "code",
   "execution_count": null,
   "id": "76",
   "metadata": {},
   "outputs": [],
   "source": [
    "@time make_frame(h)"
   ]
  },
  {
   "cell_type": "code",
   "execution_count": null,
   "id": "77",
   "metadata": {},
   "outputs": [],
   "source": [
    "@time make_frame(h_end)"
   ]
  },
  {
   "cell_type": "code",
   "execution_count": null,
   "id": "78",
   "metadata": {},
   "outputs": [],
   "source": [
    "animation_dir = \"./figures/sculptor_stars_ani/\""
   ]
  },
  {
   "cell_type": "code",
   "execution_count": null,
   "id": "79",
   "metadata": {},
   "outputs": [],
   "source": [
    "mkpath(animation_dir)"
   ]
  },
  {
   "cell_type": "code",
   "execution_count": null,
   "id": "80",
   "metadata": {},
   "outputs": [],
   "source": [
    "function animate(out, bins, animation_dir)\n",
    "    idx = eachindex(out)\n",
    "    for i in idx\n",
    "        print(\"animating $i / $(idx[end])\\r\")\n",
    "        x, y, w = get_xy(out, i)\n",
    "        h = project_points(x, y, w, bins)\n",
    "        fig, ax, p = make_frame(h)\n",
    "        Makie.save(joinpath(animation_dir, \"frame_$i.png\"), fig)\n",
    "    end\n",
    "end"
   ]
  },
  {
   "cell_type": "code",
   "execution_count": null,
   "id": "81",
   "metadata": {},
   "outputs": [],
   "source": [
    "animate(out, bins, animation_dir)"
   ]
  },
  {
   "cell_type": "code",
   "execution_count": null,
   "id": "82",
   "metadata": {},
   "outputs": [],
   "source": [
    "Ntot = 5e6 # conservatively large estimate for number of stars"
   ]
  },
  {
   "cell_type": "code",
   "execution_count": null,
   "id": "83",
   "metadata": {},
   "outputs": [],
   "source": [
    "sum(out.weights)"
   ]
  },
  {
   "cell_type": "code",
   "execution_count": null,
   "id": "84",
   "metadata": {},
   "outputs": [],
   "source": [
    "log10(maximum(h1.weights))"
   ]
  },
  {
   "cell_type": "code",
   "execution_count": null,
   "id": "85",
   "metadata": {},
   "outputs": [],
   "source": [
    "x, y, w = get_xy(out, 1)\n",
    "h1 = project_points(x, y, w*Ntot, bins)"
   ]
  },
  {
   "cell_type": "code",
   "execution_count": null,
   "id": "86",
   "metadata": {},
   "outputs": [],
   "source": [
    "log10(maximum(h1.weights))"
   ]
  },
  {
   "cell_type": "code",
   "execution_count": null,
   "id": "87",
   "metadata": {},
   "outputs": [],
   "source": [
    "x, y, w = get_xy(out, 213)\n",
    "h = project_points(x, y, w*Ntot, bins)\n",
    "\n",
    "fig, ax, p = make_frame(h, (0, log10(maximum(h1.weights))) )\n",
    "Makie.save(animation_dir * \"/test.png\", fig)"
   ]
  },
  {
   "cell_type": "code",
   "execution_count": null,
   "id": "88",
   "metadata": {},
   "outputs": [],
   "source": [
    "log10(maximum(h1.weights / Ntot))"
   ]
  },
  {
   "cell_type": "code",
   "execution_count": null,
   "id": "89",
   "metadata": {},
   "outputs": [],
   "source": [
    "x, y, w = get_xy(out, 213)\n",
    "h = project_points(x, y, w, bins)\n",
    "\n",
    "fig, ax, p = make_frame(h, (-6.7, log10(maximum(h1.weights / Ntot)) ))\n",
    "Makie.save(animation_dir * \"/test2.png\", fig)"
   ]
  },
  {
   "cell_type": "markdown",
   "id": "90",
   "metadata": {},
   "source": [
    "## Animate density profile"
   ]
  },
  {
   "cell_type": "markdown",
   "id": "91",
   "metadata": {},
   "source": [
    "### Densities"
   ]
  },
  {
   "cell_type": "code",
   "execution_count": null,
   "id": "92",
   "metadata": {},
   "outputs": [],
   "source": [
    "function density_axis(gs; kwargs...)\n",
    "    ax = Axis(gs;\n",
    "        xlabel=\"log r / kpc\",\n",
    "        ylabel=L\"\\log\\rho\",\n",
    "        limits=(-2, 2, -10, 1),\n",
    "        kwargs...\n",
    "    )\n",
    "\n",
    "    return ax\n",
    "end"
   ]
  },
  {
   "cell_type": "code",
   "execution_count": null,
   "id": "93",
   "metadata": {},
   "outputs": [],
   "source": [
    "function density_axis()\n",
    "    fig = Figure()\n",
    "    ax = density_axis(fig[1, 1])\n",
    "\n",
    "    return fig, ax\n",
    "end"
   ]
  },
  {
   "cell_type": "code",
   "execution_count": null,
   "id": "94",
   "metadata": {},
   "outputs": [],
   "source": [
    "prof_path = joinpath(model_dir, \"profiles.hdf5\")\n",
    "\n",
    "profiles = LilGuys.read_structs_from_hdf5(prof_path, LilGuys.MassProfile3D) |> LilGuys.structs_to_int_pairs"
   ]
  },
  {
   "cell_type": "code",
   "execution_count": null,
   "id": "95",
   "metadata": {},
   "outputs": [],
   "source": [
    "fig, ax = density_axis()\n",
    "i = 1\n",
    "lines!(profiles[i].second.log_r, log10.(profiles[i].second.rho))\n",
    "fig"
   ]
  },
  {
   "cell_type": "code",
   "execution_count": null,
   "id": "96",
   "metadata": {},
   "outputs": [],
   "source": [
    "fig, ax = density_axis()\n",
    "i = length(profiles)\n",
    "p = lines!(profiles[i].second.log_r, log10.(profiles[i].second.rho))\n",
    "fig"
   ]
  },
  {
   "cell_type": "code",
   "execution_count": null,
   "id": "97",
   "metadata": {},
   "outputs": [],
   "source": [
    "profiles[end-1].first"
   ]
  },
  {
   "cell_type": "code",
   "execution_count": null,
   "id": "98",
   "metadata": {},
   "outputs": [],
   "source": [
    "fig, ax = density_axis()\n",
    "framerate=30\n",
    "i = 1\n",
    "\n",
    "p = lines!(profiles[i].second.log_r, log10.(profiles[i].second.rho))\n",
    "\n",
    "N = length(profiles)\n",
    "\n",
    "record(fig, \"sculptor_dm_density.gif\", 1:N, framerate = framerate) do i\n",
    "    print(\"progress...$i/$N\\r\")\n",
    "    \n",
    "    idx, prof = profiles[i]\n",
    "    time = out.times[idx] * T2GYR\n",
    "    \n",
    "    ax.title = @sprintf \"time = %2.2f Gyr\" time\n",
    "\n",
    "    p[1] = [Makie.Point2f(x, y) for (x,y) in zip(prof.log_r, log10.(prof.rho))]\n",
    "end\n",
    "\n",
    "fig"
   ]
  },
  {
   "cell_type": "markdown",
   "id": "99",
   "metadata": {},
   "source": [
    "### Velocities"
   ]
  },
  {
   "cell_type": "code",
   "execution_count": null,
   "id": "100",
   "metadata": {},
   "outputs": [],
   "source": [
    "function vcirc_axis(gs; kwargs...)\n",
    "    ax = Axis(gs;\n",
    "        xlabel=L\"$\\log\\, r_\\textrm{circ}$ / kpc\",\n",
    "        ylabel=L\"$\\log\\,v_\\textrm{circ}$ / km\\,s$^{-1}$\",\n",
    "        limits=(-1.5, 2, 0.5, 1.5),\n",
    "        kwargs...\n",
    "    )\n",
    "\n",
    "    return ax\n",
    "end"
   ]
  },
  {
   "cell_type": "code",
   "execution_count": null,
   "id": "101",
   "metadata": {},
   "outputs": [],
   "source": [
    "function vcirc_axis()\n",
    "    fig = Figure()\n",
    "    ax = vcirc_axis(fig[1, 1])\n",
    "\n",
    "    return fig, ax\n",
    "end"
   ]
  },
  {
   "cell_type": "code",
   "execution_count": null,
   "id": "102",
   "metadata": {},
   "outputs": [],
   "source": [
    "fig, ax = vcirc_axis()\n",
    "i = 1\n",
    "lines!(log10.(profiles[i].second.r_circ), log10.(profiles[i].second.v_circ * V2KMS))\n",
    "fig"
   ]
  },
  {
   "cell_type": "code",
   "execution_count": null,
   "id": "103",
   "metadata": {},
   "outputs": [],
   "source": [
    "fig, ax = vcirc_axis()\n",
    "i = length(profiles)\n",
    "lines!(log10.(profiles[i].second.r_circ), log10.(profiles[i].second.v_circ * V2KMS))\n",
    "scatter!(log10.(profiles[i].second.r_circ_max), log10.(profiles[i].second.v_circ_max * V2KMS))\n",
    "fig"
   ]
  },
  {
   "cell_type": "code",
   "execution_count": null,
   "id": "104",
   "metadata": {},
   "outputs": [],
   "source": [
    "profiles[end-1].first"
   ]
  },
  {
   "cell_type": "code",
   "execution_count": null,
   "id": "105",
   "metadata": {},
   "outputs": [],
   "source": [
    "fig, ax = vcirc_axis()\n",
    "framerate=30\n",
    "i = 1\n",
    "\n",
    "p = lines!(log10.(profiles[i].second.r_circ), log10.(profiles[i].second.v_circ * V2KMS))\n",
    "\n",
    "vmax_points = Observable(Point2f[(log10.(profiles[i].second.r_circ_max), log10.(profiles[i].second.v_circ_max * V2KMS))])\n",
    "ps = scatter!(vmax_points)\n",
    "\n",
    "N = length(profiles)\n",
    "\n",
    "record(fig, \"sculptor_dm_vcirc.gif\", 1:N, framerate = framerate) do i\n",
    "    print(\"progress...$i/$N\\r\")\n",
    "    \n",
    "    idx, prof = profiles[i]\n",
    "    time = out.times[idx] * T2GYR\n",
    "    \n",
    "    ax.title = @sprintf \"time = %2.2f Gyr\" time\n",
    "\n",
    "    p[1] = [Makie.Point2f(x, y) for (x,y) in zip(log10.(prof.r_circ), log10.(prof.v_circ * V2KMS))]\n",
    "\n",
    "    push!(vmax_points[], Makie.Point2f(log10.(prof.r_circ_max), log10.(prof.v_circ_max * V2KMS)))\n",
    "end\n",
    "\n",
    "fig"
   ]
  },
  {
   "cell_type": "markdown",
   "id": "106",
   "metadata": {},
   "source": [
    "## Stellar profiles 2D"
   ]
  },
  {
   "cell_type": "markdown",
   "id": "107",
   "metadata": {},
   "source": [
    "### Densities"
   ]
  },
  {
   "cell_type": "code",
   "execution_count": null,
   "id": "108",
   "metadata": {},
   "outputs": [],
   "source": [
    "function density_star_axis(gs; kwargs...)\n",
    "    ax = Axis(gs;\n",
    "        xlabel=\"log r / kpc\",\n",
    "        ylabel=L\"\\log\\Sigma_\\star\",\n",
    "        limits=(-2, 2, -6, 1),\n",
    "        kwargs...\n",
    "    )\n",
    "\n",
    "    return ax\n",
    "end"
   ]
  },
  {
   "cell_type": "code",
   "execution_count": null,
   "id": "109",
   "metadata": {},
   "outputs": [],
   "source": [
    "function density_star_axis()\n",
    "    fig = Figure()\n",
    "    ax = density_star_axis(fig[1, 1])\n",
    "\n",
    "    return fig, ax\n",
    "end"
   ]
  },
  {
   "cell_type": "code",
   "execution_count": null,
   "id": "110",
   "metadata": {},
   "outputs": [],
   "source": [
    "?LilGuys.StellarProfile"
   ]
  },
  {
   "cell_type": "code",
   "execution_count": null,
   "id": "111",
   "metadata": {},
   "outputs": [],
   "source": [
    "prof_path = joinpath(model_dir, \"stars\", starsname, \"stellar_profiles.hdf5\")\n",
    "\n",
    "profiles = LilGuys.read_structs_from_hdf5(prof_path, LilGuys.StellarProfile) |> LilGuys.structs_to_int_pairs"
   ]
  },
  {
   "cell_type": "code",
   "execution_count": null,
   "id": "112",
   "metadata": {},
   "outputs": [],
   "source": [
    "fig, ax = density_star_axis()\n",
    "i = 1\n",
    "lines!(profiles[i].second.log_r, profiles[i].second.log_Sigma)\n",
    "fig"
   ]
  },
  {
   "cell_type": "code",
   "execution_count": null,
   "id": "113",
   "metadata": {},
   "outputs": [],
   "source": [
    "fig, ax = density_star_axis()\n",
    "i = length(profiles)\n",
    "lines!(profiles[i].second.log_r, profiles[i].second.log_Sigma)\n",
    "fig"
   ]
  },
  {
   "cell_type": "code",
   "execution_count": null,
   "id": "114",
   "metadata": {},
   "outputs": [],
   "source": [
    "fig, ax = density_star_axis()\n",
    "framerate=3\n",
    "i = 1\n",
    "\n",
    "p = lines!(profiles[i].second.log_r, profiles[i].second.log_Sigma)\n",
    "\n",
    "N = length(profiles)\n",
    "\n",
    "record(fig, \"sculptor_star_density.gif\", 1:N, framerate = framerate) do i\n",
    "    print(\"progress...$i/$N\\r\")\n",
    "    \n",
    "    idx, prof = profiles[i]\n",
    "    time = out.times[idx] * T2GYR\n",
    "    \n",
    "    ax.title = @sprintf \"time = %2.2f Gyr\" time\n",
    "\n",
    "    p[1] = [Makie.Point2f(x, y) for (x,y) in zip(prof.log_r, prof.log_Sigma)]\n",
    "end\n",
    "\n",
    "fig"
   ]
  },
  {
   "cell_type": "markdown",
   "id": "115",
   "metadata": {},
   "source": [
    "### Velocities"
   ]
  },
  {
   "cell_type": "code",
   "execution_count": null,
   "id": "116",
   "metadata": {},
   "outputs": [],
   "source": [
    "function vcirc_axis(gs; kwargs...)\n",
    "    ax = Axis(gs;\n",
    "        xlabel=L\"$\\log\\, r_\\textrm{circ}$ / kpc\",\n",
    "        ylabel=L\"$\\log\\,v_\\textrm{circ}$ / km\\,s$^{-1}$\",\n",
    "        limits=(-1.5, 2, 0.5, 1.5),\n",
    "        kwargs...\n",
    "    )\n",
    "\n",
    "    return ax\n",
    "end"
   ]
  },
  {
   "cell_type": "code",
   "execution_count": null,
   "id": "117",
   "metadata": {},
   "outputs": [],
   "source": [
    "function vcirc_axis()\n",
    "    fig = Figure()\n",
    "    ax = vcirc_axis(fig[1, 1])\n",
    "\n",
    "    return fig, ax\n",
    "end"
   ]
  },
  {
   "cell_type": "code",
   "execution_count": null,
   "id": "118",
   "metadata": {},
   "outputs": [],
   "source": [
    "fig, ax = vcirc_axis()\n",
    "i = 1\n",
    "lines!(log10.(profiles[i].second.r_circ), log10.(profiles[i].second.v_circ * V2KMS))\n",
    "fig"
   ]
  },
  {
   "cell_type": "code",
   "execution_count": null,
   "id": "119",
   "metadata": {},
   "outputs": [],
   "source": [
    "fig, ax = vcirc_axis()\n",
    "i = length(profiles)\n",
    "lines!(log10.(profiles[i].second.r_circ), log10.(profiles[i].second.v_circ * V2KMS))\n",
    "scatter!(log10.(profiles[i].second.r_circ_max), log10.(profiles[i].second.v_circ_max * V2KMS))\n",
    "fig"
   ]
  },
  {
   "cell_type": "code",
   "execution_count": null,
   "id": "120",
   "metadata": {},
   "outputs": [],
   "source": [
    "profiles[end-1].first"
   ]
  },
  {
   "cell_type": "code",
   "execution_count": null,
   "id": "121",
   "metadata": {},
   "outputs": [],
   "source": [
    "fig, ax = vcirc_axis()\n",
    "framerate=30\n",
    "i = 1\n",
    "\n",
    "p = lines!(log10.(profiles[i].second.r_circ), log10.(profiles[i].second.v_circ * V2KMS))\n",
    "\n",
    "vmax_points = Observable(Point2f[(log10.(profiles[i].second.r_circ_max), log10.(profiles[i].second.v_circ_max * V2KMS))])\n",
    "ps = scatter!(vmax_points)\n",
    "\n",
    "N = length(profiles)\n",
    "\n",
    "record(fig, \"sculptor_dm_vcirc.gif\", 1:N, framerate = framerate) do i\n",
    "    print(\"progress...$i/$N\\r\")\n",
    "    \n",
    "    idx, prof = profiles[i]\n",
    "    time = out.times[idx] * T2GYR\n",
    "    \n",
    "    ax.title = @sprintf \"time = %2.2f Gyr\" time\n",
    "\n",
    "    p[1] = [Makie.Point2f(x, y) for (x,y) in zip(log10.(prof.r_circ), log10.(prof.v_circ * V2KMS))]\n",
    "\n",
    "    push!(vmax_points[], Makie.Point2f(log10.(prof.r_circ_max), log10.(prof.v_circ_max * V2KMS)))\n",
    "end\n",
    "\n",
    "fig"
   ]
  }
 ],
 "metadata": {
  "kernelspec": {
   "display_name": "Julia 1.11.1",
   "language": "julia",
   "name": "julia-1.11"
  },
  "language_info": {
   "file_extension": ".jl",
   "mimetype": "application/julia",
   "name": "julia",
   "version": "1.11.1"
  }
 },
 "nbformat": 4,
 "nbformat_minor": 5
}
