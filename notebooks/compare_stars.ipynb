{
 "cells": [
  {
   "cell_type": "code",
   "execution_count": null,
   "id": "10fd4836-872e-4f8f-9a42-2bebb1420e46",
   "metadata": {},
   "outputs": [],
   "source": [
    "using CairoMakie\n",
    "\n",
    "import LilGuys as lguys\n",
    "using Arya"
   ]
  },
  {
   "cell_type": "code",
   "execution_count": null,
   "id": "5b8e5f32-0130-46e2-8956-83b62f65c176",
   "metadata": {},
   "outputs": [],
   "source": [
    "function sigma_axis(; kwargs...) \n",
    "\tfig = Figure()\n",
    "\tax = Axis(fig[1,1], \n",
    "\t\txlabel=log_r_label,\n",
    "\t\tylabel = L\"\\log \\Sigma\\ / \\textrm{(fraction/arcmin^2)}\"\n",
    "\t\t;kwargs...\n",
    "\t)\n",
    "\n",
    "\treturn fig, ax\n",
    "end"
   ]
  },
  {
   "cell_type": "code",
   "execution_count": null,
   "id": "3ef84411-94ba-4211-a0e6-740a62f40c36",
   "metadata": {},
   "outputs": [],
   "source": [
    "prof_expected = lguys.StellarProfile(\"/astro/dboyea/sculptor/fiducial_sample_profile.toml\");"
   ]
  },
  {
   "cell_type": "code",
   "execution_count": null,
   "id": "9b519cd4-01d6-4a15-b435-b02cece813f8",
   "metadata": {},
   "outputs": [],
   "source": [
    "log_r_label = \"log r / arcmin\""
   ]
  },
  {
   "cell_type": "code",
   "execution_count": null,
   "id": "a9cdbd3e-b65f-400b-b536-21faefd02715",
   "metadata": {},
   "outputs": [],
   "source": [
    "distance = 81"
   ]
  },
  {
   "cell_type": "code",
   "execution_count": null,
   "id": "cd04662b-d972-4903-88c2-a0633b67b253",
   "metadata": {},
   "outputs": [],
   "source": [
    "function plot_finals(models, labels)\n",
    "    \n",
    "    fig = Figure()\n",
    "\tax = Axis(fig[1,1], \n",
    "\t\txlabel=log_r_label,\n",
    "\t\tylabel = L\"\\log \\Sigma\\ / \\textrm{(fraction/arcmin^2)}\",\n",
    "\t\tlimits=((-1, 2.5), (-5, 1)),\n",
    "\t\txgridvisible=false,\n",
    "\t\tygridvisible=false\n",
    "\t)\n",
    "\n",
    "\terrscatter!(prof_expected.log_r, prof_expected.log_Sigma,\n",
    "\t\tyerr=prof_expected.log_Sigma_err,\n",
    "\t\tcolor=:black,\n",
    "        label=\"J+24\",\n",
    "\t)\n",
    "\n",
    "    for i in eachindex(models)\n",
    "    \tlines!(models[i].log_r, models[i].log_Sigma, \n",
    "    \t\t\tlabel=labels[i])\n",
    "    end\n",
    "\n",
    "\taxislegend()\n",
    "\n",
    "\tfig\n",
    "end"
   ]
  },
  {
   "cell_type": "code",
   "execution_count": null,
   "id": "b3070c95-0c76-4d24-b7a4-74e507d10a1b",
   "metadata": {},
   "outputs": [],
   "source": [
    "function plot_ini_fin(prof_i, prof_f, model)\n",
    "    \n",
    "    fig = Figure()\n",
    "\tax = Axis(fig[1,1], \n",
    "\t\txlabel=log_r_label,\n",
    "\t\tylabel = L\"\\log \\Sigma\\ / \\textrm{(fraction/arcmin^2)}\",\n",
    "\t\tlimits=((-1, 2.5), (-5, 1)),\n",
    "\t\txgridvisible=false,\n",
    "\t\tygridvisible=false\n",
    "\t)\n",
    "\n",
    "\terrscatter!(prof_expected.log_r, prof_expected.log_Sigma,\n",
    "\t\tyerr=prof_expected.log_Sigma_err,\n",
    "\t\tcolor=:black,\n",
    "        label=\"J+24\",\n",
    "\t)\n",
    "\n",
    "    lines!(prof_i.log_r, prof_i.log_Sigma, \n",
    "            label=\"initial\")\n",
    "\n",
    "    lines!(prof_f.log_r, prof_f.log_Sigma, \n",
    "            label=\"final\")\n",
    "\n",
    "    x = LinRange(-2, 2.5, 1000)\n",
    "    r = 10 .^ x\n",
    "    y = lguys.calc_Σ.(model, r)\n",
    "\n",
    "    r_scale = lguys.kpc_to_arcmin(1, distance)\n",
    "\n",
    "    x = x .+ log10(r_scale)\n",
    "    y ./= y[1]\n",
    "\n",
    "    lines!(x, log10.(y), linestyle=:dot, color=:black, label=\"expected\")\n",
    "\taxislegend()\n",
    "\n",
    "\tfig\n",
    "end"
   ]
  },
  {
   "cell_type": "code",
   "execution_count": null,
   "id": "bb1c27b4-d2d2-4670-8294-5dd00ab31dc1",
   "metadata": {},
   "outputs": [],
   "source": [
    "using Measurements"
   ]
  },
  {
   "cell_type": "code",
   "execution_count": null,
   "id": "c95a51f6-2260-4558-b337-f914be477c41",
   "metadata": {},
   "outputs": [],
   "source": [
    "function get_log_Σ_0(prof, χ2_max=1)\n",
    "    log_r = prof.log_r\n",
    "\n",
    "    @assert issorted(log_r)\n",
    "    local log_Σ_0, log_Σ_0_err\n",
    "    \n",
    "    for i in eachindex(log_r)\n",
    "        filt = 1:i\n",
    "        log_Σ_0 = lguys.mean(prof.log_Sigma[filt] .± prof.log_Sigma_err[filt])\n",
    "        log_Σ_0_err = Measurements.uncertainty.(log_Σ_0)\n",
    "        log_Σ_0 = Measurements.value(log_Σ_0)\n",
    "        χ2 = @. (log_Σ_0 - prof.log_Sigma)^2 / (prof.log_Sigma_err + log_Σ_0_err)^2\n",
    "\n",
    "        χ2_norm = lguys.mean(χ2[filt])\n",
    "\n",
    "        if χ2_norm .> χ2_max\n",
    "            @info \"max radius of $(log_r[i])\"\n",
    "            break\n",
    "        end\n",
    "    end\n",
    "    \n",
    "    return log_Σ_0, log_Σ_0_err\n",
    "end"
   ]
  },
  {
   "cell_type": "code",
   "execution_count": null,
   "id": "6cc52336-9ff4-43bc-9854-d5d1e56be57a",
   "metadata": {},
   "outputs": [],
   "source": [
    "get_log_Σ_0(profiles[1])"
   ]
  },
  {
   "cell_type": "code",
   "execution_count": null,
   "id": "440ab8e1-19c6-47d4-b02f-fc0b89b92a4b",
   "metadata": {},
   "outputs": [],
   "source": [
    "function get_normalization(prof_f, prof_expected=prof_expected)\n",
    "    log_Σ_0_obs, _ = get_log_Σ_0(prof_expected)\n",
    "    log_Σ_0, _ = get_log_Σ_0(prof_f)\n",
    "\n",
    "    return log_Σ_0_obs - log_Σ_0\n",
    "end"
   ]
  },
  {
   "cell_type": "markdown",
   "id": "3578c276-7dd8-47d1-93c0-1af8dfeb4987",
   "metadata": {},
   "source": [
    "## V=32, r=5.9 (the initial model)"
   ]
  },
  {
   "cell_type": "code",
   "execution_count": null,
   "id": "2658966e-0d2f-4e5a-9d32-92d4aafb5fd0",
   "metadata": {},
   "outputs": [],
   "source": [
    "model_dir = \"/astro/dboyea/sculptor/orbits/orbit1/1e6_V32_r5.4/stars/\"\n",
    "stars_dir = \"/astro/dboyea/sculptor/isolation/1e6/fiducial/stars_ana/\""
   ]
  },
  {
   "cell_type": "code",
   "execution_count": null,
   "id": "837dec09-59c5-4192-9f74-70c684e8ef10",
   "metadata": {},
   "outputs": [],
   "source": [
    "models = [\n",
    "    \"exp2d_rs0.07\",\n",
    "    \"exp2d_rs0.10\",\n",
    "    \"exp2d_rs0.20\",\n",
    "]"
   ]
  },
  {
   "cell_type": "code",
   "execution_count": null,
   "id": "4480183a-358e-43a6-b054-609db5428fca",
   "metadata": {},
   "outputs": [],
   "source": [
    "names_i = [model_dir] .* models .* [\"_i_profile.toml\"]\n",
    "names_f = [model_dir] .* models .* [\"_profile.toml\"]\n",
    "names_profiles = [stars_dir] .* models .* [\".toml\"]"
   ]
  },
  {
   "cell_type": "code",
   "execution_count": null,
   "id": "80ac6a6b-42fd-428e-b270-75b3698ab5b5",
   "metadata": {},
   "outputs": [],
   "source": [
    "profiles = lguys.StellarProfile.(names_f);\n",
    "profiles_i = lguys.StellarProfile.(names_i);"
   ]
  },
  {
   "cell_type": "code",
   "execution_count": null,
   "id": "dcf060a7-244a-4550-901e-c5458259a814",
   "metadata": {},
   "outputs": [],
   "source": [
    "profile_an = lguys.StellarProfile(\"/astro/dboyea/dwarfs/notebooks/anake_test_profile.toml\");"
   ]
  },
  {
   "cell_type": "code",
   "execution_count": null,
   "id": "d40e5889-ba11-4c45-9b1d-07b6d6cadcba",
   "metadata": {},
   "outputs": [],
   "source": [
    "expected = lguys.load_profile.( names_profiles)"
   ]
  },
  {
   "cell_type": "code",
   "execution_count": null,
   "id": "f727851e-38e1-40a8-88a1-fde01deb61b9",
   "metadata": {},
   "outputs": [],
   "source": [
    "plot_finals([profiles; profile_an], [models; \"ananke\"])"
   ]
  },
  {
   "cell_type": "code",
   "execution_count": null,
   "id": "d8e510b8-3e36-4cae-b1e0-c037083b89e8",
   "metadata": {},
   "outputs": [],
   "source": [
    "plot_finals(profiles_i, models)"
   ]
  },
  {
   "cell_type": "code",
   "execution_count": null,
   "id": "48d62169-8fab-4a10-a876-594f2d338f45",
   "metadata": {},
   "outputs": [],
   "source": [
    "i = 1\n",
    "plot_ini_fin(profiles_i[i], profiles[i], expected[i])"
   ]
  },
  {
   "cell_type": "markdown",
   "id": "3dc0ee9f-b04a-4fef-8818-de581b750e8b",
   "metadata": {},
   "source": [
    "### King profiles"
   ]
  },
  {
   "cell_type": "code",
   "execution_count": null,
   "id": "8dc4f78a-ce81-4334-846f-3d237f0b0193",
   "metadata": {},
   "outputs": [],
   "source": [
    "models = [\n",
    "    \"king_rs0.10\",\n",
    "    \"king_rs0.15\",\n",
    "]"
   ]
  },
  {
   "cell_type": "code",
   "execution_count": null,
   "id": "1c571339-0231-433b-aa00-252dc0fe8ba8",
   "metadata": {},
   "outputs": [],
   "source": [
    "names_i = [model_dir] .* models .* [\"_1_profile.toml\"]\n",
    "names_f = [model_dir] .* models .* [\"_profile.toml\"]\n",
    "names_profiles = [stars_dir] .* models .* [\".toml\"]"
   ]
  },
  {
   "cell_type": "code",
   "execution_count": null,
   "id": "90f2f4fe-ede6-436f-969a-de0d2ba2a780",
   "metadata": {},
   "outputs": [],
   "source": [
    "profiles = lguys.StellarProfile.(names_f);\n",
    "profiles_i = lguys.StellarProfile.(names_i);"
   ]
  },
  {
   "cell_type": "code",
   "execution_count": null,
   "id": "65eda396-6fca-45fa-b4bb-c62f594a6311",
   "metadata": {},
   "outputs": [],
   "source": [
    "expected = lguys.load_profile.( names_profiles)"
   ]
  },
  {
   "cell_type": "code",
   "execution_count": null,
   "id": "94d7aab2-d551-4d28-a426-5e87b9ffb453",
   "metadata": {},
   "outputs": [],
   "source": [
    "plot_finals(profiles, models)"
   ]
  },
  {
   "cell_type": "code",
   "execution_count": null,
   "id": "91264a4d-ed81-452a-96c4-479aa0746612",
   "metadata": {},
   "outputs": [],
   "source": [
    "plot_finals(profiles_i, models)"
   ]
  },
  {
   "cell_type": "code",
   "execution_count": null,
   "id": "5be6a733-e249-4fa9-acce-e80950c30548",
   "metadata": {},
   "outputs": [],
   "source": [
    "expected[2].R_t"
   ]
  },
  {
   "cell_type": "code",
   "execution_count": null,
   "id": "01be630d-c212-4fc3-8691-a2e440e4b9a0",
   "metadata": {},
   "outputs": [],
   "source": [
    "lguys.kpc_to_arcmin(0.75, 81)"
   ]
  },
  {
   "cell_type": "code",
   "execution_count": null,
   "id": "47d16505-1723-4528-be26-5f219929dbb4",
   "metadata": {},
   "outputs": [],
   "source": [
    "log10(31)"
   ]
  },
  {
   "cell_type": "markdown",
   "id": "ce9de620-7afe-458e-bf02-9b796da2e061",
   "metadata": {},
   "source": [
    "# Orbit studies"
   ]
  },
  {
   "cell_type": "markdown",
   "id": "4c74af5e-0b86-4e16-9f97-6b6786938cbe",
   "metadata": {},
   "source": [
    "## V=32, r=2.4"
   ]
  },
  {
   "cell_type": "code",
   "execution_count": null,
   "id": "5d1b530d-3982-40e0-986c-b0d59dc818fc",
   "metadata": {},
   "outputs": [],
   "source": [
    "models = [\n",
    "    \"exp2d_rs0.10\",\n",
    "]"
   ]
  },
  {
   "cell_type": "code",
   "execution_count": null,
   "id": "257d4fc9-79f7-4264-8e1c-2066bfd5d448",
   "metadata": {},
   "outputs": [],
   "source": [
    "model_dir = \"/astro/dboyea/sculptor/orbits/orbit1/1e6_V31_r3.2/stars/\"\n",
    "stars_dir = \"/astro/dboyea/sculptor/isolation/1e6/V31_r3.2/stars/\"\n",
    "\n",
    "names_i = [model_dir] .* models .* [\"_i_profile.toml\"]\n",
    "names_f = [model_dir] .* models .* [\"_profile.toml\"]\n",
    "names_profiles = [stars_dir] .* models .* [\".toml\"]"
   ]
  },
  {
   "cell_type": "code",
   "execution_count": null,
   "id": "6fcb9230-ad8f-4479-afba-fa73d419aad6",
   "metadata": {},
   "outputs": [],
   "source": [
    "expected = lguys.load_profile.( names_profiles)"
   ]
  },
  {
   "cell_type": "code",
   "execution_count": null,
   "id": "3540fa39-ee20-491a-af3b-976436ee049a",
   "metadata": {},
   "outputs": [],
   "source": [
    "profiles = lguys.StellarProfile.(names_f);"
   ]
  },
  {
   "cell_type": "code",
   "execution_count": null,
   "id": "5c822c01-55f4-4f3e-abc8-c1a2c533723f",
   "metadata": {},
   "outputs": [],
   "source": [
    "profiles_i = lguys.StellarProfile.(names_i);"
   ]
  },
  {
   "cell_type": "code",
   "execution_count": null,
   "id": "f27b00a3-bf7d-4775-8155-1c5955458dba",
   "metadata": {},
   "outputs": [],
   "source": [
    "norms = get_normalization.(profiles)"
   ]
  },
  {
   "cell_type": "code",
   "execution_count": null,
   "id": "8cafddf0-666a-497f-9337-de0fe066dcd1",
   "metadata": {},
   "outputs": [],
   "source": [
    "[prof.log_Sigma .+= norm for (prof, norm) in zip(profiles, norms)]"
   ]
  },
  {
   "cell_type": "code",
   "execution_count": null,
   "id": "f68c683e-c089-43a6-a2c0-1a77a494faec",
   "metadata": {},
   "outputs": [],
   "source": [
    "[prof.log_Sigma .+= norm for (prof, norm) in zip(profiles_i, norms)]"
   ]
  },
  {
   "cell_type": "code",
   "execution_count": null,
   "id": "2438f54f-d0ee-44e4-9e86-558dde300330",
   "metadata": {},
   "outputs": [],
   "source": [
    "prof_fit = lguys.KingProfile(M=1, R_s=11, R_t=25)"
   ]
  },
  {
   "cell_type": "code",
   "execution_count": null,
   "id": "85d3c89b-2588-4a26-9a2d-ad5023c820ff",
   "metadata": {},
   "outputs": [],
   "source": [
    "r_b = 76"
   ]
  },
  {
   "cell_type": "code",
   "execution_count": null,
   "id": "2eae3a9c-8418-40c7-a08c-a64e78fc0e7a",
   "metadata": {},
   "outputs": [],
   "source": [
    "i = 1\n",
    "plot_ini_fin(profiles_i[i], profiles[i], expected[i])"
   ]
  },
  {
   "cell_type": "code",
   "execution_count": null,
   "id": "d8b55438-e9aa-4ca4-9cc0-0110ea854efd",
   "metadata": {},
   "outputs": [],
   "source": []
  }
 ],
 "metadata": {
  "kernelspec": {
   "display_name": "Julia 1.10.5",
   "language": "julia",
   "name": "julia-1.10"
  },
  "language_info": {
   "file_extension": ".jl",
   "mimetype": "application/julia",
   "name": "julia",
   "version": "1.10.5"
  }
 },
 "nbformat": 4,
 "nbformat_minor": 5
}
