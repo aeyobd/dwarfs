{
 "cells": [
  {
   "cell_type": "code",
   "execution_count": null,
   "id": "0",
   "metadata": {},
   "outputs": [],
   "source": [
    "using CairoMakie\n",
    "using Arya\n",
    "using LilGuys"
   ]
  },
  {
   "cell_type": "code",
   "execution_count": null,
   "id": "1",
   "metadata": {},
   "outputs": [],
   "source": [
    "using OrderedCollections\n",
    "using Measurements\n",
    "import TOML\n",
    "using CSV, DataFrames"
   ]
  },
  {
   "cell_type": "code",
   "execution_count": null,
   "id": "2",
   "metadata": {},
   "outputs": [],
   "source": [
    "using Printf"
   ]
  },
  {
   "cell_type": "code",
   "execution_count": null,
   "id": "3",
   "metadata": {},
   "outputs": [],
   "source": [
    "Makie.set_theme!(Arya.theme_arya(), \n",
    "    fontsize = 24,\n",
    "    Axis = (;\n",
    "        xgridvisible=false,\n",
    "        ygridvisible = false,\n",
    "        ),\n",
    ")"
   ]
  },
  {
   "cell_type": "markdown",
   "id": "4",
   "metadata": {},
   "source": [
    "# Observational Density Profiles"
   ]
  },
  {
   "cell_type": "code",
   "execution_count": null,
   "id": "5",
   "metadata": {},
   "outputs": [],
   "source": [
    "scl_obs_prof = LilGuys.StellarProfile(ENV[\"DWARFS_ROOT\"] * \"/observations/sculptor/density_profiles/\" * \"fiducial\" * \"_profile.toml\")\n",
    "umi_obs_prof = LilGuys.StellarProfile(ENV[\"DWARFS_ROOT\"] * \"/observations/ursa_minor/density_profiles/\" * \"fiducial\" * \"_profile.toml\")"
   ]
  },
  {
   "cell_type": "code",
   "execution_count": null,
   "id": "6",
   "metadata": {},
   "outputs": [],
   "source": [
    "import SciPy\n",
    "import NaNMath as nm"
   ]
  },
  {
   "cell_type": "code",
   "execution_count": null,
   "id": "7",
   "metadata": {},
   "outputs": [],
   "source": []
  },
  {
   "cell_type": "code",
   "execution_count": null,
   "id": "8",
   "metadata": {},
   "outputs": [],
   "source": [
    "function predict_properties(Σ_model; N=10_000, log_r_min=-2, log_r_max=2)\n",
    "    log_r_bins = LinRange(log_r_min, log_r_max, 1000)\n",
    "    log_r = midpoints(log_r_bins)\n",
    "    r = 10 .^  log_r\n",
    "    r_bins = 10 .^ log_r_bins\n",
    "    \n",
    "    Σ = Σ_model.(r)\n",
    "\n",
    "    #Γ = calc_Γ(log_r, Σ)\n",
    "    M_in = [LilGuys.integrate(rrr->2π*rrr*Σ_model(rrr), 0, rr) for rr in r]\n",
    "    Σ_m = M_in ./ (π * r .^ 2)\n",
    "    Γ_max = 2*(1 .- Σ ./ Σ_m)\n",
    "    counts =  Σ .* (2π *  r .* diff(r_bins) )\n",
    "\n",
    "    #Γ=Γ, \n",
    "    return (log_r=log_r, log_r_bins=log_r_bins, counts=counts, Σ=Σ, Σ_m=Σ_m, Γ_max=Γ_max, M_in=M_in)\n",
    "\n",
    "end"
   ]
  },
  {
   "cell_type": "code",
   "execution_count": null,
   "id": "9",
   "metadata": {},
   "outputs": [],
   "source": [
    "import LinearAlgebra: diag"
   ]
  },
  {
   "cell_type": "code",
   "execution_count": null,
   "id": "10",
   "metadata": {},
   "outputs": [],
   "source": [
    "function fit_profile(obs; r_max=r_max, N=10_000, profile=lguys.Exp2D, p0=[2, 0.3], kwargs...)\n",
    "    r_val = 10 .^ obs.log_r\n",
    "    log_Σ = obs.log_Sigma .± obs.log_Sigma_err\n",
    "    filt = r_val .< r_max\n",
    "    filt .&= map(x->isfinite(x), log_Σ)\n",
    "    filt .&= @. !isnan(log_Σ)\n",
    "    \n",
    "    r_val = r_val[filt]\n",
    "    log_Σ = log_Σ[filt]\n",
    "\n",
    "\n",
    "    log_Σ_val = [s.val for s in log_Σ]\n",
    "    log_Σ_e = [s.err for s in log_Σ]\n",
    "\n",
    "\tlog_Σ_exp(r, popt...) = nm.log10.(LilGuys.calc_Σ.(profile(popt...), r))\n",
    "\tpopt, covt = SciPy.optimize.curve_fit(log_Σ_exp, r_val, log_Σ_val, \n",
    "        sigma=log_Σ_e, p0=p0; kwargs...)\n",
    "    \n",
    "    popt_p = popt .± sqrt.(diag(covt))\n",
    "\n",
    "\tΣ_pred(r) = 10 .^ log_Σ_exp(r, popt...)\n",
    "    props = predict_properties(Σ_pred, \n",
    "        N=N, log_r_min=obs.log_r_bins[1], log_r_max=obs.log_r_bins[end])\n",
    "\n",
    "    log_Σ_pred = log_Σ_exp.(10 .^ obs.log_r, popt...)\n",
    "    log_Σ_res = Measurements.value.(obs.log_Sigma).- log_Σ_pred\n",
    "    return popt_p, props, log_Σ_res\n",
    "end"
   ]
  },
  {
   "cell_type": "code",
   "execution_count": null,
   "id": "11",
   "metadata": {},
   "outputs": [],
   "source": [
    "popt, pred = fit_profile(scl_obs_prof, p0=[10_000, 7], profile=LilGuys.Exp2D, r_max=20)"
   ]
  },
  {
   "cell_type": "code",
   "execution_count": null,
   "id": "12",
   "metadata": {},
   "outputs": [],
   "source": [
    "pred."
   ]
  },
  {
   "cell_type": "code",
   "execution_count": null,
   "id": "13",
   "metadata": {},
   "outputs": [],
   "source": [
    "profile = scl_obs_prof\n",
    "fig = Figure()\n",
    "\n",
    "\n",
    "ylabel=L\"\\log \\Sigma\\ /\\ \\textrm{stars arcmin^{-2}}\"\n",
    "\n",
    "\n",
    "ax = Axis(fig[1, 1],\n",
    "    ylabel=ylabel,\n",
    "    xlabel=log_r_label,\n",
    "    title = \"Sculptor\"\n",
    ")\n",
    "\n",
    "errscatter!(ax, profile.log_r, profile.log_Sigma, \n",
    "                yerr=profile.log_Sigma_err)\n",
    "lines!(ax, pred.log_r, log10.(pred.Σ), color=COLORS[2])\n",
    "\n",
    "fig"
   ]
  },
  {
   "cell_type": "code",
   "execution_count": null,
   "id": "14",
   "metadata": {},
   "outputs": [],
   "source": [
    "popt, pred = fit_profile(umi_obs_prof, p0=[10_000, 7], profile=LilGuys.Exp2D, r_max=20)"
   ]
  },
  {
   "cell_type": "code",
   "execution_count": null,
   "id": "15",
   "metadata": {},
   "outputs": [],
   "source": [
    "profile = umi_obs_prof\n",
    "fig = Figure()\n",
    "\n",
    "\n",
    "ylabel=L\"\\log \\Sigma\\ /\\ \\textrm{stars arcmin^{-2}}\"\n",
    "\n",
    "\n",
    "ax = Axis(fig[1, 1],\n",
    "    ylabel=ylabel,\n",
    "    xlabel=log_r_label,\n",
    "    title = \"Ursa Minor\",\n",
    "    limits=(nothing, nothing, -4, nothing)\n",
    ")\n",
    "\n",
    "errscatter!(ax, profile.log_r, profile.log_Sigma, \n",
    "                yerr=profile.log_Sigma_err)\n",
    "\n",
    "lines!(ax, pred.log_r, log10.(pred.Σ), color=COLORS[2])\n",
    "\n",
    "fig"
   ]
  },
  {
   "cell_type": "code",
   "execution_count": null,
   "id": "16",
   "metadata": {},
   "outputs": [],
   "source": [
    "function load_obs_profiles(filenames, galaxy=\"sculptor\")\n",
    "\n",
    "    profiles = OrderedDict{String, LilGuys.StellarProfile}()\n",
    "\n",
    "    for (key, filename) in filenames\n",
    "        profiles[key] = LilGuys.StellarProfile(ENV[\"DWARFS_ROOT\"] * \"/observations/$galaxy/density_profiles/\" * filename * \"_profile.toml\")\n",
    "\n",
    "    end\n",
    "    \n",
    "    return profiles\n",
    "end"
   ]
  },
  {
   "cell_type": "code",
   "execution_count": null,
   "id": "17",
   "metadata": {},
   "outputs": [],
   "source": [
    "log_r_label = \"log r / arcmin\""
   ]
  },
  {
   "cell_type": "code",
   "execution_count": null,
   "id": "18",
   "metadata": {},
   "outputs": [],
   "source": [
    "function plot_obs_densities(profiles; sequential=false,\n",
    "        normalize=false,\n",
    "\t\tlimits=((-1, 2), (-3, 2))\n",
    "    )\n",
    "   \tfig = Figure()\n",
    "\n",
    "    if normalize\n",
    "\t\tylabel=L\"\\log \\Sigma\\ /\\ \\textrm{fraction arcmin^{-2}}\"\n",
    "    else\n",
    "        ylabel=L\"\\log \\Sigma\\ /\\ \\textrm{stars arcmin^{-2}}\"\n",
    "    end\n",
    "    \n",
    "    ax = Axis(fig[1, 1],\n",
    "\t\tylabel=ylabel,\n",
    "\t\txlabel=log_r_label,\n",
    "        limits = limits,\n",
    "    )\n",
    "\n",
    "    for (i, (key, profile)) in enumerate(profiles)\n",
    "        if sequential\n",
    "            kwargs = (; color=i, colorrange=(1, length(profiles)))\n",
    "        else\n",
    "            kwargs = (; )\n",
    "        end\n",
    "\n",
    "        if normalize\n",
    "            dy = -log10(profile.M_in[end])\n",
    "        else\n",
    "            dy = 0\n",
    "        end\n",
    "        \n",
    "        lines!(ax, profile.log_r, profile.log_Sigma .+ dy;\n",
    "            label=key, kwargs...)\n",
    "        \n",
    "        if i == 1\n",
    "            errscatter!(ax, profile.log_r, profile.log_Sigma .+ dy, \n",
    "                yerr=profile.log_Sigma_err)\n",
    "        end\n",
    "    end\n",
    "\n",
    "    axislegend(position=:lb)\n",
    "\n",
    "    fig\n",
    "end"
   ]
  },
  {
   "cell_type": "code",
   "execution_count": null,
   "id": "19",
   "metadata": {},
   "outputs": [],
   "source": [
    "function plot_Γ(profiles)\n",
    "   \tfig = Figure()\n",
    "\tax = Axis(fig[1, 1],\n",
    "\t\tylabel=L\"\\Gamma\",\n",
    "\t\txlabel=log_r_label,\n",
    "\t\tlimits=((-1, 2), (-5, 2))\n",
    "\t)\n",
    "\n",
    "    for (i, (key, profile)) in enumerate(profiles)\n",
    "        lines!(ax, profile.log_r, profile.Gamma, \n",
    "                label=key)\n",
    "\n",
    "        \n",
    "        if i == 1\n",
    "            errscatter!(ax, profile.log_r, profile.Gamma, \n",
    "                yerr=profile.Gamma_err)\n",
    "\n",
    "        end\n",
    "    end\n",
    "\n",
    "    axislegend()\n",
    "\n",
    "    fig\n",
    "end"
   ]
  },
  {
   "cell_type": "code",
   "execution_count": null,
   "id": "20",
   "metadata": {},
   "outputs": [],
   "source": [
    "function plot_Γ_max(profiles)\n",
    "   \tfig = Figure()\n",
    "\tax = Axis(fig[1, 1],\n",
    "\t\tylabel=L\"\\Gamma_\\textrm{max}\",\n",
    "\t\txlabel=log_r_label,\n",
    "\t\tlimits=((-1, 2), (-2, 3))\n",
    "\t)\n",
    "\n",
    "    for (i, (key, profile)) in enumerate(profiles)\n",
    "        \n",
    "        lines!(ax, profile.log_r, profile.Gamma_max, \n",
    "            label=key)\n",
    "\n",
    "        if i == 1\n",
    "            errscatter!(ax, profile.log_r, profile.Gamma_max,\n",
    "                yerr=profile.Gamma_max_err)\n",
    "        end\n",
    "\n",
    "    end\n",
    "\n",
    "    axislegend(position=:rb)\n",
    "\n",
    "    fig\n",
    "end"
   ]
  },
  {
   "cell_type": "markdown",
   "id": "21",
   "metadata": {},
   "source": [
    "### Basic uncertainties"
   ]
  },
  {
   "cell_type": "code",
   "execution_count": null,
   "id": "22",
   "metadata": {},
   "outputs": [],
   "source": [
    "profiles = load_obs_profiles(OrderedDict(\n",
    "    \"PSAT > 0.2\" => \"fiducial\",\n",
    "    \"simple cuts\" => \"simple\",\n",
    "    \"no qso cand.\" => \"noqso\",\n",
    "    \"circular radii\" => \"psat_circ\",\n",
    "    \"DELVE\" => \"delve\",\n",
    "        ))"
   ]
  },
  {
   "cell_type": "code",
   "execution_count": null,
   "id": "23",
   "metadata": {},
   "outputs": [],
   "source": [
    "plot_obs_densities(profiles, normalize=true, limits=(-1, 2.5, -7, -1.5))"
   ]
  },
  {
   "cell_type": "code",
   "execution_count": null,
   "id": "24",
   "metadata": {},
   "outputs": [],
   "source": [
    "plot_Γ(profiles)"
   ]
  },
  {
   "cell_type": "code",
   "execution_count": null,
   "id": "25",
   "metadata": {},
   "outputs": [],
   "source": [
    "plot_Γ_max(profiles)"
   ]
  },
  {
   "cell_type": "code",
   "execution_count": null,
   "id": "26",
   "metadata": {},
   "outputs": [],
   "source": [
    "prof = profiles[\"PSAT > 0.2\"]\n",
    "\n",
    "for i in eachindex(prof.log_r)\n",
    "    @printf \"%6.2f %8.2f ± %8.2f\\n\" prof.log_r[i] prof.Gamma_max[i] prof.Gamma_max_err[i]\n",
    "end"
   ]
  },
  {
   "cell_type": "code",
   "execution_count": null,
   "id": "27",
   "metadata": {},
   "outputs": [],
   "source": [
    "profiles = load_obs_profiles(OrderedDict(\n",
    "    \"PSAT > 0.2\" => \"fiducial\",\n",
    "    \"simple cuts\" => \"simple\",\n",
    "    \"no qso cand.\" => \"noqso\",\n",
    "    \"circular radii\" => \"psat_circ\",\n",
    "        ), \"ursa_minor\")"
   ]
  },
  {
   "cell_type": "code",
   "execution_count": null,
   "id": "28",
   "metadata": {},
   "outputs": [],
   "source": [
    "prof = profiles[\"PSAT > 0.2\"]\n",
    "\n",
    "for i in eachindex(prof.log_r)\n",
    "    @printf \"%6.2f %8.2f ± %8.2f\\n\" prof.log_r[i] prof.Gamma_max[i] prof.Gamma_max_err[i]\n",
    "end"
   ]
  },
  {
   "cell_type": "code",
   "execution_count": null,
   "id": "29",
   "metadata": {},
   "outputs": [],
   "source": [
    "plot_obs_densities(profiles, normalize=true, limits=(-1, 2.5, -7, -1.5))"
   ]
  },
  {
   "cell_type": "code",
   "execution_count": null,
   "id": "30",
   "metadata": {},
   "outputs": [],
   "source": [
    "plot_Γ(profiles)"
   ]
  },
  {
   "cell_type": "code",
   "execution_count": null,
   "id": "31",
   "metadata": {},
   "outputs": [],
   "source": [
    "plot_Γ_max(profiles)"
   ]
  },
  {
   "cell_type": "markdown",
   "id": "32",
   "metadata": {},
   "source": [
    "## Fit the profiles"
   ]
  },
  {
   "cell_type": "markdown",
   "id": "33",
   "metadata": {
    "jp-MarkdownHeadingCollapsed": true
   },
   "source": [
    "# Observational background"
   ]
  },
  {
   "cell_type": "markdown",
   "id": "34",
   "metadata": {},
   "source": [
    "# Radial velocities"
   ]
  },
  {
   "cell_type": "code",
   "execution_count": null,
   "id": "35",
   "metadata": {},
   "outputs": [],
   "source": [
    "memb_stars = LilGuys.read_fits(ENV[\"DWARFS_ROOT\"] * \"/observations/sculptor/processed/sculptor_memb_rv.fits\"\n",
    ");"
   ]
  },
  {
   "cell_type": "code",
   "execution_count": null,
   "id": "36",
   "metadata": {},
   "outputs": [],
   "source": [
    "let\n",
    "\tfig, ax = FigAxis(\n",
    "\t\txlabel = L\"\\xi / \\textrm{degree}\",\n",
    "\t\tylabel = L\"\\eta / \\textrm{degree}\",\n",
    "\t\taspect=DataAspect(),\n",
    "\t\txreversed=true,\n",
    "\t)\n",
    "\n",
    "\tw = 1 ./ memb_stars.vz_err\n",
    "\n",
    "\tbins = (33, 25)\n",
    "\tk1 = Arya.histogram2d(memb_stars.xi,memb_stars.eta, bins, weights= w .* memb_stars.vz)\n",
    "\tk2 = Arya.histogram2d(memb_stars.xi,memb_stars.eta, bins, weights=w)\n",
    "\n",
    "\tk1.values ./= k2.values\n",
    "\n",
    "\tp = heatmap!(k1.xbins, k1.ybins, k1.values, \n",
    "\t\tcolormap=:bluesreds,\n",
    "\t\tcolorrange=(50, 100)\n",
    "\t\t)\n",
    "\tColorbar(fig[1, 2], p, label=\"GSR radial velocity / km/s\",\n",
    ")\n",
    "\n",
    "\tfig\n",
    "end"
   ]
  },
  {
   "cell_type": "markdown",
   "id": "37",
   "metadata": {
    "jp-MarkdownHeadingCollapsed": true
   },
   "source": [
    "# model (nbody) Orbits"
   ]
  },
  {
   "cell_type": "code",
   "execution_count": null,
   "id": "38",
   "metadata": {},
   "outputs": [],
   "source": [
    "\"\"\"\n",
    "    load_orbit(filename)\n",
    "\n",
    "\"\"\"\n",
    "function load_orbit(filename)\n",
    "    out = Output(joinpath(modelsdir, filename))\n",
    "\n",
    "    df = DataFrame(\n",
    "        time = out.times * T2GYR, \n",
    "        x = out.x_cen[1, :],\n",
    "        y = out.x_cen[2, :],\n",
    "        z = out.x_cen[3, :],\n",
    "        v_x = out.v_cen[1, :] * V2KMS,\n",
    "        v_y = out.v_cen[2, :] * V2KMS,\n",
    "        v_z = out.v_cen[3, :] * V2KMS,\n",
    "        )\n",
    "\n",
    "\n",
    "    return out.times, out.x_cen, out.v_cen\n",
    "end"
   ]
  },
  {
   "cell_type": "code",
   "execution_count": null,
   "id": "39",
   "metadata": {},
   "outputs": [],
   "source": [
    "function load_csv_orbit(orbit_file)\n",
    "    \torbit_expected = CSV.read(orbit_file, DataFrame)\n",
    "    \tx_cen_exp = transpose(hcat(orbit_expected.x, orbit_expected.y, orbit_expected.z))\n",
    "    \tv_cen_exp = transpose(hcat(orbit_expected.v_x, orbit_expected.v_y, orbit_expected.v_z))\n",
    "\n",
    "        return orbit_expected.time, x_cen_exp, v_cen_exp\n",
    "end"
   ]
  },
  {
   "cell_type": "code",
   "execution_count": null,
   "id": "40",
   "metadata": {},
   "outputs": [],
   "source": [
    "modelname = \"sculptor/1e6_V31_r4.2/vasiliev+21_smallperi\""
   ]
  },
  {
   "cell_type": "code",
   "execution_count": null,
   "id": "41",
   "metadata": {},
   "outputs": [],
   "source": [
    "lmc_file = joinpath(modelsdir, modelname, \"lmc_traj.csv\")"
   ]
  },
  {
   "cell_type": "code",
   "execution_count": null,
   "id": "42",
   "metadata": {},
   "outputs": [],
   "source": [
    "orbit_scl = load_orbit(joinpath(modelsdir, modelname))"
   ]
  },
  {
   "cell_type": "code",
   "execution_count": null,
   "id": "43",
   "metadata": {},
   "outputs": [],
   "source": [
    "orbit_lmc = load_csv_orbit(lmc_file)"
   ]
  },
  {
   "cell_type": "code",
   "execution_count": null,
   "id": "44",
   "metadata": {},
   "outputs": [],
   "source": [
    "idx_gyr = [argmin(abs.(orbit_model[1] .- i / T2GYR )) for i in -5:0]"
   ]
  },
  {
   "cell_type": "code",
   "execution_count": null,
   "id": "45",
   "metadata": {},
   "outputs": [],
   "source": [
    "LilGuys.Plots.plot_xyz(orbit_model[2], orbit_lmc[2], \n",
    "    labels=[\"Scl\", \"LMC\"],\n",
    "    idx_scatter=fill(idx_gyr[end:end], 2)\n",
    ")\n",
    "\n"
   ]
  },
  {
   "cell_type": "code",
   "execution_count": null,
   "id": "46",
   "metadata": {},
   "outputs": [],
   "source": [
    "using GeoMakie"
   ]
  },
  {
   "cell_type": "code",
   "execution_count": null,
   "id": "47",
   "metadata": {},
   "outputs": [],
   "source": [
    "using SkyCoords"
   ]
  },
  {
   "cell_type": "code",
   "execution_count": null,
   "id": "48",
   "metadata": {},
   "outputs": [],
   "source": [
    "function get_l_b(positions)\n",
    "    gc = [Galactocentric(x=pos[1], y=pos[2], z=pos[3], v_x=NaN, v_y=NaN, v_z=NaN) for pos in eachcol(positions)]\n",
    "    icrs = LilGuys.transform.(ICRS, gc)\n",
    "\n",
    "    sc = [ICRSCoords(deg2rad(o.ra), deg2rad(o.dec)) for o in icrs]\n",
    "\n",
    "    gal = convert.(GalCoords, sc)\n",
    "\n",
    "    l = [g.l for g in gal]\n",
    "    b = [g.b for g in gal]\n",
    "    r = [o.distance for o in icrs]\n",
    "    return rad2deg.(l), rad2deg.(b), r\n",
    "end"
   ]
  },
  {
   "cell_type": "code",
   "execution_count": null,
   "id": "49",
   "metadata": {},
   "outputs": [],
   "source": [
    "r_scl_lmc = calc_r(orbit_model[2], orbit_lmc[2])"
   ]
  },
  {
   "cell_type": "code",
   "execution_count": null,
   "id": "50",
   "metadata": {},
   "outputs": [],
   "source": [
    "idx_perilmc = argmin(r_scl_lmc[300:end]) + 299"
   ]
  },
  {
   "cell_type": "code",
   "execution_count": null,
   "id": "51",
   "metadata": {},
   "outputs": [],
   "source": [
    "let\n",
    "    fig = Figure()\n",
    "\tax = Axis(fig[1,1], xlabel=\"time / Gyr\", ylabel = \"distance / kpc\",\n",
    "        limits=(nothing, nothing, 0, nothing)\n",
    "    )\n",
    "    lines!(orbit_model[1] * T2GYR, calc_r(orbit_model[2]), label=\"Scl - MW\")\n",
    "\n",
    "    lines!(orbit_model[1] * T2GYR, r_scl_lmc, label=\"Scl - LMC\")\n",
    "\n",
    "    #lines!(orbit_model[1] * T2GYR, calc_r(orbit_lmc[2]), label=\"Scl - LMC\")\n",
    "\n",
    "\taxislegend(ax, position=:lb)\n",
    "\tfig\n",
    "end"
   ]
  },
  {
   "cell_type": "code",
   "execution_count": null,
   "id": "52",
   "metadata": {},
   "outputs": [],
   "source": [
    "Makie.available_marker_symbols()"
   ]
  },
  {
   "cell_type": "code",
   "execution_count": null,
   "id": "53",
   "metadata": {},
   "outputs": [],
   "source": [
    "let \n",
    "\tfig = Figure()\n",
    "    gridcolor = xgridcolor=RGBA(0., 0., 0., 0.1)\n",
    "    \n",
    "\tax = GeoAxis(fig[1,1]; dest = \"+proj=aitoff\", \n",
    "        xgridcolor=gridcolor, ygridcolor=gridcolor\n",
    "    )\n",
    "\n",
    "    l, b, r = get_l_b(orbit_model[2])\n",
    "    lines!(l, b)\n",
    "    scatter!(l[idx_gyr], b[idx_gyr], label=\"Sculptor\")\n",
    "    scatter!(l[idx_gyr[end]], b[idx_gyr[end]], color=COLORS[1], marker=:xcross, markersize=20)\n",
    "    scatter!(l[idx_perilmc], b[idx_perilmc], color=COLORS[1], marker=:star5, markersize=20)\n",
    "\n",
    "    l, b,r  = get_l_b(orbit_lmc[2])\n",
    "    lines!(l, b)\n",
    "\n",
    "    scatter!(l[idx_gyr], b[idx_gyr], label=\"LMC\")\n",
    "    scatter!(l[idx_gyr[end]], b[idx_gyr[end]], color=COLORS[2], marker=:xcross, markersize=20)\n",
    "    scatter!(l[idx_perilmc], b[idx_perilmc], color=COLORS[2], marker=:star5, markersize=20)\n",
    "\n",
    "\tfig\n",
    "end"
   ]
  },
  {
   "cell_type": "code",
   "execution_count": null,
   "id": "54",
   "metadata": {},
   "outputs": [],
   "source": [
    "orbits = [\n",
    "    \"mean\" => load_orbit(\"sculptor/1e7_V31_r3.2/orbit_mean\"),\n",
    "    \"smallperi\" => load_orbit(\"sculptor/1e7_V31_r3.2/orbit_smallperi\"),\n",
    "    #\"heavy\" => load_orbit(\"sculptor/1e6_V40_r5.9/orbit_mean\"),\n",
    "    ];"
   ]
  },
  {
   "cell_type": "code",
   "execution_count": null,
   "id": "55",
   "metadata": {},
   "outputs": [],
   "source": [
    "compare_orbits_2d(orbits, yname=\"r\", xname=\"time\", aspect=nothing, xunits=\"Gyr\", limits=(0, 10, 35, 110))"
   ]
  },
  {
   "cell_type": "code",
   "execution_count": null,
   "id": "56",
   "metadata": {},
   "outputs": [],
   "source": [
    "compare_orbits_2d(orbits, yname=\"z\", xname=\"y\", limits=(-100,100,-100,100))"
   ]
  },
  {
   "cell_type": "markdown",
   "id": "57",
   "metadata": {
    "jp-MarkdownHeadingCollapsed": true
   },
   "source": [
    "# MC Orbits"
   ]
  },
  {
   "cell_type": "code",
   "execution_count": null,
   "id": "58",
   "metadata": {},
   "outputs": [],
   "source": [
    "using Printf"
   ]
  },
  {
   "cell_type": "code",
   "execution_count": null,
   "id": "59",
   "metadata": {},
   "outputs": [],
   "source": [
    "using StatsBase\n",
    "using HDF5"
   ]
  },
  {
   "cell_type": "code",
   "execution_count": null,
   "id": "60",
   "metadata": {},
   "outputs": [],
   "source": [
    "function read_traj(name)\n",
    "    local positions, velocities, times\n",
    "    \n",
    "    h5open(joinpath(modelsdir, \"sculptor/mc_orbits/\", \"$name/trajectory.hdf5\"), \"r\") do f\n",
    "        positions = f[\"positions\"][:, :, :]\n",
    "        velocities = f[\"velocities\"][:, :, :]\n",
    "        times = -f[\"times\"][:]\n",
    "    end\n",
    "\n",
    "    return positions, velocities, times\n",
    "end"
   ]
  },
  {
   "cell_type": "code",
   "execution_count": null,
   "id": "61",
   "metadata": {},
   "outputs": [],
   "source": [
    "function read_distribution(name)\n",
    "    return LilGuys.read_fits(joinpath(modelsdir, \"sculptor/mc_orbits/\", name, \"peris_apos.fits\"))\n",
    "end"
   ]
  },
  {
   "cell_type": "code",
   "execution_count": null,
   "id": "62",
   "metadata": {},
   "outputs": [],
   "source": [
    "function compare_peris(families)\n",
    "    \n",
    "\tfig = Figure()\n",
    "\tax = Axis(fig[1, 1],\n",
    "\t\txlabel = \"pericentre / kpc\",\n",
    "\t\tylabel = \"pdf\"\n",
    "\t)\n",
    "\n",
    "    for (label, df) in families\n",
    "    \tbins, counts, err = LilGuys.histogram(df.pericentre, normalization=:pdf)\n",
    "    \tlines!(midpoints(bins), counts, label=label)\n",
    "    end\n",
    "\n",
    "    axislegend()\n",
    "\n",
    "\tfig\n",
    "end"
   ]
  },
  {
   "cell_type": "code",
   "execution_count": null,
   "id": "63",
   "metadata": {},
   "outputs": [],
   "source": [
    "function compare_t_last_peris(families)\n",
    "    \n",
    "\tfig = Figure()\n",
    "\tax = Axis(fig[1, 1],\n",
    "\t\txlabel = \"time since pericentre / Gyr\",\n",
    "\t\tylabel = \"pdf\"\n",
    "\t)\n",
    "\n",
    "    for (label, df) in families\n",
    "    \tbins, counts, err = LilGuys.histogram(df.t_last_peri, normalization=:pdf)\n",
    "    \tlines!(midpoints(bins), counts, label=label)\n",
    "    end\n",
    "\n",
    "    axislegend()\n",
    "\n",
    "\tfig\n",
    "end"
   ]
  },
  {
   "cell_type": "code",
   "execution_count": null,
   "id": "64",
   "metadata": {},
   "outputs": [],
   "source": [
    "function compare_apos(families)\n",
    "    \n",
    "\tfig = Figure()\n",
    "\tax = Axis(fig[1, 1],\n",
    "\t\txlabel = \"apocentre / kpc\",\n",
    "\t\tylabel = \"pdf\"\n",
    "\t)\n",
    "\n",
    "    for (label, df) in families\n",
    "    \tbins, counts, err = LilGuys.histogram(df.apocentre, normalization=:pdf)\n",
    "    \tlines!(midpoints(bins), counts, label=label)\n",
    "    end\n",
    "\n",
    "    axislegend()\n",
    "\n",
    "\tfig\n",
    "end"
   ]
  },
  {
   "cell_type": "code",
   "execution_count": null,
   "id": "65",
   "metadata": {},
   "outputs": [],
   "source": [
    "function compare_stats(families)\n",
    "\n",
    "    for (label, df) in families\n",
    "        @printf \"%16s%12.2f [%0.2f %0.2f] [[%0.2f %0.2f]]\\n\" label quantile(df.pericentre, [0.5, 0.16, 0.84, 0.0014, 0.9986])...\n",
    "    end\n",
    "end"
   ]
  },
  {
   "cell_type": "code",
   "execution_count": null,
   "id": "66",
   "metadata": {},
   "outputs": [],
   "source": [
    "families = [\n",
    "    \"EP20 (MW only)\" => read_distribution(\"systematic_errors\"),\n",
    "    \"V+21 (MW only)\" => read_distribution(\"vasiliev_nolmc\"),\n",
    "    \"V+21 (MW+LMC)\" => read_distribution(\"vasiliev_lmc\"),\n",
    "    ]"
   ]
  },
  {
   "cell_type": "code",
   "execution_count": null,
   "id": "67",
   "metadata": {},
   "outputs": [],
   "source": [
    "fig = Figure()\n",
    "ax = Axis(fig[1, 1],\n",
    "    xlabel = \"time since pericentre / Gyr\",\n",
    "    ylabel = \"pericentre\",\n",
    "    limits=(0, nothing, 0, nothing)\n",
    ")\n",
    "\n",
    "for (label, df) in families\n",
    "    scatter!(df.t_last_peri*T2GYR .+ 0.2*T2GYR * randn(length(df.t_last_peri)), df.pericentre, label=label => (; markersize=10), markersize=3, alpha=0.1)\n",
    "end\n",
    "\n",
    "df = families[end].second\n",
    "scatter!(df.t_last_peri_lmc * T2GYR, df.peri_lmc, label=\"V+21 (LMC frame)\" =>(; markersize=10), markersize=3, alpha=0.1)\n",
    "\n",
    "\n",
    "axislegend(position=:lt)\n",
    "\n",
    "fig"
   ]
  },
  {
   "cell_type": "code",
   "execution_count": null,
   "id": "68",
   "metadata": {},
   "outputs": [],
   "source": [
    "traj = read_traj(\"vasiliev_lmc\")"
   ]
  },
  {
   "cell_type": "code",
   "execution_count": null,
   "id": "69",
   "metadata": {},
   "outputs": [],
   "source": [
    "traj_no = read_traj(\"vasiliev_nolmc\")"
   ]
  },
  {
   "cell_type": "code",
   "execution_count": null,
   "id": "70",
   "metadata": {},
   "outputs": [],
   "source": [
    "V_T2GYR = 0.97779"
   ]
  },
  {
   "cell_type": "code",
   "execution_count": null,
   "id": "71",
   "metadata": {},
   "outputs": [],
   "source": [
    "# loads in trajectory of lmc in Vasiliev 2021\n",
    "lmc_file = ENV[\"DWARFS_ROOT\"] * \"/agama/potentials/vasiliev+21/trajlmc.txt\"\n",
    "lmc_traj = CSV.read(lmc_file, DataFrame, delim=\" \", header = [:time, :x, :y, :z, :v_x, :v_y, :v_z])\n",
    "\n",
    "lmc_x = LilGuys.lerp(lmc_traj.time, lmc_traj.x)\n",
    "lmc_y = LilGuys.lerp(lmc_traj.time, lmc_traj.y)\n",
    "lmc_z = LilGuys.lerp(lmc_traj.time, lmc_traj.z)\n",
    "lmc_v_x = LilGuys.lerp(lmc_traj.time, lmc_traj.v_x)\n",
    "lmc_v_y = LilGuys.lerp(lmc_traj.time, lmc_traj.v_y)\n",
    "lmc_v_z = LilGuys.lerp(lmc_traj.time, lmc_traj.v_z)\n",
    "\n",
    "times_v = traj[3] * T2GYR / V_T2GYR\n",
    "pos = reshape([lmc_x.(times_v) lmc_y.(times_v) lmc_z.(times_v)]', (3, 1, :))\n",
    "vel = reshape([lmc_v_x.(times_v) lmc_v_y.(times_v) lmc_v_z.(times_v)]', (3, 1, :))"
   ]
  },
  {
   "cell_type": "code",
   "execution_count": null,
   "id": "72",
   "metadata": {},
   "outputs": [],
   "source": [
    "function plot_r_t_traj!(traj; alpha=0.01, color=:black, kwargs...)\n",
    "    positions, velocities, times = traj\n",
    "    for i in 1:size(positions, 2)\n",
    "        x = times * T2GYR\n",
    "        y = calc_r(positions[:, i, :])\n",
    "        lines!(x, y; alpha=alpha, color=color, kwargs...)\n",
    "    \n",
    "    end\n",
    "end"
   ]
  },
  {
   "cell_type": "code",
   "execution_count": null,
   "id": "73",
   "metadata": {},
   "outputs": [],
   "source": [
    "function plot_x_y_traj!(traj; alpha=0.01, color=:black, kwargs...)\n",
    "    positions, velocities, times = traj\n",
    "    for i in 1:size(positions, 2)\n",
    "        x = positions[2, i, :]\n",
    "        y = positions[3, i, :]\n",
    "        \n",
    "        lines!(x, y; alpha=alpha, color=color, kwargs...)\n",
    "    \n",
    "    end\n",
    "end"
   ]
  },
  {
   "cell_type": "code",
   "execution_count": null,
   "id": "74",
   "metadata": {},
   "outputs": [],
   "source": [
    "traj_lmc = pos, vel, traj[3]\n",
    "traj_scl_lmc = pos .- traj[1], vel .- traj[2], traj[3]\n"
   ]
  },
  {
   "cell_type": "code",
   "execution_count": null,
   "id": "75",
   "metadata": {},
   "outputs": [],
   "source": [
    "fig = Figure()\n",
    "ax = Axis(fig[1, 1], xlabel=\"time / Gyr\", ylabel = \"radius / kpc\",\n",
    "    xgridvisible=false, ygridvisible=false\n",
    ")\n",
    "\n",
    "plot_r_t_traj!(traj, label=\"Scl-MW\", color=COLORS[1])\n",
    "plot_r_t_traj!(traj_scl_lmc, label=\"Scl-LMC\", color=COLORS[2])\n",
    "plot_r_t_traj!(traj_lmc, label=\"LMC-MW\", color=:black, alpha=1, linewidth=3, )\n",
    "\n",
    "\n",
    "axislegend(unique=true)\n",
    "\n",
    "Makie.save(\"figures/scl_lmc_mw_r_t_samples.pdf\", fig)\n",
    "\n",
    "fig"
   ]
  },
  {
   "cell_type": "code",
   "execution_count": null,
   "id": "76",
   "metadata": {},
   "outputs": [],
   "source": [
    "fig = Figure()\n",
    "ax = Axis(fig[1, 1], xlabel=\"y / kpc\", ylabel=\"z / kpc\",\n",
    "    xgridvisible=false, ygridvisible=false, \n",
    "    aspect=DataAspect(),\n",
    ")\n",
    "plot_x_y_traj!(traj_no, label=\"Scl, MW only\")\n",
    "plot_x_y_traj!(traj, label=\"Scl, MW + LMC\", color=COLORS[1])\n",
    "plot_x_y_traj!(traj_lmc, label=\"LMC\", alpha=1, color=COLORS[2], linewidth=3)\n",
    "\n",
    "axislegend(unique=true)\n",
    "\n",
    "fig"
   ]
  },
  {
   "cell_type": "markdown",
   "id": "77",
   "metadata": {},
   "source": [
    "# Circular velocity profiles"
   ]
  },
  {
   "cell_type": "code",
   "execution_count": null,
   "id": "78",
   "metadata": {},
   "outputs": [],
   "source": [
    "function load_profile(name) \n",
    "    path = joinpath(models_dir, \"$name/profiles.hdf5\")\n",
    "    profiles = LilGuys.read_structs_from_hdf5(path, LilGuys.MassProfile3D)\n",
    "    idx = parse.(Int, first.(profiles))\n",
    "    out = LilGuys.Output(joinpath(models_dir, name))\n",
    "        \n",
    "    return out.times[sort(idx)], profiles[sortperm(idx)]\n",
    "    \n",
    "end"
   ]
  },
  {
   "cell_type": "code",
   "execution_count": null,
   "id": "79",
   "metadata": {},
   "outputs": [],
   "source": [
    "function compare_vcirc(profiles; errskip=1, legend=true)\n",
    "    xlims = (-2, 3)\n",
    "    \n",
    "    fig = Figure()\n",
    "    ax = Axis(fig[1, 1],\n",
    "        xlabel=LP.log_r_label,\n",
    "        ylabel=L\"$\\log\\,v_\\textrm{circ}$ / km\\,s$^{-1}$\",\n",
    "#        limits=(xlims[1], xlims[2], -0.1, 1.7),\n",
    "        )\n",
    "    pi = 1\n",
    "\n",
    "    \n",
    "    for i in eachindex(profiles)\n",
    "        label, profs = profiles[i]\n",
    "        x = [prof.r_circ_max for (_, prof) in profs]\n",
    "        y = [prof.v_circ_max for (_, prof) in profs]\n",
    "        lines!(log10.(x), log10.(y*V2KMS), label=label)\n",
    "    end\n",
    "    \n",
    "    for i in eachindex(profiles)\n",
    "        label, profs = profiles[i]\n",
    "        x = [prof.r_circ_max for (_, prof) in profs]\n",
    "        y = [prof.v_circ_max for (_, prof) in profs]\n",
    "        scatter!(log10.(x[end]), log10.(y[end]*V2KMS))\n",
    "    end\n",
    "    if legend\n",
    "        axislegend(position=:lt)\n",
    "    end\n",
    "    fig\n",
    "end"
   ]
  },
  {
   "cell_type": "code",
   "execution_count": null,
   "id": "80",
   "metadata": {},
   "outputs": [],
   "source": [
    "function compare_vcirc(profiles; errskip=1, legend=true)\n",
    "    xlims = (-2, 3)\n",
    "    \n",
    "    fig = Figure()\n",
    "    ax = Axis(fig[1, 1],\n",
    "        xlabel=LP.log_r_label,\n",
    "        ylabel=L\"$\\log\\,v_\\textrm{circ}$ / km\\,s$^{-1}$\",\n",
    "#        limits=(xlims[1], xlims[2], -0.1, 1.7),\n",
    "        )\n",
    "    pi = 1\n",
    "\n",
    "    \n",
    "    for i in eachindex(profiles)\n",
    "        label, profs = profiles[i]\n",
    "        x = [prof.r_circ_max for (_, prof) in profs]\n",
    "        y = [prof.v_circ_max for (_, prof) in profs]\n",
    "        lines!(log10.(x), log10.(y*V2KMS), label=label)\n",
    "    end\n",
    "    \n",
    "    for i in eachindex(profiles)\n",
    "        label, profs = profiles[i]\n",
    "        x = [prof.r_circ_max for (_, prof) in profs]\n",
    "        y = [prof.v_circ_max for (_, prof) in profs]\n",
    "        scatter!(log10.(x[end]), log10.(y[end]*V2KMS))\n",
    "    end\n",
    "    if legend\n",
    "        axislegend(position=:lt)\n",
    "    end\n",
    "    fig\n",
    "end"
   ]
  },
  {
   "cell_type": "code",
   "execution_count": null,
   "id": "81",
   "metadata": {},
   "outputs": [],
   "source": [
    "models_dir = \"/astro/dboyea/dwarfs/analysis/sculptor\""
   ]
  },
  {
   "cell_type": "code",
   "execution_count": null,
   "id": "82",
   "metadata": {},
   "outputs": [],
   "source": [
    "dm_profiles = [\n",
    "    \"mean\" => load_profile(\"1e7_V31_r3.2/orbit_mean\"),\n",
    "    \"smallperi\" => load_profile(\"1e7_V31_r3.2/orbit_smallperi\"),\n",
    "    \"LMC\" => load_profile(\"1e6_V31_r4.2/vasiliev+21_smallperi\"),\n",
    "    \"heavy LMC\" => load_profile(\"1e6_V31_r3.2/vasiliev+21_heavylmc_smallperilmc\"),\n",
    "    ];"
   ]
  },
  {
   "cell_type": "code",
   "execution_count": null,
   "id": "83",
   "metadata": {},
   "outputs": [],
   "source": [
    "\n",
    "fig = Figure()\n",
    "ax = Axis(fig[1, 1],\n",
    "    xlabel=\"time / Gyr\",\n",
    "    ylabel=L\"$\\log\\,v_\\textrm{circ}$ / km\\,s$^{-1}$\",\n",
    "    )\n",
    "pi = 1\n",
    "\n",
    "\n",
    "for i in eachindex(dm_profiles)\n",
    "    label, (x, profs) = dm_profiles[i]\n",
    "    y = [prof.v_circ_max for (_, prof) in profs]\n",
    "    lines!((x*T2GYR), log10.(y*V2KMS), label=label)\n",
    "end\n",
    "\n",
    "\n",
    "fig"
   ]
  },
  {
   "cell_type": "markdown",
   "id": "84",
   "metadata": {},
   "source": [
    "# Stellar velocity dispersion"
   ]
  },
  {
   "cell_type": "code",
   "execution_count": null,
   "id": "85",
   "metadata": {},
   "outputs": [],
   "source": [
    "function load_profile(modelname, starsname)\n",
    "    orbit = load_profiles(modelname * \"/stars/\" * starsname)\n",
    "\n",
    "    return orbit\n",
    "end"
   ]
  },
  {
   "cell_type": "code",
   "execution_count": null,
   "id": "86",
   "metadata": {},
   "outputs": [],
   "source": [
    "function load_isolation(modelname, starsname)\n",
    "    iso = load_profiles(modelname * \"/../stars/\" * starsname)\n",
    "    return iso\n",
    "end"
   ]
  },
  {
   "cell_type": "code",
   "execution_count": null,
   "id": "87",
   "metadata": {},
   "outputs": [],
   "source": [
    "function load_profiles(filename; extension=\"stellar_profiles_3d.hdf5\")\n",
    "    path = joinpath(modelsdir, filename, extension)\n",
    "    \n",
    "    profs = LilGuys.read_structs_from_hdf5(path, LilGuys.StellarProfile3D)\n",
    "    idxs = parse.(Int, first.(profs))\n",
    "    profs = last.(profs)\n",
    "\n",
    "    s = sortperm(idxs)\n",
    "    return [idxs[i] => profs[i] for i in s ]\n",
    "end"
   ]
  },
  {
   "cell_type": "code",
   "execution_count": null,
   "id": "88",
   "metadata": {},
   "outputs": [],
   "source": [
    "function load_prof_expected(filename, parampath=\"profile.toml\")\n",
    "    path = joinpath(modelsdir, filename, parampath)\n",
    "        \n",
    "    if isfile(parampath)\n",
    "        expected = LilGuys.load_profile(parampath)\n",
    "    else\n",
    "        error(\"file not found $path\")\n",
    "    end\n",
    "\n",
    "    return expected\n",
    "end"
   ]
  },
  {
   "cell_type": "code",
   "execution_count": null,
   "id": "89",
   "metadata": {},
   "outputs": [],
   "source": [
    "function compare_profiles(profiles, expected=nothing; \n",
    "        sequential=false, legend=true, limits=(-1.5, 0.8, -15, 3), \n",
    "        kwargs...\n",
    "    )\n",
    "    \n",
    "    fig = Figure()\n",
    "\n",
    "\tax = Axis(fig[1,1], xlabel=L\"\\log\\, r / \\textrm{kpc}\", ylabel =  L\"\\log\\, \\rho_\\star\\; [10^{10} M_\\odot / \\textrm{kpc}^3]\", \n",
    "\t\tlimits=limits; kwargs...\n",
    "\t\t)\n",
    "\n",
    "    plot_kwargs = Dict{Symbol, Any}()\n",
    "\n",
    "    if sequential\n",
    "        plot_kwargs[:colorrange] = (1, length(profiles))\n",
    "    end\n",
    "    \n",
    "    for i in eachindex(profiles)\n",
    "        label, profs = profiles[i]\n",
    "        prof = profs[end].second\n",
    "        x = prof.log_r\n",
    "        y = log10.(prof.rho)\n",
    "        if sequential\n",
    "            plot_kwargs[:color] = i\n",
    "        end\n",
    "\n",
    "    \tlines!(x, y, label=string(label); plot_kwargs...)\n",
    "        arrows!([log10.(prof.r_break)],[-10], [0], [3], color=COLORS[i])\n",
    "    end\n",
    "\n",
    "    if expected !== nothing\n",
    "    \tlog_r_pred = LinRange(-2, 2, 1000)\n",
    "    \tρ_s_pred = calc_ρ.(expected, 10 .^ log_r_pred)\n",
    "\n",
    "    \tlines!(log_r_pred, log10.(ρ_s_pred), label=\"expected\", color=\"black\", linestyle=:dot)\n",
    "    end\n",
    "\n",
    "    if legend\n",
    "    \taxislegend(ax, position=:lb)\n",
    "    end \n",
    "    \n",
    "\tfig\n",
    "end"
   ]
  },
  {
   "cell_type": "code",
   "execution_count": null,
   "id": "90",
   "metadata": {},
   "outputs": [],
   "source": [
    "function plot_v_t!(profiles; x_shift = 0, kwargs...)\n",
    "\tsigmas = [p.second.sigma_vx for p in profiles]\n",
    "\n",
    "    t = [p.second.time for p in profiles] \n",
    "\tlines!(t * T2GYR .+ x_shift, sigmas * V2KMS; kwargs...)\n",
    "end"
   ]
  },
  {
   "cell_type": "code",
   "execution_count": null,
   "id": "91",
   "metadata": {},
   "outputs": [],
   "source": [
    "function plot_v_t(profiles; x_shift=0, kwargs...)\n",
    "\tfig, ax = FigAxis(\n",
    "\t\txlabel = \"time / Gyr\",\n",
    "\t\tylabel = L\"\\sigma_v / \\textrm{km s^{-1}}\";\n",
    "        kwargs...\n",
    "\t)\n",
    "\n",
    "    plot_v_t!(profiles, x_shift=x_shift)\n",
    "\n",
    "    fig\n",
    "end\n",
    "    "
   ]
  },
  {
   "cell_type": "code",
   "execution_count": null,
   "id": "92",
   "metadata": {},
   "outputs": [],
   "source": [
    "function compare_v_t(profilesi, profs_iso=nothing; x_shifts=zeros(length(profilesi)), legend_position=:lb, kwargs...)\n",
    "\tfig, ax = FigAxis(\n",
    "\t\txlabel = \"time / Gyr\",\n",
    "\t\tylabel = L\"\\sigma_v / \\textrm{km s^{-1}}\",\n",
    "\t)\n",
    "\n",
    "\n",
    "    for i in eachindex(profilesi)\n",
    "        label, profiles = profilesi[i]\n",
    "\n",
    "        kwargs = Dict{Symbol, Any}()\n",
    "        kwargs[:label] = label\n",
    "        kwargs[:color] = COLORS[i]\n",
    "  \n",
    "        plot_v_t!(profiles; x_shift=x_shifts[i], kwargs...)\n",
    "    end\n",
    "\n",
    "    if profs_iso !== nothing\n",
    "        for i in eachindex(profs_iso)\n",
    "            label, profiles = profs_iso[i]\n",
    "    \n",
    "      \n",
    "            sigmas = [p.second.sigma_vx for p in profiles]\n",
    "    \n",
    "            t = [p.second.time for p in profiles] \n",
    "            t = t .- t[end]\n",
    "            lines!(t * T2GYR, sigmas * V2KMS; color=COLORS[i], kwargs...)\n",
    "            \n",
    "        end\n",
    "    end\n",
    "    \n",
    "    hlines!(obs_props[\"sigma_v\"], color=:grey)\n",
    "    hspan!(obs_props[\"sigma_v\"] - obs_props[\"sigma_v_err\"], \n",
    "        obs_props[\"sigma_v\"] + obs_props[\"sigma_v_err\"],\n",
    "        color = (:grey, 0.1), label=\"observed\")\n",
    "\n",
    "    LilGuys.Plots.hide_grid!(ax)\n",
    "    if legend_position == :outside\n",
    "        Legend(fig[1,2], ax)\n",
    "    else\n",
    "        \n",
    "        axislegend(position=legend_position)\n",
    "    end\n",
    "    \n",
    "\tfig\n",
    "end"
   ]
  },
  {
   "cell_type": "code",
   "execution_count": null,
   "id": "93",
   "metadata": {},
   "outputs": [],
   "source": [
    "profilesi = [\n",
    "    \"mean\" => load_profile(\"sculptor/1e7_V31_r3.2/orbit_mean\", \"exp2d_rs0.13\"),\n",
    "    \"smallperi\" => load_profile(\"sculptor/1e7_V31_r3.2/orbit_smallperi\", \"exp2d_rs0.08\"),\n",
    "    \"LMC\" => load_profile(\"sculptor/1e6_V31_r4.2/vasiliev+21_smallperi\", \"exp2d_rs0.13\"),\n",
    "    \"heavy LMC\" => load_profile(\"sculptor/1e6_V31_r3.2/vasiliev+21_heavylmc_smallperilmc\", \"exp2d_rs0.13\"),\n",
    "    ];"
   ]
  },
  {
   "cell_type": "code",
   "execution_count": null,
   "id": "94",
   "metadata": {},
   "outputs": [],
   "source": [
    "import TOML\n",
    "obs_props = TOML.parsefile(joinpath(ENV[\"DWARFS_ROOT\"], \"observations/sculptor/observed_properties.toml\"))"
   ]
  },
  {
   "cell_type": "code",
   "execution_count": null,
   "id": "95",
   "metadata": {},
   "outputs": [],
   "source": [
    "compare_v_t(profs, x_shifts=[-10, -10, 0,0,0 ], legend_position=:lb)"
   ]
  },
  {
   "cell_type": "code",
   "execution_count": null,
   "id": "96",
   "metadata": {},
   "outputs": [],
   "source": [
    "\n",
    "fig = Figure(size=(700, 400))\n",
    "ax = Axis(fig[1, 1],\n",
    "    xlabel=\"time / Gyr\",\n",
    "    ylabel=L\"$v$ / km\\,s$^{-1}$\",\n",
    "    yscale=log10\n",
    "    )\n",
    "pi = 1\n",
    "x_shifts=[-10, -10, 0,0,0 ]\n",
    "\n",
    "for i in eachindex(profilesi)\n",
    "    label, profiles = profilesi[i]\n",
    "\n",
    "    kwargs = Dict{Symbol, Any}()\n",
    "    #kwargs[:label] = label\n",
    "    kwargs[:color] = COLORS[i]\n",
    "    kwargs[:linestyle] = :dash\n",
    "\n",
    "    plot_v_t!(profiles; x_shift=x_shifts[i], kwargs...)\n",
    "end\n",
    "\n",
    "\n",
    "\n",
    "for i in eachindex(dm_profiles)\n",
    "    label, (x, profs) = dm_profiles[i]\n",
    "    y = [prof.v_circ_max for (_, prof) in profs]\n",
    "    lines!((x*T2GYR .+ x_shifts[i]), (y*V2KMS), label=label)\n",
    "end\n",
    "\n",
    "hlines!(obs_props[\"sigma_v\"], color=:grey)\n",
    "hspan!(obs_props[\"sigma_v\"] - obs_props[\"sigma_v_err\"], \n",
    "    obs_props[\"sigma_v\"] + obs_props[\"sigma_v_err\"],\n",
    "    color = (:grey, 0.1), label=L\"observed $\\sigma_v$\")\n",
    "\n",
    "\n",
    "lines!([NaN], [NaN], color=:black, label=L\"DM $v_\\textrm{max}$\")\n",
    "lines!([NaN], [NaN], color=:black, label=L\"Stellar $\\sigma_v$\", linestyle=:dash)\n",
    "\n",
    "ax.yticks =  [7, 10, 20, 30, 40]\n",
    "\n",
    "Legend(fig[1,2], ax)\n",
    "fig"
   ]
  },
  {
   "cell_type": "markdown",
   "id": "97",
   "metadata": {},
   "source": [
    "# Model density profiles"
   ]
  },
  {
   "cell_type": "code",
   "execution_count": null,
   "id": "98",
   "metadata": {},
   "outputs": [],
   "source": [
    "function sigma_axis(gp; kwargs...) \n",
    "\tax = Axis(gp, \n",
    "\t\txlabel=log_r_label,\n",
    "\t\tylabel = L\"\\log \\Sigma\\ / \\textrm{(stars/arcmin^2)}\",\n",
    "        limits=(-1, 2, -2, 2.5)\n",
    "\t\t;kwargs...\n",
    "\t)\n",
    "\n",
    "\treturn fig, ax\n",
    "end"
   ]
  },
  {
   "cell_type": "code",
   "execution_count": null,
   "id": "99",
   "metadata": {},
   "outputs": [],
   "source": [
    "prof_expected = LilGuys.StellarProfile(\"/astro/dboyea/dwarfs/observations/sculptor/density_profiles/fiducial_profile.toml\");\n",
    "\n"
   ]
  },
  {
   "cell_type": "code",
   "execution_count": null,
   "id": "100",
   "metadata": {},
   "outputs": [],
   "source": [
    "log_r_label = \"log r / arcmin\"\n",
    "log_sigma_label = L\"$\\log \\Sigma$ / stars arcmin$^{-2}$\""
   ]
  },
  {
   "cell_type": "code",
   "execution_count": null,
   "id": "101",
   "metadata": {},
   "outputs": [],
   "source": [
    "function plot_finals(models)\n",
    "    \n",
    "    fig = Figure()\n",
    "    Axis(fig[1, 1], \n",
    "        xlabel = log_r_label, \n",
    "        ylabel = log_sigma_label,\n",
    "        limits = (-0.5, 2.3, -2, 2)\n",
    "        )\n",
    "\n",
    "\terrscatter!(prof_expected.log_r, prof_expected.log_Sigma,\n",
    "\t\tyerr=prof_expected.log_Sigma_err,\n",
    "\t\tcolor=:black,\n",
    "        label=\"J+24\",\n",
    "\t)\n",
    "\n",
    "    for (label, model) in models\n",
    "    \tlines!(model.log_r, model.log_Sigma, \n",
    "    \t\t\tlabel=label)\n",
    "    end\n",
    "\n",
    "\taxislegend()\n",
    "\n",
    "\tfig\n",
    "end"
   ]
  },
  {
   "cell_type": "code",
   "execution_count": null,
   "id": "102",
   "metadata": {},
   "outputs": [],
   "source": [
    "function plot_ini_fin(profs, model, normalization=0; \n",
    "        limits=(-0.5, 2.3, -2, 2),\n",
    "        r_b = NaN,\n",
    "        kwargs...\n",
    "    )\n",
    "    \n",
    "    fig = Figure()\n",
    "    Axis(fig[1, 1];\n",
    "        xlabel = log_r_label, \n",
    "        ylabel = log_sigma_label,\n",
    "        limits = limits, \n",
    "        kwargs...\n",
    "    )\n",
    "\n",
    "\terrscatter!(prof_expected.log_r, prof_expected.log_Sigma,\n",
    "\t\tyerr=prof_expected.log_Sigma_err,\n",
    "\t\tcolor=:black,\n",
    "        label=\"J+24\",\n",
    "\t)\n",
    "\n",
    "    for (label, prof) in profs\n",
    "        lines!(prof.log_r, prof.log_Sigma .+ normalization, \n",
    "                label=label)\n",
    "    end\n",
    "\n",
    "\n",
    "    if model !== nothing\n",
    "\n",
    "        x = LinRange(-2, 2.5, 1000)\n",
    "        r = 10 .^ x\n",
    "        y = LilGuys.calc_Σ.(model, r)\n",
    "    \n",
    "        r_scale = LilGuys.kpc_to_arcmin(1, profs[1].second.distance)\n",
    "    \n",
    "    \n",
    "        x = x .+ log10(r_scale)\n",
    "        y .*= 1 / r_scale ^ 2\n",
    "    \n",
    "        lines!(x, log10.(y) .+ normalization, linestyle=:dot, color=:black, label=\"exponential\")\n",
    "\n",
    "    end\n",
    "    \n",
    "    if r_b !== NaN\n",
    "        dy = limits[4]-limits[3]\n",
    "        dx = limits[2] - limits[1]\n",
    "        \n",
    "        x0 = limits[1]\n",
    "        y0 = limits[3]\n",
    "\n",
    "        a = log10(r_b)\n",
    "        _, prof = profs[end]\n",
    "        idx = argmin(abs.(prof.log_r .- a))\n",
    "        b = prof.log_Sigma[idx] + normalization .+ 0.1dy\n",
    "        va = 0\n",
    "        vb = -0.05dy\n",
    "        \n",
    "        arrows!([a], [b], [va], [vb])\n",
    "        println(a, \", \", b)\n",
    "        text!(a, b, text=L\"r_b\")\n",
    "\n",
    "    end\n",
    "\n",
    "\taxislegend(position=:lb)\n",
    "\n",
    "\n",
    "\tfig\n",
    "end"
   ]
  },
  {
   "cell_type": "code",
   "execution_count": null,
   "id": "103",
   "metadata": {},
   "outputs": [],
   "source": [
    "function mean_groups_with_uncertainties(data::Vector{T}, uncertainties::Vector{T}, n::Int) where T\n",
    "    num_full_groups = div(length(data), n)\n",
    "    remainder = length(data) % n\n",
    "    \n",
    "    # Create arrays to store the means and their uncertainties\n",
    "    means = Vector{T}(undef, num_full_groups + (remainder > 0 ? 1 : 0))\n",
    "    uncertainties_mean = Vector{T}(undef, length(means))\n",
    "    \n",
    "    # Function to compute weighted mean and uncertainty of the mean\n",
    "    function weighted_mean(data_group, uncertainty_group)\n",
    "        weights = 1 ./ (uncertainty_group .^ 2)\n",
    "        m = sum(weights .* data_group) / sum(weights)\n",
    "        uncertainty_of_mean = sqrt(1 / sum(weights))\n",
    "        return (m, uncertainty_of_mean)\n",
    "    end\n",
    "\n",
    "    # Calculate the means and uncertainties of full groups\n",
    "    for i in 1:num_full_groups\n",
    "        start_index = (i - 1) * n + 1\n",
    "        end_index = i * n\n",
    "        means[i], uncertainties_mean[i] = weighted_mean(data[start_index:end_index], uncertainties[start_index:end_index])\n",
    "    end\n",
    "    \n",
    "    # Handle the remaining data, if any\n",
    "    if remainder != 0\n",
    "        start_index = num_full_groups * n + 1\n",
    "        means[end], uncertainties_mean[end] = weighted_mean(data[start_index:end], uncertainties[start_index:end])\n",
    "    end\n",
    "    \n",
    "    return means, uncertainties_mean\n",
    "end\n"
   ]
  },
  {
   "cell_type": "code",
   "execution_count": null,
   "id": "104",
   "metadata": {},
   "outputs": [],
   "source": [
    "function plot_ini_fin_slope(profs, model; \n",
    "        binsize=3,\n",
    "        obs_binsize=2,\n",
    "        limits=(-0.5, 2.3, -2, 2),\n",
    "        r_b = NaN,\n",
    "        figsize=(600, 300),\n",
    "        kwargs...\n",
    "    )\n",
    "    \n",
    "    fig = Figure(size=figsize)\n",
    "    ax = Axis(fig[1, 1];\n",
    "        xlabel = log_r_label, \n",
    "        ylabel = L\"\\Gamma\",\n",
    "        limits = limits, \n",
    "        kwargs...\n",
    "    )\n",
    "\n",
    "    ax_lin = Axis(fig[1, 2];\n",
    "        xlabel = \"r / arcmin\", \n",
    "        ylabel = L\"\\Gamma\",\n",
    "        limits = (0, 10^limits[2], limits[3], limits[4]), \n",
    "        kwargs...\n",
    "    )\n",
    "\n",
    "    x = prof_expected.log_r\n",
    "    y = prof_expected.Gamma\n",
    "    ye = prof_expected.Gamma_err\n",
    "\n",
    "    x = mean_groups(x, obs_binsize)\n",
    "    y, ye = mean_groups_with_uncertainties(y, ye, obs_binsize)\n",
    "    \n",
    "\terrscatter!(ax, x, y,\n",
    "\t\tyerr=ye,\n",
    "\t\tcolor=:black,\n",
    "        label=\"J+24\",\n",
    "\t)\n",
    "\n",
    "\n",
    "    errscatter!(ax_lin, 10 .^ x, y,\n",
    "\t\tyerr=ye,\n",
    "\t\tcolor=:black,\n",
    "\t)\n",
    "\n",
    "    for (label, prof) in profs\n",
    "        x = mean_groups(prof.log_r, binsize)\n",
    "        y = mean_groups(prof.Gamma, binsize)\n",
    "        lines!(ax, x, y, label=label)\n",
    "        lines!(ax_lin, 10 .^ x, y)\n",
    "    end\n",
    "\n",
    "\n",
    "    if model !== nothing\n",
    "\n",
    "        x = LinRange(-2, 2.5, 1000)\n",
    "        r = 10 .^ x\n",
    "        y = LilGuys.calc_Σ.(model, r)\n",
    "    \n",
    "        r_scale = LilGuys.kpc_to_arcmin(1, profs[1].second.distance)\n",
    "    \n",
    "    \n",
    "        x = x .+ log10(r_scale)\n",
    "        y .*= 1 / r_scale ^ 2\n",
    "        gamma = LilGuys.gradient(log10.(y), x)\n",
    "    \n",
    "        lines!(ax, x, gamma, linestyle=:dot, color=:black, label=\"exponential\")\n",
    "        lines!(ax_lin, 10 .^ x, gamma, linestyle=:dot, color=:black, label=\"exponential\")\n",
    "\n",
    "    end\n",
    "    \n",
    "    if r_b !== NaN\n",
    "        dy = limits[4]-limits[3]\n",
    "        dx = limits[2] - limits[1]\n",
    "        \n",
    "        x0 = limits[1]\n",
    "        y0 = limits[3]\n",
    "\n",
    "        a = log10(r_b)\n",
    "        _, prof = profs[end]\n",
    "        idx = argmin(abs.(prof.log_r .- a))\n",
    "        b = prof.Gamma[idx] .+ 0.1dy\n",
    "        va = 0\n",
    "        vb = -0.05dy\n",
    "        \n",
    "        arrows!(ax, [a], [b], [va], [vb])\n",
    "        println(a, \", \", b)\n",
    "        text!(ax, a, b, text=L\"r_b\")\n",
    "\n",
    "    end\n",
    "\n",
    "\n",
    "    linkyaxes!(ax, ax_lin)\n",
    "    hideydecorations!(ax_lin, grid=false, ticks=false)\n",
    "    \n",
    "\t#axislegend(ax, position=:lb)\n",
    "    resize_to_layout!(fig)\n",
    "\n",
    "\tfig\n",
    "end"
   ]
  },
  {
   "cell_type": "code",
   "execution_count": null,
   "id": "105",
   "metadata": {},
   "outputs": [],
   "source": [
    "import StatsBase: mean"
   ]
  },
  {
   "cell_type": "code",
   "execution_count": null,
   "id": "106",
   "metadata": {},
   "outputs": [],
   "source": [
    "function mean_groups(data::AbstractVector{T}, n::Int) where T\n",
    "    num_full_groups = div(length(data), n)\n",
    "    remainder = length(data) % n\n",
    "    \n",
    "    # Create an array to store the means\n",
    "    means = Vector{T}(undef, num_full_groups + (remainder > 0 ? 1 : 0))\n",
    "    \n",
    "    # Calculate the means of full groups\n",
    "    for i in 1:num_full_groups\n",
    "        start_index = (i - 1) * n + 1\n",
    "        end_index = i * n\n",
    "        means[i] = mean(data[start_index:end_index])\n",
    "    end\n",
    "    \n",
    "    # Handle the remaining data, if any\n",
    "    if remainder != 0\n",
    "        start_index = num_full_groups * n + 1\n",
    "        means[end] = mean(data[start_index:end])\n",
    "    end\n",
    "    \n",
    "    return means\n",
    "end"
   ]
  },
  {
   "cell_type": "code",
   "execution_count": null,
   "id": "107",
   "metadata": {},
   "outputs": [],
   "source": [
    "mean_groups(1:10, 3)"
   ]
  },
  {
   "cell_type": "code",
   "execution_count": null,
   "id": "108",
   "metadata": {},
   "outputs": [],
   "source": [
    "function get_log_Σ_0(prof, χ2_max=1)\n",
    "\n",
    "    local log_Σ_0, log_Σ_0_err\n",
    "\n",
    "    pre_filt = isfinite.(prof.log_Sigma)\n",
    "    log_r = prof.log_r[pre_filt]\n",
    "    log_Σ = prof.log_Sigma[pre_filt]\n",
    "    log_Σ_err = prof.log_Sigma_err[pre_filt]\n",
    "    @assert issorted(log_r)\n",
    "\n",
    "    for i in eachindex(log_r)\n",
    "        filt = 1:i\n",
    "        log_Σ_0 = LilGuys.mean(log_Σ[filt] .± log_Σ_err[filt])\n",
    "        log_Σ_0_err = Measurements.uncertainty.(log_Σ_0)\n",
    "        log_Σ_0 = Measurements.value(log_Σ_0)\n",
    "        χ2 = @. (log_Σ_0 - log_Σ)^2 / (log_Σ_err + log_Σ_0_err)^2\n",
    "\n",
    "        χ2_norm = LilGuys.mean(χ2[filt])\n",
    "\n",
    "        if χ2_norm .> χ2_max\n",
    "            @info \"max radius of $(log_r[i])\"\n",
    "            break\n",
    "        end\n",
    "    end\n",
    "    \n",
    "    return log_Σ_0, log_Σ_0_err\n",
    "end"
   ]
  },
  {
   "cell_type": "code",
   "execution_count": null,
   "id": "109",
   "metadata": {},
   "outputs": [],
   "source": [
    "function get_normalization(prof_f, prof_expected=prof_expected)\n",
    "    log_Σ_0_obs, _ = get_log_Σ_0(prof_expected)\n",
    "    log_Σ_0, _ = get_log_Σ_0(prof_f)\n",
    "\n",
    "    return log_Σ_0_obs - log_Σ_0\n",
    "end"
   ]
  },
  {
   "cell_type": "code",
   "execution_count": null,
   "id": "110",
   "metadata": {},
   "outputs": [],
   "source": [
    "modelsdir = ENV[\"DWARFS_ROOT\"] * \"/analysis/\""
   ]
  },
  {
   "cell_type": "code",
   "execution_count": null,
   "id": "111",
   "metadata": {},
   "outputs": [],
   "source": [
    "function read_profiles(filename, starsname)\n",
    "    prof_i = LilGuys.StellarProfile(modelsdir * filename * \"/stars/$starsname/initial_profile.toml\")\n",
    "    prof_f = LilGuys.StellarProfile(modelsdir * filename * \"/stars/$starsname/final_profile.toml\")\n",
    "    prof_ana = LilGuys.load_profile(modelsdir * filename * \"/../stars/$starsname/profile.toml\")\n",
    "\n",
    "    \n",
    "    profs = [\n",
    "        \"initial\" => prof_i,\n",
    "        \"present day\" => prof_f,\n",
    "    ]\n",
    "\n",
    "    return profs, prof_ana\n",
    "end"
   ]
  },
  {
   "cell_type": "markdown",
   "id": "112",
   "metadata": {},
   "source": [
    "## LMC"
   ]
  },
  {
   "cell_type": "code",
   "execution_count": null,
   "id": "113",
   "metadata": {},
   "outputs": [],
   "source": []
  },
  {
   "cell_type": "code",
   "execution_count": null,
   "id": "114",
   "metadata": {},
   "outputs": [],
   "source": [
    "modeldir = \"sculptor/1e6_V31_r4.2/vasiliev+21_smallperi\""
   ]
  },
  {
   "cell_type": "code",
   "execution_count": null,
   "id": "115",
   "metadata": {},
   "outputs": [],
   "source": [
    "readdir(joinpath(modelsdir, modeldir, \"stars/exp2d_rs0.13\"))"
   ]
  },
  {
   "cell_type": "code",
   "execution_count": null,
   "id": "116",
   "metadata": {},
   "outputs": [],
   "source": [
    "orbit_props = TOML.parsefile(joinpath(modelsdir, modeldir, \"orbital_properties.toml\"))"
   ]
  },
  {
   "cell_type": "code",
   "execution_count": null,
   "id": "117",
   "metadata": {},
   "outputs": [],
   "source": [
    "profs, expected = read_profiles(modeldir, \"exp2d_rs0.13\");"
   ]
  },
  {
   "cell_type": "code",
   "execution_count": null,
   "id": "118",
   "metadata": {},
   "outputs": [],
   "source": [
    "prof_f = profs[end].second\n",
    "norm = get_normalization(prof_f)\n",
    "\n",
    "r_b = LilGuys.calc_break_radius(prof_f.sigma_v / V2KMS, 0.10 / T2GYR)\n",
    "r_b_arcmin = LilGuys.kpc_to_arcmin(r_b, orbit_props[\"distance_f\"])"
   ]
  },
  {
   "cell_type": "code",
   "execution_count": null,
   "id": "119",
   "metadata": {},
   "outputs": [],
   "source": [
    "plot_ini_fin(profs, expected, norm, limits=(-1, 3, -6, 2), r_b=r_b_arcmin)"
   ]
  },
  {
   "cell_type": "code",
   "execution_count": null,
   "id": "120",
   "metadata": {},
   "outputs": [],
   "source": [
    "plot_ini_fin_slope(profs, expected, limits=(-1, 2, -10, 4), binsize=5, r_b=r_b_arcmin)"
   ]
  },
  {
   "cell_type": "code",
   "execution_count": null,
   "id": "121",
   "metadata": {},
   "outputs": [],
   "source": [
    "modeldir = \"sculptor/1e6_V31_r3.2/vasiliev+21_heavylmc_smallperilmc\""
   ]
  },
  {
   "cell_type": "code",
   "execution_count": null,
   "id": "122",
   "metadata": {},
   "outputs": [],
   "source": [
    "readdir(joinpath(modelsdir, modeldir, \"stars/plummer_rs0.20\"))"
   ]
  },
  {
   "cell_type": "code",
   "execution_count": null,
   "id": "123",
   "metadata": {},
   "outputs": [],
   "source": [
    "orbit_props = TOML.parsefile(joinpath(modelsdir, modeldir, \"orbital_properties.toml\"))"
   ]
  },
  {
   "cell_type": "code",
   "execution_count": null,
   "id": "124",
   "metadata": {},
   "outputs": [],
   "source": [
    "profs, expected = read_profiles(modeldir, \"exp2d_rs0.13\");"
   ]
  },
  {
   "cell_type": "code",
   "execution_count": null,
   "id": "125",
   "metadata": {},
   "outputs": [],
   "source": [
    "prof_f = profs[end].second\n",
    "norm = get_normalization(prof_f)\n",
    "\n",
    "r_b = LilGuys.calc_break_radius(prof_f.sigma_v / V2KMS, 0.10 / T2GYR)\n",
    "r_b_arcmin = LilGuys.kpc_to_arcmin(r_b, orbit_props[\"distance_f\"])"
   ]
  },
  {
   "cell_type": "code",
   "execution_count": null,
   "id": "126",
   "metadata": {},
   "outputs": [],
   "source": [
    "plot_ini_fin(profs, expected, norm, limits=(-1, 3, -6, 2), r_b=r_b_arcmin)"
   ]
  },
  {
   "cell_type": "code",
   "execution_count": null,
   "id": "127",
   "metadata": {},
   "outputs": [],
   "source": [
    "plot_ini_fin_slope(profs, expected, limits=(-1, 2, -10, 4), binsize=5, r_b=r_b_arcmin)"
   ]
  },
  {
   "cell_type": "markdown",
   "id": "128",
   "metadata": {},
   "source": [
    "### 1e7"
   ]
  },
  {
   "cell_type": "code",
   "execution_count": null,
   "id": "129",
   "metadata": {},
   "outputs": [],
   "source": [
    "modeldir = \"sculptor/1e7_V31_r3.2/orbit_smallperi\""
   ]
  },
  {
   "cell_type": "code",
   "execution_count": null,
   "id": "130",
   "metadata": {},
   "outputs": [],
   "source": [
    "orbit_props = TOML.parsefile(joinpath(modelsdir, modeldir, \"orbital_properties.toml\"))"
   ]
  },
  {
   "cell_type": "code",
   "execution_count": null,
   "id": "131",
   "metadata": {},
   "outputs": [],
   "source": [
    "profs, expected = read_profiles(modeldir, \"exp2d_rs0.08\");"
   ]
  },
  {
   "cell_type": "code",
   "execution_count": null,
   "id": "132",
   "metadata": {},
   "outputs": [],
   "source": [
    "prof_f = profs[end].second\n",
    "norm = get_normalization(prof_f)\n",
    "\n",
    "r_b = LilGuys.calc_break_radius(prof_f.sigma_v / V2KMS,  orbit_props[\"t_last_peri\"]/ T2GYR)\n",
    "r_b_arcmin = LilGuys.kpc_to_arcmin(r_b, orbit_props[\"distance_f\"])"
   ]
  },
  {
   "cell_type": "code",
   "execution_count": null,
   "id": "133",
   "metadata": {},
   "outputs": [],
   "source": [
    "plot_ini_fin(profs, expected, norm, limits=(-1, 3, -6, 2), \n",
    "    r_b=r_b_arcmin, title=\"MW only, small pericentre\"\n",
    ")"
   ]
  },
  {
   "cell_type": "code",
   "execution_count": null,
   "id": "134",
   "metadata": {},
   "outputs": [],
   "source": [
    "plot_ini_fin_slope(profs, expected, limits=(-1, 2, -10, 4), \n",
    "    binsize=5, r_b=r_b_arcmin, \n",
    "    )"
   ]
  },
  {
   "cell_type": "code",
   "execution_count": null,
   "id": "135",
   "metadata": {},
   "outputs": [],
   "source": [
    "profs, expected = read_profiles(modeldir, \"plummer_rs0.18\");"
   ]
  },
  {
   "cell_type": "code",
   "execution_count": null,
   "id": "136",
   "metadata": {},
   "outputs": [],
   "source": [
    "prof_f = profs[end].second\n",
    "norm = get_normalization(prof_f)\n",
    "\n",
    "r_b = LilGuys.calc_break_radius(prof_f.sigma_v / V2KMS,  orbit_props[\"t_last_peri\"]/ T2GYR)\n",
    "r_b_arcmin = LilGuys.kpc_to_arcmin(r_b, orbit_props[\"distance_f\"])"
   ]
  },
  {
   "cell_type": "code",
   "execution_count": null,
   "id": "137",
   "metadata": {},
   "outputs": [],
   "source": [
    "plot_ini_fin(profs, expected, norm, limits=(-1, 3, -6, 2), \n",
    "    r_b=r_b_arcmin, title=\"Plummer\",\n",
    ")"
   ]
  },
  {
   "cell_type": "code",
   "execution_count": null,
   "id": "138",
   "metadata": {},
   "outputs": [],
   "source": [
    "plot_ini_fin_slope(profs, expected, limits=(-1, 2, -10, 4), \n",
    "    binsize=5, r_b=r_b_arcmin, \n",
    "    )"
   ]
  },
  {
   "cell_type": "code",
   "execution_count": null,
   "id": "139",
   "metadata": {},
   "outputs": [],
   "source": []
  },
  {
   "cell_type": "code",
   "execution_count": null,
   "id": "140",
   "metadata": {},
   "outputs": [],
   "source": [
    "modeldir = \"sculptor/1e7_V31_r3.2/orbit_mean\""
   ]
  },
  {
   "cell_type": "code",
   "execution_count": null,
   "id": "141",
   "metadata": {},
   "outputs": [],
   "source": [
    "orbit_props = TOML.parsefile(joinpath(modelsdir, modeldir, \"orbital_properties.toml\"))"
   ]
  },
  {
   "cell_type": "code",
   "execution_count": null,
   "id": "142",
   "metadata": {},
   "outputs": [],
   "source": [
    "profs, expected = read_profiles(modeldir, \"exp2d_rs0.13\");"
   ]
  },
  {
   "cell_type": "code",
   "execution_count": null,
   "id": "143",
   "metadata": {},
   "outputs": [],
   "source": [
    "prof_f = profs[end].second\n",
    "norm = get_normalization(prof_f)\n",
    "\n",
    "r_b = LilGuys.calc_break_radius(prof_f.sigma_v / V2KMS,  orbit_props[\"t_last_peri\"]/ T2GYR)\n",
    "r_b_arcmin = LilGuys.kpc_to_arcmin(r_b, orbit_props[\"distance_f\"])"
   ]
  },
  {
   "cell_type": "code",
   "execution_count": null,
   "id": "144",
   "metadata": {},
   "outputs": [],
   "source": [
    "plot_ini_fin(profs, expected, norm, limits=(-1, 3, -6, 2), r_b=r_b_arcmin, title=\"MW only, mean orbit\")"
   ]
  },
  {
   "cell_type": "code",
   "execution_count": null,
   "id": "145",
   "metadata": {},
   "outputs": [],
   "source": [
    "plot_ini_fin_slope(profs, expected, limits=(-1, 2, -10, 4), binsize=5, r_b=r_b_arcmin)"
   ]
  },
  {
   "cell_type": "markdown",
   "id": "146",
   "metadata": {},
   "source": [
    "# Gamma max"
   ]
  },
  {
   "cell_type": "code",
   "execution_count": null,
   "id": "147",
   "metadata": {},
   "outputs": [],
   "source": [
    "readdir(modelsdir * \"/isolation/1e7/fiducial/\")"
   ]
  },
  {
   "cell_type": "code",
   "execution_count": null,
   "id": "148",
   "metadata": {},
   "outputs": [],
   "source": [
    "snap_0 = LilGuys.Snapshot(modelsdir * \"/isolation/1e7/fiducial/combined.hdf5/1\")"
   ]
  },
  {
   "cell_type": "code",
   "execution_count": null,
   "id": "149",
   "metadata": {},
   "outputs": [],
   "source": [
    "r = @. sqrt(snap_0.positions[1, :]^2 + snap_0.positions[2, :]^2)"
   ]
  },
  {
   "cell_type": "code",
   "execution_count": null,
   "id": "150",
   "metadata": {},
   "outputs": [],
   "source": [
    "bins=LilGuys.Interface.bins_both(r, nothing; bin_width=0.05, num_per_bin=1000)"
   ]
  },
  {
   "cell_type": "code",
   "execution_count": null,
   "id": "151",
   "metadata": {},
   "outputs": [],
   "source": [
    "LilGuys.Interface.default_n_per_bin(r)"
   ]
  },
  {
   "cell_type": "code",
   "execution_count": null,
   "id": "152",
   "metadata": {},
   "outputs": [],
   "source": [
    "prof_3d = LilGuys.MassProfile3D(snap_0)"
   ]
  },
  {
   "cell_type": "code",
   "execution_count": null,
   "id": "153",
   "metadata": {},
   "outputs": [],
   "source": [
    "\n",
    "lines(prof_3d.log_r, log10.(prof_3d.rho),\n",
    "    axis=(; limits=(nothing, nothing, -8, 0))\n",
    ")"
   ]
  },
  {
   "cell_type": "code",
   "execution_count": null,
   "id": "154",
   "metadata": {},
   "outputs": [],
   "source": [
    "bins=LilGuys.Interface.bins_both(log10.(r), nothing, num_per_bin=6_000, bin_width=0.05)"
   ]
  },
  {
   "cell_type": "code",
   "execution_count": null,
   "id": "155",
   "metadata": {},
   "outputs": [],
   "source": [
    "prof = LilGuys.StellarProfile(r, bins=bins)"
   ]
  },
  {
   "cell_type": "code",
   "execution_count": null,
   "id": "156",
   "metadata": {},
   "outputs": [],
   "source": [
    "lines(prof.log_r, prof.log_Sigma)"
   ]
  },
  {
   "cell_type": "code",
   "execution_count": null,
   "id": "157",
   "metadata": {},
   "outputs": [],
   "source": [
    "fig = Figure()\n",
    "ax = Axis(fig[1,1], limits=(nothing, 3.5, 0, 5))\n",
    "lines!(prof.log_r, -prof.Gamma)\n",
    "\n",
    "fig"
   ]
  },
  {
   "cell_type": "code",
   "execution_count": null,
   "id": "158",
   "metadata": {},
   "outputs": [],
   "source": [
    "fig = Figure()\n",
    "ax = Axis(fig[1,1], limits=(nothing, 3.5, -2, 5))\n",
    "lines!(prof.log_r, prof.Gamma_max)\n",
    "\n",
    "fig"
   ]
  },
  {
   "cell_type": "code",
   "execution_count": null,
   "id": "159",
   "metadata": {},
   "outputs": [],
   "source": []
  }
 ],
 "metadata": {
  "kernelspec": {
   "display_name": "Julia 1.11.1",
   "language": "julia",
   "name": "julia-1.11"
  },
  "language_info": {
   "file_extension": ".jl",
   "mimetype": "application/julia",
   "name": "julia",
   "version": "1.11.1"
  }
 },
 "nbformat": 4,
 "nbformat_minor": 5
}
