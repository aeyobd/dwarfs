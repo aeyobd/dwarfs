{
 "cells": [
  {
   "cell_type": "markdown",
   "id": "ba529cf4-1238-4a10-a91b-e703e0912a62",
   "metadata": {},
   "source": [
    "# Ananke\n",
    "\n",
    "This notebook is based on the example notebook in py-ananke's repository \"https://github.com/athob/py-ananke/tree/main\"\n"
   ]
  },
  {
   "cell_type": "code",
   "execution_count": null,
   "id": "f04731dd-ee60-48e2-bd05-307c675b4228",
   "metadata": {},
   "outputs": [],
   "source": [
    "import ananke"
   ]
  },
  {
   "cell_type": "code",
   "execution_count": null,
   "id": "debe8af9-a9cb-4643-8d51-adac166627fb",
   "metadata": {},
   "outputs": [],
   "source": [
    "import numpy as np"
   ]
  },
  {
   "cell_type": "code",
   "execution_count": null,
   "id": "31c1fc62-a606-402f-a5c9-09c7a8914780",
   "metadata": {},
   "outputs": [],
   "source": [
    "import matplotlib.pyplot as plt"
   ]
  },
  {
   "cell_type": "code",
   "execution_count": null,
   "id": "eedeb38d-68d3-4756-b1b8-8839ead37fa4",
   "metadata": {},
   "outputs": [],
   "source": [
    "import h5py"
   ]
  },
  {
   "cell_type": "code",
   "execution_count": null,
   "id": "dde7b901-9c73-4cb4-99df-decf9d55a15a",
   "metadata": {},
   "outputs": [],
   "source": [
    "from astropy import coordinates as ac\n",
    "from astropy import units as u"
   ]
  },
  {
   "cell_type": "code",
   "execution_count": null,
   "id": "0ee605d1-b8f6-42cc-a935-e14b559570be",
   "metadata": {},
   "outputs": [],
   "source": [
    "idx_f = 178"
   ]
  },
  {
   "cell_type": "code",
   "execution_count": null,
   "id": "16ad02ba-9315-4626-b1af-ca97babb39f3",
   "metadata": {},
   "outputs": [],
   "source": [
    "snapname = f\"/astro/dboyea/sculptor/orbits/orbit1/1e6_V32_r5.4/out/snapshot_{idx_f - 1}.hdf5\""
   ]
  },
  {
   "cell_type": "code",
   "execution_count": null,
   "id": "9acb11a3-1a2e-4960-8115-9e263de357ea",
   "metadata": {},
   "outputs": [],
   "source": [
    "starsname = \"/astro/dboyea/sculptor/isolation/1e6/fiducial/stars_ana/exp2d_rs0.10_stars.hdf5\""
   ]
  },
  {
   "cell_type": "code",
   "execution_count": null,
   "id": "53f66d8a-64c6-49d4-8754-06fec1a195a5",
   "metadata": {},
   "outputs": [],
   "source": [
    "with h5py.File(snapname) as h5f:\n",
    "    pos = np.array(h5f[\"PartType1/Coordinates\"])\n",
    "    vel = np.array(h5f[\"PartType1/Velocities\"])\n",
    "    index =  np.array(h5f[\"PartType1/ParticleIDs\"])"
   ]
  },
  {
   "cell_type": "code",
   "execution_count": null,
   "id": "6bf03a24-4891-4829-a56f-865861abc3cd",
   "metadata": {},
   "outputs": [],
   "source": [
    "with h5py.File(starsname) as h5f:\n",
    "    stars_index = np.array(h5f[\"index\"])\n",
    "    probabilities = np.array(h5f[\"probability\"])\n",
    "stars_index, probabilities"
   ]
  },
  {
   "cell_type": "code",
   "execution_count": null,
   "id": "bf322b6b-2300-4957-9258-c047fb86f325",
   "metadata": {},
   "outputs": [],
   "source": [
    "def invperm(a):\n",
    "    b = np.arange(a.shape[0])\n",
    "    b[a] = b.copy()\n",
    "    return b"
   ]
  },
  {
   "cell_type": "code",
   "execution_count": null,
   "id": "a2423b39-f7f6-4718-9da1-e869b70b6107",
   "metadata": {},
   "outputs": [],
   "source": [
    "mtot = 2.7e6\n",
    "mstar = probabilities[invperm(np.argsort(index))] * mtot"
   ]
  },
  {
   "cell_type": "code",
   "execution_count": null,
   "id": "ff2189b2-85e6-4f40-95e8-7f871e55cef2",
   "metadata": {},
   "outputs": [],
   "source": [
    "stars_index[invperm(np.argsort(index))] == index"
   ]
  },
  {
   "cell_type": "code",
   "execution_count": null,
   "id": "ec7aeb54-2160-4ef9-8434-e19f78ba3d57",
   "metadata": {},
   "outputs": [],
   "source": [
    "sum(mstar)"
   ]
  },
  {
   "cell_type": "code",
   "execution_count": null,
   "id": "19617b75-3784-4b77-9db2-1ba0fa16c3a7",
   "metadata": {},
   "outputs": [],
   "source": [
    "N = len(mstar)\n",
    "V0 = 207.4\n",
    "\n",
    "sim_input = {\n",
    "    \"pos3\": pos,\n",
    "    \"vel3\": vel * V0,\n",
    "    \"mass\": mstar,\n",
    "    \"age\": np.random.normal(9.8, 0.1, N),\n",
    "    \"feh\": np.random.normal(-2.3, 0.25, N),\n",
    "    \"parentid\": index,\n",
    "    \n",
    "}"
   ]
  },
  {
   "cell_type": "code",
   "execution_count": null,
   "id": "d9e9bc07-12ca-4575-9cef-39b4aadd2d17",
   "metadata": {},
   "outputs": [],
   "source": [
    "vel.shape"
   ]
  },
  {
   "cell_type": "code",
   "execution_count": null,
   "id": "117d91f7-1bd4-464e-868f-1cd01d0a6426",
   "metadata": {},
   "outputs": [],
   "source": [
    "sim_input"
   ]
  },
  {
   "cell_type": "code",
   "execution_count": null,
   "id": "20ee6f9c-70ac-4b08-a748-05b1732e5de5",
   "metadata": {},
   "outputs": [],
   "source": [
    "idxs = np.random.choice(N, p=mstar/np.sum(mstar), size=10000)"
   ]
  },
  {
   "cell_type": "code",
   "execution_count": null,
   "id": "32f3796c-a6f3-4a2b-8618-2d0c8feb7d6d",
   "metadata": {},
   "outputs": [],
   "source": [
    "gcs = ac.Galactocentric(x=pos[idxs, 0]*u.kpc, y=pos[idxs, 1]*u.kpc, z=pos[idxs, 2]*u.kpc);"
   ]
  },
  {
   "cell_type": "code",
   "execution_count": null,
   "id": "220de934-259a-4c06-9faa-b127d33cc5f4",
   "metadata": {},
   "outputs": [],
   "source": [
    "icrs = gcs.transform_to(ac.ICRS())"
   ]
  },
  {
   "cell_type": "code",
   "execution_count": null,
   "id": "a5aa572a-a9fa-405d-8f42-765f873030c4",
   "metadata": {},
   "outputs": [],
   "source": [
    "V0 = 207 # km/s"
   ]
  },
  {
   "cell_type": "code",
   "execution_count": null,
   "id": "200a33e6-d38b-43ea-9be3-9e28685d7189",
   "metadata": {},
   "outputs": [],
   "source": [
    "help(ananke.Ananke)"
   ]
  },
  {
   "cell_type": "code",
   "execution_count": null,
   "id": "d1309214-9676-47a0-8c74-028308b4b5ac",
   "metadata": {},
   "outputs": [],
   "source": [
    "# matches my GC coordinate definition\n",
    "observer = {\n",
    "    \"pos3\": [8.122, 0, 0.0208],\n",
    "    \"vel3\": [ 12.9, 245.6, 7.78],\n",
    "}\n",
    "\n",
    "rshell = [0, 1000]\n",
    "\n",
    "fsample = 1\n",
    "\n",
    "photo_sys = 'padova/GAIA__DR2'\n",
    "\n",
    "cmd_magnames = {'magnitude': 'G',\n",
    "                'color_minuend': 'Gbp',\n",
    "                'color_subtrahend': 'Grp'}\n",
    "\n",
    "cmd_box = {\n",
    "           'abs_mag_lim_lo': -1000,\n",
    "           'abs_mag_lim_hi': 1000,\n",
    "        #    'app_mag_lim_lo' : -1000,\n",
    "           'app_mag_lim_hi': 30,\n",
    "        #    'color_lim_lo' : -1000,\n",
    "        #    'color_lim_hi' : 1000\n",
    "           }"
   ]
  },
  {
   "cell_type": "code",
   "execution_count": null,
   "id": "9e3785df-1165-4fb8-bd8d-6e5cc74d8ef3",
   "metadata": {},
   "outputs": [],
   "source": [
    "name = \"fiducial\"\n",
    "\n",
    "an = ananke.Ananke(sim_input, name, \n",
    "    fsample=fsample, observe=observer, rshell=rshell, photo_sys=photo_sys, cmd_magnames=cmd_magnames, **cmd_box)\n"
   ]
  },
  {
   "cell_type": "code",
   "execution_count": null,
   "id": "54e10c8f-703c-453b-af89-3cadc1cf1004",
   "metadata": {},
   "outputs": [],
   "source": [
    "survey = an.run()"
   ]
  },
  {
   "cell_type": "code",
   "execution_count": null,
   "id": "b7dc0c6a-b03d-4869-9926-227383d55d6e",
   "metadata": {},
   "outputs": [],
   "source": [
    "survey"
   ]
  },
  {
   "cell_type": "code",
   "execution_count": null,
   "id": "640e94dc-a661-4657-a342-87f6f51f8098",
   "metadata": {},
   "outputs": [],
   "source": [
    "observable = survey[~survey.dec.isna()]\n",
    "observable"
   ]
  },
  {
   "cell_type": "code",
   "execution_count": null,
   "id": "607834fb-5d45-47d9-bff7-b966fd94bd80",
   "metadata": {},
   "outputs": [],
   "source": [
    "plt.scatter(observable.ra.values, observable.dec.values, alpha=0.1, s=1)\n",
    "plt.xlabel(\"ra / degree\")\n",
    "plt.ylabel(\"dec / degree\")"
   ]
  },
  {
   "cell_type": "code",
   "execution_count": null,
   "id": "36d870ef-e73a-4ab2-8661-6b74223993dc",
   "metadata": {},
   "outputs": [],
   "source": [
    "plt.scatter(observable.mura.values, observable.mudec.values, alpha=0.1, s=1)"
   ]
  },
  {
   "cell_type": "code",
   "execution_count": null,
   "id": "0dc820ba-4ce9-4218-9ba9-f14d6a1c3acf",
   "metadata": {},
   "outputs": [],
   "source": [
    "dd = 5\n",
    "plt.scatter(observable.ra.values + np.random.normal(0, 0.02, len(observable)),\n",
    "            observable.dec.values + np.random.normal(0, 0.02, len(observable)), alpha=0.1, s=1)"
   ]
  },
  {
   "cell_type": "code",
   "execution_count": null,
   "id": "12f27c36-de7d-4a3e-8e28-8b16e254a6ba",
   "metadata": {},
   "outputs": [],
   "source": [
    "plt.scatter(observable.gaia__dr2_gbp.values - observable.gaia__dr2_grp.values, observable.gaia__dr2_g.values, s=1, alpha=0.1)\n",
    "plt.gca().invert_yaxis()\n",
    "plt.xlabel(\"Bp - Rp\")\n",
    "plt.ylabel(\"G\")"
   ]
  },
  {
   "cell_type": "code",
   "execution_count": null,
   "id": "18e795e1-1838-41db-a097-2467d4578769",
   "metadata": {},
   "outputs": [],
   "source": [
    "\n",
    "plt.scatter(icrs.ra + np.random.normal(0, 0.02, len(icrs))*u.degree, icrs.dec + np.random.normal(0, 0.02, len(icrs))*u.degree, s=1, alpha=0.1)"
   ]
  },
  {
   "cell_type": "code",
   "execution_count": null,
   "id": "29dfbefc-18dc-4106-9483-36c2adaf08b9",
   "metadata": {},
   "outputs": [],
   "source": [
    "icrs.ra"
   ]
  },
  {
   "cell_type": "code",
   "execution_count": null,
   "id": "5116678e-3eab-430b-9737-d7fe8d38b065",
   "metadata": {},
   "outputs": [],
   "source": [
    "observable[\"pmra\"] = observable.mura\n",
    "observable[\"pmdec\"] = observable.mudec\n",
    "\n",
    "observable[\"pmra_error\"] = observable.mura_Err\n",
    "observable[\"pmdec_error\"] = observable.mudec_Err\n",
    "\n",
    "observable[\"G\"] = observable.gaia__dr2_g\n",
    "observable[\"G_err\"] = observable.gaia__dr2_g_Err\n",
    "observable[\"bp_rp\"] = observable.gaia__dr2_gbp - observable.gaia__dr2_grp\n",
    "observable[\"bp_rp_err\"] = observable.gaia__dr2_gbp - observable.gaia__dr2_grp"
   ]
  },
  {
   "cell_type": "code",
   "execution_count": null,
   "id": "0968fd96-266a-43b2-aa43-b84e78d2935c",
   "metadata": {},
   "outputs": [],
   "source": [
    "observable[\"distance\"] = 10 * 10 ** (1/5 * observable.dmod) / 1e3"
   ]
  },
  {
   "cell_type": "code",
   "execution_count": null,
   "id": "efcfeb6b-42af-43a6-b068-1d8ca1a0e2ef",
   "metadata": {},
   "outputs": [],
   "source": [
    "df = observable[[\"ra\", \"dec\", \"pmra\", \"pmdec\", \"pmra_error\", \"pmdec_error\", \"G\", \"bp_rp\", \"distance\"]].to_pandas_df()\n",
    "df[\"weights\"] = 1 / len(df)"
   ]
  },
  {
   "cell_type": "code",
   "execution_count": null,
   "id": "2e3df4a2-3bf0-4bd2-af41-7253d7107bde",
   "metadata": {},
   "outputs": [],
   "source": [
    "from astropy.io import fits\n",
    "from astropy.table import Table"
   ]
  },
  {
   "cell_type": "code",
   "execution_count": null,
   "id": "d3dca496-409b-4c0d-a6cb-5baa9f211a73",
   "metadata": {},
   "outputs": [],
   "source": [
    "tab = Table.from_pandas(df)\n"
   ]
  },
  {
   "cell_type": "code",
   "execution_count": null,
   "id": "6bb58dd8-b07d-4821-a593-bc6719bc5b42",
   "metadata": {},
   "outputs": [],
   "source": [
    "tab"
   ]
  },
  {
   "cell_type": "code",
   "execution_count": null,
   "id": "24a955b2-e5cc-4aa6-b70f-79f013b61558",
   "metadata": {},
   "outputs": [],
   "source": [
    "outfile = \"anake_test.fits\"\n",
    "\n",
    "hdu = fits.BinTableHDU(tab)\n",
    "hdu.writeto(outfile, overwrite=True)"
   ]
  },
  {
   "cell_type": "code",
   "execution_count": null,
   "id": "35435606-074e-45c7-9081-2b7841f74d34",
   "metadata": {},
   "outputs": [],
   "source": [
    "pwd()"
   ]
  },
  {
   "cell_type": "code",
   "execution_count": null,
   "id": "018954fb-a32d-4310-bd1a-6db74b07dd48",
   "metadata": {},
   "outputs": [],
   "source": []
  }
 ],
 "metadata": {
  "kernelspec": {
   "display_name": "Python 3.9",
   "language": "python",
   "name": "python3.9"
  },
  "language_info": {
   "codemirror_mode": {
    "name": "ipython",
    "version": 3
   },
   "file_extension": ".py",
   "mimetype": "text/x-python",
   "name": "python",
   "nbconvert_exporter": "python",
   "pygments_lexer": "ipython3",
   "version": "3.9.19"
  }
 },
 "nbformat": 4,
 "nbformat_minor": 5
}
