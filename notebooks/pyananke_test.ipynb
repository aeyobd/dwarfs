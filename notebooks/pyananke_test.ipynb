{
 "cells": [
  {
   "cell_type": "markdown",
   "id": "0",
   "metadata": {},
   "source": [
    "# Ananke\n",
    "\n",
    "This notebook is based on the example notebook in py-ananke's repository \"https://github.com/athob/py-ananke/tree/main\"\n"
   ]
  },
  {
   "cell_type": "code",
   "execution_count": null,
   "id": "1",
   "metadata": {},
   "outputs": [],
   "source": [
    "import ananke"
   ]
  },
  {
   "cell_type": "code",
   "execution_count": null,
   "id": "2",
   "metadata": {},
   "outputs": [],
   "source": [
    "import numpy as np"
   ]
  },
  {
   "cell_type": "code",
   "execution_count": null,
   "id": "3",
   "metadata": {},
   "outputs": [],
   "source": [
    "import matplotlib.pyplot as plt"
   ]
  },
  {
   "cell_type": "code",
   "execution_count": null,
   "id": "4",
   "metadata": {},
   "outputs": [],
   "source": [
    "import h5py"
   ]
  },
  {
   "cell_type": "code",
   "execution_count": null,
   "id": "5",
   "metadata": {},
   "outputs": [],
   "source": [
    "from astropy import coordinates as ac\n",
    "from astropy import units as u"
   ]
  },
  {
   "cell_type": "code",
   "execution_count": null,
   "id": "6",
   "metadata": {},
   "outputs": [],
   "source": [
    "idx_f = 178"
   ]
  },
  {
   "cell_type": "code",
   "execution_count": null,
   "id": "7",
   "metadata": {},
   "outputs": [],
   "source": [
    "snapname = f\"/astro/dboyea/sculptor/orbits/orbit1/1e6_V32_r5.4/out/snapshot_{idx_f - 1}.hdf5\""
   ]
  },
  {
   "cell_type": "code",
   "execution_count": null,
   "id": "8",
   "metadata": {},
   "outputs": [],
   "source": [
    "starsname = \"/astro/dboyea/sculptor/isolation/1e6/fiducial/stars_ana/exp2d_rs0.10_stars.hdf5\""
   ]
  },
  {
   "cell_type": "code",
   "execution_count": null,
   "id": "9",
   "metadata": {},
   "outputs": [],
   "source": [
    "with h5py.File(snapname) as h5f:\n",
    "    pos = np.array(h5f[\"PartType1/Coordinates\"])\n",
    "    vel = np.array(h5f[\"PartType1/Velocities\"])\n",
    "    index =  np.array(h5f[\"PartType1/ParticleIDs\"])"
   ]
  },
  {
   "cell_type": "code",
   "execution_count": null,
   "id": "10",
   "metadata": {},
   "outputs": [],
   "source": [
    "with h5py.File(starsname) as h5f:\n",
    "    stars_index = np.array(h5f[\"index\"])\n",
    "    probabilities = np.array(h5f[\"probability\"])\n",
    "stars_index, probabilities"
   ]
  },
  {
   "cell_type": "code",
   "execution_count": null,
   "id": "11",
   "metadata": {},
   "outputs": [],
   "source": [
    "def invperm(a):\n",
    "    b = np.arange(a.shape[0])\n",
    "    b[a] = b.copy()\n",
    "    return b"
   ]
  },
  {
   "cell_type": "code",
   "execution_count": null,
   "id": "12",
   "metadata": {},
   "outputs": [],
   "source": [
    "mtot = 2.7e6\n",
    "mstar = probabilities[invperm(np.argsort(index))] * mtot"
   ]
  },
  {
   "cell_type": "code",
   "execution_count": null,
   "id": "13",
   "metadata": {},
   "outputs": [],
   "source": [
    "stars_index[invperm(np.argsort(index))] == index"
   ]
  },
  {
   "cell_type": "code",
   "execution_count": null,
   "id": "14",
   "metadata": {},
   "outputs": [],
   "source": [
    "sum(mstar)"
   ]
  },
  {
   "cell_type": "code",
   "execution_count": null,
   "id": "15",
   "metadata": {},
   "outputs": [],
   "source": [
    "N = len(mstar)\n",
    "V0 = 207.4\n",
    "\n",
    "sim_input = {\n",
    "    \"pos3\": pos,\n",
    "    \"vel3\": vel * V0,\n",
    "    \"mass\": mstar,\n",
    "    \"age\": np.random.normal(9.8, 0.1, N),\n",
    "    \"feh\": np.random.normal(-2.3, 0.25, N),\n",
    "    \"parentid\": index,\n",
    "    \n",
    "}"
   ]
  },
  {
   "cell_type": "code",
   "execution_count": null,
   "id": "16",
   "metadata": {},
   "outputs": [],
   "source": [
    "vel.shape"
   ]
  },
  {
   "cell_type": "code",
   "execution_count": null,
   "id": "17",
   "metadata": {},
   "outputs": [],
   "source": [
    "sim_input"
   ]
  },
  {
   "cell_type": "code",
   "execution_count": null,
   "id": "18",
   "metadata": {},
   "outputs": [],
   "source": [
    "idxs = np.random.choice(N, p=mstar/np.sum(mstar), size=10000)"
   ]
  },
  {
   "cell_type": "code",
   "execution_count": null,
   "id": "19",
   "metadata": {},
   "outputs": [],
   "source": [
    "gcs = ac.Galactocentric(x=pos[idxs, 0]*u.kpc, y=pos[idxs, 1]*u.kpc, z=pos[idxs, 2]*u.kpc);"
   ]
  },
  {
   "cell_type": "code",
   "execution_count": null,
   "id": "20",
   "metadata": {},
   "outputs": [],
   "source": [
    "icrs = gcs.transform_to(ac.ICRS())"
   ]
  },
  {
   "cell_type": "code",
   "execution_count": null,
   "id": "21",
   "metadata": {},
   "outputs": [],
   "source": [
    "V0 = 207 # km/s"
   ]
  },
  {
   "cell_type": "code",
   "execution_count": null,
   "id": "22",
   "metadata": {},
   "outputs": [],
   "source": [
    "help(ananke.Ananke)"
   ]
  },
  {
   "cell_type": "code",
   "execution_count": null,
   "id": "23",
   "metadata": {},
   "outputs": [],
   "source": [
    "# matches my GC coordinate definition\n",
    "observer = {\n",
    "    \"pos3\": [8.122, 0, 0.0208],\n",
    "    \"vel3\": [ 12.9, 245.6, 7.78],\n",
    "}\n",
    "\n",
    "rshell = [0, 1000]\n",
    "\n",
    "fsample = 1\n",
    "\n",
    "photo_sys = 'padova/GAIA__DR2'\n",
    "\n",
    "cmd_magnames = {'magnitude': 'G',\n",
    "                'color_minuend': 'Gbp',\n",
    "                'color_subtrahend': 'Grp'}\n",
    "\n",
    "cmd_box = {\n",
    "           'abs_mag_lim_lo': -1000,\n",
    "           'abs_mag_lim_hi': 1000,\n",
    "        #    'app_mag_lim_lo' : -1000,\n",
    "           'app_mag_lim_hi': 30,\n",
    "        #    'color_lim_lo' : -1000,\n",
    "        #    'color_lim_hi' : 1000\n",
    "           }"
   ]
  },
  {
   "cell_type": "code",
   "execution_count": null,
   "id": "24",
   "metadata": {},
   "outputs": [],
   "source": [
    "name = \"fiducial\"\n",
    "\n",
    "an = ananke.Ananke(sim_input, name, \n",
    "    fsample=fsample, observe=observer, rshell=rshell, photo_sys=photo_sys, cmd_magnames=cmd_magnames, **cmd_box)\n"
   ]
  },
  {
   "cell_type": "code",
   "execution_count": null,
   "id": "25",
   "metadata": {},
   "outputs": [],
   "source": [
    "survey = an.run()"
   ]
  },
  {
   "cell_type": "code",
   "execution_count": null,
   "id": "26",
   "metadata": {},
   "outputs": [],
   "source": [
    "survey"
   ]
  },
  {
   "cell_type": "code",
   "execution_count": null,
   "id": "27",
   "metadata": {},
   "outputs": [],
   "source": [
    "observable = survey[~survey.dec.isna()]\n",
    "observable"
   ]
  },
  {
   "cell_type": "code",
   "execution_count": null,
   "id": "28",
   "metadata": {},
   "outputs": [],
   "source": [
    "plt.scatter(observable.ra.values, observable.dec.values, alpha=0.1, s=1)\n",
    "plt.xlabel(\"ra / degree\")\n",
    "plt.ylabel(\"dec / degree\")"
   ]
  },
  {
   "cell_type": "code",
   "execution_count": null,
   "id": "29",
   "metadata": {},
   "outputs": [],
   "source": [
    "plt.scatter(observable.mura.values, observable.mudec.values, alpha=0.1, s=1)"
   ]
  },
  {
   "cell_type": "code",
   "execution_count": null,
   "id": "30",
   "metadata": {},
   "outputs": [],
   "source": [
    "dd = 5\n",
    "plt.scatter(observable.ra.values + np.random.normal(0, 0.02, len(observable)),\n",
    "            observable.dec.values + np.random.normal(0, 0.02, len(observable)), alpha=0.1, s=1)"
   ]
  },
  {
   "cell_type": "code",
   "execution_count": null,
   "id": "31",
   "metadata": {},
   "outputs": [],
   "source": [
    "plt.scatter(observable.gaia__dr2_gbp.values - observable.gaia__dr2_grp.values, observable.gaia__dr2_g.values, s=1, alpha=0.1)\n",
    "plt.gca().invert_yaxis()\n",
    "plt.xlabel(\"Bp - Rp\")\n",
    "plt.ylabel(\"G\")"
   ]
  },
  {
   "cell_type": "code",
   "execution_count": null,
   "id": "32",
   "metadata": {},
   "outputs": [],
   "source": [
    "\n",
    "plt.scatter(icrs.ra + np.random.normal(0, 0.02, len(icrs))*u.degree, icrs.dec + np.random.normal(0, 0.02, len(icrs))*u.degree, s=1, alpha=0.1)"
   ]
  },
  {
   "cell_type": "code",
   "execution_count": null,
   "id": "33",
   "metadata": {},
   "outputs": [],
   "source": [
    "icrs.ra"
   ]
  },
  {
   "cell_type": "code",
   "execution_count": null,
   "id": "34",
   "metadata": {},
   "outputs": [],
   "source": [
    "observable[\"pmra\"] = observable.mura\n",
    "observable[\"pmdec\"] = observable.mudec\n",
    "\n",
    "observable[\"pmra_error\"] = observable.mura_Err\n",
    "observable[\"pmdec_error\"] = observable.mudec_Err\n",
    "\n",
    "observable[\"G\"] = observable.gaia__dr2_g\n",
    "observable[\"G_err\"] = observable.gaia__dr2_g_Err\n",
    "observable[\"bp_rp\"] = observable.gaia__dr2_gbp - observable.gaia__dr2_grp\n",
    "observable[\"bp_rp_err\"] = observable.gaia__dr2_gbp - observable.gaia__dr2_grp"
   ]
  },
  {
   "cell_type": "code",
   "execution_count": null,
   "id": "35",
   "metadata": {},
   "outputs": [],
   "source": [
    "observable[\"distance\"] = 10 * 10 ** (1/5 * observable.dmod) / 1e3"
   ]
  },
  {
   "cell_type": "code",
   "execution_count": null,
   "id": "36",
   "metadata": {},
   "outputs": [],
   "source": [
    "df = observable[[\"ra\", \"dec\", \"pmra\", \"pmdec\", \"pmra_error\", \"pmdec_error\", \"G\", \"bp_rp\", \"distance\"]].to_pandas_df()\n",
    "df[\"weights\"] = 1 / len(df)"
   ]
  },
  {
   "cell_type": "code",
   "execution_count": null,
   "id": "37",
   "metadata": {},
   "outputs": [],
   "source": [
    "from astropy.io import fits\n",
    "from astropy.table import Table"
   ]
  },
  {
   "cell_type": "code",
   "execution_count": null,
   "id": "38",
   "metadata": {},
   "outputs": [],
   "source": [
    "tab = Table.from_pandas(df)\n"
   ]
  },
  {
   "cell_type": "code",
   "execution_count": null,
   "id": "39",
   "metadata": {},
   "outputs": [],
   "source": [
    "tab"
   ]
  },
  {
   "cell_type": "code",
   "execution_count": null,
   "id": "40",
   "metadata": {},
   "outputs": [],
   "source": [
    "outfile = \"anake_test.fits\"\n",
    "\n",
    "hdu = fits.BinTableHDU(tab)\n",
    "hdu.writeto(outfile, overwrite=True)"
   ]
  },
  {
   "cell_type": "code",
   "execution_count": null,
   "id": "41",
   "metadata": {},
   "outputs": [],
   "source": [
    "pwd()"
   ]
  },
  {
   "cell_type": "code",
   "execution_count": null,
   "id": "42",
   "metadata": {},
   "outputs": [],
   "source": []
  }
 ],
 "metadata": {
  "kernelspec": {
   "display_name": "Python 3.9",
   "language": "python",
   "name": "python3.9"
  },
  "language_info": {
   "codemirror_mode": {
    "name": "ipython",
    "version": 3
   },
   "file_extension": ".py",
   "mimetype": "text/x-python",
   "name": "python",
   "nbconvert_exporter": "python",
   "pygments_lexer": "ipython3",
   "version": "3.9.19"
  }
 },
 "nbformat": 4,
 "nbformat_minor": 5
}
