{
 "cells": [
  {
   "cell_type": "markdown",
   "id": "d34bc6fb-ded4-48d8-9512-c94b1b5cca7c",
   "metadata": {},
   "source": [
    "Example of integrating an orbit in a time-dependent potential of the Milky Way + LMC.\n",
    "We integrate the orbit of Sgr backward in time for 3 Gyr under various assumptions:\n",
    "fixed or evolving potential, test-particle orbit or massive particle with dynamical friction,\n",
    "and finally compare these with the orbit from the actual N-body simulation.\n",
    "Of course, one may adapt this example to explore orbits of other objects in the outer\n",
    "parts of the Milky Way in the presence of the LMC. Note that the trajectory of the LMC\n",
    "and the corresponding acceleration of the Milky Way-centered reference frame are provided\n",
    "only for the duration of the original simulation (-3 to 0 Gyr), and for convenience,\n",
    "extrapolated to -5 Gyr assuming a simple two-body interaction model. The LMC is not unbound\n",
    "and would have returned back at earlier times, which is likely unphysical.\n",
    "Thus the orbit integration should only be carried within this interval.\n"
   ]
  },
  {
   "cell_type": "code",
   "execution_count": null,
   "id": "d89d9574-1211-41e7-b8ae-0875e45c667a",
   "metadata": {},
   "outputs": [],
   "source": [
    "import agama\n",
    "import numpy\n",
    "import scipy.integrate, scipy.special\n",
    "import matplotlib\n",
    "import matplotlib.pyplot as plt\n"
   ]
  },
  {
   "cell_type": "code",
   "execution_count": null,
   "id": "aa32f231-143f-4876-ae75-71c0ad602a10",
   "metadata": {},
   "outputs": [],
   "source": [
    "# present-day position and velocity of the Sgr remnant\n",
    "l0, b0 = 5.61, -14.09   # Galactic coords [deg]\n",
    "dist   = 27.0           # heliocentric distance [kpc]\n",
    "pml,pmb= -2.31, 1.94    # proper motion components [mas/yr]\n",
    "vlos   = 142            # heliocentric line-of-sight velocity [km/s]\n",
    "# Convert these values into the orbit initial conditions in the Galactocentric coordinate system.\n",
    "# This could be performed with astropy.coordinates, but here we employ built-in routines from Agama,\n",
    "# which do not have sophisticated unit handling machinery and assume a fixed choice of units\n",
    "d2r = numpy.pi/180      # degrees to radians\n",
    "masyr2kmskpc = 4.74     # mas/yr to km/s/kpc\n",
    "ic = agama.getGalactocentricFromGalactic(l0*d2r, b0*d2r, dist, pml*masyr2kmskpc, pmb*masyr2kmskpc, vlos)\n"
   ]
  },
  {
   "cell_type": "code",
   "execution_count": null,
   "id": "61e96693-fe7f-4121-ac6f-ec43df3f9802",
   "metadata": {},
   "outputs": [],
   "source": [
    "\n",
    "\n",
    "\n",
    "# initialize the potential of the Milky Way + LMC in two variants\n",
    "pot_frozen   = agama.Potential('../agama/lmc/potential_frozen.ini')   # fixed analytic potentials\n",
    "pot_evolving = agama.Potential('../agama/lmc/potential_evolving.ini') # time-dependent multipole potentials\n",
    "\n",
    "### Example 1: integrate the test-particle orbit of the Sgr backward in time in a frozen analytic potential,\n",
    "# using the built-in routine from Agama (it works equally well with an evolving potential).\n",
    "timeinit = -3.0  # 3 Gyr back in time - the earliest point in the Sgr simulation\n",
    "timecurr =  0.0  # current time is 0, the final point\n",
    "time, orbit_test = agama.orbit(ic=ic, potential=pot_frozen, timestart=timecurr,\n",
    "    time=timeinit-timecurr, trajsize=100)\n",
    "\n",
    "### Example 2: integrate the orbit backward in time, taking into account dynamical friction.\n",
    "# Agama does not currently provide an option to account for dynamical friction, so we use\n",
    "# a generic ODE solver from scipy (of course, this is *MUCH* slower than using the built-in routine.\n",
    "# To simulate dynamical friction, we need to set up the time-dependent mass of the Sgr remnant\n",
    "# and a couple of other parameters:\n",
    "sigma = 120.0      # halo velocity dispersion (assume a fixed value for simplicity)\n",
    "coulombLog = 2.0   # Coulomb logarithm - also assume a fiducial value\n",
    "# mass of the remnant (in units of 232500 Msun, in which G=1) - assume a simple linear mass loss\n",
    "mass = lambda t: numpy.interp(t, [timeinit+2.75, 0.25], [16000, 1000])\n",
    "\n",
    "# ODE for the orbit integration\n",
    "def difeq(xv, t):\n",
    "    vel   = xv[3:6]\n",
    "    vmag  = sum(vel**2)**0.5\n",
    "    rho   = pot.density(xv[0:3], t=t)\n",
    "    X     = vmag / (sigma * 2**.5)\n",
    "    drag  = -4*numpy.pi * rho / vmag * \\\n",
    "        (scipy.special.erf(X) - 2/numpy.pi**0.5 * X * numpy.exp(-X*X)) * coulombLog * mass(t) / vmag**2\n",
    "    force = pot.force(xv[0:3], t=t) + vel * drag\n",
    "    return numpy.hstack((xv[3:6], force))\n",
    "\n",
    "# grid in time from -3 Gyr up to now\n",
    "time = numpy.linspace(timecurr, timeinit, 100)\n",
    "# orbit in the frozen potential (fixed to the initial MW and LMC profiles before their encounter)\n",
    "pot  = pot_frozen\n",
    "orbit_frozen   = scipy.integrate.odeint(difeq, ic, time)\n",
    "# orbit in the evolving MW and LMC potentials\n",
    "pot  = pot_evolving\n",
    "orbit_evolving = scipy.integrate.odeint(difeq, ic, time)\n",
    "\n"
   ]
  },
  {
   "cell_type": "code",
   "execution_count": null,
   "id": "75f51616-f911-4c37-8bfe-30163cce1e45",
   "metadata": {},
   "outputs": [],
   "source": [
    "### show the results, along with the actual Sgr trajectory from an N-body simulation\n",
    "orbit_true = numpy.loadtxt('/astro/dboyea/Sgr_snapshot/trajectory.txt')[:,1:7]  # column 0 is time, 1-7 are pos/vel\n",
    "plt.plot(orbit_test    [:,0], orbit_test    [:,2], c='c', label='frozen potential, no DF')\n",
    "plt.plot(orbit_frozen  [:,0], orbit_frozen  [:,2], c='g', label='frozen potential with DF')\n",
    "plt.plot(orbit_evolving[:,0], orbit_evolving[:,2], c='r', label='evolving potential with DF')\n",
    "plt.plot(orbit_true    [:,0], orbit_true    [:,2], c='b', label='true orbit')\n",
    "plt.xlabel('Galactocentric X [kpc]')\n",
    "plt.ylabel('Galactocentric Z [kpc]')\n",
    "# draw a MW disc, Solar position, current Sgr position, and the line of sight\n",
    "plt.plot([-20,20],[0,0], color='g', lw=2)               # galactic plane\n",
    "plt.plot(0, 0, 'o', color='g', ms=6, mec='none')        # galactic center\n",
    "plt.plot(-8.122, 0.02, '*', c='r', ms=12, mec='none')   # observer location\n",
    "plt.plot(ic[0], ic[2], 's', c='c', ms=8, mec='none')    # Sgr remnant\n",
    "plt.gca().add_artist(matplotlib.patches.FancyArrow(-8.122, 0.02, (ic[0]+8.122)/2, (ic[2]-0.02)/2,\n",
    "    color='r', head_width=3, clip_on=False))  # line of sight\n",
    "plt.legend(loc='lower right')\n",
    "plt.show()"
   ]
  },
  {
   "cell_type": "code",
   "execution_count": null,
   "id": "3118782e-7ee8-439e-8c56-058c669405a3",
   "metadata": {},
   "outputs": [],
   "source": []
  }
 ],
 "metadata": {
  "kernelspec": {
   "display_name": "Python 3 (ipykernel)",
   "language": "python",
   "name": "python3"
  },
  "language_info": {
   "codemirror_mode": {
    "name": "ipython",
    "version": 3
   },
   "file_extension": ".py",
   "mimetype": "text/x-python",
   "name": "python",
   "nbconvert_exporter": "python",
   "pygments_lexer": "ipython3",
   "version": "3.11.9"
  }
 },
 "nbformat": 4,
 "nbformat_minor": 5
}
