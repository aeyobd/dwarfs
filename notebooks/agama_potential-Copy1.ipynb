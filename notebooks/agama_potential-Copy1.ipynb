{
 "cells": [
  {
   "cell_type": "markdown",
   "id": "aa291347-b83a-42f4-b753-705af28e66fd",
   "metadata": {},
   "source": [
    "This notebook explores a few different potential models of the Milky Way"
   ]
  },
  {
   "cell_type": "code",
   "execution_count": null,
   "id": "d9a467d0-e04e-416d-8263-d4984aa2ba31",
   "metadata": {
    "tags": []
   },
   "outputs": [],
   "source": [
    "import agama\n",
    "\n",
    "import arya\n",
    "import matplotlib.pyplot as plt\n",
    "import astropy.units as u\n",
    "import astropy.constants as c\n",
    "import numpy as np\n",
    "\n",
    "from astropy import coordinates as coord\n"
   ]
  },
  {
   "cell_type": "code",
   "execution_count": null,
   "id": "3ffce87e-6e3d-4827-8f0c-e6316f96d0fd",
   "metadata": {
    "tags": []
   },
   "outputs": [],
   "source": [
    "from astropy.constants import G\n",
    "# galpy_to_standard_force = 1/((2*np.pi*G *u.Msun / u.pc**2).to(\"km/Myr s\"))\n",
    "# print(galpy_to_standard_force)\n",
    "# galpy_to_standard_force = galpy_to_standard_force.value\n",
    "\n",
    "H0 = 67.74*u.km/u.s/u.Mpc\n",
    "Ωm = 0.3\n",
    "ρ_c = 3* H0**2 / (8*np.pi * G )\n",
    "ρ200 = 200*ρ_c.to(\"Msun / kpc^3\")\n",
    "\n",
    "\n",
    "kms = u.km/u.s\n",
    "Σ0 = u.Msun / u.pc**2"
   ]
  },
  {
   "cell_type": "code",
   "execution_count": null,
   "id": "3cfbd865-b179-4a0f-abf0-fc3396c68e1e",
   "metadata": {
    "tags": []
   },
   "outputs": [],
   "source": [
    "V0 = 207.4 # km / s\n",
    "M0 = 1 # 1e10 Msun\n",
    "R0 = 1 # kpc\n",
    "T0 = 4.715e-3 # Gyr"
   ]
  },
  {
   "cell_type": "code",
   "execution_count": null,
   "id": "399c1eec-45e6-4e2b-a8fe-6f9c010d69a4",
   "metadata": {
    "tags": []
   },
   "outputs": [],
   "source": [
    "#agama.setUnits(mass=M0*1e10, length=R0, time=T0 * 1e3)\n",
    "agama.G"
   ]
  },
  {
   "cell_type": "code",
   "execution_count": null,
   "id": "652114d4-22a3-4d8e-8d7f-4baf28393602",
   "metadata": {
    "tags": []
   },
   "outputs": [],
   "source": [
    "T_END = 10 / T0\n",
    "times = np.linspace(0, T_END, 10_000)"
   ]
  },
  {
   "cell_type": "code",
   "execution_count": null,
   "id": "bdeb6104-a62d-48eb-8d54-422edbba01a3",
   "metadata": {
    "tags": []
   },
   "outputs": [],
   "source": [
    "def plot_orbit_x_y(o, **kwargs):\n",
    "    times, pos = o\n",
    "    plt.scatter(pos[:, 0], pos[:, 1], s=2, c=times, **kwargs)\n",
    "    plt.gca().set_aspect(1)\n",
    "    plt.xlabel(\"x / kpc\")\n",
    "    plt.ylabel(\"y / kpc\")\n",
    "    plt.show()\n"
   ]
  },
  {
   "cell_type": "code",
   "execution_count": null,
   "id": "fd8f6c2f-2db8-4c4a-9817-682542e1fe91",
   "metadata": {
    "tags": []
   },
   "outputs": [],
   "source": [
    "def plot_orbit_r_t(o, **kwargs):\n",
    "    times, pos = o\n",
    "    r = np.sqrt(np.sum(pos[:, 0:3] ** 2, axis=1) )\n",
    "    plt.scatter(times * T0, r, c=times, s=2, **kwargs)\n",
    "    \n",
    "    print(\"peri : \", np.min(r))\n",
    "    print(\"apo : \", np.max(r))\n",
    "    plt.xlabel(\"time / Gyr\")\n",
    "    plt.ylabel(\"r / kpc\")\n",
    "    \n",
    "    plt.show()\n"
   ]
  },
  {
   "cell_type": "code",
   "execution_count": null,
   "id": "c8b47c2e-769e-4b0d-ba4b-948143b513da",
   "metadata": {
    "tags": []
   },
   "outputs": [],
   "source": [
    "def plot_orbit_R_z(o, **kwargs):\n",
    "    times, pos = o\n",
    "    R = np.sqrt(np.sum(pos[:, 0:2] ** 2, axis=1) )\n",
    "    z = pos[:, 2]\n",
    "    plt.scatter(R, z, c=times, s=2, **kwargs)\n",
    "    \n",
    "    plt.xlim(0)\n",
    "    plt.gca().set_aspect(1)\n",
    "    plt.xlabel(\"R / kpc\")\n",
    "    plt.ylabel(\"z / kpc\")\n",
    "    plt.show()\n"
   ]
  },
  {
   "cell_type": "code",
   "execution_count": null,
   "id": "f4a9c935-7bac-4f68-afb8-762010e47832",
   "metadata": {
    "tags": []
   },
   "outputs": [],
   "source": [
    "def A_NFW(c):\n",
    "    return (np.log(1+c) - c/(1+c))\n",
    "\n",
    "def R200_NFW(M200):\n",
    "    r = ( 3*M200 / (4*np.pi * 200*ρ_c))**(1/3)\n",
    "    return r.to(\"kpc\")"
   ]
  },
  {
   "cell_type": "code",
   "execution_count": null,
   "id": "e57c02a9-5d4a-426a-bb6b-c879bf1f2a71",
   "metadata": {
    "tags": []
   },
   "outputs": [],
   "source": [
    "def Ms_NFW(M200, c):\n",
    "    return M200 / A_NFW(c)  "
   ]
  },
  {
   "cell_type": "code",
   "execution_count": null,
   "id": "ff76436e-0357-43cb-802d-2dfa89853a03",
   "metadata": {
    "tags": []
   },
   "outputs": [],
   "source": [
    "R200_NFW(1.04*M0 * 1e10*u.Msun) / 12.5"
   ]
  },
  {
   "cell_type": "code",
   "execution_count": null,
   "id": "9e4364b8-d75d-4c60-92f4-0916a725804f",
   "metadata": {
    "tags": []
   },
   "outputs": [],
   "source": [
    "def find_M_c(Ms, Rs, c_i=13):\n",
    "    c = c_i\n",
    "    for i in range(100):\n",
    "        M200 = Ms * A_NFW(c)\n",
    "        Rv = R200_NFW(M200)\n",
    "        c = (Rv/Rs).decompose()\n",
    "    return c, M200"
   ]
  },
  {
   "cell_type": "markdown",
   "id": "e39f334e-f658-4500-9d60-e0faf5c5f5a5",
   "metadata": {
    "tags": []
   },
   "source": [
    "# Sky Positions"
   ]
  },
  {
   "cell_type": "code",
   "execution_count": null,
   "id": "128af8e5-0288-41ec-9d1f-52aac96bc227",
   "metadata": {
    "tags": []
   },
   "outputs": [],
   "source": [
    "sculptor = coord.SkyCoord(\n",
    "    ra=15.0183*u.degree, \n",
    "    dec= -33.7186*u.degree, \n",
    "    distance=83.2*u.kpc, \n",
    "    radial_velocity=111.4*kms,\n",
    "    pm_ra_cosdec=0.099*u.mas/u.year, \n",
    "    pm_dec=-0.160*u.mas/u.year\n",
    ")                 "
   ]
  },
  {
   "cell_type": "code",
   "execution_count": null,
   "id": "fa345240-12ef-4f76-b57a-1140f091cc43",
   "metadata": {
    "tags": []
   },
   "outputs": [],
   "source": [
    "dwarf_galaxy = sculptor\n",
    "coord.galactocentric_frame_defaults.set(\"v4.0\")\n",
    "\n",
    "gc_frame = coord.Galactocentric()\n",
    "dwarf_galaxy_gc = dwarf_galaxy.transform_to(gc_frame)\n",
    "dwarf_galaxy_gc\n",
    "\n",
    "print(dwarf_galaxy_gc.cartesian.xyz)\n",
    "print(dwarf_galaxy_gc.velocity.d_xyz)\n",
    "\n",
    "x = dwarf_galaxy_gc.cartesian\n",
    "v = dwarf_galaxy_gc.velocity\n",
    "\n",
    "dwarf_galaxy_gc = coord.Galactocentric(x=x.x, y=x.y, z=x.z,\n",
    "    v_x=-v.d_x, v_y=-v.d_y, v_z=-v.d_z)\n",
    "dwarf_galaxy_gc"
   ]
  },
  {
   "cell_type": "code",
   "execution_count": null,
   "id": "6d47e7ef-bad0-470c-b0e9-15a4f5019f9b",
   "metadata": {
    "tags": []
   },
   "outputs": [],
   "source": [
    "ic = np.concatenate([dwarf_galaxy_gc.cartesian.xyz.value / R0, dwarf_galaxy_gc.velocity.d_xyz.value / V0])\n",
    "ic"
   ]
  },
  {
   "cell_type": "code",
   "execution_count": null,
   "id": "a94d3407-ab33-42f5-902b-53b481a3c402",
   "metadata": {
    "tags": []
   },
   "outputs": [],
   "source": [
    "gc_frame.galcen_v_sun"
   ]
  },
  {
   "cell_type": "markdown",
   "id": "5a2e8014-93b6-4e62-9302-b1a486ada4c8",
   "metadata": {},
   "source": [
    "in the case of sculptor, this results in a reversal in the sign of both proper motions."
   ]
  },
  {
   "cell_type": "code",
   "execution_count": null,
   "id": "04534a0d-b57a-409b-ad53-174f22d2ae08",
   "metadata": {
    "tags": []
   },
   "outputs": [],
   "source": [
    "def plot_pot(pot, z=0, **kwargs):\n",
    "    Rs = np.linspace(0.1, 20, 100) * u.kpc\n",
    "    z = z * u.kpc\n",
    "    phis = pot(Rs, z)\n",
    "    plt.plot(Rs, phis)\n",
    "\n",
    "def plot_pot_2d(pot, R_max=20, z_max=5, R_min=0.001, res=500, **kwargs):\n",
    "    plt.figure(figsize=(20, 7))\n",
    "    Rs = np.linspace(R_min, R_max, res) * u.kpc\n",
    "    zs = np.linspace(0, z_max, res) * u.kpc\n",
    "    phis = [gp.evaluatePotentials(pot, Rs, z) for z in zs]\n",
    "    plt.contourf(Rs, zs, phis, levels=round(np.sqrt(res)))\n",
    "    plt.colorbar()\n",
    "    plt.gca().set_aspect(1)\n",
    "    plt.xlabel(\"R / kpc\")\n",
    "    plt.ylabel(\"z / kpc\")\n",
    "    \n",
    "def plot_Vc(pot, R_max=60, R_min=0.01, res=300, **kwargs):\n",
    "    Rs = np.logspace(np.log10(R_min), np.log10(R_max), res)  * u.kpc\n",
    "    Vc = gp.calcRotcurve(pot, Rs, 0)\n",
    "    plt.plot(Rs, Vc, **kwargs)\n",
    "    plt.xlabel(r\"$R$ / kpc\")\n",
    "    plt.ylabel(r\"$V_{\\rm circ} / \\rm km\\,s^{-1}$\")\n",
    "    \n",
    "def plot_Kz(pot, R_max=9, R_min=4, z = 1.1*u.kpc, res=1000, **kwargs):\n",
    "    Rs = np.linspace(R_min, R_max, res) * u.kpc\n",
    "    Kz = [ -galpy_to_standard_force * gp.evaluatezforces(pot, r, z).value for r in Rs]\n",
    "    plt.plot(Rs,Kz, **kwargs)\n",
    "    plt.yscale(\"log\")\n",
    "    plt.ylabel(r\"Kz / ($2\\pi\\ G\\rm\\ M_\\odot / pc^2$)\")\n",
    "    plt.xlabel(r\"$R$ / kpc\")"
   ]
  },
  {
   "cell_type": "markdown",
   "id": "49eb4370-21b0-4711-aba8-ddf96dd85c63",
   "metadata": {},
   "source": [
    "## Agama setup"
   ]
  },
  {
   "cell_type": "markdown",
   "id": "3b73ba71-ef5b-449b-b4c5-053e741a60d1",
   "metadata": {},
   "source": [
    "# loading potentials"
   ]
  },
  {
   "cell_type": "code",
   "execution_count": null,
   "id": "703ef676-0922-450a-8421-108ce5662e8a",
   "metadata": {
    "tags": []
   },
   "outputs": [],
   "source": [
    "EP2020 = agama.Potential(file=\"../potentials/EP2020.ini\")"
   ]
  },
  {
   "cell_type": "code",
   "execution_count": null,
   "id": "9a15b39d-a8d8-4b7a-b46b-64099b6e4aa9",
   "metadata": {
    "tags": []
   },
   "outputs": [],
   "source": [
    "n = EP2020[3]"
   ]
  },
  {
   "cell_type": "code",
   "execution_count": null,
   "id": "4dc621bd-744d-454f-963b-0fba07e70f01",
   "metadata": {
    "tags": []
   },
   "outputs": [],
   "source": [
    "EP2020.Rperiapo([-5.31809, -9.4504, -82.5932, -0.0938908, -0.767999, 0.45474])"
   ]
  },
  {
   "cell_type": "code",
   "execution_count": null,
   "id": "432cfbab-84da-482c-b205-eeb3095b96e5",
   "metadata": {
    "tags": []
   },
   "outputs": [],
   "source": [
    "gp_MW14 = agama.Potential(file=\"../potentials/galpy_2014.ini\")"
   ]
  },
  {
   "cell_type": "code",
   "execution_count": null,
   "id": "524b5a51-e7a8-4744-88cf-75ab2937d2ba",
   "metadata": {
    "tags": []
   },
   "outputs": [],
   "source": [
    "mm11 = agama.Potential(file=\"../potentials/mcmillan11.ini\")\n",
    "mm17 = agama.Potential(file=\"../potentials/mcmillan17.ini\")\n",
    "bt08 = agama.Potential(file=\"../potentials/BT08.ini\")\n",
    "piffl14 = agama.Potential(file=\"../potentials/piffl_14.ini\")\n"
   ]
  },
  {
   "cell_type": "code",
   "execution_count": null,
   "id": "2d010e08-6ce4-403d-beea-2484ba30c4f0",
   "metadata": {
    "tags": []
   },
   "outputs": [],
   "source": [
    "def plot_orbit_in_pot(pot):\n",
    "    o = agama.orbit(ic=ic, time=T_END, potential=pot, trajsize=1000)\n",
    "    \n",
    "    \n",
    "    plot_orbit_r_t(o)\n",
    "    plot_orbit_R_z(o)\n",
    "    #plot_orbit_x_y(o)"
   ]
  },
  {
   "cell_type": "code",
   "execution_count": null,
   "id": "fb084e8f-e736-41f8-9551-c9e90a511640",
   "metadata": {
    "tags": []
   },
   "outputs": [],
   "source": [
    "plot_orbit_in_pot(EP2020)"
   ]
  },
  {
   "cell_type": "code",
   "execution_count": null,
   "id": "633f4885-fc97-463e-9571-a415f6d7f3a4",
   "metadata": {
    "tags": []
   },
   "outputs": [],
   "source": [
    "plot_orbit_in_pot(mm11)"
   ]
  },
  {
   "cell_type": "code",
   "execution_count": null,
   "id": "665a82cf-078e-4409-a469-85be4af990fa",
   "metadata": {
    "tags": []
   },
   "outputs": [],
   "source": [
    "plot_orbit_in_pot(mm17)"
   ]
  },
  {
   "cell_type": "code",
   "execution_count": null,
   "id": "62a84832-316b-4d02-866d-8d2381a2c27b",
   "metadata": {
    "tags": []
   },
   "outputs": [],
   "source": [
    "plot_orbit_in_pot(gp_MW14)"
   ]
  },
  {
   "cell_type": "code",
   "execution_count": null,
   "id": "b7b3c2de-bc3c-4186-a347-d5ac205a846c",
   "metadata": {
    "tags": []
   },
   "outputs": [],
   "source": [
    "plot_orbit_in_pot(bt08)"
   ]
  },
  {
   "cell_type": "code",
   "execution_count": null,
   "id": "39a239cd-e0fb-4859-8f5f-c3106378112c",
   "metadata": {
    "tags": []
   },
   "outputs": [],
   "source": [
    "plot_orbit_in_pot(piffl14)"
   ]
  },
  {
   "cell_type": "code",
   "execution_count": null,
   "id": "c63efcd2-27a7-46df-8049-ad7de07391c1",
   "metadata": {
    "tags": []
   },
   "outputs": [],
   "source": [
    "EP2020.enclosedMass(100)"
   ]
  },
  {
   "cell_type": "code",
   "execution_count": null,
   "id": "c0f31cfd-b070-496e-b8a5-4bbb89c437c5",
   "metadata": {
    "tags": []
   },
   "outputs": [],
   "source": [
    "R200_NFW(M200) / c"
   ]
  },
  {
   "cell_type": "code",
   "execution_count": null,
   "id": "5e74929c-0372-4824-8cbc-713fce602584",
   "metadata": {
    "tags": []
   },
   "outputs": [],
   "source": [
    "galpy14_bulge = gp.PowerSphericalPotentialwCutoff(amp=1*M0/u.kpc**3, alpha=1.8, rc=1.9*u.kpc)\n",
    "galpy14_bulge *= (0.5*M0 / galpy14_bulge.mass(60)).value\n",
    "galpy14_disk = MN75(amp=6.8*M0, a=3*u.kpc, b=0.28*u.kpc)\n",
    "\n",
    "galpy14_halo = NFW(amp=Ms, a=16*u.kpc)\n",
    "galpy14 = galpy14_bulge + galpy14_disk + galpy14_halo\n",
    "galpy14_heavy = galpy14_bulge + galpy14_disk + 2*galpy14_halo"
   ]
  },
  {
   "cell_type": "code",
   "execution_count": null,
   "id": "e0fff5d9-a81c-42ef-82c3-52c9e9f922df",
   "metadata": {
    "tags": []
   },
   "outputs": [],
   "source": [
    "galpy14_halo.mass(60*u.kpc) + galpy14_disk.mass(60*u.kpc) + galpy14_bulge.mass(60*u.kpc)"
   ]
  },
  {
   "cell_type": "code",
   "execution_count": null,
   "id": "588fa5ec-6aa7-48fa-9e78-ab549b188ca6",
   "metadata": {
    "tags": []
   },
   "outputs": [],
   "source": [
    "galpy14_halo.mass(16*u.kpc * c)"
   ]
  },
  {
   "cell_type": "code",
   "execution_count": null,
   "id": "cdf16552-890d-4b3a-a3c4-dbf4fbf7c0de",
   "metadata": {
    "tags": []
   },
   "outputs": [],
   "source": [
    "galpy14_bulge.mass(10)"
   ]
  },
  {
   "cell_type": "code",
   "execution_count": null,
   "id": "7ed2413b-12d8-47c5-9a56-ec116e1cf257",
   "metadata": {
    "tags": []
   },
   "outputs": [],
   "source": [
    "plot_Vc(galpy14, R_max=32)\n",
    "#plot_Vc(galpy14_heavy, R_max=32)\n",
    "\n",
    "plot_Vc(galpy14_bulge, R_max=32)\n",
    "plot_Vc(galpy14_disk, R_max=32)\n",
    "plot_Vc(galpy14_halo, R_max=32)"
   ]
  },
  {
   "cell_type": "code",
   "execution_count": null,
   "id": "c2e9ab61-fd9b-466c-beef-0ef02ec0637f",
   "metadata": {
    "tags": []
   },
   "outputs": [],
   "source": [
    "def mcmillan_bulge_rho(R, z):\n",
    "    α=1.8\n",
    "    r_0 = 0.075/Rgp # kpc\n",
    "    r_c = 2.1/Rgp # kpc\n",
    "    q = 0.5\n",
    "    \n",
    "    x = np.sqrt(R**2 + (z/q)**2)\n",
    "    return  1*u.Msun/u.pc**3 / (1 + x/r_0)**α * np.exp(-(x/r_c)**2) \n",
    "\n",
    "mcmillan_bulge_unnorm = gp.SCFPotential.from_density(mcmillan_bulge_rho, N=40, symmetry=\"axisymmetric\", a=0.5/Rgp, L=20)\n"
   ]
  },
  {
   "cell_type": "code",
   "execution_count": null,
   "id": "3c5146a4-26a5-4770-9134-400be56a3f51",
   "metadata": {
    "tags": []
   },
   "outputs": [],
   "source": [
    "A_mcmillan_bulge = (mcmillan_bulge_rho(0.5/Rgp, 0) / mcmillan_bulge_unnorm.dens(0.5*u.kpc, 0*u.kpc)).value\n"
   ]
  },
  {
   "cell_type": "code",
   "execution_count": null,
   "id": "1b5dfc34-348b-4de5-b747-cc59a15e2ba7",
   "metadata": {
    "tags": []
   },
   "outputs": [],
   "source": [
    "thetas = [0, np.pi/3, np.pi/2, np.pi*2/3, np.pi]\n",
    "Rs = np.linspace(0.01, 10, 1000) * u.kpc\n",
    "# test approximation\n",
    "for theta in thetas:\n",
    "    rs = Rs * np.cos(theta)\n",
    "    zs = Rs*np.sin(theta)\n",
    "    plt.plot(Rs,  A_mcmillan_bulge * mcmillan_bulge_unnorm.dens(rs, zs))\n",
    "    plt.plot(Rs,  mcmillan_bulge_rho(rs/u.kpc/Rgp, zs/u.kpc/Rgp))\n",
    "\n",
    "    plt.xscale(\"log\")\n",
    "    plt.yscale(\"log\")\n",
    "    plt.ylim(1e-10)\n",
    "    plt.show()"
   ]
  },
  {
   "cell_type": "code",
   "execution_count": null,
   "id": "08cfb9cc-8a1f-4db9-a931-978a2b61b37e",
   "metadata": {
    "tags": []
   },
   "outputs": [],
   "source": [
    "def mcmillan_disk(sigma, r, z):\n",
    "    return ExpDisk(amp=sigma / z / 2, hr=r, hz=z, )"
   ]
  },
  {
   "cell_type": "code",
   "execution_count": null,
   "id": "781fb3dc-ef34-4184-a3c3-d8935dc46199",
   "metadata": {
    "tags": []
   },
   "outputs": [],
   "source": [
    "mcmillan2011_thin = mcmillan_disk(816.6*Σ0, 2.90*u.kpc, 0.3*u.kpc)\n",
    "mcmillan2011_thick = mcmillan_disk(208*Σ0, 3.31*u.kpc, 0.9*u.kpc)\n",
    "mcmillan2011_bulge = A_mcmillan_bulge * 95.6 * mcmillan_bulge_unnorm \n",
    "\n",
    "\n",
    "rh = 20.2 * u.kpc\n",
    "rho_h = 0.00846*u.Msun/u.pc**3\n",
    "Ms = rho_h * 4*np.pi * rh**3 \n",
    "mcmillan2011_halo = NFW(amp=Ms, a=rh)\n",
    "\n",
    "mcmillan2011 = mcmillan2011_bulge + mcmillan2011_halo + mcmillan2011_thick + mcmillan2011_thin"
   ]
  },
  {
   "cell_type": "code",
   "execution_count": null,
   "id": "ef32bc28-2a69-4a87-a80e-3f34bdd2adbd",
   "metadata": {
    "tags": []
   },
   "outputs": [],
   "source": [
    "for theta in thetas:\n",
    "    rs = Rs * np.cos(theta)\n",
    "    zs = Rs*np.sin(theta)\n",
    "    plt.plot(Rs, mcmillan2011_bulge(rs, zs))\n",
    "    plt.plot(Rs, (EP2020_bulge)(rs, zs))\n",
    "    plt.show()"
   ]
  },
  {
   "cell_type": "markdown",
   "id": "7c442f04-a6ab-48e1-8bbb-f2278b47c5a3",
   "metadata": {
    "jp-MarkdownHeadingCollapsed": true,
    "tags": []
   },
   "source": [
    "## Chaos"
   ]
  },
  {
   "cell_type": "code",
   "execution_count": null,
   "id": "40ff39b8-4683-4305-89d0-96e1ff064f36",
   "metadata": {},
   "outputs": [],
   "source": [
    "def mcmillan_gas_rho_model(z_d, R_m, R_d):\n",
    "    def inner(R, z, phi=0):\n",
    "        return  1 /(4*z_d) * np.exp(-R_m/R - R / R_d) * np.cosh(z/(2*z_d))**-2\n",
    "    return inner\n",
    "\n",
    "\n",
    "h1_rho = mcmillan_gas_rho_model(0.085, 4, 7)\n",
    "h2_rho = mcmillan_gas_rho_model(0.045, 12, 1.5)\n",
    "\n",
    "# h1_rho = mcmillan_gas_rho_model(1, 4/7, 1)\n",
    "# h2_rho = mcmillan_gas_rho_model(1, 7/1.5, 1)\n"
   ]
  },
  {
   "cell_type": "code",
   "execution_count": null,
   "id": "98b45e61-e4ba-4818-8c24-600171a64638",
   "metadata": {
    "tags": []
   },
   "outputs": [],
   "source": [
    "rh = 4\n",
    "rd = 7\n",
    "r_z = 0.085\n",
    "\n",
    "\n",
    "def S(x):\n",
    "    x = np.array(x)\n",
    "    return np.where(x<=0, np.nan, np.exp( -rd/x - x/rh))\n",
    "\n",
    "def hz(z):\n",
    "    x = z / r_z\n",
    "    return np.cosh(x)**-2\n",
    "\n",
    "    \n",
    "def Hz(z):\n",
    "\n",
    "    x = z / r_z\n",
    "    return r_z**2 * (2*x + np.log(np.exp(-2*x) + 1))\n",
    "\n",
    "def dHz(z):\n",
    "\n",
    "    x = z/r_z\n",
    "    return r_z*(-2*np.exp(-2*x)/(np.exp(-2*x) + 1) + 2)\n",
    "\n",
    "def dSdz(x):\n",
    "    x = np.array(x)\n",
    "\n",
    "    return np.where(x<=0, np.nan, -(1/rh - rd/x**2)*np.exp(-rd/x - x/rh))\n",
    "\n",
    "def dS2dz2(x):\n",
    "    x = np.array(x)\n",
    "\n",
    "    return np.where(x<=0, np.nan,\n",
    "                    (1/rh - rd/x**2)**2*np.exp(-rd/x - x/rh) - 2*rd*np.exp(-rd/x - x/rh)/x**3\n",
    "\n",
    "                   )"
   ]
  },
  {
   "cell_type": "code",
   "execution_count": null,
   "id": "07a8227b-344a-47ca-948d-9b62e63daced",
   "metadata": {
    "tags": []
   },
   "outputs": [],
   "source": [
    "mcmillan_h1_unnorm = gp.DiskSCFPotential(dens=h1_rho, N=20,  L=20, a=7,  \n",
    "      Sigma={'type':'exp','h':1, 'Rhole':4/7},\n",
    "      hz={'type':'sech2','h':0.085},\n",
    "        )"
   ]
  },
  {
   "cell_type": "code",
   "execution_count": null,
   "id": "c5b79e93-2582-4d16-a111-039211184d6a",
   "metadata": {
    "tags": []
   },
   "outputs": [],
   "source": [
    "mcmillan_h2_unnorm = gp.DiskSCFPotential(dens=h2_rho, N=20,  L=20, a=1, \n",
    "      Sigma={'type':'exp','h':1, 'Rhole':12/1.5},\n",
    "      hz={'type':'sech2','h':0.045},\n",
    "        )"
   ]
  },
  {
   "cell_type": "code",
   "execution_count": null,
   "id": "3d13954e-818c-49ef-87ff-f2b4abad3eea",
   "metadata": {
    "tags": []
   },
   "outputs": [],
   "source": [
    "h1_rho(8, 0, 0)"
   ]
  },
  {
   "cell_type": "code",
   "execution_count": null,
   "id": "23558373-e25a-4c98-9b90-43058fb9ae0b",
   "metadata": {},
   "outputs": [],
   "source": [
    "A_mcmillan_h1 = (h1_rho(3, 0, 0) / mcmillan_h1_unnorm.dens(3*u.kpc, 0, 0*u.kpc))\n",
    "A_mcmillan_h2 = (h2_rho(3, 0, 0) / mcmillan_h2_unnorm.dens(3*u.kpc, 0, 0*u.kpc))"
   ]
  },
  {
   "cell_type": "code",
   "execution_count": null,
   "id": "a0c0b88a-3e63-4c29-8178-2c8c30e7fa71",
   "metadata": {
    "tags": []
   },
   "outputs": [],
   "source": [
    "zs = [0, 0.5, 1, 3, 10, 100] *u.kpc* 0.085\n",
    "# test approximation\n",
    "for z in zs:\n",
    "    plt.plot(Rs,  A_mcmillan_h1 * mcmillan_h1_unnorm.dens(Rs, z))\n",
    "    plt.plot(Rs,  h1_rho(Rs.value, z.value, 3))\n",
    "    plt.xscale(\"log\")\n",
    "    plt.yscale(\"log\")\n",
    "    plt.ylim(1e-10)\n",
    "    plt.show()"
   ]
  },
  {
   "cell_type": "code",
   "execution_count": null,
   "id": "086649da-9ef1-4f38-8149-66c823aac4ac",
   "metadata": {
    "tags": []
   },
   "outputs": [],
   "source": [
    "zs = [0, 0.5, 1, 3, 10, 100] * u.kpc\n",
    "# test approximation\n",
    "for z in zs:\n",
    "    plt.plot(Rs,  A_mcmillan_h2 * mcmillan_h2_unnorm.dens(Rs, z))\n",
    "    plt.plot(Rs,  h2_rho(Rs.value, z.value, 3))\n",
    "    plt.xscale(\"log\")\n",
    "    plt.yscale(\"log\")\n",
    "    plt.ylim(1e-10)\n",
    "    plt.show()"
   ]
  },
  {
   "cell_type": "code",
   "execution_count": null,
   "id": "58ac79b3-3e67-41f1-b5d0-e7b171dce96f",
   "metadata": {},
   "outputs": [],
   "source": [
    "A_mcmillan_h1 = (h1_rho(3, 0, 0) / mcmillan_h1_unnorm.dens(3*u.kpc, 0, 0*u.kpc))\n",
    "A_mcmillan_h2 = (h2_rho(3, 0, 0) / mcmillan_h2_unnorm.dens(3*u.kpc, 0, 0*u.kpc))"
   ]
  },
  {
   "cell_type": "markdown",
   "id": "9238d4e9-369b-4939-a283-a0702d9111fe",
   "metadata": {},
   "source": [
    "## normal"
   ]
  },
  {
   "cell_type": "code",
   "execution_count": null,
   "id": "a01d608b-ab1f-43ae-8160-da94501b79f8",
   "metadata": {
    "tags": []
   },
   "outputs": [],
   "source": [
    "mcmillan2017_bulge = A_mcmillan_bulge * 95.6 * mcmillan_bulge_unnorm \n",
    "# mcmillan2017_h1 = 53.1*A_mcmillan_h1 * mcmillan_h1_unnorm\n",
    "# mcmillan2017_h2 = 2380*A_mcmillan_h2 * mcmillan_h2_unnorm\n",
    "\n",
    "mcmillan2017_h1 = gp.MN3ExponentialDiskPotential(amp=1/3 *53.1*Σ0/(0.085*u.kpc), hr=7*u.kpc, hz=0.085*u.kpc)\n",
    "mcmillan2017_h2 = gp.MN3ExponentialDiskPotential(amp=1/56 *2380*Σ0/(0.045*u.kpc), hr=1.5*u.kpc, hz=0.045*u.kpc)\n",
    "\n",
    "mcmillan2017_h1b = gp.RazorThinExponentialDiskPotential(amp=35.7*Σ0, hr=7*u.kpc)\n",
    "mcmillan2017_h2b = gp.RazorThinExponentialDiskPotential(amp=11.9*Σ0, hr=1.5*u.kpc)\n",
    "\n",
    "\n",
    "mcmillan2017_thin = mcmillan_disk(886.7*Σ0, 2.53*u.kpc, 0.3*u.kpc)\n",
    "mcmillan2017_thick = mcmillan_disk(156*Σ0, 3.38*u.kpc, 0.9*u.kpc)\n",
    "\n",
    "\n",
    "rh = 18.6 * u.kpc\n",
    "rho_h = 0.0093*u.Msun/u.pc**3\n",
    "Ms = rho_h * 4*np.pi * rh**3 \n",
    "mcmillan2017_halo = NFW(amp=Ms, a=rh)\n",
    "\n",
    "mcmillan2017 = (\n",
    "    mcmillan2017_bulge \n",
    "    + mcmillan2017_halo \n",
    "    + mcmillan2017_thick \n",
    "    + mcmillan2017_thin \n",
    "    + mcmillan2017_h1\n",
    "    + mcmillan2017_h2\n",
    ")\n",
    "\n",
    "mcmillan2017_nogas = (\n",
    "    mcmillan2017_bulge \n",
    "    + mcmillan2017_halo \n",
    "    + mcmillan2017_thick \n",
    "    + mcmillan2017_thin \n",
    ")\n",
    "\n"
   ]
  },
  {
   "cell_type": "code",
   "execution_count": null,
   "id": "827abcc0-c532-4486-b134-094e90a70d26",
   "metadata": {
    "tags": []
   },
   "outputs": [],
   "source": [
    "mcmillan2017_bulge.mass(100*u.kpc)"
   ]
  },
  {
   "cell_type": "code",
   "execution_count": null,
   "id": "48ea4a54-59fc-4110-8368-247a2ecb9ed4",
   "metadata": {
    "tags": []
   },
   "outputs": [],
   "source": [
    "(2*np.pi * 886.7*Σ0 * ( 2.53*u.kpc)**2).to(\"Msun\")"
   ]
  },
  {
   "cell_type": "code",
   "execution_count": null,
   "id": "f445f360-e048-41f2-b4a4-259d2bbdf10f",
   "metadata": {
    "tags": []
   },
   "outputs": [],
   "source": [
    "0.862 + 3.566 + 1.119 # stellar mass is correct"
   ]
  },
  {
   "cell_type": "code",
   "execution_count": null,
   "id": "2615d7c5-c611-443c-9f63-c5fd9a95e996",
   "metadata": {
    "tags": []
   },
   "outputs": [],
   "source": [
    "mcmillan2017_halo.dens(8.2*u.kpc, 0)"
   ]
  },
  {
   "cell_type": "code",
   "execution_count": null,
   "id": "95621e52-9963-4b5a-a09d-4ebae49c3a4c",
   "metadata": {
    "tags": []
   },
   "outputs": [],
   "source": [
    "gp.evaluatezforces(mcmillan2017, 8.2*u.kpc, z=1.1*u.kpc) * galpy_to_standard_force"
   ]
  },
  {
   "cell_type": "code",
   "execution_count": null,
   "id": "803c484a-d059-4726-9823-84a36b513aec",
   "metadata": {
    "tags": []
   },
   "outputs": [],
   "source": [
    "sum([a.mass(100*u.kpc) for a in mcmillan2017])"
   ]
  },
  {
   "cell_type": "code",
   "execution_count": null,
   "id": "8ce246c9-35b8-4ffe-8647-3f44228d63dc",
   "metadata": {
    "tags": []
   },
   "outputs": [],
   "source": [
    "(np.pi * 2 * (156*Σ0) * (3.38*u.kpc)**2).to(\"Msun\")"
   ]
  },
  {
   "cell_type": "code",
   "execution_count": null,
   "id": "0c17e8d6-3194-448c-9b99-83830b140ea1",
   "metadata": {
    "tags": []
   },
   "outputs": [],
   "source": [
    "mcmillan2017_thick.mass(1000)"
   ]
  },
  {
   "cell_type": "code",
   "execution_count": null,
   "id": "9eb34087-df49-4e2c-a8fe-edbcd2f33dee",
   "metadata": {
    "tags": []
   },
   "outputs": [],
   "source": [
    "(2*np.pi * 53.1*Σ0 * (7*u.kpc)**2).to(\"Msun\")"
   ]
  },
  {
   "cell_type": "code",
   "execution_count": null,
   "id": "dff43d25-b354-4ea4-80e2-e53f38e80d4d",
   "metadata": {},
   "outputs": [],
   "source": [
    "mcmillan2017_h1.mass(50*u.kpc)"
   ]
  },
  {
   "cell_type": "code",
   "execution_count": null,
   "id": "06fe03df",
   "metadata": {
    "tags": []
   },
   "outputs": [],
   "source": [
    "mcmillan2017_h2.mass(10*u.kpc)"
   ]
  },
  {
   "cell_type": "code",
   "execution_count": null,
   "id": "1994c87b-e1e4-423c-9e82-e1c5b77c8698",
   "metadata": {
    "tags": []
   },
   "outputs": [],
   "source": [
    "mcmillan2017_bulge.mass(10000*u.kpc)"
   ]
  },
  {
   "cell_type": "code",
   "execution_count": null,
   "id": "c09f8fa4-783b-4464-876c-6ff88ea16390",
   "metadata": {
    "tags": []
   },
   "outputs": [],
   "source": [
    "mcmillan2017_h1b.mass(1000)"
   ]
  },
  {
   "cell_type": "code",
   "execution_count": null,
   "id": "4b9c369a-e577-4ba2-8e78-b1151ad30874",
   "metadata": {
    "tags": []
   },
   "outputs": [],
   "source": [
    "mcmillan2017_h2b.mass(10000)"
   ]
  },
  {
   "cell_type": "code",
   "execution_count": null,
   "id": "5938a591-ceb4-49f6-8a5b-effa9f266f85",
   "metadata": {
    "tags": []
   },
   "outputs": [],
   "source": [
    "Rs = np.linspace(0, 20, 1000)*u.kpc\n",
    "plt.plot(Rs, mcmillan2017_h1.dens(Rs, 0*u.kpc))\n",
    "plt.plot(Rs, mcmillan2017_h2.dens(Rs, 0*u.kpc))\n",
    "\n",
    "plt.yscale(\"log\")"
   ]
  },
  {
   "cell_type": "code",
   "execution_count": null,
   "id": "be959535-273f-49ba-a165-47c44ac99cd1",
   "metadata": {
    "tags": []
   },
   "outputs": [],
   "source": [
    "plot_Vc(mcmillan2017, label=\"thick\")\n",
    "plot_Vc(mcmillan2017_nogas, label=\"thick\")\n"
   ]
  },
  {
   "cell_type": "code",
   "execution_count": null,
   "id": "adc6cf48-99d1-4534-bebd-0ae0eaa14c33",
   "metadata": {},
   "outputs": [],
   "source": [
    "plot_Vc(mcmillan2017_thick, label=\"thick\")\n",
    "plot_Vc(mcmillan2017_thin, label=\"thin\")\n",
    "\n",
    "\n",
    "plot_Vc(mcmillan2017_h1, label=\"h1\")\n",
    "plot_Vc(mcmillan2017_h1b, )\n",
    "\n",
    "plot_Vc(mcmillan2017_h2,label=\"h2\")\n",
    "arya.Legend(loc=-1)\n"
   ]
  },
  {
   "cell_type": "code",
   "execution_count": null,
   "id": "b50f74bd-78e5-4ba6-a250-7bd087ba0bf3",
   "metadata": {
    "tags": []
   },
   "outputs": [],
   "source": [
    "Mp = 2.32e7*u.Msun\n",
    "pouliasis17_bulge = Plummer(amp=460*Mp, b=0.3*u.kpc)\n",
    "pouliasis17_thin = MN75(amp=1700*Mp, a=5.3*u.kpc, b=0.25*u.kpc)\n",
    "pouliasis17_thick = MN75(amp=1700*Mp, a=2.6*u.kpc, b=0.8*u.kpc)\n",
    "ah = 14*u.kpc\n",
    "Mh = 6000*Mp\n",
    "pouliasis17_halo = 2*NFW(amp=Mh, a=ah) + gp.TwoPowerSphericalPotential(alpha=0, beta=2, amp=Mh, a=ah)\n",
    "\n",
    "pouliasis17 = pouliasis17_bulge + pouliasis17_thin + pouliasis17_thick + pouliasis17_halo"
   ]
  },
  {
   "cell_type": "code",
   "execution_count": null,
   "id": "e43676d0-8d7c-4703-a1fa-4e843d58b994",
   "metadata": {
    "tags": []
   },
   "outputs": [],
   "source": [
    "pouliasis17b_thin = MN75(amp=1600*Mp, a=4.8*u.kpc, b=0.25*u.kpc)\n",
    "pouliasis17b_thick = MN75(amp=1700*Mp, a=2.0*u.kpc, b=0.8*u.kpc)\n",
    "ah = 14*u.kpc\n",
    "Mh = 9000*Mp\n",
    "pouliasis17b_halo = 2*NFW(amp=Mh, a=ah) + gp.TwoPowerSphericalPotential(alpha=0, beta=2, amp=Mh, a=ah)\n",
    "\n",
    "pouliasis17b = pouliasis17b_thin + pouliasis17b_thick + pouliasis17b_halo"
   ]
  },
  {
   "cell_type": "markdown",
   "id": "5e96d5fc-e30e-45ac-ba62-efee518bf4c5",
   "metadata": {
    "tags": []
   },
   "source": [
    "builds on pouliasis but with NFW halo and more recent (cephied) data. Very close to galpy."
   ]
  },
  {
   "cell_type": "code",
   "execution_count": null,
   "id": "89b254b1-d224-44d6-ad36-9ef80d2f22ee",
   "metadata": {
    "tags": []
   },
   "outputs": [],
   "source": [
    "R200_NFW(M200) / c"
   ]
  },
  {
   "cell_type": "code",
   "execution_count": null,
   "id": "ab5dd278-b7ac-48a8-9df1-2be92cdd456d",
   "metadata": {
    "tags": []
   },
   "outputs": [],
   "source": [
    "M200 = 66.3*M0\n",
    "c = 12.36\n",
    "Ms = Ms_NFW( M200, c)\n",
    "\n",
    "Rs = 14.45*u.kpc\n",
    "Ms"
   ]
  },
  {
   "cell_type": "code",
   "execution_count": null,
   "id": "d10188b2-a7e4-4a66-b3fd-7e59749a7609",
   "metadata": {
    "tags": []
   },
   "outputs": [],
   "source": [
    "find_M_c(Ms, Rs)"
   ]
  },
  {
   "cell_type": "code",
   "execution_count": null,
   "id": "5d57e964-c258-4c37-9c35-2591d3fe702f",
   "metadata": {
    "tags": []
   },
   "outputs": [],
   "source": [
    "M200 = 6.749*M0\n",
    "c = 12.7988\n",
    "Ms = Ms_NFW(M200, c)"
   ]
  },
  {
   "cell_type": "code",
   "execution_count": null,
   "id": "6a3ece86-15ec-4507-a33f-e9d6d434ac10",
   "metadata": {
    "tags": []
   },
   "outputs": [],
   "source": [
    "Ms"
   ]
  },
  {
   "cell_type": "code",
   "execution_count": null,
   "id": "4083bfba-a02d-4b37-b081-b25f78984ed8",
   "metadata": {
    "tags": []
   },
   "outputs": [],
   "source": [
    "ablimit_c = {\n",
    "    \"halo\": NFW(amp=Ms, a=Rs),\n",
    "    \"disk\": pouliasis17_thick + pouliasis17_thin,\n",
    "    \"bulge\": pouliasis17_bulge,\n",
    "}\n",
    "\n",
    "ablimit20a = [val for key, val in ablimit_c.items()]\n",
    "\n",
    "\n"
   ]
  },
  {
   "cell_type": "code",
   "execution_count": null,
   "id": "fbce4c13-4776-4073-bb23-8f846149f2ec",
   "metadata": {
    "tags": []
   },
   "outputs": [],
   "source": [
    "M200 = 82.2*M0\n",
    "c = 13.04\n",
    "Ms = Ms_NFW(M200, c)\n",
    "ablimit_b_comp = {\n",
    "    \"halo\": NFW(amp=Ms, a=14.71*u.kpc),\n",
    "    \"disk\": pouliasis17_thick + pouliasis17_thin,\n",
    "    \"bulge\": pouliasis17_bulge,\n",
    "}\n",
    "\n",
    "ablimit20b = [val for key, val in ablimit_b_comp.items()]\n"
   ]
  },
  {
   "cell_type": "code",
   "execution_count": null,
   "id": "dc5fede9-ff41-4781-9d86-608777f75a2d",
   "metadata": {
    "tags": []
   },
   "outputs": [],
   "source": [
    "R200_NFW(M200) / c"
   ]
  },
  {
   "cell_type": "code",
   "execution_count": null,
   "id": "2e9aeef3-d311-4f07-ba33-9ca7e90d6a1c",
   "metadata": {
    "tags": []
   },
   "outputs": [],
   "source": [
    "plot_Vc(ablimit_c[\"halo\"])\n",
    "plot_Vc(galpy14_halo)"
   ]
  },
  {
   "cell_type": "code",
   "execution_count": null,
   "id": "44a204fe-8aa5-4a7f-83fd-3547537c9062",
   "metadata": {
    "tags": []
   },
   "outputs": [],
   "source": [
    "plot_Vc(ablimit_b_comp[\"halo\"])\n",
    "plot_Vc(1.2*galpy14_halo)"
   ]
  },
  {
   "cell_type": "code",
   "execution_count": null,
   "id": "b8f0cd20-5de0-414b-b3c6-3e3fbdebee8e",
   "metadata": {
    "tags": []
   },
   "outputs": [],
   "source": [
    "4*np.pi * M0 / (207.0*u.kpc)**3"
   ]
  },
  {
   "cell_type": "code",
   "execution_count": null,
   "id": "c497bd0d-2aa5-48d1-83ad-35ee57080877",
   "metadata": {
    "tags": []
   },
   "outputs": [],
   "source": [
    "shen22_halo = gp.PowerSphericalPotential(amp=0.2275*M0, r1=1*u.kpc, alpha=2+0.43)\n",
    "\n",
    "\n",
    "c=12\n",
    "R200=207*u.kpc\n",
    "Ms = Ms_NFW(105*M0, c) # is 95 in paper but not described well...\n",
    "shen22_halo_b = NFW(amp=Ms, a=R200/c)"
   ]
  },
  {
   "cell_type": "code",
   "execution_count": null,
   "id": "7576e748-efeb-4e35-b0d5-c77b7079c034",
   "metadata": {},
   "outputs": [],
   "source": [
    "conv.mass_in_1010msol(vo=Vgp, ro=Rgp)"
   ]
  },
  {
   "cell_type": "code",
   "execution_count": null,
   "id": "627ce666-81ed-415a-9b0f-30028478f749",
   "metadata": {
    "tags": []
   },
   "outputs": [],
   "source": [
    "shen22_halo.mass(250*u.kpc) / M0"
   ]
  },
  {
   "cell_type": "code",
   "execution_count": null,
   "id": "cc71c0ee-ea5b-4f62-b118-3a0998280e27",
   "metadata": {
    "tags": []
   },
   "outputs": [],
   "source": [
    "shen22_halo_b.mass(R200) "
   ]
  },
  {
   "cell_type": "code",
   "execution_count": null,
   "id": "025fe5d4-54fd-4a78-8596-559aa6ca91c5",
   "metadata": {},
   "outputs": [],
   "source": [
    "shen22_halo.mass(10*u.kpc) / M0"
   ]
  },
  {
   "cell_type": "code",
   "execution_count": null,
   "id": "f696a61f-b77c-4bc9-ab24-af28df406600",
   "metadata": {},
   "outputs": [],
   "source": [
    "shen22_halo.mass(100*u.kpc) / M0"
   ]
  },
  {
   "cell_type": "code",
   "execution_count": null,
   "id": "a50f6442",
   "metadata": {
    "tags": []
   },
   "outputs": [],
   "source": [
    "shen22_halo.mass(250*u.kpc) / M0"
   ]
  },
  {
   "cell_type": "code",
   "execution_count": null,
   "id": "56e53502-bb65-4ff2-af41-e77666b3f7f0",
   "metadata": {
    "tags": []
   },
   "outputs": [],
   "source": [
    "Rs = np.linspace(10, 250, 1000) * u.kpc"
   ]
  },
  {
   "cell_type": "code",
   "execution_count": null,
   "id": "e36f9947-f067-4032-a358-a9310b3276d4",
   "metadata": {
    "tags": []
   },
   "outputs": [],
   "source": [
    "plt.plot(Rs, [shen22_halo.mass(R) / M0 for R in Rs])\n",
    "plt.plot(Rs, [shen22_halo_b.mass(R) / M0 for R in Rs])"
   ]
  },
  {
   "cell_type": "code",
   "execution_count": null,
   "id": "1d786212-a99e-4043-a34e-c5440ac05d64",
   "metadata": {
    "tags": []
   },
   "outputs": [],
   "source": [
    "plot_Vc(shen22_halo, R_min=10)\n",
    "plot_Vc(galpy14)\n",
    "plot_Vc(shen22_halo_b, R_min=10)"
   ]
  },
  {
   "cell_type": "code",
   "execution_count": null,
   "id": "949cf43a-b86d-44b4-b4d9-41c2f1762fa6",
   "metadata": {
    "tags": []
   },
   "outputs": [],
   "source": [
    "nitschai_halo = gp.TwoPowerTriaxialPotential(amp=41.1*M0, alpha=1.53, beta=3, a=16.8*u.kpc, c=1.14)\n",
    "nitschai_halo_b = gp.TwoPowerSphericalPotential(amp=44.1*M0, alpha=1.53, beta=3, a=16.8*u.kpc)"
   ]
  },
  {
   "cell_type": "code",
   "execution_count": null,
   "id": "d20e9c4d-704d-41ea-ad87-1bf305751b34",
   "metadata": {
    "tags": []
   },
   "outputs": [],
   "source": [
    "Mh = nitschai_halo.mass(8.2*u.kpc)"
   ]
  },
  {
   "cell_type": "code",
   "execution_count": null,
   "id": "8e836d28-56ac-4833-a30f-0170533b424b",
   "metadata": {
    "tags": []
   },
   "outputs": [],
   "source": [
    "nitschai_halo.dens(8.2*u.kpc, 0*u.kpc)"
   ]
  },
  {
   "cell_type": "code",
   "execution_count": null,
   "id": "66639707-1a67-42da-9ac4-0214b405e9f2",
   "metadata": {
    "tags": []
   },
   "outputs": [],
   "source": [
    "Mh / (Mh + mcmillan2017_halo.mass(8.2*u.kpc) + mcmillan2017_thick.mass(8.2*u.kpc) +  mcmillan2017_thin.mass(8.2*u.kpc))"
   ]
  },
  {
   "cell_type": "code",
   "execution_count": null,
   "id": "0293e856-f039-429b-9eee-77af80c86a76",
   "metadata": {
    "tags": []
   },
   "outputs": [],
   "source": [
    "plot_Vc(nitschai_halo)\n",
    "plot_Vc(nitschai_halo_b)\n",
    "\n",
    "plot_Vc(EP2020_halo)"
   ]
  },
  {
   "cell_type": "code",
   "execution_count": null,
   "id": "9c9c5387-7ed0-4c48-9d4d-6bb4253614ae",
   "metadata": {
    "tags": []
   },
   "outputs": [],
   "source": [
    "nitschai = nitschai_halo + mcmillan2017_bulge + mcmillan2017_thick + mcmillan2017_thick + mcmillan2017_h1 + mcmillan2017_h2\n",
    "nitschai_b = nitschai_halo_b + mcmillan2017_bulge + mcmillan2017_thick + mcmillan2017_thick + mcmillan2017_h1 + mcmillan2017_h2"
   ]
  },
  {
   "cell_type": "code",
   "execution_count": null,
   "id": "4f00752f-9b69-414f-8eee-e61412fad6d3",
   "metadata": {
    "tags": []
   },
   "outputs": [],
   "source": [
    "mcmillan2017_thin.mass(100)"
   ]
  },
  {
   "cell_type": "code",
   "execution_count": null,
   "id": "6b5d5f03-2c0c-4fb5-bcd1-1c98c1967e24",
   "metadata": {
    "tags": []
   },
   "outputs": [],
   "source": [
    "mcmillan2017_h2b.surfdens(1, 0)"
   ]
  },
  {
   "cell_type": "code",
   "execution_count": null,
   "id": "0e76eba2-00d2-4e87-bd0d-47a908455b70",
   "metadata": {
    "tags": []
   },
   "outputs": [],
   "source": [
    "(mcmillan2017_thick.dens(1, 0) + mcmillan2017_thin.dens(1, 0)) / (0.3*u.Msun/u.Lsun) / (1.12)"
   ]
  },
  {
   "cell_type": "code",
   "execution_count": null,
   "id": "ab8f8021-6c8e-4d89-b7ed-2fbaad9ef139",
   "metadata": {
    "tags": []
   },
   "outputs": [],
   "source": [
    "A_disk = 0.056 / 0.2"
   ]
  },
  {
   "cell_type": "code",
   "execution_count": null,
   "id": "6b4f32e7-7ba7-4741-9fbd-9523fc7935b3",
   "metadata": {
    "tags": []
   },
   "outputs": [],
   "source": [
    "plot_Vc(nitschai, R_min=4, R_max=12)\n",
    "plot_Vc(mcmillan2017, R_min=4, R_max=12)\n",
    "\n",
    "plt.ylim(200, 250)"
   ]
  },
  {
   "cell_type": "code",
   "execution_count": null,
   "id": "0a0fab14-f4da-4d6d-abb8-7293135e9c39",
   "metadata": {
    "tags": []
   },
   "outputs": [],
   "source": [
    "plot_Vc(nitschai)\n",
    "plot_Vc(mcmillan2017) #only difference is halo\n"
   ]
  },
  {
   "cell_type": "code",
   "execution_count": null,
   "id": "c4e0044d-f5c1-41b4-b6ff-961ba9ba6274",
   "metadata": {
    "tags": []
   },
   "outputs": [],
   "source": [
    "Ms = 105*M0\n",
    "r_s = 20.2*u.kpc\n",
    "heavy_halo = NFW(amp=Ms, a=r_s)\n",
    "find_M_c(Ms, r_s)"
   ]
  },
  {
   "cell_type": "code",
   "execution_count": null,
   "id": "52d877cc-11bd-4093-8f61-d31d12059281",
   "metadata": {
    "tags": []
   },
   "outputs": [],
   "source": [
    "plot_Vc(2*galpy14_halo)\n",
    "plot_Vc(heavy_halo)"
   ]
  },
  {
   "cell_type": "code",
   "execution_count": null,
   "id": "cd4d9f6e-7e53-41c0-a373-0496d24eadd6",
   "metadata": {
    "tags": []
   },
   "outputs": [],
   "source": [
    "Ms = 60*M0\n",
    "r_s = 20.2*u.kpc\n",
    "light_halo = NFW(amp=Ms, a=r_s)\n",
    "find_M_c(Ms, r_s)"
   ]
  },
  {
   "cell_type": "code",
   "execution_count": null,
   "id": "fe2f1a88-c28f-4c60-ab79-c3f5f3b9d927",
   "metadata": {
    "tags": []
   },
   "outputs": [],
   "source": [
    "plot_Vc(galpy14_halo)\n",
    "plot_Vc(light_halo)"
   ]
  },
  {
   "cell_type": "code",
   "execution_count": null,
   "id": "2b5e64d1-7a7f-49c4-bef7-231f6cffbebd",
   "metadata": {
    "tags": []
   },
   "outputs": [],
   "source": [
    "Ms = 130*M0\n",
    "r_s = 33*u.kpc\n",
    "me_flat_halo =  NFW(amp=Ms, a=r_s)\n",
    "me_flat = EP2020_thin + EP2020_thick + EP2020_bulge + me_flat_halo\n",
    "\n",
    "find_M_c(Ms, r_s)"
   ]
  },
  {
   "cell_type": "code",
   "execution_count": null,
   "id": "7f4e5366-a610-4e7e-bd67-d206ff56f620",
   "metadata": {
    "tags": []
   },
   "outputs": [],
   "source": [
    "plot_Vc(me_flat_halo)\n",
    "#plot_Vc(EP2020_halo)\n",
    "plot_Vc(pouliasis17_halo)"
   ]
  },
  {
   "cell_type": "code",
   "execution_count": null,
   "id": "f55f2f74-1563-4ebf-a258-a3f33e90c502",
   "metadata": {
    "tags": []
   },
   "outputs": [],
   "source": [
    "Ms = 45*M0\n",
    "r_s = 10*u.kpc\n",
    "me_steep_halo =  NFW(amp=Ms, a=r_s)\n",
    "\n",
    "me_steep = EP2020_thin + EP2020_thick + EP2020_bulge + me_steep_halo\n",
    "\n",
    "find_M_c(Ms, r_s)"
   ]
  },
  {
   "cell_type": "code",
   "execution_count": null,
   "id": "1f91a90c-5d58-4773-998a-abb8f66e2070",
   "metadata": {
    "tags": []
   },
   "outputs": [],
   "source": [
    "plot_Vc(me_steep_halo)\n",
    "#plot_Vc(EP2020_halo)\n",
    "plot_Vc(nitschai_halo)"
   ]
  },
  {
   "cell_type": "code",
   "execution_count": null,
   "id": "2f4f0cbc-f0f6-4a9b-8f0a-2421b6e323e8",
   "metadata": {
    "tags": []
   },
   "outputs": [],
   "source": [
    "plot_Vc(EP2020_halo)\n",
    "plot_Vc(me_flat_halo)\n",
    "plot_Vc(me_steep_halo)\n"
   ]
  },
  {
   "cell_type": "code",
   "execution_count": null,
   "id": "4f5fd41f-eb1b-4dec-8802-04ce58ae23f7",
   "metadata": {
    "tags": []
   },
   "outputs": [],
   "source": [
    "plot_Vc(EP2020_halo)\n",
    "plot_Vc(heavy_halo)\n",
    "plot_Vc(light_halo)"
   ]
  },
  {
   "cell_type": "code",
   "execution_count": null,
   "id": "bd91647e-beb1-44d8-8bfd-a9c18fd83ebf",
   "metadata": {
    "tags": []
   },
   "outputs": [],
   "source": [
    "plot_Vc(EP2020)\n",
    "plot_Vc(me_flat)\n",
    "plot_Vc(me_steep)\n"
   ]
  },
  {
   "cell_type": "code",
   "execution_count": null,
   "id": "eb9372be-8dba-47f9-9793-d0c4e462677e",
   "metadata": {
    "tags": []
   },
   "outputs": [],
   "source": [
    "heavy_mw = EP2020_bulge + EP2020_thin + EP2020_thick + heavy_halo\n",
    "light_mw = EP2020_bulge + EP2020_thin + EP2020_thick + light_halo"
   ]
  },
  {
   "cell_type": "code",
   "execution_count": null,
   "id": "7d75cc97-2204-46b7-ae54-064fd32cf31b",
   "metadata": {
    "tags": []
   },
   "outputs": [],
   "source": [
    "plot_Vc(me_steep)\n",
    "plot_Vc(nitschai)"
   ]
  },
  {
   "cell_type": "code",
   "execution_count": null,
   "id": "805c701a-8deb-4649-9057-b8030c748b8b",
   "metadata": {
    "tags": []
   },
   "outputs": [],
   "source": [
    "plot_Vc(me_flat)\n",
    "plot_Vc(pouliasis17)"
   ]
  },
  {
   "cell_type": "code",
   "execution_count": null,
   "id": "9ac82912-4737-41a9-a964-11cf875ae8f8",
   "metadata": {
    "tags": []
   },
   "outputs": [],
   "source": [
    "plot_Vc(EP2020)\n",
    "plot_Vc(heavy_mw)\n",
    "plot_Vc(light_mw)\n",
    "plot_Vc(me_steep)\n",
    "plot_Vc(me_flat)"
   ]
  },
  {
   "cell_type": "code",
   "execution_count": null,
   "id": "ed287b1b-24f8-4ab5-a0b3-10e6663dd819",
   "metadata": {
    "tags": []
   },
   "outputs": [],
   "source": [
    "potentials = {\n",
    "    \"EP20\": EP2020,\n",
    "    #\"mcmillan11\": mcmillan2011, # mcmillan is very close to EP2020\n",
    "    #\"mcmillan17\": mcmillan2017,\n",
    "    #\"mcmillan17b\": mcmillan2017_nogas,\n",
    "    \"galpy14\": galpy14,\n",
    "    # \"galpy14_heavy\": galpy14_heavy,\n",
    "    # \"pouliaris17\": pouliasis17,\n",
    "    # #\"pouliaris17b\": pouliasis17b,\n",
    "    # \"ablimit\": ablimit20a,\n",
    "    # \"flat\": me_flat,\n",
    "\n",
    "}"
   ]
  },
  {
   "cell_type": "code",
   "execution_count": null,
   "id": "068e92ac-d70a-4808-bb8e-6a0e2268d253",
   "metadata": {
    "tags": []
   },
   "outputs": [],
   "source": [
    "plot_Vc(me_flat)\n",
    "plot_Vc(EP2020)"
   ]
  },
  {
   "cell_type": "code",
   "execution_count": null,
   "id": "0defc564-e529-4eef-b2be-ba02c1a0ff63",
   "metadata": {
    "tags": []
   },
   "outputs": [],
   "source": [
    "plt.figure(figsize=(7, 3))\n",
    "for label, model in potentials.items():\n",
    "    plot_Vc(model, label=label, R_max=60)\n",
    "arya.Legend(loc=-1)\n",
    "plt.xscale(\"asinh\")\n",
    "\n",
    "ticks = [0,1, 10]\n",
    "plt.xticks(ticks, labels=ticks);\n",
    "\n",
    "mticks = np.arange(0, 1, 0.1).tolist() + np.arange(1, 10, 1).tolist() + np.arange(10, 60, 10).tolist()\n",
    "plt.xticks(mticks, minor=True);\n",
    "plt.savefig(\"literature_vcirc.pdf\")"
   ]
  },
  {
   "cell_type": "code",
   "execution_count": null,
   "id": "74960124-5dc5-4c61-8b14-c1ac5de01f8d",
   "metadata": {
    "tags": []
   },
   "outputs": [],
   "source": [
    "plot_Vc(EP2020)\n",
    "plot_Vc(heavy_mw)\n",
    "plot_Vc(light_mw)\n",
    "plot_Vc(me_steep)\n",
    "plot_Vc(me_flat)\n",
    "plt.xscale(\"asinh\")\n"
   ]
  },
  {
   "cell_type": "code",
   "execution_count": null,
   "id": "fb3a73b6-c4fd-4bda-91cb-e52a3abe38b5",
   "metadata": {
    "tags": []
   },
   "outputs": [],
   "source": [
    "# acceleration at 1.1 kpc above plane\n",
    "for label, model in potentials.items():\n",
    "    plot_Kz(model, label=label)\n",
    "arya.Legend(loc=-1)"
   ]
  },
  {
   "cell_type": "markdown",
   "id": "e96aaf7b-d99e-4456-b136-9394f4df8e5f",
   "metadata": {
    "tags": []
   },
   "source": [
    "## Components"
   ]
  },
  {
   "cell_type": "code",
   "execution_count": null,
   "id": "9f144888-95c8-41fc-94c7-c46f59cd2d20",
   "metadata": {
    "tags": []
   },
   "outputs": [],
   "source": [
    "my_potentials = {\n",
    "    \"fiducial\": EP2020,\n",
    "    \"light\": light_mw,\n",
    "    \"heavy\": heavy_mw,\n",
    "    \"flat\": me_flat,\n",
    "    \"steep\": me_steep\n",
    "}"
   ]
  },
  {
   "cell_type": "code",
   "execution_count": null,
   "id": "ea5fda84-ad84-4026-98a0-a003007e201b",
   "metadata": {
    "tags": []
   },
   "outputs": [],
   "source": [
    "for label, pot in my_potentials.items():\n",
    "    print(label, o.jr(pot))"
   ]
  },
  {
   "cell_type": "code",
   "execution_count": null,
   "id": "eed7f5dd-dda7-4783-a3f5-e7579252c3dd",
   "metadata": {
    "tags": []
   },
   "outputs": [],
   "source": [
    "o.jr(galpy14)"
   ]
  },
  {
   "cell_type": "code",
   "execution_count": null,
   "id": "1a796e4a-36c7-4f38-ad15-5679a02ecb8d",
   "metadata": {
    "tags": []
   },
   "outputs": [],
   "source": [
    "o.jr(galpy14_heavy)"
   ]
  },
  {
   "cell_type": "code",
   "execution_count": null,
   "id": "e3a6d46d-f737-45c0-8e0e-f00aea4bd281",
   "metadata": {
    "tags": []
   },
   "outputs": [],
   "source": [
    "o.jr(EP2020)"
   ]
  },
  {
   "cell_type": "code",
   "execution_count": null,
   "id": "593bb056-d5c0-47d0-85eb-61d7f313fe85",
   "metadata": {
    "tags": []
   },
   "outputs": [],
   "source": [
    "o.jr(ablimit20a)"
   ]
  },
  {
   "cell_type": "code",
   "execution_count": null,
   "id": "c230ee36-f6ff-449e-8492-0e603fe28440",
   "metadata": {
    "tags": []
   },
   "outputs": [],
   "source": [
    "o.jr(mcmillan2017)"
   ]
  },
  {
   "cell_type": "code",
   "execution_count": null,
   "id": "b31992a6-7156-40ef-8449-86eeaad23180",
   "metadata": {
    "tags": []
   },
   "outputs": [],
   "source": [
    "for label, pot in my_potentials.items():\n",
    "    print(label, o.jz(pot))"
   ]
  },
  {
   "cell_type": "code",
   "execution_count": null,
   "id": "55ec96d5-2af6-4ddc-a17a-12e413d774ac",
   "metadata": {
    "tags": []
   },
   "outputs": [],
   "source": [
    "o.jz(galpy14)"
   ]
  },
  {
   "cell_type": "code",
   "execution_count": null,
   "id": "09c96fd8-7711-4d50-a755-a351ad77c8ae",
   "metadata": {
    "tags": []
   },
   "outputs": [],
   "source": [
    "o.jz(galpy14_heavy)"
   ]
  },
  {
   "cell_type": "code",
   "execution_count": null,
   "id": "b8b72039-5ce9-44b4-a95d-ad86fb10c0a2",
   "metadata": {
    "tags": []
   },
   "outputs": [],
   "source": [
    "o.jz(EP2020)"
   ]
  },
  {
   "cell_type": "code",
   "execution_count": null,
   "id": "d4589433-4c66-4e52-a15e-571a3d7d1b7a",
   "metadata": {
    "tags": []
   },
   "outputs": [],
   "source": [
    "o.jz(mcmillan2017)"
   ]
  },
  {
   "cell_type": "code",
   "execution_count": null,
   "id": "c79e18f2-8660-4254-a7c1-b9da7013cf58",
   "metadata": {},
   "outputs": [],
   "source": [
    "plot_Vc(EP2020_bulge)\n",
    "plot_Vc(mcmillan2011_bulge)\n",
    "plot_Vc(galpy14_bulge)\n",
    "plot_Vc(pouliasis17_bulge)"
   ]
  },
  {
   "cell_type": "code",
   "execution_count": null,
   "id": "2b7c5da9-fbf1-4ff7-ac53-bb3ec56d0fb3",
   "metadata": {
    "tags": []
   },
   "outputs": [],
   "source": [
    "plot_Vc(EP2020_thick + EP2020_thick)\n",
    "plot_Vc(galpy14_disk)\n",
    "# plot_Vc(galpy14_disk)\n",
    "\n",
    "plot_Vc(pouliasis17_thick + pouliasis17_thick)\n",
    "# plot_Vc(pouliasis17b_thick + pouliasis17b_thick)"
   ]
  },
  {
   "cell_type": "code",
   "execution_count": null,
   "id": "04521dff-324d-46e2-8bda-b251a1ef1910",
   "metadata": {
    "tags": []
   },
   "outputs": [],
   "source": [
    "plot_Vc(EP2020_halo)\n",
    "plot_Vc(mcmillan2011_halo)\n",
    "plot_Vc(mcmillan2017_halo)\n",
    "plot_Vc(galpy14_halo)\n",
    "plot_Vc(2*galpy14_halo)\n",
    "\n",
    "plot_Vc(pouliasis17_halo)\n",
    "plot_Vc(pouliasis17b_halo)\n",
    "plot_Vc(ablimit_b_comp[\"halo\"]) # pretty much same as galpy\n"
   ]
  },
  {
   "cell_type": "code",
   "execution_count": null,
   "id": "12477d71-75a1-4f7f-a4de-b279492b6fb7",
   "metadata": {
    "tags": []
   },
   "outputs": [],
   "source": [
    "dwarf_galaxy_gc.icrs"
   ]
  },
  {
   "cell_type": "code",
   "execution_count": null,
   "id": "1fa2574f-f53e-4e41-b7e7-98a18ab074b3",
   "metadata": {
    "tags": []
   },
   "outputs": [],
   "source": [
    "o = Orbit(dwarf_galaxy_gc)"
   ]
  },
  {
   "cell_type": "code",
   "execution_count": null,
   "id": "28744ddd-11e0-4534-b463-547845863eb5",
   "metadata": {
    "tags": []
   },
   "outputs": [],
   "source": [
    "pot = EP2020\n",
    "ts = np.linspace(0, -5, 10_000) * u.Gyr\n",
    "o.integrate(ts, pot)"
   ]
  },
  {
   "cell_type": "code",
   "execution_count": null,
   "id": "a4cbeb63-dcb3-40f7-a36c-9a1e6469bbb3",
   "metadata": {
    "tags": []
   },
   "outputs": [],
   "source": [
    "fig, ax = plt.subplots()\n",
    "\n",
    "plt.plot(o.R(ts), o.z(ts))\n",
    "ax.set_aspect(1)"
   ]
  },
  {
   "cell_type": "code",
   "execution_count": null,
   "id": "68578272-bcd5-4427-8578-66f1b985019e",
   "metadata": {
    "tags": []
   },
   "outputs": [],
   "source": [
    "fig, ax = plt.subplots()\n",
    "\n",
    "plt.plot(o.y(ts), o.z(ts))\n",
    "\n",
    "ax.set_aspect(1)"
   ]
  },
  {
   "cell_type": "code",
   "execution_count": null,
   "id": "ca8b245d-7912-4091-bea0-302f34b4aa84",
   "metadata": {
    "tags": []
   },
   "outputs": [],
   "source": [
    "plt.plot(ts, o.r(ts))"
   ]
  },
  {
   "cell_type": "code",
   "execution_count": null,
   "id": "78076a3b-342f-4b28-8bdb-a99ab3db72ea",
   "metadata": {
    "tags": []
   },
   "outputs": [],
   "source": [
    "pos_gc = []\n",
    "\n",
    "ts = np.linspace(0, 0.1, 10_000) * u.Gyr\n",
    "o.integrate(ts, pot)\n",
    "\n",
    "# galpy uses left-handed frame :/\n",
    "pos_gc = coord.SkyCoord(\n",
    "    x=- o.x(ts), y=o.y(ts), z=o.z(ts), \n",
    "    v_x = -o.vx(ts), v_y=o.vy(ts), v_z=o.vz(ts),\n",
    "    frame=gc_frame)\n",
    "\n",
    "pos_icrs = pos_gc.transform_to(\"icrs\")"
   ]
  },
  {
   "cell_type": "code",
   "execution_count": null,
   "id": "4150991e-9d8d-4a9a-8929-f71c8bd99b33",
   "metadata": {
    "tags": []
   },
   "outputs": [],
   "source": [
    "plt.scatter(pos_icrs.ra, pos_icrs.dec, c=ts)\n",
    "plt.colorbar()\n",
    "\n",
    "plt.plot(o.ra(ts), o.dec(ts))\n",
    "\n",
    "plt.scatter(dwarf_galaxy.ra, dwarf_galaxy.dec)\n",
    "\n",
    "\n",
    "tpm = 3e7*u.yr\n",
    "plt.plot(sculptor.ra + sculptor.pm_ra_cosdec / np.cos(sculptor.dec) * tpm * np.array([0, 1]),\n",
    "        sculptor.dec + sculptor.pm_dec * tpm * np.array([0,1]),\n",
    "         zorder=5, color=arya.COLORS[2]\n",
    "        )\n",
    "\n",
    "plt.xlabel(\"RA\")\n",
    "plt.ylabel(\"dec\")"
   ]
  },
  {
   "cell_type": "code",
   "execution_count": null,
   "id": "24254335-0a42-4b6e-9ed7-e93046a3feda",
   "metadata": {
    "tags": []
   },
   "outputs": [],
   "source": [
    "sc2 = dwarf_galaxy_gc.transform_to(coord.ICRS)"
   ]
  }
 ],
 "metadata": {
  "kernelspec": {
   "display_name": "Python 3 (ipykernel)",
   "language": "python",
   "name": "python3"
  },
  "language_info": {
   "codemirror_mode": {
    "name": "ipython",
    "version": 3
   },
   "file_extension": ".py",
   "mimetype": "text/x-python",
   "name": "python",
   "nbconvert_exporter": "python",
   "pygments_lexer": "ipython3",
   "version": "3.11.9"
  }
 },
 "nbformat": 4,
 "nbformat_minor": 5
}
