{
 "cells": [
  {
   "cell_type": "code",
   "execution_count": 34,
   "id": "b88c1dca-6e8c-4bc7-98cb-d6e06872fe25",
   "metadata": {},
   "outputs": [
    {
     "name": "stdout",
     "output_type": "stream",
     "text": [
      "The autoreload extension is already loaded. To reload it, use:\n",
      "  %reload_ext autoreload\n"
     ]
    }
   ],
   "source": [
    "%load_ext autoreload\n",
    "%autoreload 2"
   ]
  },
  {
   "cell_type": "code",
   "execution_count": 66,
   "id": "46c28c6a-dec3-4cff-b56f-bac6588756a5",
   "metadata": {},
   "outputs": [],
   "source": [
    "import numpy as np\n",
    "\n",
    "import matplotlib.pyplot as plt\n",
    "import matplotlib as mpl\n",
    "\n",
    "from dataclasses import dataclass\n",
    "from astropy import units as u\n",
    "\n",
    "import lilguys as lguys\n",
    "from lilguys import coords\n",
    "# from orbits.integrator import getPeriApoTime, getInjectionCoords, leapfrog"
   ]
  },
  {
   "cell_type": "code",
   "execution_count": 38,
   "id": "6856cdc1-f209-4ed8-81f6-f39167b26e16",
   "metadata": {},
   "outputs": [],
   "source": [
    "from astropy.coordinates import SkyCoord"
   ]
  },
  {
   "cell_type": "code",
   "execution_count": 12,
   "id": "a59a9341-eb7c-4f68-ad76-54fdc8fe6870",
   "metadata": {},
   "outputs": [
    {
     "name": "stdout",
     "output_type": "stream",
     "text": [
      "/cosma/home/durham/dc-boye1/dwarfs\n"
     ]
    }
   ],
   "source": [
    "cd .."
   ]
  },
  {
   "cell_type": "code",
   "execution_count": 13,
   "id": "f3369ddf-345d-465a-9605-3bee84ab3c2c",
   "metadata": {},
   "outputs": [],
   "source": [
    "from integrator import getPeriApoTime, getInjectionCoords, leapfrog"
   ]
  },
  {
   "cell_type": "code",
   "execution_count": 39,
   "id": "11bbaa8b-f649-4892-9a88-f87d121955a8",
   "metadata": {},
   "outputs": [],
   "source": [
    "fornax_radec = SkyCoord(ra=\"2h39m59.3s\", dec=\"-34d26m57s\")\n"
   ]
  },
  {
   "cell_type": "code",
   "execution_count": 40,
   "id": "fb05b8cf-9843-4c67-a630-823c29f878af",
   "metadata": {},
   "outputs": [
    {
     "data": {
      "text/plain": [
       "(<Quantity 39.99708333>, <Quantity -34.44916667>)"
      ]
     },
     "execution_count": 40,
     "metadata": {},
     "output_type": "execute_result"
    }
   ],
   "source": [
    "fornax_radec.ra/u.deg, fornax_radec.dec/u.deg,"
   ]
  },
  {
   "cell_type": "code",
   "execution_count": 86,
   "id": "f852abb2-1609-45d4-a14f-16e1de8883c3",
   "metadata": {},
   "outputs": [
    {
     "ename": "NameError",
     "evalue": "name 'dwarf_obs' is not defined",
     "output_type": "error",
     "traceback": [
      "\u001b[0;31m---------------------------------------------------------------------------\u001b[0m",
      "\u001b[0;31mNameError\u001b[0m                                 Traceback (most recent call last)",
      "\u001b[0;32m/tmp/ipykernel_26151/3165061051.py\u001b[0m in \u001b[0;36m<module>\u001b[0;34m\u001b[0m\n\u001b[1;32m     14\u001b[0m )\n\u001b[1;32m     15\u001b[0m \u001b[0;34m\u001b[0m\u001b[0m\n\u001b[0;32m---> 16\u001b[0;31m craterii_obs = dwarf_obs(\n\u001b[0m\u001b[1;32m     17\u001b[0m     \u001b[0mra\u001b[0m \u001b[0;34m=\u001b[0m \u001b[0;36m177.3\u001b[0m\u001b[0;34m,\u001b[0m\u001b[0;34m\u001b[0m\u001b[0;34m\u001b[0m\u001b[0m\n\u001b[1;32m     18\u001b[0m     \u001b[0mdec\u001b[0m \u001b[0;34m=\u001b[0m \u001b[0;34m-\u001b[0m\u001b[0;36m18.4\u001b[0m\u001b[0;34m,\u001b[0m\u001b[0;34m\u001b[0m\u001b[0;34m\u001b[0m\u001b[0m\n",
      "\u001b[0;31mNameError\u001b[0m: name 'dwarf_obs' is not defined"
     ]
    }
   ],
   "source": [
    "fornax_radec = SkyCoord(ra=\"2h39m59.3s\", dec=\"-34d26m57s\")\n",
    "\n",
    "fornax_obs = coords.observation(\n",
    "    ra = fornax_radec.ra/u.deg,\n",
    "    dec = fornax_radec.dec/u.deg,\n",
    "    distance = 147,\n",
    "    distance_err = 12,\n",
    "    pm_ra = 0.374 ,\n",
    "    pm_ra_err = 0.035 ,\n",
    "    pm_dec = -0.401,\n",
    "    pm_dec_err = 0.035,\n",
    "    radial_velocity = 55.3,\n",
    "    radial_velocity_err = 0.3\n",
    ")\n",
    "\n",
    "craterii_obs = dwarf_obs(\n",
    "    ra = 177.3,\n",
    "    dec = -18.4,\n",
    "    distance=117.5,\n",
    "    distance_err = 1.1,\n",
    "    pm_ra = -0.246, \n",
    "    pm_ra_err = 0.052,\n",
    "    pm_dec = -0.227,\n",
    "    pm_dec_err = 0.026,\n",
    "    radial_velocity = 87.5,\n",
    "    radial_velocity_err = 0.4\n",
    ")"
   ]
  },
  {
   "cell_type": "code",
   "execution_count": 8,
   "id": "50a116bc-4ea8-4ce8-b286-e4b987a60257",
   "metadata": {},
   "outputs": [],
   "source": [
    "mc_obs = coords.rand_coords(sculpter_obs, 100)"
   ]
  },
  {
   "cell_type": "code",
   "execution_count": 87,
   "id": "1184d323-e4a7-412d-b47c-651aaddf6061",
   "metadata": {},
   "outputs": [],
   "source": [
    "def periApoHist(obs):\n",
    "    periSet = np.array([])\n",
    "    apoSet = np.array([])\n",
    "    coordSet = []\n",
    "\n",
    "    # print('multiprocessing...',end='\\r')\n",
    "    # pool = mp.Pool(nCores)\n",
    "    # results = np.array(pool.map(helper, coords))\n",
    "    # pool.close()\n",
    "    # print('done multiprocessing')\n",
    "    N = len(obs)\n",
    "    peris = np.empty(N)\n",
    "    apos = np.empty(N)\n",
    "    filt = np.full(N, False)\n",
    "    for i  in range(N):\n",
    "        pc = coords.to_galcen(obs[i])\n",
    "        x = [pc.x, pc.y, pc.z]\n",
    "        v = [pc.v_x, pc.v_y, pc.v_z]\n",
    "        peri, apo, _ = getPeriApoTime(-4e9, -1e6, x, v)\n",
    "        peris[i] = peri\n",
    "        apos[i] = apo\n",
    "        if peri is None or apo is None:\n",
    "            continue\n",
    "        if peri > 0 and apo > 0:\n",
    "            filt[i] = True\n",
    "            coordSet.append(pc)\n",
    "\n",
    "    periSet = peris[filt]\n",
    "    apoSet = apos[filt]\n",
    "    return periSet,apoSet,filt\n"
   ]
  },
  {
   "cell_type": "code",
   "execution_count": 88,
   "id": "c4edca35-c3f1-469f-8e73-91c9b8e5c18d",
   "metadata": {},
   "outputs": [],
   "source": [
    "mc_obs = coords.rand_coords(fornax_obs, 100)"
   ]
  },
  {
   "cell_type": "code",
   "execution_count": 53,
   "id": "95fb5f8b-385d-433b-a755-0d3509bbe59b",
   "metadata": {},
   "outputs": [],
   "source": [
    "phases = [coords.to_galcen(o) for o in mc_obs]"
   ]
  },
  {
   "cell_type": "code",
   "execution_count": 65,
   "id": "0bce02cd-4928-4e02-9b60-69ae1425367c",
   "metadata": {},
   "outputs": [],
   "source": [
    "pos = np.array([[p.x, p.y, p.z] for p in phases])\n",
    "vel = np.array([[p.v_x, p.v_y, p.v_z] for p in phases])"
   ]
  },
  {
   "cell_type": "code",
   "execution_count": 68,
   "id": "df0a21b4-48f1-4a21-a008-7eec92417663",
   "metadata": {},
   "outputs": [],
   "source": [
    "snap = lguys.Snapshot(pos, vel, m=0)"
   ]
  },
  {
   "cell_type": "code",
   "execution_count": 75,
   "id": "d8b14060-e936-4d92-a5d6-36a450fda9af",
   "metadata": {},
   "outputs": [
    {
     "data": {
      "text/plain": [
       "207.4"
      ]
     },
     "execution_count": 75,
     "metadata": {},
     "output_type": "execute_result"
    }
   ],
   "source": [
    "lguys.units.V_0"
   ]
  },
  {
   "cell_type": "code",
   "execution_count": 151,
   "id": "7d6b815a-f898-4c2a-b1fe-c05a0cd6ef1a",
   "metadata": {},
   "outputs": [],
   "source": [
    "peris, apos, filt = periApoHist(mc_obs)"
   ]
  },
  {
   "cell_type": "code",
   "execution_count": 22,
   "id": "e36f1bf7-71e3-470e-b07f-ddd20c52986d",
   "metadata": {},
   "outputs": [],
   "source": [
    "mc_coords = []\n",
    "good_obs = []\n",
    "for i in range(len(filt)):\n",
    "    if filt[i]:\n",
    "        obs = mc_obs[i]\n",
    "        good_obs.append(obs)\n",
    "        mc_coords.append(coords.to_galcen(obs))"
   ]
  },
  {
   "cell_type": "code",
   "execution_count": 23,
   "id": "9657dd05-e783-4539-a9d7-0e06f7ffb28f",
   "metadata": {},
   "outputs": [
    {
     "data": {
      "text/plain": [
       "Text(0, 0.5, 'apocenter')"
      ]
     },
     "execution_count": 23,
     "metadata": {},
     "output_type": "execute_result"
    },
    {
     "data": {
      "image/png": "[encoded data removed]",
      "text/plain": [
       "<Figure size 432x288 with 1 Axes>"
      ]
     },
     "metadata": {
      "needs_background": "light"
     },
     "output_type": "display_data"
    }
   ],
   "source": [
    "plt.scatter([o.distance for o in good_obs], apos)\n",
    "plt.xlabel(\"distance\")\n",
    "plt.ylabel(\"apocenter\")"
   ]
  },
  {
   "cell_type": "code",
   "execution_count": 26,
   "id": "0d28b972-c33f-4b5f-8370-af6dd2a4230b",
   "metadata": {},
   "outputs": [],
   "source": [
    "percentiles = [16, 84]\n",
    "\n",
    "present = {}\n",
    "\n",
    "present[\"50\"] = coords.to_galcen(sculpter_obs)\n",
    "\n",
    "for per in percentiles:\n",
    "    idx = np.argsort(peris)[int((len(peris) - 1) * per/100)]\n",
    "    present[str(per)] = mc_coords[idx]\n"
   ]
  },
  {
   "cell_type": "code",
   "execution_count": 33,
   "id": "c699ec95-6213-4985-82e9-c32d6a1ff6a0",
   "metadata": {},
   "outputs": [
    {
     "data": {
      "text/plain": [
       "Text(0, 0.5, 'counts')"
      ]
     },
     "execution_count": 33,
     "metadata": {},
     "output_type": "execute_result"
    },
    {
     "data": {
      "image/png": "[encoded data removed]",
      "text/plain": [
       "<Figure size 432x288 with 1 Axes>"
      ]
     },
     "metadata": {
      "needs_background": "light"
     },
     "output_type": "display_data"
    }
   ],
   "source": [
    "plt.hist(peris)\n",
    "plt.xlabel(\"pericenter distance / kpc\")\n",
    "plt.ylabel(\"counts\")"
   ]
  },
  {
   "cell_type": "code",
   "execution_count": 28,
   "id": "087c0456-4f92-4934-878d-86166bcfa65c",
   "metadata": {},
   "outputs": [],
   "source": [
    "past = {}\n",
    "apo_times = {}\n",
    "for per, coord in present.items():\n",
    "    x = [coord.x, coord.y, coord.z]\n",
    "    v = [coord.v_x, coord.v_y, coord.v_z]\n",
    "    x2, v2, apo_time = getInjectionCoords(x, v, 10, physicalUnits=True)\n",
    "    past[per] = coords.phase_point(*x2, *v2)\n",
    "    apo_times[per] = apo_time"
   ]
  },
  {
   "cell_type": "code",
   "execution_count": 29,
   "id": "ec790625-5704-4593-85a6-100674c67e7b",
   "metadata": {},
   "outputs": [
    {
     "data": {
      "text/plain": [
       "{'50': [-5.20, -9.77, -85.39]kpc, \t[18.0057, 163.7410, -94.5379] km/s,\n",
       " '16': [-5.39, -9.19, -80.34]kpc, \t[19.1555, 167.9392, -95.1860] km/s,\n",
       " '84': [-4.96, -10.54, -92.08]kpc, \t[17.2523, 157.2155, -94.2006] km/s}"
      ]
     },
     "execution_count": 29,
     "metadata": {},
     "output_type": "execute_result"
    }
   ],
   "source": [
    "present"
   ]
  },
  {
   "cell_type": "code",
   "execution_count": 30,
   "id": "5b42dc6b-42d8-4540-85e4-88c22fa7744a",
   "metadata": {},
   "outputs": [
    {
     "data": {
      "text/plain": [
       "{'50': [15.63, 99.42, 38.37]kpc, \t[-1.1135, -50.3351, 130.9625] km/s,\n",
       " '16': [-1.09, -39.64, 94.09]kpc, \t[-21.9361, -129.5515, -54.8057] km/s,\n",
       " '84': [16.07, 110.10, 29.08]kpc, \t[0.3497, -34.8248, 131.7955] km/s}"
      ]
     },
     "execution_count": 30,
     "metadata": {},
     "output_type": "execute_result"
    }
   ],
   "source": [
    "past"
   ]
  },
  {
   "cell_type": "markdown",
   "id": "fac2476b-660a-4bf0-b01d-352e18894800",
   "metadata": {},
   "source": [
    "Code unit conversion"
   ]
  },
  {
   "cell_type": "code",
   "execution_count": 121,
   "id": "6bd36f3d-c8de-4422-8ca1-7561abe9d415",
   "metadata": {},
   "outputs": [],
   "source": [
    "phase = present[\"50\"]"
   ]
  },
  {
   "cell_type": "code",
   "execution_count": 123,
   "id": "6246fd8a-0dc8-4789-9d75-ac5cf1be6f73",
   "metadata": {},
   "outputs": [],
   "source": [
    "import lilguys"
   ]
  },
  {
   "cell_type": "code",
   "execution_count": 127,
   "id": "0229a72e-925a-4d48-9229-a269e610687b",
   "metadata": {},
   "outputs": [],
   "source": [
    "sc = lilguys.coords.to_skycoord(phase)"
   ]
  },
  {
   "cell_type": "code",
   "execution_count": 133,
   "id": "295c16b4-d86f-46fd-800b-b4b20711f6d1",
   "metadata": {},
   "outputs": [
    {
     "data": {
      "text/latex": [
       "$-0.401 \\; \\mathrm{\\frac{mas}{yr}}$"
      ],
      "text/plain": [
       "<Quantity -0.401 mas / yr>"
      ]
     },
     "execution_count": 133,
     "metadata": {},
     "output_type": "execute_result"
    }
   ],
   "source": [
    "sc.pm_dec"
   ]
  },
  {
   "cell_type": "code",
   "execution_count": 126,
   "id": "60498d1b-cdee-4432-b975-1a387d1b2c9c",
   "metadata": {},
   "outputs": [
    {
     "data": {
      "text/plain": [
       "<SkyCoord (ICRS): (ra, dec) in deg\n",
       "    (39.99708333, -34.44916667)>"
      ]
     },
     "execution_count": 126,
     "metadata": {},
     "output_type": "execute_result"
    }
   ],
   "source": [
    "fornax_radec"
   ]
  },
  {
   "cell_type": "code",
   "execution_count": 31,
   "id": "331bd23a-9cff-4424-8c74-b19f2d14ce93",
   "metadata": {},
   "outputs": [
    {
     "data": {
      "image/png": "[encoded data removed]",
      "text/plain": [
       "<Figure size 432x288 with 1 Axes>"
      ]
     },
     "metadata": {
      "needs_background": "light"
     },
     "output_type": "display_data"
    },
    {
     "data": {
      "image/png": "[encoded data removed]",
      "text/plain": [
       "<Figure size 432x288 with 1 Axes>"
      ]
     },
     "metadata": {
      "needs_background": "light"
     },
     "output_type": "display_data"
    },
    {
     "data": {
      "image/png": "[encoded data removed]",
      "text/plain": [
       "<Figure size 432x288 with 1 Axes>"
      ]
     },
     "metadata": {
      "needs_background": "light"
     },
     "output_type": "display_data"
    }
   ],
   "source": [
    "for per, coord in present.items():\n",
    "    x = [coord.x, coord.y, coord.z]\n",
    "    v = [coord.v_x, coord.v_y, coord.v_z]\n",
    "    apo_time = apo_times[per]\n",
    "    [xs, ys, zs, rs], vs = leapfrog(apo_time, -1e6, x, v)\n",
    "    plt.plot(ys, zs)\n",
    "    idxs = np.arange(0, len(xs), 1000) # 1e9 when accounting for timestep\n",
    "    plt.scatter(np.array(ys)[idxs], np.array(zs)[idxs])\n",
    "    plt.show()"
   ]
  },
  {
   "cell_type": "code",
   "execution_count": 163,
   "id": "e620416e-90e4-4cf2-bfb0-02fa28c7e7f8",
   "metadata": {},
   "outputs": [],
   "source": [
    "snap_fornax = lguys.Output(\"mc_orbits/fornax/out/\")"
   ]
  },
  {
   "cell_type": "code",
   "execution_count": 164,
   "id": "c90f95b8-68c3-4822-a71b-1bcb8ecb36c2",
   "metadata": {},
   "outputs": [],
   "source": [
    "peris_2 = np.min(snap_fornax.r, axis=0)\n",
    "apos_2 = np.max(snap_fornax.r, axis=0)"
   ]
  },
  {
   "cell_type": "code",
   "execution_count": 140,
   "id": "6c2f301f-d92f-44ab-aadf-dc65c0be291d",
   "metadata": {},
   "outputs": [],
   "source": [
    "snap_0 = lguys.Snapshot.file(\"mc_orbits/fornax/positions.hdf5\")"
   ]
  },
  {
   "cell_type": "code",
   "execution_count": 141,
   "id": "05275ca2-a9d7-4684-8418-615cc69063ba",
   "metadata": {},
   "outputs": [],
   "source": [
    "pos, vel = snap_0.pos, snap_0.vel"
   ]
  },
  {
   "cell_type": "code",
   "execution_count": 147,
   "id": "8c8ce9ce-dbd1-42bb-b541-6f9a3b284724",
   "metadata": {},
   "outputs": [
    {
     "data": {
      "text/plain": [
       "<matplotlib.collections.PathCollection at 0x7fa5b75ba2c0>"
      ]
     },
     "execution_count": 147,
     "metadata": {},
     "output_type": "execute_result"
    },
    {
     "data": {
      "image/png": "[encoded data removed]",
      "text/plain": [
       "<Figure size 432x288 with 1 Axes>"
      ]
     },
     "metadata": {
      "needs_background": "light"
     },
     "output_type": "display_data"
    }
   ],
   "source": [
    "x = [o.ra for o in obs_out]\n",
    "y = [o.dec for o in obs_out]\n",
    "plt.scatter(x, y)"
   ]
  },
  {
   "cell_type": "code",
   "execution_count": 165,
   "id": "e81b86f3-e83d-406c-8aff-8db22112d5e0",
   "metadata": {},
   "outputs": [
    {
     "data": {
      "text/plain": [
       "(array([0.00279923, 0.00668388, 0.00679813, 0.00788355, 0.00719802,\n",
       "        0.00914034, 0.0105114 , 0.0027421 , 0.00228509, 0.00108542]),\n",
       " array([ 14.60251568,  32.10732789,  49.61214009,  67.1169523 ,\n",
       "         84.62176451, 102.12657672, 119.63138893, 137.13620114,\n",
       "        154.64101334, 172.14582555, 189.65063776]),\n",
       " [<matplotlib.patches.Polygon at 0x7fa5b768a410>])"
      ]
     },
     "execution_count": 165,
     "metadata": {},
     "output_type": "execute_result"
    },
    {
     "data": {
      "image/png": "[encoded data removed]",
      "text/plain": [
       "<Figure size 432x288 with 1 Axes>"
      ]
     },
     "metadata": {
      "needs_background": "light"
     },
     "output_type": "display_data"
    }
   ],
   "source": [
    "plt.hist(peris, histtype=\"step\", density=True)\n",
    "plt.hist(peris_2, histtype=\"step\", density=True)"
   ]
  },
  {
   "cell_type": "code",
   "execution_count": 169,
   "id": "5ca70b20-8af8-419d-9c61-a15716bbd6d0",
   "metadata": {},
   "outputs": [
    {
     "data": {
      "text/plain": [
       "(array([6.96564753e-03, 2.09203172e-03, 1.05185953e-03, 5.49304419e-04,\n",
       "        2.92183202e-04, 2.22059233e-04, 1.05185953e-04, 1.05185953e-04,\n",
       "        5.84366404e-05, 4.67493123e-05, 2.33746561e-05, 2.33746561e-05,\n",
       "        3.50619842e-05, 2.33746561e-05, 4.67493123e-05, 2.33746561e-05,\n",
       "        0.00000000e+00, 0.00000000e+00, 0.00000000e+00, 2.33746561e-05]),\n",
       " array([ 116.62095991,  202.18371591,  287.7464719 ,  373.3092279 ,\n",
       "         458.8719839 ,  544.4347399 ,  629.9974959 ,  715.5602519 ,\n",
       "         801.1230079 ,  886.6857639 ,  972.24851989, 1057.81127589,\n",
       "        1143.37403189, 1228.93678789, 1314.49954389, 1400.06229989,\n",
       "        1485.62505589, 1571.18781189, 1656.75056789, 1742.31332388,\n",
       "        1827.87607988]),\n",
       " [<matplotlib.patches.Polygon at 0x7fa5b8788c10>])"
      ]
     },
     "execution_count": 169,
     "metadata": {},
     "output_type": "execute_result"
    },
    {
     "data": {
      "image/png": "[encoded data removed]",
      "text/plain": [
       "<Figure size 432x288 with 1 Axes>"
      ]
     },
     "metadata": {
      "needs_background": "light"
     },
     "output_type": "display_data"
    }
   ],
   "source": [
    "plt.hist(apos, 20, histtype=\"step\", density=True)\n",
    "plt.hist(apos_2, 20, histtype=\"step\", density=True)"
   ]
  },
  {
   "cell_type": "code",
   "execution_count": 173,
   "id": "834d9f90-4a81-41d9-abca-5c23a334545b",
   "metadata": {},
   "outputs": [],
   "source": [
    "pos = snap_fornax.pos[0, :, :]\n",
    "vel = snap_fornax.vel[0, :, :]\n",
    "\n",
    "phases_out = [coords.phase_point(*p, *v) for p, v in zip(pos, vel)]\n",
    "obs_out = [coords.to_sky(p) for p in phases_out]"
   ]
  },
  {
   "cell_type": "code",
   "execution_count": 174,
   "id": "25b1b0eb-5dd2-454a-858a-117f1509f6b8",
   "metadata": {},
   "outputs": [],
   "source": [
    "ds = [o.distance for o in obs_out]"
   ]
  },
  {
   "cell_type": "code",
   "execution_count": 186,
   "id": "0ef304e0-9c9c-4c6a-a92d-835297324373",
   "metadata": {},
   "outputs": [
    {
     "data": {
      "text/plain": [
       "Text(0, 0.5, 'apocenters')"
      ]
     },
     "execution_count": 186,
     "metadata": {},
     "output_type": "execute_result"
    },
    {
     "data": {
      "image/png": "[encoded data removed]",
      "text/plain": [
       "<Figure size 432x288 with 1 Axes>"
      ]
     },
     "metadata": {
      "needs_background": "light"
     },
     "output_type": "display_data"
    }
   ],
   "source": [
    "plt.hist2d(ds, apos_2, 30, range=((110, 170), (100, 200)))\n",
    "plt.xlabel(\"distance\")\n",
    "plt.ylabel(\"apocenters\")\n"
   ]
  },
  {
   "cell_type": "code",
   "execution_count": 187,
   "id": "47d66659-28b1-4c5c-bd97-e9d6eb8994da",
   "metadata": {},
   "outputs": [
    {
     "data": {
      "text/plain": [
       "52.05864460693889"
      ]
     },
     "execution_count": 187,
     "metadata": {},
     "output_type": "execute_result"
    }
   ],
   "source": [
    "np.percentile(peris, 16)"
   ]
  },
  {
   "cell_type": "code",
   "execution_count": 188,
   "id": "0f9a7588-352a-4432-9daa-b2e53147ade0",
   "metadata": {},
   "outputs": [
    {
     "data": {
      "text/plain": [
       "115.01467346893595"
      ]
     },
     "execution_count": 188,
     "metadata": {},
     "output_type": "execute_result"
    }
   ],
   "source": [
    "np.percentile(peris, 84)"
   ]
  },
  {
   "cell_type": "markdown",
   "id": "225e096f-4924-4490-9a9a-39fafc62fc5c",
   "metadata": {},
   "source": [
    "# Sculptor Dwarf Galaxy\n",
    "parameters pulled from fredrico's paper"
   ]
  },
  {
   "cell_type": "code",
   "execution_count": 202,
   "id": "4f0fd7b2-f87a-41a4-a49d-2944cc968ad2",
   "metadata": {},
   "outputs": [],
   "source": [
    "from glob import glob"
   ]
  },
  {
   "cell_type": "code",
   "execution_count": 227,
   "id": "f495ea85-a303-4938-bc88-8cde07178933",
   "metadata": {},
   "outputs": [],
   "source": [
    "snap_i = lguys.Snapshot.file(\"mc_orbits/sculptor/out/snapshot_000.hdf5\")\n",
    "snap_f = lguys.Snapshot.file(\"mc_orbits/sculptor/out/snapshot_000.hdf5\")"
   ]
  },
  {
   "cell_type": "code",
   "execution_count": 228,
   "id": "91e9bd43-d6c5-4e14-a76d-6f22ba54db0d",
   "metadata": {},
   "outputs": [],
   "source": [
    "apos = snap_i.r\n",
    "peris = snap_i.r"
   ]
  },
  {
   "cell_type": "code",
   "execution_count": 229,
   "id": "0f35f9be-b0fe-4954-a674-872a3400d4db",
   "metadata": {},
   "outputs": [],
   "source": [
    "for fname in glob(\"mc_orbits/sculptor/out/*.hdf5\"):\n",
    "    snap = lguys.Snapshot.file(fname)\n",
    "    apos = np.maximum(apos, snap.r)\n",
    "    peris = np.minimum(peris, snap.r)"
   ]
  },
  {
   "cell_type": "code",
   "execution_count": 233,
   "id": "83fe3130-dbd3-4c5d-be74-a55baa0b5ef1",
   "metadata": {},
   "outputs": [
    {
     "data": {
      "text/plain": [
       "Text(0.5, 0, 'pericenters')"
      ]
     },
     "execution_count": 233,
     "metadata": {},
     "output_type": "execute_result"
    },
    {
     "data": {
      "image/png": "[encoded data removed]",
      "text/plain": [
       "<Figure size 432x288 with 1 Axes>"
      ]
     },
     "metadata": {
      "needs_background": "light"
     },
     "output_type": "display_data"
    }
   ],
   "source": [
    "plt.hist(peris, 20)\n",
    "plt.xlabel(\"pericenters\")"
   ]
  },
  {
   "cell_type": "code",
   "execution_count": 235,
   "id": "cc2d4dfe-21a4-4531-a3e2-dacb93cf4f6f",
   "metadata": {},
   "outputs": [
    {
     "data": {
      "text/plain": [
       "Text(0.5, 0, 'apocenters')"
      ]
     },
     "execution_count": 235,
     "metadata": {},
     "output_type": "execute_result"
    },
    {
     "data": {
      "image/png": "[encoded data removed]",
      "text/plain": [
       "<Figure size 432x288 with 1 Axes>"
      ]
     },
     "metadata": {
      "needs_background": "light"
     },
     "output_type": "display_data"
    }
   ],
   "source": [
    "plt.hist(apos, 20)\n",
    "plt.xlabel(\"apocenters\")"
   ]
  },
  {
   "cell_type": "code",
   "execution_count": null,
   "id": "03f4149b-cd72-4338-b6c1-25e509710b9f",
   "metadata": {},
   "outputs": [],
   "source": [
    "phases_0 = [coords.phase_point(*p, *v) for p, v in zip(snap_i.pos, snap_i.vel)]\n",
    "observations = [coords.to_sky(p) for p in phases_0]"
   ]
  },
  {
   "cell_type": "code",
   "execution_count": null,
   "id": "1e3a3348-bc37-44f4-bdca-8051757cb7cd",
   "metadata": {},
   "outputs": [],
   "source": [
    "x = [o.ra for o in observations]\n",
    "y = [o.dec for o in observations]\n",
    "plt.scatter(x, y)"
   ]
  },
  {
   "cell_type": "code",
   "execution_count": null,
   "id": "5ad745a2-fc2e-4ef7-bc74-d174d82f8b04",
   "metadata": {},
   "outputs": [],
   "source": [
    "x = [o.pm_ra for o in observations]\n",
    "y = [o.pm_dec for o in observations]\n",
    "plt.scatter(x, y)"
   ]
  },
  {
   "cell_type": "code",
   "execution_count": null,
   "id": "17824d9b-3b43-41f9-8982-04415d009cee",
   "metadata": {},
   "outputs": [],
   "source": [
    "x = [o.radial_velocity for o in observations]\n",
    "y = [o.distance for o in observations]\n",
    "plt.scatter(x, y)"
   ]
  },
  {
   "cell_type": "code",
   "execution_count": null,
   "id": "0d89dd01-cc75-4742-b091-4e6f9ea2ae1e",
   "metadata": {},
   "outputs": [],
   "source": []
  }
 ],
 "metadata": {
  "kernelspec": {
   "display_name": "Python/3.10.1",
   "language": "python",
   "name": "python_3_10_1"
  },
  "language_info": {
   "codemirror_mode": {
    "name": "ipython",
    "version": 3
   },
   "file_extension": ".py",
   "mimetype": "text/x-python",
   "name": "python",
   "nbconvert_exporter": "python",
   "pygments_lexer": "ipython3",
   "version": "3.10.1"
  }
 },
 "nbformat": 4,
 "nbformat_minor": 5
}
