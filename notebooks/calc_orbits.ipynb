{
 "cells": [
  {
   "cell_type": "code",
   "execution_count": 44,
   "id": "46c28c6a-dec3-4cff-b56f-bac6588756a5",
   "metadata": {},
   "outputs": [],
   "source": [
    "import numpy as np\n",
    "np.random.seed(123)\n",
    "\n",
    "import matplotlib.pyplot as plt\n",
    "import matplotlib as mpl\n",
    "import multiprocessing as mp\n",
    "from dataclasses import dataclass\n",
    "from astropy import units as u\n",
    "from astropy.coordinates import SkyCoord, Galactocentric\n",
    "\n",
    "from orbits.integrator import getPeriApoTime, getInjectionCoords, leapfrog"
   ]
  },
  {
   "cell_type": "code",
   "execution_count": 45,
   "id": "868250b8-6fbb-41ed-b77a-84051517b269",
   "metadata": {},
   "outputs": [],
   "source": [
    "gc_frame = Galactocentric(\n",
    "    galcen_distance = 8.29*u.kpc,\n",
    "    z_sun=0*u.pc,\n",
    "    galcen_v_sun = [11.1, 240.3+12.24, 7.25] * (u.km/u.s)\n",
    ")"
   ]
  },
  {
   "cell_type": "code",
   "execution_count": 46,
   "id": "af07bfd2-a819-4be1-8ca6-ed3efee5fe9d",
   "metadata": {},
   "outputs": [],
   "source": [
    "@dataclass\n",
    "class dwarf_obs:\n",
    "    ra: float\n",
    "    dec: float\n",
    "    \n",
    "    distance: float\n",
    "    pm_ra: float\n",
    "    pm_dec: float\n",
    "    radial_velocity: float\n",
    "    \n",
    "    distance_err: float = 0\n",
    "    pm_ra_err: float = 0\n",
    "    pm_dec_err: float = 0\n",
    "    radial_velocity_err: float = 0"
   ]
  },
  {
   "cell_type": "code",
   "execution_count": 99,
   "id": "77faca61-fcd2-43f5-9a16-c147ce6928a1",
   "metadata": {},
   "outputs": [],
   "source": [
    "coord = SkyCoord(x=[1,2,3]*u.kpc, y=[1,2,3]*u.kpc, z=[1,2,3]*u.kpc, frame=gc_frame)"
   ]
  },
  {
   "cell_type": "code",
   "execution_count": 100,
   "id": "d65b3739-d708-4977-9703-ec3a4cc138e7",
   "metadata": {},
   "outputs": [
    {
     "data": {
      "text/plain": [
       "<SkyCoord (ICRS): (ra, dec, distance) in (deg, deg, kpc)\n",
       "    [(264.24004929, -20.5062059 ,  9.39702613),\n",
       "     (262.72360074, -13.95034073, 10.67164936),\n",
       "     (261.60370472,  -8.8406695 , 12.06084989)]>"
      ]
     },
     "execution_count": 100,
     "metadata": {},
     "output_type": "execute_result"
    }
   ],
   "source": [
    "coord.transform_to(\"icrs\")"
   ]
  },
  {
   "cell_type": "code",
   "execution_count": null,
   "id": "0af28dad-20a5-41f8-a5ef-708b06381feb",
   "metadata": {},
   "outputs": [],
   "source": [
    "SkyCoord(x =1, y=1, z=1, frame=gc_frame).transform_to"
   ]
  },
  {
   "cell_type": "code",
   "execution_count": 47,
   "id": "f675416c-6231-4692-8c72-4b5c3fd5c04b",
   "metadata": {},
   "outputs": [],
   "source": [
    "class dwarf_phase:\n",
    "    def __init__(self, x, y, z, v_x, v_y, v_z):\n",
    "        self.x = x\n",
    "        self.y = y \n",
    "        self.z = z\n",
    "        self.v_x = v_x\n",
    "        self.v_y = v_y\n",
    "        self.v_z = v_z\n",
    "    \n",
    "    @property\n",
    "    def v(self):\n",
    "        return [self.v_x, self.v_y, self.v_z]\n",
    "    \n",
    "    @property \n",
    "    def pos(self):\n",
    "        return [self.x, self.y, self.z]\n",
    "    \n",
    "    def __str__(self):\n",
    "        s = \"[\"\n",
    "        s += f\"{self.x:0.2f}, \"\n",
    "        s += f\"{self.y:0.2f}, \"\n",
    "        s += f\"{self.z:0.2f}\"\n",
    "        s += \"]kpc, \\t[\"\n",
    "        s += f\"{self.v_x:0.4f}, \"\n",
    "        s += f\"{self.v_y:0.4f}, \"\n",
    "        s += f\"{self.v_z:0.4f}\"\n",
    "        s += \"] km/s\"\n",
    "        return s\n",
    "        \n",
    "    def __repr__(self):\n",
    "        return str(self)"
   ]
  },
  {
   "cell_type": "code",
   "execution_count": 23,
   "id": "769cdcc2-4dd5-4bd6-8e59-a672c6377270",
   "metadata": {},
   "outputs": [],
   "source": [
    "def to_galcen(obs):\n",
    "    sc = SkyCoord(ra = obs.ra * u.deg,\n",
    "                  dec=obs.dec * u.deg,\n",
    "                  distance = obs.distance * u.kpc,\n",
    "                  radial_velocity = obs.radial_velocity * u.km/u.s,\n",
    "                  pm_ra_cosdec = obs.pm_ra * u.mas/u.yr,\n",
    "                  pm_dec = obs.pm_dec * u.mas/u.yr\n",
    "                 )\n",
    "    tc = sc.transform_to(gc_frame)\n",
    "    x, y, z = [tc.x, tc.y, tc.z]\n",
    "    vx, vy, vz = [tc.v_x, tc.v_y, tc.v_z]\n",
    "    x /= u.kpc\n",
    "    y /= u.kpc\n",
    "    z /= u.kpc\n",
    "    vx /= u.km/u.s\n",
    "    vy /= u.km/u.s\n",
    "    vz /= u.km/u.s\n",
    " \n",
    "    return dwarf_phase(x, y, z, vx, vy, vz)"
   ]
  },
  {
   "cell_type": "code",
   "execution_count": 24,
   "id": "5609d736-f8c2-4285-9249-7e593a630ef5",
   "metadata": {},
   "outputs": [],
   "source": [
    "def rand_coords(obs, N):\n",
    "    ra = np.full(N, obs.ra)\n",
    "    dec = np.full(N, obs.dec)\n",
    "    distance = np.random.normal(obs.distance,obs.distance_err, N)\n",
    "    pm_ra = np.random.normal(obs.pm_ra,obs.pm_ra_err, N)\n",
    "    pm_dec = np.random.normal(obs.pm_dec,obs.pm_dec_err, N)\n",
    "    radial_velocity = np.random.normal(obs.radial_velocity,obs.radial_velocity_err, N)\n",
    "    X = np.array([ra, dec, distance, pm_ra, pm_dec, radial_velocity])\n",
    "    rand_obs = [dwarf_obs(*x) for x in X.transpose()]\n",
    "    return rand_obs"
   ]
  },
  {
   "cell_type": "code",
   "execution_count": 59,
   "id": "1184d323-e4a7-412d-b47c-651aaddf6061",
   "metadata": {},
   "outputs": [],
   "source": [
    "def periApoHist(coords):\n",
    "    periSet = np.array([])\n",
    "    apoSet = np.array([])\n",
    "    coordSet = []\n",
    "\n",
    "    # print('multiprocessing...',end='\\r')\n",
    "    # pool = mp.Pool(nCores)\n",
    "    # results = np.array(pool.map(helper, coords))\n",
    "    # pool.close()\n",
    "    # print('done multiprocessing')\n",
    "    N = len(coords)\n",
    "    peris = np.empty(N)\n",
    "    apos = np.empty(N)\n",
    "    filt = np.full(N, False)\n",
    "    for i  in range(N):\n",
    "        pc = to_galcen(coords[i])\n",
    "        x = [pc.x, pc.y, pc.z]\n",
    "        v = [pc.v_x, pc.v_y, pc.v_z]\n",
    "        peri, apo, _ = getPeriApoTime(-4e9, -1e6, x, v)\n",
    "        peris[i] = peri\n",
    "        apos[i] = apo\n",
    "        if peri is None or apo is None:\n",
    "            continue\n",
    "        if peri > 0 and apo > 0:\n",
    "            filt[i] = True\n",
    "            coordSet.append(pc)\n",
    "\n",
    "    periSet = peris[filt]\n",
    "    apoSet = apos[filt]\n",
    "    return periSet,apoSet,filt\n"
   ]
  },
  {
   "cell_type": "code",
   "execution_count": 52,
   "id": "f852abb2-1609-45d4-a14f-16e1de8883c3",
   "metadata": {},
   "outputs": [],
   "source": [
    "fornax_radec = SkyCoord(ra=\"2h39m59.3s\", dec=\"-34d26m57s\")\n",
    "\n",
    "fornax_obs = dwarf_obs(\n",
    "    ra = fornax_radec.ra/u.deg,\n",
    "    dec = fornax_radec.dec/u.deg,\n",
    "    distance = 147,\n",
    "    distance_err = 12,\n",
    "    pm_ra = 0.374 ,\n",
    "    pm_ra_err = 0.035 ,\n",
    "    pm_dec = -0.401,\n",
    "    pm_dec_err = 0.035,\n",
    "    radial_velocity = 55.3,\n",
    "    radial_velocity_err = 0.3\n",
    ")\n",
    "\n",
    "craterii_obs = dwarf_obs(\n",
    "    ra = 177.3,\n",
    "    dec = -18.4,\n",
    "    distance=117.5,\n",
    "    distance_err = 1.1,\n",
    "    pm_ra = -0.246, \n",
    "    pm_ra_err = 0.052,\n",
    "    pm_dec = -0.227,\n",
    "    pm_dec_err = 0.026,\n",
    "    radial_velocity = 87.5,\n",
    "    radial_velocity_err = 0.4\n",
    ")"
   ]
  },
  {
   "cell_type": "code",
   "execution_count": 62,
   "id": "7d6b815a-f898-4c2a-b1fe-c05a0cd6ef1a",
   "metadata": {},
   "outputs": [],
   "source": [
    "mc_obs = rand_coords(fornax_obs, 100)\n",
    "peris, apos, filt = periApoHist(mc_obs)"
   ]
  },
  {
   "cell_type": "code",
   "execution_count": 64,
   "id": "e36f1bf7-71e3-470e-b07f-ddd20c52986d",
   "metadata": {},
   "outputs": [],
   "source": [
    "mc_coords = []\n",
    "good_obs = []\n",
    "for i in range(len(filt)):\n",
    "    if filt[i]:\n",
    "        obs = mc_obs[i]\n",
    "        good_obs.append(obs)\n",
    "        mc_coords.append(to_galcen(obs))"
   ]
  },
  {
   "cell_type": "code",
   "execution_count": 69,
   "id": "9657dd05-e783-4539-a9d7-0e06f7ffb28f",
   "metadata": {},
   "outputs": [
    {
     "data": {
      "text/plain": [
       "Text(0, 0.5, 'apocenter')"
      ]
     },
     "execution_count": 69,
     "metadata": {},
     "output_type": "execute_result"
    },
    {
     "data": {
      "image/png": "[encoded data removed]",
      "text/plain": [
       "<Figure size 432x288 with 1 Axes>"
      ]
     },
     "metadata": {
      "needs_background": "light"
     },
     "output_type": "display_data"
    }
   ],
   "source": [
    "plt.scatter([o.distance for o in good_obs], apos)\n",
    "plt.xlabel(\"distance\")\n",
    "plt.ylabel(\"apocenter\")"
   ]
  },
  {
   "cell_type": "code",
   "execution_count": 71,
   "id": "0d28b972-c33f-4b5f-8370-af6dd2a4230b",
   "metadata": {},
   "outputs": [],
   "source": [
    "percentiles = [16, 84]\n",
    "\n",
    "present = {}\n",
    "\n",
    "present[\"50\"] = to_galcen(fornax_obs)\n",
    "\n",
    "for per in percentiles:\n",
    "    idx = np.argsort(peris)[int((len(peris) - 1) * per/100)]\n",
    "    present[str(per)] = mc_coords[idx]\n"
   ]
  },
  {
   "cell_type": "code",
   "execution_count": 78,
   "id": "087c0456-4f92-4934-878d-86166bcfa65c",
   "metadata": {},
   "outputs": [],
   "source": [
    "past = {}\n",
    "apo_times = {}\n",
    "for per, coord in present.items():\n",
    "    x = [coord.x, coord.y, coord.z]\n",
    "    v = [coord.v_x, coord.v_y, coord.v_z]\n",
    "    x2, v2, apo_time = getInjectionCoords(x, v, 10, physicalUnits=True)\n",
    "    past[per] = dwarf_phase(*x2, *v2)\n",
    "    apo_times[per] = apo_time"
   ]
  },
  {
   "cell_type": "code",
   "execution_count": 79,
   "id": "ec790625-5704-4593-85a6-100674c67e7b",
   "metadata": {},
   "outputs": [
    {
     "data": {
      "text/plain": [
       "{'50': [-41.21, -50.89, -133.93]kpc, \t[40.3986, -124.9545, 82.7880] km/s,\n",
       " '16': [-38.34, -46.46, -122.27]kpc, \t[27.1201, -86.2094, 71.7363] km/s,\n",
       " '84': [-40.97, -50.52, -132.95]kpc, \t[55.7842, -144.3232, 86.1833] km/s}"
      ]
     },
     "execution_count": 79,
     "metadata": {},
     "output_type": "execute_result"
    }
   ],
   "source": [
    "present"
   ]
  },
  {
   "cell_type": "code",
   "execution_count": null,
   "id": "2753087c-de33-46e3-bf67-0144daa8bfef",
   "metadata": {},
   "outputs": [],
   "source": []
  },
  {
   "cell_type": "code",
   "execution_count": 80,
   "id": "5b42dc6b-42d8-4540-85e4-88c22fa7744a",
   "metadata": {},
   "outputs": [
    {
     "data": {
      "text/plain": [
       "{'50': [31.57, 102.59, 122.76]kpc, \t[-37.8505, 105.2257, -78.1885] km/s,\n",
       " '16': [-44.02, -7.84, -135.08]kpc, \t[7.6355, -102.3527, 3.4242] km/s,\n",
       " '84': [42.69, -167.29, 38.24]kpc, \t[41.7971, 40.7130, 131.5140] km/s}"
      ]
     },
     "execution_count": 80,
     "metadata": {},
     "output_type": "execute_result"
    }
   ],
   "source": [
    "past"
   ]
  },
  {
   "cell_type": "markdown",
   "id": "fac2476b-660a-4bf0-b01d-352e18894800",
   "metadata": {},
   "source": [
    "Code unit conversion"
   ]
  },
  {
   "cell_type": "code",
   "execution_count": 84,
   "id": "b9201ef3-beb8-4f61-8a8a-891c9dceef0b",
   "metadata": {},
   "outputs": [
    {
     "data": {
      "text/plain": [
       "array([-0.18249986,  0.50735613, -0.37699394])"
      ]
     },
     "execution_count": 84,
     "metadata": {},
     "output_type": "execute_result"
    }
   ],
   "source": [
    "np.array(past[\"50\"].v) / 207.4"
   ]
  },
  {
   "cell_type": "code",
   "execution_count": 121,
   "id": "6bd36f3d-c8de-4422-8ca1-7561abe9d415",
   "metadata": {},
   "outputs": [],
   "source": [
    "phase = present[\"50\"]"
   ]
  },
  {
   "cell_type": "code",
   "execution_count": 123,
   "id": "6246fd8a-0dc8-4789-9d75-ac5cf1be6f73",
   "metadata": {},
   "outputs": [],
   "source": [
    "import lilguys"
   ]
  },
  {
   "cell_type": "code",
   "execution_count": 127,
   "id": "0229a72e-925a-4d48-9229-a269e610687b",
   "metadata": {},
   "outputs": [],
   "source": [
    "sc = lilguys.coords.to_skycoord(phase)"
   ]
  },
  {
   "cell_type": "code",
   "execution_count": 133,
   "id": "295c16b4-d86f-46fd-800b-b4b20711f6d1",
   "metadata": {},
   "outputs": [
    {
     "data": {
      "text/latex": [
       "$-0.401 \\; \\mathrm{\\frac{mas}{yr}}$"
      ],
      "text/plain": [
       "<Quantity -0.401 mas / yr>"
      ]
     },
     "execution_count": 133,
     "metadata": {},
     "output_type": "execute_result"
    }
   ],
   "source": [
    "sc.pm_dec"
   ]
  },
  {
   "cell_type": "code",
   "execution_count": 126,
   "id": "60498d1b-cdee-4432-b975-1a387d1b2c9c",
   "metadata": {},
   "outputs": [
    {
     "data": {
      "text/plain": [
       "<SkyCoord (ICRS): (ra, dec) in deg\n",
       "    (39.99708333, -34.44916667)>"
      ]
     },
     "execution_count": 126,
     "metadata": {},
     "output_type": "execute_result"
    }
   ],
   "source": [
    "fornax_radec"
   ]
  },
  {
   "cell_type": "code",
   "execution_count": 91,
   "id": "331bd23a-9cff-4424-8c74-b19f2d14ce93",
   "metadata": {},
   "outputs": [
    {
     "data": {
      "image/png": "[encoded data removed]",
      "text/plain": [
       "<Figure size 432x288 with 1 Axes>"
      ]
     },
     "metadata": {
      "needs_background": "light"
     },
     "output_type": "display_data"
    },
    {
     "data": {
      "image/png": "[encoded data removed]",
      "text/plain": [
       "<Figure size 432x288 with 1 Axes>"
      ]
     },
     "metadata": {
      "needs_background": "light"
     },
     "output_type": "display_data"
    },
    {
     "data": {
      "image/png": "[encoded data removed]",
      "text/plain": [
       "<Figure size 432x288 with 1 Axes>"
      ]
     },
     "metadata": {
      "needs_background": "light"
     },
     "output_type": "display_data"
    }
   ],
   "source": [
    "for per, coord in present.items():\n",
    "    x = [coord.x, coord.y, coord.z]\n",
    "    v = [coord.v_x, coord.v_y, coord.v_z]\n",
    "    apo_time = apo_times[per]\n",
    "    [xs, ys, zs, rs], vs = leapfrog(apo_time, -1e6, x, v)\n",
    "    plt.plot(ys, zs)\n",
    "    idxs = np.arange(0, len(xs), 1000) # 1e9 when accounting for timestep\n",
    "    plt.scatter(np.array(ys)[idxs], np.array(zs)[idxs])\n",
    "    plt.show()"
   ]
  },
  {
   "cell_type": "code",
   "execution_count": null,
   "id": "e620416e-90e4-4cf2-bfb0-02fa28c7e7f8",
   "metadata": {},
   "outputs": [],
   "source": []
  }
 ],
 "metadata": {
  "kernelspec": {
   "display_name": "Python 3",
   "language": "python",
   "name": "python3"
  },
  "language_info": {
   "codemirror_mode": {
    "name": "ipython",
    "version": 3
   },
   "file_extension": ".py",
   "mimetype": "text/x-python",
   "name": "python",
   "nbconvert_exporter": "python",
   "pygments_lexer": "ipython3",
   "version": "3.6.5"
  }
 },
 "nbformat": 4,
 "nbformat_minor": 5
}
