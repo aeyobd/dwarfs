{
 "cells": [
  {
   "cell_type": "markdown",
   "id": "0",
   "metadata": {},
   "source": [
    "# Introduction and setup\n",
    "\n",
    "In this notebook, I have code to load in the stellar profiles in 3 dimensions which \n",
    "were previously calculated on the command line so that we can plot quantities such as \n",
    "the 1D velocity dispersion and evolution with time of the mass."
   ]
  },
  {
   "cell_type": "code",
   "execution_count": null,
   "id": "1",
   "metadata": {},
   "outputs": [],
   "source": [
    "using Revise\n",
    "using LilGuys\n",
    "using CairoMakie, Arya"
   ]
  },
  {
   "cell_type": "code",
   "execution_count": null,
   "id": "2",
   "metadata": {},
   "outputs": [],
   "source": [
    "modelsdir = ENV[\"DWARFS_ROOT\"] * \"/analysis\""
   ]
  },
  {
   "cell_type": "code",
   "execution_count": null,
   "id": "3",
   "metadata": {},
   "outputs": [],
   "source": [
    "import TOML\n",
    "obs_props = TOML.parsefile(joinpath(ENV[\"DWARFS_ROOT\"], \"observations/sculptor/observed_properties.toml\"))"
   ]
  },
  {
   "cell_type": "code",
   "execution_count": null,
   "id": "4",
   "metadata": {},
   "outputs": [],
   "source": [
    "function load_profile(modelname, starsname)\n",
    "    orbit = load_profiles(modelname * \"/stars/\" * starsname)\n",
    "\n",
    "    return orbit\n",
    "end"
   ]
  },
  {
   "cell_type": "code",
   "execution_count": null,
   "id": "5",
   "metadata": {},
   "outputs": [],
   "source": [
    "function load_isolation(modelname, starsname)\n",
    "    iso = load_profiles(modelname * \"/../stars/\" * starsname)\n",
    "    return iso\n",
    "end"
   ]
  },
  {
   "cell_type": "code",
   "execution_count": null,
   "id": "6",
   "metadata": {},
   "outputs": [],
   "source": [
    "function load_profiles(filename; extension=\"stellar_profiles_3d.hdf5\")\n",
    "    path = joinpath(modelsdir, filename, extension)\n",
    "    \n",
    "    profs = LilGuys.read_structs_from_hdf5(path, LilGuys.StellarProfile3D)\n",
    "    idxs = parse.(Int, first.(profs))\n",
    "    profs = last.(profs)\n",
    "\n",
    "    s = sortperm(idxs)\n",
    "    return [idxs[i] => profs[i] for i in s ]\n",
    "end"
   ]
  },
  {
   "cell_type": "code",
   "execution_count": null,
   "id": "7",
   "metadata": {},
   "outputs": [],
   "source": [
    "function load_prof_expected(filename, parampath=\"profile.toml\")\n",
    "    path = joinpath(modelsdir, filename, parampath)\n",
    "        \n",
    "    if isfile(parampath)\n",
    "        expected = LilGuys.load_profile(parampath)\n",
    "    else\n",
    "        error(\"file not found $path\")\n",
    "    end\n",
    "\n",
    "    return expected\n",
    "end"
   ]
  },
  {
   "cell_type": "code",
   "execution_count": null,
   "id": "8",
   "metadata": {},
   "outputs": [],
   "source": [
    "function compare_profiles(profiles, expected=nothing; \n",
    "        sequential=false, legend=true, limits=(-1.5, 0.8, -15, 3), \n",
    "        kwargs...\n",
    "    )\n",
    "    \n",
    "    fig = Figure()\n",
    "\n",
    "\tax = Axis(fig[1,1], xlabel=L\"\\log\\, r / \\textrm{kpc}\", ylabel =  L\"\\log\\, \\rho_\\star\\; [10^{10} M_\\odot / \\textrm{kpc}^3]\", \n",
    "\t\tlimits=limits; kwargs...\n",
    "\t\t)\n",
    "\n",
    "    plot_kwargs = Dict{Symbol, Any}()\n",
    "\n",
    "    if sequential\n",
    "        plot_kwargs[:colorrange] = (1, length(profiles))\n",
    "    end\n",
    "    \n",
    "    for i in eachindex(profiles)\n",
    "        label, profs = profiles[i]\n",
    "        prof = profs[end].second\n",
    "        x = prof.log_r\n",
    "        y = log10.(prof.rho)\n",
    "        if sequential\n",
    "            plot_kwargs[:color] = i\n",
    "        end\n",
    "\n",
    "    \tlines!(x, y, label=string(label); plot_kwargs...)\n",
    "        arrows!([log10.(prof.r_break)],[-10], [0], [3], color=COLORS[i])\n",
    "    end\n",
    "\n",
    "    if expected !== nothing\n",
    "    \tlog_r_pred = LinRange(-2, 2, 1000)\n",
    "    \tρ_s_pred = calc_ρ.(expected, 10 .^ log_r_pred)\n",
    "\n",
    "    \tlines!(log_r_pred, log10.(ρ_s_pred), label=\"expected\", color=\"black\", linestyle=:dot)\n",
    "    end\n",
    "\n",
    "    if legend\n",
    "    \taxislegend(ax, position=:lb)\n",
    "    end \n",
    "    \n",
    "\tfig\n",
    "end"
   ]
  },
  {
   "cell_type": "code",
   "execution_count": null,
   "id": "9",
   "metadata": {},
   "outputs": [],
   "source": [
    "function plot_v_t!(profiles; kwargs...)\n",
    "\tsigmas = [p.second.sigma_vx for p in profiles]\n",
    "\n",
    "    t = [p.second.time for p in profiles] \n",
    "\tscatterlines!(t * T2GYR, sigmas * V2KMS; kwargs...)\n",
    "end"
   ]
  },
  {
   "cell_type": "code",
   "execution_count": null,
   "id": "10",
   "metadata": {},
   "outputs": [],
   "source": [
    "function plot_v_t(profiles; kwargs...)\n",
    "\tfig, ax = FigAxis(\n",
    "\t\txlabel = \"time / Gyr\",\n",
    "\t\tylabel = L\"\\sigma_v / \\textrm{km s^{-1}}\";\n",
    "        kwargs...\n",
    "\t)\n",
    "\n",
    "    plot_v_t!(profiles)\n",
    "\n",
    "    fig\n",
    "end\n",
    "    "
   ]
  },
  {
   "cell_type": "code",
   "execution_count": null,
   "id": "11",
   "metadata": {},
   "outputs": [],
   "source": [
    "function compare_v_t(profilesi, profs_iso=nothing)\n",
    "\tfig, ax = FigAxis(\n",
    "\t\txlabel = \"time / Gyr\",\n",
    "\t\tylabel = L\"\\sigma_v / \\textrm{km s^{-1}}\",\n",
    "\t)\n",
    "\n",
    "\n",
    "    for i in eachindex(profilesi)\n",
    "        label, profiles = profilesi[i]\n",
    "\n",
    "        kwargs = Dict{Symbol, Any}()\n",
    "        kwargs[:label] = label\n",
    "        kwargs[:color] = COLORS[i]\n",
    "  \n",
    "        plot_v_t!(profiles; kwargs...)\n",
    "    end\n",
    "\n",
    "    if profs_iso !== nothing\n",
    "        for i in eachindex(profs_iso)\n",
    "            label, profiles = profs_iso[i]\n",
    "    \n",
    "      \n",
    "            sigmas = [p.second.sigma_vx for p in profiles]\n",
    "    \n",
    "            t = [p.second.time for p in profiles] \n",
    "            t = t .- t[end]\n",
    "            scatterlines!(t * T2GYR, sigmas * V2KMS, color=COLORS[i])\n",
    "            \n",
    "        end\n",
    "    end\n",
    "    \n",
    "    hlines!(obs_props[\"sigma_v\"], color=:grey)\n",
    "    hspan!(obs_props[\"sigma_v\"] - obs_props[\"sigma_v_err\"], \n",
    "        obs_props[\"sigma_v\"] + obs_props[\"sigma_v_err\"],\n",
    "        color = (:grey, 0.1), label=\"observed\")\n",
    "\n",
    "    LilGuys.Plots.hide_grid!(ax)\n",
    "    axislegend()\n",
    "\tfig\n",
    "end"
   ]
  },
  {
   "cell_type": "code",
   "execution_count": null,
   "id": "12",
   "metadata": {},
   "outputs": [],
   "source": [
    "profs = [\n",
    "    \"compact\" => load_profile(\"sculptor/1e6_V31_r3.2/orbit1/\", \"exp2d_rs0.10\"),\n",
    "    \"smallperi\" => load_profile(\"sculptor/1e6_V31_r3.2/orbit_smallperi\", \"exp2d_rs0.10\"),\n",
    "    \"heavy\" => load_profile(\"sculptor/1e6_V40_r5.9/orbit_mean\", \"exp2d_rs0.07\"),\n",
    "    \"default\" => load_profile(\"sculptor/1e6_V31_r5.9/orbit1\", \"exp2d_rs0.10\"),\n",
    "    \"1e7\" => load_profile(\"sculptor/1e7_V31_r3.2/orbit_mean\", \"exp2d_rs0.10\"),\n",
    "];"
   ]
  },
  {
   "cell_type": "code",
   "execution_count": null,
   "id": "13",
   "metadata": {},
   "outputs": [],
   "source": [
    "profs_iso = [\n",
    "    \"compact\" => load_isolation(\"sculptor/1e6_V31_r3.2/orbit1/\", \"exp2d_rs0.10\"),\n",
    "    \"smallperi\" => load_isolation(\"sculptor/1e6_V31_r3.2/orbit_smallperi\", \"exp2d_rs0.10\"),\n",
    "    \"heavy\" => load_isolation(\"sculptor/1e6_V40_r5.9/orbit_mean\", \"exp2d_rs0.07\"),\n",
    "    \"default\" => load_isolation(\"sculptor/1e6_V31_r5.9/orbit1\", \"exp2d_rs0.10\"),\n",
    "    \"1e7\" => load_isolation(\"sculptor/1e7_V31_r3.2/orbit_mean\", \"exp2d_rs0.10\"),\n",
    "];"
   ]
  },
  {
   "cell_type": "code",
   "execution_count": null,
   "id": "14",
   "metadata": {},
   "outputs": [],
   "source": [
    "compare_v_t(profs, profs_iso)"
   ]
  },
  {
   "cell_type": "code",
   "execution_count": null,
   "id": "15",
   "metadata": {},
   "outputs": [],
   "source": [
    "compare_profiles(profs)"
   ]
  },
  {
   "cell_type": "code",
   "execution_count": null,
   "id": "16",
   "metadata": {},
   "outputs": [],
   "source": [
    "compare_profiles(profs_iso)"
   ]
  },
  {
   "cell_type": "code",
   "execution_count": null,
   "id": "17",
   "metadata": {},
   "outputs": [],
   "source": []
  }
 ],
 "metadata": {
  "kernelspec": {
   "display_name": "Julia 1.10.5",
   "language": "julia",
   "name": "julia-1.10"
  },
  "language_info": {
   "file_extension": ".jl",
   "mimetype": "application/julia",
   "name": "julia",
   "version": "1.10.5"
  }
 },
 "nbformat": 4,
 "nbformat_minor": 5
}
