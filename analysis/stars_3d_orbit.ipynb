{
 "cells": [
  {
   "cell_type": "markdown",
   "id": "0",
   "metadata": {},
   "source": [
    "# Introduction and setup\n",
    "\n",
    "In this notebook, I have code to load in the stellar profiles in 3 dimensions which \n",
    "were previously calculated on the command line so that we can plot quantities such as \n",
    "the 1D velocity dispersion and evolution with time of the mass."
   ]
  },
  {
   "cell_type": "code",
   "execution_count": null,
   "id": "1",
   "metadata": {},
   "outputs": [],
   "source": [
    "using Revise\n",
    "using LilGuys\n",
    "using CairoMakie, Arya"
   ]
  },
  {
   "cell_type": "code",
   "execution_count": null,
   "id": "2",
   "metadata": {},
   "outputs": [],
   "source": [
    "modelsdir = ENV[\"DWARFS_ROOT\"] * \"/analysis\""
   ]
  },
  {
   "cell_type": "code",
   "execution_count": null,
   "id": "3",
   "metadata": {},
   "outputs": [],
   "source": [
    "import TOML\n",
    "obs_props = TOML.parsefile(joinpath(ENV[\"DWARFS_ROOT\"], \"observations/sculptor/observed_properties.toml\"))"
   ]
  },
  {
   "cell_type": "code",
   "execution_count": null,
   "id": "4",
   "metadata": {},
   "outputs": [],
   "source": [
    "function load_profile(modelname, starsname)\n",
    "    orbit = load_profiles(modelname * \"/stars/\" * starsname)\n",
    "\n",
    "    return orbit\n",
    "end"
   ]
  },
  {
   "cell_type": "code",
   "execution_count": null,
   "id": "5",
   "metadata": {},
   "outputs": [],
   "source": [
    "function load_isolation(modelname, starsname)\n",
    "    iso = load_profiles(modelname * \"/../stars/\" * starsname)\n",
    "    return iso\n",
    "end"
   ]
  },
  {
   "cell_type": "code",
   "execution_count": null,
   "id": "6",
   "metadata": {},
   "outputs": [],
   "source": [
    "function load_profiles(filename, starsname; extension=\"stellar_profiles_3d.hdf5\")\n",
    "    path = joinpath(modelsdir, filename, \"stars\", starsname, extension)\n",
    "    \n",
    "    profs = LilGuys.read_structs_from_hdf5(path, LilGuys.StellarProfile3D)\n",
    "    idxs = parse.(Int, first.(profs))\n",
    "    profs = last.(profs)\n",
    "\n",
    "    s = sortperm(idxs)\n",
    "    return [idxs[i] => profs[i] for i in s ]\n",
    "end"
   ]
  },
  {
   "cell_type": "code",
   "execution_count": null,
   "id": "7",
   "metadata": {},
   "outputs": [],
   "source": [
    "function load_prof_expected(filename, parampath=\"profile.toml\")\n",
    "    path = joinpath(modelsdir, filename, parampath)\n",
    "        \n",
    "    if isfile(parampath)\n",
    "        expected = LilGuys.load_profile(parampath)\n",
    "    else\n",
    "        error(\"file not found $path\")\n",
    "    end\n",
    "\n",
    "    return expected\n",
    "end"
   ]
  },
  {
   "cell_type": "code",
   "execution_count": null,
   "id": "8",
   "metadata": {},
   "outputs": [],
   "source": [
    "function compare_profiles(profiles, expected=nothing; \n",
    "        sequential=false, legend=true, limits=(-1.5, 0.8, -15, 3), \n",
    "        kwargs...\n",
    "    )\n",
    "    \n",
    "    fig = Figure()\n",
    "\n",
    "\tax = Axis(fig[1,1], xlabel=L\"\\log\\, r / \\textrm{kpc}\", ylabel =  L\"\\log\\, \\rho_\\star\\; [10^{10} M_\\odot / \\textrm{kpc}^3]\", \n",
    "\t\tlimits=limits; kwargs...\n",
    "\t\t)\n",
    "\n",
    "    plot_kwargs = Dict{Symbol, Any}()\n",
    "\n",
    "    if sequential\n",
    "        plot_kwargs[:colorrange] = (1, length(profiles))\n",
    "    end\n",
    "    \n",
    "    for i in eachindex(profiles)\n",
    "        label, profs = profiles[i]\n",
    "        prof = profs[end].second\n",
    "        x = prof.log_r\n",
    "        y = log10.(prof.rho)\n",
    "        if sequential\n",
    "            plot_kwargs[:color] = i\n",
    "        end\n",
    "\n",
    "    \tlines!(x, y, label=string(label); plot_kwargs...)\n",
    "        arrows!([log10.(prof.r_break)],[-10], [0], [3], color=COLORS[i])\n",
    "    end\n",
    "\n",
    "    if expected !== nothing\n",
    "    \tlog_r_pred = LinRange(-2, 2, 1000)\n",
    "    \tρ_s_pred = calc_ρ.(expected, 10 .^ log_r_pred)\n",
    "\n",
    "    \tlines!(log_r_pred, log10.(ρ_s_pred), label=\"expected\", color=\"black\", linestyle=:dot)\n",
    "    end\n",
    "\n",
    "    if legend\n",
    "    \taxislegend(ax, position=:lb)\n",
    "    end \n",
    "    \n",
    "\tfig\n",
    "end"
   ]
  },
  {
   "cell_type": "code",
   "execution_count": null,
   "id": "9",
   "metadata": {},
   "outputs": [],
   "source": [
    "function plot_v_t!(profiles; x_shift = 0, kwargs...)\n",
    "\tsigmas = [p.second.sigma_vx for p in profiles]\n",
    "\n",
    "    t = [p.second.time for p in profiles] \n",
    "\tscatterlines!(t * T2GYR .+ x_shift, sigmas * V2KMS; kwargs...)\n",
    "end"
   ]
  },
  {
   "cell_type": "code",
   "execution_count": null,
   "id": "10",
   "metadata": {},
   "outputs": [],
   "source": [
    "function plot_v_t(profiles; x_shift=0, kwargs...)\n",
    "\tfig, ax = FigAxis(\n",
    "\t\txlabel = \"time / Gyr\",\n",
    "\t\tylabel = L\"\\sigma_v / \\textrm{km s^{-1}}\";\n",
    "        kwargs...\n",
    "\t)\n",
    "\n",
    "    plot_v_t!(profiles, x_shift=x_shift)\n",
    "\n",
    "    fig\n",
    "end\n",
    "    "
   ]
  },
  {
   "cell_type": "code",
   "execution_count": null,
   "id": "11",
   "metadata": {},
   "outputs": [],
   "source": [
    "function compare_v_t(profilesi, profs_iso=nothing; x_shifts=zeros(length(profilesi)), legend_position=:lb)\n",
    "\tfig, ax = FigAxis(\n",
    "\t\txlabel = \"time / Gyr\",\n",
    "\t\tylabel = L\"\\sigma_v / \\textrm{km s^{-1}}\",\n",
    "\t)\n",
    "\n",
    "\n",
    "    for i in eachindex(profilesi)\n",
    "        label, profiles = profilesi[i]\n",
    "\n",
    "        kwargs = Dict{Symbol, Any}()\n",
    "        kwargs[:label] = label\n",
    "        kwargs[:color] = COLORS[i]\n",
    "  \n",
    "        plot_v_t!(profiles; x_shift=x_shifts[i], kwargs...)\n",
    "    end\n",
    "\n",
    "    if profs_iso !== nothing\n",
    "        for i in eachindex(profs_iso)\n",
    "            label, profiles = profs_iso[i]\n",
    "    \n",
    "      \n",
    "            sigmas = [p.second.sigma_vx for p in profiles]\n",
    "    \n",
    "            t = [p.second.time for p in profiles] \n",
    "            t = t .- t[end]\n",
    "            scatterlines!(t * T2GYR, sigmas * V2KMS, color=COLORS[i])\n",
    "            \n",
    "        end\n",
    "    end\n",
    "    \n",
    "    hlines!(obs_props[\"sigma_v\"], color=:grey)\n",
    "    hspan!(obs_props[\"sigma_v\"] - obs_props[\"sigma_v_err\"], \n",
    "        obs_props[\"sigma_v\"] + obs_props[\"sigma_v_err\"],\n",
    "        color = (:grey, 0.1), label=\"observed\")\n",
    "\n",
    "    LilGuys.hide_grid!(ax)\n",
    "    if legend_position == :outside\n",
    "        Legend(fig[1,2], ax)\n",
    "    else\n",
    "        \n",
    "        axislegend(position=legend_position)\n",
    "    end\n",
    "    \n",
    "\tfig\n",
    "end"
   ]
  },
  {
   "cell_type": "code",
   "execution_count": null,
   "id": "12",
   "metadata": {},
   "outputs": [],
   "source": [
    "function compare_profiles_t(profiles, expected=nothing; \n",
    "        sequential=false, legend=true, limits=(-2.5, 1.0, -6, 3), \n",
    "        skip=1,\n",
    "        kwargs...\n",
    "    )\n",
    "    \n",
    "    fig = Figure()\n",
    "\tax = Axis(fig[1, 1]; limits=limits, kwargs...)\n",
    "\n",
    "    plot_kwargs = Dict{Symbol, Any}()\n",
    "\n",
    "    if sequential\n",
    "        if profiles[1].second.time !== NaN\n",
    "            has_time = true\n",
    "            plot_kwargs[:colorrange] = (profiles[1].second.time * T2GYR, profiles[end].second.time * T2GYR)\n",
    "        else\n",
    "            \n",
    "            plot_kwargs[:colorrange] = (1, length(profiles))\n",
    "            has_time = false\n",
    "        end\n",
    "        \n",
    "    end\n",
    "\n",
    "    local p\n",
    "    \n",
    "    for i in eachindex(profiles)[1:skip:end]\n",
    "        label, prof = profiles[i]\n",
    "        x = prof.log_r\n",
    "        y = log10.(prof.rho)\n",
    "        if sequential\n",
    "            if has_time\n",
    "                plot_kwargs[:color] = prof.time * T2GYR\n",
    "            else\n",
    "                plot_kwargs[:color] = i\n",
    "            end\n",
    "            \n",
    "        end\n",
    "\n",
    "    \tp = lines!(x, y, label=string(label); plot_kwargs...)\n",
    "    end\n",
    "\n",
    "    if expected !== nothing\n",
    "    \tlog_r_pred = LinRange(-2, 2, 1000)\n",
    "    \tρ_s_pred = lguys.calc_Σ.(expected, 10 .^ log_r_pred)\n",
    "\n",
    "    \tlines!(log_r_pred, log10.(ρ_s_pred), label=\"expected\", color=\"black\", linestyle=:dot)\n",
    "    end\n",
    "\n",
    "    if legend\n",
    "    \taxislegend(ax, position=:lb)\n",
    "    end \n",
    "    if sequential\n",
    "        if has_time \n",
    "            label = \"time / Gyr\"\n",
    "        else\n",
    "            label = \"snapshot\"\n",
    "        end\n",
    "        \n",
    "        Colorbar(fig[1,2], colorrange=plot_kwargs[:colorrange], label=label)\n",
    "    end\n",
    "    \n",
    "\tfig\n",
    "end"
   ]
  },
  {
   "cell_type": "code",
   "execution_count": null,
   "id": "13",
   "metadata": {},
   "outputs": [],
   "source": []
  },
  {
   "cell_type": "markdown",
   "id": "14",
   "metadata": {
    "jp-MarkdownHeadingCollapsed": true
   },
   "source": [
    "# 1e7"
   ]
  },
  {
   "cell_type": "code",
   "execution_count": null,
   "id": "15",
   "metadata": {},
   "outputs": [],
   "source": [
    "profs = [\n",
    "    \"exp2d\" => load_profile(\"sculptor/1e7_V31_r3.2/orbit_mean\", \"exp2d_rs0.13\"),\n",
    " \"plummer\" => load_profile(\"sculptor/1e7_V31_r3.2/orbit_mean\", \"plummer_rs0.20\"),\n",
    "\n",
    "];"
   ]
  },
  {
   "cell_type": "code",
   "execution_count": null,
   "id": "16",
   "metadata": {},
   "outputs": [],
   "source": [
    "profs_iso = [\n",
    "    \"exp2d\" => load_isolation(\"sculptor/1e7_V31_r3.2/orbit_mean\", \"exp2d_rs0.13\"),\n",
    "    \"plummer\" => load_isolation(\"sculptor/1e7_V31_r3.2/orbit_mean\", \"plummer_rs0.20\"),\n",
    "];"
   ]
  },
  {
   "cell_type": "code",
   "execution_count": null,
   "id": "17",
   "metadata": {},
   "outputs": [],
   "source": [
    "compare_v_t(profs, profs_iso)"
   ]
  },
  {
   "cell_type": "code",
   "execution_count": null,
   "id": "18",
   "metadata": {},
   "outputs": [],
   "source": [
    "compare_profiles(profs)"
   ]
  },
  {
   "cell_type": "code",
   "execution_count": null,
   "id": "19",
   "metadata": {},
   "outputs": [],
   "source": [
    "compare_profiles(profs_iso)"
   ]
  },
  {
   "cell_type": "code",
   "execution_count": null,
   "id": "20",
   "metadata": {},
   "outputs": [],
   "source": []
  },
  {
   "cell_type": "markdown",
   "id": "21",
   "metadata": {},
   "source": [
    "### Comparison between orbits"
   ]
  },
  {
   "cell_type": "code",
   "execution_count": null,
   "id": "22",
   "metadata": {},
   "outputs": [],
   "source": [
    "profs = [\n",
    "    \"mean\" => load_profile(\"sculptor/1e7_V31_r3.2/orbit_mean\", \"exp2d_rs0.13\"),\n",
    "    \"smallperi\" => load_profile(\"sculptor/1e7_V31_r3.2/orbit_smallperi\", \"exp2d_rs0.08\"),\n",
    "    ];"
   ]
  },
  {
   "cell_type": "code",
   "execution_count": null,
   "id": "23",
   "metadata": {},
   "outputs": [],
   "source": [
    "profs_iso = [\n",
    "    \"mean\" => load_isolation(\"sculptor/1e7_V31_r3.2/orbit_mean\", \"exp2d_rs0.13\"),\n",
    "    \"smallperi\" => load_isolation(\"sculptor/1e7_V31_r3.2/orbit_smallperi\", \"exp2d_rs0.08\"),\n",
    "];"
   ]
  },
  {
   "cell_type": "code",
   "execution_count": null,
   "id": "24",
   "metadata": {},
   "outputs": [],
   "source": [
    "compare_v_t(profs, profs_iso)"
   ]
  },
  {
   "cell_type": "code",
   "execution_count": null,
   "id": "25",
   "metadata": {},
   "outputs": [],
   "source": [
    "profs = [\n",
    "    \"mean\" => load_profile(\"sculptor/1e7_V31_r3.2/orbit_mean\", \"plummer_rs0.20\"),\n",
    "    \"smallperi\" => load_profile(\"sculptor/1e7_V31_r3.2/orbit_smallperi\", \"plummer_rs0.18\"),\n",
    "    ];"
   ]
  },
  {
   "cell_type": "code",
   "execution_count": null,
   "id": "26",
   "metadata": {},
   "outputs": [],
   "source": [
    "profs_iso = [\n",
    "    \"mean\" => load_isolation(\"sculptor/1e7_V31_r3.2/orbit_mean\", \"plummer_rs0.20\"),\n",
    "    \"smallperi\" => load_isolation(\"sculptor/1e7_V31_r3.2/orbit_smallperi\", \"plummer_rs0.18\"),\n",
    "];"
   ]
  },
  {
   "cell_type": "code",
   "execution_count": null,
   "id": "27",
   "metadata": {},
   "outputs": [],
   "source": [
    "compare_v_t(profs, profs_iso)"
   ]
  },
  {
   "cell_type": "markdown",
   "id": "28",
   "metadata": {},
   "source": [
    "# 1e6"
   ]
  },
  {
   "cell_type": "code",
   "execution_count": null,
   "id": "29",
   "metadata": {},
   "outputs": [],
   "source": [
    "profs = [\n",
    "    \"mean\" => load_profile(\"sculptor/1e6_V31_r3.2/orbit_mean\", \"exp2d_rs0.13\"),\n",
    "    \"smallperi\" => load_profile(\"sculptor/1e6_V31_r3.2/orbit_smallperi\", \"exp2d_rs0.13\"),\n",
    "    \"V+21\" => load_profile(\"sculptor/1e6_V31_r3.2/vasiliev+21_mean\", \"exp2d_rs0.13\"),\n",
    "    \"V+21 small\" => load_profile(\"sculptor/1e6_V31_r3.2/vasiliev+21_smallperi\", \"exp2d_rs0.13\"),\n",
    "    \"V+21b\" => load_profile(\"sculptor/1e6_V31_r4.2/vasiliev+21_smallperi\", \"exp2d_rs0.13\"),\n",
    "    ];"
   ]
  },
  {
   "cell_type": "code",
   "execution_count": null,
   "id": "30",
   "metadata": {},
   "outputs": [],
   "source": [
    "profs = load_profiles(\"sculptor/1e6_V31_r3.2/orbit_mean\", \"exp2d_rs0.13\");"
   ]
  },
  {
   "cell_type": "code",
   "execution_count": null,
   "id": "31",
   "metadata": {},
   "outputs": [],
   "source": [
    "compare_profiles_t(profs, sequential=true, limits=(-2, 1.5, -20, 3))"
   ]
  },
  {
   "cell_type": "code",
   "execution_count": null,
   "id": "32",
   "metadata": {},
   "outputs": [],
   "source": [
    "profs = load_profiles(\"sculptor/1e6_V31_r3.2/vasiliev+21_smallperi/\", \"exp2d_rs0.13\");"
   ]
  },
  {
   "cell_type": "code",
   "execution_count": null,
   "id": "33",
   "metadata": {},
   "outputs": [],
   "source": [
    "compare_profiles_t(profs, sequential=true, limits=(-2, 1.5, -20, 3))"
   ]
  },
  {
   "cell_type": "code",
   "execution_count": null,
   "id": "34",
   "metadata": {},
   "outputs": [],
   "source": [
    "profs_iso = [\n",
    "    \"mean\" => load_isolation(\"sculptor/1e6_V31_r3.2/orbit_mean\", \"exp2d_rs0.13\"),\n",
    "    \"smallperi\" => load_isolation(\"sculptor/1e6_V31_r3.2/orbit_smallperi\", \"exp2d_rs0.13\"),\n",
    "    \"V+21\" => load_isolation(\"sculptor/1e6_V31_r3.2/vasiliev+21_mean\", \"exp2d_rs0.13\"),\n",
    "    \"V+21 small\" => load_isolation(\"sculptor/1e6_V31_r3.2/vasiliev+21_smallperi\", \"exp2d_rs0.13\"),\n",
    "    \"V+21b\" => load_isolation(\"sculptor/1e6_V31_r4.2/vasiliev+21_smallperi\", \"exp2d_rs0.13\"),\n",
    "];"
   ]
  },
  {
   "cell_type": "code",
   "execution_count": null,
   "id": "35",
   "metadata": {},
   "outputs": [],
   "source": [
    "compare_v_t(profs, profs_iso, x_shifts=[0, 0, 4.977,4.977,4.977, ], legend_position=:rt)"
   ]
  },
  {
   "cell_type": "code",
   "execution_count": null,
   "id": "36",
   "metadata": {},
   "outputs": [],
   "source": [
    "profs = [\n",
    "    \"V+21\" => load_profile(\"sculptor/1e6_V31_r3.2/vasiliev+21_mean\", \"exp2d_rs0.13\"),\n",
    "    \"V+21 small\" => load_profile(\"sculptor/1e6_V31_r3.2/vasiliev+21_smallperi\", \"exp2d_rs0.13\"),\n",
    "    \"V+21 heavylmc\" => load_profile(\"sculptor/1e6_V31_r3.2/vasiliev+21_heavylmc\", \"exp2d_rs0.13\"),\n",
    "    \"V+21 heavylmc 2peri\" => load_profile(\"sculptor/1e6_V31_r3.2/vasiliev+21_heavylmc_smallperilmc\", \"exp2d_rs0.13\"),\n",
    "    ];"
   ]
  },
  {
   "cell_type": "code",
   "execution_count": null,
   "id": "37",
   "metadata": {},
   "outputs": [],
   "source": [
    "profs_iso = [\n",
    "    \"V+21\" => load_isolation(\"sculptor/1e6_V31_r3.2/vasiliev+21_mean\", \"exp2d_rs0.13\"),\n",
    "    \"V+21 small\" => load_isolation(\"sculptor/1e6_V31_r3.2/vasiliev+21_smallperi\", \"exp2d_rs0.13\"),\n",
    "    \"V+21 heavylmc\" => load_isolation(\"sculptor/1e6_V31_r3.2/vasiliev+21_heavylmc\", \"exp2d_rs0.13\"),\n",
    "    \"V+21 heavylmc 2peri\" => load_isolation(\"sculptor/1e6_V31_r3.2/vasiliev+21_heavylmc_smallperilmc\", \"exp2d_rs0.13\"),\n",
    "];"
   ]
  },
  {
   "cell_type": "code",
   "execution_count": null,
   "id": "38",
   "metadata": {},
   "outputs": [],
   "source": [
    "compare_v_t(profs, profs_iso, x_shifts=[4.977,4.977,4.977, 4.977], legend_position=:lb)"
   ]
  },
  {
   "cell_type": "code",
   "execution_count": null,
   "id": "39",
   "metadata": {},
   "outputs": [],
   "source": []
  },
  {
   "cell_type": "code",
   "execution_count": null,
   "id": "40",
   "metadata": {},
   "outputs": [],
   "source": [
    "profs = [\n",
    "    \"V+21\" => load_profile(\"sculptor/1e6_V31_r3.2/vasiliev+21_mean\", \"exp2d_rs0.13\"),\n",
    "    \"L3M11\" => load_profile(\"sculptor/1e6_V31_r3.2/vasiliev24_L3M11_smallperi\", \"exp2d_rs0.13\"),\n",
    "    ];"
   ]
  },
  {
   "cell_type": "code",
   "execution_count": null,
   "id": "41",
   "metadata": {},
   "outputs": [],
   "source": [
    "compare_profiles(profs[end].second)"
   ]
  },
  {
   "cell_type": "code",
   "execution_count": null,
   "id": "42",
   "metadata": {},
   "outputs": [],
   "source": [
    "profs_iso = [\n",
    "    \"V+21\" => load_isolation(\"sculptor/1e6_V31_r3.2/vasiliev+21_mean\", \"exp2d_rs0.13\"),\n",
    "    \"L3M11\" => load_isolation(\"sculptor/1e6_V31_r3.2/vasiliev24_L3M11_smallperi\", \"exp2d_rs0.13\"),\n",
    "];"
   ]
  },
  {
   "cell_type": "code",
   "execution_count": null,
   "id": "43",
   "metadata": {},
   "outputs": [],
   "source": [
    "compare_v_t(profs, profs_iso, x_shifts=[4.977,10], legend_position=:lb)"
   ]
  },
  {
   "cell_type": "code",
   "execution_count": null,
   "id": "44",
   "metadata": {},
   "outputs": [],
   "source": [
    "compare_v_t(profs, legend_position=:lb)"
   ]
  },
  {
   "cell_type": "code",
   "execution_count": null,
   "id": "45",
   "metadata": {},
   "outputs": [],
   "source": []
  },
  {
   "cell_type": "code",
   "execution_count": null,
   "id": "46",
   "metadata": {},
   "outputs": [],
   "source": [
    "profs = load_profiles(\"sculptor/1e6_V31_r3.2/vasiliev24_L2M11_extremeperi\", \"exp2d_rs0.13\");"
   ]
  },
  {
   "cell_type": "code",
   "execution_count": null,
   "id": "47",
   "metadata": {},
   "outputs": [],
   "source": [
    "compare_profiles_t(profs, sequential=true, limits=(-2, 1, -15, 3))\n"
   ]
  },
  {
   "cell_type": "code",
   "execution_count": null,
   "id": "48",
   "metadata": {},
   "outputs": [],
   "source": [
    "plot_v_t(profs)"
   ]
  },
  {
   "cell_type": "code",
   "execution_count": null,
   "id": "49",
   "metadata": {},
   "outputs": [],
   "source": [
    "prof_i = profs[1].second"
   ]
  },
  {
   "cell_type": "code",
   "execution_count": null,
   "id": "50",
   "metadata": {},
   "outputs": [],
   "source": [
    "prof_i."
   ]
  }
 ],
 "metadata": {
  "kernelspec": {
   "display_name": "Julia 1.11.2",
   "language": "julia",
   "name": "julia-1.11"
  },
  "language_info": {
   "file_extension": ".jl",
   "mimetype": "application/julia",
   "name": "julia",
   "version": "1.11.2"
  }
 },
 "nbformat": 4,
 "nbformat_minor": 5
}
