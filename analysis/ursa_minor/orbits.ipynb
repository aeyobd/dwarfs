{
 "cells": [
  {
   "cell_type": "code",
   "execution_count": null,
   "id": "0",
   "metadata": {},
   "outputs": [],
   "source": [
    "using CairoMakie\n",
    "using LilGuys\n",
    "using Arya"
   ]
  },
  {
   "cell_type": "code",
   "execution_count": null,
   "id": "1",
   "metadata": {},
   "outputs": [],
   "source": [
    "modelsdir = ENV[\"DWARFS_ROOT\"] * \"/analysis/\""
   ]
  },
  {
   "cell_type": "code",
   "execution_count": null,
   "id": "2",
   "metadata": {},
   "outputs": [],
   "source": []
  },
  {
   "cell_type": "code",
   "execution_count": null,
   "id": "3",
   "metadata": {},
   "outputs": [],
   "source": [
    "using DataFrames, CSV"
   ]
  },
  {
   "cell_type": "code",
   "execution_count": null,
   "id": "4",
   "metadata": {},
   "outputs": [],
   "source": [
    "\"\"\"\n",
    "    load_orbit(filename)\n",
    "\n",
    "\"\"\"\n",
    "function load_orbit(filename)\n",
    "    out = Output(joinpath(modelsdir, filename))\n",
    "\n",
    "    df = DataFrame(\n",
    "        time = out.times * T2GYR, \n",
    "        x = out.x_cen[1, :],\n",
    "        y = out.x_cen[2, :],\n",
    "        z = out.x_cen[3, :],\n",
    "        v_x = out.v_cen[1, :] * V2KMS,\n",
    "        v_y = out.v_cen[2, :] * V2KMS,\n",
    "        v_z = out.v_cen[3, :] * V2KMS,\n",
    "        )\n",
    "\n",
    "    df[!, :R] = @. sqrt(df.x^2 + df.y^2)\n",
    "    df[!, :r] = @.sqrt(df.x^2 + df.y^2 + df.z^2)\n",
    "    return df\n",
    "end"
   ]
  },
  {
   "cell_type": "code",
   "execution_count": null,
   "id": "5",
   "metadata": {},
   "outputs": [],
   "source": [
    "\"\"\"\n",
    "    load_orbit_expected(filename)\n",
    "\n",
    "\"\"\"\n",
    "function load_orbit_expected(filename)\n",
    "    path = joinpath(modelsdir, \"../simulations/\", filename)\n",
    "    df = CSV.read(path, DataFrame)\n",
    "\n",
    "    df[!, :R] = @. sqrt(df.x^2 + df.y^2)\n",
    "    df[!, :r] = @.sqrt(df.x^2 + df.y^2 + df.z^2)\n",
    "    df[!, :time] = df.t * T2GYR\n",
    "\n",
    "    return df\n",
    "end"
   ]
  },
  {
   "cell_type": "code",
   "execution_count": null,
   "id": "6",
   "metadata": {},
   "outputs": [],
   "source": [
    "function compare_orbits_2d(orbits; xname = \"x\", yname = \"y\", xunits = \"kpc\", yunits=\"kpc\",\n",
    "        aspect=DataAspect(), kwargs...\n",
    "    )\n",
    "    fig = Figure()\n",
    "    \n",
    "    ax = Axis(fig[1, 1];\n",
    "        xlabel = \"$xname / $xunits\",\n",
    "        ylabel = \"$yname / $yunits\", \n",
    "        aspect=aspect,\n",
    "        kwargs...\n",
    "    )\n",
    "    \n",
    "    for (label, orbit) in orbits\n",
    "        x = orbit[:, Symbol(xname)]\n",
    "        y = orbit[:, Symbol(yname)]\n",
    "        lines!(x, y, label = label)\n",
    "\n",
    "    end\n",
    "\n",
    "    Legend(fig[1, 2], ax)\n",
    "\n",
    "    fig\n",
    "end"
   ]
  },
  {
   "cell_type": "code",
   "execution_count": null,
   "id": "7",
   "metadata": {},
   "outputs": [],
   "source": [
    "orbits = [\n",
    "    \"mean\" => load_orbit_expected(\"sculptor/1e7_V31_r3.2/orbit_mean/orbit.csv\"),\n",
    "    \"smallperi\" => load_orbit_expected(\"sculptor/1e7_V31_r3.2/orbit_smallperi/orbit.csv\"),\n",
    "    ];"
   ]
  },
  {
   "cell_type": "code",
   "execution_count": null,
   "id": "8",
   "metadata": {},
   "outputs": [],
   "source": [
    "compare_orbits_2d(orbits, yname=\"z\", xname=\"y\", limits=(-100,100,-100,100))"
   ]
  },
  {
   "cell_type": "code",
   "execution_count": null,
   "id": "9",
   "metadata": {},
   "outputs": [],
   "source": [
    "compare_orbits_2d(orbits, yname=\"r\", xname=\"time\", aspect=nothing, xunits=\"Gyr\", limits=(0, 10, 35, 110))"
   ]
  },
  {
   "cell_type": "code",
   "execution_count": null,
   "id": "10",
   "metadata": {},
   "outputs": [],
   "source": [
    "orbits = [\n",
    "    \"iorio fiducial\" => load_orbit_expected(ENV[\"DWARFS_ROOT\"] * \"/analysis/sculptor/mc_orbits/iorio/orbit1.csv\"),\n",
    "    \"iorio extreme\" => load_orbit_expected(ENV[\"DWARFS_ROOT\"] * \"/analysis/sculptor/mc_orbits/iorio/orbit2.csv\"),\n",
    "    ];"
   ]
  },
  {
   "cell_type": "code",
   "execution_count": null,
   "id": "11",
   "metadata": {},
   "outputs": [],
   "source": [
    "compare_orbits_2d(orbits, yname=\"r\", xname=\"time\", aspect=nothing, xunits=\"Gyr\", limits=(0, 10, 35, 110))"
   ]
  },
  {
   "cell_type": "code",
   "execution_count": null,
   "id": "12",
   "metadata": {},
   "outputs": [],
   "source": [
    "compare_orbits_2d(orbits, yname=\"z\", xname=\"y\", limits=(-100,100,-100,100))"
   ]
  },
  {
   "cell_type": "code",
   "execution_count": null,
   "id": "13",
   "metadata": {},
   "outputs": [],
   "source": [
    "orbits = [\n",
    "    \"mean\" => load_orbit(\"sculptor/1e7_V31_r3.2/orbit_mean\"),\n",
    "    \"smallperi\" => load_orbit(\"sculptor/1e7_V31_r3.2/orbit_smallperi\"),\n",
    "    #\"heavy\" => load_orbit(\"sculptor/1e6_V40_r5.9/orbit_mean\"),\n",
    "    ];"
   ]
  },
  {
   "cell_type": "code",
   "execution_count": null,
   "id": "14",
   "metadata": {},
   "outputs": [],
   "source": [
    "compare_orbits_2d(orbits, yname=\"r\", xname=\"time\", aspect=nothing, xunits=\"Gyr\", limits=(0, 10, 35, 110))"
   ]
  },
  {
   "cell_type": "code",
   "execution_count": null,
   "id": "15",
   "metadata": {},
   "outputs": [],
   "source": [
    "compare_orbits_2d(orbits, yname=\"z\", xname=\"y\", limits=(-100,100,-100,100))"
   ]
  },
  {
   "cell_type": "markdown",
   "id": "16",
   "metadata": {},
   "source": []
  },
  {
   "cell_type": "code",
   "execution_count": null,
   "id": "17",
   "metadata": {},
   "outputs": [],
   "source": [
    "compare_orbits_2d(orbits, yname=\"z\", xname=\"R\")"
   ]
  },
  {
   "cell_type": "code",
   "execution_count": null,
   "id": "18",
   "metadata": {},
   "outputs": [],
   "source": [
    "compare_orbits_2d(orbits, xname=\"time\", xunits=\"Gyr\", yname=\"r\", aspect=nothing)"
   ]
  },
  {
   "cell_type": "code",
   "execution_count": null,
   "id": "19",
   "metadata": {},
   "outputs": [],
   "source": []
  }
 ],
 "metadata": {
  "kernelspec": {
   "display_name": "Julia 1.11.1",
   "language": "julia",
   "name": "julia-1.11"
  },
  "language_info": {
   "file_extension": ".jl",
   "mimetype": "application/julia",
   "name": "julia",
   "version": "1.11.1"
  }
 },
 "nbformat": 4,
 "nbformat_minor": 5
}
