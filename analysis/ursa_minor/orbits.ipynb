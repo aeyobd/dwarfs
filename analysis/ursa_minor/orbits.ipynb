{
 "cells": [
  {
   "cell_type": "code",
   "execution_count": null,
   "id": "0",
   "metadata": {},
   "outputs": [],
   "source": [
    "using CairoMakie\n",
    "using LilGuys\n",
    "using Arya"
   ]
  },
  {
   "cell_type": "code",
   "execution_count": null,
   "id": "1",
   "metadata": {},
   "outputs": [],
   "source": [
    "using DataFrames, CSV\n",
    "using OrderedCollections"
   ]
  },
  {
   "cell_type": "code",
   "execution_count": null,
   "id": "2",
   "metadata": {},
   "outputs": [],
   "source": [
    "modelsdir = ENV[\"DWARFS_ROOT\"] * \"/analysis/\""
   ]
  },
  {
   "cell_type": "code",
   "execution_count": null,
   "id": "3",
   "metadata": {},
   "outputs": [],
   "source": []
  },
  {
   "cell_type": "code",
   "execution_count": null,
   "id": "4",
   "metadata": {},
   "outputs": [],
   "source": [
    "import TOML"
   ]
  },
  {
   "cell_type": "code",
   "execution_count": null,
   "id": "5",
   "metadata": {},
   "outputs": [],
   "source": [
    "\"\"\"\n",
    "    load_orbit(filename)\n",
    "\n",
    "\"\"\"\n",
    "function load_orbit(filename)\n",
    "    out = Output(joinpath(modelsdir, filename))\n",
    "\n",
    "    df = DataFrame(\n",
    "        time = out.times * T2GYR, \n",
    "        x = out.x_cen[1, :],\n",
    "        y = out.x_cen[2, :],\n",
    "        z = out.x_cen[3, :],\n",
    "        v_x = out.v_cen[1, :] * V2KMS,\n",
    "        v_y = out.v_cen[2, :] * V2KMS,\n",
    "        v_z = out.v_cen[3, :] * V2KMS,\n",
    "        )\n",
    "\n",
    "    df[!, :R] = @. sqrt(df.x^2 + df.y^2)\n",
    "    df[!, :r] = @.sqrt(df.x^2 + df.y^2 + df.z^2)\n",
    "\n",
    "    L = LilGuys.calc_L_spec(out.x_cen, out.v_cen)\n",
    "\n",
    "    df[!, :Lx] = L[1, :]\n",
    "    df[!, :Ly] = L[2, :]\n",
    "    df[!, :Lz] = L[3, :]\n",
    "\n",
    "    pot = agama.Potential(joinpath(modelsdir, filename, \"simulation/agama_potential.ini\"))\n",
    "\n",
    "    act, ang = get_actions(pot, out.x_cen, out.v_cen)\n",
    "\n",
    "    df[!, :Jr] = act[1, :]\n",
    "    df[!, :Jz] = act[2, :]\n",
    "    df[!, :Jϕ] = act[3, :]\n",
    "    \n",
    "    df[!, :Θr] = ang[1, :]\n",
    "    df[!, :Θz] = ang[2, :]\n",
    "    df[!, :Θϕ] = ang[3, :]\n",
    "\n",
    "    idx_f = TOML.parsefile(joinpath(modelsdir, filename, \"orbital_properties.toml\"))[\"idx_f\"]\n",
    "\n",
    "\n",
    "    snap_cen = Snapshot(out.x_cen, out.v_cen, zeros(size(out.x_cen, 2)))\n",
    "    obs_c = LilGuys.to_gaia(snap_cen, add_centre=false)\n",
    "\n",
    "    df[!, :ra] = obs_c.ra\n",
    "    df[!, :dec] = obs_c.dec\n",
    "    df[!, :distance] = obs_c.distance\n",
    "    df[!, :pmra] = obs_c.pmra\n",
    "    df[!, :pmdec] = obs_c.pmdec\n",
    "    df[!, :radial_velocity] = obs_c.radial_velocity\n",
    "\n",
    "    return df[1:idx_f, :]\n",
    "end"
   ]
  },
  {
   "cell_type": "code",
   "execution_count": null,
   "id": "6",
   "metadata": {},
   "outputs": [],
   "source": [
    "\"\"\"\n",
    "    load_orbit_expected(filename)\n",
    "\n",
    "\"\"\"\n",
    "function load_orbit_expected(filename)\n",
    "    path = joinpath(modelsdir, \"../simulations/\", filename)\n",
    "    df = CSV.read(path, DataFrame)\n",
    "\n",
    "    df[!, :R] = @. sqrt(df.x^2 + df.y^2)\n",
    "    df[!, :r] = @.sqrt(df.x^2 + df.y^2 + df.z^2)\n",
    "    df[!, :time] = df.t * T2GYR\n",
    "\n",
    "    return df\n",
    "end"
   ]
  },
  {
   "cell_type": "code",
   "execution_count": null,
   "id": "7",
   "metadata": {},
   "outputs": [],
   "source": [
    "function compare_orbits_2d(orbits; xname = \"x\", yname = \"y\", xunits = \"kpc\", yunits=\"kpc\",\n",
    "        aspect=DataAspect(), kwargs...\n",
    "    )\n",
    "    fig = Figure()\n",
    "    \n",
    "    ax = Axis(fig[1, 1];\n",
    "        xlabel = \"$xname / $xunits\",\n",
    "        ylabel = \"$yname / $yunits\", \n",
    "        aspect=aspect,\n",
    "        kwargs...\n",
    "    )\n",
    "    \n",
    "    for (label, orbit) in orbits\n",
    "        x = orbit[:, Symbol(xname)]\n",
    "        y = orbit[:, Symbol(yname)]\n",
    "        lines!(x, y, label = label)\n",
    "\n",
    "    end\n",
    "\n",
    "    Legend(fig[1, 2], ax)\n",
    "\n",
    "    fig\n",
    "end"
   ]
  },
  {
   "cell_type": "code",
   "execution_count": null,
   "id": "8",
   "metadata": {},
   "outputs": [],
   "source": [
    "orbits = [\n",
    "    \"mean\" => load_orbit_expected(\"sculptor/1e7_V31_r3.2/orbit_mean/orbit.csv\"),\n",
    "    \"smallperi\" => load_orbit_expected(\"sculptor/1e7_V31_r3.2/orbit_smallperi/orbit.csv\"),\n",
    "    ];"
   ]
  },
  {
   "cell_type": "code",
   "execution_count": null,
   "id": "9",
   "metadata": {},
   "outputs": [],
   "source": [
    "compare_orbits_2d(orbits, yname=\"z\", xname=\"y\", limits=(-100,100,-100,100))"
   ]
  },
  {
   "cell_type": "code",
   "execution_count": null,
   "id": "10",
   "metadata": {},
   "outputs": [],
   "source": [
    "compare_orbits_2d(orbits, yname=\"r\", xname=\"time\", aspect=nothing, xunits=\"Gyr\", limits=(0, 10, 35, 110))"
   ]
  },
  {
   "cell_type": "code",
   "execution_count": null,
   "id": "11",
   "metadata": {},
   "outputs": [],
   "source": [
    "orbits = [\n",
    "    \"iorio fiducial\" => load_orbit_expected(ENV[\"DWARFS_ROOT\"] * \"/analysis/sculptor/mc_orbits/iorio/orbit1.csv\"),\n",
    "    \"iorio extreme\" => load_orbit_expected(ENV[\"DWARFS_ROOT\"] * \"/analysis/sculptor/mc_orbits/iorio/orbit2.csv\"),\n",
    "    ];"
   ]
  },
  {
   "cell_type": "code",
   "execution_count": null,
   "id": "12",
   "metadata": {},
   "outputs": [],
   "source": [
    "compare_orbits_2d(orbits, yname=\"r\", xname=\"time\", aspect=nothing, xunits=\"Gyr\", limits=(0, 10, 35, 110))"
   ]
  },
  {
   "cell_type": "code",
   "execution_count": null,
   "id": "13",
   "metadata": {},
   "outputs": [],
   "source": [
    "compare_orbits_2d(orbits, yname=\"z\", xname=\"y\", limits=(-100,100,-100,100))"
   ]
  },
  {
   "cell_type": "code",
   "execution_count": null,
   "id": "14",
   "metadata": {},
   "outputs": [],
   "source": [
    "orbits = [\n",
    "    \"mean\" => load_orbit(\"sculptor/1e7_V31_r3.2/orbit_mean\"),\n",
    "    \"smallperi\" => load_orbit(\"sculptor/1e7_V31_r3.2/orbit_smallperi\"),\n",
    "    #\"heavy\" => load_orbit(\"sculptor/1e6_V40_r5.9/orbit_mean\"),\n",
    "    ];"
   ]
  },
  {
   "cell_type": "code",
   "execution_count": null,
   "id": "15",
   "metadata": {},
   "outputs": [],
   "source": [
    "compare_orbits_2d(orbits, yname=\"r\", xname=\"time\", aspect=nothing, xunits=\"Gyr\", limits=(0, 10, 35, 110))"
   ]
  },
  {
   "cell_type": "code",
   "execution_count": null,
   "id": "16",
   "metadata": {},
   "outputs": [],
   "source": [
    "compare_orbits_2d(orbits, yname=\"z\", xname=\"y\", limits=(-100,100,-100,100))"
   ]
  },
  {
   "cell_type": "markdown",
   "id": "17",
   "metadata": {},
   "source": []
  },
  {
   "cell_type": "code",
   "execution_count": null,
   "id": "18",
   "metadata": {},
   "outputs": [],
   "source": [
    "compare_orbits_2d(orbits, yname=\"z\", xname=\"R\")"
   ]
  },
  {
   "cell_type": "code",
   "execution_count": null,
   "id": "19",
   "metadata": {},
   "outputs": [],
   "source": [
    "compare_orbits_2d(orbits, xname=\"time\", xunits=\"Gyr\", yname=\"r\", aspect=nothing)"
   ]
  },
  {
   "cell_type": "markdown",
   "id": "20",
   "metadata": {},
   "source": [
    "# Action comparisons"
   ]
  },
  {
   "cell_type": "code",
   "execution_count": null,
   "id": "21",
   "metadata": {},
   "outputs": [],
   "source": [
    "include(ENV[\"DWARFS_ROOT\"] * \"/utils/agama_utils.jl\")"
   ]
  },
  {
   "cell_type": "code",
   "execution_count": null,
   "id": "22",
   "metadata": {},
   "outputs": [],
   "source": [
    "function compare_orbits_all(orbits)\n",
    "    compare_orbits_2d(orbits, xname=\"time\", xunits=\"Gyr\", yname=\"r\", aspect=nothing) |> display\n",
    "    compare_orbits_2d(orbits, xname=\"R\", xunits=\"kpc\", yname=\"z\") |> display\n",
    "    \n",
    "    compare_orbits_2d(orbits, xname=\"time\", xunits=\"Gyr\", yname=\"Lx\", aspect=nothing) |> display\n",
    "    compare_orbits_2d(orbits, xname=\"time\", xunits=\"Gyr\", yname=\"Ly\", aspect=nothing) |> display\n",
    "    compare_orbits_2d(orbits, xname=\"time\", xunits=\"Gyr\", yname=\"Lz\", aspect=nothing) |> display\n",
    "    \n",
    "    compare_orbits_2d(orbits, xname=\"time\", xunits=\"Gyr\", yname=\"Jr\", aspect=nothing) |> display\n",
    "    compare_orbits_2d(orbits, xname=\"time\", xunits=\"Gyr\", yname=\"Jz\", aspect=nothing) |> display\n",
    "    compare_orbits_2d(orbits, xname=\"time\", xunits=\"Gyr\", yname=\"Jϕ\", aspect=nothing) |> display\n",
    "\n",
    "    compare_orbits_2d(orbits, xname=\"time\", xunits=\"Gyr\", yname=\"Θr\", aspect=nothing) |> display\n",
    "    compare_orbits_2d(orbits, xname=\"time\", xunits=\"Gyr\", yname=\"Θz\", aspect=nothing) |> display\n",
    "    compare_orbits_2d(orbits, xname=\"time\", xunits=\"Gyr\", yname=\"Θϕ\", aspect=nothing) |> display\n",
    "\n",
    "end\n",
    "    "
   ]
  },
  {
   "cell_type": "code",
   "execution_count": null,
   "id": "23",
   "metadata": {},
   "outputs": [],
   "source": [
    "orbits = OrderedDict(\n",
    "    \"mean\" => load_orbit(\"ursa_minor/1e5_v37_r5.0/orbit_mean.2\"),\n",
    "    \"mean2\" => load_orbit(\"ursa_minor/1e6_v37_r5.0/orbit_mean.2\"),\n",
    "    #\"heavy\" => load_orbit(\"sculptor/1e6_V40_r5.9/orbit_mean\"),\n",
    "    )"
   ]
  },
  {
   "cell_type": "code",
   "execution_count": null,
   "id": "24",
   "metadata": {},
   "outputs": [],
   "source": [
    "compare_orbits_all(orbits)"
   ]
  },
  {
   "cell_type": "code",
   "execution_count": null,
   "id": "25",
   "metadata": {},
   "outputs": [],
   "source": [
    "orbits = OrderedDict(\n",
    "    \"point\" =>\n",
    "    \"mean0\" => load_orbit(\"ursa_minor/1e6_v37_r5.0/orbit_mean\"),\n",
    "    \"mean1\" => load_orbit(\"ursa_minor/1e5_v37_r5.0/orbit_mean.1\"),\n",
    "    \"mean2\" => load_orbit(\"ursa_minor/1e5_v37_r5.0/orbit_mean.2\"),\n",
    "    \"mean2_hr\" => load_orbit(\"ursa_minor/1e6_v37_r5.0/orbit_mean.2\"),\n",
    "    )"
   ]
  },
  {
   "cell_type": "code",
   "execution_count": null,
   "id": "26",
   "metadata": {},
   "outputs": [],
   "source": [
    "compare_orbits_all(orbits)"
   ]
  },
  {
   "cell_type": "code",
   "execution_count": null,
   "id": "27",
   "metadata": {},
   "outputs": [],
   "source": [
    "obs_props_file = joinpath(ENV[\"DWARFS_ROOT\"], \"observations/ursa_minor/observed_properties.toml\")"
   ]
  },
  {
   "cell_type": "code",
   "execution_count": null,
   "id": "28",
   "metadata": {},
   "outputs": [],
   "source": []
  },
  {
   "cell_type": "code",
   "execution_count": null,
   "id": "29",
   "metadata": {},
   "outputs": [],
   "source": [
    "obs_props = TOML.parsefile(obs_props_file)\n",
    "\n",
    "let\n",
    "    icrs = LilGuys.coord_from_file(obs_props_file)\n",
    "    gc = LilGuys.transform(LilGuys.Galactocentric, icrs)\n",
    "    \n",
    "    obs_props[\"R\"] = @. sqrt(gc.x^2 + gc.y^2)\n",
    "    obs_props[\"r\"] = @.sqrt(gc.x^2 + gc.y^2 + gc.z^2)\n",
    "\n",
    "    obs_props[\"z\"] = gc.z\n",
    "    \n",
    "    x_cen = LilGuys.position_of(gc)\n",
    "    v_cen = LilGuys.velocity_of(gc) / V2KMS\n",
    "    L = LilGuys.calc_L_spec(x_cen, v_cen)\n",
    "    \n",
    "    obs_props[\"Lx\"] = L[1]\n",
    "    obs_props[\"Ly\"] = L[2]\n",
    "    obs_props[\"Lz\"] = L[3]\n",
    "    \n",
    "    pot = agama.Potential(joinpath(ENV[\"DWARFS_ROOT\"], \"agama/potentials/EP2020.ini\"))\n",
    "\n",
    "    act, ang = get_actions(pot, x_cen, v_cen)\n",
    "    \n",
    "    obs_props[\"Jr\"] = act[1, 1]\n",
    "    obs_props[\"Jz\"] = act[2, 1]\n",
    "    obs_props[\"Jϕ\"] = act[3, 1]\n",
    "    \n",
    "    obs_props[\"Θr\"] = ang[1, 1]\n",
    "    obs_props[\"Θz\"] = ang[2, 1]\n",
    "    obs_props[\"Θϕ\"] = ang[3, 1]\n",
    "end\n",
    "\n",
    "obs_props"
   ]
  },
  {
   "cell_type": "code",
   "execution_count": null,
   "id": "30",
   "metadata": {},
   "outputs": [],
   "source": [
    "function plot_gradients(orbits;\n",
    "        ys=[\"ra\", \"dec\", \"distance\", \"pmra\", \"pmdec\", \"radial_velocity\"]\n",
    "    )\n",
    "    \n",
    "    xs = [\"Jr\", \"Jz\", \"Jϕ\", \"Θr\", \"Θz\", \"Θϕ\"]\n",
    "\n",
    "    fig = Figure(size=(1000, 1000))\n",
    "\n",
    "    for j in eachindex(xs)\n",
    "        x = xs[j]\n",
    "        for i in eachindex(ys)\n",
    "    \n",
    "            y = ys[i]\n",
    "            ax = Axis(fig[i,j], \n",
    "                xlabel = x,\n",
    "                ylabel = y\n",
    "            )\n",
    "\n",
    "            hlines!(obs_props[y])\n",
    "            if y*\"_err\" ∈ keys(obs_props)\n",
    "                hspan!(obs_props[y] - obs_props[y*\"_err\"], obs_props[y] + obs_props[y*\"_err\"], color=(COLORS[1], 0.2))\n",
    "            end\n",
    "\n",
    "            \n",
    "            for (k, orbit) in orbits\n",
    "                scatter!(orbit[1, x], orbit[end, y])\n",
    "                text!(orbit[1, x], orbit[end, y], text=k)\n",
    "            end\n",
    "\n",
    "    \n",
    "            if i < lastindex(ys)\n",
    "                hidexdecorations!(ax, grid=false)\n",
    "            end\n",
    "            if j != 1\n",
    "                hideydecorations!(ax, grid=false)\n",
    "            end\n",
    "        end\n",
    "    end\n",
    "    \n",
    "    fig\n",
    "end"
   ]
  },
  {
   "cell_type": "code",
   "execution_count": null,
   "id": "31",
   "metadata": {},
   "outputs": [],
   "source": [
    "plot_gradients(orbits)"
   ]
  },
  {
   "cell_type": "code",
   "execution_count": null,
   "id": "32",
   "metadata": {},
   "outputs": [],
   "source": [
    "plot_gradients(orbits, ys=[\"Jr\", \"Jz\", \"Jϕ\", \"Θr\", \"Θz\", \"Θϕ\" ])"
   ]
  },
  {
   "cell_type": "code",
   "execution_count": null,
   "id": "33",
   "metadata": {},
   "outputs": [],
   "source": [
    "plot_gradients(orbits, ys=[\"R\", \"z\", \"Lx\", \"Ly\", \"Lz\"])"
   ]
  },
  {
   "cell_type": "code",
   "execution_count": null,
   "id": "34",
   "metadata": {},
   "outputs": [],
   "source": []
  },
  {
   "cell_type": "code",
   "execution_count": null,
   "id": "35",
   "metadata": {},
   "outputs": [],
   "source": [
    "orbits = OrderedDict(\n",
    "    \"point\" => load_orbit_expected(\"ursa_minor/1e6_v37_r5.0/orbit_mean/orbit.csv\"),\n",
    "     \"nbody\" => load_orbit(\"ursa_minor/1e6_v37_r5.0/orbit_mean.2\")\n",
    "    )\n",
    "\n",
    "for (k) in keys(orbits)\n",
    "    orbits[k].time .-= orbits[k].time[end]\n",
    "end"
   ]
  },
  {
   "cell_type": "code",
   "execution_count": null,
   "id": "36",
   "metadata": {},
   "outputs": [],
   "source": [
    "compare_orbits_2d(orbits, xname=\"y\", yname=\"z\")"
   ]
  },
  {
   "cell_type": "code",
   "execution_count": null,
   "id": "37",
   "metadata": {},
   "outputs": [],
   "source": [
    "compare_orbits_2d(orbits, xname=\"time\", yname=\"r\", aspect=nothing)"
   ]
  },
  {
   "cell_type": "code",
   "execution_count": null,
   "id": "38",
   "metadata": {},
   "outputs": [],
   "source": []
  }
 ],
 "metadata": {
  "kernelspec": {
   "display_name": "Julia 1.11.3",
   "language": "julia",
   "name": "julia-1.11"
  },
  "language_info": {
   "file_extension": ".jl",
   "mimetype": "application/julia",
   "name": "julia",
   "version": "1.11.3"
  }
 },
 "nbformat": 4,
 "nbformat_minor": 5
}
