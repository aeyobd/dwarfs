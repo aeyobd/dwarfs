{
 "cells": [
  {
   "cell_type": "code",
   "execution_count": null,
   "id": "eb2ba4e4-b4ef-4c47-968c-d498f4c02bbd",
   "metadata": {},
   "outputs": [],
   "source": [
    "using LiilGuys\n",
    "using Arya\n",
    "using CairoMakie"
   ]
  },
  {
   "cell_type": "code",
   "execution_count": null,
   "id": "84ad2ca5-ed8b-4f0e-b699-3560aa437b31",
   "metadata": {},
   "outputs": [],
   "source": []
  }
 ],
 "metadata": {
  "kernelspec": {
   "display_name": "Julia 1.11.5",
   "language": "julia",
   "name": "julia-1.11"
  },
  "language_info": {
   "file_extension": ".jl",
   "mimetype": "application/julia",
   "name": "julia",
   "version": "1.11.5"
  }
 },
 "nbformat": 4,
 "nbformat_minor": 5
}
