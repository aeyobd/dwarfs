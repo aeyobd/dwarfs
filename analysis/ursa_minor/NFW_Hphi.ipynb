{
 "cells": [
  {
   "cell_type": "code",
   "execution_count": null,
   "id": "0",
   "metadata": {},
   "outputs": [],
   "source": [
    "using LilGuys\n",
    "using CairoMakie\n"
   ]
  },
  {
   "cell_type": "code",
   "execution_count": null,
   "id": "1",
   "metadata": {},
   "outputs": [],
   "source": [
    "using PythonCall\n",
    "agama = pyimport(\"agama\")\n",
    "np = pyimport(\"numpy\")"
   ]
  },
  {
   "cell_type": "code",
   "execution_count": null,
   "id": "2",
   "metadata": {},
   "outputs": [],
   "source": [
    "halo = agama.Potential(type=\"NFW\", scaleRadius=2.7, mass=1.0)"
   ]
  },
  {
   "cell_type": "code",
   "execution_count": null,
   "id": "3",
   "metadata": {},
   "outputs": [],
   "source": [
    "using LinearAlgebra: norm, det"
   ]
  },
  {
   "cell_type": "code",
   "execution_count": null,
   "id": "4",
   "metadata": {},
   "outputs": [],
   "source": [
    "a = [0.3, 0.9, -0.2]\n",
    "a /= norm(a)"
   ]
  },
  {
   "cell_type": "code",
   "execution_count": null,
   "id": "5",
   "metadata": {},
   "outputs": [],
   "source": [
    "N = 100\n",
    "r = LinRange(-2, 2, N)\n",
    "\n",
    "x = 10 .^ r  .*   LilGuys.rand_unit(1)'\n",
    "\n",
    "x_np = np.array(x)"
   ]
  },
  {
   "cell_type": "code",
   "execution_count": null,
   "id": "6",
   "metadata": {},
   "outputs": [],
   "source": [
    "hess = pyconvert(Matrix{Float64}, halo.eval(x_np, der=true))'"
   ]
  },
  {
   "cell_type": "code",
   "execution_count": null,
   "id": "7",
   "metadata": {},
   "outputs": [],
   "source": [
    "hess_labels = [\n",
    "    \"xx\", \"yy\", \"zz\", \n",
    "    \"xy\", \"yz\", \"zx\"\n",
    "    ]"
   ]
  },
  {
   "cell_type": "code",
   "execution_count": null,
   "id": "8",
   "metadata": {},
   "outputs": [],
   "source": [
    "for i in 1:10\n",
    "    A = hess[:, i]\n",
    "    M = [A[1] A[5] A[6]\n",
    "        A[5] A[2]  A[4]\n",
    "        A[6] A[4] A[3]\n",
    "        ]\n",
    "\n",
    "    println(A[1] + A[2] + A[3])\n",
    "end"
   ]
  },
  {
   "cell_type": "code",
   "execution_count": null,
   "id": "9",
   "metadata": {},
   "outputs": [],
   "source": [
    "tr = @. -(hess[1, :] + hess[2, :] + hess[3, :])"
   ]
  },
  {
   "cell_type": "code",
   "execution_count": null,
   "id": "10",
   "metadata": {},
   "outputs": [],
   "source": [
    "fig = Figure()\n",
    "\n",
    "\n",
    "filt = r .> -1\n",
    "ax = Axis(fig[1,1])\n",
    "for i in 1:6\n",
    "    lines!(r[filt], (hess[i, filt]) ./ maximum(abs.(hess[i, filt])))\n",
    "end\n",
    "\n",
    "fig"
   ]
  },
  {
   "cell_type": "code",
   "execution_count": null,
   "id": "11",
   "metadata": {},
   "outputs": [],
   "source": [
    "fig = Figure()\n",
    "\n",
    "\n",
    "filt = r .> -1\n",
    "for i in 1:6\n",
    "    ax = Axis(fig[(i-1)%2 + 1, (i-1)÷2 + 1],\n",
    "        ylabel=hess_labels[i],\n",
    "        xlabel = \"log r\",\n",
    "    )\n",
    "\n",
    "    lines!(r[filt], (hess[i, filt]) .* (10 .^ r)[filt] .^ (2))\n",
    "end\n",
    "\n",
    "fig"
   ]
  },
  {
   "cell_type": "code",
   "execution_count": null,
   "id": "12",
   "metadata": {},
   "outputs": [],
   "source": [
    "h = NFW(r_s=2.7, M200=1)"
   ]
  },
  {
   "cell_type": "code",
   "execution_count": null,
   "id": "13",
   "metadata": {},
   "outputs": [],
   "source": [
    "f = lines(r, log10.(-tr))\n",
    "\n",
    "lines!(r, log10.(calc_ρ.(h, 10 .^ r)) .+ log10(8pi))\n",
    "f"
   ]
  },
  {
   "cell_type": "code",
   "execution_count": null,
   "id": "14",
   "metadata": {},
   "outputs": [],
   "source": []
  }
 ],
 "metadata": {
  "kernelspec": {
   "display_name": "Julia 1.11.2",
   "language": "julia",
   "name": "julia-1.11"
  },
  "language_info": {
   "file_extension": ".jl",
   "mimetype": "application/julia",
   "name": "julia",
   "version": "1.11.2"
  }
 },
 "nbformat": 4,
 "nbformat_minor": 5
}
