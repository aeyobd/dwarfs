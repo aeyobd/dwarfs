{
 "cells": [
  {
   "cell_type": "code",
   "execution_count": null,
   "id": "0",
   "metadata": {},
   "outputs": [],
   "source": [
    "using CairoMakie\n",
    "\n",
    "import LilGuys as lguys\n",
    "using Arya"
   ]
  },
  {
   "cell_type": "code",
   "execution_count": null,
   "id": "1",
   "metadata": {},
   "outputs": [],
   "source": [
    "import TOML"
   ]
  },
  {
   "cell_type": "code",
   "execution_count": null,
   "id": "2",
   "metadata": {},
   "outputs": [],
   "source": [
    "using Measurements"
   ]
  },
  {
   "cell_type": "code",
   "execution_count": null,
   "id": "3",
   "metadata": {},
   "outputs": [],
   "source": [
    "function sigma_axis(gp; kwargs...) \n",
    "\tax = Axis(gp, \n",
    "\t\txlabel=log_r_label,\n",
    "\t\tylabel = L\"\\log \\Sigma\\ / \\textrm{(stars/arcmin^2)}\",\n",
    "        limits=(-1, 2, -2, 2.5)\n",
    "\t\t;kwargs...\n",
    "\t)\n",
    "\n",
    "\treturn fig, ax\n",
    "end"
   ]
  },
  {
   "cell_type": "code",
   "execution_count": null,
   "id": "4",
   "metadata": {},
   "outputs": [],
   "source": [
    "prof_expected = lguys.StellarProfile(\"/astro/dboyea/dwarfs/observations/ursa_minor/density_profiles/fiducial_profile.toml\");"
   ]
  },
  {
   "cell_type": "code",
   "execution_count": null,
   "id": "5",
   "metadata": {},
   "outputs": [],
   "source": [
    "log_r_label = \"log r / arcmin\"\n",
    "log_sigma_label = L\"$\\log \\Sigma$ / N\\,arcmin$^{-2}$\""
   ]
  },
  {
   "cell_type": "code",
   "execution_count": null,
   "id": "6",
   "metadata": {},
   "outputs": [],
   "source": [
    "function plot_finals(models)\n",
    "    \n",
    "    fig = Figure()\n",
    "    Axis(fig[1, 1], \n",
    "        xlabel = log_r_label, \n",
    "        ylabel = log_sigma_label,\n",
    "        limits = (-0.5, 2.3, -2, 2)\n",
    "        )\n",
    "\n",
    "\terrscatter!(prof_expected.log_r, prof_expected.log_Sigma,\n",
    "\t\tyerr=prof_expected.log_Sigma_err,\n",
    "\t\tcolor=:black,\n",
    "        label=\"J+24\",\n",
    "\t)\n",
    "\n",
    "    for (label, model) in models\n",
    "    \tlines!(model.log_r, model.log_Sigma, \n",
    "    \t\t\tlabel=label)\n",
    "    end\n",
    "\n",
    "\taxislegend()\n",
    "\n",
    "\tfig\n",
    "end"
   ]
  },
  {
   "cell_type": "code",
   "execution_count": null,
   "id": "7",
   "metadata": {},
   "outputs": [],
   "source": [
    "function plot_ini_fin(profs, model, normalization=0; \n",
    "        limits=(-0.5, 2.3, -2, 2),\n",
    "        r_b = NaN,\n",
    "        kwargs...\n",
    "    )\n",
    "    \n",
    "    fig = Figure()\n",
    "    Axis(fig[1, 1];\n",
    "        xlabel = log_r_label, \n",
    "        ylabel = log_sigma_label,\n",
    "        limits = limits, \n",
    "        kwargs...\n",
    "    )\n",
    "\n",
    "\terrscatter!(prof_expected.log_r, prof_expected.log_Sigma,\n",
    "\t\tyerr=prof_expected.log_Sigma_err,\n",
    "\t\tcolor=:black,\n",
    "        label=\"J+24\",\n",
    "\t)\n",
    "\n",
    "    for (label, prof) in profs\n",
    "        lines!(prof.log_r, prof.log_Sigma .+ normalization, \n",
    "                label=label)\n",
    "    end\n",
    "\n",
    "\n",
    "    if model !== nothing\n",
    "\n",
    "        x = LinRange(-2, 2.5, 1000)\n",
    "        r = 10 .^ x\n",
    "        y = lguys.calc_Σ.(model, r)\n",
    "    \n",
    "        r_scale = lguys.kpc_to_arcmin(1, profs[1].second.distance)\n",
    "    \n",
    "    \n",
    "        x = x .+ log10(r_scale)\n",
    "        y .*= 1 / r_scale ^ 2\n",
    "    \n",
    "        lines!(x, log10.(y) .+ normalization, linestyle=:dot, color=:black, label=\"expected\")\n",
    "\n",
    "    end\n",
    "    \n",
    "    if r_b !== NaN\n",
    "        dy = limits[4]-limits[3]\n",
    "        dx = limits[2] - limits[1]\n",
    "        \n",
    "        x0 = limits[1]\n",
    "        y0 = limits[3]\n",
    "\n",
    "        a = log10(r_b)\n",
    "        _, prof = profs[end]\n",
    "        idx = argmin(abs.(prof.log_r .- a))\n",
    "        b = prof.log_Sigma[idx] + normalization .+ 0.1dy\n",
    "        va = 0\n",
    "        vb = -0.05dy\n",
    "        \n",
    "        arrows!([a], [b], [va], [vb])\n",
    "        println(a, \", \", b)\n",
    "        text!(a, b, text=L\"r_b\")\n",
    "\n",
    "    end\n",
    "\n",
    "\taxislegend(position=:lb)\n",
    "\n",
    "\n",
    "\tfig\n",
    "end"
   ]
  },
  {
   "cell_type": "code",
   "execution_count": null,
   "id": "8",
   "metadata": {},
   "outputs": [],
   "source": [
    "function mean_groups_with_uncertainties(data::Vector{T}, uncertainties::Vector{T}, n::Int) where T\n",
    "    num_full_groups = div(length(data), n)\n",
    "    remainder = length(data) % n\n",
    "    \n",
    "    # Create arrays to store the means and their uncertainties\n",
    "    means = Vector{T}(undef, num_full_groups + (remainder > 0 ? 1 : 0))\n",
    "    uncertainties_mean = Vector{T}(undef, length(means))\n",
    "    \n",
    "    # Function to compute weighted mean and uncertainty of the mean\n",
    "    function weighted_mean(data_group, uncertainty_group)\n",
    "        weights = 1 ./ (uncertainty_group .^ 2)\n",
    "        m = sum(weights .* data_group) / sum(weights)\n",
    "        uncertainty_of_mean = sqrt(1 / sum(weights))\n",
    "        return (m, uncertainty_of_mean)\n",
    "    end\n",
    "\n",
    "    # Calculate the means and uncertainties of full groups\n",
    "    for i in 1:num_full_groups\n",
    "        start_index = (i - 1) * n + 1\n",
    "        end_index = i * n\n",
    "        means[i], uncertainties_mean[i] = weighted_mean(data[start_index:end_index], uncertainties[start_index:end_index])\n",
    "    end\n",
    "    \n",
    "    # Handle the remaining data, if any\n",
    "    if remainder != 0\n",
    "        start_index = num_full_groups * n + 1\n",
    "        means[end], uncertainties_mean[end] = weighted_mean(data[start_index:end], uncertainties[start_index:end])\n",
    "    end\n",
    "    \n",
    "    return means, uncertainties_mean\n",
    "end\n"
   ]
  },
  {
   "cell_type": "code",
   "execution_count": null,
   "id": "9",
   "metadata": {},
   "outputs": [],
   "source": [
    "function plot_ini_fin_slope(profs, model; \n",
    "        binsize=3,\n",
    "        obs_binsize=2,\n",
    "        limits=(-0.5, 2.3, -2, 2),\n",
    "        r_b = NaN,\n",
    "        figsize=(600, 300),\n",
    "        kwargs...\n",
    "    )\n",
    "    \n",
    "    fig = Figure(size=figsize)\n",
    "    ax = Axis(fig[1, 1];\n",
    "        xlabel = log_r_label, \n",
    "        ylabel = L\"\\Gamma\",\n",
    "        limits = limits, \n",
    "        kwargs...\n",
    "    )\n",
    "\n",
    "    ax_lin = Axis(fig[1, 2];\n",
    "        xlabel = \"r / arcmin\", \n",
    "        ylabel = L\"\\Gamma\",\n",
    "        limits = (0, 10^limits[2], limits[3], limits[4]), \n",
    "        kwargs...\n",
    "    )\n",
    "\n",
    "    x = prof_expected.log_r\n",
    "    y = prof_expected.Gamma\n",
    "    ye = prof_expected.Gamma_err\n",
    "\n",
    "    x = mean_groups(x, obs_binsize)\n",
    "    y, ye = mean_groups_with_uncertainties(y, ye, obs_binsize)\n",
    "    \n",
    "\terrscatter!(ax, x, y,\n",
    "\t\tyerr=ye,\n",
    "\t\tcolor=:black,\n",
    "        label=\"J+24\",\n",
    "\t)\n",
    "\n",
    "\n",
    "    errscatter!(ax_lin, 10 .^ x, y,\n",
    "\t\tyerr=ye,\n",
    "\t\tcolor=:black,\n",
    "\t)\n",
    "\n",
    "    for (label, prof) in profs\n",
    "        x = mean_groups(prof.log_r, binsize)\n",
    "        y = mean_groups(prof.Gamma, binsize)\n",
    "        lines!(ax, x, y, label=label)\n",
    "        lines!(ax_lin, 10 .^ x, y)\n",
    "    end\n",
    "\n",
    "\n",
    "    if model !== nothing\n",
    "\n",
    "        x = LinRange(-2, 2.5, 1000)\n",
    "        r = 10 .^ x\n",
    "        y = lguys.calc_Σ.(model, r)\n",
    "    \n",
    "        r_scale = lguys.kpc_to_arcmin(1, profs[1].second.distance)\n",
    "    \n",
    "    \n",
    "        x = x .+ log10(r_scale)\n",
    "        y .*= 1 / r_scale ^ 2\n",
    "        gamma = lguys.gradient(log10.(y), x)\n",
    "    \n",
    "        lines!(ax, x, gamma, linestyle=:dot, color=:black, label=\"expected\")\n",
    "        lines!(ax_lin, 10 .^ x, gamma, linestyle=:dot, color=:black, label=\"expected\")\n",
    "\n",
    "    end\n",
    "    \n",
    "    if r_b !== NaN\n",
    "        dy = limits[4]-limits[3]\n",
    "        dx = limits[2] - limits[1]\n",
    "        \n",
    "        x0 = limits[1]\n",
    "        y0 = limits[3]\n",
    "\n",
    "        a = log10(r_b)\n",
    "        _, prof = profs[end]\n",
    "        idx = argmin(abs.(prof.log_r .- a))\n",
    "        b = prof.Gamma[idx] .+ 0.1dy\n",
    "        va = 0\n",
    "        vb = -0.05dy\n",
    "        \n",
    "        arrows!(ax, [a], [b], [va], [vb])\n",
    "        println(a, \", \", b)\n",
    "        text!(ax, a, b, text=L\"r_b\")\n",
    "\n",
    "    end\n",
    "\n",
    "\n",
    "    linkyaxes!(ax, ax_lin)\n",
    "    hideydecorations!(ax_lin, grid=false, ticks=false)\n",
    "    \n",
    "\taxislegend(ax, position=:lb)\n",
    "\n",
    "\tfig\n",
    "end"
   ]
  },
  {
   "cell_type": "code",
   "execution_count": null,
   "id": "10",
   "metadata": {},
   "outputs": [],
   "source": [
    "import StatsBase: mean"
   ]
  },
  {
   "cell_type": "code",
   "execution_count": null,
   "id": "11",
   "metadata": {},
   "outputs": [],
   "source": [
    "function mean_groups(data::AbstractVector{T}, n::Int) where T\n",
    "    num_full_groups = div(length(data), n)\n",
    "    remainder = length(data) % n\n",
    "    \n",
    "    # Create an array to store the means\n",
    "    means = Vector{T}(undef, num_full_groups + (remainder > 0 ? 1 : 0))\n",
    "    \n",
    "    # Calculate the means of full groups\n",
    "    for i in 1:num_full_groups\n",
    "        start_index = (i - 1) * n + 1\n",
    "        end_index = i * n\n",
    "        means[i] = mean(data[start_index:end_index])\n",
    "    end\n",
    "    \n",
    "    # Handle the remaining data, if any\n",
    "    if remainder != 0\n",
    "        start_index = num_full_groups * n + 1\n",
    "        means[end] = mean(data[start_index:end])\n",
    "    end\n",
    "    \n",
    "    return means\n",
    "end"
   ]
  },
  {
   "cell_type": "code",
   "execution_count": null,
   "id": "12",
   "metadata": {},
   "outputs": [],
   "source": [
    "mean_groups(1:10, 3)"
   ]
  },
  {
   "cell_type": "code",
   "execution_count": null,
   "id": "13",
   "metadata": {},
   "outputs": [],
   "source": [
    "function get_log_Σ_0(prof, χ2_max=1)\n",
    "\n",
    "    local log_Σ_0, log_Σ_0_err\n",
    "\n",
    "    pre_filt = isfinite.(prof.log_Sigma)\n",
    "    log_r = prof.log_r[pre_filt]\n",
    "    log_Σ = prof.log_Sigma[pre_filt]\n",
    "    log_Σ_err = prof.log_Sigma_err[pre_filt]\n",
    "    @assert issorted(log_r)\n",
    "\n",
    "    for i in eachindex(log_r)\n",
    "        filt = 1:i\n",
    "        log_Σ_0 = lguys.mean(log_Σ[filt] .± log_Σ_err[filt])\n",
    "        log_Σ_0_err = Measurements.uncertainty.(log_Σ_0)\n",
    "        log_Σ_0 = Measurements.value(log_Σ_0)\n",
    "        χ2 = @. (log_Σ_0 - log_Σ)^2 / (log_Σ_err + log_Σ_0_err)^2\n",
    "\n",
    "        χ2_norm = lguys.mean(χ2[filt])\n",
    "\n",
    "        if χ2_norm .> χ2_max\n",
    "            @info \"max radius of $(log_r[i])\"\n",
    "            break\n",
    "        end\n",
    "    end\n",
    "    \n",
    "    return log_Σ_0, log_Σ_0_err\n",
    "end"
   ]
  },
  {
   "cell_type": "code",
   "execution_count": null,
   "id": "14",
   "metadata": {},
   "outputs": [],
   "source": [
    "function get_normalization(prof_f, prof_expected=prof_expected)\n",
    "    log_Σ_0_obs, _ = get_log_Σ_0(prof_expected)\n",
    "    log_Σ_0, _ = get_log_Σ_0(prof_f)\n",
    "\n",
    "    return log_Σ_0_obs - log_Σ_0\n",
    "end"
   ]
  },
  {
   "cell_type": "code",
   "execution_count": null,
   "id": "15",
   "metadata": {},
   "outputs": [],
   "source": [
    "modelsdir = ENV[\"DWARFS_ROOT\"] * \"/analysis/\""
   ]
  },
  {
   "cell_type": "code",
   "execution_count": null,
   "id": "16",
   "metadata": {},
   "outputs": [],
   "source": [
    "function read_profiles(filename, starsname)\n",
    "    \n",
    "    # prof_iso_i = lguys.StellarProfile(modelsdir * filename * \"/stars/$starsname/iso_initial_profile.toml\")\n",
    "    # prof_iso_p = lguys.StellarProfile(modelsdir * filename * \"/stars/$starsname/iso_paint_profile.toml\")\n",
    "    # prof_iso_f = lguys.StellarProfile(modelsdir * filename * \"/stars/$starsname/iso_final_profile.toml\")\n",
    "    \n",
    "    prof_i = lguys.StellarProfile( filename * \"/stars/$starsname/initial_profile.toml\")\n",
    "    prof_f = lguys.StellarProfile(filename * \"/stars/$starsname/final_profile.toml\")\n",
    "    prof_ana = lguys.load_profile(filename * \"/../stars/$starsname/profile.toml\")\n",
    "\n",
    "    \n",
    "    profs = [\n",
    "        #\"iso initial\" => prof_iso_i,\n",
    "        #\"stars initial\" => prof_iso_p,\n",
    "        #\"iso final\" => prof_iso_f,\n",
    "        \"initial\" => prof_i,\n",
    "        \"present day\" => prof_f,\n",
    "    ]\n",
    "\n",
    "    return profs, prof_ana\n",
    "end"
   ]
  },
  {
   "cell_type": "code",
   "execution_count": null,
   "id": "17",
   "metadata": {},
   "outputs": [],
   "source": [
    "function read_profiles_simple(filename, starsname)\n",
    "    \n",
    "    prof_iso_p = lguys.StellarProfile(modelsdir * filename * \"/stars/$starsname/iso_paint_profile.toml\")\n",
    "    prof_f = lguys.StellarProfile(modelsdir * filename * \"/stars/$starsname/final_profile.toml\")\n",
    "\n",
    "    profs = [\n",
    "        \"initial\" => prof_iso_p,\n",
    "        \"final\" => prof_f,\n",
    "    ]\n",
    "\n",
    "    return profs\n",
    "end"
   ]
  },
  {
   "cell_type": "code",
   "execution_count": null,
   "id": "18",
   "metadata": {},
   "outputs": [],
   "source": [
    "plot_ini_fin_slope([], nothing, limits=(-0.8, 1.95, -6.5, 4),)"
   ]
  },
  {
   "cell_type": "code",
   "execution_count": null,
   "id": "19",
   "metadata": {},
   "outputs": [],
   "source": [
    "plot_ini_fin([], nothing)"
   ]
  },
  {
   "cell_type": "markdown",
   "id": "20",
   "metadata": {
    "jp-MarkdownHeadingCollapsed": true
   },
   "source": [
    "## Mean orbit"
   ]
  },
  {
   "cell_type": "code",
   "execution_count": null,
   "id": "21",
   "metadata": {},
   "outputs": [],
   "source": [
    "modeldir = \"sculptor/1e7_V31_r3.2/orbit_mean\""
   ]
  },
  {
   "cell_type": "code",
   "execution_count": null,
   "id": "22",
   "metadata": {},
   "outputs": [],
   "source": [
    "orbit_props = TOML.parsefile(joinpath(modeldir, \"orbital_properties.toml\"))"
   ]
  },
  {
   "cell_type": "code",
   "execution_count": null,
   "id": "23",
   "metadata": {},
   "outputs": [],
   "source": [
    "plot_ini_fin(profs[1:5], expected, norm, limits=(-1, 3, -10, 2), r_b=r_b_arcmin)\n",
    "\n"
   ]
  },
  {
   "cell_type": "markdown",
   "id": "24",
   "metadata": {},
   "source": [
    "### Exp2d(Rs=0.10)"
   ]
  },
  {
   "cell_type": "code",
   "execution_count": null,
   "id": "25",
   "metadata": {},
   "outputs": [],
   "source": [
    "profs, expected = read_profiles(modeldir, \"exp2d_rs0.10\");"
   ]
  },
  {
   "cell_type": "code",
   "execution_count": null,
   "id": "26",
   "metadata": {},
   "outputs": [],
   "source": [
    "prof_f = profs[end].second\n",
    "norm = get_normalization(prof_f)\n",
    "\n",
    "r_b = lguys.calc_break_radius(prof_f.sigma_v / lguys.V2KMS, orbit_props[\"t_last_peri\"] / lguys.T2GYR)\n",
    "r_b_arcmin = lguys.kpc_to_arcmin(r_b, orbit_props[\"distance_f\"])\n"
   ]
  },
  {
   "cell_type": "code",
   "execution_count": null,
   "id": "27",
   "metadata": {},
   "outputs": [],
   "source": [
    "plot_ini_fin(profs[1:5], expected, norm, limits=(-1, 3, -10, 2), r_b=r_b_arcmin)\n",
    "\n"
   ]
  },
  {
   "cell_type": "markdown",
   "id": "28",
   "metadata": {},
   "source": [
    "### Exp2d(Rs=0.13)"
   ]
  },
  {
   "cell_type": "code",
   "execution_count": null,
   "id": "29",
   "metadata": {},
   "outputs": [],
   "source": [
    "profs, expected = read_profiles(modeldir, \"exp2d_rs0.13\");"
   ]
  },
  {
   "cell_type": "code",
   "execution_count": null,
   "id": "30",
   "metadata": {},
   "outputs": [],
   "source": [
    "profs = read_profiles_simple(modeldir, \"exp2d_rs0.13\");"
   ]
  },
  {
   "cell_type": "code",
   "execution_count": null,
   "id": "31",
   "metadata": {},
   "outputs": [],
   "source": [
    "prof_f = profs[end].second\n",
    "norm = get_normalization(prof_f)\n",
    "\n",
    "r_b = lguys.calc_break_radius(prof_f.sigma_v / lguys.V2KMS, orbit_props[\"t_last_peri\"] / lguys.T2GYR)\n",
    "r_b_arcmin = lguys.kpc_to_arcmin(r_b, orbit_props[\"distance_f\"])\n"
   ]
  },
  {
   "cell_type": "code",
   "execution_count": null,
   "id": "32",
   "metadata": {},
   "outputs": [],
   "source": [
    "plot_ini_fin(profs, nothing, norm, limits=(-1, 3, -10, 2), r_b=r_b_arcmin,\n",
    "    title=\"Exp2D(Rs=0.13 kpc)\",\n",
    ")\n",
    "\n"
   ]
  },
  {
   "cell_type": "markdown",
   "id": "33",
   "metadata": {
    "jp-MarkdownHeadingCollapsed": true
   },
   "source": [
    "### Exp2d, Rs=0.15"
   ]
  },
  {
   "cell_type": "code",
   "execution_count": null,
   "id": "34",
   "metadata": {},
   "outputs": [],
   "source": [
    "profs, expected = read_profiles(modeldir, \"exp2d_rs0.15\");"
   ]
  },
  {
   "cell_type": "code",
   "execution_count": null,
   "id": "35",
   "metadata": {},
   "outputs": [],
   "source": [
    "prof_f = profs[end].second\n",
    "norm = get_normalization(prof_f)\n",
    "\n",
    "r_b = lguys.calc_break_radius(prof_f.sigma_v / lguys.V2KMS, orbit_props[\"t_last_peri\"] / lguys.T2GYR)\n",
    "r_b_arcmin = lguys.kpc_to_arcmin(r_b, orbit_props[\"distance_f\"])\n"
   ]
  },
  {
   "cell_type": "code",
   "execution_count": null,
   "id": "36",
   "metadata": {},
   "outputs": [],
   "source": [
    "plot_ini_fin(profs[1:5], expected, norm, limits=(-1, 3, -10, 2), r_b=r_b_arcmin)\n",
    "\n"
   ]
  },
  {
   "cell_type": "markdown",
   "id": "37",
   "metadata": {
    "jp-MarkdownHeadingCollapsed": true
   },
   "source": [
    "### plummer"
   ]
  },
  {
   "cell_type": "code",
   "execution_count": null,
   "id": "38",
   "metadata": {},
   "outputs": [],
   "source": [
    "profs = read_profiles_simple(modeldir, \"plummer_rs0.20\");"
   ]
  },
  {
   "cell_type": "code",
   "execution_count": null,
   "id": "39",
   "metadata": {},
   "outputs": [],
   "source": [
    "profs, expected = read_profiles(modeldir, \"plummer_rs0.20\");"
   ]
  },
  {
   "cell_type": "code",
   "execution_count": null,
   "id": "40",
   "metadata": {},
   "outputs": [],
   "source": [
    "prof_f = profs[end].second\n",
    "norm = get_normalization(prof_f)\n",
    "\n",
    "r_b = lguys.calc_break_radius(prof_f.sigma_v / lguys.V2KMS, orbit_props[\"t_last_peri\"] / lguys.T2GYR)\n",
    "r_b_arcmin = lguys.kpc_to_arcmin(r_b, orbit_props[\"distance_f\"])\n"
   ]
  },
  {
   "cell_type": "code",
   "execution_count": null,
   "id": "41",
   "metadata": {},
   "outputs": [],
   "source": [
    "fig = plot_ini_fin(profs, expected, norm, limits=(-1, 3, -6, 2), r_b=r_b_arcmin, title=\"Plummer(Rs=0.20kpc)\")\n",
    "\n"
   ]
  },
  {
   "cell_type": "code",
   "execution_count": null,
   "id": "42",
   "metadata": {},
   "outputs": [],
   "source": [
    "prof_1e7 = profs[end]"
   ]
  },
  {
   "cell_type": "code",
   "execution_count": null,
   "id": "43",
   "metadata": {},
   "outputs": [],
   "source": [
    "plot_ini_fin(profs[1:5], expected, norm, limits=(-1, 3, -6, 2), r_b=r_b_arcmin, title=\"Plummer(Rs=0.20kpc)\")\n",
    "\n"
   ]
  },
  {
   "cell_type": "markdown",
   "id": "44",
   "metadata": {},
   "source": [
    "## Smallperi"
   ]
  },
  {
   "cell_type": "code",
   "execution_count": null,
   "id": "45",
   "metadata": {},
   "outputs": [],
   "source": [
    "modeldir = \"sculptor/1e7_V31_r3.2/orbit_smallperi\""
   ]
  },
  {
   "cell_type": "code",
   "execution_count": null,
   "id": "46",
   "metadata": {},
   "outputs": [],
   "source": [
    "orbit_props = TOML.parsefile(joinpath(modeldir, \"orbital_properties.toml\"))"
   ]
  },
  {
   "cell_type": "markdown",
   "id": "47",
   "metadata": {},
   "source": [
    "### Plummer"
   ]
  },
  {
   "cell_type": "code",
   "execution_count": null,
   "id": "48",
   "metadata": {},
   "outputs": [],
   "source": [
    "profs, expected = read_profiles(modeldir, \"plummer_rs0.20\");"
   ]
  },
  {
   "cell_type": "code",
   "execution_count": null,
   "id": "49",
   "metadata": {},
   "outputs": [],
   "source": [
    "prof_f = profs[end].second\n",
    "norm = get_normalization(prof_f)\n",
    "\n",
    "r_b = lguys.calc_break_radius(prof_f.sigma_v / lguys.V2KMS, orbit_props[\"t_last_peri\"] / lguys.T2GYR)\n",
    "r_b_arcmin = lguys.kpc_to_arcmin(r_b, orbit_props[\"distance_f\"])\n"
   ]
  },
  {
   "cell_type": "code",
   "execution_count": null,
   "id": "50",
   "metadata": {},
   "outputs": [],
   "source": [
    "plot_ini_fin(profs, nothing, norm, limits=(-1, 3, -6, 2), r_b=r_b_arcmin,\n",
    ")\n",
    "\n"
   ]
  },
  {
   "cell_type": "code",
   "execution_count": null,
   "id": "51",
   "metadata": {},
   "outputs": [],
   "source": [
    "profs, expected = read_profiles(modeldir, \"plummer_rs0.18\");"
   ]
  },
  {
   "cell_type": "code",
   "execution_count": null,
   "id": "52",
   "metadata": {},
   "outputs": [],
   "source": [
    "prof_f = profs[end].second\n",
    "norm = get_normalization(prof_f)\n",
    "\n",
    "r_b = lguys.calc_break_radius(prof_f.sigma_v / lguys.V2KMS, orbit_props[\"t_last_peri\"] / lguys.T2GYR)\n",
    "r_b_arcmin = lguys.kpc_to_arcmin(r_b, orbit_props[\"distance_f\"])\n"
   ]
  },
  {
   "cell_type": "code",
   "execution_count": null,
   "id": "53",
   "metadata": {},
   "outputs": [],
   "source": [
    "plot_ini_fin(profs, nothing, norm, limits=(-1, 3, -6, 2), r_b=r_b_arcmin,\n",
    ")\n",
    "\n"
   ]
  },
  {
   "cell_type": "markdown",
   "id": "54",
   "metadata": {},
   "source": [
    "### Exp2d"
   ]
  },
  {
   "cell_type": "code",
   "execution_count": null,
   "id": "55",
   "metadata": {},
   "outputs": [],
   "source": [
    "profs, expected = read_profiles(modeldir, \"exp2d_rs0.10\");"
   ]
  },
  {
   "cell_type": "code",
   "execution_count": null,
   "id": "56",
   "metadata": {},
   "outputs": [],
   "source": [
    "prof_f = profs[end].second\n",
    "norm = get_normalization(prof_f)\n",
    "\n",
    "r_b = lguys.calc_break_radius(prof_f.sigma_v / lguys.V2KMS, orbit_props[\"t_last_peri\"] / lguys.T2GYR)\n",
    "r_b_arcmin = lguys.kpc_to_arcmin(r_b, orbit_props[\"distance_f\"])\n"
   ]
  },
  {
   "cell_type": "code",
   "execution_count": null,
   "id": "57",
   "metadata": {},
   "outputs": [],
   "source": [
    "plot_ini_fin(profs, nothing, norm, limits=(-1, 3, -10, 2), r_b=r_b_arcmin,\n",
    "    title=\"Exp2D(Rs=0.10 kpc)\",\n",
    ")\n",
    "\n"
   ]
  },
  {
   "cell_type": "code",
   "execution_count": null,
   "id": "58",
   "metadata": {},
   "outputs": [],
   "source": [
    "plot_ini_fin_slope(profs, expected, limits=(-1, 2.1, -12, 4), binsize=5, r_b=r_b_arcmin)"
   ]
  },
  {
   "cell_type": "markdown",
   "id": "59",
   "metadata": {},
   "source": [
    "### Exp2d(Rs=0.08)"
   ]
  },
  {
   "cell_type": "code",
   "execution_count": null,
   "id": "60",
   "metadata": {},
   "outputs": [],
   "source": [
    "profs, expected = read_profiles(modeldir, \"exp2d_rs0.08\");"
   ]
  },
  {
   "cell_type": "code",
   "execution_count": null,
   "id": "61",
   "metadata": {},
   "outputs": [],
   "source": [
    "prof_f = profs[end].second\n",
    "norm = get_normalization(prof_f)\n",
    "\n",
    "r_b = lguys.calc_break_radius(prof_f.sigma_v / lguys.V2KMS, orbit_props[\"t_last_peri\"] / lguys.T2GYR)\n",
    "r_b_arcmin = lguys.kpc_to_arcmin(r_b, orbit_props[\"distance_f\"])\n"
   ]
  },
  {
   "cell_type": "code",
   "execution_count": null,
   "id": "62",
   "metadata": {},
   "outputs": [],
   "source": [
    "plot_ini_fin(profs, nothing, norm, limits=(-1, 3, -10, 2), r_b=r_b_arcmin,\n",
    "    title=\"Exp2D(Rs=0.08 kpc)\",\n",
    ")\n",
    "\n"
   ]
  },
  {
   "cell_type": "code",
   "execution_count": null,
   "id": "63",
   "metadata": {},
   "outputs": [],
   "source": [
    "plot_ini_fin_slope(profs, expected, limits=(-1, 2.1, -12, 4), binsize=5, r_b=r_b_arcmin)"
   ]
  },
  {
   "cell_type": "markdown",
   "id": "64",
   "metadata": {},
   "source": [
    "# 1e6"
   ]
  },
  {
   "cell_type": "markdown",
   "id": "65",
   "metadata": {},
   "source": [
    "## Mean mean"
   ]
  },
  {
   "cell_type": "code",
   "execution_count": null,
   "id": "66",
   "metadata": {},
   "outputs": [],
   "source": [
    "modeldir = \"1e6_v37_r5.0/orbit_mean\""
   ]
  },
  {
   "cell_type": "code",
   "execution_count": null,
   "id": "67",
   "metadata": {},
   "outputs": [],
   "source": [
    "modeldir"
   ]
  },
  {
   "cell_type": "code",
   "execution_count": null,
   "id": "68",
   "metadata": {},
   "outputs": [],
   "source": [
    "orbit_props = TOML.parsefile(joinpath(modeldir, \"orbital_properties.toml\"))"
   ]
  },
  {
   "cell_type": "markdown",
   "id": "69",
   "metadata": {},
   "source": [
    "### Exp2d rs 0.15"
   ]
  },
  {
   "cell_type": "code",
   "execution_count": null,
   "id": "70",
   "metadata": {},
   "outputs": [],
   "source": [
    "profs, expected = read_profiles(modeldir, \"exp2d_rs0.15\");"
   ]
  },
  {
   "cell_type": "code",
   "execution_count": null,
   "id": "71",
   "metadata": {},
   "outputs": [],
   "source": [
    "prof_f = profs[end].second\n",
    "norm = get_normalization(prof_f)\n",
    "\n",
    "r_b = lguys.calc_break_radius(prof_f.sigma_v / lguys.V2KMS, orbit_props[\"t_last_peri\"] / lguys.T2GYR)\n",
    "r_b_arcmin = lguys.kpc_to_arcmin(r_b, orbit_props[\"distance_f\"])"
   ]
  },
  {
   "cell_type": "code",
   "execution_count": null,
   "id": "72",
   "metadata": {},
   "outputs": [],
   "source": [
    "plot_ini_fin(profs, expected, norm - 0.1, limits=(-1, 3, -6, 2), r_b=r_b_arcmin)"
   ]
  },
  {
   "cell_type": "markdown",
   "id": "73",
   "metadata": {},
   "source": [
    "### Exp2d rs 0.10"
   ]
  },
  {
   "cell_type": "code",
   "execution_count": null,
   "id": "74",
   "metadata": {},
   "outputs": [],
   "source": [
    "profs, expected = read_profiles(modeldir, \"exp2d_rs0.10\");"
   ]
  },
  {
   "cell_type": "code",
   "execution_count": null,
   "id": "75",
   "metadata": {},
   "outputs": [],
   "source": [
    "prof_f = profs[end].second\n",
    "norm = get_normalization(prof_f)\n",
    "\n",
    "r_b = lguys.calc_break_radius(prof_f.sigma_v / lguys.V2KMS, orbit_props[\"t_last_peri\"] / lguys.T2GYR)\n",
    "r_b_arcmin = lguys.kpc_to_arcmin(r_b, orbit_props[\"distance_f\"])"
   ]
  },
  {
   "cell_type": "code",
   "execution_count": null,
   "id": "76",
   "metadata": {},
   "outputs": [],
   "source": [
    "plot_ini_fin(profs, expected, norm - 0.1, limits=(-1, 3, -6, 2), r_b=r_b_arcmin)"
   ]
  },
  {
   "cell_type": "code",
   "execution_count": null,
   "id": "77",
   "metadata": {},
   "outputs": [],
   "source": []
  }
 ],
 "metadata": {
  "kernelspec": {
   "display_name": "Julia 1.11.2",
   "language": "julia",
   "name": "julia-1.11"
  },
  "language_info": {
   "file_extension": ".jl",
   "mimetype": "application/julia",
   "name": "julia",
   "version": "1.11.2"
  }
 },
 "nbformat": 4,
 "nbformat_minor": 5
}
