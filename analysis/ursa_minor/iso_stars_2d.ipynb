{
 "cells": [
  {
   "cell_type": "code",
   "execution_count": 1,
   "id": "0",
   "metadata": {},
   "outputs": [],
   "source": [
    "using CairoMakie\n",
    "\n",
    "import LilGuys as lguys\n",
    "using Arya\n",
    "using LilGuys"
   ]
  },
  {
   "cell_type": "code",
   "execution_count": 2,
   "id": "1",
   "metadata": {},
   "outputs": [
    {
     "data": {
      "text/plain": [
       "sigma_axis (generic function with 1 method)"
      ]
     },
     "execution_count": 2,
     "metadata": {},
     "output_type": "execute_result"
    }
   ],
   "source": [
    "function sigma_axis(gp; limits=(-1, 2, -2, 2.5), kwargs...) \n",
    "\tax = Axis(gp, \n",
    "\t\txlabel=log_r_label,\n",
    "\t\tylabel = log_sigma_label,\n",
    "        limits=limits\n",
    "\t\t;kwargs...\n",
    "\t)\n",
    "\n",
    "\treturn  ax\n",
    "end"
   ]
  },
  {
   "cell_type": "code",
   "execution_count": 3,
   "id": "2",
   "metadata": {},
   "outputs": [
    {
     "data": {
      "text/plain": [
       "load_profiles (generic function with 1 method)"
      ]
     },
     "execution_count": 3,
     "metadata": {},
     "output_type": "execute_result"
    }
   ],
   "source": [
    "function load_profiles(modelname, starsname; extension=\"stellar_profiles.hdf5\")\n",
    "    path = joinpath(modelsdir, modelname, \"stars\", starsname, extension)\n",
    "\n",
    "    parampath = joinpath(modelsdir, modelname, \"stars\", starsname, \"profile.toml\")\n",
    "        \n",
    "    if isfile(parampath)\n",
    "        expected = LilGuys.load_profile(parampath)\n",
    "    else\n",
    "        @warn \"$parampath not found\"\n",
    "        expected = nothing\n",
    "    end\n",
    "\n",
    "    profs = LilGuys.read_structs_from_hdf5(path, LilGuys.StellarProfile)\n",
    "    idxs = parse.(Int, first.(profs))\n",
    "    profs = last.(profs)\n",
    "\n",
    "    s = sortperm(idxs)\n",
    "    return [idxs[i] => profs[i] for i in s ], expected\n",
    "end"
   ]
  },
  {
   "cell_type": "code",
   "execution_count": 4,
   "id": "3",
   "metadata": {},
   "outputs": [
    {
     "data": {
      "text/plain": [
       "compare_profiles (generic function with 2 methods)"
      ]
     },
     "execution_count": 4,
     "metadata": {},
     "output_type": "execute_result"
    }
   ],
   "source": [
    "function compare_profiles(profiles, expected=nothing; \n",
    "        sequential=false, legend=true, limits=(-2.5, 1.0, -6, 3), \n",
    "        kwargs...\n",
    "    )\n",
    "    \n",
    "    fig = Figure()\n",
    "\n",
    "\tax = sigma_axis(fig[1, 1]; limits=limits, kwargs...)\n",
    "\n",
    "    plot_kwargs = Dict{Symbol, Any}()\n",
    "\n",
    "    if sequential\n",
    "        plot_kwargs[:colorrange] = (1, length(profiles))\n",
    "    end\n",
    "    \n",
    "    for i in eachindex(profiles)\n",
    "        label, prof = profiles[i]\n",
    "        x = prof.log_r\n",
    "        y = prof.log_Sigma\n",
    "        if sequential\n",
    "            plot_kwargs[:color] = i\n",
    "        end\n",
    "\n",
    "    \tlines!(x, y, label=string(label); plot_kwargs...)\n",
    "    end\n",
    "\n",
    "    if expected !== nothing\n",
    "    \tlog_r_pred = LinRange(-2, 2, 1000)\n",
    "    \tρ_s_pred = lguys.calc_Σ.(expected, 10 .^ log_r_pred)\n",
    "\n",
    "    \tlines!(log_r_pred, log10.(ρ_s_pred), label=\"expected\", color=\"black\", linestyle=:dot)\n",
    "    end\n",
    "\n",
    "    if legend\n",
    "    \taxislegend(ax, position=:lb)\n",
    "    end \n",
    "    \n",
    "\tfig\n",
    "end"
   ]
  },
  {
   "cell_type": "code",
   "execution_count": null,
   "id": "7",
   "metadata": {},
   "outputs": [],
   "source": [
    "function plot_r_percens(profiles; kwargs...)\n",
    "\tfig = Figure()\n",
    "\tax = Axis(fig[1,1], xlabel=\"time / Gyr\", ylabel=\"log r / kpc containing stellar mass\"; kwargs...)\n",
    "\n",
    "\tq = profiles[1].second.quantiles\n",
    "\tt = [p.second.time for p in profiles] * T2GYR\n",
    "    \n",
    "\tfor i in reverse(eachindex(q))\n",
    "\t\tMq = [log10.(p.second.r_quantile[i]) for p in profiles]\n",
    "        \n",
    "\t\tlines!(t, Mq, color=q[i], colorrange=extrema(q), label=\"$(q[i])\")\n",
    "\tend\n",
    "\n",
    "\tLegend(fig[1, 2], ax, \"quantile\")\n",
    "\tfig\n",
    "end\n",
    "    "
   ]
  },
  {
   "cell_type": "code",
   "execution_count": 7,
   "id": "8",
   "metadata": {},
   "outputs": [
    {
     "data": {
      "text/plain": [
       "all_plots"
      ]
     },
     "execution_count": 7,
     "metadata": {},
     "output_type": "execute_result"
    }
   ],
   "source": [
    "\"\"\"\n",
    "    all_plots(profiles[, expected])\n",
    "\n",
    "Given the profiles object, this function displayes the plots\n",
    "for the profiles and r percentiles for each timestep in the profile\n",
    "\n",
    "\"\"\"\n",
    "function all_plots(profiles, expected=nothing; prof_limits=(-2, 1, -15, 3), title=\"\")\n",
    "   display(compare_profiles(profiles, expected, \n",
    "            sequential=true, legend=false, title=title, limits=prof_limits,\n",
    "        )\n",
    "    )\n",
    "\n",
    "end"
   ]
  },
  {
   "cell_type": "code",
   "execution_count": 8,
   "id": "9",
   "metadata": {},
   "outputs": [
    {
     "data": {
      "text/plain": [
       "\"log r / kpc\""
      ]
     },
     "execution_count": 8,
     "metadata": {},
     "output_type": "execute_result"
    }
   ],
   "source": [
    "log_r_label = \"log r / kpc\""
   ]
  },
  {
   "cell_type": "code",
   "execution_count": 9,
   "id": "10",
   "metadata": {},
   "outputs": [
    {
     "data": {
      "text/latex": [
       "$\\log \\Sigma$ / N\\,kpc$^{-2}$"
      ],
      "text/plain": [
       "L\"$\\log \\Sigma$ / N\\,kpc$^{-2}$\""
      ]
     },
     "execution_count": 9,
     "metadata": {},
     "output_type": "execute_result"
    }
   ],
   "source": [
    "log_sigma_label = L\"$\\log \\Sigma$ / N\\,kpc$^{-2}$\""
   ]
  },
  {
   "cell_type": "code",
   "execution_count": 10,
   "id": "11",
   "metadata": {},
   "outputs": [
    {
     "data": {
      "text/plain": [
       "\"/cosma/home/durham/dc-boye1/data/dwarfs/analysis/\""
      ]
     },
     "execution_count": 10,
     "metadata": {},
     "output_type": "execute_result"
    }
   ],
   "source": [
    "modelsdir = ENV[\"DWARFS_ROOT\"] * \"/analysis/\""
   ]
  },
  {
   "cell_type": "code",
   "execution_count": 11,
   "id": "12",
   "metadata": {},
   "outputs": [
    {
     "ename": "LoadError",
     "evalue": "UndefVarError: `StellarProfile` not defined in `LilGuys`\nSuggestion: check for spelling errors or missing imports.",
     "output_type": "error",
     "traceback": [
      "UndefVarError: `StellarProfile` not defined in `LilGuys`\nSuggestion: check for spelling errors or missing imports.",
      "",
      "Stacktrace:",
      " [1] getproperty(x::Module, f::Symbol)",
      "   @ Base ./Base.jl:42",
      " [2] top-level scope",
      "   @ In[11]:1"
     ]
    }
   ],
   "source": [
    "prof_expected = LilGuys.StellarProfile(\"/astro/dboyea/dwarfs/observations/ursa_minor/density_profiles/fiducial_profile.toml\");"
   ]
  },
  {
   "cell_type": "code",
   "execution_count": null,
   "id": "13",
   "metadata": {},
   "outputs": [],
   "source": [
    "import TOML\n",
    "obs_props = TOML.parsefile(\"/astro/dboyea/dwarfs/observations/ursa_minor/observed_properties.toml\")"
   ]
  },
  {
   "cell_type": "code",
   "execution_count": null,
   "id": "14",
   "metadata": {},
   "outputs": [],
   "source": [
    "expected_r_kpc = prof_expected.log_r .+ log10(0.0002908882086657216 * obs_props[\"distance\"])"
   ]
  },
  {
   "cell_type": "markdown",
   "id": "15",
   "metadata": {},
   "source": [
    "## V=32, r=5.9 (the initial model)"
   ]
  },
  {
   "cell_type": "code",
   "execution_count": null,
   "id": "16",
   "metadata": {},
   "outputs": [],
   "source": [
    "models = []"
   ]
  },
  {
   "cell_type": "code",
   "execution_count": null,
   "id": "17",
   "metadata": {},
   "outputs": [],
   "source": [
    "profs, expected = load_profiles(\"ursa_minor/1e6_v32_r5.0/\", \"exp2d_rs0.15\");\n"
   ]
  },
  {
   "cell_type": "code",
   "execution_count": null,
   "id": "18",
   "metadata": {},
   "outputs": [],
   "source": [
    "fig = compare_profiles(profs, expected, sequential=true, legend=false)\n",
    "errscatter!(expected_r_kpc, prof_expected.log_Sigma,\n",
    "\t\tyerr=prof_expected.log_Sigma_err,\n",
    "\t\tlabel=\"J+24\",\n",
    "\t\tcolor=:black\n",
    "\t)\n",
    "\n",
    "fig"
   ]
  },
  {
   "cell_type": "code",
   "execution_count": null,
   "id": "19",
   "metadata": {},
   "outputs": [],
   "source": []
  }
 ],
 "metadata": {
  "kernelspec": {
   "display_name": "Julia 1.11.5",
   "language": "julia",
   "name": "julia-1.11"
  },
  "language_info": {
   "file_extension": ".jl",
   "mimetype": "application/julia",
   "name": "julia",
   "version": "1.11.5"
  }
 },
 "nbformat": 4,
 "nbformat_minor": 5
}
