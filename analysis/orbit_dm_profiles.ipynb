{
 "cells": [
  {
   "cell_type": "code",
   "execution_count": null,
   "id": "0",
   "metadata": {},
   "outputs": [],
   "source": [
    "using Revise\n",
    "using LilGuys\n",
    "using CairoMakie, Arya"
   ]
  },
  {
   "cell_type": "code",
   "execution_count": null,
   "id": "1",
   "metadata": {},
   "outputs": [],
   "source": [
    "using Printf"
   ]
  },
  {
   "cell_type": "code",
   "execution_count": null,
   "id": "2",
   "metadata": {},
   "outputs": [],
   "source": [
    "import DataFrames: DataFrame, rename!"
   ]
  },
  {
   "cell_type": "code",
   "execution_count": null,
   "id": "3",
   "metadata": {},
   "outputs": [],
   "source": [
    "using OrderedCollections"
   ]
  },
  {
   "cell_type": "code",
   "execution_count": null,
   "id": "4",
   "metadata": {},
   "outputs": [],
   "source": [
    "models_dir = \"/astro/dboyea/dwarfs/analysis/sculptor\""
   ]
  },
  {
   "cell_type": "code",
   "execution_count": null,
   "id": "5",
   "metadata": {},
   "outputs": [],
   "source": [
    "sims_dir = \"/astro/dboyea/dwarfs/simulations/sculptor\""
   ]
  },
  {
   "cell_type": "code",
   "execution_count": null,
   "id": "6",
   "metadata": {},
   "outputs": [],
   "source": [
    "function load_profile(name) \n",
    "    path = joinpath(models_dir, \"$name/profiles.hdf5\")\n",
    "    profiles = LilGuys.read_structs_from_hdf5(path, LilGuys.MassProfile3D)\n",
    "    idx = parse.(Int, first.(profiles))\n",
    "    return profiles[sortperm(idx)]\n",
    "    \n",
    "end"
   ]
  },
  {
   "cell_type": "code",
   "execution_count": null,
   "id": "7",
   "metadata": {},
   "outputs": [],
   "source": [
    "t_max_host = 316 # computed with agama at peri=50.95 \n",
    "M_max_host = 52.437\n",
    "r_peri = 50.95\n",
    "ρ_peri = M_max_host / (4π/3 * r_peri^3)"
   ]
  },
  {
   "cell_type": "markdown",
   "id": "8",
   "metadata": {},
   "source": [
    "# Plotting functions"
   ]
  },
  {
   "cell_type": "code",
   "execution_count": null,
   "id": "9",
   "metadata": {},
   "outputs": [],
   "source": [
    "log_r_label = \"log r / kpc\"\n",
    "log_rho_label = L\"\\log \\rho\""
   ]
  },
  {
   "cell_type": "code",
   "execution_count": null,
   "id": "10",
   "metadata": {},
   "outputs": [],
   "source": [
    "function compare_densities(profiles)\n",
    "    fig = Figure()\n",
    "    ax = Axis(fig[1,1],\n",
    "        xlabel=log_r_label,\n",
    "        ylabel = log_rho_label,\n",
    "        )\n",
    "    \n",
    "    ax.limits=(-2, 3, -12, 0)\n",
    "\n",
    "\n",
    "    for i in eachindex(profiles)\n",
    "        label, profs = profiles[i]\n",
    "        profile = profs[1].second\n",
    "        lines!(profile.log_r, log10.(profile.rho),\n",
    "            linestyle=:dot,\n",
    "            color=COLORS[i]\n",
    "        )\n",
    "    \n",
    "        profile = profs[end].second\n",
    "        lines!(profile.log_r, log10.(profile.rho), \n",
    "            color=COLORS[i],\n",
    "            label=label\n",
    "        )    \n",
    "    end\n",
    "    \n",
    "    axislegend()\n",
    "\n",
    "    fig\n",
    "end"
   ]
  },
  {
   "cell_type": "code",
   "execution_count": null,
   "id": "11",
   "metadata": {},
   "outputs": [],
   "source": [
    "function compare_vcirc(profiles; errskip=1, legend=true)\n",
    "    xlims = (-2, 3)\n",
    "    \n",
    "    fig = Figure()\n",
    "    ax = Axis(fig[1, 1],\n",
    "        xlabel=log_r_label,\n",
    "        ylabel=L\"$\\log\\,v_\\textrm{circ}$ / km\\,s$^{-1}$\",\n",
    "#        limits=(xlims[1], xlims[2], -0.1, 1.7),\n",
    "        )\n",
    "    pi = 1\n",
    "\n",
    "    \n",
    "    for i in eachindex(profiles)\n",
    "        label, profs = profiles[i]\n",
    "        x = [prof.r_circ_max for (_, prof) in profs]\n",
    "        y = [prof.v_circ_max for (_, prof) in profs]\n",
    "        lines!(log10.(x), log10.(y*V2KMS), label=label)\n",
    "    end\n",
    "    \n",
    "    for i in eachindex(profiles)\n",
    "        label, profs = profiles[i]\n",
    "        x = [prof.r_circ_max for (_, prof) in profs]\n",
    "        y = [prof.v_circ_max for (_, prof) in profs]\n",
    "        scatter!(log10.(x[end]), log10.(y[end]*V2KMS))\n",
    "    end\n",
    "    if legend\n",
    "        axislegend(position=:lt)\n",
    "    end\n",
    "    fig\n",
    "end"
   ]
  },
  {
   "cell_type": "code",
   "execution_count": null,
   "id": "12",
   "metadata": {},
   "outputs": [],
   "source": [
    "function compare_vcirc_time(profiles; errskip=1, legend=true)\n",
    "    xlims = (-2, 3)\n",
    "    \n",
    "    fig = Figure()\n",
    "    ax = Axis(fig[1, 1],\n",
    "        xlabel=\"time / Gyr\",\n",
    "        ylabel=L\"$\\log\\,v_\\textrm{circ}$ / km\\,s$^{-1}$\",\n",
    "#        limits=(xlims[1], xlims[2], -0.1, 1.7),\n",
    "        )\n",
    "    pi = 1\n",
    "\n",
    "    \n",
    "    for i in eachindex(profiles)\n",
    "        label, profs = profiles[i]\n",
    "        x = [prof.time * T2GYR for (_, prof) in profs]\n",
    "        y = [prof.v_circ_max for (_, prof) in profs]\n",
    "        lines!((x), log10.(y*V2KMS), label=label)\n",
    "    end\n",
    "    \n",
    "    if legend\n",
    "        axislegend(position=:lt)\n",
    "    end\n",
    "    fig\n",
    "end"
   ]
  },
  {
   "cell_type": "code",
   "execution_count": null,
   "id": "13",
   "metadata": {},
   "outputs": [],
   "source": [
    "function compare_tcirc(profiles; errskip=1)\n",
    "    xlims = (-2, 3)\n",
    "    \n",
    "    fig = Figure()\n",
    "    ax = Axis(fig[1, 1],\n",
    "        xlabel=\"time / Gyr\",\n",
    "        ylabel=L\"$\\log\\, t_\\textrm{circ}$ / Gyr\",\n",
    "#        limits=(xlims[1], xlims[2], -0.1, 1.7),\n",
    "        )\n",
    "    pi = 1\n",
    "\n",
    "    \n",
    "    for i in eachindex(profiles)\n",
    "        label, profs = profiles[i]\n",
    "        x = [parse(Float64, i) for (i, prof) in profs]\n",
    "        y = [prof.r_circ_max / prof.v_circ_max for (_, prof) in profs]\n",
    "        \n",
    "        lines!(x, log10.(y*T2GYR), label=label)\n",
    "    end\n",
    "   \n",
    "    fig\n",
    "end"
   ]
  },
  {
   "cell_type": "markdown",
   "id": "14",
   "metadata": {},
   "source": [
    "# Particle Number"
   ]
  },
  {
   "cell_type": "code",
   "execution_count": null,
   "id": "15",
   "metadata": {},
   "outputs": [],
   "source": [
    "profiles = [\n",
    "    \"smallperi\" => load_profile(\"1e7_V31_r3.2/orbit_smallperi\"),\n",
    "    \"mean\" => load_profile(\"1e7_V31_r3.2/orbit_mean\"),\n",
    "    \"V+21 (1e6)\" => load_profile(\"1e6_V31_r3.2/vasiliev+21_mean\"),\n",
    "    #\"heavy\" => load_profile(\"1e6_V40_r5.9/orbit_mean\"),\n",
    "    ];"
   ]
  },
  {
   "cell_type": "code",
   "execution_count": null,
   "id": "16",
   "metadata": {},
   "outputs": [],
   "source": [
    "fig = compare_vcirc(profiles, legend=false)\n",
    "prof = profiles[1].second[1].second\n",
    "\n",
    "r_circ_tidal, v_circ_tidal = LilGuys.EN21_tidal_track(prof.r_circ_max, prof.v_circ_max, x_min=0.1)\n",
    "\n",
    "\n",
    "lines!(log10.(prof.r_circ), log10.(prof.v_circ * V2KMS), color=COLORS[1], linestyle=:dot, label=\"initial $(profiles[1].first)\")\n",
    "prof = profiles[1].second[end].second\n",
    "\n",
    "lines!(log10.(prof.r_circ), log10.(prof.v_circ * V2KMS), color=COLORS[1], linestyle=:dash, label=\"final $(profiles[1].first)\")\n",
    "\n",
    "lines!(log10.(r_circ_tidal), log10.(v_circ_tidal * V2KMS), label = \"EN21 tidal track\", color=:black, alpha=0.3)\n",
    "\n",
    "\n",
    "ax = fig.content[1]\n",
    "ax.limits = (-1, 2, 1, 1.5)\n",
    "ax.xlabel = L\"\\log\\,(r_\\textrm{circ}\\,/\\,\\textrm{kpc})\"\n",
    "\n",
    "axislegend(position=:rb)\n",
    "fig"
   ]
  },
  {
   "cell_type": "code",
   "execution_count": null,
   "id": "17",
   "metadata": {},
   "outputs": [],
   "source": [
    "fig = Figure()\n",
    "ax = Axis(fig[1, 1],\n",
    "    xlabel=\"time / Gyr\",\n",
    "    ylabel=L\"$\\log\\,v_\\textrm{circ}$ / km\\,s$^{-1}$\",\n",
    "    )\n",
    "pi = 1\n",
    "\n",
    "\n",
    "for i in eachindex(profiles)\n",
    "    label, profs = profiles[i]\n",
    "    x = [prof.time * T2GYR for (_, prof) in profs]\n",
    "    println(x)\n",
    "    y = [prof.v_circ_max for (_, prof) in profs]\n",
    "    lines!(log10.(x), log10.(y*V2KMS), label=label)\n",
    "end\n",
    "\n",
    "fig"
   ]
  },
  {
   "cell_type": "code",
   "execution_count": null,
   "id": "18",
   "metadata": {},
   "outputs": [],
   "source": [
    "profiles = [\n",
    "    \"smallperi (1e6)\" => load_profile(\"1e6_V31_r3.2/orbit_smallperi\"),\n",
    "    \"midsmallperi (1e6)\" => load_profile(\"1e6_V31_r3.2/orbit_midsmallperi\"),\n",
    "    \"lmc\" => load_profile(\"1e6_V31_r3.2/vasiliev+21_mean\"),\n",
    "    #\"heavy\" => load_profile(\"1e6_V40_r5.9/orbit_mean\"),\n",
    "    ];"
   ]
  },
  {
   "cell_type": "code",
   "execution_count": null,
   "id": "19",
   "metadata": {},
   "outputs": [],
   "source": [
    "fig = compare_vcirc(profiles, legend=false)\n",
    "prof = profiles[end].second[1].second\n",
    "\n",
    "r_circ_tidal, v_circ_tidal = LilGuys.EN21_tidal_track(prof.r_circ_max, prof.v_circ_max, x_min=0.1)\n",
    "lines!(log10.(r_circ_tidal), log10.(v_circ_tidal * V2KMS), label = \"EN21 tidal track\", color=:black, alpha=0.3)\n",
    "\n",
    "\n",
    "lines!(log10.(prof.r_circ), log10.(prof.v_circ * V2KMS), color=COLORS[1], linestyle=:dot, label=\"initial (smallperi)\")\n",
    "prof = profiles[end].second[end].second\n",
    "\n",
    "lines!(log10.(prof.r_circ), log10.(prof.v_circ * V2KMS), color=COLORS[1], linestyle=:dash, label=\"final (smallperi)\")\n",
    "\n",
    "\n",
    "\n",
    "ax = fig.content[1]\n",
    "ax.limits = (-1, 2, 1, 1.5)\n",
    "ax.xlabel = L\"\\log\\,(r_\\textrm{circ}\\,/\\,\\textrm{kpc})\"\n",
    "\n",
    "axislegend(position=:rb)\n",
    "fig"
   ]
  },
  {
   "cell_type": "markdown",
   "id": "20",
   "metadata": {},
   "source": [
    "### Changing the orbits"
   ]
  },
  {
   "cell_type": "code",
   "execution_count": null,
   "id": "21",
   "metadata": {},
   "outputs": [],
   "source": [
    "profiles = [\n",
    "    \"mean\" => load_profile(\"1e6_V31_r3.2/orbit_mean\"),\n",
    "    \"smallperi\" => load_profile(\"1e6_V31_r3.2/orbit_smallperi\"),\n",
    "    \"v+21\" => load_profile(\"1e6_V31_r3.2/vasiliev+21_mean\"),\n",
    "    \"v+21 smallperi\" => load_profile(\"1e6_V31_r3.2/vasiliev+21_smallperi\"),\n",
    "    \"v+21 smallperi + rmax=4.2\" => load_profile(\"1e6_V31_r4.2/vasiliev+21_smallperi\"),\n",
    "    #\"heavy\" => load_profile(\"1e6_V40_r5.9/orbit_mean\"),\n",
    "    ];"
   ]
  },
  {
   "cell_type": "code",
   "execution_count": null,
   "id": "22",
   "metadata": {},
   "outputs": [],
   "source": [
    "fig = compare_vcirc(profiles, legend=false)\n",
    "prof = profiles[end].second[1].second\n",
    "\n",
    "r_circ_tidal, v_circ_tidal = LilGuys.EN21_tidal_track(prof.r_circ_max, prof.v_circ_max, x_min=0.1)\n",
    "lines!(log10.(r_circ_tidal), log10.(v_circ_tidal * V2KMS), label = \"EN21 tidal track\", color=:black, alpha=0.3)\n",
    "\n",
    "\n",
    "lines!(log10.(prof.r_circ), log10.(prof.v_circ * V2KMS), color=COLORS[1], linestyle=:dot, label=\"initial (smallperi)\")\n",
    "prof = profiles[end].second[end].second\n",
    "\n",
    "lines!(log10.(prof.r_circ), log10.(prof.v_circ * V2KMS), color=COLORS[1], linestyle=:dash, label=\"final (smallperi)\")\n",
    "\n",
    "\n",
    "\n",
    "ax = fig.content[1]\n",
    "ax.limits = (-1, 2, 1, 1.5)\n",
    "ax.xlabel = L\"\\log\\,(r_\\textrm{circ}\\,/\\,\\textrm{kpc})\"\n",
    "\n",
    "axislegend(position=:rb)\n",
    "fig"
   ]
  },
  {
   "cell_type": "code",
   "execution_count": null,
   "id": "23",
   "metadata": {},
   "outputs": [],
   "source": [
    "profiles = OrderedDict(\n",
    "    \"mean\" => load_profile(\"1e6_V31_r3.2/orbit_mean\"),\n",
    "    #\"smallperi\" => load_profile(\"1e6_V31_r3.2/orbit_smallperi\"),\n",
    "    \"v+21\" => load_profile(\"1e6_V31_r3.2/vasiliev+21_mean\"),\n",
    "    #\"v+21 smallperi\" => load_profile(\"1e6_V31_r3.2/vasiliev+21_smallperi\"),\n",
    "    \"v+21 heavylmc\" => load_profile(\"1e6_V31_r3.2/vasiliev+21_heavylmc\"),\n",
    "    \"v+21 smallperi heavylmc\" => load_profile(\"1e6_V31_r3.2/vasiliev24_L3M11_smallperi\"),\n",
    "    #\"heavy\" => load_profile(\"1e6_V40_r5.9/orbit_mean\"),\n",
    "    );"
   ]
  },
  {
   "cell_type": "code",
   "execution_count": null,
   "id": "24",
   "metadata": {},
   "outputs": [],
   "source": [
    "fig = compare_vcirc(profiles, legend=false)\n",
    "prof = profiles[end].second[1].second\n",
    "\n",
    "r_circ_tidal, v_circ_tidal = LilGuys.EN21_tidal_track(prof.r_circ_max, prof.v_circ_max, x_min=0.1)\n",
    "lines!(log10.(r_circ_tidal), log10.(v_circ_tidal * V2KMS), label = \"EN21 tidal track\", color=:black, alpha=0.3)\n",
    "\n",
    "\n",
    "lines!(log10.(prof.r_circ), log10.(prof.v_circ * V2KMS), color=COLORS[1], linestyle=:dot, label=\"initial (smallperi)\")\n",
    "prof = profiles[end].second[end].second\n",
    "\n",
    "lines!(log10.(prof.r_circ), log10.(prof.v_circ * V2KMS), color=COLORS[1], linestyle=:dash, label=\"final (smallperi)\")\n",
    "\n",
    "\n",
    "\n",
    "ax = fig.content[1]\n",
    "ax.limits = (-1, 2, 1, 1.5)\n",
    "ax.xlabel = L\"\\log\\,(r_\\textrm{circ}\\,/\\,\\textrm{kpc})\"\n",
    "\n",
    "axislegend(position=:rb)\n",
    "fig"
   ]
  },
  {
   "cell_type": "code",
   "execution_count": null,
   "id": "25",
   "metadata": {},
   "outputs": [],
   "source": []
  },
  {
   "cell_type": "code",
   "execution_count": null,
   "id": "26",
   "metadata": {},
   "outputs": [],
   "source": [
    "compare_vcirc_time(profiles)"
   ]
  },
  {
   "cell_type": "code",
   "execution_count": null,
   "id": "27",
   "metadata": {
    "jupyter": {
     "outputs_hidden": true
    }
   },
   "outputs": [],
   "source": [
    "ps = profiles[\"v+21 smallperi heavylmc\"]"
   ]
  },
  {
   "cell_type": "code",
   "execution_count": null,
   "id": "28",
   "metadata": {},
   "outputs": [],
   "source": [
    "profs = load_profile(\"1e6_V31_r3.2/vasiliev24_L2M11_extremeperi\")"
   ]
  },
  {
   "cell_type": "code",
   "execution_count": null,
   "id": "29",
   "metadata": {},
   "outputs": [],
   "source": [
    "compare_vcirc_time([\"1\"=>prof])"
   ]
  },
  {
   "cell_type": "code",
   "execution_count": null,
   "id": "30",
   "metadata": {},
   "outputs": [],
   "source": [
    " compare_vcirc([\"1\" => prof])"
   ]
  },
  {
   "cell_type": "code",
   "execution_count": null,
   "id": "31",
   "metadata": {},
   "outputs": [],
   "source": [
    "profi = prof[1].second\n",
    "r = profi.r_circ\n",
    "t = r ./ profi.v_circ\n",
    "N = profi.n_circ\n",
    "h = 0.024\n",
    "log_Λ = log.(r/h)\n",
    "\n",
    "t_relax = @. t * N / (8*log_Λ)\n"
   ]
  },
  {
   "cell_type": "code",
   "execution_count": null,
   "id": "32",
   "metadata": {},
   "outputs": [],
   "source": [
    "fig = Figure()\n",
    "ax = Axis(fig[1,1],\n",
    "    xlabel=\"log r / kpc\",\n",
    "    ylabel = \"log t relax / Gyr\",\n",
    "    limits=(-2, 2, -3, 2)\n",
    "    )\n",
    "\n",
    "\n",
    "lines!(log10.(r), log10.(t_relax*T2GYR))\n",
    "lines!(log10.(r), log10.(t*T2GYR))\n",
    "\n",
    "vlines!(-0.3)\n",
    "fig"
   ]
  },
  {
   "cell_type": "code",
   "execution_count": null,
   "id": "33",
   "metadata": {},
   "outputs": [],
   "source": []
  },
  {
   "cell_type": "markdown",
   "id": "34",
   "metadata": {},
   "source": [
    "## L3M11"
   ]
  },
  {
   "cell_type": "code",
   "execution_count": null,
   "id": "35",
   "metadata": {},
   "outputs": [],
   "source": [
    "profs = load_profile(\"1e6_V31_r3.2/vasiliev24_L3M11_extremeperi\")"
   ]
  },
  {
   "cell_type": "code",
   "execution_count": null,
   "id": "36",
   "metadata": {},
   "outputs": [],
   "source": [
    "compare_vcirc_time([\"maximum\"=>profs])"
   ]
  },
  {
   "cell_type": "code",
   "execution_count": null,
   "id": "37",
   "metadata": {},
   "outputs": [],
   "source": [
    "    \n",
    "fig = Figure()\n",
    "ax = Axis(fig[1, 1],\n",
    "    xlabel=log_r_label,\n",
    "    ylabel=L\"$\\log\\,v_\\textrm{circ}$ / km\\,s$^{-1}$\",\n",
    "#        limits=(xlims[1], xlims[2], -0.1, 1.7),\n",
    "    )\n",
    "pi = 1\n",
    "\n",
    "\n",
    "x = [prof.r_circ_max for (_, prof) in profs]\n",
    "y = [prof.v_circ_max for (_, prof) in profs]\n",
    "scatterlines!(log10.(x), log10.(y*V2KMS),)\n",
    "\n",
    "fig"
   ]
  },
  {
   "cell_type": "code",
   "execution_count": null,
   "id": "38",
   "metadata": {},
   "outputs": [],
   "source": [
    "[prof.time for (_, prof) in profs] * T2GYR"
   ]
  },
  {
   "cell_type": "code",
   "execution_count": null,
   "id": "39",
   "metadata": {},
   "outputs": [],
   "source": [
    " compare_vcirc([\"1\" => profs])"
   ]
  },
  {
   "cell_type": "code",
   "execution_count": null,
   "id": "40",
   "metadata": {},
   "outputs": [],
   "source": [
    "profi = profs[1].second\n",
    "r = profi.r_circ\n",
    "t = r ./ profi.v_circ\n",
    "N = profi.n_circ\n",
    "h = 0.024\n",
    "log_Λ = log.(r/h)\n",
    "\n",
    "t_relax = @. t * N / (8*log_Λ)\n"
   ]
  },
  {
   "cell_type": "code",
   "execution_count": null,
   "id": "41",
   "metadata": {},
   "outputs": [],
   "source": [
    "fig = Figure()\n",
    "ax = Axis(fig[1,1],\n",
    "    xlabel=\"log r / kpc\",\n",
    "    ylabel = \"log t relax / Gyr\",\n",
    "    limits=(-2, 2, -3, 2)\n",
    "    )\n",
    "\n",
    "\n",
    "lines!(log10.(r), log10.(t_relax*T2GYR))\n",
    "lines!(log10.(r), log10.(t*T2GYR))\n",
    "\n",
    "vlines!(-0.3)\n",
    "fig"
   ]
  },
  {
   "cell_type": "code",
   "execution_count": null,
   "id": "42",
   "metadata": {},
   "outputs": [],
   "source": []
  }
 ],
 "metadata": {
  "kernelspec": {
   "display_name": "Julia 1.11.2",
   "language": "julia",
   "name": "julia-1.11"
  },
  "language_info": {
   "file_extension": ".jl",
   "mimetype": "application/julia",
   "name": "julia",
   "version": "1.11.2"
  }
 },
 "nbformat": 4,
 "nbformat_minor": 5
}
