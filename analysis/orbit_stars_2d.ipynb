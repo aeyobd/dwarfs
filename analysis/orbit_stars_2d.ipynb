{
 "cells": [
  {
   "cell_type": "code",
   "execution_count": null,
   "id": "0",
   "metadata": {},
   "outputs": [],
   "source": [
    "using CairoMakie\n",
    "\n",
    "import LilGuys as lguys\n",
    "using Arya\n",
    "using LilGuys"
   ]
  },
  {
   "cell_type": "code",
   "execution_count": null,
   "id": "1",
   "metadata": {},
   "outputs": [],
   "source": [
    "function sigma_axis(gp; limits=(-1, 2, -2, 2.5), kwargs...) \n",
    "\tax = Axis(gp, \n",
    "\t\txlabel=log_r_label,\n",
    "\t\tylabel = log_sigma_label,\n",
    "        limits=limits\n",
    "\t\t;kwargs...\n",
    "\t)\n",
    "\n",
    "\treturn  ax\n",
    "end"
   ]
  },
  {
   "cell_type": "code",
   "execution_count": null,
   "id": "2",
   "metadata": {},
   "outputs": [],
   "source": [
    "function load_profiles(modelname, starsname; extension=\"stellar_profiles.hdf5\")\n",
    "    path = joinpath(modelsdir, modelname, \"stars\", starsname, extension)\n",
    "\n",
    "    parampath = joinpath(modelsdir, modelname, \"../stars\", starsname, \"profile.toml\")\n",
    "        \n",
    "    if isfile(parampath)\n",
    "        expected = LilGuys.load_profile(parampath)\n",
    "    else\n",
    "        @warn \"$parampath not found\"\n",
    "        expected = nothing\n",
    "    end\n",
    "\n",
    "    profs = LilGuys.read_structs_from_hdf5(path, LilGuys.StellarProfile)\n",
    "    idxs = parse.(Int, first.(profs))\n",
    "    profs = last.(profs)\n",
    "\n",
    "    s = sortperm(idxs)\n",
    "    return [idxs[i] => profs[i] for i in s ], expected\n",
    "end"
   ]
  },
  {
   "cell_type": "code",
   "execution_count": null,
   "id": "3",
   "metadata": {},
   "outputs": [],
   "source": [
    "function compare_profiles(profiles, expected=nothing; \n",
    "        sequential=false, legend=true, limits=(-2.5, 1.0, -6, 3), \n",
    "        skip=1,\n",
    "        kwargs...\n",
    "    )\n",
    "    \n",
    "    fig = Figure()\n",
    "\tax = sigma_axis(fig[1, 1]; limits=limits, kwargs...)\n",
    "\n",
    "    plot_kwargs = Dict{Symbol, Any}()\n",
    "\n",
    "    if sequential\n",
    "        if profiles[1].second.time !== NaN\n",
    "            has_time = true\n",
    "            plot_kwargs[:colorrange] = (profiles[1].second.time * T2GYR, profiles[end].second.time * T2GYR)\n",
    "        else\n",
    "            \n",
    "            plot_kwargs[:colorrange] = (1, length(profiles))\n",
    "            has_time = false\n",
    "        end\n",
    "        \n",
    "    end\n",
    "\n",
    "    local p\n",
    "    \n",
    "    for i in eachindex(profiles)[1:skip:end]\n",
    "        label, prof = profiles[i]\n",
    "        x = prof.log_r\n",
    "        y = prof.log_Sigma\n",
    "        if sequential\n",
    "            if has_time\n",
    "                plot_kwargs[:color] = prof.time * T2GYR\n",
    "            else\n",
    "                plot_kwargs[:color] = i\n",
    "            end\n",
    "            \n",
    "        end\n",
    "\n",
    "    \tp = lines!(x, y, label=string(label); plot_kwargs...)\n",
    "    end\n",
    "\n",
    "    if expected !== nothing\n",
    "    \tlog_r_pred = LinRange(-2, 2, 1000)\n",
    "    \tρ_s_pred = lguys.calc_Σ.(expected, 10 .^ log_r_pred)\n",
    "\n",
    "    \tlines!(log_r_pred, log10.(ρ_s_pred), label=\"expected\", color=\"black\", linestyle=:dot)\n",
    "    end\n",
    "\n",
    "    if legend\n",
    "    \taxislegend(ax, position=:lb)\n",
    "    end \n",
    "    if sequential\n",
    "        if has_time \n",
    "            label = \"time / Gyr\"\n",
    "        else\n",
    "            label = \"snapshot\"\n",
    "        end\n",
    "        \n",
    "        Colorbar(fig[1,2], colorrange=plot_kwargs[:colorrange], label=label)\n",
    "    end\n",
    "    \n",
    "\tfig\n",
    "end"
   ]
  },
  {
   "cell_type": "code",
   "execution_count": null,
   "id": "4",
   "metadata": {},
   "outputs": [],
   "source": [
    "function plot_v_t!(profiles; kwargs...)\n",
    "\tsigmas = [p.second.sigma_vx for p in profiles]\n",
    "\n",
    "    t = [p.second.time for p in profiles] \n",
    "\tscatterlines!(t * T2GYR, sigmas * V2KMS; kwargs...)\n",
    "end"
   ]
  },
  {
   "cell_type": "code",
   "execution_count": null,
   "id": "5",
   "metadata": {},
   "outputs": [],
   "source": [
    "function plot_v_t(profiles; kwargs...)\n",
    "\tfig, ax = FigAxis(\n",
    "\t\txlabel = \"time / Gyr\",\n",
    "\t\tylabel = L\"\\sigma_v / \\textrm{km s^{-1}}\";\n",
    "        kwargs...\n",
    "\t)\n",
    "\n",
    "    plot_v_t!(profiles)\n",
    "\n",
    "    fig\n",
    "end\n",
    "    "
   ]
  },
  {
   "cell_type": "code",
   "execution_count": null,
   "id": "6",
   "metadata": {},
   "outputs": [],
   "source": [
    "function compare_v_t(profilesi)\n",
    "\tfig, ax = FigAxis(\n",
    "\t\txlabel = \"time / Gyr\",\n",
    "\t\tylabel = L\"\\sigma_v / \\textrm{km s^{-1}}\",\n",
    "\t)\n",
    "\n",
    "\n",
    "    for i in eachindex(profilesi)\n",
    "        label, profiles = profilesi[i]\n",
    "\n",
    "        kwargs = Dict{Symbol, Any}()\n",
    "        kwargs[:label] = label\n",
    "  \n",
    "        plot_v_t!(profiles; kwargs...)\n",
    "    end\n",
    "\n",
    "    axislegend()\n",
    "\tfig\n",
    "end"
   ]
  },
  {
   "cell_type": "code",
   "execution_count": null,
   "id": "7",
   "metadata": {},
   "outputs": [],
   "source": [
    "function plot_r_percens(profiles; kwargs...)\n",
    "\tfig = Figure()\n",
    "\tax = Axis(fig[1,1], xlabel=\"time / Gyr\", ylabel=\"log r / kpc containing stellar mass\"; kwargs...)\n",
    "\n",
    "\tq = profiles[1].second.quantiles\n",
    "\tt = [p.second.time for p in profiles] * T2GYR\n",
    "    \n",
    "\tfor i in reverse(eachindex(q))\n",
    "\t\tMq = [log10.(p.second.r_quantile[i]) for p in profiles]\n",
    "        \n",
    "\t\tlines!(t, Mq, color=q[i], colorrange=extrema(q), label=\"$(q[i])\")\n",
    "\tend\n",
    "\n",
    "\tLegend(fig[1, 2], ax, \"quantile\")\n",
    "\tfig\n",
    "end\n",
    "    "
   ]
  },
  {
   "cell_type": "code",
   "execution_count": null,
   "id": "8",
   "metadata": {},
   "outputs": [],
   "source": [
    "\"\"\"\n",
    "    all_plots(profiles[, expected])\n",
    "\n",
    "Given the profiles object, this function displayes the plots\n",
    "for the profiles and r percentiles for each timestep in the profile\n",
    "\n",
    "\"\"\"\n",
    "function all_plots(profiles, expected=nothing; prof_limits=(-2, 1, -15, 3), title=\"\")\n",
    "   display(compare_profiles(profiles, expected, \n",
    "            sequential=true, legend=false, title=title, limits=prof_limits,\n",
    "        )\n",
    "    )\n",
    "    \n",
    "    display(plot_r_percens(profiles, title=title))\n",
    "\n",
    "    display(plot_v_t(profiles, title=title))\n",
    "\n",
    "end"
   ]
  },
  {
   "cell_type": "code",
   "execution_count": null,
   "id": "9",
   "metadata": {},
   "outputs": [],
   "source": [
    "prof_expected = lguys.StellarProfile(\"/astro/dboyea/dwarfs/observations/sculptor/processed/fiducial_sample_profile.toml\");"
   ]
  },
  {
   "cell_type": "code",
   "execution_count": null,
   "id": "10",
   "metadata": {},
   "outputs": [],
   "source": [
    "log_r_label = \"log r / kpc\""
   ]
  },
  {
   "cell_type": "code",
   "execution_count": null,
   "id": "11",
   "metadata": {},
   "outputs": [],
   "source": [
    "log_sigma_label = L\"$\\log \\Sigma$ / N\\,kpc$^{-2}$\""
   ]
  },
  {
   "cell_type": "code",
   "execution_count": null,
   "id": "12",
   "metadata": {},
   "outputs": [],
   "source": [
    "modelsdir = ENV[\"DWARFS_ROOT\"] * \"/analysis/\""
   ]
  },
  {
   "cell_type": "markdown",
   "id": "13",
   "metadata": {},
   "source": [
    "## V=32, r=5.9 (the initial model)"
   ]
  },
  {
   "cell_type": "code",
   "execution_count": null,
   "id": "14",
   "metadata": {},
   "outputs": [],
   "source": [
    "models = []"
   ]
  },
  {
   "cell_type": "code",
   "execution_count": null,
   "id": "15",
   "metadata": {},
   "outputs": [],
   "source": [
    "readdir(joinpath(modelsdir, \"sculptor/1e6_V31_r3.2/orbit1/stars/exp2d_rs0.10\"))"
   ]
  },
  {
   "cell_type": "code",
   "execution_count": null,
   "id": "16",
   "metadata": {},
   "outputs": [],
   "source": [
    "profs, expected = load_profiles(\"sculptor/1e6_V31_r3.2/\", \"exp2d_rs0.10\");\n"
   ]
  },
  {
   "cell_type": "code",
   "execution_count": null,
   "id": "17",
   "metadata": {},
   "outputs": [],
   "source": [
    "compare_profiles(profs, expected, sequential=true, legend=false)"
   ]
  },
  {
   "cell_type": "code",
   "execution_count": null,
   "id": "18",
   "metadata": {},
   "outputs": [],
   "source": [
    "profs, expected = load_profiles(\"sculptor/1e6_V31_r3.2/\", \"plummer_rs0.15\");\n"
   ]
  },
  {
   "cell_type": "code",
   "execution_count": null,
   "id": "19",
   "metadata": {},
   "outputs": [],
   "source": [
    "compare_profiles(profs, expected, sequential=true, legend=false)"
   ]
  },
  {
   "cell_type": "code",
   "execution_count": null,
   "id": "20",
   "metadata": {},
   "outputs": [],
   "source": [
    "profs, expected = load_profiles(\"sculptor/1e6_V31_r3.2/orbit1\", \"exp2d_rs0.10\");\n"
   ]
  },
  {
   "cell_type": "markdown",
   "id": "21",
   "metadata": {},
   "source": [
    "Fiducial ish model"
   ]
  },
  {
   "cell_type": "code",
   "execution_count": null,
   "id": "22",
   "metadata": {},
   "outputs": [],
   "source": [
    "profs, expected = load_profiles(\"sculptor/1e6_V31_r3.2/orbit_mean\", \"exp2d_rs0.10\");\n"
   ]
  },
  {
   "cell_type": "code",
   "execution_count": null,
   "id": "23",
   "metadata": {},
   "outputs": [],
   "source": [
    "compare_profiles(profs, expected, sequential=true, legend=false)"
   ]
  },
  {
   "cell_type": "code",
   "execution_count": null,
   "id": "24",
   "metadata": {},
   "outputs": [],
   "source": [
    "profs, expected = load_profiles(\"sculptor/1e6_V31_r3.2/vasiliev+21_heavylmc_smallperilmc\", \"exp2d_rs0.13\");\n"
   ]
  },
  {
   "cell_type": "code",
   "execution_count": null,
   "id": "25",
   "metadata": {},
   "outputs": [],
   "source": [
    "compare_profiles(profs, expected, sequential=true, legend=false)"
   ]
  },
  {
   "cell_type": "code",
   "execution_count": null,
   "id": "26",
   "metadata": {},
   "outputs": [],
   "source": []
  },
  {
   "cell_type": "code",
   "execution_count": null,
   "id": "27",
   "metadata": {},
   "outputs": [],
   "source": [
    "profs, expected = load_profiles(\"sculptor/1e6_V31_r3.2/vasiliev+21_heavylmc\", \"exp2d_rs0.13\");\n"
   ]
  },
  {
   "cell_type": "code",
   "execution_count": null,
   "id": "28",
   "metadata": {},
   "outputs": [],
   "source": [
    "compare_profiles(profs, expected, sequential=true, legend=false)"
   ]
  },
  {
   "cell_type": "code",
   "execution_count": null,
   "id": "29",
   "metadata": {},
   "outputs": [],
   "source": [
    "profs, expected = load_profiles(\"sculptor/1e6_V31_r3.2/vasiliev24_L3M11_smallperi/\", \"exp2d_rs0.13\");\n"
   ]
  },
  {
   "cell_type": "code",
   "execution_count": null,
   "id": "30",
   "metadata": {},
   "outputs": [],
   "source": [
    "compare_profiles(profs, expected, sequential=true, legend=false, skip=10, limits=(-2, 1, -7, 2))"
   ]
  },
  {
   "cell_type": "code",
   "execution_count": null,
   "id": "31",
   "metadata": {},
   "outputs": [],
   "source": []
  }
 ],
 "metadata": {
  "kernelspec": {
   "display_name": "Julia 1.11.2",
   "language": "julia",
   "name": "julia-1.11"
  },
  "language_info": {
   "file_extension": ".jl",
   "mimetype": "application/julia",
   "name": "julia",
   "version": "1.11.2"
  }
 },
 "nbformat": 4,
 "nbformat_minor": 5
}
