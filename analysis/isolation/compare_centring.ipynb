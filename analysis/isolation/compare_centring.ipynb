{
 "cells": [
  {
   "cell_type": "code",
   "execution_count": 1,
   "id": "37426aba-67c1-4ddf-85b3-1fa874cebbcb",
   "metadata": {},
   "outputs": [],
   "source": [
    "using LilGuys\n",
    "using Arya\n",
    "using CairoMakie\n",
    "using HDF5"
   ]
  },
  {
   "cell_type": "code",
   "execution_count": 4,
   "id": "1deca071-1ca0-471a-a608-00fe9d057a96",
   "metadata": {},
   "outputs": [],
   "source": [
    "using OrderedCollections"
   ]
  },
  {
   "cell_type": "code",
   "execution_count": 34,
   "id": "42db70fb-dd14-4708-9842-6a15dc861a97",
   "metadata": {},
   "outputs": [
    {
     "data": {
      "text/plain": [
       "get_uncertainties (generic function with 1 method)"
      ]
     },
     "execution_count": 34,
     "metadata": {},
     "output_type": "execute_result"
    }
   ],
   "source": [
    "function get_uncertainties(filename)\n",
    "    local δx, δv\n",
    "    HDF5.h5open(filename) do f\n",
    "        δx = LilGuys.get_vector(f, \"position_errs\")\n",
    "        δv = LilGuys.get_vector(f, \"velocity_errs\")\n",
    "    end\n",
    "\n",
    "    return δx, δv\n",
    "end"
   ]
  },
  {
   "cell_type": "code",
   "execution_count": 63,
   "id": "8bb14e1b-7e9c-40ff-b520-07fd6aa2fbe1",
   "metadata": {},
   "outputs": [
    {
     "data": {
      "text/plain": [
       "compare_orbits (generic function with 1 method)"
      ]
     },
     "execution_count": 63,
     "metadata": {},
     "output_type": "execute_result"
    }
   ],
   "source": [
    "function compare_orbits(labels_filenames)\n",
    "    orbits = OrderedDict(label => Orbit(filename) for (label, filename) in labels_filenames)\n",
    "\n",
    "    labels = [label for (label, _) in labels_filenames]\n",
    "    filenames = [filename for (_, filename) in labels_filenames]\n",
    "    uncerts = [get_uncertainties(filename) for filename in filenames]\n",
    "\n",
    "    \n",
    "    dx = [u[1] for (label, u) in uncerts]\n",
    "    dv = [u[2] for (label, u) in uncerts]\n",
    "\n",
    "\n",
    "    pos = LilGuys.positions.(values(orbits))\n",
    "    rs = radii.(pos)\n",
    "    ts = LilGuys.times.(values(orbits))\n",
    "\n",
    "    \n",
    "    LilGuys.plot_xyz(pos..., labels=labels) |> display\n",
    "\n",
    "    plot_deviations(ts, rs, labels) |> display\n",
    "\n",
    "    plot_deviations(ts, [log10.(x) for x in rs ./ dx], labels, ylabel=\"log # sigma\") |> display\n",
    "\n",
    "end"
   ]
  },
  {
   "cell_type": "code",
   "execution_count": 64,
   "id": "503d5f0e-2ebb-4b96-9e84-c1f2924b29c6",
   "metadata": {},
   "outputs": [
    {
     "data": {
      "text/plain": [
       "plot_deviations (generic function with 2 methods)"
      ]
     },
     "execution_count": 64,
     "metadata": {},
     "output_type": "execute_result"
    }
   ],
   "source": [
    "function plot_deviations(ts, rs, labels; ylabel = \"deviation\")\n",
    "    fig = Figure()\n",
    "    ax = Axis(fig[1,1],\n",
    "        xlabel = \"index\",\n",
    "        ylabel = ylabel\n",
    "    )\n",
    "\n",
    "\n",
    "    for (t, r, label) in zip(ts, rs, labels)\n",
    "        lines!(t, r, label=label)\n",
    "    end\n",
    "    \n",
    "    fig\n",
    "end"
   ]
  },
  {
   "cell_type": "code",
   "execution_count": 67,
   "id": "40cd7ea8-f51c-4847-b4ea-a5417652132d",
   "metadata": {},
   "outputs": [
    {
     "data": {
      "text/plain": [
       "Dict{String, String} with 5 entries:\n",
       "  \"com\"           => \"1e7_new/fiducial/centres_com.hdf5\"\n",
       "  \"default\"       => \"1e7_new/fiducial/centres.hdf5\"\n",
       "  \"most bound\"    => \"1e7_new/fiducial/centres_mb.hdf5\"\n",
       "  \"potential cut\" => \"1e7_new/fiducial/centres_potential.hdf5\"\n",
       "  \"smaller\"       => \"1e7_new/fiducial/centres_r0.3.hdf5\""
      ]
     },
     "execution_count": 67,
     "metadata": {},
     "output_type": "execute_result"
    }
   ],
   "source": [
    "labels = Dict(\n",
    "    \"default\" => \"1e7_new/fiducial/centres.hdf5\",\n",
    "    \"smaller\" => \"1e7_new/fiducial/centres_r0.3.hdf5\",\n",
    "    \"potential cut\" => \"1e7_new/fiducial/centres_potential.hdf5\",\n",
    "    \"most bound\" => \"1e7_new/fiducial/centres_mb.hdf5\",\n",
    "    \"com\" => \"1e7_new/fiducial/centres_com.hdf5\",\n",
    "    )"
   ]
  },
  {
   "cell_type": "code",
   "execution_count": null,
   "id": "80b3b1e2-9cb4-462b-85b1-132c2bfbfae3",
   "metadata": {},
   "outputs": [],
   "source": [
    "compare_orbits(labels)"
   ]
  },
  {
   "cell_type": "code",
   "execution_count": 59,
   "id": "49f8c284-f609-40e0-9f26-aa5c4c36df42",
   "metadata": {},
   "outputs": [
    {
     "data": {
      "text/plain": [
       "OrderedDict{String, Orbit} with 2 entries:\n",
       "  \"default\" => Orbit([0.0, 10.0928, 19.9268, 30.0195, 40.1123, 49.9463, 60.0391…\n",
       "  \"r0.3\"    => Orbit([0.0, 10.0928, 19.9268, 30.0195, 40.1123, 49.9463, 60.0391…"
      ]
     },
     "execution_count": 59,
     "metadata": {},
     "output_type": "execute_result"
    }
   ],
   "source": [
    "orbits = OrderedDict(\n",
    "    \"default\" => Orbit(\"1e7_new/fiducial/centres.hdf5\"),\n",
    "    \"r0.3\" => Orbit(\"1e7_new/fiducial/centres_r0.3.hdf5\"),\n",
    "    )"
   ]
  },
  {
   "cell_type": "markdown",
   "id": "ba05732f-32c3-449f-b4b8-04b0ff5d45b1",
   "metadata": {},
   "source": [
    "All in all, the details of centring do not matter too much in isolation, so we can just use the centre. Note that the naieve uncertainties are substantially underrepresented. \n",
    "\n",
    "Comparing the methods, the COM is likely the true centre for isolation but does not apply for tidal stripping. As such, the other methods, like Most Bound and SS scatter around the mean"
   ]
  },
  {
   "cell_type": "code",
   "execution_count": null,
   "id": "921ae517-2878-411c-baa7-6ce3edee86b1",
   "metadata": {},
   "outputs": [],
   "source": []
  }
 ],
 "metadata": {
  "kernelspec": {
   "display_name": "Julia 1.11.5",
   "language": "julia",
   "name": "julia-1.11"
  },
  "language_info": {
   "file_extension": ".jl",
   "mimetype": "application/julia",
   "name": "julia",
   "version": "1.11.5"
  }
 },
 "nbformat": 4,
 "nbformat_minor": 5
}
