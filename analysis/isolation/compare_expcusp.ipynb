{
 "cells": [
  {
   "cell_type": "markdown",
   "id": "0",
   "metadata": {},
   "source": [
    "This notebook contains several convergence tests and ensures that we are using reasonable parameters for the simulations, which balance speed and accuracy."
   ]
  },
  {
   "cell_type": "code",
   "execution_count": null,
   "id": "1",
   "metadata": {},
   "outputs": [],
   "source": [
    "using Revise\n",
    "using LilGuys\n",
    "using CairoMakie, Arya"
   ]
  },
  {
   "cell_type": "code",
   "execution_count": null,
   "id": "2",
   "metadata": {},
   "outputs": [],
   "source": [
    "using Printf"
   ]
  },
  {
   "cell_type": "code",
   "execution_count": null,
   "id": "3",
   "metadata": {},
   "outputs": [],
   "source": [
    "import DataFrames: DataFrame, rename!"
   ]
  },
  {
   "cell_type": "code",
   "execution_count": null,
   "id": "4",
   "metadata": {},
   "outputs": [],
   "source": [
    "models_dir = \"/astro/dboyea/dwarfs/analysis/isolation\""
   ]
  },
  {
   "cell_type": "code",
   "execution_count": null,
   "id": "5",
   "metadata": {},
   "outputs": [],
   "source": [
    "function load_profile(name) \n",
    "    path = joinpath(models_dir, \"$name/profiles.hdf5\")\n",
    "    profiles = LilGuys.read_structs_from_hdf5(path, LilGuys.MassProfile3D)\n",
    "    idx = parse.(Int, first.(profiles))\n",
    "    profiles = last.(profiles)\n",
    "    return profiles[sortperm(idx)]\n",
    "    \n",
    "end"
   ]
  },
  {
   "cell_type": "code",
   "execution_count": null,
   "id": "6",
   "metadata": {},
   "outputs": [],
   "source": [
    "t_max_host = 316 # computed with agama at peri=50.95 \n",
    "M_max_host = 52.437\n",
    "r_peri = 50.95\n",
    "ρ_peri = M_max_host / (4π/3 * r_peri^3)"
   ]
  },
  {
   "cell_type": "code",
   "execution_count": null,
   "id": "7",
   "metadata": {},
   "outputs": [],
   "source": [
    "halo = LilGuys.load_profile(\"$models_dir/1e4_expcusp/fiducial/halo.toml\")"
   ]
  },
  {
   "cell_type": "markdown",
   "id": "8",
   "metadata": {},
   "source": [
    "# Plotting functions"
   ]
  },
  {
   "cell_type": "code",
   "execution_count": null,
   "id": "9",
   "metadata": {},
   "outputs": [],
   "source": [
    "function compare_densities(profiles; errskip=1)\n",
    "    fig = Figure()\n",
    "    ax = Axis(fig[1,1],\n",
    "        xlabel = L\"$\\log r$ / kpc\",\n",
    "        ylabel = L\"log \\rho \",\n",
    "        limits=(-2, 3, -12, 0),\n",
    "        )\n",
    "\n",
    "\n",
    "    for i in eachindex(profiles)\n",
    "        label, profs = profiles[i]\n",
    "        profile = profs[1]\n",
    "        lines!(profile.log_r, log10.(profile.rho),\n",
    "            linestyle=:dot,\n",
    "            color=COLORS[i]\n",
    "        )\n",
    "    \n",
    "        profile = profs[end]\n",
    "        lines!(profile.log_r, log10.(profile.rho), \n",
    "            color=COLORS[i],\n",
    "            label=label\n",
    "        )    \n",
    "    end\n",
    "    log_r = LinRange(-2, 3, 1000)\n",
    "    ρ = calc_ρ.(halo, 10 .^ log_r)\n",
    "    lines!(log_r, log10.(ρ), color=:black, linestyle=:dash)\n",
    "    \n",
    "    \n",
    "    axislegend()\n",
    "\n",
    "    ax_res = Axis(fig[2, 1])\n",
    "    ax_res.ylabel = L\"(\\rho-\\rho_\\textrm{exp}) / \\rho_\\textrm{exp}\"\n",
    "    ax_res.limits = (-2, 3, -1, 1)\n",
    "\n",
    "    for i in eachindex(profiles)\n",
    "        profile = profiles[i].second[end]\n",
    "\n",
    "        x = profile.log_r\n",
    "        y_exp = calc_ρ.(halo, 10 .^ x)\n",
    "        dy = profile.rho .- y_exp\n",
    "\n",
    "        res = dy ./ y_exp\n",
    "        res_err = profile.rho_err ./ y_exp\n",
    "        lines!(x, res, color=COLORS[i])\n",
    "        \n",
    "        si = 1:errskip:length(res)\n",
    "        errorbars!(x[si], res[si], res_err[si], color=COLORS[i])\n",
    "    end\n",
    "    hlines!(0, color=:black)\n",
    "\n",
    "\n",
    "\tlinkxaxes!(ax, ax_res, )\n",
    "\trowsize!(fig.layout, 2, Auto(0.3))\n",
    "\thidexdecorations!(ax, grid=false)\n",
    "    \n",
    "    fig\n",
    "\n",
    "end"
   ]
  },
  {
   "cell_type": "code",
   "execution_count": null,
   "id": "10",
   "metadata": {},
   "outputs": [],
   "source": [
    "log_r_label = \"log r / kpc\""
   ]
  },
  {
   "cell_type": "code",
   "execution_count": null,
   "id": "11",
   "metadata": {},
   "outputs": [],
   "source": [
    "function compare_vcirc(profiles; errskip=1, xlims = (-2, 3), vlims=(0.3, 1.6))\n",
    "    \n",
    "    fig = Figure()\n",
    "    ax = Axis(fig[1, 1],\n",
    "        xlabel=log_r_label,\n",
    "        ylabel=L\"$\\log\\,v_\\textrm{circ}$ / km\\,s$^{-1}$\",\n",
    "        limits=(xlims[1], xlims[2], vlims[1], vlims[2]),\n",
    "        )\n",
    "    pi = 1\n",
    "\n",
    "    \n",
    "    for i in eachindex(profiles)\n",
    "        label, profs = profiles[i]\n",
    "        profile = profs[1]\n",
    "        lines!(log10.(profile.r_circ), log10.(profile.v_circ * V2KMS),\n",
    "            linestyle=:dot,\n",
    "            color=COLORS[i]\n",
    "        )\n",
    "        \n",
    "        profile = profs[end]\n",
    "        lines!(log10.(profile.r_circ), log10.(profile.v_circ* V2KMS), \n",
    "            color=COLORS[i],\n",
    "            label=label\n",
    "        )\n",
    "\n",
    "        println(label, \" number per bin: \", LilGuys.mean(diff(profile.n_circ)))\n",
    "\n",
    "    \n",
    "    end\n",
    "\n",
    "    x = LinRange(xlims[1], xlims[2], 1000)\n",
    "    y = calc_v_circ.(halo, 10 .^ x)\n",
    "    lines!(x, log10.(y * V2KMS), linestyle=:dash, color=:black, label=\"expected\")\n",
    "\n",
    "    axislegend(position=:rb)\n",
    "\n",
    "    # residual\n",
    "\n",
    "    ax_res = Axis(fig[2, 1],\n",
    "        xlabel=log_r_label,\n",
    "        ylabel=L\"\\Delta\\,v\\,/v_\\textrm{exp}\",\n",
    "        limits=(xlims[1], xlims[2], -0.2, 0.2),\n",
    "    )\n",
    "    \n",
    "    for i in eachindex(profiles)\n",
    "        label, profs = profiles[i]\n",
    "        profile = profs[end]\n",
    "\n",
    "        x = log10.(profile.r_circ)\n",
    "        \n",
    "        y_exp = calc_v_circ.(halo, 10 .^ x)\n",
    "        dy = profile.v_circ .- y_exp\n",
    "        res = dy ./ y_exp\n",
    "        res_err = profile.v_circ_err ./ y_exp\n",
    "        \n",
    "        scatterlines!(x, res, color=COLORS[i], markersize=3)\n",
    "\n",
    "        idx = 1:errskip:length(res)\n",
    "        errorbars!(x[idx], res[idx], res_err[idx], color=COLORS[i])\n",
    "    end\n",
    "    hlines!(0, color=:black)\n",
    "\n",
    "\n",
    "\tlinkxaxes!(ax, ax_res, )\n",
    "\trowsize!(fig.layout, 2, Auto(0.3))\n",
    "\thidexdecorations!(ax, grid=false)\n",
    "    \n",
    "    fig\n",
    "end"
   ]
  },
  {
   "cell_type": "code",
   "execution_count": null,
   "id": "12",
   "metadata": {},
   "outputs": [],
   "source": [
    "function compare_t_dyn(profiles, halo=halo)\n",
    "    fig = Figure()\n",
    "    ax = Axis(fig[1, 1],\n",
    "        xlabel=log_r_label,\n",
    "        ylabel=L\"$\\log\\, t_\\textrm{circ}$ / Gyr\",\n",
    "        limits=(-3, 3, -2, 0.5),\n",
    "        )\n",
    "    pi = 1\n",
    "    \n",
    "    for i in eachindex(profiles)\n",
    "        \n",
    "        #profile = profiles[i].second[1]\n",
    "    \n",
    "        label, profs = profiles[i]\n",
    "        profile = profs[end]\n",
    "        \n",
    "        t = 2π * profile.r_circ ./ (profile.v_circ) * T2GYR\n",
    "        lines!(log10.(profile.r_circ), log10.(t), \n",
    "            color=COLORS[i],\n",
    "            label=label,\n",
    "        )\n",
    "    \n",
    "    \n",
    "    end\n",
    "    \n",
    "\n",
    "    if halo !== nothing\n",
    "        log_r = LinRange(-3, 3, 1000)\n",
    "        r = 10 .^ log_r\n",
    "        t = @. 2π * r / LilGuys.calc_v_circ(halo, r) * T2GYR\n",
    "        lines!(log_r, log10.(t), \n",
    "            color=:black,\n",
    "            label = \"analytic\"\n",
    "            )\n",
    "    end\n",
    "        \n",
    "    axislegend()\n",
    "        \n",
    "    fig\n",
    "\n",
    "end"
   ]
  },
  {
   "cell_type": "markdown",
   "id": "13",
   "metadata": {},
   "source": [
    "## CPU Function"
   ]
  },
  {
   "cell_type": "code",
   "execution_count": null,
   "id": "14",
   "metadata": {},
   "outputs": [],
   "source": [
    "simulation_dir = \"/astro/dboyea/dwarfs/simulations/isolation\""
   ]
  },
  {
   "cell_type": "code",
   "execution_count": null,
   "id": "15",
   "metadata": {},
   "outputs": [],
   "source": [
    "function load_cpu_use(model_dir::String)\n",
    "    filename = joinpath(simulation_dir, model_dir, \"out/cpu.csv\")\n",
    "\n",
    "    lines = readlines(filename)\n",
    "    lines[1] = replace(lines[1], \"MULTIPLEDOMAIN, \" => \"\")\n",
    "\n",
    "    data = [split(line, \", \")[1:end-1] for line in lines[2:end]]\n",
    "    filt = [d[1] != \"STEP\" for d in data]\n",
    "    data = data[filt]\n",
    "    \n",
    "    columns = split(lines[1], \", \")[1:end-1]\n",
    "    columns = replace.(columns, \"1\"=>\"\", \"2\"=>\"_TOT\", \"3\"=>\"_PERCEN\")\n",
    "\n",
    "    Ncol = length(columns)\n",
    "\n",
    "    data = [[row[i] for row in data] for i in 1:Ncol]\n",
    "    df = DataFrame(data, Symbol.(columns))\n",
    "\n",
    "    convert_types!(df)\n",
    "\n",
    "    return df\n",
    "end"
   ]
  },
  {
   "cell_type": "code",
   "execution_count": null,
   "id": "16",
   "metadata": {},
   "outputs": [],
   "source": [
    "# Function to convert SubString values to Int, Float, or leave as String\n",
    "function convert_types!(df::DataFrame)\n",
    "    for col in names(df)\n",
    "        df[!, col] = [tryparse(Int, val) !== nothing ? tryparse(Int, val) :\n",
    "                      tryparse(Float64, val) !== nothing ? tryparse(Float64, val) :\n",
    "                      val for val in df[!, col]]\n",
    "    end\n",
    "end"
   ]
  },
  {
   "cell_type": "code",
   "execution_count": null,
   "id": "17",
   "metadata": {},
   "outputs": [],
   "source": [
    "function get_tot_cpu(model_dir::String)\n",
    "    df = load_cpu_use(model_dir)\n",
    "\n",
    "    return df.CPU_ALL_TOT[end] * df.CPUS[end] \n",
    "end"
   ]
  },
  {
   "cell_type": "code",
   "execution_count": null,
   "id": "18",
   "metadata": {},
   "outputs": [],
   "source": [
    "function cpu_summary(model_dir::String)\n",
    "    df = load_cpu_use(model_dir)\n",
    "\n",
    "    tot = df.CPU_ALL_TOT[end] * df.CPUS[end] / df.TIME[end]\n",
    "    percen_tree = LilGuys.mean(df.CPU_TREE_PERCEN)\n",
    "\n",
    "    if \"CPU_PM_GRAVITY_PERCEN\" ∈ names(df)\n",
    "        percen_tree = percen_tree + LilGuys.mean(df.CPU_PM_GRAVITY_PERCEN)\n",
    "    end\n",
    "\n",
    "    return tot, percen_tree\n",
    "end"
   ]
  },
  {
   "cell_type": "code",
   "execution_count": null,
   "id": "19",
   "metadata": {},
   "outputs": [],
   "source": [
    "function print_cpus_of_models(folders, names=folders; simplify_name=false)\n",
    "    if simplify_name\n",
    "        names = @. basename(names)\n",
    "    end\n",
    "    name_width = maximum(length.(names))\n",
    "    \n",
    "    @printf \"%-*s\\t%-8s\\t%-5s\\n\" name_width \"model\" \"cpu s/T0\" \"%grav\"\n",
    "    println(\"-\"^name_width, \"\\t\", \"-\"^8, \"\\t\", \"-\"^8)\n",
    "\n",
    "            \n",
    "    \n",
    "    for (folder, name) in zip(folders, names)\n",
    "    \n",
    "        try\n",
    "            cpu, tree = cpu_summary(folder)\n",
    "\n",
    "            \n",
    "            @printf \"%-*s\\t%8.2f\\t%4.1f\" name_width name cpu tree\n",
    "            println()\n",
    "        catch e\n",
    "            println(\"skipping $name\")\n",
    "        end\n",
    "    end\n",
    "end"
   ]
  },
  {
   "cell_type": "code",
   "execution_count": null,
   "id": "20",
   "metadata": {},
   "outputs": [],
   "source": [
    "function print_cpus_in_folder(subfolder::String)\n",
    "    folders = readdir(joinpath(simulation_dir, subfolder ))\n",
    "\n",
    "    print_cpus_of_models(joinpath.([subfolder], folders), simplify_name=true)\n",
    "   \n",
    "end"
   ]
  },
  {
   "cell_type": "markdown",
   "id": "21",
   "metadata": {},
   "source": [
    "# Particle Number"
   ]
  },
  {
   "cell_type": "code",
   "execution_count": null,
   "id": "22",
   "metadata": {},
   "outputs": [],
   "source": [
    "profiles = [\n",
    "    \"1e4\" => load_profile(\"1e4_expcusp/fiducial\"),\n",
    "     \"1e5\" => load_profile(\"1e5_expcusp/fiducial\"),\n",
    "     \"1e6\" => load_profile(\"1e6_expcusp/fiducial\"),\n",
    " #    \"1e7\" => load_profile(\"1e7/fiducial\")\n",
    "    ];"
   ]
  },
  {
   "cell_type": "code",
   "execution_count": null,
   "id": "23",
   "metadata": {},
   "outputs": [],
   "source": [
    "compare_densities(profiles,  errskip=10)"
   ]
  },
  {
   "cell_type": "code",
   "execution_count": null,
   "id": "24",
   "metadata": {},
   "outputs": [],
   "source": [
    "compare_vcirc(profiles, errskip=1)"
   ]
  },
  {
   "cell_type": "code",
   "execution_count": null,
   "id": "25",
   "metadata": {},
   "outputs": [],
   "source": [
    "compare_t_dyn(profiles)"
   ]
  },
  {
   "cell_type": "markdown",
   "id": "26",
   "metadata": {},
   "source": [
    "## 1e4"
   ]
  },
  {
   "cell_type": "code",
   "execution_count": null,
   "id": "27",
   "metadata": {},
   "outputs": [],
   "source": [
    "print_cpus_in_folder(\"1e4_expcusp\")"
   ]
  },
  {
   "cell_type": "code",
   "execution_count": null,
   "id": "28",
   "metadata": {},
   "outputs": [],
   "source": [
    "model_names = [\"1e4_expcusp/\"] .* [\n",
    "    \"s_0.013\",\n",
    "    \"fiducial\",\n",
    "    \"s_0.13\",\n",
    "    ]\n",
    "\n",
    "labels = [\n",
    "    \"0.013\",\n",
    "    \"0.042\",\n",
    "    \"0.13\",\n",
    "    ]\n",
    "\n",
    "profiles = [label => load_profile(model) for (label, model) in zip(labels, model_names)]"
   ]
  },
  {
   "cell_type": "code",
   "execution_count": null,
   "id": "29",
   "metadata": {},
   "outputs": [],
   "source": [
    "compare_densities(profiles, errskip=1)"
   ]
  },
  {
   "cell_type": "code",
   "execution_count": null,
   "id": "30",
   "metadata": {},
   "outputs": [],
   "source": [
    "0.042 / sqrt(10)"
   ]
  },
  {
   "cell_type": "code",
   "execution_count": null,
   "id": "31",
   "metadata": {},
   "outputs": [],
   "source": [
    "compare_vcirc(profiles, errskip=1)"
   ]
  },
  {
   "cell_type": "markdown",
   "id": "32",
   "metadata": {},
   "source": [
    "## 1e5"
   ]
  },
  {
   "cell_type": "code",
   "execution_count": null,
   "id": "33",
   "metadata": {},
   "outputs": [],
   "source": [
    "print_cpus_in_folder(\"1e5_expcusp\")"
   ]
  },
  {
   "cell_type": "code",
   "execution_count": null,
   "id": "34",
   "metadata": {},
   "outputs": [],
   "source": [
    "model_names = [\"1e5_expcusp/\"] .* [\n",
    "    \"s_0.0042\",\n",
    "    \"fiducial\",\n",
    "    \"s_0.042\",\n",
    "    ]\n",
    "\n",
    "labels = [\n",
    "    \"0.0042\",\n",
    "    \"0.013\",\n",
    "    \"0.042\",\n",
    "    ]\n",
    "\n",
    "profiles = [label => load_profile(model) for (label, model) in zip(labels, model_names)]"
   ]
  },
  {
   "cell_type": "code",
   "execution_count": null,
   "id": "35",
   "metadata": {},
   "outputs": [],
   "source": [
    "compare_densities(profiles, errskip=1)"
   ]
  },
  {
   "cell_type": "code",
   "execution_count": null,
   "id": "36",
   "metadata": {},
   "outputs": [],
   "source": [
    "compare_vcirc(profiles, errskip=1)"
   ]
  },
  {
   "cell_type": "markdown",
   "id": "37",
   "metadata": {},
   "source": [
    "# 1e6"
   ]
  },
  {
   "cell_type": "code",
   "execution_count": null,
   "id": "38",
   "metadata": {},
   "outputs": [],
   "source": [
    "print_cpus_in_folder(\"1e6_expcusp\")"
   ]
  },
  {
   "cell_type": "code",
   "execution_count": null,
   "id": "39",
   "metadata": {},
   "outputs": [],
   "source": [
    "model_names = [\"1e6_expcusp/\"] .* [\n",
    "    \"s_0.0013\",\n",
    "    \"fiducial\",\n",
    "    #\"s_0.13\",\n",
    "    ]\n",
    "\n",
    "labels = [\n",
    "    \"0.0013\",\n",
    "    \"0.0042\",\n",
    "    \"0.13\",\n",
    "    ]\n",
    "\n",
    "profiles = [label => load_profile(model) for (label, model) in zip(labels, model_names)]"
   ]
  },
  {
   "cell_type": "code",
   "execution_count": null,
   "id": "40",
   "metadata": {},
   "outputs": [],
   "source": [
    "compare_densities(profiles, errskip=10)"
   ]
  },
  {
   "cell_type": "code",
   "execution_count": null,
   "id": "41",
   "metadata": {},
   "outputs": [],
   "source": [
    "compare_vcirc(profiles, errskip=10)"
   ]
  },
  {
   "cell_type": "code",
   "execution_count": null,
   "id": "42",
   "metadata": {},
   "outputs": [],
   "source": []
  }
 ],
 "metadata": {
  "kernelspec": {
   "display_name": "Julia 1.11.2",
   "language": "julia",
   "name": "julia-1.11"
  },
  "language_info": {
   "file_extension": ".jl",
   "mimetype": "application/julia",
   "name": "julia",
   "version": "1.11.2"
  }
 },
 "nbformat": 4,
 "nbformat_minor": 5
}
