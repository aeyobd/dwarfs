{
 "cells": [
  {
   "cell_type": "code",
   "execution_count": null,
   "id": "0",
   "metadata": {},
   "outputs": [],
   "source": [
    "using Revise\n",
    "using LilGuys\n",
    "using CairoMakie, Arya\n",
    "LP = LilGuys.Plots"
   ]
  },
  {
   "cell_type": "code",
   "execution_count": null,
   "id": "1",
   "metadata": {},
   "outputs": [],
   "source": [
    "using Printf"
   ]
  },
  {
   "cell_type": "code",
   "execution_count": null,
   "id": "2",
   "metadata": {},
   "outputs": [],
   "source": [
    "import DataFrames: DataFrame, rename!"
   ]
  },
  {
   "cell_type": "code",
   "execution_count": null,
   "id": "3",
   "metadata": {},
   "outputs": [],
   "source": [
    "models_dir = \"/astro/dboyea/dwarfs/analysis/isolation\""
   ]
  },
  {
   "cell_type": "code",
   "execution_count": null,
   "id": "4",
   "metadata": {},
   "outputs": [],
   "source": [
    "function load_profile(name) \n",
    "    path = joinpath(models_dir, \"$name/profiles.hdf5\")\n",
    "    profiles = LilGuys.read_structs_from_hdf5(path, LilGuys.MassProfile3D)\n",
    "    idx = parse.(Int, first.(profiles))\n",
    "    profiles = last.(profiles)\n",
    "    return profiles[sortperm(idx)]\n",
    "    \n",
    "end"
   ]
  },
  {
   "cell_type": "code",
   "execution_count": null,
   "id": "5",
   "metadata": {},
   "outputs": [],
   "source": [
    "t_max_host = 316 # computed with agama at peri=50.95 \n",
    "M_max_host = 52.437\n",
    "r_peri = 50.95\n",
    "ρ_peri = M_max_host / (4π/3 * r_peri^3)"
   ]
  },
  {
   "cell_type": "code",
   "execution_count": null,
   "id": "6",
   "metadata": {},
   "outputs": [],
   "source": [
    "halo = LilGuys.load_profile(\"$models_dir/1e7/fiducial/halo.toml\")"
   ]
  },
  {
   "cell_type": "code",
   "execution_count": null,
   "id": "7",
   "metadata": {},
   "outputs": [],
   "source": [
    "Base.@kwdef struct NFWZeno <: LilGuys.SphericalProfile\n",
    "\tm_a = LilGuys.A_NFW(1)\n",
    "\ta = 1\n",
    "\tb = 64\n",
    "\ttaper = :exp\n",
    "end\n",
    "\n",
    "\n",
    "function calc_ρ_nfw(halo, r)\n",
    "\treturn halo.m_a / (4π * LilGuys.A_NFW(1) * r * (halo.a + r)^2)\n",
    "end\n",
    "\n",
    "# ╔═╡ dd47be7c-99dc-4f66-8bb4-33f827438a26\n",
    "function calc_ρ_e(halo, r)\n",
    "\tρ_b = calc_ρ_nfw(halo, halo.b)\n",
    "\n",
    "\tb = halo.b\n",
    "\tγ = b/(b+halo.a) - 1/2\n",
    "\treturn ρ_b * (b/r)^2 * exp(-2γ * (r/b - 1))\n",
    "end\n",
    "\n",
    "# ╔═╡ 4cae6065-6c19-4667-b5ae-87ed49958e70\n",
    "function LilGuys.calc_ρ(halo::NFWZeno, r)\n",
    "\tif r < halo.b\n",
    "\t\treturn calc_ρ_nfw(halo, r)\n",
    "\telse\n",
    "\t\treturn calc_ρ_e(halo, r)\n",
    "\tend\n",
    "end"
   ]
  },
  {
   "cell_type": "markdown",
   "id": "8",
   "metadata": {},
   "source": [
    "# Plotting functions"
   ]
  },
  {
   "cell_type": "code",
   "execution_count": null,
   "id": "9",
   "metadata": {},
   "outputs": [],
   "source": [
    "function compare_densities(profiles; errskip=1)\n",
    "    fig = Figure()\n",
    "    ax = LP.rho_axis(fig[1, 1])\n",
    "    ax.limits=(-2, 3, -12, 0)\n",
    "\n",
    "\n",
    "    for i in eachindex(profiles)\n",
    "        label, profs = profiles[i]\n",
    "        profile = profs[1]\n",
    "        lines!(profile.log_r, log10.(profile.rho),\n",
    "            linestyle=:dot,\n",
    "            color=COLORS[i]\n",
    "        )\n",
    "    \n",
    "        profile = profs[end]\n",
    "        lines!(profile.log_r, log10.(profile.rho), \n",
    "            color=COLORS[i],\n",
    "            label=label\n",
    "        )    \n",
    "    end\n",
    "    log_r = LinRange(-2, 3, 1000)\n",
    "    ρ = calc_ρ.(halo, 10 .^ log_r)\n",
    "    lines!(log_r, log10.(ρ), color=:black, linestyle=:dash)\n",
    "    \n",
    "    \n",
    "    axislegend()\n",
    "\n",
    "    ax_res = LP.rho_axis(fig[2, 1])\n",
    "    ax_res.ylabel = L\"(\\rho-\\rho_\\textrm{exp}) / \\rho_\\textrm{exp}\"\n",
    "    ax_res.limits = (-2, 3, -1, 1)\n",
    "\n",
    "    for i in eachindex(profiles)\n",
    "        profile = profiles[i].second[end]\n",
    "\n",
    "        x = profile.log_r\n",
    "        y_exp = calc_ρ.(halo, 10 .^ x)\n",
    "        dy = profile.rho .- y_exp\n",
    "\n",
    "        res = dy ./ y_exp\n",
    "        res_err = profile.rho_err ./ y_exp\n",
    "        lines!(x, res, color=COLORS[i])\n",
    "        \n",
    "        si = 1:errskip:length(res)\n",
    "        errorbars!(x[si], res[si], res_err[si], color=COLORS[i])\n",
    "    end\n",
    "    hlines!(0, color=:black)\n",
    "\n",
    "\n",
    "\tlinkxaxes!(ax, ax_res, )\n",
    "\trowsize!(fig.layout, 2, Auto(0.3))\n",
    "\thidexdecorations!(ax, grid=false)\n",
    "    \n",
    "    fig\n",
    "\n",
    "end"
   ]
  },
  {
   "cell_type": "code",
   "execution_count": null,
   "id": "10",
   "metadata": {},
   "outputs": [],
   "source": [
    "function compare_vcirc1(profile, halo=halo; res_limits=0.1)\n",
    "    xlims = (-2, 3)\n",
    "    \n",
    "    fig = Figure()\n",
    "    ax = Axis(fig[1, 1],\n",
    "        xlabel=LP.log_r_label,\n",
    "        ylabel=L\"$\\log\\;v_\\textrm{circ}$ / km\\,s$^{-1}$\",\n",
    "        limits=(xlims[1], xlims[2], 0, 1.6),\n",
    "    )\n",
    "    \n",
    "    lines!(profile.log_r, log10.(profile.v_circ * V2KMS), label=\"model\",\n",
    "    )\n",
    "\n",
    "    x = LinRange(xlims[1], xlims[2], 1000)\n",
    "    y = calc_v_circ.(halo, 10 .^ x)\n",
    "    lines!(x, log10.(y * V2KMS), linestyle=:dash, color=:black, label=\"analytic\")\n",
    "\n",
    "    axislegend(position=:rb)\n",
    "\n",
    "    # residual\n",
    "\n",
    "    ax_res = Axis(fig[2, 1],\n",
    "        xlabel=LP.log_r_label,\n",
    "        ylabel=L\"\\Delta\\,v\",\n",
    "        limits=(xlims[1], xlims[2], -res_limits, res_limits),\n",
    "    )\n",
    "    \n",
    "\n",
    "    x = profile.log_r_bins[2:end]\n",
    "    y_exp = calc_v_circ.(halo, 10 .^ x)\n",
    "    dy = profile.v_circ .- y_exp\n",
    "\n",
    "\n",
    "    res = dy ./ y_exp\n",
    "    res_err = profile.v_circ_err  ./ y_exp\n",
    "    lines!(x, res)\n",
    "    errorbars!(x, res, res_err)\n",
    "    \n",
    "    hlines!(0, color=:black)\n",
    "\n",
    "\n",
    "\tlinkxaxes!(ax, ax_res, )\n",
    "\trowsize!(fig.layout, 2, Auto(0.3))\n",
    "\thidexdecorations!(ax, grid=false)\n",
    "    \n",
    "    fig\n",
    "end"
   ]
  },
  {
   "cell_type": "code",
   "execution_count": null,
   "id": "11",
   "metadata": {},
   "outputs": [],
   "source": [
    "function compare_vcirc(profiles; errskip=1)\n",
    "    xlims = (-2, 3)\n",
    "    \n",
    "    fig = Figure()\n",
    "    ax = Axis(fig[1, 1],\n",
    "        xlabel=LP.log_r_label,\n",
    "        ylabel=L\"$\\log\\,v_\\textrm{circ}$ / km\\,s$^{-1}$\",\n",
    "        limits=(xlims[1], xlims[2], -0.1, 1.7),\n",
    "        )\n",
    "    pi = 1\n",
    "\n",
    "    \n",
    "    for i in eachindex(profiles)\n",
    "        label, profs = profiles[i]\n",
    "        profile = profs[1]\n",
    "        lines!(profile.log_r, log10.(profile.v_circ * V2KMS),\n",
    "            linestyle=:dot,\n",
    "            color=COLORS[i]\n",
    "        )\n",
    "        \n",
    "        profile = profs[end]\n",
    "        lines!(profile.log_r, log10.(profile.v_circ* V2KMS), \n",
    "            color=COLORS[i],\n",
    "            label=label\n",
    "        )\n",
    "\n",
    "\n",
    "    \n",
    "    end\n",
    "\n",
    "    x = LinRange(xlims[1], xlims[2], 1000)\n",
    "    y = calc_v_circ.(halo, 10 .^ x)\n",
    "    lines!(x, log10.(y * V2KMS), linestyle=:dash, color=:black, label=\"NFW\")\n",
    "\n",
    "    axislegend(position=:rb)\n",
    "\n",
    "    # residual\n",
    "\n",
    "    ax_res = Axis(fig[2, 1],\n",
    "        xlabel=LP.log_r_label,\n",
    "        ylabel=L\"\\Delta\\,v\\,/v_\\textrm{exp}\",\n",
    "        limits=(xlims[1], xlims[2], -2, 2),\n",
    "    )\n",
    "    \n",
    "    for i in eachindex(profiles)\n",
    "        label, profs = profiles[i]\n",
    "        profile = profs[end]\n",
    "\n",
    "        x = profile.log_r_bins[2:end]\n",
    "        y_exp = calc_v_circ.(halo, 10 .^ x)\n",
    "        dy = profile.v_circ .- y_exp\n",
    "\n",
    "\n",
    "        res = dy ./ y_exp\n",
    "        res_err = profile.v_circ_err  * V2KMS\n",
    "        scatterlines!(x, res, color=COLORS[i], markersize=3)\n",
    "\n",
    "        idx = 1:errskip:length(res)\n",
    "        errorbars!(x[idx], res[idx], res_err[idx], color=COLORS[i])\n",
    "    end\n",
    "    hlines!(0, color=:black)\n",
    "\n",
    "\n",
    "\tlinkxaxes!(ax, ax_res, )\n",
    "\trowsize!(fig.layout, 2, Auto(0.3))\n",
    "\thidexdecorations!(ax, grid=false)\n",
    "    \n",
    "    fig\n",
    "end"
   ]
  },
  {
   "cell_type": "code",
   "execution_count": null,
   "id": "12",
   "metadata": {},
   "outputs": [],
   "source": [
    "function compare_t_dyn(profiles, halo=halo)\n",
    "    fig = Figure()\n",
    "    ax = Axis(fig[1, 1],\n",
    "        xlabel=LP.log_r_label,\n",
    "        ylabel=L\"$\\log\\, t_\\textrm{circ}$ / Gyr\",\n",
    "        limits=(-3, 3, -2, 0.5),\n",
    "        )\n",
    "    pi = 1\n",
    "    \n",
    "    for i in eachindex(profiles)\n",
    "        \n",
    "        #profile = profiles[i].second[1]\n",
    "    \n",
    "        label, profs = profiles[i]\n",
    "        profile = profs[end]\n",
    "        \n",
    "        t = 2π * 10 .^ profile.log_r ./ (profile.v_circ) * T2GYR\n",
    "        lines!(profile.log_r, log10.(t), \n",
    "            color=COLORS[i],\n",
    "            label=label,\n",
    "        )\n",
    "    \n",
    "    \n",
    "    end\n",
    "    \n",
    "\n",
    "    if halo !== nothing\n",
    "        log_r = LinRange(-3, 3, 1000)\n",
    "        r = 10 .^ log_r\n",
    "        t = @. 2π * r / LilGuys.calc_v_circ(halo, r) * T2GYR\n",
    "        lines!(log_r, log10.(t), \n",
    "            color=:black,\n",
    "            label = \"analytic\"\n",
    "            )\n",
    "    end\n",
    "        \n",
    "    axislegend()\n",
    "        \n",
    "    fig\n",
    "\n",
    "end"
   ]
  },
  {
   "cell_type": "code",
   "execution_count": null,
   "id": "13",
   "metadata": {},
   "outputs": [],
   "source": [
    "simulation_dir = \"/astro/dboyea/dwarfs/simulations/isolation\""
   ]
  },
  {
   "cell_type": "code",
   "execution_count": null,
   "id": "14",
   "metadata": {},
   "outputs": [],
   "source": [
    "function load_cpu_use(model_dir::String)\n",
    "    filename = joinpath(simulation_dir, model_dir, \"out/cpu.csv\")\n",
    "\n",
    "    lines = readlines(filename)\n",
    "    lines[1] = replace(lines[1], \"MULTIPLEDOMAIN, \" => \"\")\n",
    "\n",
    "    data = [split(line, \", \")[1:end-1] for line in lines[2:end]]\n",
    "    \n",
    "    columns = split(lines[1], \", \")[1:end-1]\n",
    "    columns = replace.(columns, \"1\"=>\"\", \"2\"=>\"_TOT\", \"3\"=>\"_PERCEN\")\n",
    "\n",
    "    Ncol = length(columns)\n",
    "\n",
    "    data = [[row[i] for row in data] for i in 1:Ncol]\n",
    "    df = DataFrame(data, Symbol.(columns))\n",
    "\n",
    "    convert_types!(df)\n",
    "\n",
    "    return df\n",
    "end"
   ]
  },
  {
   "cell_type": "code",
   "execution_count": null,
   "id": "15",
   "metadata": {},
   "outputs": [],
   "source": [
    "# Function to convert SubString values to Int, Float, or leave as String\n",
    "function convert_types!(df::DataFrame)\n",
    "    for col in names(df)\n",
    "        df[!, col] = [tryparse(Int, val) !== nothing ? tryparse(Int, val) :\n",
    "                      tryparse(Float64, val) !== nothing ? tryparse(Float64, val) :\n",
    "                      val for val in df[!, col]]\n",
    "    end\n",
    "end"
   ]
  },
  {
   "cell_type": "code",
   "execution_count": null,
   "id": "16",
   "metadata": {},
   "outputs": [],
   "source": [
    "function get_tot_cpu(model_dir::String)\n",
    "    df = load_cpu_use(model_dir)\n",
    "\n",
    "    return df.CPU_ALL_TOT[end] * df.CPUS[end] \n",
    "end"
   ]
  },
  {
   "cell_type": "code",
   "execution_count": null,
   "id": "17",
   "metadata": {},
   "outputs": [],
   "source": [
    "function cpu_summary(model_dir::String)\n",
    "    df = load_cpu_use(model_dir)\n",
    "\n",
    "    tot = df.CPU_ALL_TOT[end] * df.CPUS[end] / df.TIME[end]\n",
    "    percen_tree = LilGuys.mean(df.CPU_TREE_PERCEN)\n",
    "\n",
    "    if \"CPU_PM_GRAVITY_PERCEN\" ∈ names(df)\n",
    "        percen_tree = percen_tree + LilGuys.mean(df.CPU_PM_GRAVITY_PERCEN)\n",
    "    end\n",
    "\n",
    "    return tot, percen_tree\n",
    "end"
   ]
  },
  {
   "cell_type": "code",
   "execution_count": null,
   "id": "18",
   "metadata": {},
   "outputs": [],
   "source": [
    "function print_cpus_of_models(folders, names=folders; simplify_name=false)\n",
    "    if simplify_name\n",
    "        names = @. basename(names)\n",
    "    end\n",
    "    name_width = maximum(length.(names))\n",
    "    \n",
    "    @printf \"%-*s\\t%-8s\\t%-5s\\n\" name_width \"model\" \"cpu s/T0\" \"%grav\"\n",
    "    println(\"-\"^name_width, \"\\t\", \"-\"^8, \"\\t\", \"-\"^8)\n",
    "\n",
    "            \n",
    "    \n",
    "    for (folder, name) in zip(folders, names)\n",
    "    \n",
    "        try\n",
    "            cpu, tree = cpu_summary(folder)\n",
    "\n",
    "            \n",
    "            @printf \"%-*s\\t%8.2f\\t%4.1f\" name_width name cpu tree\n",
    "            println()\n",
    "        catch e\n",
    "        end\n",
    "    end\n",
    "end"
   ]
  },
  {
   "cell_type": "code",
   "execution_count": null,
   "id": "19",
   "metadata": {},
   "outputs": [],
   "source": [
    "function print_cpus_in_folder(subfolder::String)\n",
    "    folders = readdir(joinpath(models_dir, subfolder ))\n",
    "\n",
    "    print_cpus_of_models(joinpath.([subfolder], folders), simplify_name=true)\n",
    "   \n",
    "end"
   ]
  },
  {
   "cell_type": "markdown",
   "id": "20",
   "metadata": {
    "jp-MarkdownHeadingCollapsed": true
   },
   "source": [
    "## Orbit Profiles"
   ]
  },
  {
   "cell_type": "code",
   "execution_count": null,
   "id": "21",
   "metadata": {},
   "outputs": [],
   "source": [
    "model_names = [\n",
    "    \"V32_r5\",\n",
    "    \"V32_r2.4\",\n",
    "   # \"V50\",\n",
    "    \"V50_r0.5\", \n",
    "   # \"V60_r5.4\", \n",
    "   # \"V70_r0.4\"\n",
    "]"
   ]
  },
  {
   "cell_type": "code",
   "execution_count": null,
   "id": "22",
   "metadata": {},
   "outputs": [],
   "source": [
    "profiles = load_profile.([\"orbits/orbit1/1e6/\"] .*  model_names);"
   ]
  },
  {
   "cell_type": "code",
   "execution_count": null,
   "id": "23",
   "metadata": {},
   "outputs": [],
   "source": [
    "labels = Dict(\n",
    "    \"V32_r5\" => \"V=32, r=5.6\", \n",
    "    \"V32_r2.4\" => \"V=32, r=2.4\",\n",
    "    \"V50\" => \"V=50, r=10.8\",\n",
    "    \"V50_r0.5\" => \"V=50, r=5.4\", \n",
    "    \"V60_r5.4\" => \"V=60, r=5.4\", \n",
    "    \"V70_r0.4\" => \"V=70, r=6.5\"\n",
    "    )\n",
    "\n",
    "labels = [labels[name] for name in model_names]"
   ]
  },
  {
   "cell_type": "code",
   "execution_count": null,
   "id": "24",
   "metadata": {},
   "outputs": [],
   "source": [
    "let\n",
    "\tfig, ax = FigAxis(\n",
    "\t\txlabel=\"time / Gyr\",\n",
    "\t\tylabel = L\"$v_\\textrm{circ, max}$ / km\\,s$^{-1}$\"\n",
    "\t)\n",
    "\n",
    "\n",
    "\tfor i in eachindex(profiles)\n",
    "\t\t\n",
    "\t\tvs = [p.v_circ_max for p in profiles[i].profiles]\n",
    "\t\tlines!(profiles[i].times * T2GYR, (vs * V2KMS), label=labels[i])\n",
    "\tend\n",
    "\n",
    "\taxislegend()\n",
    "\tfig\n",
    "end"
   ]
  },
  {
   "cell_type": "code",
   "execution_count": null,
   "id": "25",
   "metadata": {},
   "outputs": [],
   "source": [
    "let\n",
    "\tfig, ax = FigAxis(\n",
    "\t\txlabel=\"time / Gyr\",\n",
    "\t\tylabel = \"bound number of particles\",\n",
    "\t)\n",
    "\n",
    "\tfor i in eachindex(profiles)\n",
    "\t\t\n",
    "\t\tvs = [p.N_bound for p in profiles[i].profiles]\n",
    "\t\tlines!(profiles[i].times * T2GYR, log10.(vs), label=labels[i])\n",
    "\tend\n",
    "\n",
    "\taxislegend()\n",
    "\t\n",
    "\tfig\n",
    "end"
   ]
  },
  {
   "cell_type": "code",
   "execution_count": null,
   "id": "26",
   "metadata": {},
   "outputs": [],
   "source": [
    "let\n",
    "\tfig, ax = FigAxis(\n",
    "\t\txlabel=L\"$\\log\\,r_\\textrm{circ max}$ / kpc\",\n",
    "\t\tylabel = L\"$\\log\\,v_\\textrm{circ, max}$ / kpc\",\n",
    "\t)\n",
    "\n",
    "\tfor i in eachindex(profiles)\n",
    "\t\tprofile = profiles[i]\n",
    "\t\tvs = [p.v_circ_max for p in profile.profiles]\n",
    "\n",
    "\t\trs = [p.r_circ_max for p in profile.profiles]\n",
    "\t\tlines!(log10.(rs), log10.(vs * V2KMS), label=labels[i])\n",
    "\tend\n",
    "\n",
    "\tr = LinRange(1, 10, 100)\n",
    "\tv = 2π * r ./ (t_max_host /2)\n",
    "\n",
    "\tlines!(log10.(r), log10.(v * V2KMS), label=L\"t=t_\\textrm{max, host}/2\", \n",
    "\t\tcolor=:black, linestyle=:dot)\n",
    "\n",
    "\taxislegend(position=:rb)\n",
    "\t\n",
    "\tfig\n",
    "end"
   ]
  },
  {
   "cell_type": "code",
   "execution_count": null,
   "id": "27",
   "metadata": {},
   "outputs": [],
   "source": [
    "function t_max_of(prof)\n",
    "\treturn 2π * prof.r_circ_max / prof.v_circ_max\n",
    "end"
   ]
  },
  {
   "cell_type": "code",
   "execution_count": null,
   "id": "28",
   "metadata": {},
   "outputs": [],
   "source": [
    "let\n",
    "\tfig, ax = FigAxis(\n",
    "\t\txlabel=\"time / Gyr\",\n",
    "\t\tylabel = L\"$t_\\textrm{circ, max}$ / Gyr\"\n",
    "\t)\n",
    "\n",
    "\n",
    "\tfor i in eachindex(profiles)\n",
    "\t\t\n",
    "\t\tts = t_max_of.(profiles[i].profiles)\n",
    "\t\tlines!(profiles[i].times * T2GYR, ts * T2GYR, label=labels[i])\n",
    "\tend\n",
    "\n",
    "\thlines!(t_max_host * T2GYR / 2, color=:black, label=L\"t_\\textrm{max, host}/2\")\n",
    "\n",
    "\taxislegend()\n",
    "\tfig\n",
    "end"
   ]
  },
  {
   "cell_type": "markdown",
   "id": "29",
   "metadata": {},
   "source": [
    "# Isolation"
   ]
  },
  {
   "cell_type": "markdown",
   "id": "30",
   "metadata": {
    "jp-MarkdownHeadingCollapsed": true
   },
   "source": [
    "## Particle number"
   ]
  },
  {
   "cell_type": "code",
   "execution_count": null,
   "id": "31",
   "metadata": {},
   "outputs": [],
   "source": [
    "model_names = [\"isolation/\"] .* [\n",
    "    \"1e4/fiducial\",\n",
    "    \"1e5/fiducial\",\n",
    "    \"1e6/fiducial\",\n",
    "    #\"1e7\"\n",
    "    ]\n",
    "labels = [\n",
    "    \"1e4\",\n",
    "    \"1e5\",\n",
    "    \"1e6\",\n",
    "    \"1e7\"\n",
    "    ]\n",
    "\n",
    "profiles = load_profile.(model_names);"
   ]
  },
  {
   "cell_type": "code",
   "execution_count": null,
   "id": "32",
   "metadata": {},
   "outputs": [],
   "source": [
    "compare_densities(profiles, labels)"
   ]
  },
  {
   "cell_type": "markdown",
   "id": "33",
   "metadata": {},
   "source": [
    "## 1e4"
   ]
  },
  {
   "cell_type": "code",
   "execution_count": null,
   "id": "34",
   "metadata": {},
   "outputs": [],
   "source": [
    "print_cpus_in_folder(\"isolation/1e4\")"
   ]
  },
  {
   "cell_type": "code",
   "execution_count": null,
   "id": "35",
   "metadata": {},
   "outputs": [],
   "source": [
    "model_names = [\"isolation/\"] .* [\n",
    "    \"1e4/s0.014\",\n",
    "    \"1e4/s0.44\",\n",
    "    \"1e4/default\",\n",
    "    \"1e4/s4\"\n",
    "    ]\n",
    "\n",
    "labels = [\n",
    "    \"0.014\",\n",
    "    \"0.44\",\n",
    "    \"1.4\",\n",
    "    \"4\"\n",
    "    ]\n",
    "\n",
    "profiles = load_profile.(model_names);"
   ]
  },
  {
   "cell_type": "code",
   "execution_count": null,
   "id": "36",
   "metadata": {},
   "outputs": [],
   "source": [
    "compare_densities(profiles, labels)"
   ]
  },
  {
   "cell_type": "code",
   "execution_count": null,
   "id": "37",
   "metadata": {},
   "outputs": [],
   "source": [
    "model_names = [\"isolation/\"] .* [\n",
    "    \"1e4/dt_0.01\",\n",
    "    \"1e4/dt_1\",\n",
    "    \"1e4/dt_10\",\n",
    "    \"1e4/default\",\n",
    "    ]\n",
    "\n",
    "labels = model_names\n",
    "profiles = load_profile.(model_names);"
   ]
  },
  {
   "cell_type": "code",
   "execution_count": null,
   "id": "38",
   "metadata": {},
   "outputs": [],
   "source": [
    "compare_densities(profiles, labels)"
   ]
  },
  {
   "cell_type": "code",
   "execution_count": null,
   "id": "39",
   "metadata": {},
   "outputs": [],
   "source": [
    "model_names = [\"isolation/\"] .* [\n",
    "    \"1e4/dt_0.01\",\n",
    "    \"1e4/acc_0.001\",\n",
    "    \"1e4/acc_0.003\",\n",
    "    \"1e4/default\",\n",
    "    \"1e4/acc_0.1\",\n",
    "    ]\n",
    "\n",
    "labels = model_names\n",
    "profiles = load_profile.(model_names);"
   ]
  },
  {
   "cell_type": "code",
   "execution_count": null,
   "id": "40",
   "metadata": {},
   "outputs": [],
   "source": [
    "compare_densities(profiles, labels)"
   ]
  },
  {
   "cell_type": "markdown",
   "id": "41",
   "metadata": {},
   "source": [
    "The above figure compares models using different relative timestepping criteria. The models perfectly converge around a parameter eta=0.003"
   ]
  },
  {
   "cell_type": "markdown",
   "id": "42",
   "metadata": {},
   "source": [
    "### Gravitational force accuracy"
   ]
  },
  {
   "cell_type": "code",
   "execution_count": null,
   "id": "43",
   "metadata": {},
   "outputs": [],
   "source": [
    "model_names = [\"isolation/\"] .* [\n",
    "    \"1e4/theta_0.1\",\n",
    "    \"1e4/default\",\n",
    "    \"1e4/theta_1\",\n",
    "    ]\n",
    "\n",
    "labels = model_names\n",
    "profiles = load_profile.(model_names);"
   ]
  },
  {
   "cell_type": "code",
   "execution_count": null,
   "id": "44",
   "metadata": {},
   "outputs": [],
   "source": [
    "compare_densities(profiles, labels)"
   ]
  },
  {
   "cell_type": "code",
   "execution_count": null,
   "id": "45",
   "metadata": {},
   "outputs": [],
   "source": [
    "model_names = [\"isolation/\"] .* [\n",
    "    \"1e4/theta_0.01\",\n",
    "    \"1e4/theta_0.1\",\n",
    "    \"1e4/default\",\n",
    "    \"1e4/thetarel_0.5\",\n",
    "    ]\n",
    "\n",
    "labels = model_names\n",
    "profiles = load_profile.(model_names);"
   ]
  },
  {
   "cell_type": "code",
   "execution_count": null,
   "id": "46",
   "metadata": {},
   "outputs": [],
   "source": [
    "compare_densities(profiles, labels)"
   ]
  },
  {
   "cell_type": "markdown",
   "id": "47",
   "metadata": {},
   "source": [
    "The models above compare different values of the gravitational opening criterion. Below a theta of 0.1, the models are perfectly converged here. "
   ]
  },
  {
   "cell_type": "markdown",
   "id": "48",
   "metadata": {},
   "source": [
    "### Gravity methods"
   ]
  },
  {
   "cell_type": "code",
   "execution_count": null,
   "id": "49",
   "metadata": {},
   "outputs": [],
   "source": [
    "model_names = [\"isolation/1e4/\"] .* [\n",
    "    \"dt_0.3\",\n",
    "    \"treepm\",\n",
    "    \"fmm\",\n",
    "    ]\n",
    "\n",
    "labels = model_names\n",
    "profiles = load_profile.(model_names);"
   ]
  },
  {
   "cell_type": "code",
   "execution_count": null,
   "id": "50",
   "metadata": {},
   "outputs": [],
   "source": [
    "compare_densities(profiles, labels)"
   ]
  },
  {
   "cell_type": "markdown",
   "id": "51",
   "metadata": {
    "jp-MarkdownHeadingCollapsed": true
   },
   "source": [
    "## 1e5"
   ]
  },
  {
   "cell_type": "code",
   "execution_count": null,
   "id": "52",
   "metadata": {},
   "outputs": [],
   "source": [
    "print_cpus_in_folder(\"isolation/1e5\")"
   ]
  },
  {
   "cell_type": "code",
   "execution_count": null,
   "id": "53",
   "metadata": {},
   "outputs": [],
   "source": [
    "model_names = [\"isolation/1e5/\"] .* [\n",
    "    \"s1.4\",\n",
    "    \"s0.44\",\n",
    "    \"default\",\n",
    "   #\"fiducial\",\n",
    "    \"s0.044\",\n",
    "    \"s0.014\",\n",
    "    ]\n",
    "\n",
    "labels = model_names\n",
    "profiles = load_profile.(model_names);"
   ]
  },
  {
   "cell_type": "code",
   "execution_count": null,
   "id": "54",
   "metadata": {},
   "outputs": [],
   "source": [
    "compare_densities(profiles, labels)"
   ]
  },
  {
   "cell_type": "code",
   "execution_count": null,
   "id": "55",
   "metadata": {},
   "outputs": [],
   "source": [
    "model_names = [\"isolation/1e5/\"] .* [\n",
    "    \"facc_0.015\",\n",
    "    \"default\",\n",
    "   #\"fiducial\",\n",
    "    \"facc_0.001\",\n",
    "    ]\n",
    "\n",
    "labels = model_names\n",
    "profiles = load_profile.(model_names);"
   ]
  },
  {
   "cell_type": "code",
   "execution_count": null,
   "id": "56",
   "metadata": {},
   "outputs": [],
   "source": [
    "compare_densities(profiles, labels)"
   ]
  },
  {
   "cell_type": "markdown",
   "id": "57",
   "metadata": {},
   "source": [
    "## 1e6"
   ]
  },
  {
   "cell_type": "code",
   "execution_count": null,
   "id": "58",
   "metadata": {},
   "outputs": [],
   "source": [
    "print_cpus_in_folder(\"1e6\")"
   ]
  },
  {
   "cell_type": "code",
   "execution_count": null,
   "id": "59",
   "metadata": {},
   "outputs": [],
   "source": [
    "profiles = [\n",
    "    \"s=0.014 kpc\" => load_profile(\"1e6/s0.014\"),\n",
    "    \"s=0.044 kpc\" => load_profile(\"1e6/fiducial\"),\n",
    "    \"s=0.14 kpc\" => load_profile(\"1e6/s0.14\"),\n",
    "    ];"
   ]
  },
  {
   "cell_type": "code",
   "execution_count": null,
   "id": "60",
   "metadata": {},
   "outputs": [],
   "source": [
    "compare_densities(profiles)"
   ]
  },
  {
   "cell_type": "code",
   "execution_count": null,
   "id": "61",
   "metadata": {},
   "outputs": [],
   "source": [
    "compare_vcirc(profiles, errskip=10)"
   ]
  },
  {
   "cell_type": "code",
   "execution_count": null,
   "id": "62",
   "metadata": {},
   "outputs": [],
   "source": [
    "compare_t_dyn(profiles)"
   ]
  },
  {
   "cell_type": "markdown",
   "id": "63",
   "metadata": {
    "jp-MarkdownHeadingCollapsed": true
   },
   "source": [
    "## Halo generation methods"
   ]
  },
  {
   "cell_type": "code",
   "execution_count": null,
   "id": "64",
   "metadata": {},
   "outputs": [],
   "source": [
    "profiles = [\n",
    "    \"agama\" => load_profile(\"isolation/1e6/fiducial\"),\n",
    "    \"gspmodel\" => load_profile(\"isolation/1e6_gspmodel\"),\n",
    "    \"gsp_realize\" => load_profile(\"isolation/1e6_gsprealize\"),\n",
    "    ]"
   ]
  },
  {
   "cell_type": "code",
   "execution_count": null,
   "id": "65",
   "metadata": {},
   "outputs": [],
   "source": [
    "compare_densities(profiles)"
   ]
  },
  {
   "cell_type": "code",
   "execution_count": null,
   "id": "66",
   "metadata": {},
   "outputs": [],
   "source": [
    "compare_vcirc(profiles, labels)"
   ]
  },
  {
   "cell_type": "code",
   "execution_count": null,
   "id": "67",
   "metadata": {},
   "outputs": [],
   "source": [
    "compare_vcirc1(profiles[1][end], res_limits=0.03)"
   ]
  },
  {
   "cell_type": "code",
   "execution_count": null,
   "id": "68",
   "metadata": {},
   "outputs": [],
   "source": [
    "compare_vcirc1(profiles[2][end], NFWZeno(m_a=halo.M_s * LilGuys.A_NFW(1), a=halo.r_s, b=halo.r_s * 2))"
   ]
  },
  {
   "cell_type": "code",
   "execution_count": null,
   "id": "69",
   "metadata": {},
   "outputs": [],
   "source": [
    "compare_vcirc1(profiles[3][end], NFWZeno(m_a=halo.M_s * LilGuys.A_NFW(1), a=halo.r_s, b=halo.r_s * 64), res_limits=0.03)"
   ]
  },
  {
   "cell_type": "markdown",
   "id": "70",
   "metadata": {},
   "source": [
    "# 1e7"
   ]
  },
  {
   "cell_type": "code",
   "execution_count": null,
   "id": "71",
   "metadata": {},
   "outputs": [],
   "source": [
    "print_cpus_in_folder(\"1e7/\")"
   ]
  },
  {
   "cell_type": "code",
   "execution_count": null,
   "id": "72",
   "metadata": {},
   "outputs": [],
   "source": [
    "profiles = [\n",
    "    \"s=0.014\" => load_profile(\"1e7/fiducial\"),\n",
    "    #\"s=0.014\" => load_profile(\"isolation/1e7/s0.014\")\n",
    "    ];"
   ]
  },
  {
   "cell_type": "code",
   "execution_count": null,
   "id": "73",
   "metadata": {},
   "outputs": [],
   "source": [
    "compare_densities(profiles,  errskip=200)"
   ]
  },
  {
   "cell_type": "code",
   "execution_count": null,
   "id": "74",
   "metadata": {},
   "outputs": [],
   "source": [
    "compare_densities(profiles,  errskip=1)"
   ]
  },
  {
   "cell_type": "code",
   "execution_count": null,
   "id": "75",
   "metadata": {},
   "outputs": [],
   "source": [
    "compare_vcirc(profiles, errskip=10)"
   ]
  },
  {
   "cell_type": "code",
   "execution_count": null,
   "id": "76",
   "metadata": {},
   "outputs": [],
   "source": [
    "compare_t_dyn(profiles)"
   ]
  },
  {
   "cell_type": "code",
   "execution_count": null,
   "id": "77",
   "metadata": {},
   "outputs": [],
   "source": []
  }
 ],
 "metadata": {
  "kernelspec": {
   "display_name": "Julia 1.10.5",
   "language": "julia",
   "name": "julia-1.10"
  },
  "language_info": {
   "file_extension": ".jl",
   "mimetype": "application/julia",
   "name": "julia",
   "version": "1.10.5"
  }
 },
 "nbformat": 4,
 "nbformat_minor": 5
}
