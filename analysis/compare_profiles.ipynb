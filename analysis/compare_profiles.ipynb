{
 "cells": [
  {
   "cell_type": "code",
   "execution_count": null,
   "id": "0",
   "metadata": {},
   "outputs": [],
   "source": [
    "using Revise\n",
    "using LilGuys\n",
    "using CairoMakie, Arya\n",
    "LP = LilGuys.Plots"
   ]
  },
  {
   "cell_type": "code",
   "execution_count": null,
   "id": "1",
   "metadata": {},
   "outputs": [],
   "source": [
    "using Printf"
   ]
  },
  {
   "cell_type": "code",
   "execution_count": null,
   "id": "2",
   "metadata": {},
   "outputs": [],
   "source": [
    "import DataFrames: DataFrame, rename!"
   ]
  },
  {
   "cell_type": "code",
   "execution_count": null,
   "id": "3",
   "metadata": {},
   "outputs": [],
   "source": [
    "models_dir = \"/astro/dboyea/dwarfs/analysis/sculptor\""
   ]
  },
  {
   "cell_type": "code",
   "execution_count": null,
   "id": "4",
   "metadata": {},
   "outputs": [],
   "source": [
    "sims_dir = \"/astro/dboyea/dwarfs/simulations/sculptor\""
   ]
  },
  {
   "cell_type": "code",
   "execution_count": null,
   "id": "5",
   "metadata": {},
   "outputs": [],
   "source": [
    "function load_profile(name) \n",
    "    path = joinpath(models_dir, \"$name/profiles.hdf5\")\n",
    "    profiles = LilGuys.read_structs_from_hdf5(path, LilGuys.MassProfile3D)\n",
    "    idx = parse.(Int, first.(profiles))\n",
    "    return profiles[sortperm(idx)]\n",
    "    \n",
    "end"
   ]
  },
  {
   "cell_type": "code",
   "execution_count": null,
   "id": "6",
   "metadata": {},
   "outputs": [],
   "source": [
    "t_max_host = 316 # computed with agama at peri=50.95 \n",
    "M_max_host = 52.437\n",
    "r_peri = 50.95\n",
    "ρ_peri = M_max_host / (4π/3 * r_peri^3)"
   ]
  },
  {
   "cell_type": "markdown",
   "id": "7",
   "metadata": {},
   "source": [
    "# Plotting functions"
   ]
  },
  {
   "cell_type": "code",
   "execution_count": null,
   "id": "8",
   "metadata": {},
   "outputs": [],
   "source": [
    "function compare_densities(profiles)\n",
    "    fig = Figure()\n",
    "    ax = LP.rho_axis(fig[1, 1])\n",
    "    ax.limits=(-2, 3, -12, 0)\n",
    "\n",
    "\n",
    "    for i in eachindex(profiles)\n",
    "        label, profs = profiles[i]\n",
    "        profile = profs[1].second\n",
    "        lines!(profile.log_r, log10.(profile.rho),\n",
    "            linestyle=:dot,\n",
    "            color=COLORS[i]\n",
    "        )\n",
    "    \n",
    "        profile = profs[end].second\n",
    "        lines!(profile.log_r, log10.(profile.rho), \n",
    "            color=COLORS[i],\n",
    "            label=label\n",
    "        )    \n",
    "    end\n",
    "    \n",
    "    axislegend()\n",
    "\n",
    "    fig\n",
    "end"
   ]
  },
  {
   "cell_type": "code",
   "execution_count": null,
   "id": "9",
   "metadata": {},
   "outputs": [],
   "source": [
    "function compare_vcirc(profiles; errskip=1, legend=true)\n",
    "    xlims = (-2, 3)\n",
    "    \n",
    "    fig = Figure()\n",
    "    ax = Axis(fig[1, 1],\n",
    "        xlabel=LP.log_r_label,\n",
    "        ylabel=L\"$\\log\\,v_\\textrm{circ}$ / km\\,s$^{-1}$\",\n",
    "#        limits=(xlims[1], xlims[2], -0.1, 1.7),\n",
    "        )\n",
    "    pi = 1\n",
    "\n",
    "    \n",
    "    for i in eachindex(profiles)\n",
    "        label, profs = profiles[i]\n",
    "        x = [prof.r_circ_max for (_, prof) in profs]\n",
    "        y = [prof.v_circ_max for (_, prof) in profs]\n",
    "        lines!(log10.(x), log10.(y*V2KMS), label=label)\n",
    "    end\n",
    "\n",
    "    if legend\n",
    "        axislegend(position=:lt)\n",
    "    end\n",
    "    fig\n",
    "end"
   ]
  },
  {
   "cell_type": "code",
   "execution_count": null,
   "id": "10",
   "metadata": {},
   "outputs": [],
   "source": [
    "function compare_tcirc(profiles; errskip=1)\n",
    "    xlims = (-2, 3)\n",
    "    \n",
    "    fig = Figure()\n",
    "    ax = Axis(fig[1, 1],\n",
    "        xlabel=\"time / Gyr\",\n",
    "        ylabel=L\"$\\log\\, t_\\textrm{circ}$ / Gyr\",\n",
    "#        limits=(xlims[1], xlims[2], -0.1, 1.7),\n",
    "        )\n",
    "    pi = 1\n",
    "\n",
    "    \n",
    "    for i in eachindex(profiles)\n",
    "        label, profs = profiles[i]\n",
    "        x = [parse(Float64, i) for (i, prof) in profs]\n",
    "        y = [prof.r_circ_max / prof.v_circ_max for (_, prof) in profs]\n",
    "        \n",
    "        lines!(x, log10.(y*T2GYR), label=label)\n",
    "    end\n",
    "   \n",
    "    fig\n",
    "end"
   ]
  },
  {
   "cell_type": "markdown",
   "id": "11",
   "metadata": {},
   "source": [
    "# Particle Number"
   ]
  },
  {
   "cell_type": "code",
   "execution_count": null,
   "id": "12",
   "metadata": {},
   "outputs": [],
   "source": [
    "profiles = [\n",
    "    \"smallperi (1e6)\" => load_profile(\"1e6_V31_r3.2/orbit_smallperi\"),\n",
    "    \"midsmallperi (1e6)\" => load_profile(\"1e6_V31_r3.2/orbit_midsmallperi\"),\n",
    "    \"1e6\" => load_profile(\"1e6_V31_r3.2/orbit_mean\"),\n",
    "    \"1e7\" => load_profile(\"1e7_V31_r3.2/orbit_mean\"),\n",
    "    #\"heavy\" => load_profile(\"1e6_V40_r5.9/orbit_mean\"),\n",
    "    ];"
   ]
  },
  {
   "cell_type": "code",
   "execution_count": null,
   "id": "13",
   "metadata": {},
   "outputs": [],
   "source": [
    "fig = compare_vcirc(profiles, legend=false)\n",
    "prof = profiles[1].second[1].second\n",
    "\n",
    "r_circ_tidal, v_circ_tidal = LilGuys.EN21_tidal_track(prof.r_circ_max, prof.v_circ_max, x_min=0.1)\n",
    "\n",
    "\n",
    "lines!(log10.(prof.r_circ), log10.(prof.v_circ * V2KMS), color=COLORS[1], linestyle=:dot, label=\"initial (smallperi)\")\n",
    "prof = profiles[1].second[end].second\n",
    "\n",
    "lines!(log10.(prof.r_circ), log10.(prof.v_circ * V2KMS), color=COLORS[1], linestyle=:dash, label=\"final (smallperi)\")\n",
    "\n",
    "lines!(log10.(r_circ_tidal), log10.(v_circ_tidal * V2KMS), label = \"EN21 tidal track\", color=:black, alpha=0.3)\n",
    "\n",
    "\n",
    "ax = fig.content[1]\n",
    "ax.limits = (-1, 2, 1, 1.5)\n",
    "ax.xlabel = L\"\\log\\,(r_\\textrm{circ}\\,/\\,\\textrm{kpc})\"\n",
    "\n",
    "axislegend(position=:rb)\n",
    "fig"
   ]
  },
  {
   "cell_type": "code",
   "execution_count": null,
   "id": "14",
   "metadata": {},
   "outputs": [],
   "source": []
  },
  {
   "cell_type": "code",
   "execution_count": null,
   "id": "15",
   "metadata": {},
   "outputs": [],
   "source": [
    "profiles = [\n",
    "    \"smallperi (1e6)\" => load_profile(\"1e6_V31_r3.2/orbit_smallperi\"),\n",
    "    \"midsmallperi (1e6)\" => load_profile(\"1e6_V31_r3.2/orbit_midsmallperi\"),\n",
    "    \"1e6\" => load_profile(\"1e6_V31_r3.2/vasiliev+21_mean\"),\n",
    "    #\"heavy\" => load_profile(\"1e6_V40_r5.9/orbit_mean\"),\n",
    "    ];"
   ]
  },
  {
   "cell_type": "code",
   "execution_count": null,
   "id": "16",
   "metadata": {},
   "outputs": [],
   "source": [
    "fig = compare_vcirc(profiles, legend=false)\n",
    "prof = profiles[1].second[1].second\n",
    "\n",
    "r_circ_tidal, v_circ_tidal = LilGuys.EN21_tidal_track(prof.r_circ_max, prof.v_circ_max, x_min=0.1)\n",
    "\n",
    "\n",
    "lines!(log10.(prof.r_circ), log10.(prof.v_circ * V2KMS), color=COLORS[1], linestyle=:dot, label=\"initial (smallperi)\")\n",
    "prof = profiles[1].second[end].second\n",
    "\n",
    "lines!(log10.(prof.r_circ), log10.(prof.v_circ * V2KMS), color=COLORS[1], linestyle=:dash, label=\"final (smallperi)\")\n",
    "\n",
    "lines!(log10.(r_circ_tidal), log10.(v_circ_tidal * V2KMS), label = \"EN21 tidal track\", color=:black, alpha=0.3)\n",
    "\n",
    "\n",
    "ax = fig.content[1]\n",
    "ax.limits = (-1, 2, 1, 1.5)\n",
    "ax.xlabel = L\"\\log\\,(r_\\textrm{circ}\\,/\\,\\textrm{kpc})\"\n",
    "\n",
    "axislegend(position=:rb)\n",
    "fig"
   ]
  },
  {
   "cell_type": "code",
   "execution_count": null,
   "id": "17",
   "metadata": {},
   "outputs": [],
   "source": []
  }
 ],
 "metadata": {
  "kernelspec": {
   "display_name": "Julia 1.11.1",
   "language": "julia",
   "name": "julia-1.11"
  },
  "language_info": {
   "file_extension": ".jl",
   "mimetype": "application/julia",
   "name": "julia",
   "version": "1.11.1"
  }
 },
 "nbformat": 4,
 "nbformat_minor": 5
}
