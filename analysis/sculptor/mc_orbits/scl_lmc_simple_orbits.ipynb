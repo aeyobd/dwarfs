{
 "cells": [
  {
   "cell_type": "markdown",
   "id": "0",
   "metadata": {},
   "source": [
    "The goal of this notebook is to determine how well a simple spherical NFW potential with a static MW can approximate the full N-body potential of the LMC (for short term evolution).\n",
    "In the long-term, whether or not the LMC remains bound depends on the approximation parameters (see other notebook here), but if we care about the effects of the LMC on Scl in the past ~0.2 Gyr, then this may not matter as much."
   ]
  },
  {
   "cell_type": "code",
   "execution_count": null,
   "id": "1",
   "metadata": {},
   "outputs": [],
   "source": [
    "using CairoMakie \n",
    "using Arya\n",
    "\n",
    "using LilGuys"
   ]
  },
  {
   "cell_type": "code",
   "execution_count": null,
   "id": "2",
   "metadata": {},
   "outputs": [],
   "source": [
    "using PythonCall\n",
    "agama = pyimport(\"agama\")"
   ]
  },
  {
   "cell_type": "code",
   "execution_count": null,
   "id": "3",
   "metadata": {},
   "outputs": [],
   "source": [
    "np = pyimport(\"numpy\")"
   ]
  },
  {
   "cell_type": "code",
   "execution_count": null,
   "id": "4",
   "metadata": {},
   "outputs": [],
   "source": [
    "include(\"../../../notebooks/orbits/agama_utils.jl\")"
   ]
  },
  {
   "cell_type": "code",
   "execution_count": null,
   "id": "5",
   "metadata": {},
   "outputs": [],
   "source": [
    "potential_dir = ENV[\"DWARFS_ROOT\"] * \"/agama/potentials/\""
   ]
  },
  {
   "cell_type": "code",
   "execution_count": null,
   "id": "6",
   "metadata": {},
   "outputs": [],
   "source": [
    "readdir(potential_dir )"
   ]
  },
  {
   "cell_type": "markdown",
   "id": "7",
   "metadata": {},
   "source": [
    "# loading potential files"
   ]
  },
  {
   "cell_type": "code",
   "execution_count": null,
   "id": "8",
   "metadata": {},
   "outputs": [],
   "source": [
    "scl_profile = NFW(r_circ_max=1.84, v_circ_max=25.75/V2KMS)"
   ]
  },
  {
   "cell_type": "code",
   "execution_count": null,
   "id": "9",
   "metadata": {},
   "outputs": [],
   "source": [
    "pot_lmc_2 = agama.Potential(\"$potential_dir/vasiliev24/L2M10/pot/lmc000.ini\")"
   ]
  },
  {
   "cell_type": "code",
   "execution_count": null,
   "id": "10",
   "metadata": {},
   "outputs": [],
   "source": [
    "pot_lmc_3 = agama.Potential(\"$potential_dir/vasiliev24/L3M10/pot/lmc000.ini\")"
   ]
  },
  {
   "cell_type": "code",
   "execution_count": null,
   "id": "11",
   "metadata": {},
   "outputs": [],
   "source": [
    "pot_lmc_1_5 = agama.Potential(\"$potential_dir/vasiliev+21/lmc00.pot\")"
   ]
  },
  {
   "cell_type": "code",
   "execution_count": null,
   "id": "12",
   "metadata": {},
   "outputs": [],
   "source": [
    "pot_MW_9_5 = agama.Potential(\"$potential_dir/vasiliev+21/potential_nolmc.ini\")"
   ]
  },
  {
   "cell_type": "code",
   "execution_count": null,
   "id": "13",
   "metadata": {},
   "outputs": [],
   "source": [
    "pot_MW_10 = agama.Potential(\"$potential_dir/vasiliev24/L2M10/potential_mw_init.ini\")"
   ]
  },
  {
   "cell_type": "code",
   "execution_count": null,
   "id": "14",
   "metadata": {},
   "outputs": [],
   "source": [
    "pot_MW_11 = agama.Potential(\"$potential_dir/vasiliev24/L2M11/potential_mw_init.ini\")"
   ]
  },
  {
   "cell_type": "code",
   "execution_count": null,
   "id": "15",
   "metadata": {},
   "outputs": [],
   "source": [
    "pot_EP = agama.Potential(\"$potential_dir/EP2020.ini\")"
   ]
  },
  {
   "cell_type": "code",
   "execution_count": null,
   "id": "16",
   "metadata": {},
   "outputs": [],
   "source": [
    "function plot_acc!(ax, prof::Py; xlimits=(-2, 1.5), vasiliev_units=false, kwargs...)\n",
    "    x = LinRange(xlimits[1], xlimits[2], 1000)\n",
    "    r = np.array((10 .^ x) .* [0, 0, 1]')\n",
    "    rho = prof.force(r)\n",
    "    acc = pyconvert(Matrix{Float64}, rho)'\n",
    "    a = calc_r(acc)\n",
    "    r = 10 .^ x\n",
    "    \n",
    "    if vasiliev_units\n",
    "        a .*= (V_M2MSUN ./ M2MSUN) ./ (V_T2GYR ./ T2GYR) .^ 2\n",
    "    end\n",
    "\n",
    "    lines!(x, log10.(a ./ r); kwargs...)\n",
    "end"
   ]
  },
  {
   "cell_type": "code",
   "execution_count": null,
   "id": "17",
   "metadata": {},
   "outputs": [],
   "source": []
  }
 ],
 "metadata": {
  "kernelspec": {
   "display_name": "Julia 1.11.2",
   "language": "julia",
   "name": "julia-1.11"
  },
  "language_info": {
   "file_extension": ".jl",
   "mimetype": "application/julia",
   "name": "julia",
   "version": "1.11.2"
  }
 },
 "nbformat": 4,
 "nbformat_minor": 5
}
