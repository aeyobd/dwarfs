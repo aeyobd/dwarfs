{
 "cells": [
  {
   "cell_type": "markdown",
   "id": "0",
   "metadata": {},
   "source": [
    "# Comparing Orbital Distributions\n"
   ]
  },
  {
   "cell_type": "code",
   "execution_count": null,
   "id": "1",
   "metadata": {},
   "outputs": [],
   "source": [
    "using CairoMakie\n",
    "using Arya\n",
    "using LilGuys\n",
    "using CSV, DataFrames"
   ]
  },
  {
   "cell_type": "code",
   "execution_count": null,
   "id": "2",
   "metadata": {},
   "outputs": [],
   "source": [
    "using HDF5"
   ]
  },
  {
   "cell_type": "code",
   "execution_count": null,
   "id": "3",
   "metadata": {},
   "outputs": [],
   "source": [
    "function read_traj(name)\n",
    "    local positions, velocities, times\n",
    "    \n",
    "    h5open(\"$name/trajectory.hdf5\", \"r\") do f\n",
    "        positions = f[\"positions\"][:, :, :]\n",
    "        velocities = f[\"velocities\"][:, :, :]\n",
    "        times = -f[\"times\"][:]\n",
    "    end\n",
    "\n",
    "    return positions, velocities, times\n",
    "end"
   ]
  },
  {
   "cell_type": "code",
   "execution_count": null,
   "id": "4",
   "metadata": {},
   "outputs": [],
   "source": [
    "function read_lmc_traj(name)\n",
    "    \n",
    "    # loads in trajectory of lmc in Vasiliev 2021\n",
    "    lmc_file = \"$name/lmc_traj.csv\"\n",
    "    lmc_traj = CSV.read(lmc_file, DataFrame)\n",
    "    \n",
    "    pos = reshape([lmc_traj.x lmc_traj.y lmc_traj.z]', (3, 1, :))\n",
    "    vel = reshape([lmc_traj.v_x lmc_traj.v_y lmc_traj.v_z]', (3, 1, :))\n",
    "\n",
    "    return pos, vel, -(lmc_traj.time)\n",
    "end"
   ]
  },
  {
   "cell_type": "code",
   "execution_count": null,
   "id": "5",
   "metadata": {},
   "outputs": [],
   "source": [
    "function subtract_traj(traja, trajb)\n",
    "    if !isapprox(traja[3], trajb[3], atol=1e-3)\n",
    "        println(extrema(traja[3]), \" \", diff(traja[3])[1])\n",
    "        println(extrema(trajb[3]), \" \", diff(trajb[3])[1])\n",
    "        error(\"trajectories do not match\")\n",
    "    end\n",
    "\n",
    "    return traja[1] .- trajb[1], traja[2] .- trajb[2], traja[3]\n",
    "end"
   ]
  },
  {
   "cell_type": "code",
   "execution_count": null,
   "id": "6",
   "metadata": {},
   "outputs": [],
   "source": [
    "function read_distribution(name)\n",
    "    return LilGuys.read_fits(joinpath(name, \"peris_apos.fits\"))\n",
    "end"
   ]
  },
  {
   "cell_type": "code",
   "execution_count": null,
   "id": "7",
   "metadata": {},
   "outputs": [],
   "source": [
    "plot_labels = Dict(\n",
    "    \"pericentre\" => \"pericentre / kpc\",\n",
    "    \"peri_lmc\" => \"perilmc / kpc\",\n",
    "    \"apocentre\" => \"apocentre / kpc\",\n",
    "    )"
   ]
  },
  {
   "cell_type": "code",
   "execution_count": null,
   "id": "8",
   "metadata": {},
   "outputs": [],
   "source": [
    "function compare_peris(families; x=\"pericentre\", legend_position=:lt)\n",
    "\tfig = Figure()\n",
    "\tax = Axis(fig[1, 1],\n",
    "\t\txlabel = plot_labels[x],\n",
    "\t\tylabel = \"pdf\",\n",
    "\t)\n",
    "\n",
    "    for (label, df) in families\n",
    "    \tbins, counts, err = LilGuys.histogram(df[:, x], normalization=:pdf)\n",
    "    \tlines!(midpoints(bins), counts, label=label)\n",
    "    end\n",
    "\n",
    "    axislegend(position=legend_position)\n",
    "\n",
    "\tfig\n",
    "end"
   ]
  },
  {
   "cell_type": "code",
   "execution_count": null,
   "id": "9",
   "metadata": {},
   "outputs": [],
   "source": [
    "function compare_t_last_peris(families, legend_position=:lt)\n",
    "    \n",
    "\tfig = Figure()\n",
    "\tax = Axis(fig[1, 1],\n",
    "\t\txlabel = \"time since pericentre / Gyr\",\n",
    "\t\tylabel = \"pdf\"\n",
    "\t)\n",
    "\n",
    "    for (label, df) in families\n",
    "    \tbins, counts, err = LilGuys.histogram(df.t_last_peri, normalization=:pdf)\n",
    "    \tlines!(midpoints(bins), counts, label=label)\n",
    "    end\n",
    "\n",
    "    axislegend()\n",
    "\n",
    "\tfig\n",
    "end"
   ]
  },
  {
   "cell_type": "code",
   "execution_count": null,
   "id": "10",
   "metadata": {},
   "outputs": [],
   "source": [
    "function compare_apos(families)\n",
    "    \n",
    "\tfig = Figure()\n",
    "\tax = Axis(fig[1, 1],\n",
    "\t\txlabel = \"apocentre / kpc\",\n",
    "\t\tylabel = \"pdf\"\n",
    "\t)\n",
    "\n",
    "    for (label, df) in families\n",
    "    \tbins, counts, err = LilGuys.histogram(df.apocentre, normalization=:pdf)\n",
    "    \tlines!(midpoints(bins), counts, label=label)\n",
    "    end\n",
    "\n",
    "    axislegend()\n",
    "\n",
    "\tfig\n",
    "end"
   ]
  },
  {
   "cell_type": "code",
   "execution_count": null,
   "id": "11",
   "metadata": {},
   "outputs": [],
   "source": [
    "using Printf"
   ]
  },
  {
   "cell_type": "code",
   "execution_count": null,
   "id": "12",
   "metadata": {},
   "outputs": [],
   "source": [
    "using StatsBase"
   ]
  },
  {
   "cell_type": "code",
   "execution_count": null,
   "id": "13",
   "metadata": {},
   "outputs": [],
   "source": [
    "function compare_stats(families)\n",
    "\n",
    "    for (label, df) in families\n",
    "        @printf \"%16s%12.2f [%0.2f %0.2f] [[%0.2f %0.2f]]\\n\" label quantile(df.pericentre, [0.5, 0.16, 0.84, 0.0014, 0.9986])...\n",
    "    end\n",
    "end"
   ]
  },
  {
   "cell_type": "markdown",
   "id": "14",
   "metadata": {
    "jp-MarkdownHeadingCollapsed": true
   },
   "source": [
    "# Initial scl comparisons"
   ]
  },
  {
   "cell_type": "code",
   "execution_count": null,
   "id": "15",
   "metadata": {},
   "outputs": [],
   "source": [
    "families = [\n",
    "    \"strict\" => read_distribution(\"reported_uncertanties\"),\n",
    "    \"+gaia sys\" => read_distribution(\"systematic_errors\"),\n",
    "    \"+solar lsr sys\" => read_distribution(\"sys_and_solar\"),\n",
    "    \"all studies\" => read_distribution(\"all_studies\"),\n",
    "    \"iorio\" => read_distribution(\"iorio\")\n",
    "    ]"
   ]
  },
  {
   "cell_type": "code",
   "execution_count": null,
   "id": "16",
   "metadata": {},
   "outputs": [],
   "source": [
    "compare_stats(families)"
   ]
  },
  {
   "cell_type": "code",
   "execution_count": null,
   "id": "17",
   "metadata": {},
   "outputs": [],
   "source": [
    "compare_peris(families)"
   ]
  },
  {
   "cell_type": "code",
   "execution_count": null,
   "id": "18",
   "metadata": {},
   "outputs": [],
   "source": [
    "compare_apos(families)"
   ]
  },
  {
   "cell_type": "markdown",
   "id": "19",
   "metadata": {},
   "source": [
    "## + trajectories"
   ]
  },
  {
   "cell_type": "markdown",
   "id": "20",
   "metadata": {},
   "source": [
    "# LMC"
   ]
  },
  {
   "cell_type": "markdown",
   "id": "21",
   "metadata": {},
   "source": [
    "## Trajectories"
   ]
  },
  {
   "cell_type": "code",
   "execution_count": null,
   "id": "22",
   "metadata": {},
   "outputs": [],
   "source": [
    "families = [\n",
    "    \"EP20 (MW only)\" => read_distribution(\"systematic_errors\"),\n",
    "    \"V+21 (MW only)\" => read_distribution(\"vasiliev_nolmc\"),\n",
    "    \"V+21 (MW+LMC)\" => read_distribution(\"vasiliev_lmc\"),\n",
    "    ]"
   ]
  },
  {
   "cell_type": "code",
   "execution_count": null,
   "id": "23",
   "metadata": {},
   "outputs": [],
   "source": [
    "compare_stats(families)"
   ]
  },
  {
   "cell_type": "code",
   "execution_count": null,
   "id": "24",
   "metadata": {},
   "outputs": [],
   "source": [
    "compare_peris(families)"
   ]
  },
  {
   "cell_type": "code",
   "execution_count": null,
   "id": "25",
   "metadata": {},
   "outputs": [],
   "source": [
    "unique(df.t_last_peri)"
   ]
  },
  {
   "cell_type": "code",
   "execution_count": null,
   "id": "26",
   "metadata": {},
   "outputs": [],
   "source": [
    "fig = Figure()\n",
    "ax = Axis(fig[1, 1],\n",
    "    xlabel = \"time since pericentre / Gyr\",\n",
    "    ylabel = \"pericentre\",\n",
    "    limits=(0, nothing, 0, nothing)\n",
    ")\n",
    "\n",
    "for (label, df) in families\n",
    "    scatter!(df.t_last_peri*T2GYR .+ 0.2*T2GYR * randn(length(df.t_last_peri)), df.pericentre, label=label => (; markersize=10), markersize=3, alpha=0.1)\n",
    "end\n",
    "\n",
    "df = families[end].second\n",
    "scatter!(df.t_last_peri_lmc * T2GYR, df.peri_lmc, label=\"V+21 (LMC frame)\" =>(; markersize=10), markersize=3, alpha=0.1)\n",
    "\n",
    "\n",
    "axislegend(position=:lt)\n",
    "\n",
    "fig"
   ]
  },
  {
   "cell_type": "code",
   "execution_count": null,
   "id": "27",
   "metadata": {},
   "outputs": [],
   "source": [
    "families = [\n",
    "    \"L1.5\" => read_distribution(\"vasiliev_lmc\"),\n",
    "    \"L2M10\" => read_distribution(\"vasiliev24_L2M10\"),\n",
    "    \"L2M11\" => read_distribution(\"vasiliev24_L2M11\"),\n",
    "    \"L3M10\" => read_distribution(\"vasiliev24_L3M10\"),\n",
    "    \"L3M10rad\" => read_distribution(\"vasiliev24_L3M10rad\"),\n",
    "    \"L3M11\" => read_distribution(\"vasiliev24_L3M11\"),\n",
    "    ];"
   ]
  },
  {
   "cell_type": "code",
   "execution_count": null,
   "id": "28",
   "metadata": {},
   "outputs": [],
   "source": [
    "compare_peris(families, legend_position=:lt)"
   ]
  },
  {
   "cell_type": "code",
   "execution_count": null,
   "id": "29",
   "metadata": {},
   "outputs": [],
   "source": [
    "compare_peris(families, x=\"peri_lmc\", legend_position=:lt)"
   ]
  },
  {
   "cell_type": "code",
   "execution_count": null,
   "id": "30",
   "metadata": {},
   "outputs": [],
   "source": [
    "fig = Figure()\n",
    "ax = Axis(fig[1, 1],\n",
    "    xlabel = \"time since pericentre / Gyr\",\n",
    "    ylabel = \"pericentre\",\n",
    "    limits=(0, nothing, 0, nothing)\n",
    ")\n",
    "\n",
    "for (label, df) in families\n",
    "    scatter!(df.t_last_peri*T2GYR .+ 0.2*T2GYR * randn(length(df.t_last_peri)), df.pericentre, label=label => (; markersize=10), markersize=3, alpha=0.1)\n",
    "end\n",
    "\n",
    "axislegend(position=:lt)\n",
    "\n",
    "fig"
   ]
  },
  {
   "cell_type": "code",
   "execution_count": null,
   "id": "31",
   "metadata": {},
   "outputs": [],
   "source": [
    "fig = Figure()\n",
    "ax = Axis(fig[1, 1],\n",
    "    xlabel = \"time since pericentre / Gyr\",\n",
    "    ylabel = \"pericentre\",\n",
    "    limits=(0, nothing, 0, nothing)\n",
    ")\n",
    "\n",
    "for (label, df) in families\n",
    "    scatter!(df.t_last_peri_lmc*T2GYR .+ 0.2*T2GYR * randn(length(df.t_last_peri)), df.peri_lmc, label=label => (; markersize=10), markersize=3, alpha=0.1)\n",
    "end\n",
    "\n",
    "axislegend(position=:lt)\n",
    "\n",
    "fig"
   ]
  },
  {
   "cell_type": "markdown",
   "id": "32",
   "metadata": {},
   "source": [
    "# Compare trajectories"
   ]
  },
  {
   "cell_type": "code",
   "execution_count": null,
   "id": "33",
   "metadata": {},
   "outputs": [],
   "source": [
    "traj = read_traj(\"vasiliev_lmc\")"
   ]
  },
  {
   "cell_type": "code",
   "execution_count": null,
   "id": "34",
   "metadata": {},
   "outputs": [],
   "source": [
    "traj_no = read_traj(\"vasiliev_nolmc\")"
   ]
  },
  {
   "cell_type": "code",
   "execution_count": null,
   "id": "35",
   "metadata": {},
   "outputs": [],
   "source": [
    "V_T2GYR = 0.97779"
   ]
  },
  {
   "cell_type": "code",
   "execution_count": null,
   "id": "36",
   "metadata": {},
   "outputs": [],
   "source": [
    "# loads in trajectory of lmc in Vasiliev 2021\n",
    "lmc_file = ENV[\"DWARFS_ROOT\"] * \"/agama/potentials/vasiliev+21/trajlmc.txt\"\n",
    "lmc_traj = CSV.read(lmc_file, DataFrame, delim=\" \", header = [:time, :x, :y, :z, :v_x, :v_y, :v_z])\n",
    "\n",
    "lmc_x = LilGuys.lerp(lmc_traj.time, lmc_traj.x)\n",
    "lmc_y = LilGuys.lerp(lmc_traj.time, lmc_traj.y)\n",
    "lmc_z = LilGuys.lerp(lmc_traj.time, lmc_traj.z)\n",
    "lmc_v_x = LilGuys.lerp(lmc_traj.time, lmc_traj.v_x)\n",
    "lmc_v_y = LilGuys.lerp(lmc_traj.time, lmc_traj.v_y)\n",
    "lmc_v_z = LilGuys.lerp(lmc_traj.time, lmc_traj.v_z)\n",
    "\n",
    "times_v = traj[3] * T2GYR / V_T2GYR\n",
    "pos = reshape([lmc_x.(times_v) lmc_y.(times_v) lmc_z.(times_v)]', (3, 1, :))\n",
    "vel = reshape([lmc_v_x.(times_v) lmc_v_y.(times_v) lmc_v_z.(times_v)]', (3, 1, :))"
   ]
  },
  {
   "cell_type": "code",
   "execution_count": null,
   "id": "37",
   "metadata": {},
   "outputs": [],
   "source": [
    "fig, ax = FigAxis(xlabel=\"y\", ylabel=\"z\")\n",
    "\n",
    "scatter!(lmc_traj.y, lmc_traj.z)\n",
    "scatter!(pos[2, 1, :], pos[3, 1, :])\n",
    "\n",
    "fig"
   ]
  },
  {
   "cell_type": "code",
   "execution_count": null,
   "id": "38",
   "metadata": {},
   "outputs": [],
   "source": [
    "traj_lmc = pos, vel, traj[3]\n",
    "traj_scl_lmc = pos .- traj[1], vel .- traj[2], traj[3]\n"
   ]
  },
  {
   "cell_type": "code",
   "execution_count": null,
   "id": "39",
   "metadata": {},
   "outputs": [],
   "source": [
    "function plot_r_t_traj!(traj; alpha=0.01, thin=1, color=:black, kwargs...)\n",
    "    positions, velocities, times = traj\n",
    "    for i in 1:thin:size(positions, 2)\n",
    "        x = times * T2GYR\n",
    "        y = calc_r(positions[:, i, :])\n",
    "        lines!(x, y; rasterize=true, alpha=alpha, color=color, kwargs...)\n",
    "    \n",
    "    end\n",
    "end"
   ]
  },
  {
   "cell_type": "code",
   "execution_count": null,
   "id": "40",
   "metadata": {},
   "outputs": [],
   "source": [
    "function plot_x_y_traj!(traj; thin=1, x_direction=2, y_direction=3, alpha=0.01, color=:black, kwargs...)\n",
    "    positions, velocities, times = traj\n",
    "    for i in 1:thin:size(positions, 2)\n",
    "        x = positions[x_direction, i, :]\n",
    "        y = positions[y_direction, i, :]\n",
    "        \n",
    "        lines!(x, y; rasterize=true, alpha=alpha, color=color, kwargs...)\n",
    "    \n",
    "    end\n",
    "end"
   ]
  },
  {
   "cell_type": "code",
   "execution_count": null,
   "id": "41",
   "metadata": {},
   "outputs": [],
   "source": [
    "function compare_x_y_traj(trajectories; kwargs...)\n",
    "    fig = Figure()\n",
    "    ax = Axis(fig[1, 1], xlabel=\"y / kpc\", ylabel=\"z / kpc\",\n",
    "        xgridvisible=false, ygridvisible=false, \n",
    "        aspect=DataAspect(),\n",
    "    )\n",
    "    \n",
    "    for (i, (label, traj)) in enumerate(trajectories)\n",
    "        plot_x_y_traj!(traj, label=label, color=COLORS[i]; kwargs...)\n",
    "    end\n",
    "        \n",
    "    fig, ax\n",
    "end"
   ]
  },
  {
   "cell_type": "code",
   "execution_count": null,
   "id": "42",
   "metadata": {},
   "outputs": [],
   "source": [
    "function compare_r_t_traj(trajectories; kwargs...)\n",
    "    fig = Figure()\n",
    "    ax = Axis(fig[1, 1], xlabel=\"time / Gyr\", ylabel = \"Scl galactocentric distance / kpc\",\n",
    "        xgridvisible=false, ygridvisible=false\n",
    "    )\n",
    "\n",
    "    for (i, (label, traj)) in enumerate(trajectories)\n",
    "        plot_r_t_traj!(traj, label=label, color=COLORS[i]; kwargs...)\n",
    "    end\n",
    "    \n",
    "    fig, ax\n",
    "end"
   ]
  },
  {
   "cell_type": "code",
   "execution_count": null,
   "id": "43",
   "metadata": {},
   "outputs": [],
   "source": [
    "fig = Figure()\n",
    "ax = Axis(fig[1, 1], xlabel=\"time / Gyr\", ylabel = \"Scl galactocentric distance / kpc\",\n",
    "    xgridvisible=false, ygridvisible=false\n",
    ")\n",
    "\n",
    "plot_r_t_traj!(traj_no, label=\"MW only\")\n",
    "plot_r_t_traj!(traj, label=\"MW + LMC\", color=COLORS[1])\n",
    "\n",
    "axislegend(unique=true)\n",
    "fig"
   ]
  },
  {
   "cell_type": "code",
   "execution_count": null,
   "id": "44",
   "metadata": {},
   "outputs": [],
   "source": [
    "mkpath(\"figures\")\n",
    "figdir = \"./figures/\""
   ]
  },
  {
   "cell_type": "markdown",
   "id": "45",
   "metadata": {},
   "source": [
    "## "
   ]
  },
  {
   "cell_type": "code",
   "execution_count": null,
   "id": "46",
   "metadata": {},
   "outputs": [],
   "source": [
    "r2 = @. traj_scl_lmc[1][1, :, :]^2 + traj_scl_lmc[1][2, :, :]^2 + traj_scl_lmc[1][3, :, :]^2\n",
    "r = sqrt.(r2)\n",
    "idx_min = [argmin(row) for row in eachrow(r)]\n",
    "t_scl_lmc_peri = traj_scl_lmc[3][idx_min]\n",
    "r_scl_lmc_peri = [r[i, idx_min[i]] for i in 1:size(r, 1)]"
   ]
  },
  {
   "cell_type": "code",
   "execution_count": null,
   "id": "47",
   "metadata": {},
   "outputs": [],
   "source": [
    "unique(idx_min)"
   ]
  },
  {
   "cell_type": "code",
   "execution_count": null,
   "id": "48",
   "metadata": {},
   "outputs": [],
   "source": [
    "traj[3]"
   ]
  },
  {
   "cell_type": "code",
   "execution_count": null,
   "id": "49",
   "metadata": {},
   "outputs": [],
   "source": []
  },
  {
   "cell_type": "code",
   "execution_count": null,
   "id": "50",
   "metadata": {},
   "outputs": [],
   "source": [
    "traj[3][20:26]"
   ]
  },
  {
   "cell_type": "code",
   "execution_count": null,
   "id": "51",
   "metadata": {},
   "outputs": [],
   "source": [
    "rb = LilGuys.calc_break_radius(9.4/V2KMS, 0.11 / T2GYR)"
   ]
  },
  {
   "cell_type": "code",
   "execution_count": null,
   "id": "52",
   "metadata": {},
   "outputs": [],
   "source": [
    "LilGuys.kpc_to_arcmin(rb, 83.2)"
   ]
  },
  {
   "cell_type": "code",
   "execution_count": null,
   "id": "53",
   "metadata": {},
   "outputs": [],
   "source": [
    "fig = Figure()\n",
    "ax = Axis(fig[1, 1], xlabel=\"time of minimum / Gyr\", ylabel=\"minimum distance (Scl-LMC) / kpc\")\n",
    "\n",
    "scatter!(t_scl_lmc_peri * T2GYR .+ 0.0003 * randn(length(t_scl_lmc_peri)), r_scl_lmc_peri)\n",
    "\n",
    "fig"
   ]
  },
  {
   "cell_type": "code",
   "execution_count": null,
   "id": "54",
   "metadata": {},
   "outputs": [],
   "source": [
    "V_T2GYR * 5/ T2GYR"
   ]
  },
  {
   "cell_type": "code",
   "execution_count": null,
   "id": "55",
   "metadata": {},
   "outputs": [],
   "source": [
    "V_T2GYR * 0.25 / T2GYR"
   ]
  },
  {
   "cell_type": "code",
   "execution_count": null,
   "id": "56",
   "metadata": {},
   "outputs": [],
   "source": [
    "fig = Figure()\n",
    "ax = Axis(fig[1, 1], xlabel=\"time / Gyr\", ylabel = \"radius / kpc\",\n",
    "    xgridvisible=false, ygridvisible=false\n",
    ")\n",
    "\n",
    "plot_r_t_traj!(traj, label=\"Scl-MW\", color=COLORS[1])\n",
    "plot_r_t_traj!(traj_scl_lmc, label=\"Scl-LMC\", color=COLORS[2])\n",
    "plot_r_t_traj!(traj_lmc, label=\"LMC-MW\", color=:black, alpha=1, linewidth=3, )\n",
    "\n",
    "\n",
    "axislegend(unique=true)\n",
    "\n",
    "Makie.save(\"$figdir/scl_lmc_mw_r_t_samples.pdf\", fig)\n",
    "\n",
    "fig"
   ]
  },
  {
   "cell_type": "code",
   "execution_count": null,
   "id": "57",
   "metadata": {},
   "outputs": [],
   "source": [
    "fig = Figure()\n",
    "ax = Axis(fig[1, 1], xlabel=\"y / kpc\", ylabel=\"z / kpc\",\n",
    "    xgridvisible=false, ygridvisible=false, \n",
    "    aspect=DataAspect(),\n",
    ")\n",
    "plot_x_y_traj!(traj_scl_lmc, label=\"+LMC\", color=:black)\n",
    "\n",
    "fig"
   ]
  },
  {
   "cell_type": "code",
   "execution_count": null,
   "id": "58",
   "metadata": {},
   "outputs": [],
   "source": [
    "fig = Figure()\n",
    "ax = Axis(fig[1, 1], xlabel=\"y / kpc\", ylabel=\"z / kpc\",\n",
    "    xgridvisible=false, ygridvisible=false, \n",
    "    aspect=DataAspect(),\n",
    ")\n",
    "plot_x_y_traj!(traj_no, label=\"Scl, MW only\")\n",
    "plot_x_y_traj!(traj, label=\"Scl, MW + LMC\", color=COLORS[1])\n",
    "plot_x_y_traj!(traj_lmc, label=\"LMC\", alpha=1, color=COLORS[2], linewidth=3)\n",
    "\n",
    "axislegend(unique=true)\n",
    "\n",
    "fig"
   ]
  },
  {
   "cell_type": "markdown",
   "id": "59",
   "metadata": {},
   "source": [
    "### Other trajectories"
   ]
  },
  {
   "cell_type": "code",
   "execution_count": null,
   "id": "60",
   "metadata": {},
   "outputs": [],
   "source": [
    "using OrderedCollections"
   ]
  },
  {
   "cell_type": "code",
   "execution_count": null,
   "id": "61",
   "metadata": {},
   "outputs": [],
   "source": [
    "trajectories = OrderedDict(\n",
    "    \"L1.5\" => read_traj(\"vasiliev_lmc\"),\n",
    "    \"L2M10\" => read_traj(\"vasiliev24_L2M10\"),\n",
    "    \"L2M11\" => read_traj(\"vasiliev24_L2M11\"),    \n",
    "    \"L3M10\" => read_traj(\"vasiliev24_L3M10\"),\n",
    "    \"L3M10rad\" => read_traj(\"vasiliev24_L3M10rad\"),\n",
    "    \"L3M11\" => read_traj(\"vasiliev24_L3M11\"),\n",
    "    )"
   ]
  },
  {
   "cell_type": "code",
   "execution_count": null,
   "id": "62",
   "metadata": {},
   "outputs": [],
   "source": [
    "lmc_trajectories = OrderedDict(\n",
    "    \"L1.5\" => read_lmc_traj(\"vasiliev_lmc\"),\n",
    "    \"L2M10\" => read_lmc_traj(\"vasiliev24_L2M10\"),\n",
    "    \"L2M11\" => read_lmc_traj(\"vasiliev24_L2M11\"),    \n",
    "    \"L3M10\" => read_lmc_traj(\"vasiliev24_L3M10\"),\n",
    "    \"L3M10rad\" => read_lmc_traj(\"vasiliev24_L3M10rad\"),\n",
    "    \"L3M11\" => read_lmc_traj(\"vasiliev24_L3M11\"),\n",
    "    )"
   ]
  },
  {
   "cell_type": "code",
   "execution_count": null,
   "id": "63",
   "metadata": {},
   "outputs": [],
   "source": [
    "scl_lmc_trajectories = OrderedDict(key => subtract_traj(trajectories[key], lmc_trajectories[key]) for key in keys(trajectories))"
   ]
  },
  {
   "cell_type": "code",
   "execution_count": null,
   "id": "64",
   "metadata": {},
   "outputs": [],
   "source": [
    "fig, ax = compare_x_y_traj(trajectories, thin=10, alpha=0.03)\n",
    "\n",
    "Legend(fig[1,2], ax, unique=true)\n",
    "fig"
   ]
  },
  {
   "cell_type": "code",
   "execution_count": null,
   "id": "65",
   "metadata": {},
   "outputs": [],
   "source": [
    "fig, ax = compare_x_y_traj(trajectories, x_direction=1, thin=10, alpha=0.03)\n",
    "\n",
    "ax.xlabel = \"x / kpc\"\n",
    "Legend(fig[1,2], ax, unique=true)\n",
    "fig"
   ]
  },
  {
   "cell_type": "code",
   "execution_count": null,
   "id": "66",
   "metadata": {},
   "outputs": [],
   "source": [
    "fig, ax = compare_x_y_traj(lmc_trajectories, alpha=1)\n",
    "Legend(fig[1,2], ax, unique=true)\n",
    "fig"
   ]
  },
  {
   "cell_type": "code",
   "execution_count": null,
   "id": "67",
   "metadata": {},
   "outputs": [],
   "source": [
    "fig, ax = compare_x_y_traj(scl_lmc_trajectories, thin=10, alpha=0.03)\n",
    "\n",
    "Legend(fig[1,2], ax, unique=true)\n",
    "fig"
   ]
  },
  {
   "cell_type": "code",
   "execution_count": null,
   "id": "68",
   "metadata": {},
   "outputs": [],
   "source": [
    "fig, ax = compare_r_t_traj(trajectories, thin=10, alpha=0.02)\n",
    "\n",
    "Legend(fig[1,2], ax, unique=true)\n",
    "fig"
   ]
  },
  {
   "cell_type": "code",
   "execution_count": null,
   "id": "69",
   "metadata": {},
   "outputs": [],
   "source": [
    "fig, ax = compare_r_t_traj(lmc_trajectories, alpha=1)\n",
    "ax.ylabel = \"LMC - MW distance / kpc\"\n",
    "Legend(fig[1,2], ax, unique=true)\n",
    "fig"
   ]
  },
  {
   "cell_type": "code",
   "execution_count": null,
   "id": "70",
   "metadata": {},
   "outputs": [],
   "source": [
    "fig, ax = compare_r_t_traj(scl_lmc_trajectories, thin=10, alpha=0.02)\n",
    "\n",
    "ax.ylabel = \"Scl - LMC distance / kpc\"\n",
    "Legend(fig[1,2], ax, unique=true)\n",
    "fig"
   ]
  },
  {
   "cell_type": "code",
   "execution_count": null,
   "id": "71",
   "metadata": {},
   "outputs": [],
   "source": []
  }
 ],
 "metadata": {
  "kernelspec": {
   "display_name": "Julia 1.11.1",
   "language": "julia",
   "name": "julia-1.11"
  },
  "language_info": {
   "file_extension": ".jl",
   "mimetype": "application/julia",
   "name": "julia",
   "version": "1.11.1"
  }
 },
 "nbformat": 4,
 "nbformat_minor": 5
}
