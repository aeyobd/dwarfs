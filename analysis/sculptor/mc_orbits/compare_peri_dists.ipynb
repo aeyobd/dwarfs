{
 "cells": [
  {
   "cell_type": "code",
   "execution_count": null,
   "id": "0",
   "metadata": {},
   "outputs": [],
   "source": [
    "using CairoMakie\n",
    "using Arya\n",
    "using LilGuys\n"
   ]
  },
  {
   "cell_type": "code",
   "execution_count": null,
   "id": "1",
   "metadata": {},
   "outputs": [],
   "source": [
    "function read_distribution(name)\n",
    "    return LilGuys.read_fits(joinpath(name, \"peris_apos.fits\"))\n",
    "end"
   ]
  },
  {
   "cell_type": "code",
   "execution_count": null,
   "id": "2",
   "metadata": {},
   "outputs": [],
   "source": [
    "function compare_peris(families)\n",
    "    \n",
    "\tfig = Figure()\n",
    "\tax = Axis(fig[1, 1],\n",
    "\t\txlabel = \"pericentre / kpc\",\n",
    "\t\tylabel = \"pdf\"\n",
    "\t)\n",
    "\n",
    "    for (label, df) in families\n",
    "    \tbins, counts, err = LilGuys.histogram(df.pericenter, normalization=:pdf)\n",
    "    \tlines!(midpoints(bins), counts, label=label)\n",
    "    end\n",
    "\n",
    "    axislegend()\n",
    "\n",
    "\tfig\n",
    "end"
   ]
  },
  {
   "cell_type": "code",
   "execution_count": null,
   "id": "3",
   "metadata": {},
   "outputs": [],
   "source": [
    "function compare_apos(families)\n",
    "    \n",
    "\tfig = Figure()\n",
    "\tax = Axis(fig[1, 1],\n",
    "\t\txlabel = \"apocentre / kpc\",\n",
    "\t\tylabel = \"pdf\"\n",
    "\t)\n",
    "\n",
    "    for (label, df) in families\n",
    "    \tbins, counts, err = LilGuys.histogram(df.apocenter, normalization=:pdf)\n",
    "    \tlines!(midpoints(bins), counts, label=label)\n",
    "    end\n",
    "\n",
    "    axislegend()\n",
    "\n",
    "\tfig\n",
    "end"
   ]
  },
  {
   "cell_type": "code",
   "execution_count": null,
   "id": "4",
   "metadata": {},
   "outputs": [],
   "source": [
    "using Printf"
   ]
  },
  {
   "cell_type": "code",
   "execution_count": null,
   "id": "5",
   "metadata": {},
   "outputs": [],
   "source": [
    "using StatsBase"
   ]
  },
  {
   "cell_type": "code",
   "execution_count": null,
   "id": "6",
   "metadata": {},
   "outputs": [],
   "source": [
    "function compare_stats(families)\n",
    "\n",
    "    for (label, df) in families\n",
    "        @printf \"%16s%12.2f [%0.2f %0.2f] [[%0.2f %0.2f]]\\n\" label median(df.pericenter) quantile(df.pericenter, 0.16) quantile(df.pericenter, 0.84) quantile(df.pericenter, 0.001) quantile(df.pericenter, 0.999)\n",
    "    end\n",
    "\n",
    "end"
   ]
  },
  {
   "cell_type": "code",
   "execution_count": null,
   "id": "7",
   "metadata": {},
   "outputs": [],
   "source": [
    "compare_stats(families)"
   ]
  },
  {
   "cell_type": "code",
   "execution_count": null,
   "id": "8",
   "metadata": {},
   "outputs": [],
   "source": [
    "families = [\n",
    "    \"strict\" => read_distribution(\"reported_uncertanties\"),\n",
    "    \"+gaia sys\" => read_distribution(\"systematic_errors\"),\n",
    "    \"+solar lsr sys\" => read_distribution(\"sys_and_solar\"),\n",
    "    \"all studies\" => read_distribution(\"all_studies\"),\n",
    "    \"iorio\" => read_distribution(\"iorio\")\n",
    "    ]"
   ]
  },
  {
   "cell_type": "code",
   "execution_count": null,
   "id": "9",
   "metadata": {},
   "outputs": [],
   "source": [
    "compare_peris(families)"
   ]
  },
  {
   "cell_type": "code",
   "execution_count": null,
   "id": "10",
   "metadata": {},
   "outputs": [],
   "source": [
    "compare_apos(families)"
   ]
  },
  {
   "cell_type": "code",
   "execution_count": null,
   "id": "11",
   "metadata": {},
   "outputs": [],
   "source": []
  }
 ],
 "metadata": {
  "kernelspec": {
   "display_name": "Julia 1.11.1",
   "language": "julia",
   "name": "julia-1.11"
  },
  "language_info": {
   "file_extension": ".jl",
   "mimetype": "application/julia",
   "name": "julia",
   "version": "1.11.1"
  }
 },
 "nbformat": 4,
 "nbformat_minor": 5
}
