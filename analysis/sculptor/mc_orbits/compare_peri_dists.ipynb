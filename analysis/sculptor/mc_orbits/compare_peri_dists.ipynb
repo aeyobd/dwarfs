{
 "cells": [
  {
   "cell_type": "code",
   "execution_count": null,
   "id": "0",
   "metadata": {},
   "outputs": [],
   "source": [
    "using CairoMakie\n",
    "using Arya\n",
    "using LilGuys\n",
    "using CSV, DataFrames"
   ]
  },
  {
   "cell_type": "code",
   "execution_count": null,
   "id": "1",
   "metadata": {},
   "outputs": [],
   "source": [
    "using HDF5"
   ]
  },
  {
   "cell_type": "code",
   "execution_count": null,
   "id": "2",
   "metadata": {},
   "outputs": [],
   "source": [
    "function read_traj(name)\n",
    "    local positions, velocities, times\n",
    "    \n",
    "    h5open(\"$name/trajectory.hdf5\", \"r\") do f\n",
    "        positions = f[\"positions\"][:, :, :]\n",
    "        velocities = f[\"velocities\"][:, :, :]\n",
    "        times = -f[\"times\"][:]\n",
    "    end\n",
    "\n",
    "    return positions, velocities, times\n",
    "end"
   ]
  },
  {
   "cell_type": "code",
   "execution_count": null,
   "id": "3",
   "metadata": {},
   "outputs": [],
   "source": [
    "function read_distribution(name)\n",
    "    return LilGuys.read_fits(joinpath(name, \"peris_apos.fits\"))\n",
    "end"
   ]
  },
  {
   "cell_type": "code",
   "execution_count": null,
   "id": "4",
   "metadata": {},
   "outputs": [],
   "source": [
    "function compare_peris(families)\n",
    "    \n",
    "\tfig = Figure()\n",
    "\tax = Axis(fig[1, 1],\n",
    "\t\txlabel = \"pericentre / kpc\",\n",
    "\t\tylabel = \"pdf\"\n",
    "\t)\n",
    "\n",
    "    for (label, df) in families\n",
    "    \tbins, counts, err = LilGuys.histogram(df.pericenter, normalization=:pdf)\n",
    "    \tlines!(midpoints(bins), counts, label=label)\n",
    "    end\n",
    "\n",
    "    axislegend()\n",
    "\n",
    "\tfig\n",
    "end"
   ]
  },
  {
   "cell_type": "code",
   "execution_count": null,
   "id": "5",
   "metadata": {},
   "outputs": [],
   "source": [
    "function compare_apos(families)\n",
    "    \n",
    "\tfig = Figure()\n",
    "\tax = Axis(fig[1, 1],\n",
    "\t\txlabel = \"apocentre / kpc\",\n",
    "\t\tylabel = \"pdf\"\n",
    "\t)\n",
    "\n",
    "    for (label, df) in families\n",
    "    \tbins, counts, err = LilGuys.histogram(df.apocenter, normalization=:pdf)\n",
    "    \tlines!(midpoints(bins), counts, label=label)\n",
    "    end\n",
    "\n",
    "    axislegend()\n",
    "\n",
    "\tfig\n",
    "end"
   ]
  },
  {
   "cell_type": "code",
   "execution_count": null,
   "id": "6",
   "metadata": {},
   "outputs": [],
   "source": [
    "using Printf"
   ]
  },
  {
   "cell_type": "code",
   "execution_count": null,
   "id": "7",
   "metadata": {},
   "outputs": [],
   "source": [
    "using StatsBase"
   ]
  },
  {
   "cell_type": "code",
   "execution_count": null,
   "id": "8",
   "metadata": {},
   "outputs": [],
   "source": [
    "function compare_stats(families)\n",
    "\n",
    "    for (label, df) in families\n",
    "        @printf \"%16s%12.2f [%0.2f %0.2f] [[%0.2f %0.2f]]\\n\" label median(df.pericenter) quantile(df.pericenter, 0.16) quantile(df.pericenter, 0.84) quantile(df.pericenter, 0.001) quantile(df.pericenter, 0.999)\n",
    "    end\n",
    "end"
   ]
  },
  {
   "cell_type": "code",
   "execution_count": null,
   "id": "9",
   "metadata": {},
   "outputs": [],
   "source": [
    "families = [\n",
    "    \"strict\" => read_distribution(\"reported_uncertanties\"),\n",
    "    \"+gaia sys\" => read_distribution(\"systematic_errors\"),\n",
    "    \"+solar lsr sys\" => read_distribution(\"sys_and_solar\"),\n",
    "    #\"all studies\" => read_distribution(\"all_studies\"),\n",
    "    \"iorio\" => read_distribution(\"iorio\")\n",
    "    ]"
   ]
  },
  {
   "cell_type": "code",
   "execution_count": null,
   "id": "10",
   "metadata": {},
   "outputs": [],
   "source": [
    "compare_stats(families)"
   ]
  },
  {
   "cell_type": "code",
   "execution_count": null,
   "id": "11",
   "metadata": {},
   "outputs": [],
   "source": [
    "compare_peris(families)"
   ]
  },
  {
   "cell_type": "code",
   "execution_count": null,
   "id": "12",
   "metadata": {},
   "outputs": [],
   "source": [
    "compare_apos(families)"
   ]
  },
  {
   "cell_type": "code",
   "execution_count": null,
   "id": "13",
   "metadata": {},
   "outputs": [],
   "source": [
    "families = [\n",
    "    \"+gaia sys\" => read_distribution(\"systematic_errors\"),\n",
    "    \"V+21\" => read_distribution(\"vasiliev_nolmc\"),\n",
    "    \"+LMC\" => read_distribution(\"vasiliev_lmc\"),\n",
    "    ]"
   ]
  },
  {
   "cell_type": "code",
   "execution_count": null,
   "id": "14",
   "metadata": {},
   "outputs": [],
   "source": [
    "compare_stats(families)"
   ]
  },
  {
   "cell_type": "code",
   "execution_count": null,
   "id": "15",
   "metadata": {},
   "outputs": [],
   "source": [
    "compare_peris(families)"
   ]
  },
  {
   "cell_type": "markdown",
   "id": "16",
   "metadata": {},
   "source": [
    "## Trajectories"
   ]
  },
  {
   "cell_type": "code",
   "execution_count": null,
   "id": "17",
   "metadata": {},
   "outputs": [],
   "source": [
    "traj = read_traj(\"vasiliev_lmc\")"
   ]
  },
  {
   "cell_type": "code",
   "execution_count": null,
   "id": "18",
   "metadata": {},
   "outputs": [],
   "source": [
    "traj_no = read_traj(\"vasiliev_nolmc\")"
   ]
  },
  {
   "cell_type": "code",
   "execution_count": null,
   "id": "19",
   "metadata": {},
   "outputs": [],
   "source": []
  },
  {
   "cell_type": "code",
   "execution_count": null,
   "id": "20",
   "metadata": {},
   "outputs": [],
   "source": [
    "V_T2GYR = 0.97779"
   ]
  },
  {
   "cell_type": "code",
   "execution_count": null,
   "id": "21",
   "metadata": {},
   "outputs": [],
   "source": [
    "reshape"
   ]
  },
  {
   "cell_type": "code",
   "execution_count": null,
   "id": "22",
   "metadata": {},
   "outputs": [],
   "source": [
    "scatter(lmc_traj.x, lmc_traj.y)"
   ]
  },
  {
   "cell_type": "code",
   "execution_count": null,
   "id": "23",
   "metadata": {},
   "outputs": [],
   "source": [
    "scatter(pos[1, 1, :], pos[2, 1, :])"
   ]
  },
  {
   "cell_type": "code",
   "execution_count": null,
   "id": "24",
   "metadata": {},
   "outputs": [],
   "source": [
    "# loads in trajectory of lmc in Vasiliev 2021\n",
    "lmc_file = ENV[\"DWARFS_ROOT\"] * \"/agama/potentials/vasiliev+21/trajlmc.txt\"\n",
    "lmc_traj = CSV.read(lmc_file, DataFrame, delim=\" \", header = [:time, :x, :y, :z, :v_x, :v_y, :v_z])\n",
    "\n",
    "lmc_x = LilGuys.lerp(lmc_traj.time, lmc_traj.x)\n",
    "lmc_y = LilGuys.lerp(lmc_traj.time, lmc_traj.y)\n",
    "lmc_z = LilGuys.lerp(lmc_traj.time, lmc_traj.z)\n",
    "lmc_v_x = LilGuys.lerp(lmc_traj.time, lmc_traj.v_x)\n",
    "lmc_v_y = LilGuys.lerp(lmc_traj.time, lmc_traj.v_y)\n",
    "lmc_v_z = LilGuys.lerp(lmc_traj.time, lmc_traj.v_z)\n",
    "\n",
    "times_v = traj[3] * T2GYR / V_T2GYR\n",
    "pos = reshape([lmc_x.(times_v) lmc_y.(times_v) lmc_z.(times_v)]', (3, 1, :))\n",
    "vel = reshape([lmc_v_x.(times_v) lmc_v_y.(times_v) lmc_v_z.(times_v)]', (3, 1, :))"
   ]
  },
  {
   "cell_type": "code",
   "execution_count": null,
   "id": "25",
   "metadata": {},
   "outputs": [],
   "source": [
    "traj_lmc = pos, vel, traj[3]\n",
    "traj_scl_lmc = pos .- traj[1], vel .- traj[2], traj[3]\n"
   ]
  },
  {
   "cell_type": "code",
   "execution_count": null,
   "id": "26",
   "metadata": {},
   "outputs": [],
   "source": [
    "function plot_r_t_traj!(traj; alpha=0.01, color=:black, kwargs...)\n",
    "    positions, velocities, times = traj\n",
    "    for i in 1:size(positions, 2)\n",
    "        x = times * T2GYR\n",
    "        y = calc_r(positions[:, i, :])\n",
    "        lines!(x, y; alpha=alpha, color=color, kwargs...)\n",
    "    \n",
    "    end\n",
    "end"
   ]
  },
  {
   "cell_type": "code",
   "execution_count": null,
   "id": "27",
   "metadata": {},
   "outputs": [],
   "source": [
    "function plot_x_y_traj!(traj; alpha=0.01, color=:black, kwargs...)\n",
    "    positions, velocities, times = traj\n",
    "    for i in 1:size(positions, 2)\n",
    "        x = positions[2, i, :]\n",
    "        y = positions[3, i, :]\n",
    "        \n",
    "        lines!(x, y; alpha=alpha, color=color, kwargs...)\n",
    "    \n",
    "    end\n",
    "end"
   ]
  },
  {
   "cell_type": "code",
   "execution_count": null,
   "id": "28",
   "metadata": {},
   "outputs": [],
   "source": [
    "COLORS[1]"
   ]
  },
  {
   "cell_type": "code",
   "execution_count": null,
   "id": "29",
   "metadata": {},
   "outputs": [],
   "source": [
    "fig = Figure()\n",
    "ax = Axis(fig[1, 1], xlabel=\"time / Gyr\", ylabel = \"radius / kpc\",\n",
    "    xgridvisible=false, ygridvisible=false\n",
    ")\n",
    "\n",
    "plot_r_t_traj!(traj, label=\"+LMC\", color=COLORS[1])\n",
    "plot_r_t_traj!(traj_no, label=\"V+21 potential\")\n",
    "\n",
    "axislegend(unique=true)\n",
    "fig"
   ]
  },
  {
   "cell_type": "code",
   "execution_count": null,
   "id": "30",
   "metadata": {},
   "outputs": [],
   "source": [
    "mkpath(\"figures\")\n",
    "figdir = \"./figures/\""
   ]
  },
  {
   "cell_type": "code",
   "execution_count": null,
   "id": "31",
   "metadata": {},
   "outputs": [],
   "source": [
    "fig = Figure()\n",
    "ax = Axis(fig[1, 1], xlabel=\"time / Gyr\", ylabel = \"radius / kpc\",\n",
    "    xgridvisible=false, ygridvisible=false\n",
    ")\n",
    "\n",
    "plot_r_t_traj!(traj, label=\"Scl-MW\", color=COLORS[1])\n",
    "plot_r_t_traj!(traj_scl_lmc, label=\"Scl-LMC\", color=COLORS[2])\n",
    "plot_r_t_traj!(traj_lmc, label=\"LMC-MW\", color=:black, alpha=1, linewidth=3, )\n",
    "\n",
    "\n",
    "axislegend(unique=true)\n",
    "\n",
    "Makie.save(\"$figdir/scl_lmc_mw_r_t_samples.pdf\", fig)\n",
    "\n",
    "fig"
   ]
  },
  {
   "cell_type": "code",
   "execution_count": null,
   "id": "32",
   "metadata": {},
   "outputs": [],
   "source": [
    "fig = Figure()\n",
    "ax = Axis(fig[1, 1], xlabel=\"y / kpc\", ylabel=\"z / kpc\",\n",
    "    xgridvisible=false, ygridvisible=false, \n",
    "    aspect=DataAspect(),\n",
    ")\n",
    "plot_x_y_traj!(traj_scl_lmc, label=\"+LMC\", color=:black)\n",
    "\n",
    "fig"
   ]
  },
  {
   "cell_type": "code",
   "execution_count": null,
   "id": "33",
   "metadata": {},
   "outputs": [],
   "source": [
    "fig = Figure()\n",
    "ax = Axis(fig[1, 1], xlabel=\"y / kpc\", ylabel=\"z / kpc\",\n",
    "    xgridvisible=false, ygridvisible=false, \n",
    "    aspect=DataAspect(),\n",
    ")\n",
    "plot_x_y_traj!(traj, label=\"+LMC\", color=COLORS[1])\n",
    "plot_x_y_traj!(traj_no, label=\"V+21 potential\")\n",
    "plot_x_y_traj!(traj_lmc, label=\"LMC\", alpha=1, color=COLORS[2], linewidth=3)\n",
    "\n",
    "axislegend(unique=true)\n",
    "\n",
    "fig"
   ]
  },
  {
   "cell_type": "code",
   "execution_count": null,
   "id": "34",
   "metadata": {},
   "outputs": [],
   "source": []
  }
 ],
 "metadata": {
  "kernelspec": {
   "display_name": "Julia 1.11.1",
   "language": "julia",
   "name": "julia-1.11"
  },
  "language_info": {
   "file_extension": ".jl",
   "mimetype": "application/julia",
   "name": "julia",
   "version": "1.11.1"
  }
 },
 "nbformat": 4,
 "nbformat_minor": 5
}
