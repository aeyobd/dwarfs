{
 "cells": [
  {
   "cell_type": "code",
   "execution_count": null,
   "id": "0",
   "metadata": {},
   "outputs": [],
   "source": [
    "using CairoMakie \n",
    "using Arya\n",
    "\n",
    "using LilGuys"
   ]
  },
  {
   "cell_type": "code",
   "execution_count": null,
   "id": "1",
   "metadata": {},
   "outputs": [],
   "source": [
    "using PythonCall\n",
    "agama = pyimport(\"agama\")"
   ]
  },
  {
   "cell_type": "code",
   "execution_count": null,
   "id": "2",
   "metadata": {},
   "outputs": [],
   "source": [
    "include(\"../../../notebooks/orbits/agama_utils.jl\")"
   ]
  },
  {
   "cell_type": "markdown",
   "id": "3",
   "metadata": {},
   "source": [
    "\n",
    "Min(1) / Min(2) = rho_mean1 * r^3 / rho_mean2 * rh^3"
   ]
  },
  {
   "cell_type": "code",
   "execution_count": null,
   "id": "4",
   "metadata": {},
   "outputs": [],
   "source": [
    "potential_dir = ENV[\"DWARFS_ROOT\"] * \"/agama/potentials/\""
   ]
  },
  {
   "cell_type": "code",
   "execution_count": null,
   "id": "5",
   "metadata": {},
   "outputs": [],
   "source": [
    "readdir(potential_dir )"
   ]
  },
  {
   "cell_type": "code",
   "execution_count": null,
   "id": "6",
   "metadata": {},
   "outputs": [],
   "source": [
    "scl_profile = NFW(r_circ_max=1.84, v_circ_max=25.75/V2KMS)"
   ]
  },
  {
   "cell_type": "code",
   "execution_count": null,
   "id": "7",
   "metadata": {},
   "outputs": [],
   "source": [
    "pot_lmc_2 = agama.Potential(\"$potential_dir/vasiliev24/L2M10/pot/lmc000.ini\")"
   ]
  },
  {
   "cell_type": "code",
   "execution_count": null,
   "id": "8",
   "metadata": {},
   "outputs": [],
   "source": [
    "pot_lmc_3 = agama.Potential(\"$potential_dir/vasiliev24/L3M10/pot/lmc000.ini\")"
   ]
  },
  {
   "cell_type": "code",
   "execution_count": null,
   "id": "9",
   "metadata": {},
   "outputs": [],
   "source": [
    "pot_lmc_1_5 = agama.Potential(\"$potential_dir/vasiliev+21/lmc00.pot\")"
   ]
  },
  {
   "cell_type": "code",
   "execution_count": null,
   "id": "10",
   "metadata": {},
   "outputs": [],
   "source": [
    "pot_MW_9_5 = agama.Potential(\"$potential_dir/vasiliev+21/potential_nolmc.ini\")"
   ]
  },
  {
   "cell_type": "code",
   "execution_count": null,
   "id": "11",
   "metadata": {},
   "outputs": [],
   "source": [
    "pot_MW_10 = agama.Potential(\"$potential_dir/vasiliev24/L2M10/potential_mw_init.ini\")"
   ]
  },
  {
   "cell_type": "code",
   "execution_count": null,
   "id": "12",
   "metadata": {},
   "outputs": [],
   "source": [
    "pot_MW_11 = agama.Potential(\"$potential_dir/vasiliev24/L2M11/potential_mw_init.ini\")"
   ]
  },
  {
   "cell_type": "code",
   "execution_count": null,
   "id": "13",
   "metadata": {},
   "outputs": [],
   "source": [
    "pot_EP = agama.Potential(\"$potential_dir/EP2020.ini\")"
   ]
  },
  {
   "cell_type": "code",
   "execution_count": null,
   "id": "14",
   "metadata": {},
   "outputs": [],
   "source": [
    "function density_axis(gs)\n",
    "    return Axis(gs[1,1],\n",
    "        xlabel=L\"log $r$ / kpc\",\n",
    "        ylabel = L\"$\\log\\,\\bar\\rho / 10^{10}M_\\odot$\\,kpc$^{-3}$\",\n",
    "        )\n",
    "end\n"
   ]
  },
  {
   "cell_type": "code",
   "execution_count": null,
   "id": "15",
   "metadata": {},
   "outputs": [],
   "source": [
    "function calc_ρ_mean(prof::LilGuys.SphericalProfile, r)\n",
    "    y = LilGuys.calc_M.(prof, r)\n",
    "    rho_mean = @. y / (4π/3*r^3)\n",
    "end"
   ]
  },
  {
   "cell_type": "code",
   "execution_count": null,
   "id": "16",
   "metadata": {},
   "outputs": [],
   "source": [
    "function calc_ρ_mean(prof::Py, r; vasiliev_units=false)\n",
    "    rho = prof.enclosedMass(np.array(r))\n",
    "    M = pyconvert(Array{Float64}, rho) \n",
    "    if vasiliev_units\n",
    "        M .*= V_M2MSUN ./ M2MSUN\n",
    "    end\n",
    "\n",
    "    y = @. M / (4π/3 * r^3)\n",
    "end"
   ]
  },
  {
   "cell_type": "code",
   "execution_count": null,
   "id": "17",
   "metadata": {},
   "outputs": [],
   "source": [
    "function plot_ρ_mean!(ax, prof::LilGuys.SphericalProfile)\n",
    "    x = LinRange(-2, 1.5, 1000)\n",
    "    r = 10 .^ x\n",
    "    y = calc_ρ_mean(prof, r,)\n",
    "\n",
    "    lines!(x, log10.(y))\n",
    "end"
   ]
  },
  {
   "cell_type": "code",
   "execution_count": null,
   "id": "18",
   "metadata": {},
   "outputs": [],
   "source": [
    "function plot_acc!(ax, prof::LilGuys.SphericalProfile)\n",
    "    x = LinRange(-2, 1.5, 1000)\n",
    "    r = 10 .^ x\n",
    "    y = LilGuys.calc_Φ.(prof, r)\n",
    "    rho_mean = LilGuys.gradient(y, r)\n",
    "\n",
    "    lines!(x, log10.(rho_mean ./ r))\n",
    "end"
   ]
  },
  {
   "cell_type": "code",
   "execution_count": null,
   "id": "19",
   "metadata": {},
   "outputs": [],
   "source": [
    "np = pyimport(\"numpy\")"
   ]
  },
  {
   "cell_type": "code",
   "execution_count": null,
   "id": "20",
   "metadata": {},
   "outputs": [],
   "source": [
    "function plot_ρ_mean!(ax, prof::Py; xlimits=(-2, 1.5), vasiliev_units=false, kwargs...)\n",
    "    x = LinRange(xlimits[1], xlimits[2], 1000)\n",
    "    r = 10 .^ x\n",
    " \n",
    "    y = calc_ρ_mean(prof, r, vasiliev_units=vasiliev_units)\n",
    "    lines!(x, log10.(y); kwargs...)\n",
    "end"
   ]
  },
  {
   "cell_type": "code",
   "execution_count": null,
   "id": "21",
   "metadata": {},
   "outputs": [],
   "source": [
    "function plot_acc!(ax, prof::Py; xlimits=(-2, 1.5), vasiliev_units=false, kwargs...)\n",
    "    x = LinRange(xlimits[1], xlimits[2], 1000)\n",
    "    r = np.array((10 .^ x) .* [0, 0, 1]')\n",
    "    rho = prof.force(r)\n",
    "    acc = pyconvert(Matrix{Float64}, rho)'\n",
    "    a = calc_r(acc)\n",
    "    r = 10 .^ x\n",
    "    \n",
    "    if vasiliev_units\n",
    "        a .*= (V_M2MSUN ./ M2MSUN) ./ (V_T2GYR ./ T2GYR) .^ 2\n",
    "    end\n",
    "\n",
    "    lines!(x, log10.(a ./ r); kwargs...)\n",
    "end"
   ]
  },
  {
   "cell_type": "code",
   "execution_count": null,
   "id": "22",
   "metadata": {},
   "outputs": [],
   "source": [
    "LilGuys.arcmin_to_kpc(30, 83.2)"
   ]
  },
  {
   "cell_type": "code",
   "execution_count": null,
   "id": "23",
   "metadata": {},
   "outputs": [],
   "source": [
    "sv = 9.6/ V2KMS\n",
    "rh = 0.73\n",
    "dlρ_mean = 0.2\n",
    "ρ_mean = 5/3 * 3*sv^2 / (4π/3 * rh^2)"
   ]
  },
  {
   "cell_type": "code",
   "execution_count": null,
   "id": "24",
   "metadata": {},
   "outputs": [],
   "source": [
    "-0.089*V_T2GYR"
   ]
  },
  {
   "cell_type": "code",
   "execution_count": null,
   "id": "25",
   "metadata": {},
   "outputs": [],
   "source": [
    "50 * V_M2MSUN / M2MSUN * 3 .* (10 .^ (-dlρ_mean), 1, 10 .^ (dlρ_mean))"
   ]
  },
  {
   "cell_type": "code",
   "execution_count": null,
   "id": "26",
   "metadata": {},
   "outputs": [],
   "source": [
    "V_T2GYR"
   ]
  },
  {
   "cell_type": "code",
   "execution_count": null,
   "id": "27",
   "metadata": {},
   "outputs": [],
   "source": [
    "let\n",
    "    fig = Figure()\n",
    "    ax = density_axis(fig[1,1])\n",
    "\n",
    "    plot_ρ_mean!(ax, scl_profile)\n",
    "\n",
    "    hlines!(log10(ρ_mean), color=:black, label=\"Sculptor mean density\")\n",
    "    hspan!(log10(ρ_mean) - dlρ_mean, log10(ρ_mean) + dlρ_mean, color=(:black, 0.1))\n",
    "    vlines!(log10(rh))\n",
    "    axislegend(position=:lb)\n",
    "    fig\n",
    "end"
   ]
  },
  {
   "cell_type": "code",
   "execution_count": null,
   "id": "28",
   "metadata": {},
   "outputs": [],
   "source": [
    "let\n",
    "    fig = Figure()\n",
    "    ax = density_axis(fig[1,1])\n",
    "\n",
    "    plot_acc!(ax, scl_profile)\n",
    "    hlines!(log10.(3sv^2 / rh^2))\n",
    "\n",
    "    fig\n",
    "end"
   ]
  },
  {
   "cell_type": "code",
   "execution_count": null,
   "id": "29",
   "metadata": {},
   "outputs": [],
   "source": [
    "let\n",
    "    fig = Figure()\n",
    "    ax = density_axis(fig[1,1])\n",
    "\n",
    "    plot_ρ_mean!(ax, pot_EP, xlimits=(0, 2), label=\"EP2020\")\n",
    "    plot_ρ_mean!(ax, pot_MW_10, xlimits=(0, 2), vasiliev_units=true, label=\"V24 M=10\")\n",
    "    plot_ρ_mean!(ax, pot_MW_11, xlimits=(0, 2), vasiliev_units=true, label=\"V24, M=11\")\n",
    "\n",
    "    hlines!(log10(ρ_mean/3), color=:black, label=\"1/3 sculptor\")\n",
    "    hspan!(log10(ρ_mean/3) - dlρ_mean, log10(ρ_mean/3) + dlρ_mean, color=(:black, 0.1))\n",
    "\n",
    "    axislegend(position=:lb)\n",
    "    fig\n",
    "end"
   ]
  },
  {
   "cell_type": "code",
   "execution_count": null,
   "id": "30",
   "metadata": {},
   "outputs": [],
   "source": [
    "let\n",
    "    fig = Figure()\n",
    "    ax = Axis(fig[1,1])\n",
    "\n",
    "    plot_acc!(ax, pot_EP, xlimits=(0, 2), vasiliev_units=false, label=\"V+21, M=1.5\")\n",
    "\n",
    "    hlines!(log10.(sv^2 / rh^2))\n",
    "    axislegend(position=:lb)\n",
    "    ax\n",
    "    fig\n",
    "end"
   ]
  },
  {
   "cell_type": "code",
   "execution_count": null,
   "id": "31",
   "metadata": {},
   "outputs": [],
   "source": [
    "let\n",
    "    fig = Figure()\n",
    "    ax = density_axis(fig[1,1])\n",
    "\n",
    "    plot_ρ_mean!(ax, pot_lmc_1_5, xlimits=(-1, 2), vasiliev_units=true, label=\"V+21, M=1.5\")\n",
    "    plot_ρ_mean!(ax, pot_lmc_2, xlimits=(-1, 2), vasiliev_units=true, label=\"V24 M=2\")\n",
    "    plot_ρ_mean!(ax, pot_lmc_3, xlimits=(-1, 2), vasiliev_units=true, label=\"V24, M=3\")\n",
    "\n",
    "    hlines!(log10(ρ_mean/3), color=:black, label=\"1/3 sculptor\")\n",
    "    hspan!(log10(ρ_mean/3) - dlρ_mean, log10(ρ_mean/3) + dlρ_mean, color=(:black, 0.1))\n",
    "\n",
    "    axislegend(position=:lb)\n",
    "    ax\n",
    "    fig\n",
    "end"
   ]
  },
  {
   "cell_type": "code",
   "execution_count": null,
   "id": "32",
   "metadata": {},
   "outputs": [],
   "source": [
    "log10(8.7), log10(1.7/ (8.7^3 * 4π/3))"
   ]
  },
  {
   "cell_type": "code",
   "execution_count": null,
   "id": "33",
   "metadata": {},
   "outputs": [],
   "source": [
    "function calc_rperi_rj(host, satellite; rh=rh, limits=(0, 2), vasiliev_units=false)\n",
    "    x = LinRange(limits[1], limits[2], 1000)\n",
    "\n",
    "    r = 10 .^ x\n",
    "\n",
    "    ρ_mean_host = LilGuys.lerp(r, calc_ρ_mean(host, r, vasiliev_units=vasiliev_units))\n",
    "\n",
    "    r2 = 10 .^ LinRange(-2, 3, 1000)\n",
    "    ρ_mean_sat = LilGuys.lerp(r2, calc_ρ_mean(satellite, r2))\n",
    "\n",
    "    rj = zeros(length(r))\n",
    "\n",
    "    rperi = r\n",
    "    \n",
    "    for i in eachindex(rj)\n",
    "\n",
    "        rr = rperi[i]\n",
    "        rj[i] = LilGuys.find_zero(r -> ρ_mean_sat(r) - 3*ρ_mean_host(rr), 1.)\n",
    "    end\n",
    "\n",
    "    return rperi, rj\n",
    "end\n",
    "\n",
    "    "
   ]
  },
  {
   "cell_type": "code",
   "execution_count": null,
   "id": "34",
   "metadata": {},
   "outputs": [],
   "source": [
    "function plot_rperi_rj!(host, satellite; rh=rh, vasiliev_units=false, kwargs...)\n",
    "    rp, rj = calc_rperi_rj(host, satellite; rh=rh, vasiliev_units=vasiliev_units)\n",
    "\n",
    "    lines!(log10.(rp), log10.(rj); kwargs...)\n",
    "end"
   ]
  },
  {
   "cell_type": "code",
   "execution_count": null,
   "id": "35",
   "metadata": {},
   "outputs": [],
   "source": [
    "fig = Figure()\n",
    "ax = Axis(fig[1,1];\n",
    "    xlabel = \"log pericentre / kpc\",\n",
    "    ylabel = \"log rJ / kpc\",\n",
    ")\n",
    "\n",
    "plot_rperi_rj!(pot_lmc_3, scl_profile, vasiliev_units=true, label=\"LMC host\")\n",
    "plot_rperi_rj!(pot_EP, scl_profile, label=\"Milky Way host\")\n",
    "\n",
    "vspan!(log10.(25), log10(32), label=\"periLMC / kpc\", color=(COLORS[1], 0.2))\n",
    "vspan!(log10.(45), log10(60), label=\"peri MW / kpc\", color=(COLORS[2], 0.2))\n",
    "\n",
    "hlines!(log10(rh), color=:black, label=\"tidal feature\")\n",
    "hspan!(log10(rh) - 0.05/0.25 / log(10), log10(rh) + 0.05/0.25 / log(10), color=(:black, 0.2))\n",
    "axislegend(position=:lt)\n",
    "\n",
    "fig"
   ]
  },
  {
   "cell_type": "code",
   "execution_count": null,
   "id": "36",
   "metadata": {},
   "outputs": [],
   "source": [
    "rp, rj = calc_rperi_rj(pot_EP, scl_profile)"
   ]
  },
  {
   "cell_type": "code",
   "execution_count": null,
   "id": "37",
   "metadata": {},
   "outputs": [],
   "source": [
    "rp[argmin(abs.(rj .- rh))]"
   ]
  },
  {
   "cell_type": "code",
   "execution_count": null,
   "id": "38",
   "metadata": {},
   "outputs": [],
   "source": [
    "rp, rj = calc_rperi_rj(pot_lmc_3, scl_profile, vasiliev_units=true)"
   ]
  },
  {
   "cell_type": "code",
   "execution_count": null,
   "id": "39",
   "metadata": {},
   "outputs": [],
   "source": [
    "rp[argmin(abs.(rj .- rh))]"
   ]
  },
  {
   "cell_type": "code",
   "execution_count": null,
   "id": "40",
   "metadata": {},
   "outputs": [],
   "source": []
  },
  {
   "cell_type": "code",
   "execution_count": null,
   "id": "41",
   "metadata": {},
   "outputs": [],
   "source": [
    "rp, rj = calc_rperi_rj(pot_lmc_2, scl_profile, vasiliev_units=true)"
   ]
  },
  {
   "cell_type": "code",
   "execution_count": null,
   "id": "42",
   "metadata": {},
   "outputs": [],
   "source": [
    "rp[argmin(abs.(rj .- rh))]"
   ]
  },
  {
   "cell_type": "code",
   "execution_count": null,
   "id": "43",
   "metadata": {},
   "outputs": [],
   "source": []
  }
 ],
 "metadata": {
  "kernelspec": {
   "display_name": "Julia 1.11.2",
   "language": "julia",
   "name": "julia-1.11"
  },
  "language_info": {
   "file_extension": ".jl",
   "mimetype": "application/julia",
   "name": "julia",
   "version": "1.11.2"
  }
 },
 "nbformat": 4,
 "nbformat_minor": 5
}
