{
 "cells": [
  {
   "cell_type": "markdown",
   "id": "0",
   "metadata": {},
   "source": [
    "The model in this directory continues to run the model vasiliev24_L3M11_extremeperi in isolation to understand how the system is in or out of equilibrium"
   ]
  },
  {
   "cell_type": "code",
   "execution_count": null,
   "id": "1",
   "metadata": {},
   "outputs": [],
   "source": [
    "using CairoMakie\n",
    "using LilGuys\n",
    "using Arya"
   ]
  },
  {
   "cell_type": "markdown",
   "id": "2",
   "metadata": {},
   "source": [
    "## Verifying vcirc method"
   ]
  },
  {
   "cell_type": "code",
   "execution_count": null,
   "id": "3",
   "metadata": {},
   "outputs": [],
   "source": [
    "snap = Snapshot(\"combined.hdf5/1\")"
   ]
  },
  {
   "cell_type": "code",
   "execution_count": null,
   "id": "4",
   "metadata": {},
   "outputs": [],
   "source": [
    "r = calc_r(snap)\n",
    "v = calc_v(snap)\n",
    "phi = snap.Φs\n",
    "m = snap.masses\n",
    "\n",
    "idx = sortperm(r)\n",
    "r = r[idx]\n",
    "v = v[idx]\n",
    "phi = phi[idx]\n",
    "m = m[idx]"
   ]
  },
  {
   "cell_type": "code",
   "execution_count": null,
   "id": "5",
   "metadata": {},
   "outputs": [],
   "source": [
    "v_circ_all = calc_v_circ.(r, cumsum(m))"
   ]
  },
  {
   "cell_type": "code",
   "execution_count": null,
   "id": "6",
   "metadata": {},
   "outputs": [],
   "source": [
    "phi_1 = LilGuys.calc_radial_discrete_Φ(r, m)\n",
    "eps_1 = -1/2 * v .^ 2 .- phi_1\n",
    "filt_1 = eps_1 .> 0\n",
    "println(sum(.!filt_1))\n",
    "\n",
    "dN = sum(.!filt_1)\n",
    "phi_2 = phi_1\n",
    "while dN > 0\n",
    "    phi_2 = LilGuys.calc_radial_discrete_Φ(r[filt_1], m[filt_1])\n",
    "    eps_2 = -1/2 * v[filt_1] .^ 2 .- phi_2\n",
    "    filt_2 = eps_2 .> 0\n",
    "    println(sum(.!filt_2))\n",
    "    \n",
    "    filt_1[eachindex(r)[filt_1][.!filt_2]] .= false\n",
    "    dN = sum(.!filt_2)\n",
    "end\n"
   ]
  },
  {
   "cell_type": "code",
   "execution_count": null,
   "id": "7",
   "metadata": {},
   "outputs": [],
   "source": [
    "v_circ_bound = calc_v_circ.(r[filt_1], cumsum(m[filt_1]))"
   ]
  },
  {
   "cell_type": "code",
   "execution_count": null,
   "id": "8",
   "metadata": {},
   "outputs": [],
   "source": [
    "LilGuys.get_bound_recursive_1D(snap)"
   ]
  },
  {
   "cell_type": "code",
   "execution_count": null,
   "id": "9",
   "metadata": {},
   "outputs": [],
   "source": [
    "fig = Figure()\n",
    "ax = Axis(fig[1,1], \n",
    "    xlabel = \"log r\",\n",
    "    ylabel = \"log v\",\n",
    "    )\n",
    "\n",
    "skip = 100\n",
    "lines!(log10.(r[1:skip:end]), log10.(v_circ_all[1:skip:end]))\n",
    "lines!(log10.(r[filt_1][1:skip:end]), log10.(v_circ_bound[1:skip:end]))\n",
    "\n",
    "r1, v1, _ = LilGuys.calc_v_circ(snap; skip=skip)\n",
    "lines!(log10.(r1), log10.(v1), linestyle=:dot)\n",
    "\n",
    "\n",
    "r1, v1, _ = LilGuys.calc_v_circ(snap; skip=skip, filter_bound=:simple)\n",
    "lines!(log10.(r1), log10.(v1), linestyle=:dot)\n",
    "\n",
    "\n",
    "r1, v1, _ = LilGuys.calc_v_circ(snap; filter_bound=:false, skip=skip)\n",
    "lines!(log10.(r1), log10.(v1), linestyle=:dot)\n",
    "fig"
   ]
  },
  {
   "cell_type": "code",
   "execution_count": null,
   "id": "10",
   "metadata": {},
   "outputs": [],
   "source": [
    "scatter(phi[1:100:end], phi_1[1:100:end])"
   ]
  },
  {
   "cell_type": "code",
   "execution_count": null,
   "id": "11",
   "metadata": {},
   "outputs": [],
   "source": [
    "scatter(phi[filt_1][1:100:end], phi_2[1:100:end])"
   ]
  },
  {
   "cell_type": "markdown",
   "id": "12",
   "metadata": {},
   "source": [
    "## Profiles"
   ]
  },
  {
   "cell_type": "code",
   "execution_count": null,
   "id": "13",
   "metadata": {},
   "outputs": [],
   "source": [
    "function load_profiles(filename)\n",
    "    profiles = LilGuys.read_structs_from_hdf5(filename, LilGuys.MassProfile3D)\n",
    "\n",
    "\tsnap_idx = parse.(Int, first.(profiles))\n",
    "\n",
    "\tprofiles = last.(profiles)\n",
    "\n",
    "\tprofiles = profiles[sortperm(snap_idx)]\n",
    "\tsnap_idx = sort(snap_idx)\n",
    "\n",
    "    return profiles\n",
    "end"
   ]
  },
  {
   "cell_type": "code",
   "execution_count": null,
   "id": "14",
   "metadata": {},
   "outputs": [],
   "source": [
    "profs_cont = load_profiles(\"profiles.hdf5\");"
   ]
  },
  {
   "cell_type": "code",
   "execution_count": null,
   "id": "15",
   "metadata": {},
   "outputs": [],
   "source": [
    "save = Makie.save"
   ]
  },
  {
   "cell_type": "code",
   "execution_count": null,
   "id": "16",
   "metadata": {},
   "outputs": [],
   "source": [
    "figdir = \"figures\""
   ]
  },
  {
   "cell_type": "code",
   "execution_count": null,
   "id": "17",
   "metadata": {},
   "outputs": [],
   "source": [
    "profs_orbit =  load_profiles(\"../vasiliev24_L3M11_extremeperi/profiles.hdf5\");"
   ]
  },
  {
   "cell_type": "code",
   "execution_count": null,
   "id": "18",
   "metadata": {},
   "outputs": [],
   "source": [
    "profiles = vcat(profs_orbit, profs_cont);"
   ]
  },
  {
   "cell_type": "code",
   "execution_count": null,
   "id": "19",
   "metadata": {},
   "outputs": [],
   "source": [
    "r_max = [f.r_circ_max for f in profiles]\n",
    "v_max = [f.v_circ_max for f in profiles]"
   ]
  },
  {
   "cell_type": "code",
   "execution_count": null,
   "id": "20",
   "metadata": {},
   "outputs": [],
   "source": [
    "prof_i = profiles[1]\n",
    "prof_f = profs_orbit[end]\n",
    "prof_fc = profiles[end]"
   ]
  },
  {
   "cell_type": "code",
   "execution_count": null,
   "id": "21",
   "metadata": {},
   "outputs": [],
   "source": [
    "fig = Figure()\n",
    "ax = Axis(fig[1,1], \n",
    "    xlabel=L\"\\log \\; r_\\textrm{circ}\\ /\\ \\textrm{kpc}\", \n",
    "    ylabel=L\"$v_\\textrm{circ}$ / km s$^{-1}$\",\n",
    "    yscale=log10,\n",
    "    yticks=[1, 10, 20, 30, 40, 50, 60],\n",
    "    yminorticks=[1:9; 10:2:60],\n",
    "    limits=((-1, 2.5), (10, 35)),\n",
    "    xgridvisible=false,\n",
    "    ygridvisible=false\n",
    ")\n",
    "\n",
    "\n",
    "lines!(log10.(prof_i.r_circ), prof_i.v_circ * V2KMS, label=\"initial\")\n",
    "\n",
    "lines!(log10.(prof_f.r_circ), prof_f.v_circ * V2KMS, label=\"final\")\n",
    "lines!(log10.(prof_fc.r_circ), prof_fc.v_circ * V2KMS, label=\"final+iso\")\n",
    "\n",
    "\n",
    "α = 0.4\n",
    "β = 0.65\n",
    "x = LinRange(1, 0.1, 100)\n",
    "\n",
    "y = @. 2^α * x^β * (1 + x^2)^(-α)\n",
    "lines!(log10.(x .* r_max[1]), y .* v_max[1] * V2KMS,  label=\"EN21\",\n",
    "color=:black, linestyle=:dash)\n",
    "\n",
    "scatter!(log10.(r_max), v_max * V2KMS, color=Arya.COLORS[4], label=L\"v_\\textrm{circ,\\ max}\", markersize=3)\n",
    "\n",
    "    \n",
    "axislegend(ax, position=:rt)\n",
    "\n",
    "save(figdir * \"/vcirc_rcirc_cont.pdf\", fig)\n",
    "fig"
   ]
  },
  {
   "cell_type": "code",
   "execution_count": null,
   "id": "22",
   "metadata": {},
   "outputs": [],
   "source": [
    "fig = Figure()\n",
    "ax = Axis(fig[1,1], xlabel=\"time / Gyr\", ylabel=L\"v_\\text{circ} / \\text{km\\,s^{-1}}\",\n",
    "limits=(nothing, (nothing, nothing))\n",
    ")\n",
    "x = [prof.time for prof in profiles]\n",
    "lines!(x*T2GYR, v_max * V2KMS, label=L\"maximum $v_\\text{circ}$\")\n",
    "#scatter!(x, v_h, label=L\"r=r_h\")\n",
    "#axislegend(ax)\n",
    "\n",
    "\n",
    "fig"
   ]
  },
  {
   "cell_type": "markdown",
   "id": "23",
   "metadata": {},
   "source": [
    "![](figures/boundmass.pdf)"
   ]
  },
  {
   "cell_type": "markdown",
   "id": "24",
   "metadata": {},
   "source": [
    "# Summary"
   ]
  },
  {
   "cell_type": "markdown",
   "id": "25",
   "metadata": {},
   "source": [
    "In this model, the stellar component is not as strongly affected as we might expect. \n",
    "Is this because the feature is fully mixed because of the relaxation / dynamical timescales, so the\n",
    "tidal bump just does not occur in inner regions? Do we need higher resolution?\n",
    "One complication is that the LMC does not have stars, and likely passing through the centre means that a DM only \n",
    "simulation causes several limitations\n",
    "\n",
    "- dynamical friction is neglected\n",
    "- captured and lost stars are neglected\n",
    "- do gas clouds affect stellar motions? no?\n",
    "- non-spherical potential in centre (barred irregular galaxy!)\n",
    "\n",
    "Additionally, we may be looking for features where numerical resolution may not be high enough. \n"
   ]
  },
  {
   "cell_type": "code",
   "execution_count": null,
   "id": "26",
   "metadata": {},
   "outputs": [],
   "source": []
  }
 ],
 "metadata": {
  "kernelspec": {
   "display_name": "Julia 1.11.2",
   "language": "julia",
   "name": "julia-1.11"
  },
  "language_info": {
   "file_extension": ".jl",
   "mimetype": "application/julia",
   "name": "julia",
   "version": "1.11.2"
  }
 },
 "nbformat": 4,
 "nbformat_minor": 5
}
