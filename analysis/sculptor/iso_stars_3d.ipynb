{
 "cells": [
  {
   "cell_type": "markdown",
   "id": "0",
   "metadata": {},
   "source": [
    "# Introduction and setup\n",
    "\n",
    "In this notebook, I have code to load in the stellar profiles in 3 dimensions which \n",
    "were previously calculated on the command line so that we can plot quantities such as \n",
    "the 1D velocity dispersion and evolution with time of the mass."
   ]
  },
  {
   "cell_type": "code",
   "execution_count": null,
   "id": "1",
   "metadata": {},
   "outputs": [],
   "source": [
    "using Revise\n",
    "using LilGuys\n",
    "using CairoMakie, Arya"
   ]
  },
  {
   "cell_type": "code",
   "execution_count": null,
   "id": "2",
   "metadata": {},
   "outputs": [],
   "source": [
    "modelsdir = \"/astro/dboyea/dwarfs\""
   ]
  },
  {
   "cell_type": "code",
   "execution_count": null,
   "id": "3",
   "metadata": {},
   "outputs": [],
   "source": [
    "function load_profiles(filename, parampath=nothing; extension=\"stellar_profiles_3d.hdf5\")\n",
    "    path = joinpath(modelsdir, filename, extension)\n",
    "\n",
    "    if parampath === nothing\n",
    "        parampath = joinpath(modelsdir, filename * \"/profile.toml\")\n",
    "    end\n",
    "        \n",
    "    if isfile(parampath)\n",
    "        expected = LilGuys.load_profile(parampath)\n",
    "    else\n",
    "        expected = nothing\n",
    "    end\n",
    "\n",
    "    profs = LilGuys.read_structs_from_hdf5(path, LilGuys.StellarProfile3D)\n",
    "    idxs = parse.(Int, first.(profs))\n",
    "    profs = last.(profs)\n",
    "\n",
    "    s = sortperm(idxs)\n",
    "    return [idxs[i] => profs[i] for i in s ], expected\n",
    "end"
   ]
  },
  {
   "cell_type": "code",
   "execution_count": null,
   "id": "4",
   "metadata": {},
   "outputs": [],
   "source": [
    "function compare_profiles(profiles, expected=nothing; \n",
    "        sequential=false, legend=true, limits=(-1.5, 0.8, -15, 3), \n",
    "        kwargs...\n",
    "    )\n",
    "    \n",
    "    fig = Figure()\n",
    "\n",
    "\tax = Axis(fig[1,1], xlabel=L\"\\log\\, r / \\textrm{kpc}\", ylabel =  L\"\\log\\, \\rho_\\star\\; [10^{10} M_\\odot / \\textrm{kpc}^3]\", \n",
    "\t\tlimits=limits; kwargs...\n",
    "\t\t)\n",
    "\n",
    "    plot_kwargs = Dict{Symbol, Any}()\n",
    "\n",
    "    if sequential\n",
    "        plot_kwargs[:colorrange] = (1, length(profiles))\n",
    "    end\n",
    "    \n",
    "    for i in eachindex(profiles)\n",
    "        label, prof = profiles[i]\n",
    "        x = prof.log_r\n",
    "        y = log10.(prof.rho)\n",
    "        if sequential\n",
    "            plot_kwargs[:color] = i\n",
    "        end\n",
    "\n",
    "    \tlines!(x, y, label=string(label); plot_kwargs...)\n",
    "    end\n",
    "\n",
    "    if expected !== nothing\n",
    "    \tlog_r_pred = LinRange(-2, 2, 1000)\n",
    "    \tρ_s_pred = calc_ρ.(expected, 10 .^ log_r_pred)\n",
    "\n",
    "    \tlines!(log_r_pred, log10.(ρ_s_pred), label=\"expected\", color=\"black\", linestyle=:dot)\n",
    "    end\n",
    "\n",
    "    if legend\n",
    "    \taxislegend(ax, position=:lb)\n",
    "    end \n",
    "    \n",
    "\tfig\n",
    "end"
   ]
  },
  {
   "cell_type": "code",
   "execution_count": null,
   "id": "8",
   "metadata": {},
   "outputs": [],
   "source": [
    "function plot_r_percens(profiles; kwargs...)\n",
    "\tfig = Figure()\n",
    "\tax = Axis(fig[1,1], xlabel=\"time / Gyr\", ylabel=\"log r / kpc containing stellar mass\"; kwargs...)\n",
    "\n",
    "\tq = profiles[1].second.quantiles\n",
    "\tt = [p.second.time for p in profiles] * T2GYR\n",
    "    \n",
    "\tfor i in reverse(eachindex(q))\n",
    "\t\tMq = [log10.(p.second.r_quantile[i]) for p in profiles]\n",
    "        \n",
    "\t\tlines!(t, Mq, color=q[i], colorrange=extrema(q), label=\"$(q[i])\")\n",
    "\tend\n",
    "\n",
    "\tLegend(fig[1, 2], ax, \"quantile\")\n",
    "\tfig\n",
    "end\n",
    "    "
   ]
  },
  {
   "cell_type": "code",
   "execution_count": null,
   "id": "9",
   "metadata": {},
   "outputs": [],
   "source": [
    "\"\"\"\n",
    "    all_plots(profiles[, expected])\n",
    "\n",
    "Given the profiles object, this function displayes the plots\n",
    "for the profiles and r percentiles for each timestep in the profile\n",
    "\n",
    "\"\"\"\n",
    "function all_plots(profiles, expected=nothing; prof_limits=(-2, 1, -15, 3), title=\"\")\n",
    "   display(compare_profiles(profiles, expected, \n",
    "            sequential=true, legend=false, title=title, limits=prof_limits,\n",
    "        )\n",
    "    )\n",
    "    \n",
    "    display(plot_r_percens(profiles, title=title))\n",
    "\n",
    "    display(plot_v_t(profiles, title=title))\n",
    "\n",
    "end"
   ]
  },
  {
   "cell_type": "markdown",
   "id": "10",
   "metadata": {},
   "source": [
    "# 1e6 Halos"
   ]
  },
  {
   "cell_type": "markdown",
   "id": "11",
   "metadata": {},
   "source": [
    "##  V31 5.9"
   ]
  },
  {
   "cell_type": "code",
   "execution_count": null,
   "id": "12",
   "metadata": {},
   "outputs": [],
   "source": [
    "model = \"analysis/sculptor/1e6_V31_r5.9/stars/\""
   ]
  },
  {
   "cell_type": "code",
   "execution_count": null,
   "id": "13",
   "metadata": {},
   "outputs": [],
   "source": [
    "profs, expected = load_profiles(joinpath(model, \"exp2d_rs0.13\"));"
   ]
  },
  {
   "cell_type": "code",
   "execution_count": null,
   "id": "14",
   "metadata": {},
   "outputs": [],
   "source": [
    "all_plots(profs, expected)"
   ]
  },
  {
   "cell_type": "code",
   "execution_count": null,
   "id": "15",
   "metadata": {},
   "outputs": [],
   "source": [
    "profs, expected = load_profiles(joinpath(model, \"exp2d_rs0.10\"));"
   ]
  },
  {
   "cell_type": "code",
   "execution_count": null,
   "id": "16",
   "metadata": {},
   "outputs": [],
   "source": [
    "all_plots(profs, expected)"
   ]
  },
  {
   "cell_type": "code",
   "execution_count": null,
   "id": "17",
   "metadata": {},
   "outputs": [],
   "source": [
    "all_plots(profs, expected)"
   ]
  },
  {
   "cell_type": "code",
   "execution_count": null,
   "id": "18",
   "metadata": {},
   "outputs": [],
   "source": [
    "profs, expected = load_profiles(joinpath(model, \"exp2d_rs0.07\"));"
   ]
  },
  {
   "cell_type": "code",
   "execution_count": null,
   "id": "19",
   "metadata": {},
   "outputs": [],
   "source": [
    "all_plots(profs, expected)"
   ]
  },
  {
   "cell_type": "markdown",
   "id": "20",
   "metadata": {
    "jp-MarkdownHeadingCollapsed": true
   },
   "source": [
    "## V31 r4.2"
   ]
  },
  {
   "cell_type": "code",
   "execution_count": null,
   "id": "21",
   "metadata": {},
   "outputs": [],
   "source": [
    "model = \"analysis/sculptor/1e6_V31_r4.2/stars/\""
   ]
  },
  {
   "cell_type": "markdown",
   "id": "22",
   "metadata": {},
   "source": [
    "### Exp2d rs0.13"
   ]
  },
  {
   "cell_type": "code",
   "execution_count": null,
   "id": "23",
   "metadata": {},
   "outputs": [],
   "source": [
    "profs, expected = load_profiles(joinpath(model, \"exp2d_rs0.13\"));"
   ]
  },
  {
   "cell_type": "code",
   "execution_count": null,
   "id": "24",
   "metadata": {},
   "outputs": [],
   "source": [
    "all_plots(profs, expected)"
   ]
  },
  {
   "cell_type": "markdown",
   "id": "25",
   "metadata": {},
   "source": [
    "### Plummer"
   ]
  },
  {
   "cell_type": "code",
   "execution_count": null,
   "id": "26",
   "metadata": {},
   "outputs": [],
   "source": [
    "profs, expected = load_profiles(joinpath(model, \"plummer_rs0.20\"));"
   ]
  },
  {
   "cell_type": "code",
   "execution_count": null,
   "id": "27",
   "metadata": {},
   "outputs": [],
   "source": [
    "all_plots(profs, expected)"
   ]
  },
  {
   "cell_type": "markdown",
   "id": "28",
   "metadata": {
    "jp-MarkdownHeadingCollapsed": true
   },
   "source": [
    "## V40 r5.9"
   ]
  },
  {
   "cell_type": "code",
   "execution_count": null,
   "id": "29",
   "metadata": {},
   "outputs": [],
   "source": [
    "model = \"analysis/sculptor/1e6_V40_r5.9/stars/\""
   ]
  },
  {
   "cell_type": "code",
   "execution_count": null,
   "id": "30",
   "metadata": {},
   "outputs": [],
   "source": [
    "profs, expected = load_profiles(joinpath(model, \"exp2d_rs0.10\"));"
   ]
  },
  {
   "cell_type": "code",
   "execution_count": null,
   "id": "31",
   "metadata": {},
   "outputs": [],
   "source": [
    "all_plots(profs, expected)"
   ]
  },
  {
   "cell_type": "code",
   "execution_count": null,
   "id": "32",
   "metadata": {},
   "outputs": [],
   "source": [
    "profs, expected = load_profiles(joinpath(model, \"exp2d_rs0.07\"));"
   ]
  },
  {
   "cell_type": "code",
   "execution_count": null,
   "id": "33",
   "metadata": {},
   "outputs": [],
   "source": [
    "all_plots(profs, expected)"
   ]
  },
  {
   "cell_type": "markdown",
   "id": "34",
   "metadata": {},
   "source": [
    "### Rs = 0.05"
   ]
  },
  {
   "cell_type": "code",
   "execution_count": null,
   "id": "35",
   "metadata": {},
   "outputs": [],
   "source": [
    "ana_profs, _ = load_profiles(joinpath(model, \"ana_stars/exp2d_rs0.10\"));"
   ]
  },
  {
   "cell_type": "code",
   "execution_count": null,
   "id": "36",
   "metadata": {},
   "outputs": [],
   "source": [
    "profs, expected = load_profiles(joinpath(model, \"stars/exp2d_rs0.10\"));"
   ]
  },
  {
   "cell_type": "code",
   "execution_count": null,
   "id": "37",
   "metadata": {},
   "outputs": [],
   "source": [
    "profs_o, _ = load_profiles(joinpath(model, \"stars_old/exp2d_rs0.10\"));"
   ]
  },
  {
   "cell_type": "code",
   "execution_count": null,
   "id": "38",
   "metadata": {},
   "outputs": [],
   "source": [
    "all_profs_end = [\n",
    "    \"emperical\" => profs_o[end].second,\n",
    "    \"abs(emperical)\" => pos_profs[end].second,\n",
    "    \"analytic\" => ana_profs[end].second,\n",
    "    ];"
   ]
  },
  {
   "cell_type": "code",
   "execution_count": null,
   "id": "39",
   "metadata": {},
   "outputs": [],
   "source": [
    "compare_profiles(all_profs_end, expected, title=\"Rs=0.05\")"
   ]
  },
  {
   "cell_type": "code",
   "execution_count": null,
   "id": "40",
   "metadata": {},
   "outputs": [],
   "source": [
    "compare_v_t(all_profs, times_Gyr)\n"
   ]
  },
  {
   "cell_type": "code",
   "execution_count": null,
   "id": "41",
   "metadata": {},
   "outputs": [],
   "source": [
    "plot_r_percens(old_profs, times_Gyr)"
   ]
  },
  {
   "cell_type": "code",
   "execution_count": null,
   "id": "42",
   "metadata": {},
   "outputs": [],
   "source": [
    "plot_r_percens(profs, idxs)"
   ]
  },
  {
   "cell_type": "code",
   "execution_count": null,
   "id": "43",
   "metadata": {},
   "outputs": [],
   "source": [
    "plot_r_percens(ana_profs, ana_idxs)"
   ]
  },
  {
   "cell_type": "markdown",
   "id": "44",
   "metadata": {},
   "source": [
    "### Rs = 0.30"
   ]
  },
  {
   "cell_type": "code",
   "execution_count": null,
   "id": "45",
   "metadata": {},
   "outputs": [],
   "source": [
    "ana_profs, _ = load_profiles(joinpath(model, \"stars_ana/exp2d_rs0.20\"));"
   ]
  },
  {
   "cell_type": "code",
   "execution_count": null,
   "id": "46",
   "metadata": {},
   "outputs": [],
   "source": [
    "plot_r_percens(ana_profs)"
   ]
  },
  {
   "cell_type": "markdown",
   "id": "47",
   "metadata": {},
   "source": [
    "## V31 r3.2"
   ]
  },
  {
   "cell_type": "code",
   "execution_count": null,
   "id": "48",
   "metadata": {},
   "outputs": [],
   "source": [
    "model = \"analysis/sculptor/1e6_V31_r3.2/stars/\""
   ]
  },
  {
   "cell_type": "code",
   "execution_count": null,
   "id": "49",
   "metadata": {},
   "outputs": [],
   "source": [
    "profs, expected = load_profiles(joinpath(model, \"exp2d_rs0.13\"));"
   ]
  },
  {
   "cell_type": "code",
   "execution_count": null,
   "id": "50",
   "metadata": {},
   "outputs": [],
   "source": [
    "all_plots(profs, expected)"
   ]
  },
  {
   "cell_type": "code",
   "execution_count": null,
   "id": "51",
   "metadata": {},
   "outputs": [],
   "source": [
    "profs, expected = load_profiles(joinpath(model, \"exp2d_rs0.10\"));"
   ]
  },
  {
   "cell_type": "code",
   "execution_count": null,
   "id": "52",
   "metadata": {},
   "outputs": [],
   "source": [
    "all_plots(profs, expected)"
   ]
  },
  {
   "cell_type": "code",
   "execution_count": null,
   "id": "53",
   "metadata": {},
   "outputs": [],
   "source": [
    "compact_profs, expected = load_profiles(joinpath(model, \"exp2d_rs0.05\"));"
   ]
  },
  {
   "cell_type": "code",
   "execution_count": null,
   "id": "54",
   "metadata": {},
   "outputs": [],
   "source": [
    "all_plots(compact_profs, expected)"
   ]
  },
  {
   "cell_type": "code",
   "execution_count": null,
   "id": "55",
   "metadata": {},
   "outputs": [],
   "source": [
    "profs, expected = load_profiles(joinpath(model, \"king_rs0.10\"));"
   ]
  },
  {
   "cell_type": "code",
   "execution_count": null,
   "id": "56",
   "metadata": {},
   "outputs": [],
   "source": [
    "expected.R_s, expected.R_t"
   ]
  },
  {
   "cell_type": "code",
   "execution_count": null,
   "id": "57",
   "metadata": {},
   "outputs": [],
   "source": [
    "all_plots(profs, expected)"
   ]
  },
  {
   "cell_type": "code",
   "execution_count": null,
   "id": "58",
   "metadata": {},
   "outputs": [],
   "source": [
    "profs, expected = load_profiles(joinpath(model, \"plummer_rs0.15\"));"
   ]
  },
  {
   "cell_type": "code",
   "execution_count": null,
   "id": "59",
   "metadata": {},
   "outputs": [],
   "source": [
    "all_plots(profs, expected)"
   ]
  },
  {
   "cell_type": "code",
   "execution_count": null,
   "id": "60",
   "metadata": {},
   "outputs": [],
   "source": [
    "all_profs = [\n",
    "    \"fiducial\" => profs,\n",
    "    \"compact\"  => compact_profs\n",
    "    ];"
   ]
  },
  {
   "cell_type": "code",
   "execution_count": null,
   "id": "61",
   "metadata": {},
   "outputs": [],
   "source": [
    "compare_v_t(all_profs)"
   ]
  },
  {
   "cell_type": "code",
   "execution_count": null,
   "id": "62",
   "metadata": {},
   "outputs": [],
   "source": [
    "all_profs_end = [\n",
    "    \"fiducial\" => profs[end].second,\n",
    "    \"compact\"  => compact_profs[end].second,\n",
    "    ];"
   ]
  },
  {
   "cell_type": "markdown",
   "id": "63",
   "metadata": {},
   "source": [
    "# 1e7 Particle Halos"
   ]
  },
  {
   "cell_type": "markdown",
   "id": "64",
   "metadata": {},
   "source": [
    "## compact halo"
   ]
  },
  {
   "cell_type": "code",
   "execution_count": null,
   "id": "65",
   "metadata": {},
   "outputs": [],
   "source": [
    "model = \"analysis/sculptor/1e7_V31_r3.2/stars/\""
   ]
  },
  {
   "cell_type": "markdown",
   "id": "66",
   "metadata": {
    "jp-MarkdownHeadingCollapsed": true
   },
   "source": [
    "### Exp2d rs 0.10"
   ]
  },
  {
   "cell_type": "code",
   "execution_count": null,
   "id": "67",
   "metadata": {},
   "outputs": [],
   "source": [
    "profs, expected = load_profiles(joinpath(model, \"exp2d_rs0.10\"));\n",
    "label = L\"1e7, Exp2D($R_s=0.10$ kpc)\""
   ]
  },
  {
   "cell_type": "code",
   "execution_count": null,
   "id": "68",
   "metadata": {},
   "outputs": [],
   "source": [
    "all_plots(profs, expected, title=label)"
   ]
  },
  {
   "cell_type": "markdown",
   "id": "69",
   "metadata": {
    "jp-MarkdownHeadingCollapsed": true
   },
   "source": [
    "### Exp2d rs0.08"
   ]
  },
  {
   "cell_type": "code",
   "execution_count": null,
   "id": "70",
   "metadata": {},
   "outputs": [],
   "source": [
    "profs, expected = load_profiles(joinpath(model, \"exp2d_rs0.08\"));\n",
    "label = L\"1e7, Exp2D($R_s=0.08$ kpc)\""
   ]
  },
  {
   "cell_type": "code",
   "execution_count": null,
   "id": "71",
   "metadata": {},
   "outputs": [],
   "source": [
    "all_plots(profs, expected, title=label)"
   ]
  },
  {
   "cell_type": "markdown",
   "id": "72",
   "metadata": {
    "jp-MarkdownHeadingCollapsed": true
   },
   "source": [
    "### Exp 2d rs 0.05"
   ]
  },
  {
   "cell_type": "code",
   "execution_count": null,
   "id": "73",
   "metadata": {},
   "outputs": [],
   "source": [
    "profs, expected = load_profiles(joinpath(model, \"exp2d_rs0.05\"));\n",
    "\n",
    "label = L\"1e7, Exp2D($R_s=0.05$ kpc)\"\n",
    "expected"
   ]
  },
  {
   "cell_type": "code",
   "execution_count": null,
   "id": "74",
   "metadata": {},
   "outputs": [],
   "source": [
    "all_plots(profs, expected, title=label)"
   ]
  },
  {
   "cell_type": "markdown",
   "id": "75",
   "metadata": {
    "jp-MarkdownHeadingCollapsed": true
   },
   "source": [
    "### King"
   ]
  },
  {
   "cell_type": "code",
   "execution_count": null,
   "id": "76",
   "metadata": {},
   "outputs": [],
   "source": [
    "profs, expected = load_profiles(joinpath(model, \"king_rs0.10\"));\n",
    "label = L\"1e7, King($R_s=0.1,\\ R_t=0.5$ kpc)\""
   ]
  },
  {
   "cell_type": "code",
   "execution_count": null,
   "id": "77",
   "metadata": {},
   "outputs": [],
   "source": [
    "all_plots(profs, expected, title=label, prof_limits=(-2, 0, -5, 3))"
   ]
  },
  {
   "cell_type": "markdown",
   "id": "78",
   "metadata": {
    "jp-MarkdownHeadingCollapsed": true
   },
   "source": [
    "### Plummer"
   ]
  },
  {
   "cell_type": "code",
   "execution_count": null,
   "id": "79",
   "metadata": {},
   "outputs": [],
   "source": [
    "profs, expected = load_profiles(joinpath(model, \"plummer_rs0.20\"));\n",
    "label = L\"1e7, Plummer($R_s=0.2$ kpc)\""
   ]
  },
  {
   "cell_type": "code",
   "execution_count": null,
   "id": "80",
   "metadata": {},
   "outputs": [],
   "source": [
    "all_plots(profs, expected, title=label, prof_limits=(-2, 0, -5, 3))"
   ]
  },
  {
   "cell_type": "code",
   "execution_count": null,
   "id": "81",
   "metadata": {},
   "outputs": [],
   "source": []
  }
 ],
 "metadata": {
  "kernelspec": {
   "display_name": "Julia 1.11.5",
   "language": "julia",
   "name": "julia-1.11"
  },
  "language_info": {
   "file_extension": ".jl",
   "mimetype": "application/julia",
   "name": "julia",
   "version": "1.11.5"
  }
 },
 "nbformat": 4,
 "nbformat_minor": 5
}
