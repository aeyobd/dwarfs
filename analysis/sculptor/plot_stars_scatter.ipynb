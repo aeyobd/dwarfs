{
 "cells": [
  {
   "cell_type": "code",
   "execution_count": null,
   "id": "0",
   "metadata": {},
   "outputs": [],
   "source": [
    "\n",
    "using Revise\n",
    "using CairoMakie\n",
    "\n",
    "import LilGuys as lguys\n",
    "using Arya"
   ]
  },
  {
   "cell_type": "code",
   "execution_count": null,
   "id": "1",
   "metadata": {},
   "outputs": [],
   "source": [
    "function load_snap(snappath, starspath)\n",
    "    snap = lguys.Snapshot(snappath)\n",
    "    stars = lguys.read_hdf5_table(starspath)\n",
    "    lguys.add_stars!(snap, stars.index, stars.probability)\n",
    "    return snap\n",
    "end"
   ]
  },
  {
   "cell_type": "code",
   "execution_count": null,
   "id": "2",
   "metadata": {},
   "outputs": [],
   "source": [
    "modeldir = ENV[\"DWARFS_ROOT\"] * \"/analysis/sculptor/1e6_V31_r3.2/stars/\""
   ]
  },
  {
   "cell_type": "code",
   "execution_count": null,
   "id": "3",
   "metadata": {},
   "outputs": [],
   "source": [
    "simdir = ENV[\"DWARFS_ROOT\"] * \"/simulations/sculptor/1e6_V31_r3.2/\""
   ]
  },
  {
   "cell_type": "code",
   "execution_count": null,
   "id": "4",
   "metadata": {},
   "outputs": [],
   "source": [
    "readdir(modeldir * \"exp2d_rs0.10\")"
   ]
  },
  {
   "cell_type": "code",
   "execution_count": null,
   "id": "5",
   "metadata": {},
   "outputs": [],
   "source": [
    "function plot_snap(snap, limits=(-5, 5, -5, 5), centre = true, Nb=100)\n",
    "\tfig = Figure(size=(700, 700))\n",
    "\tr_max = 100\n",
    "\n",
    "    if limits isa Real\n",
    "        limits = (-1, 1, -1, 1) .* limits\n",
    "    end\n",
    "    println(limits)\n",
    "\n",
    "    if centre\n",
    "        x = snap.positions[1, :] .- snap.x_cen[1]\n",
    "        y = snap.positions[2, :] .- snap.x_cen[2]\n",
    "    end\n",
    "    \n",
    "\tps = snap.weights\n",
    "    \n",
    "\tbins = LinRange(limits[1], limits[2], Nb), LinRange(limits[3], limits[4], Nb)\n",
    "\n",
    "\th = Arya.histogram2d(x, y, bins, weights=ps)\n",
    "\tcmax = maximum(h.values)\n",
    "\tkwargs = (colorscale=log10, colorrange=(1e-10*cmax, cmax), weights=ps, bins=bins)\n",
    "\n",
    "\t\n",
    "\tax_yz = Axis(fig[1,1], aspect=1,\n",
    "\t\txlabel = \"x / kpc\", ylabel=\"y / kpc\",\n",
    "\t)\n",
    "    \n",
    "\thm = Arya.hist2d!(ax_yz, x, y; kwargs...)\n",
    "    fig\n",
    "end"
   ]
  },
  {
   "cell_type": "code",
   "execution_count": null,
   "id": "6",
   "metadata": {},
   "outputs": [],
   "source": [
    "stars.index"
   ]
  },
  {
   "cell_type": "code",
   "execution_count": null,
   "id": "7",
   "metadata": {},
   "outputs": [],
   "source": [
    "snap1 = load_snap(modeldir * \"iso_initial.hdf5\", modeldir * \"exp2d_rs0.10/probabilities_stars.hdf5\")"
   ]
  },
  {
   "cell_type": "code",
   "execution_count": null,
   "id": "8",
   "metadata": {},
   "outputs": [],
   "source": [
    "prof_ii = lguys.StellarProfile(snap1)"
   ]
  },
  {
   "cell_type": "code",
   "execution_count": null,
   "id": "9",
   "metadata": {},
   "outputs": [],
   "source": [
    "plot_snap(snap1)"
   ]
  },
  {
   "cell_type": "code",
   "execution_count": null,
   "id": "10",
   "metadata": {},
   "outputs": [],
   "source": [
    "snap_if = load_snap(simdir * \"isolation.hdf5\", modeldir * \"exp2d_rs0.10/probabilities_stars.hdf5\")"
   ]
  },
  {
   "cell_type": "code",
   "execution_count": null,
   "id": "11",
   "metadata": {},
   "outputs": [],
   "source": [
    "prof_if = lguys.StellarProfile(snap_if)"
   ]
  },
  {
   "cell_type": "code",
   "execution_count": null,
   "id": "12",
   "metadata": {},
   "outputs": [],
   "source": [
    "plot_snap(snap_if)"
   ]
  },
  {
   "cell_type": "code",
   "execution_count": null,
   "id": "13",
   "metadata": {},
   "outputs": [],
   "source": [
    "snap1 = load_snap(modeldir * \"../orbit1/combined.hdf5/1\", modeldir * \"exp2d_rs0.10/probabilities_stars.hdf5\")"
   ]
  },
  {
   "cell_type": "code",
   "execution_count": null,
   "id": "14",
   "metadata": {},
   "outputs": [],
   "source": [
    "plot_snap(snap1)"
   ]
  },
  {
   "cell_type": "code",
   "execution_count": null,
   "id": "15",
   "metadata": {},
   "outputs": [],
   "source": []
  }
 ],
 "metadata": {
  "kernelspec": {
   "display_name": "Julia 1.11.1",
   "language": "julia",
   "name": "julia-1.11"
  },
  "language_info": {
   "file_extension": ".jl",
   "mimetype": "application/julia",
   "name": "julia",
   "version": "1.11.1"
  }
 },
 "nbformat": 4,
 "nbformat_minor": 5
}
