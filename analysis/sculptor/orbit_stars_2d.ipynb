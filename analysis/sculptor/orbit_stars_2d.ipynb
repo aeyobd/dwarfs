{
 "cells": [
  {
   "cell_type": "code",
   "execution_count": 1,
   "id": "0",
   "metadata": {},
   "outputs": [],
   "source": [
    "using CairoMakie\n",
    "\n",
    "import LilGuys as lguys\n",
    "using Arya\n",
    "using LilGuys"
   ]
  },
  {
   "cell_type": "code",
   "execution_count": 2,
   "id": "1",
   "metadata": {},
   "outputs": [
    {
     "data": {
      "text/plain": [
       "sigma_axis (generic function with 1 method)"
      ]
     },
     "execution_count": 2,
     "metadata": {},
     "output_type": "execute_result"
    }
   ],
   "source": [
    "function sigma_axis(gp; limits=(-1, 2, -2, 2.5), kwargs...) \n",
    "\tax = Axis(gp, \n",
    "\t\txlabel=log_r_label,\n",
    "\t\tylabel = log_sigma_label,\n",
    "        limits=limits\n",
    "\t\t;kwargs...\n",
    "\t)\n",
    "\n",
    "\treturn  ax\n",
    "end"
   ]
  },
  {
   "cell_type": "code",
   "execution_count": 3,
   "id": "2",
   "metadata": {},
   "outputs": [
    {
     "data": {
      "text/plain": [
       "load_profiles (generic function with 1 method)"
      ]
     },
     "execution_count": 3,
     "metadata": {},
     "output_type": "execute_result"
    }
   ],
   "source": [
    "function load_profiles(modelname, starsname; extension=\"stellar_profiles.hdf5\")\n",
    "    path = joinpath(modelsdir, modelname, \"stars\", starsname, extension)\n",
    "\n",
    "    parampath = joinpath(modelsdir, modelname, \"../stars\", starsname, \"profile.toml\")\n",
    "        \n",
    "    if isfile(parampath)\n",
    "        expected = LilGuys.load_profile(parampath)\n",
    "    else\n",
    "        @warn \"$parampath not found\"\n",
    "        expected = nothing\n",
    "    end\n",
    "\n",
    "    profs = LilGuys.read_structs_from_hdf5(path, LilGuys.StellarProfile)\n",
    "    idxs = parse.(Int, first.(profs))\n",
    "    profs = last.(profs)\n",
    "\n",
    "    s = sortperm(idxs)\n",
    "    return [idxs[i] => profs[i] for i in s ], expected\n",
    "end"
   ]
  },
  {
   "cell_type": "code",
   "execution_count": 4,
   "id": "3",
   "metadata": {},
   "outputs": [
    {
     "data": {
      "text/plain": [
       "compare_profiles (generic function with 2 methods)"
      ]
     },
     "execution_count": 4,
     "metadata": {},
     "output_type": "execute_result"
    }
   ],
   "source": [
    "function compare_profiles(profiles, expected=nothing; \n",
    "        sequential=false, legend=true, limits=(-2.5, 1.0, -6, 3), \n",
    "        skip=1,\n",
    "        kwargs...\n",
    "    )\n",
    "    \n",
    "    fig = Figure()\n",
    "\tax = sigma_axis(fig[1, 1]; limits=limits, kwargs...)\n",
    "\n",
    "    plot_kwargs = Dict{Symbol, Any}()\n",
    "\n",
    "    if sequential\n",
    "        if profiles[1].second.time !== NaN\n",
    "            has_time = true\n",
    "            plot_kwargs[:colorrange] = (profiles[1].second.time * T2GYR, profiles[end].second.time * T2GYR)\n",
    "        else\n",
    "            \n",
    "            plot_kwargs[:colorrange] = (1, length(profiles))\n",
    "            has_time = false\n",
    "        end\n",
    "        \n",
    "    end\n",
    "\n",
    "    local p\n",
    "    \n",
    "    for i in eachindex(profiles)[1:skip:end]\n",
    "        label, prof = profiles[i]\n",
    "        x = prof.log_r\n",
    "        y = prof.log_Sigma\n",
    "        if sequential\n",
    "            if has_time\n",
    "                plot_kwargs[:color] = prof.time * T2GYR\n",
    "            else\n",
    "                plot_kwargs[:color] = i\n",
    "            end\n",
    "            \n",
    "        end\n",
    "\n",
    "    \tp = lines!(x, y, label=string(label); plot_kwargs...)\n",
    "    end\n",
    "\n",
    "    if expected !== nothing\n",
    "    \tlog_r_pred = LinRange(-2, 2, 1000)\n",
    "    \tρ_s_pred = lguys.calc_Σ.(expected, 10 .^ log_r_pred)\n",
    "\n",
    "    \tlines!(log_r_pred, log10.(ρ_s_pred), label=\"expected\", color=\"black\", linestyle=:dot)\n",
    "    end\n",
    "\n",
    "    if legend\n",
    "    \taxislegend(ax, position=:lb)\n",
    "    end \n",
    "    if sequential\n",
    "        if has_time \n",
    "            label = \"time / Gyr\"\n",
    "        else\n",
    "            label = \"snapshot\"\n",
    "        end\n",
    "        \n",
    "        Colorbar(fig[1,2], colorrange=plot_kwargs[:colorrange], label=label)\n",
    "    end\n",
    "    \n",
    "\tfig\n",
    "end"
   ]
  },
  {
   "cell_type": "code",
   "execution_count": 5,
   "id": "4",
   "metadata": {},
   "outputs": [
    {
     "data": {
      "text/plain": [
       "plot_v_t! (generic function with 1 method)"
      ]
     },
     "execution_count": 5,
     "metadata": {},
     "output_type": "execute_result"
    }
   ],
   "source": [
    "function plot_v_t!(profiles; kwargs...)\n",
    "\tsigmas = [p.second.sigma_vx for p in profiles]\n",
    "\n",
    "    t = [p.second.time for p in profiles] \n",
    "\tscatterlines!(t * T2GYR, sigmas * V2KMS; kwargs...)\n",
    "end"
   ]
  },
  {
   "cell_type": "code",
   "execution_count": 6,
   "id": "5",
   "metadata": {},
   "outputs": [
    {
     "data": {
      "text/plain": [
       "plot_v_t (generic function with 1 method)"
      ]
     },
     "execution_count": 6,
     "metadata": {},
     "output_type": "execute_result"
    }
   ],
   "source": [
    "function plot_v_t(profiles; kwargs...)\n",
    "\tfig, ax = FigAxis(\n",
    "\t\txlabel = \"time / Gyr\",\n",
    "\t\tylabel = L\"\\sigma_v / \\textrm{km s^{-1}}\";\n",
    "        kwargs...\n",
    "\t)\n",
    "\n",
    "    plot_v_t!(profiles)\n",
    "\n",
    "    fig\n",
    "end\n",
    "    "
   ]
  },
  {
   "cell_type": "code",
   "execution_count": 7,
   "id": "6",
   "metadata": {},
   "outputs": [
    {
     "data": {
      "text/plain": [
       "compare_v_t (generic function with 1 method)"
      ]
     },
     "execution_count": 7,
     "metadata": {},
     "output_type": "execute_result"
    }
   ],
   "source": [
    "function compare_v_t(profilesi)\n",
    "\tfig, ax = FigAxis(\n",
    "\t\txlabel = \"time / Gyr\",\n",
    "\t\tylabel = L\"\\sigma_v / \\textrm{km s^{-1}}\",\n",
    "\t)\n",
    "\n",
    "\n",
    "    for i in eachindex(profilesi)\n",
    "        label, profiles = profilesi[i]\n",
    "\n",
    "        kwargs = Dict{Symbol, Any}()\n",
    "        kwargs[:label] = label\n",
    "  \n",
    "        plot_v_t!(profiles; kwargs...)\n",
    "    end\n",
    "\n",
    "    axislegend()\n",
    "\tfig\n",
    "end"
   ]
  },
  {
   "cell_type": "code",
   "execution_count": 8,
   "id": "7",
   "metadata": {},
   "outputs": [
    {
     "data": {
      "text/plain": [
       "plot_r_percens (generic function with 1 method)"
      ]
     },
     "execution_count": 8,
     "metadata": {},
     "output_type": "execute_result"
    }
   ],
   "source": [
    "function plot_r_percens(profiles; kwargs...)\n",
    "\tfig = Figure()\n",
    "\tax = Axis(fig[1,1], xlabel=\"time / Gyr\", ylabel=\"log r / kpc containing stellar mass\"; kwargs...)\n",
    "\n",
    "\tq = profiles[1].second.quantiles\n",
    "\tt = [p.second.time for p in profiles] * T2GYR\n",
    "    \n",
    "\tfor i in reverse(eachindex(q))\n",
    "\t\tMq = [log10.(p.second.r_quantile[i]) for p in profiles]\n",
    "        \n",
    "\t\tlines!(t, Mq, color=q[i], colorrange=extrema(q), label=\"$(q[i])\")\n",
    "\tend\n",
    "\n",
    "\tLegend(fig[1, 2], ax, \"quantile\")\n",
    "\tfig\n",
    "end\n",
    "    "
   ]
  },
  {
   "cell_type": "code",
   "execution_count": 9,
   "id": "8",
   "metadata": {},
   "outputs": [
    {
     "data": {
      "text/plain": [
       "all_plots"
      ]
     },
     "execution_count": 9,
     "metadata": {},
     "output_type": "execute_result"
    }
   ],
   "source": [
    "\"\"\"\n",
    "    all_plots(profiles[, expected])\n",
    "\n",
    "Given the profiles object, this function displayes the plots\n",
    "for the profiles and r percentiles for each timestep in the profile\n",
    "\n",
    "\"\"\"\n",
    "function all_plots(profiles, expected=nothing; prof_limits=(-2, 1, -15, 3), title=\"\")\n",
    "   display(compare_profiles(profiles, expected, \n",
    "            sequential=true, legend=false, title=title, limits=prof_limits,\n",
    "        )\n",
    "    )\n",
    "    \n",
    "    display(plot_r_percens(profiles, title=title))\n",
    "\n",
    "    display(plot_v_t(profiles, title=title))\n",
    "\n",
    "end"
   ]
  },
  {
   "cell_type": "code",
   "execution_count": 10,
   "id": "9",
   "metadata": {},
   "outputs": [
    {
     "ename": "LoadError",
     "evalue": "UndefVarError: `StellarProfile` not defined in `LilGuys`\nSuggestion: check for spelling errors or missing imports.",
     "output_type": "error",
     "traceback": [
      "UndefVarError: `StellarProfile` not defined in `LilGuys`\nSuggestion: check for spelling errors or missing imports.",
      "",
      "Stacktrace:",
      " [1] \u001b[0m\u001b[1mgetproperty\u001b[22m\u001b[0m\u001b[1m(\u001b[22m\u001b[90mx\u001b[39m::\u001b[0mModule, \u001b[90mf\u001b[39m::\u001b[0mSymbol\u001b[0m\u001b[1m)\u001b[22m",
      "\u001b[90m   @\u001b[39m \u001b[90mBase\u001b[39m \u001b[90m./\u001b[39m\u001b[90m\u001b[4mBase.jl:42\u001b[24m\u001b[39m",
      " [2] top-level scope",
      "\u001b[90m   @\u001b[39m \u001b[90m\u001b[4mIn[10]:1\u001b[24m\u001b[39m"
     ]
    }
   ],
   "source": [
    "prof_expected = lguys.StellarProfile(\"/astro/dboyea/dwarfs/observations/sculptor/processed/fiducial_sample_profile.toml\");"
   ]
  },
  {
   "cell_type": "code",
   "execution_count": 11,
   "id": "10",
   "metadata": {},
   "outputs": [
    {
     "data": {
      "text/plain": [
       "\"log r / kpc\""
      ]
     },
     "execution_count": 11,
     "metadata": {},
     "output_type": "execute_result"
    }
   ],
   "source": [
    "log_r_label = \"log r / kpc\""
   ]
  },
  {
   "cell_type": "code",
   "execution_count": 12,
   "id": "11",
   "metadata": {},
   "outputs": [
    {
     "data": {
      "text/latex": [
       "$\\log \\Sigma$ / N\\,kpc$^{-2}$"
      ],
      "text/plain": [
       "L\"$\\log \\Sigma$ / N\\,kpc$^{-2}$\""
      ]
     },
     "execution_count": 12,
     "metadata": {},
     "output_type": "execute_result"
    }
   ],
   "source": [
    "log_sigma_label = L\"$\\log \\Sigma$ / N\\,kpc$^{-2}$\""
   ]
  },
  {
   "cell_type": "code",
   "execution_count": 13,
   "id": "12",
   "metadata": {},
   "outputs": [
    {
     "data": {
      "text/plain": [
       "\"/cosma/home/durham/dc-boye1/data/dwarfs/analysis/\""
      ]
     },
     "execution_count": 13,
     "metadata": {},
     "output_type": "execute_result"
    }
   ],
   "source": [
    "modelsdir = ENV[\"DWARFS_ROOT\"] * \"/analysis/\""
   ]
  },
  {
   "cell_type": "code",
   "execution_count": 14,
   "id": "13",
   "metadata": {},
   "outputs": [
    {
     "ename": "LoadError",
     "evalue": "UndefVarError: `StellarProfile` not defined in `LilGuys`\nSuggestion: check for spelling errors or missing imports.",
     "output_type": "error",
     "traceback": [
      "UndefVarError: `StellarProfile` not defined in `LilGuys`\nSuggestion: check for spelling errors or missing imports.",
      "",
      "Stacktrace:",
      " [1] \u001b[0m\u001b[1mgetproperty\u001b[22m\u001b[0m\u001b[1m(\u001b[22m\u001b[90mx\u001b[39m::\u001b[0mModule, \u001b[90mf\u001b[39m::\u001b[0mSymbol\u001b[0m\u001b[1m)\u001b[22m",
      "\u001b[90m   @\u001b[39m \u001b[90mBase\u001b[39m \u001b[90m./\u001b[39m\u001b[90m\u001b[4mBase.jl:42\u001b[24m\u001b[39m",
      " [2] top-level scope",
      "\u001b[90m   @\u001b[39m \u001b[90m\u001b[4mIn[14]:1\u001b[24m\u001b[39m"
     ]
    }
   ],
   "source": [
    "prof_expected = LilGuys.StellarProfile(\"/astro/dboyea/dwarfs/observations/sculptor/processed/fiducial_sample_profile.toml\");"
   ]
  },
  {
   "cell_type": "code",
   "execution_count": 15,
   "id": "14",
   "metadata": {},
   "outputs": [
    {
     "ename": "LoadError",
     "evalue": "UndefVarError: `arcmin_to_kpc` not defined in `LilGuys`\nSuggestion: check for spelling errors or missing imports.",
     "output_type": "error",
     "traceback": [
      "UndefVarError: `arcmin_to_kpc` not defined in `LilGuys`\nSuggestion: check for spelling errors or missing imports.",
      "",
      "Stacktrace:",
      " [1] \u001b[0m\u001b[1mgetproperty\u001b[22m\u001b[0m\u001b[1m(\u001b[22m\u001b[90mx\u001b[39m::\u001b[0mModule, \u001b[90mf\u001b[39m::\u001b[0mSymbol\u001b[0m\u001b[1m)\u001b[22m",
      "\u001b[90m   @\u001b[39m \u001b[90mBase\u001b[39m \u001b[90m./\u001b[39m\u001b[90m\u001b[4mBase.jl:42\u001b[24m\u001b[39m",
      " [2] top-level scope",
      "\u001b[90m   @\u001b[39m \u001b[90m\u001b[4mIn[15]:1\u001b[24m\u001b[39m"
     ]
    }
   ],
   "source": [
    "LilGuys.arcmin_to_kpc(1, 1)"
   ]
  },
  {
   "cell_type": "code",
   "execution_count": 16,
   "id": "15",
   "metadata": {},
   "outputs": [
    {
     "ename": "LoadError",
     "evalue": "UndefVarError: `arcmin_to_kpc` not defined in `LilGuys`\nSuggestion: check for spelling errors or missing imports.",
     "output_type": "error",
     "traceback": [
      "UndefVarError: `arcmin_to_kpc` not defined in `LilGuys`\nSuggestion: check for spelling errors or missing imports.",
      "",
      "Stacktrace:",
      " [1] \u001b[0m\u001b[1mgetproperty\u001b[22m\u001b[0m\u001b[1m(\u001b[22m\u001b[90mx\u001b[39m::\u001b[0mModule, \u001b[90mf\u001b[39m::\u001b[0mSymbol\u001b[0m\u001b[1m)\u001b[22m",
      "\u001b[90m   @\u001b[39m \u001b[90mBase\u001b[39m \u001b[90m./\u001b[39m\u001b[90m\u001b[4mBase.jl:42\u001b[24m\u001b[39m",
      " [2] top-level scope",
      "\u001b[90m   @\u001b[39m \u001b[90m\u001b[4mIn[16]:1\u001b[24m\u001b[39m"
     ]
    }
   ],
   "source": [
    "log10(LilGuys.arcmin_to_kpc(10^1.9, 83.2))"
   ]
  },
  {
   "cell_type": "code",
   "execution_count": 17,
   "id": "16",
   "metadata": {},
   "outputs": [
    {
     "ename": "LoadError",
     "evalue": "UndefVarError: `prof_expected` not defined in `Main`\nSuggestion: check for spelling errors or missing imports.",
     "output_type": "error",
     "traceback": [
      "UndefVarError: `prof_expected` not defined in `Main`\nSuggestion: check for spelling errors or missing imports.",
      "",
      "Stacktrace:",
      " [1] top-level scope",
      "\u001b[90m   @\u001b[39m \u001b[90m\u001b[4mIn[17]:1\u001b[24m\u001b[39m"
     ]
    }
   ],
   "source": [
    "expected_r_kpc = prof_expected.log_r .+ log10(0.0002908882086657216 * 83.2)"
   ]
  },
  {
   "cell_type": "markdown",
   "id": "17",
   "metadata": {},
   "source": [
    "## V=32, r=5.9 (the initial model)"
   ]
  },
  {
   "cell_type": "code",
   "execution_count": null,
   "id": "18",
   "metadata": {},
   "outputs": [],
   "source": [
    "models = []"
   ]
  },
  {
   "cell_type": "code",
   "execution_count": null,
   "id": "19",
   "metadata": {},
   "outputs": [],
   "source": [
    "readdir(joinpath(modelsdir, \"sculptor/1e6_V31_r3.2/orbit1/stars/exp2d_rs0.10\"))"
   ]
  },
  {
   "cell_type": "code",
   "execution_count": 18,
   "id": "20",
   "metadata": {},
   "outputs": [
    {
     "name": "stderr",
     "output_type": "stream",
     "text": [
      "\u001b[33m\u001b[1m┌ \u001b[22m\u001b[39m\u001b[33m\u001b[1mWarning: \u001b[22m\u001b[39m/cosma/home/durham/dc-boye1/data/dwarfs/analysis/sculptor/1e6_V31_r3.2/../stars/exp2d_rs0.10/profile.toml not found\n",
      "\u001b[33m\u001b[1m└ \u001b[22m\u001b[39m\u001b[90m@ Main In[3]:9\u001b[39m\n"
     ]
    },
    {
     "ename": "LoadError",
     "evalue": "UndefVarError: `StellarProfile` not defined in `LilGuys`\nSuggestion: check for spelling errors or missing imports.",
     "output_type": "error",
     "traceback": [
      "UndefVarError: `StellarProfile` not defined in `LilGuys`\nSuggestion: check for spelling errors or missing imports.",
      "",
      "Stacktrace:",
      " [1] \u001b[0m\u001b[1mload_profiles\u001b[22m\u001b[0m\u001b[1m(\u001b[22m\u001b[90mmodelname\u001b[39m::\u001b[0mString, \u001b[90mstarsname\u001b[39m::\u001b[0mString; \u001b[90mextension\u001b[39m::\u001b[0mString\u001b[0m\u001b[1m)\u001b[22m",
      "\u001b[90m   @\u001b[39m \u001b[35mMain\u001b[39m \u001b[90m./\u001b[39m\u001b[90m\u001b[4mIn[3]:13\u001b[24m\u001b[39m",
      " [2] \u001b[0m\u001b[1mload_profiles\u001b[22m\u001b[0m\u001b[1m(\u001b[22m\u001b[90mmodelname\u001b[39m::\u001b[0mString, \u001b[90mstarsname\u001b[39m::\u001b[0mString\u001b[0m\u001b[1m)\u001b[22m",
      "\u001b[90m   @\u001b[39m \u001b[35mMain\u001b[39m \u001b[90m./\u001b[39m\u001b[90m\u001b[4mIn[3]:1\u001b[24m\u001b[39m",
      " [3] top-level scope",
      "\u001b[90m   @\u001b[39m \u001b[90m\u001b[4mIn[18]:1\u001b[24m\u001b[39m"
     ]
    }
   ],
   "source": [
    "profs, expected = load_profiles(\"sculptor/1e6_V31_r3.2/\", \"exp2d_rs0.10\");\n"
   ]
  },
  {
   "cell_type": "code",
   "execution_count": 19,
   "id": "21",
   "metadata": {},
   "outputs": [
    {
     "ename": "LoadError",
     "evalue": "UndefVarError: `profs` not defined in `Main`\nSuggestion: check for spelling errors or missing imports.",
     "output_type": "error",
     "traceback": [
      "UndefVarError: `profs` not defined in `Main`\nSuggestion: check for spelling errors or missing imports.",
      "",
      "Stacktrace:",
      " [1] top-level scope",
      "\u001b[90m   @\u001b[39m \u001b[90m\u001b[4mIn[19]:1\u001b[24m\u001b[39m"
     ]
    }
   ],
   "source": [
    "compare_profiles(profs, expected, sequential=true, legend=false)"
   ]
  },
  {
   "cell_type": "code",
   "execution_count": null,
   "id": "22",
   "metadata": {},
   "outputs": [],
   "source": [
    "profs, expected = load_profiles(\"sculptor/1e6_V31_r3.2/\", \"plummer_rs0.15\");\n"
   ]
  },
  {
   "cell_type": "code",
   "execution_count": null,
   "id": "23",
   "metadata": {},
   "outputs": [],
   "source": [
    "compare_profiles(profs, expected, sequential=true, legend=false)"
   ]
  },
  {
   "cell_type": "code",
   "execution_count": null,
   "id": "24",
   "metadata": {},
   "outputs": [],
   "source": [
    "profs, expected = load_profiles(\"sculptor/1e6_V31_r3.2/orbit1\", \"exp2d_rs0.10\");\n"
   ]
  },
  {
   "cell_type": "markdown",
   "id": "25",
   "metadata": {},
   "source": [
    "Fiducial ish model"
   ]
  },
  {
   "cell_type": "code",
   "execution_count": null,
   "id": "26",
   "metadata": {},
   "outputs": [],
   "source": [
    "profs, expected = load_profiles(\"sculptor/1e6_V31_r3.2/orbit_mean\", \"exp2d_rs0.10\");\n"
   ]
  },
  {
   "cell_type": "code",
   "execution_count": null,
   "id": "27",
   "metadata": {},
   "outputs": [],
   "source": [
    "compare_profiles(profs, expected, sequential=true, legend=false)"
   ]
  },
  {
   "cell_type": "code",
   "execution_count": null,
   "id": "28",
   "metadata": {},
   "outputs": [],
   "source": [
    "profs, expected = load_profiles(\"sculptor/1e6_V31_r3.2/vasiliev+21_heavylmc_smallperilmc\", \"exp2d_rs0.13\");\n"
   ]
  },
  {
   "cell_type": "code",
   "execution_count": null,
   "id": "29",
   "metadata": {},
   "outputs": [],
   "source": [
    "compare_profiles(profs, expected, sequential=true, legend=false)"
   ]
  },
  {
   "cell_type": "code",
   "execution_count": null,
   "id": "30",
   "metadata": {},
   "outputs": [],
   "source": []
  },
  {
   "cell_type": "code",
   "execution_count": null,
   "id": "31",
   "metadata": {},
   "outputs": [],
   "source": [
    "profs, expected = load_profiles(\"sculptor/1e6_V31_r3.2/vasiliev+21_heavylmc\", \"exp2d_rs0.13\");\n"
   ]
  },
  {
   "cell_type": "code",
   "execution_count": null,
   "id": "32",
   "metadata": {},
   "outputs": [],
   "source": [
    "compare_profiles(profs, expected, sequential=true, legend=false)"
   ]
  },
  {
   "cell_type": "code",
   "execution_count": null,
   "id": "33",
   "metadata": {},
   "outputs": [],
   "source": [
    "profs, expected = load_profiles(\"sculptor/1e6_V31_r3.2/vasiliev24_L3M11_smallperi/\", \"exp2d_rs0.13\");\n"
   ]
  },
  {
   "cell_type": "code",
   "execution_count": null,
   "id": "34",
   "metadata": {},
   "outputs": [],
   "source": [
    "compare_profiles(profs, expected, sequential=true, legend=false, skip=10, limits=(-2, 1, -7, 2))"
   ]
  },
  {
   "cell_type": "markdown",
   "id": "35",
   "metadata": {},
   "source": [
    "## Hello    "
   ]
  },
  {
   "cell_type": "code",
   "execution_count": null,
   "id": "36",
   "metadata": {},
   "outputs": [],
   "source": [
    "profs, expected = load_profiles(\"sculptor/1e6_V31_r3.2/vasiliev24_L3M11_extremeperi/\", \"exp2d_rs0.13\");\n"
   ]
  },
  {
   "cell_type": "code",
   "execution_count": null,
   "id": "37",
   "metadata": {},
   "outputs": [],
   "source": [
    "fig = compare_profiles(profs, expected, sequential=true, legend=false, skip=1, limits=(-2, 1, -15, 1.5))\n"
   ]
  },
  {
   "cell_type": "code",
   "execution_count": null,
   "id": "38",
   "metadata": {},
   "outputs": [],
   "source": [
    "profs[1].second.time"
   ]
  },
  {
   "cell_type": "code",
   "execution_count": null,
   "id": "39",
   "metadata": {},
   "outputs": [],
   "source": [
    "fig = Figure()\n",
    "ax = Axis(fig[1,1])\n",
    "\n",
    "prof = profs[1].second\n",
    "lines!(prof.log_r, prof.log_Sigma)\n",
    "\n",
    "\n",
    "prof = profs[end].second\n",
    "lines!(prof.log_r, prof.log_Sigma)\n",
    "\n",
    "prof = profs[10].second\n",
    "lines!(prof.log_r, prof.log_Sigma)\n",
    "\n",
    "x = prof.log_r\n",
    "expec = lguys.Exp2D(R_s=0.13)\n",
    "y = log10.(lguys.calc_Σ.(expected, 10 .^ x))\n",
    "lines!(x, y)\n",
    "\n",
    "\n",
    "fig"
   ]
  },
  {
   "cell_type": "code",
   "execution_count": null,
   "id": "40",
   "metadata": {},
   "outputs": [],
   "source": [
    "(profs[end].second.counts[profs[end].second.log_r .< -0.3])"
   ]
  },
  {
   "cell_type": "code",
   "execution_count": null,
   "id": "41",
   "metadata": {},
   "outputs": [],
   "source": [
    "fig = compare_profiles(profs[end-8:end], expected, sequential=true, legend=false, skip=1, limits=(-2, 0.5, -3, 1.5))\n",
    "errscatter!(expected_r_kpc, prof_expected.log_Sigma .- 0.55,\n",
    "\t\tyerr=prof_expected.log_Sigma_err,\n",
    "\t\tlabel=\"J+24\",\n",
    "\t\tcolor=:black\n",
    "\t)\n",
    "\n",
    "fig"
   ]
  },
  {
   "cell_type": "code",
   "execution_count": null,
   "id": "42",
   "metadata": {},
   "outputs": [],
   "source": [
    "for i in eachindex(profs)[2:end]\n",
    "    fig = compare_profiles(profs[1:i], expected, sequential=true, legend=false, skip=1, limits=(-2, 0.5, -3, 1.5))\n",
    "\n",
    "    display(fig)\n",
    "end"
   ]
  },
  {
   "cell_type": "code",
   "execution_count": null,
   "id": "43",
   "metadata": {},
   "outputs": [],
   "source": [
    "prof_i = profs[1].second"
   ]
  },
  {
   "cell_type": "code",
   "execution_count": null,
   "id": "44",
   "metadata": {},
   "outputs": [],
   "source": [
    "prof_i.t_"
   ]
  },
  {
   "cell_type": "code",
   "execution_count": null,
   "id": "45",
   "metadata": {},
   "outputs": [],
   "source": [
    "profs, expected = load_profiles(\"sculptor/1e6_V31_r3.2/vasiliev24_L3M11_extremeperi/\", \"exp2d_rs0.13\");\n"
   ]
  },
  {
   "cell_type": "code",
   "execution_count": null,
   "id": "46",
   "metadata": {},
   "outputs": [],
   "source": [
    "fig = compare_profiles(profs, expected, sequential=true, legend=false, skip=1, limits=(-2, 1, -15, 1.5))\n"
   ]
  },
  {
   "cell_type": "code",
   "execution_count": null,
   "id": "47",
   "metadata": {},
   "outputs": [],
   "source": [
    "profs[1].second.time"
   ]
  },
  {
   "cell_type": "code",
   "execution_count": null,
   "id": "48",
   "metadata": {},
   "outputs": [],
   "source": [
    "fig = Figure()\n",
    "ax = Axis(fig[1,1])\n",
    "\n",
    "prof = profs[1].second\n",
    "lines!(prof.log_r, prof.log_Sigma)\n",
    "\n",
    "\n",
    "prof = profs[end].second\n",
    "lines!(prof.log_r, prof.log_Sigma)\n",
    "\n",
    "prof = profs[10].second\n",
    "lines!(prof.log_r, prof.log_Sigma)\n",
    "\n",
    "x = prof.log_r\n",
    "expec = lguys.Exp2D(R_s=0.13)\n",
    "y = log10.(lguys.calc_Σ.(expected, 10 .^ x))\n",
    "lines!(x, y)\n",
    "\n",
    "\n",
    "fig"
   ]
  },
  {
   "cell_type": "code",
   "execution_count": null,
   "id": "49",
   "metadata": {},
   "outputs": [],
   "source": [
    "(profs[end].second.counts[profs[end].second.log_r .< -0.3])"
   ]
  },
  {
   "cell_type": "code",
   "execution_count": null,
   "id": "50",
   "metadata": {},
   "outputs": [],
   "source": [
    "fig = compare_profiles(profs[end-8:end], expected, sequential=true, legend=false, skip=1, limits=(-2, 0.5, -3, 1.5))\n",
    "errscatter!(expected_r_kpc, prof_expected.log_Sigma .- 0.25,\n",
    "\t\tyerr=prof_expected.log_Sigma_err,\n",
    "\t\tlabel=\"J+24\",\n",
    "\t\tcolor=:black\n",
    "\t)\n",
    "\n",
    "fig"
   ]
  },
  {
   "cell_type": "code",
   "execution_count": null,
   "id": "51",
   "metadata": {},
   "outputs": [],
   "source": [
    "for i in eachindex(profs)[2:end]\n",
    "    fig = compare_profiles(profs[1:i], expected, sequential=true, legend=false, skip=1, limits=(-2, 0.5, -3, 1.5))\n",
    "\n",
    "    display(fig)\n",
    "end"
   ]
  },
  {
   "cell_type": "code",
   "execution_count": null,
   "id": "52",
   "metadata": {},
   "outputs": [],
   "source": [
    "prof_i = profs[1].second"
   ]
  },
  {
   "cell_type": "code",
   "execution_count": null,
   "id": "53",
   "metadata": {},
   "outputs": [],
   "source": [
    "prof_i.t_"
   ]
  }
 ],
 "metadata": {
  "kernelspec": {
   "display_name": "Julia 1.11.5",
   "language": "julia",
   "name": "julia-1.11"
  },
  "language_info": {
   "file_extension": ".jl",
   "mimetype": "application/julia",
   "name": "julia",
   "version": "1.11.5"
  }
 },
 "nbformat": 4,
 "nbformat_minor": 5
}
