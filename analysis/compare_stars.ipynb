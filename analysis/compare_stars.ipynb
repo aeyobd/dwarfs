{
 "cells": [
  {
   "cell_type": "code",
   "execution_count": null,
   "id": "0",
   "metadata": {},
   "outputs": [],
   "source": [
    "using CairoMakie\n",
    "\n",
    "import LilGuys as lguys\n",
    "using Arya"
   ]
  },
  {
   "cell_type": "code",
   "execution_count": null,
   "id": "1",
   "metadata": {},
   "outputs": [],
   "source": [
    "function sigma_axis(; kwargs...) \n",
    "\tfig = Figure()\n",
    "\tax = Axis(fig[1,1], \n",
    "\t\txlabel=log_r_label,\n",
    "\t\tylabel = L\"\\log \\Sigma\\ / \\textrm{(fraction/arcmin^2)}\"\n",
    "\t\t;kwargs...\n",
    "\t)\n",
    "\n",
    "\treturn fig, ax\n",
    "end"
   ]
  },
  {
   "cell_type": "code",
   "execution_count": null,
   "id": "2",
   "metadata": {},
   "outputs": [],
   "source": [
    "prof_expected = lguys.StellarProfile(\"/astro/dboyea/sculptor/fiducial_sample_profile.toml\");"
   ]
  },
  {
   "cell_type": "code",
   "execution_count": null,
   "id": "3",
   "metadata": {},
   "outputs": [],
   "source": [
    "log_r_label = \"log r / arcmin\""
   ]
  },
  {
   "cell_type": "code",
   "execution_count": null,
   "id": "4",
   "metadata": {},
   "outputs": [],
   "source": [
    "distance = 81"
   ]
  },
  {
   "cell_type": "code",
   "execution_count": null,
   "id": "5",
   "metadata": {},
   "outputs": [],
   "source": [
    "function plot_finals(models, labels)\n",
    "    \n",
    "    fig = Figure()\n",
    "\tax = Axis(fig[1,1], \n",
    "\t\txlabel=log_r_label,\n",
    "\t\tylabel = L\"\\log \\Sigma\\ / \\textrm{(fraction/arcmin^2)}\",\n",
    "\t\tlimits=((-1, 2.5), (-5, 1)),\n",
    "\t\txgridvisible=false,\n",
    "\t\tygridvisible=false\n",
    "\t)\n",
    "\n",
    "\terrscatter!(prof_expected.log_r, prof_expected.log_Sigma,\n",
    "\t\tyerr=prof_expected.log_Sigma_err,\n",
    "\t\tcolor=:black,\n",
    "        label=\"J+24\",\n",
    "\t)\n",
    "\n",
    "    for i in eachindex(models)\n",
    "    \tlines!(models[i].log_r, models[i].log_Sigma, \n",
    "    \t\t\tlabel=labels[i])\n",
    "    end\n",
    "\n",
    "\taxislegend()\n",
    "\n",
    "\tfig\n",
    "end"
   ]
  },
  {
   "cell_type": "code",
   "execution_count": null,
   "id": "6",
   "metadata": {},
   "outputs": [],
   "source": [
    "function plot_ini_fin(prof_i, prof_f, model)\n",
    "    \n",
    "    fig = Figure()\n",
    "\tax = Axis(fig[1,1], \n",
    "\t\txlabel=log_r_label,\n",
    "\t\tylabel = L\"\\log \\Sigma\\ / \\textrm{(fraction/arcmin^2)}\",\n",
    "\t\tlimits=((-1, 2.5), (-5, 1)),\n",
    "\t\txgridvisible=false,\n",
    "\t\tygridvisible=false\n",
    "\t)\n",
    "\n",
    "\terrscatter!(prof_expected.log_r, prof_expected.log_Sigma,\n",
    "\t\tyerr=prof_expected.log_Sigma_err,\n",
    "\t\tcolor=:black,\n",
    "        label=\"J+24\",\n",
    "\t)\n",
    "\n",
    "    lines!(prof_i.log_r, prof_i.log_Sigma, \n",
    "            label=\"initial\")\n",
    "\n",
    "    lines!(prof_f.log_r, prof_f.log_Sigma, \n",
    "            label=\"final\")\n",
    "\n",
    "    x = LinRange(-2, 2.5, 1000)\n",
    "    r = 10 .^ x\n",
    "    y = lguys.calc_Σ.(model, r)\n",
    "\n",
    "    r_scale = lguys.kpc_to_arcmin(1, distance)\n",
    "\n",
    "    x = x .+ log10(r_scale)\n",
    "    y ./= y[1]\n",
    "\n",
    "    lines!(x, log10.(y), linestyle=:dot, color=:black, label=\"expected\")\n",
    "\taxislegend()\n",
    "\n",
    "\tfig\n",
    "end"
   ]
  },
  {
   "cell_type": "code",
   "execution_count": null,
   "id": "7",
   "metadata": {},
   "outputs": [],
   "source": [
    "using Measurements"
   ]
  },
  {
   "cell_type": "code",
   "execution_count": null,
   "id": "8",
   "metadata": {},
   "outputs": [],
   "source": [
    "function get_log_Σ_0(prof, χ2_max=1)\n",
    "    log_r = prof.log_r\n",
    "\n",
    "    @assert issorted(log_r)\n",
    "    local log_Σ_0, log_Σ_0_err\n",
    "    \n",
    "    for i in eachindex(log_r)\n",
    "        filt = 1:i\n",
    "        log_Σ_0 = lguys.mean(prof.log_Sigma[filt] .± prof.log_Sigma_err[filt])\n",
    "        log_Σ_0_err = Measurements.uncertainty.(log_Σ_0)\n",
    "        log_Σ_0 = Measurements.value(log_Σ_0)\n",
    "        χ2 = @. (log_Σ_0 - prof.log_Sigma)^2 / (prof.log_Sigma_err + log_Σ_0_err)^2\n",
    "\n",
    "        χ2_norm = lguys.mean(χ2[filt])\n",
    "\n",
    "        if χ2_norm .> χ2_max\n",
    "            @info \"max radius of $(log_r[i])\"\n",
    "            break\n",
    "        end\n",
    "    end\n",
    "    \n",
    "    return log_Σ_0, log_Σ_0_err\n",
    "end"
   ]
  },
  {
   "cell_type": "code",
   "execution_count": null,
   "id": "9",
   "metadata": {},
   "outputs": [],
   "source": [
    "get_log_Σ_0(profiles[1])"
   ]
  },
  {
   "cell_type": "code",
   "execution_count": null,
   "id": "10",
   "metadata": {},
   "outputs": [],
   "source": [
    "function get_normalization(prof_f, prof_expected=prof_expected)\n",
    "    log_Σ_0_obs, _ = get_log_Σ_0(prof_expected)\n",
    "    log_Σ_0, _ = get_log_Σ_0(prof_f)\n",
    "\n",
    "    return log_Σ_0_obs - log_Σ_0\n",
    "end"
   ]
  },
  {
   "cell_type": "markdown",
   "id": "11",
   "metadata": {},
   "source": [
    "## V=32, r=5.9 (the initial model)"
   ]
  },
  {
   "cell_type": "code",
   "execution_count": null,
   "id": "12",
   "metadata": {},
   "outputs": [],
   "source": [
    "model_dir = \"/astro/dboyea/sculptor/orbits/orbit1/1e6_V32_r5.4/stars/\"\n",
    "stars_dir = \"/astro/dboyea/sculptor/isolation/1e6/fiducial/stars_ana/\""
   ]
  },
  {
   "cell_type": "code",
   "execution_count": null,
   "id": "13",
   "metadata": {},
   "outputs": [],
   "source": [
    "models = [\n",
    "    \"exp2d_rs0.07\",\n",
    "    \"exp2d_rs0.10\",\n",
    "    \"exp2d_rs0.20\",\n",
    "]"
   ]
  },
  {
   "cell_type": "code",
   "execution_count": null,
   "id": "14",
   "metadata": {},
   "outputs": [],
   "source": [
    "names_i = [model_dir] .* models .* [\"_i_profile.toml\"]\n",
    "names_f = [model_dir] .* models .* [\"_profile.toml\"]\n",
    "names_profiles = [stars_dir] .* models .* [\".toml\"]"
   ]
  },
  {
   "cell_type": "code",
   "execution_count": null,
   "id": "15",
   "metadata": {},
   "outputs": [],
   "source": [
    "profiles = lguys.StellarProfile.(names_f);\n",
    "profiles_i = lguys.StellarProfile.(names_i);"
   ]
  },
  {
   "cell_type": "code",
   "execution_count": null,
   "id": "16",
   "metadata": {},
   "outputs": [],
   "source": [
    "profile_an = lguys.StellarProfile(\"/astro/dboyea/dwarfs/notebooks/anake_test_profile.toml\");"
   ]
  },
  {
   "cell_type": "code",
   "execution_count": null,
   "id": "17",
   "metadata": {},
   "outputs": [],
   "source": [
    "expected = lguys.load_profile.( names_profiles)"
   ]
  },
  {
   "cell_type": "code",
   "execution_count": null,
   "id": "18",
   "metadata": {},
   "outputs": [],
   "source": [
    "plot_finals([profiles; profile_an], [models; \"ananke\"])"
   ]
  },
  {
   "cell_type": "code",
   "execution_count": null,
   "id": "19",
   "metadata": {},
   "outputs": [],
   "source": [
    "plot_finals(profiles_i, models)"
   ]
  },
  {
   "cell_type": "code",
   "execution_count": null,
   "id": "20",
   "metadata": {},
   "outputs": [],
   "source": [
    "i = 1\n",
    "plot_ini_fin(profiles_i[i], profiles[i], expected[i])"
   ]
  },
  {
   "cell_type": "markdown",
   "id": "21",
   "metadata": {},
   "source": [
    "### King profiles"
   ]
  },
  {
   "cell_type": "code",
   "execution_count": null,
   "id": "22",
   "metadata": {},
   "outputs": [],
   "source": [
    "models = [\n",
    "    \"king_rs0.10\",\n",
    "    \"king_rs0.15\",\n",
    "]"
   ]
  },
  {
   "cell_type": "code",
   "execution_count": null,
   "id": "23",
   "metadata": {},
   "outputs": [],
   "source": [
    "names_i = [model_dir] .* models .* [\"_1_profile.toml\"]\n",
    "names_f = [model_dir] .* models .* [\"_profile.toml\"]\n",
    "names_profiles = [stars_dir] .* models .* [\".toml\"]"
   ]
  },
  {
   "cell_type": "code",
   "execution_count": null,
   "id": "24",
   "metadata": {},
   "outputs": [],
   "source": [
    "profiles = lguys.StellarProfile.(names_f);\n",
    "profiles_i = lguys.StellarProfile.(names_i);"
   ]
  },
  {
   "cell_type": "code",
   "execution_count": null,
   "id": "25",
   "metadata": {},
   "outputs": [],
   "source": [
    "expected = lguys.load_profile.( names_profiles)"
   ]
  },
  {
   "cell_type": "code",
   "execution_count": null,
   "id": "26",
   "metadata": {},
   "outputs": [],
   "source": [
    "plot_finals(profiles, models)"
   ]
  },
  {
   "cell_type": "code",
   "execution_count": null,
   "id": "27",
   "metadata": {},
   "outputs": [],
   "source": [
    "plot_finals(profiles_i, models)"
   ]
  },
  {
   "cell_type": "code",
   "execution_count": null,
   "id": "28",
   "metadata": {},
   "outputs": [],
   "source": [
    "expected[2].R_t"
   ]
  },
  {
   "cell_type": "code",
   "execution_count": null,
   "id": "29",
   "metadata": {},
   "outputs": [],
   "source": [
    "lguys.kpc_to_arcmin(0.75, 81)"
   ]
  },
  {
   "cell_type": "code",
   "execution_count": null,
   "id": "30",
   "metadata": {},
   "outputs": [],
   "source": [
    "log10(31)"
   ]
  },
  {
   "cell_type": "markdown",
   "id": "31",
   "metadata": {},
   "source": [
    "# Orbit studies"
   ]
  },
  {
   "cell_type": "markdown",
   "id": "32",
   "metadata": {},
   "source": [
    "## V=32, r=2.4"
   ]
  },
  {
   "cell_type": "code",
   "execution_count": null,
   "id": "33",
   "metadata": {},
   "outputs": [],
   "source": [
    "models = [\n",
    "    \"exp2d_rs0.10\",\n",
    "]"
   ]
  },
  {
   "cell_type": "code",
   "execution_count": null,
   "id": "34",
   "metadata": {},
   "outputs": [],
   "source": [
    "model_dir = \"/astro/dboyea/sculptor/orbits/orbit1/1e6_V31_r3.2/stars/\"\n",
    "stars_dir = \"/astro/dboyea/sculptor/isolation/1e6/V31_r3.2/stars/\"\n",
    "\n",
    "names_i = [model_dir] .* models .* [\"_i_profile.toml\"]\n",
    "names_f = [model_dir] .* models .* [\"_profile.toml\"]\n",
    "names_profiles = [stars_dir] .* models .* [\".toml\"]"
   ]
  },
  {
   "cell_type": "code",
   "execution_count": null,
   "id": "35",
   "metadata": {},
   "outputs": [],
   "source": [
    "expected = lguys.load_profile.( names_profiles)"
   ]
  },
  {
   "cell_type": "code",
   "execution_count": null,
   "id": "36",
   "metadata": {},
   "outputs": [],
   "source": [
    "profiles = lguys.StellarProfile.(names_f);"
   ]
  },
  {
   "cell_type": "code",
   "execution_count": null,
   "id": "37",
   "metadata": {},
   "outputs": [],
   "source": [
    "profiles_i = lguys.StellarProfile.(names_i);"
   ]
  },
  {
   "cell_type": "code",
   "execution_count": null,
   "id": "38",
   "metadata": {},
   "outputs": [],
   "source": [
    "norms = get_normalization.(profiles)"
   ]
  },
  {
   "cell_type": "code",
   "execution_count": null,
   "id": "39",
   "metadata": {},
   "outputs": [],
   "source": [
    "[prof.log_Sigma .+= norm for (prof, norm) in zip(profiles, norms)]"
   ]
  },
  {
   "cell_type": "code",
   "execution_count": null,
   "id": "40",
   "metadata": {},
   "outputs": [],
   "source": [
    "[prof.log_Sigma .+= norm for (prof, norm) in zip(profiles_i, norms)]"
   ]
  },
  {
   "cell_type": "code",
   "execution_count": null,
   "id": "41",
   "metadata": {},
   "outputs": [],
   "source": [
    "prof_fit = lguys.KingProfile(M=1, R_s=11, R_t=25)"
   ]
  },
  {
   "cell_type": "code",
   "execution_count": null,
   "id": "42",
   "metadata": {},
   "outputs": [],
   "source": [
    "r_b = 76"
   ]
  },
  {
   "cell_type": "code",
   "execution_count": null,
   "id": "43",
   "metadata": {},
   "outputs": [],
   "source": [
    "i = 1\n",
    "plot_ini_fin(profiles_i[i], profiles[i], expected[i])"
   ]
  },
  {
   "cell_type": "code",
   "execution_count": null,
   "id": "44",
   "metadata": {},
   "outputs": [],
   "source": []
  }
 ],
 "metadata": {
  "kernelspec": {
   "display_name": "Julia 1.10.5",
   "language": "julia",
   "name": "julia-1.10"
  },
  "language_info": {
   "file_extension": ".jl",
   "mimetype": "application/julia",
   "name": "julia",
   "version": "1.10.5"
  }
 },
 "nbformat": 4,
 "nbformat_minor": 5
}
