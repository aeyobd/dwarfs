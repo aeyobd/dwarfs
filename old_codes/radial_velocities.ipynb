{
 "cells": [
  {
   "cell_type": "code",
   "execution_count": null,
   "id": "0",
   "metadata": {
    "tags": []
   },
   "outputs": [],
   "source": [
    "import pandas as pd\n",
    "import numpy as np\n",
    "import matplotlib.pyplot as plt\n",
    "import arya"
   ]
  },
  {
   "cell_type": "code",
   "execution_count": null,
   "id": "1",
   "metadata": {
    "tags": []
   },
   "outputs": [],
   "source": [
    "data = pd.read_csv(\"data/Sculptor_DARTS_BEST_psat40.csv\")\n",
    "data[\"r_ell\"] = data[\"Elliptical radius\"]\n",
    "data[\"RV\"] =  data.vel\n",
    "data[\"RV_err\"] = data.evel"
   ]
  },
  {
   "cell_type": "code",
   "execution_count": null,
   "id": "2",
   "metadata": {
    "tags": []
   },
   "outputs": [],
   "source": [
    "plt.errorbar(data.r_ell, data.vel, yerr = data.RV_err, fmt=\".\", alpha=0.1)\n",
    "\n",
    "plt.xlabel(\"r_ell\")\n",
    "plt.ylabel(\"RV / km/s\")"
   ]
  },
  {
   "cell_type": "code",
   "execution_count": null,
   "id": "3",
   "metadata": {},
   "outputs": [],
   "source": [
    "import emcee"
   ]
  },
  {
   "cell_type": "code",
   "execution_count": null,
   "id": "4",
   "metadata": {},
   "outputs": [],
   "source": [
    "import numpy as np\n",
    "import random\n",
    "import corner\n",
    "import emcee\n",
    "import matplotlib as mpl\n",
    "import matplotlib.pyplot as plt\n",
    "from astropy.io import fits"
   ]
  },
  {
   "cell_type": "markdown",
   "id": "5",
   "metadata": {},
   "source": [
    "see @walker2006 "
   ]
  },
  {
   "cell_type": "code",
   "execution_count": null,
   "id": "6",
   "metadata": {
    "tags": []
   },
   "outputs": [],
   "source": [
    "def log_like(params, obs, unc, N):\n",
    "    \"\"\"\n",
    "    Log likelihood function for the product of two normally distributed distributions.\n",
    "    Parameters that will be maximized: true mean (mu), instrinsic dispersion, (sig)\n",
    "    Parameters passed in: observed value (obs), measured uncertainty (unc)\n",
    "    \"\"\"\n",
    "    mu, sig = params\n",
    "    return -0.5*np.sum(np.log(unc**2 + sig**2)) - 0.5*np.sum((obs-mu)**2/(unc**2 + sig**2)) - N/2*np.log(2*np.pi)\n",
    "    \n",
    "def log_vprior(params):\n",
    "    \"\"\"\n",
    "    Flat priors for velocity mean and dispersion. Set the constraints that work best for your data.\n",
    "    \"\"\"\n",
    "    mu, sig = params\n",
    "    if 70 < mu < 150 and 5 < sig < 15.0:\n",
    "        return 0.0\n",
    "    return -np.inf\n",
    "\n",
    "def log_vprob(params, obs, unc, N):\n",
    "    \"\"\"\n",
    "    Combined log probability function.\n",
    "    \"\"\"\n",
    "    lp = log_vprior(params)\n",
    "    if not np.isfinite(lp):\n",
    "        return -np.inf\n",
    "    return lp + log_like(params, obs, unc, N)\n"
   ]
  },
  {
   "cell_type": "code",
   "execution_count": null,
   "id": "7",
   "metadata": {
    "tags": []
   },
   "outputs": [],
   "source": [
    "#IMPORT DATA HERE\n",
    "\n",
    "#Uncomment when you have imported data\n",
    "#obs = DATA -- VELOCITIES\n",
    "#unc = DATA -- VELOCITY UNCERTAINTIES\n",
    "N = len(data)\n",
    "\n",
    "#Modify the number of walkers, as well as the region to drop your walkers. I auggest use the full range within your flat priors.\n",
    "nwalkers = 64\n",
    "mu_walk = np.random.uniform(70, 100, size=nwalkers)\n",
    "sig_walk = np.random.uniform(0, 10, size=nwalkers)\n",
    "\n",
    "p0 = np.array([mu_walk, sig_walk]).T\n",
    "ndim = 2\n",
    "\n",
    "samplerv = emcee.EnsembleSampler(\n",
    "    nwalkers, ndim, log_vprob, args=(data.RV, data.RV_err, N)\n",
    ")\n",
    "\n",
    "#Pl\n",
    "steps_run = 10000\n",
    "steps_toss = 2000\n",
    "samplerv.run_mcmc(p0, steps_run, progress=True);"
   ]
  },
  {
   "cell_type": "code",
   "execution_count": null,
   "id": "8",
   "metadata": {
    "tags": []
   },
   "outputs": [],
   "source": [
    "#Corner plot\n",
    "flat_samplesv = samplerv.get_chain(discard=steps_toss, flat=True)\n",
    "labels = [r\"$\\langle v_{\\odot}\\rangle$ (km s$^{-1}$)\", r\"$\\sigma_v$ (km s$^{-1}$)\"]\n",
    "label_unit = r\"km s$^{-1}$\"\n",
    "\n",
    "value = np.median(flat_samplesv, axis=0)\n",
    "vels = np.quantile(flat_samplesv.T[0], [0.16, 0.50, 0.84])\n",
    "disps = np.quantile(flat_samplesv.T[1], [0.16, 0.50, 0.84])\n",
    "\n",
    "fig = corner.corner(\n",
    "    flat_samplesv, labels=labels, quantiles=[0.16, 0.5, 0.84], \n",
    "    show_titles=True, color='k', title_fmt='.2f'\n",
    ")\n",
    "fig.set_figwidth(8)\n",
    "fig.set_figheight(8)"
   ]
  },
  {
   "cell_type": "code",
   "execution_count": null,
   "id": "9",
   "metadata": {},
   "outputs": [],
   "source": []
  },
  {
   "cell_type": "code",
   "execution_count": null,
   "id": "10",
   "metadata": {},
   "outputs": [],
   "source": []
  }
 ],
 "metadata": {
  "kernelspec": {
   "display_name": "Python 3 (ipykernel)",
   "language": "python",
   "name": "python3"
  },
  "language_info": {
   "codemirror_mode": {
    "name": "ipython",
    "version": 3
   },
   "file_extension": ".py",
   "mimetype": "text/x-python",
   "name": "python",
   "nbconvert_exporter": "python",
   "pygments_lexer": "ipython3",
   "version": "3.11.5"
  }
 },
 "nbformat": 4,
 "nbformat_minor": 5
}
