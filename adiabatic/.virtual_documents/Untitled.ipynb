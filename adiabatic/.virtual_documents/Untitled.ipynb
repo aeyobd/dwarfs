import sys

sys.path.append("~/source/ad/Users/daniel/source/adiabatic-tides/")


import adiabatic_tides




