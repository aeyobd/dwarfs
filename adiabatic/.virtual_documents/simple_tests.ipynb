import sys

sys.path.append("/Users/daniel/source/adiabatic-tides")


import adiabatic_tides



import scipy



