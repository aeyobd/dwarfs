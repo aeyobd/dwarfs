{
 "cells": [
  {
   "cell_type": "markdown",
   "id": "0",
   "metadata": {},
   "source": [
    "# a stream in the field\n",
    "\n",
    "This is a notebook to investigate a posible excess in proper motion space in the Gaia data near Sculptor. \n",
    "It turns out that this excess is likely just an extension of the Sgr stream, which covers a large, extended region of the sky (including near sculptor). This notebook contains some plots and comparisons to show this. For my analysis, this is more of a curiosity in the field near sculptor but is sufficiently distinct in proper motion space that we should not worry about contamination from Sculptor."
   ]
  },
  {
   "cell_type": "markdown",
   "id": "1",
   "metadata": {},
   "source": [
    "# Setup"
   ]
  },
  {
   "cell_type": "code",
   "execution_count": null,
   "id": "2",
   "metadata": {},
   "outputs": [],
   "source": [
    "using Arya, CairoMakie\n",
    "using LilGuys\n",
    "import CairoMakie: save\n",
    "import TOML"
   ]
  },
  {
   "cell_type": "code",
   "execution_count": null,
   "id": "3",
   "metadata": {},
   "outputs": [],
   "source": [
    "red = COLORS[6];"
   ]
  },
  {
   "cell_type": "code",
   "execution_count": null,
   "id": "4",
   "metadata": {},
   "outputs": [],
   "source": [
    "import LinearAlgebra: normalize, ×"
   ]
  },
  {
   "cell_type": "code",
   "execution_count": null,
   "id": "5",
   "metadata": {},
   "outputs": [],
   "source": [
    "import StatsBase: median"
   ]
  },
  {
   "cell_type": "code",
   "execution_count": null,
   "id": "6",
   "metadata": {},
   "outputs": [],
   "source": [
    "include(ENV[\"DWARFS_ROOT\"] * \"/utils/gaia_plots.jl\")"
   ]
  },
  {
   "cell_type": "code",
   "execution_count": null,
   "id": "7",
   "metadata": {},
   "outputs": [],
   "source": [
    "include(ENV[\"DWARFS_ROOT\"] * \"/utils/gaia_filters.jl\")"
   ]
  },
  {
   "cell_type": "code",
   "execution_count": null,
   "id": "8",
   "metadata": {},
   "outputs": [],
   "source": [
    "include(ENV[\"DWARFS_ROOT\"] * \"/utils/read_iso.jl\")"
   ]
  },
  {
   "cell_type": "code",
   "execution_count": null,
   "id": "9",
   "metadata": {},
   "outputs": [],
   "source": [
    "filt_params = GaiaFilterParams(read_paramfile(\"processed/pm_structure.toml\"))"
   ]
  },
  {
   "cell_type": "markdown",
   "id": "10",
   "metadata": {},
   "source": [
    "## Loading data"
   ]
  },
  {
   "cell_type": "markdown",
   "id": "11",
   "metadata": {},
   "source": [
    "the `read_gaia_stars` function simply loads in the fits file, adds tangent plane coordinates, orbit coorinates, and the elliptical radius in arcmin (with these determined from the values in filt_params).\n",
    "\n",
    "See README.md in the data folder for notes on the Gaia query I used. I include the RUWE cut in the gaia cut since I have now downloaded ~100deg^2 of the sky.\n",
    "\n",
    "The filters we use in this notebook for the gaia observations (the all_stars file is simply every star in Gaia within four degrees of the centre of Sculptor) are\n",
    "\n",
    "- Parallax: $\\varpi < 3 \\delta \\varpi$, i.e. 3-$\\sigma$ consistancy with zero parallax\n",
    "- RUWE < 1.3, a reasonable astrometric quality cut\n",
    "- `filt_qual` combines parallax and RUWE filters\n",
    "- CMD: a polygon in the parameterfile, see plots below\n",
    "- Proper motion: the L2 distance in proper motion space from the approximate adopted mean proper motions (-1.5, -3.5)mas/yr is less than 1 mas / year\n",
    "- `filt_all` combines all of the above."
   ]
  },
  {
   "cell_type": "code",
   "execution_count": null,
   "id": "12",
   "metadata": {},
   "outputs": [],
   "source": [
    "sgr_stars = read_gaia_stars(\"data/sgr_stream_near_scl-result.fits\", filt_params)\n",
    "\n",
    "sgr_stars[!, :filt_ruwe] = ruwe_filter(sgr_stars, filt_params)\n",
    "sgr_stars[!, :filt_parallax] = parallax_simple_filter(sgr_stars, 3)\n",
    "sgr_stars[!, :filt_qual] = sgr_stars.filt_ruwe .& sgr_stars.filt_parallax\n",
    "sgr_stars[!, :filt_qual_strict] = sgr_stars.filt_qual .& (.!sgr_stars.in_qso_candidates) .& (.!sgr_stars.in_galaxy_candidates)\n",
    "\n",
    "sgr_stars[!, :filt_cmd] = cmd_filter(sgr_stars, filt_params)\n",
    "\n",
    "sgr_stars[!, :filt_pm] = pm_filter(sgr_stars, filt_params)\n",
    "\n",
    "sgr_stars[!, :filt_all] = sgr_stars.filt_qual .& sgr_stars.filt_cmd .& sgr_stars.filt_pm\n",
    "sgr_stars[!, :filt_all_strict] = sgr_stars.filt_qual_strict .& sgr_stars.filt_cmd .& sgr_stars.filt_pm\n",
    "\n",
    "sgr_stars"
   ]
  },
  {
   "cell_type": "code",
   "execution_count": null,
   "id": "13",
   "metadata": {},
   "outputs": [],
   "source": [
    "all_stars = read_gaia_stars(\"data/gaia_6deg_ruwe.fits\", filt_params)\n",
    "\n",
    "all_stars[!, :filt_ruwe] = ruwe_filter(all_stars, filt_params)\n",
    "all_stars[!, :filt_parallax] = parallax_simple_filter(all_stars, 3)\n",
    "all_stars[!, :filt_qual] = all_stars.filt_ruwe .& all_stars.filt_parallax\n",
    "all_stars[!, :filt_qual_strict] = all_stars.filt_qual .& (.!all_stars.in_qso_candidates) .& (.!all_stars.in_galaxy_candidates)\n",
    "\n",
    "all_stars[!, :filt_cmd] = cmd_filter(all_stars, filt_params)\n",
    "\n",
    "all_stars[!, :filt_pm] = pm_filter(all_stars, filt_params)\n",
    "\n",
    "all_stars[!, :filt_all] = all_stars.filt_qual .& all_stars.filt_cmd .& all_stars.filt_pm\n",
    "all_stars[!, :filt_all_strict] = all_stars.filt_qual_strict .& all_stars.filt_cmd .& all_stars.filt_pm\n",
    "\n",
    "all_stars"
   ]
  },
  {
   "cell_type": "code",
   "execution_count": null,
   "id": "14",
   "metadata": {},
   "outputs": [],
   "source": [
    "# check that the distance filter is exactly the same as parallax / error < 3\n",
    "sum((abs.(all_stars.parallax_over_error) .< 3 ) .!= all_stars.filt_parallax)"
   ]
  },
  {
   "cell_type": "code",
   "execution_count": null,
   "id": "15",
   "metadata": {},
   "outputs": [],
   "source": [
    "# sanity check the RUWE is as described\n",
    "sum((abs.(all_stars.ruwe) .< 1.3 ) .!= all_stars.filt_ruwe)"
   ]
  },
  {
   "cell_type": "code",
   "execution_count": null,
   "id": "16",
   "metadata": {},
   "outputs": [],
   "source": [
    "dpm = @. sqrt((all_stars.pmra - filt_params.pmra)^2 + (all_stars.pmdec - filt_params.pmdec)^2);"
   ]
  },
  {
   "cell_type": "code",
   "execution_count": null,
   "id": "17",
   "metadata": {},
   "outputs": [],
   "source": [
    "# sanity check the pm filter\n",
    "sum((dpm .< 1) .!= all_stars.filt_pm)"
   ]
  },
  {
   "cell_type": "markdown",
   "id": "18",
   "metadata": {},
   "source": [
    "# Plots & Analysis"
   ]
  },
  {
   "cell_type": "markdown",
   "id": "19",
   "metadata": {},
   "source": [
    "## Tangent plane plots"
   ]
  },
  {
   "cell_type": "code",
   "execution_count": null,
   "id": "20",
   "metadata": {},
   "outputs": [],
   "source": [
    "function plot_tangent_all(df; levels=10, kwargs...)\n",
    "    \n",
    "    fig = Figure()\n",
    "\n",
    "    ax = xieta_axis(fig[1,1]; kwargs...)\n",
    "    r_max = round(maximum(df.xi .⊕ df.eta))\n",
    "    ax.limits = (-r_max, r_max, -r_max, r_max)\n",
    "    \n",
    "    \n",
    " \n",
    "    scatter!(df.xi, df.eta, color=:black, markersize=3, alpha=0.3)\n",
    "    fig\n",
    "end"
   ]
  },
  {
   "cell_type": "markdown",
   "id": "21",
   "metadata": {},
   "source": [
    "The following plots show the selected stars on the sky. \n",
    "The Sgr field is offset (and the density is not a good rendition...).\n",
    "Note that the spatial gradient of selected stars in the Scl dataset points \n",
    "to the stream field."
   ]
  },
  {
   "cell_type": "code",
   "execution_count": null,
   "id": "22",
   "metadata": {},
   "outputs": [],
   "source": [
    "plot_tangent_all(sgr_stars[sgr_stars.filt_all, :], title=\"All filters (Sgr stream field)\")"
   ]
  },
  {
   "cell_type": "code",
   "execution_count": null,
   "id": "23",
   "metadata": {},
   "outputs": [],
   "source": [
    "plot_tangent_all(all_stars[all_stars.filt_all, :], title=\"All filters (Scl field)\")"
   ]
  },
  {
   "cell_type": "code",
   "execution_count": null,
   "id": "24",
   "metadata": {},
   "outputs": [],
   "source": [
    "plot_tangent_all(all_stars[all_stars.filt_qual, :], title=\"Parallax filters (Scl field)\")"
   ]
  },
  {
   "cell_type": "markdown",
   "id": "25",
   "metadata": {},
   "source": [
    "Just for reference, the above plot is all distant stars in the Scl field. "
   ]
  },
  {
   "cell_type": "markdown",
   "id": "26",
   "metadata": {},
   "source": [
    "# Filter validation"
   ]
  },
  {
   "cell_type": "markdown",
   "id": "27",
   "metadata": {},
   "source": [
    "### Quality cuts"
   ]
  },
  {
   "cell_type": "code",
   "execution_count": null,
   "id": "28",
   "metadata": {},
   "outputs": [],
   "source": [
    "import LilGuys.Plots as LP"
   ]
  },
  {
   "cell_type": "markdown",
   "id": "29",
   "metadata": {},
   "source": [
    "The figure below simply plots the parallax and error for all the stars and stars satisfying the parallax cut. As expected, the parallax cut selects a wedge in this space."
   ]
  },
  {
   "cell_type": "code",
   "execution_count": null,
   "id": "30",
   "metadata": {},
   "outputs": [],
   "source": [
    "let\n",
    "    fig = Figure()\n",
    "    ax = Axis(fig[1, 1], \n",
    "        xlabel = \"parallax\",\n",
    "        ylabel = \"parallax error\",\n",
    "        limits = (-10, 10, 0, nothing),\n",
    "        )\n",
    "\n",
    "    scatter!(all_stars.parallax[all_stars.filt_pm], all_stars.parallax_error[all_stars.filt_pm], markersize=2, alpha=0.2, color=:black, label = \"PM selected stars\" => (; markersize=10))\n",
    "\n",
    "    scatter!(all_stars.parallax[all_stars.filt_parallax .& all_stars.filt_pm], all_stars.parallax_error[all_stars.filt_parallax .& all_stars.filt_pm], markersize=2, label = \"+parallax\" => (; markersize=10))\n",
    "\n",
    "    xs = 1.5 * [-5, 0, 5]\n",
    "    lines!(xs, 1/3*abs.(xs), label = \"3 sigma consist. with zero\", color=COLORS[2])\n",
    "\n",
    "    LP.hide_grid!(ax)\n",
    "\n",
    "    Legend(fig[1, 2], ax)\n",
    "\n",
    "    fig\n",
    "end"
   ]
  },
  {
   "cell_type": "code",
   "execution_count": null,
   "id": "31",
   "metadata": {},
   "outputs": [],
   "source": [
    "let\n",
    "    fig = Figure()\n",
    "    ax = Axis(fig[1, 1], \n",
    "        xlabel = \"log RUWE\", \n",
    "        ylabel = \"counts\",\n",
    "        limits = (nothing, nothing, 1, 1e5),\n",
    "        yscale=log10\n",
    "        )\n",
    "\n",
    "    bins = -0.1:0.01:0.2\n",
    "\n",
    "    hist!(log10.(all_stars.ruwe)[all_stars.filt_ruwe], bins=bins, label=\"RUWE selection\")\n",
    "    stephist!(log10.(all_stars.ruwe), bins=bins, color=:black, label=\"all stars\")\n",
    "\n",
    "    vlines!(log10(1.3), color=COLORS[3], linestyle=:dash, label=\"threshold\")\n",
    "\n",
    "    axislegend()\n",
    "\n",
    "    LP.hide_grid!(ax)\n",
    "    fig\n",
    "end"
   ]
  },
  {
   "cell_type": "markdown",
   "id": "32",
   "metadata": {},
   "source": [
    "Above is a histogram of the RUWE errors. As expected, (since this is in my gaia query), no stars have a RUWE error greater than the cutoff."
   ]
  },
  {
   "cell_type": "markdown",
   "id": "33",
   "metadata": {},
   "source": [
    "## CMD"
   ]
  },
  {
   "cell_type": "code",
   "execution_count": null,
   "id": "34",
   "metadata": {},
   "outputs": [],
   "source": [
    "# get the polygon of the CMD\n",
    "cmd_x = [filt_params.cmd_cut[1:2:end]; filt_params.cmd_cut[1]]\n",
    "cmd_y = [filt_params.cmd_cut[2:2:end]; filt_params.cmd_cut[2]];"
   ]
  },
  {
   "cell_type": "code",
   "execution_count": null,
   "id": "35",
   "metadata": {},
   "outputs": [],
   "source": [
    "let\n",
    "\tfig = Figure()\n",
    "\n",
    "\tax = cmd_axis(fig[1, 1])\n",
    "\n",
    "\tfilt =  all_stars.filt_qual\n",
    "\n",
    "\n",
    "\tscatter!(all_stars.bp_rp[filt], all_stars.G[filt], markersize=2, alpha=0.3, color=:black, \n",
    "        label=\"+distance\" => (; markersize=10))\n",
    "\n",
    "\taxislegend(position=:lt, markersize=10)\n",
    "\n",
    "\tfig\n",
    "end"
   ]
  },
  {
   "cell_type": "markdown",
   "id": "36",
   "metadata": {},
   "source": [
    "A scatter plot of all of the stars in the Scl field satisfying the parallax cut. \n",
    "There is a large amount of background, and the most visible CMD is from Scl."
   ]
  },
  {
   "cell_type": "code",
   "execution_count": null,
   "id": "37",
   "metadata": {},
   "outputs": [],
   "source": [
    "let\n",
    "\tfig = Figure()\n",
    "\n",
    "\tax = cmd_axis(fig[1, 1])\n",
    "\n",
    "\tfilt =  all_stars.filt_qual .& all_stars.filt_pm\n",
    "\n",
    "\n",
    "\tscatter!(all_stars.bp_rp[filt], all_stars.G[filt], markersize=2, alpha=1, color=:black, \n",
    "        label=\"distance + pm filt (Scl field)\" => (; markersize=10))\n",
    "    \n",
    " #    filt .&= all_stars.filt_cmd\n",
    "\t# scatter!(all_stars.bp_rp[filt], all_stars.G[filt], markersize=2, label=\" + CMD cuts\" => (; markersize=10))\n",
    "\t# #lines!(iso.bp_rp, iso.G .+ dm)\n",
    "\t# poly!(cmd_x, cmd_y, color=:transparent, strokecolor=COLORS[2], strokewidth=2)\n",
    "\n",
    "\taxislegend(position=:lt, markersize=10)\n",
    "\n",
    "\tfig\n",
    "end"
   ]
  },
  {
   "cell_type": "markdown",
   "id": "38",
   "metadata": {},
   "source": [
    "By adding the proper motion cut, a CMD pokes out of the noise!"
   ]
  },
  {
   "cell_type": "code",
   "execution_count": null,
   "id": "39",
   "metadata": {},
   "outputs": [],
   "source": [
    "let\n",
    "\tfig = Figure()\n",
    "\n",
    "\tax = cmd_axis(fig[1, 1])\n",
    "\n",
    "\tfilt =  sgr_stars.filt_qual .& sgr_stars.filt_pm\n",
    "\n",
    "\n",
    "\tscatter!(sgr_stars.bp_rp[filt], sgr_stars.G[filt], markersize=2, alpha=1, color=:black, \n",
    "        label=\"distance + pm filt (sgr stream field)\" => (; markersize=10))\n",
    "    \n",
    " #    filt .&= all_stars.filt_cmd\n",
    "\t# scatter!(all_stars.bp_rp[filt], all_stars.G[filt], markersize=2, label=\" + CMD cuts\" => (; markersize=10))\n",
    "\t# #lines!(iso.bp_rp, iso.G .+ dm)\n",
    "\t# poly!(cmd_x, cmd_y, color=:transparent, strokecolor=COLORS[2], strokewidth=2)\n",
    "\n",
    "\taxislegend(position=:lt, markersize=10)\n",
    "\n",
    "\tfig\n",
    "end"
   ]
  },
  {
   "cell_type": "markdown",
   "id": "40",
   "metadata": {},
   "source": [
    "In the Sgr stream field, the CMD looks the same and is even more densly populated"
   ]
  },
  {
   "cell_type": "markdown",
   "id": "41",
   "metadata": {},
   "source": [
    "### Isochrone & CMD cut"
   ]
  },
  {
   "cell_type": "code",
   "execution_count": null,
   "id": "42",
   "metadata": {},
   "outputs": [],
   "source": [
    "m_h = \"m2.00\"\n",
    "vvcrit = \"0.0\"\n",
    "afe = \"p0.0\"\n",
    "\n",
    "\n",
    "isos = ISOCMD(\"../../MIST/MIST_v1.2_vvcrit$(vvcrit)_UBVRIplus/MIST_v1.2_feh_$(m_h)_afe_$(afe)_vvcrit$(vvcrit)_UBVRIplus.iso.cmd\")"
   ]
  },
  {
   "cell_type": "code",
   "execution_count": null,
   "id": "43",
   "metadata": {},
   "outputs": [],
   "source": [
    "log_age = 10\n",
    "dm = 17.1\n",
    "A_BPRP = 0.1\n",
    "\n",
    "iso = isos[log_age]\n",
    "iso[!, :bp_rp] = iso.Gaia_BP_EDR3 .- iso.Gaia_RP_EDR3\n",
    "iso[!, :G] = iso.Gaia_G_EDR3\n",
    "\n",
    "iso = iso[iso.phase .< 4, :];"
   ]
  },
  {
   "cell_type": "code",
   "execution_count": null,
   "id": "44",
   "metadata": {},
   "outputs": [],
   "source": [
    "10 ^ log_age / 1e9 # age in Gyr"
   ]
  },
  {
   "cell_type": "code",
   "execution_count": null,
   "id": "45",
   "metadata": {},
   "outputs": [],
   "source": [
    "10 ^ (1/5 * dm + 1 - 3) # distance in kpc"
   ]
  },
  {
   "cell_type": "code",
   "execution_count": null,
   "id": "46",
   "metadata": {},
   "outputs": [],
   "source": [
    "\"log_age=$log_age, DM=$dm, [M/H]=$m_h\""
   ]
  },
  {
   "cell_type": "code",
   "execution_count": null,
   "id": "47",
   "metadata": {},
   "outputs": [],
   "source": [
    "let\n",
    "\tfig = Figure()\n",
    "\n",
    "\tax = cmd_axis(fig[1, 1])\n",
    "    ax.limits = (-0.2, 2, 12, 21)\n",
    "\n",
    "\tfilt =  copy(all_stars.filt_pm .& all_stars.filt_qual)\n",
    "\n",
    "\n",
    "\tscatter!(all_stars.bp_rp[filt], all_stars.G[filt], markersize=2, alpha=1, color=:black, \n",
    "        label=\"pm + dist filt\" => (; markersize=10))\n",
    "    \n",
    "    \n",
    "    filt .&= all_stars.filt_cmd\n",
    "\tscatter!(all_stars.bp_rp[filt], all_stars.G[filt], markersize=2, label=\" + CMD cuts\" => (; markersize=10))\n",
    "\tlines!(iso.bp_rp .+ A_BPRP, iso.G .+ dm,\n",
    "        label=\"isochrone\"\n",
    "    )\n",
    "\tpoly!(cmd_x, cmd_y, color=:transparent, strokecolor=COLORS[2], strokewidth=1, alpha=0.3, )\n",
    "    \n",
    "\taxislegend(position=:lt)\n",
    "\n",
    "\tfig\n",
    "end"
   ]
  },
  {
   "cell_type": "markdown",
   "id": "48",
   "metadata": {},
   "source": [
    "The isochrone above fits the CMD well. This distance is consistant with the Stream as well. "
   ]
  },
  {
   "cell_type": "markdown",
   "id": "49",
   "metadata": {},
   "source": [
    "## Stream coordinates"
   ]
  },
  {
   "cell_type": "code",
   "execution_count": null,
   "id": "50",
   "metadata": {},
   "outputs": [],
   "source": [
    "# Transformation described in Majewski 2003, ApJ, 599, 1082\n",
    "ϕ = deg2rad(183.8)\n",
    "θ = deg2rad(76.5)\n",
    "ψ = deg2rad(194.1)\n",
    "\n",
    "\n",
    "C = LilGuys.Rx_mat(-θ)\n",
    "B = LilGuys.Rz_mat(-ψ)\n",
    "D = LilGuys.Rz_mat(-ϕ)\n",
    "\n",
    "A = B*C*D\n",
    "\n",
    "l_sgr = 5.56\n",
    "b_sgr = -14.16\n",
    "xyz_sgr = LilGuys.unit_vector(l_sgr,b_sgr)\n",
    "\n",
    "lambda_sgr, B_sgr, _ = LilGuys.cartesian_to_sky(A * xyz_sgr)"
   ]
  },
  {
   "cell_type": "code",
   "execution_count": null,
   "id": "51",
   "metadata": {},
   "outputs": [],
   "source": [
    "\n",
    "l, b = all_stars.l, all_stars.b\n",
    "xyz = LilGuys.unit_vector(l, b)\n",
    "\n",
    "l, b, _ = LilGuys.cartesian_to_sky(xyz .* [1, 1, 1])\n",
    "\n",
    "xyz = LilGuys.unit_vector(l, b)\n",
    "lambda, B, _ = LilGuys.cartesian_to_sky(A * xyz);\n",
    "scatter(360 .- lambda[all_stars.filt_all], B[all_stars.filt_all])"
   ]
  },
  {
   "cell_type": "code",
   "execution_count": null,
   "id": "52",
   "metadata": {},
   "outputs": [],
   "source": [
    "# these transformations are given in the\n",
    "# Belokurov et al. (2014), MNRAS, 437, 116 paper.\n",
    "# The Vasiliev paper (et al. 2021, a tango for three...) uses \n",
    "# the same coordinates except for a reversed B coordinate.\n",
    "\n",
    "function from_vasiliev_stream_coords(Λ, B)\n",
    "    B *= -1\n",
    "    Λ = deg2rad.(Λ)\n",
    "    B = deg2rad.(B)\n",
    "    α = @. atand(-0.848_462_91* cos(Λ) * cos(B) - 0.319_106_58  *sin(Λ) *cos(B) - 0.422_234_15 * sin(B),\n",
    "             0.212_155_55 * cos(Λ) * cos(B) - 0.935_953_54 * sin(Λ)* cos(B) + 0.281_035_59 * sin(B))\n",
    "    δ = @. asind(-0.484_871_86 * cos(Λ)* cos(B) + 0.148_868_95 * sin(Λ) * cos(B) + 0.861_822_09 * sin(B))\n",
    "\n",
    "    return α, δ\n",
    "end\n",
    "\n",
    "function to_vasiliev_stream_coords(α, δ)\n",
    "    α = deg2rad.(α)\n",
    "    δ = deg2rad.(δ)\n",
    "    \n",
    "    Λ =@. atand(-0.935_953_54 *  cos(α) * cos(δ) − 0.319_106_58 * sin(α) * cos(δ) + 0.148_868_95 *  sin(δ),\n",
    "    0.212_155_55 * cos(α) * cos(δ) − 0.848_462_91*sin(α)*cos(δ) - 0.484_871_86 *sin(δ))\n",
    "    \n",
    "    B = @. asind(0.281_035_59*cos(α)*cos(δ) - 0.422_234_15 * sin(α) * cos(δ) + 0.861_822_09 * sin(δ))\n",
    "    B *= -1\n",
    "\n",
    "    return Λ, B\n",
    "end"
   ]
  },
  {
   "cell_type": "code",
   "execution_count": null,
   "id": "53",
   "metadata": {},
   "outputs": [],
   "source": [
    "# sanity check inverse transform\n",
    "to_vasiliev_stream_coords(from_vasiliev_stream_coords(23, 41)...)"
   ]
  },
  {
   "cell_type": "code",
   "execution_count": null,
   "id": "54",
   "metadata": {},
   "outputs": [],
   "source": [
    "from_vasiliev_stream_coords(to_vasiliev_stream_coords(12, -25)...)"
   ]
  },
  {
   "cell_type": "code",
   "execution_count": null,
   "id": "55",
   "metadata": {},
   "outputs": [],
   "source": [
    "fig = Figure()\n",
    "ax = Axis(fig[1, 1], xlabel=L\"\\Lambda\", ylabel=L\"B\")\n",
    "\n",
    "ra, dec = all_stars.ra, all_stars.dec\n",
    "\n",
    "Λ, B = to_vasiliev_stream_coords(ra, dec)\n",
    "scatter!(Λ[all_stars.filt_all], B[all_stars.filt_all], markersize=3, label=\"stream field\")\n",
    "\n",
    "\n",
    "ra, dec = sgr_stars.ra, sgr_stars.dec\n",
    "Λ, B = to_vasiliev_stream_coords(ra, dec)\n",
    "scatter!(Λ[sgr_stars.filt_all], B[sgr_stars.filt_all], markersize=3, label=\"Scl field\")\n",
    "\n",
    "\n",
    "axislegend()\n",
    "fig"
   ]
  },
  {
   "cell_type": "code",
   "execution_count": null,
   "id": "56",
   "metadata": {},
   "outputs": [],
   "source": [
    "from_vasiliev_stream_coords(-75, 0) # selection of nearby stream  centre"
   ]
  },
  {
   "cell_type": "markdown",
   "id": "57",
   "metadata": {},
   "source": [
    "## Radial velocities"
   ]
  },
  {
   "cell_type": "code",
   "execution_count": null,
   "id": "58",
   "metadata": {},
   "outputs": [],
   "source": [
    "filt_rv = all_stars.filt_qual .& all_stars.filt_pm\n",
    "println(\"rv meas:\", sum(isfinite.(all_stars[filt_rv, :radial_velocity])))\n",
    "\n",
    "filt_rv .&= isfinite.(all_stars.radial_velocity);"
   ]
  },
  {
   "cell_type": "code",
   "execution_count": null,
   "id": "59",
   "metadata": {},
   "outputs": [],
   "source": [
    "df = all_stars[filt_rv, :]\n",
    "fig = Figure()\n",
    "ax = Axis(fig[1, 1], xlabel=\"G (mag)\", ylabel = \"radial velocity\")\n",
    "\n",
    "errscatter!(df.G, df.radial_velocity, yerr=df.radial_velocity_error)\n",
    "\n",
    "fig"
   ]
  },
  {
   "cell_type": "markdown",
   "id": "60",
   "metadata": {},
   "source": [
    "## Proper motions"
   ]
  },
  {
   "cell_type": "markdown",
   "id": "61",
   "metadata": {},
   "source": [
    "The below plot is mainly a validation of the PM selection"
   ]
  },
  {
   "cell_type": "code",
   "execution_count": null,
   "id": "62",
   "metadata": {},
   "outputs": [],
   "source": [
    "let\n",
    "\tfig = Figure()\n",
    "    ax = pm_axis(fig[1, 1], dpm=11)\n",
    "    ax.title = \"Gaia stars within 6 degrees of Scl\"\n",
    "    \n",
    "\tscatter!(all_stars.pmra, all_stars.pmdec, markersize=1, alpha=0.2, color=:black, )\n",
    "\tscatter!([NaN], [NaN], markersize=5, alpha=0.2, color=:black, label = \"all stars in Gaia\")\n",
    "    \n",
    "\tfilt = all_stars.filt_pm \n",
    "\n",
    "\tscatter!(all_stars.pmra[filt], all_stars.pmdec[filt], markersize=1, color=COLORS[1])\n",
    "\tscatter!([NaN], [NaN], markersize=5, color=COLORS[1], label = \"PM selected stars\")\n",
    "\n",
    "    arc!(Point2f(filt_params.pmra, filt_params.pmdec), filt_params.dpm, -π, π, color=COLORS[2], label = \"PM cut\")\n",
    "\n",
    "    leg = Legend(fig[1, 2], ax, markersize=15)\n",
    "    \n",
    "\tfig\n",
    "end"
   ]
  },
  {
   "cell_type": "code",
   "execution_count": null,
   "id": "63",
   "metadata": {},
   "outputs": [],
   "source": [
    "let\n",
    "\tfig = Figure()\n",
    "    ax = pm_axis(fig[1, 1], dpm=11)\n",
    "    ax.title = \"Scl field (Sgr CMD + PM selected)\"\n",
    "\n",
    "    filt = all_stars.filt_parallax .& all_stars.filt_cmd\n",
    "\tscatter!(all_stars.pmra[filt], all_stars.pmdec[filt], markersize=1, alpha=0.2, color=:black, )\n",
    "\tscatter!([NaN], [NaN], markersize=5, alpha=0.2, color=:black, label = \"parallax filt\")\n",
    "    \n",
    "    arc!(Point2f(filt_params.pmra, filt_params.pmdec), 1, -π, π, color=COLORS[2], label = \"PM cut\")\n",
    "    \n",
    "\tfig\n",
    "end"
   ]
  },
  {
   "cell_type": "code",
   "execution_count": null,
   "id": "64",
   "metadata": {},
   "outputs": [],
   "source": [
    "let\n",
    "\tfig = Figure()\n",
    "    ax = pm_axis(fig[1, 1], dpm=11)\n",
    "    ax.title = \"Sgr stream field (CMD + PM selected)\"\n",
    "\n",
    "    filt = sgr_stars.filt_parallax \n",
    "\tscatter!(sgr_stars.pmra[filt], sgr_stars.pmdec[filt], markersize=1, alpha=0.2, color=:black, )\n",
    "\tscatter!([NaN], [NaN], markersize=5, alpha=0.2, color=:black, label = \"parallax filt\")\n",
    "   \n",
    "    arc!(Point2f(filt_params.pmra, filt_params.pmdec), 1, -π, π, color=COLORS[2], label = \"PM cut\")\n",
    "    \n",
    "\tfig\n",
    "end"
   ]
  },
  {
   "cell_type": "markdown",
   "id": "65",
   "metadata": {},
   "source": [
    "Comparing the PM densities of both fields (when selecting by parallax & CMD) reveals that the excess of stars I noticed is much more apparent in the Sgr stream field. The proper motions are futhermore ~ consistent with the model in Vasiliev et al. (2021). The orange circle in both plots is the PM selection for this notebook."
   ]
  },
  {
   "cell_type": "code",
   "execution_count": null,
   "id": "66",
   "metadata": {},
   "outputs": [],
   "source": []
  }
 ],
 "metadata": {
  "kernelspec": {
   "display_name": "Julia 1.11.1",
   "language": "julia",
   "name": "julia-1.11"
  },
  "language_info": {
   "file_extension": ".jl",
   "mimetype": "application/julia",
   "name": "julia",
   "version": "1.11.1"
  }
 },
 "nbformat": 4,
 "nbformat_minor": 5
}
