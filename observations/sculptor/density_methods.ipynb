{
 "cells": [
  {
   "cell_type": "markdown",
   "id": "0",
   "metadata": {},
   "source": [
    "# Introduction"
   ]
  },
  {
   "cell_type": "markdown",
   "id": "1",
   "metadata": {},
   "source": [
    "This notebook explores several density estimation methods on the same dataset to understand possible systematics and limitations of each one.\n",
    "\n",
    "Some methods included are\n",
    "- Histograms (the classic)\n",
    "- Rolling histograms (continuously moving bins)\n",
    "- Kernel Density Estimation (KDE)"
   ]
  },
  {
   "cell_type": "code",
   "execution_count": null,
   "id": "2",
   "metadata": {
    "tags": []
   },
   "outputs": [],
   "source": [
    "import Pkg\n",
    "Pkg.activate(\"/Users/daniel/Arya.jl/\")\n"
   ]
  },
  {
   "cell_type": "code",
   "execution_count": null,
   "id": "3",
   "metadata": {
    "tags": []
   },
   "outputs": [],
   "source": [
    "using FITSIO\n",
    "using CairoMakie\n",
    "\n",
    "import NaNMath as nm\n",
    "using Measurements"
   ]
  },
  {
   "cell_type": "code",
   "execution_count": null,
   "id": "4",
   "metadata": {
    "tags": []
   },
   "outputs": [],
   "source": [
    "using Revise\n",
    "\n",
    "using Arya\n",
    "import LilGuys as lguys\n"
   ]
  },
  {
   "cell_type": "code",
   "execution_count": null,
   "id": "5",
   "metadata": {
    "tags": []
   },
   "outputs": [],
   "source": [
    "import KernelDensity as KD"
   ]
  },
  {
   "cell_type": "markdown",
   "id": "6",
   "metadata": {
    "tags": []
   },
   "source": [
    "# Load Sample"
   ]
  },
  {
   "cell_type": "code",
   "execution_count": null,
   "id": "7",
   "metadata": {
    "tags": []
   },
   "outputs": [],
   "source": [
    "samplename = \"./sculptor/fiducial_sample.fits\"\n",
    "\n",
    "f = FITS(samplename, \"r\")\n",
    "members = DataFrame(f[2])\n",
    "close(f)"
   ]
  },
  {
   "cell_type": "code",
   "execution_count": null,
   "id": "8",
   "metadata": {
    "tags": []
   },
   "outputs": [],
   "source": [
    "ecc = 0.33\n",
    "PA = 94\n",
    "centre_method=\"mean\"\n",
    "mass_column = :probability\n",
    "normalize = true\n",
    "weights = ones(size(members, 1));"
   ]
  },
  {
   "cell_type": "code",
   "execution_count": null,
   "id": "9",
   "metadata": {
    "tags": []
   },
   "outputs": [],
   "source": [
    "ra0, dec0 = lguys.calc_centre2D(members.ra, members.dec, weights, centre_method)"
   ]
  },
  {
   "cell_type": "code",
   "execution_count": null,
   "id": "10",
   "metadata": {
    "tags": []
   },
   "outputs": [],
   "source": [
    "xi, eta = lguys.to_tangent(members.ra, members.dec, ra0, dec0)"
   ]
  },
  {
   "cell_type": "code",
   "execution_count": null,
   "id": "11",
   "metadata": {
    "tags": []
   },
   "outputs": [],
   "source": [
    "r_max = sqrt(maximum(xi .^ 2 .+ eta .^ 2))"
   ]
  },
  {
   "cell_type": "code",
   "execution_count": null,
   "id": "12",
   "metadata": {
    "tags": []
   },
   "outputs": [],
   "source": [
    "b = sqrt(1-ecc)\n",
    "a = 1/b\n",
    "\n",
    "r_ell = lguys.calc_r_ell(xi, eta, a, b, PA-90)\n",
    "\n",
    "r_ell_max = r_max .* b\n",
    "r_ell = r_ell[r_ell .< r_ell_max]\n",
    "\n",
    "\n",
    "r_ell .*= 60; # to arcmin"
   ]
  },
  {
   "cell_type": "code",
   "execution_count": null,
   "id": "13",
   "metadata": {
    "tags": []
   },
   "outputs": [],
   "source": [
    "x = log10.(r_ell);"
   ]
  },
  {
   "cell_type": "code",
   "execution_count": null,
   "id": "14",
   "metadata": {
    "tags": []
   },
   "outputs": [],
   "source": [
    "\"\"\"\n",
    "Given a PDF sampled at points x with errors, returns the 2D density estimate\n",
    "\"\"\"\n",
    "function Σ_from_pdf(x, pdf, err)\n",
    "    \n",
    "    Σ =  Σ_from_pdf(x, pdf)\n",
    "    Σ_err = Σ .* err ./ pdf\n",
    "    return Σ, Σ_err\n",
    "end"
   ]
  },
  {
   "cell_type": "code",
   "execution_count": null,
   "id": "15",
   "metadata": {
    "tags": []
   },
   "outputs": [],
   "source": [
    "function Σ_from_pdf(x, pdf)\n",
    "    r = 10 .^ x\n",
    "    dx = Arya.gradient(x)\n",
    "    mass = pdf .* dx\n",
    "    \n",
    "    println(sum(mass))\n",
    "    \n",
    "    dA = 2π .* r .* Arya.gradient(r)\n",
    "    Σ = mass ./ dA\n",
    "    return Σ\n",
    "end"
   ]
  },
  {
   "cell_type": "code",
   "execution_count": null,
   "id": "16",
   "metadata": {
    "tags": []
   },
   "outputs": [],
   "source": [
    "\"\"\"\n",
    "Given a raw histogram (mass / bin, not density)\n",
    "and its bins (x) and errors\n",
    "calculates the 2D density profile\n",
    "\"\"\"\n",
    "function Σ_from_hist(bins, hist, err)\n",
    "    r = 10 .^ bins\n",
    "\n",
    "    dA = π .* diff(r .^ 2)\n",
    "    \n",
    "    println(sum(hist))\n",
    "    Σ = hist ./ dA\n",
    "    Σ_err = Σ .* (err ./ hist)\n",
    "    return Σ, Σ_err\n",
    "end"
   ]
  },
  {
   "cell_type": "code",
   "execution_count": null,
   "id": "17",
   "metadata": {
    "tags": []
   },
   "outputs": [],
   "source": [
    "function plot_Σ_hist!(bins, pdf, err; kwargs...)\n",
    "    y, y_err = Σ_from_hist(bins, pdf, err)\n",
    "    filt = isfinite.(y) .&& (y .> y_err)\n",
    "    y = y[filt]\n",
    "    y_err = y_err[filt]\n",
    "    \n",
    "    y1 = log10.(y)\n",
    "    y1l = log10.(y .- y_err)\n",
    "    y1h = log10.(y .+ y_err)\n",
    "    \n",
    "    yerr = collect(zip(y1 .- y1l, y1h .- y1))\n",
    "    errscatter!(midpoints(bins)[filt], y1, yerr=yerr; kwargs...)\n",
    "end\n",
    "    "
   ]
  },
  {
   "cell_type": "code",
   "execution_count": null,
   "id": "18",
   "metadata": {
    "tags": []
   },
   "outputs": [],
   "source": [
    "function plot_Σ!(log_r, pdf, err; kwargs...)\n",
    "    y, y_err= Σ_from_pdf(log_r, pdf, err)\n",
    "\n",
    "    filt = isfinite.(y) .&& (y .> nextfloat.(y_err, 5))\n",
    "    y = y[filt]\n",
    "    y_err = y_err[filt]\n",
    "    \n",
    "    y1 = log10.(y)\n",
    "    y1l = log10.(y .- y_err)\n",
    "    y1h = log10.(y .+ y_err)\n",
    "    yerr = collect(zip(y1 .- y1l, y1h .- y1))\n",
    "\n",
    "    #lines!(log_r[filt], y[filt]; kwargs...)\n",
    "    errscatter!(log_r[filt], y1, yerr=yerr; kwargs...)\n",
    "\n",
    "end\n",
    "    "
   ]
  },
  {
   "cell_type": "code",
   "execution_count": null,
   "id": "19",
   "metadata": {
    "tags": []
   },
   "outputs": [],
   "source": [
    "function plot_Σ!(log_r, pdf; kwargs...)\n",
    "    y= (Σ_from_pdf(log_r, pdf))\n",
    "    filt = isfinite.(y)\n",
    "\n",
    "    lines!(log_r[filt], log10.(y[filt]); kwargs...)\n",
    "\n",
    "end\n",
    "    "
   ]
  },
  {
   "cell_type": "markdown",
   "id": "20",
   "metadata": {},
   "source": [
    "\n",
    "# Histogram methods"
   ]
  },
  {
   "cell_type": "code",
   "execution_count": null,
   "id": "21",
   "metadata": {
    "tags": []
   },
   "outputs": [],
   "source": [
    "h = Arya.histogram(x, normalization=:pdf)"
   ]
  },
  {
   "cell_type": "code",
   "execution_count": null,
   "id": "22",
   "metadata": {
    "tags": []
   },
   "outputs": [],
   "source": [
    "h_raw = Arya.histogram(x, normalization=:probabilitymass, errors=:poisson)"
   ]
  },
  {
   "cell_type": "code",
   "execution_count": null,
   "id": "23",
   "metadata": {
    "tags": []
   },
   "outputs": [],
   "source": [
    "\n",
    "fig, ax = FigAxis(\n",
    "    \n",
    ")\n",
    "\n",
    "plot_Σ_hist!(h_raw.bins, h_raw.values, h_raw.err, color=COLORS[1], alpha=0.9)\n",
    "\n",
    "plot_Σ!(midpoints(h.bins), h.values, h.err, alpha=0.5, color=COLORS[2])\n",
    "\n",
    "fig"
   ]
  },
  {
   "cell_type": "markdown",
   "id": "24",
   "metadata": {},
   "source": [
    "note that the largest errorbars are from pm sqrt(1) and pm 1/sqrt(2) errors on a log scale (streching out the - part of the \\pm)"
   ]
  },
  {
   "cell_type": "code",
   "execution_count": null,
   "id": "25",
   "metadata": {
    "tags": []
   },
   "outputs": [],
   "source": [
    "counts = Arya.histogram(r_ell, weights=nothing)"
   ]
  },
  {
   "cell_type": "markdown",
   "id": "26",
   "metadata": {},
   "source": [
    "# KDE and rolling histograms"
   ]
  },
  {
   "cell_type": "code",
   "execution_count": null,
   "id": "27",
   "metadata": {
    "tags": []
   },
   "outputs": [],
   "source": [
    "h = Arya.histogram(x, normalization=:pdf)"
   ]
  },
  {
   "cell_type": "code",
   "execution_count": null,
   "id": "28",
   "metadata": {
    "tags": []
   },
   "outputs": [],
   "source": [
    "dx = diff(h.bins)[1]"
   ]
  },
  {
   "cell_type": "code",
   "execution_count": null,
   "id": "29",
   "metadata": {
    "tags": []
   },
   "outputs": [],
   "source": [
    "kd = Arya.calc_kde(x, dx/2)"
   ]
  },
  {
   "cell_type": "code",
   "execution_count": null,
   "id": "30",
   "metadata": {
    "tags": []
   },
   "outputs": [],
   "source": [
    "hr = Arya.rolling_histogram(x, dx/3, normalization=:pdf)"
   ]
  },
  {
   "cell_type": "code",
   "execution_count": null,
   "id": "31",
   "metadata": {
    "tags": []
   },
   "outputs": [],
   "source": [
    "η = 50\n",
    "k = 50\n",
    "akde = Arya.calc_kde(x, η=η, k=k)"
   ]
  },
  {
   "cell_type": "code",
   "execution_count": null,
   "id": "32",
   "metadata": {
    "tags": []
   },
   "outputs": [],
   "source": [
    "xlabel = L\"\\log r / \\textrm{arcmin}\""
   ]
  },
  {
   "cell_type": "code",
   "execution_count": null,
   "id": "33",
   "metadata": {
    "tags": []
   },
   "outputs": [],
   "source": [
    "fig, ax = FigAxis(\n",
    "    xlabel=xlabel,\n",
    "    ylabel=\"density\",\n",
    "    limits=(-1.3, 1.9, nothing, nothing),\n",
    "    )\n",
    "\n",
    "\n",
    "lines!(h, label=\"histogram\")\n",
    "lines!(hr.x, hr.values, label=\"rolling histogram\")\n",
    "lines!(kd.x, kd.values, label=\"KDE\")\n",
    "\n",
    "lines!(akde.x, akde.values, label=\"AKDE\")\n",
    "\n",
    "\n",
    "axislegend(position=:lt)\n",
    "fig"
   ]
  },
  {
   "cell_type": "code",
   "execution_count": null,
   "id": "34",
   "metadata": {
    "tags": []
   },
   "outputs": [],
   "source": [
    "fig, ax = FigAxis(\n",
    "    xlabel=xlabel,\n",
    "    ylabel=\"density\",\n",
    "    limits=(-1.3, 1.9, nothing, nothing),\n",
    "    yscale=log10\n",
    "    )\n",
    "\n",
    "\n",
    "errscatter!(midpoints(h.bins), h.values, yerr=h.err, label=\"histogram\", color=:black)\n",
    "lines!(hr.x, hr.values, label=\"rolling histogram\")\n",
    "lines!(kd.x, kd.values, label=\"KDE\")\n",
    "\n",
    "lines!(akde.x, akde.values, label=\"AKDE\")\n",
    "\n",
    "\n",
    "axislegend(position=:lt)\n",
    "fig"
   ]
  },
  {
   "cell_type": "code",
   "execution_count": null,
   "id": "35",
   "metadata": {
    "tags": []
   },
   "outputs": [],
   "source": [
    "fig, ax = FigAxis(\n",
    "    ylabel=L\"\\Sigma \\ / \\ \\textrm{fraction arcmin^{-2}}\",\n",
    "    xlabel=xlabel,\n",
    "    limits=(-1, 2, -8, -1)\n",
    ")\n",
    "\n",
    "plot_Σ_hist!(hu.bins, hu.values, hu.err, label=\"histogram\", color=:black)\n",
    "\n",
    "plot_Σ!(hr.x, hr.values, label=\"rolling\")\n",
    "\n",
    "plot_Σ!(kd.x, kd.values, label=\"KDE\")\n",
    "plot_Σ!(akde.x, akde.values, label=\"AKDE\")\n",
    "\n",
    "axislegend(position=:lb)\n",
    "\n",
    "fig"
   ]
  },
  {
   "cell_type": "code",
   "execution_count": null,
   "id": "36",
   "metadata": {
    "tags": []
   },
   "outputs": [],
   "source": [
    "let \n",
    "    fig, ax = FigAxis(\n",
    "        xlabel=\"log r\",\n",
    "        ylabel=\"log distance to nearest neighbor\"\n",
    "    )\n",
    "    \n",
    "\tscatter!(x, log10.(akde.bandwidth ./ η), label=\"kde knn=$k\")\n",
    "\tscatter!(Arya.midpoint(x), log10.(diff(x)), alpha=0.1, label=\"exact\")\n",
    "    axislegend()\n",
    "\tfig\n",
    "end"
   ]
  },
  {
   "cell_type": "markdown",
   "id": "37",
   "metadata": {},
   "source": [
    "A validation plot for the AKDE method"
   ]
  },
  {
   "cell_type": "markdown",
   "id": "38",
   "metadata": {},
   "source": [
    "# Bandwidth effects"
   ]
  },
  {
   "cell_type": "code",
   "execution_count": null,
   "id": "39",
   "metadata": {
    "tags": []
   },
   "outputs": [],
   "source": [
    "fig, ax = FigAxis(\n",
    "    xlabel=xlabel,\n",
    "    ylabel=\"density\"\n",
    ")\n",
    "\n",
    "for factor in [1/10, 1/3, 1, 3, 10]\n",
    "    hr = Arya.rolling_histogram(x, dx * factor, normalization=:pdf)\n",
    "    lines!(hr.x, hr.values, label=string(round(factor * dx, digits=4)))\n",
    "end\n",
    "\n",
    "axislegend(\"bandwidth\")\n",
    "\n",
    "fig"
   ]
  },
  {
   "cell_type": "code",
   "execution_count": null,
   "id": "40",
   "metadata": {
    "tags": []
   },
   "outputs": [],
   "source": [
    "fig, ax = FigAxis(\n",
    "    xlabel=xlabel,\n",
    "    ylabel=\"density\"\n",
    ")\n",
    "\n",
    "for factor in [1/10, 1/3, 1, 3, 10]\n",
    "    hr = Arya.calc_kde(x, dx/2 * factor)\n",
    "    lines!(hr.x, hr.values, label=string(round(factor * dx, digits=4)))\n",
    "end\n",
    "\n",
    "axislegend(\"bandwidth\")\n",
    "\n",
    "fig"
   ]
  },
  {
   "cell_type": "code",
   "execution_count": null,
   "id": "41",
   "metadata": {
    "tags": []
   },
   "outputs": [],
   "source": [
    "fig, ax = FigAxis(\n",
    "    xlabel=xlabel,\n",
    "    ylabel=\"density\"\n",
    ")\n",
    "\n",
    "\n",
    "h_ew = Arya.histogram(x, 50, normalization=:pdf)\n",
    "scatter!(midpoints(h_ew.bins), h_ew.values, label=\"equal width\")\n",
    "\n",
    "\n",
    "\n",
    "h_en = Arya.histogram(x, Arya.bins_equal_number, normalization=:pdf, n=20)\n",
    "scatter!(midpoints(h_en.bins), h_en.values, label=\"equal number\")\n",
    "\n",
    "\n",
    "h_bb = Arya.histogram(x, Arya.bayesian_blocks, normalization=:pdf)\n",
    "scatter!(midpoints(h_bb.bins), h_bb.values, label=\"bayesian blocks\")\n",
    "\n",
    "axislegend(position=:lt)\n",
    "fig"
   ]
  },
  {
   "cell_type": "code",
   "execution_count": null,
   "id": "42",
   "metadata": {
    "tags": []
   },
   "outputs": [],
   "source": [
    "plot_Σ_hist!(h::Arya.Histogram; kwargs...) = plot_Σ_hist!(h.bins, h.values, h.err; kwargs...)\n",
    "\n",
    "plot_Σ!(h::Arya.Histogram; kwargs...) = plot_Σ!(midpoints(h.bins), h.values, h.err; kwargs...)"
   ]
  },
  {
   "cell_type": "code",
   "execution_count": null,
   "id": "43",
   "metadata": {
    "tags": []
   },
   "outputs": [],
   "source": [
    "fig, ax = FigAxis(\n",
    "    ylabel=L\"\\Sigma \\ / \\ \\textrm{fraction arcmin^{-2}}\",\n",
    "    xlabel=xlabel,\n",
    ")\n",
    "\n",
    "\n",
    "plot_Σ!(h_ew, label=\"EW\")\n",
    "\n",
    "h_en = Arya.histogram(x, Arya.bins_equal_number, normalization=:probabilitymass, n=32)\n",
    "plot_Σ_hist!(h_en, label=\"EN\")\n",
    "\n",
    "h_bb = Arya.histogram(x, Arya.bayesian_blocks, normalization=:pdf)\n",
    "\n",
    "plot_Σ!(h_bb, label=\"BB\")\n",
    "\n",
    "\n",
    "h_bb = Arya.histogram(x, Arya.bayesian_blocks, normalization=:probabilitymass)\n",
    "plot_Σ_hist!(h_bb, label=\"BB (exact)\")\n",
    "\n",
    "\n",
    "axislegend(position=:lb)\n",
    "\n",
    "fig"
   ]
  },
  {
   "cell_type": "code",
   "execution_count": null,
   "id": "44",
   "metadata": {
    "tags": []
   },
   "outputs": [],
   "source": [
    "Arya.bins_knuth(x[1:10])"
   ]
  },
  {
   "cell_type": "markdown",
   "id": "45",
   "metadata": {
    "tags": []
   },
   "source": [
    "# 2 dimensional"
   ]
  },
  {
   "cell_type": "code",
   "execution_count": null,
   "id": "46",
   "metadata": {
    "tags": []
   },
   "outputs": [],
   "source": [
    "\n",
    "fig, ax = FigAxis(aspect=DataAspect(), xgridvisible=false,\n",
    "ygridvisible=false,\n",
    "    limits=(-2, 2, -2, 2)\n",
    ")\n",
    "scatter!(xi, eta, markersize=3, alpha=0.1, color=:black)\n",
    "fig"
   ]
  },
  {
   "cell_type": "code",
   "execution_count": null,
   "id": "47",
   "metadata": {
    "tags": []
   },
   "outputs": [],
   "source": [
    "fig, ax = FigAxis(aspect=DataAspect())\n",
    "\n",
    "h = heatmap!(h2d, colorscale=log10, colorrange=(1, maximum(h2d.values)))\n",
    "\n",
    "#scatter!(members.xi, members.eta, color=:black, markersize=1)\n",
    "Colorbar(fig[1, 2], h)\n",
    "fig"
   ]
  },
  {
   "cell_type": "code",
   "execution_count": null,
   "id": "48",
   "metadata": {
    "tags": []
   },
   "outputs": [],
   "source": [
    "h2d = Arya.histogram2d(xi, eta, 100, limits=(-2, 2, -2, 2))"
   ]
  },
  {
   "cell_type": "code",
   "execution_count": null,
   "id": "49",
   "metadata": {
    "tags": []
   },
   "outputs": [],
   "source": [
    "bw = Arya.bandwidth_knn(vcat(members.xi', members.eta'))"
   ]
  },
  {
   "cell_type": "code",
   "execution_count": null,
   "id": "50",
   "metadata": {
    "tags": []
   },
   "outputs": [],
   "source": [
    "akde2d = Arya.kde2d(members.xi, members.eta, 5bw, bins=256, kernel=Arya.kernel\n",
    "limits=(-2, 2, -2, 2))"
   ]
  },
  {
   "cell_type": "code",
   "execution_count": null,
   "id": "51",
   "metadata": {
    "tags": []
   },
   "outputs": [],
   "source": [
    "fig, ax = FigAxis(aspect=DataAspect())\n",
    "\n",
    "h = heatmap!(akde2d, colorscale=log10, colorrange=(1e-2, maximum(akde2d.values)))\n",
    "\n",
    "#scatter!(members.xi, members.eta, color=:black, markersize=1)\n",
    "Colorbar(fig[1, 2], h)\n",
    "fig"
   ]
  },
  {
   "cell_type": "code",
   "execution_count": null,
   "id": "52",
   "metadata": {
    "tags": []
   },
   "outputs": [],
   "source": [
    "fig, ax = FigAxis(aspect=DataAspect())\n",
    "\n",
    "contour!(akde2d.x, akde2d.y, Makie.pseudolog10.(akde2d.values ./ 1e-1), levels=20)\n",
    "\n",
    "fig"
   ]
  },
  {
   "cell_type": "code",
   "execution_count": null,
   "id": "53",
   "metadata": {
    "tags": []
   },
   "outputs": [],
   "source": [
    "kd2d = Arya.kde2d(members.xi, members.eta, fill(0.05, length(members.xi)), bins=256,\n",
    "limits=(-2, 2, -2, 2))\n"
   ]
  },
  {
   "cell_type": "code",
   "execution_count": null,
   "id": "54",
   "metadata": {
    "tags": []
   },
   "outputs": [],
   "source": [
    "fig, ax = FigAxis(aspect=DataAspect())\n",
    "\n",
    "h = heatmap!(kd2d, colorscale=log10, colorrange=(1e-2, maximum(kd2d.values)))\n",
    "\n",
    "#scatter!(members.xi, members.eta, color=:black, markersize=1)\n",
    "Colorbar(fig[1, 2], h)\n",
    "fig"
   ]
  },
  {
   "cell_type": "code",
   "execution_count": null,
   "id": "55",
   "metadata": {
    "tags": []
   },
   "outputs": [],
   "source": [
    "fig, ax = FigAxis(aspect=DataAspect())\n",
    "\n",
    "cs = contour!(kd2d.x, kd2d.y, Makie.pseudolog10.(kd2d.values ./ 1e-1), levels=20)\n",
    "\n",
    "fig"
   ]
  },
  {
   "cell_type": "code",
   "execution_count": null,
   "id": "56",
   "metadata": {
    "tags": []
   },
   "outputs": [],
   "source": [
    "kdkde = KD.kde((members.xi, members.eta),\n",
    "    boundary=((-2,2), (-2, 2)),\n",
    "    bandwidth=(0.05, 0.05)\n",
    "    )\n"
   ]
  },
  {
   "cell_type": "code",
   "execution_count": null,
   "id": "57",
   "metadata": {
    "tags": []
   },
   "outputs": [],
   "source": [
    "fig, ax = FigAxis(aspect=DataAspect())\n",
    "\n",
    "h = heatmap!(kdkde.x, kdkde.y, \n",
    "    kdkde.density, \n",
    "    colorscale=log10,\n",
    "    colorrange=(1e-2, maximum(kdkde.density))\n",
    ")\n",
    "Colorbar(fig[1, 2], h)\n",
    "fig"
   ]
  },
  {
   "cell_type": "code",
   "execution_count": null,
   "id": "58",
   "metadata": {
    "tags": []
   },
   "outputs": [],
   "source": [
    "fig, ax = FigAxis(aspect=DataAspect())\n",
    "\n",
    "contour!(kdkde.x, kdkde.y, Makie.pseudolog10.(kdkde.density ./ 1e-1), levels=20)\n",
    "\n",
    "fig"
   ]
  },
  {
   "cell_type": "code",
   "execution_count": null,
   "id": "59",
   "metadata": {
    "tags": []
   },
   "outputs": [],
   "source": [
    "res = vec(kdkde.density .- kd2d.values)\n",
    "\n",
    "hhh = Arya.histogram(res, 1000)\n",
    "\n",
    "fig, ax = FigAxis(\n",
    "    yscale=log10, \n",
    "    limits=(nothing, (nothing, 1e5)),\n",
    "    xlabel=\"residual KernelDensity.jl - Arya.jl for density\",\n",
    "    ylabel=\"count\"\n",
    ")\n",
    "scatter!(hhh)\n",
    "fig\n"
   ]
  },
  {
   "cell_type": "code",
   "execution_count": null,
   "id": "60",
   "metadata": {
    "tags": []
   },
   "outputs": [],
   "source": [
    "\n",
    "fig, ax = FigAxis(\n",
    "    yscale=log10, \n",
    "    xlabel=\"log density\",\n",
    "    ylabel=\"count\",\n",
    "    limits=(nothing, (1, 1e4))\n",
    ")\n",
    "\n",
    "\n",
    "res = log10.(kd2d.values)\n",
    "res = res[isfinite.(res)]\n",
    "\n",
    "hhh = Arya.histogram(res, 100)\n",
    "\n",
    "scatter!(hhh, label=\"Arya\")\n",
    "\n",
    "\n",
    "res = log10.(kdkde.density)\n",
    "res = res[isfinite.(res)]\n",
    "\n",
    "hhh = Arya.histogram(res, 100)\n",
    "\n",
    "scatter!(hhh, label=\"Kernel Density.jl\")\n",
    "\n",
    "\n",
    "axislegend()\n",
    "fig\n"
   ]
  },
  {
   "cell_type": "markdown",
   "id": "61",
   "metadata": {},
   "source": [
    "## 1D from the 2D"
   ]
  },
  {
   "cell_type": "markdown",
   "id": "62",
   "metadata": {},
   "source": [
    "# Gaussian Process Regression"
   ]
  },
  {
   "cell_type": "markdown",
   "id": "63",
   "metadata": {
    "tags": []
   },
   "source": [
    "# Bootstrapping"
   ]
  },
  {
   "cell_type": "code",
   "execution_count": null,
   "id": "64",
   "metadata": {
    "tags": []
   },
   "outputs": [],
   "source": [
    "function resample(M, N=M)\n",
    "    return rand(1:M, N)\n",
    "end"
   ]
  },
  {
   "cell_type": "code",
   "execution_count": null,
   "id": "65",
   "metadata": {
    "tags": []
   },
   "outputs": [],
   "source": [
    "function bootstrap(data, statistic; iterations=1000, sample_size=length(data), )\n",
    "    stats = [statistic(data)]\n",
    "    for _ in 1:iterations\n",
    "        idx = resample(length(data), sample_size)\n",
    "        push!(stats, statistic(data[idx]))\n",
    "    end\n",
    "    return stats\n",
    "end"
   ]
  },
  {
   "cell_type": "code",
   "execution_count": null,
   "id": "66",
   "metadata": {
    "tags": []
   },
   "outputs": [],
   "source": [
    "function bootstrap(data, weights, statistic; iterations=1000, sample_size=length(data), )\n",
    "    stats = [statistic(data, weights)]\n",
    "    N = length(data)\n",
    "    for _ in 1:iterations\n",
    "        idx = resample(N, sample_size)\n",
    "        x = data[idx]\n",
    "        w = weights[idx]\n",
    "        \n",
    "        push!(stats, statistic(x, w))\n",
    "    end\n",
    "    return stats\n",
    "end"
   ]
  },
  {
   "cell_type": "code",
   "execution_count": null,
   "id": "67",
   "metadata": {
    "tags": []
   },
   "outputs": [],
   "source": [
    "kds = bootstrap(x, xx->Arya.calc_kde(xx).values)"
   ]
  },
  {
   "cell_type": "code",
   "execution_count": null,
   "id": "68",
   "metadata": {
    "tags": []
   },
   "outputs": [],
   "source": [
    "hs = bootstrap(r_ell, weights, (x, w)->Arya.simple_hist(x, h.bins, w)[1], \n",
    "    iterations=1000,)\n",
    "    "
   ]
  },
  {
   "cell_type": "code",
   "execution_count": null,
   "id": "69",
   "metadata": {
    "tags": []
   },
   "outputs": [],
   "source": [
    "m = hcat(hs...)"
   ]
  },
  {
   "cell_type": "code",
   "execution_count": null,
   "id": "70",
   "metadata": {
    "tags": []
   },
   "outputs": [],
   "source": [
    "fig = Figure()\n",
    "ax = Axis(fig[1, 1])\n",
    "\n",
    "for hi in hs\n",
    "    lines!(Arya.midpoint(h.bins), hi, color=:black, alpha=0.1)\n",
    "end\n",
    "\n",
    "fig"
   ]
  },
  {
   "cell_type": "code",
   "execution_count": null,
   "id": "71",
   "metadata": {
    "tags": []
   },
   "outputs": [],
   "source": [
    "sigma_simp = μ ./ sqrt.(counts)"
   ]
  },
  {
   "cell_type": "code",
   "execution_count": null,
   "id": "72",
   "metadata": {
    "tags": []
   },
   "outputs": [],
   "source": [
    "μ = vec(Arya.mean(m, dims=2))\n",
    "σ = vec(Arya.std(m, dims=2))\n",
    "\n",
    "fig, _, _ = errscatter(Arya.midpoint(h.bins), μ, yerr=σ)\n",
    "#errscatter!(Arya.midpoint(h.bins), μ, yerr=sqrt.(μ))\n",
    "scatter!(Arya.midpoint(h.bins), m[:, 1], color=COLORS[3])\n",
    "\n",
    "fig"
   ]
  },
  {
   "cell_type": "code",
   "execution_count": null,
   "id": "73",
   "metadata": {
    "tags": []
   },
   "outputs": [],
   "source": [
    "scatter(Arya.midpoint(h.bins), sigma_simp ./ σ)"
   ]
  },
  {
   "cell_type": "code",
   "execution_count": null,
   "id": "74",
   "metadata": {
    "tags": []
   },
   "outputs": [],
   "source": [
    "errscatter(Arya.midpoint(h.bins), μ, yerr=sqrt.(μ))\n"
   ]
  },
  {
   "cell_type": "markdown",
   "id": "75",
   "metadata": {
    "jp-MarkdownHeadingCollapsed": true,
    "tags": []
   },
   "source": [
    "# MCMC histograms "
   ]
  },
  {
   "cell_type": "code",
   "execution_count": null,
   "id": "76",
   "metadata": {
    "tags": []
   },
   "outputs": [],
   "source": [
    "x = log10.(r_ell)"
   ]
  },
  {
   "cell_type": "code",
   "execution_count": null,
   "id": "77",
   "metadata": {
    "tags": []
   },
   "outputs": [],
   "source": [
    "δx = x .- log10.(abs.(r_ell))"
   ]
  },
  {
   "cell_type": "code",
   "execution_count": null,
   "id": "78",
   "metadata": {
    "tags": []
   },
   "outputs": [],
   "source": [
    "weights"
   ]
  },
  {
   "cell_type": "code",
   "execution_count": null,
   "id": "79",
   "metadata": {
    "tags": []
   },
   "outputs": [],
   "source": [
    "δweights = 0.5weights"
   ]
  },
  {
   "cell_type": "code",
   "execution_count": null,
   "id": "80",
   "metadata": {
    "tags": []
   },
   "outputs": [],
   "source": [
    "function resample(x, dx, w, dw, size)\n",
    "    N = length(x)\n",
    "    idx = resample(N, size)\n",
    "    \n",
    "    x1 = x[idx] .+ dx[idx] .* randn(size)\n",
    "    w1 = w[idx] .+ dw[idx] .* randn(size)\n",
    "    return x1, w1\n",
    "end"
   ]
  },
  {
   "cell_type": "code",
   "execution_count": null,
   "id": "81",
   "metadata": {
    "tags": []
   },
   "outputs": [],
   "source": [
    "resample(x, δx, weights, δweights, 10)"
   ]
  },
  {
   "cell_type": "code",
   "execution_count": null,
   "id": "82",
   "metadata": {
    "tags": []
   },
   "outputs": [],
   "source": [
    "function bootstrap(data, ddata, weights, dweights, statistic; iterations=1000, sample_size=length(data), )\n",
    "    stats = [statistic(data, weights)]\n",
    "    for _ in 1:iterations\n",
    "        x, w = resample(data, ddata, weights, dweights,sample_size)\n",
    "\n",
    "        \n",
    "        push!(stats, statistic(x, w))\n",
    "    end\n",
    "    return stats\n",
    "end"
   ]
  },
  {
   "cell_type": "code",
   "execution_count": null,
   "id": "83",
   "metadata": {
    "tags": []
   },
   "outputs": [],
   "source": [
    "h = Arya.histogram(x)"
   ]
  },
  {
   "cell_type": "code",
   "execution_count": null,
   "id": "84",
   "metadata": {
    "tags": []
   },
   "outputs": [],
   "source": [
    "hs = bootstrap(x, δx, weights, δweights, (x, w)->Arya.simple_hist(x, h.bins, w)[1], \n",
    "    iterations=1000,)"
   ]
  },
  {
   "cell_type": "code",
   "execution_count": null,
   "id": "85",
   "metadata": {
    "tags": []
   },
   "outputs": [],
   "source": [
    "m = hcat(hs...)"
   ]
  },
  {
   "cell_type": "code",
   "execution_count": null,
   "id": "86",
   "metadata": {
    "tags": []
   },
   "outputs": [],
   "source": [
    "fig = Figure()\n",
    "ax = Axis(fig[1, 1])\n",
    "\n",
    "for hi in hs\n",
    "    lines!(Arya.midpoint(h.bins), hi, color=:black, alpha=0.01)\n",
    "end\n",
    "\n",
    "fig"
   ]
  },
  {
   "cell_type": "code",
   "execution_count": null,
   "id": "87",
   "metadata": {
    "tags": []
   },
   "outputs": [],
   "source": [
    "μ = vec(Arya.mean(m, dims=2))\n",
    "σ = vec(Arya.std(m, dims=2))\n",
    "\n",
    "fig, _, _ = errscatter(Arya.midpoint(h.bins), μ, yerr=σ)\n",
    "#errscatter!(Arya.midpoint(h.bins), μ, yerr=sqrt.(μ))\n",
    "scatter!(Arya.midpoint(h.bins), m[:, 1], color=COLORS[3])\n",
    "\n",
    "fig"
   ]
  },
  {
   "cell_type": "code",
   "execution_count": null,
   "id": "88",
   "metadata": {
    "tags": []
   },
   "outputs": [],
   "source": [
    "counts = Arya.histogram(x, h.bins).values;"
   ]
  },
  {
   "cell_type": "code",
   "execution_count": null,
   "id": "89",
   "metadata": {
    "tags": []
   },
   "outputs": [],
   "source": [
    "dw_mean = Arya.histogram(x, h.bins, weights=δweights).values ./ sqrt.(counts);"
   ]
  },
  {
   "cell_type": "code",
   "execution_count": null,
   "id": "90",
   "metadata": {
    "tags": []
   },
   "outputs": [],
   "source": [
    "w_mean = Arya.histogram(x, h.bins, weights=weights).values ./ sqrt.(counts);"
   ]
  },
  {
   "cell_type": "code",
   "execution_count": null,
   "id": "91",
   "metadata": {
    "tags": []
   },
   "outputs": [],
   "source": [
    "sigma_simp = sigma_simp = (μ) ./ sqrt.(counts) .+ μ .* 0.5 ./ (counts)"
   ]
  },
  {
   "cell_type": "code",
   "execution_count": null,
   "id": "92",
   "metadata": {
    "tags": []
   },
   "outputs": [],
   "source": [
    "\n",
    "fig, _, _ = errscatter(Arya.midpoint(h.bins), sigma_simp ./ σ,\n",
    "    yerr = 0.3 ./ sqrt.(counts),\n",
    "    axis=(; limits=(nothing, (0, 2)), ylabel=\"err analytic / bootstrap\")\n",
    ")\n",
    "hlines!(1)\n",
    "fig"
   ]
  }
 ],
 "metadata": {
  "kernelspec": {
   "display_name": "Julia 1.10.4",
   "language": "julia",
   "name": "julia-1.10"
  },
  "language_info": {
   "file_extension": ".jl",
   "mimetype": "application/julia",
   "name": "julia",
   "version": "1.10.4"
  }
 },
 "nbformat": 4,
 "nbformat_minor": 5
}
