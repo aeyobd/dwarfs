{
 "cells": [
  {
   "cell_type": "markdown",
   "id": "0",
   "metadata": {},
   "source": [
    "# Tidal signatures search\n",
    "\n",
    "In Gaia data, can we detect the signatures of tides by looking along the orbit to see excesses of stars of tidal shifts?\n",
    "\n",
    "Below, I use both a cutout of 4 degrees from gaia using simple absolute cuts and also J+24's sample of bayesian probabilities and make plots of CMD and proper motion space along the orbit."
   ]
  },
  {
   "cell_type": "markdown",
   "id": "1",
   "metadata": {},
   "source": [
    "# Setup"
   ]
  },
  {
   "cell_type": "code",
   "execution_count": null,
   "id": "2",
   "metadata": {},
   "outputs": [],
   "source": [
    "using Arya, CairoMakie\n",
    "using LilGuys\n",
    "import CairoMakie: save\n",
    "import TOML"
   ]
  },
  {
   "cell_type": "code",
   "execution_count": null,
   "id": "3",
   "metadata": {},
   "outputs": [],
   "source": [
    "red = COLORS[6];"
   ]
  },
  {
   "cell_type": "code",
   "execution_count": null,
   "id": "4",
   "metadata": {},
   "outputs": [],
   "source": [
    "import LinearAlgebra: normalize, ×"
   ]
  },
  {
   "cell_type": "code",
   "execution_count": null,
   "id": "5",
   "metadata": {},
   "outputs": [],
   "source": [
    "# selection parameters\n",
    "\n",
    "pm_max = 10\n",
    "θ0 = -39.63\n",
    "fig_dir = \"./figures/\""
   ]
  },
  {
   "cell_type": "code",
   "execution_count": null,
   "id": "6",
   "metadata": {},
   "outputs": [],
   "source": [
    "obs_props = TOML.parsefile(\"observed_properties.toml\")\n"
   ]
  },
  {
   "cell_type": "code",
   "execution_count": null,
   "id": "7",
   "metadata": {},
   "outputs": [],
   "source": [
    "include(\"../../utils/gaia_filters.jl\")"
   ]
  },
  {
   "cell_type": "code",
   "execution_count": null,
   "id": "8",
   "metadata": {},
   "outputs": [],
   "source": [
    "filt_params = GaiaFilterParams(read_paramfile(\"processed/simple.toml\"))"
   ]
  },
  {
   "cell_type": "code",
   "execution_count": null,
   "id": "9",
   "metadata": {},
   "outputs": [],
   "source": [
    "distance = obs_props[\"distance\"]"
   ]
  },
  {
   "cell_type": "markdown",
   "id": "10",
   "metadata": {},
   "source": [
    "## Loading data"
   ]
  },
  {
   "cell_type": "code",
   "execution_count": null,
   "id": "11",
   "metadata": {},
   "outputs": [],
   "source": [
    "all_stars = load_gaia_stars(\"data/gaia_4deg_cen.fits\", filt_params, θ = θ0)\n",
    "\n",
    "all_stars[!, :filt_ruwe] = ruwe_filter(all_stars, filt_params)\n",
    "all_stars[!, :filt_parallax] = parallax_filter(all_stars, filt_params)\n",
    "all_stars[!, :filt_qual] = all_stars.filt_ruwe .& all_stars.filt_parallax\n",
    "\n",
    "all_stars[!, :filt_cmd] = cmd_filter(all_stars, filt_params)\n",
    "\n",
    "all_stars[!, :filt_pm] = pm_filter(all_stars, filt_params)\n",
    "all_stars[!, :filt_all] = all_stars.filt_qual .& all_stars.filt_cmd .& all_stars.filt_pm\n",
    "\n",
    "\n",
    "all_stars"
   ]
  },
  {
   "cell_type": "code",
   "execution_count": null,
   "id": "12",
   "metadata": {},
   "outputs": [],
   "source": [
    "j24 = load_gaia_stars(\"processed/j24_sculptor_all.fits\", filt_params, θ = θ0)\n",
    "\n",
    "j24[!, :filt_qual] = j24.F_BEST .== 1.0\n",
    "j24[!, :filt_cmd] = j24.PSAT_CMD .> 0.2\n",
    "j24[!, :filt_pm] = j24.PSAT_PM .> 0.2\n",
    "j24[!, :filt_all] = j24.PSAT .> 0.2\n",
    "\n",
    "j24"
   ]
  },
  {
   "cell_type": "code",
   "execution_count": null,
   "id": "13",
   "metadata": {},
   "outputs": [],
   "source": [
    "parentdir = \"/astro/dboyea/dwarfs\"\n",
    "modelname = \"sculptor/1e6_V31_r3.2/orbit1\""
   ]
  },
  {
   "cell_type": "code",
   "execution_count": null,
   "id": "14",
   "metadata": {},
   "outputs": [],
   "source": [
    "model_dir = joinpath(parentdir, \"analysis\", modelname)\n",
    "orbit_props = TOML.parsefile(\"$model_dir/orbital_properties.toml\")\n",
    "idx_f = orbit_props[\"idx_f\"]\n",
    "\n",
    "orbit = LilGuys.read_fits(\"$model_dir/skyorbit.fits\")\n",
    "orbit[!, :xi], orbit[!, :eta] = LilGuys.to_tangent(orbit.ra, orbit.dec, orbit.ra[idx_f], orbit.dec[idx_f])\n",
    "\n",
    "orbit = orbit[idx_f-10:idx_f+10, :]"
   ]
  },
  {
   "cell_type": "markdown",
   "id": "15",
   "metadata": {},
   "source": [
    "## Plotting functions"
   ]
  },
  {
   "cell_type": "code",
   "execution_count": null,
   "id": "16",
   "metadata": {},
   "outputs": [],
   "source": [
    "macro savefig(name, fig=nothing)\n",
    "\tif fig === nothing\n",
    "\t\tfig = esc(:fig)\n",
    "\tend\n",
    "\t\n",
    "\treturn quote\n",
    "\t\tfilename = joinpath(fig_dir, $name) * \".pdf\"\n",
    "\t\tsave(filename, $fig)\n",
    "\t\t@info \"saved figure to $filename\"\n",
    "\tend\n",
    "end"
   ]
  },
  {
   "cell_type": "code",
   "execution_count": null,
   "id": "17",
   "metadata": {},
   "outputs": [],
   "source": [
    "function cmd_axis(gs)\n",
    "\treturn Axis(gs,\n",
    "\t\txlabel = \"Bp-Rp\",\n",
    "\t\tylabel = \"G\",\n",
    "\t\tyreversed=true,\n",
    "\t\tlimits = (-0.2, 2, 15, 21),\n",
    "\t\txgridvisible=false,\n",
    "\t\tygridvisible=false,\n",
    "\t)\n",
    "end"
   ]
  },
  {
   "cell_type": "code",
   "execution_count": null,
   "id": "18",
   "metadata": {},
   "outputs": [],
   "source": [
    "function xieta_axis(gs)\n",
    "\treturn Axis(gs,\n",
    "\t\txlabel=L\"$\\xi$ / degrees\",\n",
    "\t\tylabel=L\"$\\eta$ / degrees\",\n",
    "\t\taspect=DataAspect(),\n",
    "\t\txgridvisible=false, \n",
    "\t\tygridvisible=false,\n",
    "        xreversed=true,\n",
    "\t)\n",
    "end"
   ]
  },
  {
   "cell_type": "code",
   "execution_count": null,
   "id": "19",
   "metadata": {},
   "outputs": [],
   "source": [
    "function pm_axis(gp; dpm=11, kwargs...)\n",
    "\treturn Axis(gp, \n",
    "\t\txlabel=L\"$\\mu_{\\alpha*}$ / mas\\,yr$^{-1}$\",\n",
    "\t\tylabel=L\"$\\mu_\\delta$ / mas\\,yr$^{-1}$\",\n",
    "\t\taspect=DataAspect(),\n",
    "\t\tlimits= dpm .* (-1, 1, -1, 1),\n",
    "\t\txgridvisible=false,\n",
    "\t\tygridvisible=false,\n",
    "\t)\n",
    "end"
   ]
  },
  {
   "cell_type": "markdown",
   "id": "20",
   "metadata": {},
   "source": [
    "# Plots of entire samples"
   ]
  },
  {
   "cell_type": "code",
   "execution_count": null,
   "id": "21",
   "metadata": {
    "jupyter": {
     "source_hidden": true
    }
   },
   "outputs": [],
   "source": [
    "let\n",
    "\tfig = Figure()\n",
    "\tax = xieta_axis(fig[1, 1])\n",
    "    ax.title = \"Gaia\"\n",
    "    \n",
    "\tax.limits = (-4, 4, -4, 4)\n",
    "\t\n",
    "\tdf = all_stars[all_stars.filt_cmd .& all_stars.filt_qual, :]\n",
    "\tscatter!(df.xi, df.eta, color=:black, alpha=1, markersize=3, label=\"quality+parallax+cmd\")\n",
    "\n",
    "\tdf = all_stars[all_stars.filt_cmd .& all_stars.filt_qual .& all_stars.filt_pm, :]\n",
    "\tscatter!(df.xi, df.eta, color=red, alpha=1, markersize=3, label=\"+pm\")\n",
    "    Legend(fig[1,2], ax)\n",
    "    \n",
    "\t@savefig \"scl_matched_filter\"\n",
    "\tfig\n",
    "end"
   ]
  },
  {
   "cell_type": "code",
   "execution_count": null,
   "id": "22",
   "metadata": {},
   "outputs": [],
   "source": [
    "let\n",
    "\tfig = Figure()\n",
    "\tax = xieta_axis(fig[1, 1])\n",
    "\tax.limits = (-2, 2, -2, 2)\n",
    "    ax.title = \"J+24\"\n",
    "\t\n",
    "\tdf = j24[j24.filt_cmd .& j24.filt_qual, :]\n",
    "\tscatter!(df.xi, df.eta, color=:black, alpha=1, markersize=3, label=\"quality+parallax+cmd\")\n",
    "\n",
    "\tdf = j24[j24.filt_all, :]\n",
    "\tscatter!(df.xi, df.eta, color=red, alpha=1, markersize=3, label=\"PSAT\")\n",
    "    Legend(fig[1,2], ax)\n",
    "    \n",
    "\tfig\n",
    "end"
   ]
  },
  {
   "cell_type": "markdown",
   "id": "23",
   "metadata": {},
   "source": [
    "### Quality cuts"
   ]
  },
  {
   "cell_type": "code",
   "execution_count": null,
   "id": "24",
   "metadata": {},
   "outputs": [],
   "source": [
    "import LilGuys.Plots as LP"
   ]
  },
  {
   "cell_type": "code",
   "execution_count": null,
   "id": "25",
   "metadata": {},
   "outputs": [],
   "source": [
    "let\n",
    "    fig = Figure()\n",
    "    ax = Axis(fig[1, 1], \n",
    "        xlabel = \"parallax\",\n",
    "        ylabel = \"parallax error\",\n",
    "        limits = (-10, 10, 0, nothing),\n",
    "        )\n",
    "\n",
    "    scatter!(all_stars.parallax, all_stars.parallax_error, markersize=1, alpha=0.2, color=:black, label = \"all stars\")\n",
    "\n",
    "    scatter!(all_stars.parallax[all_stars.filt_parallax], all_stars.parallax_error[all_stars.filt_parallax], label = \"parallax selected stars\")\n",
    "\n",
    "    xs = 1.5 * [-5, 0, 5]\n",
    "    lines!(xs, 1/3*abs.(xs), label = \"3 sigma consist. with zero\", color=COLORS[2])\n",
    "\n",
    "    LP.hide_grid!(ax)\n",
    "\n",
    "    Legend(fig[1, 2], ax)\n",
    "\n",
    "    fig\n",
    "end"
   ]
  },
  {
   "cell_type": "code",
   "execution_count": null,
   "id": "26",
   "metadata": {},
   "outputs": [],
   "source": [
    "let\n",
    "    fig = Figure()\n",
    "    ax = Axis(fig[1, 1], \n",
    "        xlabel = \"log RUWE\", \n",
    "        ylabel = \"counts\",\n",
    "        limits = (nothing, nothing, 1, 1e5),\n",
    "        yscale=log10\n",
    "        )\n",
    "\n",
    "    bins = -0.1:0.01:1.5\n",
    "\n",
    "    hist!(log10.(all_stars.ruwe)[all_stars.filt_ruwe], bins=bins, label=\"RUWE selection\")\n",
    "    stephist!(log10.(all_stars.ruwe), bins=bins, color=:black, label=\"all stars\")\n",
    "\n",
    "    vlines!(log10(1.3), color=COLORS[3], linestyle=:dash, label=\"threshold\")\n",
    "\n",
    "    axislegend()\n",
    "\n",
    "    LP.hide_grid!(ax)\n",
    "    fig\n",
    "end"
   ]
  },
  {
   "cell_type": "code",
   "execution_count": null,
   "id": "27",
   "metadata": {},
   "outputs": [],
   "source": [
    "cmd_x = [filt_params.cmd_cut[1:2:end]; filt_params.cmd_cut[1]]\n",
    "cmd_y = [filt_params.cmd_cut[2:2:end]; filt_params.cmd_cut[2]];"
   ]
  },
  {
   "cell_type": "code",
   "execution_count": null,
   "id": "28",
   "metadata": {},
   "outputs": [],
   "source": [
    "let\n",
    "\tfig = Figure()\n",
    "\n",
    "\tax = cmd_axis(fig[1, 1])\n",
    "\n",
    "\tfilt = copy(all_stars.filt_qual)\n",
    "\n",
    "\tscatter!(all_stars.bp_rp[filt], all_stars.G[filt], markersize=1, alpha=0.3, color=:black, label=\"parallax + quality cuts\")\n",
    "\n",
    "\tfilt .&= all_stars.filt_cmd .* all_stars.filt_pm\n",
    "\tscatter!(all_stars.bp_rp[filt], all_stars.G[filt], markersize=2, label=\"+ CMD + PM cuts\")\n",
    "\t#lines!(iso.bp_rp, iso.G .+ dm)\n",
    "\tpoly!(cmd_x, cmd_y, color=:transparent, strokecolor=COLORS[2], strokewidth=2)\n",
    "\n",
    "\taxislegend(position=:lt, markersize=10)\n",
    "\n",
    "\t@savefig \"cmd_polygon\"\n",
    "\tfig\n",
    "end"
   ]
  },
  {
   "cell_type": "code",
   "execution_count": null,
   "id": "29",
   "metadata": {},
   "outputs": [],
   "source": [
    "let\n",
    "\tfig = Figure()\n",
    "\n",
    "\tax = cmd_axis(fig[1, 1])\n",
    "\tax.title = \"J24\"\n",
    "\n",
    "\tfilt = copy(j24.filt_qual)\n",
    "\n",
    "\tscatter!(j24.bp_rp[filt], j24.G[filt], markersize=1, alpha=0.3, color=:black, label=\"parallax + quality cuts\")\n",
    "\n",
    "\tfilt .&= j24.filt_all\n",
    "\tscatter!(j24.bp_rp[filt], j24.G[filt], markersize=2, label=\"+ CMD + PM cuts\")\n",
    "\t#lines!(iso.bp_rp, iso.G .+ dm)\n",
    "\tpoly!(cmd_x, cmd_y, color=:transparent, strokecolor=COLORS[2], strokewidth=2)\n",
    "\n",
    "\taxislegend(position=:lt, markersize=10)\n",
    "\n",
    "\t@savefig \"cmd_polygon\"\n",
    "\tfig\n",
    "end"
   ]
  },
  {
   "cell_type": "code",
   "execution_count": null,
   "id": "30",
   "metadata": {},
   "outputs": [],
   "source": [
    "let\n",
    "\tfig = Figure()\n",
    "    ax = pm_axis(fig[1, 1], dpm=11)\n",
    "    ax.title = \"Gaia stars within 4 degrees of Scl\"\n",
    "    \n",
    "\tscatter!(all_stars.pmra, all_stars.pmdec, markersize=1, alpha=0.2, color=:black, )\n",
    "\tscatter!([NaN], [NaN], markersize=5, alpha=0.2, color=:black, label = \"all stars in Gaia\")\n",
    "    \n",
    "\tfilt = all_stars.filt_pm \n",
    "\n",
    "\tscatter!(all_stars.pmra[filt], all_stars.pmdec[filt], markersize=1, color=COLORS[1])\n",
    "\tscatter!([NaN], [NaN], markersize=5, color=COLORS[1], label = \"PM selected stars\")\n",
    "\n",
    "    arc!(Point2f(filt_params.pmra, filt_params.pmdec), filt_params.dpm, -π, π, color=COLORS[2], label = \"PM cut\")\n",
    "\n",
    "    leg = Legend(fig[1, 2], ax, markersize=15)\n",
    "    \n",
    "\tfig\n",
    "end"
   ]
  },
  {
   "cell_type": "code",
   "execution_count": null,
   "id": "31",
   "metadata": {},
   "outputs": [],
   "source": [
    "let\n",
    "\tfig = Figure()\n",
    "    ax = pm_axis(fig[1, 1], dpm=11)\n",
    "    \n",
    "\tscatter!(j24.pmra, j24.pmdec, \n",
    "        markersize=2, alpha=0.2, color=:black, \n",
    "    )\n",
    "    scatter!([NaN], [NaN], markersize=5, alpha=0.2, color=:black, label = \"J+24 all stars\")\n",
    "\n",
    "\tfilt = j24.filt_pm \n",
    "\tscatter!(j24.pmra[filt], j24.pmdec[filt], markersize=2, )\n",
    "\tscatter!([NaN], [NaN], markersize=5, color=COLORS[1], label=\"J+24 PM PSAT > 0.2\")\n",
    "    arc!(Point2f(filt_params.pmra, filt_params.pmdec), filt_params.dpm, -π, π, color=COLORS[2], label = \"PM cut\")\n",
    "\n",
    "    Legend(fig[1, 2], ax)\n",
    "\tfig\n",
    "end"
   ]
  },
  {
   "cell_type": "markdown",
   "id": "32",
   "metadata": {},
   "source": [
    "### Understanding the background"
   ]
  },
  {
   "cell_type": "code",
   "execution_count": null,
   "id": "33",
   "metadata": {},
   "outputs": [],
   "source": [
    "let\n",
    "    fig = Figure()\n",
    "    ax = xieta_axis(fig[1,1])\n",
    "\n",
    "    filt = all_stars.filt_qual .& .! all_stars.filt_cmd .& .! all_stars.filt_pm\n",
    "\n",
    "    scatter!(all_stars.xi[filt], all_stars.eta[filt], color=:black, markersize=1)\n",
    "\n",
    "    ax.title = \"not CMD, not PM but passing parallax and ruwe\"\n",
    "    fig\n",
    "end"
   ]
  },
  {
   "cell_type": "code",
   "execution_count": null,
   "id": "34",
   "metadata": {},
   "outputs": [],
   "source": [
    "let\n",
    "    fig = Figure()\n",
    "    ax = cmd_axis(fig[1,1])\n",
    "\n",
    "    filt = all_stars.filt_qual .& .! all_stars.filt_pm\n",
    "\n",
    "    scatter!(all_stars.bp_rp[filt], all_stars.G[filt], color=:black, markersize=1)\n",
    "\n",
    "    ax.title = \"not PM but passing parallax and ruwe\"\n",
    "    fig\n",
    "end"
   ]
  },
  {
   "cell_type": "code",
   "execution_count": null,
   "id": "35",
   "metadata": {},
   "outputs": [],
   "source": [
    "let\n",
    "    fig = Figure()\n",
    "    ax = Axis(fig[1, 1],\n",
    "        xlabel = L\"total parallax error (mas\\,yr$^{-1}$)\",\n",
    "        ylabel = \"count\",\n",
    "        title = \"J+24, PSAT > 0.2\",\n",
    "        )\n",
    "\n",
    "    df = j24[j24.filt_all, :]\n",
    "    x = df.pmra_error .⊕ df.pmdec_error\n",
    "    stephist!(x)\n",
    "    \n",
    "    vlines!(median(x), color=COLORS[2])\n",
    "    text!(median(x), 0, text=\"median\", color=COLORS[2], rotation=π/2)\n",
    "\n",
    "    println(median(x))\n",
    "    fig\n",
    "end"
   ]
  },
  {
   "cell_type": "code",
   "execution_count": null,
   "id": "36",
   "metadata": {},
   "outputs": [],
   "source": [
    "let\n",
    "    fig = Figure()\n",
    "    ax = Axis(fig[1, 1],\n",
    "        xlabel = L\"total parallax error (mas\\,yr$^{-1}$)\",\n",
    "        ylabel = \"count\",\n",
    "        title = \"all \",\n",
    "        )\n",
    "\n",
    "    df = all_stars[all_stars.filt_qual, :]\n",
    "    x = df.pmra_error .⊕ df.pmdec_error\n",
    "    x = x[isfinite.(x)]\n",
    "    stephist!(x)\n",
    "    \n",
    "    vlines!(median(x), color=COLORS[2])\n",
    "    text!(median(x), 0, text=\"median\", color=COLORS[2], rotation=π/2)\n",
    "\n",
    "    println(median(x))\n",
    "    fig\n",
    "end"
   ]
  },
  {
   "cell_type": "code",
   "execution_count": null,
   "id": "37",
   "metadata": {},
   "outputs": [],
   "source": [
    "let\n",
    "    fig = Figure()\n",
    "    ax = pm_axis(fig[1,1], dpm=20)\n",
    "\n",
    "    filt = all_stars.filt_qual .& .! all_stars.filt_cmd\n",
    "\n",
    "    scatter!(all_stars.pmra[filt], all_stars.pmdec[filt], color=:black, markersize=1)\n",
    "\n",
    "    scatter!(filt_params.pmra, filt_params.pmdec, color=red)\n",
    "    ax.title = \"not CMD but passing parallax and ruwe\"\n",
    "    fig\n",
    "end"
   ]
  },
  {
   "cell_type": "code",
   "execution_count": null,
   "id": "38",
   "metadata": {},
   "outputs": [],
   "source": [
    "let\n",
    "    fig = Figure()\n",
    "    ax = xieta_axis(fig[1,1])\n",
    "    ax.title = \"J+24, PSAT < 0.2\"\n",
    "\n",
    "    filt = j24.PSAT .< 0.2\n",
    "\n",
    "    scatter!(j24.xi[filt], j24.eta[filt], color=:black, markersize=2)\n",
    "\n",
    "    fig\n",
    "end"
   ]
  },
  {
   "cell_type": "code",
   "execution_count": null,
   "id": "39",
   "metadata": {},
   "outputs": [],
   "source": [
    "let\n",
    "    fig = Figure()\n",
    "    ax = cmd_axis(fig[1,1])\n",
    "    ax.title = \"J+24, PSAT < 0.2\"\n",
    "\n",
    "    filt = j24.PSAT .< 0.2\n",
    "\n",
    "    scatter!(j24.bp_rp[filt], j24.G[filt], color=:black, markersize=2)\n",
    "\n",
    "    fig\n",
    "end"
   ]
  },
  {
   "cell_type": "code",
   "execution_count": null,
   "id": "40",
   "metadata": {},
   "outputs": [],
   "source": [
    "let\n",
    "    fig = Figure()\n",
    "    ax = pm_axis(fig[1,1])\n",
    "    ax.title = \"J+24, PSAT < 0.2\"\n",
    "\n",
    "    filt = j24.PSAT .< 0.2\n",
    "\n",
    "    scatter!(j24.pmra[filt], j24.pmdec[filt], color=:black, markersize=2)\n",
    "    scatter!(filt_params.pmra, filt_params.pmdec, color=red)\n",
    "\n",
    "    fig\n",
    "end"
   ]
  },
  {
   "cell_type": "markdown",
   "id": "41",
   "metadata": {},
   "source": [
    "# Cutouts"
   ]
  },
  {
   "cell_type": "markdown",
   "id": "42",
   "metadata": {},
   "source": [
    "## Defining the cutouts\n",
    "\n",
    "Here, we begin to take cutouts along the orbit (more specifically, along the proper motion vector in the GSR frame as this is model-independent)"
   ]
  },
  {
   "cell_type": "code",
   "execution_count": null,
   "id": "43",
   "metadata": {},
   "outputs": [],
   "source": [
    "orbit_vector = [sind(θ0), cosd(θ0)]\n",
    "bg_vector = ([orbit_vector; 0] × [0, 0, 1])[1:2]"
   ]
  },
  {
   "cell_type": "code",
   "execution_count": null,
   "id": "44",
   "metadata": {},
   "outputs": [],
   "source": [
    "r_circ_cut = 0.25"
   ]
  },
  {
   "cell_type": "markdown",
   "id": "45",
   "metadata": {},
   "source": [
    "## Utility functions"
   ]
  },
  {
   "cell_type": "code",
   "execution_count": null,
   "id": "46",
   "metadata": {},
   "outputs": [],
   "source": [
    "function select_region_circle(allstars, centre; radius=0.5)\n",
    "\tx_cen, y_cen = centre\n",
    "\n",
    "\tr = @. sqrt((allstars.xi - x_cen)^2 + (allstars.eta - y_cen)^2)\n",
    "\n",
    "\tfilt = r .< radius\n",
    "\n",
    "\treturn filt\n",
    "end"
   ]
  },
  {
   "cell_type": "code",
   "execution_count": null,
   "id": "47",
   "metadata": {},
   "outputs": [],
   "source": [
    "function select_region_rect(all_stars, low, high; radius=1, θ=0)\n",
    "\n",
    "    x = @. cosd(θ) * all_stars.xi_p + sind(θ) * all_stars.eta_p\n",
    "    y = @. sind(θ) * all_stars.xi_p - cosd(θ) * all_stars.eta_p\n",
    "    \n",
    "\tfilt = abs.(y) .<= radius\n",
    "\n",
    "    filt .&= low .<= x .< high\n",
    "    \n",
    "\treturn filt\n",
    "end"
   ]
  },
  {
   "cell_type": "code",
   "execution_count": null,
   "id": "48",
   "metadata": {},
   "outputs": [],
   "source": [
    "function plot_cmd_members!(ax, all_stars, filters; labels=nothing)    \n",
    "    if labels === nothing\n",
    "        labels = [\"\" for _ in filters]\n",
    "    end\n",
    "\n",
    "    for i in 1:length(filters)\n",
    "        df = all_stars[filters[i], :]\n",
    "        plot_cmd!(ax, df, label=labels[i]; styles[i]...)\n",
    "\tend\n",
    "    \n",
    "\tN = sum(filters[end])\n",
    "    return N\n",
    "end"
   ]
  },
  {
   "cell_type": "code",
   "execution_count": null,
   "id": "49",
   "metadata": {},
   "outputs": [],
   "source": [
    "\n",
    "styles = [ \n",
    "    (; markersize=5, color=COLORS[1]), \n",
    "    (; color=COLORS[2], markersize=7),\n",
    "    (; color=COLORS[3], markersize=10),\n",
    "]\n"
   ]
  },
  {
   "cell_type": "code",
   "execution_count": null,
   "id": "50",
   "metadata": {},
   "outputs": [],
   "source": [
    "function plot_tangent_members!(ax, all_stars, filters; labels=false, background=false)\n",
    "    if labels === nothing\n",
    "        labels = [\"\" for _ in filters]\n",
    "    end\n",
    "\n",
    "    s = []\n",
    "    for i in 1:length(filters)\n",
    "        df = all_stars[filters[i], :]\n",
    "        p = scatter!(ax, df.xi, df.eta, label=labels[i]; styles[i]...)\n",
    "        push!(s, p)\n",
    "\tend\n",
    "\n",
    "    return s\n",
    "end"
   ]
  },
  {
   "cell_type": "code",
   "execution_count": null,
   "id": "51",
   "metadata": {},
   "outputs": [],
   "source": [
    "function plot_pm_members!(ax, all_stars, filters; labels=false)\n",
    "    if labels === nothing\n",
    "        labels = [\"\" for _ in filters]\n",
    "    end\n",
    "\n",
    "\n",
    "    for i in 1:length(filters)\n",
    "        df = all_stars[filters[i], :]\n",
    "        scatter!(ax, df.pmra, df.pmdec, label=labels[i]; styles[i]...)\n",
    "\tend\n",
    "\n",
    "    df = all_stars[filters[end], :]\n",
    "\tx, y, xe, ye = get_mean_pm(df)\n",
    "\n",
    "\tscatter!(ax, x, y, #xerr=[pmra_cen_err], yerr=[pmdec_cen_err], \n",
    "\tcolor=red, label=\"mean\", markersize=15)\n",
    "    errscatter!([x], [y], xerr=[xe], yerr=[ye], \n",
    "\tcolor=red, label=\"mean\")\n",
    "\n",
    "end"
   ]
  },
  {
   "cell_type": "code",
   "execution_count": null,
   "id": "52",
   "metadata": {},
   "outputs": [],
   "source": [
    "function get_mean_pm(df)\n",
    "\tpmra_cen = lguys.mean(df.pmra, (df.pmra_error .^ -2))\n",
    "\tpmra_cen_err = sqrt(1 / sum(df.pmra_error .^ -2))\n",
    "\tpmdec_cen = lguys.mean(df.pmdec, (df.pmdec_error .^ -2))\n",
    "\tpmdec_cen_err = sqrt(1 / sum(df.pmdec_error .^ -2))\n",
    "\n",
    "\treturn pmra_cen, pmdec_cen, pmra_cen_err, pmdec_cen_err\n",
    "end"
   ]
  },
  {
   "cell_type": "code",
   "execution_count": null,
   "id": "53",
   "metadata": {},
   "outputs": [],
   "source": [
    "function plot_cmd!(ax, df; kwargs...)\n",
    "\tscatter!(ax, df.bp_rp, df.G, alpha=1; kwargs...)\n",
    "end"
   ]
  },
  {
   "cell_type": "markdown",
   "id": "54",
   "metadata": {},
   "source": [
    "# Animations"
   ]
  },
  {
   "cell_type": "markdown",
   "id": "55",
   "metadata": {},
   "source": [
    "To understand if there are substantial numbers of stars which could be associated with sculptor"
   ]
  },
  {
   "cell_type": "code",
   "execution_count": null,
   "id": "56",
   "metadata": {},
   "outputs": [],
   "source": [
    "using Printf"
   ]
  },
  {
   "cell_type": "code",
   "execution_count": null,
   "id": "57",
   "metadata": {},
   "outputs": [],
   "source": [
    "function compare_regions_animation(all_stars, selection_filters; \n",
    "        legend=true, r_max=4, Nf=20, θ=0, filename=\"compare_regions_animation.gif\"\n",
    "    )\n",
    "    dr = 0.5\n",
    "    rs_test = LinRange(-r_max, r_max-dr, Nf)\n",
    "    \n",
    "        \n",
    "    labels = first.(selection_filters)\n",
    "    \n",
    "    # Create observables to update during the animation\n",
    "    filt_r_obs = select_region_rect(all_stars, rs_test[1], rs_test[1]+dr, θ=θ)\n",
    "    filts_obs = [filt .& filt_r_obs for (_, filt) in selection_filters]\n",
    "    \n",
    "    # Create the figure layout\n",
    "    fig = Figure(size = (800, 600))\n",
    "\n",
    "\n",
    "    ax = xieta_axis(fig[1, 1])\n",
    "    ax.limits = r_max .* (-1, 1, -1, 1)\n",
    "    filt = selection_filters[end].second\n",
    "    scatter!(ax, all_stars.xi[filt], all_stars.eta[filt]; color=COLORS[length(selection_filters)], markersize=1)\n",
    "    lines!(ax, orbit.xi, orbit.eta, color=COLORS[1])\n",
    "    xieta_scatters = plot_tangent_members!(ax, all_stars, filts_obs, labels=labels)\n",
    "\n",
    "    \n",
    "    ax_cmd = cmd_axis(fig[1, 2])\n",
    "    Ns = plot_cmd_members!(ax_cmd, all_stars, filts_obs, labels=labels)\n",
    "    text!(ax_cmd, 0.05, 0.95, text=\"$Ns\", space=:relative, align=(:left, :top))\n",
    "\n",
    "    ax_cmd.title = @sprintf \"R = %0.2f\" rs_test[1] + dr/2\n",
    "    \n",
    "    ax_pm = pm_axis(fig[2, 1])\n",
    "    plot_pm_members!(ax_pm, all_stars, filts_obs, labels=labels)\n",
    "\n",
    "\n",
    "    if legend && (labels !== nothing)\n",
    "        Legend(fig[2, 2], fig.content[1], tellwidth=false)\n",
    "    end\n",
    "\n",
    "    \n",
    "    # Animation: Update observable and capture frames\n",
    "    record(fig, joinpath(fig_dir, filename), 1:Nf, framerate=2) do frame\n",
    "        for p in xieta_scatters\n",
    "            delete!(ax, p)\n",
    "        end\n",
    "        \n",
    "        empty!(ax_cmd)\n",
    "        empty!(ax_pm)\n",
    "        \n",
    "        filt_r_obs = select_region_rect(all_stars, rs_test[frame], rs_test[frame]+dr, θ=θ)\n",
    "        filts_obs = [filt .& filt_r_obs for (_, filt) in selection_filters]\n",
    "\n",
    "        ax_cmd.title = @sprintf \"R = %0.2f\" rs_test[frame] + dr/2\n",
    "\n",
    "\n",
    "        xieta_scatters = plot_tangent_members!(ax, all_stars, filts_obs, labels=labels)\n",
    "        Ns = plot_cmd_members!(ax_cmd, all_stars, filts_obs, labels=labels)\n",
    "        plot_pm_members!(ax_pm, all_stars, filts_obs, labels=labels)\n",
    "        \n",
    "        text!(ax_cmd, 0.05, 0.95, text=\"$Ns stars\", space=:relative, align=(:left, :top))\n",
    "    end\n",
    "\n",
    "    fig\n",
    "end"
   ]
  },
  {
   "cell_type": "markdown",
   "id": "58",
   "metadata": {},
   "source": [
    "## J24 regions"
   ]
  },
  {
   "cell_type": "code",
   "execution_count": null,
   "id": "59",
   "metadata": {},
   "outputs": [],
   "source": [
    "filts_j24 = [\n",
    "    \"quality\"=>j24.filt_qual, \n",
    "    \"psat\"=>j24.filt_all\n",
    "]"
   ]
  },
  {
   "cell_type": "code",
   "execution_count": null,
   "id": "60",
   "metadata": {},
   "outputs": [],
   "source": [
    "compare_regions_animation(j24, filts_j24, r_max=2, filename = \"compare_regions_j24.gif\"\n",
    ")"
   ]
  },
  {
   "cell_type": "markdown",
   "id": "61",
   "metadata": {},
   "source": [
    "## All stars"
   ]
  },
  {
   "cell_type": "code",
   "execution_count": null,
   "id": "62",
   "metadata": {},
   "outputs": [],
   "source": [
    "filts_all_stars = [\n",
    "    \"parallax + RUWE\" => all_stars.filt_qual, \n",
    "    \"+ in CMD polygon\" => all_stars.filt_qual .& all_stars.filt_cmd]\n"
   ]
  },
  {
   "cell_type": "code",
   "execution_count": null,
   "id": "63",
   "metadata": {},
   "outputs": [],
   "source": [
    "compare_regions_animation(all_stars, filts_all_stars,\n",
    ")"
   ]
  },
  {
   "cell_type": "code",
   "execution_count": null,
   "id": "64",
   "metadata": {},
   "outputs": [],
   "source": [
    "compare_regions_animation(all_stars, filts_all_stars,\n",
    "    θ = 90,\n",
    "    filename = \"compare_regions_perp.gif\"\n",
    ")"
   ]
  },
  {
   "cell_type": "markdown",
   "id": "65",
   "metadata": {},
   "source": [
    "## All stars + PM"
   ]
  },
  {
   "cell_type": "code",
   "execution_count": null,
   "id": "66",
   "metadata": {},
   "outputs": [],
   "source": [
    "filts_all_stars = [\n",
    "    \"parallax + RUWE\" => all_stars.filt_qual, \n",
    "    \"+ in CMD polygon + PM\" => all_stars.filt_qual .& all_stars.filt_cmd .& all_stars.filt_pm]\n"
   ]
  },
  {
   "cell_type": "code",
   "execution_count": null,
   "id": "67",
   "metadata": {},
   "outputs": [],
   "source": [
    "compare_regions_animation(all_stars, filts_all_stars, \n",
    "    filename = \"compare_regions_pm.gif\"\n",
    ")"
   ]
  },
  {
   "cell_type": "code",
   "execution_count": null,
   "id": "68",
   "metadata": {},
   "outputs": [],
   "source": [
    "compare_regions_animation(all_stars, filts_all_stars, \n",
    "    θ = 90,\n",
    "    filename = \"compare_regions_pm_perp.gif\"\n",
    ")"
   ]
  },
  {
   "cell_type": "markdown",
   "id": "69",
   "metadata": {},
   "source": [
    "# Binned properties along orbit"
   ]
  },
  {
   "cell_type": "code",
   "execution_count": null,
   "id": "70",
   "metadata": {},
   "outputs": [],
   "source": [
    "using DataFrames"
   ]
  },
  {
   "cell_type": "code",
   "execution_count": null,
   "id": "71",
   "metadata": {},
   "outputs": [],
   "source": [
    "function compute_pm_stats(all_stars::DataFrame; Nb=20, r_max=4, θ=0, dr=0.5)\n",
    "    # Define the radial bins\n",
    "    r_bins = LinRange(-r_max, r_max - dr, Nb)\n",
    "   \n",
    "\n",
    "    # Initialize arrays to store the results\n",
    "    pmra_means = Float64[]\n",
    "    pmdec_means = Float64[]\n",
    "    pmra_means_err = Float64[]\n",
    "    pmdec_means_err = Float64[]\n",
    "    pm_counts = Int[]\n",
    "\n",
    "    # Iterate through the radial bins\n",
    "    for i in 1:Nb\n",
    "        # Select stars in the current bin\n",
    "        filt = select_region_rect(all_stars, r_bins[i], r_bins[i] + dr, θ = θ)\n",
    "\n",
    "        println(i, \"\\t\", round(r_bins[i], digits=2), \"\\t\", sum(filt))\n",
    "        # Calculate the mean and errors for proper motions\n",
    "        x, y, xe, ye = get_mean_pm(all_stars[filt, :])\n",
    "\n",
    "        # Append the results to the respective arrays\n",
    "        push!(pmra_means, x)\n",
    "        push!(pmdec_means, y)\n",
    "        push!(pmra_means_err, xe)\n",
    "        push!(pmdec_means_err, ye)\n",
    "        push!(pm_counts, sum(filt))\n",
    "    end\n",
    "\n",
    "    # Create a DataFrame with the computed statistics\n",
    "    df = DataFrame(\n",
    "        x_bin_start = r_bins,\n",
    "        x_bin_end = r_bins .+ dr,\n",
    "        x = r_bins .+ dr / 2,\n",
    "        pmra_mean = pmra_means,\n",
    "        pmdec_mean = pmdec_means,\n",
    "        pmra_mean_err = pmra_means_err,\n",
    "        pmdec_mean_err = pmdec_means_err,\n",
    "        pm_count = pm_counts\n",
    "    )\n",
    "\n",
    "    return df\n",
    "end"
   ]
  },
  {
   "cell_type": "code",
   "execution_count": null,
   "id": "72",
   "metadata": {},
   "outputs": [],
   "source": [
    "all_stars[!, :filt_pm_fancy] = pm_filter(all_stars, filt_params.pmra, filt_params.pmdec, 0.1, 3);"
   ]
  },
  {
   "cell_type": "code",
   "execution_count": null,
   "id": "73",
   "metadata": {},
   "outputs": [],
   "source": [
    "df_means = compute_pm_stats(all_stars[all_stars.filt_all, :]);"
   ]
  },
  {
   "cell_type": "code",
   "execution_count": null,
   "id": "74",
   "metadata": {},
   "outputs": [],
   "source": [
    "df_means_fancy = compute_pm_stats(all_stars[all_stars.filt_cmd .& all_stars.filt_qual .& all_stars.filt_pm_fancy, :]);"
   ]
  },
  {
   "cell_type": "code",
   "execution_count": null,
   "id": "75",
   "metadata": {},
   "outputs": [],
   "source": [
    "\n",
    "df_nopm = compute_pm_stats(all_stars[all_stars.filt_cmd .& all_stars.filt_qual, :])\n",
    "df_bg = compute_pm_stats(all_stars[all_stars.filt_qual, :])\n",
    "\n",
    "\n",
    "df_means_eta = compute_pm_stats(all_stars[all_stars.filt_all, :], θ=90)\n",
    "df_means_fancy_eta = compute_pm_stats(all_stars[all_stars.filt_cmd .& all_stars.filt_qual .& all_stars.filt_pm_fancy, :], θ=90)\n",
    "\n",
    "df_nopm_eta = compute_pm_stats(all_stars[all_stars.filt_cmd .& all_stars.filt_qual, :], θ=90)"
   ]
  },
  {
   "cell_type": "code",
   "execution_count": null,
   "id": "76",
   "metadata": {},
   "outputs": [],
   "source": [
    "let\n",
    "\n",
    "    fig = Figure(size=(800, 400))\n",
    "\tax = Axis(fig[1, 1],\n",
    "\t\txlabel=L\"$\\xi'$ / degrees\", \n",
    "\t\tylabel=L\"$\\mu_{\\alpha*}$ / mas\\,yr$^{-1}$\",\n",
    "\t\t#limits=(-1.1, 1.1, 0, 0.3)\n",
    "\t)\n",
    "\n",
    "\terrscatter!(df_means.x, df_means.pmra_mean, yerr=df_means.pmra_mean_err, label=\"pm filter\")\n",
    "\terrscatter!(df_nopm.x, df_nopm.pmra_mean, yerr=df_nopm.pmra_mean_err, label=\"no pm filter\")\n",
    "\n",
    "\n",
    "    hlines!(\n",
    "        median(all_stars.pmra[all_stars.filt_qual .& .! all_stars.filt_cmd .& .! all_stars.filt_pm]), \n",
    "        label=\"nonmember median\",\n",
    "        color=COLORS[2],\n",
    "    )\n",
    "\n",
    "\n",
    "    Axis(fig[1, 2],\n",
    "\t\txlabel=L\"$\\xi'$ / degrees\", \n",
    "\t\tylabel=L\"$\\mu_{\\delta}$ / mas\\,yr$^{-1}$\",\n",
    "\t\t#limits=(-1.1, 1.1, 0, 0.3)\n",
    "\t)\n",
    "\n",
    "\terrscatter!(df_means.x, df_means.pmdec_mean, yerr=df_means.pmdec_mean_err)\n",
    "\terrscatter!(df_nopm.x, df_nopm.pmdec_mean, yerr=df_nopm.pmdec_mean_err)\n",
    "    hlines!(\n",
    "        median(all_stars.pmdec[all_stars.filt_qual .& .! all_stars.filt_cmd .& .! all_stars.filt_pm]), \n",
    "        label=\"nonmember mean\",\n",
    "    color=COLORS[2],\n",
    "    )\n",
    "    \n",
    "\n",
    "    Legend(fig[1, 3], ax)\n",
    "    \n",
    "    fig\n",
    "end"
   ]
  },
  {
   "cell_type": "code",
   "execution_count": null,
   "id": "77",
   "metadata": {},
   "outputs": [],
   "source": [
    "let\n",
    "\n",
    "    fig = Figure(size=(800, 400))\n",
    "\tax = Axis(fig[1, 1],\n",
    "\t\txlabel=L\"$\\xi'$ / degrees\", \n",
    "\t\tylabel=L\"$\\mu_{\\alpha*}$ / mas\\,yr$^{-1}$\",\n",
    "\t\t#limits=(-1.1, 1.1, 0, 0.3)\n",
    "\t)\n",
    "\n",
    "\terrscatter!(df_means.x, df_means.pmra_mean, yerr=df_means.pmra_mean_err, label=\"pm filter\")\n",
    "\n",
    "\n",
    "\n",
    "    Axis(fig[1, 2],\n",
    "\t\txlabel=L\"$\\xi'$ / degrees\", \n",
    "\t\tylabel=L\"$\\mu_{\\delta}$ / mas\\,yr$^{-1}$\",\n",
    "\t\t#limits=(-1.1, 1.1, 0, 0.3)\n",
    "\t)\n",
    "\n",
    "\terrscatter!(df_means.x, df_means.pmdec_mean, yerr=df_means.pmdec_mean_err)\n",
    "\n",
    "    fig\n",
    "end"
   ]
  },
  {
   "cell_type": "code",
   "execution_count": null,
   "id": "78",
   "metadata": {},
   "outputs": [],
   "source": [
    "let\n",
    "\n",
    "    fig = Figure(size=(800, 400))\n",
    "\tax = Axis(fig[1, 1],\n",
    "\t\txlabel=\"r / degrees\", \n",
    "\t\tylabel=\"log N in region\",\n",
    "\t\t#limits=(-1.1, 1.1, 0, 0.3)\n",
    "\t)\n",
    "\n",
    "\tscatter!(df_means.x, log10.(df_means.pm_count), label=\"along orbit, cmd + pm\")\n",
    "\tscatter!(df_means_eta.x, log10.(df_means_eta.pm_count), label=\"⟂ orbit, cmd + pm\")\n",
    "    df = df_nopm\n",
    "\tscatter!(df.x, log10.(df.pm_count), label=\"along orbit, no pm\")\n",
    "    df = df_bg\n",
    "\tscatter!(df.x, log10.(df.pm_count), label=\"along orbit, only parallax + ruwe\")\n",
    "\n",
    "    Legend(fig[1, 2], ax)\n",
    "    fig\n",
    "end"
   ]
  },
  {
   "cell_type": "code",
   "execution_count": null,
   "id": "79",
   "metadata": {},
   "outputs": [],
   "source": [
    "let\n",
    "\n",
    "    fig = Figure(size=(800, 400))\n",
    "\tax = Axis(fig[1, 1],\n",
    "\t\txlabel=L\"$\\eta'$ / degrees\", \n",
    "\t\tylabel=L\"$\\mu_{\\alpha*}$ / mas\\,yr$^{-1}$\",\n",
    "\t\t#limits=(-1.1, 1.1, 0, 0.3)\n",
    "\t)\n",
    "\n",
    "    df = df_means_eta\n",
    "    errscatter!(df.x, df.pmra_mean, yerr=df.pmra_mean_err, label=\"pm filter\")\n",
    "\n",
    "\n",
    "\n",
    "    Axis(fig[1, 2],\n",
    "\t\txlabel=L\"$\\xi'$ / degrees\", \n",
    "\t\tylabel=L\"$\\mu_{\\delta}$ / mas\\,yr$^{-1}$\",\n",
    "\t\t#limits=(-1.1, 1.1, 0, 0.3)\n",
    "\t)\n",
    "\n",
    "\terrscatter!(df.x, df.pmdec_mean, yerr=df.pmdec_mean_err)\n",
    "\n",
    "    fig\n",
    "end"
   ]
  },
  {
   "cell_type": "code",
   "execution_count": null,
   "id": "80",
   "metadata": {},
   "outputs": [],
   "source": [
    "let\n",
    "\n",
    "    fig = Figure(size=(800, 400))\n",
    "\tax = Axis(fig[1, 1],\n",
    "\t\txlabel=L\"$\\xi'$ / degrees\", \n",
    "\t\tylabel=L\"$\\mu_{\\alpha*}$ / mas\\,yr$^{-1}$\",\n",
    "\t\t#limits=(-1.1, 1.1, 0, 0.3)\n",
    "\t)\n",
    "\n",
    "\terrscatter!(df_means_fancy.x, df_means_fancy.pmra_mean, yerr=df_means_fancy.pmra_mean_err, label=\"pm filter\")\n",
    "\n",
    "\n",
    "\n",
    "    Axis(fig[1, 2],\n",
    "\t\txlabel=L\"$\\xi'$ / degrees\", \n",
    "\t\tylabel=L\"$\\mu_{\\delta}$ / mas\\,yr$^{-1}$\",\n",
    "\t\t#limits=(-1.1, 1.1, 0, 0.3)\n",
    "\t)\n",
    "\n",
    "\terrscatter!(df_means_fancy.x, df_means_fancy.pmdec_mean, yerr=df_means_fancy.pmdec_mean_err)\n",
    "\n",
    "    fig\n",
    "end"
   ]
  },
  {
   "cell_type": "code",
   "execution_count": null,
   "id": "81",
   "metadata": {},
   "outputs": [],
   "source": []
  }
 ],
 "metadata": {
  "kernelspec": {
   "display_name": "Julia 1.10.5",
   "language": "julia",
   "name": "julia-1.10"
  },
  "language_info": {
   "file_extension": ".jl",
   "mimetype": "application/julia",
   "name": "julia",
   "version": "1.10.5"
  }
 },
 "nbformat": 4,
 "nbformat_minor": 5
}
