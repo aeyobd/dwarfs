{
 "cells": [
  {
   "cell_type": "markdown",
   "id": "0",
   "metadata": {},
   "source": [
    "# Tidal signatures search\n",
    "\n",
    "In Gaia data, can we detect the signatures of tides by looking along the orbit to see excesses of stars of tidal shifts?\n",
    "\n",
    "Below, I use both a cutout of 4 degrees from gaia using simple absolute cuts and also J+24's sample of bayesian probabilities and make plots of CMD and proper motion space along the orbit."
   ]
  },
  {
   "cell_type": "markdown",
   "id": "1",
   "metadata": {},
   "source": [
    "# Setuo"
   ]
  },
  {
   "cell_type": "code",
   "execution_count": null,
   "id": "2",
   "metadata": {},
   "outputs": [],
   "source": [
    "using Arya, CairoMakie\n",
    "using LilGuys\n",
    "import CairoMakie: save\n",
    "red = COLORS[6];\n",
    "import TOML"
   ]
  },
  {
   "cell_type": "code",
   "execution_count": null,
   "id": "3",
   "metadata": {},
   "outputs": [],
   "source": [
    "import LinearAlgebra: normalize, ×"
   ]
  },
  {
   "cell_type": "code",
   "execution_count": null,
   "id": "4",
   "metadata": {},
   "outputs": [],
   "source": [
    "# selection parameters\n",
    "\n",
    "pm_max = 10\n",
    "θ0 = -39.63\n",
    "dm_err = 0.05\n",
    "n_sigma_pm = 6\n",
    "fig_dir = \"./figures/\""
   ]
  },
  {
   "cell_type": "code",
   "execution_count": null,
   "id": "5",
   "metadata": {},
   "outputs": [],
   "source": [
    "obs_props = TOML.parsefile(\"/astro/dboyea/dwarfs/sculptor_obs_properties.toml\")\n"
   ]
  },
  {
   "cell_type": "code",
   "execution_count": null,
   "id": "6",
   "metadata": {},
   "outputs": [],
   "source": [
    "include(\"filter_utils.jl\")"
   ]
  },
  {
   "cell_type": "code",
   "execution_count": null,
   "id": "7",
   "metadata": {},
   "outputs": [],
   "source": [
    "filt_params = DensityParams(read_file(\"sculptor/simple.toml\"))"
   ]
  },
  {
   "cell_type": "code",
   "execution_count": null,
   "id": "8",
   "metadata": {},
   "outputs": [],
   "source": [
    "distance = obs_props[\"distance\"]"
   ]
  },
  {
   "cell_type": "markdown",
   "id": "9",
   "metadata": {},
   "source": [
    "## Loading data"
   ]
  },
  {
   "cell_type": "code",
   "execution_count": null,
   "id": "10",
   "metadata": {},
   "outputs": [],
   "source": [
    "function load_gaia_file(filename, ra0=filt_params.ra, dec0=filt_params.dec, θ=θ0)\n",
    "\tall_stars = LilGuys.read_fits(filename)\n",
    "\tall_stars[:, :G] = all_stars.phot_g_mean_mag\n",
    "\n",
    "\tall_stars[:, :xi], all_stars[:, :eta] = lguys.to_tangent(all_stars.ra, all_stars.dec, ra0, dec0)\n",
    "\n",
    "\tall_stars[:, :xi_p], all_stars[:, :eta_p] = lguys.to_orbit_coords(all_stars.ra, all_stars.dec, ra0, dec0, θ)\n",
    "\t\n",
    "    icrs = [lguys.ICRS(ra=all_stars.ra[i], dec=all_stars.dec[i], distance=distance, \n",
    "        pmra=all_stars.pmra[i], pmdec=all_stars.pmdec[i], radial_velocity=0.)\n",
    "        for i in 1:size(all_stars, 1)]\n",
    "\n",
    "    gsr = lguys.transform.(lguys.GSR, icrs)\n",
    "\n",
    "    all_stars[:, :pmra_gsr] = getproperty.(gsr, :pmra)\n",
    "    all_stars[:, :pmdec_gsr] = getproperty.(gsr, :pmdec)\n",
    "    all_stars\n",
    "end"
   ]
  },
  {
   "cell_type": "code",
   "execution_count": null,
   "id": "11",
   "metadata": {},
   "outputs": [],
   "source": [
    "all_stars = let \n",
    "\tall_stars = load_gaia_file(\"sculptor/gaia_4deg_cen.fits\")\n",
    "\tn_sig_pm = 6\n",
    "\n",
    "\tfilt_basic = ruwe_filter(all_stars, filt_params)\n",
    "\tfilt_basic .&= parallax_filter(all_stars, filt_params)\n",
    "\tfilt_basic .&= abs.(all_stars.pmra)  .< pm_max\n",
    "\tfilt_basic .&= abs.(all_stars.pmdec) .< pm_max\n",
    "\n",
    "\tz_pm = bivariate_z.(all_stars.pmra, all_stars.pmdec, filt_params.pmra, filt_params.pmdec, all_stars.pmra_error, all_stars.pmdec_error, all_stars.pmra_pmdec_corr)\n",
    "\n",
    "\t\n",
    "\tall_stars[!, :filt_qual] = filt_basic\n",
    "\tall_stars[!, :filt_cmd] = cmd_filter(all_stars, filt_params)\n",
    "\n",
    "\tall_stars[!, :filt_pm] = z_pm .< n_sig_pm\n",
    "\tall_stars[!, :filt_all] = all_stars.filt_qual .& all_stars.filt_cmd .& all_stars.filt_pm\n",
    "\n",
    "\t\n",
    "\tall_stars\n",
    "end"
   ]
  },
  {
   "cell_type": "code",
   "execution_count": null,
   "id": "12",
   "metadata": {},
   "outputs": [],
   "source": [
    "j24 = load_gaia_file(\"../../data/j24_sculptor_all.fits\")\n",
    "\n",
    "j24[!, :filt_qual] = j24.F_BEST .== 1.0\n",
    "j24[!, :filt_cmd] = j24.PSAT_CMD .> 0.2\n",
    "j24[!, :filt_pm] = j24.PSAT_PM .> 0.2\n",
    "j24[!, :filt_all] = j24.PSAT .> 0.2\n",
    "\n",
    "j24"
   ]
  },
  {
   "cell_type": "code",
   "execution_count": null,
   "id": "13",
   "metadata": {},
   "outputs": [],
   "source": [
    "orbit_props = TOML.parsefile(\"/astro/dboyea/sculptor/orbits/orbit1/1e6_V32_r5.4/orbital_properties.toml\")\n",
    "idx_f = orbit_props[\"idx_f\"]\n",
    "\n",
    "orbit = LilGuys.read_fits(\"/astro/dboyea/sculptor/orbits/orbit1/1e6_V32_r5.4/skyorbit.fits\")\n",
    "orbit[!, :xi], orbit[!, :eta] = LilGuys.to_tangent(orbit.ra, orbit.dec, orbit.ra[idx_f], orbit.dec[idx_f])\n",
    "\n",
    "orbit = orbit[idx_f-10:idx_f+10, :]"
   ]
  },
  {
   "cell_type": "markdown",
   "id": "14",
   "metadata": {},
   "source": [
    "## Plotting functions"
   ]
  },
  {
   "cell_type": "code",
   "execution_count": null,
   "id": "15",
   "metadata": {},
   "outputs": [],
   "source": [
    "macro savefig(name, fig=nothing)\n",
    "\tif fig === nothing\n",
    "\t\tfig = esc(:fig)\n",
    "\tend\n",
    "\t\n",
    "\treturn quote\n",
    "\t\tfilename = joinpath(fig_dir, $name) * \".pdf\"\n",
    "\t\tsave(filename, $fig)\n",
    "\t\t@info \"saved figure to $filename\"\n",
    "\tend\n",
    "end"
   ]
  },
  {
   "cell_type": "code",
   "execution_count": null,
   "id": "16",
   "metadata": {},
   "outputs": [],
   "source": [
    "function cmd_axis(gs)\n",
    "\treturn Axis(gs,\n",
    "\t\txlabel = \"Bp-Rp\",\n",
    "\t\tylabel = \"G\",\n",
    "\t\tyreversed=true,\n",
    "\t\tlimits = (-0.2, 2, 15, 21),\n",
    "\t\txgridvisible=false,\n",
    "\t\tygridvisible=false,\n",
    "\t)\n",
    "end"
   ]
  },
  {
   "cell_type": "code",
   "execution_count": null,
   "id": "17",
   "metadata": {},
   "outputs": [],
   "source": [
    "function xieta_axis(gs)\n",
    "\treturn Axis(gs,\n",
    "\t\txlabel=L\"$\\xi$ / degrees\",\n",
    "\t\tylabel=L\"$\\eta$ / degrees\",\n",
    "\t\taspect=DataAspect(),\n",
    "\t\txgridvisible=false, \n",
    "\t\tygridvisible=false,\n",
    "        xreversed=true,\n",
    "\t)\n",
    "end"
   ]
  },
  {
   "cell_type": "code",
   "execution_count": null,
   "id": "18",
   "metadata": {},
   "outputs": [],
   "source": [
    "function pm_axis(gp; dpm=11, kwargs...)\n",
    "\treturn Axis(gp, \n",
    "\t\txlabel=L\"$\\mu_{\\alpha*}$ / mas\\,yr$^{-1}$\",\n",
    "\t\tylabel=L\"$\\mu_\\delta$ / mas\\,yr$^{-1}$\",\n",
    "\t\taspect=DataAspect(),\n",
    "\t\tlimits= dpm .* (-1, 1, -1, 1),\n",
    "\t\txgridvisible=false,\n",
    "\t\tygridvisible=false,\n",
    "\t)\n",
    "end"
   ]
  },
  {
   "cell_type": "markdown",
   "id": "19",
   "metadata": {},
   "source": [
    "# Plots of entire samples"
   ]
  },
  {
   "cell_type": "code",
   "execution_count": null,
   "id": "20",
   "metadata": {},
   "outputs": [],
   "source": [
    "let\n",
    "\tfig = Figure()\n",
    "\tax = xieta_axis(fig[1, 1])\n",
    "    ax.title = \"Gaia\"\n",
    "    \n",
    "\tax.limits = (-4, 4, -4, 4)\n",
    "\t\n",
    "\tdf = all_stars[all_stars.filt_cmd .& all_stars.filt_qual, :]\n",
    "\tscatter!(df.xi, df.eta, color=:black, alpha=1, markersize=3, label=\"quality+parallax+cmd\")\n",
    "\n",
    "\tdf = all_stars[all_stars.filt_cmd .& all_stars.filt_qual .& all_stars.filt_pm, :]\n",
    "\tscatter!(df.xi, df.eta, color=red, alpha=1, markersize=3, label=\"+pm\")\n",
    "    Legend(fig[1,2], ax)\n",
    "    \n",
    "\t@savefig \"scl_matched_filter\"\n",
    "\tfig\n",
    "end"
   ]
  },
  {
   "cell_type": "code",
   "execution_count": null,
   "id": "21",
   "metadata": {
    "jupyter": {
     "source_hidden": true
    }
   },
   "outputs": [],
   "source": [
    "let\n",
    "\tfig = Figure()\n",
    "\tax = xieta_axis(fig[1, 1])\n",
    "\tax.limits = (-2, 2, -2, 2)\n",
    "    ax.title = \"J+24\"\n",
    "\t\n",
    "\tdf = j24[j24.filt_cmd .& j24.filt_qual, :]\n",
    "\tscatter!(df.xi, df.eta, color=:black, alpha=1, markersize=3, label=\"quality+parallax+cmd\")\n",
    "\n",
    "\tdf = j24[j24.filt_all, :]\n",
    "\tscatter!(df.xi, df.eta, color=red, alpha=1, markersize=3, label=\"PSAT\")\n",
    "    Legend(fig[1,2], ax)\n",
    "    \n",
    "\tfig\n",
    "end"
   ]
  },
  {
   "cell_type": "code",
   "execution_count": null,
   "id": "22",
   "metadata": {},
   "outputs": [],
   "source": [
    "cmd_x = [filt_params.cmd_cut[1:2:end]; filt_params.cmd_cut[1]]\n",
    "cmd_y = [filt_params.cmd_cut[2:2:end]; filt_params.cmd_cut[2]];"
   ]
  },
  {
   "cell_type": "code",
   "execution_count": null,
   "id": "23",
   "metadata": {
    "jupyter": {
     "source_hidden": true
    }
   },
   "outputs": [],
   "source": [
    "let\n",
    "\tfig = Figure()\n",
    "\n",
    "\tax = cmd_axis(fig[1, 1])\n",
    "\n",
    "\tfilt = copy(all_stars.filt_qual)\n",
    "\n",
    "\tscatter!(all_stars.bp_rp[filt], all_stars.G[filt], markersize=1, alpha=0.3, color=:black, label=\"parallax + quality cuts\")\n",
    "\n",
    "\tfilt .&= all_stars.filt_cmd .* all_stars.filt_pm\n",
    "\tscatter!(all_stars.bp_rp[filt], all_stars.G[filt], markersize=2, label=\"+ CMD + PM cuts\")\n",
    "\t#lines!(iso.bp_rp, iso.G .+ dm)\n",
    "\tpoly!(cmd_x, cmd_y, color=:transparent, strokecolor=COLORS[1], strokewidth=2)\n",
    "\n",
    "\taxislegend(position=:lt, markersize=10)\n",
    "\n",
    "\t@savefig \"cmd_polygon.pdf\"\n",
    "\tfig\n",
    "end"
   ]
  },
  {
   "cell_type": "code",
   "execution_count": null,
   "id": "24",
   "metadata": {
    "jupyter": {
     "source_hidden": true
    }
   },
   "outputs": [],
   "source": [
    "let\n",
    "\tfig = Figure()\n",
    "\n",
    "\tax = cmd_axis(fig[1, 1])\n",
    "\tax.title = \"J24\"\n",
    "\n",
    "\tfilt = copy(j24.filt_qual)\n",
    "\n",
    "\tscatter!(j24.bp_rp[filt], j24.G[filt], markersize=1, alpha=0.3, color=:black, label=\"parallax + quality cuts\")\n",
    "\n",
    "\tfilt .&= j24.filt_all\n",
    "\tscatter!(j24.bp_rp[filt], j24.G[filt], markersize=2, label=\"+ CMD + PM cuts\")\n",
    "\t#lines!(iso.bp_rp, iso.G .+ dm)\n",
    "\tpoly!(cmd_x, cmd_y, color=:transparent, strokecolor=COLORS[1], strokewidth=2)\n",
    "\n",
    "\taxislegend(position=:lt, markersize=10)\n",
    "\n",
    "\t@savefig \"cmd_polygon.pdf\"\n",
    "\tfig\n",
    "end"
   ]
  },
  {
   "cell_type": "code",
   "execution_count": null,
   "id": "25",
   "metadata": {},
   "outputs": [],
   "source": [
    "let\n",
    "\tfig = Figure()\n",
    "    ax = pm_axis(fig[1, 1], dpm=11)\n",
    "    \n",
    "\tscatter!(all_stars.pmra_gsr, all_stars.pmdec_gsr, markersize=1, alpha=0.2, color=:black)\n",
    "\tfilt = all_stars.filt_pm \n",
    "\tscatter!(all_stars.pmra_gsr[filt], all_stars.pmdec_gsr[filt], markersize=6)\n",
    "\n",
    "\tfig\n",
    "end"
   ]
  },
  {
   "cell_type": "code",
   "execution_count": null,
   "id": "26",
   "metadata": {},
   "outputs": [],
   "source": [
    "let\n",
    "\tfig = Figure()\n",
    "    ax = pm_axis(fig[1, 1], dpm=11)\n",
    "    \n",
    "\tscatter!(all_stars.pmra, all_stars.pmdec, markersize=1, alpha=0.2, color=:black)\n",
    "\tfilt = all_stars.filt_pm \n",
    "\tscatter!(all_stars.pmra[filt], all_stars.pmdec[filt], markersize=6)\n",
    "\n",
    "\tfig\n",
    "end"
   ]
  },
  {
   "cell_type": "code",
   "execution_count": null,
   "id": "27",
   "metadata": {},
   "outputs": [],
   "source": [
    "let\n",
    "\tfig = Figure()\n",
    "    ax = pm_axis(fig[1, 1], dpm=11)\n",
    "    \n",
    "\tscatter!(j24.pmra, j24.pmdec, markersize=2, alpha=0.2, color=:black)\n",
    "\tfilt = j24.filt_pm \n",
    "\tscatter!(j24.pmra[filt], j24.pmdec[filt], markersize=6)\n",
    "\n",
    "\tfig\n",
    "end"
   ]
  },
  {
   "cell_type": "markdown",
   "id": "28",
   "metadata": {},
   "source": [
    "# Cutouts"
   ]
  },
  {
   "cell_type": "markdown",
   "id": "29",
   "metadata": {},
   "source": [
    "## Defining the cutouts\n",
    "\n",
    "Here, we begin to take cutouts along the orbit (more specifically, along the proper motion vector in the GSR frame as this is model-independent)"
   ]
  },
  {
   "cell_type": "code",
   "execution_count": null,
   "id": "30",
   "metadata": {},
   "outputs": [],
   "source": [
    "rs_test = LinRange(-4, 4, 10)"
   ]
  },
  {
   "cell_type": "code",
   "execution_count": null,
   "id": "31",
   "metadata": {},
   "outputs": [],
   "source": [
    "orbit_vector = [sind(θ0), cosd(θ0)]\n",
    "bg_vector = ([orbit_vector; 0] × [0, 0, 1])[1:2]"
   ]
  },
  {
   "cell_type": "code",
   "execution_count": null,
   "id": "32",
   "metadata": {},
   "outputs": [],
   "source": [
    "r_circ_cut = 0.25"
   ]
  },
  {
   "cell_type": "markdown",
   "id": "33",
   "metadata": {},
   "source": [
    "## Utility functions"
   ]
  },
  {
   "cell_type": "code",
   "execution_count": null,
   "id": "34",
   "metadata": {},
   "outputs": [],
   "source": [
    "function select_region_circle(allstars, centre; radius=0.5)\n",
    "\tx_cen, y_cen = centre\n",
    "\n",
    "\tr = @. sqrt((allstars.xi - x_cen)^2 + (allstars.eta - y_cen)^2)\n",
    "\n",
    "\tfilt = r .< radius\n",
    "\n",
    "\treturn filt\n",
    "end"
   ]
  },
  {
   "cell_type": "code",
   "execution_count": null,
   "id": "35",
   "metadata": {},
   "outputs": [],
   "source": [
    "function select_region_rect(all_stars, low, high; radius=1, θ=0)\n",
    "\n",
    "    x = @. cosd(θ) * all_stars.xi_p + sind(θ) * all_stars.eta_p\n",
    "    y = @. sind(θ) * all_stars.xi_p - cosd(θ) * all_stars.eta_p\n",
    "    \n",
    "\tfilt = abs.(y) .<= radius\n",
    "\n",
    "    filt .&= low .<= x .< high\n",
    "    \n",
    "\treturn filt\n",
    "end"
   ]
  },
  {
   "cell_type": "code",
   "execution_count": null,
   "id": "36",
   "metadata": {},
   "outputs": [],
   "source": [
    "function plot_cmd_members!(all_stars, filters; labels=nothing)    \n",
    "    if labels === nothing\n",
    "        labels = [\"\" for _ in filters]\n",
    "    end\n",
    "\n",
    "    styles = [(; color=:grey, markersize=3), \n",
    "        (; markersize=5), \n",
    "        (; color=COLORS[2], markersize=7),\n",
    "        (; color=COLORS[3], markersize=10),\n",
    "    ]\n",
    "\n",
    "    for i in 1:length(filters)\n",
    "        df = all_stars[filters[i], :]\n",
    "        plot_cmd!(df, label=labels[i]; styles[i]...)\n",
    "\tend\n",
    "    \n",
    "\tN = sum(filters[end])\n",
    "    return N\n",
    "end"
   ]
  },
  {
   "cell_type": "code",
   "execution_count": null,
   "id": "37",
   "metadata": {},
   "outputs": [],
   "source": [
    "function plot_tangent_members!(all_stars, filters; labels=false)\n",
    "    if labels === nothing\n",
    "        labels = [\"\" for _ in filters]\n",
    "    end\n",
    "\n",
    "    styles = [(; color=:grey, markersize=3), \n",
    "        (; markersize=5), \n",
    "        (; color=COLORS[2], markersize=7),\n",
    "        (; color=COLORS[3], markersize=10),\n",
    "    ]\n",
    "\n",
    "    scatter!(all_stars.xi[all_stars.filt_all], all_stars.eta[all_stars.filt_all]; markersize=1, color=:black)\n",
    "    \n",
    "    for i in 1:length(filters)\n",
    "        df = all_stars[filters[i], :]\n",
    "        scatter!(df.xi, df.eta, label=labels[i]; styles[i]...)\n",
    "\tend\n",
    "\n",
    "    lines!(orbit.xi, orbit.eta)\n",
    "\n",
    "end"
   ]
  },
  {
   "cell_type": "code",
   "execution_count": null,
   "id": "38",
   "metadata": {},
   "outputs": [],
   "source": [
    "function plot_pm_members!(all_stars, filters; labels=false)\n",
    "    if labels === nothing\n",
    "        labels = [\"\" for _ in filters]\n",
    "    end\n",
    "\n",
    "    styles = [(; color=:grey, markersize=3), \n",
    "        (; markersize=5), \n",
    "        (; color=COLORS[2], markersize=7),\n",
    "        (; color=COLORS[3], markersize=10),\n",
    "    ]\n",
    "\n",
    "    for i in 1:length(filters)\n",
    "        df = all_stars[filters[i], :]\n",
    "        scatter!(df.pmra, df.pmdec, label=labels[i]; styles[i]...)\n",
    "\tend\n",
    "\n",
    "    df = all_stars[filters[end], :]\n",
    "\tx, y, xe, ye = get_mean_pm(df)\n",
    "\n",
    "\tscatter!(x, y, #xerr=[pmra_cen_err], yerr=[pmdec_cen_err], \n",
    "\tcolor=red, label=\"mean\", markersize=15)\n",
    "    errscatter!([x], [y], xerr=[xe], yerr=[ye], \n",
    "\tcolor=red, label=\"mean\")\n",
    "\n",
    "end"
   ]
  },
  {
   "cell_type": "code",
   "execution_count": null,
   "id": "39",
   "metadata": {},
   "outputs": [],
   "source": [
    "function get_mean_pm(df)\n",
    "\tpmra_cen = lguys.mean(df.pmra_gsr, (df.pmra_error .^ -2))\n",
    "\tpmra_cen_err = sqrt(1 / sum(df.pmra_error .^ -2))\n",
    "\tpmdec_cen = lguys.mean(df.pmdec_gsr, (df.pmdec_error .^ -2))\n",
    "\tpmdec_cen_err = sqrt(1 / sum(df.pmdec_error .^ -2))\n",
    "\n",
    "\treturn pmra_cen, pmdec_cen, pmra_cen_err, pmdec_cen_err\n",
    "end"
   ]
  },
  {
   "cell_type": "code",
   "execution_count": null,
   "id": "40",
   "metadata": {},
   "outputs": [],
   "source": [
    "function plot_cmd!(df; kwargs...)\n",
    "\tscatter!(df.bp_rp, df.G, alpha=1; kwargs...)\n",
    "end"
   ]
  },
  {
   "cell_type": "markdown",
   "id": "41",
   "metadata": {},
   "source": [
    "## Plots for gaia"
   ]
  },
  {
   "cell_type": "code",
   "execution_count": null,
   "id": "42",
   "metadata": {},
   "outputs": [],
   "source": [
    "Makie.spaces()"
   ]
  },
  {
   "cell_type": "code",
   "execution_count": null,
   "id": "43",
   "metadata": {},
   "outputs": [],
   "source": [
    "function compare_regions(all_stars, region_filters, selection_filters; \n",
    "        region_labels = nothing, legend=true,\n",
    "        r_max = 4\n",
    "    )\n",
    "    \n",
    "    N = length(region_filters)\n",
    "    \n",
    "    fig = Figure(size=(800, 1200))\n",
    "    labels = first.(selection_filters)\n",
    "    for i in 1:N\n",
    "        filt_r = region_filters[i]\n",
    "        filts = [filt .& filt_r for (_ , filt) in selection_filters]\n",
    "        \n",
    "        ax = xieta_axis(fig[i, 1])\n",
    "        ax.limits = r_max .* (-1, 1, -1, 1)\n",
    "        plot_tangent_members!(all_stars, filts, labels=labels)\n",
    "        \n",
    "        ax_cmd = cmd_axis(fig[i, 2])\n",
    "        Ns = plot_cmd_members!(all_stars, filts, labels=labels)\n",
    "        text!(ax_cmd, 0.05, 0.95, text=\"$Ns\", space=:relative, align=(:left, :top, ))\n",
    "            \n",
    "        if region_labels !== nothing\n",
    "            ax_cmd.title = region_labels[i]\n",
    "        end\n",
    "        \n",
    "        ax_pm = pm_axis(fig[i, 3])\n",
    "        plot_pm_members!(all_stars, filts, labels=labels)\n",
    "\n",
    "        # hide decorations\n",
    "        if i < N\n",
    "            hidexdecorations!(ax, grid=false, ticks=false, minorticks=false)\n",
    "            hidexdecorations!(ax_pm, grid=false, ticks=false, minorticks=false)\n",
    "            hidexdecorations!(ax_cmd, grid=false, ticks=false, minorticks=false)\n",
    "        end\n",
    "    end\n",
    "\n",
    "    if legend && (labels !== nothing)\n",
    "        Legend(fig[N+1, 2], fig.content[1], tellwidth=false)\n",
    "    end\n",
    "    fig\n",
    "end\n"
   ]
  },
  {
   "cell_type": "code",
   "execution_count": null,
   "id": "44",
   "metadata": {},
   "outputs": [],
   "source": [
    "Nb = length(rs_test) - 1"
   ]
  },
  {
   "cell_type": "code",
   "execution_count": null,
   "id": "45",
   "metadata": {},
   "outputs": [],
   "source": [
    "# regions_along1 = [select_region(all_stars, r * orbit_vector, radius=r_circ_cut) for r in rs_test]\n",
    "# regions_along2 = [select_region(all_stars, -r * orbit_vector, radius=r_circ_cut) for r in rs_test]\n",
    "# regions_perp1 = [select_region(all_stars, r * bg_vector, radius=r_circ_cut) for r in rs_test]\n",
    "# regions_perp2 = [select_region(all_stars, r * bg_vector, radius=r_circ_cut) for r in rs_test]\n",
    "\n",
    "r_bin_mid = midpoints(rs_test)\n",
    "regions_along = [select_region_rect(all_stars, rs_test[i], rs_test[i+1]) for i in 1:Nb]\n",
    "regions_perp = [select_region_rect(all_stars, rs_test[i], rs_test[i+1], θ=90) for i in 1:Nb]\n",
    "\n",
    "labels_along = [\"$r ° along orbit\" for r in r_bin_mid]\n",
    "labels_perp = [\"$r ° ⟂ orbit\" for r in r_bin_mid]"
   ]
  },
  {
   "cell_type": "code",
   "execution_count": null,
   "id": "46",
   "metadata": {},
   "outputs": [],
   "source": [
    "filts_all_stars = [\n",
    "    \"quality\" => all_stars.filt_qual, \n",
    "    \"cmd\" => all_stars.filt_qual .& all_stars.filt_cmd]\n"
   ]
  },
  {
   "cell_type": "markdown",
   "id": "47",
   "metadata": {
    "jp-MarkdownHeadingCollapsed": true
   },
   "source": [
    "## J24 regions"
   ]
  },
  {
   "cell_type": "code",
   "execution_count": null,
   "id": "48",
   "metadata": {},
   "outputs": [],
   "source": [
    "filts_j24 = [\n",
    "    \"quality\"=>j24.filt_qual, \n",
    "    \"psat\"=>j24.filt_all\n",
    "]\n",
    "\n",
    "filts_j24_2 = [\n",
    "    \"quality\" => j24.filt_qual, \n",
    "    \"+cmd\" => j24.filt_cmd .& j24.filt_qual]\n",
    "\n",
    "rs_j24 = rs_test[abs.(rs_test) .< 2]\n",
    "Nb_j24 = length(rs_j24) - 1\n",
    "\n",
    "regions_along_j24 = [select_region_rect(j24, rs_j24[i], rs_j24[i+1]) for i in 1:Nb_j24]\n",
    "regions_perp_j24 = [select_region_rect(j24, rs_j24[i], rs_j24[i+1], θ=90) for i in 1:Nb_j24]\n",
    "\n",
    "rs_m_j24 = midpoints(rs_j24)\n",
    "\n",
    "labels_along_j24 = [\"$r ° along orbit\" for r in rs_m_j24]\n",
    "labels_perp_j24  = [\"$r ° ⟂ orbit\" for r in rs_m_j24]"
   ]
  },
  {
   "cell_type": "code",
   "execution_count": null,
   "id": "49",
   "metadata": {},
   "outputs": [],
   "source": [
    "compare_regions(j24, regions_along_j24, filts_j24,\n",
    "    region_labels = labels_along_j24,\n",
    "    r_max=2\n",
    ")"
   ]
  },
  {
   "cell_type": "code",
   "execution_count": null,
   "id": "50",
   "metadata": {},
   "outputs": [],
   "source": [
    "compare_regions(j24, regions_j24_perp1, filts_j24_2,\n",
    "    labels=labels_j24_2,\n",
    "    region_labels = labels_perp1,\n",
    "    r_max=2\n",
    ")"
   ]
  },
  {
   "cell_type": "code",
   "execution_count": null,
   "id": "51",
   "metadata": {},
   "outputs": [],
   "source": [
    "compare_regions(j24, regions_j24_along1, filts_j24,\n",
    "    labels=labels_j24,\n",
    "    region_labels = labels_along1,\n",
    "    r_max=2\n",
    ")"
   ]
  },
  {
   "cell_type": "markdown",
   "id": "52",
   "metadata": {},
   "source": [
    "## All stars"
   ]
  },
  {
   "cell_type": "code",
   "execution_count": null,
   "id": "53",
   "metadata": {},
   "outputs": [],
   "source": [
    "compare_regions(all_stars, regions_along, filts_all_stars,\n",
    "    region_labels = labels_along\n",
    ")"
   ]
  },
  {
   "cell_type": "code",
   "execution_count": null,
   "id": "54",
   "metadata": {},
   "outputs": [],
   "source": [
    "compare_regions(all_stars, regions_perp, filts_all_stars,\n",
    "    region_labels = labels_perp,\n",
    ")"
   ]
  },
  {
   "cell_type": "code",
   "execution_count": null,
   "id": "55",
   "metadata": {},
   "outputs": [],
   "source": [
    "compare_regions(all_stars, regions_perp2, filts_all_stars,\n",
    "    labels=labels_all_stars,\n",
    "    region_labels = labels_perp2,\n",
    ")"
   ]
  },
  {
   "cell_type": "markdown",
   "id": "56",
   "metadata": {},
   "source": [
    "## All stars + PM"
   ]
  },
  {
   "cell_type": "code",
   "execution_count": null,
   "id": "57",
   "metadata": {},
   "outputs": [],
   "source": [
    "filts_all_stars2 = [all_stars.filt_qual, all_stars.filt_qual .& all_stars.filt_cmd .& all_stars.filt_pm]\n",
    "labels_all_stars2 = [\"quality\", \"cmd+pm\"]"
   ]
  },
  {
   "cell_type": "code",
   "execution_count": null,
   "id": "58",
   "metadata": {},
   "outputs": [],
   "source": [
    "compare_regions(all_stars, regions_along1, filts_all_stars2,\n",
    "    labels=labels_all_stars2,\n",
    "    region_labels = labels_along1\n",
    ")"
   ]
  },
  {
   "cell_type": "markdown",
   "id": "59",
   "metadata": {},
   "source": [
    "# Binned properties along orbit"
   ]
  },
  {
   "cell_type": "code",
   "execution_count": null,
   "id": "60",
   "metadata": {},
   "outputs": [],
   "source": [
    "using DataFrames"
   ]
  },
  {
   "cell_type": "code",
   "execution_count": null,
   "id": "61",
   "metadata": {},
   "outputs": [],
   "source": [
    "function compute_pm_stats(all_stars::DataFrame, r_bins)\n",
    "    # Define the radial bins\n",
    "    Nb = length(r_bins) - 1\n",
    "\n",
    "    # Initialize arrays to store the results\n",
    "    pmra_means = Float64[]\n",
    "    pmdec_means = Float64[]\n",
    "    pmra_means_err = Float64[]\n",
    "    pmdec_means_err = Float64[]\n",
    "    pm_counts = Int[]\n",
    "\n",
    "    # Iterate through the radial bins\n",
    "    for i in 1:Nb\n",
    "        # Select stars in the current bin\n",
    "        filt = select_region_rect(all_stars, r_bins[i], r_bins[i+1])\n",
    "        \n",
    "        # Calculate the mean and errors for proper motions\n",
    "        x, y, xe, ye = get_mean_pm(all_stars[filt, :])\n",
    "\n",
    "        # Append the results to the respective arrays\n",
    "        push!(pmra_means, x)\n",
    "        push!(pmdec_means, y)\n",
    "        push!(pmra_means_err, xe)\n",
    "        push!(pmdec_means_err, ye)\n",
    "        push!(pm_counts, sum(filt))\n",
    "    end\n",
    "\n",
    "    # Create a DataFrame with the computed statistics\n",
    "    df = DataFrame(\n",
    "        r_bin_start = r_bins[1:end-1],\n",
    "        r_bin_end = r_bins[2:end],\n",
    "        r = midpoints(r_bins),\n",
    "        pmra_mean = pmra_means,\n",
    "        pmdec_mean = pmdec_means,\n",
    "        pmra_mean_err = pmra_means_err,\n",
    "        pmdec_mean_err = pmdec_means_err,\n",
    "        pm_count = pm_counts\n",
    "    )\n",
    "\n",
    "    return df\n",
    "end"
   ]
  },
  {
   "cell_type": "code",
   "execution_count": null,
   "id": "62",
   "metadata": {},
   "outputs": [],
   "source": [
    "r_bins = LinRange(-4, 4, 10)"
   ]
  },
  {
   "cell_type": "code",
   "execution_count": null,
   "id": "63",
   "metadata": {},
   "outputs": [],
   "source": [
    "df_means = compute_pm_stats(all_stars[all_stars.filt_all, :], r_bins)\n",
    "\n",
    "df_nopm = compute_pm_stats(all_stars[all_stars.filt_cmd .& all_stars.filt_qual, :], r_bins)"
   ]
  },
  {
   "cell_type": "code",
   "execution_count": null,
   "id": "64",
   "metadata": {},
   "outputs": [],
   "source": [
    "r_m = midpoints(r_bins)"
   ]
  },
  {
   "cell_type": "code",
   "execution_count": null,
   "id": "65",
   "metadata": {},
   "outputs": [],
   "source": [
    "let\n",
    "\n",
    "    fig = Figure(size=(800, 400))\n",
    "\tax = Axis(fig[1, 1],\n",
    "\t\txlabel=\"distance along orbit / degrees\", \n",
    "\t\tylabel=L\"$\\tilde\\mu_{\\alpha*}$ / mas\\,yr$^{-1}$\",\n",
    "\t\t#limits=(-1.1, 1.1, 0, 0.3)\n",
    "\t)\n",
    "\n",
    "\terrscatter!(df_means.r, df_means.pmra_mean, yerr=df_means.pmra_mean_err, label=\"pm filter\")\n",
    "\terrscatter!(df_nopm.r, df_nopm.pmra_mean, yerr=df_nopm.pmra_mean_err, label=\"no pm filter\")\n",
    "\n",
    "\n",
    "    hlines!(\n",
    "        median(all_stars.pmra_gsr[all_stars.filt_qual .& .! all_stars.filt_cmd .& .! all_stars.filt_pm]), \n",
    "        label=\"nonmember median\",\n",
    "        color=COLORS[2],\n",
    "    )\n",
    "\n",
    "\n",
    "    Axis(fig[1, 2],\n",
    "\t\txlabel=\"distance along orbit / degrees\", \n",
    "\t\tylabel=L\"$\\tilde\\mu_{\\delta}$ / mas\\,yr$^{-1}$\",\n",
    "\t\t#limits=(-1.1, 1.1, 0, 0.3)\n",
    "\t)\n",
    "\n",
    "\terrscatter!(df_means.r, df_means.pmdec_mean, yerr=df_means.pmdec_mean_err)\n",
    "\terrscatter!(df_nopm.r, df_nopm.pmdec_mean, yerr=df_nopm.pmdec_mean_err)\n",
    "    hlines!(\n",
    "        median(all_stars.pmdec_gsr[all_stars.filt_qual .& .! all_stars.filt_cmd .& .! all_stars.filt_pm]), \n",
    "        label=\"nonmember mean\",\n",
    "    color=COLORS[2],\n",
    "    )\n",
    "    \n",
    "\n",
    "    Legend(fig[1, 3], ax)\n",
    "    \n",
    "    fig\n",
    "end"
   ]
  },
  {
   "cell_type": "code",
   "execution_count": null,
   "id": "66",
   "metadata": {},
   "outputs": [],
   "source": [
    "let\n",
    "\n",
    "    fig = Figure(size=(800, 400))\n",
    "\tax = Axis(fig[1, 1],\n",
    "\t\txlabel=\"distance along orbit / degrees\", \n",
    "\t\tylabel=L\"$\\tilde\\mu_{\\alpha*}$ / mas\\,yr$^{-1}$\",\n",
    "\t\t#limits=(-1.1, 1.1, 0, 0.3)\n",
    "\t)\n",
    "\n",
    "\terrscatter!(df_means.r, df_means.pmra_mean, yerr=df_means.pmra_mean_err, label=\"pm filter\")\n",
    "\n",
    "\n",
    "\n",
    "    Axis(fig[1, 2],\n",
    "\t\txlabel=\"distance along orbit / degrees\", \n",
    "\t\tylabel=L\"$\\tilde\\mu_{\\delta}$ / mas\\,yr$^{-1}$\",\n",
    "\t\t#limits=(-1.1, 1.1, 0, 0.3)\n",
    "\t)\n",
    "\n",
    "\terrscatter!(df_means.r, df_means.pmdec_mean, yerr=df_means.pmdec_mean_err)\n",
    "\n",
    "    fig\n",
    "end"
   ]
  },
  {
   "cell_type": "code",
   "execution_count": null,
   "id": "67",
   "metadata": {},
   "outputs": [],
   "source": [
    "import StatsBase: median"
   ]
  },
  {
   "cell_type": "code",
   "execution_count": null,
   "id": "68",
   "metadata": {},
   "outputs": [],
   "source": [
    "let\n",
    "\n",
    "\tfig, ax = FigAxis(\n",
    "\t\txlabel=\"distance along orbit / degrees\", \n",
    "\t\tylabel=L\"$\\tilde\\mu_{\\delta}$ / mas\\,yr$^{-1}$\",\n",
    "\t\t#limits=(-1.1, 1.1, 0, 0.3)\n",
    "\t)\n",
    "\n",
    "\terrscatter!(df_means.r, df_means.pmdec_mean, yerr=df_means.pmdec_mean_err)\n",
    "\terrscatter!(df_nopm.r, df_nopm.pmdec_mean, yerr=df_nopm.pmdec_mean_err)\n",
    "    hlines!(\n",
    "        median(all_stars.pmdec_gsr[all_stars.filt_qual .& .! all_stars.filt_cmd .& .! all_stars.filt_pm]), \n",
    "        label=\"nonmember mean\",\n",
    "    color=COLORS[2],\n",
    "    )\n",
    "\n",
    "    fig\n",
    "\t\n",
    "\n",
    "end"
   ]
  },
  {
   "cell_type": "code",
   "execution_count": null,
   "id": "69",
   "metadata": {},
   "outputs": [],
   "source": [
    "let\n",
    "    fig = Figure()\n",
    "    ax = xieta_axis(fig[1,1])\n",
    "\n",
    "    filt = all_stars.filt_qual .& .! all_stars.filt_cmd .& .! all_stars.filt_pm\n",
    "\n",
    "    scatter!(all_stars.xi[filt], all_stars.eta[filt], color=:black, markersize=1)\n",
    "\n",
    "    fig\n",
    "end"
   ]
  },
  {
   "cell_type": "code",
   "execution_count": null,
   "id": "70",
   "metadata": {},
   "outputs": [],
   "source": [
    "let\n",
    "    fig = Figure()\n",
    "    ax = xieta_axis(fig[1,1])\n",
    "\n",
    "    filt = j24.PSAT .< 0.2\n",
    "\n",
    "    scatter!(j24.xi[filt], j24.eta[filt], color=:black, markersize=1)\n",
    "\n",
    "    fig\n",
    "end"
   ]
  },
  {
   "cell_type": "code",
   "execution_count": null,
   "id": "71",
   "metadata": {},
   "outputs": [],
   "source": []
  }
 ],
 "metadata": {
  "kernelspec": {
   "display_name": "Julia 1.10.5",
   "language": "julia",
   "name": "julia-1.10"
  },
  "language_info": {
   "file_extension": ".jl",
   "mimetype": "application/julia",
   "name": "julia",
   "version": "1.10.5"
  }
 },
 "nbformat": 4,
 "nbformat_minor": 5
}
