{
 "cells": [
  {
   "cell_type": "markdown",
   "id": "0",
   "metadata": {},
   "source": [
    "# Tidal signatures search\n",
    "\n",
    "In Gaia data, can we detect the signatures of tides by looking along the orbit to see excesses of stars of tidal shifts?\n",
    "\n",
    "Below, I use both a cutout of 4 degrees from gaia using simple absolute cuts and also J+24's sample of bayesian probabilities and attept to find evidence for any tidal tails by looking for excesses of possible member stars and shifts in proper motions along the orbit.\n",
    "\n",
    "Overall, I find no (to very weak evidence) that there is anything outside of the galaxy which is not consistant with the background distribution of stars."
   ]
  },
  {
   "cell_type": "markdown",
   "id": "1",
   "metadata": {},
   "source": [
    "# Setup"
   ]
  },
  {
   "cell_type": "code",
   "execution_count": null,
   "id": "2",
   "metadata": {},
   "outputs": [],
   "source": [
    "using Arya, CairoMakie\n",
    "using LilGuys\n",
    "import CairoMakie: save\n",
    "import TOML"
   ]
  },
  {
   "cell_type": "code",
   "execution_count": null,
   "id": "3",
   "metadata": {},
   "outputs": [],
   "source": [
    "red = COLORS[6];"
   ]
  },
  {
   "cell_type": "code",
   "execution_count": null,
   "id": "4",
   "metadata": {},
   "outputs": [],
   "source": [
    "import LinearAlgebra: normalize, ×"
   ]
  },
  {
   "cell_type": "code",
   "execution_count": null,
   "id": "5",
   "metadata": {},
   "outputs": [],
   "source": [
    "import StatsBase: median"
   ]
  },
  {
   "cell_type": "code",
   "execution_count": null,
   "id": "6",
   "metadata": {},
   "outputs": [],
   "source": [
    "include(ENV[\"DWARFS_ROOT\"] * \"/utils/gaia_plots.jl\")"
   ]
  },
  {
   "cell_type": "code",
   "execution_count": null,
   "id": "7",
   "metadata": {},
   "outputs": [],
   "source": [
    "include(ENV[\"DWARFS_ROOT\"] * \"/utils/gaia_filters.jl\")"
   ]
  },
  {
   "cell_type": "code",
   "execution_count": null,
   "id": "8",
   "metadata": {},
   "outputs": [],
   "source": [
    "scl_icrs = LilGuys.coord_from_file(\"observed_properties.toml\")"
   ]
  },
  {
   "cell_type": "code",
   "execution_count": null,
   "id": "9",
   "metadata": {},
   "outputs": [],
   "source": [
    "scl_dist_gsr = LilGuys.GSR(ra=scl_icrs.ra, dec=scl_icrs.dec, distance=1e5, pmra=0, pmdec=0, radial_velocity=0)\n",
    "LilGuys.transform(ICRS, scl_dist_gsr).pmra"
   ]
  },
  {
   "cell_type": "code",
   "execution_count": null,
   "id": "10",
   "metadata": {},
   "outputs": [],
   "source": [
    "obs_props = TOML.parsefile(\"observed_properties.toml\")\n"
   ]
  },
  {
   "cell_type": "code",
   "execution_count": null,
   "id": "11",
   "metadata": {},
   "outputs": [],
   "source": [
    "# selection parameters\n",
    "\n",
    "θ0 = obs_props[\"theta_pm_gsr\"]\n",
    "fig_dir = \"./figures/\""
   ]
  },
  {
   "cell_type": "code",
   "execution_count": null,
   "id": "12",
   "metadata": {},
   "outputs": [],
   "source": [
    "filt_params = GaiaFilterParams(read_paramfile(\"processed/simple.toml\"))\n",
    "filt_params_strict = GaiaFilterParams(read_paramfile(\"processed/cmd_strict.toml\"))"
   ]
  },
  {
   "cell_type": "code",
   "execution_count": null,
   "id": "13",
   "metadata": {},
   "outputs": [],
   "source": [
    "distance = obs_props[\"distance\"]"
   ]
  },
  {
   "cell_type": "markdown",
   "id": "14",
   "metadata": {},
   "source": [
    "## Loading data"
   ]
  },
  {
   "cell_type": "markdown",
   "id": "15",
   "metadata": {},
   "source": [
    "the `read_gaia_stars` function simply loads in the fits file, adds tangent plane coordinates, orbit coorinates, and the elliptical radius in arcmin (with these determined from the values in filt_params).\n",
    "\n",
    "See README.md in the data folder for notes on the Gaia query I used. I include the RUWE cut in the gaia cut since I have now downloaded ~100deg^2 of the sky.\n",
    "\n",
    "The filters we use in this notebook for the gaia observations (the all_stars file is simply every star in Gaia within four degrees of the centre of Sculptor) are\n",
    "\n",
    "- Parallax: $\\varpi < 3 \\delta \\varpi$, i.e. 3-$\\sigma$ consistancy with zero parallax\n",
    "- RUWE < 1.3, a reasonable astrometric quality cut\n",
    "- `filt_qual` combines parallax and RUWE filters\n",
    "- CMD: a polygon in the parameterfile, see plots below\n",
    "- Proper motion: the L2 distance in proper motion space from the assumed mean proper motions of Scl is less than 1 mas / year\n",
    "- `filt_all` combines all of the above.\n",
    "\n",
    "We also include a set of variations on the above filters.\n",
    "- `filt_parallax_strict`, 0.5 mas/yr parallax distance cut\n",
    "- `filt_parallax_loose`, 2 mas/yr parallax distance cut\n",
    "- `filt_qual_strict` also excludes QSO and Galaxy candidates as flagged by Gaia\n",
    "- `filt_cmd_strict` uses a stricter CMD filter than above\n",
    "- `filt_all_strict` uses the strict version of the CMD, PM, and Qual filters."
   ]
  },
  {
   "cell_type": "code",
   "execution_count": null,
   "id": "16",
   "metadata": {},
   "outputs": [],
   "source": [
    "all_stars = read_gaia_stars(\"data/gaia_6deg_ruwe.fits\", filt_params, θ = θ0)\n",
    "\n",
    "all_stars[!, :filt_ruwe] = ruwe_filter(all_stars, filt_params)\n",
    "all_stars[!, :filt_parallax] = parallax_filter(all_stars, filt_params)\n",
    "all_stars[!, :filt_qual] = all_stars.filt_ruwe .& all_stars.filt_parallax\n",
    "all_stars[!, :filt_qual_strict] = all_stars.filt_qual .& .!all_stars.in_qso_candidates .& .!all_stars.in_galaxy_candidates\n",
    "\n",
    "all_stars[!, :filt_cmd] = cmd_filter(all_stars, filt_params)\n",
    "all_stars[!, :filt_cmd_strict] = cmd_filter(all_stars, filt_params_strict)\n",
    "\n",
    "all_stars[!, :filt_pm] = pm_filter(all_stars, filt_params)\n",
    "all_stars[!, :filt_pm_strict] = pm_filter(all_stars, filt_params_strict)\n",
    "all_stars[!, :filt_pm_loose] = pm_simple_filter(all_stars, filt_params.pmra, filt_params.pmdec, 2)\n",
    "\n",
    "all_stars[!, :filt_all] = all_stars.filt_qual .& all_stars.filt_cmd .& all_stars.filt_pm\n",
    "all_stars[!, :filt_all_loose] = all_stars.filt_qual .& all_stars.filt_cmd .& all_stars.filt_pm_loose\n",
    "\n",
    "all_stars[!, :filt_all_strict] = all_stars.filt_qual_strict .& all_stars.filt_cmd_strict .& all_stars.filt_pm_strict\n",
    "\n",
    "all_stars"
   ]
  },
  {
   "cell_type": "code",
   "execution_count": null,
   "id": "17",
   "metadata": {},
   "outputs": [],
   "source": [
    "# check that the distance filter is exactly the same as parallax / error < 3\n",
    "sum((abs.(all_stars.parallax_over_error) .< 3 ) .!= all_stars.filt_parallax)"
   ]
  },
  {
   "cell_type": "code",
   "execution_count": null,
   "id": "18",
   "metadata": {},
   "outputs": [],
   "source": [
    "# sanity check the RUWE is as described\n",
    "sum((abs.(all_stars.ruwe) .< 1.3 ) .!= all_stars.filt_ruwe)"
   ]
  },
  {
   "cell_type": "code",
   "execution_count": null,
   "id": "19",
   "metadata": {},
   "outputs": [],
   "source": [
    "dpm = @. sqrt((all_stars.pmra - obs_props[\"pmra\"])^2 + (all_stars.pmdec - obs_props[\"pmdec\"])^2);"
   ]
  },
  {
   "cell_type": "code",
   "execution_count": null,
   "id": "20",
   "metadata": {},
   "outputs": [],
   "source": [
    "# sanity check the pm filter\n",
    "sum((dpm .< 1) .!= all_stars.filt_pm)"
   ]
  },
  {
   "cell_type": "markdown",
   "id": "21",
   "metadata": {},
   "source": [
    "We also include the Jensen et al. 2024 membership catalogue. Note that the version I use uses the 2-component elliptical model for everything except the `PSAT` column is the maximum of the 1-component elliptical, the 2-component circular, and the 2-component elliptical models (which are essentially the same except for the spatial prior). I use a threshhold of 0.2 for all probabilities. \n",
    "\n",
    "- `filt_qual` is equal to the `F_BEST` flag, which contains some cuts on parallax, extreme PM, colour, and RUWE\n",
    "- `flt_cmd` is based on the CMD probability of membership\n",
    "- `filt_pm` is a cut on the PM membership probability\n",
    "- `filt_all` is a cut on the total membership probability\n",
    "- `filt_all_nospace` does not include the spatial prior in the probability of membership calculation\n",
    "\n",
    "Note that unike above, `filt_all` is not just the logical and of the other filters, but does depend on cuts in CMD and PM like above"
   ]
  },
  {
   "cell_type": "code",
   "execution_count": null,
   "id": "22",
   "metadata": {},
   "outputs": [],
   "source": [
    "j24 = read_gaia_stars(\"processed/j24_sculptor_all.fits\", filt_params, θ = θ0)\n",
    "\n",
    "j24[!, :filt_qual] = j24.F_BEST .== 1.0\n",
    "j24[!, :filt_cmd] = j24.PSAT_CMD .> 0.2\n",
    "j24[!, :filt_pm] = j24.PSAT_PM .> 0.2\n",
    "j24[!, :filt_all] = j24.PSAT .> 0.2\n",
    "j24[!, :filt_all_nospace] = j24.PSAT_NOSPACE .> 0.2\n",
    "\n",
    "j24"
   ]
  },
  {
   "cell_type": "code",
   "execution_count": null,
   "id": "23",
   "metadata": {},
   "outputs": [],
   "source": [
    "# load in a reference orbit for later...\n",
    "\n",
    "modelname = \"sculptor/1e7_V31_r3.2/orbit_mean\"\n",
    "model_dir = joinpath(parentdir, \"analysis\", modelname)\n",
    "orbit_props = TOML.parsefile(\"$model_dir/orbital_properties.toml\")\n",
    "idx_f = orbit_props[\"idx_f\"]\n",
    "\n",
    "orbit = LilGuys.read_fits(\"$model_dir/skyorbit.fits\")\n",
    "orbit[!, :xi], orbit[!, :eta] = LilGuys.to_tangent(orbit.ra, orbit.dec, orbit.ra[idx_f], orbit.dec[idx_f])\n",
    "\n",
    "orbit = orbit[idx_f-10:idx_f+10, :]"
   ]
  },
  {
   "cell_type": "markdown",
   "id": "24",
   "metadata": {},
   "source": [
    "# Plots of entire samples"
   ]
  },
  {
   "cell_type": "markdown",
   "id": "25",
   "metadata": {},
   "source": [
    "The following two figures show the tangent plane space of each dataset with black points being stars satisfying the quality, parallax, and CMD cuts, and the orange points applying the full filter (including PM and only for J+24 spatial distance). \n",
    "\n",
    "By eye, there are no visible excesses or structure in the orange or black points which may indicate a stream or tidal feature."
   ]
  },
  {
   "cell_type": "code",
   "execution_count": null,
   "id": "26",
   "metadata": {},
   "outputs": [],
   "source": [
    "function plot_tangent_all(df; levels=10, kwargs...)\n",
    "    \n",
    "    fig = Figure()\n",
    "\n",
    "    ax = xieta_axis(fig[1,1]; kwargs...)\n",
    "    r_max = round(maximum(df.xi .⊕ df.eta))\n",
    "    ax.limits = (-r_max, r_max, -r_max, r_max)\n",
    "    \n",
    "    \n",
    " \n",
    "    scatter!(df.xi, df.eta, color=:black, markersize=3, alpha=0.3)\n",
    "    #c = isocontours!(df.xi, df.eta, x_bw=0.1, y_bw=0.1,\n",
    "     #   scale=:log, density_scale=0.01, levels=levels)  \n",
    "    #Colorbar(fig[1, 2], c)\n",
    "    fig\n",
    "end"
   ]
  },
  {
   "cell_type": "code",
   "execution_count": null,
   "id": "27",
   "metadata": {},
   "outputs": [],
   "source": [
    "plot_tangent_all(all_stars[all_stars.filt_qual .& all_stars.filt_cmd, :], title=\"all stars, CMD + parallax\")"
   ]
  },
  {
   "cell_type": "code",
   "execution_count": null,
   "id": "28",
   "metadata": {},
   "outputs": [],
   "source": [
    "plot_tangent_all(all_stars[all_stars.filt_all, :], title=\"all stars, CMD + PM + parallax\")"
   ]
  },
  {
   "cell_type": "code",
   "execution_count": null,
   "id": "29",
   "metadata": {},
   "outputs": [],
   "source": [
    "plot_tangent_all(all_stars[all_stars.filt_qual .& all_stars.filt_cmd .& all_stars.filt_pm_loose, :], title=\"all stars, CMD + PM(2mas/yr) + parallax\")"
   ]
  },
  {
   "cell_type": "code",
   "execution_count": null,
   "id": "30",
   "metadata": {},
   "outputs": [],
   "source": [
    "plot_tangent_all(all_stars[all_stars.filt_qual_strict .& all_stars.filt_pm .& all_stars.filt_cmd, :], title=\"CMD + PM + quality + noQSO\")"
   ]
  },
  {
   "cell_type": "code",
   "execution_count": null,
   "id": "31",
   "metadata": {},
   "outputs": [],
   "source": [
    "plot_tangent_all(all_stars[all_stars.filt_all_strict, :], title=\"strict CMD + PM + quality\")"
   ]
  },
  {
   "cell_type": "code",
   "execution_count": null,
   "id": "32",
   "metadata": {},
   "outputs": [],
   "source": [
    "df = j24[j24.filt_all_nospace, :]\n",
    "fig = plot_tangent_all(df, title=\"J+24, no spatial prior\", levels=5)\n",
    "\n",
    "fig.content[1].limits = (-6, 6, -6, 6)\n",
    "fig"
   ]
  },
  {
   "cell_type": "code",
   "execution_count": null,
   "id": "33",
   "metadata": {},
   "outputs": [],
   "source": [
    "df = j24[j24.filt_all, :]\n",
    "plot_tangent_all(df, title=\"J+24\")\n"
   ]
  },
  {
   "cell_type": "code",
   "execution_count": null,
   "id": "34",
   "metadata": {},
   "outputs": [],
   "source": [
    "fig = Figure()\n",
    "ax = Axis(fig[1, 1], \n",
    "    limits=(-1, 2.8, -3.2, 2.1),\n",
    "    xlabel = L\"$\\log\\; r_\\textrm{ell}$ / arcmin\",\n",
    "    ylabel = L\"$\\Sigma$ / stars arcmin$^{-2}$\",\n",
    "    )\n",
    "bins = -1:0.1:3\n",
    "\n",
    "df = all_stars\n",
    "plot_density!(ax, df, label = \"all\", bins=bins)\n",
    "\n",
    "df = all_stars[all_stars.filt_all, :]\n",
    "plot_density!(ax, df, label = \"PM+CMD+Qual\", bins=bins)\n",
    "\n",
    "df = j24[j24.filt_all_nospace, :]\n",
    "plot_density!(ax, df, label = \"J+24, nospace\", bins=bins)\n",
    "\n",
    "df = j24[j24.filt_all, :]\n",
    "plot_density!(ax, df, label = \"J+24\", bins=bins)\n",
    "\n",
    "axislegend(position=:lb)\n",
    "fig"
   ]
  },
  {
   "cell_type": "code",
   "execution_count": null,
   "id": "35",
   "metadata": {},
   "outputs": [],
   "source": [
    "fig = Figure()\n",
    "ax = Axis(fig[1, 1], \n",
    "    limits=(-1, 2.8, -4, 2),\n",
    "    xlabel = L\"$\\log\\; r_\\textrm{ell}$ / arcmin\",\n",
    "    ylabel = L\"$\\Sigma$ / stars arcmin$^{-2}$\",\n",
    "    )\n",
    "bins = -1:0.1:3\n",
    "\n",
    "df = all_stars[all_stars.filt_all, :]\n",
    "plot_density!(ax, df, label = \"CMD + PM + parallax\", bins=bins)\n",
    "\n",
    "df = all_stars[all_stars.filt_cmd_strict .& all_stars.filt_qual .& all_stars.filt_pm, :]\n",
    "plot_density!(ax, df, label = \"+ tighter CMD\", bins=bins)\n",
    "\n",
    "df = all_stars[all_stars.filt_cmd .& all_stars.filt_qual .& all_stars.filt_pm_loose, :]\n",
    "plot_density!(ax, df, label = \"2 mas/yr PM cut\", bins=bins)\n",
    "\n",
    "\n",
    "df = all_stars[all_stars.filt_cmd .& all_stars.filt_qual .& all_stars.filt_pm_strict, :]\n",
    "plot_density!(ax, df, label = \"0.5 mas/yr PM cut\", bins=bins)\n",
    "\n",
    "\n",
    "df = all_stars[all_stars.filt_cmd .& all_stars.filt_qual_strict .& all_stars.filt_pm, :]\n",
    "plot_density!(ax, df, label = \" + noqso\", bins=bins)\n",
    "\n",
    "axislegend(position=:lb)\n",
    "fig"
   ]
  },
  {
   "cell_type": "markdown",
   "id": "36",
   "metadata": {},
   "source": [
    "# Filter validation"
   ]
  },
  {
   "cell_type": "markdown",
   "id": "37",
   "metadata": {},
   "source": [
    "### Quality cuts"
   ]
  },
  {
   "cell_type": "code",
   "execution_count": null,
   "id": "38",
   "metadata": {},
   "outputs": [],
   "source": [
    "import LilGuys.Plots as LP"
   ]
  },
  {
   "cell_type": "markdown",
   "id": "39",
   "metadata": {},
   "source": [
    "The figure below simply plots the parallax and error for all the stars and stars satisfying the parallax cut. As expected, the parallax cut selects a wedge in this space."
   ]
  },
  {
   "cell_type": "code",
   "execution_count": null,
   "id": "40",
   "metadata": {
    "jupyter": {
     "source_hidden": true
    }
   },
   "outputs": [],
   "source": [
    "let\n",
    "    fig = Figure()\n",
    "    ax = Axis(fig[1, 1], \n",
    "        xlabel = \"parallax\",\n",
    "        ylabel = \"parallax error\",\n",
    "        limits = (-10, 10, 0, nothing),\n",
    "        )\n",
    "\n",
    "    scatter!(all_stars.parallax, all_stars.parallax_error, markersize=1, alpha=0.2, color=:black, label = \"all stars\")\n",
    "\n",
    "    scatter!(all_stars.parallax[all_stars.filt_parallax], all_stars.parallax_error[all_stars.filt_parallax], label = \"parallax selected stars\")\n",
    "\n",
    "    xs = 1.5 * [-5, 0, 5]\n",
    "    lines!(xs, 1/3*abs.(xs), label = \"3 sigma consist. with zero\", color=COLORS[2])\n",
    "\n",
    "    LP.hide_grid!(ax)\n",
    "\n",
    "    Legend(fig[1, 2], ax)\n",
    "\n",
    "    fig\n",
    "end"
   ]
  },
  {
   "cell_type": "code",
   "execution_count": null,
   "id": "41",
   "metadata": {},
   "outputs": [],
   "source": [
    "let\n",
    "    fig = Figure()\n",
    "    ax = Axis(fig[1, 1], \n",
    "        xlabel = \"log RUWE\", \n",
    "        ylabel = \"counts\",\n",
    "        limits = (nothing, nothing, 1, 1e5),\n",
    "        yscale=log10\n",
    "        )\n",
    "\n",
    "    bins = -0.1:0.01:0.2\n",
    "\n",
    "    hist!(log10.(all_stars.ruwe)[all_stars.filt_ruwe], bins=bins, label=\"RUWE selection\")\n",
    "    stephist!(log10.(all_stars.ruwe), bins=bins, color=:black, label=\"all stars\")\n",
    "\n",
    "    vlines!(log10(1.3), color=COLORS[3], linestyle=:dash, label=\"threshold\")\n",
    "\n",
    "    axislegend()\n",
    "\n",
    "    LP.hide_grid!(ax)\n",
    "    fig\n",
    "end"
   ]
  },
  {
   "cell_type": "code",
   "execution_count": null,
   "id": "42",
   "metadata": {},
   "outputs": [],
   "source": [
    "cmd_x = [filt_params.cmd_cut[1:2:end]; filt_params.cmd_cut[1]]\n",
    "cmd_y = [filt_params.cmd_cut[2:2:end]; filt_params.cmd_cut[2]];"
   ]
  },
  {
   "cell_type": "code",
   "execution_count": null,
   "id": "43",
   "metadata": {},
   "outputs": [],
   "source": [
    "let\n",
    "\tfig = Figure()\n",
    "\n",
    "\tax = cmd_axis(fig[1, 1])\n",
    "\n",
    "\tfilt =  (all_stars.r_ell .< 60) .& all_stars.filt_qual .& all_stars.filt_pm\n",
    "\n",
    "\n",
    "\tscatter!(all_stars.bp_rp[filt], all_stars.G[filt], markersize=2, alpha=0.3, color=:black, \n",
    "        label=\"parallax + PM + rell < 1deg\" => (; markersize=10))\n",
    "    \n",
    "    filt .&= all_stars.filt_cmd\n",
    "\tscatter!(all_stars.bp_rp[filt], all_stars.G[filt], markersize=2, label=\" + CMD cuts\" => (; markersize=10))\n",
    "\t#lines!(iso.bp_rp, iso.G .+ dm)\n",
    "\tpoly!(cmd_x, cmd_y, color=:transparent, strokecolor=COLORS[2], strokewidth=2)\n",
    "\n",
    "\taxislegend(position=:lt, markersize=10)\n",
    "\n",
    "\t@savefig \"cmd_polygon_strict\"\n",
    "\tfig\n",
    "end"
   ]
  },
  {
   "cell_type": "code",
   "execution_count": null,
   "id": "44",
   "metadata": {},
   "outputs": [],
   "source": [
    "cmd_x = [filt_params_strict.cmd_cut[1:2:end]; filt_params_strict.cmd_cut[1]]\n",
    "cmd_y = [filt_params_strict.cmd_cut[2:2:end]; filt_params_strict.cmd_cut[2]];"
   ]
  },
  {
   "cell_type": "code",
   "execution_count": null,
   "id": "45",
   "metadata": {},
   "outputs": [],
   "source": [
    "let\n",
    "\tfig = Figure()\n",
    "\n",
    "\tax = cmd_axis(fig[1, 1])\n",
    "\n",
    "\tfilt =  (all_stars.r_ell .< 60) .& all_stars.filt_qual .& all_stars.filt_pm\n",
    "\n",
    "\n",
    "\tscatter!(all_stars.bp_rp[filt], all_stars.G[filt], markersize=2, alpha=0.3, color=:black, \n",
    "        label=\"parallax + PM + rell < 1deg\" => (; markersize=10))\n",
    "    \n",
    "    filt .&= all_stars.filt_cmd_strict\n",
    "\tscatter!(all_stars.bp_rp[filt], all_stars.G[filt], markersize=2, label=\" + CMD cuts\" => (; markersize=10))\n",
    "\t#lines!(iso.bp_rp, iso.G .+ dm)\n",
    "\tpoly!(cmd_x, cmd_y, color=:transparent, strokecolor=COLORS[2], strokewidth=2)\n",
    "\n",
    "\taxislegend(position=:lt, markersize=10)\n",
    "\n",
    "\t@savefig \"cmd_polygon_strict\"\n",
    "\tfig\n",
    "end"
   ]
  },
  {
   "cell_type": "code",
   "execution_count": null,
   "id": "46",
   "metadata": {},
   "outputs": [],
   "source": [
    "let\n",
    "\tfig = Figure()\n",
    "    ax = pm_axis(fig[1, 1], dpm=11)\n",
    "    ax.title = \"Gaia stars within 6 degrees of Scl\"\n",
    "    \n",
    "\tscatter!(all_stars.pmra, all_stars.pmdec, markersize=1, alpha=0.2, color=:black, )\n",
    "\tscatter!([NaN], [NaN], markersize=5, alpha=0.2, color=:black, label = \"all stars in Gaia\")\n",
    "    \n",
    "\tfilt = all_stars.filt_pm \n",
    "\n",
    "\tscatter!(all_stars.pmra[filt], all_stars.pmdec[filt], markersize=1, color=COLORS[1])\n",
    "\tscatter!([NaN], [NaN], markersize=5, color=COLORS[1], label = \"PM selected stars\")\n",
    "\n",
    "    arc!(Point2f(filt_params.pmra, filt_params.pmdec), filt_params.dpm, -π, π, color=COLORS[2], label = \"PM cut\")\n",
    "\n",
    "    leg = Legend(fig[1, 2], ax, markersize=15)\n",
    "    \n",
    "\tfig\n",
    "end"
   ]
  },
  {
   "cell_type": "code",
   "execution_count": null,
   "id": "47",
   "metadata": {},
   "outputs": [],
   "source": [
    "let\n",
    "\tfig = Figure()\n",
    "    ax = pm_axis(fig[1, 1], dpm=11)\n",
    "    ax.title = \"Gaia stars within 6 degrees of Scl\"\n",
    "    \n",
    "\tscatter!(all_stars.pmra, all_stars.pmdec, markersize=1, alpha=0.2, color=:black, )\n",
    "\tscatter!([NaN], [NaN], markersize=5, alpha=0.2, color=:black, label = \"all stars in Gaia\")\n",
    "    \n",
    "\tfilt = all_stars.filt_pm_strict\n",
    "\n",
    "\tscatter!(all_stars.pmra[filt], all_stars.pmdec[filt], markersize=1, color=COLORS[1])\n",
    "\tscatter!([NaN], [NaN], markersize=5, color=COLORS[1], label = \"PM (<0.5 mas/yr)\")\n",
    "\n",
    "    arc!(Point2f(filt_params.pmra, filt_params.pmdec), 0.5, -π, π, color=COLORS[2], label = \"PM cut\")\n",
    "\n",
    "    leg = Legend(fig[1, 2], ax, markersize=15)\n",
    "    \n",
    "\tfig\n",
    "end"
   ]
  },
  {
   "cell_type": "code",
   "execution_count": null,
   "id": "48",
   "metadata": {},
   "outputs": [],
   "source": [
    "let\n",
    "\tfig = Figure()\n",
    "    ax = pm_axis(fig[1, 1], dpm=11)\n",
    "    ax.title = \"Gaia stars within 6 degrees of Scl\"\n",
    "    \n",
    "\tscatter!(all_stars.pmra, all_stars.pmdec, markersize=1, alpha=0.2, color=:black, )\n",
    "\tscatter!([NaN], [NaN], markersize=5, alpha=0.2, color=:black, label = \"all stars in Gaia\")\n",
    "    \n",
    "\tfilt = all_stars.filt_pm_loose\n",
    "\n",
    "\tscatter!(all_stars.pmra[filt], all_stars.pmdec[filt], markersize=1, color=COLORS[1])\n",
    "\tscatter!([NaN], [NaN], markersize=5, color=COLORS[1], label = \"PM (<2 mas/yr)\")\n",
    "\n",
    "    arc!(Point2f(filt_params.pmra, filt_params.pmdec), 2, -π, π, color=COLORS[2], label = \"PM cut\")\n",
    "\n",
    "    leg = Legend(fig[1, 2], ax, markersize=15)\n",
    "    \n",
    "\tfig\n",
    "end"
   ]
  },
  {
   "cell_type": "code",
   "execution_count": null,
   "id": "49",
   "metadata": {},
   "outputs": [],
   "source": [
    "let\n",
    "\tfig = Figure()\n",
    "    ax = pm_axis(fig[1, 1], dpm=11)\n",
    "    \n",
    "\tscatter!(j24.pmra, j24.pmdec, \n",
    "        markersize=2, alpha=0.2, color=:black, \n",
    "    )\n",
    "    scatter!([NaN], [NaN], markersize=5, alpha=0.2, color=:black, label = \"J+24 all stars\")\n",
    "\n",
    "\tfilt = j24.filt_all \n",
    "\tscatter!(j24.pmra[filt], j24.pmdec[filt], markersize=2, )\n",
    "\tscatter!([NaN], [NaN], markersize=5, color=COLORS[1], label=\"J+24, PSAT > 0.2\")\n",
    "    arc!(Point2f(filt_params.pmra, filt_params.pmdec), filt_params.dpm, -π, π, color=COLORS[2], label = \"PM cut\")\n",
    "\n",
    "    Legend(fig[1, 2], ax)\n",
    "\tfig\n",
    "end"
   ]
  },
  {
   "cell_type": "markdown",
   "id": "50",
   "metadata": {},
   "source": [
    "# Background"
   ]
  },
  {
   "cell_type": "code",
   "execution_count": null,
   "id": "51",
   "metadata": {},
   "outputs": [],
   "source": [
    "let\n",
    "    fig = Figure()\n",
    "    ax = xieta_axis(fig[1,1])\n",
    "\n",
    "    filt = all_stars.filt_qual .& .! all_stars.filt_cmd .& .! all_stars.filt_pm\n",
    "\n",
    "    scatter!(all_stars.xi[filt], all_stars.eta[filt], color=:black, markersize=1)\n",
    "\n",
    "    ax.title = \"not CMD, not PM but passing parallax and ruwe\"\n",
    "    fig\n",
    "end"
   ]
  },
  {
   "cell_type": "code",
   "execution_count": null,
   "id": "52",
   "metadata": {},
   "outputs": [],
   "source": [
    "let\n",
    "    fig = Figure()\n",
    "    ax = cmd_axis(fig[1,1])\n",
    "\n",
    "    filt = all_stars.filt_qual .& .! all_stars.filt_pm\n",
    "\n",
    "    scatter!(all_stars.bp_rp[filt], all_stars.G[filt], color=:black, markersize=1)\n",
    "\n",
    "    ax.title = \"not PM but passing parallax and ruwe\"\n",
    "    fig\n",
    "end"
   ]
  },
  {
   "cell_type": "code",
   "execution_count": null,
   "id": "53",
   "metadata": {},
   "outputs": [],
   "source": [
    "let\n",
    "    fig = Figure()\n",
    "    ax = Axis(fig[1, 1],\n",
    "        xlabel = L\"total parallax error (mas\\,yr$^{-1}$)\",\n",
    "        ylabel = \"count\",\n",
    "        title = \"J+24, PSAT > 0.2\",\n",
    "        )\n",
    "\n",
    "    df = j24[j24.filt_all, :]\n",
    "    x = df.pmra_error .⊕ df.pmdec_error\n",
    "    stephist!(x)\n",
    "    \n",
    "    vlines!(median(x), color=COLORS[2])\n",
    "    text!(median(x), 0, text=\"median\", color=COLORS[2], rotation=π/2)\n",
    "\n",
    "    println(median(x))\n",
    "    fig\n",
    "end"
   ]
  },
  {
   "cell_type": "code",
   "execution_count": null,
   "id": "54",
   "metadata": {},
   "outputs": [],
   "source": [
    "let\n",
    "    fig = Figure()\n",
    "    ax = Axis(fig[1, 1],\n",
    "        xlabel = L\"total parallax error (mas\\,yr$^{-1}$)\",\n",
    "        ylabel = \"count\",\n",
    "        title = \"all \",\n",
    "        )\n",
    "\n",
    "    df = all_stars[all_stars.filt_qual, :]\n",
    "    x = df.pmra_error .⊕ df.pmdec_error\n",
    "    x = x[isfinite.(x)]\n",
    "    stephist!(x)\n",
    "    \n",
    "    vlines!(median(x), color=COLORS[2])\n",
    "    text!(median(x), 0, text=\"median\", color=COLORS[2], rotation=π/2)\n",
    "\n",
    "    println(median(x))\n",
    "    fig\n",
    "end"
   ]
  },
  {
   "cell_type": "code",
   "execution_count": null,
   "id": "55",
   "metadata": {},
   "outputs": [],
   "source": [
    "let\n",
    "    fig = Figure()\n",
    "    ax = pm_axis(fig[1,1], dpm=5)\n",
    "\n",
    "    filt = all_stars.filt_qual_strict .& .! all_stars.filt_cmd\n",
    "\n",
    "    scatter!(all_stars.pmra[filt], all_stars.pmdec[filt], color=:black, markersize=1)\n",
    "\n",
    "    scatter!(filt_params.pmra, filt_params.pmdec, color=red)\n",
    "    ax.title = \"not CMD but passing parallax and ruwe\"\n",
    "    fig\n",
    "end"
   ]
  },
  {
   "cell_type": "code",
   "execution_count": null,
   "id": "56",
   "metadata": {},
   "outputs": [],
   "source": [
    "let\n",
    "    fig = Figure()\n",
    "    ax = pm_axis(fig[1,1], dpm=5)\n",
    "\n",
    "    filt = (all_stars.in_qso_candidates .| all_stars.in_galaxy_candidates) .& all_stars.filt_qual .& all_stars.filt_cmd\n",
    "\n",
    "    scatter!(all_stars.pmra[filt], all_stars.pmdec[filt], color=:black, markersize=1)\n",
    "\n",
    "    scatter!(filt_params.pmra, filt_params.pmdec, color=red)\n",
    "    ax.title = \"QSO or galaxy candidate\"\n",
    "    fig\n",
    "end"
   ]
  },
  {
   "cell_type": "code",
   "execution_count": null,
   "id": "57",
   "metadata": {},
   "outputs": [],
   "source": [
    "let\n",
    "    fig = Figure()\n",
    "    ax = xieta_axis(fig[1,1])\n",
    "    ax.title = \"J+24, PSAT < 0.2\"\n",
    "\n",
    "    filt = j24.PSAT .< 0.2\n",
    "\n",
    "    scatter!(j24.xi[filt], j24.eta[filt], color=:black, markersize=2)\n",
    "\n",
    "    fig\n",
    "end"
   ]
  },
  {
   "cell_type": "code",
   "execution_count": null,
   "id": "58",
   "metadata": {},
   "outputs": [],
   "source": [
    "let\n",
    "    fig = Figure()\n",
    "    ax = cmd_axis(fig[1,1])\n",
    "    ax.title = \"J+24, PSAT < 0.2\"\n",
    "\n",
    "    filt = j24.PSAT .< 0.2\n",
    "\n",
    "    scatter!(j24.bp_rp[filt], j24.G[filt], color=:black, markersize=2)\n",
    "\n",
    "    fig\n",
    "end"
   ]
  },
  {
   "cell_type": "code",
   "execution_count": null,
   "id": "59",
   "metadata": {},
   "outputs": [],
   "source": [
    "let\n",
    "    fig = Figure()\n",
    "    ax = pm_axis(fig[1,1])\n",
    "    ax.title = \"J+24, PSAT < 0.2\"\n",
    "\n",
    "    filt = j24.PSAT .< 0.2\n",
    "\n",
    "    scatter!(j24.pmra[filt], j24.pmdec[filt], color=:black, markersize=2)\n",
    "    scatter!(filt_params.pmra, filt_params.pmdec, color=red)\n",
    "\n",
    "    fig\n",
    "end"
   ]
  },
  {
   "cell_type": "markdown",
   "id": "60",
   "metadata": {},
   "source": [
    "# Cutouts"
   ]
  },
  {
   "cell_type": "markdown",
   "id": "61",
   "metadata": {},
   "source": [
    "## Defining the cutouts\n",
    "\n",
    "Here, we begin to take cutouts along the orbit (more specifically, along the proper motion vector in the GSR frame as this is model-independent)"
   ]
  },
  {
   "cell_type": "code",
   "execution_count": null,
   "id": "62",
   "metadata": {},
   "outputs": [],
   "source": [
    "orbit_vector = [sind(θ0), cosd(θ0)]\n",
    "bg_vector = ([orbit_vector; 0] × [0, 0, 1])[1:2]"
   ]
  },
  {
   "cell_type": "code",
   "execution_count": null,
   "id": "63",
   "metadata": {},
   "outputs": [],
   "source": [
    "r_circ_cut = 0.25"
   ]
  },
  {
   "cell_type": "markdown",
   "id": "64",
   "metadata": {},
   "source": [
    "## Utility functions"
   ]
  },
  {
   "cell_type": "code",
   "execution_count": null,
   "id": "65",
   "metadata": {},
   "outputs": [],
   "source": [
    "function select_region_circle(allstars, centre; radius=0.5)\n",
    "\tx_cen, y_cen = centre\n",
    "\n",
    "\tr = @. sqrt((allstars.xi - x_cen)^2 + (allstars.eta - y_cen)^2)\n",
    "\n",
    "\tfilt = r .< radius\n",
    "\n",
    "\treturn filt\n",
    "end"
   ]
  },
  {
   "cell_type": "code",
   "execution_count": null,
   "id": "66",
   "metadata": {},
   "outputs": [],
   "source": [
    "function select_region_rect(all_stars, low, high; radius=1, θ=0)\n",
    "\n",
    "    x = @. cosd(θ) * all_stars.xi_p + sind(θ) * all_stars.eta_p\n",
    "    y = @. sind(θ) * all_stars.xi_p - cosd(θ) * all_stars.eta_p\n",
    "    \n",
    "\tfilt = abs.(y) .<= radius\n",
    "\n",
    "    filt .&= low .<= x .< high\n",
    "    \n",
    "\treturn filt\n",
    "end"
   ]
  },
  {
   "cell_type": "code",
   "execution_count": null,
   "id": "67",
   "metadata": {},
   "outputs": [],
   "source": [
    "function plot_cmd_members!(ax, all_stars, filters; labels=nothing)    \n",
    "    if labels === nothing\n",
    "        labels = [\"\" for _ in filters]\n",
    "    end\n",
    "\n",
    "    for i in 1:length(filters)\n",
    "        df = all_stars[filters[i], :]\n",
    "        plot_cmd!(ax, df, label=labels[i]; styles[i]...)\n",
    "\tend\n",
    "    \n",
    "\tN = sum(filters[end])\n",
    "    return N\n",
    "end"
   ]
  },
  {
   "cell_type": "code",
   "execution_count": null,
   "id": "68",
   "metadata": {},
   "outputs": [],
   "source": [
    "\n",
    "styles = [ \n",
    "    (; markersize=5, color=COLORS[1]), \n",
    "    (; color=COLORS[2], markersize=7),\n",
    "    (; color=COLORS[3], markersize=10),\n",
    "]\n"
   ]
  },
  {
   "cell_type": "code",
   "execution_count": null,
   "id": "69",
   "metadata": {},
   "outputs": [],
   "source": [
    "function plot_tangent_members!(ax, all_stars, filters; labels=false, background=false)\n",
    "    if labels === nothing\n",
    "        labels = [\"\" for _ in filters]\n",
    "    end\n",
    "\n",
    "    s = []\n",
    "    for i in 1:length(filters)\n",
    "        df = all_stars[filters[i], :]\n",
    "        p = scatter!(ax, df.xi, df.eta, label=labels[i]; styles[i]...)\n",
    "        push!(s, p)\n",
    "\tend\n",
    "\n",
    "    return s\n",
    "end"
   ]
  },
  {
   "cell_type": "code",
   "execution_count": null,
   "id": "70",
   "metadata": {},
   "outputs": [],
   "source": [
    "function plot_pm_members!(ax, all_stars, filters; labels=false)\n",
    "    if labels === nothing\n",
    "        labels = [\"\" for _ in filters]\n",
    "    end\n",
    "\n",
    "\n",
    "    for i in 1:length(filters)\n",
    "        df = all_stars[filters[i], :]\n",
    "        scatter!(ax, df.pmra, df.pmdec, label=labels[i]; styles[i]...)\n",
    "\tend\n",
    "\n",
    "    df = all_stars[filters[end], :]\n",
    "\tx, y, xe, ye = get_mean_pm(df)\n",
    "\n",
    "\tscatter!(ax, x, y, #xerr=[pmra_cen_err], yerr=[pmdec_cen_err], \n",
    "\tcolor=red, label=\"mean\", markersize=15)\n",
    "    errscatter!([x], [y], xerr=[xe], yerr=[ye], \n",
    "\tcolor=red, label=\"mean\")\n",
    "\n",
    "end"
   ]
  },
  {
   "cell_type": "code",
   "execution_count": null,
   "id": "71",
   "metadata": {},
   "outputs": [],
   "source": [
    "function get_mean_pm(df)\n",
    "\tpmra_cen = lguys.mean(df.pmra, (df.pmra_error .^ -2))\n",
    "\tpmra_cen_err = sqrt(1 / sum(df.pmra_error .^ -2))\n",
    "\tpmdec_cen = lguys.mean(df.pmdec, (df.pmdec_error .^ -2))\n",
    "\tpmdec_cen_err = sqrt(1 / sum(df.pmdec_error .^ -2))\n",
    "\n",
    "\treturn pmra_cen, pmdec_cen, pmra_cen_err, pmdec_cen_err\n",
    "end"
   ]
  },
  {
   "cell_type": "code",
   "execution_count": null,
   "id": "72",
   "metadata": {},
   "outputs": [],
   "source": [
    "function plot_cmd!(ax, df; kwargs...)\n",
    "\tscatter!(ax, df.bp_rp, df.G, alpha=1; kwargs...)\n",
    "end"
   ]
  },
  {
   "cell_type": "markdown",
   "id": "73",
   "metadata": {},
   "source": [
    "# Animations"
   ]
  },
  {
   "cell_type": "markdown",
   "id": "74",
   "metadata": {},
   "source": [
    "To understand if there are substantial numbers of stars which could be associated with sculptor"
   ]
  },
  {
   "cell_type": "code",
   "execution_count": null,
   "id": "75",
   "metadata": {},
   "outputs": [],
   "source": [
    "using Printf"
   ]
  },
  {
   "cell_type": "code",
   "execution_count": null,
   "id": "76",
   "metadata": {},
   "outputs": [],
   "source": [
    "function compare_regions_animation(all_stars, selection_filters; \n",
    "        legend=true, r_max=6, Nf=30, θ=0, filename=\"compare_regions_animation.gif\"\n",
    "    )\n",
    "    dr = 0.5\n",
    "    rs_test = LinRange(-r_max, r_max-dr, Nf)\n",
    "    \n",
    "        \n",
    "    labels = first.(selection_filters)\n",
    "    \n",
    "    # Create observables to update during the animation\n",
    "    filt_r_obs = select_region_rect(all_stars, rs_test[1], rs_test[1]+dr, θ=θ)\n",
    "    filts_obs = [filt .& filt_r_obs for (_, filt) in selection_filters]\n",
    "    \n",
    "    # Create the figure layout\n",
    "    fig = Figure(size = (800, 600))\n",
    "\n",
    "\n",
    "    ax = xieta_axis(fig[1, 1])\n",
    "    ax.limits = r_max .* (-1, 1, -1, 1)\n",
    "    filt = selection_filters[end].second\n",
    "    scatter!(ax, all_stars.xi[filt], all_stars.eta[filt]; color=COLORS[length(selection_filters)], markersize=1)\n",
    "    lines!(ax, orbit.xi, orbit.eta, color=COLORS[1])\n",
    "    xieta_scatters = plot_tangent_members!(ax, all_stars, filts_obs, labels=labels)\n",
    "\n",
    "    \n",
    "    ax_cmd = cmd_axis(fig[1, 2])\n",
    "    Ns = plot_cmd_members!(ax_cmd, all_stars, filts_obs, labels=labels)\n",
    "    text!(ax_cmd, 0.05, 0.95, text=\"$Ns\", space=:relative, align=(:left, :top))\n",
    "\n",
    "    ax_cmd.title = @sprintf \"R = %0.2f\" rs_test[1] + dr/2\n",
    "    \n",
    "    ax_pm = pm_axis(fig[2, 1])\n",
    "    plot_pm_members!(ax_pm, all_stars, filts_obs, labels=labels)\n",
    "\n",
    "\n",
    "    if legend && (labels !== nothing)\n",
    "        Legend(fig[2, 2], fig.content[1], tellwidth=false)\n",
    "    end\n",
    "\n",
    "    \n",
    "    # Animation: Update observable and capture frames\n",
    "    record(fig, joinpath(fig_dir, filename), 1:Nf, framerate=2) do frame\n",
    "        for p in xieta_scatters\n",
    "            delete!(ax, p)\n",
    "        end\n",
    "        \n",
    "        empty!(ax_cmd)\n",
    "        empty!(ax_pm)\n",
    "        \n",
    "        filt_r_obs = select_region_rect(all_stars, rs_test[frame], rs_test[frame]+dr, θ=θ)\n",
    "        filts_obs = [filt .& filt_r_obs for (_, filt) in selection_filters]\n",
    "\n",
    "        ax_cmd.title = @sprintf \"R = %0.2f\" rs_test[frame] + dr/2\n",
    "\n",
    "\n",
    "        xieta_scatters = plot_tangent_members!(ax, all_stars, filts_obs, labels=labels)\n",
    "        Ns = plot_cmd_members!(ax_cmd, all_stars, filts_obs, labels=labels)\n",
    "        plot_pm_members!(ax_pm, all_stars, filts_obs, labels=labels)\n",
    "        \n",
    "        text!(ax_cmd, 0.05, 0.95, text=\"$Ns stars\", space=:relative, align=(:left, :top))\n",
    "    end\n",
    "\n",
    "    fig\n",
    "end"
   ]
  },
  {
   "cell_type": "markdown",
   "id": "77",
   "metadata": {
    "jp-MarkdownHeadingCollapsed": true
   },
   "source": [
    "## J24 regions"
   ]
  },
  {
   "cell_type": "code",
   "execution_count": null,
   "id": "78",
   "metadata": {},
   "outputs": [],
   "source": [
    "filts_j24 = [\n",
    "    \"quality\"=>j24.filt_qual, \n",
    "    \"psat\"=>j24.filt_all\n",
    "]"
   ]
  },
  {
   "cell_type": "code",
   "execution_count": null,
   "id": "79",
   "metadata": {},
   "outputs": [],
   "source": [
    "compare_regions_animation(j24, filts_j24, r_max=2, filename = \"compare_regions_j24.gif\"\n",
    ")"
   ]
  },
  {
   "cell_type": "code",
   "execution_count": null,
   "id": "80",
   "metadata": {},
   "outputs": [],
   "source": [
    "compare_regions_animation(j24, filts_j24, r_max=2, θ=90, filename = \"compare_regions_j24_perp.gif\"\n",
    ")"
   ]
  },
  {
   "cell_type": "code",
   "execution_count": null,
   "id": "81",
   "metadata": {},
   "outputs": [],
   "source": [
    "filts_j24 = [\n",
    "    \"quality\"=>j24.filt_qual, \n",
    "    \"psat (no space)\"=>j24.filt_all_nospace\n",
    "]"
   ]
  },
  {
   "cell_type": "code",
   "execution_count": null,
   "id": "82",
   "metadata": {},
   "outputs": [],
   "source": [
    "compare_regions_animation(j24, filts_j24, r_max=2, filename = \"compare_regions_j24_nospace.gif\"\n",
    ")"
   ]
  },
  {
   "cell_type": "code",
   "execution_count": null,
   "id": "83",
   "metadata": {},
   "outputs": [],
   "source": [
    "compare_regions_animation(j24, filts_j24, r_max=2, θ=90, filename = \"compare_regions_j24_perp_nospace.gif\"\n",
    ")"
   ]
  },
  {
   "cell_type": "markdown",
   "id": "84",
   "metadata": {},
   "source": [
    "## All stars"
   ]
  },
  {
   "cell_type": "code",
   "execution_count": null,
   "id": "85",
   "metadata": {},
   "outputs": [],
   "source": [
    "filts_all_stars = [\n",
    "    \"parallax + RUWE\" => all_stars.filt_qual, \n",
    "    \"+ in CMD polygon\" => all_stars.filt_qual .& all_stars.filt_cmd]\n"
   ]
  },
  {
   "cell_type": "code",
   "execution_count": null,
   "id": "86",
   "metadata": {},
   "outputs": [],
   "source": [
    "compare_regions_animation(all_stars, filts_all_stars,\n",
    "    filename=\"compare_regions.gif\"\n",
    ")"
   ]
  },
  {
   "cell_type": "code",
   "execution_count": null,
   "id": "87",
   "metadata": {},
   "outputs": [],
   "source": [
    "compare_regions_animation(all_stars, filts_all_stars,\n",
    "    θ = 90,\n",
    "    filename = \"compare_regions_perp.gif\"\n",
    ")"
   ]
  },
  {
   "cell_type": "code",
   "execution_count": null,
   "id": "88",
   "metadata": {},
   "outputs": [],
   "source": [
    "filts_all_stars = [\n",
    "    \"parallax + RUWE\" => all_stars.filt_qual_strict, \n",
    "    \"+ in CMD polygon\" => all_stars.filt_qual_strict .& all_stars.filt_cmd\n",
    "    ]\n"
   ]
  },
  {
   "cell_type": "code",
   "execution_count": null,
   "id": "89",
   "metadata": {},
   "outputs": [],
   "source": [
    "compare_regions_animation(all_stars, filts_all_stars, filename=\"compare_regions_noq.gif\"\n",
    ")"
   ]
  },
  {
   "cell_type": "code",
   "execution_count": null,
   "id": "90",
   "metadata": {},
   "outputs": [],
   "source": [
    "compare_regions_animation(all_stars, filts_all_stars,\n",
    "    θ = 90,\n",
    "    filename = \"compare_regions_perp_noq.gif\"\n",
    ")"
   ]
  },
  {
   "cell_type": "markdown",
   "id": "91",
   "metadata": {},
   "source": [
    "## All stars + PM"
   ]
  },
  {
   "cell_type": "code",
   "execution_count": null,
   "id": "92",
   "metadata": {},
   "outputs": [],
   "source": [
    "filts_all_stars = [\n",
    "    \"parallax + RUWE\" => all_stars.filt_qual, \n",
    "    \"+ in CMD polygon + PM\" => all_stars.filt_qual .& all_stars.filt_cmd .& all_stars.filt_pm]\n"
   ]
  },
  {
   "cell_type": "code",
   "execution_count": null,
   "id": "93",
   "metadata": {},
   "outputs": [],
   "source": [
    "compare_regions_animation(all_stars, filts_all_stars, \n",
    "    filename = \"compare_regions_pm.gif\"\n",
    ")"
   ]
  },
  {
   "cell_type": "code",
   "execution_count": null,
   "id": "94",
   "metadata": {},
   "outputs": [],
   "source": [
    "compare_regions_animation(all_stars, filts_all_stars, \n",
    "    θ = 90,\n",
    "    filename = \"compare_regions_pm_perp.gif\"\n",
    ")"
   ]
  },
  {
   "cell_type": "code",
   "execution_count": null,
   "id": "95",
   "metadata": {},
   "outputs": [],
   "source": [
    "filts_all_stars = [\n",
    "    \"parallax + RUWE\" => all_stars.filt_qual_strict, \n",
    "    \"+ in CMD polygon + PM\" => all_stars.filt_qual_strict .& all_stars.filt_cmd .& all_stars.filt_pm]\n"
   ]
  },
  {
   "cell_type": "code",
   "execution_count": null,
   "id": "96",
   "metadata": {},
   "outputs": [],
   "source": [
    "compare_regions_animation(all_stars, filts_all_stars, \n",
    "    filename = \"compare_regions_pm_noq.gif\"\n",
    ")"
   ]
  },
  {
   "cell_type": "code",
   "execution_count": null,
   "id": "97",
   "metadata": {},
   "outputs": [],
   "source": [
    "compare_regions_animation(all_stars, filts_all_stars, \n",
    "    θ = 90,\n",
    "    filename = \"compare_regions_pm_perp_noq.gif\"\n",
    ")"
   ]
  },
  {
   "cell_type": "code",
   "execution_count": null,
   "id": "98",
   "metadata": {},
   "outputs": [],
   "source": [
    "filts_all_stars = [\n",
    "    \"parallax + RUWE\" => all_stars.filt_qual, \n",
    "    \"+ in CMD polygon + PM\" => all_stars.filt_qual .& all_stars.filt_cmd .& all_stars.filt_pm_loose]\n"
   ]
  },
  {
   "cell_type": "code",
   "execution_count": null,
   "id": "99",
   "metadata": {},
   "outputs": [],
   "source": [
    "compare_regions_animation(all_stars, filts_all_stars, \n",
    "    filename = \"compare_regions_pm_2masyr.gif\"\n",
    ")"
   ]
  },
  {
   "cell_type": "code",
   "execution_count": null,
   "id": "100",
   "metadata": {},
   "outputs": [],
   "source": [
    "compare_regions_animation(all_stars, filts_all_stars, \n",
    "    θ = 90,\n",
    "    filename = \"compare_regions_pm_perp_2masyr.gif\"\n",
    ")"
   ]
  },
  {
   "cell_type": "code",
   "execution_count": null,
   "id": "101",
   "metadata": {},
   "outputs": [],
   "source": [
    "filts_all_stars = [\n",
    "    \"parallax + RUWE\" => all_stars.filt_qual_strict, \n",
    "    \"+ in CMD polygon + PM\" => all_stars.filt_qual_strict .& all_stars.filt_cmd_strict .& all_stars.filt_pm_strict]\n"
   ]
  },
  {
   "cell_type": "code",
   "execution_count": null,
   "id": "102",
   "metadata": {},
   "outputs": [],
   "source": [
    "compare_regions_animation(all_stars, filts_all_stars, \n",
    "    filename = \"compare_regions_pm_strict.gif\"\n",
    ")"
   ]
  },
  {
   "cell_type": "code",
   "execution_count": null,
   "id": "103",
   "metadata": {},
   "outputs": [],
   "source": [
    "compare_regions_animation(all_stars, filts_all_stars, \n",
    "    θ = 90,\n",
    "    filename = \"compare_regions_pm_perp_strict.gif\"\n",
    ")"
   ]
  },
  {
   "cell_type": "markdown",
   "id": "104",
   "metadata": {},
   "source": [
    "# Binned properties along orbit"
   ]
  },
  {
   "cell_type": "code",
   "execution_count": null,
   "id": "105",
   "metadata": {},
   "outputs": [],
   "source": [
    "using DataFrames"
   ]
  },
  {
   "cell_type": "code",
   "execution_count": null,
   "id": "106",
   "metadata": {},
   "outputs": [],
   "source": [
    "\"\"\"\n",
    "    compute_pm_stats(all_stars; arguments...)\n",
    "\n",
    "Computes the medians\n",
    "\n",
    "\n",
    "\"\"\"\n",
    "\n",
    "function compute_pm_stats(all_stars::DataFrame; Nb=20, r_max=6, θ=0, dr=0.5)\n",
    "    # Define the radial bins\n",
    "    r_bins = LinRange(-r_max, r_max - dr, Nb)\n",
    "   \n",
    "\n",
    "    # Initialize arrays to store the results\n",
    "    pmra_means = Float64[]\n",
    "    pmdec_means = Float64[]\n",
    "    pmra_means_err = Float64[]\n",
    "    pmdec_means_err = Float64[]\n",
    "    pm_counts = Int[]\n",
    "\n",
    "    # Iterate through the radial bins\n",
    "    for i in 1:Nb\n",
    "        # Select stars in the current bin\n",
    "        filt = select_region_rect(all_stars, r_bins[i], r_bins[i] + dr, θ = θ)\n",
    "\n",
    "        println(i, \"\\t\", round(r_bins[i], digits=2), \"\\t\", sum(filt))\n",
    "        # Calculate the mean and errors for proper motions\n",
    "        x, y, xe, ye = get_mean_pm(all_stars[filt, :])\n",
    "\n",
    "        # Append the results to the respective arrays\n",
    "        push!(pmra_means, x)\n",
    "        push!(pmdec_means, y)\n",
    "        push!(pmra_means_err, xe)\n",
    "        push!(pmdec_means_err, ye)\n",
    "        push!(pm_counts, sum(filt))\n",
    "    end\n",
    "\n",
    "    # Create a DataFrame with the computed statistics\n",
    "    df = DataFrame(\n",
    "        x_bin_start = r_bins,\n",
    "        x_bin_end = r_bins .+ dr,\n",
    "        x = r_bins .+ dr / 2,\n",
    "        pmra_mean = pmra_means,\n",
    "        pmdec_mean = pmdec_means,\n",
    "        pmra_mean_err = pmra_means_err,\n",
    "        pmdec_mean_err = pmdec_means_err,\n",
    "        pm_count = pm_counts\n",
    "    )\n",
    "\n",
    "    return df\n",
    "end"
   ]
  },
  {
   "cell_type": "code",
   "execution_count": null,
   "id": "107",
   "metadata": {},
   "outputs": [],
   "source": [
    "all_stars[!, :filt_pm_fancy] = pm_filter(all_stars, filt_params.pmra, filt_params.pmdec, 0.1, 3);"
   ]
  },
  {
   "cell_type": "code",
   "execution_count": null,
   "id": "108",
   "metadata": {},
   "outputs": [],
   "source": [
    "df_means = compute_pm_stats(all_stars[all_stars.filt_all, :]);"
   ]
  },
  {
   "cell_type": "code",
   "execution_count": null,
   "id": "109",
   "metadata": {},
   "outputs": [],
   "source": [
    "df_means_fancy = compute_pm_stats(all_stars[all_stars.filt_cmd .& all_stars.filt_qual .& all_stars.filt_pm_fancy, :]);"
   ]
  },
  {
   "cell_type": "code",
   "execution_count": null,
   "id": "110",
   "metadata": {},
   "outputs": [],
   "source": [
    "df_noq = compute_pm_stats(all_stars[all_stars.filt_cmd .& all_stars.filt_qual_strict .& all_stars.filt_pm, :])\n"
   ]
  },
  {
   "cell_type": "code",
   "execution_count": null,
   "id": "111",
   "metadata": {},
   "outputs": [],
   "source": [
    "\n",
    "df_nopm = compute_pm_stats(all_stars[all_stars.filt_cmd .& all_stars.filt_qual, :])\n",
    "df_bg = compute_pm_stats(all_stars[all_stars.filt_qual, :])\n",
    "\n",
    "\n",
    "df_means_eta = compute_pm_stats(all_stars[all_stars.filt_all, :], θ=90)\n",
    "df_means_fancy_eta = compute_pm_stats(all_stars[all_stars.filt_cmd .& all_stars.filt_qual .& all_stars.filt_pm_fancy, :], θ=90)\n",
    "\n",
    "df_nopm_eta = compute_pm_stats(all_stars[all_stars.filt_cmd .& all_stars.filt_qual, :], θ=90)"
   ]
  },
  {
   "cell_type": "code",
   "execution_count": null,
   "id": "112",
   "metadata": {},
   "outputs": [],
   "source": [
    "let\n",
    "\n",
    "    fig = Figure(size=(800, 400))\n",
    "\tax = Axis(fig[1, 1],\n",
    "\t\txlabel=L\"$\\xi'$ / degrees\", \n",
    "\t\tylabel=L\"$\\mu_{\\alpha*}$ / mas\\,yr$^{-1}$\",\n",
    "\t\t#limits=(-1.1, 1.1, 0, 0.3)\n",
    "\t)\n",
    "\n",
    "\terrscatter!(df_means.x, df_means.pmra_mean, yerr=df_means.pmra_mean_err, label=\"pm filter\")\n",
    "\terrscatter!(df_nopm.x, df_nopm.pmra_mean, yerr=df_nopm.pmra_mean_err, label=\"no pm filter\")\n",
    "\n",
    "\n",
    "    hlines!(\n",
    "        median(all_stars.pmra[all_stars.filt_qual .& .! all_stars.filt_cmd .& .! all_stars.filt_pm]), \n",
    "        label=\"nonmember median\",\n",
    "        color=COLORS[2],\n",
    "    )\n",
    "\n",
    "\n",
    "    Axis(fig[1, 2],\n",
    "\t\txlabel=L\"$\\xi'$ / degrees\", \n",
    "\t\tylabel=L\"$\\mu_{\\delta}$ / mas\\,yr$^{-1}$\",\n",
    "\t\t#limits=(-1.1, 1.1, 0, 0.3)\n",
    "\t)\n",
    "\n",
    "\terrscatter!(df_means.x, df_means.pmdec_mean, yerr=df_means.pmdec_mean_err)\n",
    "\terrscatter!(df_nopm.x, df_nopm.pmdec_mean, yerr=df_nopm.pmdec_mean_err)\n",
    "    hlines!(\n",
    "        median(all_stars.pmdec[all_stars.filt_qual .& .! all_stars.filt_cmd .& .! all_stars.filt_pm]), \n",
    "        label=\"nonmember mean\",\n",
    "    color=COLORS[2],\n",
    "    )\n",
    "    \n",
    "\n",
    "    Legend(fig[1, 3], ax)\n",
    "    \n",
    "    fig\n",
    "end"
   ]
  },
  {
   "cell_type": "code",
   "execution_count": null,
   "id": "113",
   "metadata": {},
   "outputs": [],
   "source": [
    "let\n",
    "\n",
    "    fig = Figure(size=(800, 400))\n",
    "\tax = Axis(fig[1, 1],\n",
    "\t\txlabel=L\"$\\xi'$ / degrees\", \n",
    "\t\tylabel=L\"$\\mu_{\\alpha*}$ / mas\\,yr$^{-1}$\",\n",
    "\t\t#limits=(-1.1, 1.1, 0, 0.3)\n",
    "\t)\n",
    "\n",
    "\terrscatter!(df_means.x, df_means.pmra_mean, yerr=df_means.pmra_mean_err, label=\"pm filter\")\n",
    "\n",
    "\n",
    "\n",
    "    Axis(fig[1, 2],\n",
    "\t\txlabel=L\"$\\xi'$ / degrees\", \n",
    "\t\tylabel=L\"$\\mu_{\\delta}$ / mas\\,yr$^{-1}$\",\n",
    "\t\t#limits=(-1.1, 1.1, 0, 0.3)\n",
    "\t)\n",
    "\n",
    "\terrscatter!(df_means.x, df_means.pmdec_mean, yerr=df_means.pmdec_mean_err)\n",
    "\n",
    "    fig\n",
    "end"
   ]
  },
  {
   "cell_type": "code",
   "execution_count": null,
   "id": "114",
   "metadata": {},
   "outputs": [],
   "source": [
    "let\n",
    "\n",
    "    fig = Figure(size=(800, 400))\n",
    "\tax = Axis(fig[1, 1],\n",
    "\t\txlabel=\"r / degrees\", \n",
    "\t\tylabel=\"log N in region\",\n",
    "\t\t#limits=(-1.1, 1.1, 0, 0.3)\n",
    "\t)\n",
    "\n",
    "\tscatter!(df_means.x, log10.(df_means.pm_count), label=\"along orbit, cmd + pm\")\n",
    "\tscatter!(df_means_eta.x, log10.(df_means_eta.pm_count), label=\"⟂ orbit, cmd + pm\")\n",
    "\tscatter!(df_noq.x, log10.(df_noq.pm_count), label=\"along orbit, +no qso/gal\")\n",
    "\tscatter!(df_eta_noq.x, log10.(df_eta_noq.pm_count), label=\"⟂ orbit, +no qso/gal\")\n",
    "    #df = df_nopm\n",
    "\t#scatter!(df.x, log10.(df.pm_count), label=\"along orbit, no pm\")\n",
    "    #df = df_bg\n",
    "\t#scatter!(df.x, log10.(df.pm_count), label=\"along orbit, only parallax + ruwe\")\n",
    "\n",
    "    Legend(fig[1, 2], ax)\n",
    "    fig\n",
    "end"
   ]
  },
  {
   "cell_type": "markdown",
   "id": "115",
   "metadata": {},
   "source": [
    "The above plot shows the "
   ]
  },
  {
   "cell_type": "code",
   "execution_count": null,
   "id": "116",
   "metadata": {},
   "outputs": [],
   "source": [
    "let\n",
    "\n",
    "    fig = Figure(size=(800, 400))\n",
    "\tax = Axis(fig[1, 1],\n",
    "\t\txlabel=L\"$\\eta'$ / degrees\", \n",
    "\t\tylabel=L\"$\\mu_{\\alpha*}$ / mas\\,yr$^{-1}$\",\n",
    "\t\t#limits=(-1.1, 1.1, 0, 0.3)\n",
    "\t)\n",
    "\n",
    "    df = df_means_eta\n",
    "    errscatter!(df.x, df.pmra_mean, yerr=df.pmra_mean_err, label=\"pm filter\")\n",
    "\n",
    "\n",
    "\n",
    "    Axis(fig[1, 2],\n",
    "\t\txlabel=L\"$\\eta'$ / degrees\", \n",
    "\t\tylabel=L\"$\\mu_{\\delta}$ / mas\\,yr$^{-1}$\",\n",
    "\t\t#limits=(-1.1, 1.1, 0, 0.3)\n",
    "\t)\n",
    "\n",
    "\terrscatter!(df.x, df.pmdec_mean, yerr=df.pmdec_mean_err)\n",
    "\n",
    "    fig\n",
    "end"
   ]
  },
  {
   "cell_type": "code",
   "execution_count": null,
   "id": "117",
   "metadata": {},
   "outputs": [],
   "source": [
    "let\n",
    "\n",
    "    fig = Figure(size=(800, 400))\n",
    "\tax = Axis(fig[1, 1],\n",
    "\t\txlabel=L\"$\\xi'$ / degrees\", \n",
    "\t\tylabel=L\"$\\mu_{\\alpha*}$ / mas\\,yr$^{-1}$\",\n",
    "\t\t#limits=(-1.1, 1.1, 0, 0.3)\n",
    "\t)\n",
    "\n",
    "\terrscatter!(df_means_fancy.x, df_means_fancy.pmra_mean, yerr=df_means_fancy.pmra_mean_err, label=\"pm filter\")\n",
    "\n",
    "\n",
    "\n",
    "    Axis(fig[1, 2],\n",
    "\t\txlabel=L\"$\\xi'$ / degrees\", \n",
    "\t\tylabel=L\"$\\mu_{\\delta}$ / mas\\,yr$^{-1}$\",\n",
    "\t\t#limits=(-1.1, 1.1, 0, 0.3)\n",
    "\t)\n",
    "\n",
    "\terrscatter!(df_means_fancy.x, df_means_fancy.pmdec_mean, yerr=df_means_fancy.pmdec_mean_err)\n",
    "\n",
    "    fig\n",
    "end"
   ]
  },
  {
   "cell_type": "code",
   "execution_count": null,
   "id": "118",
   "metadata": {},
   "outputs": [],
   "source": []
  }
 ],
 "metadata": {
  "kernelspec": {
   "display_name": "Julia 1.11.1",
   "language": "julia",
   "name": "julia-1.11"
  },
  "language_info": {
   "file_extension": ".jl",
   "mimetype": "application/julia",
   "name": "julia",
   "version": "1.11.1"
  }
 },
 "nbformat": 4,
 "nbformat_minor": 5
}
