{
 "cells": [
  {
   "cell_type": "code",
   "execution_count": null,
   "id": "0",
   "metadata": {},
   "outputs": [],
   "source": [
    "using LilGuys\n",
    "using CairoMakie\n",
    "using Arya"
   ]
  },
  {
   "cell_type": "code",
   "execution_count": null,
   "id": "1",
   "metadata": {},
   "outputs": [],
   "source": [
    "import TOML\n",
    "using CSV, DataFrames"
   ]
  },
  {
   "cell_type": "code",
   "execution_count": null,
   "id": "2",
   "metadata": {},
   "outputs": [],
   "source": [
    "using Measurements"
   ]
  },
  {
   "cell_type": "code",
   "execution_count": null,
   "id": "3",
   "metadata": {},
   "outputs": [],
   "source": [
    "using OrderedCollections"
   ]
  },
  {
   "cell_type": "code",
   "execution_count": null,
   "id": "4",
   "metadata": {},
   "outputs": [],
   "source": [
    "function load_profile(galaxyname; ext=\"\")\n",
    "    prof = LilGuys.StellarProfile(joinpath(galaxyname, \"density_profiles/jax$(ext)_profile.toml\"))\n",
    "\n",
    "    if prof.normalization == \"mass\"\n",
    "        println(\"shifting sigma by $(log10(sum(prof.counts)))\")\n",
    "        prof.log_Sigma .+= log10(sum(prof.counts))\n",
    "    end\n",
    "    \n",
    "    return prof\n",
    "end"
   ]
  },
  {
   "cell_type": "code",
   "execution_count": null,
   "id": "5",
   "metadata": {},
   "outputs": [],
   "source": [
    "function load_props(galaxyname)\n",
    "    props = TOML.parsefile(joinpath(galaxyname, \"observed_properties.toml\"))\n",
    "\n",
    "    return props\n",
    "end"
   ]
  },
  {
   "cell_type": "code",
   "execution_count": null,
   "id": "6",
   "metadata": {},
   "outputs": [],
   "source": [
    "profs_ana = OrderedDict(\n",
    "    \"exp3d\" => LilGuys.Exp2D(),\n",
    "    \"exp2d\" => LilGuys.Exp2D(),\n",
    "    \"logcusp\" => LilGuys.LogCusp2D(),\n",
    "    \"plummer\" => LilGuys.Plummer(),\n",
    "    \"king\" => LilGuys.KingProfile(k=1, c=5),\n",
    "    # \"sersic4\" => LilGuys.Sersic(n=4),\n",
    "    # \"sersic0.5\" => LilGuys.Sersic(n=1/2),\n",
    "    )"
   ]
  },
  {
   "cell_type": "code",
   "execution_count": null,
   "id": "7",
   "metadata": {},
   "outputs": [],
   "source": [
    "fig = Figure()\n",
    "ax = Axis(fig[1,1], \n",
    "    xlabel = \"quantile\",\n",
    "    ylabel = L\"\\log\\,r_{1-q}\\, /\\, r_{q}\"\n",
    ")\n",
    "\n",
    "for (label, prof) in profs_ana\n",
    "    x = LinRange(-2, 2, 1000)\n",
    "    rh = LilGuys.calc_R_h(prof)\n",
    "\n",
    "    y = log10.(LilGuys.calc_Σ.(prof, rh * 10 .^ x))\n",
    "    y .-= log10(LilGuys.calc_Σ(prof, rh))\n",
    "    \n",
    "    lines!(x, y, label = label)\n",
    "end\n",
    "\n",
    "ylims!(-5, 1.5)\n",
    "axislegend()\n",
    "\n",
    "fig"
   ]
  },
  {
   "cell_type": "code",
   "execution_count": null,
   "id": "8",
   "metadata": {},
   "outputs": [],
   "source": [
    "galaxies = [\n",
    "    \"aquarius2\", # spatial component dominates selection :/\n",
    "    \"bootes1\",\n",
    "    \"bootes2\", # selection dominated by spatial\n",
    "    \"bootes3\",\n",
    "    #\"bootes4\", # boo, < 10 stars\n",
    "    #\"bootes5\", < 10 stars\n",
    "    \"canes_venatici1\",\n",
    "    \"canes_venatici2\",\n",
    "    \"carina\",\n",
    "    \"carina2\",\n",
    "    #\"carina3\", # 12 stars\n",
    "    #\"centaurus1\", # 12 stars\n",
    "    #\"cetus2\", # 7 stars\n",
    "    # cetus 3, 1 stars\n",
    "    \"columba1\",\n",
    "    \"coma_berenices\",\n",
    "    \"crater2\",\n",
    "    #\"delve2\", 10 stars\n",
    "    #DES 2 stars # jax: no, 2 stars\n",
    "    \"draco\",\n",
    "    \"draco2\",\n",
    "    \"eridanus2\",\n",
    "   # \"eridanus3\", #needs Mv, less than 5\n",
    "    \"eridanus4\",\n",
    "    \"fornax\",\n",
    "    \"grus1\",\n",
    "    \"grus2\",\n",
    "    \"hercules\", #?\n",
    "    \"horologium1\",\n",
    "    \"horologium2\",# very unreliable ??\n",
    "    \"hydra2\", # 8 stars\n",
    "    \"hydrus1\",\n",
    "    #\"indus1\", # jax: no\n",
    "    #\"indus2\", needs Mv, no stars\n",
    "    \"leo1\",\n",
    "    \"leo2\",\n",
    "    #\"leo4\",\n",
    "    #\"leo5\", low\n",
    "   #  \"leo_minor\", #~6 stars\n",
    "   #  \"leo_t\",~ no stars in nospace\n",
    "    # \"pegasus3\", no stars # jax: no\n",
    "    # \"pegasus4\",  few stars\n",
    "    # \"phoenix\", fits err\n",
    "    #  \"phoenix2\", few stars\n",
    "    # \"pictor2\", few stars\n",
    "    # \"pictoris1\", #obs props\n",
    "    # \"pisces2\", 2 stars # jax no\n",
    "    \"reticulum2\",\n",
    "    #\"reticulum3\", # jax\n",
    "    \"sagittarius2\", \n",
    "    \"sculptor\",\n",
    "    \"segue1\",\n",
    "    \"segue2\",\n",
    "    \"sextans1\",\n",
    "  #  \"triangulum2\", 4 stars\n",
    "    \"tucana2\",\n",
    "    \"tucana3\",\n",
    "    # \"tucana4\", few stars\n",
    "    # \"tucana5\", # jax: no\n",
    "    #\"unions1\",\n",
    "    \"ursa_major1\",\n",
    "    \"ursa_major2\",\n",
    "    \"ursa_minor\",\n",
    "    # \"virgo1\", # jax: problems, wrong centre\n",
    "    # \"virgo2\" 2 stars, # jax: no\n",
    "    #\"willman1\", < 20 stars\n",
    "]"
   ]
  },
  {
   "cell_type": "code",
   "execution_count": null,
   "id": "9",
   "metadata": {},
   "outputs": [],
   "source": [
    "galaxies_flagged = [\n",
    "    \"bootes1\",\n",
    "    \"bootes3\",\n",
    "    \"draco2\",\n",
    "    \"grus2\",\n",
    "    \"sculptor\",\n",
    "    \"segue1\",\n",
    "    \"tucana2\",\n",
    "    \"tucana3\",\n",
    "    \"ursa_minor\",\n",
    "    ]"
   ]
  },
  {
   "cell_type": "code",
   "execution_count": null,
   "id": "10",
   "metadata": {},
   "outputs": [],
   "source": [
    "galaxies_high_quality = [\n",
    "    \"bootes1\",\n",
    "    \"crater2\",\n",
    "    \"carina\",\n",
    "    \"canes_venatici1\",\n",
    "    \"draco\",\n",
    "    \"fornax\",\n",
    "    \"leo2\",\n",
    "    \"leo1\",\n",
    "    \"reticulum2\",\n",
    "    \"sextans1\",\n",
    "    \"sculptor\",\n",
    "    \"ursa_minor\",\n",
    "    ]"
   ]
  },
  {
   "cell_type": "code",
   "execution_count": null,
   "id": "11",
   "metadata": {},
   "outputs": [],
   "source": [
    "profiles_flagged = OrderedDict(key => load_profile(key, ext=\"_2c\") for key in galaxies_flagged)"
   ]
  },
  {
   "cell_type": "code",
   "execution_count": null,
   "id": "12",
   "metadata": {},
   "outputs": [],
   "source": [
    "profiles_nospace = OrderedDict(key => load_profile(key, ext=\"_nospace\") for key in galaxies)"
   ]
  },
  {
   "cell_type": "code",
   "execution_count": null,
   "id": "13",
   "metadata": {},
   "outputs": [],
   "source": [
    "profiles = OrderedDict(key => load_profile(key) for key in galaxies)"
   ]
  },
  {
   "cell_type": "code",
   "execution_count": null,
   "id": "14",
   "metadata": {},
   "outputs": [],
   "source": [
    "fig = Figure(\n",
    "    size = (400, 600)\n",
    "    \n",
    ")\n",
    "ax = Axis(fig[1,1], xlabel = \"log r / kpc\", ylabel=L\"\\log\\,\\Sigma\")\n",
    "i = 0\n",
    "\n",
    "dy = 1.0\n",
    "for label in galaxies_flagged\n",
    "    color=COLORS[(i) % 7+1]\n",
    "    \n",
    "    prof = profiles[label]\n",
    "    \n",
    "    y = prof.log_Sigma .+ i*dy\n",
    "    errscatter!(prof.log_r, y, yerr=prof.log_Sigma_err, color=color)\n",
    "    lines!(prof.log_r, y)\n",
    "\n",
    "    prof = profiles_flagged[label]\n",
    "    \n",
    "    y = prof.log_Sigma .+ i*dy\n",
    "    lines!(prof.log_r, y, color=:black, linestyle=:dash)\n",
    "    \n",
    "    text!(-2.5, 0+i*dy, text=label, color=color)\n",
    "    i += 1\n",
    "end\n",
    "\n",
    "fig"
   ]
  },
  {
   "cell_type": "code",
   "execution_count": null,
   "id": "15",
   "metadata": {},
   "outputs": [],
   "source": [
    "fig = Figure(\n",
    "    size = (400, 600)\n",
    "    \n",
    ")\n",
    "ax = Axis(fig[1,1], xlabel = \"r / rh\", ylabel=L\"\\log\\,\\Sigma\")\n",
    "i = 0\n",
    "\n",
    "dy = 1.0\n",
    "for label in galaxies_flagged\n",
    "    color=COLORS[(i) % 7+1]\n",
    "    \n",
    "    prof = profiles[label]\n",
    "    \n",
    "    y = prof.log_Sigma .+ i*dy\n",
    "    errscatter!(10 .^ prof.log_r, y, yerr=prof.log_Sigma_err, color=color)\n",
    "    lines!(10 .^ prof.log_r, y)\n",
    "\n",
    "    prof = profiles_flagged[label]\n",
    "    \n",
    "    y = prof.log_Sigma .+ i*dy\n",
    "    lines!(10 .^ prof.log_r, y, color=:black, linestyle=:dash)\n",
    "    \n",
    "    text!(-6, 0+i*dy, text=label, color=color)\n",
    "    i += 1\n",
    "end\n",
    "\n",
    "fig"
   ]
  },
  {
   "cell_type": "code",
   "execution_count": null,
   "id": "16",
   "metadata": {},
   "outputs": [],
   "source": [
    "for galaxy in galaxies_flagged\n",
    "    profiles[galaxy] = profiles_flagged[galaxy]\n",
    "end"
   ]
  },
  {
   "cell_type": "code",
   "execution_count": null,
   "id": "17",
   "metadata": {},
   "outputs": [],
   "source": [
    "properties = OrderedDict(key => load_props(key) for key in galaxies)"
   ]
  },
  {
   "cell_type": "code",
   "execution_count": null,
   "id": "18",
   "metadata": {},
   "outputs": [],
   "source": [
    "for gal in galaxies\n",
    "    prof = profiles[gal]\n",
    "    norm = LilGuys.lerp(prof.log_r, prof.log_Sigma)(0)\n",
    "    prof.log_Sigma .-= norm\n",
    "\n",
    "   # profiles_nospace[gal].log_Sigma .-= norm\n",
    "end"
   ]
  },
  {
   "cell_type": "code",
   "execution_count": null,
   "id": "19",
   "metadata": {},
   "outputs": [],
   "source": [
    "for (k, v) in properties\n",
    "    if \"Mv_err\" ∉ keys(v)\n",
    "        properties[k][\"Mv_err\"] = max(properties[k][\"Mv_em\"], properties[k][\"Mv_ep\"])\n",
    "    end\n",
    "end"
   ]
  },
  {
   "cell_type": "code",
   "execution_count": null,
   "id": "20",
   "metadata": {},
   "outputs": [],
   "source": [
    "luminosity_bins = [1, -4, -5, -7, -9.5]"
   ]
  },
  {
   "cell_type": "code",
   "execution_count": null,
   "id": "21",
   "metadata": {},
   "outputs": [],
   "source": [
    "x = [sum(profiles[galaxy].counts) for galaxy in galaxies]\n",
    "y = [properties[galaxy][\"Mv\"] for galaxy in galaxies]\n",
    "\n",
    "fig = Figure()\n",
    "ax = Axis(fig[1,1])\n",
    "\n",
    "hlines!(luminosity_bins)\n",
    "scatter!(log10.(x), y)\n",
    "\n",
    "fig"
   ]
  },
  {
   "cell_type": "code",
   "execution_count": null,
   "id": "22",
   "metadata": {},
   "outputs": [],
   "source": [
    "galaxy_groups = [String[] for _ in 1:length(luminosity_bins)]\n",
    "\n",
    "for galaxyname in galaxies\n",
    "    Mv = properties[galaxyname][\"Mv\"]\n",
    "    \n",
    "    bin = findlast(x -> x>Mv, luminosity_bins)\n",
    "    println(Mv, \"\\t\", bin)\n",
    "    \n",
    "    if bin < 1\n",
    "        println(\"oops\")\n",
    "    end\n",
    "    if length(profiles[galaxyname].log_Sigma) < 2\n",
    "        println(galaxyname)\n",
    "        continue\n",
    "    end\n",
    "            \n",
    "\n",
    "    push!(galaxy_groups[bin], galaxyname)\n",
    "end"
   ]
  },
  {
   "cell_type": "code",
   "execution_count": null,
   "id": "23",
   "metadata": {},
   "outputs": [],
   "source": [
    "galaxy_groups"
   ]
  },
  {
   "cell_type": "markdown",
   "id": "24",
   "metadata": {
    "jp-MarkdownHeadingCollapsed": true
   },
   "source": [
    "# Density Profiles"
   ]
  },
  {
   "cell_type": "code",
   "execution_count": null,
   "id": "25",
   "metadata": {},
   "outputs": [],
   "source": [
    "for gals in galaxy_groups\n",
    "    fig = Figure(\n",
    "        size = (500, 500),\n",
    "        \n",
    "    )\n",
    "    ax = Axis(fig[1,1], \n",
    "        xlabel = \"log r / r_h\", \n",
    "        ylabel=L\"\\log\\,\\Sigma\",\n",
    "        xticks=[-2, -1, 0, 1, 2],\n",
    "    )\n",
    "    i = 0\n",
    "    \n",
    "    dy = 1.0\n",
    "    for galaxy in gals\n",
    "        println(galaxy)\n",
    "        prof = profiles[galaxy]\n",
    "        label = galaxy\n",
    "        println(prof.log_Sigma)\n",
    "        println(sum(prof.counts))\n",
    "\n",
    "        y = prof.log_Sigma .+ i*dy\n",
    "        if length(y) < 2\n",
    "            continue\n",
    "        end\n",
    "        color = COLORS[(i) % 7+1]\n",
    "        errscatter!(prof.log_r, y, yerr=prof.log_Sigma_err)\n",
    "        lines!(prof.log_r, y)\n",
    "    \n",
    "        # prof = profiles_nospace[label]\n",
    "        # lines!(prof.log_r,  prof.log_Sigma .+ i*dy, linestyle=:dot, color=color)\n",
    "        # println(prof.log_Sigma)\n",
    "        # println(sum(prof.counts))\n",
    "    \n",
    "        text!(-3, i*dy, text=label, color=color)\n",
    "        i += 1\n",
    "        println()\n",
    "    end\n",
    "    \n",
    "    display(fig)\n",
    "end"
   ]
  },
  {
   "cell_type": "code",
   "execution_count": null,
   "id": "26",
   "metadata": {},
   "outputs": [],
   "source": [
    "function get_property_uncertanty(properties, key, galaxies=keys(properties))\n",
    "    x = Float64[]\n",
    "    e = Float64[]\n",
    "\n",
    "    for galaxy in galaxies\n",
    "        props = properties[galaxy]\n",
    "        push!(x, props[key])\n",
    "\n",
    "        if (key * \"_em\") ∈ keys(props)\n",
    "            push!(e, max(props[key*\"_em\"], props[key*\"_ep\"]))\n",
    "        else\n",
    "            push!(e, props[key*\"_err\"])\n",
    "        end\n",
    "    end\n",
    "\n",
    "    return x, e\n",
    "end\n",
    "            \n",
    "    \n",
    "\n",
    "        \n",
    "        "
   ]
  },
  {
   "cell_type": "code",
   "execution_count": null,
   "id": "27",
   "metadata": {},
   "outputs": [],
   "source": [
    "function get_property(properties, key, galaxies=keys(properties))\n",
    "    x = Float64[]\n",
    "\n",
    "    for galaxy in galaxies\n",
    "        props = properties[galaxy]\n",
    "        push!(x, props[key])\n",
    "    end\n",
    "\n",
    "    return x\n",
    "end\n",
    "        "
   ]
  },
  {
   "cell_type": "code",
   "execution_count": null,
   "id": "28",
   "metadata": {},
   "outputs": [],
   "source": [
    "df_all = CSV.read(\"../analysis/all_galaxies/vasiliev+21/properties_w_orbits.csv\", DataFrame)\n",
    "filt = df_all.galaxyname .∈ [galaxies]\n",
    "df_all = df_all[filt, :]"
   ]
  },
  {
   "cell_type": "code",
   "execution_count": null,
   "id": "29",
   "metadata": {},
   "outputs": [],
   "source": [
    "density_fits = OrderedDict(\n",
    "    name => TOML.parsefile(\"$name/profile_fits.toml\") for name in galaxies\n",
    "        )"
   ]
  },
  {
   "cell_type": "code",
   "execution_count": null,
   "id": "30",
   "metadata": {},
   "outputs": [],
   "source": [
    "df_all[:, :n_sersic] = [(density_fits[k][\"n_sersic\"]) for k in df_all.galaxyname]\n",
    "df_all[:, :n_sersic_err] = [(density_fits[k][\"n_sersic_err\"]) for k in df_all.galaxyname]\n",
    "\n",
    "df_all[:, :r_h_sersic] = [(density_fits[k][\"r_h\"]) for k in df_all.galaxyname]\n",
    "df_all[:, :r_h_sersic_err] = [(density_fits[k][\"r_h_err\"]) for k in df_all.galaxyname]\n",
    "\n",
    "df_all[:, :M_sersic] = [(density_fits[k][\"M_sersic\"]) for k in df_all.galaxyname]\n",
    "df_all[:, :M_sersic_err] = [(density_fits[k][\"M_sersic_err\"]) for k in df_all.galaxyname]"
   ]
  },
  {
   "cell_type": "code",
   "execution_count": null,
   "id": "31",
   "metadata": {},
   "outputs": [],
   "source": [
    "filt = isfinite.(df_all.n_sersic)\n",
    "filt .&= df_all.n_sersic_err .< 100\n",
    "#filt .&= df_all.galaxyname .!= \"eridanus4\"\n",
    "df_all = df_all[filt, :]"
   ]
  },
  {
   "cell_type": "markdown",
   "id": "32",
   "metadata": {},
   "source": [
    "## Correlations"
   ]
  },
  {
   "cell_type": "code",
   "execution_count": null,
   "id": "33",
   "metadata": {},
   "outputs": [],
   "source": [
    "fig = Figure()\n",
    "ax = Axis(fig[1,1],\n",
    "    xlabel = \"pericentre / kpc\",\n",
    "    ylabel = \"n sersic\"\n",
    "    )\n",
    "\n",
    "errscatter!((df_all.peri), df_all.n_sersic, yerr=df_all.n_sersic_err, color=(:black, 0.2))\n",
    "p = scatter!((df_all.peri), df_all.n_sersic, color=df_all.ellipticity)\n",
    "\n",
    "text!((df_all.peri), df_all.n_sersic, text=df_all.galaxyname, fontsize=10)\n",
    "\n",
    "LilGuys.hide_grid!(ax)\n",
    "\n",
    "Colorbar(fig[1,2], p, label=\"ellipticity\")\n",
    "fig"
   ]
  },
  {
   "cell_type": "code",
   "execution_count": null,
   "id": "34",
   "metadata": {},
   "outputs": [],
   "source": [
    "density_fits[\"sculptor\"]"
   ]
  },
  {
   "cell_type": "code",
   "execution_count": null,
   "id": "35",
   "metadata": {},
   "outputs": [],
   "source": [
    "fig = Figure()\n",
    "ax = Axis(fig[1,1],\n",
    "    xlabel = \"Mv [mag]\",\n",
    "    ylabel = L\"Sérsic $n$\",\n",
    "    xreversed=true,\n",
    "    )\n",
    "\n",
    "gals = df_all.galaxyname[df_all.M_sersic .> 50]\n",
    "ye = [properties[galaxy][\"Mv_err\"] for galaxy in gals]\n",
    "\n",
    "df = df_all[df_all.galaxyname .∈ [gals], :]\n",
    "errscatter!((df.Mv), df.n_sersic, yerr=df.n_sersic_err, xerr=ye, color=(:black, 0.2))\n",
    "p = scatter!((df.Mv), df.n_sersic, color=df.ellipticity)\n",
    "\n",
    "text!((df.Mv), df.n_sersic, text=df.galaxyname, fontsize=10)\n",
    "hlines!(1.0, color=:black)\n",
    "LilGuys.hide_grid!(ax)\n",
    "\n",
    "Colorbar(fig[1,2], p, label=\"ellipticity\")\n",
    "\n",
    "vspan!(-6, -2.5, color=(COLORS[2], 0.2))\n",
    "xlims!(-14, -2.5)\n",
    "ax.xreversed = true\n",
    "fig"
   ]
  },
  {
   "cell_type": "code",
   "execution_count": null,
   "id": "36",
   "metadata": {},
   "outputs": [],
   "source": [
    "fig = Figure()\n",
    "ax = Axis(fig[1,1],\n",
    "    xlabel = \"Mv\",\n",
    "    ylabel = L\"Sérsic $n$\",\n",
    "    xreversed=true,\n",
    "    )\n",
    "\n",
    "gals = filter(x -> x ∈ galaxies_high_quality, df_all.galaxyname)\n",
    "ye = [properties[galaxy][\"Mv_err\"] for galaxy in gals]\n",
    "\n",
    "df = df_all[df_all.galaxyname .∈ [gals], :]\n",
    "errscatter!((df.Mv), df.n_sersic, yerr=df.n_sersic_err, xerr=ye, color=(:black, 0.2))\n",
    "p = scatter!((df.Mv), df.n_sersic, color=df.ellipticity)\n",
    "\n",
    "text!((df.Mv), df.n_sersic, text=df.galaxyname, fontsize=10)\n",
    "hlines!(1.0, color=:black)\n",
    "LilGuys.hide_grid!(ax)\n",
    "\n",
    "Colorbar(fig[1,2], p, label=\"ellipticity\")\n",
    "\n",
    "vspan!(-6, -2.5, color=(COLORS[2], 0.2))\n",
    "xlims!(-14, -2.5)\n",
    "ax.xreversed = true\n",
    "fig"
   ]
  },
  {
   "cell_type": "code",
   "execution_count": null,
   "id": "37",
   "metadata": {},
   "outputs": [],
   "source": [
    "fig = Figure()\n",
    "ax = Axis(fig[1,1],\n",
    "    xlabel = \"Mv\",\n",
    "    ylabel = L\"total stars\",\n",
    "    xreversed=true,\n",
    "    )\n",
    "\n",
    "gals = df_all.galaxyname\n",
    "ye = [properties[galaxy][\"Mv_err\"] for galaxy in gals]\n",
    "\n",
    "df = df_all[df_all.galaxyname .∈ [gals], :]\n",
    "y = [sum(profiles[gal].counts) for gal in gals]\n",
    "println(y)\n",
    "errscatter!((df.Mv), log10.(y), xerr=ye, color=(:black, 0.2))\n",
    "\n",
    "text!((df.Mv), log10.(y), text=df.galaxyname, fontsize=10)\n",
    "LilGuys.hide_grid!(ax)\n",
    "\n",
    "\n",
    "vspan!(-6, 0, color=(COLORS[2], 0.2))\n",
    "xlims!(-14, 0)\n",
    "ax.xreversed = true\n",
    "fig"
   ]
  },
  {
   "cell_type": "code",
   "execution_count": null,
   "id": "38",
   "metadata": {},
   "outputs": [],
   "source": [
    "fig = Figure()\n",
    "ax = Axis(fig[1,1],\n",
    "    xlabel = \"Mv\",\n",
    "    ylabel = L\"Sérsic $n$\",\n",
    "    xreversed=true,\n",
    "    )\n",
    "\n",
    "gals = galaxies_high_quality\n",
    "ye = [properties[galaxy][\"Mv_err\"] for galaxy in gals]\n",
    "\n",
    "df = df_all[df_all.galaxyname .∈ [gals], :]\n",
    "errscatter!((df.Mv), df.n_sersic, yerr=df.n_sersic_err, xerr=ye, color=(:black, 0.2))\n",
    "p = scatter!((df.Mv), df.n_sersic, color=df.ellipticity)\n",
    "\n",
    "text!((df.Mv), df.n_sersic, text=df.galaxyname, fontsize=10)\n",
    "hlines!(1.0, color=:black)\n",
    "LilGuys.hide_grid!(ax)\n",
    "\n",
    "Colorbar(fig[1,2], p, label=\"ellipticity\")\n",
    "\n",
    "fig"
   ]
  },
  {
   "cell_type": "code",
   "execution_count": null,
   "id": "39",
   "metadata": {},
   "outputs": [],
   "source": [
    "fig = Figure()\n",
    "ax = Axis(fig[1,1],\n",
    "    xlabel = \"peri / kpc\",\n",
    "    ylabel = \"1 / n sersic\"\n",
    "    )\n",
    "\n",
    "errscatter!((df_all.peri), 1 ./ df_all.n_sersic, yerr=1 ./ df_all.n_sersic .^ 2 .* df_all.n_sersic_err, color=(:black, 0.2))\n",
    "\n",
    "text!((df_all.peri), 1 ./ df_all.n_sersic, text=df_all.galaxyname, fontsize=8)\n",
    "\n",
    "p = scatter!((df_all.peri), 1 ./ df_all.n_sersic, color=df_all.ellipticity)\n",
    "\n",
    "Colorbar(fig[1,2], p, label=\"ellipticity\")\n",
    "\n",
    "fig"
   ]
  },
  {
   "cell_type": "code",
   "execution_count": null,
   "id": "40",
   "metadata": {},
   "outputs": [],
   "source": [
    "fig = Figure()\n",
    "ax = Axis(fig[1,1],\n",
    "    xlabel = \"peri / kpc\",\n",
    "    ylabel = \"1 / n sersic\"\n",
    "    )\n",
    "\n",
    "errscatter!((df_all.peri), 1 ./ df_all.n_sersic, yerr=1 ./ df_all.n_sersic .^ 2 .* df_all.n_sersic_err, color=(:black, 0.2))\n",
    "\n",
    "text!((df_all.peri), 1 ./ df_all.n_sersic, text=df_all.galaxyname, fontsize=8)\n",
    "\n",
    "p = scatter!((df_all.peri), 1 ./ df_all.n_sersic, color=df_all.Mv)\n",
    "\n",
    "Colorbar(fig[1,2], p, label=\"Mv\")\n",
    "\n",
    "fig"
   ]
  },
  {
   "cell_type": "markdown",
   "id": "41",
   "metadata": {
    "jp-MarkdownHeadingCollapsed": true
   },
   "source": [
    "# summary stats"
   ]
  },
  {
   "cell_type": "code",
   "execution_count": null,
   "id": "42",
   "metadata": {},
   "outputs": [],
   "source": [
    "fig = Figure()\n",
    "ax = Axis(fig[1,1],\n",
    "    xlabel = \"perilmc / kpc\",\n",
    "    ylabel = \"1 / n sersic\"\n",
    "    )\n",
    "\n",
    "errscatter!((df_all.perilmc), 1 ./ df_all.n_sersic, yerr=1 ./ df_all.n_sersic .^ 2 .* df_all.n_sersic_err, color=(:black, 0.2))\n",
    "\n",
    "text!((df_all.perilmc), 1 ./ df_all.n_sersic, text=df_all.galaxyname, fontsize=8)\n",
    "\n",
    "p = scatter!((df_all.perilmc), 1 ./ df_all.n_sersic, color=df_all.ellipticity)\n",
    "\n",
    "Colorbar(fig[1,2], p, label=\"ellipticity\")\n",
    "\n",
    "fig"
   ]
  },
  {
   "cell_type": "code",
   "execution_count": null,
   "id": "43",
   "metadata": {},
   "outputs": [],
   "source": [
    "fig = Figure()\n",
    "ax = Axis(fig[1,1],\n",
    "    xlabel = \"perilmc / kpc\",\n",
    "    ylabel = \"n sersic\"\n",
    "    )\n",
    "\n",
    "errscatter!((df_all.perilmc), 1 ./ df_all.n_sersic, yerr=1 ./ df_all.n_sersic .^ 2 .* df_all.n_sersic_err, color=(:black, 0.2))\n",
    "\n",
    "text!((df_all.perilmc), 1 ./ df_all.n_sersic, text=df_all.galaxyname, fontsize=8)\n",
    "\n",
    "p = scatter!((df_all.perilmc), 1 ./ df_all.n_sersic, color=df_all.Mv)\n",
    "\n",
    "Colorbar(fig[1,2], p, label=\"Mv\")\n",
    "\n",
    "fig"
   ]
  },
  {
   "cell_type": "code",
   "execution_count": null,
   "id": "44",
   "metadata": {},
   "outputs": [],
   "source": [
    "fig = Figure()\n",
    "ax = Axis(fig[1,1],\n",
    "    xlabel = \"ellipticity\",\n",
    "    ylabel = \"n sersic\"\n",
    "    )\n",
    "\n",
    "errscatter!(df_all.ellipticity, df_all.n_sersic, yerr=df_all.n_sersic_err)\n",
    "\n",
    "fig"
   ]
  },
  {
   "cell_type": "code",
   "execution_count": null,
   "id": "45",
   "metadata": {},
   "outputs": [],
   "source": [
    "df_all[:, :r_h_kpc] = LilGuys.arcmin_to_kpc.(df_all.r_h_sersic, df_all.distance)"
   ]
  },
  {
   "cell_type": "code",
   "execution_count": null,
   "id": "46",
   "metadata": {},
   "outputs": [],
   "source": [
    "df_all.distance_modulus_err"
   ]
  },
  {
   "cell_type": "code",
   "execution_count": null,
   "id": "47",
   "metadata": {},
   "outputs": [],
   "source": [
    "fig = Figure()\n",
    "ax = Axis(fig[1,1],\n",
    "    xlabel = L\"$\\log\\ R_h$ / kpc\",\n",
    "    ylabel = \"Mv\",\n",
    "    yreversed=true,\n",
    "    )\n",
    "\n",
    "x =log10.(df_all.r_h_kpc)\n",
    "y = df_all.Mv\n",
    "xe = df_all.r_h_sersic_err ./ df_all.r_h_sersic ./ log(10) .+ df_all.distance_modulus_err ./ 5\n",
    "ye = [properties[galaxy][\"Mv_err\"] for galaxy in df_all.galaxyname]\n",
    "errscatter!(x, y, xerr=xe, yerr=ye, color=(:black, 0.2))\n",
    "\n",
    "p = scatter!(x, y, color= 1 ./ df_all.n_sersic,\n",
    "    colorrange=(0, 2), colormap=Reverse(:bluesreds)\n",
    ")\n",
    "\n",
    "text!(x, y, text=df_all.galaxyname, fontsize=10)\n",
    "\n",
    "Colorbar(fig[1,2], p, label=\"1 / n sersic\")\n",
    "\n",
    "LilGuys.hide_grid!(ax)\n",
    "fig"
   ]
  },
  {
   "cell_type": "code",
   "execution_count": null,
   "id": "48",
   "metadata": {},
   "outputs": [],
   "source": [
    "function get_rh_physical(properties, rh_col, galaxies=keys(properties))\n",
    "\n",
    "    dist, dist_err = get_property_uncertanty(properties, \"distance\", galaxies)\n",
    "    rh, rh_err = get_property_uncertanty(properties, rh_col, galaxies)\n",
    "\n",
    "\n",
    "    rh_physical = Float64[]\n",
    "    rh_physical_err = Float64[]\n",
    "    for i in eachindex(dist)\n",
    "        rh_phys = LilGuys.arcmin_to_kpc(rh[i] ± rh_err[i], dist[i] ± dist_err[i])\n",
    "\n",
    "        push!(rh_physical, Measurements.value(rh_phys))\n",
    "        push!(rh_physical_err, Measurements.uncertainty(rh_phys))\n",
    "    end\n",
    "\n",
    "    return rh_physical, rh_physical_err\n",
    "\n",
    "end"
   ]
  },
  {
   "cell_type": "code",
   "execution_count": null,
   "id": "49",
   "metadata": {},
   "outputs": [],
   "source": [
    "[print(galaxy, \", \") for galaxy in galaxies_high_quality]"
   ]
  },
  {
   "cell_type": "code",
   "execution_count": null,
   "id": "50",
   "metadata": {},
   "outputs": [],
   "source": [
    "fig = Figure()\n",
    "ax = Axis(fig[1,1],\n",
    "    xlabel = L\"$R_h$ / kpc\",\n",
    "    ylabel = \"Mv\",\n",
    "    yreversed=true\n",
    ")\n",
    "\n",
    "x, xe = get_rh_physical(properties, \"r_h\", galaxies_measured)\n",
    "    \n",
    "y, ye = get_property_uncertanty(properties, \"Mv\", galaxies_measured)\n",
    "e = get_property(properties, \"ellipticity\", galaxies_measured)\n",
    "\n",
    "\n",
    "errscatter!(log10.(x), y, xerr=xe ./x / log(10), yerr=ye)\n",
    "\n",
    "fig"
   ]
  },
  {
   "cell_type": "code",
   "execution_count": null,
   "id": "51",
   "metadata": {},
   "outputs": [],
   "source": [
    "fig = Figure()\n",
    "ax = Axis(fig[1,1],\n",
    "    xlabel = \"Mv\",\n",
    "    ylabel = L\"$1/n$ Sérsic\",\n",
    "    xreversed=true,\n",
    "    limits=(-15, 0, 0.0,3, )\n",
    ")\n",
    "\n",
    "    \n",
    "x, xe = get_property_uncertanty(properties, \"Mv\", galaxies_measured)\n",
    "y, ye = get_property_uncertanty(properties, \"n_sersic_free\", galaxies_measured)\n",
    "c = get_property(properties, \"chi2_sersic_free\", galaxies_measured)\n",
    "\n",
    "errscatter!(x, 1 ./ y, xerr=xe)\n",
    "c = scatter!(x, 1 ./ y, color = log10.(c))\n",
    "\n",
    "for i in eachindex(galaxies_measured)\n",
    "    text!(x[i], 1 ./ y[i], text=galaxies_measured[i], fontsize=12, color=COLORS[1])\n",
    "end\n",
    "\n",
    "Colorbar(fig[1,2], c)\n",
    "fig"
   ]
  },
  {
   "cell_type": "code",
   "execution_count": null,
   "id": "52",
   "metadata": {},
   "outputs": [],
   "source": [
    "fig = Figure()\n",
    "ax = Axis(fig[1,1],\n",
    "    xlabel = \"Mv\",\n",
    "    ylabel = L\"$1/n$ Sérsic (3 parameter)\",\n",
    "    xreversed=true,\n",
    "    limits=(-15, 0, 0.0,3, )\n",
    ")\n",
    "\n",
    "    \n",
    "x, xe = get_property_uncertanty(properties, \"Mv\", galaxies_measured)\n",
    "y, ye = get_property_uncertanty(properties, \"n_sersic_free\", galaxies_measured)\n",
    "c = get_property(properties, \"counts\", galaxies_measured)\n",
    "\n",
    "ye = @. 1/y * ye/y\n",
    "\n",
    "y = @. 1/y\n",
    "\n",
    "errscatter!(x, y, xerr=xe, yerr=ye)\n",
    "c = scatter!(x, y, color = log10.(c))\n",
    "\n",
    "for i in eachindex(galaxies_measured)\n",
    "    text!(x[i], y[i], text=galaxies_measured[i], fontsize=12, color=COLORS[1])\n",
    "end\n",
    "\n",
    "Colorbar(fig[1,2], c, label = \"counts\")\n",
    "fig"
   ]
  },
  {
   "cell_type": "code",
   "execution_count": null,
   "id": "53",
   "metadata": {},
   "outputs": [],
   "source": [
    "fig = Figure()\n",
    "ax = Axis(fig[1,1],\n",
    "    xlabel = \"Mv\",\n",
    "    ylabel = L\"$1/n$ Sérsic (1 parameter)\",\n",
    "    xreversed=true,\n",
    "    limits=(-15, 0, 0.0,3, )\n",
    ")\n",
    "\n",
    "    \n",
    "x, xe = get_property_uncertanty(properties, \"Mv\", galaxies_measured)\n",
    "y, ye = get_property_uncertanty(properties, \"n_sersic\", galaxies_measured)\n",
    "c = get_property(properties, \"counts\", galaxies_measured)\n",
    "\n",
    "ye = @. 1/y * ye/y\n",
    "\n",
    "y = @. 1/y\n",
    "\n",
    "errscatter!(x, y, xerr=xe, yerr=ye)\n",
    "c = scatter!(x, y, color = log10.(c))\n",
    "\n",
    "for i in eachindex(galaxies_measured)\n",
    "    text!(x[i], y[i], text=galaxies_measured[i], fontsize=12, color=COLORS[1])\n",
    "end\n",
    "\n",
    "Colorbar(fig[1,2], c, label = \"counts\")\n",
    "fig"
   ]
  },
  {
   "cell_type": "code",
   "execution_count": null,
   "id": "54",
   "metadata": {},
   "outputs": [],
   "source": [
    "fig = Figure()\n",
    "ax = Axis(fig[1,1],\n",
    "    xlabel = \"Mv\",\n",
    "    ylabel = L\"$1/n$ Sérsic\",\n",
    "    xreversed=true,\n",
    "    limits=(-15, 0, 0.0,3, )\n",
    ")\n",
    "\n",
    "    \n",
    "x, xe = get_property_uncertanty(properties, \"Mv\", galaxies_measured)\n",
    "y, ye = get_property_uncertanty(properties, \"n_sersic\", galaxies_measured)\n",
    "\n",
    "errscatter!(x, 1 ./ y, xerr=xe)\n",
    "\n",
    "for i in eachindex(galaxies_measured)\n",
    "    text!(x[i], 1 ./ y[i], text=galaxies_measured[i], fontsize=12, color=COLORS[1])\n",
    "end\n",
    "\n",
    "fig"
   ]
  },
  {
   "cell_type": "code",
   "execution_count": null,
   "id": "55",
   "metadata": {},
   "outputs": [],
   "source": [
    "fig = Figure()\n",
    "ax = Axis(fig[1,1],\n",
    "    xlabel = L\"$R_h$ / kpc\",\n",
    "    ylabel = \"Mv\",\n",
    "    yreversed=true\n",
    ")\n",
    "\n",
    "x = [LilGuys.arcmin_to_kpc(p[\"r_h\"], p[\"distance\"]) for (_, p) in properties]\n",
    "y = [p[\"Mv\"] for (_, p) in properties]\n",
    "e = [p[\"sersic_n\"] for (_, p) in properties]\n",
    "\n",
    "scatter!(log10.(x), y, color=e)\n",
    "\n",
    "\n",
    "fig"
   ]
  },
  {
   "cell_type": "markdown",
   "id": "56",
   "metadata": {},
   "source": [
    "## Sigma"
   ]
  },
  {
   "cell_type": "code",
   "execution_count": null,
   "id": "57",
   "metadata": {},
   "outputs": [],
   "source": [
    "p = profiles[\"sculptor\"]"
   ]
  },
  {
   "cell_type": "code",
   "execution_count": null,
   "id": "58",
   "metadata": {},
   "outputs": [],
   "source": [
    "using Measurements"
   ]
  },
  {
   "cell_type": "code",
   "execution_count": null,
   "id": "59",
   "metadata": {},
   "outputs": [],
   "source": [
    "f = LilGuys.lerp(p.log_r .± 0, p.log_Sigma .± p.log_Sigma_err)"
   ]
  },
  {
   "cell_type": "code",
   "execution_count": null,
   "id": "60",
   "metadata": {},
   "outputs": [],
   "source": [
    "function Σ_ioo(profile::LilGuys.StellarProfile; l=-1.5, h=0.5)\n",
    "    f = LilGuys.lerp(profile.log_r .± 0, profile.log_Sigma .± profile.log_Sigma_err)\n",
    "    if h > profile.log_r[end]\n",
    "        println(\"warning, skipping\")\n",
    "        return NaN±NaN\n",
    "    end\n",
    "    if l < profile.log_r[1]\n",
    "        println(\"warning, skipping\")\n",
    "        return NaN±NaN\n",
    "    end  \n",
    "\n",
    "    println(f(h), \"\\t\", f(l))\n",
    "\n",
    "    return exp10(f(h)) / exp10(f(l))\n",
    "end"
   ]
  },
  {
   "cell_type": "code",
   "execution_count": null,
   "id": "61",
   "metadata": {},
   "outputs": [],
   "source": [
    "function Σ_ioo(prof::LilGuys.SphericalProfile; l=-1.5, h=0.5)\n",
    "    f = x -> LilGuys.calc_Σ(prof, 10 .^ x)\n",
    "    return f(h) / f(l)\n",
    "end"
   ]
  },
  {
   "cell_type": "code",
   "execution_count": null,
   "id": "62",
   "metadata": {},
   "outputs": [],
   "source": [
    "profs_ana_ioo = [\n",
    "    LilGuys.Sersic(n=1),\n",
    "    LilGuys.Sersic(n=2),\n",
    "    LilGuys.Sersic(n=4),\n",
    "    LilGuys.Sersic(n=8),\n",
    "    ]"
   ]
  },
  {
   "cell_type": "code",
   "execution_count": null,
   "id": "63",
   "metadata": {},
   "outputs": [],
   "source": [
    "fig = Figure()\n",
    "ax = Axis(fig[1,1],\n",
    "    xlabel = L\"\\log\\ r\\ /\\ r_h\",\n",
    "    ylabel = L\"\\log \\Sigma\\ /\\ \\Sigma_h\",\n",
    ")\n",
    "\n",
    "x = LinRange(-2, 1, 1000)\n",
    "for (i, prof) in enumerate(profs_ana_ioo)\n",
    "    r = 10 .^ x\n",
    "    y = LilGuys.calc_Σ.(prof, r)\n",
    "\n",
    "    lines!(x, log10.(y))\n",
    "    text!(x[1], log10.(y[1]), text=\"n = $(prof.n)\", color=COLORS[i])\n",
    "end\n",
    "\n",
    "fig"
   ]
  },
  {
   "cell_type": "code",
   "execution_count": null,
   "id": "64",
   "metadata": {},
   "outputs": [],
   "source": [
    "function plot_Σ_iio(l, h; galaxies=galaxies)\n",
    "    \n",
    "    for galaxy in galaxies\n",
    "        println(galaxy)\n",
    "        s = Σ_ioo(profiles[galaxy], l=l, h=h)\n",
    "        properties[galaxy][\"Sigma_ioo\"] = Measurements.value.(s)\n",
    "        properties[galaxy][\"Sigma_ioo_err\"] = Measurements.uncertainty.(s)\n",
    "        \n",
    "    end\n",
    "    \n",
    "    fig = Figure()\n",
    "    \n",
    "    ax = Axis(fig[1,1], \n",
    "        xlabel = \"Mv\",\n",
    "        ylabel = L\"\\log\\ \\Sigma_{%$h}/\\Sigma_{%$l}\",\n",
    "        limits = (-15, 1, nothing, nothing),\n",
    "        xreversed = true\n",
    "    )\n",
    "    for prof in profs_ana_ioo\n",
    "        hlines!(log10(Σ_ioo(prof, l=l, h=h)), color=:black, label=\"exp3d\")\n",
    "    end\n",
    "    \n",
    "    for (i, galaxy) in enumerate(galaxies)\n",
    "        if galaxy ∈ galaxies_flagged\n",
    "            markersize=15\n",
    "        else\n",
    "            markersize=8\n",
    "        end\n",
    "        color = COLORS[(i+1) % length(COLORS) + 1]\n",
    "        \n",
    "        x = properties[galaxy][\"Mv\"]\n",
    "        xerr = properties[galaxy][\"Mv_err\"]\n",
    "\n",
    "        y = log10.(properties[galaxy][\"Sigma_ioo\"])\n",
    "        yerr = properties[galaxy][\"Sigma_ioo_err\"] / properties[galaxy][\"Sigma_ioo\"] / log(10)\n",
    "\n",
    "        errscatter!([x], [y], yerr = [yerr], xerr=[xerr], color=color, size=markersize)\n",
    "        text!(x, y, text=galaxy, fontsize=12, color=color)\n",
    "    end\n",
    "    \n",
    "    fig\n",
    "end"
   ]
  },
  {
   "cell_type": "code",
   "execution_count": null,
   "id": "65",
   "metadata": {},
   "outputs": [],
   "source": [
    "plot_Σ_iio(-1.0, 0.5)"
   ]
  },
  {
   "cell_type": "code",
   "execution_count": null,
   "id": "66",
   "metadata": {},
   "outputs": [],
   "source": [
    "plot_Σ_iio(-0.5, 0.5)"
   ]
  },
  {
   "cell_type": "code",
   "execution_count": null,
   "id": "67",
   "metadata": {},
   "outputs": [],
   "source": [
    "plot_Σ_iio(-0.3, 0.5)"
   ]
  },
  {
   "cell_type": "code",
   "execution_count": null,
   "id": "68",
   "metadata": {},
   "outputs": [],
   "source": [
    "plot_Σ_iio(-0.5, 0.3)"
   ]
  },
  {
   "cell_type": "code",
   "execution_count": null,
   "id": "69",
   "metadata": {},
   "outputs": [],
   "source": [
    "plot_Σ_iio(-0.3, 0.3)"
   ]
  },
  {
   "cell_type": "code",
   "execution_count": null,
   "id": "70",
   "metadata": {},
   "outputs": [],
   "source": [
    "plot_Σ_iio(-0.5, 0.7)"
   ]
  },
  {
   "cell_type": "code",
   "execution_count": null,
   "id": "71",
   "metadata": {},
   "outputs": [],
   "source": [
    "plot_Σ_iio(-0.5, 1.0)"
   ]
  },
  {
   "cell_type": "code",
   "execution_count": null,
   "id": "72",
   "metadata": {},
   "outputs": [],
   "source": [
    "plot_Σ_iio(0.0, 0.7)"
   ]
  },
  {
   "cell_type": "code",
   "execution_count": null,
   "id": "73",
   "metadata": {},
   "outputs": [],
   "source": [
    "fig = plot_Σ_iio(0.0, 0.5)\n"
   ]
  },
  {
   "cell_type": "code",
   "execution_count": null,
   "id": "74",
   "metadata": {},
   "outputs": [],
   "source": [
    "print(galaxies_high_quality)"
   ]
  },
  {
   "cell_type": "code",
   "execution_count": null,
   "id": "75",
   "metadata": {},
   "outputs": [],
   "source": [
    "fig = plot_Σ_iio(0.0, 0.5, galaxies=galaxies_high_quality)\n"
   ]
  },
  {
   "cell_type": "code",
   "execution_count": null,
   "id": "76",
   "metadata": {},
   "outputs": [],
   "source": [
    "plot_Σ_iio(0.0, 0.3)"
   ]
  },
  {
   "cell_type": "code",
   "execution_count": null,
   "id": "77",
   "metadata": {},
   "outputs": [],
   "source": [
    "plot_Σ_iio(0.0, -0.3)"
   ]
  },
  {
   "cell_type": "code",
   "execution_count": null,
   "id": "78",
   "metadata": {},
   "outputs": [],
   "source": [
    "x = [log10.(properties[galaxy][\"Sigma_ioo\"]) for galaxy in df_all.galaxyname]\n",
    "xerr = [properties[galaxy][\"Sigma_ioo_err\"] / properties[galaxy][\"Sigma_ioo\"] / log(10) for galaxy in df_all.galaxyname]\n",
    "\n",
    "y = df_all.n_sersic\n",
    "errscatter(x,y, yerr=df_all.n_sersic_err, xerr=xerr)"
   ]
  },
  {
   "cell_type": "code",
   "execution_count": null,
   "id": "79",
   "metadata": {},
   "outputs": [],
   "source": [
    "plot_Σ_iio(0.0, -0.5, galaxies=galaxies_high_quality)"
   ]
  },
  {
   "cell_type": "code",
   "execution_count": null,
   "id": "80",
   "metadata": {},
   "outputs": [],
   "source": [
    "plot_Σ_iio(0.0, -0.3, galaxies=galaxies_high_quality)"
   ]
  },
  {
   "cell_type": "code",
   "execution_count": null,
   "id": "81",
   "metadata": {},
   "outputs": [],
   "source": [
    "plot_Σ_iio(0.0, -0.5, galaxies=galaxies_high_quality)"
   ]
  },
  {
   "cell_type": "markdown",
   "id": "82",
   "metadata": {
    "jp-MarkdownHeadingCollapsed": true
   },
   "source": [
    "## Quantiles"
   ]
  },
  {
   "cell_type": "code",
   "execution_count": null,
   "id": "83",
   "metadata": {},
   "outputs": [],
   "source": [
    "function r_ioo(profile::LilGuys.StellarProfile; q=0.1)\n",
    "    if length(profile.quantiles) == 0\n",
    "        return NaN\n",
    "    end\n",
    "    \n",
    "    qs = OrderedDict(a => b for (a, b) in zip(profile.quantiles, profile.log_r_quantiles))\n",
    "    return 10^qs[1-q] / 10^qs[q]\n",
    "end"
   ]
  },
  {
   "cell_type": "code",
   "execution_count": null,
   "id": "84",
   "metadata": {},
   "outputs": [],
   "source": [
    "function r_ioo(prof::LilGuys.SphericalProfile; q=0.1)\n",
    "    Mt = LilGuys.calc_M_2D(prof, 100)\n",
    "    q1 = LilGuys.find_zero(x -> LilGuys.calc_M_2D(prof, x) / Mt - q, 1)\n",
    "    q2 = LilGuys.find_zero(x -> LilGuys.calc_M_2D(prof, x) / Mt - (1-q), 1)\n",
    "\n",
    "    return q2/q1\n",
    "end"
   ]
  },
  {
   "cell_type": "code",
   "execution_count": null,
   "id": "85",
   "metadata": {},
   "outputs": [],
   "source": [
    "function r_oom(prof::LilGuys.SphericalProfile; q=0.1)\n",
    "    Mt = LilGuys.calc_M_2D(prof, 100)\n",
    "    q1 = LilGuys.find_zero(x -> LilGuys.calc_M_2D(prof, x) / Mt - 0.5, 1)\n",
    "    q2 = LilGuys.find_zero(x -> LilGuys.calc_M_2D(prof, x) / Mt - (1-q), 1)\n",
    "\n",
    "    return q2/q1\n",
    "end"
   ]
  },
  {
   "cell_type": "code",
   "execution_count": null,
   "id": "86",
   "metadata": {},
   "outputs": [],
   "source": [
    "function r_oom(profile::LilGuys.StellarProfile; q=0.1)\n",
    "    if length(profile.quantiles) == 0\n",
    "        return NaN\n",
    "    end\n",
    "    \n",
    "    qs = OrderedDict(a => b for (a, b) in zip(profile.quantiles, profile.log_r_quantiles))\n",
    "    return 10^qs[1-q] / 10^qs[0.5]\n",
    "end"
   ]
  },
  {
   "cell_type": "code",
   "execution_count": null,
   "id": "87",
   "metadata": {},
   "outputs": [],
   "source": [
    "\n",
    "\n",
    "function plot_r_ooi(q)\n",
    "    \n",
    "    for galaxy in galaxies\n",
    "        properties[galaxy][\"r_ioo\"] = r_ioo(profiles[galaxy], q=q)\n",
    "    end\n",
    "    \n",
    "    fig = Figure()\n",
    "    \n",
    "    ax = Axis(fig[1,1], \n",
    "        xlabel = \"Mv\",\n",
    "        ylabel = L\"\\log\\ r_{%$(1-q)}/r_{%$q}\",\n",
    "        limits = (-15, 1, nothing, nothing),\n",
    "        xreversed = true\n",
    "    )\n",
    "    hlines!(log10(r_ioo(LilGuys.Exp3D(), q=q)), color=:black, label=\"exp3d\")\n",
    "    hlines!(log10(r_ioo(LilGuys.Plummer(), q=q)), color=:black, linestyle=:dot, label=\"plummer\")\n",
    "    \n",
    "    for (i, galaxy) in enumerate(galaxies)\n",
    "        if galaxy ∈ galaxies_flagged\n",
    "            markersize=20\n",
    "        else\n",
    "            markersize=10\n",
    "        end\n",
    "        color = COLORS[(i+1) % length(COLORS) + 1]\n",
    "        \n",
    "        x = properties[galaxy][\"Mv\"]\n",
    "        y = log10.(properties[galaxy][\"r_ioo\"])\n",
    "        scatter!(x, y, markersize=markersize, color=color)\n",
    "        text!(x, y, text=galaxy, fontsize=12, color=color)\n",
    "    \n",
    "    \n",
    "    end\n",
    "    \n",
    "    fig\n",
    "end"
   ]
  },
  {
   "cell_type": "code",
   "execution_count": null,
   "id": "88",
   "metadata": {},
   "outputs": [],
   "source": [
    "plot_r_ooi(0.25)"
   ]
  },
  {
   "cell_type": "code",
   "execution_count": null,
   "id": "89",
   "metadata": {},
   "outputs": [],
   "source": [
    "plot_r_ooi(0.16)"
   ]
  },
  {
   "cell_type": "code",
   "execution_count": null,
   "id": "90",
   "metadata": {},
   "outputs": [],
   "source": [
    "plot_r_ooi(0.05)"
   ]
  },
  {
   "cell_type": "code",
   "execution_count": null,
   "id": "91",
   "metadata": {},
   "outputs": [],
   "source": [
    "plot_r_ooi(0.01)"
   ]
  },
  {
   "cell_type": "markdown",
   "id": "92",
   "metadata": {
    "jp-MarkdownHeadingCollapsed": true
   },
   "source": [
    "# R Out / median"
   ]
  },
  {
   "cell_type": "code",
   "execution_count": null,
   "id": "93",
   "metadata": {},
   "outputs": [],
   "source": [
    "function plot_room(q)\n",
    "    \n",
    "    fig = Figure()\n",
    "    \n",
    "    ax = Axis(fig[1,1], \n",
    "        xlabel = \"Mv\",\n",
    "        ylabel = L\"r_{%$(1-q)}/r_h\",\n",
    "        limits = (-15, 0.5, nothing, nothing),\n",
    "        xreversed = true\n",
    "    )\n",
    "    hlines!(log10(r_oom(LilGuys.Exp2D(), q=q)), color=:black, label=\"exp2d\")\n",
    "    hlines!(log10(r_oom(LilGuys.Plummer(), q=q)), color=:black, linestyle=:dot, label=\"plummer\")\n",
    "    \n",
    "    for (i, galaxy) in enumerate(galaxies)\n",
    "        if galaxy ∈ galaxies_flagged\n",
    "            markersize=20\n",
    "        else\n",
    "            markersize=10\n",
    "        end\n",
    "        color = COLORS[(i+1) % length(COLORS) + 1]\n",
    "        \n",
    "        x = properties[galaxy][\"Mv\"]\n",
    "        y = log10.(r_oom(profiles[galaxy], q=q))\n",
    "        scatter!(x, y, markersize=markersize, color=color)\n",
    "        text!(x, y, text=galaxy, fontsize=12, color=color)\n",
    "    \n",
    "    \n",
    "    end\n",
    "    \n",
    "    fig\n",
    "end"
   ]
  },
  {
   "cell_type": "code",
   "execution_count": null,
   "id": "94",
   "metadata": {},
   "outputs": [],
   "source": [
    "plot_room(0.02)"
   ]
  },
  {
   "cell_type": "code",
   "execution_count": null,
   "id": "95",
   "metadata": {},
   "outputs": [],
   "source": [
    "plot_room(0.05)"
   ]
  },
  {
   "cell_type": "code",
   "execution_count": null,
   "id": "96",
   "metadata": {},
   "outputs": [],
   "source": [
    "plot_room(0.16)"
   ]
  },
  {
   "cell_type": "code",
   "execution_count": null,
   "id": "97",
   "metadata": {},
   "outputs": [],
   "source": [
    "plot_room(0.25)"
   ]
  },
  {
   "cell_type": "markdown",
   "id": "98",
   "metadata": {},
   "source": [
    "# Density Profiles"
   ]
  },
  {
   "cell_type": "code",
   "execution_count": null,
   "id": "99",
   "metadata": {},
   "outputs": [],
   "source": [
    "for (label, prof) in profiles\n",
    "    println(label)\n",
    "    rh = LilGuys.quantile(prof.log_r, prof.counts, 0.5)\n",
    "\n",
    "    println(rh, \"\\t\", 10^rh)\n",
    "    println(\"counts = \", sum(prof.counts))\n",
    "    println(\"Mv = \", properties[label][\"Mv\"])\n",
    "    println(\"log rhme / rh = \", profiles[label].log_r_quantiles[profiles[label].quantiles .== 0.5])\n",
    "\n",
    "    println()\n",
    "end"
   ]
  },
  {
   "cell_type": "code",
   "execution_count": null,
   "id": "100",
   "metadata": {},
   "outputs": [],
   "source": [
    "function plot_prof_sigma_h!(prof, r_h; plot! =scatterlines!, kwargs...)\n",
    "    y = prof.log_Sigma\n",
    "    dlr = log10.(r_h)\n",
    "    x = prof.log_r .- dlr\n",
    "    y = y .- 2dlr\n",
    "\n",
    "    dy = LilGuys.lerp(x, y)(0)\n",
    "    plot!(x, y .- dy; kwargs...)\n",
    "end"
   ]
  },
  {
   "cell_type": "code",
   "execution_count": null,
   "id": "101",
   "metadata": {},
   "outputs": [],
   "source": [
    "function plot_density_sample(labels)\n",
    "    fig = Figure()\n",
    "    ax = Axis(fig[1,1], \n",
    "        xlabel = \"log r / r_h\", \n",
    "        ylabel=L\"\\log\\,\\Sigma\",\n",
    "    )\n",
    "    i = 0\n",
    "    colorrange = extrema([properties[label][\"Mv\"] for label in labels])\n",
    "    colormap = Arya.get_arya_cmap()\n",
    "\n",
    "    for label in labels\n",
    "        prof = profiles[label]\n",
    "        r_h = density_fits[label][\"r_h\"]\n",
    "        color = properties[label][\"Mv\"]\n",
    "\n",
    "        plot_prof_sigma_h!(prof, r_h, color=color, colorrange=colorrange, colormap=colormap)\n",
    "    end\n",
    "\n",
    "\n",
    "    Colorbar(fig[1,2], colorrange=colorrange, label=\"Mv (mag)\", colormap=colormap)\n",
    "    \n",
    "    x = LinRange(-2, 0.75, 1000)\n",
    "    y = log10.(LilGuys.calc_Σ.(prof_ana, exp10.(x)))\n",
    "    lines!(x, y, color=COLORS[1])\n",
    "    \n",
    "    \n",
    "    \n",
    "    fig\n",
    "end"
   ]
  },
  {
   "cell_type": "code",
   "execution_count": null,
   "id": "102",
   "metadata": {},
   "outputs": [],
   "source": [
    "prof_ana = LilGuys.Exp2D(R_s=1.0, M=1.0)\n",
    "alpha = LilGuys.calc_R_h(prof_ana)\n",
    "prof_ana = LilGuys.Exp2D(R_s=1/alpha, M=1.0)\n",
    "y0 = LilGuys.calc_Σ(prof_ana, 1.0)\n",
    "prof_ana = LilGuys.Exp2D(R_s=1/alpha, M=1/y0)"
   ]
  },
  {
   "cell_type": "code",
   "execution_count": null,
   "id": "103",
   "metadata": {},
   "outputs": [],
   "source": [
    "plot_density_sample(galaxies_high_quality)"
   ]
  },
  {
   "cell_type": "code",
   "execution_count": null,
   "id": "104",
   "metadata": {},
   "outputs": [],
   "source": [
    "fig = Figure()\n",
    "ax = Axis(fig[1,1], \n",
    "    xlabel = L\"\\log\\,r\\ /\\ r_h\", \n",
    "    ylabel=L\"\\log\\,\\Sigma\\ / \\ \\Sigma_h\",\n",
    ")\n",
    "i = 0\n",
    "\n",
    "\n",
    "x = LinRange(-2, 0.75, 1000)\n",
    "y = log10.(LilGuys.calc_Σ.(prof_ana, exp10.(x)))\n",
    "lines!(x, y, color=:black)\n",
    "\n",
    "labels = setdiff(galaxies_high_quality, [\"sculptor\", \"ursa_minor\"])\n",
    "colorrange = extrema([properties[label][\"Mv\"] for label in labels])\n",
    "colormap = Arya.get_arya_cmap()\n",
    "\n",
    "for label in labels\n",
    "    prof = profiles[label]\n",
    "    r_h = density_fits[label][\"r_h\"]\n",
    "\n",
    "    color = properties[label][\"Mv\"]\n",
    "\n",
    "    plot_prof_sigma_h!(prof, r_h, color=COLORS[1])\n",
    "end\n",
    "\n",
    "\n",
    "Colorbar(fig[1,2], colorrange=colorrange, label=\"Mv (mag)\", colormap=colormap)\n",
    "\n",
    "\n",
    "for label in [\"sculptor\", \"ursa_minor\"]\n",
    "    prof = profiles[label]\n",
    "    r_h = density_fits[label][\"r_h\"] \n",
    "    color = properties[label][\"Mv\"]\n",
    "\n",
    "    plot_prof_sigma_h!(prof, r_h, color=COLORS[2])\n",
    "end\n",
    "\n",
    "\n",
    "fig\n"
   ]
  },
  {
   "cell_type": "code",
   "execution_count": null,
   "id": "105",
   "metadata": {},
   "outputs": [],
   "source": [
    "FIGDIR = \"./figures\""
   ]
  },
  {
   "cell_type": "code",
   "execution_count": null,
   "id": "106",
   "metadata": {},
   "outputs": [],
   "source": [
    "fig = Figure()\n",
    "ax = Axis(fig[1,1], \n",
    "    xlabel = L\"\\log\\,r\\ /\\ r_h\", \n",
    "    ylabel=L\"\\log\\,\\Sigma\\ / \\ \\Sigma_h\",\n",
    "    xgridvisible = false,\n",
    "    ygridvisible = false,\n",
    ")\n",
    "i = 0\n",
    "\n",
    "\n",
    "x = LinRange(-2, 0.75, 1000)\n",
    "y = log10.(LilGuys.calc_Σ.(prof_ana, exp10.(x)))\n",
    "lines!(x, y, color=:black, label = \"exponential\")\n",
    "\n",
    "labels = setdiff(galaxies_high_quality, [\"sculptor\", \"ursa_minor\"])\n",
    "colorrange = extrema([properties[label][\"Mv\"] for label in labels])\n",
    "colormap = Arya.get_arya_cmap()\n",
    "\n",
    "for label in labels\n",
    "    prof = profiles[label]\n",
    "    r_h = density_fits[label][\"r_h\"]\n",
    "\n",
    "    color = properties[label][\"Mv\"]\n",
    "\n",
    "    plot_prof_sigma_h!(prof, r_h, color=COLORS[1], alpha=0.3, plot! =lines!, label = \"other\")\n",
    "end\n",
    "\n",
    "label = \"sculptor\"\n",
    "prof = profiles[label]\n",
    "r_h = density_fits[label][\"r_h\"]\n",
    "color = properties[label][\"Mv\"]\n",
    "\n",
    "plot_prof_sigma_h!(prof, r_h, color=COLORS[2], label = \"sculptor\")\n",
    "\n",
    "\n",
    "prof = profiles[\"ursa_minor\"]\n",
    "r_h = density_fits[\"ursa_minor\"][\"r_h\"]\n",
    "color = properties[\"ursa_minor\"][\"Mv\"]\n",
    "\n",
    "plot_prof_sigma_h!(prof, r_h, color=COLORS[3], label = \"ursa_minor\")\n",
    "\n",
    "\n",
    "axislegend(position=:lb, unique=true)\n",
    "\n",
    "@savefig \"density_profiles_umi_scl_vs_others\"\n",
    "fig\n"
   ]
  },
  {
   "cell_type": "code",
   "execution_count": null,
   "id": "107",
   "metadata": {},
   "outputs": [],
   "source": [
    "density_fits[\"sculptor\"]"
   ]
  },
  {
   "cell_type": "code",
   "execution_count": null,
   "id": "108",
   "metadata": {},
   "outputs": [],
   "source": [
    "fig = Figure()\n",
    "\n",
    "\n",
    "\n",
    "for label in galaxies_high_quality\n",
    "    prof = profiles[label]\n",
    "    r_h = density_fits[label][\"r_s_exp\"] * alpha\n",
    "    color = properties[label][\"Mv\"]\n",
    "\n",
    "    fig = Figure()\n",
    "    ax = Axis(fig[1,1], \n",
    "        xlabel = L\"\\log\\,r\\ /\\ r_h\", \n",
    "        ylabel=L\"\\log\\,\\Sigma\\ / \\ \\Sigma_h\",\n",
    "        title = label,\n",
    "    )\n",
    "\n",
    "    plot_prof_sigma_h!(prof, r_h, color=COLORS[1])\n",
    "\n",
    "    x = LinRange(-2, 0.75, 1000)\n",
    "    y = log10.(LilGuys.calc_Σ.(prof_ana, exp10.(x)))\n",
    "    lines!(x, y, color=:black)\n",
    "\n",
    "    \n",
    "    fig |> display\n",
    "end\n",
    "\n",
    "\n"
   ]
  },
  {
   "cell_type": "code",
   "execution_count": null,
   "id": "109",
   "metadata": {},
   "outputs": [],
   "source": [
    "fig = Figure()\n",
    "\n",
    "\n",
    "\n",
    "for label in galaxies_high_quality\n",
    "    prof = profiles[label]\n",
    "    r_h = density_fits[label][\"r_h\"]\n",
    "    color = properties[label][\"Mv\"]\n",
    "\n",
    "    fig = Figure()\n",
    "    ax = Axis(fig[1,1], \n",
    "        xlabel = L\"\\log\\,r\\ /\\ r_h\", \n",
    "        ylabel=L\"\\log\\,\\Sigma\\ / \\ \\Sigma_h\",\n",
    "        title = label,\n",
    "    )\n",
    "\n",
    "    plot_prof_sigma_h!(prof, r_h, color=COLORS[1])\n",
    "\n",
    "    x = LinRange(-2, 0.75, 1000)\n",
    "    y = log10.(LilGuys.calc_Σ.(prof_ana, exp10.(x)))\n",
    "    lines!(x, y, color=:black)\n",
    "\n",
    "\n",
    "    x = LinRange(-2, 0.75, 1000)\n",
    "    y = log10.(LilGuys.calc_Σ.(LilGuys.Sersic(n=density_fits[label][\"n_sersic\"]), exp10.(x)))\n",
    "    lines!(x, y, color=:red)\n",
    "    \n",
    "    fig |> display\n",
    "end\n",
    "\n",
    "\n"
   ]
  },
  {
   "cell_type": "code",
   "execution_count": null,
   "id": "110",
   "metadata": {},
   "outputs": [],
   "source": [
    "plot_density_sample([\"sculptor\", \"ursa_minor\"])"
   ]
  },
  {
   "cell_type": "code",
   "execution_count": null,
   "id": "111",
   "metadata": {},
   "outputs": [],
   "source": [
    "plot_density_sample(galaxies)"
   ]
  },
  {
   "cell_type": "code",
   "execution_count": null,
   "id": "112",
   "metadata": {},
   "outputs": [],
   "source": [
    "plot_density_sample(galaxies_flagged)"
   ]
  },
  {
   "cell_type": "code",
   "execution_count": null,
   "id": "113",
   "metadata": {},
   "outputs": [],
   "source": [
    "for group in galaxy_groups\n",
    "    plot_density_sample(group) |> display\n",
    "\n",
    "end\n",
    "    "
   ]
  },
  {
   "cell_type": "code",
   "execution_count": null,
   "id": "114",
   "metadata": {},
   "outputs": [],
   "source": [
    "fig = Figure(\n",
    "    size = (700, 1200),\n",
    "    \n",
    ")\n",
    "ax = Axis(fig[1,1], \n",
    "    xlabel = \"log r / kpc\", \n",
    "    ylabel=L\"\\log\\,\\Sigma\",\n",
    "    xticks=[-2, -1, 0, 1, 2],\n",
    ")\n",
    "i = 0\n",
    "\n",
    "dy = 1.0\n",
    "for (label, prof) in profiles\n",
    "    y = prof.log_Sigma .+ i*dy\n",
    "    if length(y) < 2\n",
    "        continue\n",
    "    end\n",
    "    \n",
    "    errscatter!(prof.log_r, y, yerr=prof.log_Sigma_err)\n",
    "    lines!(prof.log_r, y)\n",
    "\n",
    "    text!(-3, i*dy, text=label, color=COLORS[(i) % 7+1])\n",
    "    i += 1\n",
    "end\n",
    "\n",
    "fig"
   ]
  }
 ],
 "metadata": {
  "kernelspec": {
   "display_name": "Julia 1.11.3",
   "language": "julia",
   "name": "julia-1.11"
  },
  "language_info": {
   "file_extension": ".jl",
   "mimetype": "application/julia",
   "name": "julia",
   "version": "1.11.3"
  }
 },
 "nbformat": 4,
 "nbformat_minor": 5
}
