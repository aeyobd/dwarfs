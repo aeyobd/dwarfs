{
 "cells": [
  {
   "cell_type": "code",
   "execution_count": null,
   "id": "0",
   "metadata": {},
   "outputs": [],
   "source": [
    "using LilGuys\n",
    "using CairoMakie\n",
    "using Arya"
   ]
  },
  {
   "cell_type": "code",
   "execution_count": null,
   "id": "1",
   "metadata": {},
   "outputs": [],
   "source": [
    "import TOML\n",
    "using CSV, DataFrames"
   ]
  },
  {
   "cell_type": "code",
   "execution_count": null,
   "id": "2",
   "metadata": {},
   "outputs": [],
   "source": [
    "using OrderedCollections"
   ]
  },
  {
   "cell_type": "code",
   "execution_count": null,
   "id": "3",
   "metadata": {},
   "outputs": [],
   "source": [
    "function load_profile(galaxyname)\n",
    "    prof = LilGuys.StellarProfile(joinpath(galaxyname, \"density_profiles/jax_profile.toml\"))\n",
    "    # props = TOML.parsefile(joinpath(galaxyname, \"observed_properties.toml\"))\n",
    "\n",
    "    # prof.log_r = prof.log_r .+ log10.(LilGuys.arcmin_to_kpc(1, props[\"distance\"]))\n",
    "\n",
    "    # if prof.normalization == \"none\"\n",
    "    #     prof.log_Sigma .-= log10(prof.M_in[end])\n",
    "    # end\n",
    "    norm = LilGuys.lerp(prof.log_r, prof.log_Sigma)(0)\n",
    "    prof.log_Sigma .-= norm\n",
    "    return prof\n",
    "end"
   ]
  },
  {
   "cell_type": "code",
   "execution_count": null,
   "id": "4",
   "metadata": {},
   "outputs": [],
   "source": [
    "function load_props(galaxyname)\n",
    "    props = TOML.parsefile(joinpath(galaxyname, \"observed_properties.toml\"))\n",
    "\n",
    "    return props\n",
    "end"
   ]
  },
  {
   "cell_type": "code",
   "execution_count": null,
   "id": "5",
   "metadata": {},
   "outputs": [],
   "source": [
    "function load_gaia_obs(galaxyname)\n",
    "    df = LilGuys.read_fits(joinpath(galaxyname, \"data\", \"j24_2c.fits\"))\n",
    "    return df\n",
    "end"
   ]
  },
  {
   "cell_type": "code",
   "execution_count": null,
   "id": "6",
   "metadata": {},
   "outputs": [],
   "source": [
    "galaxies = [\n",
    "    \"aquarius2\",\n",
    "    \"bootes1\",\n",
    "    \"bootes2\",\n",
    "    \"bootes3\",\n",
    "    \"bootes4\",\n",
    "    \"bootes5\",\n",
    "    \"canesvenatici1\",\n",
    "    \"canesvenatici2\",\n",
    "    \"carina\",\n",
    "    \"carina2\",\n",
    "    \"carina3\",\n",
    "    \"centaurus1\",\n",
    "    \"cetus2\",\n",
    "    \"columba1\",\n",
    "    \"coma_berenices\",\n",
    "    \"crater2\",\n",
    "    # \"delve2\",\n",
    "    #DES\n",
    "    \"draco\",\n",
    "    \"draco2\",\n",
    "    \"eridanus2\",\n",
    "    # \"eridanus3\",\n",
    "    \"eridanus4\",\n",
    "    \"fornax\",\n",
    "    # \"grus1\", fits err\n",
    "    \"grus2\",\n",
    "    #\"hercules\",\n",
    "    \"horologium1\",\n",
    "    \"horologium2\",\n",
    "    \"hydra2\",\n",
    "    \"hydrus1\",\n",
    "    #\"indus1\",\n",
    "    #\"indus2\",\n",
    "    \"leo1\",\n",
    "    \"leo2\",\n",
    "    \"leo4\",\n",
    "    \"leo5\",\n",
    "     \"leo_minor\",\n",
    "     \"leo_t\",\n",
    "    # \"pegasus3\", no stars\n",
    "     \"pegasus4\", \n",
    "    # \"phoenix\", fits err\n",
    "     \"phoenix2\",\n",
    "    \"pictor2\",\n",
    "   # \"pictoris1\", obs props\n",
    "    # \"pisces2\", 2 stars\n",
    "    \"reticulum2\",\n",
    "    \"reticulum3\",\n",
    "    #\"sagittarius2\",\n",
    "    \"sculptor\",\n",
    "    \"segue1\",\n",
    "    \"segue2\",\n",
    "    \"sextans1\",\n",
    "    \"triangulum2\",\n",
    "    \"tucana2\",\n",
    "    \"tucana3\",\n",
    "    \"tucana4\",\n",
    "    \"tucana5\",\n",
    "    \"unions1\",\n",
    "    \"ursa_major1\",\n",
    "    \"ursa_major2\",\n",
    "    \"ursa_minor\",\n",
    "    \"virgo1\",\n",
    "    # \"virgo2\" 2 stars,\n",
    "    # \"willman1\",\n",
    "]"
   ]
  },
  {
   "cell_type": "code",
   "execution_count": null,
   "id": "7",
   "metadata": {},
   "outputs": [],
   "source": [
    "galaxies_flagged = [\n",
    "    \"bootes1\",\n",
    "    \"bootes3\",\n",
    "    \"draco2\",\n",
    "    \"grus2\",\n",
    "    \"sculptor\",\n",
    "    \"segue1\",\n",
    "    \"tucana2\",\n",
    "    \"tucana3\",\n",
    "    \"ursa_minor\",\n",
    "    ]"
   ]
  },
  {
   "cell_type": "code",
   "execution_count": null,
   "id": "8",
   "metadata": {},
   "outputs": [],
   "source": [
    "profiles = OrderedDict(key => load_profile(key) for key in galaxies)"
   ]
  },
  {
   "cell_type": "code",
   "execution_count": null,
   "id": "9",
   "metadata": {},
   "outputs": [],
   "source": [
    "properties = OrderedDict(key => load_props(key) for key in galaxies)"
   ]
  },
  {
   "cell_type": "code",
   "execution_count": null,
   "id": "10",
   "metadata": {},
   "outputs": [],
   "source": [
    "for (label, prof) in profiles\n",
    "    println(label)\n",
    "    rh = LilGuys.quantile(prof.log_r, prof.counts, 0.5)\n",
    "\n",
    "    println(rh, \"\\t\", 10^rh)\n",
    "    println(\"counts = \", sum(prof.counts))\n",
    "    println(\"Mv = \", properties[label][\"Mv\"])\n",
    "    println()\n",
    "end"
   ]
  },
  {
   "cell_type": "code",
   "execution_count": null,
   "id": "11",
   "metadata": {},
   "outputs": [],
   "source": [
    "fig = Figure()\n",
    "ax = Axis(fig[1,1], \n",
    "    xlabel = \"log r / r_h\",\n",
    "    ylabel=L\"\\log\\,\\Sigma\",\n",
    "   # limits=(-2, 2, -5, 5)\n",
    ")\n",
    "\n",
    "i = 0\n",
    "colorrange=(-10, 0)\n",
    "colormap = Reverse(Arya.get_arya_cmap())\n",
    "\n",
    "for (label, prof) in profiles\n",
    "    y = prof.log_Sigma\n",
    "\n",
    "    if length(y) < 1\n",
    "        continue\n",
    "    end\n",
    "    color = properties[label][\"Mv\"]\n",
    "    \n",
    "    scatterlines!(prof.log_r, y, color=color, colorrange=colorrange, colormap=colormap)\n",
    "end\n",
    "\n",
    "\n",
    "x = LinRange(-2, 1, 1000)\n",
    "y = log10.(exponential_profile.(exp10.(x))) .- log10(exponential_profile(1))\n",
    "lines!(x, y, color=COLORS[1])\n",
    "Colorbar(fig[1,2], colorrange=colorrange, label=\"Mv (mag)\", colormap=colormap)\n",
    "fig"
   ]
  },
  {
   "cell_type": "code",
   "execution_count": null,
   "id": "12",
   "metadata": {},
   "outputs": [],
   "source": [
    "function exponential_profile(x)\n",
    "    r_s = 1/0.6931471805599453\n",
    "    return 1/r_s * exp(-x / r_s)\n",
    "end"
   ]
  },
  {
   "cell_type": "code",
   "execution_count": null,
   "id": "13",
   "metadata": {},
   "outputs": [],
   "source": [
    "using QuadGK"
   ]
  },
  {
   "cell_type": "code",
   "execution_count": null,
   "id": "14",
   "metadata": {},
   "outputs": [],
   "source": [
    "fig = Figure()\n",
    "ax = Axis(fig[1,1], xlabel = \"log r / r_h\", ylabel=L\"\\log\\,\\Sigma\")\n",
    "i = 0\n",
    "\n",
    "for (label, prof) in profiles\n",
    "    y = prof.log_Sigma\n",
    "    if sum(prof.counts) < 30\n",
    "        continue\n",
    "    end\n",
    "\n",
    "    color = properties[label][\"Mv\"]\n",
    "    \n",
    "    scatterlines!(prof.log_r, y, color=color, colorrange=colorrange, colormap=colormap)\n",
    "end\n",
    "\n",
    "x = LinRange(-2, 1, 1000)\n",
    "y = log10.(exponential_profile.(exp10.(x))) .- log10(exponential_profile(1))\n",
    "lines!(x, y, color=COLORS[1])\n",
    "\n",
    "Colorbar(fig[1,2], colorrange=colorrange, label=\"Mv (mag)\", colormap=colormap)\n",
    "\n",
    "fig"
   ]
  },
  {
   "cell_type": "code",
   "execution_count": null,
   "id": "15",
   "metadata": {},
   "outputs": [],
   "source": [
    "fig = Figure()\n",
    "ax = Axis(fig[1,1], \n",
    "    xlabel = \"log r / r_h\", \n",
    "    ylabel=L\"\\log\\,\\Sigma\",\n",
    "    title=\"dwarfs with features\",\n",
    ")\n",
    "i = 0\n",
    "\n",
    "for (label, prof) in profiles\n",
    "    y = prof.log_Sigma\n",
    "    if label ∉ galaxies_flagged\n",
    "        continue\n",
    "    end\n",
    "\n",
    "    color = properties[label][\"Mv\"]\n",
    "    \n",
    "    scatterlines!(prof.log_r, y, color=color, colorrange=colorrange, colormap=colormap)\n",
    "end\n",
    "\n",
    "\n",
    "Colorbar(fig[1,2], colorrange=colorrange, label=\"Mv (mag)\", colormap=colormap)\n",
    "\n",
    "x = LinRange(-2, 1, 1000)\n",
    "y = log10.(exponential_profile.(exp10.(x))) .- log10(exponential_profile(1))\n",
    "lines!(x, y, color=COLORS[1])\n",
    "\n",
    "\n",
    "fig"
   ]
  },
  {
   "cell_type": "code",
   "execution_count": null,
   "id": "16",
   "metadata": {},
   "outputs": [],
   "source": [
    "fig = Figure()\n",
    "ax = Axis(fig[1,1], \n",
    "    xlabel = \"log r / r_h\", \n",
    "    ylabel=L\"\\log\\,\\Sigma\",\n",
    "    title=\"dwarfs without\",\n",
    ")\n",
    "i = 0\n",
    "\n",
    "for (label, prof) in profiles\n",
    "    y = prof.log_Sigma\n",
    "    if label ∈ galaxies_flagged || (sum(prof.counts) < 30)\n",
    "        continue\n",
    "    end\n",
    "\n",
    "    color = properties[label][\"Mv\"]\n",
    "    \n",
    "    scatterlines!(prof.log_r, y, color=color, colorrange=(-10, 0))\n",
    "end\n",
    "\n",
    "fig"
   ]
  },
  {
   "cell_type": "code",
   "execution_count": null,
   "id": "17",
   "metadata": {},
   "outputs": [],
   "source": [
    "fig = Figure()\n",
    "ax = Axis(fig[1,1], xlabel = \"log r / kpc\", ylabel=L\"\\log\\,\\Sigma\")\n",
    "i = 0\n",
    "\n",
    "dy = 1.0\n",
    "for (label, prof) in profiles\n",
    "    y = prof.log_Sigma .+ i*dy\n",
    "    errscatter!(prof.log_r, y, yerr=prof.log_Sigma_err)\n",
    "    lines!(prof.log_r, y)\n",
    "\n",
    "    text!(-3, -2+i*0.8dy, text=label, color=COLORS[(i) % 7+1])\n",
    "    i += 1\n",
    "end\n",
    "\n",
    "fig"
   ]
  },
  {
   "cell_type": "code",
   "execution_count": null,
   "id": "18",
   "metadata": {},
   "outputs": [],
   "source": []
  },
  {
   "cell_type": "code",
   "execution_count": null,
   "id": "19",
   "metadata": {},
   "outputs": [],
   "source": [
    "function scatter_obs(df)\n",
    "    fig = Figure()\n",
    "    ax = Axis(fig[1,1],\n",
    "        aspect=DataAspect())\n",
    "\n",
    "    scatter!(df.xi, df.eta, markersize=1, alpha=0.1, color=:black)\n",
    "    scatter!(df.xi[df.PSAT .> 0.2], df.eta[df.PSAT .> 0.2], markersize=3, color=COLORS[2])\n",
    "\n",
    "    LilGuys.hide_grid!(ax)\n",
    "    fig\n",
    "end"
   ]
  },
  {
   "cell_type": "code",
   "execution_count": null,
   "id": "20",
   "metadata": {},
   "outputs": [],
   "source": [
    "df = load_gaia_obs(\"bootes1\")"
   ]
  },
  {
   "cell_type": "code",
   "execution_count": null,
   "id": "21",
   "metadata": {},
   "outputs": [],
   "source": [
    "scatter_obs(df)"
   ]
  },
  {
   "cell_type": "code",
   "execution_count": null,
   "id": "22",
   "metadata": {},
   "outputs": [],
   "source": [
    "df = load_gaia_obs(\"segue1\")"
   ]
  },
  {
   "cell_type": "code",
   "execution_count": null,
   "id": "23",
   "metadata": {},
   "outputs": [],
   "source": [
    "scatter_obs(df)"
   ]
  },
  {
   "cell_type": "code",
   "execution_count": null,
   "id": "24",
   "metadata": {},
   "outputs": [],
   "source": [
    "df = load_gaia_obs(\"draco2\")"
   ]
  },
  {
   "cell_type": "code",
   "execution_count": null,
   "id": "25",
   "metadata": {},
   "outputs": [],
   "source": [
    "scatter_obs(df)"
   ]
  },
  {
   "cell_type": "code",
   "execution_count": null,
   "id": "26",
   "metadata": {},
   "outputs": [],
   "source": []
  },
  {
   "cell_type": "code",
   "execution_count": null,
   "id": "27",
   "metadata": {},
   "outputs": [],
   "source": [
    "df = load_gaia_obs(\"grus2\")"
   ]
  },
  {
   "cell_type": "code",
   "execution_count": null,
   "id": "28",
   "metadata": {},
   "outputs": [],
   "source": [
    "scatter_obs(df)"
   ]
  },
  {
   "cell_type": "code",
   "execution_count": null,
   "id": "29",
   "metadata": {},
   "outputs": [],
   "source": []
  }
 ],
 "metadata": {
  "kernelspec": {
   "display_name": "Julia 1.11.3",
   "language": "julia",
   "name": "julia-1.11"
  },
  "language_info": {
   "file_extension": ".jl",
   "mimetype": "application/julia",
   "name": "julia",
   "version": "1.11.3"
  }
 },
 "nbformat": 4,
 "nbformat_minor": 5
}
