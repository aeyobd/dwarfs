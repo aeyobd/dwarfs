{
 "cells": [
  {
   "cell_type": "code",
   "execution_count": null,
   "id": "0",
   "metadata": {},
   "outputs": [],
   "source": [
    "using LilGuys\n",
    "using CairoMakie\n",
    "using Arya"
   ]
  },
  {
   "cell_type": "code",
   "execution_count": null,
   "id": "1",
   "metadata": {},
   "outputs": [],
   "source": [
    "import TOML\n",
    "using CSV, DataFrames"
   ]
  },
  {
   "cell_type": "code",
   "execution_count": null,
   "id": "2",
   "metadata": {},
   "outputs": [],
   "source": [
    "using OrderedCollections"
   ]
  },
  {
   "cell_type": "code",
   "execution_count": null,
   "id": "3",
   "metadata": {},
   "outputs": [],
   "source": [
    "function load_profile(galaxyname; ext=\"\")\n",
    "    prof = LilGuys.StellarProfile(joinpath(galaxyname, \"density_profiles/jax$(ext)_profile.toml\"))\n",
    "  \n",
    "    norm = LilGuys.lerp(prof.log_r, prof.log_Sigma)(0)\n",
    "    prof.log_Sigma .-= norm\n",
    "    return prof\n",
    "end"
   ]
  },
  {
   "cell_type": "code",
   "execution_count": null,
   "id": "4",
   "metadata": {},
   "outputs": [],
   "source": [
    "function load_props(galaxyname)\n",
    "    props = TOML.parsefile(joinpath(galaxyname, \"observed_properties.toml\"))\n",
    "\n",
    "    return props\n",
    "end"
   ]
  },
  {
   "cell_type": "code",
   "execution_count": null,
   "id": "5",
   "metadata": {},
   "outputs": [],
   "source": [
    "function r_ioo(profile::LilGuys.StellarProfile; q=0.1)\n",
    "    if length(profile.quantiles) == 0\n",
    "        return NaN\n",
    "    end\n",
    "    \n",
    "    qs = OrderedDict(a => b for (a, b) in zip(profile.quantiles, profile.log_r_quantiles))\n",
    "    return 10^qs[1-q] / 10^qs[q]\n",
    "end"
   ]
  },
  {
   "cell_type": "code",
   "execution_count": null,
   "id": "6",
   "metadata": {},
   "outputs": [],
   "source": [
    "function r_ioo(prof::LilGuys.SphericalProfile; q=0.1)\n",
    "    Mt = LilGuys.calc_M_2D(prof, 100)\n",
    "    q1 = LilGuys.find_zero(x -> LilGuys.calc_M_2D(prof, x) / Mt - q, 1)\n",
    "    q2 = LilGuys.find_zero(x -> LilGuys.calc_M_2D(prof, x) / Mt - (1-q), 1)\n",
    "\n",
    "    return q2/q1\n",
    "end"
   ]
  },
  {
   "cell_type": "code",
   "execution_count": null,
   "id": "7",
   "metadata": {},
   "outputs": [],
   "source": [
    "function r_oom(prof::LilGuys.SphericalProfile; q=0.1)\n",
    "    Mt = LilGuys.calc_M_2D(prof, 100)\n",
    "    q1 = LilGuys.find_zero(x -> LilGuys.calc_M_2D(prof, x) / Mt - 0.5, 1)\n",
    "    q2 = LilGuys.find_zero(x -> LilGuys.calc_M_2D(prof, x) / Mt - (1-q), 1)\n",
    "\n",
    "    return q2/q1\n",
    "end"
   ]
  },
  {
   "cell_type": "code",
   "execution_count": null,
   "id": "8",
   "metadata": {},
   "outputs": [],
   "source": [
    "function r_oom(profile::LilGuys.StellarProfile; q=0.1)\n",
    "    if length(profile.quantiles) == 0\n",
    "        return NaN\n",
    "    end\n",
    "    \n",
    "    qs = OrderedDict(a => b for (a, b) in zip(profile.quantiles, profile.log_r_quantiles))\n",
    "    return 10^qs[1-q] / 10^qs[0.5]\n",
    "end"
   ]
  },
  {
   "cell_type": "code",
   "execution_count": null,
   "id": "9",
   "metadata": {},
   "outputs": [],
   "source": [
    "prof_ana = LilGuys.Exp3D(r_s = 1/2.026996389650345, M=1)"
   ]
  },
  {
   "cell_type": "code",
   "execution_count": null,
   "id": "10",
   "metadata": {},
   "outputs": [],
   "source": [
    "r_quant_exp = OrderedDict()\n",
    "for q in [0.01, 0.05, 0.1, 0.16, 0.25]\n",
    "    r = r_ioo(prof_ana, q=q)\n",
    "    println(\"$q\\t$(r)\")\n",
    "    r_quant_exp[q] = r\n",
    "end"
   ]
  },
  {
   "cell_type": "code",
   "execution_count": null,
   "id": "11",
   "metadata": {},
   "outputs": [],
   "source": [
    "r_quant_exp_2d = OrderedDict()\n",
    "\n",
    "for q in [0.01, 0.05, 0.1, 0.16, 0.25]\n",
    "    r = r_ioo(LilGuys.Exp2D(), q=q)\n",
    "    println(\"$q\\t$(r)\")\n",
    "    r_quant_exp_2d[q] = r\n",
    "end"
   ]
  },
  {
   "cell_type": "code",
   "execution_count": null,
   "id": "12",
   "metadata": {},
   "outputs": [],
   "source": [
    "r_quant_logcusp = OrderedDict()\n",
    "\n",
    "for q in [0.01, 0.05, 0.1, 0.16, 0.25]\n",
    "    r = r_ioo(LilGuys.LogCusp2D(), q=q)\n",
    "    println(\"$q\\t$(r)\")\n",
    "\n",
    "    r_quant_logcusp[q] = r\n",
    "end"
   ]
  },
  {
   "cell_type": "code",
   "execution_count": null,
   "id": "13",
   "metadata": {},
   "outputs": [],
   "source": [
    "r_quant_plummer = OrderedDict()\n",
    "\n",
    "for q in [0.01, 0.05, 0.1, 0.16, 0.25]\n",
    "    r = r_ioo(LilGuys.Plummer(), q=q)\n",
    "    println(\"$q\\t$(r)\")\n",
    "\n",
    "    r_quant_plummer[q] = r\n",
    "end"
   ]
  },
  {
   "cell_type": "code",
   "execution_count": null,
   "id": "14",
   "metadata": {},
   "outputs": [],
   "source": [
    "r_quant_king = OrderedDict()\n",
    "\n",
    "for q in [0.01, 0.05, 0.1, 0.16, 0.25]\n",
    "    r = r_ioo(LilGuys.KingProfile(R_t=5, k=1), q=q)\n",
    "    println(\"$q\\t$(r)\")\n",
    "\n",
    "    r_quant_king[q] = r\n",
    "end"
   ]
  },
  {
   "cell_type": "code",
   "execution_count": null,
   "id": "15",
   "metadata": {},
   "outputs": [],
   "source": [
    "r_quant_king2 = OrderedDict()\n",
    "\n",
    "for q in [0.01, 0.05, 0.1, 0.16, 0.25]\n",
    "    r = r_ioo(LilGuys.KingProfile(R_t=2, k=1), q=q)\n",
    "    println(\"$q\\t$(r)\")\n",
    "\n",
    "    r_quant_king2[q] = r\n",
    "end"
   ]
  },
  {
   "cell_type": "code",
   "execution_count": null,
   "id": "16",
   "metadata": {},
   "outputs": [],
   "source": [
    "r_quants = OrderedDict(\n",
    "    \"exp3d\" => r_quant_exp,\n",
    "    \"exp2d\" => r_quant_exp_2d,\n",
    "    \"logcusp\" => r_quant_logcusp,\n",
    "    \"plummer\" => r_quant_plummer,\n",
    "    \"king\" => r_quant_king,\n",
    ")    "
   ]
  },
  {
   "cell_type": "code",
   "execution_count": null,
   "id": "17",
   "metadata": {},
   "outputs": [],
   "source": [
    "profs_ana = OrderedDict(\n",
    "    \"exp3d\" => prof,\n",
    "    \"exp2d\" => LilGuys.Exp2D(),\n",
    "    \"logcusp\" => LilGuys.LogCusp2D(),\n",
    "    \"plummer\" => LilGuys.Plummer(),\n",
    "    \"king\" => LilGuys.KingProfile(k=1, c=5),\n",
    "    )"
   ]
  },
  {
   "cell_type": "code",
   "execution_count": null,
   "id": "18",
   "metadata": {},
   "outputs": [],
   "source": [
    "fig = Figure()\n",
    "ax = Axis(fig[1,1], \n",
    "    xlabel = \"quantile\",\n",
    "    ylabel = L\"\\log\\,r_{1-q}\\, /\\, r_{q}\"\n",
    ")\n",
    "\n",
    "for (label, prof) in profs_ana\n",
    "    x = LinRange(-2, 2, 1000)\n",
    "    rh = LilGuys.calc_R_h(prof)\n",
    "\n",
    "    y = log10.(LilGuys.calc_Σ.(prof, rh * 10 .^ x))\n",
    "    y .-= log10(LilGuys.calc_Σ(prof, rh))\n",
    "    \n",
    "    lines!(x, y, label = label)\n",
    "end\n",
    "\n",
    "ylims!(-5, 1.5)\n",
    "axislegend()\n",
    "\n",
    "fig"
   ]
  },
  {
   "cell_type": "code",
   "execution_count": null,
   "id": "19",
   "metadata": {},
   "outputs": [],
   "source": [
    "fig = Figure()\n",
    "ax = Axis(fig[1,1], \n",
    "    xlabel = \"quantile\",\n",
    "    ylabel = L\"\\log\\,r_{1-q}\\, /\\, r_{q}\"\n",
    ")\n",
    "\n",
    "y_exp = values(r_quant_exp_2d) |> collect\n",
    "for (label, rqs) in r_quants\n",
    "    x = keys(rqs) |> collect\n",
    "    y = values(rqs) |> collect\n",
    "    scatterlines!(x, log10.(y), label = label)\n",
    "end\n",
    "\n",
    "axislegend()\n",
    "\n",
    "fig"
   ]
  },
  {
   "cell_type": "code",
   "execution_count": null,
   "id": "20",
   "metadata": {},
   "outputs": [],
   "source": [
    "galaxies = [\n",
    "    \"aquarius2\",\n",
    "    \"bootes1\",\n",
    "    \"bootes2\",\n",
    "    \"bootes3\",\n",
    "    \"bootes4\",\n",
    "    \"bootes5\",\n",
    "    \"canesvenatici1\",\n",
    "    \"canesvenatici2\",\n",
    "    \"carina\",\n",
    "    \"carina2\",\n",
    "    \"carina3\",\n",
    "    \"centaurus1\",\n",
    "    \"cetus2\",\n",
    "    \"columba1\",\n",
    "    \"coma_berenices\",\n",
    "    \"crater2\",\n",
    "    # \"delve2\", needs properties\n",
    "    #DES 2 stars\n",
    "    \"draco\",\n",
    "    \"draco2\",\n",
    "    \"eridanus2\",\n",
    "    # \"eridanus3\", needs Mv\n",
    "    \"eridanus4\",\n",
    "    \"fornax\",\n",
    "    # \"grus1\", fits err\n",
    "    \"grus2\",\n",
    "    #\"hercules\",\n",
    "    \"horologium1\",\n",
    "    \"horologium2\",\n",
    "    \"hydra2\",\n",
    "    \"hydrus1\",\n",
    "    #\"indus1\", needs Mv\n",
    "    #\"indus2\", needs Mv, no stars\n",
    "    \"leo1\",\n",
    "    \"leo2\",\n",
    "    \"leo4\",\n",
    "    \"leo5\",\n",
    "     \"leo_minor\",\n",
    "     \"leo_t\",\n",
    "    # \"pegasus3\", no stars\n",
    "     \"pegasus4\", \n",
    "    # \"phoenix\", fits err\n",
    "     \"phoenix2\",\n",
    "    \"pictor2\",\n",
    "   # \"pictoris1\", obs props\n",
    "    # \"pisces2\", 2 stars\n",
    "    \"reticulum2\",\n",
    "    \"reticulum3\",\n",
    "    #\"sagittarius2\", needs Mv\n",
    "    \"sculptor\",\n",
    "    \"segue1\",\n",
    "    \"segue2\",\n",
    "    \"sextans1\",\n",
    "    \"triangulum2\",\n",
    "    \"tucana2\",\n",
    "    \"tucana3\",\n",
    "    \"tucana4\",\n",
    "    \"tucana5\",\n",
    "    # \"unions1\", needs Mv\n",
    "    \"ursa_major1\",\n",
    "    \"ursa_major2\",\n",
    "    \"ursa_minor\",\n",
    "    \"virgo1\",\n",
    "    # \"virgo2\" 2 stars,\n",
    "    \"willman1\",\n",
    "]"
   ]
  },
  {
   "cell_type": "code",
   "execution_count": null,
   "id": "21",
   "metadata": {},
   "outputs": [],
   "source": [
    "galaxies_flagged = [\n",
    "    \"bootes1\",\n",
    "    \"bootes3\",\n",
    "    \"draco2\",\n",
    "    \"grus2\",\n",
    "    \"sculptor\",\n",
    "    \"segue1\",\n",
    "    \"tucana2\",\n",
    "    \"tucana3\",\n",
    "    \"ursa_minor\",\n",
    "    ]"
   ]
  },
  {
   "cell_type": "code",
   "execution_count": null,
   "id": "22",
   "metadata": {},
   "outputs": [],
   "source": [
    "profiles_flagged = OrderedDict(key => load_profile(key, ext=\"_2c\") for key in galaxies_flagged)"
   ]
  },
  {
   "cell_type": "code",
   "execution_count": null,
   "id": "23",
   "metadata": {},
   "outputs": [],
   "source": [
    "profiles = OrderedDict(key => load_profile(key) for key in galaxies)"
   ]
  },
  {
   "cell_type": "code",
   "execution_count": null,
   "id": "24",
   "metadata": {},
   "outputs": [],
   "source": [
    "fig = Figure(\n",
    "    size = (400, 600)\n",
    "    \n",
    ")\n",
    "ax = Axis(fig[1,1], xlabel = \"log r / kpc\", ylabel=L\"\\log\\,\\Sigma\")\n",
    "i = 0\n",
    "\n",
    "dy = 1.0\n",
    "for label in galaxies_flagged\n",
    "    color=COLORS[(i) % 7+1]\n",
    "    \n",
    "    prof = profiles[label]\n",
    "    \n",
    "    y = prof.log_Sigma .+ i*dy\n",
    "    errscatter!(prof.log_r, y, yerr=prof.log_Sigma_err, color=color)\n",
    "    lines!(prof.log_r, y)\n",
    "\n",
    "    prof = profiles_flagged[label]\n",
    "    \n",
    "    y = prof.log_Sigma .+ i*dy\n",
    "    lines!(prof.log_r, y, color=:black, linestyle=:dash)\n",
    "    \n",
    "    text!(-2.5, 0+i*dy, text=label, color=color)\n",
    "    i += 1\n",
    "end\n",
    "\n",
    "fig"
   ]
  },
  {
   "cell_type": "code",
   "execution_count": null,
   "id": "25",
   "metadata": {},
   "outputs": [],
   "source": [
    "for galaxy in galaxies_flagged\n",
    "    profiles[galaxy] = profiles_flagged[galaxy]\n",
    "end"
   ]
  },
  {
   "cell_type": "code",
   "execution_count": null,
   "id": "26",
   "metadata": {},
   "outputs": [],
   "source": [
    "profiles[\"bootes1\"].log_r_quantiles"
   ]
  },
  {
   "cell_type": "code",
   "execution_count": null,
   "id": "27",
   "metadata": {},
   "outputs": [],
   "source": [
    "properties = OrderedDict(key => load_props(key) for key in galaxies)"
   ]
  },
  {
   "cell_type": "markdown",
   "id": "28",
   "metadata": {},
   "source": [
    "## Sigma"
   ]
  },
  {
   "cell_type": "code",
   "execution_count": null,
   "id": "29",
   "metadata": {},
   "outputs": [],
   "source": [
    "p = profiles[\"sculptor\"]"
   ]
  },
  {
   "cell_type": "code",
   "execution_count": null,
   "id": "30",
   "metadata": {},
   "outputs": [],
   "source": [
    "using Measurements"
   ]
  },
  {
   "cell_type": "code",
   "execution_count": null,
   "id": "31",
   "metadata": {},
   "outputs": [],
   "source": [
    "f = LilGuys.lerp(p.log_r .± 0, p.log_Sigma .± p.log_Sigma_err)"
   ]
  },
  {
   "cell_type": "code",
   "execution_count": null,
   "id": "32",
   "metadata": {},
   "outputs": [],
   "source": [
    "function Σ_ioo(profile::LilGuys.StellarProfile; l=-1.5, h=0.5)\n",
    "    f = LilGuys.lerp(profile.log_r .± 0, profile.log_Sigma .± profile.log_Sigma_err)\n",
    "    if h > profile.log_r[end]\n",
    "        println(\"warning, skipping\")\n",
    "        return NaN±NaN\n",
    "    end\n",
    "    if l < profile.log_r[1]\n",
    "        println(\"warning, skipping\")\n",
    "        return NaN±NaN\n",
    "    end  \n",
    "\n",
    "    println(f(h), \"\\t\", f(l))\n",
    "\n",
    "    return exp10(f(h)) / exp10(f(l))\n",
    "end"
   ]
  },
  {
   "cell_type": "code",
   "execution_count": null,
   "id": "33",
   "metadata": {},
   "outputs": [],
   "source": [
    "function Σ_ioo(prof::LilGuys.SphericalProfile; l=-1.5, h=0.5)\n",
    "    f = x -> LilGuys.calc_Σ(prof, 10 .^ x)\n",
    "    return f(h) / f(l)\n",
    "end"
   ]
  },
  {
   "cell_type": "code",
   "execution_count": null,
   "id": "34",
   "metadata": {},
   "outputs": [],
   "source": [
    "function plot_Σ_iio(l, h)\n",
    "    \n",
    "    for galaxy in galaxies\n",
    "        println(galaxy)\n",
    "        s = Σ_ioo(profiles[galaxy], l=l, h=h)\n",
    "        properties[galaxy][\"Sigma_ioo\"] = Measurements.value.(s)\n",
    "        properties[galaxy][\"Sigma_ioo_err\"] = Measurements.uncertainty.(s)\n",
    "        \n",
    "    end\n",
    "    \n",
    "    fig = Figure()\n",
    "    \n",
    "    ax = Axis(fig[1,1], \n",
    "        xlabel = \"Mv\",\n",
    "        ylabel = L\"\\log\\ \\Sigma_{%$h}/\\Sigma_{%$l}\",\n",
    "        limits = (-15, 1, nothing, nothing),\n",
    "        xreversed = true\n",
    "    )\n",
    "    hlines!(log10(Σ_ioo(profs_ana[\"exp3d\"], l=l, h=h)), color=:black, label=\"exp3d\")\n",
    "    \n",
    "    for (i, galaxy) in enumerate(galaxies)\n",
    "        if galaxy ∈ galaxies_flagged\n",
    "            markersize=15\n",
    "        else\n",
    "            markersize=8\n",
    "        end\n",
    "        color = COLORS[(i+1) % length(COLORS) + 1]\n",
    "        \n",
    "        x = properties[galaxy][\"Mv\"]\n",
    "        xerr = properties[galaxy][\"Mv_err\"]\n",
    "\n",
    "        y = log10.(properties[galaxy][\"Sigma_ioo\"])\n",
    "        yerr = properties[galaxy][\"Sigma_ioo_err\"] / properties[galaxy][\"Sigma_ioo\"] / log(10)\n",
    "\n",
    "        errscatter!([x], [y], yerr = [yerr], xerr=[xerr], color=color, size=markersize)\n",
    "        text!(x, y, text=galaxy, fontsize=12, color=color)\n",
    "    end\n",
    "    \n",
    "    fig\n",
    "end"
   ]
  },
  {
   "cell_type": "code",
   "execution_count": null,
   "id": "35",
   "metadata": {},
   "outputs": [],
   "source": [
    "plot_Σ_iio(-2.0, 0.5)"
   ]
  },
  {
   "cell_type": "code",
   "execution_count": null,
   "id": "36",
   "metadata": {},
   "outputs": [],
   "source": [
    "plot_Σ_iio(-1.5, 0.5)"
   ]
  },
  {
   "cell_type": "code",
   "execution_count": null,
   "id": "37",
   "metadata": {},
   "outputs": [],
   "source": [
    "plot_Σ_iio(-1.0, 0.5)"
   ]
  },
  {
   "cell_type": "code",
   "execution_count": null,
   "id": "38",
   "metadata": {},
   "outputs": [],
   "source": [
    "plot_Σ_iio(-0.5, 0.5)"
   ]
  },
  {
   "cell_type": "code",
   "execution_count": null,
   "id": "39",
   "metadata": {},
   "outputs": [],
   "source": [
    "plot_Σ_iio(-0.3, 0.5)"
   ]
  },
  {
   "cell_type": "code",
   "execution_count": null,
   "id": "40",
   "metadata": {},
   "outputs": [],
   "source": [
    "plot_Σ_iio(-0.5, 0.3)"
   ]
  },
  {
   "cell_type": "code",
   "execution_count": null,
   "id": "41",
   "metadata": {},
   "outputs": [],
   "source": [
    "plot_Σ_iio(-0.3, 0.3)"
   ]
  },
  {
   "cell_type": "code",
   "execution_count": null,
   "id": "42",
   "metadata": {},
   "outputs": [],
   "source": [
    "plot_Σ_iio(-0.5, 0.7)"
   ]
  },
  {
   "cell_type": "code",
   "execution_count": null,
   "id": "43",
   "metadata": {},
   "outputs": [],
   "source": [
    "plot_Σ_iio(-0.5, 1.0)"
   ]
  },
  {
   "cell_type": "markdown",
   "id": "44",
   "metadata": {},
   "source": [
    "## Quantiles"
   ]
  },
  {
   "cell_type": "code",
   "execution_count": null,
   "id": "45",
   "metadata": {},
   "outputs": [],
   "source": [
    "\n",
    "\n",
    "function plot_r_ooi(q)\n",
    "    \n",
    "    for galaxy in galaxies\n",
    "        properties[galaxy][\"r_ioo\"] = r_ioo(profiles[galaxy], q=q)\n",
    "    end\n",
    "    \n",
    "    fig = Figure()\n",
    "    \n",
    "    ax = Axis(fig[1,1], \n",
    "        xlabel = \"Mv\",\n",
    "        ylabel = L\"\\log\\ r_{%$(1-q)}/r_{%$q}\",\n",
    "        limits = (-15, 1, nothing, nothing),\n",
    "        xreversed = true\n",
    "    )\n",
    "    hlines!(log10(r_ioo(LilGuys.Exp3D(), q=q)), color=:black, label=\"exp3d\")\n",
    "    hlines!(log10(r_ioo(LilGuys.Plummer(), q=q)), color=:black, linestyle=:dot, label=\"plummer\")\n",
    "    \n",
    "    for (i, galaxy) in enumerate(galaxies)\n",
    "        if galaxy ∈ galaxies_flagged\n",
    "            markersize=20\n",
    "        else\n",
    "            markersize=10\n",
    "        end\n",
    "        color = COLORS[(i+1) % length(COLORS) + 1]\n",
    "        \n",
    "        x = properties[galaxy][\"Mv\"]\n",
    "        y = log10.(properties[galaxy][\"r_ioo\"])\n",
    "        scatter!(x, y, markersize=markersize, color=color)\n",
    "        text!(x, y, text=galaxy, fontsize=12, color=color)\n",
    "    \n",
    "    \n",
    "    end\n",
    "    \n",
    "    fig\n",
    "end"
   ]
  },
  {
   "cell_type": "code",
   "execution_count": null,
   "id": "46",
   "metadata": {},
   "outputs": [],
   "source": [
    "plot_r_ooi(0.25)"
   ]
  },
  {
   "cell_type": "code",
   "execution_count": null,
   "id": "47",
   "metadata": {},
   "outputs": [],
   "source": [
    "plot_r_ooi(0.16)"
   ]
  },
  {
   "cell_type": "code",
   "execution_count": null,
   "id": "48",
   "metadata": {},
   "outputs": [],
   "source": [
    "plot_r_ooi(0.05)"
   ]
  },
  {
   "cell_type": "code",
   "execution_count": null,
   "id": "49",
   "metadata": {},
   "outputs": [],
   "source": [
    "plot_r_ooi(0.01)"
   ]
  },
  {
   "cell_type": "markdown",
   "id": "50",
   "metadata": {},
   "source": [
    "# R Out / median"
   ]
  },
  {
   "cell_type": "code",
   "execution_count": null,
   "id": "51",
   "metadata": {},
   "outputs": [],
   "source": [
    "function plot_room(q)\n",
    "    \n",
    "    fig = Figure()\n",
    "    \n",
    "    ax = Axis(fig[1,1], \n",
    "        xlabel = \"Mv\",\n",
    "        ylabel = L\"r_{%$(1-q)}/r_h\",\n",
    "        limits = (-15, 0.5, nothing, nothing),\n",
    "        xreversed = true\n",
    "    )\n",
    "    hlines!(log10(r_oom(LilGuys.Exp3D(), q=q)), color=:black, label=\"exp3d\")\n",
    "    hlines!(log10(r_oom(LilGuys.Plummer(), q=q)), color=:black, linestyle=:dot, label=\"plummer\")\n",
    "    \n",
    "    for (i, galaxy) in enumerate(galaxies)\n",
    "        if galaxy ∈ galaxies_flagged\n",
    "            markersize=20\n",
    "        else\n",
    "            markersize=10\n",
    "        end\n",
    "        color = COLORS[(i+1) % length(COLORS) + 1]\n",
    "        \n",
    "        x = properties[galaxy][\"Mv\"]\n",
    "        y = log10.(r_oom(profiles[galaxy], q=q))\n",
    "        scatter!(x, y, markersize=markersize, color=color)\n",
    "        text!(x, y, text=galaxy, fontsize=12, color=color)\n",
    "    \n",
    "    \n",
    "    end\n",
    "    \n",
    "    fig\n",
    "end"
   ]
  },
  {
   "cell_type": "code",
   "execution_count": null,
   "id": "52",
   "metadata": {},
   "outputs": [],
   "source": [
    "plot_room(0.02)"
   ]
  },
  {
   "cell_type": "code",
   "execution_count": null,
   "id": "53",
   "metadata": {},
   "outputs": [],
   "source": [
    "plot_room(0.05)"
   ]
  },
  {
   "cell_type": "code",
   "execution_count": null,
   "id": "54",
   "metadata": {},
   "outputs": [],
   "source": [
    "plot_room(0.16)"
   ]
  },
  {
   "cell_type": "code",
   "execution_count": null,
   "id": "55",
   "metadata": {},
   "outputs": [],
   "source": [
    "plot_room(0.25)"
   ]
  },
  {
   "cell_type": "code",
   "execution_count": null,
   "id": "56",
   "metadata": {},
   "outputs": [],
   "source": [
    "for (label, prof) in profiles\n",
    "    println(label)\n",
    "    rh = LilGuys.quantile(prof.log_r, prof.counts, 0.5)\n",
    "\n",
    "    println(rh, \"\\t\", 10^rh)\n",
    "    println(\"counts = \", sum(prof.counts))\n",
    "    println(\"Mv = \", properties[label][\"Mv\"])\n",
    "    println(\"log rhme / rh = \", profiles[label].log_r_quantiles[profiles[label].quantiles .== 0.5])\n",
    "\n",
    "    println()\n",
    "end"
   ]
  },
  {
   "cell_type": "code",
   "execution_count": null,
   "id": "57",
   "metadata": {},
   "outputs": [],
   "source": [
    "fig = Figure()\n",
    "ax = Axis(fig[1,1], \n",
    "    xlabel = \"log r / r_h\",\n",
    "    ylabel=L\"\\log\\,\\Sigma\",\n",
    "   # limits=(-2, 2, -5, 5)\n",
    ")\n",
    "\n",
    "i = 0\n",
    "colorrange=(-13, 0)\n",
    "colormap = Reverse(Arya.get_arya_cmap())\n",
    "\n",
    "for (label, prof) in profiles\n",
    "    y = prof.log_Sigma\n",
    "\n",
    "    if length(y) < 1\n",
    "        continue\n",
    "    end\n",
    "    color = properties[label][\"Mv\"]\n",
    "    \n",
    "    scatterlines!(prof.log_r, y, color=color, colorrange=colorrange, colormap=colormap)\n",
    "end\n",
    "\n",
    "\n",
    "Colorbar(fig[1,2], colorrange=colorrange, label=\"Mv (mag)\", colormap=colormap)\n",
    "fig"
   ]
  },
  {
   "cell_type": "code",
   "execution_count": null,
   "id": "58",
   "metadata": {},
   "outputs": [],
   "source": [
    "prof = LilGuys.Exp3D(r_s = 1/2.026996389650345, M=1)"
   ]
  },
  {
   "cell_type": "code",
   "execution_count": null,
   "id": "59",
   "metadata": {},
   "outputs": [],
   "source": [
    "fig = Figure(size=(700, 400))\n",
    "ax = Axis(fig[1,1], \n",
    "    xlabel = L\"\\log\\, r\\, /\\, r_h\", \n",
    "    ylabel=L\"\\log\\,\\Sigma\\,/\\,\\Sigma_h\"\n",
    ")\n",
    "i = 0\n",
    "\n",
    "for (label, prof) in profiles\n",
    "    y = prof.log_Sigma\n",
    "    if  length(y) <= 2\n",
    "        continue\n",
    "    else\n",
    "        print(label, \", \")\n",
    "    end\n",
    "\n",
    "    color = properties[label][\"Mv\"]\n",
    "    \n",
    "    scatterlines!(prof.log_r, y, color=color, colorrange=colorrange, colormap=colormap)\n",
    "end\n",
    "\n",
    "x = LinRange(-2, 0.75, 1000)\n",
    "y = log10.(LilGuys.calc_Σ.(prof_ana, exp10.(x))) .- log10(LilGuys.calc_Σ(prof, 1))\n",
    "lines!(x, y, color=COLORS[1])\n",
    "\n",
    "Colorbar(fig[1,2], colorrange=colorrange, label=L\"$M_V$ (mag)\", colormap=colormap)\n",
    "\n",
    "fig"
   ]
  },
  {
   "cell_type": "code",
   "execution_count": null,
   "id": "60",
   "metadata": {},
   "outputs": [],
   "source": [
    "fig = Figure()\n",
    "ax = Axis(fig[1,1], \n",
    "    xlabel = \"log r / r_h\", \n",
    "    ylabel=L\"\\log\\,\\Sigma\",\n",
    "    title=\"dwarfs with features\",\n",
    ")\n",
    "i = 0\n",
    "\n",
    "for (label, prof) in profiles\n",
    "    y = prof.log_Sigma\n",
    "    if label ∉ galaxies_flagged\n",
    "        continue\n",
    "    end\n",
    "\n",
    "    color = properties[label][\"Mv\"]\n",
    "    \n",
    "    scatterlines!(prof.log_r, y, color=color, colorrange=colorrange, colormap=colormap)\n",
    "end\n",
    "\n",
    "\n",
    "Colorbar(fig[1,2], colorrange=colorrange, label=\"Mv (mag)\", colormap=colormap)\n",
    "\n",
    "x = LinRange(-2, 0.75, 1000)\n",
    "y = log10.(LilGuys.calc_Σ.(prof_ana, exp10.(x))) .- log10(LilGuys.calc_Σ(prof, 1))\n",
    "lines!(x, y, color=COLORS[1])\n",
    "\n",
    "\n",
    "\n",
    "fig"
   ]
  },
  {
   "cell_type": "code",
   "execution_count": null,
   "id": "61",
   "metadata": {},
   "outputs": [],
   "source": [
    "fig = Figure()\n",
    "ax = Axis(fig[1,1], \n",
    "    xlabel = \"log r / r_h\", \n",
    "    ylabel=L\"\\log\\,\\Sigma\",\n",
    "    title=\"dwarfs without\",\n",
    ")\n",
    "i = 0\n",
    "\n",
    "for (label, prof) in profiles\n",
    "    y = prof.log_Sigma\n",
    "    if label ∈ galaxies_flagged || (sum(prof.counts) < 30)\n",
    "        continue\n",
    "    end\n",
    "\n",
    "    color = properties[label][\"Mv\"]\n",
    "    \n",
    "    scatterlines!(prof.log_r, y, color=color, colorrange=(-10, 0))\n",
    "end\n",
    "\n",
    "x = LinRange(-2, 0.75, 1000)\n",
    "y = log10.(LilGuys.calc_Σ.(prof, exp10.(x))) .- log10(LilGuys.calc_Σ(prof, 1))\n",
    "lines!(x, y, color=COLORS[1])\n",
    "\n",
    "\n",
    "fig"
   ]
  },
  {
   "cell_type": "code",
   "execution_count": null,
   "id": "62",
   "metadata": {},
   "outputs": [],
   "source": [
    "fig = Figure(\n",
    "    size = (700, 1200),\n",
    "    \n",
    ")\n",
    "ax = Axis(fig[1,1], \n",
    "    xlabel = \"log r / kpc\", \n",
    "    ylabel=L\"\\log\\,\\Sigma\",\n",
    "    xticks=[-2, -1, 0, 1, 2],\n",
    ")\n",
    "i = 0\n",
    "\n",
    "dy = 1.0\n",
    "for (label, prof) in profiles\n",
    "    y = prof.log_Sigma .+ i*dy\n",
    "    if length(y) < 2\n",
    "        continue\n",
    "    end\n",
    "    \n",
    "    errscatter!(prof.log_r, y, yerr=prof.log_Sigma_err)\n",
    "    lines!(prof.log_r, y)\n",
    "\n",
    "    text!(-3, i*dy, text=label, color=COLORS[(i) % 7+1])\n",
    "    i += 1\n",
    "end\n",
    "\n",
    "fig"
   ]
  },
  {
   "cell_type": "code",
   "execution_count": null,
   "id": "63",
   "metadata": {},
   "outputs": [],
   "source": [
    "function scatter_obs(df)\n",
    "    fig = Figure()\n",
    "    ax = Axis(fig[1,1],\n",
    "        aspect=DataAspect())\n",
    "\n",
    "    scatter!(df.xi, df.eta, markersize=1, alpha=0.1, color=:black)\n",
    "    scatter!(df.xi[df.PSAT .> 0.2], df.eta[df.PSAT .> 0.2], markersize=3, color=COLORS[2])\n",
    "\n",
    "    LilGuys.hide_grid!(ax)\n",
    "    fig\n",
    "end"
   ]
  },
  {
   "cell_type": "code",
   "execution_count": null,
   "id": "64",
   "metadata": {},
   "outputs": [],
   "source": [
    "df = load_gaia_obs(\"bootes1\")"
   ]
  },
  {
   "cell_type": "markdown",
   "id": "65",
   "metadata": {},
   "source": [
    "# Galaxy specific"
   ]
  },
  {
   "cell_type": "markdown",
   "id": "66",
   "metadata": {},
   "source": [
    "TODO, want to move this to a pluto notebook"
   ]
  },
  {
   "cell_type": "code",
   "execution_count": null,
   "id": "67",
   "metadata": {},
   "outputs": [],
   "source": [
    "function load_gaia_obs(galaxyname)\n",
    "    df = LilGuys.read_fits(joinpath(galaxyname, \"data\", \"j24_2c.fits\"))\n",
    "    return df\n",
    "end"
   ]
  },
  {
   "cell_type": "code",
   "execution_count": null,
   "id": "68",
   "metadata": {},
   "outputs": [],
   "source": [
    "scatter_obs(df)"
   ]
  },
  {
   "cell_type": "code",
   "execution_count": null,
   "id": "69",
   "metadata": {},
   "outputs": [],
   "source": [
    "df = load_gaia_obs(\"segue1\")"
   ]
  },
  {
   "cell_type": "code",
   "execution_count": null,
   "id": "70",
   "metadata": {},
   "outputs": [],
   "source": [
    "scatter_obs(df)"
   ]
  },
  {
   "cell_type": "code",
   "execution_count": null,
   "id": "71",
   "metadata": {},
   "outputs": [],
   "source": [
    "df = load_gaia_obs(\"draco2\")"
   ]
  },
  {
   "cell_type": "code",
   "execution_count": null,
   "id": "72",
   "metadata": {},
   "outputs": [],
   "source": [
    "scatter_obs(df)"
   ]
  },
  {
   "cell_type": "code",
   "execution_count": null,
   "id": "73",
   "metadata": {},
   "outputs": [],
   "source": []
  },
  {
   "cell_type": "code",
   "execution_count": null,
   "id": "74",
   "metadata": {},
   "outputs": [],
   "source": [
    "df = load_gaia_obs(\"grus2\")"
   ]
  },
  {
   "cell_type": "code",
   "execution_count": null,
   "id": "75",
   "metadata": {},
   "outputs": [],
   "source": [
    "scatter_obs(df)"
   ]
  },
  {
   "cell_type": "code",
   "execution_count": null,
   "id": "76",
   "metadata": {},
   "outputs": [],
   "source": []
  }
 ],
 "metadata": {
  "kernelspec": {
   "display_name": "Julia 1.11.3",
   "language": "julia",
   "name": "julia-1.11"
  },
  "language_info": {
   "file_extension": ".jl",
   "mimetype": "application/julia",
   "name": "julia",
   "version": "1.11.3"
  }
 },
 "nbformat": 4,
 "nbformat_minor": 5
}
