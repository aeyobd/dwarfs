{
 "cells": [
  {
   "cell_type": "code",
   "execution_count": null,
   "id": "0",
   "metadata": {},
   "outputs": [],
   "source": [
    "using LilGuys\n",
    "using CairoMakie\n",
    "using Arya"
   ]
  },
  {
   "cell_type": "code",
   "execution_count": null,
   "id": "1",
   "metadata": {},
   "outputs": [],
   "source": [
    "import TOML\n",
    "using CSV, DataFrames"
   ]
  },
  {
   "cell_type": "code",
   "execution_count": null,
   "id": "2",
   "metadata": {},
   "outputs": [],
   "source": [
    "using Measurements"
   ]
  },
  {
   "cell_type": "code",
   "execution_count": null,
   "id": "3",
   "metadata": {},
   "outputs": [],
   "source": [
    "using OrderedCollections"
   ]
  },
  {
   "cell_type": "code",
   "execution_count": null,
   "id": "4",
   "metadata": {},
   "outputs": [],
   "source": [
    "function load_profile(galaxyname; ext=\"\")\n",
    "    prof = LilGuys.StellarProfile(joinpath(galaxyname, \"density_profiles/jax$(ext)_profile.toml\"))\n",
    "\n",
    "    if prof.normalization == \"mass\"\n",
    "        println(\"shifting sigma by $(log10(sum(prof.counts)))\")\n",
    "        prof.log_Sigma .+= log10(sum(prof.counts))\n",
    "    end\n",
    "    \n",
    "    return prof\n",
    "end"
   ]
  },
  {
   "cell_type": "code",
   "execution_count": null,
   "id": "5",
   "metadata": {},
   "outputs": [],
   "source": [
    "function load_props(galaxyname)\n",
    "    props = TOML.parsefile(joinpath(galaxyname, \"observed_properties.toml\"))\n",
    "\n",
    "    return props\n",
    "end"
   ]
  },
  {
   "cell_type": "code",
   "execution_count": null,
   "id": "6",
   "metadata": {},
   "outputs": [],
   "source": [
    "function r_ioo(profile::LilGuys.StellarProfile; q=0.1)\n",
    "    if length(profile.quantiles) == 0\n",
    "        return NaN\n",
    "    end\n",
    "    \n",
    "    qs = OrderedDict(a => b for (a, b) in zip(profile.quantiles, profile.log_r_quantiles))\n",
    "    return 10^qs[1-q] / 10^qs[q]\n",
    "end"
   ]
  },
  {
   "cell_type": "code",
   "execution_count": null,
   "id": "7",
   "metadata": {},
   "outputs": [],
   "source": [
    "function r_ioo(prof::LilGuys.SphericalProfile; q=0.1)\n",
    "    Mt = LilGuys.calc_M_2D(prof, 100)\n",
    "    q1 = LilGuys.find_zero(x -> LilGuys.calc_M_2D(prof, x) / Mt - q, 1)\n",
    "    q2 = LilGuys.find_zero(x -> LilGuys.calc_M_2D(prof, x) / Mt - (1-q), 1)\n",
    "\n",
    "    return q2/q1\n",
    "end"
   ]
  },
  {
   "cell_type": "code",
   "execution_count": null,
   "id": "8",
   "metadata": {},
   "outputs": [],
   "source": [
    "function r_oom(prof::LilGuys.SphericalProfile; q=0.1)\n",
    "    Mt = LilGuys.calc_M_2D(prof, 100)\n",
    "    q1 = LilGuys.find_zero(x -> LilGuys.calc_M_2D(prof, x) / Mt - 0.5, 1)\n",
    "    q2 = LilGuys.find_zero(x -> LilGuys.calc_M_2D(prof, x) / Mt - (1-q), 1)\n",
    "\n",
    "    return q2/q1\n",
    "end"
   ]
  },
  {
   "cell_type": "code",
   "execution_count": null,
   "id": "9",
   "metadata": {},
   "outputs": [],
   "source": [
    "function r_oom(profile::LilGuys.StellarProfile; q=0.1)\n",
    "    if length(profile.quantiles) == 0\n",
    "        return NaN\n",
    "    end\n",
    "    \n",
    "    qs = OrderedDict(a => b for (a, b) in zip(profile.quantiles, profile.log_r_quantiles))\n",
    "    return 10^qs[1-q] / 10^qs[0.5]\n",
    "end"
   ]
  },
  {
   "cell_type": "code",
   "execution_count": null,
   "id": "10",
   "metadata": {},
   "outputs": [],
   "source": [
    "profs_ana = OrderedDict(\n",
    "    \"exp3d\" => LilGuys.Exp2D(),\n",
    "    \"exp2d\" => LilGuys.Exp2D(),\n",
    "    \"logcusp\" => LilGuys.LogCusp2D(),\n",
    "    \"plummer\" => LilGuys.Plummer(),\n",
    "    \"king\" => LilGuys.KingProfile(k=1, c=5),\n",
    "    # \"sersic4\" => LilGuys.Sersic(n=4),\n",
    "    # \"sersic0.5\" => LilGuys.Sersic(n=1/2),\n",
    "    )"
   ]
  },
  {
   "cell_type": "code",
   "execution_count": null,
   "id": "11",
   "metadata": {},
   "outputs": [],
   "source": [
    "fig = Figure()\n",
    "ax = Axis(fig[1,1], \n",
    "    xlabel = \"quantile\",\n",
    "    ylabel = L\"\\log\\,r_{1-q}\\, /\\, r_{q}\"\n",
    ")\n",
    "\n",
    "for (label, prof) in profs_ana\n",
    "    x = LinRange(-2, 2, 1000)\n",
    "    rh = LilGuys.calc_R_h(prof)\n",
    "\n",
    "    y = log10.(LilGuys.calc_Σ.(prof, rh * 10 .^ x))\n",
    "    y .-= log10(LilGuys.calc_Σ(prof, rh))\n",
    "    \n",
    "    lines!(x, y, label = label)\n",
    "end\n",
    "\n",
    "ylims!(-5, 1.5)\n",
    "axislegend()\n",
    "\n",
    "fig"
   ]
  },
  {
   "cell_type": "code",
   "execution_count": null,
   "id": "12",
   "metadata": {},
   "outputs": [],
   "source": [
    "fig = Figure()\n",
    "ax = Axis(fig[1,1], \n",
    "    xlabel = \"quantile\",\n",
    "    ylabel = L\"\\log\\,r_{1-q}\\, /\\, r_{q}\"\n",
    ")\n",
    "\n",
    "y_exp = values(r_quant_exp_2d) |> collect\n",
    "for (label, rqs) in r_quants\n",
    "    x = keys(rqs) |> collect\n",
    "    y = values(rqs) |> collect\n",
    "    scatterlines!(x, log10.(y), label = label)\n",
    "end\n",
    "\n",
    "axislegend()\n",
    "\n",
    "fig"
   ]
  },
  {
   "cell_type": "code",
   "execution_count": null,
   "id": "13",
   "metadata": {},
   "outputs": [],
   "source": [
    "galaxies = [\n",
    "    #\"aquarius2\", # spatial component dominates selection :/\n",
    "    \"bootes1\",\n",
    "    \"bootes2\", # selection dominated by spatial\n",
    "    \"bootes3\",\n",
    "    \"bootes4\", # boo\n",
    "    \"bootes5\",\n",
    "    \"canes_venatici1\",\n",
    "    \"canes_venatici2\",\n",
    "    \"carina\",\n",
    "    \"carina2\",\n",
    "    \"carina3\", # 8 stars\n",
    "    \"centaurus1\", # 12 stars\n",
    "    \"cetus2\", # 7 stars\n",
    "    # cetus 3, nothing <:\n",
    "    \"columba1\",\n",
    "    \"coma_berenices\",\n",
    "    \"crater2\",\n",
    "    #\"delve2\", \n",
    "    #DES 2 stars # jax: no\n",
    "    \"draco\",\n",
    "    \"draco2\",\n",
    "    \"eridanus2\",\n",
    "    \"eridanus3\", #needs Mv, less than 5\n",
    "    \"eridanus4\",\n",
    "    \"fornax\",\n",
    "    # \"grus1\", fits err\n",
    "    \"grus2\",\n",
    "    #\"hercules\",\n",
    "    \"horologium1\",\n",
    "    #\"horologium2\", very unreliable ??\n",
    "    \"hydra2\", # 8 stars\n",
    "    \"hydrus1\",\n",
    "    \"indus1\", # jax: no\n",
    "    #\"indus2\", needs Mv, no stars\n",
    "    \"leo1\",\n",
    "    \"leo2\",\n",
    "    \"leo4\",\n",
    "    #\"leo5\", low\n",
    "   #  \"leo_minor\", #~6 stars\n",
    "   #  \"leo_t\",~ no stars in nospace\n",
    "    # \"pegasus3\", no stars # jax: no\n",
    "     \"pegasus4\", \n",
    "    # \"phoenix\", fits err\n",
    "     \"phoenix2\",\n",
    "    \"pictor2\",\n",
    "   # \"pictoris1\", #obs props\n",
    "    # \"pisces2\", 2 stars # jax no\n",
    "    \"reticulum2\",\n",
    "    \"reticulum3\", # jax\n",
    "    \"sagittarius2\", \n",
    "    \"sculptor\",\n",
    "    \"segue1\",\n",
    "    \"segue2\",\n",
    "    \"sextans1\",\n",
    "  #  \"triangulum2\", 4 stars\n",
    "    \"tucana2\",\n",
    "    \"tucana3\",\n",
    "    \"tucana4\",\n",
    "    \"tucana5\", # jax: no\n",
    "    #\"unions1\",\n",
    "    \"ursa_major1\",\n",
    "    \"ursa_major2\",\n",
    "    \"ursa_minor\",\n",
    "    # \"virgo1\", # jax: problems, wrong centre\n",
    "    # \"virgo2\" 2 stars, # jax: no\n",
    "    \"willman1\",\n",
    "]"
   ]
  },
  {
   "cell_type": "code",
   "execution_count": null,
   "id": "14",
   "metadata": {},
   "outputs": [],
   "source": [
    "galaxies_flagged = [\n",
    "    \"bootes1\",\n",
    "    \"bootes3\",\n",
    "    \"draco2\",\n",
    "    \"grus2\",\n",
    "    \"sculptor\",\n",
    "    \"segue1\",\n",
    "    \"tucana2\",\n",
    "    \"tucana3\",\n",
    "    \"ursa_minor\",\n",
    "    ]"
   ]
  },
  {
   "cell_type": "code",
   "execution_count": null,
   "id": "15",
   "metadata": {},
   "outputs": [],
   "source": [
    "galaxies_high_quality = [\n",
    "    \"sculptor\",\n",
    "    \"leo2\",\n",
    "    \"leo1\",\n",
    "    \"fornax\",\n",
    "    \"ursa_minor\",\n",
    "    \"sextans1\",\n",
    "    \"draco\",\n",
    "    \"crater2\",\n",
    "    \"carina\",\n",
    "    \"canes_venatici1\",\n",
    "    \"bootes1\",\n",
    "    \"reticulum2\"\n",
    "    ]"
   ]
  },
  {
   "cell_type": "code",
   "execution_count": null,
   "id": "16",
   "metadata": {},
   "outputs": [],
   "source": [
    "profiles_flagged = OrderedDict(key => load_profile(key, ext=\"_2c\") for key in galaxies_flagged)"
   ]
  },
  {
   "cell_type": "code",
   "execution_count": null,
   "id": "17",
   "metadata": {},
   "outputs": [],
   "source": [
    "profiles_nospace = OrderedDict(key => load_profile(key, ext=\"_nospace\") for key in galaxies)"
   ]
  },
  {
   "cell_type": "code",
   "execution_count": null,
   "id": "18",
   "metadata": {},
   "outputs": [],
   "source": [
    "profiles = OrderedDict(key => load_profile(key) for key in galaxies)"
   ]
  },
  {
   "cell_type": "code",
   "execution_count": null,
   "id": "19",
   "metadata": {},
   "outputs": [],
   "source": [
    "fig = Figure(\n",
    "    size = (400, 600)\n",
    "    \n",
    ")\n",
    "ax = Axis(fig[1,1], xlabel = \"log r / kpc\", ylabel=L\"\\log\\,\\Sigma\")\n",
    "i = 0\n",
    "\n",
    "dy = 1.0\n",
    "for label in galaxies_flagged\n",
    "    color=COLORS[(i) % 7+1]\n",
    "    \n",
    "    prof = profiles[label]\n",
    "    \n",
    "    y = prof.log_Sigma .+ i*dy\n",
    "    errscatter!(prof.log_r, y, yerr=prof.log_Sigma_err, color=color)\n",
    "    lines!(prof.log_r, y)\n",
    "\n",
    "    prof = profiles_flagged[label]\n",
    "    \n",
    "    y = prof.log_Sigma .+ i*dy\n",
    "    lines!(prof.log_r, y, color=:black, linestyle=:dash)\n",
    "    \n",
    "    text!(-2.5, 0+i*dy, text=label, color=color)\n",
    "    i += 1\n",
    "end\n",
    "\n",
    "fig"
   ]
  },
  {
   "cell_type": "code",
   "execution_count": null,
   "id": "20",
   "metadata": {},
   "outputs": [],
   "source": [
    "fig = Figure(\n",
    "    size = (400, 600)\n",
    "    \n",
    ")\n",
    "ax = Axis(fig[1,1], xlabel = \"r / rh\", ylabel=L\"\\log\\,\\Sigma\")\n",
    "i = 0\n",
    "\n",
    "dy = 1.0\n",
    "for label in galaxies_flagged\n",
    "    color=COLORS[(i) % 7+1]\n",
    "    \n",
    "    prof = profiles[label]\n",
    "    \n",
    "    y = prof.log_Sigma .+ i*dy\n",
    "    errscatter!(10 .^ prof.log_r, y, yerr=prof.log_Sigma_err, color=color)\n",
    "    lines!(10 .^ prof.log_r, y)\n",
    "\n",
    "    prof = profiles_flagged[label]\n",
    "    \n",
    "    y = prof.log_Sigma .+ i*dy\n",
    "    lines!(10 .^ prof.log_r, y, color=:black, linestyle=:dash)\n",
    "    \n",
    "    text!(-6, 0+i*dy, text=label, color=color)\n",
    "    i += 1\n",
    "end\n",
    "\n",
    "fig"
   ]
  },
  {
   "cell_type": "code",
   "execution_count": null,
   "id": "21",
   "metadata": {},
   "outputs": [],
   "source": [
    "for galaxy in galaxies_flagged\n",
    "    profiles[galaxy] = profiles_flagged[galaxy]\n",
    "end"
   ]
  },
  {
   "cell_type": "code",
   "execution_count": null,
   "id": "22",
   "metadata": {},
   "outputs": [],
   "source": [
    "profiles[\"bootes1\"].log_r_quantiles"
   ]
  },
  {
   "cell_type": "code",
   "execution_count": null,
   "id": "23",
   "metadata": {},
   "outputs": [],
   "source": [
    "properties = OrderedDict(key => load_props(key) for key in galaxies)"
   ]
  },
  {
   "cell_type": "code",
   "execution_count": null,
   "id": "24",
   "metadata": {},
   "outputs": [],
   "source": [
    "for gal in galaxies\n",
    "    prof = profiles[gal]\n",
    "    norm = LilGuys.lerp(prof.log_r, prof.log_Sigma)(0)\n",
    "    prof.log_Sigma .-= norm\n",
    "\n",
    "    profiles_nospace[gal].log_Sigma .-= norm\n",
    "end"
   ]
  },
  {
   "cell_type": "code",
   "execution_count": null,
   "id": "25",
   "metadata": {},
   "outputs": [],
   "source": [
    "for (k, v) in properties\n",
    "    if \"Mv_err\" ∉ keys(v)\n",
    "        properties[k][\"Mv_err\"] = max(properties[k][\"Mv_em\"], properties[k][\"Mv_ep\"])\n",
    "    end\n",
    "end"
   ]
  },
  {
   "cell_type": "code",
   "execution_count": null,
   "id": "26",
   "metadata": {},
   "outputs": [],
   "source": [
    "luminosity_bins = [1, -4, -5, -7, -9.5]"
   ]
  },
  {
   "cell_type": "code",
   "execution_count": null,
   "id": "27",
   "metadata": {},
   "outputs": [],
   "source": [
    "x = [sum(profiles[galaxy].counts) for galaxy in galaxies]\n",
    "y = [properties[galaxy][\"Mv\"] for galaxy in galaxies]\n",
    "\n",
    "fig = Figure()\n",
    "ax = Axis(fig[1,1])\n",
    "\n",
    "hlines!(luminosity_bins)\n",
    "scatter!(log10.(x), y)\n",
    "\n",
    "fig"
   ]
  },
  {
   "cell_type": "code",
   "execution_count": null,
   "id": "28",
   "metadata": {},
   "outputs": [],
   "source": [
    "galaxy_groups = [String[] for _ in 1:length(luminosity_bins)]\n",
    "\n",
    "for galaxyname in galaxies\n",
    "    Mv = properties[galaxyname][\"Mv\"]\n",
    "    \n",
    "    bin = findlast(x -> x>Mv, luminosity_bins)\n",
    "    println(Mv, \"\\t\", bin)\n",
    "    \n",
    "    if bin < 1\n",
    "        println(\"oops\")\n",
    "    end\n",
    "    if length(profiles[galaxyname].log_Sigma) < 2\n",
    "        println(galaxyname)\n",
    "        continue\n",
    "    end\n",
    "            \n",
    "\n",
    "    push!(galaxy_groups[bin], galaxyname)\n",
    "end"
   ]
  },
  {
   "cell_type": "code",
   "execution_count": null,
   "id": "29",
   "metadata": {},
   "outputs": [],
   "source": [
    "galaxy_groups"
   ]
  },
  {
   "cell_type": "markdown",
   "id": "30",
   "metadata": {},
   "source": [
    "# Density Profiles"
   ]
  },
  {
   "cell_type": "code",
   "execution_count": null,
   "id": "31",
   "metadata": {},
   "outputs": [],
   "source": [
    "for gals in galaxy_groups\n",
    "    fig = Figure(\n",
    "        size = (500, 500),\n",
    "        \n",
    "    )\n",
    "    ax = Axis(fig[1,1], \n",
    "        xlabel = \"log r / r_h\", \n",
    "        ylabel=L\"\\log\\,\\Sigma\",\n",
    "        xticks=[-2, -1, 0, 1, 2],\n",
    "    )\n",
    "    i = 0\n",
    "    \n",
    "    dy = 1.0\n",
    "    for galaxy in gals\n",
    "        println(galaxy)\n",
    "        prof = profiles[galaxy]\n",
    "        label = galaxy\n",
    "        println(prof.log_Sigma)\n",
    "        println(sum(prof.counts))\n",
    "\n",
    "        y = prof.log_Sigma .+ i*dy\n",
    "        if length(y) < 2\n",
    "            continue\n",
    "        end\n",
    "        color = COLORS[(i) % 7+1]\n",
    "        errscatter!(prof.log_r, y, yerr=prof.log_Sigma_err)\n",
    "        lines!(prof.log_r, y)\n",
    "    \n",
    "        prof = profiles_nospace[label]\n",
    "        lines!(prof.log_r,  prof.log_Sigma .+ i*dy, linestyle=:dot, color=color)\n",
    "        println(prof.log_Sigma)\n",
    "        println(sum(prof.counts))\n",
    "    \n",
    "        text!(-3, i*dy, text=label, color=color)\n",
    "        i += 1\n",
    "        println()\n",
    "    end\n",
    "    \n",
    "    display(fig)\n",
    "end"
   ]
  },
  {
   "cell_type": "markdown",
   "id": "32",
   "metadata": {},
   "source": [
    "## Fitting density profiles"
   ]
  },
  {
   "cell_type": "code",
   "execution_count": null,
   "id": "33",
   "metadata": {},
   "outputs": [],
   "source": [
    "α_2d = LilGuys.calc_R_h(profs_ana[\"exp2d\"])"
   ]
  },
  {
   "cell_type": "code",
   "execution_count": null,
   "id": "34",
   "metadata": {},
   "outputs": [],
   "source": [
    "prof_ana = LilGuys.Exp2D(R_s = 1/α_2d, M = 1 / LilGuys.calc_Σ(LilGuys.Exp2D(R_s=1/α_2d), 1))"
   ]
  },
  {
   "cell_type": "code",
   "execution_count": null,
   "id": "35",
   "metadata": {},
   "outputs": [],
   "source": [
    "LilGuys.calc_Σ(prof_ana, 1), LilGuys.calc_R_h(prof_ana)"
   ]
  },
  {
   "cell_type": "code",
   "execution_count": null,
   "id": "36",
   "metadata": {},
   "outputs": [],
   "source": [
    "sersic_model(x, p) = @. log10(LilGuys.calc_Σ(LilGuys.Sersic(n=p[1]), 10^ x) )\n",
    "sersic_model_free(x, p) = @. log10(LilGuys.calc_Σ(LilGuys.Sersic(n=p[1]), 10^(x .- p[2])) ) + p[3]"
   ]
  },
  {
   "cell_type": "code",
   "execution_count": null,
   "id": "37",
   "metadata": {},
   "outputs": [],
   "source": [
    "p = profiles[\"sculptor\"];"
   ]
  },
  {
   "cell_type": "code",
   "execution_count": null,
   "id": "38",
   "metadata": {},
   "outputs": [],
   "source": [
    "popt, covt = LilGuys.curve_fit(sersic_model, p.log_r, p.log_Sigma, [1.0])"
   ]
  },
  {
   "cell_type": "code",
   "execution_count": null,
   "id": "39",
   "metadata": {},
   "outputs": [],
   "source": [
    "popt, covt = LilGuys.curve_fit(sersic_model_free, p.log_r, p.log_Sigma, [1.0, 0.0, 0.0])"
   ]
  },
  {
   "cell_type": "code",
   "execution_count": null,
   "id": "40",
   "metadata": {},
   "outputs": [],
   "source": [
    "galaxies_measured = String[]\n",
    "\n",
    "for galaxy in galaxies\n",
    "    println(galaxy)\n",
    "    prof = profiles[galaxy]\n",
    "    prop = properties[galaxy]\n",
    "\n",
    "    if length(prof.log_Sigma) < 4\n",
    "        continue\n",
    "    end\n",
    "\n",
    "    if galaxy == \"horologium1\"\n",
    "        continue\n",
    "    end\n",
    "    push!(galaxies_measured, galaxy)\n",
    "    \n",
    "    popt, covt = LilGuys.curve_fit(sersic_model, prof.log_r, prof.log_Sigma, [1.0])\n",
    "    prop[\"n_sersic\"] = popt[1]\n",
    "    prop[\"n_sersic_err\"] = covt[1,1] ^ 0.5\n",
    "    println(\"n = \", prop[\"n_sersic\"] ± prop[\"n_sersic_err\"])\n",
    "\n",
    "    popt2, covt2 = LilGuys.curve_fit(sersic_model_free, prof.log_r, prof.log_Sigma, [1.0, 0.0, 0.0])\n",
    "    χ2 = sum((sersic_model_free(prof.log_r, popt2) .- prof.log_Sigma) .^ 2 ./ prof.log_Sigma_err .^ 2) / (length(prof.log_Sigma) - length(popt2))\n",
    "\n",
    "    prop[\"chi2_sersic_free\"] = χ2\n",
    "    prop[\"n_sersic_free\"] = popt2[1]\n",
    "    prop[\"n_sersic_free_err\"] = covt2[1,1] ^ 0.5\n",
    "\n",
    "    prop[\"rh_sersic\"] = 10^popt2[2] * prop[\"rh\"]\n",
    "    prop[\"rh_sersic_err\"] = prop[\"rh_sersic\"] * covt2[2,2]^0.5 / log(10)\n",
    "    prop[\"counts\"] = sum(prof.counts)\n",
    "    \n",
    "\n",
    "    if \"rh_err\" ∈ keys(prop)\n",
    "         rh_err = prop[\"rh_err\"]\n",
    "    else\n",
    "        rh_err = prop[\"rh_ep\"]\n",
    "    end\n",
    "    \n",
    "    println(prop[\"rh_sersic\"] ± prop[\"rh_sersic_err\"], \"\\t\", prop[\"rh\"] ± rh_err)\n",
    "    println(\"n2 = \", prop[\"n_sersic_free\"] ± prop[\"n_sersic_free_err\"])\n",
    "\n",
    "    println(\"chi2 = \", χ2)\n",
    "\n",
    "\n",
    "    fig = Figure()\n",
    "    ax = Axis(fig[1,1],\n",
    "        xlabel = L\"\\log\\,R\\  /\\ R_h\",\n",
    "        ylabel = L\"\\log\\,\\Sigma / \\Sigma_h\",\n",
    "        limits = (-2, nothing, -5, nothing),\n",
    "        title = galaxy,\n",
    "    )\n",
    "    println(sum(prof.counts))\n",
    "    errscatter!(prof.log_r, prof.log_Sigma, yerr=prof.log_Sigma_err, label=\"PSAT\")\n",
    "    prof = profiles_nospace[galaxy]\n",
    "    errscatter!(prof.log_r, prof.log_Sigma, yerr=prof.log_Sigma_err, label=\"nospace\")\n",
    "    println(sum(prof.counts))\n",
    "\n",
    "    x_model = LinRange(-2, 1, 1000)\n",
    "    y_model = sersic_model(x_model, popt)\n",
    "\n",
    "    lines!(x_model, y_model, label=\"constrained\")\n",
    "\n",
    "\n",
    "    y_model = sersic_model_free(x_model, popt2)\n",
    "    lines!(x_model, y_model, linestyle=:dash, label=\"unconstrained\")\n",
    "\n",
    "    y_model = @. log10(LilGuys.calc_Σ(prof_ana, 10^x_model))\n",
    "    lines!(x_model, y_model, color=:black, linestyle=:dot, label=\"Exp2D\")\n",
    "\n",
    "    axislegend(position=:lb)\n",
    "    display(fig)\n",
    "end"
   ]
  },
  {
   "cell_type": "code",
   "execution_count": null,
   "id": "41",
   "metadata": {},
   "outputs": [],
   "source": [
    "function get_property_uncertanty(properties, key, galaxies=keys(properties))\n",
    "    x = Float64[]\n",
    "    e = Float64[]\n",
    "\n",
    "    for galaxy in galaxies\n",
    "        props = properties[galaxy]\n",
    "        push!(x, props[key])\n",
    "\n",
    "        if (key * \"_em\") ∈ keys(props)\n",
    "            push!(e, max(props[key*\"_em\"], props[key*\"_ep\"]))\n",
    "        else\n",
    "            push!(e, props[key*\"_err\"])\n",
    "        end\n",
    "    end\n",
    "\n",
    "    return x, e\n",
    "end\n",
    "            \n",
    "    \n",
    "\n",
    "        \n",
    "        "
   ]
  },
  {
   "cell_type": "code",
   "execution_count": null,
   "id": "42",
   "metadata": {},
   "outputs": [],
   "source": [
    "function get_property(properties, key, galaxies=keys(properties))\n",
    "    x = Float64[]\n",
    "\n",
    "    for galaxy in galaxies\n",
    "        props = properties[galaxy]\n",
    "        push!(x, props[key])\n",
    "    end\n",
    "\n",
    "    return x\n",
    "end\n",
    "        "
   ]
  },
  {
   "cell_type": "code",
   "execution_count": null,
   "id": "43",
   "metadata": {},
   "outputs": [],
   "source": [
    "function get_rh_physical(properties, rh_col, galaxies=keys(properties))\n",
    "\n",
    "    dist, dist_err = get_property_uncertanty(properties, \"distance\", galaxies)\n",
    "    rh, rh_err = get_property_uncertanty(properties, rh_col, galaxies)\n",
    "\n",
    "\n",
    "    rh_physical = Float64[]\n",
    "    rh_physical_err = Float64[]\n",
    "    for i in eachindex(dist)\n",
    "        rh_phys = LilGuys.arcmin_to_kpc(rh[i] ± rh_err[i], dist[i] ± dist_err[i])\n",
    "\n",
    "        push!(rh_physical, Measurements.value(rh_phys))\n",
    "        push!(rh_physical_err, Measurements.uncertainty(rh_phys))\n",
    "    end\n",
    "\n",
    "    return rh_physical, rh_physical_err\n",
    "\n",
    "end"
   ]
  },
  {
   "cell_type": "code",
   "execution_count": null,
   "id": "44",
   "metadata": {},
   "outputs": [],
   "source": [
    "fig = Figure()\n",
    "ax = Axis(fig[1,1],\n",
    "    xlabel = L\"$R_h$ / kpc\",\n",
    "    ylabel = \"Mv\",\n",
    "    yreversed=true\n",
    ")\n",
    "\n",
    "x, xe = get_rh_physical(properties, \"rh\", galaxies_measured)\n",
    "    \n",
    "y, ye = get_property_uncertanty(properties, \"Mv\", galaxies_measured)\n",
    "e = get_property(properties, \"ellipticity\", galaxies_measured)\n",
    "\n",
    "\n",
    "errscatter!(log10.(x), y, xerr=xe ./x / log(10), yerr=ye)\n",
    "\n",
    "fig"
   ]
  },
  {
   "cell_type": "code",
   "execution_count": null,
   "id": "45",
   "metadata": {},
   "outputs": [],
   "source": [
    "fig = Figure()\n",
    "ax = Axis(fig[1,1],\n",
    "    xlabel = \"Mv\",\n",
    "    ylabel = L\"$1/n$ Sérsic\",\n",
    "    xreversed=true,\n",
    "    limits=(-15, 0, 0.0,3, )\n",
    ")\n",
    "\n",
    "    \n",
    "x, xe = get_property_uncertanty(properties, \"Mv\", galaxies_measured)\n",
    "y, ye = get_property_uncertanty(properties, \"n_sersic_free\", galaxies_measured)\n",
    "c = get_property(properties, \"chi2_sersic_free\", galaxies_measured)\n",
    "\n",
    "errscatter!(x, 1 ./ y, xerr=xe)\n",
    "c = scatter!(x, 1 ./ y, color = log10.(c))\n",
    "\n",
    "for i in eachindex(galaxies_measured)\n",
    "    text!(x[i], 1 ./ y[i], text=galaxies_measured[i], fontsize=12, color=COLORS[1])\n",
    "end\n",
    "\n",
    "Colorbar(fig[1,2], c)\n",
    "fig"
   ]
  },
  {
   "cell_type": "code",
   "execution_count": null,
   "id": "46",
   "metadata": {},
   "outputs": [],
   "source": [
    "fig = Figure()\n",
    "ax = Axis(fig[1,1],\n",
    "    xlabel = \"Mv\",\n",
    "    ylabel = L\"$1/n$ Sérsic (3 parameter)\",\n",
    "    xreversed=true,\n",
    "    limits=(-15, 0, 0.0,3, )\n",
    ")\n",
    "\n",
    "    \n",
    "x, xe = get_property_uncertanty(properties, \"Mv\", galaxies_measured)\n",
    "y, ye = get_property_uncertanty(properties, \"n_sersic_free\", galaxies_measured)\n",
    "c = get_property(properties, \"counts\", galaxies_measured)\n",
    "\n",
    "ye = @. 1/y * ye/y\n",
    "\n",
    "y = @. 1/y\n",
    "\n",
    "errscatter!(x, y, xerr=xe, yerr=ye)\n",
    "c = scatter!(x, y, color = log10.(c))\n",
    "\n",
    "for i in eachindex(galaxies_measured)\n",
    "    text!(x[i], y[i], text=galaxies_measured[i], fontsize=12, color=COLORS[1])\n",
    "end\n",
    "\n",
    "Colorbar(fig[1,2], c, label = \"counts\")\n",
    "fig"
   ]
  },
  {
   "cell_type": "code",
   "execution_count": null,
   "id": "47",
   "metadata": {},
   "outputs": [],
   "source": [
    "fig = Figure()\n",
    "ax = Axis(fig[1,1],\n",
    "    xlabel = \"Mv\",\n",
    "    ylabel = L\"$1/n$ Sérsic (1 parameter)\",\n",
    "    xreversed=true,\n",
    "    limits=(-15, 0, 0.0,3, )\n",
    ")\n",
    "\n",
    "    \n",
    "x, xe = get_property_uncertanty(properties, \"Mv\", galaxies_measured)\n",
    "y, ye = get_property_uncertanty(properties, \"n_sersic\", galaxies_measured)\n",
    "c = get_property(properties, \"counts\", galaxies_measured)\n",
    "\n",
    "ye = @. 1/y * ye/y\n",
    "\n",
    "y = @. 1/y\n",
    "\n",
    "errscatter!(x, y, xerr=xe, yerr=ye)\n",
    "c = scatter!(x, y, color = log10.(c))\n",
    "\n",
    "for i in eachindex(galaxies_measured)\n",
    "    text!(x[i], y[i], text=galaxies_measured[i], fontsize=12, color=COLORS[1])\n",
    "end\n",
    "\n",
    "Colorbar(fig[1,2], c, label = \"counts\")\n",
    "fig"
   ]
  },
  {
   "cell_type": "code",
   "execution_count": null,
   "id": "48",
   "metadata": {},
   "outputs": [],
   "source": [
    "fig = Figure()\n",
    "ax = Axis(fig[1,1],\n",
    "    xlabel = \"Mv\",\n",
    "    ylabel = L\"$1/n$ Sérsic\",\n",
    "    xreversed=true,\n",
    "    limits=(-15, 0, 0.0,3, )\n",
    ")\n",
    "\n",
    "    \n",
    "x, xe = get_property_uncertanty(properties, \"Mv\", galaxies_measured)\n",
    "y, ye = get_property_uncertanty(properties, \"n_sersic\", galaxies_measured)\n",
    "\n",
    "errscatter!(x, 1 ./ y, xerr=xe)\n",
    "\n",
    "for i in eachindex(galaxies_measured)\n",
    "    text!(x[i], 1 ./ y[i], text=galaxies_measured[i], fontsize=12, color=COLORS[1])\n",
    "end\n",
    "\n",
    "fig"
   ]
  },
  {
   "cell_type": "code",
   "execution_count": null,
   "id": "49",
   "metadata": {},
   "outputs": [],
   "source": [
    "fig = Figure()\n",
    "ax = Axis(fig[1,1],\n",
    "    xlabel = L\"$R_h$ / kpc\",\n",
    "    ylabel = \"Mv\",\n",
    "    yreversed=true\n",
    ")\n",
    "\n",
    "x = [LilGuys.arcmin_to_kpc(p[\"rh\"], p[\"distance\"]) for (_, p) in properties]\n",
    "y = [p[\"Mv\"] for (_, p) in properties]\n",
    "e = [p[\"sersic_n\"] for (_, p) in properties]\n",
    "\n",
    "scatter!(log10.(x), y, color=e)\n",
    "\n",
    "\n",
    "fig"
   ]
  },
  {
   "cell_type": "markdown",
   "id": "50",
   "metadata": {},
   "source": [
    "## Sigma"
   ]
  },
  {
   "cell_type": "code",
   "execution_count": null,
   "id": "51",
   "metadata": {},
   "outputs": [],
   "source": [
    "p = profiles[\"sculptor\"]"
   ]
  },
  {
   "cell_type": "code",
   "execution_count": null,
   "id": "52",
   "metadata": {},
   "outputs": [],
   "source": [
    "using Measurements"
   ]
  },
  {
   "cell_type": "code",
   "execution_count": null,
   "id": "53",
   "metadata": {},
   "outputs": [],
   "source": [
    "f = LilGuys.lerp(p.log_r .± 0, p.log_Sigma .± p.log_Sigma_err)"
   ]
  },
  {
   "cell_type": "code",
   "execution_count": null,
   "id": "54",
   "metadata": {},
   "outputs": [],
   "source": [
    "function Σ_ioo(profile::LilGuys.StellarProfile; l=-1.5, h=0.5)\n",
    "    f = LilGuys.lerp(profile.log_r .± 0, profile.log_Sigma .± profile.log_Sigma_err)\n",
    "    if h > profile.log_r[end]\n",
    "        println(\"warning, skipping\")\n",
    "        return NaN±NaN\n",
    "    end\n",
    "    if l < profile.log_r[1]\n",
    "        println(\"warning, skipping\")\n",
    "        return NaN±NaN\n",
    "    end  \n",
    "\n",
    "    println(f(h), \"\\t\", f(l))\n",
    "\n",
    "    return exp10(f(h)) / exp10(f(l))\n",
    "end"
   ]
  },
  {
   "cell_type": "code",
   "execution_count": null,
   "id": "55",
   "metadata": {},
   "outputs": [],
   "source": [
    "function Σ_ioo(prof::LilGuys.SphericalProfile; l=-1.5, h=0.5)\n",
    "    f = x -> LilGuys.calc_Σ(prof, 10 .^ x)\n",
    "    return f(h) / f(l)\n",
    "end"
   ]
  },
  {
   "cell_type": "code",
   "execution_count": null,
   "id": "56",
   "metadata": {},
   "outputs": [],
   "source": [
    "profs_ana_ioo = [\n",
    "    LilGuys.Sersic(n=1),\n",
    "    LilGuys.Sersic(n=2),\n",
    "    LilGuys.Sersic(n=4),\n",
    "    LilGuys.Sersic(n=8),\n",
    "    ]"
   ]
  },
  {
   "cell_type": "code",
   "execution_count": null,
   "id": "57",
   "metadata": {},
   "outputs": [],
   "source": [
    "fig = Figure()\n",
    "ax = Axis(fig[1,1])\n",
    "\n",
    "x = LinRange(-2, 1, 1000)\n",
    "for prof in profs_ana_ioo\n",
    "    r = 10 .^ x\n",
    "    y = LilGuys.calc_Σ.(prof, r)\n",
    "\n",
    "    lines!(x, log10.(y))\n",
    "end\n",
    "\n",
    "fig"
   ]
  },
  {
   "cell_type": "code",
   "execution_count": null,
   "id": "58",
   "metadata": {},
   "outputs": [],
   "source": [
    "function plot_Σ_iio(l, h; galaxies=galaxies)\n",
    "    \n",
    "    for galaxy in galaxies\n",
    "        println(galaxy)\n",
    "        s = Σ_ioo(profiles[galaxy], l=l, h=h)\n",
    "        properties[galaxy][\"Sigma_ioo\"] = Measurements.value.(s)\n",
    "        properties[galaxy][\"Sigma_ioo_err\"] = Measurements.uncertainty.(s)\n",
    "        \n",
    "    end\n",
    "    \n",
    "    fig = Figure()\n",
    "    \n",
    "    ax = Axis(fig[1,1], \n",
    "        xlabel = \"Mv\",\n",
    "        ylabel = L\"\\log\\ \\Sigma_{%$h}/\\Sigma_{%$l}\",\n",
    "        limits = (-15, 1, nothing, nothing),\n",
    "        xreversed = true\n",
    "    )\n",
    "    for prof in profs_ana_ioo\n",
    "        hlines!(log10(Σ_ioo(prof, l=l, h=h)), color=:black, label=\"exp3d\")\n",
    "    end\n",
    "    \n",
    "    for (i, galaxy) in enumerate(galaxies)\n",
    "        if galaxy ∈ galaxies_flagged\n",
    "            markersize=15\n",
    "        else\n",
    "            markersize=8\n",
    "        end\n",
    "        color = COLORS[(i+1) % length(COLORS) + 1]\n",
    "        \n",
    "        x = properties[galaxy][\"Mv\"]\n",
    "        xerr = properties[galaxy][\"Mv_err\"]\n",
    "\n",
    "        y = log10.(properties[galaxy][\"Sigma_ioo\"])\n",
    "        yerr = properties[galaxy][\"Sigma_ioo_err\"] / properties[galaxy][\"Sigma_ioo\"] / log(10)\n",
    "\n",
    "        errscatter!([x], [y], yerr = [yerr], xerr=[xerr], color=color, size=markersize)\n",
    "        text!(x, y, text=galaxy, fontsize=12, color=color)\n",
    "    end\n",
    "    \n",
    "    fig\n",
    "end"
   ]
  },
  {
   "cell_type": "code",
   "execution_count": null,
   "id": "59",
   "metadata": {
    "jupyter": {
     "outputs_hidden": true
    }
   },
   "outputs": [],
   "source": [
    "plot_Σ_iio(-1.0, 0.5)"
   ]
  },
  {
   "cell_type": "code",
   "execution_count": null,
   "id": "60",
   "metadata": {},
   "outputs": [],
   "source": [
    "plot_Σ_iio(-0.5, 0.5)"
   ]
  },
  {
   "cell_type": "code",
   "execution_count": null,
   "id": "61",
   "metadata": {
    "jupyter": {
     "outputs_hidden": true
    }
   },
   "outputs": [],
   "source": [
    "plot_Σ_iio(-0.3, 0.5)"
   ]
  },
  {
   "cell_type": "code",
   "execution_count": null,
   "id": "62",
   "metadata": {},
   "outputs": [],
   "source": [
    "plot_Σ_iio(-0.5, 0.3)"
   ]
  },
  {
   "cell_type": "code",
   "execution_count": null,
   "id": "63",
   "metadata": {},
   "outputs": [],
   "source": [
    "plot_Σ_iio(-0.3, 0.3)"
   ]
  },
  {
   "cell_type": "code",
   "execution_count": null,
   "id": "64",
   "metadata": {},
   "outputs": [],
   "source": [
    "plot_Σ_iio(-0.5, 0.7)"
   ]
  },
  {
   "cell_type": "code",
   "execution_count": null,
   "id": "65",
   "metadata": {},
   "outputs": [],
   "source": [
    "plot_Σ_iio(-0.5, 1.0)"
   ]
  },
  {
   "cell_type": "code",
   "execution_count": null,
   "id": "66",
   "metadata": {},
   "outputs": [],
   "source": [
    "plot_Σ_iio(0.0, 0.7)"
   ]
  },
  {
   "cell_type": "code",
   "execution_count": null,
   "id": "67",
   "metadata": {},
   "outputs": [],
   "source": [
    "fig = plot_Σ_iio(0.0, 0.5)\n"
   ]
  },
  {
   "cell_type": "code",
   "execution_count": null,
   "id": "68",
   "metadata": {},
   "outputs": [],
   "source": [
    "print(galaxies_high_quality)"
   ]
  },
  {
   "cell_type": "code",
   "execution_count": null,
   "id": "69",
   "metadata": {},
   "outputs": [],
   "source": [
    "fig = plot_Σ_iio(0.0, 0.5, galaxies=galaxies_high_quality)\n"
   ]
  },
  {
   "cell_type": "code",
   "execution_count": null,
   "id": "70",
   "metadata": {},
   "outputs": [],
   "source": [
    "plot_Σ_iio(0.0, 0.3)"
   ]
  },
  {
   "cell_type": "markdown",
   "id": "71",
   "metadata": {},
   "source": [
    "## Quantiles"
   ]
  },
  {
   "cell_type": "code",
   "execution_count": null,
   "id": "72",
   "metadata": {},
   "outputs": [],
   "source": [
    "\n",
    "\n",
    "function plot_r_ooi(q)\n",
    "    \n",
    "    for galaxy in galaxies\n",
    "        properties[galaxy][\"r_ioo\"] = r_ioo(profiles[galaxy], q=q)\n",
    "    end\n",
    "    \n",
    "    fig = Figure()\n",
    "    \n",
    "    ax = Axis(fig[1,1], \n",
    "        xlabel = \"Mv\",\n",
    "        ylabel = L\"\\log\\ r_{%$(1-q)}/r_{%$q}\",\n",
    "        limits = (-15, 1, nothing, nothing),\n",
    "        xreversed = true\n",
    "    )\n",
    "    hlines!(log10(r_ioo(LilGuys.Exp3D(), q=q)), color=:black, label=\"exp3d\")\n",
    "    hlines!(log10(r_ioo(LilGuys.Plummer(), q=q)), color=:black, linestyle=:dot, label=\"plummer\")\n",
    "    \n",
    "    for (i, galaxy) in enumerate(galaxies)\n",
    "        if galaxy ∈ galaxies_flagged\n",
    "            markersize=20\n",
    "        else\n",
    "            markersize=10\n",
    "        end\n",
    "        color = COLORS[(i+1) % length(COLORS) + 1]\n",
    "        \n",
    "        x = properties[galaxy][\"Mv\"]\n",
    "        y = log10.(properties[galaxy][\"r_ioo\"])\n",
    "        scatter!(x, y, markersize=markersize, color=color)\n",
    "        text!(x, y, text=galaxy, fontsize=12, color=color)\n",
    "    \n",
    "    \n",
    "    end\n",
    "    \n",
    "    fig\n",
    "end"
   ]
  },
  {
   "cell_type": "code",
   "execution_count": null,
   "id": "73",
   "metadata": {},
   "outputs": [],
   "source": [
    "plot_r_ooi(0.25)"
   ]
  },
  {
   "cell_type": "code",
   "execution_count": null,
   "id": "74",
   "metadata": {},
   "outputs": [],
   "source": [
    "plot_r_ooi(0.16)"
   ]
  },
  {
   "cell_type": "code",
   "execution_count": null,
   "id": "75",
   "metadata": {},
   "outputs": [],
   "source": [
    "plot_r_ooi(0.05)"
   ]
  },
  {
   "cell_type": "code",
   "execution_count": null,
   "id": "76",
   "metadata": {},
   "outputs": [],
   "source": [
    "plot_r_ooi(0.01)"
   ]
  },
  {
   "cell_type": "markdown",
   "id": "77",
   "metadata": {},
   "source": [
    "# R Out / median"
   ]
  },
  {
   "cell_type": "code",
   "execution_count": null,
   "id": "78",
   "metadata": {},
   "outputs": [],
   "source": [
    "function plot_room(q)\n",
    "    \n",
    "    fig = Figure()\n",
    "    \n",
    "    ax = Axis(fig[1,1], \n",
    "        xlabel = \"Mv\",\n",
    "        ylabel = L\"r_{%$(1-q)}/r_h\",\n",
    "        limits = (-15, 0.5, nothing, nothing),\n",
    "        xreversed = true\n",
    "    )\n",
    "    hlines!(log10(r_oom(LilGuys.Exp2D(), q=q)), color=:black, label=\"exp2d\")\n",
    "    hlines!(log10(r_oom(LilGuys.Plummer(), q=q)), color=:black, linestyle=:dot, label=\"plummer\")\n",
    "    \n",
    "    for (i, galaxy) in enumerate(galaxies)\n",
    "        if galaxy ∈ galaxies_flagged\n",
    "            markersize=20\n",
    "        else\n",
    "            markersize=10\n",
    "        end\n",
    "        color = COLORS[(i+1) % length(COLORS) + 1]\n",
    "        \n",
    "        x = properties[galaxy][\"Mv\"]\n",
    "        y = log10.(r_oom(profiles[galaxy], q=q))\n",
    "        scatter!(x, y, markersize=markersize, color=color)\n",
    "        text!(x, y, text=galaxy, fontsize=12, color=color)\n",
    "    \n",
    "    \n",
    "    end\n",
    "    \n",
    "    fig\n",
    "end"
   ]
  },
  {
   "cell_type": "code",
   "execution_count": null,
   "id": "79",
   "metadata": {},
   "outputs": [],
   "source": [
    "plot_room(0.02)"
   ]
  },
  {
   "cell_type": "code",
   "execution_count": null,
   "id": "80",
   "metadata": {},
   "outputs": [],
   "source": [
    "plot_room(0.05)"
   ]
  },
  {
   "cell_type": "code",
   "execution_count": null,
   "id": "81",
   "metadata": {},
   "outputs": [],
   "source": [
    "plot_room(0.16)"
   ]
  },
  {
   "cell_type": "code",
   "execution_count": null,
   "id": "82",
   "metadata": {},
   "outputs": [],
   "source": [
    "plot_room(0.25)"
   ]
  },
  {
   "cell_type": "markdown",
   "id": "83",
   "metadata": {},
   "source": [
    "# Density Profiles"
   ]
  },
  {
   "cell_type": "code",
   "execution_count": null,
   "id": "84",
   "metadata": {},
   "outputs": [],
   "source": [
    "for (label, prof) in profiles\n",
    "    println(label)\n",
    "    rh = LilGuys.quantile(prof.log_r, prof.counts, 0.5)\n",
    "\n",
    "    println(rh, \"\\t\", 10^rh)\n",
    "    println(\"counts = \", sum(prof.counts))\n",
    "    println(\"Mv = \", properties[label][\"Mv\"])\n",
    "    println(\"log rhme / rh = \", profiles[label].log_r_quantiles[profiles[label].quantiles .== 0.5])\n",
    "\n",
    "    println()\n",
    "end"
   ]
  },
  {
   "cell_type": "code",
   "execution_count": null,
   "id": "85",
   "metadata": {},
   "outputs": [],
   "source": [
    "function plot_density_sample(labels)\n",
    "    fig = Figure()\n",
    "    ax = Axis(fig[1,1], \n",
    "        xlabel = \"log r / r_h\", \n",
    "        ylabel=L\"\\log\\,\\Sigma\",\n",
    "    )\n",
    "    i = 0\n",
    "    colorrange = extrema([properties[label][\"Mv\"] for label in labels])\n",
    "    colormap = Arya.get_arya_cmap()\n",
    "\n",
    "    for label in labels\n",
    "        prof = profiles[label]\n",
    "        y = prof.log_Sigma\n",
    "  \n",
    "    \n",
    "        color = properties[label][\"Mv\"]\n",
    "        \n",
    "        scatterlines!(prof.log_r, y, color=color, colorrange=colorrange, colormap=colormap)\n",
    "    end\n",
    "\n",
    "\n",
    "    Colorbar(fig[1,2], colorrange=colorrange, label=\"Mv (mag)\", colormap=colormap)\n",
    "    \n",
    "    x = LinRange(-2, 0.75, 1000)\n",
    "    y = log10.(LilGuys.calc_Σ.(prof_ana, exp10.(x)))\n",
    "    lines!(x, y, color=COLORS[1])\n",
    "    \n",
    "    \n",
    "    \n",
    "    fig\n",
    "end"
   ]
  },
  {
   "cell_type": "code",
   "execution_count": null,
   "id": "86",
   "metadata": {},
   "outputs": [],
   "source": [
    "plot_density_sample(galaxies_high_quality)"
   ]
  },
  {
   "cell_type": "code",
   "execution_count": null,
   "id": "87",
   "metadata": {},
   "outputs": [],
   "source": [
    "plot_density_sample(galaxies)"
   ]
  },
  {
   "cell_type": "code",
   "execution_count": null,
   "id": "88",
   "metadata": {},
   "outputs": [],
   "source": [
    "plot_density_sample(galaxies_flagged)"
   ]
  },
  {
   "cell_type": "code",
   "execution_count": null,
   "id": "89",
   "metadata": {},
   "outputs": [],
   "source": [
    "for group in galaxy_groups\n",
    "    plot_density_sample(group) |> display\n",
    "\n",
    "end\n",
    "    "
   ]
  },
  {
   "cell_type": "code",
   "execution_count": null,
   "id": "90",
   "metadata": {},
   "outputs": [],
   "source": [
    "fig = Figure(\n",
    "    size = (700, 1200),\n",
    "    \n",
    ")\n",
    "ax = Axis(fig[1,1], \n",
    "    xlabel = \"log r / kpc\", \n",
    "    ylabel=L\"\\log\\,\\Sigma\",\n",
    "    xticks=[-2, -1, 0, 1, 2],\n",
    ")\n",
    "i = 0\n",
    "\n",
    "dy = 1.0\n",
    "for (label, prof) in profiles\n",
    "    y = prof.log_Sigma .+ i*dy\n",
    "    if length(y) < 2\n",
    "        continue\n",
    "    end\n",
    "    \n",
    "    errscatter!(prof.log_r, y, yerr=prof.log_Sigma_err)\n",
    "    lines!(prof.log_r, y)\n",
    "\n",
    "    text!(-3, i*dy, text=label, color=COLORS[(i) % 7+1])\n",
    "    i += 1\n",
    "end\n",
    "\n",
    "fig"
   ]
  },
  {
   "cell_type": "code",
   "execution_count": null,
   "id": "91",
   "metadata": {},
   "outputs": [],
   "source": [
    "function scatter_obs(df)\n",
    "    fig = Figure()\n",
    "    ax = Axis(fig[1,1],\n",
    "        aspect=DataAspect())\n",
    "\n",
    "    scatter!(df.xi, df.eta, markersize=1, alpha=0.1, color=:black)\n",
    "    scatter!(df.xi[df.PSAT .> 0.2], df.eta[df.PSAT .> 0.2], markersize=3, color=COLORS[2])\n",
    "\n",
    "    LilGuys.hide_grid!(ax)\n",
    "    fig\n",
    "end"
   ]
  },
  {
   "cell_type": "code",
   "execution_count": null,
   "id": "92",
   "metadata": {},
   "outputs": [],
   "source": [
    "df = load_gaia_obs(\"bootes1\")"
   ]
  },
  {
   "cell_type": "markdown",
   "id": "93",
   "metadata": {},
   "source": [
    "# Galaxy specific"
   ]
  },
  {
   "cell_type": "markdown",
   "id": "94",
   "metadata": {},
   "source": [
    "TODO, want to move this to a pluto notebook"
   ]
  },
  {
   "cell_type": "code",
   "execution_count": null,
   "id": "95",
   "metadata": {},
   "outputs": [],
   "source": [
    "function load_gaia_obs(galaxyname)\n",
    "    df = LilGuys.read_fits(joinpath(galaxyname, \"data\", \"j24_2c.fits\"))\n",
    "    return df\n",
    "end"
   ]
  },
  {
   "cell_type": "code",
   "execution_count": null,
   "id": "96",
   "metadata": {},
   "outputs": [],
   "source": [
    "scatter_obs(df)"
   ]
  },
  {
   "cell_type": "code",
   "execution_count": null,
   "id": "97",
   "metadata": {},
   "outputs": [],
   "source": [
    "df = load_gaia_obs(\"segue1\")"
   ]
  },
  {
   "cell_type": "code",
   "execution_count": null,
   "id": "98",
   "metadata": {},
   "outputs": [],
   "source": [
    "scatter_obs(df)"
   ]
  },
  {
   "cell_type": "code",
   "execution_count": null,
   "id": "99",
   "metadata": {},
   "outputs": [],
   "source": [
    "df = load_gaia_obs(\"draco2\")"
   ]
  },
  {
   "cell_type": "code",
   "execution_count": null,
   "id": "100",
   "metadata": {},
   "outputs": [],
   "source": [
    "scatter_obs(df)"
   ]
  },
  {
   "cell_type": "code",
   "execution_count": null,
   "id": "101",
   "metadata": {},
   "outputs": [],
   "source": []
  },
  {
   "cell_type": "code",
   "execution_count": null,
   "id": "102",
   "metadata": {},
   "outputs": [],
   "source": [
    "df = load_gaia_obs(\"grus2\")"
   ]
  },
  {
   "cell_type": "code",
   "execution_count": null,
   "id": "103",
   "metadata": {},
   "outputs": [],
   "source": [
    "scatter_obs(df)"
   ]
  },
  {
   "cell_type": "code",
   "execution_count": null,
   "id": "104",
   "metadata": {},
   "outputs": [],
   "source": []
  }
 ],
 "metadata": {
  "kernelspec": {
   "display_name": "Julia 1.11.3",
   "language": "julia",
   "name": "julia-1.11"
  },
  "language_info": {
   "file_extension": ".jl",
   "mimetype": "application/julia",
   "name": "julia",
   "version": "1.11.3"
  }
 },
 "nbformat": 4,
 "nbformat_minor": 5
}
