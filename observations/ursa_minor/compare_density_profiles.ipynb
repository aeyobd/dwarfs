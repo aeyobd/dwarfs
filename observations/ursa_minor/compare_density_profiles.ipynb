{
 "cells": [
  {
   "cell_type": "code",
   "execution_count": null,
   "id": "0",
   "metadata": {},
   "outputs": [],
   "source": [
    "using CairoMakie\n",
    "using Arya\n",
    "using LilGuys"
   ]
  },
  {
   "cell_type": "code",
   "execution_count": null,
   "id": "1",
   "metadata": {},
   "outputs": [],
   "source": [
    "using OrderedCollections"
   ]
  },
  {
   "cell_type": "code",
   "execution_count": null,
   "id": "2",
   "metadata": {},
   "outputs": [],
   "source": [
    "function load_profiles(filenames)\n",
    "\n",
    "    profiles = OrderedDict{String, LilGuys.StellarProfile}()\n",
    "\n",
    "    for (key, filename) in filenames\n",
    "        profiles[key] = LilGuys.StellarProfile(\"density_profiles/\" * filename * \"_profile.toml\")\n",
    "\n",
    "    end\n",
    "    \n",
    "    return profiles\n",
    "end"
   ]
  },
  {
   "cell_type": "code",
   "execution_count": null,
   "id": "3",
   "metadata": {},
   "outputs": [],
   "source": [
    "log_r_label = \"log r / arcmin\""
   ]
  },
  {
   "cell_type": "code",
   "execution_count": null,
   "id": "4",
   "metadata": {},
   "outputs": [],
   "source": [
    "function plot_densities(profiles; sequential=false,\n",
    "        normalize=false,\n",
    "\t\tlimits=((-1, 2), (-3, 2)),\n",
    "        title=\"\"\n",
    "    )\n",
    "   \tfig = Figure()\n",
    "\n",
    "    if normalize\n",
    "\t\tylabel=L\"\\log \\Sigma\\ /\\ \\textrm{fraction arcmin^{-2}}\"\n",
    "    else\n",
    "        ylabel=L\"\\log \\Sigma\\ /\\ \\textrm{stars arcmin^{-2}}\"\n",
    "    end\n",
    "    \n",
    "    ax = Axis(fig[1, 1],\n",
    "\t\tylabel=ylabel,\n",
    "\t\txlabel=log_r_label,\n",
    "        limits = limits,\n",
    "        title=title\n",
    "    )\n",
    "\n",
    "    for (i, (key, profile)) in enumerate(profiles)\n",
    "        if sequential\n",
    "            kwargs = (; color=i, colorrange=(1, length(profiles)))\n",
    "        else\n",
    "            kwargs = (; )\n",
    "        end\n",
    "\n",
    "        if normalize\n",
    "            dy = -log10(profile.M_in[end])\n",
    "        else\n",
    "            dy = 0\n",
    "        end\n",
    "        \n",
    "        lines!(ax, profile.log_r, profile.log_Sigma .+ dy;\n",
    "            label=key, kwargs...)\n",
    "        \n",
    "        if i == 1\n",
    "            errscatter!(ax, profile.log_r, profile.log_Sigma .+ dy, \n",
    "                yerr=profile.log_Sigma_err)\n",
    "        end\n",
    "    end\n",
    "\n",
    "    axislegend(position=:lb)\n",
    "\n",
    "    fig\n",
    "end"
   ]
  },
  {
   "cell_type": "code",
   "execution_count": null,
   "id": "5",
   "metadata": {},
   "outputs": [],
   "source": [
    "function plot_Γ(profiles)\n",
    "   \tfig = Figure()\n",
    "\tax = Axis(fig[1, 1],\n",
    "\t\tylabel=L\"\\Gamma\",\n",
    "\t\txlabel=log_r_label,\n",
    "\t\tlimits=((-1, 2), (-5, 2))\n",
    "\t)\n",
    "\n",
    "    for (i, (key, profile)) in enumerate(profiles)\n",
    "        lines!(ax, profile.log_r, profile.Gamma, \n",
    "                label=key)\n",
    "\n",
    "        \n",
    "        if i == 1\n",
    "            errscatter!(ax, profile.log_r, profile.Gamma, \n",
    "                yerr=profile.Gamma_err)\n",
    "\n",
    "        end\n",
    "    end\n",
    "\n",
    "    axislegend()\n",
    "\n",
    "    fig\n",
    "end"
   ]
  },
  {
   "cell_type": "code",
   "execution_count": null,
   "id": "6",
   "metadata": {},
   "outputs": [],
   "source": [
    "function plot_Γ_max(profiles)\n",
    "   \tfig = Figure()\n",
    "\tax = Axis(fig[1, 1],\n",
    "\t\tylabel=L\"\\Gamma_\\textrm{max}\",\n",
    "\t\txlabel=log_r_label,\n",
    "\t\tlimits=((-1, 2), (-2, 3))\n",
    "\t)\n",
    "\n",
    "    for (i, (key, profile)) in enumerate(profiles)\n",
    "        \n",
    "        lines!(ax, profile.log_r, profile.Gamma_max, \n",
    "            label=key)\n",
    "\n",
    "        if i == 1\n",
    "            errscatter!(ax, profile.log_r, profile.Gamma_max,\n",
    "                yerr=profile.Gamma_max_err)\n",
    "        end\n",
    "\n",
    "    end\n",
    "\n",
    "    axislegend(position=:rb)\n",
    "\n",
    "    fig\n",
    "end"
   ]
  },
  {
   "cell_type": "markdown",
   "id": "7",
   "metadata": {},
   "source": [
    "### Basic uncertainties"
   ]
  },
  {
   "cell_type": "code",
   "execution_count": null,
   "id": "8",
   "metadata": {},
   "outputs": [],
   "source": [
    "profiles = load_profiles(OrderedDict(\n",
    "    \"PSAT > 0.2\" => \"fiducial\",\n",
    "    \"simple\" => \"simple\",\n",
    "    \"no qso cand.\" => \"noqso\",\n",
    "    \"circular\" => \"psat_circ\",\n",
    "        ))"
   ]
  },
  {
   "cell_type": "code",
   "execution_count": null,
   "id": "9",
   "metadata": {},
   "outputs": [],
   "source": [
    "plot_densities(profiles, limits=(-1, 2.4, -4, 1.5))"
   ]
  },
  {
   "cell_type": "code",
   "execution_count": null,
   "id": "10",
   "metadata": {},
   "outputs": [],
   "source": [
    "plot_Γ(profiles)"
   ]
  },
  {
   "cell_type": "code",
   "execution_count": null,
   "id": "11",
   "metadata": {},
   "outputs": [],
   "source": [
    "plot_Γ_max(profiles)"
   ]
  },
  {
   "cell_type": "markdown",
   "id": "12",
   "metadata": {},
   "source": [
    "### Magnitude effect"
   ]
  },
  {
   "cell_type": "code",
   "execution_count": null,
   "id": "13",
   "metadata": {},
   "outputs": [],
   "source": [
    "sum(profiles[\"G = 19.5 - 20\"].counts)"
   ]
  },
  {
   "cell_type": "code",
   "execution_count": null,
   "id": "14",
   "metadata": {},
   "outputs": [],
   "source": [
    "profiles = load_profiles(OrderedDict(\n",
    "    \"G = 10 - 19\" => \"G_10_19\",\n",
    "    \"G = 19 - 19.5\" => \"G_19_19.5\",\n",
    "    \"G = 19.5 - 20\" => \"G_19.5_20\",\n",
    "    \"G = 20 - 20.5\" => \"G_20_20.5\",\n",
    "    \"G = 20.5 - 21.5\" => \"G_20.5_21.5\",\n",
    "        ))"
   ]
  },
  {
   "cell_type": "code",
   "execution_count": null,
   "id": "15",
   "metadata": {},
   "outputs": [],
   "source": [
    "plot_densities(profiles, sequential=true)"
   ]
  },
  {
   "cell_type": "code",
   "execution_count": null,
   "id": "16",
   "metadata": {},
   "outputs": [],
   "source": [
    "plot_Γ(profiles)"
   ]
  },
  {
   "cell_type": "code",
   "execution_count": null,
   "id": "17",
   "metadata": {},
   "outputs": [],
   "source": [
    "plot_Γ_max(profiles)"
   ]
  },
  {
   "cell_type": "markdown",
   "id": "18",
   "metadata": {},
   "source": [
    "### PSAT effects"
   ]
  }
 ],
 "metadata": {
  "kernelspec": {
   "display_name": "Julia 1.11.1",
   "language": "julia",
   "name": "julia-1.11"
  },
  "language_info": {
   "file_extension": ".jl",
   "mimetype": "application/julia",
   "name": "julia",
   "version": "1.11.1"
  }
 },
 "nbformat": 4,
 "nbformat_minor": 5
}
