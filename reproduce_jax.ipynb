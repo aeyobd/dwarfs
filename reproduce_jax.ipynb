{
 "cells": [
  {
   "cell_type": "code",
   "execution_count": null,
   "id": "0",
   "metadata": {
    "tags": []
   },
   "outputs": [],
   "source": [
    "import numpy as np\n",
    "import matplotlib.pyplot as plt"
   ]
  },
  {
   "cell_type": "code",
   "execution_count": null,
   "id": "1",
   "metadata": {
    "tags": []
   },
   "outputs": [],
   "source": [
    "from astropy.table import Table"
   ]
  },
  {
   "cell_type": "code",
   "execution_count": null,
   "id": "2",
   "metadata": {
    "tags": []
   },
   "outputs": [],
   "source": [
    "df = Table.read(\"../data/Sculptor.GAIASOURCE.RUWE.VELS.PROB.2-comp-ell.fits\")"
   ]
  },
  {
   "cell_type": "code",
   "execution_count": null,
   "id": "3",
   "metadata": {
    "tags": []
   },
   "outputs": [],
   "source": [
    "def Lpmsat( mux, muy, x, y, sx, sy, rho ):\n",
    "    \"\"\"\n",
    "    mux, muy = MCMC estimate of proper motion (JAX - you can use the estimated proper motion here instead!)\n",
    "    x, y = proper motions of stars\n",
    "    sx, sy = proper motion errors of stars\n",
    "    rho = correlation of star's proper motion\n",
    "    \n",
    "    THIS function is already normed, because of the 1/(2pi blalala) at the front of the equation\n",
    "        => an integral from -3sig to 3sig in x and y should yield 1\n",
    "    \"\"\"\n",
    "    \n",
    "    normalization = ( 1. / ( 2. * np.pi * sx * sy * np.sqrt( 1. - rho ** 2. ) ) )\n",
    "    delta_x = ( x - mux )\n",
    "    delta_y = ( y - muy )\n",
    "    \n",
    "    likelihood = normalization * np.exp( -( 1. / ( 2. * ( 1. - rho ** 2. ) ) ) * ( ( delta_x ** 2. ) / ( sx ** 2. ) \\\n",
    "                + ( delta_y ** 2. ) / ( sy ** 2. ) - ( ( 2. * rho * delta_x * delta_y ) / ( sx * sy ) ) ) )\n",
    "    \n",
    "    return likelihood"
   ]
  },
  {
   "cell_type": "code",
   "execution_count": null,
   "id": "4",
   "metadata": {
    "tags": []
   },
   "outputs": [],
   "source": [
    "pmra = 0.099\n",
    "pmdec = -0.160"
   ]
  },
  {
   "cell_type": "code",
   "execution_count": null,
   "id": "5",
   "metadata": {
    "tags": []
   },
   "outputs": [],
   "source": [
    "Lpm_me = Lpmsat(df[\"pmra\"], df[\"pmdec\"], pmra, pmdec, df[\"pmra_error\"], df[\"pmdec_error\"], df[\"pmra_pmdec_corr\"]) "
   ]
  },
  {
   "cell_type": "code",
   "execution_count": null,
   "id": "6",
   "metadata": {
    "tags": []
   },
   "outputs": [],
   "source": [
    "plt.scatter(Lpm_me, df[\"L_PM_SAT\"])"
   ]
  },
  {
   "cell_type": "code",
   "execution_count": null,
   "id": "7",
   "metadata": {
    "tags": []
   },
   "outputs": [],
   "source": [
    "plt.scatter(Lpm_me, df[\"L_PM_SAT\"] / Lpm_me)"
   ]
  },
  {
   "cell_type": "code",
   "execution_count": null,
   "id": "8",
   "metadata": {},
   "outputs": [],
   "source": []
  }
 ],
 "metadata": {
  "kernelspec": {
   "display_name": "Python 3 (ipykernel)",
   "language": "python",
   "name": "python3"
  },
  "language_info": {
   "codemirror_mode": {
    "name": "ipython",
    "version": 3
   },
   "file_extension": ".py",
   "mimetype": "text/x-python",
   "name": "python",
   "nbconvert_exporter": "python",
   "pygments_lexer": "ipython3",
   "version": "3.11.5"
  }
 },
 "nbformat": 4,
 "nbformat_minor": 5
}
